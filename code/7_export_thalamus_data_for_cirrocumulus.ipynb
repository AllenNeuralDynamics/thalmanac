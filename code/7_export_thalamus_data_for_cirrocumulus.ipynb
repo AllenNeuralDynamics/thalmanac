{
 "cells": [
  {
   "cell_type": "markdown",
   "id": "4f5bd651",
   "metadata": {},
   "source": [
    "# 7_export_thalamus_data_for_cirrocumulus"
   ]
  },
  {
   "cell_type": "code",
   "execution_count": 7,
   "id": "cf8aba35-5df1-48fa-a0d7-5f5210c10923",
   "metadata": {
    "tags": []
   },
   "outputs": [],
   "source": [
    "%load_ext autoreload\n",
    "%autoreload 2"
   ]
  },
  {
   "cell_type": "code",
   "execution_count": 8,
   "id": "eeb91f26-fb01-497b-ab18-aebe2d394311",
   "metadata": {
    "tags": []
   },
   "outputs": [],
   "source": [
    "import numpy as np\n",
    "import pandas as pd\n",
    "import anndata as ad\n",
    "\n",
    "import scanpy as sc\n",
    "\n",
    "import matplotlib.pyplot as plt\n",
    "import seaborn as sns\n",
    "import colorcet as cc\n",
    "\n",
    "from thalamus_merfish_analysis import abc_load as abc\n",
    "from thalamus_merfish_analysis import ccf_plots as cplots\n",
    "# from thalamus_merfish_analysis import abc_to_cirro as a2c\n",
    "\n",
    "get_ipython().run_line_magic('matplotlib', 'inline')"
   ]
  },
  {
   "cell_type": "markdown",
   "id": "d3fefb0d-7223-49e4-b70d-61336b5bf39a",
   "metadata": {},
   "source": [
    "## Load abc atlas data"
   ]
  },
  {
   "cell_type": "code",
   "execution_count": 9,
   "id": "89c86f4f-ee94-4742-9633-eb76e6c009c1",
   "metadata": {
    "tags": []
   },
   "outputs": [],
   "source": [
    "# load custom adata with required metadata for cirrocumulus compatibility\n",
    "adata_th_zi = abc.load_adata_thalamus(flip_y=True, # invert y coords so sections appear in correct coronal orientation\n",
    "                                      with_colors=False, # don't need colors per cell - can get them from dict\n",
    "                                      ) \n",
    "# filter by class\n",
    "adata_th_zi_neurons = abc.filter_by_class_thalamus(adata_th_zi,\n",
    "                                                   filter_nonneuronal=True,\n",
    "                                                   filter_midbrain=False,\n",
    "                                                   filter_other_nonTH=True\n",
    "                                                  )\n",
    "# filter by thalamus coordinates\n",
    "adata_th_zi_neurons = abc.filter_by_thalamus_coords(adata_th_zi_neurons, \n",
    "                                                    buffer=0\n",
    "                                                    )"
   ]
  },
  {
   "cell_type": "code",
   "execution_count": 10,
   "id": "31f3dfe3-c94e-4a99-8ef4-8a3945f7ae2d",
   "metadata": {
    "tags": []
   },
   "outputs": [],
   "source": [
    "adata_th_zi_neurons"
   ]
  },
  {
   "cell_type": "code",
   "execution_count": 12,
   "id": "e8dbbfff-76c8-494b-bb84-7d377e8952df",
   "metadata": {
    "tags": []
   },
   "outputs": [],
   "source": [
    "# which columns in obs to use for plotting\n",
    "realigned = False\n",
    "if realigned:\n",
    "    ccf_label = 'parcellation_substructure_realigned'\n",
    "    coords = 'section'\n",
    "else:\n",
    "    ccf_label = 'parcellation_substructure'\n",
    "    coords = 'reconstructed'\n",
    "    \n",
    "x_col = 'x_'+coords\n",
    "y_col = 'y_'+coords\n",
    "section_col = 'z_'+coords\n",
    "\n",
    "sections_all = sorted(adata_th_zi_neurons.obs[section_col].unique())"
   ]
  },
  {
   "cell_type": "code",
   "execution_count": 49,
   "id": "65585976",
   "metadata": {},
   "outputs": [],
   "source": [
    "def add_montage_coords(adata, \n",
    "                       section_col='z_section',\n",
    "                       x_col='x_section',\n",
    "                       y_col='y_section',\n",
    "                       new_coord_suffix='_cirro',\n",
    "                       n_cols=4):\n",
    "    ''' Creates 2D montage spatial coordinates from 2D+section coordinates and \n",
    "    adds them to adata.obs.\n",
    "    \n",
    "    Montage spatial coordinates are used for simultaneous display of multiple \n",
    "    sections on a 2D screen, e.g. in cirrocumulus.\n",
    "\n",
    "    Parameters\n",
    "    ----------\n",
    "    adata : AnnData object\n",
    "        AnnData object with spatial data.\n",
    "    section_col : str\n",
    "        Column in adata.obs with section numbers.\n",
    "    x_col, y_col : str\n",
    "        Columns in adata.obs with x,y coordinates.\n",
    "    new_coord_suffix : str\n",
    "        Suffix to add to new x,y columns\n",
    "    n_cols : int, default=4\n",
    "        Number of columns to display sections in\n",
    "\n",
    "    Returns\n",
    "    -------\n",
    "    adata : AnnData object\n",
    "        with x & y montage spatial coordinates added to adata.obs\n",
    "    '''\n",
    "\n",
    "    # copy over original xy coords                 \n",
    "    adata.obs['x'+new_coord_suffix] = adata.obs[x_col].copy()\n",
    "    adata.obs['y'+new_coord_suffix] = adata.obs[y_col].copy()\n",
    "\n",
    "    # Dynamically set x_shift, y_shift based on current x_col, y_col units\n",
    "    width_max = abs(adata.obs[x_col].max() - adata.obs[x_col].min())\n",
    "    height_max = abs(adata.obs[y_col].max() - adata.obs[y_col].min())\n",
    "    # set x_shift and y_shift as a ratio of max width/height\n",
    "    x_shift = width_max*1.2\n",
    "    y_shift = -(height_max*1.5) # neg to start each new row below previous row\n",
    "\n",
    "    sections = sorted(adata.obs[section_col].unique())\n",
    "    count = 0\n",
    "    # start with anterior-most section in top left and end with posterior-most \n",
    "    # section in bottom right\n",
    "    for i, sec in enumerate(reversed(sections)):\n",
    "        # increment x_shift each column; reset after completing a row\n",
    "        curr_x_shift = x_shift * (count % n_cols)\n",
    "        # increment y_shift after completing each row; 1st row has no y_shift\n",
    "        curr_y_shift = y_shift * (i // n_cols)\n",
    "        \n",
    "        # apply x,y shifts to current section\n",
    "        mask = adata.obs[section_col]==sec\n",
    "        adata.obs.loc[mask, 'x'+new_coord_suffix] += curr_x_shift\n",
    "        adata.obs.loc[mask, 'y'+new_coord_suffix] += curr_y_shift\n",
    "        \n",
    "        count+=1\n",
    "    \n",
    "    return adata"
   ]
  },
  {
   "cell_type": "code",
   "execution_count": 50,
   "id": "a7bc2e98",
   "metadata": {},
   "outputs": [],
   "source": [
    "def add_coords_to_obsm(adata):\n",
    "    ''' Copy cirro and CCF spatial coordinates into adata.obsm, where \n",
    "    cirrocumulus expects to find them. \n",
    "    \n",
    "    3D CCF coords should be in .obs already from loading the ABC Atlas data.\n",
    "    2D cirro coords should have been added to .obs with add_cirro_coords().\n",
    "    '''\n",
    "\n",
    "    if {'x_cirro','y_cirro'}.issubset(adata.obs.columns):\n",
    "        adata.obsm['cirro_spatial'] = adata.obs[['x_cirro','y_cirro']].to_numpy()\n",
    "    else:\n",
    "        UserWarning(\"No cirrocumulus spatial coordinates, ['x_cirro','y_cirro'], found in adata.obs. Run add_cirro_coords() first.\")\n",
    "\n",
    "\n",
    "    if {'x_ccf','y_ccf','z_ccf'}.issubset(adata.obs.columns):\n",
    "        adata.obsm['ccf_spatial_3d'] = adata.obs[['x_ccf','y_ccf','z_ccf']].to_numpy()\n",
    "    else:\n",
    "        UserWarning(\"No CCF spatial coordinates, ['x_ccf','y_ccf','z_ccf'], found in adata.obs.\")\n",
    "\n",
    "    return adata"
   ]
  },
  {
   "cell_type": "code",
   "execution_count": 51,
   "id": "c14a1e72",
   "metadata": {},
   "outputs": [],
   "source": [
    "adata_th_zi_neurons = add_cirro_coords(adata_th_zi_neurons, \n",
    "                                       section_col=section_col, \n",
    "                                       x_col=x_col, \n",
    "                                       y_col=y_col, \n",
    "                                       n_cols=4)\n",
    "\n",
    "adata_th_zi_neurons = add_coords_to_obsm(adata_th_zi_neurons)"
   ]
  },
  {
   "cell_type": "code",
   "execution_count": 52,
   "id": "a44da665",
   "metadata": {},
   "outputs": [],
   "source": [
    "adata_th_zi_neurons"
   ]
  },
  {
   "cell_type": "code",
   "execution_count": 53,
   "id": "9f9dff17",
   "metadata": {},
   "outputs": [],
   "source": [
    "plt.scatter(adata_th_zi_neurons.obs['x_cirro'], adata_th_zi_neurons.obs['y_cirro'], s=0.001)\n",
    "plt.axis('equal')"
   ]
  },
  {
   "cell_type": "markdown",
   "id": "0afba2f5-aab2-487a-bb7c-627e6bdbf5de",
   "metadata": {
    "tags": []
   },
   "source": [
    "## Make color lists for .uns\n",
    "\n",
    ".uns\\[\"cluster_colors\"\\] should be a list of colors as hex strings (e.g. #D1C9BA)  in the order of the .obs.cluster.cat.categories\n",
    "\n",
    "and same for .uns\\[\"subclass_colors\"\\] matching the categories of .obs.subclass"
   ]
  },
  {
   "cell_type": "code",
   "execution_count": 71,
   "id": "b9917c2c",
   "metadata": {},
   "outputs": [],
   "source": [
    "def add_colors_to_uns(adata):\n",
    "    ''' Add ABC color palette dict to adata.uns for each taxonomy level in \n",
    "    adata.obs.\n",
    "\n",
    "    Cirrocumulus expects to find a dict mapping an adata.obs column's categories   \n",
    "    to hex string colors stored in adata.uns. The dict keys MUST be in the order\n",
    "    returned by adata.obs.my_column.cat.categories.\n",
    "    e.g. if you want cirro to use custom colors for adata.obs['cluster'], then\n",
    "    the color dict containining {category: color} should be stored in \n",
    "    adata.uns['cluster_colors'].\n",
    "\n",
    "    Parameters\n",
    "    ----------\n",
    "    adata : AnnData object\n",
    "        AnnData object with taxonomy levels in adata.obs.\n",
    "\n",
    "    Returns\n",
    "    -------\n",
    "    adata : AnnData object\n",
    "        with color palettes added to adata.uns for each taxonomy level in adata.obs.\n",
    "    '''\n",
    "\n",
    "    taxonomy_levels = ['class', 'subclass', 'supertype', 'cluster']\n",
    "    assert set(taxonomy_levels).issubset(adata.obs.columns), f\"adata.obs.columns is missing at least one of: {taxonomy_levels}\"\n",
    "\n",
    "    for level in taxonomy_levels:\n",
    "        # get the full ABC color palette for this taxonomy level\n",
    "        abc_color_dict = abc.get_taxonomy_palette(level)\n",
    "\n",
    "        # get the categories that exist in this dataset\n",
    "        # MUST be kept in the order returned by .cat.categories\n",
    "        curr_cats = adata.obs[level].cat.categories\n",
    "\n",
    "        # make new color dict for only the categories that exist in this dataset\n",
    "        cat_color_dict = dict((cat, abc_color_dict[cat]) for cat in curr_cats if cat in abc_color_dict)\n",
    "\n",
    "        # add this color dict to adata.uns\n",
    "        adata.uns[level+'_colors'] = cat_color_dict\n",
    "    \n",
    "    return adata"
   ]
  },
  {
   "cell_type": "code",
   "execution_count": 72,
   "id": "07e9e3cd",
   "metadata": {},
   "outputs": [],
   "source": [
    "adata_th_zi_neurons = add_colors_to_uns(adata_th_zi_neurons)\n",
    "adata_th_zi_neurons"
   ]
  },
  {
   "cell_type": "code",
   "execution_count": 74,
   "id": "611394e7",
   "metadata": {},
   "outputs": [],
   "source": [
    "adata_th_zi_neurons.uns['class_colors']"
   ]
  },
  {
   "cell_type": "markdown",
   "id": "ad40fd89-335e-46a6-9a40-339037cd8656",
   "metadata": {},
   "source": [
    "## Generate UMAP, tSNE, etc."
   ]
  },
  {
   "cell_type": "code",
   "execution_count": 76,
   "id": "bca213b4-04e2-4bd4-9528-816c264ee31f",
   "metadata": {
    "tags": []
   },
   "outputs": [],
   "source": [
    "# PCA pre-processing\n",
    "sc.pp.pca(adata_th_zi_neurons)\n",
    "sc.pl.pca(adata_th_zi_neurons)"
   ]
  },
  {
   "cell_type": "code",
   "execution_count": 77,
   "id": "4ff37388-45e2-40f9-af3b-72689f8a7505",
   "metadata": {
    "tags": []
   },
   "outputs": [],
   "source": [
    "# more pre-processing\n",
    "sc.pp.neighbors(adata_th_zi_neurons)"
   ]
  },
  {
   "cell_type": "code",
   "execution_count": 79,
   "id": "fef61866-b8b7-458e-982f-9ebaab379387",
   "metadata": {
    "tags": []
   },
   "outputs": [],
   "source": [
    "# UMAP\n",
    "sc.tl.umap(adata_th_zi_neurons)\n",
    "sc.pl.umap(adata_th_zi_neurons)"
   ]
  },
  {
   "cell_type": "code",
   "execution_count": 83,
   "id": "c98494f1",
   "metadata": {},
   "outputs": [],
   "source": [
    "adata_th_zi_neurons"
   ]
  },
  {
   "cell_type": "code",
   "execution_count": 84,
   "id": "7f92c87a-2d65-43e9-8a5b-5db4caed5df7",
   "metadata": {
    "tags": []
   },
   "outputs": [],
   "source": [
    "# tSNE - takes much longer than UMAP to run\n",
    "sc.tl.tsne(adata_th_zi_neurons)\n",
    "sc.pl.tsne(adata_th_zi_neurons)"
   ]
  },
  {
   "cell_type": "code",
   "execution_count": 91,
   "id": "50d73fc8",
   "metadata": {},
   "outputs": [],
   "source": [
    "adata_th_zi_neurons"
   ]
  },
  {
   "cell_type": "code",
   "execution_count": 85,
   "id": "846b89c1-71d7-4b2a-a10e-62f119066fd8",
   "metadata": {
    "tags": []
   },
   "outputs": [],
   "source": [
    "adata_th_zi_neurons.obsm.pop('X_pca')\n",
    "adata_th_zi_neurons.uns.pop('pca')\n",
    "adata_th_zi_neurons.uns.pop('neighbors')\n",
    "adata_th_zi_neurons.obsp.pop('connectivities')\n",
    "adata_th_zi_neurons.obsp.pop('distances')\n",
    "adata_th_zi_neurons.varm.pop('PCs')"
   ]
  },
  {
   "cell_type": "code",
   "execution_count": 92,
   "id": "c196c432",
   "metadata": {},
   "outputs": [],
   "source": [
    "adata_th_zi_neurons"
   ]
  },
  {
   "cell_type": "markdown",
   "id": "6b187b7e-73af-4ca5-b549-c86b08ea693d",
   "metadata": {},
   "source": [
    "## Load & save SpaGCN domains results"
   ]
  },
  {
   "cell_type": "code",
   "execution_count": 104,
   "id": "feff5d04-36fe-4c7d-ab4e-3d699203eb9e",
   "metadata": {
    "tags": []
   },
   "outputs": [],
   "source": [
    "# load in SpaGCN domain results\n",
    "# temporarily a static file in '../code/resources' until I get a reproducible run setup for the spagcn capsule\n",
    "spagcn_df = pd.read_parquet('/code/resources/spagcn_predicated_domains.parquet')\n",
    "spagcn_df"
   ]
  },
  {
   "cell_type": "code",
   "execution_count": 119,
   "id": "6e3e0753",
   "metadata": {},
   "outputs": [],
   "source": [
    "for col in spagcn_df.columns:\n",
    "    spagcn_df[col] = pd.Categorical(spagcn_df[col], \n",
    "                                    categories=sorted(spagcn_df[col].unique()), \n",
    "                                    ordered=False)\n"
   ]
  },
  {
   "cell_type": "code",
   "execution_count": 122,
   "id": "1dd9046e",
   "metadata": {},
   "outputs": [],
   "source": [
    "spagcn_df['SpaGCN_domains']"
   ]
  },
  {
   "cell_type": "code",
   "execution_count": null,
   "id": "58cbabf7",
   "metadata": {},
   "outputs": [],
   "source": [
    "adata_th_zi_neurons\n",
    "adata_th_zi_neurons.obs = adata_th_zi_neurons.obs.join(spagcn_domains_df['SpaGCN_domains'], on='cell_label')"
   ]
  },
  {
   "cell_type": "code",
   "execution_count": 107,
   "id": "1f57adb1",
   "metadata": {},
   "outputs": [],
   "source": [
    "spagcn_df.rename(columns={'res1pt4':'SpaGCN_domains'},inplace=True)\n",
    "spagcn_df['SpaGCN_domains']"
   ]
  },
  {
   "cell_type": "code",
   "execution_count": 110,
   "id": "4caaa547",
   "metadata": {},
   "outputs": [],
   "source": [
    "adata_th_zi_neurons.obs = adata_th_zi_neurons.obs.join(spagcn_df['SpaGCN_domains'], on='cell_label')\n",
    "adata_th_zi_neurons"
   ]
  },
  {
   "cell_type": "code",
   "execution_count": null,
   "id": "91218e5a",
   "metadata": {},
   "outputs": [],
   "source": [
    "\n",
    "adata_log2.obs['SpaGCN_domains'] = adata_log2.obs['SpaGCN_domains'].cat.add_categories('no data').fillna('no data')\n",
    "\n",
    "adata_log2.obs['SpaGCN_domains']"
   ]
  },
  {
   "cell_type": "code",
   "execution_count": 115,
   "id": "b2b017ea",
   "metadata": {},
   "outputs": [],
   "source": [
    "adata_th_zi_neurons.obs['SpaGCN_domains'] = adata_th_zi_neurons.obs['SpaGCN_domains'].cat.add_categories('no data').fillna('no data')\n",
    "adata_th_zi_neurons.obs['SpaGCN_domains']"
   ]
  },
  {
   "cell_type": "code",
   "execution_count": 116,
   "id": "ed89ed7c-a88b-499f-9706-c4ec71e1c543",
   "metadata": {
    "tags": []
   },
   "outputs": [],
   "source": [
    "spg_domain_cats = adata_th_zi_neurons.obs['SpaGCN_domains'].cat.categories\n",
    "print(f'{spg_domain_cats=}')\n",
    "spg_palette_sns = sns.color_palette(cc.glasbey, n_colors=len(spg_domain_cats))\n",
    "\n",
    "# set the 'no data' category color to white so it doesn't show up in cirro\n",
    "spg_palette_sns[-1] = (1.0, 1.0, 1.0)\n",
    "\n",
    "# need RGB dict for sns plotting to check colors\n",
    "palette_dict_sns = dict(zip(spg_domain_cats, spg_palette_sns))\n",
    "\n",
    "# need hex strings for cirro\n",
    "spg_palette_cirro = list(spg_palette_sns.as_hex())\n",
    "print(spg_palette_cirro)"
   ]
  },
  {
   "cell_type": "code",
   "execution_count": 117,
   "id": "fac2c4b6-cd8f-4375-8b01-bcd532086969",
   "metadata": {
    "tags": []
   },
   "outputs": [],
   "source": [
    "fig = plt.figure(figsize=(20,15))\n",
    "ax = fig.gca()\n",
    "sns.scatterplot(adata_th_zi_neurons.obs, ax=ax, x='x_cirro', y='y_cirro', \n",
    "                hue='SpaGCN_domains', s=10, palette=palette_dict_sns, \n",
    "                linewidth=0, legend=False)\n",
    "plt.axis('equal')"
   ]
  },
  {
   "cell_type": "code",
   "execution_count": 118,
   "id": "d6ab47f0",
   "metadata": {},
   "outputs": [],
   "source": [
    "adata_th_zi_neurons.obs['SpaGCN_domains']"
   ]
  },
  {
   "cell_type": "code",
   "execution_count": 29,
   "id": "e8e2dde4-5ab2-475a-9992-70698e54ec16",
   "metadata": {
    "tags": []
   },
   "outputs": [],
   "source": [
    "adata_log2.uns['SpaGCN_domains_color'] = spg_palette_cirro"
   ]
  },
  {
   "cell_type": "markdown",
   "id": "6c0dac93-69f7-48e8-a765-6e64a2eb3325",
   "metadata": {
    "tags": []
   },
   "source": [
    "# Load & save NSF results"
   ]
  },
  {
   "cell_type": "code",
   "execution_count": 30,
   "id": "f4bd23d5-9bd9-4e1f-b5c0-fe220a0e4f10",
   "metadata": {
    "tags": []
   },
   "outputs": [],
   "source": [
    "adata_nsf = ad.read_zarr(\"/root/capsule/data/nsf_2000_adata/nsf_2000_adata.zarr\")"
   ]
  },
  {
   "cell_type": "code",
   "execution_count": 31,
   "id": "afc152f0-2a84-4c58-a3b1-8768139292cf",
   "metadata": {
    "tags": []
   },
   "outputs": [],
   "source": [
    "nsf_cols = ['nsf_tot', 'nsf0', 'nsf1', 'nsf2', 'nsf3', 'nsf4', \n",
    "            'nsf5', 'nsf6', 'nsf7', 'nsf8', 'nsf9', 'nsf10', \n",
    "            'nsf11', 'nsf12', 'nsf13', 'nsf14', 'nsf15', 'nsf16', \n",
    "            'nsf17', 'nsf18', 'nsf19', 'nsf20', 'nsf21', 'nsf22', \n",
    "            'nsf23', 'nsf24', 'nsf25', 'nsf26', 'nsf27', 'nsf28', \n",
    "            'nsf29']\n",
    "nsf_df = adata_nsf.obs[nsf_cols].copy()\n",
    "nsf_df"
   ]
  },
  {
   "cell_type": "code",
   "execution_count": 32,
   "id": "ff76d673-34a3-43e3-8e5f-c61b1fd212f1",
   "metadata": {
    "tags": []
   },
   "outputs": [],
   "source": [
    "adata_log2.obs = adata_log2.obs.join(nsf_df, on='cell_label')\n",
    "adata_log2.obs.head(3)"
   ]
  },
  {
   "cell_type": "code",
   "execution_count": 33,
   "id": "39f3aa14-6b38-49d8-9f6d-40000a991751",
   "metadata": {
    "tags": []
   },
   "outputs": [],
   "source": [
    "adata_log2.obs[nsf_cols] = adata_log2.obs[nsf_cols].fillna(0)"
   ]
  },
  {
   "cell_type": "code",
   "execution_count": 34,
   "id": "f90fff0f-1ade-4a91-b09b-c9f8e6c10329",
   "metadata": {
    "tags": []
   },
   "outputs": [],
   "source": [
    "adata_log2.obs.head(5)"
   ]
  },
  {
   "cell_type": "markdown",
   "id": "6cc51687-2f8c-4c06-a067-bda1cbcad547",
   "metadata": {},
   "source": [
    "## Clean up obs"
   ]
  },
  {
   "cell_type": "code",
   "execution_count": 35,
   "id": "79896c35-e82f-4243-9531-97de367407fb",
   "metadata": {
    "tags": []
   },
   "outputs": [],
   "source": [
    "cols_to_remove = ['parcellation_division', 'parcellation_index', \n",
    "                  # 'parcellation_structure','parcellation_substructure', \n",
    "                  'x_ccf', 'y_ccf', 'z_ccf', 'x_cirro', 'y_cirro']\n",
    "\n",
    "adata_log2.obs.drop(columns=cols_to_remove, inplace=True)"
   ]
  },
  {
   "cell_type": "markdown",
   "id": "d2310712-e6c0-4a61-b486-f2422fe2a21c",
   "metadata": {},
   "source": [
    "## Save as h5ad"
   ]
  },
  {
   "cell_type": "code",
   "execution_count": 36,
   "id": "20f0c14b-44fb-4b9c-afa2-0b9d95c7a119",
   "metadata": {
    "tags": []
   },
   "outputs": [],
   "source": [
    "adata_log2"
   ]
  },
  {
   "cell_type": "code",
   "execution_count": 39,
   "id": "9a0af0aa-a4ca-446c-8e2b-0b9e774f52f7",
   "metadata": {
    "tags": []
   },
   "outputs": [],
   "source": [
    "adata_log2.write('/results/wmb_abc_atlas_v20230830_th_nsf_spagcn_for_cirro_log2CPM.h5ad', compression=\"gzip\")"
   ]
  },
  {
   "cell_type": "code",
   "execution_count": 40,
   "id": "fb2e12db-f985-493d-a1a1-632d94d03ab7",
   "metadata": {
    "tags": []
   },
   "outputs": [],
   "source": [
    "adata.write('/results/wmb_abc_atlas_v20230830_th_nsf_spagcn_for_cirro_raw.h5ad', compression=\"gzip\")"
   ]
  },
  {
   "cell_type": "code",
   "execution_count": null,
   "id": "83bee743-1e2e-4b2e-8b0d-de59cb180203",
   "metadata": {},
   "outputs": [],
   "source": []
  },
  {
   "cell_type": "code",
   "execution_count": 41,
   "id": "1d59565a-d1fd-4aa4-bd64-422642611da7",
   "metadata": {
    "tags": []
   },
   "outputs": [],
   "source": [
    "adata_raw = adata_log2.copy()"
   ]
  },
  {
   "cell_type": "code",
   "execution_count": 42,
   "id": "2a360d09-89dc-495b-9eb9-4e39d5f6102e",
   "metadata": {
    "tags": []
   },
   "outputs": [],
   "source": [
    "adata_raw.X = adata.X.copy()"
   ]
  },
  {
   "cell_type": "code",
   "execution_count": 43,
   "id": "0a79c6d5-5f60-4321-8d97-178e9a3a3686",
   "metadata": {
    "tags": []
   },
   "outputs": [],
   "source": [
    "adata_raw.write('/results/wmb_abc_atlas_v20230830_th_nsf_spagcn_for_cirro_raw.h5ad', compression=\"gzip\")"
   ]
  },
  {
   "cell_type": "code",
   "execution_count": 46,
   "id": "9e63ef79-377f-4c51-9c56-4962383b7249",
   "metadata": {
    "tags": []
   },
   "outputs": [],
   "source": [
    "adata_MKlog2X = abc.load_adata_thalamus(version=version, \n",
    "                             transform='log2', # will manually norm+log2 later\n",
    "                             subset_to_TH_ZI=True, \n",
    "                             with_metadata=False, \n",
    "                             flip_y=True,\n",
    "                             round_z=True,\n",
    "                             with_colors=False)\n",
    "\n",
    "adata_MKlog2X_th_zi_neurons = abc.filter_by_class_thalamus(adata_MKlog2X, \n",
    "                                                           filter_nonneuronal=True,\n",
    "                                                           filter_midbrain=True)\n",
    "\n",
    "# filter to thalamus boundaries (add a buffer here if wanted)\n",
    "filter_buffer = 0  # 5\n",
    "realigned=False\n",
    "obs_filtered_MKlog2X = abc.filter_by_thalamus_coords(adata_MKlog2X_th_zi_neurons.obs.copy(), \n",
    "                                             realigned=realigned, \n",
    "                                             buffer=filter_buffer)\n",
    "adata_MKlog2X_th_zi_neurons = adata_MKlog2X_th_zi_neurons[obs_filtered_MKlog2X.index].copy()\n",
    "\n",
    "gene_list = [gene for gene in adata_MKlog2X_th_zi_neurons.var_names if 'Blank' not in gene]\n",
    "adata_MKlog2X_th_zi_neurons = adata_MKlog2X_th_zi_neurons[:,gene_list]\n",
    "\n",
    "adata_MKlog2X_th_zi_neurons"
   ]
  },
  {
   "cell_type": "code",
   "execution_count": 47,
   "id": "9514ee35-c5b1-430c-b476-eaab5d54719b",
   "metadata": {
    "tags": []
   },
   "outputs": [],
   "source": [
    "adata_log2CPV = adata_log2.copy()\n",
    "adata_log2CPV.X = adata_MKlog2X_th_zi_neurons.X.copy()"
   ]
  },
  {
   "cell_type": "code",
   "execution_count": 49,
   "id": "caa6fffa-5f6a-407e-9a48-80a827810e0e",
   "metadata": {
    "tags": []
   },
   "outputs": [],
   "source": [
    "adata_log2CPV.obs.rename(columns={'SpaGCN_domains':'spagcn'},inplace=True)"
   ]
  },
  {
   "cell_type": "code",
   "execution_count": 51,
   "id": "1405b754-1942-46b4-ba1d-6ae1751bdf81",
   "metadata": {
    "tags": []
   },
   "outputs": [],
   "source": [
    "adata_log2CPV.uns['spagcn_colors'] = adata_log2CPV.uns['SpaGCN_domains_color']"
   ]
  },
  {
   "cell_type": "code",
   "execution_count": 52,
   "id": "2b4bb58a-8074-4137-bc3c-3516a1892d0a",
   "metadata": {
    "tags": []
   },
   "outputs": [],
   "source": [
    "adata_log2CPV.write('/results/wmb_abc_atlas_v20230830_th_nsf_spagcn_for_cirro_log2CPV.h5ad', compression=\"gzip\")"
   ]
  },
  {
   "cell_type": "code",
   "execution_count": null,
   "id": "9e2c79fe-672d-41f0-a4b6-77a335703f2d",
   "metadata": {},
   "outputs": [],
   "source": []
  }
 ],
 "metadata": {
  "kernelspec": {
   "display_name": "Python 3 (ipykernel)",
   "language": "python",
   "name": "python3"
  },
  "language_info": {
   "codemirror_mode": {
    "name": "ipython",
    "version": 3
   },
   "file_extension": ".py",
   "mimetype": "text/x-python",
   "name": "python",
   "nbconvert_exporter": "python",
   "pygments_lexer": "ipython3",
   "version": "3.9.12"
  }
 },
 "nbformat": 4,
 "nbformat_minor": 5
}
