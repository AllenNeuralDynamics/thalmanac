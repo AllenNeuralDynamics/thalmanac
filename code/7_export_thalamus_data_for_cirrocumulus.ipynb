{
 "cells": [
  {
   "cell_type": "markdown",
   "id": "4f5bd651",
   "metadata": {},
   "source": [
    "# 7_export_thalamus_data_for_cirrocumulus"
   ]
  },
  {
   "cell_type": "code",
   "execution_count": 1,
   "id": "b8ff5497",
   "metadata": {},
   "outputs": [],
   "source": [
    "%load_ext autoreload\n",
    "%autoreload 2"
   ]
  },
  {
   "cell_type": "code",
   "execution_count": 2,
   "id": "eeb91f26-fb01-497b-ab18-aebe2d394311",
   "metadata": {
    "tags": []
   },
   "outputs": [],
   "source": [
    "import scanpy as sc\n",
    "\n",
    "import matplotlib.pyplot as plt\n",
    "import seaborn as sns\n",
    "\n",
    "from thalamus_merfish_analysis import abc_to_cirro as a2c\n",
    "\n",
    "get_ipython().run_line_magic('matplotlib', 'inline')"
   ]
  },
  {
   "cell_type": "markdown",
   "id": "19287191",
   "metadata": {},
   "source": [
    "## Export thalamus dataset as cirro-compatible h5ad file"
   ]
  },
  {
   "cell_type": "code",
   "execution_count": 28,
   "id": "266380f4",
   "metadata": {},
   "outputs": [],
   "source": [
    "adata = a2c.export_h5ad_for_cirro()"
   ]
  },
  {
   "cell_type": "markdown",
   "id": "5dfffc8d",
   "metadata": {},
   "source": [
    "## What can I visualize in Cirrocumulus?\n",
    "\n",
    "Below are examples of a few types of data you can visualize in Cirrocumulus (or `seaborn`) using this h5ad file.\n",
    "\n",
    "- 2D montage view of coronal sections\n",
    "- 3D CCF view of the sections\n",
    "- Unsupervised machine learning results\n",
    "- Low-dimensional embedding views (UMAP, tSNE)\n",
    "- neurotransmitter, class, subclass, & supertype cell assignments in the official ABC color palette [examples not shown]\n",
    "- cluster cell assignments in a custom, high-contrast color palette [example not shown]"
   ]
  },
  {
   "cell_type": "markdown",
   "id": "d54f1fe1",
   "metadata": {},
   "source": [
    "### Montage of thalamic sections\n",
    "\n",
    "xy,section coordinates are transformed to montage coordinates so all sections \n",
    "can be displayed on a 2D screen via the Cirrocumulus package"
   ]
  },
  {
   "cell_type": "code",
   "execution_count": 47,
   "id": "9f9dff17",
   "metadata": {},
   "outputs": [],
   "source": [
    "# xy,section coordinates are transformed to montage coordinates so all sections \n",
    "# can be displayed on a 2D screen via the Cirrocumulus package\n",
    "fig = plt.figure(figsize=(10,10))\n",
    "plt.scatter(adata.obsm['cirro_spatial'][:,0], \n",
    "            adata.obsm['cirro_spatial'][:,1], \n",
    "            s=0.01, \n",
    "            c='k')\n",
    "plt.axis('equal')\n",
    "plt.axis('off')\n",
    "plt.show()"
   ]
  },
  {
   "cell_type": "markdown",
   "id": "d53331b6",
   "metadata": {},
   "source": [
    "### 3D CCF spatial coordinates view"
   ]
  },
  {
   "cell_type": "code",
   "execution_count": 48,
   "id": "c0854ad2",
   "metadata": {},
   "outputs": [],
   "source": [
    "fig = plt.figure(figsize=(5,5))\n",
    "ax = fig.add_subplot(projection='3d')\n",
    "ax.scatter(adata.obsm['ccf_spatial_3d'][:,2], \n",
    "           adata.obsm['ccf_spatial_3d'][:,0], \n",
    "           adata.obsm['ccf_spatial_3d'][:,1], \n",
    "            s=0.1,\n",
    "            c=adata.obs['z_section'])\n",
    "ax.axis('equal')\n",
    "plt.show()"
   ]
  },
  {
   "cell_type": "markdown",
   "id": "217e7f06",
   "metadata": {},
   "source": [
    "### Unsupervised machine learning results\n",
    "\n",
    "The results from running SpaGCN (domain detection) and NSF (non-negative spatial \n",
    "factorization) are included in the h5ad and can be visualized in Cirrocumulus \n",
    "like any other cell metadata."
   ]
  },
  {
   "cell_type": "code",
   "execution_count": 53,
   "id": "fac2c4b6-cd8f-4375-8b01-bcd532086969",
   "metadata": {
    "tags": []
   },
   "outputs": [],
   "source": [
    "# SpaGCN domain example results have been saved to adata.obs\n",
    "spagcn_palette = dict(zip(adata.obs['spagcn'].cat.categories, adata.uns['spagcn_colors']))\n",
    "fig = plt.figure(figsize=(10,10))\n",
    "ax = fig.gca()\n",
    "sns.scatterplot(adata.obs, \n",
    "                ax=ax, \n",
    "                x='x_cirro', \n",
    "                y='y_cirro', \n",
    "                hue='spagcn', \n",
    "                palette=spagcn_palette, \n",
    "                s=5, \n",
    "                linewidth=0, \n",
    "                legend=True)\n",
    "ax.axis('equal')\n",
    "ax.axis('off')\n",
    "plt.show()"
   ]
  },
  {
   "cell_type": "code",
   "execution_count": 54,
   "id": "524926a8",
   "metadata": {},
   "outputs": [],
   "source": [
    "# NSF results have been saved to adata.obs and can be viewed in Cirrocumulus\n",
    "example_patterns = ['nsf1', 'nsf18']\n",
    "for i in range(len(example_patterns)):\n",
    "    fig = plt.figure(figsize=(10,10))\n",
    "    ax = fig.gca()\n",
    "    sns.scatterplot(adata.obs, \n",
    "                    ax=ax, \n",
    "                    x='x_cirro', \n",
    "                    y='y_cirro', \n",
    "                    hue=example_patterns[i],\n",
    "                    palette='Greens',\n",
    "                    s=5, \n",
    "                    linewidth=0, \n",
    "                    legend=True)\n",
    "    ax.axis('equal')\n",
    "    ax.axis('off')"
   ]
  },
  {
   "cell_type": "markdown",
   "id": "47538703",
   "metadata": {},
   "source": [
    "### Low-dimensional embeddings (UMAP, tSNE)\n",
    "\n",
    "As part of the h5ad file creation, UMAP and tSNE embeddings are calculated using\n",
    "scanpy's built-in functions. The data can be viewed in these low-dimensional\n",
    "embedding spaces as an alternative to the experiments spatial coordinates."
   ]
  },
  {
   "cell_type": "code",
   "execution_count": 57,
   "id": "0eb7965b",
   "metadata": {},
   "outputs": [],
   "source": [
    "sc.pl.umap(adata)\n",
    "sc.pl.tsne(adata)"
   ]
  }
 ],
 "metadata": {
  "kernelspec": {
   "display_name": "Python 3 (ipykernel)",
   "language": "python",
   "name": "python3"
  },
  "language_info": {
   "codemirror_mode": {
    "name": "ipython",
    "version": 3
   },
   "file_extension": ".py",
   "mimetype": "text/x-python",
   "name": "python",
   "nbconvert_exporter": "python",
   "pygments_lexer": "ipython3",
   "version": "3.9.12"
  }
 },
 "nbformat": 4,
 "nbformat_minor": 5
}
