{
 "cells": [
  {
   "cell_type": "code",
   "execution_count": 1,
   "id": "17c0c229",
   "metadata": {},
   "outputs": [],
   "source": [
    "%load_ext autoreload\n",
    "%autoreload 2"
   ]
  },
  {
   "cell_type": "code",
   "execution_count": 2,
   "id": "4a7efd2f",
   "metadata": {},
   "outputs": [],
   "source": [
    "import pandas as pd\n",
    "import matplotlib.pyplot as plt\n",
    "import seaborn as sns\n",
    "import numpy as np\n",
    "\n",
    "from thalamus_merfish_analysis import ccf_plots as cplot\n",
    "from thalamus_merfish_analysis import ccf_images as cimg\n",
    "from thalamus_merfish_analysis import ccf_registration as ccf\n",
    "from thalamus_merfish_analysis import abc_load as abc\n",
    "get_ipython().run_line_magic('matplotlib', 'inline') "
   ]
  },
  {
   "cell_type": "markdown",
   "id": "2c770388",
   "metadata": {},
   "source": [
    "# Load brain3 data"
   ]
  },
  {
   "cell_type": "code",
   "execution_count": 3,
   "id": "910c5b25",
   "metadata": {},
   "outputs": [],
   "source": [
    "# realigned just loads faster version here\n",
    "obs = abc.get_combined_metadata(realigned=True, version=\"20230830\", drop_unused=False)"
   ]
  },
  {
   "cell_type": "code",
   "execution_count": 4,
   "id": "818c56d0",
   "metadata": {},
   "outputs": [],
   "source": [
    "realigned=False\n",
    "ccf_polygons = abc.get_ccf_labels_image(resampled=True, realigned=realigned)"
   ]
  },
  {
   "cell_type": "markdown",
   "id": "7d04f8ad",
   "metadata": {},
   "source": [
    "### preprocessing"
   ]
  },
  {
   "cell_type": "code",
   "execution_count": 17,
   "id": "3412217a",
   "metadata": {},
   "outputs": [],
   "source": [
    "th_names = abc.get_thalamus_names(level='structure')\n",
    "th_structure_names = list(set(th_names).difference(['TH-unassigned']))\n",
    "if realigned:\n",
    "    ccf_label = 'parcellation_structure_realigned'\n",
    "    coords = 'section'\n",
    "else:\n",
    "    ccf_label = 'parcellation_structure'\n",
    "    coords = 'reconstructed'"
   ]
  },
  {
   "cell_type": "code",
   "execution_count": 6,
   "id": "8a5bcf62",
   "metadata": {},
   "outputs": [],
   "source": [
    "# remove non-neuronal and some other outlier non-thalamus types\n",
    "obs_neurons = abc.filter_adata_by_class(obs, filter_midbrain=False)\n",
    "obs_th_neurons = abc.filter_by_thalamus_coords(obs_neurons, realigned=realigned)"
   ]
  },
  {
   "cell_type": "code",
   "execution_count": 7,
   "id": "58e23354",
   "metadata": {},
   "outputs": [],
   "source": [
    "# def combine_labels(ccf_index, image, names, combined_name):\n",
    "#     reverse_index = pd.Series(ccf_index.index, index=ccf_index)\n",
    "#     ccf_ids = reverse_index.loc[names].values\n",
    "#     image = np.where(np.any([image==i for i in ccf_ids], axis=0), ccf_ids[0], image)\n",
    "#     ccf_index[ccf_ids[0]] = combined_name\n",
    "#     return ccf_index, image"
   ]
  },
  {
   "cell_type": "markdown",
   "id": "37bdacaf",
   "metadata": {},
   "source": [
    "## define eroded regions"
   ]
  },
  {
   "cell_type": "code",
   "execution_count": 8,
   "id": "6f7d20e4",
   "metadata": {},
   "outputs": [],
   "source": [
    "obs_neurons_ccf = obs_th_neurons.copy()"
   ]
  },
  {
   "cell_type": "code",
   "execution_count": 9,
   "id": "5f88b99c",
   "metadata": {},
   "outputs": [],
   "source": [
    "section_col = 'z_section'\n",
    "sections_all = sorted(obs_th_neurons[section_col].unique())\n",
    "sections_int = np.rint(np.array(sections_all)/0.2).astype(int)\n",
    "poly_eroded = cimg.sectionwise_label_erosion(ccf_polygons, 10, section_list=sections_int)"
   ]
  },
  {
   "cell_type": "code",
   "execution_count": 10,
   "id": "c9307670",
   "metadata": {},
   "outputs": [],
   "source": [
    "coord_names = [f\"{x}_{coords}\" for x in 'xyz'] # zyx order \n",
    "resolutions = np.array([10e-3, 10e-3, 200e-3])\n",
    "new_ccf_index = 'parcellation_index_eroded'\n",
    "obs_neurons_ccf = abc.label_masked_cells(obs_neurons_ccf, poly_eroded, coord_names, resolutions, field_name=new_ccf_index)"
   ]
  },
  {
   "cell_type": "code",
   "execution_count": 18,
   "id": "c72a9cce",
   "metadata": {},
   "outputs": [],
   "source": [
    "# add parcellation metadata\n",
    "ccf_index = abc.get_ccf_index(level='structure')\n",
    "ccf_label = 'parcellation_structure_eroded'\n",
    "obs_neurons_ccf[ccf_label] = obs_neurons_ccf[new_ccf_index].map(ccf_index)\n",
    "obs_neurons_ccf[ccf_label].value_counts()"
   ]
  },
  {
   "cell_type": "markdown",
   "id": "92fd5f9b",
   "metadata": {},
   "source": [
    "## which regions to plot?"
   ]
  },
  {
   "cell_type": "code",
   "execution_count": 19,
   "id": "7462f8ca",
   "metadata": {},
   "outputs": [],
   "source": [
    "regions_subset = [\n",
    "    'AD',\n",
    "    'AV',\n",
    "    'LD',\n",
    "    'LGd',\n",
    "    # VP combine?\n",
    "    'VPM',\n",
    "    'VPL',\n",
    "    'AM',\n",
    "    'VPMpc',\n",
    "    'MD',\n",
    "    'LP',\n",
    "    'PO',\n",
    "    'IAD',\n",
    "    'VAL',\n",
    "    'VM',\n",
    "    'RE',\n",
    "    'CL',\n",
    "    'PF',\n",
    "    'CM',\n",
    "    'PCN',\n",
    "    'SPA',\n",
    "    'IMD',\n",
    "    'PVT',\n",
    "    # additional\n",
    "    'MH',\n",
    "    'LH',\n",
    "    # 'RT',\n",
    "    # 'ZI'\n",
    "]"
   ]
  },
  {
   "cell_type": "code",
   "execution_count": 20,
   "id": "38341dd2",
   "metadata": {},
   "outputs": [],
   "source": [
    "regions_100 = obs_neurons_ccf[ccf_label].value_counts().loc[lambda x: x>100].index.difference(['unassigned'])\n",
    "regions_100.difference(regions_subset)"
   ]
  },
  {
   "cell_type": "code",
   "execution_count": 21,
   "id": "a246f293",
   "metadata": {},
   "outputs": [],
   "source": [
    "# could maybe keep IMD, rest are very small\n",
    "set(regions_subset) - set(regions_100)"
   ]
  },
  {
   "cell_type": "code",
   "execution_count": 23,
   "id": "fa076ed4",
   "metadata": {},
   "outputs": [],
   "source": [
    "regions_subset = list(set(regions_subset) & set(regions_100))\n",
    "len(regions_subset)"
   ]
  },
  {
   "cell_type": "code",
   "execution_count": 24,
   "id": "02bb1e55",
   "metadata": {},
   "outputs": [],
   "source": [
    "# unique, counts = np.unique(poly_eroded[:,:,sections_int], return_counts=True)\n",
    "# areas = pd.Series(counts, index=unique)\n",
    "# areas.index = areas.index.map(ccf_index)\n",
    "# areas = areas.loc[areas.index.intersection(th_structure_names)]\n",
    "# areas.sort_values()"
   ]
  },
  {
   "cell_type": "markdown",
   "id": "eeae487a",
   "metadata": {
    "tags": []
   },
   "source": [
    "## Cell Type overall counts\n"
   ]
  },
  {
   "cell_type": "code",
   "execution_count": 33,
   "id": "082ed9d8",
   "metadata": {},
   "outputs": [],
   "source": [
    "th_clusters = obs_neurons_ccf['cluster'].value_counts().loc[lambda x: x>5].index\n",
    "th_supertypes = obs_neurons_ccf['supertype'].value_counts().loc[lambda x: x>5].index\n",
    "th_subclasses = obs_neurons_ccf['subclass'].value_counts().loc[lambda x: x>5].index\n",
    "print(\"Types with >5 cells\")\n",
    "print(f'{len(th_clusters)=}')\n",
    "print(f'{len(th_supertypes)=}')\n",
    "print(f'{len(th_subclasses)=}')"
   ]
  },
  {
   "cell_type": "code",
   "execution_count": 27,
   "id": "d136911d",
   "metadata": {},
   "outputs": [],
   "source": [
    "obs_neurons_eroded = obs_neurons_ccf.loc[lambda df: df[ccf_label].isin(th_structure_names)]\n",
    "th_clusters = obs_neurons_eroded['cluster'].value_counts().loc[lambda x: x>5].index\n",
    "th_supertypes = obs_neurons_eroded['supertype'].value_counts().loc[lambda x: x>5].index\n",
    "th_subclasses = obs_neurons_eroded['subclass'].value_counts().loc[lambda x: x>5].index\n",
    "print(\"Types with >5 cells in the eroded regions\")\n",
    "print(f'{len(th_clusters)=}')\n",
    "print(f'{len(th_supertypes)=}')\n",
    "print(f'{len(th_subclasses)=}')"
   ]
  },
  {
   "cell_type": "code",
   "execution_count": 28,
   "id": "4824f1ea",
   "metadata": {},
   "outputs": [],
   "source": [
    "# generate lists of the clusters, supertypes, subclasses, and classes present\n",
    "# in the thalamus data\n",
    "th_clusters = obs_neurons_ccf['cluster'].drop_duplicates().tolist()\n",
    "th_supertypes = obs_neurons_ccf['supertype'].drop_duplicates().tolist()\n",
    "th_subclasses = obs_neurons_ccf['subclass'].drop_duplicates().tolist()\n",
    "print(f'{len(th_clusters)=}')\n",
    "print(f'{len(th_supertypes)=}')\n",
    "print(f'{len(th_subclasses)=}')"
   ]
  },
  {
   "cell_type": "markdown",
   "id": "9d4f57eb",
   "metadata": {},
   "source": [
    "# calculate metrics"
   ]
  },
  {
   "cell_type": "code",
   "execution_count": 132,
   "id": "30580aa4",
   "metadata": {},
   "outputs": [],
   "source": [
    "def get_region_metric(obs_neurons_ccf, ccf_label, function, name, \n",
    "                      norm_fcn=None,\n",
    "                      levels=['cluster','supertype','subclass']):\n",
    "    th_metrics = (obs_neurons_ccf.loc[lambda df: ~df[ccf_label].isin(['unassigned','TH-unassigned'])]\n",
    "                        .groupby(ccf_label, observed=True)[levels]\n",
    "                        .aggregate(function)\n",
    "                        .rename(columns=lambda x: \"_\".join([name, x])))\n",
    "    if norm_fcn is not None:\n",
    "        th_metrics = th_metrics / obs_neurons_ccf[levels].apply(norm_fcn).values[None,:]\n",
    "    return th_metrics\n"
   ]
  },
  {
   "cell_type": "code",
   "execution_count": 133,
   "id": "b5fb0b69",
   "metadata": {},
   "outputs": [],
   "source": [
    "\n",
    "count = lambda x: len(x.unique())\n",
    "norm_count = lambda x: len(x.unique())/len(x)\n",
    "count_gt5 = lambda x: len(x.value_counts().loc[lambda c: c>5])\n",
    "inverse_simpsons = lambda x: 1/np.sum((x.value_counts().loc[lambda c: c>0]/len(x))**2)\n",
    "\n",
    "th_metrics = pd.concat([\n",
    "    get_region_metric(obs_neurons_ccf, ccf_label, count, \"n\"),\n",
    "    get_region_metric(obs_neurons_ccf, ccf_label, count, \"frac\", norm_fcn=count),\n",
    "    get_region_metric(obs_neurons_ccf, ccf_label, norm_count, \"norm_count\"),\n",
    "    get_region_metric(obs_neurons_ccf, ccf_label, count_gt5, \"count_gt5\"),\n",
    "    get_region_metric(obs_neurons_ccf, ccf_label, inverse_simpsons, \"inverse_simpsons\"),\n",
    "], axis=1)\n",
    "th_metrics['count'] = obs_neurons_ccf[ccf_label].value_counts()\n",
    "# th_metrics = th_metrics.drop(index='unassigned')"
   ]
  },
  {
   "cell_type": "code",
   "execution_count": 34,
   "id": "eaabcd43",
   "metadata": {},
   "outputs": [],
   "source": [
    "\n",
    "th_metrics_sorted = th_metrics.loc[regions_subset].sort_values(by='frac_supertype', ascending=True)\n",
    "\n",
    "# th_metrics_sorted\n",
    "\n",
    "fig, ax1 = plt.subplots(figsize=(8,4))\n",
    "\n",
    "# Plot the absolute values on the left y-axis\n",
    "ax1.scatter(th_metrics_sorted.index, th_metrics_sorted['n_supertype'], color='#5DA7E5', alpha=0)\n",
    "ax1.set_ylabel('# of supertypes', color='k')\n",
    "ax1.tick_params(axis='y', labelcolor='k')\n",
    "ax1.set_xticks(th_metrics_sorted.index)\n",
    "ax1.set_xticklabels(th_metrics_sorted.index, rotation=90)\n",
    "ax1.set_ylim(0, th_metrics_sorted['n_supertype'].max()*1.05)\n",
    "plt.grid(visible=True, axis='y')\n",
    "\n",
    "# Create a secondary y-axis on the right\n",
    "ax2 = ax1.twinx()\n",
    "\n",
    "# Plot the fraction values on the right y-axis\n",
    "ax2.bar(th_metrics_sorted.index, th_metrics_sorted['frac_supertype'], color='#5DA7E5', label='supertype')\n",
    "ax2.set_ylabel('fraction of total supertypes (n='+str(n_th_supertypes)+')', color='k', rotation=270, labelpad=15)\n",
    "ax2.set_ylim(0, th_metrics_sorted['frac_supertype'].max()*1.05)\n",
    "ax2.tick_params(axis='y', labelcolor='k')\n",
    "ax2.legend()\n",
    "\n",
    "# plt.xticks(rotation=90)\n",
    "plt.xlabel('CCF thalamic subregions')\n",
    "plt.title('supertypes per CCF thalamic subregion')\n",
    "\n",
    "plt.show()"
   ]
  },
  {
   "cell_type": "code",
   "execution_count": 35,
   "id": "5de99243",
   "metadata": {},
   "outputs": [],
   "source": [
    "def plot_metrics_multiple_levels(th_metrics, metric, levels=['cluster','subclass']):\n",
    "    fig, ax1 = plt.subplots(figsize=(8,4))\n",
    "\n",
    "    th_metrics_sorted = th_metrics.sort_values(by=\"_\".join([metric, levels[0]]), ascending=True)\n",
    "    for level in levels[::-1]:\n",
    "        ax1.scatter(th_metrics_sorted.index, th_metrics_sorted[\"_\".join([metric, level])], \n",
    "                     label=level, zorder=2) \n",
    "    ax1.set_xticks(th_metrics_sorted.index)\n",
    "    ax1.set_xticklabels(th_metrics_sorted.index, rotation=90)\n",
    "    ax1.set_ylabel(metric)\n",
    "    ax1.legend()\n",
    "    plt.grid(visible=True, axis='both', zorder=0, color='whitesmoke')\n"
   ]
  },
  {
   "cell_type": "code",
   "execution_count": 36,
   "id": "d234d6af",
   "metadata": {},
   "outputs": [],
   "source": [
    "plot_metrics_multiple_levels(th_metrics.loc[regions_100], 'n')\n",
    "plt.ylabel(\"cell type count\")"
   ]
  },
  {
   "cell_type": "code",
   "execution_count": 37,
   "id": "74616802",
   "metadata": {},
   "outputs": [],
   "source": [
    "plot_metrics_multiple_levels(th_metrics.loc[regions_100], 'frac')\n",
    "plt.ylabel('Cell type count / # cell types');"
   ]
  },
  {
   "cell_type": "code",
   "execution_count": 38,
   "id": "8a8f9ce4",
   "metadata": {},
   "outputs": [],
   "source": [
    "plot_metrics_multiple_levels(th_metrics.loc[regions_100], 'norm_count')\n",
    "plt.ylabel('Cell type count / # cells');"
   ]
  },
  {
   "cell_type": "code",
   "execution_count": 39,
   "id": "2d6abf6f",
   "metadata": {},
   "outputs": [],
   "source": [
    "plot_metrics_multiple_levels(th_metrics.loc[regions_100], 'count_gt5')\n",
    "plt.ylabel(\"cell type count (outliers removed)\")"
   ]
  },
  {
   "cell_type": "code",
   "execution_count": 42,
   "id": "b7172c81",
   "metadata": {},
   "outputs": [],
   "source": [
    "# effect of region size is weak but probably still present...\n",
    "import seaborn as sns\n",
    "sns.regplot(th_metrics.loc[regions_100], x='count', y='count_gt5_cluster', color='#F99D20', label='cluster') "
   ]
  },
  {
   "cell_type": "markdown",
   "id": "559fa75d",
   "metadata": {},
   "source": [
    "### CCF colored by value"
   ]
  },
  {
   "cell_type": "code",
   "execution_count": 43,
   "id": "f24434fc",
   "metadata": {},
   "outputs": [],
   "source": [
    "imdata = abc.get_ccf_labels_image(resampled=True).astype(int)\n",
    "# x, y, z orientation\n",
    "imdata.shape"
   ]
  },
  {
   "cell_type": "code",
   "execution_count": null,
   "id": "f5607121",
   "metadata": {},
   "outputs": [],
   "source": [
    "{i: len(set(ccf_index[np.unique(imdata[:,:,i])]) & set(regions_100)) for i in sections_int}\n"
   ]
  },
  {
   "cell_type": "code",
   "execution_count": null,
   "id": "516bd9c5",
   "metadata": {},
   "outputs": [],
   "source": [
    "{i: len(set(ccf_index[np.unique(imdata[:,:,i])]) & set(regions_subset)) for i in sections_int}\n"
   ]
  },
  {
   "cell_type": "code",
   "execution_count": 126,
   "id": "0660d893",
   "metadata": {},
   "outputs": [],
   "source": [
    "sections = [6.8] "
   ]
  },
  {
   "cell_type": "code",
   "execution_count": 134,
   "id": "40f63ff0",
   "metadata": {},
   "outputs": [],
   "source": [
    "cplot.plot_metrics_ccf_raster(imdata, th_metrics['count_gt5_supertype'], sections, ccf_index,\n",
    "                            cmap='Blues', cb_label='number of supertypes in subregion')"
   ]
  },
  {
   "cell_type": "code",
   "execution_count": 135,
   "id": "dcd2d41f",
   "metadata": {},
   "outputs": [],
   "source": [
    "cplot.plot_metrics_ccf_raster(imdata, th_metrics['count_gt5_cluster'], sections, ccf_index,\n",
    "                       cmap='Oranges', cb_label='number of clusters in subregion')"
   ]
  },
  {
   "cell_type": "markdown",
   "id": "6ac110c6",
   "metadata": {},
   "source": [
    "## Cell Type Diversity"
   ]
  },
  {
   "cell_type": "markdown",
   "id": "ab19ade9",
   "metadata": {},
   "source": [
    "### Shannon Diversity Index"
   ]
  },
  {
   "cell_type": "code",
   "execution_count": 49,
   "id": "be2f35e2",
   "metadata": {},
   "outputs": [],
   "source": [
    "# Shannon diversity index, normalized to (0,1)\n",
    "# 1 = high diversity (clusters found in equal proportions)\n",
    "# 0 = low diversity (some clusters found in higher proportions in subregion)\n",
    "\n",
    "def calc_shannon_index(obs_col):\n",
    "    # calculate proportion of each category\n",
    "    cateogory_counts = obs_col.value_counts()\n",
    "    cateogory_counts = cateogory_counts[cateogory_counts>0] # cleanup zeros so log() doesn't throw warnings\n",
    "    p = cateogory_counts / cateogory_counts.sum()\n",
    "    \n",
    "    # calculate shannon diversity index\n",
    "    shannon_ind = (-1)*((p * np.log2(p)).sum())\n",
    "    \n",
    "    # normalized separately\n",
    "    # normalize by log2 of number of categories to limit index to range (0, 1)\n",
    "    # shannon_norm = shannon_ind / np.log2(n_total_categories)\n",
    "    return shannon_ind"
   ]
  },
  {
   "cell_type": "code",
   "execution_count": 138,
   "id": "154a7fbf",
   "metadata": {},
   "outputs": [],
   "source": [
    "th_metrics = th_metrics.join(\n",
    "    get_region_metric(obs_neurons_ccf, ccf_label, calc_shannon_index, \"shannon_index\", \n",
    "                      norm_fcn=lambda x: np.log2(len(x.unique())))\n",
    ")"
   ]
  },
  {
   "cell_type": "code",
   "execution_count": 139,
   "id": "e6fd71cf",
   "metadata": {},
   "outputs": [],
   "source": [
    "plot_metrics_multiple_levels(th_metrics.loc[regions_100], 'shannon_index')\n",
    "plt.ylabel(\"Shannon index\")"
   ]
  },
  {
   "cell_type": "code",
   "execution_count": 140,
   "id": "40f63ff0",
   "metadata": {},
   "outputs": [],
   "source": [
    "\n",
    "label = 'Shannon Index - clusters'\n",
    "cplot.plot_metrics_ccf_raster(imdata, th_metrics['shannon_index_cluster'], sections, ccf_index,\n",
    "                            cmap='Oranges', cb_label=label)"
   ]
  },
  {
   "cell_type": "code",
   "execution_count": 143,
   "id": "925d6bf4",
   "metadata": {},
   "outputs": [],
   "source": [
    "\n",
    "label = 'Shannon Index - supertype'\n",
    "cplot.plot_metrics_ccf_raster(imdata, th_metrics['shannon_index_supertype'], sections, ccf_index,\n",
    "                            cmap='Blues', cb_label=label)"
   ]
  },
  {
   "cell_type": "code",
   "execution_count": 144,
   "id": "dcd2d41f",
   "metadata": {},
   "outputs": [],
   "source": [
    "\n",
    "label = 'Shannon Index - subclasses'\n",
    "cplot.plot_metrics_ccf_raster(imdata, th_metrics['shannon_index_subclass'], sections, ccf_index,\n",
    "                            cmap='Greens', cb_label=label)"
   ]
  },
  {
   "cell_type": "code",
   "execution_count": 59,
   "id": "bd12e65d",
   "metadata": {},
   "outputs": [],
   "source": [
    "plot_metrics_multiple_levels(th_metrics.loc[regions_100], 'inverse_simpsons')\n",
    "# plt.ylabel(\"cell type count (outliers removed)\")"
   ]
  },
  {
   "cell_type": "code",
   "execution_count": 145,
   "id": "14a3f7e7",
   "metadata": {},
   "outputs": [],
   "source": [
    "cplot.plot_metrics_ccf_raster(imdata, th_metrics['inverse_simpsons_cluster'], sections, ccf_index,\n",
    "                       cmap='Oranges')"
   ]
  },
  {
   "cell_type": "code",
   "execution_count": 146,
   "id": "f7864d30",
   "metadata": {},
   "outputs": [],
   "source": [
    "cplot.plot_metrics_ccf_raster(imdata, th_metrics['inverse_simpsons_supertype'], sections, ccf_index,\n",
    "                       cmap='Blues')"
   ]
  },
  {
   "cell_type": "code",
   "execution_count": 147,
   "id": "dc5714a0",
   "metadata": {},
   "outputs": [],
   "source": [
    "cplot.plot_metrics_ccf_raster(imdata, th_metrics['inverse_simpsons_subclass'], sections, ccf_index,\n",
    "                       cmap='Greens')"
   ]
  },
  {
   "cell_type": "markdown",
   "id": "5f7cca89",
   "metadata": {},
   "source": [
    "## local index"
   ]
  },
  {
   "cell_type": "code",
   "execution_count": null,
   "id": "26cb8e1f",
   "metadata": {},
   "outputs": [],
   "source": [
    "from sklearn.neighbors import NearestNeighbors\n",
    "\n",
    "neigh = NearestNeighbors(n_neighbors=20, n_jobs=-1)\n",
    "neigh_coords = [x+'_ccf' for x in 'xyz']\n",
    "X = obs_neurons_ccf[neigh_coords]\n",
    "neigh.fit(X)"
   ]
  },
  {
   "cell_type": "code",
   "execution_count": null,
   "id": "5db7320a",
   "metadata": {},
   "outputs": [],
   "source": [
    "# def local_index(obs_neurons_ccf, function, name, ccf_label, n_neighbors=15, levels=['cluster','subclass']):\n",
    "#     get_neighbors = lambda x: obs_neurons_ccf.iloc[\n",
    "#         neigh.kneighbors(x[neigh_coords].values[None, :], n_neighbors=n_neighbors, return_distance=False)[0]\n",
    "#     ]\n",
    "#     cellwise_metrics = (obs_neurons_ccf.apply(lambda x: get_neighbors(x)[levels]\n",
    "#                               .aggregate(function),\n",
    "#                               axis=1)\n",
    "#                             .rename(columns=lambda x: \"_\".join(['local', name, x])))\n",
    "    \n",
    "#     metrics = cellwise_metrics.join(obs_neurons_ccf[ccf_label]).groupby(ccf_label, observed=True).median()\n",
    "#     return metrics, cellwise_metrics\n",
    "\n",
    "# metrics, cellwise_metrics = local_index(obs_neurons_ccf, inverse_simpsons, 'isi', ccf_label)"
   ]
  },
  {
   "cell_type": "code",
   "execution_count": 104,
   "id": "1b3fa9fd",
   "metadata": {},
   "outputs": [],
   "source": [
    "# local index - about 2 min to run!\n",
    "n_neighbors = 15\n",
    "neighbors = neigh.kneighbors(X, n_neighbors=n_neighbors, return_distance=False)\n",
    "neighbors_series = pd.Series(neighbors.tolist(), index=obs_neurons_ccf.index)\n",
    "\n",
    "def local_metric(label_series, neighbors_series, function):\n",
    "    results = np.array([\n",
    "        function(\n",
    "    # doesn't include neighbors across boundaries...\n",
    "            # label_series.reindex(obs_neurons_ccf.index[ind]).dropna()\n",
    "            # label_series[label_series.index.intersection(obs_neurons_ccf.index[ind])]\n",
    "            obs_neurons_ccf[label_series.name].iloc[ind]\n",
    "            )\n",
    "        for ind in neighbors_series[label_series.index]\n",
    "        ])\n",
    "    return np.median(results)\n"
   ]
  },
  {
   "cell_type": "code",
   "execution_count": 109,
   "id": "032de11e",
   "metadata": {},
   "outputs": [],
   "source": [
    "lisi = lambda x: local_metric(x, neighbors_series, inverse_simpsons)\n",
    "th_lisi = get_region_metric(obs_neurons_ccf, ccf_label, lisi, \"lisi\", levels=['cluster','supertype','subclass'])\n"
   ]
  },
  {
   "cell_type": "code",
   "execution_count": 116,
   "id": "f6726dcb",
   "metadata": {},
   "outputs": [],
   "source": [
    "th_lisi = th_lisi.drop(index='TH-unassigned')"
   ]
  },
  {
   "cell_type": "code",
   "execution_count": 148,
   "id": "3595b30c",
   "metadata": {},
   "outputs": [],
   "source": [
    "cplot.plot_metrics_ccf_raster(imdata, th_lisi[\"lisi_cluster\"], sections, ccf_index,\n",
    "                       cmap='Oranges')"
   ]
  },
  {
   "cell_type": "code",
   "execution_count": 149,
   "id": "0b2d1baf",
   "metadata": {},
   "outputs": [],
   "source": [
    "cplot.plot_metrics_ccf_raster(imdata, th_lisi[\"lisi_supertype\"], sections, ccf_index,\n",
    "                       cmap='Blues')"
   ]
  },
  {
   "cell_type": "code",
   "execution_count": 151,
   "id": "73f432e3",
   "metadata": {},
   "outputs": [],
   "source": [
    "cplot.plot_metrics_ccf_raster(imdata, th_lisi[\"lisi_subclass\"], sections, ccf_index,\n",
    "                       cmap='Greens')"
   ]
  },
  {
   "cell_type": "markdown",
   "id": "4eb63d0e",
   "metadata": {},
   "source": [
    "\n",
    "## Proportions as stacked bar graphs"
   ]
  },
  {
   "cell_type": "code",
   "execution_count": 66,
   "id": "69432202",
   "metadata": {},
   "outputs": [],
   "source": [
    "# for each subregion, count the proportion of cells in each cluster/supertype/subclass\n",
    "regions = regions_100\n",
    "ccf_cluster_counts = pd.DataFrame(index=regions, columns=th_clusters)\n",
    "ccf_supertype_counts = pd.DataFrame(index=regions, columns=th_supertypes)\n",
    "ccf_subclass_counts = pd.DataFrame(index=regions, columns=th_subclasses)\n",
    "min_count = 5\n",
    "for subregion, df in obs_neurons_ccf.groupby(ccf_label, observed=True):\n",
    "    if subregion in regions_100:\n",
    "        # clusters\n",
    "        cluster_counts = df['cluster'].value_counts().loc[lambda x: x>min_count]\n",
    "        ccf_cluster_counts.loc[subregion, \n",
    "                            cluster_counts.index] = cluster_counts.values / len(df)\n",
    "\n",
    "        # supertypes\n",
    "        supertype_counts = df['supertype'].value_counts().loc[lambda x: x>min_count]\n",
    "        ccf_supertype_counts.loc[subregion, \n",
    "                                supertype_counts.index] = supertype_counts.values / len(df)\n",
    "\n",
    "        # subclasses\n",
    "        subclass_counts = df['subclass'].value_counts().loc[lambda x: x>min_count]\n",
    "        ccf_subclass_counts.loc[subregion, \n",
    "                                subclass_counts.index] = subclass_counts.values / len(df)"
   ]
  },
  {
   "cell_type": "markdown",
   "id": "2d901b80",
   "metadata": {},
   "source": [
    "#### TODO: Implement barchart w/ plotly\n",
    "\n",
    "which will enable hovering over the bars to display the subclass/supertype/cluster to which it belongs"
   ]
  },
  {
   "cell_type": "code",
   "execution_count": 68,
   "id": "ecabb3c0",
   "metadata": {},
   "outputs": [],
   "source": [
    "# display as a stacked bar graph\n",
    "from colorcet import glasbey_light\n",
    "\n",
    "def plot_stacked_barplot(df, taxonomy_level, legend=True):\n",
    "    fig, axes = plt.subplots(nrows=1, ncols=1, figsize=(12,5))\n",
    "    colors = sns.color_palette(glasbey_light, n_colors=len(df.columns))\n",
    "    df.plot(kind='bar', stacked=True, ax=axes, legend=legend, color=colors)\n",
    "    if legend:\n",
    "        axes.legend(loc='upper left', bbox_to_anchor=(0.05, -0.3), ncol=4)\n",
    "    axes.set_xticklabels(df.index, rotation=90)\n",
    "    axes.set_xlabel('CCF subregion')\n",
    "    # axes.set_yticks([])\n",
    "    axes.set_ylabel('proportion of cells in unique '+taxonomy_level)\n",
    "\n",
    "    fig.subplots_adjust(hspace=0.1)\n",
    "    \n",
    "    # add text\n",
    "    for i, subregion in enumerate(df.index):\n",
    "        n_nonzero = (df.loc[subregion]>0).sum()\n",
    "        axes.text(i, 1.01, n_nonzero, horizontalalignment='center')\n",
    "    plt.show()"
   ]
  },
  {
   "cell_type": "markdown",
   "id": "b123b4dd",
   "metadata": {},
   "source": [
    "#### Subclasses"
   ]
  },
  {
   "cell_type": "code",
   "execution_count": 72,
   "id": "2b07cb07",
   "metadata": {},
   "outputs": [],
   "source": [
    "# First sort by the Shannon Diversity Index from th_metrics\n",
    "th_metrics_sorted_by_sdi = th_metrics.loc[regions].sort_values(by='shannon_index_subclass', ascending=True)\n",
    "\n",
    "# Use sorted list of subregions to plot in order from least diverse to most diverse\n",
    "plot_stacked_barplot(ccf_subclass_counts.loc[th_metrics_sorted_by_sdi.index], \n",
    "                     'subclasses', legend=False)"
   ]
  },
  {
   "cell_type": "markdown",
   "id": "d3c611a7",
   "metadata": {},
   "source": [
    "#### Supertypes"
   ]
  },
  {
   "cell_type": "code",
   "execution_count": 75,
   "id": "e940ccb3",
   "metadata": {},
   "outputs": [],
   "source": [
    "# First sort by the Shannon Diversity Index from th_metrics\n",
    "th_metrics_sorted_by_sdi = th_metrics.loc[regions].sort_values(by='shannon_index_supertype', ascending=True)\n",
    "\n",
    "# Use sorted list of subregions to plot in order from least diverse to most diverse\n",
    "plot_stacked_barplot(ccf_supertype_counts.loc[th_metrics_sorted_by_sdi.index], \n",
    "                     'supertypes', legend=False)"
   ]
  },
  {
   "cell_type": "markdown",
   "id": "08f728de",
   "metadata": {},
   "source": [
    "#### Clusters"
   ]
  },
  {
   "cell_type": "code",
   "execution_count": 76,
   "id": "2f597c33",
   "metadata": {},
   "outputs": [],
   "source": [
    "# First sort by the Shannon Diversity Index from th_metrics\n",
    "th_metrics_sorted_by_sdi = th_metrics.loc[regions].sort_values(by='shannon_index_cluster', ascending=True)\n",
    "\n",
    "# Use sorted list of subregions to plot in order from least diverse to most diverse\n",
    "plot_stacked_barplot(ccf_cluster_counts.loc[th_metrics_sorted_by_sdi.index], \n",
    "                     'clusters', legend=False)"
   ]
  },
  {
   "cell_type": "markdown",
   "id": "589cb9b4",
   "metadata": {},
   "source": [
    "# Per Cluster/Supertype/Subclass Metrics (neurons only)"
   ]
  },
  {
   "cell_type": "markdown",
   "id": "0ab6f5ef",
   "metadata": {},
   "source": [
    "## TODO: Dispersion of clusters/supertypes across nuclei\n",
    "\n",
    "i.e. grab a cluster that dominates in one nucleus (e.g. 1133 in MD) and ask how dispersed it is across the whole thalamus. Ideally, a linear metric, such that you could ask what the dispersion is for all clusters to see which ones seem to be more compact and which are more shared\n",
    "\n",
    "I *think* this is going to have to be done on hemispheres, rather than the whole brain. Most existing tools I'm finding are not able to account for symmetries.\n",
    "\n",
    "Likely going to borrow from some of ArcGIS's standard toolboxes\n",
    "- https://pro.arcgis.com/en/pro-app/latest/tool-reference/spatial-statistics/h-how-standard-distance-spatial-statistic-works.htm\n",
    "\n",
    "Or other satellite imagery methods:\n",
    "- https://www.tandfonline.com/doi/full/10.1080/17538947.2018.1474957"
   ]
  },
  {
   "cell_type": "markdown",
   "id": "36ae81a3",
   "metadata": {},
   "source": [
    "# Neighborhood metrics\n",
    "\n",
    "Single neuron tracing in the MD (shown in weekly U19 on Fri 7/28/23) illustrates two things:\n",
    "1. Some *neighboring* soma have *distinct* projection patterns\n",
    "2. Some *distant* soma have *very similar* projection patterns\n",
    "\n",
    "Jayaram's interpretation is that \\#1 is surprising given gene expression in the MD.\n",
    "\n",
    "But I don't think that's the correct interpretation, especially in the MD! \n",
    "- MD contains a large diversity of cell types, many of which show salt-and-pepper sprinkling throughout the MD.\n",
    "- At the very least, we don't have our MERFISH data analyzed in the right way to say whether or not the single neuron data is surprising/unexpected\n",
    "- They really need their mFISH data to say this for certain\n",
    "\n",
    "## TODO: most likely/common neighboring cell type metric\n",
    "\n",
    "\"most common / most likely neighbor\" metrics for cells\n",
    "- How likely are you to find a cell with (a) the same or (b) a different transcriptomic type right next to your cell of interest?\n",
    "- What's the average fraction of nearest neighbors that are the same? different?\n",
    "- How many non-self cell types are represented in the nearest neighbors?\n",
    "- Do these metrics change from nucleus to nucleus? i.e. do cells in the MD have more diverse neighbors than, say, AD? (shannon index might suggest that they do)"
   ]
  },
  {
   "cell_type": "code",
   "execution_count": null,
   "id": "fde7ff8b",
   "metadata": {},
   "outputs": [],
   "source": []
  }
 ],
 "metadata": {
  "kernelspec": {
   "display_name": "base",
   "language": "python",
   "name": "python3"
  },
  "language_info": {
   "codemirror_mode": {
    "name": "ipython",
    "version": 3
   },
   "file_extension": ".py",
   "mimetype": "text/x-python",
   "name": "python",
   "nbconvert_exporter": "python",
   "pygments_lexer": "ipython3",
   "version": "3.9.12"
  },
  "vscode": {
   "interpreter": {
    "hash": "d4d1e4263499bec80672ea0156c357c1ee493ec2b1c70f0acce89fc37c4a6abe"
   }
  }
 },
 "nbformat": 4,
 "nbformat_minor": 5
}
