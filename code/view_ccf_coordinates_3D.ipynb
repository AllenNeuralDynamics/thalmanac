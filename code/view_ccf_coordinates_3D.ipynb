{
 "cells": [
  {
   "cell_type": "code",
   "execution_count": 2,
   "id": "34bdc88e-f5b6-46a0-be9b-9d739d186e70",
   "metadata": {
    "tags": []
   },
   "outputs": [],
   "source": [
    "%load_ext autoreload\n",
    "%autoreload 2"
   ]
  },
  {
   "cell_type": "code",
   "execution_count": 3,
   "id": "139fbc26-f59f-4bd8-bc8a-49f88ebb4291",
   "metadata": {
    "tags": []
   },
   "outputs": [],
   "source": [
    "import pandas as pd\n",
    "import matplotlib.pyplot as plt\n",
    "import seaborn as sns\n",
    "import numpy as np\n",
    "\n",
    "from thalamus_merfish_analysis import ccf_plots as cplots\n",
    "from thalamus_merfish_analysis import ccf_images as cimg\n",
    "from thalamus_merfish_analysis import abc_load as abc\n",
    "get_ipython().run_line_magic('matplotlib', 'inline') "
   ]
  },
  {
   "cell_type": "code",
   "execution_count": 4,
   "id": "a291c152-7e40-40de-8141-fe16a9ee49d3",
   "metadata": {
    "tags": []
   },
   "outputs": [],
   "source": [
    "adata = abc.load_adata(transform='raw', subset_to_TH_ZI=True, with_metadata=True,\n",
    "                       flip_y=False, round_z=True, \n",
    "                       with_colors=True, realigned=False)"
   ]
  },
  {
   "cell_type": "code",
   "execution_count": 5,
   "id": "5be8211a-e127-44bb-825f-66dd9637b4d2",
   "metadata": {
    "tags": []
   },
   "outputs": [],
   "source": [
    "adata = abc.filter_adata_by_class(adata, filter_nonneuronal=True, \n",
    "                                  filter_midbrain=True, \n",
    "                                  filter_others=True)"
   ]
  },
  {
   "cell_type": "markdown",
   "id": "cbeb9d63-69a2-4734-ac77-056d49823698",
   "metadata": {},
   "source": [
    "# All cells"
   ]
  },
  {
   "cell_type": "code",
   "execution_count": 6,
   "id": "3c3d55e7-6aeb-45c9-9ab2-e927d609cbfa",
   "metadata": {
    "tags": []
   },
   "outputs": [],
   "source": [
    "obs = abc.get_combined_metadata(realigned=False, version=\"20230830\", drop_unused=False)"
   ]
  },
  {
   "cell_type": "code",
   "execution_count": 7,
   "id": "a925862c-0541-45d3-a529-764547b86439",
   "metadata": {
    "tags": []
   },
   "outputs": [],
   "source": [
    "obs.head(5).columns"
   ]
  },
  {
   "cell_type": "code",
   "execution_count": 21,
   "id": "567b5b10-1c85-4013-8081-fd6c90b32858",
   "metadata": {
    "tags": []
   },
   "outputs": [],
   "source": [
    "fig = plt.figure(figsize=(5,5))\n",
    "ax = fig.add_subplot(projection='3d')\n",
    "ax.scatter(obs.z_ccf, obs.x_ccf, -obs.y_ccf, c=obs.class_color, s=0.01)\n",
    "ax.axis('off')\n",
    "ax.grid(b=None)\n",
    "\n",
    "# see https://stackoverflow.com/a/64849390 for visuals of how to adjust these params\n",
    "ax.azim = -60\n",
    "ax.dist = 10\n",
    "ax.elev = 30\n",
    "# ax.axis('equal')"
   ]
  },
  {
   "cell_type": "code",
   "execution_count": 20,
   "id": "47314b23-1191-4e92-a69a-5d92288a1ab2",
   "metadata": {
    "tags": []
   },
   "outputs": [],
   "source": [
    "fig = plt.figure(figsize=(5,5))\n",
    "ax = fig.add_subplot(projection='3d')\n",
    "ax.scatter(obs.z_ccf, obs.x_ccf, -obs.y_ccf, c=obs.class_color, s=0.01)\n",
    "ax.axis('off')\n",
    "ax.grid(b=None)\n",
    "\n",
    "# see https://stackoverflow.com/a/64849390 for visuals of how to adjust these params\n",
    "ax.azim = -65\n",
    "ax.dist = 10\n",
    "ax.elev = 35\n",
    "# ax.axis('equal')"
   ]
  },
  {
   "cell_type": "code",
   "execution_count": 32,
   "id": "146f3cbb-d6f3-40c0-9409-30efdb7aef0f",
   "metadata": {
    "tags": []
   },
   "outputs": [],
   "source": [
    "fig = plt.figure(figsize=(10,10))\n",
    "ax = fig.add_subplot(projection='3d')\n",
    "ax.scatter(obs.z_ccf, obs.x_ccf, -obs.y_ccf, c=obs.class_color, s=0.1)\n",
    "ax.axis('off')\n",
    "ax.grid(b=None)\n",
    "\n",
    "# see https://stackoverflow.com/a/64849390 for a visual guide to adjusting these params\n",
    "ax.azim = -40 # rotation around z-axis, aka left-right rotation\n",
    "ax.dist = 10\n",
    "ax.elev = 20 # angle between the eye and the xy plane, aka up-down rotation\n",
    "# ax.axis('equal')"
   ]
  },
  {
   "cell_type": "markdown",
   "id": "a03c60d6-0d29-4673-8eb8-e14a3a85d9e9",
   "metadata": {},
   "source": [
    "# Just TH+ZI cells"
   ]
  },
  {
   "cell_type": "code",
   "execution_count": 45,
   "id": "40e60c39-0ecd-45be-b0e6-dcb074a788b4",
   "metadata": {
    "tags": []
   },
   "outputs": [],
   "source": [
    "fig = plt.figure(figsize=(10,5))\n",
    "ax = fig.add_subplot(projection='3d')\n",
    "ax.scatter(adata.obs.z_ccf, adata.obs.x_ccf, -adata.obs.y_ccf, \n",
    "           c=adata.obs.cluster_color, s=1)\n",
    "# ax.axis('off')\n",
    "ax.grid(b=None)\n",
    "ax.axis('auto')\n",
    "\n",
    "# see https://stackoverflow.com/a/64849390 for a visual guide to adjusting these params\n",
    "ax.azim = -50 # rotation around z-axis, aka left-right rotation\n",
    "ax.dist = 10\n",
    "ax.elev = 30 # angle between the eye and the xy plane, aka up-down rotation"
   ]
  },
  {
   "cell_type": "markdown",
   "id": "7f90a976-63f1-4141-ba66-4f6faa6aedbb",
   "metadata": {},
   "source": [
    "# All cells, \"cut open\" to show thalamus"
   ]
  },
  {
   "cell_type": "code",
   "execution_count": 8,
   "id": "571470bd-4d30-41cd-8c3b-d7e8e1ed38a8",
   "metadata": {
    "tags": []
   },
   "outputs": [],
   "source": [
    "th_cut_obs = obs[obs.z_reconstructed<8.0]"
   ]
  },
  {
   "cell_type": "code",
   "execution_count": 63,
   "id": "ca3143c6-6b9e-480e-98f2-52e5b9774200",
   "metadata": {
    "tags": []
   },
   "outputs": [],
   "source": [
    "fig = plt.figure(figsize=(10,10))\n",
    "ax = fig.add_subplot(projection='3d')\n",
    "ax.scatter(th_cut_obs.z_ccf, th_cut_obs.x_ccf, -th_cut_obs.y_ccf, c=th_cut_obs.class_color, s=0.1)\n",
    "# ax.scatter(obs.z_ccf, obs.x_ccf, -obs.y_ccf, c=obs.class_color, s=0.01, alpha=0.5)\n",
    "ax.axis('off')\n",
    "ax.grid(b=None)\n",
    "\n",
    "# see https://stackoverflow.com/a/64849390 for a visual guide to adjusting these params\n",
    "ax.azim = -30 # rotation around z-axis, aka left-right rotation\n",
    "              # more neg=right; more pos=left\n",
    "ax.dist = 10 # \"zoom\" level, aka in-out zoom\n",
    "ax.elev = 20 # angle between the eye and the xy plane, aka up-down rotation\n",
    "             # more pos = top-down view; less pos = side view; neg = bottom view\n",
    "# ax.axis('equal')"
   ]
  },
  {
   "cell_type": "code",
   "execution_count": 9,
   "id": "c6691ce0-8afe-41e2-96dc-f9c567c26413",
   "metadata": {
    "tags": []
   },
   "outputs": [],
   "source": [
    "fig = plt.figure(figsize=(10,10))\n",
    "ax = fig.add_subplot(projection='3d')\n",
    "ax.scatter(th_cut_obs.z_ccf, th_cut_obs.x_ccf, -th_cut_obs.y_ccf, c=th_cut_obs.class_color, s=0.1)\n",
    "# ax.scatter(obs.z_ccf, obs.x_ccf, -obs.y_ccf, c=obs.class_color, s=0.01, alpha=0.5)\n",
    "ax.axis('off')\n",
    "ax.grid(b=None)\n",
    "\n",
    "# see https://stackoverflow.com/a/64849390 for a visual guide to adjusting these params\n",
    "ax.azim = -30 # rotation around z-axis, aka left-right rotation\n",
    "              # more neg=right; more pos=left\n",
    "ax.dist = 10 # \"zoom\" level, aka in-out zoom\n",
    "ax.elev = 15 # angle between the eye and the xy plane, aka up-down rotation\n",
    "             # more pos = top-down view; less pos = side view; neg = bottom view\n",
    "# ax.axis('equal')"
   ]
  },
  {
   "cell_type": "code",
   "execution_count": 64,
   "id": "1ce9c679-da81-42ff-9f29-6931b3244e90",
   "metadata": {
    "tags": []
   },
   "outputs": [],
   "source": [
    "front_obs = obs[obs.z_reconstructed>=8.0]\n",
    "back_obs = obs[obs.z_reconstructed<8.0]\n",
    "\n",
    "fig = plt.figure(figsize=(10,10))\n",
    "ax = fig.add_subplot(projection='3d')\n",
    "ax.scatter(back_obs.z_ccf, back_obs.x_ccf, -back_obs.y_ccf, c=back_obs.class_color, s=0.1)\n",
    "ax.scatter(front_obs.z_ccf, front_obs.x_ccf, -front_obs.y_ccf, c=front_obs.class_color, s=0.01, alpha=0.1)\n",
    "ax.axis('off')\n",
    "ax.grid(b=None)\n",
    "\n",
    "# see https://stackoverflow.com/a/64849390 for a visual guide to adjusting these params\n",
    "ax.azim = -40 # rotation around z-axis, aka left-right rotation\n",
    "              # neg=left; pos=right\n",
    "ax.dist = 10 # \"zoom\" level, aka in-out zoom\n",
    "ax.elev = 10 # angle between the eye and the xy plane, aka up-down rotation\n",
    "             # more pos = top-down view; less pos = side view; neg = bottom view\n",
    "# ax.axis('equal')"
   ]
  },
  {
   "cell_type": "code",
   "execution_count": null,
   "id": "abd510b2-b797-43a2-9105-f6d61687a2be",
   "metadata": {},
   "outputs": [],
   "source": []
  }
 ],
 "metadata": {
  "kernelspec": {
   "display_name": "Python 3 (ipykernel)",
   "language": "python",
   "name": "python3"
  },
  "language_info": {
   "codemirror_mode": {
    "name": "ipython",
    "version": 3
   },
   "file_extension": ".py",
   "mimetype": "text/x-python",
   "name": "python",
   "nbconvert_exporter": "python",
   "pygments_lexer": "ipython3",
   "version": "3.9.12"
  }
 },
 "nbformat": 4,
 "nbformat_minor": 5
}
