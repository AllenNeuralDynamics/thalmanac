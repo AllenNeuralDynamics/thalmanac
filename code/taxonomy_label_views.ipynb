{
 "cells": [
  {
   "cell_type": "code",
   "execution_count": 21,
   "id": "30c90355",
   "metadata": {},
   "outputs": [],
   "source": [
    "import anndata as ad\n",
    "import pandas as pd\n",
    "import numpy as np\n",
    "import seaborn as sns\n",
    "import matplotlib.pyplot as plt\n",
    "from mpl_toolkits.axes_grid1 import ImageGrid\n",
    "import colorcet as cc\n",
    "%matplotlib inline"
   ]
  },
  {
   "cell_type": "markdown",
   "id": "413b1b3a",
   "metadata": {
    "tags": []
   },
   "source": [
    "# Load and subset data"
   ]
  },
  {
   "cell_type": "code",
   "execution_count": 22,
   "id": "f2a02f6f-a911-44bf-ba8b-3e793bcf9f56",
   "metadata": {},
   "outputs": [],
   "source": [
    "adata_brain1 = ad.read_h5ad(\"../data/merfish_609882_AIT17.1_annotated_TH_ZI_only_2023-02-16_00-00-00/atlas_brain_609882_AIT17_1_annotated_TH_ZI_only.h5ad\") #, backed='r')\n",
    "adata_brain3 = ad.read_h5ad(\"../data/merfish_638850_AIT17.custom_CCF_annotated_TH_ZI_only_2023-05-04_00-00-00/atlas_brain_638850_AIT17_custom_CCF_annotated_TH_ZI_only.h5ad\") #, backed='r')"
   ]
  },
  {
   "cell_type": "markdown",
   "id": "2e8e5621",
   "metadata": {},
   "source": [
    "## Subset to neurons"
   ]
  },
  {
   "cell_type": "code",
   "execution_count": 23,
   "id": "c64620e4-ca61-409e-b2c5-aec03fa34f17",
   "metadata": {
    "tags": []
   },
   "outputs": [],
   "source": [
    "divisions_neuronal = [\n",
    "                      #\"2 Subpallium GABAergic\",           # not many cells in brain3, but lots in RT/ZI in brain1\n",
    "                      \"3 PAL-sAMY-TH-HY-MB-HB neuronal\",   # nearly all TH cells in brain3, vast majority in brain1\n",
    "                      #\"4 CBX-MOB-other neuronal\"          # not many cells in this division in brain3, but lots in RT/ZI in brain1\n",
    "                     ]\n",
    "\n",
    "adata_brain1 = adata_brain1[adata_brain1.obs['division_id_label'].isin(divisions_neuronal)].copy()\n",
    "adata_brain3 = adata_brain3[adata_brain3.obs['division_id_label'].isin(divisions_neuronal)].copy()"
   ]
  },
  {
   "cell_type": "code",
   "execution_count": 24,
   "id": "2d7a1c32-2aac-42fe-ae6f-546987e3d0ec",
   "metadata": {},
   "outputs": [],
   "source": [
    "# move cirro coordinates into .obs for easier access\n",
    "adata_brain1.obs['cirro_x'] = adata_brain1.obsm['spatial_cirro'][:,0]\n",
    "adata_brain1.obs['cirro_y'] = adata_brain1.obsm['spatial_cirro'][:,1]\n",
    "\n",
    "adata_brain3.obs['cirro_x'] = adata_brain3.obsm['spatial_cirro'][:,0]\n",
    "adata_brain3.obs['cirro_y'] = adata_brain3.obsm['spatial_cirro'][:,1]"
   ]
  },
  {
   "cell_type": "markdown",
   "id": "f0366543-91b0-4cbf-aa79-cadbc31ae6dd",
   "metadata": {},
   "source": [
    "## Subset by section\n",
    "\n",
    "selecting a good anterior, mid, and posterior section for presentations, etc."
   ]
  },
  {
   "cell_type": "code",
   "execution_count": 25,
   "id": "200c221f-9233-4136-b545-b448d8a36203",
   "metadata": {},
   "outputs": [],
   "source": [
    "section_brain1 = '1198980108' #1198980077, ----------, 1198980089, 1198980101, 1198980108, 1198980114, 1198980120, 1198980134\n",
    "section_brain3 = '1199651045' #1199651060, 1199651057, 1199651054, 1199651048, 1199651045, 1199651042, 1199651039, 1199651033\n",
    "\n",
    "adata_brain1 = adata_brain1[adata_brain1.obs['section']==section_brain1]\n",
    "adata_brain3 = adata_brain3[adata_brain3.obs['section']==section_brain3]"
   ]
  },
  {
   "cell_type": "markdown",
   "id": "a6d1c70f-2e7f-439c-a177-35a441aa6720",
   "metadata": {
    "jp-MarkdownHeadingCollapsed": true,
    "tags": []
   },
   "source": [
    "# Color palettes"
   ]
  },
  {
   "cell_type": "code",
   "execution_count": 26,
   "id": "ff7e862a-3cab-4b60-b27e-2718e09020ef",
   "metadata": {},
   "outputs": [],
   "source": [
    "sns.color_palette('husl', as_cmap=True)"
   ]
  },
  {
   "cell_type": "code",
   "execution_count": 27,
   "id": "33d77227-94e3-4587-9f98-c484a838f408",
   "metadata": {},
   "outputs": [],
   "source": [
    "n_colors = 50\n",
    "sample_palette = sns.color_palette(cc.glasbey, n_colors=n_colors)\n",
    "sns.palplot(sample_palette)\n",
    "\n",
    "palette_ind = 15\n",
    "print(sample_palette.as_hex()[palette_ind])"
   ]
  },
  {
   "cell_type": "markdown",
   "id": "ae881b60",
   "metadata": {},
   "source": [
    "# Cell type mapping labels"
   ]
  },
  {
   "cell_type": "markdown",
   "id": "666fa1dc-79a7-42f5-9ca7-4131f6491350",
   "metadata": {
    "tags": []
   },
   "source": [
    "## Cluster level\n",
    "\n",
    "Two very different ways of visualizing cluster labels, emphasizing similarity (top, via cluster_id) vs distinctness (bottom, via cluster_label) of 'adjacent' clusters."
   ]
  },
  {
   "cell_type": "markdown",
   "id": "1ab7ed4b-518a-4cd0-b4fa-bba0212495db",
   "metadata": {},
   "source": [
    "### Cluster IDs"
   ]
  },
  {
   "cell_type": "code",
   "execution_count": 28,
   "id": "e43b1071-1ec4-467b-ba7a-56c976753793",
   "metadata": {
    "tags": []
   },
   "outputs": [],
   "source": [
    "# # brain 1\n",
    "# plt.figure(figsize=(9,6))\n",
    "# sc = sns.scatterplot(data=adata_brain1.obs, x='cirro_x', y='cirro_y', \n",
    "#                      hue=adata_brain1.obs['cluster_id'].rank(), \n",
    "#                      palette='husl', \n",
    "#                      alpha=1, s=3, linewidth=0,\n",
    "#                      legend=True)\n",
    "\n",
    "# # formatting cleanup\n",
    "# plt.legend(loc='center left', bbox_to_anchor=(1,0.5))\n",
    "# plt.axis('equal')\n",
    "# plt.title('brain1 cluster IDs')\n",
    "# sc.set(xlabel=None, ylabel=None, xticklabels=[], yticklabels=[])\n",
    "# sc.tick_params(left=False, bottom=False)\n",
    "# sc.spines[['right', 'left','top','bottom']].set_visible(False)\n",
    "\n",
    "\n",
    "# brain3\n",
    "plt.figure(figsize=(9,6))\n",
    "sc = sns.scatterplot(data=adata_brain3.obs, x='cirro_x', y='cirro_y', \n",
    "                     hue=adata_brain3.obs['cluster_id'].rank(), \n",
    "                     palette='husl', \n",
    "                     alpha=1, s=3, linewidth=0,\n",
    "                     legend=True)\n",
    "\n",
    "# formatting cleanup\n",
    "plt.legend(loc='center left', bbox_to_anchor=(1,0.5))\n",
    "plt.axis('equal')\n",
    "plt.title('brain3 cluster IDs')\n",
    "sc.set(xlabel=None, ylabel=None, xticklabels=[], yticklabels=[])\n",
    "sc.tick_params(left=False, bottom=False)\n",
    "sc.spines[['right', 'left','top','bottom']].set_visible(False)"
   ]
  },
  {
   "cell_type": "markdown",
   "id": "fee48d34-02f2-4082-bb4d-0f317325b69e",
   "metadata": {},
   "source": [
    "### Cluster labels"
   ]
  },
  {
   "cell_type": "code",
   "execution_count": 29,
   "id": "3789d9ca-86f0-4eba-8fd4-24dddef17964",
   "metadata": {},
   "outputs": [],
   "source": [
    "cluster_labels = sorted(list(set(adata_brain1.obs['cluster_label']) | set(adata_brain3.obs['cluster_label'])))\n",
    "# cluster_labels = sorted(adata_brain3.obs['cluster_label'].tolist())\n",
    "nclust = len(cluster_labels)\n",
    "clust_palette = sns.color_palette(cc.glasbey, n_colors=nclust)\n",
    "clust_dict = dict(zip(cluster_labels,clust_palette))\n",
    "\n",
    "# show first 50 colors\n",
    "sns.palplot(clust_palette[:50])"
   ]
  },
  {
   "cell_type": "code",
   "execution_count": 30,
   "id": "d0ca622e-c172-4289-af39-6efbb6a07989",
   "metadata": {
    "tags": []
   },
   "outputs": [],
   "source": [
    "# # brain1\n",
    "# plt.figure(figsize=(9,6))\n",
    "# sc = sns.scatterplot(data=adata_brain1.obs, x='cirro_x', y='cirro_y', \n",
    "#                      hue=adata_brain1.obs['cluster_label'], \n",
    "#                      palette=clust_dict,\n",
    "#                      alpha=1, s=3, linewidth=0,\n",
    "#                      legend=False)\n",
    "\n",
    "# # formatting cleanup\n",
    "# # plt.legend(loc='center left', bbox_to_anchor=(1,0.5))\n",
    "# plt.axis('equal')\n",
    "# plt.title('brain1 cluster labels')\n",
    "# sc.set(xlabel=None, ylabel=None, xticklabels=[], yticklabels=[])\n",
    "# sc.tick_params(left=False, bottom=False)\n",
    "# sc.spines[['right', 'left','top','bottom']].set_visible(False)\n",
    "\n",
    "\n",
    "# brain3\n",
    "plt.figure(figsize=(9,6))\n",
    "sc = sns.scatterplot(data=adata_brain3.obs, x='cirro_x', y='cirro_y', \n",
    "                     hue=adata_brain3.obs['cluster_label'], \n",
    "                     palette=clust_dict,\n",
    "                     alpha=1, s=3, linewidth=0,\n",
    "                     legend=False)\n",
    "\n",
    "# formatting cleanup\n",
    "# plt.legend(loc='center left', bbox_to_anchor=(1,0.5))\n",
    "plt.axis('equal')\n",
    "plt.title('brain3 cluster labels')\n",
    "sc.set(xlabel=None, ylabel=None, xticklabels=[], yticklabels=[])\n",
    "sc.tick_params(left=False, bottom=False)\n",
    "sc.spines[['right', 'left','top','bottom']].set_visible(False)"
   ]
  },
  {
   "cell_type": "markdown",
   "id": "93a2558f-a74b-492d-8e1c-31a8f02618d5",
   "metadata": {},
   "source": [
    "## plot_supertypes_separately()"
   ]
  },
  {
   "cell_type": "code",
   "execution_count": 31,
   "id": "d571c2b2-38fe-4aee-9c61-2f5ea64e4a45",
   "metadata": {},
   "outputs": [],
   "source": [
    "def plot_supertypes_separately(ad, obs_col, n_subplot_cols=4, color_palette=None):\n",
    "    \n",
    "    fig = plt.figure(figsize=(30, 50))\n",
    "\n",
    "    # set grid geometry based on the number of categories\n",
    "    type_category_ids = ad.obs[obs_col].cat.categories.tolist()\n",
    "    n_cols = n_subplot_cols\n",
    "    n_rows = int(np.ceil(len(type_category_ids)/n_cols))\n",
    "\n",
    "    grid = ImageGrid(fig, 111,  # similar to subplot(111)\n",
    "                     nrows_ncols=(n_rows, n_cols),  # creates 2x2 grid of axes\n",
    "                     axes_pad=(0.1,0.6),  # pad between axes in inch.\n",
    "                     share_all=True\n",
    "                     )\n",
    "\n",
    "    # set marker size\n",
    "    marker_size = 3 #20000/ad.shape[0]\n",
    "\n",
    "    # plot each category separately\n",
    "    for i, category in enumerate(type_category_ids):\n",
    "        ax = grid[i]\n",
    "\n",
    "        # split off current category from all others\n",
    "        curr_category_ad = ad[ad.obs[obs_col]==category]\n",
    "        other_categories_ad = ad[ad.obs[obs_col]!=category]\n",
    "\n",
    "        # plot all other categories in grey\n",
    "        s0 = ax.scatter(other_categories_ad.obs['cirro_x'],\n",
    "                        other_categories_ad.obs['cirro_y'],\n",
    "                        c='silver', s=marker_size/2, alpha=0.1)\n",
    "\n",
    "        # plot current category in it's assigned color\n",
    "        curr_category_color = color_palette[category]\n",
    "        s0 = ax.scatter(curr_category_ad.obs['cirro_x'],\n",
    "                        curr_category_ad.obs['cirro_y'],\n",
    "                        c=curr_category_color, s=marker_size,\n",
    "                        label=str(category))\n",
    "        lgd = ax.legend(loc=\"lower center\", bbox_to_anchor=(0.5,0.95), \n",
    "                        frameon=False, markerscale=7, fontsize=12)\n",
    "        ax.set_aspect('equal', 'box')\n",
    "        # hide all x-y axes, ticks, labels, etc.\n",
    "        ax.set_xticks([])\n",
    "        ax.set_yticks([])\n",
    "        ax.set_xlabel(None)\n",
    "        ax.set_ylabel(None)\n",
    "        ax.spines[['top', 'bottom', 'right', 'left']].set_visible(False)\n",
    "        \n",
    "        n_plots = i  # counter so we can hide extra grids at the end\n",
    "\n",
    "    # turn off axes for the empty subplots, which is just a hacky fix because\n",
    "    # ngrids=len(svg) doesn't work in this version of matplotlib\n",
    "    for j in np.arange(n_plots+1,((n_cols*n_rows))):\n",
    "        ax = grid[j]\n",
    "        ax.set_visible(False)\n",
    "        \n",
    "    # Save\n",
    "    # fig.savefig(results_dir+'brain3_'+sec_name+'_clusters_'+obs_col+'_indiv.png', bbox_inches='tight')\n",
    "        \n",
    "    return fig"
   ]
  },
  {
   "cell_type": "markdown",
   "id": "0076736c-f089-4237-9f8c-8cc4105c1f89",
   "metadata": {
    "tags": []
   },
   "source": [
    "## Supertype level"
   ]
  },
  {
   "cell_type": "code",
   "execution_count": 32,
   "id": "c502b874-a7d6-45ce-9f7c-22af2b892958",
   "metadata": {},
   "outputs": [],
   "source": [
    "# get counts of each taxonomy level across both brains\n",
    "category_name = 'supertype_id_label'\n",
    "min_cells = 10\n",
    "\n",
    "cat_counts_brain1 = adata_brain1.obs[category_name].value_counts()\n",
    "cat_counts_brain3 = adata_brain3.obs[category_name].value_counts()\n",
    "cat_counts_combined = cat_counts_brain1.add(cat_counts_brain3, fill_value=0)\n",
    "\n",
    "# sort by cell count\n",
    "cat_counts_by_n_cells = cat_counts_combined.sort_values(ascending=False)\n",
    "cats_by_n_cells = cat_counts_by_n_cells.index.tolist()\n",
    "# print(cats_by_n_cells)\n",
    "\n",
    "cats_to_other = cat_counts_by_n_cells[cat_counts_by_n_cells.values < min_cells].index.tolist()\n",
    "cats_to_other_brain1 = [x for x in cats_to_other if x in adata_brain1.obs[category_name].cat.categories]\n",
    "cats_to_other_brain3 = [x for x in cats_to_other if x in adata_brain3.obs[category_name].cat.categories]\n",
    "\n",
    "n_cats_to_keep = len(cat_counts_by_n_cells[cat_counts_by_n_cells.values >= min_cells])\n",
    "n_cats_to_other = len(cats_to_other)\n",
    "print(f'{n_cats_to_keep=}')\n",
    "print(f'{n_cats_to_other=}')"
   ]
  },
  {
   "cell_type": "code",
   "execution_count": 33,
   "id": "1f6e5d35-5f98-40df-b158-2e44b77791cd",
   "metadata": {},
   "outputs": [],
   "source": [
    "# cats_to_other_brain1 = [x for x in cats_to_other if x in adata_brain1.obs[category_name].cat.categories]\n",
    "# cats_to_other_brain3 = [x for x in cats_to_other if x in adata_brain3.obs[category_name].cat.categories]\n",
    "# print(f'{len(cats_to_other)=}')\n",
    "# print(f'{len(cats_to_other_brain1)=}')\n",
    "# print(f'{len(cats_to_other_brain3)=}')"
   ]
  },
  {
   "cell_type": "code",
   "execution_count": 34,
   "id": "e8239326-9cd1-4892-b78e-f9e72088bd25",
   "metadata": {},
   "outputs": [],
   "source": [
    "other_label = str(n_cats_to_other)+' other supertypes (n_cells < 10)'  # 'None' - will automatically color them grey in sns, but maybe not with a palette dict?\n",
    "new_cat_name = 'st_label_grouped'\n",
    "\n",
    "adata_brain1.obs[new_cat_name] = adata_brain1.obs[category_name].copy()\n",
    "adata_brain1.obs[new_cat_name] = adata_brain1.obs[new_cat_name].cat.add_categories(other_label)\n",
    "\n",
    "adata_brain3.obs[new_cat_name] = adata_brain3.obs[category_name].copy()\n",
    "adata_brain3.obs[new_cat_name] = adata_brain3.obs[new_cat_name].cat.add_categories(other_label)\n",
    "\n",
    "# assign other_label to all supertypes with <min_cells\n",
    "adata_brain1.obs.loc[adata_brain1.obs[category_name].isin(cats_to_other), new_cat_name] = other_label\n",
    "adata_brain3.obs.loc[adata_brain3.obs[category_name].isin(cats_to_other), new_cat_name] = other_label\n",
    "\n",
    "# now reset categories to remove the labels that were just replaced with other_label\n",
    "# need to do this brain-specific lists\n",
    "adata_brain1.obs[new_cat_name] = adata_brain1.obs[new_cat_name].cat.remove_categories(cats_to_other_brain1)\n",
    "adata_brain3.obs[new_cat_name] = adata_brain3.obs[new_cat_name].cat.remove_categories(cats_to_other_brain3)\n",
    "\n",
    "# new counts\n",
    "new_cat_counts_brain1 = adata_brain1.obs[new_cat_name].value_counts()\n",
    "new_cat_counts_brain3 = adata_brain3.obs[new_cat_name].value_counts()\n",
    "# order categories by new count\n",
    "adata_brain1.obs[new_cat_name] = adata_brain1.obs[new_cat_name].cat.set_categories(new_cat_counts_brain1.index.tolist())\n",
    "adata_brain3.obs[new_cat_name] = adata_brain3.obs[new_cat_name].cat.set_categories(new_cat_counts_brain3.index.tolist())\n",
    "\n",
    "new_cat_counts_combined = new_cat_counts_brain1.add(new_cat_counts_brain3, fill_value=0).sort_values(ascending=False)\n",
    "cat_labels_for_plot = new_cat_counts_combined.index.tolist()\n",
    "# cat_labels_for_plot"
   ]
  },
  {
   "cell_type": "code",
   "execution_count": null,
   "id": "01fa5960-5072-4692-bf35-576d73c216a5",
   "metadata": {},
   "outputs": [],
   "source": []
  },
  {
   "cell_type": "code",
   "execution_count": 35,
   "id": "bd1b2867-772a-40dd-ab75-4ada5551673a",
   "metadata": {},
   "outputs": [],
   "source": [
    "# st_labels = sorted(list(set(adata_brain1.obs['supertype_id_label']) | set(adata_brain3.obs['supertype_id_label'])))\n",
    "n_st = len(cat_labels_for_plot)\n",
    "st_palette = sns.color_palette(cc.glasbey, n_colors=n_st)\n",
    "st_palette_dict = dict(zip(cat_labels_for_plot, st_palette))\n",
    "# st_palette\n",
    "\n",
    "st_palette_dict_others_grey = st_palette_dict\n",
    "st_palette_dict_others_grey[other_label] = '#C0C0C0'"
   ]
  },
  {
   "cell_type": "code",
   "execution_count": 36,
   "id": "fc0a63b7-38a6-41ad-a9d2-b7b8e5515b3a",
   "metadata": {},
   "outputs": [],
   "source": [
    "# marker_size = 4\n",
    "# # brain1\n",
    "# plt.figure(figsize=(9,12))\n",
    "# sc = sns.scatterplot(data=adata_brain1.obs, x='cirro_x', y='cirro_y',\n",
    "#                      hue=adata_brain1.obs[new_cat_name], \n",
    "#                      palette=st_palette_dict_others_grey, \n",
    "#                      alpha=1, s=marker_size, linewidth=0,\n",
    "#                      legend=True)\n",
    "\n",
    "# # formatting cleanup\n",
    "# plt.legend(loc='center left', bbox_to_anchor=(1,0.5), ncol=2)\n",
    "# plt.axis('equal')\n",
    "# plt.title('brain1 supertypes')\n",
    "# sc.set(xlabel=None, ylabel=None, xticklabels=[], yticklabels=[])\n",
    "# sc.tick_params(left=False, bottom=False)\n",
    "# sc.spines[['right', 'left','top','bottom']].set_visible(False)"
   ]
  },
  {
   "cell_type": "code",
   "execution_count": 37,
   "id": "7b948462-fdaa-4c75-adb3-b9bef5371853",
   "metadata": {},
   "outputs": [],
   "source": [
    "marker_size = 4\n",
    "# brain3\n",
    "plt.figure(figsize=(9,12))\n",
    "sc = sns.scatterplot(data=adata_brain3.obs, x='cirro_x', y='cirro_y',\n",
    "                     hue=adata_brain3.obs[new_cat_name], \n",
    "                     palette=st_palette_dict_others_grey, \n",
    "                     alpha=1, s=marker_size, linewidth=0,\n",
    "                     legend=True)\n",
    "\n",
    "# formatting cleanup\n",
    "plt.legend(loc='center left', bbox_to_anchor=(1,0.5), ncol=2)\n",
    "plt.axis('equal')\n",
    "plt.title('brain3 supertypes')\n",
    "sc.set(xlabel=None, ylabel=None, xticklabels=[], yticklabels=[])\n",
    "sc.tick_params(left=False, bottom=False)\n",
    "sc.spines[['right', 'left','top','bottom']].set_visible(False)"
   ]
  },
  {
   "cell_type": "code",
   "execution_count": 38,
   "id": "35e4449e-d487-4c49-a6f3-fa3d9a1a4d9a",
   "metadata": {},
   "outputs": [],
   "source": [
    "fig_st_indiv = plot_supertypes_separately(adata_brain3, new_cat_name,\n",
    "                                         n_subplot_cols=4,\n",
    "                                         color_palette=st_palette_dict_others_grey)"
   ]
  },
  {
   "cell_type": "markdown",
   "id": "9d4a3358-888f-4767-8a5b-acbec3037ef9",
   "metadata": {
    "tags": []
   },
   "source": [
    "## Subclass level"
   ]
  },
  {
   "cell_type": "code",
   "execution_count": 39,
   "id": "4f452bca-ce4e-473f-b2ab-5b8296700edc",
   "metadata": {},
   "outputs": [],
   "source": [
    "sbc_labels = sorted(list(set(adata_brain1.obs['subclass_id_label']) | set(adata_brain3.obs['subclass_id_label'])))\n",
    "n_sbc = len(sbc_labels)\n",
    "sbc_palette = sns.color_palette(cc.glasbey, n_colors=n_sbc)\n",
    "sbc_palette_dict = dict(zip(sbc_labels, sbc_palette))"
   ]
  },
  {
   "cell_type": "code",
   "execution_count": 40,
   "id": "0f3b5f11-2d88-47eb-ae93-232a95bb0f57",
   "metadata": {
    "tags": []
   },
   "outputs": [],
   "source": [
    "marker_size = 4\n",
    "# # brain1\n",
    "# plt.figure(figsize=(9,6))\n",
    "# sc = sns.scatterplot(data=adata_brain1.obs, x='cirro_x', y='cirro_y',\n",
    "#                      hue=adata_brain1.obs['subclass_id_label'], \n",
    "#                      palette=sbc_palette_dict, \n",
    "#                      alpha=1, s=marker_size, linewidth=0,\n",
    "#                      legend=True)\n",
    "\n",
    "# # formatting cleanup\n",
    "# plt.legend(loc='center left', bbox_to_anchor=(1,0.5), ncol=2)\n",
    "# plt.axis('equal')\n",
    "# plt.title('brain1 subclasses')\n",
    "# sc.set(xlabel=None, ylabel=None, xticklabels=[], yticklabels=[])\n",
    "# sc.tick_params(left=False, bottom=False)\n",
    "# sc.spines[['right', 'left','top','bottom']].set_visible(False)\n",
    "\n",
    "\n",
    "# brain3\n",
    "# cell counts\n",
    "subclass_rank_list = adata_brain3.obs['subclass_id_label'].value_counts().index.tolist()\n",
    "# order subclasses by count\n",
    "adata_brain3.obs['subclass_id_label'] = adata_brain3.obs['subclass_id_label'].cat.set_categories(subclass_rank_list)\n",
    "plt.figure(figsize=(9,6))\n",
    "\n",
    "sc = sns.scatterplot(data=adata_brain3.obs, x='cirro_x', y='cirro_y',\n",
    "                     hue=adata_brain3.obs['subclass_id_label'], \n",
    "                     palette=sbc_palette_dict, \n",
    "                     alpha=1, s=marker_size, linewidth=0,\n",
    "                     legend=True)\n",
    "\n",
    "# formatting cleanup\n",
    "plt.legend(loc='center left', bbox_to_anchor=(1,0.5), ncol=2)\n",
    "plt.axis('equal')\n",
    "plt.title('brain3 subclasses')\n",
    "sc.set(xlabel=None, ylabel=None, xticklabels=[], yticklabels=[])\n",
    "sc.tick_params(left=False, bottom=False)\n",
    "sc.spines[['right', 'left','top','bottom']].set_visible(False)"
   ]
  },
  {
   "cell_type": "code",
   "execution_count": null,
   "id": "d021c134-cbf4-4b1c-a9af-bd59d51e4949",
   "metadata": {},
   "outputs": [],
   "source": []
  }
 ],
 "metadata": {
  "kernelspec": {
   "display_name": "Python 3",
   "language": "python",
   "name": "python3"
  },
  "language_info": {
   "codemirror_mode": {
    "name": "ipython",
    "version": 3
   },
   "file_extension": ".py",
   "mimetype": "text/x-python",
   "name": "python",
   "nbconvert_exporter": "python",
   "pygments_lexer": "ipython3",
   "version": "3.9.12"
  }
 },
 "nbformat": 4,
 "nbformat_minor": 5
}
