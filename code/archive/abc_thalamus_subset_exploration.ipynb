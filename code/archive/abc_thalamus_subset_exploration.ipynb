{
 "cells": [
  {
   "cell_type": "code",
   "execution_count": 6,
   "id": "275265fb-32d8-4080-9e62-de14d94c065c",
   "metadata": {
    "tags": []
   },
   "outputs": [],
   "source": [
    "%load_ext autoreload\n",
    "%autoreload 2"
   ]
  },
  {
   "cell_type": "code",
   "execution_count": 7,
   "id": "c0daddad-faab-4554-9292-47d9fe805658",
   "metadata": {
    "tags": []
   },
   "outputs": [],
   "source": [
    "from pathlib import Path\n",
    "import json\n",
    "\n",
    "import numpy as np\n",
    "import pandas as pd\n",
    "import anndata as ad\n",
    "\n",
    "import matplotlib.pyplot as plt\n",
    "\n",
    "%matplotlib inline"
   ]
  },
  {
   "cell_type": "code",
   "execution_count": 5,
   "id": "df6f6e54-9134-4db8-a73b-eb29217f1524",
   "metadata": {
    "tags": []
   },
   "outputs": [],
   "source": [
    "a = ['x_reconstructed','y_reconstructed',\n",
    "                                        'z_reconstructed']\n",
    "len(a)"
   ]
  },
  {
   "cell_type": "code",
   "execution_count": 9,
   "id": "e9196362-53ab-4180-9eb0-194574920e62",
   "metadata": {
    "tags": []
   },
   "outputs": [],
   "source": [
    "ABC_ROOT = Path(\"/data/abc_atlas/\")"
   ]
  },
  {
   "cell_type": "code",
   "execution_count": 14,
   "id": "7480c29c-8de0-41f1-82e7-e992550d6656",
   "metadata": {
    "tags": []
   },
   "outputs": [],
   "source": [
    "ccf_df = pd.read_csv(\n",
    "            ABC_ROOT/\"metadata/Allen-CCF-2020/20230630/parcellation_to_parcellation_term_membership.csv\"\n",
    "            )\n",
    "ccf_df\n",
    "# [(ccf_df['parcellation_term_acronym']=='TH')\n",
    "       # |(ccf_df['parcellation_term_acronym']=='ZI')]"
   ]
  },
  {
   "cell_type": "code",
   "execution_count": 11,
   "id": "10712427-3b30-4be5-9257-6fed64e192aa",
   "metadata": {
    "tags": []
   },
   "outputs": [],
   "source": [
    "ccf_set_df = pd.read_csv(\n",
    "            ABC_ROOT/\"metadata/Allen-CCF-2020/20230630/parcellation_term_set_membership.csv\"\n",
    "            )\n",
    "ccf_set_df"
   ]
  },
  {
   "cell_type": "markdown",
   "id": "55d1f742-2b70-4fff-baed-96701412479a",
   "metadata": {},
   "source": [
    "# Load abc atlas metadata"
   ]
  },
  {
   "cell_type": "code",
   "execution_count": 2,
   "id": "d44d4998-2859-4408-a9ea-c60cc61a68f5",
   "metadata": {},
   "outputs": [],
   "source": [
    "abc_root = Path(\"/data/abc_atlas/\")\n",
    "brain_id = 'C57BL6J-638850'\n",
    "version = '20230830'"
   ]
  },
  {
   "cell_type": "code",
   "execution_count": 3,
   "id": "5fe988da-c686-40a2-93a4-31830a59d19b",
   "metadata": {},
   "outputs": [],
   "source": [
    "# load in the 'obs' cluster_annotations + parcellation_annotation metadata\n",
    "ccf_md_df = pd.read_csv(abc_root/f'metadata/MERFISH-{brain_id}-CCF/{version}/views/cell_metadata_with_parcellation_annotation.csv', \n",
    "                        dtype={'cell_label':str}, \n",
    "                        index_col=0)\n",
    "\n",
    "# flip y coords so the sections don't display upside down\n",
    "flip_y=True\n",
    "if flip_y:\n",
    "    ccf_md_df[['y_section', 'y_reconstructed']] *= -1"
   ]
  },
  {
   "cell_type": "markdown",
   "id": "c20abe30-2351-4f4f-990c-03b691c478c9",
   "metadata": {},
   "source": [
    "# Define an expansive spatial boundary of thalamus"
   ]
  },
  {
   "cell_type": "code",
   "execution_count": 118,
   "id": "7076e8f6-fabc-4587-a3ea-b8108b1b260b",
   "metadata": {},
   "outputs": [],
   "source": [
    "from shapely import Polygon, MultiPoint, LineString\n",
    "from shapely.plotting import plot_polygon, plot_line\n",
    "import shapely\n",
    "import ccf_polygons as cpoly\n",
    "\n",
    "from importlib import reload\n",
    "reload(cpoly);"
   ]
  },
  {
   "cell_type": "code",
   "execution_count": 119,
   "id": "dc392fd9-91da-4a78-ad92-9db421437e1f",
   "metadata": {},
   "outputs": [],
   "source": [
    "# find the sections that contain TH or ZI cells\n",
    "th_zi_sections = ccf_md_df[(ccf_md_df['parcellation_division']=='TH') \n",
    "                           | (ccf_md_df['parcellation_structure']=='ZI')\n",
    "                          ]['brain_section_label'].unique()\n",
    "th_zi_sections = sorted(list(th_zi_sections))\n",
    "# len(th_zi_sections)"
   ]
  },
  {
   "cell_type": "code",
   "execution_count": 129,
   "id": "54d0895d-ec9e-4972-8fab-4965fd0eddb7",
   "metadata": {},
   "outputs": [],
   "source": [
    "test_sec = th_zi_sections[6]\n",
    "th_zi_df = ccf_md_df[( (ccf_md_df['parcellation_division']=='TH') \n",
    "                       | (ccf_md_df['parcellation_structure']=='ZI'))\n",
    "                     & (ccf_md_df['brain_section_label']==test_sec)]\n",
    "\n",
    "test_poly = cpoly.get_polygon_from_obs(th_zi_df, strategy='midline',\n",
    "                                        x_field='x_section', y_field='y_section')\n",
    "test_poly"
   ]
  },
  {
   "cell_type": "code",
   "execution_count": 121,
   "id": "653ad7d8-8b10-4691-94ce-c4094e99371e",
   "metadata": {},
   "outputs": [],
   "source": [
    "test_poly\n",
    "\n",
    "plt.scatter(th_zi_df.x_section, th_zi_df.y_section, s=0.1, c='lightgrey')\n",
    "plt.gca().axis('equal')\n",
    "plot_polygon(test_poly, add_points=False, facecolor='none', color='b')\n",
    "plt.show()"
   ]
  },
  {
   "cell_type": "code",
   "execution_count": 130,
   "id": "ca503c6b-af9c-4a54-a91d-7a194841588f",
   "metadata": {},
   "outputs": [],
   "source": [
    "th_zi_convex_hull_dict = dict()\n",
    "th_zi_concave_hull_dict = dict()\n",
    "th_zi_concave_hull_hdbscan_dict = dict()\n",
    "th_zi_concave_hull_midline_dict = dict()\n",
    "th_zi_concave_hull_hdbscan_buffer_dict = dict()\n",
    "th_zi_concave_hull_midline_buffer_dict = dict()\n",
    "\n",
    "for i, sec in enumerate(th_zi_sections):\n",
    "    curr_sec_id = sec\n",
    "\n",
    "    th_zi_df = ccf_md_df[( (ccf_md_df['parcellation_division']=='TH') \n",
    "                           | (ccf_md_df['parcellation_structure']=='ZI'))\n",
    "                         & (ccf_md_df['brain_section_label']==curr_sec_id)].copy()\n",
    "    if th_zi_df.empty:\n",
    "        continue\n",
    "\n",
    "    # make a shapely multipoint object\n",
    "    th_zi_coords = list(zip(th_zi_df.x_section, th_zi_df.y_section))\n",
    "    th_zi_multipoint = MultiPoint(th_zi_coords)\n",
    "    # th_zi_multipoint.bounds\n",
    "\n",
    "    # set buffer distance\n",
    "    buffer_dist = 0.1\n",
    "\n",
    "    # calculate convex hull\n",
    "    th_zi_convex_hull = th_zi_multipoint.convex_hull\n",
    "    # use buffer to expand convex hull outline a bit\n",
    "    th_zi_convex_hull_buffer = shapely.buffer(th_zi_convex_hull, buffer_dist)\n",
    "    # store\n",
    "    th_zi_convex_hull_dict[curr_sec_id] = th_zi_convex_hull_buffer\n",
    "\n",
    "    # calculate concave hull\n",
    "    # standard on all cells\n",
    "    th_zi_concave_hull = shapely.concave_hull(th_zi_multipoint)\n",
    "    # use buffer to expand to something that's more like an outline\n",
    "    th_zi_concave_hull_buffer = shapely.buffer(th_zi_concave_hull, buffer_dist)\n",
    "    # remove interior holes by making a new Polygon out of the exterior coords\n",
    "    th_zi_concave_hull_buffer = Polygon(th_zi_concave_hull_buffer.exterior.coords)\n",
    "    # store\n",
    "    th_zi_concave_hull_dict[curr_sec_id] = th_zi_concave_hull_buffer\n",
    "    \n",
    "    # attempt to split cells across the midline before doing concave hull\n",
    "    # using hdbscan method\n",
    "    th_zi_concave_hull_hdbscan = cpoly.get_polygon_from_obs(th_zi_df, \n",
    "                                                            strategy='hdbscan',\n",
    "                                                            x_field='x_section', \n",
    "                                                            y_field='y_section')\n",
    "    th_zi_concave_hull_hdbscan_dict[curr_sec_id] = th_zi_concave_hull_hdbscan\n",
    "     # use buffer to expand to something that's more like an outline\n",
    "    th_zi_concave_hull_hdbscan_buffer = shapely.buffer(th_zi_concave_hull_hdbscan, buffer_dist)\n",
    "    # remove interior holes by making a new Polygon out of the exterior coords\n",
    "    if th_zi_concave_hull_hdbscan_buffer.geom_type == 'Polygon':\n",
    "        th_zi_concave_hull_hdbscan_buffer = Polygon(th_zi_concave_hull_hdbscan_buffer.exterior.coords)\n",
    "    # store\n",
    "    th_zi_concave_hull_hdbscan_buffer_dict[curr_sec_id] = th_zi_concave_hull_hdbscan_buffer\n",
    "    \n",
    "    # using midline method\n",
    "    th_zi_concave_hull_midline = cpoly.get_polygon_from_obs(th_zi_df, \n",
    "                                                            strategy='midline',\n",
    "                                                            x_field='x_section', \n",
    "                                                            y_field='y_section')\n",
    "    th_zi_concave_hull_midline_dict[curr_sec_id] = th_zi_concave_hull_midline\n",
    "     # use buffer to expand to something that's more like an outline\n",
    "    th_zi_concave_hull_midline_buffer = shapely.buffer(th_zi_concave_hull_midline, buffer_dist)\n",
    "    # remove interior holes by making a new Polygon out of the exterior coords\n",
    "    if th_zi_concave_hull_midline_buffer.geom_type == 'Polygon':\n",
    "        th_zi_concave_hull_midline_buffer = Polygon(th_zi_concave_hull_midline_buffer.exterior.coords)\n",
    "    # store\n",
    "    th_zi_concave_hull_midline_buffer_dict[curr_sec_id] = th_zi_concave_hull_midline_buffer"
   ]
  },
  {
   "cell_type": "code",
   "execution_count": 131,
   "id": "bdee8ea9-1f83-4f26-851f-153a6f0b8273",
   "metadata": {},
   "outputs": [],
   "source": [
    "th_zi_concave_hull_dict"
   ]
  },
  {
   "cell_type": "code",
   "execution_count": 136,
   "id": "0708e888-4755-4a3b-b092-1444e35bff1a",
   "metadata": {},
   "outputs": [],
   "source": [
    "n_col = 3\n",
    "n_row = int(np.ceil(len(th_zi_sections) / n_col))\n",
    "fig, axes = plt.subplots(n_row, n_col, figsize=(16,16))\n",
    "axes = axes.ravel()\n",
    "\n",
    "x_min = 2.5\n",
    "x_max = 8.5\n",
    "y_min = -7.5\n",
    "y_max = -3.5\n",
    "\n",
    "for i, sec in enumerate(th_zi_sections):\n",
    "    ax = axes[i]\n",
    "    \n",
    "    curr_sec_df = ccf_md_df[( (ccf_md_df['parcellation_division']=='TH') \n",
    "                              | (ccf_md_df['parcellation_structure']=='ZI'))\n",
    "                            & (ccf_md_df['brain_section_label']==sec)\n",
    "                            & (ccf_md_df['x_section']>x_min)\n",
    "                            & (ccf_md_df['x_section']<x_max)\n",
    "                            & (ccf_md_df['y_section']>y_min)\n",
    "                            & (ccf_md_df['y_section']<y_max)]\n",
    "    \n",
    "    ax.scatter(curr_sec_df.x_section, curr_sec_df.y_section, s=0.1, c='lightgrey')\n",
    "    ax.axis('equal')\n",
    "    ax.axis('off')\n",
    "    ax.set_xlim((2,9))\n",
    "    ax.set_ylim((-8,-3))\n",
    "    ax.set_xticks([])\n",
    "    ax.set_yticks([])\n",
    "    # plot_polygon(th_zi_concave_hull_dict[sec], ax=ax, \n",
    "    #              add_points=False, facecolor='none', color='k', label='concave hull w/ buffer')\n",
    "    plot_polygon(th_zi_concave_hull_midline_dict[sec], ax=ax, \n",
    "                 add_points=False, facecolor='none', color='magenta', label='concave hull w/ midline split')\n",
    "    plot_polygon(th_zi_concave_hull_midline_buffer_dict[sec], ax=ax, \n",
    "                 add_points=False, facecolor='none', color='r', label='concave hull w/ midline split & buffer')\n",
    "    plot_polygon(th_zi_concave_hull_hdbscan_dict[sec], ax=ax, \n",
    "                 add_points=False, facecolor='none', color='deepskyblue', label='concave hull w/ hdbscan split')\n",
    "    plot_polygon(th_zi_concave_hull_hdbscan_buffer_dict[sec], ax=ax, \n",
    "                 add_points=False, facecolor='none', color='b', label='concave hull w/ hdbscan split, exterior only, & buffer')\n",
    "    if i==0:\n",
    "        ax.legend(loc='lower left', bbox_to_anchor=(0.1,1.1))"
   ]
  },
  {
   "cell_type": "code",
   "execution_count": 137,
   "id": "715caa25-1d6d-405c-a2a2-12e304dbd571",
   "metadata": {},
   "outputs": [],
   "source": [
    "n_col = 3\n",
    "n_row = int(np.ceil(len(th_zi_sections) / n_col))\n",
    "fig, axes = plt.subplots(n_row, n_col, figsize=(18,24))\n",
    "axes = axes.ravel()\n",
    "\n",
    "x_min = 2.5\n",
    "x_max = 8.5\n",
    "y_min = -7.5\n",
    "y_max = -3.5\n",
    "\n",
    "for i, sec in enumerate(th_zi_sections):\n",
    "    ax = axes[i]\n",
    "    \n",
    "    curr_sec_df = ccf_md_df[(ccf_md_df['brain_section_label']==sec)\n",
    "                            & (ccf_md_df['x_section']>x_min)\n",
    "                            & (ccf_md_df['x_section']<x_max)\n",
    "                            & (ccf_md_df['y_section']>y_min)\n",
    "                            & (ccf_md_df['y_section']<y_max)]\n",
    "\n",
    "    ax.scatter(curr_sec_df['x_section'], curr_sec_df['y_section'],\n",
    "                color=curr_sec_df['parcellation_substructure_color'],\n",
    "                s=0.5, marker='.', zorder=1)\n",
    "    \n",
    "    ax.set_xlim((x_min,x_max))\n",
    "    ax.set_ylim((y_min,y_max))\n",
    "    ax.axis('equal')\n",
    "    ax.axis('off')\n",
    "    ax.set_xticks([])\n",
    "    ax.set_yticks([])\n",
    "    \n",
    "    plot_polygon(th_zi_concave_hull_midline_buffer_dict[sec], ax=ax, \n",
    "                 add_points=False, facecolor='none', color='k', \n",
    "                 label='concave hull w/ midline split & buffer added')\n",
    "    if i==0:\n",
    "        ax.legend(loc='lower left', bbox_to_anchor=(0.1,1.1)) "
   ]
  },
  {
   "cell_type": "code",
   "execution_count": 2,
   "id": "e1bde37c-206f-4e92-a538-08c6736baa4a",
   "metadata": {
    "tags": []
   },
   "outputs": [],
   "source": [
    "n_col = 3\n",
    "n_row = int(np.ceil(len(th_zi_sections) / n_col))\n",
    "fig, axes = plt.subplots(n_row, n_col, figsize=(18,24))\n",
    "axes = axes.ravel()\n",
    "\n",
    "x_min = 2.5\n",
    "x_max = 8.5\n",
    "y_min = -7.5\n",
    "y_max = -3.5\n",
    "\n",
    "for i, sec in enumerate(th_zi_sections):\n",
    "    ax = axes[i]\n",
    "    \n",
    "    curr_sec_df = ccf_md_df[(ccf_md_df['brain_section_label']==sec)\n",
    "                            & (~ccf_md_df['neurotransmitter'].isna())\n",
    "                            & (ccf_md_df['x_section']>x_min)\n",
    "                            & (ccf_md_df['x_section']<x_max)\n",
    "                            & (ccf_md_df['y_section']>y_min)\n",
    "                            & (ccf_md_df['y_section']<y_max)]\n",
    "\n",
    "    ax.scatter(curr_sec_df['x_section'], curr_sec_df['y_section'],\n",
    "                color=curr_sec_df['class_color'],\n",
    "                s=0.5, marker='.', zorder=1)\n",
    "    \n",
    "    ax.set_xlim((x_min,x_max))\n",
    "    ax.set_ylim((y_min,y_max))\n",
    "    ax.axis('equal')\n",
    "    ax.axis('off')\n",
    "    ax.set_xticks([])\n",
    "    ax.set_yticks([])\n",
    "    \n",
    "    plot_polygon(th_zi_concave_hull_midline_buffer_dict[sec], ax=ax, lw=2,\n",
    "                 add_points=False, facecolor='none', color='k',\n",
    "                 label='concave hull w/ midline split & buffer added')\n",
    "    if i==0:\n",
    "        ax.legend(loc='lower left', bbox_to_anchor=(0.1,1.1))"
   ]
  },
  {
   "cell_type": "code",
   "execution_count": null,
   "id": "6bb59ea4-d2cb-4486-bdc5-e5f335f86176",
   "metadata": {},
   "outputs": [],
   "source": []
  }
 ],
 "metadata": {
  "kernelspec": {
   "display_name": "Python 3 (ipykernel)",
   "language": "python",
   "name": "python3"
  },
  "language_info": {
   "codemirror_mode": {
    "name": "ipython",
    "version": 3
   },
   "file_extension": ".py",
   "mimetype": "text/x-python",
   "name": "python",
   "nbconvert_exporter": "python",
   "pygments_lexer": "ipython3",
   "version": "3.9.12"
  }
 },
 "nbformat": 4,
 "nbformat_minor": 5
}
