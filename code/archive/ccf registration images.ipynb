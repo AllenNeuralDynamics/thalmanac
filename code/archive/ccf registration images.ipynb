{
 "cells": [
  {
   "cell_type": "code",
   "execution_count": 1,
   "id": "6e78f848-c6fc-4951-a096-f34b90690ac6",
   "metadata": {
    "tags": []
   },
   "outputs": [],
   "source": [
    "%load_ext autoreload\n",
    "%autoreload 2"
   ]
  },
  {
   "cell_type": "code",
   "execution_count": 1,
   "id": "1c316b8e-5ecd-4b08-b025-cceda53d1d39",
   "metadata": {
    "tags": []
   },
   "outputs": [],
   "source": [
    "import numpy as np\n",
    "import matplotlib.pyplot as plt\n",
    "\n",
    "%matplotlib inline"
   ]
  },
  {
   "cell_type": "code",
   "execution_count": 2,
   "id": "86146897",
   "metadata": {},
   "outputs": [],
   "source": [
    "from anndata import read_h5ad\n",
    "from thalamus_merfish_analysis import abc_load\n",
    "from thalamus_merfish_analysis import ccf_registration as ccf\n",
    "\n"
   ]
  },
  {
   "cell_type": "code",
   "execution_count": 3,
   "id": "6504d104",
   "metadata": {},
   "outputs": [],
   "source": [
    "df_full = abc_load.get_combined_metadata(version=\"20230830\")\n"
   ]
  },
  {
   "cell_type": "code",
   "execution_count": 5,
   "id": "39ff84ed",
   "metadata": {},
   "outputs": [],
   "source": [
    "df_neuronal = df_full.loc[lambda df: df['class'].str.contains('Glut') | \n",
    "                df['class'].str.contains('GABA')]\n",
    "adata_ref = read_h5ad(abc_load._THALAMUS_ANNDATA_PATH, backed='r')\n",
    "ref_index = adata_ref.obs_names.intersection(df_neuronal.index)"
   ]
  },
  {
   "cell_type": "code",
   "execution_count": 9,
   "id": "ee21c281",
   "metadata": {},
   "outputs": [],
   "source": [
    "th_frac = df_neuronal.groupby('subclass', observed=True).apply(lambda x: len(x.index.intersection(ref_index))/len(x))\n",
    "\n",
    "th_frac2 = df_neuronal.groupby('subclass', observed=True).apply(lambda x: ((x['parcellation_division'] == 'TH') |\n",
    "                                                 (x['parcellation_structure'] == 'ZI')).sum() / len(x))"
   ]
  },
  {
   "cell_type": "code",
   "execution_count": 10,
   "id": "833da4c3",
   "metadata": {},
   "outputs": [],
   "source": [
    "th_frac.sort_values(ascending=False).head(20)"
   ]
  },
  {
   "cell_type": "code",
   "execution_count": 11,
   "id": "df129d67",
   "metadata": {},
   "outputs": [],
   "source": [
    "th_subclasses = th_frac.loc[lambda x: x>0.33].index\n",
    "th_subclasses2 = th_frac2.loc[lambda x: x>0.33].index\n",
    "th_subclasses.equals(th_subclasses2)"
   ]
  },
  {
   "cell_type": "code",
   "execution_count": 12,
   "id": "d3a052f2",
   "metadata": {},
   "outputs": [],
   "source": [
    "th_subclasses"
   ]
  },
  {
   "cell_type": "markdown",
   "id": "365d295a",
   "metadata": {},
   "source": [
    "## Validation"
   ]
  },
  {
   "cell_type": "code",
   "execution_count": 4,
   "id": "b2571d65",
   "metadata": {},
   "outputs": [],
   "source": [
    "coords_ccf = ['x_ccf', 'y_ccf', 'z_ccf']\n",
    "coords_rec = ['x_reconstructed', 'y_reconstructed', 'z_reconstructed']\n",
    "coords_sec = ['x_section', 'y_section', 'z_section']\n"
   ]
  },
  {
   "cell_type": "code",
   "execution_count": null,
   "id": "0b449a54",
   "metadata": {},
   "outputs": [],
   "source": [
    "\n",
    "common_index = df_full.index.intersection(df_new.index)\n",
    "(df_full.loc[common_index, coords_ccf+coords_from+img_coords] == \n",
    " df_new.loc[common_index, coords_ccf+coords_from+img_coords]).all()\n"
   ]
  },
  {
   "cell_type": "code",
   "execution_count": 27,
   "id": "b2571d65",
   "metadata": {},
   "outputs": [],
   "source": [
    "(df_full.loc[common_index, img_coords] != \n",
    " df_new.loc[common_index, img_coords]).any(axis=1).mean()"
   ]
  },
  {
   "cell_type": "code",
   "execution_count": 31,
   "id": "b2571d65",
   "metadata": {},
   "outputs": [],
   "source": [
    "((df_full.loc[common_index, img_coords] - \n",
    " df_new.loc[common_index, img_coords]).round(3) > 0).any(axis=1).mean()"
   ]
  },
  {
   "cell_type": "code",
   "execution_count": 38,
   "id": "abbe2ee9",
   "metadata": {},
   "outputs": [],
   "source": [
    "t1 = ccf.calculate_affine_transform(df_full, coords_from, coords_ccf)\n",
    "t2 = ccf.calculate_affine_transform(df_full, coords_from, coords_ccf)\n",
    "np.abs(t1-t2)"
   ]
  },
  {
   "cell_type": "code",
   "execution_count": 86,
   "id": "f1e12dd5",
   "metadata": {},
   "outputs": [],
   "source": [
    "from importlib import reload\n",
    "reload(ccf)"
   ]
  },
  {
   "cell_type": "code",
   "execution_count": 49,
   "id": "98770a0a",
   "metadata": {},
   "outputs": [],
   "source": [
    "from sklearn import linear_model\n",
    "from sklearn.metrics import mean_squared_error, r2_score\n",
    "import scipy.linalg as linalg\n"
   ]
  },
  {
   "cell_type": "code",
   "execution_count": 79,
   "id": "f9c007dd",
   "metadata": {},
   "outputs": [],
   "source": [
    "\n",
    "df = df_full\n",
    "coords_to = coords_ccf\n",
    "coords_from = coords_rec\n",
    "samples = np.random.randint(0, len(df), 200)\n",
    "to = ccf.to_hom(df[coords_to].iloc[samples].values)\n",
    "x, res, rank, s = linalg.lstsq(ccf.to_hom(df[coords_from].iloc[samples].values), \n",
    "             to)\n",
    "    "
   ]
  },
  {
   "cell_type": "code",
   "execution_count": 80,
   "id": "ba04dd61",
   "metadata": {},
   "outputs": [],
   "source": [
    "res / (len(to)*np.var(to, axis=0))"
   ]
  },
  {
   "cell_type": "markdown",
   "id": "e97f2d9b-bfcb-4b0c-b82d-660dbce4e217",
   "metadata": {
    "jp-MarkdownHeadingCollapsed": true,
    "tags": []
   },
   "source": [
    "## CCF images\n",
    "\n",
    "trying to get higher resolution for quicknii"
   ]
  },
  {
   "cell_type": "markdown",
   "id": "9fdab516",
   "metadata": {},
   "source": [
    "### old atlas nrrd to nifti"
   ]
  },
  {
   "cell_type": "code",
   "execution_count": 8,
   "id": "be4a49e9",
   "metadata": {},
   "outputs": [],
   "source": [
    "import nibabel as nib\n",
    "import nrrd"
   ]
  },
  {
   "cell_type": "code",
   "execution_count": 9,
   "id": "6663b2d3",
   "metadata": {},
   "outputs": [],
   "source": [
    "\n",
    "# from http://download.alleninstitute.org/informatics-archive/current-release/mouse_ccf/annotation/ccf_2017/\n",
    "\n",
    "# Get a list of .nrrd files in a directory\n",
    "nrrd_file = '../data/annotation_10.nrrd'\n",
    "# Read the .nrrd file\n",
    "data, header = nrrd.read(nrrd_file)\n"
   ]
  },
  {
   "cell_type": "code",
   "execution_count": 10,
   "id": "56d295f8",
   "metadata": {},
   "outputs": [],
   "source": [
    "data.dtype"
   ]
  },
  {
   "cell_type": "code",
   "execution_count": 12,
   "id": "9707bc66",
   "metadata": {},
   "outputs": [],
   "source": [
    "data2 = np.moveaxis(np.flip(np.flip(data, 0), 1), range(3), (1, 2, 0))"
   ]
  },
  {
   "cell_type": "code",
   "execution_count": 17,
   "id": "5e51b4d9",
   "metadata": {},
   "outputs": [],
   "source": [
    "data2 = np.array(data2, dtype=np.dtype('<u4'))\n",
    "data2.dtype"
   ]
  },
  {
   "cell_type": "code",
   "execution_count": 14,
   "id": "3bbd34c5",
   "metadata": {},
   "outputs": [],
   "source": [
    "np.array([456., 528., 320.])*2.5"
   ]
  },
  {
   "cell_type": "code",
   "execution_count": 47,
   "id": "729079a6",
   "metadata": {},
   "outputs": [],
   "source": [
    "np.array(data2.shape)/2.5"
   ]
  },
  {
   "cell_type": "code",
   "execution_count": null,
   "id": "022c492a",
   "metadata": {},
   "outputs": [],
   "source": [
    "nifti_img.g"
   ]
  },
  {
   "cell_type": "code",
   "execution_count": 39,
   "id": "e793862f",
   "metadata": {},
   "outputs": [],
   "source": [
    "nifti_img = nib.Nifti1Image(data2, affine=np.eye(4))\n"
   ]
  },
  {
   "cell_type": "code",
   "execution_count": 42,
   "id": "95cca843",
   "metadata": {},
   "outputs": [],
   "source": [
    "# Save the NIfTI1Image object as .nii file\n",
    "nib.save(nifti_img, '../data/labels.nii.gz')"
   ]
  },
  {
   "cell_type": "code",
   "execution_count": 19,
   "id": "517d8581-f883-44b6-b47b-0a973c852756",
   "metadata": {
    "tags": []
   },
   "outputs": [],
   "source": [
    "im_path = \"/data/labels.nii.gz\"\n",
    "img = nib.load(im_path)"
   ]
  },
  {
   "cell_type": "code",
   "execution_count": 44,
   "id": "22f98a95",
   "metadata": {},
   "outputs": [],
   "source": [
    "print(nifti_img.header)"
   ]
  },
  {
   "cell_type": "code",
   "execution_count": null,
   "id": "22f98a95",
   "metadata": {},
   "outputs": [],
   "source": [
    "print(img.header)"
   ]
  },
  {
   "cell_type": "code",
   "execution_count": 27,
   "id": "3db85017",
   "metadata": {},
   "outputs": [],
   "source": [
    "img.shape"
   ]
  },
  {
   "cell_type": "code",
   "execution_count": 36,
   "id": "ef39c211",
   "metadata": {},
   "outputs": [],
   "source": [
    "img.affine"
   ]
  },
  {
   "cell_type": "code",
   "execution_count": 28,
   "id": "a4cf781a",
   "metadata": {},
   "outputs": [],
   "source": [
    "img.header.get_zooms()"
   ]
  },
  {
   "cell_type": "code",
   "execution_count": 22,
   "id": "5412cb0b",
   "metadata": {},
   "outputs": [],
   "source": [
    "img.get_data_dtype()"
   ]
  },
  {
   "cell_type": "markdown",
   "id": "c4ca06fa",
   "metadata": {},
   "source": [
    "### Nibabel nii load from atlas"
   ]
  },
  {
   "cell_type": "code",
   "execution_count": 11,
   "id": "517d8581-f883-44b6-b47b-0a973c852756",
   "metadata": {
    "tags": []
   },
   "outputs": [],
   "source": [
    "im_path = \"/data/abc_atlas/image_volumes/Allen-CCF-2020/20230630/annotation_10.nii.gz\"\n",
    "img = nib.load(im_path)"
   ]
  },
  {
   "cell_type": "code",
   "execution_count": 13,
   "id": "8b37359f-5ce1-4129-b190-d85ca8b934ce",
   "metadata": {
    "tags": []
   },
   "outputs": [],
   "source": [
    "img.shape"
   ]
  },
  {
   "cell_type": "code",
   "execution_count": 14,
   "id": "c7cff6e4-7c01-4cac-96bd-6ec286536ca0",
   "metadata": {
    "tags": []
   },
   "outputs": [],
   "source": [
    "img.affine"
   ]
  },
  {
   "cell_type": "code",
   "execution_count": 15,
   "id": "510d0991-39d6-4591-8759-9d393d308571",
   "metadata": {
    "tags": []
   },
   "outputs": [],
   "source": [
    "img.header.get_xyzt_units()"
   ]
  },
  {
   "cell_type": "markdown",
   "id": "2a49dd7a",
   "metadata": {},
   "source": [
    "### save new IDs / colors csv"
   ]
  },
  {
   "cell_type": "code",
   "execution_count": 1,
   "id": "aeb97f05",
   "metadata": {},
   "outputs": [],
   "source": [
    "import pandas as pd"
   ]
  },
  {
   "cell_type": "code",
   "execution_count": 7,
   "id": "6a1ecb2a",
   "metadata": {},
   "outputs": [],
   "source": [
    "parcellation = pd.read_csv(\"../data/allen-brain-cell-atlas/metadata/Allen-CCF-2020/20230630/parcellation_to_parcellation_term_membership.csv\")"
   ]
  },
  {
   "cell_type": "code",
   "execution_count": null,
   "id": "f5c7b7cf",
   "metadata": {},
   "outputs": [],
   "source": [
    "cols = ['red','green','blue', 'parcellation_term_name']\n",
    "old_atlas = lambda df: df.loc[df['parcellation_term_label'].str.contains('2017')]\n",
    "pick_finest = lambda df: df.loc[df['term_set_order'] == df['term_set_order'].max()]\n",
    "parcellation_finest = parcellation.groupby('parcellation_index').apply(pick_finest)"
   ]
  },
  {
   "cell_type": "code",
   "execution_count": null,
   "id": "5af6a54c",
   "metadata": {},
   "outputs": [],
   "source": [
    "parcellation_finest = parcellation.groupby('parcellation_index').apply(pick_finest)\n"
   ]
  },
  {
   "cell_type": "code",
   "execution_count": 26,
   "id": "a4f1231d",
   "metadata": {},
   "outputs": [],
   "source": [
    "parcellation.head()"
   ]
  },
  {
   "cell_type": "markdown",
   "id": "73d99724-c191-4479-ad8b-71610a13b279",
   "metadata": {},
   "source": [
    "## making subclass images"
   ]
  },
  {
   "cell_type": "code",
   "execution_count": 45,
   "id": "8fdf55c4",
   "metadata": {},
   "outputs": [],
   "source": [
    "\n",
    "def preproc_data(df, nn_classes, img_coords, ref_spatial, ref_subset=None):\n",
    "    # df = df_full.loc[lambda df: df[img_coords[0]].notna()]\n",
    "    if ref_subset is None:\n",
    "        ref_subset = ref_spatial\n",
    "    df = ccf.subset_to_ref_bounds(df, img_coords, ref_spatial)\n",
    "    ref_subset = df.index.intersection(ref_subset)\n",
    "    \n",
    "    slice_label = 'slice_int'\n",
    "    df[slice_label] = df['z_section'].apply(lambda x: str(int(x*10)))\n",
    "\n",
    "    working_label = \"thal_class\"\n",
    "    img_label = 'subclass_int'\n",
    "    df[working_label] = df[\"class\"]\n",
    "    df.loc[ref_subset, working_label] = df.loc[ref_subset, \"subclass\"]\n",
    "\n",
    "    all_labels = df[working_label].unique()\n",
    "    focus_labels = df.loc[ref_subset, working_label].value_counts().index\n",
    "    other_labels = df.loc[df.index.difference(ref_subset)].loc[\n",
    "        lambda df: ~df['class'].isin(nn_classes), working_label].value_counts().index\n",
    "\n",
    "    label_order = [\"\"] + list(focus_labels) + nn_classes + list(other_labels)\n",
    "    label_map = {x: label_order.index(x) for x in all_labels}\n",
    "    df[img_label] = df[working_label].map(label_map)\n",
    "    cmap = ccf.cmap_with_emphasis(len(focus_labels), n_secondary=len(nn_classes))\n",
    "    return df, cmap"
   ]
  },
  {
   "cell_type": "code",
   "execution_count": 30,
   "id": "760df4d0",
   "metadata": {},
   "outputs": [],
   "source": [
    "slice_label = 'slice_int'\n",
    "\n",
    "working_label = \"thal_class\"\n",
    "img_label = 'subclass_int'\n",
    "\n",
    "img_coords = ['x_section', 'y_section', 'z_section']\n",
    "coords_from = ['x_reconstructed', 'y_reconstructed', 'z_reconstructed']"
   ]
  },
  {
   "cell_type": "code",
   "execution_count": 112,
   "id": "c6b83a22",
   "metadata": {},
   "outputs": [],
   "source": [
    "nn_classes = [\"31 OPC-Oligo\",\n",
    "              \"30 Astro-Epen\",\n",
    "              \"33 Vascular\",\n",
    "              \"34 Immune\"]\n",
    "df, cmap = preproc_data(df_full, nn_classes, img_coords, ref_index)\n",
    "out = ccf.export_to_quicknii(df, 'brain3_20220830', cmap=cmap,\n",
    "                       img_coords=img_coords, coords_from=coords_from,\n",
    "                       img_label=img_label, slice_label=slice_label, scale=25,\n",
    "                   path='../results/qn_25_affine_thal_focus_20220630', \n",
    "                   save_json=True, save_images=False)"
   ]
  },
  {
   "cell_type": "code",
   "execution_count": 39,
   "id": "c6b83a22",
   "metadata": {},
   "outputs": [],
   "source": [
    "nn_classes = [\"31 OPC-Oligo\",\n",
    "              \"30 Astro-Epen\",\n",
    "              \"33 Vascular\",\n",
    "              \"34 Immune\"]\n",
    "ref_subclasses = df_neuronal.loc[lambda df: df['subclass'].isin(th_subclasses)].index\n",
    "df, cmap = preproc_data(df_full, nn_classes, img_coords, ref_index, ref_subclasses)\n"
   ]
  },
  {
   "cell_type": "code",
   "execution_count": null,
   "id": "7c117b0d",
   "metadata": {},
   "outputs": [],
   "source": [
    "\n",
    "out = ccf.export_to_quicknii(df, 'brain3_20220830', cmap=cmap,\n",
    "                       img_coords=img_coords, coords_from=coords_from,\n",
    "                       img_label=img_label, slice_label=slice_label, scale=25,\n",
    "                   path='../results/qn_25_affine_thal_subclasses_20220630', \n",
    "                   save_json=True, save_images=True)"
   ]
  },
  {
   "cell_type": "code",
   "execution_count": 113,
   "id": "c6b83a22",
   "metadata": {},
   "outputs": [],
   "source": [
    "# old\n",
    "nn_classes = [\n",
    "    \"28 Astro-Epen\",\n",
    "    \"29 Oligo\",\n",
    "    \"31 Vascular\",\n",
    "    \"32 Immune\"\n",
    "]\n",
    "df, cmap = preproc_data(df_full, nn_classes, img_coords, ref_index)\n",
    "out = ccf.export_to_quicknii(df, 'brain3_20220630_2', cmap=cmap,\n",
    "                       img_coords=img_coords, coords_from=coords_from,\n",
    "                       img_label=img_label, slice_label=slice_label, scale=25,\n",
    "                   path='../results/qn_25_affine_thal_focus_20220630', \n",
    "                   save_json=True, save_images=False)"
   ]
  },
  {
   "cell_type": "code",
   "execution_count": 41,
   "id": "7bd5c2ad",
   "metadata": {},
   "outputs": [],
   "source": [
    "coords_from = ['x_reconstructed', 'y_reconstructed', 'z_reconstructed']\n",
    "img_coords = ['x_section', 'y_section', 'z_section']\n",
    "ccf.export_to_quicknii(df, 'brain3_20220630', cmap=cmap,\n",
    "                       img_coords=img_coords, coords_from=coords_from,\n",
    "                       img_label=img_label, slice_label=slice_label, scale=25,\n",
    "                   path='../results/qn_25_affine_thal_focus_20220630', save_images=True);"
   ]
  },
  {
   "cell_type": "code",
   "execution_count": null,
   "id": "7bd5c2ad",
   "metadata": {},
   "outputs": [],
   "source": [
    "coords_from = ['x_reconstructed', 'y_reconstructed', 'z_reconstructed']\n",
    "img_coords = ['x_section', 'y_section', 'z_section']\n",
    "ccf.export_to_quicknii(df, 'brain3', cmap=cmap,\n",
    "                       img_coords=img_coords, coords_from=coords_from,\n",
    "                       img_label=img_label, slice_label=slice_label, scale=25,\n",
    "                   path='../results/qn_25_affine_thal_focus', save_images=True);"
   ]
  },
  {
   "cell_type": "code",
   "execution_count": 10,
   "id": "7bd5c2ad",
   "metadata": {},
   "outputs": [],
   "source": [
    "nn_classes = [\"31 OPC-Oligo\",\n",
    "              \"30 Astro-Epen\",\n",
    "              \"33 Vascular\",\n",
    "              \"34 Immune\"]\n",
    "df, cmap = preproc_data(df_full, nn_classes, img_coords, ref_index)\n",
    "img_coords = ['x_reconstructed', 'y_reconstructed', 'z_reconstructed']\n",
    "ccf.export_to_quicknii(df, 'brain3_subclass', cmap=cmap, img_coords=img_coords, img_label=img_label, slice_label=slice_label, scale=25,\n",
    "                   path='../results/qn_25_reconstructed', save_images=True);"
   ]
  },
  {
   "cell_type": "code",
   "execution_count": 8,
   "id": "74544e00-987d-44e6-aa46-34d91400f64c",
   "metadata": {
    "tags": []
   },
   "outputs": [],
   "source": [
    "img_coords = ['x_reconstructed', 'y_reconstructed', 'z_reconstructed']\n",
    "df[img_coords].agg(['min','max'])"
   ]
  },
  {
   "cell_type": "code",
   "execution_count": null,
   "id": "74544e00-987d-44e6-aa46-34d91400f64c",
   "metadata": {
    "tags": []
   },
   "outputs": [],
   "source": [
    "df[img_coords].agg(['min','max'])"
   ]
  },
  {
   "cell_type": "code",
   "execution_count": 9,
   "id": "74544e00-987d-44e6-aa46-34d91400f64c",
   "metadata": {
    "tags": []
   },
   "outputs": [],
   "source": [
    "df[['x_ccf', 'y_ccf', 'z_ccf']].agg(['min','max'])"
   ]
  },
  {
   "cell_type": "code",
   "execution_count": null,
   "id": "74544e00-987d-44e6-aa46-34d91400f64c",
   "metadata": {
    "tags": []
   },
   "outputs": [],
   "source": [
    "df[['x_ccf', 'y_ccf', 'z_ccf']].agg(['min','max'])"
   ]
  },
  {
   "cell_type": "code",
   "execution_count": 14,
   "id": "8a44b6f7",
   "metadata": {},
   "outputs": [],
   "source": [
    "img_coords = ['x_reconstructed', 'y_reconstructed', 'z_reconstructed']\n",
    "dfslice = df.query(\"brain_section_label=='C57BL6J-638850.43'\").copy()"
   ]
  },
  {
   "cell_type": "code",
   "execution_count": 39,
   "id": "2b92ca31-8034-43f9-b51c-26b5fed8c753",
   "metadata": {
    "tags": []
   },
   "outputs": [],
   "source": [
    "dfimg, coords_scaled, coords_int = ccf.add_rescaled_coords(dfslice, img_coords[:2], xy_res=0.0025,\n",
    "                                                    ref_subset=ref_index.intersection(dfslice.index))\n"
   ]
  },
  {
   "cell_type": "code",
   "execution_count": 37,
   "id": "94f7547b",
   "metadata": {},
   "outputs": [],
   "source": [
    "nx, ny = dfimg[coords_int].max() + 1\n",
    "(nx, ny)"
   ]
  },
  {
   "cell_type": "code",
   "execution_count": 40,
   "id": "d8a8a945-969a-461c-8fb1-8ccabaaa219b",
   "metadata": {
    "tags": []
   },
   "outputs": [],
   "source": [
    "img = ccf.rasterize_by_dilation(dfimg, coords_int, label=img_label, shape=(ny, nx))\n",
    "\n",
    "plt.imshow(img, cmap=ccf.CMAP, interpolation='nearest')\n",
    "# plt.imsave(\"test.tiff\", img.T, cmap=cmap)\n",
    "plt.show()"
   ]
  },
  {
   "cell_type": "code",
   "execution_count": 21,
   "id": "989cdc8c-a52a-4250-857e-17866faad337",
   "metadata": {
    "tags": []
   },
   "outputs": [],
   "source": [
    "df = adata.obs\n",
    "# add_rescaled_coords(df, xy_res=0.0025)\n",
    "x, y, z = ('x', 'y', 'z_reconstructed')\n",
    "to_ccf = calculate_affine_transform(df, (x,y,z))"
   ]
  },
  {
   "cell_type": "code",
   "execution_count": 26,
   "id": "86f0f9a5",
   "metadata": {},
   "outputs": [],
   "source": [
    "z = 7.8\n",
    "origin = np.array([[0, 1, z]])\n",
    "origin_ccf = np.matmul(to_hom(origin), to_ccf)\n",
    "origin_ccf"
   ]
  },
  {
   "cell_type": "code",
   "execution_count": 35,
   "id": "1f32e8b3",
   "metadata": {},
   "outputs": [],
   "source": [
    "origin_qn = np.matmul(origin_ccf, ccf_to_qn)\n",
    "origin_qn"
   ]
  },
  {
   "cell_type": "code",
   "execution_count": 83,
   "id": "72da5263",
   "metadata": {},
   "outputs": [],
   "source": [
    "np.linalg.inv(np.array([[1, 0, 1], [0, 1, 1], [0, 0, 1]]))"
   ]
  }
 ],
 "metadata": {
  "kernelspec": {
   "display_name": "Python 3 (ipykernel)",
   "language": "python",
   "name": "python3"
  },
  "language_info": {
   "codemirror_mode": {
    "name": "ipython",
    "version": 3
   },
   "file_extension": ".py",
   "mimetype": "text/x-python",
   "name": "python",
   "nbconvert_exporter": "python",
   "pygments_lexer": "ipython3",
   "version": "3.9.12 (main, Apr  5 2022, 06:56:58) \n[GCC 7.5.0]"
  },
  "vscode": {
   "interpreter": {
    "hash": "d4d1e4263499bec80672ea0156c357c1ee493ec2b1c70f0acce89fc37c4a6abe"
   }
  }
 },
 "nbformat": 4,
 "nbformat_minor": 5
}
