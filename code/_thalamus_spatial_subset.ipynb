{
 "cells": [
  {
   "cell_type": "code",
   "execution_count": 1,
   "metadata": {
    "tags": []
   },
   "outputs": [],
   "source": [
    "%load_ext autoreload\n",
    "%autoreload 2"
   ]
  },
  {
   "cell_type": "code",
   "execution_count": 2,
   "metadata": {
    "tags": []
   },
   "outputs": [],
   "source": [
    "from thalamus_merfish_analysis import abc_load as abc"
   ]
  },
  {
   "cell_type": "code",
   "execution_count": 3,
   "metadata": {
    "tags": []
   },
   "outputs": [],
   "source": [
    "import nibabel\n",
    "import anndata as ad\n",
    "import numpy as np\n",
    "import pandas as pd\n",
    "import scipy.ndimage as ndi\n",
    "\n",
    "import seaborn as sns\n",
    "import matplotlib.pyplot as plt\n",
    "from matplotlib import colors\n",
    "from matplotlib.lines import Line2D\n",
    "%matplotlib inline"
   ]
  },
  {
   "cell_type": "markdown",
   "metadata": {},
   "source": [
    "## walkthrough of abc.label_thalamus_spatial_subset()"
   ]
  },
  {
   "cell_type": "code",
   "execution_count": 4,
   "metadata": {
    "tags": []
   },
   "outputs": [],
   "source": [
    "cells_df = abc.get_combined_metadata(drop_unused=False)"
   ]
  },
  {
   "cell_type": "code",
   "execution_count": 5,
   "metadata": {
    "tags": []
   },
   "outputs": [],
   "source": [
    "ccf_df = pd.read_csv(\n",
    "        abc.ABC_ROOT/\"metadata/Allen-CCF-2020/20230630/parcellation_to_parcellation_term_membership.csv\"\n",
    "        )"
   ]
  },
  {
   "cell_type": "code",
   "execution_count": 6,
   "metadata": {
    "tags": []
   },
   "outputs": [],
   "source": [
    "th_zi_ind = np.hstack(\n",
    "        (ccf_df.loc[ccf_df['parcellation_term_acronym']=='TH', \n",
    "                    'parcellation_index'].unique(),\n",
    "             ccf_df.loc[ccf_df['parcellation_term_acronym']=='ZI', \n",
    "                    'parcellation_index'].unique())\n",
    ")\n",
    "len(th_zi_ind)\n",
    "# th_zi_ind"
   ]
  },
  {
   "cell_type": "markdown",
   "metadata": {},
   "source": [
    "## resampled ccf (z resolution limited to merscope slices)"
   ]
  },
  {
   "cell_type": "code",
   "execution_count": 7,
   "metadata": {
    "tags": []
   },
   "outputs": [],
   "source": [
    "ccf_img = abc.get_ccf_labels_image(resampled=True)\n",
    "ccf_img.shape"
   ]
  },
  {
   "cell_type": "code",
   "execution_count": 8,
   "metadata": {
    "tags": []
   },
   "outputs": [],
   "source": [
    "# takes about 5 sec\n",
    "th_mask = np.isin(ccf_img, th_zi_ind)"
   ]
  },
  {
   "cell_type": "code",
   "execution_count": 76,
   "metadata": {
    "tags": []
   },
   "outputs": [],
   "source": [
    "ind = int(np.rint(sec/0.2))\n",
    "plt.imshow(th_mask[200:901,350:750:,36].T,cmap='gray') #, extent=(0,11,0,11))\n",
    "# x_min = 2; x_max = 9; y_min = 7.5; y_max = 3.5"
   ]
  },
  {
   "cell_type": "markdown",
   "metadata": {},
   "source": [
    "## comparison to subclasses"
   ]
  },
  {
   "cell_type": "code",
   "execution_count": 10,
   "metadata": {
    "tags": []
   },
   "outputs": [],
   "source": [
    "th_subclasses = ['168 SPA-SPFm-SPFp-POL-PIL-PoT Sp9 Glut', '101 ZI Pax6 Gaba',\n",
    "                  '109 LGv-ZI Otx2 Gaba', '093 RT-ZI Gnb3 Gaba',\n",
    "                  '149 PVT-PT Ntrk1 Glut', '151 TH Prkcd Grin2c Glut',\n",
    "                  '152 RE-Xi Nox4 Glut', '154 PF Fzd5 Glut',\n",
    "                  '203 LGv-SPFp-SPFm Nkx2-2 Tcf7l2 Gaba',\n",
    "                  '148 AV Col27a1 Glut', '146 LH Pou4f1 Sox1 Glut',\n",
    "                  '147 AD Serpinb7 Glut', '153 MG-POL-SGN Nts Glut',\n",
    "                  '110 BST-po Iigp1 Glut', '150 CM-IAD-CL-PCN Sema5b Glut',\n",
    "                  '145 MH Tac2 Glut']\n",
    "cells_df['thal_subclass'] = cells_df[\"subclass\"].isin(th_subclasses)"
   ]
  },
  {
   "cell_type": "code",
   "execution_count": 11,
   "metadata": {
    "tags": []
   },
   "outputs": [],
   "source": [
    "field_name='TH_ZI_dataset'\n",
    "# use reconstructed (in MERFISH space) coordinates from cells_df\n",
    "coords = ['x_reconstructed','y_reconstructed','z_reconstructed']\n",
    "res = np.array([10e-3, 10e-3, 200e-3])"
   ]
  },
  {
   "cell_type": "code",
   "execution_count": 12,
   "metadata": {
    "tags": []
   },
   "outputs": [],
   "source": [
    "data = dict()\n",
    "for radius in [1,5,10,15,20,30,40]:\n",
    "    mask = abc.sectionwise_dilation(th_mask, radius)\n",
    "    abc.label_masked_cells(cells_df, mask, coords, res, field_name=field_name)\n",
    "    data[radius] = (cells_df.loc[cells_df['thal_subclass']]\n",
    "        .groupby('z_reconstructed')[field_name].mean().loc[lambda x: x>0])"
   ]
  },
  {
   "cell_type": "code",
   "execution_count": 13,
   "metadata": {
    "tags": []
   },
   "outputs": [],
   "source": [
    "for i, xy in data.items():\n",
    "    plt.plot(xy, label=i)\n",
    "\n",
    "    # plt.ylim(0.2,1.1)\n",
    "plt.ylabel('Proportion selected')\n",
    "plt.xlabel('section z')\n",
    "plt.legend(title='Dilation iterations')"
   ]
  },
  {
   "cell_type": "markdown",
   "metadata": {},
   "source": [
    "Note that the issues are primarily with the posterior sections.\n",
    "\n",
    "Seems best to go with 10-15 iterations (100-150 um), but still isn't perfect.\n",
    "\n",
    "Dropping sections 8.4 (not included previously) and 4.8 (included previously) seems safest for now (see plots below)."
   ]
  },
  {
   "cell_type": "markdown",
   "metadata": {},
   "source": [
    "### run, filter, and drop ends all in one"
   ]
  },
  {
   "cell_type": "code",
   "execution_count": 14,
   "metadata": {
    "tags": []
   },
   "outputs": [],
   "source": [
    "th_df = abc.label_thalamus_spatial_subset(cells_df, distance_px=10, filter_cells=True)"
   ]
  },
  {
   "cell_type": "markdown",
   "metadata": {},
   "source": [
    "### visualize which cells are captured by the TH mask"
   ]
  },
  {
   "cell_type": "code",
   "execution_count": 15,
   "metadata": {},
   "outputs": [],
   "source": [
    "# need to be careful here with rounding!!\n",
    "int(6.6/0.2)"
   ]
  },
  {
   "cell_type": "code",
   "execution_count": 93,
   "metadata": {
    "tags": []
   },
   "outputs": [],
   "source": [
    "def plot_th_mask_with_cell_overlay(cell_df, th_mask, th_zi_sections, \n",
    "                                   column='class', trim_to_th=True, show_mask=True):\n",
    "\n",
    "    # make a fixed colormap for displaying thalamus mask\n",
    "    if show_mask:\n",
    "        cmap_th_mask = colors.ListedColormap(['black', 'white'])\n",
    "    else:\n",
    "        cmap_th_mask = colors.ListedColormap(['white', 'white'])\n",
    "    bounds=[0,1]\n",
    "    norm = colors.BoundaryNorm(bounds, cmap_th_mask.N)\n",
    "\n",
    "    # define legend elements for the column colors\n",
    "    color_col = column+'_color'\n",
    "    categories = cell_df[column].unique()\n",
    "    cat_color_mapping = dict(zip(categories, cell_df[color_col].unique()))\n",
    "    # sort the dict & the categories list by category\n",
    "    cat_color_mapping = dict(sorted(cat_color_mapping.items()))\n",
    "    categories = sorted(categories)\n",
    "    legend_elements = [Line2D([0], [0], \n",
    "                              lw=0, marker='o', markersize=10,\n",
    "                              markerfacecolor=cat_color_mapping[cat],\n",
    "                              color=cat_color_mapping[cat], \n",
    "                              label=cat) \n",
    "                       for cat in cat_color_mapping]\n",
    "    \n",
    "    n_col = 2\n",
    "    n_row = int(np.ceil(len(th_zi_sections) / n_col))\n",
    "    fig, axes = plt.subplots(n_row, n_col, figsize=(n_col*6,n_row*3.75))\n",
    "    axes = axes.ravel()\n",
    "\n",
    "    \n",
    "\n",
    "    for i, sec in enumerate(th_zi_sections):\n",
    "        ax = axes[i]\n",
    "\n",
    "        curr_sec_cell_df = cell_df[(cell_df['z_reconstructed']==sec)]\n",
    "\n",
    "        ax.imshow(th_mask[:,:,int(np.rint(sec/0.2))].T, extent=[0, 11, 11, 0], zorder=0,\n",
    "                  cmap=cmap_th_mask, norm=norm)\n",
    "        sc = ax.scatter(curr_sec_cell_df['x_reconstructed'], curr_sec_cell_df['y_reconstructed'],\n",
    "                        color=curr_sec_cell_df['class_color'],\n",
    "                        s=0.5, marker='.', zorder=1)\n",
    "        ax.set_title('z='+str(sec))\n",
    "\n",
    "        ax.set_xlabel('x_reconstructed')\n",
    "        ax.set_ylabel('y_reconstructed')\n",
    "        if trim_to_th:\n",
    "            x_min = 2; x_max = 9; y_min = 7.5; y_max = 3.5\n",
    "            ax.set_xlim((x_min,x_max))\n",
    "            ax.set_ylim((y_min,y_max))\n",
    "        else:\n",
    "            ax.set_xlim((0,11))\n",
    "            ax.set_ylim((11,0))    \n",
    "        ax.axis('off')\n",
    "        ax.set_xticks([])\n",
    "        ax.set_yticks([])\n",
    "\n",
    "        if i==7:\n",
    "            ax.legend(legend_elements, categories, title='class', \n",
    "                      loc='center left', bbox_to_anchor=(1.1,0.5))"
   ]
  },
  {
   "cell_type": "code",
   "execution_count": 45,
   "metadata": {
    "tags": []
   },
   "outputs": [],
   "source": [
    "# th_zi_sections = sorted(th_df['z_section'].unique())\n",
    "th_zi_sections = sorted(cells_df['z_reconstructed'].unique())[19:35]\n",
    "th_mask_dilated = abc.sectionwise_dilation(th_mask, 10)"
   ]
  },
  {
   "cell_type": "code",
   "execution_count": 46,
   "metadata": {
    "tags": []
   },
   "outputs": [],
   "source": [
    "nn_classes = ['30 Astro-Epen', '31 OPC-Oligo', '32 OEC', '33 Vascular', '34 Immune']\n",
    "th_zi_classes = ['12 HY GABA', '13 CNU-HYa Glut','17 MH-LH Glut','18 TH Glut']"
   ]
  },
  {
   "cell_type": "markdown",
   "metadata": {
    "tags": []
   },
   "source": [
    "#### neuronal classes"
   ]
  },
  {
   "cell_type": "code",
   "execution_count": 47,
   "metadata": {
    "tags": []
   },
   "outputs": [],
   "source": [
    "neuronal_cells_df = cells_df[(~cells_df['class'].isin(nn_classes))\n",
    "                             & (cells_df['z_reconstructed'].isin(th_zi_sections))\n",
    "                            ]  #& (cells_df['thal_subclass'])\n",
    "plot_th_mask_with_cell_overlay(neuronal_cells_df, th_mask_dilated, th_zi_sections, column='class')"
   ]
  },
  {
   "cell_type": "markdown",
   "metadata": {
    "jp-MarkdownHeadingCollapsed": true,
    "tags": []
   },
   "source": [
    "#### thalamus classes only"
   ]
  },
  {
   "cell_type": "code",
   "execution_count": 20,
   "metadata": {
    "tags": []
   },
   "outputs": [],
   "source": [
    "neuronal_th_cells_df = cells_df[(~cells_df['class'].isin(nn_classes))\n",
    "                                & (cells_df['z_reconstructed'].isin(th_zi_sections))\n",
    "                                & (cells_df['class'].isin(th_zi_classes))\n",
    "                               ]  \n",
    "plot_th_mask_with_cell_overlay(neuronal_th_cells_df, th_mask_dilated, th_zi_sections, column='class')"
   ]
  },
  {
   "cell_type": "markdown",
   "metadata": {
    "jp-MarkdownHeadingCollapsed": true,
    "tags": []
   },
   "source": [
    "#### thalamus subclasses only"
   ]
  },
  {
   "cell_type": "code",
   "execution_count": 21,
   "metadata": {
    "tags": []
   },
   "outputs": [],
   "source": [
    "neuronal_th_cells_df = cells_df[(~cells_df['class'].isin(nn_classes))\n",
    "                                & (cells_df['z_reconstructed'].isin(th_zi_sections))\n",
    "                                & (cells_df['thal_subclass'])\n",
    "                               ]  \n",
    "plot_th_mask_with_cell_overlay(neuronal_th_cells_df, th_mask_dilated, th_zi_sections, column='class')"
   ]
  },
  {
   "cell_type": "markdown",
   "metadata": {
    "jp-MarkdownHeadingCollapsed": true,
    "tags": []
   },
   "source": [
    "#### all cells"
   ]
  },
  {
   "cell_type": "code",
   "execution_count": 42,
   "metadata": {
    "tags": []
   },
   "outputs": [],
   "source": [
    "th_sections_df = cells_df[(cells_df['z_reconstructed'].isin(th_zi_sections))\n",
    "                               ]  \n",
    "plot_th_mask_with_cell_overlay(th_sections_df, th_mask_dilated, th_zi_sections, column='class')"
   ]
  },
  {
   "cell_type": "markdown",
   "metadata": {},
   "source": [
    "### view actual abc_load steps"
   ]
  },
  {
   "cell_type": "markdown",
   "metadata": {},
   "source": [
    "#### CCF raster image volume"
   ]
  },
  {
   "cell_type": "code",
   "execution_count": 78,
   "metadata": {
    "tags": []
   },
   "outputs": [],
   "source": [
    "sec = 6.8\n",
    "ind = int(np.rint(sec/0.2))\n",
    "plt.imshow(th_mask[200:901,350:750:,ind].T, cmap='gray') #, extent=(0,11,0,11))\n",
    "ax = plt.gca()\n",
    "ax.axis('off')\n",
    "ax.set_xticks([])\n",
    "ax.set_yticks([])"
   ]
  },
  {
   "cell_type": "markdown",
   "metadata": {},
   "source": [
    "#### subset & make mask from abc_load"
   ]
  },
  {
   "cell_type": "code",
   "execution_count": 84,
   "metadata": {
    "tags": []
   },
   "outputs": [],
   "source": [
    "dist_px = 20\n",
    "cells_df_abc, mask_img = abc.label_thalamus_spatial_subset(cells_df,\n",
    "                                                            flip_y=False,\n",
    "                                                            distance_px=dist_px,\n",
    "                                                            cleanup_mask=True,\n",
    "                                                            drop_end_sections=True,\n",
    "                                                            filter_cells=True,\n",
    "                                                            realigned=False)"
   ]
  },
  {
   "cell_type": "code",
   "execution_count": 85,
   "metadata": {
    "tags": []
   },
   "outputs": [],
   "source": [
    "th_zi_sections_example = sorted(cells_df['z_reconstructed'].unique())[25:29]"
   ]
  },
  {
   "cell_type": "markdown",
   "metadata": {},
   "source": [
    "#### dilated TH mask"
   ]
  },
  {
   "cell_type": "code",
   "execution_count": 89,
   "metadata": {
    "tags": []
   },
   "outputs": [],
   "source": [
    "th_start_ind = int(th_zi_sections_example[0]/0.2)\n",
    "th_end_ind = int(th_zi_sections_example[-1]/0.2)+1\n",
    "mask_img_subset = mask_img[:,:,th_start_ind:th_end_ind]\n",
    "\n",
    "\n",
    "n_col = 2\n",
    "n_row = int(np.ceil(mask_img_subset.shape[2] / n_col))\n",
    "fig, axes = plt.subplots(n_row, n_col, figsize=(n_col*6,n_row*3.75))\n",
    "axes = axes.ravel()\n",
    "\n",
    "x_min = 2.5; x_max = 8.5; y_min = 7.5; y_max = 4\n",
    "\n",
    "for z in np.arange(mask_img_subset.shape[2]):\n",
    "    ax = axes[z]\n",
    "    ax.imshow(np.squeeze(mask_img_subset[:,:,z]).T,cmap='gray', extent=(0,11,0,11))\n",
    "    ax.set_xlim(2,9)\n",
    "    ax.set_ylim(3.5,7.5)\n",
    "    ax.axis('off')\n",
    "    ax.set_xticks([])\n",
    "    ax.set_yticks([])"
   ]
  },
  {
   "cell_type": "markdown",
   "metadata": {
    "tags": []
   },
   "source": [
    "#### all cells with mask"
   ]
  },
  {
   "cell_type": "code",
   "execution_count": 91,
   "metadata": {
    "tags": []
   },
   "outputs": [],
   "source": [
    "th_sections_df = cells_df[(cells_df['z_reconstructed'].isin(th_zi_sections_example))\n",
    "                         ]  \n",
    "plot_th_mask_with_cell_overlay(th_sections_df, mask_img, th_zi_sections_example, \n",
    "                               column='class', trim_to_th=True)"
   ]
  },
  {
   "cell_type": "markdown",
   "metadata": {
    "tags": []
   },
   "source": [
    "#### TH+ZI subset \n",
    "\n",
    "##### with mask"
   ]
  },
  {
   "cell_type": "code",
   "execution_count": 82,
   "metadata": {
    "tags": []
   },
   "outputs": [],
   "source": [
    "# th_mask_dilated = abc.sectionwise_dilation(th_mask, dist_px)\n",
    "\n",
    "cells_df_th = cells_df_abc[(cells_df_abc['z_reconstructed'].isin(th_zi_sections))\n",
    "                           ]\n",
    "\n",
    "plot_th_mask_with_cell_overlay(cells_df_th, mask_img, th_zi_sections, column='class', trim_to_th=True)"
   ]
  },
  {
   "cell_type": "markdown",
   "metadata": {},
   "source": [
    "##### no mask"
   ]
  },
  {
   "cell_type": "code",
   "execution_count": 94,
   "metadata": {
    "tags": []
   },
   "outputs": [],
   "source": [
    "plot_th_mask_with_cell_overlay(cells_df_th, mask_img, th_zi_sections_example, \n",
    "                               column='class', trim_to_th=True, show_mask=False)"
   ]
  },
  {
   "cell_type": "markdown",
   "metadata": {},
   "source": [
    "#### TH+ZI neurons with mask"
   ]
  },
  {
   "cell_type": "code",
   "execution_count": 98,
   "metadata": {
    "tags": []
   },
   "outputs": [],
   "source": [
    "nn_classes = ['30 Astro-Epen', '31 OPC-Oligo', '32 OEC', '33 Vascular', '34 Immune']\n",
    "# th_zi_classes = ['12 HY GABA', '13 CNU-HYa Glut','17 MH-LH Glut','18 TH Glut']\n",
    "neuronal_cells_df = cells_df_th[(~cells_df_th['class'].isin(nn_classes))\n",
    "                             & (cells_df_th['z_reconstructed'].isin(th_zi_sections_example))\n",
    "                            ]"
   ]
  },
  {
   "cell_type": "code",
   "execution_count": 99,
   "metadata": {
    "tags": []
   },
   "outputs": [],
   "source": [
    "plot_th_mask_with_cell_overlay(neuronal_cells_df, mask_img, th_zi_sections_example, \n",
    "                               column='class', trim_to_th=True, show_mask=True)"
   ]
  },
  {
   "cell_type": "code",
   "execution_count": 100,
   "metadata": {
    "tags": []
   },
   "outputs": [],
   "source": [
    "plot_th_mask_with_cell_overlay(neuronal_cells_df, mask_img, th_zi_sections_example, \n",
    "                               column='class', trim_to_th=True, show_mask=False)"
   ]
  },
  {
   "cell_type": "markdown",
   "metadata": {},
   "source": [
    "#### TH+ZI+MB neurons"
   ]
  },
  {
   "cell_type": "code",
   "execution_count": 103,
   "metadata": {
    "tags": []
   },
   "outputs": [],
   "source": [
    "neuronal_th_cells_df = abc.filter_adata_by_class(neuronal_cells_df, filter_nonneuronal=True,\n",
    "                                                 filter_midbrain=False, filter_others=True)"
   ]
  },
  {
   "cell_type": "code",
   "execution_count": 104,
   "metadata": {
    "tags": []
   },
   "outputs": [],
   "source": [
    "plot_th_mask_with_cell_overlay(neuronal_th_cells_df, mask_img, th_zi_sections_example, \n",
    "                               column='class', trim_to_th=True, show_mask=False)"
   ]
  },
  {
   "cell_type": "markdown",
   "metadata": {
    "tags": []
   },
   "source": [
    "### examine end sections with poor match\n",
    "\n",
    "this is with a 300um dilation from above"
   ]
  },
  {
   "cell_type": "code",
   "execution_count": 22,
   "metadata": {
    "tags": []
   },
   "outputs": [],
   "source": [
    "z = 8.4\n",
    "plt.imshow(th_mask_dilated[:,:, int(np.rint(z/0.2))].T, extent=[0, 11, 11, 0])\n",
    "sns.scatterplot(data=cells_df.query(f\"thal_subclass & z_reconstructed=={z}\"), x=coords[0], y=coords[1])\n",
    "plt.ylim(7, 5)\n",
    "plt.xlim(4, 7)"
   ]
  },
  {
   "cell_type": "code",
   "execution_count": 23,
   "metadata": {
    "tags": []
   },
   "outputs": [],
   "source": [
    "z = 4.8\n",
    "plt.imshow(th_mask_dilated[:,:, int(np.rint(z/0.2))].T, extent=[0, 11, 11, 0])\n",
    "sns.scatterplot(data=cells_df.query(f\"thal_subclass & z_reconstructed>{z-0.1} & z_reconstructed<{z+0.1}\"), x=coords[0], y=coords[1], s=4)\n",
    "plt.ylim(6, 4)\n",
    "plt.xlim(2, 8)"
   ]
  },
  {
   "cell_type": "code",
   "execution_count": 24,
   "metadata": {
    "tags": []
   },
   "outputs": [],
   "source": [
    "z = 5.6\n",
    "plt.imshow(th_mask_dilated[:,:, int(np.rint(z/0.2))].T, extent=[0, 11, 11, 0])\n",
    "sns.scatterplot(data=cells_df.query(f\"thal_subclass & z_reconstructed>{z-0.1} & z_reconstructed<{z+0.1}\"), x=coords[0], y=coords[1], s=4)\n",
    "# plt.ylim(7, 5)\n",
    "# plt.xlim(4, 7)"
   ]
  },
  {
   "cell_type": "markdown",
   "metadata": {},
   "source": [
    "# For reference, do not rerun"
   ]
  },
  {
   "cell_type": "code",
   "execution_count": 25,
   "metadata": {},
   "outputs": [],
   "source": [
    "# to break a \"run all\"\n",
    "assert False"
   ]
  },
  {
   "cell_type": "markdown",
   "metadata": {},
   "source": [
    "### Using a true dilation by radius \n",
    "\n",
    "takes much longer, doesn't look much different."
   ]
  },
  {
   "cell_type": "code",
   "execution_count": null,
   "metadata": {
    "tags": []
   },
   "outputs": [],
   "source": [
    "data = dict()\n",
    "for radius in [1,5,10,15,20,30]:\n",
    "    mask = abc.sectionwise_dilation(th_mask, radius, true_radius=True)\n",
    "    abc.label_masked_cells(cells_df, mask, coords, res, field_name=field_name)\n",
    "    data[radius*0.01] = (cells_df.loc[cells_df['thal_subclass']]\n",
    "        .groupby('z_reconstructed')[field_name].mean().loc[lambda x: x>0])"
   ]
  },
  {
   "cell_type": "code",
   "execution_count": null,
   "metadata": {
    "tags": []
   },
   "outputs": [],
   "source": [
    "for i, xy in data.items():\n",
    "    plt.plot(xy, label=i)\n",
    "\n",
    "plt.ylabel('Proportion selected')\n",
    "plt.xlabel('section z')\n",
    "plt.legend(title='Dilation radius')"
   ]
  },
  {
   "cell_type": "markdown",
   "metadata": {
    "tags": []
   },
   "source": [
    "### compare to Brian's outline dataset"
   ]
  },
  {
   "cell_type": "code",
   "execution_count": 26,
   "metadata": {
    "tags": []
   },
   "outputs": [],
   "source": [
    "# requires old brain 1 dataset to be attached!\n",
    "_THALAMUS_ANNDATA_PATH = \"/data/merfish_638850_AIT17.custom_CCF_annotated_TH_ZI_only_2023-05-04_00-00-00/atlas_brain_638850_AIT17_custom_CCF_annotated_TH_ZI_only.h5ad\"\n",
    "adata_ref = ad.read_h5ad(_THALAMUS_ANNDATA_PATH, backed='r')\n",
    "old_ids = adata_ref.obs_names.astype('string').intersection(cells_df.index)\n",
    "# old_ids = abc.get_thalamus_reference_ids().intersection(cells_df.index)\n",
    "new_ids = cells_df.query(field_name).index"
   ]
  },
  {
   "cell_type": "code",
   "execution_count": 27,
   "metadata": {
    "tags": []
   },
   "outputs": [],
   "source": [
    "\n",
    "len(old_ids.intersection(new_ids))"
   ]
  },
  {
   "cell_type": "code",
   "execution_count": 28,
   "metadata": {
    "tags": []
   },
   "outputs": [],
   "source": [
    "len(new_ids.difference(old_ids))"
   ]
  },
  {
   "cell_type": "code",
   "execution_count": 29,
   "metadata": {
    "tags": []
   },
   "outputs": [],
   "source": [
    "len(old_ids.difference(new_ids))"
   ]
  },
  {
   "cell_type": "markdown",
   "metadata": {},
   "source": [
    "The new outline adds about 40% more new cells, misses about 1% of old cells. \n",
    "\n",
    "Details on cells missing from old version below: (Could also be worth checking on where the cells not in the old version are located?)"
   ]
  },
  {
   "cell_type": "code",
   "execution_count": 30,
   "metadata": {
    "tags": []
   },
   "outputs": [],
   "source": [
    "cells_df.loc[old_ids.difference(new_ids), 'z_reconstructed'].value_counts().sort_index()"
   ]
  },
  {
   "cell_type": "code",
   "execution_count": 31,
   "metadata": {
    "tags": []
   },
   "outputs": [],
   "source": [
    "cells_df.loc[old_ids.difference(new_ids), 'subclass'].value_counts().head(10)"
   ]
  },
  {
   "cell_type": "markdown",
   "metadata": {},
   "source": [
    "## full 10um ccf"
   ]
  },
  {
   "cell_type": "code",
   "execution_count": 32,
   "metadata": {
    "tags": []
   },
   "outputs": [],
   "source": [
    "# very slow to do operations with this large image volume\n",
    "\n",
    "# ccf_img = abc.get_ccf_labels_image()\n",
    "# # takes about 1 min\n",
    "# th_mask = np.isin(ccf_img, th_zi_ind)"
   ]
  },
  {
   "cell_type": "markdown",
   "metadata": {},
   "source": [
    "# Experiments?"
   ]
  },
  {
   "cell_type": "markdown",
   "metadata": {},
   "source": [
    "## mask into polygon"
   ]
  },
  {
   "cell_type": "code",
   "execution_count": null,
   "metadata": {
    "tags": []
   },
   "outputs": [],
   "source": [
    "# import skimage as ski\n",
    "\n",
    "# z = th_zi_sections[7]\n",
    "# mask_ind = int(np.rint(z/0.2))\n",
    "# ex_th_mask = np.squeeze(th_mask_dilated[:,:,mask_ind]).T\n",
    "\n",
    "# contours = ski.measure.find_contours(ex_th_mask)\n",
    "\n",
    "# # Display the image and plot all contours found\n",
    "# fig, ax = plt.subplots()#figsize=(20,30))\n",
    "# ax.imshow(ex_th_mask, cmap='gray')#, extent=(0,11,0,11))\n",
    "\n",
    "# for contour in contours:\n",
    "#     ax.plot(contour[:, 1], contour[:, 0], linewidth=1)\n",
    "    \n",
    "#     poly_coords = ski.measure.approximate_polygon(contour, tolerance=1.0)\n",
    "#     ax.plot(poly_coords[:, 1], poly_coords[:, 0], linewidth=1)\n",
    "    \n",
    "# ax.axis('image')\n",
    "# # ax.set_xlim(250,900)\n",
    "# # ax.set_ylim(750,375)\n",
    "# # ax.set_xlim(580,620)\n",
    "# # ax.set_ylim(450,375)\n",
    "# # ax.set_xticks([])\n",
    "# # ax.set_yticks([])\n",
    "# plt.show()\n",
    "\n",
    "# print(f'{len(contour)=}')\n",
    "# print(f'{len(poly_coords)=}')"
   ]
  },
  {
   "cell_type": "code",
   "execution_count": 40,
   "metadata": {
    "tags": []
   },
   "outputs": [],
   "source": [
    "th_start_ind = int(th_zi_sections[0]/0.2)\n",
    "th_end_ind = int(th_zi_sections[-1]/0.2)+1\n",
    "th_mask_subset = th_mask_dilated[:,:,th_start_ind:th_end_ind]\n",
    "\n",
    "th_mask_sobel_edge = np.zeros_like(th_mask_subset)"
   ]
  },
  {
   "cell_type": "code",
   "execution_count": 41,
   "metadata": {
    "tags": []
   },
   "outputs": [],
   "source": [
    "n_col = 2\n",
    "n_row = int(np.ceil(th_mask_subset.shape[2] / n_col))\n",
    "fig, axes = plt.subplots(n_row, n_col, figsize=(12,30))\n",
    "axes = axes.ravel()\n",
    "\n",
    "x_min = 2.5; x_max = 8.5; y_min = 7.5; y_max = 4\n",
    "\n",
    "for z in np.arange(th_mask_subset.shape[2]):\n",
    "    ax = axes[z]\n",
    "    ax.imshow(np.squeeze(th_mask_subset[:,:,z]).T,cmap='gray', extent=(0,11,0,11))\n",
    "    ax.set_xlim(2,9)\n",
    "    ax.set_ylim(3.5,7.5)\n",
    "    # plt.xlim(3.8,4.2)\n",
    "    # plt.ylim(4.5,5)"
   ]
  },
  {
   "cell_type": "code",
   "execution_count": null,
   "metadata": {
    "tags": []
   },
   "outputs": [],
   "source": [
    "n_col = 2\n",
    "n_row = int(np.ceil(th_mask_subset.shape[2] / n_col))\n",
    "fig, axes = plt.subplots(n_row, n_col, figsize=(12,30))\n",
    "axes = axes.ravel()\n",
    "\n",
    "x_min = 2.5; x_max = 8.5; y_min = 7.5; y_max = 4\n",
    "\n",
    "for z in np.arange(th_mask_subset.shape[2]):\n",
    "    sobel_edge = ski.filters.roberts(np.squeeze(th_mask_subset[:,:,z]))\n",
    "    th_mask_sobel_edge[:,:,z] = sobel_edge\n",
    "\n",
    "    ax = axes[z]\n",
    "    ax.imshow(sobel_edge.T,cmap='gray', extent=(0,11,0,11))\n",
    "    ax.set_xlim(2.5,8.5)\n",
    "    ax.set_ylim(4,7)\n",
    "    # plt.xlim(3.8,4.2)\n",
    "    # plt.ylim(4.5,5)"
   ]
  },
  {
   "cell_type": "markdown",
   "metadata": {},
   "source": [
    "## remove small mistake regions"
   ]
  },
  {
   "cell_type": "code",
   "execution_count": 34,
   "metadata": {
    "tags": []
   },
   "outputs": [],
   "source": [
    "dilated_th_mask = abc.sectionwise_dilation(th_mask, distance_px=20)"
   ]
  },
  {
   "cell_type": "code",
   "execution_count": 35,
   "metadata": {
    "tags": []
   },
   "outputs": [],
   "source": [
    "plt.imshow(dilated_th_mask[:,:,42].T,cmap='gray') #, extent=(0,11,0,11))"
   ]
  },
  {
   "cell_type": "code",
   "execution_count": 36,
   "metadata": {
    "tags": []
   },
   "outputs": [],
   "source": [
    "max_area_ratio=0.1\n",
    "mask_img = dilated_th_mask[:,:,32]\n",
    "\n",
    "labeled_mask, n_features = ndi.label(mask_img)\n",
    "\n",
    "# calculate the area of the largest region\n",
    "largest_region = np.argmax(ndi.sum(mask_img, labeled_mask, range(n_features + 1)))\n",
    "largest_area = np.sum(labeled_mask==largest_region)\n",
    "\n",
    "# filter out regions with area ratio smaller than the specified threshold\n",
    "regions_to_keep = [label for label \n",
    "                   in range(1, n_features + 1) \n",
    "                   if np.sum(labeled_mask==label) / largest_area >= max_area_ratio\n",
    "                  ]\n",
    "\n",
    "# make a new mask with only the remaining objects\n",
    "new_mask_img = np.isin(labeled_mask, regions_to_keep)\n",
    "\n",
    "plt.imshow(new_mask_img.T,cmap='gray')"
   ]
  },
  {
   "cell_type": "code",
   "execution_count": 37,
   "metadata": {
    "tags": []
   },
   "outputs": [],
   "source": [
    "mask_img = dilated_th_mask\n",
    "\n",
    "new_mask_img = np.zeros_like(mask_img)\n",
    "for sec in range(mask_img.shape[2]):\n",
    "    mask_2d = mask_img[:,:,sec]\n",
    "\n",
    "    labeled_mask, n_regions = ndi.label(mask_2d)\n",
    "\n",
    "    # calculate the area of the largest region\n",
    "    largest_region = np.argmax(ndi.sum(mask_2d, labeled_mask, range(n_regions+1)))\n",
    "    largest_area = np.sum(labeled_mask==largest_region)\n",
    "\n",
    "    # filter out regions with area ratio smaller than the specified threshold\n",
    "    regions_to_keep = [label for label \n",
    "                       in range(1, n_regions+1) \n",
    "                       if np.sum(labeled_mask==label) / largest_area >= max_area_ratio\n",
    "                      ]\n",
    "    # make a new mask with only the remaining objects\n",
    "    new_mask_img[:,:,sec] = np.isin(labeled_mask, regions_to_keep)\n",
    "    \n",
    "plt.imshow(new_mask_img[:,:,32].T,cmap='gray')"
   ]
  },
  {
   "cell_type": "code",
   "execution_count": null,
   "metadata": {},
   "outputs": [],
   "source": []
  }
 ],
 "metadata": {
  "kernelspec": {
   "display_name": "Python 3 (ipykernel)",
   "language": "python",
   "name": "python3"
  },
  "language_info": {
   "codemirror_mode": {
    "name": "ipython",
    "version": 3
   },
   "file_extension": ".py",
   "mimetype": "text/x-python",
   "name": "python",
   "nbconvert_exporter": "python",
   "pygments_lexer": "ipython3",
   "version": "3.9.12"
  },
  "vscode": {
   "interpreter": {
    "hash": "d4d1e4263499bec80672ea0156c357c1ee493ec2b1c70f0acce89fc37c4a6abe"
   }
  }
 },
 "nbformat": 4,
 "nbformat_minor": 4
}
