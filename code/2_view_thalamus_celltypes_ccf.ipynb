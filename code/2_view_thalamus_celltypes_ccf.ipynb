{
 "cells": [
  {
   "cell_type": "markdown",
   "id": "36ae7a0d",
   "metadata": {
    "tags": []
   },
   "source": [
    "# 2_view_thalamus_celltypes_ccf\n",
    "\n",
    "This notebook demonstrates how to use the custom plotting functions found in the\n",
    "`abc_merfish_analysis\\ccf_plots.py` module to view the thalamus subset of \n",
    "the Allen Brain Cell (ABC) Atlas's whole mouse brain MERFISH dataset \n",
    "(https://portal.brain-map.org/atlases-and-data/bkp/abc-atlas), which we learned \n",
    "how to load in `1_load_thalamus_data notebook.ipynb`."
   ]
  },
  {
   "cell_type": "code",
   "execution_count": 1,
   "id": "f14afdc8",
   "metadata": {
    "tags": []
   },
   "outputs": [],
   "source": [
    "import numpy as np\n",
    "import pandas as pd\n",
    "\n",
    "from abc_merfish_analysis import abc_load as abc\n",
    "from abc_merfish_analysis import ccf_images as cimg\n",
    "from abc_merfish_analysis import ccf_plots as cplots\n",
    "from colorcet import glasbey\n",
    "\n",
    "get_ipython().run_line_magic('matplotlib', 'inline') "
   ]
  },
  {
   "cell_type": "markdown",
   "id": "2c770388",
   "metadata": {},
   "source": [
    "## Load thalamus dataset\n",
    "\n",
    "Since we're only going to view cell types & CCF structures in this notebook, \n",
    "we can just load the cell metadata DataFrame. For details on the DataFrame output \n",
    "of `load_standard_thalamus()`, please see `1_load_thalamus_data.ipynb`.\n",
    "\n",
    "For gene expression plots, see notebook `3_view_thalamus_gene_expression.ipynb`."
   ]
  },
  {
   "cell_type": "code",
   "execution_count": 2,
   "id": "e081cde8",
   "metadata": {
    "tags": []
   },
   "outputs": [],
   "source": [
    "# load cell metadata DataFrame\n",
    "obs_th = abc.load_standard_thalamus(data_structure='obs')"
   ]
  },
  {
   "cell_type": "markdown",
   "id": "1d767b40",
   "metadata": {},
   "source": [
    "### Set spatial coordinates\n",
    "\n",
    "Since the ABC Atlas MERFISH data includes 3 sets of spatial coordinates, \n",
    "(`_section`, `_reconstructed`, and `_ccf`), all stored in `.obs,\n",
    "we need to specify which coordinate space we wish to work from.\n",
    "```\n",
    "x_col, y_col : str\n",
    "    Column names in obs for the x and y coordinates of cells\n",
    "```\n",
    "\n",
    "A column to use for section labels also needs to be specified, defaulting\n",
    "to 'brain_section_label' as in the web atlas. A z-coordinate in the section\n",
    "coordinate system also works \n",
    "\n",
    "(z_section and z_reconstructed are identical, while other\n",
    "z-coordinates vary slightly across the section and thus can't be used here).\n",
    "```\n",
    "section_col : str, {'brain_section_label', 'z_section', 'z_reconstructed'}\n",
    "    Column name in obs for the section labels in 'sections'\n",
    "```\n",
    "\n",
    "For this notebook, we will work in the `_reconstructed` coordinate space, which is a registration of each MERFISH section to a target resampled CCF section. \n",
    "For more information on the different coordinates, please see: https://alleninstitute.github.io/abc_atlas_access/notebooks/merfish_ccf_registration_tutorial.html"
   ]
  },
  {
   "cell_type": "code",
   "execution_count": 3,
   "id": "ba5a7b9f",
   "metadata": {},
   "outputs": [],
   "source": [
    "# show the three sets of coordinates\n",
    "display(obs_th[['x_section', 'y_section', 'z_section',\n",
    "                'x_reconstructed', 'y_reconstructed', 'z_reconstructed',\n",
    "                'x_ccf', 'y_ccf', 'z_ccf', 'brain_section_label']\n",
    "              ].head())"
   ]
  },
  {
   "cell_type": "code",
   "execution_count": 4,
   "id": "afd4927e",
   "metadata": {},
   "outputs": [],
   "source": [
    "# set spatial column names to `_reconstructed` coordinate space\n",
    "coords = '_reconstructed'\n",
    "\n",
    "x_col = 'x'+coords\n",
    "y_col = 'y'+coords\n",
    "section_col = z_col = 'z'+coords"
   ]
  },
  {
   "cell_type": "markdown",
   "id": "0c41f02c-28c8-4aac-96a5-000473020e14",
   "metadata": {},
   "source": [
    "### Load Allen Reference Atlas (ARA) structure images & boundaries\n",
    "\n",
    "To overlay the ARA structures on the cell types found in the thalamus, we need to load the volume & boundary images from the ABC Atlas, which are referred to as 'CCF' from here on out."
   ]
  },
  {
   "cell_type": "code",
   "execution_count": 5,
   "id": "5e00df3f",
   "metadata": {
    "tags": []
   },
   "outputs": [],
   "source": [
    "# Load the CCF structures image\n",
    "ccf_images = abc.get_ccf_labels_image()"
   ]
  },
  {
   "cell_type": "code",
   "execution_count": 6,
   "id": "689507ef",
   "metadata": {},
   "outputs": [],
   "source": [
    "# Precompute boundaries to use multiple times in this notebook w/o need to recompute\n",
    "\n",
    "# we only need to load the boundaries for sections that contain the thalamus\n",
    "sections_all = sorted(obs_th[section_col].unique())\n",
    "sections_int = np.rint(np.array(sections_all)/0.2).astype(int)\n",
    "\n",
    "# precompute boundaries for thalamic sections\n",
    "ccf_boundaries = cimg.sectionwise_label_erosion(ccf_images, distance_px=1, \n",
    "                                                fill_val=0, return_edges=True, \n",
    "                                                section_list=sections_int\n",
    "                                                )\n",
    "\n",
    "# # Alternative: skip and define as None to calculate on the fly\n",
    "# ccf_boundaries = None"
   ]
  },
  {
   "cell_type": "markdown",
   "id": "c15a3a1b",
   "metadata": {},
   "source": [
    "## Set default figure behavior"
   ]
  },
  {
   "cell_type": "markdown",
   "id": "d349e410",
   "metadata": {},
   "source": [
    "### Select sections to display\n",
    "\n",
    "The plotting code in ccf_plots.py module displays figures per-sections, so you may wish to specify which section(s) to display.\n",
    "\n",
    "`abc.TH_EXAMPLE_Z_SECTIONS` stores 3 sections that are representative along AP axis of the thalamus and can be used to speed up the run time of this notebook by setting `sections=abc.TH_EXAMPLE_Z_SECTIONS` in all the plotting functions.\n",
    "\n",
    "If you wish to see all sections, you can: set the `sections=` parameter to `None`, not explicitly set it (`default=None`), or set it to `sections=sections_all`"
   ]
  },
  {
   "cell_type": "code",
   "execution_count": 7,
   "id": "b519a6ec",
   "metadata": {},
   "outputs": [],
   "source": [
    "# 3 sections that representatively span the AP axis of the thalamus\n",
    "abc.TH_EXAMPLE_Z_SECTIONS"
   ]
  },
  {
   "cell_type": "markdown",
   "id": "db2e13a4",
   "metadata": {},
   "source": [
    "### Set figure saving behavior"
   ]
  },
  {
   "cell_type": "code",
   "execution_count": 8,
   "id": "62964b4c",
   "metadata": {},
   "outputs": [],
   "source": [
    "save_figs = False"
   ]
  },
  {
   "cell_type": "markdown",
   "id": "cabb57cc",
   "metadata": {},
   "source": [
    "### Set default CCF regions to display"
   ]
  },
  {
   "cell_type": "code",
   "execution_count": 9,
   "id": "550f4d72",
   "metadata": {},
   "outputs": [],
   "source": [
    "# if you reload abc_merfish_analysis.ccf_plots after this cell has been run, \n",
    "# cplots.CCF_REGIONS_DEFAULT will be reset to None & you'll need to re-run this cell\n",
    "cplots.CCF_REGIONS_DEFAULT = abc.get_thalamus_names()"
   ]
  },
  {
   "cell_type": "markdown",
   "id": "4b4f39cc",
   "metadata": {},
   "source": [
    "## View thalamus cell types + CCF parcellation\n",
    "\n",
    "We'll use the custom plotting functions in the `abc_merfish_analysis/ccf_plot.py`, aka `cplots`, module to view the cell types and the aligned CCF parcellation structures"
   ]
  },
  {
   "cell_type": "markdown",
   "id": "b9646a37",
   "metadata": {},
   "source": [
    "### View just CCF structures (no cells yet!)"
   ]
  },
  {
   "cell_type": "code",
   "execution_count": 10,
   "id": "b9d60be1-fe69-4373-85b5-2a0a9fe6be39",
   "metadata": {
    "scrolled": true,
    "tags": []
   },
   "outputs": [],
   "source": [
    "# Display CCF structures with face colored by random palette\n",
    "ccf_shape_figs = [cplots.plot_ccf_section(ccf_images, sec,\n",
    "                                           boundary_img=ccf_boundaries, \n",
    "                                           section_col=section_col,\n",
    "                                           face_palette=glasbey, # set CCF structure face color palette\n",
    "                                           edge_color='black', # set CCF structure boundary color\n",
    "                                           legend=True)\n",
    "                    for sec in abc.TH_EXAMPLE_Z_SECTIONS]\n",
    "# save as pdfs\n",
    "if save_figs:\n",
    "    for i, fig in enumerate(ccf_shape_figs):\n",
    "        sec = int(abc.TH_EXAMPLE_Z_SECTIONS[i]*10)\n",
    "        fig.savefig(f'/results/ccf_shape_z{sec}.pdf', transparent=True, \n",
    "                    bbox_inches='tight')"
   ]
  },
  {
   "cell_type": "code",
   "execution_count": 11,
   "id": "3900925b",
   "metadata": {},
   "outputs": [],
   "source": [
    "# diplay just the outlines of the CCF structures, no face color or legend\n",
    "ccf_outline_figs = [cplots.plot_ccf_section(ccf_images, sec,\n",
    "                                           boundary_img=ccf_boundaries, \n",
    "                                           section_col=section_col,\n",
    "                                           legend=False)\n",
    "                    for sec in abc.TH_EXAMPLE_Z_SECTIONS]"
   ]
  },
  {
   "cell_type": "markdown",
   "id": "8ce10499-9078-45c6-a8d6-096613653048",
   "metadata": {},
   "source": [
    "### View cell types + CCF outline overlay"
   ]
  },
  {
   "cell_type": "markdown",
   "id": "649c5fcf-b057-4cb2-b3fa-d212f339205f",
   "metadata": {},
   "source": [
    "##### Load cell type color palettes\n",
    "\n",
    "We provide two ways of selecting pre-set color palette to visualize cell types:\n",
    "1. Use the published color palettes for the ABC Atlas taxonomy levels\n",
    "2. Use a custom cluster color palette to increase contrast between spatially neighboring clusters in the thalamus"
   ]
  },
  {
   "cell_type": "code",
   "execution_count": 12,
   "id": "9c7636d3-a64c-4e70-8f72-93a6173f5c3b",
   "metadata": {
    "tags": []
   },
   "outputs": [],
   "source": [
    "# We can load & use the published color palettes for the ABC Atlas taxonomy\n",
    "abc_palettes = {level: abc.get_taxonomy_palette(level) for level in \n",
    "                ['neurotransmitter','class', 'subclass','supertype','cluster']}\n",
    "\n",
    "# We have also provided a secondary color palette for the cluster level that \n",
    "# attempts to increase the color contrast between spatially negihboring clusters\n",
    "cluster_palette = abc.get_thalamus_cluster_palette()"
   ]
  },
  {
   "cell_type": "markdown",
   "id": "ceae2970-ad5a-437d-8366-f4a51ea9c5e6",
   "metadata": {},
   "source": [
    "#### Set plot kwargs\n",
    "\n",
    "So we don't have to set these for each individual plot function call"
   ]
  },
  {
   "cell_type": "code",
   "execution_count": 13,
   "id": "692a9f75",
   "metadata": {
    "tags": []
   },
   "outputs": [],
   "source": [
    "kwargs_celltypes = dict(boundary_img=ccf_boundaries,\n",
    "                        section_col=section_col,\n",
    "                        x_col=x_col, \n",
    "                        y_col=y_col,\n",
    "                        point_size=2, # cell marker size\n",
    "                       )"
   ]
  },
  {
   "cell_type": "markdown",
   "id": "46f51d80",
   "metadata": {},
   "source": [
    "#### View cells colored by neurotransmitter"
   ]
  },
  {
   "cell_type": "code",
   "execution_count": 14,
   "id": "f0f43639",
   "metadata": {},
   "outputs": [],
   "source": [
    "taxonomy_level = 'neurotransmitter'\n",
    "nt_figs = cplots.plot_ccf_overlay(obs_th, ccf_images, \n",
    "                                        point_hue=taxonomy_level, \n",
    "                                        sections=abc.TH_EXAMPLE_Z_SECTIONS,\n",
    "                                        point_palette=abc_palettes[taxonomy_level],\n",
    "                                        legend='cells',\n",
    "                                        separate_figs=False,\n",
    "                                        figsize=(20,3),\n",
    "                                        **kwargs_celltypes)\n",
    "\n",
    "if save_figs: \n",
    "    for i, fig in enumerate(nt_figs):\n",
    "        sec = int(abc.TH_EXAMPLE_Z_SECTIONS[i]*10)\n",
    "        fig.savefig(f'/results/ccf_{taxonomy_level}_z{sec}.pdf', transparent=True, \n",
    "                    bbox_inches='tight')"
   ]
  },
  {
   "cell_type": "markdown",
   "id": "2317998b",
   "metadata": {},
   "source": [
    "#### View cells colored by class"
   ]
  },
  {
   "cell_type": "code",
   "execution_count": 15,
   "id": "60ff2a6c",
   "metadata": {},
   "outputs": [],
   "source": [
    "taxonomy_level = 'class'\n",
    "class_figs = cplots.plot_ccf_overlay(obs_th, ccf_images, \n",
    "                                     point_hue=taxonomy_level, \n",
    "                                     sections=abc.TH_EXAMPLE_Z_SECTIONS,\n",
    "                                     point_palette=abc_palettes[taxonomy_level],\n",
    "                                     legend='cells',\n",
    "                                     separate_figs=False,\n",
    "                                     figsize=(20,3),\n",
    "                                     **kwargs_celltypes)\n",
    "\n",
    "if save_figs: \n",
    "    for i, fig in enumerate(class_figs):\n",
    "        sec = int(abc.TH_EXAMPLE_Z_SECTIONS[i]*10)\n",
    "        fig.savefig(f'/results/ccf_{taxonomy_level}_z{sec}.pdf', transparent=True, \n",
    "                    bbox_inches='tight')"
   ]
  },
  {
   "cell_type": "markdown",
   "id": "af158c99-4fb5-423e-86cc-cf5abe1f1c86",
   "metadata": {},
   "source": [
    "#### View cells colored by subclass"
   ]
  },
  {
   "cell_type": "markdown",
   "id": "88921213",
   "metadata": {},
   "source": [
    "##### View all thalamus sections\n",
    "\n",
    "By setting `sections=None`, we can display all the sections in this thalamus dataset. We don't display a legend here to save space."
   ]
  },
  {
   "cell_type": "code",
   "execution_count": 16,
   "id": "8dd86680",
   "metadata": {},
   "outputs": [],
   "source": [
    "subclass_figs = cplots.plot_ccf_overlay(obs_th, ccf_images, \n",
    "                                        point_hue='subclass', \n",
    "                                        sections=None,\n",
    "                                        point_palette=abc_palettes['subclass'],\n",
    "                                        legend=None,\n",
    "                                        separate_figs=False, n_rows=4,\n",
    "                                        figsize=(20,20),\n",
    "                                        **kwargs_celltypes)\n",
    "\n",
    "if save_figs: \n",
    "    for i, fig in enumerate(subclass_figs):\n",
    "        sec = int(abc.TH_EXAMPLE_Z_SECTIONS[i]*10)\n",
    "        fig.savefig(f'/results/ccf_subclass_z{sec}.pdf', transparent=True, \n",
    "                    bbox_inches='tight')"
   ]
  },
  {
   "cell_type": "markdown",
   "id": "5082945b",
   "metadata": {},
   "source": [
    "##### View only 3 sample sections\n",
    "\n",
    "There are few enough subclasses that it makes sense to display a legend using `legend='cells'`."
   ]
  },
  {
   "cell_type": "code",
   "execution_count": 17,
   "id": "a53c1211-e833-4940-abfc-e7986047aca7",
   "metadata": {
    "scrolled": true,
    "tags": []
   },
   "outputs": [],
   "source": [
    "subclass_figs = cplots.plot_ccf_overlay(obs_th, ccf_images, \n",
    "                                        point_hue='subclass', \n",
    "                                        sections=abc.TH_EXAMPLE_Z_SECTIONS,\n",
    "                                        point_palette=abc_palettes['subclass'],\n",
    "                                        legend='cells',\n",
    "                                        separate_figs=False,\n",
    "                                        figsize=(20,3),\n",
    "                                        **kwargs_celltypes)\n",
    "\n",
    "if save_figs: \n",
    "    for i, fig in enumerate(subclass_figs):\n",
    "        sec = int(abc.TH_EXAMPLE_Z_SECTIONS[i]*10)\n",
    "        fig.savefig(f'/results/ccf_subclass_z{sec}.pdf', transparent=True, \n",
    "                    bbox_inches='tight')"
   ]
  },
  {
   "cell_type": "markdown",
   "id": "4dc79894",
   "metadata": {},
   "source": [
    "#### View cells colored by supertype\n",
    "\n",
    "There are still few enough supertypes that we'll keep the legend."
   ]
  },
  {
   "cell_type": "code",
   "execution_count": 18,
   "id": "2d5cece2",
   "metadata": {},
   "outputs": [],
   "source": [
    "taxonomy_level = 'supertype'\n",
    "supertype_figs = cplots.plot_ccf_overlay(obs_th, ccf_images, \n",
    "                                        point_hue=taxonomy_level, \n",
    "                                        sections=abc.TH_EXAMPLE_Z_SECTIONS,\n",
    "                                        point_palette=abc_palettes[taxonomy_level],\n",
    "                                        legend='cells',\n",
    "                                        separate_figs=False,\n",
    "                                        figsize=(20,3),\n",
    "                                        **kwargs_celltypes)\n",
    "\n",
    "if save_figs: \n",
    "    for i, fig in enumerate(supertype_figs):\n",
    "        sec = int(abc.TH_EXAMPLE_Z_SECTIONS[i]*10)\n",
    "        fig.savefig(f'/results/ccf_{taxonomy_level}_z{sec}.pdf', transparent=True, \n",
    "                    bbox_inches='tight')"
   ]
  },
  {
   "cell_type": "markdown",
   "id": "5d8eaa54-3bf2-4cbe-b9df-3f062186ce3a",
   "metadata": {},
   "source": [
    "#### View cells colored by cluster\n",
    "\n",
    "There are too many clusters for the legend to be readable, so we'll turn it off for this plot by setting `legend=None`.\n",
    "\n",
    "We will also use the custom color palette loaded above to increase the contrast of neighboring clusters."
   ]
  },
  {
   "cell_type": "code",
   "execution_count": 19,
   "id": "bf8451fb",
   "metadata": {
    "scrolled": true,
    "tags": []
   },
   "outputs": [],
   "source": [
    "taxonomy_level = 'cluster'\n",
    "cluster_figs = cplots.plot_ccf_overlay(obs_th, ccf_images, \n",
    "                                        point_hue=taxonomy_level, \n",
    "                                        sections=abc.TH_EXAMPLE_Z_SECTIONS,\n",
    "                                        point_palette=cluster_palette,\n",
    "                                        legend=None,\n",
    "                                        separate_figs=False,\n",
    "                                        figsize=(20,3),\n",
    "                                        **kwargs_celltypes)\n",
    "\n",
    "if save_figs: \n",
    "    for i, fig in enumerate(cluster_figs):\n",
    "        sec = int(abc.TH_EXAMPLE_Z_SECTIONS[i]*10)\n",
    "        fig.savefig(f'/results/ccf_{taxonomy_level}_z{sec}.pdf', transparent=True, \n",
    "                    bbox_inches='tight')"
   ]
  },
  {
   "cell_type": "markdown",
   "id": "8f66137a",
   "metadata": {},
   "source": [
    "You can compare this custom color palette to the published color palette for clusters:"
   ]
  },
  {
   "cell_type": "code",
   "execution_count": 20,
   "id": "2f4ac55a",
   "metadata": {},
   "outputs": [],
   "source": [
    "taxonomy_level = 'cluster'\n",
    "cluster_figs = cplots.plot_ccf_overlay(obs_th, ccf_images, \n",
    "                                        point_hue=taxonomy_level, \n",
    "                                        sections=abc.TH_EXAMPLE_Z_SECTIONS,\n",
    "                                        point_palette=abc_palettes[taxonomy_level],\n",
    "                                        legend=None,\n",
    "                                        separate_figs=False,\n",
    "                                        figsize=(20,3),\n",
    "                                        **kwargs_celltypes)\n"
   ]
  },
  {
   "cell_type": "markdown",
   "id": "b7cc76c5",
   "metadata": {},
   "source": [
    "## View cluster annotations for each nucleus"
   ]
  },
  {
   "cell_type": "code",
   "execution_count": 21,
   "id": "a9b76c85",
   "metadata": {},
   "outputs": [],
   "source": [
    "# load manual cluster annotations for thalamic nuclei\n",
    "nuclei_cluster_df = abc.nuclei_df_manual\n",
    "nuclei_cluster_df.head(5)"
   ]
  },
  {
   "cell_type": "code",
   "execution_count": 22,
   "id": "5ad4e8a0",
   "metadata": {},
   "outputs": [],
   "source": [
    "kwargs_cluster_annotations = dict(\n",
    "    bg_cells=obs_th,\n",
    "    boundary_img=ccf_boundaries,\n",
    "    section_col=section_col,\n",
    "    x_col=x_col,\n",
    "    y_col=y_col,\n",
    "    point_size=3, \n",
    "    face_palette=None,\n",
    "    edge_color='silver'\n",
    "    )"
   ]
  },
  {
   "cell_type": "code",
   "execution_count": 23,
   "id": "07520037",
   "metadata": {},
   "outputs": [],
   "source": [
    "# nucleus of interest\n",
    "nucleus = 'MD'\n",
    "\n",
    "# Let's look at the cell types in the MD in one sample section\n",
    "# sections_VM = [7.2]\n",
    "nuclei_highlight = [nucleus]\n",
    "taxonomy_level = 'cluster'\n",
    "\n",
    "# get the cluster annotations for the nucleus of interest\n",
    "obs_annot = abc.get_obs_from_annotations([nucleus], obs_th, taxonomy_level=taxonomy_level)\n",
    "\n",
    "figs_annot = cplots.plot_ccf_overlay(obs_annot, \n",
    "                                    ccf_images, \n",
    "                                    ccf_highlight=nuclei_highlight,\n",
    "                                    point_hue=taxonomy_level, \n",
    "                                    sections=None,\n",
    "                                    point_palette=cluster_palette,\n",
    "                                    legend='cells',\n",
    "                                    separate_figs=False, n_rows=3,\n",
    "                                    figsize=(20,10),\n",
    "                                    **kwargs_cluster_annotations)"
   ]
  },
  {
   "cell_type": "code",
   "execution_count": 24,
   "id": "04d89de7",
   "metadata": {},
   "outputs": [],
   "source": [
    "# get the cluster annotations for the nucleus of interest\n",
    "nucleus = ['VM']\n",
    "\n",
    "# Let's look at the cell types in the ATN in one sample section\n",
    "# sections_VM = [7.2]\n",
    "nuclei_highlight = nucleus\n",
    "taxonomy_level = 'cluster'\n",
    "\n",
    "obs_annot = abc.get_obs_from_annotations(nucleus, obs_th, taxonomy_level=taxonomy_level)\n",
    "\n",
    "figs_annot = cplots.plot_ccf_overlay(obs_annot, \n",
    "                                    ccf_images, \n",
    "                                    ccf_highlight=nuclei_highlight,\n",
    "                                    point_hue=taxonomy_level, \n",
    "                                    sections=None,\n",
    "                                    point_palette=cluster_palette,\n",
    "                                    legend='cells',\n",
    "                                    separate_figs=False, n_rows=3,\n",
    "                                    figsize=(20,10),\n",
    "                                    **kwargs_cluster_annotations)"
   ]
  },
  {
   "cell_type": "code",
   "execution_count": 25,
   "id": "7c404ec0",
   "metadata": {},
   "outputs": [],
   "source": [
    "# get the cluster annotations for the nucleus of interest\n",
    "nucleus = ['VAL']\n",
    "\n",
    "# Let's look at the cell types in the ATN in one sample section\n",
    "# sections_VM = [7.2]\n",
    "nuclei_highlight = nucleus\n",
    "taxonomy_level = 'cluster'\n",
    "\n",
    "obs_annot = abc.get_obs_from_annotations(nucleus, obs_th, taxonomy_level=taxonomy_level)\n",
    "\n",
    "figs_annot = cplots.plot_ccf_overlay(obs_annot, \n",
    "                                    ccf_images, \n",
    "                                    ccf_highlight=nuclei_highlight,\n",
    "                                    point_hue=taxonomy_level, \n",
    "                                    sections=None,\n",
    "                                    point_palette=cluster_palette,\n",
    "                                    legend='cells',\n",
    "                                    separate_figs=False, n_rows=3,\n",
    "                                    figsize=(20,10),\n",
    "                                    **kwargs_cluster_annotations)"
   ]
  },
  {
   "cell_type": "code",
   "execution_count": 26,
   "id": "29b1dc27",
   "metadata": {},
   "outputs": [],
   "source": [
    "# get the cluster annotations for the nucleus of interest\n",
    "nucleus = ['AD', 'AM', 'AV']\n",
    "\n",
    "# Let's look at the cell types in the ATN in one sample section\n",
    "nuclei_highlight = ['AD', 'AMd', 'AMv', 'AV', 'AV']\n",
    "taxonomy_level = 'cluster'\n",
    "\n",
    "obs_annot = abc.get_obs_from_annotations(nucleus, obs_th, taxonomy_level=taxonomy_level)\n",
    "\n",
    "figs_annot = cplots.plot_ccf_overlay(obs_annot, \n",
    "                                    ccf_images, \n",
    "                                    ccf_highlight=nuclei_highlight,\n",
    "                                    point_hue=taxonomy_level, \n",
    "                                    sections=None,\n",
    "                                    point_palette=cluster_palette,\n",
    "                                    legend='cells',\n",
    "                                    separate_figs=False, n_rows=2,\n",
    "                                    figsize=(20,10),\n",
    "                                    **kwargs_cluster_annotations)"
   ]
  },
  {
   "cell_type": "code",
   "execution_count": 30,
   "id": "90917213",
   "metadata": {},
   "outputs": [],
   "source": [
    "# get the cluster annotations for the nucleus of interest\n",
    "nucleus = 'PVT'\n",
    "\n",
    "# Let's look at the cell types in the ATN in one sample section\n",
    "# sections_VM = [7.2]\n",
    "nuclei_highlight = [nucleus]\n",
    "taxonomy_level = 'cluster'\n",
    "\n",
    "obs_annot = abc.get_obs_from_annotations(nucleus, obs_th, taxonomy_level=taxonomy_level)\n",
    "\n",
    "figs_annot = cplots.plot_ccf_overlay(obs_annot, \n",
    "                                    ccf_images, \n",
    "                                    ccf_highlight=nuclei_highlight,\n",
    "                                    point_hue=taxonomy_level, \n",
    "                                    sections=None,\n",
    "                                    point_palette=cluster_palette,\n",
    "                                    legend='cells',\n",
    "                                    separate_figs=False, n_rows=3,\n",
    "                                    figsize=(20,10),\n",
    "                                    **kwargs_cluster_annotations)"
   ]
  },
  {
   "cell_type": "code",
   "execution_count": null,
   "id": "a90f9be3",
   "metadata": {},
   "outputs": [],
   "source": []
  }
 ],
 "metadata": {
  "kernelspec": {
   "display_name": "base",
   "language": "python",
   "name": "python3"
  },
  "language_info": {
   "codemirror_mode": {
    "name": "ipython",
    "version": 3
   },
   "file_extension": ".py",
   "mimetype": "text/x-python",
   "name": "python",
   "nbconvert_exporter": "python",
   "pygments_lexer": "ipython3",
   "version": "3.9.12"
  }
 },
 "nbformat": 4,
 "nbformat_minor": 5
}
