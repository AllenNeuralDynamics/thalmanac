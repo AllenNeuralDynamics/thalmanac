{
 "cells": [
  {
   "cell_type": "markdown",
   "id": "2a8b5213-6f43-4ed7-98af-ae26dc9135a6",
   "metadata": {},
   "source": [
    "**Discrepancies in Gene Expression between MERSCOPE brain1 (animal 609882) and brain3 (animal 638850)**\n",
    "\n",
    "This notebook is meant to serve as a central repository for any discrepancies we uncover between brain1 and brain3 gene expression and/or cell type mapping"
   ]
  },
  {
   "cell_type": "code",
   "execution_count": 27,
   "id": "7834a925-7f9c-41c0-811b-c3a9db319a20",
   "metadata": {},
   "outputs": [],
   "source": [
    "import numpy as np\n",
    "import pathlib\n",
    "import anndata as ad\n",
    "import pandas as pd\n",
    "\n",
    "import matplotlib\n",
    "import matplotlib.pyplot as plt\n",
    "\n",
    "%matplotlib inline"
   ]
  },
  {
   "cell_type": "markdown",
   "id": "418e67a9-68fa-4fc2-9977-1d13966ba328",
   "metadata": {},
   "source": [
    "# Load anndata"
   ]
  },
  {
   "cell_type": "code",
   "execution_count": 3,
   "id": "a594d482-a2b4-4c00-9aa5-edd1dff03f97",
   "metadata": {},
   "outputs": [],
   "source": [
    "# Load brain1 + brain3 combined adata\n",
    "adata = ad.read_h5ad('../data/merfish_609882and638850_AIT17_annotated_TH_ZI_only_shared_genes_only_2023-04-07_00-00-00/Brain_1_3_TH_ZI.h5ad')"
   ]
  },
  {
   "cell_type": "code",
   "execution_count": 4,
   "id": "c2db8911-fbed-481e-8d1f-a032c6b5be4c",
   "metadata": {},
   "outputs": [],
   "source": [
    "adata.X"
   ]
  },
  {
   "cell_type": "markdown",
   "id": "25689a49-61e6-4a23-8163-878475cf720c",
   "metadata": {},
   "source": [
    "# Plotting Functions"
   ]
  },
  {
   "cell_type": "markdown",
   "id": "d37b563f-3280-4029-b4bf-048c3e2e8ffd",
   "metadata": {
    "tags": []
   },
   "source": [
    "## plot_brain1_vs_brain3_expression()"
   ]
  },
  {
   "cell_type": "code",
   "execution_count": 125,
   "id": "445703f3-3ea3-43da-846c-8782b0dd5d49",
   "metadata": {},
   "outputs": [],
   "source": [
    "from scipy import sparse\n",
    "\n",
    "def plot_brain1_vs_brain3_expression(ad, gene, section=None,\n",
    "                                     **kwargs):\n",
    "    \"\"\" Display the spatial expression of a requested list of genes a paired\n",
    "    section of brain1 and brain3 \"\"\"\n",
    "\n",
    "    # Manual key of paired sections so that you only need to specify one \n",
    "    # section\n",
    "    section_pairs_brain1_brain3 = np.array([['1198980071','1199651063'],\n",
    "                                            ['1198980074','None'],\n",
    "                                            ['1198980077','1199651060'],\n",
    "                                            ['1198980080','None'],\n",
    "                                            ['None',      '1199651057'],\n",
    "                                            ['1198980086','None'],\n",
    "                                            ['1198980089','1199651054'],\n",
    "                                            ['1198980092','None'],\n",
    "                                            ['1198980095','None'],\n",
    "                                            ['1198980098','None'],\n",
    "                                            ['1198980101','1199651048'],\n",
    "                                            ['1198980105','None'],\n",
    "                                            ['1198980108','1199651045'],\n",
    "                                            ['1198980111','None'],\n",
    "                                            ['1198980114','1199651042'],\n",
    "                                            ['1198980117','None'],\n",
    "                                            ['1198980120','1199651039'],\n",
    "                                            ['1198980123','None'],\n",
    "                                            ['None',      '1199651036'],\n",
    "                                            ['1198980131','None'],\n",
    "                                            ['1198980134','1199651033'],\n",
    "                                            ['1198980137','None'],\n",
    "                                            ['1198980140','None'],\n",
    "                                            ['1198980146','1199651027'],\n",
    "                                            ['1198980149','None'],\n",
    "                                            ['1198980152','1199651024'],\n",
    "                                            ['1198980155','None'],\n",
    "                                            ['None',      '1199651021'],\n",
    "                                            ['1198980161','None'],\n",
    "                                            ['1198980164','1199651018'],\n",
    "                                            ['None',      '1199651015']])\n",
    "\n",
    "    #  Handle input to allow for multiple ways to specify the section to plot\n",
    "    if section is None:\n",
    "        # Default to ['1198980114','1199651042'] section pair\n",
    "        pair_index = 14\n",
    "\n",
    "    elif isinstance(section, str):\n",
    "        # allow to specify by the section ID string\n",
    "        sec_mask = ((section_pairs_brain1_brain3[:, 0]==section) | \n",
    "                    (section_pairs_brain1_brain3[:, 1]==section))\n",
    "        if sum(sec_mask)==1:\n",
    "            pair_index = np.where(sec_mask)[0][0]\n",
    "        else:\n",
    "            raise Exception('Unrecognized section ID')\n",
    "\n",
    "    elif isinstance(section, int):\n",
    "        # allow to specify by the AP order index of the sections\n",
    "        if section in np.arange(len(section_pairs_brain1_brain3)):\n",
    "            pair_index = section\n",
    "        else:\n",
    "            raise Exception('Unrecognized section index')\n",
    "    else:\n",
    "        raise Exception('Unrecognized section number. Must be a string of a brain1 or brain3 section ID or a numberical index')\n",
    "\n",
    "    sec_names = section_pairs_brain1_brain3[pair_index]\n",
    "\n",
    "    # obs masks for each brain's section\n",
    "    sec_mask_brain1 = ad.obs.section==section_pairs_brain1_brain3[pair_index][0]\n",
    "    sec_mask_brain3 = ad.obs.section==section_pairs_brain1_brain3[pair_index][1]\n",
    "\n",
    "    # The transcript counts are stored in a sparse matrix, which cannot be\n",
    "    # directly plotted w/out first: making dense, converting to an np.array,\n",
    "    # and then flattening\n",
    "    gene_exp_brain1 = np.array(sparse.csr_matrix.todense(adata[sec_mask_brain1][:,gene].X)).flatten()\n",
    "    gene_exp_brain3 = np.array(sparse.csr_matrix.todense(adata[sec_mask_brain3][:,gene].X)).flatten()\n",
    "\n",
    "    # Plot figure                           \n",
    "    fig, axes = plt.subplots(1,2,figsize=(9,6))\n",
    "\n",
    "    # Set some values for use in scatter()\n",
    "    xaxis_shift_brain3 = 7000  # tighten up spatial_cirro spacing of two sections\n",
    "    yaxis_shift_brain3 = 4700  # better alignment of the brain3 sections\n",
    "    colormap = 'Blues' #'viridis'\n",
    "    marker_size = 0.5\n",
    "\n",
    "    # brain1\n",
    "    ax = axes[0]\n",
    "    sc = ax.scatter(adata[sec_mask_brain1].obsm[\"spatial_cirro\"][:,0],\n",
    "                    adata[sec_mask_brain1].obsm[\"spatial_cirro\"][:,1], \n",
    "                    c=gene_exp_brain1, \n",
    "                    cmap=colormap, s=marker_size)\n",
    "    ax.set_title('brain1', color='grey') # , (61000,-6400), ha='center', \n",
    "    cbar = plt.colorbar(sc, ax=ax, fraction=0.03, pad=0.04)\n",
    "    cbar.set_label('log2(CPV+1)')\n",
    "    # brain3\n",
    "    ax = axes[1]\n",
    "    sc = ax.scatter(adata[sec_mask_brain3].obsm[\"spatial_cirro\"][:,0]+xaxis_shift_brain3,\n",
    "                    adata[sec_mask_brain3].obsm[\"spatial_cirro\"][:,1]+yaxis_shift_brain3, \n",
    "                    c=gene_exp_brain3, \n",
    "                    cmap=colormap, s=marker_size)\n",
    "    ax.set_title('brain3', color='grey') # (68000,-6400), ha='center', \n",
    "\n",
    "    cbar = plt.colorbar(sc, ax=ax, fraction=0.03, pad=0.04)\n",
    "    cbar.set_label('log2(CPV+1)')\n",
    "\n",
    "    # formatting\n",
    "    for ax in axes:\n",
    "        ax.set_aspect('equal')\n",
    "        ax.axis('off')\n",
    "        ax.axes.get_xaxis().set_visible(False)\n",
    "        ax.axes.get_yaxis().set_visible(False)\n",
    "\n",
    "    fig.suptitle(gene)\n",
    "    fig.tight_layout()\n",
    "    fig.subplots_adjust(top=1.3)"
   ]
  },
  {
   "cell_type": "markdown",
   "id": "64532d7c-02fc-478b-aa4a-ee863b2fa8db",
   "metadata": {},
   "source": [
    "## Demonstrate plotting function"
   ]
  },
  {
   "cell_type": "code",
   "execution_count": 157,
   "id": "fd6eb01b-7aea-4d50-8e2e-c93a151da313",
   "metadata": {},
   "outputs": [],
   "source": [
    " plot_brain1_vs_brain3_expression(adata,'Gad2', section=10)"
   ]
  },
  {
   "cell_type": "markdown",
   "id": "cb6e1586-2080-4f31-88e4-25ceb107b024",
   "metadata": {},
   "source": [
    "# Genes that are different"
   ]
  },
  {
   "cell_type": "code",
   "execution_count": null,
   "id": "25713072-b1ea-4463-a337-47f2db4029bb",
   "metadata": {},
   "outputs": [],
   "source": []
  },
  {
   "cell_type": "code",
   "execution_count": null,
   "id": "8c65e298-ba3f-46e9-8463-d98c38fd7dcf",
   "metadata": {},
   "outputs": [],
   "source": []
  }
 ],
 "metadata": {
  "kernelspec": {
   "display_name": "Python 3",
   "language": "python",
   "name": "python3"
  },
  "language_info": {
   "codemirror_mode": {
    "name": "ipython",
    "version": 3
   },
   "file_extension": ".py",
   "mimetype": "text/x-python",
   "name": "python",
   "nbconvert_exporter": "python",
   "pygments_lexer": "ipython3",
   "version": "3.9.12"
  }
 },
 "nbformat": 4,
 "nbformat_minor": 5
}
