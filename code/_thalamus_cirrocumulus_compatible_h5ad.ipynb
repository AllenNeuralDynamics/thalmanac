{
 "cells": [
  {
   "cell_type": "code",
   "execution_count": 1,
   "id": "cf8aba35-5df1-48fa-a0d7-5f5210c10923",
   "metadata": {
    "tags": []
   },
   "outputs": [],
   "source": [
    "%load_ext autoreload\n",
    "%autoreload 2"
   ]
  },
  {
   "cell_type": "code",
   "execution_count": 2,
   "id": "eeb91f26-fb01-497b-ab18-aebe2d394311",
   "metadata": {
    "tags": []
   },
   "outputs": [],
   "source": [
    "import anndata as ad\n",
    "import pandas as pd\n",
    "import numpy as np\n",
    "\n",
    "import scanpy as sc\n",
    "\n",
    "from thalamus_merfish_analysis import ccf_plots as cplots\n",
    "from thalamus_merfish_analysis import abc_load as abc\n",
    "\n",
    "import matplotlib.pyplot as plt\n",
    "import seaborn as sns\n",
    "import colorcet as cc\n",
    "\n",
    "%matplotlib inline"
   ]
  },
  {
   "cell_type": "markdown",
   "id": "d3fefb0d-7223-49e4-b70d-61336b5bf39a",
   "metadata": {},
   "source": [
    "## Load abc atlas data"
   ]
  },
  {
   "cell_type": "code",
   "execution_count": 3,
   "id": "89c86f4f-ee94-4742-9633-eb76e6c009c1",
   "metadata": {
    "tags": []
   },
   "outputs": [],
   "source": [
    "version = '20230830'\n",
    "adata_th_zi = abc.load_adata_thalamus(version=version, \n",
    "                             transform='raw', # will manually norm+log2 later\n",
    "                             subset_to_TH_ZI=True, \n",
    "                             with_metadata=True, \n",
    "                             flip_y=True,\n",
    "                             round_z=True,\n",
    "                             with_colors=False) # need colors to come with"
   ]
  },
  {
   "cell_type": "code",
   "execution_count": 6,
   "id": "31f3dfe3-c94e-4a99-8ef4-8a3945f7ae2d",
   "metadata": {
    "tags": []
   },
   "outputs": [],
   "source": [
    "adata_th_zi"
   ]
  },
  {
   "cell_type": "code",
   "execution_count": 24,
   "id": "07a88613-73e9-4deb-90ed-8c74f56436f1",
   "metadata": {
    "tags": []
   },
   "outputs": [],
   "source": [
    "# ['x_ccf','y_ccf','z_ccf'] in adata_th_zi.obs.columns\n",
    "assert_message = 'cell_by_gene obs columns must match format output by sis.spot_table.cell_by_gene_anndata()' \n",
    "assert {'x_ccf','y_ccf','z_ccf'}.issubset(adata_th_zi.obs.columns), assert_message"
   ]
  },
  {
   "cell_type": "code",
   "execution_count": 9,
   "id": "eceeaf37-833c-4e98-8c72-fb8f74c02f4f",
   "metadata": {
    "tags": []
   },
   "outputs": [],
   "source": [
    "adata_th_zi.obs.head(3)"
   ]
  },
  {
   "cell_type": "code",
   "execution_count": 12,
   "id": "2824d82e-cba6-401d-8ad8-8be466ff37f3",
   "metadata": {
    "tags": []
   },
   "outputs": [],
   "source": [
    "adata_th_zi.var"
   ]
  },
  {
   "cell_type": "code",
   "execution_count": 7,
   "id": "192c0713-1c78-40d7-9b87-4c8591f2a715",
   "metadata": {
    "tags": []
   },
   "outputs": [],
   "source": [
    "adata_th_zi.obs.index"
   ]
  },
  {
   "cell_type": "code",
   "execution_count": 4,
   "id": "82df566c-b239-4b74-88db-a1f38b9a8d94",
   "metadata": {
    "tags": []
   },
   "outputs": [],
   "source": [
    "adata_th_zi_neurons = abc.filter_by_class_thalamus(adata_th_zi, filter_nonneuronal=True,\n",
    "                                                   filter_midbrain=True)\n",
    "\n",
    "# filter to thalamus boundaries (add a buffer here if wanted)\n",
    "filter_buffer = 0  # 5\n",
    "realigned=False\n",
    "obs_filtered = abc.filter_by_thalamus_coords(adata_th_zi_neurons.obs.copy(), \n",
    "                                             realigned=realigned, \n",
    "                                             buffer=filter_buffer)\n",
    "adata_th_zi_neurons = adata_th_zi_neurons[obs_filtered.index].copy() "
   ]
  },
  {
   "cell_type": "code",
   "execution_count": 5,
   "id": "1aec8dde-2ea1-46a4-939a-14d1baf87bf9",
   "metadata": {
    "tags": []
   },
   "outputs": [],
   "source": [
    "gene_list = [gene for gene in adata_th_zi_neurons.var_names if 'Blank' not in gene]\n",
    "adata_th_zi_neurons = adata_th_zi_neurons[:,gene_list]"
   ]
  },
  {
   "cell_type": "code",
   "execution_count": 6,
   "id": "31cb3472-145a-46ba-9c82-530e547e7dda",
   "metadata": {
    "tags": []
   },
   "outputs": [],
   "source": [
    "# adata_th_zi_neurons_left = adata_th_zi_neurons[adata_th_zi_neurons.obs['left_hemisphere']]"
   ]
  },
  {
   "cell_type": "code",
   "execution_count": 7,
   "id": "50e448e1-e675-4dd5-8497-8224a1628b2d",
   "metadata": {
    "tags": []
   },
   "outputs": [],
   "source": [
    "# adata = adata_th_zi_neurons_left.copy()\n",
    "adata = adata_th_zi_neurons.copy()\n",
    "adata"
   ]
  },
  {
   "cell_type": "code",
   "execution_count": 8,
   "id": "e8dbbfff-76c8-494b-bb84-7d377e8952df",
   "metadata": {
    "tags": []
   },
   "outputs": [],
   "source": [
    "# which columns in obs to use for plotting\n",
    "if realigned:\n",
    "    ccf_label = 'parcellation_substructure_realigned'\n",
    "    coords = 'section'\n",
    "else:\n",
    "    ccf_label = 'parcellation_substructure'\n",
    "    coords = 'reconstructed'\n",
    "    \n",
    "x_col = 'x_'+coords\n",
    "y_col = 'y_'+coords\n",
    "section_col = 'z_'+coords\n",
    "\n",
    "sections_all = sorted(adata.obs[section_col].unique())"
   ]
  },
  {
   "cell_type": "code",
   "execution_count": 9,
   "id": "2e6bb79a-51e8-4888-88d0-bd105f3d7544",
   "metadata": {
    "tags": []
   },
   "outputs": [],
   "source": [
    "# copy over\n",
    "adata.obs['x_cirro'] = adata.obs[x_col].copy()\n",
    "adata.obs['y_cirro'] = adata.obs[y_col].copy()\n",
    "\n",
    "# set up cirro coords for four columns of TH sections\n",
    "x_shift = 7\n",
    "y_shift = -5\n",
    "count = 0\n",
    "n_cols = 4\n",
    "for i, sec in enumerate(reversed(sections_all)):\n",
    "    # 4 sections per row\n",
    "    if i in [n_cols,n_cols*2,n_cols*3]:\n",
    "        count = 0\n",
    "        curr_y_shift = y_shift*(i/n_cols)\n",
    "    curr_x_shift = x_shift*(count)\n",
    "    \n",
    "    mask = (adata.obs[section_col]==sec)\n",
    "    adata.obs.loc[mask, 'x_cirro'] += curr_x_shift\n",
    "    \n",
    "    if i >=n_cols:\n",
    "        adata.obs.loc[mask, 'y_cirro'] += curr_y_shift\n",
    "        \n",
    "    count+=1"
   ]
  },
  {
   "cell_type": "code",
   "execution_count": 10,
   "id": "f153d1e5-31a2-4048-b3ec-5fdc8e547fbd",
   "metadata": {
    "tags": []
   },
   "outputs": [],
   "source": [
    "# add coordinates to obsm\n",
    "adata.obsm['cirro_spatial'] = adata.obs[['x_cirro','y_cirro']].to_numpy()\n",
    "adata.obsm['ccf_spatial'] = adata.obs[['x_ccf','y_ccf','z_ccf']].to_numpy()"
   ]
  },
  {
   "cell_type": "code",
   "execution_count": 11,
   "id": "2033e220-4e4f-4a72-a8c5-17dcf2c9fbfa",
   "metadata": {
    "tags": []
   },
   "outputs": [],
   "source": [
    "plt.scatter(adata.obs['x_cirro'], adata.obs['y_cirro'], s=0.001)\n",
    "plt.axis('equal')\n",
    "plt.show()"
   ]
  },
  {
   "cell_type": "markdown",
   "id": "0afba2f5-aab2-487a-bb7c-627e6bdbf5de",
   "metadata": {
    "tags": []
   },
   "source": [
    "## Make color lists for .uns\n",
    "\n",
    ".uns\\[\"cluster_colors\"\\] should be a list of colors as hex strings (e.g. #D1C9BA)  in the order of the .obs.cluster.cat.categories\n",
    "\n",
    "and same for .uns\\[\"subclass_colors\"\\] matching the categories of .obs.subclass"
   ]
  },
  {
   "cell_type": "code",
   "execution_count": 12,
   "id": "c01b3be8-3fac-4443-9c95-7ecc8a7aaadc",
   "metadata": {
    "tags": []
   },
   "outputs": [],
   "source": [
    "# no idea if this makes a difference, but sorting it makes it easier for me to \n",
    "# check the order is correct\n",
    "class_cat_sorted = sorted(adata.obs['class'].cat.categories)\n",
    "adata.obs['class'] = adata.obs['class'].cat.reorder_categories(class_cat_sorted, ordered=False)\n",
    "\n",
    "subclass_cat_sorted = sorted(adata.obs['subclass'].cat.categories)\n",
    "adata.obs['subclass'] = adata.obs['subclass'].cat.reorder_categories(subclass_cat_sorted, ordered=False)\n",
    "\n",
    "supertype_cat_sorted = sorted(adata.obs['supertype'].cat.categories)\n",
    "adata.obs['supertype'] = adata.obs['supertype'].cat.reorder_categories(supertype_cat_sorted, ordered=False)\n",
    "\n",
    "cluster_cat_sorted = sorted(adata.obs['cluster'].cat.categories)\n",
    "adata.obs['cluster'] = adata.obs['cluster'].cat.reorder_categories(cluster_cat_sorted, ordered=False)"
   ]
  },
  {
   "cell_type": "code",
   "execution_count": 13,
   "id": "b5484e96-fee1-42b9-a88f-c89f2f447cce",
   "metadata": {
    "tags": []
   },
   "outputs": [],
   "source": [
    "# using explicitly .cat.categories.to_list() to ensure the colors are in the right order\n",
    "palettes = {level: abc.get_taxonomy_palette(level) \n",
    "            for level in ['class','subclass','supertype','cluster']}\n",
    "adata.uns['class_colors'] = [palettes['class'][x] for x in adata.obs['class'].cat.categories]\n",
    "\n",
    "adata.uns['subclass_colors'] = [palettes['subclass'][x] for x in adata.obs['subclass'].cat.categories]\n",
    "\n",
    "adata.uns['supertype_colors'] = [palettes['supertype'][x] for x in adata.obs['supertype'].cat.categories]\n",
    "\n",
    "adata.uns['cluster_colors'] = [palettes['cluster'][x] for x in adata.obs['cluster'].cat.categories]"
   ]
  },
  {
   "cell_type": "code",
   "execution_count": 14,
   "id": "64f731ff-0bcc-4777-8da4-8e929261fa4e",
   "metadata": {
    "tags": []
   },
   "outputs": [],
   "source": [
    "adata.uns"
   ]
  },
  {
   "cell_type": "markdown",
   "id": "ad40fd89-335e-46a6-9a40-339037cd8656",
   "metadata": {},
   "source": [
    "## Generate UMAP, tSNE, etc."
   ]
  },
  {
   "cell_type": "markdown",
   "id": "66f55880-d90b-48d4-a4f3-26a1c4622b40",
   "metadata": {},
   "source": [
    "### on raw"
   ]
  },
  {
   "cell_type": "code",
   "execution_count": 15,
   "id": "bca213b4-04e2-4bd4-9528-816c264ee31f",
   "metadata": {
    "tags": []
   },
   "outputs": [],
   "source": [
    "# PCA pre-processing\n",
    "sc.pp.pca(adata)\n",
    "sc.pl.pca(adata)"
   ]
  },
  {
   "cell_type": "code",
   "execution_count": 16,
   "id": "4ff37388-45e2-40f9-af3b-72689f8a7505",
   "metadata": {
    "tags": []
   },
   "outputs": [],
   "source": [
    "# more pre-processing\n",
    "sc.pp.neighbors(adata)"
   ]
  },
  {
   "cell_type": "code",
   "execution_count": 17,
   "id": "fef61866-b8b7-458e-982f-9ebaab379387",
   "metadata": {
    "tags": []
   },
   "outputs": [],
   "source": [
    "# UMAP\n",
    "sc.tl.umap(adata)\n",
    "sc.pl.umap(adata)"
   ]
  },
  {
   "cell_type": "code",
   "execution_count": 18,
   "id": "7f92c87a-2d65-43e9-8a5b-5db4caed5df7",
   "metadata": {
    "tags": []
   },
   "outputs": [],
   "source": [
    "# tSNE - takes much longer than UMAP to run\n",
    "sc.tl.tsne(adata)\n",
    "sc.pl.tsne(adata)"
   ]
  },
  {
   "cell_type": "code",
   "execution_count": 19,
   "id": "846b89c1-71d7-4b2a-a10e-62f119066fd8",
   "metadata": {
    "tags": []
   },
   "outputs": [],
   "source": [
    "adata.obsm"
   ]
  },
  {
   "cell_type": "markdown",
   "id": "db9c3c30-0052-4e87-8df9-3540f0bc2982",
   "metadata": {},
   "source": [
    "### on log2"
   ]
  },
  {
   "cell_type": "code",
   "execution_count": 20,
   "id": "b448c9bf-b872-4c24-b570-b3489678d74e",
   "metadata": {
    "tags": []
   },
   "outputs": [],
   "source": [
    "# log transform gene expr for dimensionality reduction\n",
    "adata_log2 = adata.copy()\n",
    "adata_log2.X = np.asarray(np.log2(1 + adata.X*1e6/np.sum(adata.X.toarray(), axis=1, keepdims=True)))"
   ]
  },
  {
   "cell_type": "code",
   "execution_count": 21,
   "id": "4328ab6d-5740-47d3-8a02-b82afccd02ee",
   "metadata": {
    "tags": []
   },
   "outputs": [],
   "source": [
    "# PCA pre-processing\n",
    "sc.pp.pca(adata_log2)\n",
    "sc.pl.pca(adata_log2)\n",
    "\n",
    "# more pre-processing\n",
    "sc.pp.neighbors(adata_log2)"
   ]
  },
  {
   "cell_type": "code",
   "execution_count": 22,
   "id": "9d9a3c03-fcd6-4af3-be31-c5c580343636",
   "metadata": {
    "tags": []
   },
   "outputs": [],
   "source": [
    "# UMAP\n",
    "sc.tl.umap(adata_log2)\n",
    "sc.pl.umap(adata_log2)"
   ]
  },
  {
   "cell_type": "code",
   "execution_count": 23,
   "id": "51cc5502-d83f-421b-8232-3f190ce7b6da",
   "metadata": {
    "tags": []
   },
   "outputs": [],
   "source": [
    "# tSNE - takes much longer than UMAP to run\n",
    "sc.tl.tsne(adata_log2)\n",
    "sc.pl.tsne(adata_log2)"
   ]
  },
  {
   "cell_type": "code",
   "execution_count": 24,
   "id": "57c563a1-6127-4712-a7dc-fc4637334863",
   "metadata": {
    "tags": []
   },
   "outputs": [],
   "source": [
    "adata_log2.obsm"
   ]
  },
  {
   "cell_type": "markdown",
   "id": "3da85250-34b2-4c76-9693-bc54a210b2da",
   "metadata": {},
   "source": [
    "### copy raw results over to adata_log2"
   ]
  },
  {
   "cell_type": "code",
   "execution_count": 38,
   "id": "e1a4285a-587e-40d3-bdf2-57a680d229ac",
   "metadata": {
    "tags": []
   },
   "outputs": [],
   "source": [
    "adata_log2.obsm['X_umap_raw'] = adata.obsm['X_umap']\n",
    "adata_log2.obsm['X_tsne_raw'] = adata.obsm['X_tsne']"
   ]
  },
  {
   "cell_type": "markdown",
   "id": "6b187b7e-73af-4ca5-b549-c86b08ea693d",
   "metadata": {},
   "source": [
    "## Load & save SpaGCN domains results"
   ]
  },
  {
   "cell_type": "code",
   "execution_count": 26,
   "id": "feff5d04-36fe-4c7d-ab4e-3d699203eb9e",
   "metadata": {
    "tags": []
   },
   "outputs": [],
   "source": [
    "# load in SpaGCN domain results\n",
    "# temporarily a static file in '../code/resources' until I get a reproducible run setup for the spagcn capsule\n",
    "spagcn_domains_df_all = pd.read_parquet('/code/resources/spagcn_predicated_domains.parquet')\n",
    "\n",
    "# need to convert to categories since they're imported as int64\n",
    "spagcn_domains_df = spagcn_domains_df_all[['res1pt4']].copy().astype('str')\n",
    "spagcn_domains_df = spagcn_domains_df.astype('category')\n",
    "spagcn_domains_df.rename(columns={'res1pt4':'SpaGCN_domains'},inplace=True)\n",
    "spagcn_domains_df['SpaGCN_domains']\n",
    "\n",
    "adata_log2.obs = adata_log2.obs.join(spagcn_domains_df, on='cell_label')\n",
    "\n",
    "adata_log2.obs['SpaGCN_domains'] = adata_log2.obs['SpaGCN_domains'].cat.add_categories('no data').fillna('no data')\n",
    "\n",
    "adata_log2.obs['SpaGCN_domains']"
   ]
  },
  {
   "cell_type": "code",
   "execution_count": 27,
   "id": "ed89ed7c-a88b-499f-9706-c4ec71e1c543",
   "metadata": {
    "tags": []
   },
   "outputs": [],
   "source": [
    "spg_domain_cats = adata_log2.obs['SpaGCN_domains'].cat.categories\n",
    "print(f'{spg_domain_cats=}')\n",
    "spg_palette_sns = sns.color_palette(cc.glasbey, n_colors=len(spg_domain_cats))\n",
    "\n",
    "# set the 'no data' category color to white so it doesn't show up in cirro\n",
    "spg_palette_sns[-1] = (1.0, 1.0, 1.0)\n",
    "\n",
    "# need RGB dict for sns plotting to check colors\n",
    "palette_dict_sns = dict(zip(spg_domain_cats, spg_palette_sns))\n",
    "\n",
    "# need hex strings for cirro\n",
    "spg_palette_cirro = list(spg_palette_sns.as_hex())\n",
    "print(spg_palette_cirro)"
   ]
  },
  {
   "cell_type": "code",
   "execution_count": 28,
   "id": "fac2c4b6-cd8f-4375-8b01-bcd532086969",
   "metadata": {
    "tags": []
   },
   "outputs": [],
   "source": [
    "fig = plt.figure(figsize=(20,15))\n",
    "ax = fig.gca()\n",
    "sns.scatterplot(adata_log2.obs, ax=ax, x='x_cirro', y='y_cirro', \n",
    "                hue='SpaGCN_domains', s=10, palette=palette_dict_sns, \n",
    "                linewidth=0, legend=False)\n",
    "plt.axis('equal')"
   ]
  },
  {
   "cell_type": "code",
   "execution_count": 29,
   "id": "e8e2dde4-5ab2-475a-9992-70698e54ec16",
   "metadata": {
    "tags": []
   },
   "outputs": [],
   "source": [
    "adata_log2.uns['SpaGCN_domains_color'] = spg_palette_cirro"
   ]
  },
  {
   "cell_type": "markdown",
   "id": "6c0dac93-69f7-48e8-a765-6e64a2eb3325",
   "metadata": {
    "tags": []
   },
   "source": [
    "# Load & save NSF results"
   ]
  },
  {
   "cell_type": "code",
   "execution_count": 30,
   "id": "f4bd23d5-9bd9-4e1f-b5c0-fe220a0e4f10",
   "metadata": {
    "tags": []
   },
   "outputs": [],
   "source": [
    "adata_nsf = ad.read_zarr(\"/root/capsule/data/nsf_2000_adata/nsf_2000_adata.zarr\")"
   ]
  },
  {
   "cell_type": "code",
   "execution_count": 31,
   "id": "afc152f0-2a84-4c58-a3b1-8768139292cf",
   "metadata": {
    "tags": []
   },
   "outputs": [],
   "source": [
    "nsf_cols = ['nsf_tot', 'nsf0', 'nsf1', 'nsf2', 'nsf3', 'nsf4', \n",
    "            'nsf5', 'nsf6', 'nsf7', 'nsf8', 'nsf9', 'nsf10', \n",
    "            'nsf11', 'nsf12', 'nsf13', 'nsf14', 'nsf15', 'nsf16', \n",
    "            'nsf17', 'nsf18', 'nsf19', 'nsf20', 'nsf21', 'nsf22', \n",
    "            'nsf23', 'nsf24', 'nsf25', 'nsf26', 'nsf27', 'nsf28', \n",
    "            'nsf29']\n",
    "nsf_df = adata_nsf.obs[nsf_cols].copy()\n",
    "nsf_df"
   ]
  },
  {
   "cell_type": "code",
   "execution_count": 32,
   "id": "ff76d673-34a3-43e3-8e5f-c61b1fd212f1",
   "metadata": {
    "tags": []
   },
   "outputs": [],
   "source": [
    "adata_log2.obs = adata_log2.obs.join(nsf_df, on='cell_label')\n",
    "adata_log2.obs.head(3)"
   ]
  },
  {
   "cell_type": "code",
   "execution_count": 33,
   "id": "39f3aa14-6b38-49d8-9f6d-40000a991751",
   "metadata": {
    "tags": []
   },
   "outputs": [],
   "source": [
    "adata_log2.obs[nsf_cols] = adata_log2.obs[nsf_cols].fillna(0)"
   ]
  },
  {
   "cell_type": "code",
   "execution_count": 34,
   "id": "f90fff0f-1ade-4a91-b09b-c9f8e6c10329",
   "metadata": {
    "tags": []
   },
   "outputs": [],
   "source": [
    "adata_log2.obs.head(5)"
   ]
  },
  {
   "cell_type": "markdown",
   "id": "6cc51687-2f8c-4c06-a067-bda1cbcad547",
   "metadata": {},
   "source": [
    "## Clean up obs"
   ]
  },
  {
   "cell_type": "code",
   "execution_count": 35,
   "id": "79896c35-e82f-4243-9531-97de367407fb",
   "metadata": {
    "tags": []
   },
   "outputs": [],
   "source": [
    "cols_to_remove = ['parcellation_division', 'parcellation_index', \n",
    "                  # 'parcellation_structure','parcellation_substructure', \n",
    "                  'x_ccf', 'y_ccf', 'z_ccf', 'x_cirro', 'y_cirro']\n",
    "\n",
    "adata_log2.obs.drop(columns=cols_to_remove, inplace=True)"
   ]
  },
  {
   "cell_type": "markdown",
   "id": "d2310712-e6c0-4a61-b486-f2422fe2a21c",
   "metadata": {},
   "source": [
    "## Save as h5ad"
   ]
  },
  {
   "cell_type": "code",
   "execution_count": 36,
   "id": "20f0c14b-44fb-4b9c-afa2-0b9d95c7a119",
   "metadata": {
    "tags": []
   },
   "outputs": [],
   "source": [
    "adata_log2"
   ]
  },
  {
   "cell_type": "code",
   "execution_count": 39,
   "id": "9a0af0aa-a4ca-446c-8e2b-0b9e774f52f7",
   "metadata": {
    "tags": []
   },
   "outputs": [],
   "source": [
    "adata_log2.write('/results/wmb_abc_atlas_v20230830_th_nsf_spagcn_for_cirro_log2CPM.h5ad', compression=\"gzip\")"
   ]
  },
  {
   "cell_type": "code",
   "execution_count": 40,
   "id": "fb2e12db-f985-493d-a1a1-632d94d03ab7",
   "metadata": {
    "tags": []
   },
   "outputs": [],
   "source": [
    "adata.write('/results/wmb_abc_atlas_v20230830_th_nsf_spagcn_for_cirro_raw.h5ad', compression=\"gzip\")"
   ]
  },
  {
   "cell_type": "code",
   "execution_count": null,
   "id": "83bee743-1e2e-4b2e-8b0d-de59cb180203",
   "metadata": {},
   "outputs": [],
   "source": []
  },
  {
   "cell_type": "code",
   "execution_count": 41,
   "id": "1d59565a-d1fd-4aa4-bd64-422642611da7",
   "metadata": {
    "tags": []
   },
   "outputs": [],
   "source": [
    "adata_raw = adata_log2.copy()"
   ]
  },
  {
   "cell_type": "code",
   "execution_count": 42,
   "id": "2a360d09-89dc-495b-9eb9-4e39d5f6102e",
   "metadata": {
    "tags": []
   },
   "outputs": [],
   "source": [
    "adata_raw.X = adata.X.copy()"
   ]
  },
  {
   "cell_type": "code",
   "execution_count": 43,
   "id": "0a79c6d5-5f60-4321-8d97-178e9a3a3686",
   "metadata": {
    "tags": []
   },
   "outputs": [],
   "source": [
    "adata_raw.write('/results/wmb_abc_atlas_v20230830_th_nsf_spagcn_for_cirro_raw.h5ad', compression=\"gzip\")"
   ]
  },
  {
   "cell_type": "code",
   "execution_count": 46,
   "id": "9e63ef79-377f-4c51-9c56-4962383b7249",
   "metadata": {
    "tags": []
   },
   "outputs": [],
   "source": [
    "adata_MKlog2X = abc.load_adata_thalamus(version=version, \n",
    "                             transform='log2', # will manually norm+log2 later\n",
    "                             subset_to_TH_ZI=True, \n",
    "                             with_metadata=False, \n",
    "                             flip_y=True,\n",
    "                             round_z=True,\n",
    "                             with_colors=False)\n",
    "\n",
    "adata_MKlog2X_th_zi_neurons = abc.filter_by_class_thalamus(adata_MKlog2X, \n",
    "                                                           filter_nonneuronal=True,\n",
    "                                                           filter_midbrain=True)\n",
    "\n",
    "# filter to thalamus boundaries (add a buffer here if wanted)\n",
    "filter_buffer = 0  # 5\n",
    "realigned=False\n",
    "obs_filtered_MKlog2X = abc.filter_by_thalamus_coords(adata_MKlog2X_th_zi_neurons.obs.copy(), \n",
    "                                             realigned=realigned, \n",
    "                                             buffer=filter_buffer)\n",
    "adata_MKlog2X_th_zi_neurons = adata_MKlog2X_th_zi_neurons[obs_filtered_MKlog2X.index].copy()\n",
    "\n",
    "gene_list = [gene for gene in adata_MKlog2X_th_zi_neurons.var_names if 'Blank' not in gene]\n",
    "adata_MKlog2X_th_zi_neurons = adata_MKlog2X_th_zi_neurons[:,gene_list]\n",
    "\n",
    "adata_MKlog2X_th_zi_neurons"
   ]
  },
  {
   "cell_type": "code",
   "execution_count": 47,
   "id": "9514ee35-c5b1-430c-b476-eaab5d54719b",
   "metadata": {
    "tags": []
   },
   "outputs": [],
   "source": [
    "adata_log2CPV = adata_log2.copy()\n",
    "adata_log2CPV.X = adata_MKlog2X_th_zi_neurons.X.copy()"
   ]
  },
  {
   "cell_type": "code",
   "execution_count": 49,
   "id": "caa6fffa-5f6a-407e-9a48-80a827810e0e",
   "metadata": {
    "tags": []
   },
   "outputs": [],
   "source": [
    "adata_log2CPV.obs.rename(columns={'SpaGCN_domains':'spagcn'},inplace=True)"
   ]
  },
  {
   "cell_type": "code",
   "execution_count": 51,
   "id": "1405b754-1942-46b4-ba1d-6ae1751bdf81",
   "metadata": {
    "tags": []
   },
   "outputs": [],
   "source": [
    "adata_log2CPV.uns['spagcn_colors'] = adata_log2CPV.uns['SpaGCN_domains_color']"
   ]
  },
  {
   "cell_type": "code",
   "execution_count": 52,
   "id": "2b4bb58a-8074-4137-bc3c-3516a1892d0a",
   "metadata": {
    "tags": []
   },
   "outputs": [],
   "source": [
    "adata_log2CPV.write('/results/wmb_abc_atlas_v20230830_th_nsf_spagcn_for_cirro_log2CPV.h5ad', compression=\"gzip\")"
   ]
  },
  {
   "cell_type": "code",
   "execution_count": null,
   "id": "9e2c79fe-672d-41f0-a4b6-77a335703f2d",
   "metadata": {},
   "outputs": [],
   "source": []
  }
 ],
 "metadata": {
  "kernelspec": {
   "display_name": "Python 3 (ipykernel)",
   "language": "python",
   "name": "python3"
  },
  "language_info": {
   "codemirror_mode": {
    "name": "ipython",
    "version": 3
   },
   "file_extension": ".py",
   "mimetype": "text/x-python",
   "name": "python",
   "nbconvert_exporter": "python",
   "pygments_lexer": "ipython3",
   "version": "3.9.12"
  }
 },
 "nbformat": 4,
 "nbformat_minor": 5
}
