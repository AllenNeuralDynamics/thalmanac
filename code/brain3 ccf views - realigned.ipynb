{
 "cells": [
  {
   "cell_type": "code",
   "execution_count": 1,
   "id": "f14afdc8",
   "metadata": {},
   "outputs": [],
   "source": [
    "import anndata as ad\n",
    "import pandas as pd\n",
    "import shapely\n",
    "import shapely.plotting as splot\n",
    "import matplotlib.pyplot as plt\n",
    "import matplotlib\n",
    "import seaborn as sns\n",
    "import numpy as np\n",
    "\n",
    "import ccf_plots as cplots\n",
    "import abc_load as abc\n",
    "get_ipython().run_line_magic('matplotlib', 'inline') "
   ]
  },
  {
   "cell_type": "markdown",
   "id": "2c770388",
   "metadata": {},
   "source": [
    "# Load brain3 data"
   ]
  },
  {
   "cell_type": "markdown",
   "id": "cda164bc",
   "metadata": {},
   "source": [
    "### alternate versions"
   ]
  },
  {
   "cell_type": "code",
   "execution_count": 2,
   "id": "e081cde8",
   "metadata": {},
   "outputs": [],
   "source": [
    "rename = {\n",
    "    'x_section':'cirro_x',\n",
    "    'y_section':'cirro_y',\n",
    "}\n",
    "ccf_label = 'parcellation_substructure_realigned'\n",
    "\n",
    "obs = pd.read_parquet(\"/data/abc_realigned_metadata_thalamus-boundingbox.parquet\")\n",
    "# obs = pd.read_parquet(\"/data/realigned-metadata/abc_realigned_metadata_thalamus-boundingbox.parquet\")\n",
    "obs = obs.rename(columns=rename)\n",
    "# hack to use old taxonomy labels\n",
    "obs_old = abc.get_combined_metadata(version=\"20230630\")\n",
    "obs.update(obs_old)\n",
    "nn_classes = [\n",
    "    \"28 Astro-Epen\",\n",
    "    \"29 Oligo\",\n",
    "    \"31 Vascular\",\n",
    "    \"32 Immune\",\n",
    "]\n",
    "# new taxonomy\n",
    "# nn_classes = [\n",
    "#     \"31 OPC-Oligo\",\n",
    "#     \"30 Astro-Epen\",\n",
    "#     \"33 Vascular\",\n",
    "#     \"34 Immune\",\n",
    "# ]\n"
   ]
  },
  {
   "cell_type": "code",
   "execution_count": 3,
   "id": "6a6541b3",
   "metadata": {},
   "outputs": [],
   "source": [
    "\n",
    "import nibabel\n",
    "img = nibabel.load(\"/data/labels.nii.gz\")\n",
    "# could maybe keep the lazy dataobj and not convert to numpy?\n",
    "ccf_polygons = np.array(img.dataobj)"
   ]
  },
  {
   "cell_type": "code",
   "execution_count": 4,
   "id": "17cea8aa",
   "metadata": {},
   "outputs": [],
   "source": [
    "# rename = {\n",
    "#     'x_realigned':'cirro_x',\n",
    "#     'y_realigned':'cirro_y',\n",
    "# }\n",
    "# ccf_label = 'parcellation_substructure'\n",
    "\n",
    "# obs = abc.get_combined_metadata(version=\"20230630\")\n",
    "# obs = obs.rename(columns=rename)\n",
    "# nn_classes = [\n",
    "#     \"28 Astro-Epen\",\n",
    "#     \"29 Oligo\",\n",
    "#     \"31 Vascular\",\n",
    "#     \"32 Immune\",\n",
    "# ]\n",
    "\n",
    "# ccf_polygons = abc.get_ccf_labels_image(resampled=True).astype(int)"
   ]
  },
  {
   "cell_type": "markdown",
   "id": "c3a75574",
   "metadata": {},
   "source": [
    "### preprocessing"
   ]
  },
  {
   "cell_type": "code",
   "execution_count": 5,
   "id": "2a591482",
   "metadata": {},
   "outputs": [],
   "source": [
    "section_col = 'z_section'\n",
    "obs[section_col] = obs[section_col].round(1)"
   ]
  },
  {
   "cell_type": "code",
   "execution_count": 6,
   "id": "6bbfc91a",
   "metadata": {},
   "outputs": [],
   "source": [
    "th_names = abc.get_thalamus_substructure_names()\n",
    "th_subregion_names = list(set(th_names).difference(['TH-unassigned']))"
   ]
  },
  {
   "cell_type": "code",
   "execution_count": 7,
   "id": "1c524d63",
   "metadata": {},
   "outputs": [],
   "source": [
    "# subset just the neurons\n",
    "obs_neurons = obs[~obs['class'].isin(nn_classes)]\n",
    "obs_th = obs[obs[ccf_label].isin(th_names)]\n"
   ]
  },
  {
   "cell_type": "code",
   "execution_count": 8,
   "id": "33e8b7b0",
   "metadata": {},
   "outputs": [],
   "source": [
    "obs_th_neurons = obs[obs[ccf_label].isin(th_names) & ~obs['class'].isin(nn_classes)]\n",
    "# helps plotting etc by trimming categories\n",
    "obs_th_neurons = obs_th_neurons.assign(\n",
    "    **obs_th_neurons.select_dtypes(include=[\"category\"]).apply(lambda x: x.cat.remove_unused_categories()).to_dict(orient='series'))"
   ]
  },
  {
   "cell_type": "code",
   "execution_count": 9,
   "id": "d133e930",
   "metadata": {},
   "outputs": [],
   "source": [
    "\n",
    "sections_all = sorted(obs_th_neurons[section_col].unique())\n",
    "sections_3 = [5.6, 6.4, 7.2]"
   ]
  },
  {
   "cell_type": "markdown",
   "id": "9da8bb6c-2ba8-4e92-a1d9-ecd84dc408a5",
   "metadata": {},
   "source": [
    "## view thalamus subset with subclass labels"
   ]
  },
  {
   "cell_type": "code",
   "execution_count": 10,
   "id": "c21e5545",
   "metadata": {},
   "outputs": [],
   "source": [
    "from importlib import reload\n",
    "reload(abc)\n",
    "reload(cplots)"
   ]
  },
  {
   "cell_type": "code",
   "execution_count": 11,
   "id": "84cb7d8c-7055-4d3e-a05d-e0b130821c9a",
   "metadata": {
    "scrolled": true,
    "tags": []
   },
   "outputs": [],
   "source": [
    "# may need to tweak clustering params on fine \n",
    "cplots.plot_ccf_overlay(obs_th.iloc[[],:],#no foreground cells\n",
    "                        ccf_polygons, point_hue=ccf_label, sections=sections_3, highlight='all', section_col=section_col,\n",
    "                           # x_field='x_section', y_field='y_section',\n",
    "                 bg_cells=obs_th, bg_shapes=False, min_group_count=0, legend=False, axes=True)"
   ]
  },
  {
   "cell_type": "code",
   "execution_count": 12,
   "id": "5bf0618c-8837-4247-860b-a630aa259105",
   "metadata": {
    "tags": []
   },
   "outputs": [],
   "source": [
    "th_subclasses = obs_th_neurons['subclass'].value_counts().loc[lambda x: x>400]\n",
    "th_subclasses"
   ]
  },
  {
   "cell_type": "code",
   "execution_count": 13,
   "id": "a8e01ea1-4070-4b53-bd55-c00f10c15ba3",
   "metadata": {
    "tags": []
   },
   "outputs": [],
   "source": [
    "len(th_subclasses)"
   ]
  },
  {
   "cell_type": "code",
   "execution_count": 14,
   "id": "3b097c7c-d407-4c38-bc52-d8d3ac6a261e",
   "metadata": {
    "tags": []
   },
   "outputs": [],
   "source": [
    "obs_th_neurons.loc[lambda df: df['subclass'].isin(th_subclasses.index), 'class'].value_counts().loc[lambda x: x>0]"
   ]
  },
  {
   "cell_type": "code",
   "execution_count": 15,
   "id": "30afd613-7f2f-4e51-8afa-29601b405a8f",
   "metadata": {
    "tags": []
   },
   "outputs": [],
   "source": [
    "obs_th_neurons.loc[lambda df: df['subclass'].isin(th_subclasses.index), 'supertype'].unique().shape[0]"
   ]
  },
  {
   "cell_type": "code",
   "execution_count": 16,
   "id": "9e72ffb4-25e3-4fd7-8d7d-34c48cfb252c",
   "metadata": {
    "tags": []
   },
   "outputs": [],
   "source": [
    "obs_th_neurons.loc[lambda df: df['subclass'].isin(th_subclasses.index), 'cluster'].unique().shape[0]"
   ]
  },
  {
   "cell_type": "code",
   "execution_count": 17,
   "id": "9c7636d3-a64c-4e70-8f72-93a6173f5c3b",
   "metadata": {
    "tags": []
   },
   "outputs": [],
   "source": [
    "from colorcet import glasbey\n",
    "point_palette = dict(zip(th_subclasses.index, sns.color_palette(glasbey, n_colors=len(th_subclasses.index))))\n"
   ]
  },
  {
   "cell_type": "code",
   "execution_count": 18,
   "id": "68607550-f2a1-4984-8829-78e04fa30b6d",
   "metadata": {
    "scrolled": true,
    "tags": []
   },
   "outputs": [],
   "source": [
    "obs = obs_th_neurons.loc[lambda df: df['subclass'].isin(th_subclasses.index)]\n",
    "cplots.plot_ccf_overlay(obs, ccf_polygons, bg_cells=obs_th, point_hue='subclass', sections=sections_all,\n",
    "                 shape_palette='dark_outline', point_palette=point_palette, legend=False, highlight='all',\n",
    "                 section_col=section_col,\n",
    "                           # x_field='x_section', y_field='y_section',\n",
    "                 min_group_count=30)"
   ]
  },
  {
   "cell_type": "markdown",
   "id": "b1733310",
   "metadata": {},
   "source": [
    "## examples"
   ]
  },
  {
   "cell_type": "code",
   "execution_count": 19,
   "id": "112f8c0b",
   "metadata": {},
   "outputs": [],
   "source": [
    "anterior_sec = 8.0\n",
    "clusters = [str(x) for x in list(range(1169, 1171+1)) + list(range(1095, 1098+1))]\n",
    "obs = obs_th_neurons.loc[lambda df: df['cluster'].str[:4].isin(clusters)]\n",
    "nuclei = ['AD', 'AV', 'AMd', 'AMv']\n",
    "cplots.plot_ccf_overlay(obs, ccf_polygons, bg_cells=obs_th, point_hue='supertype', sections=[anterior_sec],\n",
    "                 shape_palette='dark_outline',\n",
    "                 ccf_names=nuclei, legend='cells', bg_shapes=False, \n",
    "                 section_col=section_col)"
   ]
  },
  {
   "cell_type": "code",
   "execution_count": 20,
   "id": "d133e930",
   "metadata": {},
   "outputs": [],
   "source": [
    "\n",
    "cplots.plot_ccf_overlay(obs, ccf_polygons, bg_cells=obs_th, point_hue='cluster', sections=[anterior_sec],\n",
    "                 shape_palette='dark_outline',\n",
    "                 ccf_names=nuclei, legend=False, bg_shapes=False, \n",
    "                 section_col=section_col)"
   ]
  },
  {
   "cell_type": "code",
   "execution_count": 21,
   "id": "112f8c0b",
   "metadata": {},
   "outputs": [],
   "source": [
    "sections = [7.2, 7.0, 6.8]\n",
    "clusters = ['1138','1141','1142']\n",
    "obs = obs_th_neurons.loc[lambda df: df['cluster'].str[:4].isin(clusters)]\n",
    "nuclei = ['VM','VAL']\n",
    "cplots.plot_ccf_overlay(obs, ccf_polygons, bg_cells=obs_th, point_hue='cluster', sections=sections,\n",
    "                 shape_palette='dark_outline',\n",
    "                 ccf_names=nuclei, legend='cells', bg_shapes=False, \n",
    "                 section_col=section_col)"
   ]
  },
  {
   "cell_type": "code",
   "execution_count": 22,
   "id": "112f8c0b",
   "metadata": {},
   "outputs": [],
   "source": [
    "pvt_sections = [7.0, 7.8]\n",
    "nuclei = ['PVT']\n",
    "subclasses = nuclei\n",
    "obs = obs_th_neurons.loc[np.any([obs_th_neurons['subclass'].str.contains(x).values for x in subclasses], axis=0), :]\n",
    "cplots.plot_ccf_overlay(obs, ccf_polygons, bg_cells=obs_th, point_hue='supertype', sections=pvt_sections,\n",
    "                 shape_palette='dark_outline',\n",
    "                 ccf_names=nuclei, legend='cells', bg_shapes=False, \n",
    "                 section_col=section_col)"
   ]
  },
  {
   "cell_type": "code",
   "execution_count": 23,
   "id": "112f8c0b",
   "metadata": {},
   "outputs": [],
   "source": [
    "rt_sections = [7.2, 7.8]\n",
    "nuclei = ['RT']\n",
    "subclasses = ['RT ZI']\n",
    "obs = obs_th_neurons.loc[np.any([obs_th_neurons['subclass'].str.contains(x).values for x in subclasses], axis=0), :]\n",
    "cplots.plot_ccf_overlay(obs, ccf_polygons, bg_cells=obs_th, point_hue='supertype', sections=rt_sections,\n",
    "                 shape_palette='dark_outline',\n",
    "                 ccf_names=nuclei, legend='cells', bg_shapes=False, \n",
    "                 section_col=section_col)"
   ]
  }
 ],
 "metadata": {
  "kernelspec": {
   "display_name": "Python 3 (ipykernel)",
   "language": "python",
   "name": "python3"
  },
  "language_info": {
   "codemirror_mode": {
    "name": "ipython",
    "version": 3
   },
   "file_extension": ".py",
   "mimetype": "text/x-python",
   "name": "python",
   "nbconvert_exporter": "python",
   "pygments_lexer": "ipython3",
   "version": "3.9.12"
  },
  "vscode": {
   "interpreter": {
    "hash": "d4d1e4263499bec80672ea0156c357c1ee493ec2b1c70f0acce89fc37c4a6abe"
   }
  }
 },
 "nbformat": 4,
 "nbformat_minor": 5
}
