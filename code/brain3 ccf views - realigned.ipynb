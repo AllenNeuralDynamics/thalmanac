{
 "cells": [
  {
   "cell_type": "code",
   "execution_count": 4,
   "id": "f14afdc8",
   "metadata": {},
   "outputs": [],
   "source": [
    "import anndata as ad\n",
    "import pandas as pd\n",
    "import shapely\n",
    "import shapely.plotting as splot\n",
    "import matplotlib.pyplot as plt\n",
    "import matplotlib\n",
    "import seaborn as sns\n",
    "import numpy as np\n",
    "\n",
    "import ccf_plots as cplots\n",
    "import abc_load as abc\n",
    "get_ipython().run_line_magic('matplotlib', 'inline') "
   ]
  },
  {
   "cell_type": "markdown",
   "id": "2c770388",
   "metadata": {},
   "source": [
    "# Load brain3 data"
   ]
  },
  {
   "cell_type": "markdown",
   "id": "cda164bc",
   "metadata": {},
   "source": [
    "### alternate versions"
   ]
  },
  {
   "cell_type": "code",
   "execution_count": 5,
   "id": "e081cde8",
   "metadata": {},
   "outputs": [],
   "source": [
    "rename = {\n",
    "    'x_section':'cirro_x',\n",
    "    'y_section':'cirro_y',\n",
    "}\n",
    "ccf_label = 'parcellation_substructure_realigned'\n",
    "\n",
    "obs = pd.read_parquet(\"/data/realigned-metadata/abc_realigned_metadata_thalamus-boundingbox.parquet\")\n",
    "obs = obs.rename(columns=rename)\n",
    "ccf_label = 'parcellation_substructure_realigned'\n",
    "nn_classes = [\n",
    "    \"31 OPC-Oligo\",\n",
    "    \"30 Astro-Epen\",\n",
    "    \"33 Vascular\",\n",
    "    \"34 Immune\",\n",
    "]\n",
    "\n",
    "import nibabel\n",
    "img = nibabel.load(\"/data/labels.nii.gz\")\n",
    "# could maybe keep the lazy dataobj and not convert to numpy?\n",
    "ccf_polygons = np.array(img.dataobj)"
   ]
  },
  {
   "cell_type": "code",
   "execution_count": 3,
   "id": "17cea8aa",
   "metadata": {},
   "outputs": [],
   "source": [
    "rename = {\n",
    "    'x_realigned':'cirro_x',\n",
    "    'y_realigned':'cirro_y',\n",
    "}\n",
    "ccf_label = 'parcellation_substructure'\n",
    "\n",
    "obs = abc.get_combined_metadata(version=\"20230630\")\n",
    "obs = obs.rename(columns=rename)\n",
    "ccf_label = 'parcellation_substructure_realigned'\n",
    "nn_classes = [\n",
    "    \"28 Astro-Epen\",\n",
    "    \"29 Oligo\",\n",
    "    \"31 Vascular\",\n",
    "    \"32 Immune\",\n",
    "]\n",
    "\n",
    "ccf_polygons = abc.get_ccf_labels_image(resampled=True).astype(int)"
   ]
  },
  {
   "cell_type": "markdown",
   "id": "c3a75574",
   "metadata": {},
   "source": [
    "### preprocessing"
   ]
  },
  {
   "cell_type": "code",
   "execution_count": 7,
   "id": "6bbfc91a",
   "metadata": {},
   "outputs": [],
   "source": [
    "th_names = abc.get_thalamus_substructure_names()\n",
    "th_subregion_names = list(set(th_names).difference(['TH-unassigned']))"
   ]
  },
  {
   "cell_type": "code",
   "execution_count": 8,
   "id": "1c524d63",
   "metadata": {},
   "outputs": [],
   "source": [
    "# subset just the neurons\n",
    "obs_neurons = obs[~obs['class'].isin(nn_classes)]\n",
    "obs_th = obs[obs[ccf_label].isin(th_names)]\n"
   ]
  },
  {
   "cell_type": "code",
   "execution_count": 9,
   "id": "33e8b7b0",
   "metadata": {},
   "outputs": [],
   "source": [
    "obs_th_neurons = obs[obs[ccf_label].isin(th_names) & ~obs['class'].isin(nn_classes)]\n",
    "# helps plotting etc by trimming categories\n",
    "obs_th_neurons = obs_th_neurons.assign(\n",
    "    **obs_th_neurons.select_dtypes(include=[\"category\"]).apply(lambda x: x.cat.remove_unused_categories()).to_dict(orient='series'))"
   ]
  },
  {
   "cell_type": "code",
   "execution_count": 10,
   "id": "d133e930",
   "metadata": {},
   "outputs": [],
   "source": [
    "section_col = 'z_section'\n",
    "obs_th_neurons[section_col] = obs_th_neurons[section_col].round(1)\n",
    "sections = sorted(obs_th_neurons[section_col].unique())\n",
    "sections_3 = [5.6, 6.4, 7.2]"
   ]
  },
  {
   "cell_type": "markdown",
   "id": "9da8bb6c-2ba8-4e92-a1d9-ecd84dc408a5",
   "metadata": {},
   "source": [
    "## view thalamus subset with subclass labels"
   ]
  },
  {
   "cell_type": "code",
   "execution_count": 14,
   "id": "c21e5545",
   "metadata": {},
   "outputs": [],
   "source": [
    "from importlib import reload\n",
    "reload(abc)\n",
    "reload(cplots)"
   ]
  },
  {
   "cell_type": "code",
   "execution_count": 15,
   "id": "84cb7d8c-7055-4d3e-a05d-e0b130821c9a",
   "metadata": {
    "scrolled": true,
    "tags": []
   },
   "outputs": [],
   "source": [
    "# may need to tweak clustering params on fine \n",
    "cplots.plot_ccf_overlay(obs_th.iloc[[],:],#no foreground cells\n",
    "                        ccf_polygons, point_hue=ccf_label, sections=sections_3, highlight='all', section_col=section_col,\n",
    "                           # x_field='x_section', y_field='y_section',\n",
    "                 bg_cells=obs_th_neurons, bg_shapes=False, min_group_count=0, legend=False, axes=True)"
   ]
  },
  {
   "cell_type": "code",
   "execution_count": 16,
   "id": "5bf0618c-8837-4247-860b-a630aa259105",
   "metadata": {
    "tags": []
   },
   "outputs": [],
   "source": [
    "subclasses = obs_th_neurons['subclass'].value_counts().loc[lambda x: x>400]\n",
    "subclasses"
   ]
  },
  {
   "cell_type": "code",
   "execution_count": 17,
   "id": "a8e01ea1-4070-4b53-bd55-c00f10c15ba3",
   "metadata": {
    "tags": []
   },
   "outputs": [],
   "source": [
    "len(subclasses)"
   ]
  },
  {
   "cell_type": "code",
   "execution_count": 18,
   "id": "3b097c7c-d407-4c38-bc52-d8d3ac6a261e",
   "metadata": {
    "tags": []
   },
   "outputs": [],
   "source": [
    "obs_th_neurons.loc[lambda df: df['subclass'].isin(subclasses.index), 'class'].value_counts().loc[lambda x: x>0]"
   ]
  },
  {
   "cell_type": "code",
   "execution_count": 19,
   "id": "30afd613-7f2f-4e51-8afa-29601b405a8f",
   "metadata": {
    "tags": []
   },
   "outputs": [],
   "source": [
    "obs_th_neurons.loc[lambda df: df['subclass'].isin(subclasses.index), 'supertype'].unique().shape[0]"
   ]
  },
  {
   "cell_type": "code",
   "execution_count": 20,
   "id": "9e72ffb4-25e3-4fd7-8d7d-34c48cfb252c",
   "metadata": {
    "tags": []
   },
   "outputs": [],
   "source": [
    "obs_th_neurons.loc[lambda df: df['subclass'].isin(subclasses.index), 'cluster'].unique().shape[0]"
   ]
  },
  {
   "cell_type": "code",
   "execution_count": 21,
   "id": "9c7636d3-a64c-4e70-8f72-93a6173f5c3b",
   "metadata": {
    "tags": []
   },
   "outputs": [],
   "source": [
    "from colorcet import glasbey\n",
    "point_palette = dict(zip(subclasses.index, sns.color_palette(glasbey, n_colors=len(subclasses.index))))\n",
    "\n",
    "from matplotlib.colors import rgb2hex\n",
    "{x.replace(' ', '_'): rgb2hex(point_palette[x]) for x in point_palette.keys()}"
   ]
  },
  {
   "cell_type": "code",
   "execution_count": 23,
   "id": "7efd56c1",
   "metadata": {},
   "outputs": [],
   "source": [
    "reload(cplots)"
   ]
  },
  {
   "cell_type": "code",
   "execution_count": 24,
   "id": "68607550-f2a1-4984-8829-78e04fa30b6d",
   "metadata": {
    "scrolled": true,
    "tags": []
   },
   "outputs": [],
   "source": [
    "obs = obs_th_neurons.loc[lambda df: df['subclass'].isin(subclasses.index)]\n",
    "cplots.plot_ccf_overlay(obs, ccf_polygons, bg_cells=obs_th_neurons, point_hue='subclass', sections=sections_3,\n",
    "                 shape_palette='dark_outline', point_palette=point_palette, legend=False, highlight='all',\n",
    "                 section_col=section_col,\n",
    "                           # x_field='x_section', y_field='y_section',\n",
    "                 min_group_count=30)"
   ]
  },
  {
   "cell_type": "code",
   "execution_count": 116,
   "id": "112f8c0b",
   "metadata": {},
   "outputs": [],
   "source": [
    "anterior_sec = 8.0\n",
    "clusters = [str(x) for x in list(range(1169, 1171+1)) + list(range(1095, 1098+1))]\n",
    "obs = obs_th_neurons.loc[lambda df: df['cluster'].str[:4].isin(clusters)]\n",
    "nuclei = ['AD', 'AV', 'AMd', 'AMv']\n",
    "cplots.plot_ccf_overlay(obs, ccf_polygons, bg_cells=obs_th_neurons, point_hue='supertype', sections=[anterior_sec],\n",
    "                 shape_palette='dark_outline',\n",
    "                 ccf_names=nuclei, legend='cells', bg_shapes=False, \n",
    "                 section_col=section_col)"
   ]
  },
  {
   "cell_type": "code",
   "execution_count": 117,
   "id": "d133e930",
   "metadata": {},
   "outputs": [],
   "source": [
    "\n",
    "cplots.plot_ccf_overlay(obs, ccf_polygons, bg_cells=obs_th_neurons, point_hue='cluster', sections=[anterior_sec],\n",
    "                 shape_palette='dark_outline',\n",
    "                 ccf_names=nuclei, legend=False, bg_shapes=False, \n",
    "                 section_col=section_col)"
   ]
  },
  {
   "cell_type": "code",
   "execution_count": 138,
   "id": "112f8c0b",
   "metadata": {},
   "outputs": [],
   "source": [
    "sections = [7.2, 7.0, 6.8]\n",
    "clusters = ['1138','1141','1142']\n",
    "obs = obs_th_neurons.loc[lambda df: df['cluster'].str[:4].isin(clusters)]\n",
    "nuclei = ['VM','VAL']\n",
    "cplots.plot_ccf_overlay(obs, ccf_polygons, bg_cells=obs_th_neurons, point_hue='cluster', sections=sections,\n",
    "                 shape_palette='dark_outline',\n",
    "                 ccf_names=nuclei, legend='cells', bg_shapes=False, \n",
    "                 section_col=section_col)"
   ]
  },
  {
   "cell_type": "code",
   "execution_count": 139,
   "id": "112f8c0b",
   "metadata": {},
   "outputs": [],
   "source": [
    "pvt_sections = [7.0, 7.8]\n",
    "nuclei = ['PVT']\n",
    "subclasses = nuclei\n",
    "obs = obs_th_neurons.loc[np.any([obs_th_neurons['subclass'].str.contains(x).values for x in subclasses], axis=0), :]\n",
    "cplots.plot_ccf_overlay(obs, ccf_polygons, bg_cells=obs_th_neurons, point_hue='supertype', sections=pvt_sections,\n",
    "                 shape_palette='dark_outline',\n",
    "                 ccf_names=nuclei, legend='cells', bg_shapes=False, \n",
    "                 section_col=section_col)"
   ]
  },
  {
   "cell_type": "code",
   "execution_count": 132,
   "id": "112f8c0b",
   "metadata": {},
   "outputs": [],
   "source": [
    "rt_sections = [7.2, 7.8]\n",
    "nuclei = ['RT']\n",
    "subclasses = ['RT ZI']\n",
    "obs = obs_th_neurons.loc[np.any([obs_th_neurons['subclass'].str.contains(x).values for x in subclasses], axis=0), :]\n",
    "cplots.plot_ccf_overlay(obs, ccf_polygons, bg_cells=obs_th_neurons, point_hue='supertype', sections=rt_sections,\n",
    "                 shape_palette='dark_outline',\n",
    "                 ccf_names=nuclei, legend='cells', bg_shapes=False, \n",
    "                 section_col=section_col)"
   ]
  },
  {
   "cell_type": "markdown",
   "id": "e6059d52-ef34-4e20-be15-9ce9d592652e",
   "metadata": {},
   "source": [
    "# Investigate prong 1 cluster-nucleus groups"
   ]
  },
  {
   "cell_type": "code",
   "execution_count": 19,
   "id": "1ce5008d-48df-4be3-aa2e-8952af892f53",
   "metadata": {
    "tags": []
   },
   "outputs": [],
   "source": [
    "nuclei_df = pd.read_csv(\"resources/Prong 1 Vitessce links by nucleus.csv\", index_col=0)\n",
    "\n",
    "def get_obs_from_annotated_clusters(name, adata, nuclei_df):\n",
    "    clusters = nuclei_df.loc[name, \"annotated clusters\"].split(', ')\n",
    "    obs = adata.obs.loc[lambda df: df['cluster_id'].isin(clusters)]\n",
    "    return obs"
   ]
  },
  {
   "cell_type": "markdown",
   "id": "58d01918-e6e5-443d-9b74-59e287301a8e",
   "metadata": {},
   "source": [
    "## VM"
   ]
  },
  {
   "cell_type": "code",
   "execution_count": 20,
   "id": "ef4a9d8b-7ee0-4978-9c87-a26118b0e8f7",
   "metadata": {
    "tags": []
   },
   "outputs": [],
   "source": [
    "reload(cplots)"
   ]
  },
  {
   "cell_type": "code",
   "execution_count": 21,
   "id": "d9bcbfe5-5eae-4e86-bfd0-818e7a2db1e8",
   "metadata": {
    "scrolled": true,
    "tags": []
   },
   "outputs": [],
   "source": [
    "# obs = get_obs_from_annotated_clusters('VM', adata, nuclei_df)\n",
    "obs = obs_th_neurons.query(\"cluster=='1142 TH Prkcd Grin2c Glut_13'\")\n",
    "cplots.plot_nucleus_cluster_comparison_slices(obs, ccf_polygons, nuclei=['VM', 'VAL'], legend='both', bg_cells=obs_th_neurons, bg_shapes=False, shape_palette='greyscale')"
   ]
  },
  {
   "cell_type": "code",
   "execution_count": 22,
   "id": "ef97153f-b284-42e6-bc43-11c9888fcc62",
   "metadata": {
    "tags": []
   },
   "outputs": [],
   "source": [
    "obs = obs_th_neurons.query(\"supertype=='TH Prkcd Grin2c Glut_13'\")\n",
    "obs['cluster'].value_counts().loc[lambda x: x>5]"
   ]
  },
  {
   "cell_type": "code",
   "execution_count": 23,
   "id": "6bd81b2f-c28f-46cd-a180-501b86e2f32d",
   "metadata": {
    "scrolled": true,
    "tags": []
   },
   "outputs": [],
   "source": [
    "# remove 1140? annotated as VPMpc\n",
    "clusters = ['1138', '1141', '1142']\n",
    "obs = adata.obs.loc[lambda df: df['cluster'].str[:4].isin(clusters)]\n",
    "cplots.plot_nucleus_cluster_comparison_slices(obs, ccf_polygons, nuclei=['VM'], legend='cells', bg_cells=obs_th_neurons, bg_shapes=False, shape_palette='greyscale')"
   ]
  },
  {
   "cell_type": "markdown",
   "id": "82a27e61-d95a-4814-96fa-cfda2c1ef989",
   "metadata": {
    "jp-MarkdownHeadingCollapsed": true,
    "tags": []
   },
   "source": [
    "### diff exp"
   ]
  },
  {
   "cell_type": "code",
   "execution_count": 24,
   "id": "86c752c2-e00f-4954-91f2-cad4562c347b",
   "metadata": {
    "tags": []
   },
   "outputs": [],
   "source": [
    "import scanpy as sc"
   ]
  },
  {
   "cell_type": "code",
   "execution_count": 25,
   "id": "cbd366e0-26fb-46c5-90fa-a07a3c7bfe68",
   "metadata": {
    "tags": []
   },
   "outputs": [],
   "source": [
    "sc.tl.rank_genes_groups(adata_neuronal, 'cluster_id', groups=['1142'], reference='1138', method='wilcoxon', rankby_abs=True)\n",
    "sc.pl.rank_genes_groups(adata_neuronal, n_genes=20)"
   ]
  },
  {
   "cell_type": "code",
   "execution_count": 26,
   "id": "18d7ed38-fe8f-44b4-bb12-e42aefb79e3f",
   "metadata": {
    "tags": []
   },
   "outputs": [],
   "source": [
    "section='C57BL6J-638850.40'\n",
    "gene = \"Calb1\"\n",
    "nuclei=['VM', 'VAL']\n",
    "highlight_nuclei=['VM']\n",
    "cplots.plot_expression_ccf(adata_neuronal, section, gene, ccf_polygons, nuclei=nuclei, \n",
    "                    bg_shapes=False, highlight=highlight_nuclei,\n",
    "                    cmap='Blues', show_outline=True);"
   ]
  },
  {
   "cell_type": "code",
   "execution_count": 27,
   "id": "636f2ab8-a3d9-45ef-984f-6049851626c0",
   "metadata": {
    "tags": []
   },
   "outputs": [],
   "source": [
    "gene = \"Necab1\"\n",
    "nuclei=['VM', 'VAL']\n",
    "highlight_nuclei=['VM']\n",
    "cplots.plot_expression_ccf(adata_neuronal, section, gene, ccf_polygons, nuclei=nuclei, \n",
    "                    bg_shapes=False, highlight=highlight_nuclei,\n",
    "                    cmap='Blues', show_outline=True);"
   ]
  },
  {
   "cell_type": "code",
   "execution_count": 28,
   "id": "5cc1b9f2-e2cf-4410-9d9f-a96e4bd14ac3",
   "metadata": {
    "tags": []
   },
   "outputs": [],
   "source": [
    "gene = \"Spon1\"\n",
    "nuclei=['VM', 'VAL']\n",
    "highlight_nuclei=['VM']\n",
    "cplots.plot_expression_ccf(adata_neuronal, section, gene, ccf_polygons, nuclei=nuclei, \n",
    "                    bg_shapes=False, highlight=highlight_nuclei,\n",
    "                    cmap='Blues', show_outline=True);"
   ]
  },
  {
   "cell_type": "code",
   "execution_count": 29,
   "id": "7ae30f6e-9eb9-452e-9077-db6935b4fad7",
   "metadata": {
    "tags": []
   },
   "outputs": [],
   "source": [
    "gene = \"Cbln1\"\n",
    "nuclei=['VM', 'VAL']\n",
    "highlight_nuclei=['VM']\n",
    "cplots.plot_expression_ccf(adata_neuronal, section, gene, ccf_polygons, nuclei=nuclei, \n",
    "                    bg_shapes=False, highlight=highlight_nuclei,\n",
    "                    cmap='Blues', show_outline=True);"
   ]
  },
  {
   "cell_type": "code",
   "execution_count": 30,
   "id": "d89dfc18-7175-4ea1-a9f1-9f8f8512b9b9",
   "metadata": {
    "tags": []
   },
   "outputs": [],
   "source": [
    "gene = 'Tmie'\n",
    "nuclei=['VM', 'VAL']\n",
    "highlight_nuclei=['VM']\n",
    "cplots.plot_expression_ccf(adata_neuronal, section, gene, ccf_polygons, nuclei=nuclei, \n",
    "                    bg_shapes=False, highlight=highlight_nuclei,\n",
    "                    cmap='Blues', show_outline=True);"
   ]
  },
  {
   "cell_type": "code",
   "execution_count": 31,
   "id": "a8dfac1e-f53a-46d9-b876-31c84648bef6",
   "metadata": {
    "tags": []
   },
   "outputs": [],
   "source": [
    "gene = 'Galnt18'\n",
    "nuclei=['VM', 'VAL']\n",
    "highlight_nuclei=['VM']\n",
    "cplots.plot_expression_ccf(adata_neuronal, section, gene, ccf_polygons, nuclei=nuclei, \n",
    "                    bg_shapes=False, highlight=highlight_nuclei,\n",
    "                    cmap='Blues', show_outline=True);"
   ]
  },
  {
   "cell_type": "code",
   "execution_count": 32,
   "id": "a4886fc8-03fb-443b-9ea4-1ad7d0802302",
   "metadata": {
    "tags": []
   },
   "outputs": [],
   "source": [
    "sc.tl.rank_genes_groups(adata_neuronal, 'supertype', groups=['TH Prkcd Grin2c Glut_13'], method='wilcoxon', tie_correct=True)\n",
    "sc.pl.rank_genes_groups(adata_neuronal, n_genes=20)"
   ]
  },
  {
   "cell_type": "code",
   "execution_count": 33,
   "id": "4055869a-5409-41e4-9bb3-dd12196b89c2",
   "metadata": {
    "tags": []
   },
   "outputs": [],
   "source": [
    "sc.tl.rank_genes_groups(adata_neuronal, 'cluster_id', groups=['1142'], method='wilcoxon', tie_correct=True)\n",
    "sc.pl.rank_genes_groups(adata_neuronal, n_genes=20)"
   ]
  },
  {
   "cell_type": "code",
   "execution_count": 34,
   "id": "9e0a9a2a-2735-4e21-b735-80bc358a0ae9",
   "metadata": {
    "tags": []
   },
   "outputs": [],
   "source": [
    "# ISH diff ex search\n",
    "# https://mouse.brain-map.org/gene/show/87708\n",
    "\n",
    "gene = \"Galnt18\"\n",
    "nuclei=['VM', 'VAL']\n",
    "highlight_nuclei=['VM']\n",
    "cplots.plot_expression_ccf(adata_neuronal, section, gene, ccf_polygons, nuclei=nuclei, \n",
    "                    bg_shapes=False, highlight=highlight_nuclei,\n",
    "                    cmap='Blues', show_outline=True);"
   ]
  },
  {
   "cell_type": "code",
   "execution_count": 35,
   "id": "9fa6b6ab-6ff2-4d8d-bd1b-e44e70b9fab3",
   "metadata": {
    "tags": []
   },
   "outputs": [],
   "source": [
    "gene = \"Stxbp6\"\n",
    "nuclei=['VM', 'VAL']\n",
    "highlight_nuclei=['VM']\n",
    "cplots.plot_expression_ccf(adata_neuronal, section, gene, ccf_polygons, nuclei=nuclei, \n",
    "                    bg_shapes=False, highlight=highlight_nuclei,\n",
    "                    cmap='Blues', show_outline=True);"
   ]
  },
  {
   "cell_type": "code",
   "execution_count": 36,
   "id": "ecde0be8-6f82-4080-9993-265db50fc801",
   "metadata": {
    "tags": []
   },
   "outputs": [],
   "source": [
    "gene = \"Spon1\"\n",
    "nuclei=['VM', 'VAL']\n",
    "highlight_nuclei=['VM']\n",
    "cplots.plot_expression_ccf(adata_neuronal, section, gene, ccf_polygons, nuclei=nuclei, \n",
    "                    bg_shapes=False, highlight=highlight_nuclei,\n",
    "                    cmap='Blues', show_outline=True);"
   ]
  },
  {
   "cell_type": "markdown",
   "id": "899d185b-f893-4956-b7df-48c9c441b744",
   "metadata": {
    "tags": []
   },
   "source": [
    "### outlining VM / composition"
   ]
  },
  {
   "cell_type": "code",
   "execution_count": 39,
   "id": "34d79cd3-b91c-4a8b-b77e-38239d8ec895",
   "metadata": {
    "tags": []
   },
   "outputs": [],
   "source": [
    "import geopandas as gp\n",
    "neuron_points = gp.GeoSeries.from_xy(*obs_th_neurons[['cirro_x','cirro_y']].values.T, index=obs_th_neurons_names)"
   ]
  },
  {
   "cell_type": "code",
   "execution_count": 45,
   "id": "efa02d54-fa77-4aec-aacb-73ec210f07b1",
   "metadata": {
    "tags": []
   },
   "outputs": [],
   "source": [
    "import hdbscan\n",
    "section='C57BL6J-638850.40'\n",
    "adata_vm = adata_neuronal[obs_th_neurons.query(f\"section=='{section}' & cluster_id=='1142'\").index].copy()\n",
    "df = adata_vm.obs\n",
    "X = df[['cirro_x','cirro_y']].values\n",
    "df['spatial_cluster'] = hdbscan.HDBSCAN(min_samples=5).fit_predict(X)\n",
    "core_clusters = df['spatial_cluster'].value_counts().index[:2]\n",
    "df['spatial_group'] = df['spatial_cluster'].apply(lambda x: 'core' if x in core_clusters else 'other')"
   ]
  },
  {
   "cell_type": "code",
   "execution_count": 46,
   "id": "1903b71f-5d5b-435e-9dfd-48651ce85a48",
   "metadata": {
    "tags": []
   },
   "outputs": [],
   "source": [
    "sns.scatterplot(data=df,  x='cirro_x', y='cirro_y', hue='spatial_cluster', s=4,  legend=True, palette='tab10')"
   ]
  },
  {
   "cell_type": "code",
   "execution_count": 47,
   "id": "6a550495-7f21-408f-b008-c759904383c1",
   "metadata": {
    "tags": []
   },
   "outputs": [],
   "source": [
    "nucleus = cshapes.get_polygon_from_obs(df.query(\"spatial_group=='core'\"))\n",
    "subset = neuron_points.geometry.intersects(nucleus)\n",
    "obs_th_neurons['in_nucleus'] = subset.values\n",
    "adata_nucleus = adata_neuronal[subset]"
   ]
  },
  {
   "cell_type": "code",
   "execution_count": 49,
   "id": "bea5e4ac-1b41-4450-8b81-3c95b590d9d1",
   "metadata": {
    "tags": []
   },
   "outputs": [],
   "source": [
    "obs_th_neurons.query(f\"section=='{section}' & supertype=='TH Prkcd Grin2c Glut_13'\").groupby(['cluster'])['in_nucleus'].apply(lambda x: x.value_counts())"
   ]
  },
  {
   "cell_type": "code",
   "execution_count": 50,
   "id": "c9f19460-4f9d-4665-b8d5-6884cbf2dce0",
   "metadata": {
    "tags": []
   },
   "outputs": [],
   "source": [
    "# need to include VAL types ??"
   ]
  },
  {
   "cell_type": "code",
   "execution_count": 51,
   "id": "e12814fd-1a2c-466e-b717-4d80554f14e9",
   "metadata": {
    "tags": []
   },
   "outputs": [],
   "source": [
    "sc.tl.rank_genes_groups(adata_vm, 'spatial_group', groups=['core'], reference='other', method='wilcoxon', rankby_abs=True)\n",
    "sc.pl.rank_genes_groups(adata_vm, groups=['core'], n_genes=20)"
   ]
  },
  {
   "cell_type": "markdown",
   "id": "cf934f53-f634-4e39-bad1-57c31fd4d46a",
   "metadata": {},
   "source": [
    "## anterior"
   ]
  },
  {
   "cell_type": "code",
   "execution_count": 54,
   "id": "5be709c9-9782-409e-82ad-95bf71c0a8b0",
   "metadata": {
    "scrolled": true,
    "tags": []
   },
   "outputs": [],
   "source": [
    "clusters = [str(x) for x in list(range(1169, 1171+1)) + list(range(1095, 1098+1))]\n",
    "obs = adata.obs.loc[lambda df: df['cluster'].str[:4].isin(clusters)]\n",
    "\n",
    "cplots.plot_nucleus_cluster_comparison_slices(obs, ccf_polygons, nuclei=nuclei, legend='cells', bg_cells=obs_th_neurons, bg_shapes=False, shape_palette='greyscale')"
   ]
  },
  {
   "cell_type": "code",
   "execution_count": 56,
   "id": "00f4bf3e-4db3-4319-adec-aa0ff27930a6",
   "metadata": {
    "tags": []
   },
   "outputs": [],
   "source": [
    "nuclei=['AD', 'AV', 'AMd', 'AMv']\n",
    "section = 'C57BL6J-638850.44'\n",
    "# cplots.plot_ccf_section(ccf_polygons, section, highlight=nuclei, )\n",
    "cplots.plot_ccf_overlay(adata.obs.loc[[],:], ccf_polygons, sections=[section], highlight=nuclei, legend='both', bg_cells=obs_th_neurons, bg_shapes=True, min_group_count=0)"
   ]
  },
  {
   "cell_type": "code",
   "execution_count": 58,
   "id": "57351b66-0a81-4c9d-a997-46d736ba8878",
   "metadata": {
    "scrolled": true,
    "tags": []
   },
   "outputs": [],
   "source": [
    "# cplots.plot_nucleus_cluster_comparison_slices('AD', adata, nuclei_df, ccf_polygons)\n",
    "obs = get_obs_from_annotated_clusters('AD', adata_neuronal, nuclei_df)\n",
    "cplots.plot_nucleus_cluster_comparison_slices(obs, ccf_polygons, nuclei='AD')"
   ]
  },
  {
   "cell_type": "markdown",
   "id": "dd98c3d5-d285-4110-9f35-e961564f7869",
   "metadata": {
    "tags": []
   },
   "source": [
    "### diff exp"
   ]
  },
  {
   "cell_type": "markdown",
   "id": "dadd0ac9-97a2-466d-9609-a154445a788d",
   "metadata": {},
   "source": [
    "#### AV"
   ]
  },
  {
   "cell_type": "code",
   "execution_count": 60,
   "id": "44e2abeb-7158-4b0e-ac27-33d20041a5ed",
   "metadata": {
    "tags": []
   },
   "outputs": [],
   "source": [
    "sc.tl.rank_genes_groups(adata_neuronal, 'subclass', groups=['AV Col27a1 Glut'], method='wilcoxon', rankby_abs=True)\n",
    "sc.pl.rank_genes_groups(adata_neuronal, n_genes=20)"
   ]
  },
  {
   "cell_type": "markdown",
   "id": "f7f5e9ba-875a-4b0e-b3a8-33aee98f00fe",
   "metadata": {},
   "source": [
    "##### Col27a1"
   ]
  },
  {
   "cell_type": "code",
   "execution_count": 61,
   "id": "95c79503-9d89-4943-8ab7-113521cfc4d1",
   "metadata": {
    "tags": []
   },
   "outputs": [],
   "source": [
    "section = 'C57BL6J-638850.44'\n",
    "\n",
    "gene = \"Col27a1\"\n",
    "ant_nuclei=['AD', 'AV', 'AMd', 'AMv']\n",
    "highlight_nuclei=['AD', 'AV']\n",
    "cplots.plot_expression_ccf(adata_neuronal, section, gene, ccf_polygons, nuclei=ant_nuclei, bg_shapes=False, \n",
    "                    cmap='Blues', show_outline=True, highlight=highlight_nuclei);"
   ]
  },
  {
   "cell_type": "markdown",
   "id": "6200cd79-0047-442f-b96b-3962e736e826",
   "metadata": {},
   "source": [
    "##### Sorcs3\n",
    "Mathew's plots in brain1 suggested high expression exclusively in the '1097 AV Col27a1 Glut cluster' in the AV\n",
    "\n",
    "That does not appear to be the case in brain3..."
   ]
  },
  {
   "cell_type": "code",
   "execution_count": 62,
   "id": "ecd4d343-c696-4b33-8f38-bb4b44630d17",
   "metadata": {
    "tags": []
   },
   "outputs": [],
   "source": [
    "\n",
    "# Mathew's plots in brain1 suggested high expression exclusively in the '1097 AV Col27a1 Glut cluster' in the AV\n",
    "# That does not appear to be the case in brain3...\n",
    "gene = \"Sorcs3\"\n",
    "ant_nuclei=['AD', 'AV', 'AMd', 'AMv']\n",
    "highlight_nuclei=['AV']\n",
    "cplots.plot_expression_ccf(adata_neuronal, section, gene, ccf_polygons, nuclei=ant_nuclei, bg_shapes=False, \n",
    "                    cmap='Blues', show_outline=True, highlight=highlight_nuclei);"
   ]
  },
  {
   "cell_type": "markdown",
   "id": "02a2413a-c449-4021-9b96-5d467169f973",
   "metadata": {},
   "source": [
    "#### AD"
   ]
  },
  {
   "cell_type": "code",
   "execution_count": 63,
   "id": "e222f084-6f18-4e6e-99e4-c6d1b2e3b276",
   "metadata": {
    "tags": []
   },
   "outputs": [],
   "source": [
    "sc.tl.rank_genes_groups(adata_neuronal, 'subclass', groups=['AD Serpinb7 Glut'], method='wilcoxon', rankby_abs=True)\n",
    "sc.pl.rank_genes_groups(adata_neuronal, n_genes=20)"
   ]
  },
  {
   "cell_type": "code",
   "execution_count": 64,
   "id": "7537750a-1d05-453f-9f4a-6231d2855730",
   "metadata": {
    "tags": []
   },
   "outputs": [],
   "source": [
    "\n",
    "gene = \"Syndig1l\"\n",
    "ant_nuclei=['AD', 'AV', 'AMd', 'AMv']\n",
    "highlight_nuclei=['AD']\n",
    "cplots.plot_expression_ccf(adata_neuronal, section, gene, ccf_polygons, nuclei=ant_nuclei, bg_shapes=False, \n",
    "                    cmap='Blues', show_outline=True, highlight=highlight_nuclei);"
   ]
  },
  {
   "cell_type": "markdown",
   "id": "d140b73f-e065-4326-b5cc-f88aefd5e3ad",
   "metadata": {},
   "source": [
    "#### AM"
   ]
  },
  {
   "cell_type": "code",
   "execution_count": 65,
   "id": "2160e5ac-1999-4b56-b64f-c42f3763649f",
   "metadata": {
    "tags": []
   },
   "outputs": [],
   "source": [
    "sc.tl.rank_genes_groups(adata_neuronal, 'supertype', groups=['TH Prkcd Grin2c Glut_9'], method='wilcoxon', rankby_abs=True)\n",
    "sc.pl.rank_genes_groups(adata_neuronal, n_genes=20)"
   ]
  },
  {
   "cell_type": "code",
   "execution_count": 66,
   "id": "74194b27-9ee1-42d0-98d0-6f424f6be6ab",
   "metadata": {
    "tags": []
   },
   "outputs": [],
   "source": [
    "\n",
    "gene = \"Cbln1\"\n",
    "ant_nuclei=['AD', 'AV', 'AMd', 'AMv']\n",
    "highlight_nuclei=['AMd', 'AMv']\n",
    "cplots.plot_expression_ccf(adata_neuronal, section, gene, ccf_polygons, nuclei=ant_nuclei, bg_shapes=False, \n",
    "                    cmap='Blues', show_outline=True, highlight=highlight_nuclei);"
   ]
  },
  {
   "cell_type": "code",
   "execution_count": 67,
   "id": "8d8544ec-edc5-4f6a-8843-e9eb3877d9ef",
   "metadata": {
    "tags": []
   },
   "outputs": [],
   "source": [
    "obs_th_neurons['anterior_type'] = (obs_th_neurons['supertype'].str.contains('Glut_9') |\n",
    "                                       obs_th_neurons['supertype'].str.contains('AD') |\n",
    "                                       obs_th_neurons['supertype'].str.contains('AV')).astype(str)"
   ]
  },
  {
   "cell_type": "code",
   "execution_count": 68,
   "id": "d75e4955-7944-4087-8be0-c9ce11de505f",
   "metadata": {
    "tags": []
   },
   "outputs": [],
   "source": [
    "sc.tl.rank_genes_groups(adata_neuronal, 'anterior_type', method='wilcoxon', rankby_abs=True)\n",
    "sc.pl.rank_genes_groups(adata_neuronal, n_genes=20)"
   ]
  },
  {
   "cell_type": "code",
   "execution_count": 69,
   "id": "3b24566e-5a74-40ce-9578-bf571dca91ee",
   "metadata": {
    "tags": []
   },
   "outputs": [],
   "source": [
    "\n",
    "gene = \"C1ql3\"\n",
    "nuclei=['AD', 'AV', 'AMd', 'AMv']\n",
    "cplots.plot_expression_ccf(adata_neuronal, section, gene, ccf_polygons, nuclei=nuclei, bg_shapes=False, \n",
    "                    cmap='Blues', show_outline=True);"
   ]
  },
  {
   "cell_type": "code",
   "execution_count": 70,
   "id": "8a0f290d-6336-46e9-a515-1d5170142f65",
   "metadata": {
    "tags": []
   },
   "outputs": [],
   "source": [
    "\n",
    "gene = \"Shox2\"\n",
    "nuclei=['AD', 'AV', 'AMd', 'AMv']\n",
    "cplots.plot_expression_ccf(adata_neuronal, section, gene, ccf_polygons, nuclei=nuclei, bg_shapes=False, \n",
    "                    cmap='Blues', show_outline=True);"
   ]
  },
  {
   "cell_type": "markdown",
   "id": "a51bc67b-895d-4b10-89cd-323a55c06985",
   "metadata": {
    "tags": []
   },
   "source": [
    "## MD"
   ]
  },
  {
   "cell_type": "code",
   "execution_count": 71,
   "id": "3a7b010b-93b3-406b-8eec-f1ca74753951",
   "metadata": {
    "scrolled": true,
    "tags": []
   },
   "outputs": [],
   "source": [
    "cluster = \"1133 TH Prkcd Grin2c Glut_10\"\n",
    "obs = adata.obs.loc[lambda df: df['cluster']==cluster]\n",
    "nuclei = ['MD']\n",
    "palette = {cluster: \"#bcbd22\"}\n",
    "cplots.plot_nucleus_cluster_comparison_slices(obs, ccf_polygons, nuclei=nuclei, legend='cells', bg_cells=obs_th_neurons, bg_shapes=False, \n",
    "                                       shape_palette='dark_outline', point_palette=palette, s=5)"
   ]
  },
  {
   "cell_type": "code",
   "execution_count": 72,
   "id": "3cd9ebf9-c6e6-4b8c-be32-3ddbf33f3399",
   "metadata": {
    "scrolled": true,
    "tags": []
   },
   "outputs": [],
   "source": [
    "# TODO: should probably remove 1132 from annotation\n",
    "obs = get_obs_from_annotated_clusters('MD', adata_neuronal, nuclei_df)\n",
    "\n",
    "cplots.plot_nucleus_cluster_comparison_slices(obs, ccf_polygons, nuclei=nuclei, legend='cells', bg_cells=obs_th_neurons, bg_shapes=False, \n",
    "                                       shape_palette='dark_outline', s=5)"
   ]
  },
  {
   "cell_type": "markdown",
   "id": "2dbb13e9-4f18-4d12-9050-a4dbbdf6b6c9",
   "metadata": {},
   "source": [
    "### diff exp"
   ]
  },
  {
   "cell_type": "code",
   "execution_count": 73,
   "id": "19801e4a-3814-48a5-bdff-f67746981d2a",
   "metadata": {
    "tags": []
   },
   "outputs": [],
   "source": [
    "sc.tl.rank_genes_groups(adata_neuronal, 'cluster_id', groups=['1133'], method='wilcoxon', rankby_abs=True)\n",
    "sc.pl.rank_genes_groups(adata_neuronal, n_genes=20)"
   ]
  },
  {
   "cell_type": "markdown",
   "id": "4387e563-b976-4b69-8335-90b0ae99adb0",
   "metadata": {
    "tags": []
   },
   "source": [
    "## other"
   ]
  },
  {
   "cell_type": "code",
   "execution_count": 76,
   "id": "31215762-e2f0-4c76-a2fa-83888fd49530",
   "metadata": {
    "scrolled": true,
    "tags": []
   },
   "outputs": [],
   "source": [
    "obs = get_obs_from_annotated_clusters('PT', adata_neuronal, nuclei_df)\n",
    "cplots.plot_nucleus_cluster_comparison_slices(obs, ccf_polygons, nuclei='PT', legend='cells', bg_cells=obs_th_neurons, bg_shapes=False, \n",
    "                                       shape_palette='dark_outline', s=5)"
   ]
  },
  {
   "cell_type": "code",
   "execution_count": 78,
   "id": "c90bffe0-5849-4118-85b9-2554aee73c91",
   "metadata": {
    "scrolled": true,
    "tags": []
   },
   "outputs": [],
   "source": [
    "obs = obs_th_neurons.query(\"supertype.str.contains('PVT-PT')\", engine='python')\n",
    "cplots.plot_nucleus_cluster_comparison_slices(obs, ccf_polygons, nuclei=['PT','PVT'], bg_cells=obs_th_neurons, bg_shapes=False, legend='both')"
   ]
  },
  {
   "cell_type": "code",
   "execution_count": 80,
   "id": "47ae967e-e879-47f6-b21b-06b6bd06b257",
   "metadata": {
    "scrolled": true,
    "tags": []
   },
   "outputs": [],
   "source": [
    "obs = get_obs_from_annotated_clusters('PVT', adata_neuronal, nuclei_df)\n",
    "cplots.plot_nucleus_cluster_comparison_slices(obs, ccf_polygons, nuclei=['PT','PVT'], bg_cells=obs_th_neurons, bg_shapes=False, legend='both')"
   ]
  },
  {
   "cell_type": "code",
   "execution_count": 81,
   "id": "e7fb693e-4197-407a-ad50-4db386025471",
   "metadata": {
    "scrolled": true,
    "tags": []
   },
   "outputs": [],
   "source": [
    "obs = get_obs_from_annotated_clusters('LGd', adata_neuronal, nuclei_df)\n",
    "cplots.plot_nucleus_cluster_comparison_slices(obs, ccf_polygons, nuclei=['LGd-co', 'LGd-ip', 'LGd-sh'], bg_cells=obs_th_neurons, bg_shapes=False)"
   ]
  },
  {
   "cell_type": "code",
   "execution_count": 82,
   "id": "f3153ee9-0bfc-4ce2-83c1-0d400007aa5d",
   "metadata": {
    "scrolled": true,
    "tags": []
   },
   "outputs": [],
   "source": [
    "obs = get_obs_from_annotated_clusters('SMT', adata_neuronal, nuclei_df)\n",
    "cplots.plot_nucleus_cluster_comparison_slices(obs, ccf_polygons, nuclei='SMT', bg_cells=obs_th_neurons, bg_shapes=False)"
   ]
  },
  {
   "cell_type": "code",
   "execution_count": 83,
   "id": "83f73d53-ca19-4662-988e-70ffc0e21114",
   "metadata": {
    "scrolled": true,
    "tags": []
   },
   "outputs": [],
   "source": [
    "obs = get_obs_from_annotated_clusters('LD', adata_neuronal, nuclei_df)\n",
    "cplots.plot_nucleus_cluster_comparison_slices(obs, ccf_polygons, nuclei='LD', bg_cells=obs_th_neurons, bg_shapes=False)"
   ]
  },
  {
   "cell_type": "code",
   "execution_count": null,
   "id": "f546284e-308f-4ac8-a46d-45de2346a90f",
   "metadata": {},
   "outputs": [],
   "source": []
  }
 ],
 "metadata": {
  "kernelspec": {
   "display_name": "Python 3 (ipykernel)",
   "language": "python",
   "name": "python3"
  },
  "language_info": {
   "codemirror_mode": {
    "name": "ipython",
    "version": 3
   },
   "file_extension": ".py",
   "mimetype": "text/x-python",
   "name": "python",
   "nbconvert_exporter": "python",
   "pygments_lexer": "ipython3",
   "version": "3.9.12 (main, Apr  5 2022, 06:56:58) \n[GCC 7.5.0]"
  },
  "vscode": {
   "interpreter": {
    "hash": "d4d1e4263499bec80672ea0156c357c1ee493ec2b1c70f0acce89fc37c4a6abe"
   }
  }
 },
 "nbformat": 4,
 "nbformat_minor": 5
}
