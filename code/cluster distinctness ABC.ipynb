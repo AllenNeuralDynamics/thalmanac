{
 "cells": [
  {
   "cell_type": "code",
   "execution_count": 1,
   "id": "58651690-6f04-423a-8457-beba0aea1f5d",
   "metadata": {},
   "outputs": [],
   "source": [
    "import anndata as ad\n",
    "import pandas as pd\n",
    "import scanpy as sc\n",
    "%matplotlib inline\n",
    "\n",
    "import numpy as np\n",
    "import matplotlib.pyplot as plt\n",
    "import matplotlib.colors\n",
    "import seaborn as sns"
   ]
  },
  {
   "cell_type": "code",
   "execution_count": 25,
   "id": "d150f919-f511-4387-9971-14d5c46d82c9",
   "metadata": {},
   "outputs": [],
   "source": [
    "# Load sequencing data\n",
    "\n",
    "ad_th = ad.read_h5ad(\"/data/allen-brain-cell-atlas/expression_matrices/WMB-10Xv3/20230630/WMB-10Xv3-TH-log2.h5ad\", backed='r')\n",
    "ad_hy = ad.read_h5ad(\"/data/allen-brain-cell-atlas/expression_matrices/WMB-10Xv3/20230630/WMB-10Xv3-HY-log2.h5ad\", backed='r')"
   ]
  },
  {
   "cell_type": "code",
   "execution_count": 36,
   "id": "9d37928d-1d37-45b6-8b4e-8521a86088d1",
   "metadata": {},
   "outputs": [],
   "source": [
    "cells_df = pd.read_csv(\"/data/allen-brain-cell-atlas/metadata/WMB-10X/20230630/cell_metadata.csv\", index_col=0)\n",
    "cells_df.head()"
   ]
  },
  {
   "cell_type": "code",
   "execution_count": 33,
   "id": "8cddfd35-9968-49b2-bc02-87ca170df34f",
   "metadata": {},
   "outputs": [],
   "source": [
    "clusters_df = pd.read_csv(\"/data/allen-brain-cell-atlas/metadata/WMB-taxonomy/20230630/views/cluster_to_cluster_annotation_membership_pivoted.csv\", index_col=0)\n",
    "clusters_df.head()"
   ]
  },
  {
   "cell_type": "code",
   "execution_count": 40,
   "id": "3ebd6163-b86b-42a8-8618-7a483521746b",
   "metadata": {},
   "outputs": [],
   "source": [
    "ad_joined = ad.concat([ad_th.to_memory(), ad_hy.to_memory()])"
   ]
  },
  {
   "cell_type": "code",
   "execution_count": 42,
   "id": "ac0f64f1-0b7a-4b0d-8133-c3bd0c518965",
   "metadata": {},
   "outputs": [],
   "source": [
    "ad_joined.obs = ad_joined.obs.join(cells_df, rsuffix='_md').join(clusters_df, on='cluster_alias')"
   ]
  },
  {
   "cell_type": "markdown",
   "id": "1aeccca2-b3c5-44df-8dc2-9509451de51f",
   "metadata": {},
   "source": [
    "## all thalamus subclasses"
   ]
  },
  {
   "cell_type": "code",
   "execution_count": 44,
   "id": "3f55b589-596f-4dc1-94f4-b42e69c65470",
   "metadata": {},
   "outputs": [],
   "source": [
    "subclasses = ['TH Prkcd Grin2c Glut', 'RT ZI Gnb3 Gaba', 'ZI Pax6 Gaba',\n",
    "                  'MH Tac2 Glut', 'PF Fzd5 Glut', 'PVT-PT Ntrk1 Glut',\n",
    "                  'RE-Xi Nox4 Glut', 'CM-IAD-CL-PCN Glut',\n",
    "                  'SPA-SPFm-SPFp-POL-PIL-PoT Glut', 'AV Col27a1 Glut',\n",
    "                  'LGv-SPFp-SPFm Gata3 Gaba', 'LH Pou4f1 Sox1 Glut',\n",
    "                  'AD Serpinb7 Glut', 'MG-POL-SGN Glut', 'LGv Otx2 Gaba']"
   ]
  },
  {
   "cell_type": "code",
   "execution_count": 49,
   "id": "0151ed6a-3ee7-4954-9e9e-114469d20d97",
   "metadata": {},
   "outputs": [],
   "source": [
    "adata_neuronal = ad_joined[ad_joined.obs[\"subclass\"].str[4:].isin(subclasses)]\n",
    "adata_neuronal.shape"
   ]
  },
  {
   "cell_type": "code",
   "execution_count": 50,
   "id": "56417088-62d6-4d23-8016-42fa009b86d9",
   "metadata": {},
   "outputs": [],
   "source": [
    "adata_neuronal.obs['region_of_interest_acronym'].value_counts()"
   ]
  },
  {
   "cell_type": "code",
   "execution_count": 51,
   "id": "73aa0c6e-5ab0-49b3-837b-76ed956509f4",
   "metadata": {},
   "outputs": [],
   "source": [
    "adata_neuronal.obs[\"subclass\"].value_counts()"
   ]
  },
  {
   "cell_type": "code",
   "execution_count": 92,
   "id": "b864278f-e358-4123-be3e-1979b728a56c",
   "metadata": {},
   "outputs": [],
   "source": [
    "from importlib import reload\n",
    "reload(dprime)"
   ]
  },
  {
   "cell_type": "code",
   "execution_count": 93,
   "id": "8d63c1f9-c43a-4baf-8644-66d2ea6fe55a",
   "metadata": {},
   "outputs": [],
   "source": [
    "import dprime\n",
    "import scipy.spatial.distance as distance\n",
    "from diskcache import Cache\n",
    "\n",
    "cache = Cache(\"/scratch/cache\")\n",
    "\n",
    "# @cache.memoize()\n",
    "def tx_dprime(type_label, features=None, type_list=None, n_folds=5, r=3, zero_inflated=True, n_subsample=1000, **kwargs ):\n",
    "    global data\n",
    "    adata = data[data.obs.groupby(type_label).sample(n_subsample, replace=True).index]\n",
    "    df = adata.obs\n",
    "    type_labels = df[type_label]\n",
    "    data = adata.X if features is None else adata[:, features].X\n",
    "    if type_list is None:\n",
    "        type_list = type_labels.unique()\n",
    "    # d-prime calculation\n",
    "    if zero_inflated:\n",
    "        dprime_results = dprime.zinb_dprime(\n",
    "            data, type_list, type_labels, n_folds=n_folds,\n",
    "            r=r, **kwargs)\n",
    "    else:\n",
    "        dprime_results = dprime.negative_binomial_dprime(\n",
    "            data, type_list, type_labels, n_folds=n_folds,\n",
    "            r=r, **kwargs)\n",
    "\n",
    "    dprime_mat = distance.squareform(\n",
    "        [np.abs(dprime_results[k][\"dprime\"]) for k in dprime_results])\n",
    "    output_dprime_df = pd.DataFrame(dprime_mat, index=type_list, columns=type_list)\n",
    "#     return output_dprime_df, dprime_results\n",
    "    return output_dprime_df\n"
   ]
  },
  {
   "cell_type": "code",
   "execution_count": 94,
   "id": "efe52665-2e10-421d-9428-db5e8213eca0",
   "metadata": {},
   "outputs": [],
   "source": [
    "data = adata_neuronal\n",
    "result = tx_dprime(type_label='subclass', zero_inflated=False, r=1)"
   ]
  },
  {
   "cell_type": "code",
   "execution_count": 96,
   "id": "9ff302a5-446d-4500-b391-49f937295c49",
   "metadata": {},
   "outputs": [],
   "source": [
    "result.to_csv(\"resources/th_subclass_dprime.csv\")"
   ]
  },
  {
   "cell_type": "markdown",
   "id": "5e20df64-c4d6-4c52-9df7-81dca06bd387",
   "metadata": {},
   "source": [
    "## load and plot"
   ]
  },
  {
   "cell_type": "code",
   "execution_count": 62,
   "id": "185d125a-273b-4ef0-ae6d-ad620e335b56",
   "metadata": {},
   "outputs": [],
   "source": [
    "result = pd.read_csv(\"resources/th_subclass_dprime.csv\", index_col=0)"
   ]
  },
  {
   "cell_type": "code",
   "execution_count": 95,
   "id": "7ae6989e-7010-455c-822e-98d0e6d1f713",
   "metadata": {},
   "outputs": [],
   "source": [
    "plt.figure(figsize=(7,7))\n",
    "sns.heatmap(result, cmap='viridis_r', vmin=0, vmax=5, cbar=True, cbar_kws=dict(label=\"distinctness d'\"))\n",
    "plt.axis('image')"
   ]
  },
  {
   "cell_type": "code",
   "execution_count": null,
   "id": "9eee2134-5117-4a22-a0ca-cdef09b68081",
   "metadata": {},
   "outputs": [],
   "source": []
  },
  {
   "cell_type": "code",
   "execution_count": 99,
   "id": "b1fbb208-3a9f-4a9c-bc5b-e17e07d74e5f",
   "metadata": {},
   "outputs": [],
   "source": [
    "from scipy.cluster import hierarchy\n",
    "from scipy.spatial.distance import squareform\n",
    "\n",
    "X = squareform(result.values)\n",
    "Z = hierarchy.linkage(X, method='single')\n",
    "order = hierarchy.leaves_list(hierarchy.optimal_leaf_ordering(Z, X))"
   ]
  },
  {
   "cell_type": "code",
   "execution_count": 100,
   "id": "39318bef-cb87-4111-9743-4487bee07bc3",
   "metadata": {},
   "outputs": [],
   "source": [
    "sns.clustermap(result, row_linkage=Z, col_linkage=Z, cmap='viridis_r', vmin=0, vmax=5, cbar=True, cbar_kws=dict(label=\"distinctness d'\"))\n",
    "# plt.axis('image')"
   ]
  },
  {
   "cell_type": "code",
   "execution_count": 65,
   "id": "f46ac4d7-5a94-4ae5-90df-a3fbdefccddc",
   "metadata": {},
   "outputs": [],
   "source": [
    "plt.figure(figsize=(7,7))\n",
    "sns.heatmap(dprime.iloc[order, order], cmap='viridis_r', vmin=0, vmax=5, cbar=True, cbar_kws=dict(label=\"distinctness d'\"))\n",
    "plt.axis('image')"
   ]
  },
  {
   "cell_type": "code",
   "execution_count": 31,
   "id": "4282586f-402b-492b-999b-b3973245b194",
   "metadata": {},
   "outputs": [],
   "source": [
    "bold = ['AD Serpinb7 Glut',\n",
    " 'AV Col27a1 Glut',\n",
    " 'TH Prkcd Grin2c Glut 9 (AM)',\n",
    " 'TH Prkcd Grin2c Glut 13 (VM/VAL)',\n",
    " 'TH Prkcd Grin2c Glut 10 (MD)',\n",
    "        ]"
   ]
  },
  {
   "cell_type": "code",
   "execution_count": 34,
   "id": "5799ea15-2625-4e45-8def-217de595e48b",
   "metadata": {},
   "outputs": [],
   "source": [
    "Z = hierarchy.linkage(X, method='single')\n",
    "order = hierarchy.leaves_list(hierarchy.optimal_leaf_ordering(Z, X))\n",
    "\n",
    "plt.figure(figsize=(7,6))\n",
    "sns.heatmap(dprime.iloc[order, order], cmap='viridis_r', vmin=0, vmax=4, cbar=True, cbar_kws=dict(label=\"distinctness d'\"))\n",
    "plt.axis('image')\n",
    "plt.xticks\n",
    "\n",
    "ax = plt.gca()\n",
    "from matplotlib.patches import Rectangle\n",
    "args = dict(linewidth=1.5, edgecolor='red', facecolor='none')\n",
    "k = dprime.shape[0]\n",
    "boxes = [\n",
    "    ax.add_patch(Rectangle((0,4), k, 1, **args)),\n",
    "    ax.add_patch(Rectangle((0,10), k, 1, **args)),\n",
    "    ax.add_patch(Rectangle((0,18), k, 3, **args)),\n",
    "]\n",
    "labels = dprime.index[order]\n",
    "labels = [r\"$\\mathbf{\" + x.replace(' ', '\\ ') + \"}$\" if x in bold else x for x in labels]\n",
    "ax.set_yticklabels(labels)\n",
    "ax.tick_params(labelbottom=False) \n",
    "plt.show()"
   ]
  },
  {
   "cell_type": "code",
   "execution_count": 51,
   "id": "cab8ed5d-4b26-4fe3-9031-0dc632bbb51d",
   "metadata": {},
   "outputs": [],
   "source": [
    "types = [\"277 TH Prkcd Grin2c Glut_3\",\n",
    "         \"280 TH Prkcd Grin2c Glut_6\"\n",
    "        ]"
   ]
  },
  {
   "cell_type": "code",
   "execution_count": 30,
   "id": "ffde1fb1-8c99-4096-ba29-b5f96ad43bcd",
   "metadata": {},
   "outputs": [],
   "source": [
    "facs_dprime = tx_dprime(seqData, cluster_label='supertype_id_label', type_list=types, zero_inflated=False, r=1)"
   ]
  },
  {
   "cell_type": "code",
   "execution_count": 31,
   "id": "fdd2d8ed-3dda-4ba2-a531-b79a01ad89a1",
   "metadata": {},
   "outputs": [],
   "source": [
    "facs_dprime"
   ]
  },
  {
   "cell_type": "code",
   "execution_count": 54,
   "id": "25739069-ac37-4bfa-abc1-f9a5e5b0ab7a",
   "metadata": {},
   "outputs": [],
   "source": [
    "# higher r / lower dispersion\n",
    "tx_dprime(seqData, cluster_label='supertype_id_label', type_list=types, zero_inflated=False, r=10)"
   ]
  },
  {
   "cell_type": "code",
   "execution_count": null,
   "id": "9e91c295-bf56-4963-be88-0fe0dc5f88b5",
   "metadata": {},
   "outputs": [],
   "source": []
  },
  {
   "cell_type": "code",
   "execution_count": 32,
   "id": "58ebc30b-ad3d-40f7-9fbb-022710ade1b2",
   "metadata": {},
   "outputs": [],
   "source": [
    "tx_dprime(seqData, cluster_label='supertype_id_label', features=seqData.var_names[:10000], type_list=types, zero_inflated=False, r=1)"
   ]
  },
  {
   "cell_type": "code",
   "execution_count": 41,
   "id": "452f7fc9-4d58-4762-b5b4-c3750a35ff50",
   "metadata": {},
   "outputs": [],
   "source": [
    "sc.pp.highly_variable_genes(seqData, flavor='seurat_v3', n_top_genes=10000)"
   ]
  },
  {
   "cell_type": "code",
   "execution_count": 42,
   "id": "df918d5c-3a11-4f78-bd4b-2a7b2c310ed1",
   "metadata": {},
   "outputs": [],
   "source": [
    "tx_dprime(seqData, cluster_label='supertype_id_label', features=seqData.var.query('highly_variable').index, type_list=types, zero_inflated=False, r=1)"
   ]
  },
  {
   "cell_type": "code",
   "execution_count": 43,
   "id": "f4cd2b5b-5cb3-4590-832a-2740a926229b",
   "metadata": {},
   "outputs": [],
   "source": [
    "hvg = sc.experimental.pp.highly_variable_genes(seqData, n_top_genes=10000, inplace=False)"
   ]
  },
  {
   "cell_type": "code",
   "execution_count": 45,
   "id": "64d9e926-cbc8-4d6d-bb92-089b64344a8e",
   "metadata": {},
   "outputs": [],
   "source": [
    "tx_dprime(seqData, cluster_label='supertype_id_label', features=hvg.query('highly_variable').index, type_list=types, zero_inflated=False, r=1)"
   ]
  },
  {
   "cell_type": "code",
   "execution_count": null,
   "id": "00be6b6e-0bf3-4364-8c57-8ca5cc9e2cff",
   "metadata": {},
   "outputs": [],
   "source": []
  }
 ],
 "metadata": {
  "kernelspec": {
   "display_name": "base",
   "language": "python",
   "name": "python3"
  },
  "language_info": {
   "codemirror_mode": {
    "name": "ipython",
    "version": 3
   },
   "file_extension": ".py",
   "mimetype": "text/x-python",
   "name": "python",
   "nbconvert_exporter": "python",
   "pygments_lexer": "ipython3",
   "version": "3.9.12 (main, Apr  5 2022, 06:56:58) \n[GCC 7.5.0]"
  },
  "vscode": {
   "interpreter": {
    "hash": "d4d1e4263499bec80672ea0156c357c1ee493ec2b1c70f0acce89fc37c4a6abe"
   }
  }
 },
 "nbformat": 4,
 "nbformat_minor": 5
}
