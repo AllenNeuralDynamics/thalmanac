{
 "cells": [
  {
   "cell_type": "code",
   "execution_count": 1,
   "id": "58651690-6f04-423a-8457-beba0aea1f5d",
   "metadata": {},
   "outputs": [],
   "source": [
    "import anndata as ad\n",
    "import pandas as pd\n",
    "import scanpy as sc\n",
    "%matplotlib inline\n",
    "\n",
    "import numpy as np\n",
    "import matplotlib.pyplot as plt\n",
    "import matplotlib.colors\n",
    "import seaborn as sns"
   ]
  },
  {
   "cell_type": "code",
   "execution_count": 2,
   "id": "19168271-88b2-4b67-ab54-dd6f385dc56c",
   "metadata": {},
   "outputs": [],
   "source": [
    "# Load MERFISH data\n",
    "merData = ad.read_h5ad(\"/data/merfish_609882_AIT17.1_annotated_TH_ZI_only_2023-02-16_00-00-00/atlas_brain_609882_AIT17_1_annotated_TH_ZI_only.h5ad\")\n",
    "\n",
    "# Subset to neuronal\n",
    "merData = merData[merData.obs[\"division_id_label\"].isin([\"3 PAL-sAMY-TH-HY-MB-HB neuronal\"])]"
   ]
  },
  {
   "cell_type": "code",
   "execution_count": 3,
   "id": "37a756bc-a50f-4412-ade6-d11a5824ed3b",
   "metadata": {
    "tags": []
   },
   "outputs": [],
   "source": [
    "merData.obs['Level1_id_label'].value_counts(normalize=False).loc[lambda x: x>100]"
   ]
  },
  {
   "cell_type": "code",
   "execution_count": 4,
   "id": "8f6d085d-9b58-4ff0-8d13-b1f5e7a7722f",
   "metadata": {},
   "outputs": [],
   "source": [
    "# Load sequencing data\n",
    "seqData = ad.read_h5ad(\"/data/rnaseq_AIT17.2_2022-12-15_12-00-00/rnaseq/processed.U19_TH-EPI.postQC.h5ad\", backed=False)\n",
    "\n",
    "data = seqData[seqData.obs['Level1_id_label']=='8_TH']"
   ]
  },
  {
   "cell_type": "code",
   "execution_count": 5,
   "id": "e426067d-315a-4ebb-8b80-c9059d1c7e8e",
   "metadata": {},
   "outputs": [],
   "source": [
    "data"
   ]
  },
  {
   "cell_type": "code",
   "execution_count": 7,
   "id": "0543645c-0e28-4770-b00a-30792b940e27",
   "metadata": {},
   "outputs": [],
   "source": [
    "data.obs['nt_type_label'].value_counts()"
   ]
  },
  {
   "cell_type": "code",
   "execution_count": 9,
   "id": "f45ba11b-4ba9-4e1b-aa5a-4da2beb98cda",
   "metadata": {
    "collapsed": true,
    "jupyter": {
     "outputs_hidden": true
    },
    "tags": []
   },
   "outputs": [],
   "source": [
    "supertypes = data.obs['supertype_id_label'].value_counts(normalize=False).loc[lambda x: x>0]\n",
    "supertypes.sort_index()"
   ]
  },
  {
   "cell_type": "code",
   "execution_count": 10,
   "id": "6fbced99-6d16-4d7e-9727-44b699727792",
   "metadata": {},
   "outputs": [],
   "source": [
    "sorted(data.obs['Level2_id_label'].unique())"
   ]
  },
  {
   "cell_type": "code",
   "execution_count": 11,
   "id": "99080e41-ec1b-4cbf-b863-a6e41838494d",
   "metadata": {},
   "outputs": [],
   "source": [
    "expand = ['65_AD Serpinb7 Glut', '66_AV Col27a1 Glut', '69_TH Prkcd Grin2c Glut']\n",
    "data.obs['grouped_cell_type'] = data.obs['Level2_id_label'].astype(str)\n",
    "data.obs.loc[lambda df: df['grouped_cell_type'].isin(expand), 'grouped_cell_type'] = data.obs.loc[lambda df: df['grouped_cell_type'].isin(expand), 'supertype_id_label']\n",
    "data.obs['grouped_cell_type'].value_counts()"
   ]
  },
  {
   "cell_type": "code",
   "execution_count": 12,
   "id": "0f190c5a-59d5-4b51-871e-6f1c5c8c7d5a",
   "metadata": {},
   "outputs": [],
   "source": [
    "len(data.obs['grouped_cell_type'].unique())**2"
   ]
  },
  {
   "cell_type": "code",
   "execution_count": 13,
   "id": "5bb2afb7-0cf9-4119-a513-82920f9b83e0",
   "metadata": {},
   "outputs": [],
   "source": [
    "data.obs['method'].value_counts()"
   ]
  },
  {
   "cell_type": "code",
   "execution_count": 23,
   "id": "8d63c1f9-c43a-4baf-8644-66d2ea6fe55a",
   "metadata": {},
   "outputs": [],
   "source": [
    "import dprime\n",
    "import scipy.spatial.distance as distance\n",
    "from diskcache import Cache\n",
    "\n",
    "cache = Cache(\"/scratch/cache\")\n",
    "\n",
    "@cache.memoize()\n",
    "def tx_dprime(cluster_label, features=None, type_list=None, n_folds=5, r=3, zero_inflated=True, n_subsample=1000, **kwargs ):\n",
    "    global data\n",
    "    adata = data[data.obs.groupby(cluster_label).sample(n_subsample, replace=True).index]\n",
    "    df = adata.obs\n",
    "    type_labels = df[cluster_label]\n",
    "    data = adata.X if features is None else adata[:, features].X\n",
    "    if type_list is None:\n",
    "        type_list = type_labels.unique()\n",
    "    # d-prime calculation\n",
    "    if zero_inflated:\n",
    "        dprime_results = dprime.zinb_dprime(\n",
    "            data, type_list, type_labels, n_folds=n_folds,\n",
    "            r=r, **kwargs)\n",
    "    else:\n",
    "        dprime_results = dprime.negative_binomial_dprime(\n",
    "            data, type_list, type_labels, n_folds=n_folds,\n",
    "            r=r, **kwargs)\n",
    "\n",
    "    dprime_mat = distance.squareform(\n",
    "        [np.abs(dprime_results[k][\"dprime\"]) for k in dprime_results])\n",
    "    output_dprime_df = pd.DataFrame(dprime_mat, index=type_list, columns=type_list)\n",
    "#     return output_dprime_df, dprime_results\n",
    "    return output_dprime_df\n"
   ]
  },
  {
   "cell_type": "code",
   "execution_count": 24,
   "id": "efe52665-2e10-421d-9428-db5e8213eca0",
   "metadata": {},
   "outputs": [],
   "source": [
    "result = tx_dprime(cluster_label='grouped_cell_type', zero_inflated=False, r=1)"
   ]
  },
  {
   "cell_type": "code",
   "execution_count": 45,
   "id": "9ff302a5-446d-4500-b391-49f937295c49",
   "metadata": {},
   "outputs": [],
   "source": [
    "result.to_csv(\"../resources/grouped_supertype_dprime.csv\")"
   ]
  },
  {
   "cell_type": "markdown",
   "id": "5e20df64-c4d6-4c52-9df7-81dca06bd387",
   "metadata": {},
   "source": [
    "## load and plot"
   ]
  },
  {
   "cell_type": "code",
   "execution_count": 2,
   "id": "185d125a-273b-4ef0-ae6d-ad620e335b56",
   "metadata": {},
   "outputs": [],
   "source": [
    "result = pd.read_csv(\"../resources/grouped_supertype_dprime.csv\", index_col=0)"
   ]
  },
  {
   "cell_type": "code",
   "execution_count": 13,
   "id": "c4637b5f-afde-49a2-8a89-18361d71d0a0",
   "metadata": {},
   "outputs": [],
   "source": [
    "import re\n",
    "labels = dprime.columns\n",
    "labels = [' '.join(re.split(' |_', x)[1:]) for x in labels]\n",
    "labels"
   ]
  },
  {
   "cell_type": "code",
   "execution_count": 14,
   "id": "b8913403-8e2f-4f6d-a0ab-020c76d12a31",
   "metadata": {},
   "outputs": [],
   "source": [
    "dprime = result.copy()\n",
    "\n",
    "dprime.index = labels\n",
    "dprime.columns = labels\n",
    "order = ['AD Serpinb7 Glut',\n",
    " 'AV Col27a1 Glut',\n",
    " 'TH Prkcd Grin2c Glut 9',\n",
    " 'TH Prkcd Grin2c Glut 13',\n",
    " 'TH Prkcd Grin2c Glut 10',\n",
    " 'TH Prkcd Grin2c Glut 4',\n",
    " 'TH Prkcd Grin2c Glut 6',\n",
    " 'TH Prkcd Grin2c Glut 7',\n",
    " 'TH Prkcd Grin2c Glut 11',\n",
    " 'TH Prkcd Grin2c Glut 12',\n",
    " 'TH Prkcd Grin2c Glut 8',\n",
    " 'TH Prkcd Grin2c Glut 14',\n",
    " 'TH Prkcd Grin2c Glut 1',\n",
    " 'TH Prkcd Grin2c Glut 2',\n",
    " 'TH Prkcd Grin2c Glut 3',\n",
    " 'TH Prkcd Grin2c Glut 5',\n",
    " 'PVT-PT Ntrk1 Glut',\n",
    " 'CM-IAD-CL-PCN Glut',\n",
    " 'RE-Xi Nox4 Glut',\n",
    " 'MG-POL-SGN Glut',\n",
    " 'PF Fzd5 Glut',\n",
    " 'MH Tac2 Glut',\n",
    " 'LH Pou4f1 Sox1 Glut',\n",
    "        ]\n",
    "dprime = dprime.loc[order, order]\n",
    "order[order.index('TH Prkcd Grin2c Glut 9')] += ' (AM)'\n",
    "order[order.index('TH Prkcd Grin2c Glut 10')] += ' (MD)'\n",
    "order[order.index('TH Prkcd Grin2c Glut 13')] += ' (VM/VAL)'\n",
    "dprime.index = order\n",
    "dprime.columns = order"
   ]
  },
  {
   "cell_type": "code",
   "execution_count": 15,
   "id": "f6d30b14-0059-4938-978d-22498ffb77e5",
   "metadata": {},
   "outputs": [],
   "source": [
    "plt.figure(figsize=(7,7))\n",
    "sns.heatmap(dprime, cmap='viridis_r', vmin=0, vmax=4, cbar=True, cbar_kws=dict(label=\"distinctness d'\"))\n",
    "plt.axis('image')"
   ]
  },
  {
   "cell_type": "code",
   "execution_count": 19,
   "id": "b1fbb208-3a9f-4a9c-bc5b-e17e07d74e5f",
   "metadata": {},
   "outputs": [],
   "source": [
    "from scipy.cluster import hierarchy\n",
    "from scipy.spatial.distance import squareform\n",
    "\n",
    "X = squareform(dprime.values)\n",
    "Z = hierarchy.linkage(X, method='average')\n",
    "order = hierarchy.leaves_list(hierarchy.optimal_leaf_ordering(Z, X))"
   ]
  },
  {
   "cell_type": "code",
   "execution_count": 20,
   "id": "f46ac4d7-5a94-4ae5-90df-a3fbdefccddc",
   "metadata": {},
   "outputs": [],
   "source": [
    "plt.figure(figsize=(7,7))\n",
    "sns.heatmap(dprime.iloc[order, order], cmap='viridis_r', vmin=0, vmax=4, cbar=True, cbar_kws=dict(label=\"distinctness d'\"))\n",
    "plt.axis('image')"
   ]
  },
  {
   "cell_type": "code",
   "execution_count": 31,
   "id": "4282586f-402b-492b-999b-b3973245b194",
   "metadata": {},
   "outputs": [],
   "source": [
    "bold = ['AD Serpinb7 Glut',\n",
    " 'AV Col27a1 Glut',\n",
    " 'TH Prkcd Grin2c Glut 9 (AM)',\n",
    " 'TH Prkcd Grin2c Glut 13 (VM/VAL)',\n",
    " 'TH Prkcd Grin2c Glut 10 (MD)',\n",
    "        ]"
   ]
  },
  {
   "cell_type": "code",
   "execution_count": 34,
   "id": "5799ea15-2625-4e45-8def-217de595e48b",
   "metadata": {},
   "outputs": [],
   "source": [
    "Z = hierarchy.linkage(X, method='single')\n",
    "order = hierarchy.leaves_list(hierarchy.optimal_leaf_ordering(Z, X))\n",
    "\n",
    "plt.figure(figsize=(7,6))\n",
    "sns.heatmap(dprime.iloc[order, order], cmap='viridis_r', vmin=0, vmax=4, cbar=True, cbar_kws=dict(label=\"distinctness d'\"))\n",
    "plt.axis('image')\n",
    "plt.xticks\n",
    "\n",
    "ax = plt.gca()\n",
    "from matplotlib.patches import Rectangle\n",
    "args = dict(linewidth=1.5, edgecolor='red', facecolor='none')\n",
    "k = dprime.shape[0]\n",
    "boxes = [\n",
    "    ax.add_patch(Rectangle((0,4), k, 1, **args)),\n",
    "    ax.add_patch(Rectangle((0,10), k, 1, **args)),\n",
    "    ax.add_patch(Rectangle((0,18), k, 3, **args)),\n",
    "]\n",
    "labels = dprime.index[order]\n",
    "labels = [r\"$\\mathbf{\" + x.replace(' ', '\\ ') + \"}$\" if x in bold else x for x in labels]\n",
    "ax.set_yticklabels(labels)\n",
    "ax.tick_params(labelbottom=False) \n",
    "plt.show()"
   ]
  },
  {
   "cell_type": "code",
   "execution_count": 51,
   "id": "cab8ed5d-4b26-4fe3-9031-0dc632bbb51d",
   "metadata": {},
   "outputs": [],
   "source": [
    "types = [\"277 TH Prkcd Grin2c Glut_3\",\n",
    "         \"280 TH Prkcd Grin2c Glut_6\"\n",
    "        ]"
   ]
  },
  {
   "cell_type": "code",
   "execution_count": 30,
   "id": "ffde1fb1-8c99-4096-ba29-b5f96ad43bcd",
   "metadata": {},
   "outputs": [],
   "source": [
    "facs_dprime = tx_dprime(seqData, cluster_label='supertype_id_label', type_list=types, zero_inflated=False, r=1)"
   ]
  },
  {
   "cell_type": "code",
   "execution_count": 31,
   "id": "fdd2d8ed-3dda-4ba2-a531-b79a01ad89a1",
   "metadata": {},
   "outputs": [],
   "source": [
    "facs_dprime"
   ]
  },
  {
   "cell_type": "code",
   "execution_count": 54,
   "id": "25739069-ac37-4bfa-abc1-f9a5e5b0ab7a",
   "metadata": {},
   "outputs": [],
   "source": [
    "# higher r / lower dispersion\n",
    "tx_dprime(seqData, cluster_label='supertype_id_label', type_list=types, zero_inflated=False, r=10)"
   ]
  },
  {
   "cell_type": "code",
   "execution_count": null,
   "id": "9e91c295-bf56-4963-be88-0fe0dc5f88b5",
   "metadata": {},
   "outputs": [],
   "source": []
  },
  {
   "cell_type": "code",
   "execution_count": 32,
   "id": "58ebc30b-ad3d-40f7-9fbb-022710ade1b2",
   "metadata": {},
   "outputs": [],
   "source": [
    "tx_dprime(seqData, cluster_label='supertype_id_label', features=seqData.var_names[:10000], type_list=types, zero_inflated=False, r=1)"
   ]
  },
  {
   "cell_type": "code",
   "execution_count": 41,
   "id": "452f7fc9-4d58-4762-b5b4-c3750a35ff50",
   "metadata": {},
   "outputs": [],
   "source": [
    "sc.pp.highly_variable_genes(seqData, flavor='seurat_v3', n_top_genes=10000)"
   ]
  },
  {
   "cell_type": "code",
   "execution_count": 42,
   "id": "df918d5c-3a11-4f78-bd4b-2a7b2c310ed1",
   "metadata": {},
   "outputs": [],
   "source": [
    "tx_dprime(seqData, cluster_label='supertype_id_label', features=seqData.var.query('highly_variable').index, type_list=types, zero_inflated=False, r=1)"
   ]
  },
  {
   "cell_type": "code",
   "execution_count": 43,
   "id": "f4cd2b5b-5cb3-4590-832a-2740a926229b",
   "metadata": {},
   "outputs": [],
   "source": [
    "hvg = sc.experimental.pp.highly_variable_genes(seqData, n_top_genes=10000, inplace=False)"
   ]
  },
  {
   "cell_type": "code",
   "execution_count": 45,
   "id": "64d9e926-cbc8-4d6d-bb92-089b64344a8e",
   "metadata": {},
   "outputs": [],
   "source": [
    "tx_dprime(seqData, cluster_label='supertype_id_label', features=hvg.query('highly_variable').index, type_list=types, zero_inflated=False, r=1)"
   ]
  },
  {
   "cell_type": "code",
   "execution_count": null,
   "id": "00be6b6e-0bf3-4364-8c57-8ca5cc9e2cff",
   "metadata": {},
   "outputs": [],
   "source": []
  }
 ],
 "metadata": {
  "kernelspec": {
   "display_name": "Python 3",
   "language": "python",
   "name": "python3"
  },
  "language_info": {
   "codemirror_mode": {
    "name": "ipython",
    "version": 3
   },
   "file_extension": ".py",
   "mimetype": "text/x-python",
   "name": "python",
   "nbconvert_exporter": "python",
   "pygments_lexer": "ipython3",
   "version": "3.9.12"
  }
 },
 "nbformat": 4,
 "nbformat_minor": 5
}
