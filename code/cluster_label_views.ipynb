{
 "cells": [
  {
   "cell_type": "code",
   "execution_count": 2,
   "id": "30c90355",
   "metadata": {},
   "outputs": [],
   "source": [
    "import anndata as ad\n",
    "import pandas as pd\n",
    "%matplotlib inline"
   ]
  },
  {
   "attachments": {},
   "cell_type": "markdown",
   "id": "413b1b3a",
   "metadata": {
    "tags": []
   },
   "source": [
    "# Load and subset data"
   ]
  },
  {
   "cell_type": "code",
   "execution_count": 5,
   "id": "f2a02f6f-a911-44bf-ba8b-3e793bcf9f56",
   "metadata": {},
   "outputs": [],
   "source": [
    "adata = ad.read_h5ad(\"../data/merfish_609882_AIT17.1_annotated_TH_ZI_only_2023-02-16_00-00-00/atlas_brain_609882_AIT17_1_annotated_TH_ZI_only.h5ad\")"
   ]
  },
  {
   "cell_type": "code",
   "execution_count": 6,
   "id": "f333b618-00fb-41eb-84d3-ed4478e5abd9",
   "metadata": {},
   "outputs": [],
   "source": [
    "# same as class_id_label here, but I think 'division' is the correct term\n",
    "adata.obs['division_id_label'].value_counts()"
   ]
  },
  {
   "attachments": {},
   "cell_type": "markdown",
   "id": "2e8e5621",
   "metadata": {},
   "source": [
    "Subset to a single section here for convenience - possible to take a larger or smaller subset."
   ]
  },
  {
   "cell_type": "code",
   "execution_count": 7,
   "id": "c64620e4-ca61-409e-b2c5-aec03fa34f17",
   "metadata": {
    "tags": []
   },
   "outputs": [],
   "source": [
    "divisions = [\n",
    "    '3 PAL-sAMY-TH-HY-MB-HB neuronal', \n",
    "    # '2 Subpallium GABAergic'\n",
    "]\n",
    "section = '1198980101'\n",
    "adata = adata[adata.obs['division_id_label'].isin(divisions) & (adata.obs['section']==section)]"
   ]
  },
  {
   "cell_type": "code",
   "execution_count": 8,
   "id": "200c221f-9233-4136-b545-b448d8a36203",
   "metadata": {},
   "outputs": [],
   "source": [
    "adata"
   ]
  },
  {
   "cell_type": "markdown",
   "id": "ae881b60",
   "metadata": {},
   "source": [
    "# Projections"
   ]
  },
  {
   "cell_type": "code",
   "execution_count": 74,
   "id": "1ea4e54a",
   "metadata": {},
   "outputs": [],
   "source": [
    "import numpy as np\n",
    "import seaborn as sns\n",
    "import matplotlib.pyplot as plt"
   ]
  },
  {
   "cell_type": "code",
   "execution_count": 15,
   "id": "7a638f41-5fae-480c-8477-af763e7d8212",
   "metadata": {},
   "outputs": [],
   "source": [
    "log_genes = pd.DataFrame(adata.layers['log2p'], index=adata.obs_names, columns=adata.var_names)\n",
    "coord = pd.DataFrame(adata.obsm['spatial_cirro'], index=adata.obs_names, columns=['x','y'])"
   ]
  },
  {
   "cell_type": "markdown",
   "id": "666fa1dc-79a7-42f5-9ca7-4131f6491350",
   "metadata": {
    "jp-MarkdownHeadingCollapsed": true,
    "tags": []
   },
   "source": [
    "## Cell type mapping labels"
   ]
  },
  {
   "cell_type": "code",
   "execution_count": 18,
   "id": "e43b1071-1ec4-467b-ba7a-56c976753793",
   "metadata": {
    "tags": []
   },
   "outputs": [],
   "source": [
    "plt.figure(figsize=(12,8))\n",
    "sns.scatterplot(data=coord, x='x', y='y', \n",
    "                hue=adata.obs['cluster_id'].rank(), \n",
    "                palette='husl', \n",
    "                alpha=0.4,\n",
    "                legend=True)\n",
    "sns.despine()"
   ]
  },
  {
   "attachments": {},
   "cell_type": "markdown",
   "id": "fee48d34-02f2-4082-bb4d-0f317325b69e",
   "metadata": {},
   "source": [
    "Two very different ways of visualizing cluster labels, emphasizing similarity (above) vs distinctness (below) of 'adjacent' clusters."
   ]
  },
  {
   "cell_type": "code",
   "execution_count": 19,
   "id": "4153bcb1-14e7-47f4-8af6-20e6dab9ac7f",
   "metadata": {},
   "outputs": [],
   "source": [
    "sns.color_palette('husl', as_cmap=True)"
   ]
  },
  {
   "cell_type": "code",
   "execution_count": 20,
   "id": "609b97b0-e4c4-443f-8af2-c75b5a88cf6a",
   "metadata": {},
   "outputs": [],
   "source": [
    "import colorcet as cc\n",
    "nclust = len(adata.obs['cluster_label'].unique())\n",
    "qual_palette = sns.color_palette(cc.glasbey, n_colors=nclust)\n",
    "qual_palette"
   ]
  },
  {
   "cell_type": "code",
   "execution_count": 25,
   "id": "d0ca622e-c172-4289-af39-6efbb6a07989",
   "metadata": {
    "tags": []
   },
   "outputs": [],
   "source": [
    "plt.figure(figsize=(12,8))\n",
    "sns.scatterplot(data=coord, x='x', y='y', \n",
    "                hue=adata.obs['cluster_label'], \n",
    "                palette=qual_palette, \n",
    "                alpha=0.4,\n",
    "                legend=False)\n",
    "sns.despine()"
   ]
  },
  {
   "cell_type": "markdown",
   "id": "9d4a3358-888f-4767-8a5b-acbec3037ef9",
   "metadata": {
    "jp-MarkdownHeadingCollapsed": true,
    "tags": []
   },
   "source": [
    "### Subclass level"
   ]
  },
  {
   "cell_type": "code",
   "execution_count": 26,
   "id": "0f3b5f11-2d88-47eb-ae93-232a95bb0f57",
   "metadata": {
    "tags": []
   },
   "outputs": [],
   "source": [
    "plt.figure(figsize=(12,8))\n",
    "sns.scatterplot(data=coord, x='x', y='y', \n",
    "                hue=adata.obs['subclass_id_label'], \n",
    "                palette='tab20', \n",
    "                alpha=0.4,\n",
    "                legend=False)\n",
    "sns.despine()"
   ]
  }
 ],
 "metadata": {
  "kernelspec": {
   "display_name": "Python 3 (ipykernel)",
   "language": "python",
   "name": "python3"
  },
  "language_info": {
   "codemirror_mode": {
    "name": "ipython",
    "version": 3
   },
   "file_extension": ".py",
   "mimetype": "text/x-python",
   "name": "python",
   "nbconvert_exporter": "python",
   "pygments_lexer": "ipython3",
   "version": "3.9.12"
  }
 },
 "nbformat": 4,
 "nbformat_minor": 5
}
