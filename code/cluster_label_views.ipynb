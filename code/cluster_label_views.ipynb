{
 "cells": [
  {
   "cell_type": "code",
   "execution_count": 1,
   "id": "30c90355",
   "metadata": {},
   "outputs": [],
   "source": [
    "import anndata as ad\n",
    "import pandas as pd\n",
    "import numpy as np\n",
    "import seaborn as sns\n",
    "import matplotlib.pyplot as plt\n",
    "import colorcet as cc\n",
    "%matplotlib inline"
   ]
  },
  {
   "cell_type": "markdown",
   "id": "413b1b3a",
   "metadata": {
    "tags": []
   },
   "source": [
    "# Load and subset data"
   ]
  },
  {
   "cell_type": "code",
   "execution_count": 2,
   "id": "f2a02f6f-a911-44bf-ba8b-3e793bcf9f56",
   "metadata": {},
   "outputs": [],
   "source": [
    "adata_brain1 = ad.read_h5ad(\"../data/merfish_609882_AIT17.1_annotated_TH_ZI_only_2023-02-16_00-00-00/atlas_brain_609882_AIT17_1_annotated_TH_ZI_only.h5ad\") #, backed='r')\n",
    "adata_brain3 = ad.read_h5ad(\"../data/merfish_638850_AIT17.custom_CCF_annotated_TH_ZI_only_2023-05-04_00-00-00/atlas_brain_638850_AIT17_custom_CCF_annotated_TH_ZI_only.h5ad\") #, backed='r')"
   ]
  },
  {
   "cell_type": "code",
   "execution_count": 3,
   "id": "f333b618-00fb-41eb-84d3-ed4478e5abd9",
   "metadata": {},
   "outputs": [],
   "source": [
    "# same as class_id_label here, but I think 'division' is the correct term\n",
    "adata_brain1.obs['division_id_label'].value_counts()"
   ]
  },
  {
   "cell_type": "markdown",
   "id": "2e8e5621",
   "metadata": {},
   "source": [
    "## Subset to a single section \n",
    "\n",
    "for convenience - possible to take a larger or smaller subset."
   ]
  },
  {
   "cell_type": "code",
   "execution_count": 4,
   "id": "c64620e4-ca61-409e-b2c5-aec03fa34f17",
   "metadata": {
    "tags": []
   },
   "outputs": [],
   "source": [
    "divisions = [\n",
    "    '3 PAL-sAMY-TH-HY-MB-HB neuronal', \n",
    "    # '2 Subpallium GABAergic'\n",
    "]\n",
    "section_brain1 = '1198980101'\n",
    "section_brain3 = '1199651048'\n",
    "\n",
    "adata_brain1 = adata_brain1[adata_brain1.obs['division_id_label'].isin(divisions) & (adata_brain1.obs['section']==section_brain1)].copy()\n",
    "adata_brain3 = adata_brain3[adata_brain3.obs['division_id_label'].isin(divisions) & (adata_brain3.obs['section']==section_brain3)].copy()"
   ]
  },
  {
   "cell_type": "code",
   "execution_count": 5,
   "id": "200c221f-9233-4136-b545-b448d8a36203",
   "metadata": {},
   "outputs": [],
   "source": [
    "adata_brain1"
   ]
  },
  {
   "cell_type": "code",
   "execution_count": 6,
   "id": "ee48c48b-a77a-435d-aa31-5ddecceebeb1",
   "metadata": {},
   "outputs": [],
   "source": [
    "adata_brain3"
   ]
  },
  {
   "cell_type": "markdown",
   "id": "ae881b60",
   "metadata": {},
   "source": [
    "# Cell type mapping labels"
   ]
  },
  {
   "cell_type": "code",
   "execution_count": 7,
   "id": "7a638f41-5fae-480c-8477-af763e7d8212",
   "metadata": {},
   "outputs": [],
   "source": [
    "# log_genes = pd.DataFrame(adata.layers['log2p'], index=adata.obs_names, columns=adata.var_names)\n",
    "# coord = pd.DataFrame(adata.obsm['spatial_cirro'], index=adata.obs_names, columns=['x','y'])\n",
    "\n",
    "adata_brain1.obs['cirro_x'] = adata_brain1.obsm['spatial_cirro'][:,0]\n",
    "adata_brain1.obs['cirro_y'] = adata_brain1.obsm['spatial_cirro'][:,1]\n",
    "\n",
    "adata_brain3.obs['cirro_x'] = adata_brain3.obsm['spatial_cirro'][:,0]\n",
    "adata_brain3.obs['cirro_y'] = adata_brain3.obsm['spatial_cirro'][:,1]"
   ]
  },
  {
   "cell_type": "markdown",
   "id": "666fa1dc-79a7-42f5-9ca7-4131f6491350",
   "metadata": {
    "tags": []
   },
   "source": [
    "## Cluster level\n",
    "\n",
    "Two very different ways of visualizing cluster labels, emphasizing similarity (top, via cluster_id) vs distinctness (bottom, via cluster_label) of 'adjacent' clusters."
   ]
  },
  {
   "cell_type": "markdown",
   "id": "1ab7ed4b-518a-4cd0-b4fa-bba0212495db",
   "metadata": {},
   "source": [
    "### Cluster IDs"
   ]
  },
  {
   "cell_type": "code",
   "execution_count": 8,
   "id": "56f88677-c12e-4c5e-bcb4-b7df2c807104",
   "metadata": {},
   "outputs": [],
   "source": [
    "sns.color_palette('husl', as_cmap=True)"
   ]
  },
  {
   "cell_type": "code",
   "execution_count": 9,
   "id": "e43b1071-1ec4-467b-ba7a-56c976753793",
   "metadata": {
    "tags": []
   },
   "outputs": [],
   "source": [
    "# brain 1\n",
    "plt.figure(figsize=(9,6))\n",
    "sc = sns.scatterplot(data=adata_brain1.obs, x='cirro_x', y='cirro_y', \n",
    "                     hue=adata_brain1.obs['cluster_id'].rank(), \n",
    "                     palette='husl', \n",
    "                     alpha=1, s=3, linewidth=0,\n",
    "                     legend=True)\n",
    "\n",
    "# formatting cleanup\n",
    "plt.legend(loc='center left', bbox_to_anchor=(1,0.5))\n",
    "plt.axis('equal')\n",
    "plt.title('brain1 cluster IDs')\n",
    "sc.set(xlabel=None, ylabel=None, xticklabels=[], yticklabels=[])\n",
    "sc.tick_params(left=False, bottom=False)\n",
    "sc.spines[['right', 'left','top','bottom']].set_visible(False)\n",
    "\n",
    "\n",
    "# brain3\n",
    "plt.figure(figsize=(9,6))\n",
    "sc = sns.scatterplot(data=adata_brain3.obs, x='cirro_x', y='cirro_y', \n",
    "                     hue=adata_brain3.obs['cluster_id'].rank(), \n",
    "                     palette='husl', \n",
    "                     alpha=1, s=3, linewidth=0,\n",
    "                     legend=True)\n",
    "\n",
    "# formatting cleanup\n",
    "plt.legend(loc='center left', bbox_to_anchor=(1,0.5))\n",
    "plt.axis('equal')\n",
    "plt.title('brain3 cluster IDs')\n",
    "sc.set(xlabel=None, ylabel=None, xticklabels=[], yticklabels=[])\n",
    "sc.tick_params(left=False, bottom=False)\n",
    "sc.spines[['right', 'left','top','bottom']].set_visible(False)"
   ]
  },
  {
   "cell_type": "markdown",
   "id": "fee48d34-02f2-4082-bb4d-0f317325b69e",
   "metadata": {},
   "source": [
    "### Cluster labels"
   ]
  },
  {
   "cell_type": "code",
   "execution_count": 10,
   "id": "609b97b0-e4c4-443f-8af2-c75b5a88cf6a",
   "metadata": {},
   "outputs": [],
   "source": [
    "cluster_labels = sorted(list(set(adata_brain1.obs['cluster_label']) | set(adata_brain3.obs['cluster_label'])))\n",
    "nclust = len(cluster_labels)\n",
    "clust_palette = sns.color_palette(cc.glasbey, n_colors=nclust)\n",
    "clust_dict = dict(zip(cluster_labels,clust_palette))\n",
    "clust_palette"
   ]
  },
  {
   "cell_type": "code",
   "execution_count": 11,
   "id": "d0ca622e-c172-4289-af39-6efbb6a07989",
   "metadata": {
    "tags": []
   },
   "outputs": [],
   "source": [
    "# brain1\n",
    "plt.figure(figsize=(9,6))\n",
    "sc = sns.scatterplot(data=adata_brain1.obs, x='cirro_x', y='cirro_y', \n",
    "                     hue=adata_brain1.obs['cluster_label'], \n",
    "                     palette=clust_dict,\n",
    "                     alpha=1, s=3, linewidth=0,\n",
    "                     legend=False)\n",
    "\n",
    "# formatting cleanup\n",
    "# plt.legend(loc='center left', bbox_to_anchor=(1,0.5))\n",
    "plt.axis('equal')\n",
    "plt.title('brain1 cluster labels')\n",
    "sc.set(xlabel=None, ylabel=None, xticklabels=[], yticklabels=[])\n",
    "sc.tick_params(left=False, bottom=False)\n",
    "sc.spines[['right', 'left','top','bottom']].set_visible(False)\n",
    "\n",
    "\n",
    "# brain3\n",
    "plt.figure(figsize=(9,6))\n",
    "sc = sns.scatterplot(data=adata_brain3.obs, x='cirro_x', y='cirro_y', \n",
    "                     hue=adata_brain3.obs['cluster_label'], \n",
    "                     palette=clust_dict,\n",
    "                     alpha=1, s=3, linewidth=0,\n",
    "                     legend=False)\n",
    "\n",
    "# formatting cleanup\n",
    "# plt.legend(loc='center left', bbox_to_anchor=(1,0.5))\n",
    "plt.axis('equal')\n",
    "plt.title('brain3 cluster labels')\n",
    "sc.set(xlabel=None, ylabel=None, xticklabels=[], yticklabels=[])\n",
    "sc.tick_params(left=False, bottom=False)\n",
    "sc.spines[['right', 'left','top','bottom']].set_visible(False)"
   ]
  },
  {
   "cell_type": "markdown",
   "id": "0076736c-f089-4237-9f8c-8cc4105c1f89",
   "metadata": {
    "tags": []
   },
   "source": [
    "## Supertype level"
   ]
  },
  {
   "cell_type": "code",
   "execution_count": 12,
   "id": "62a60428-46e0-48bd-b404-5f06b11c8048",
   "metadata": {},
   "outputs": [],
   "source": [
    "st_labels = sorted(list(set(adata_brain1.obs['supertype_id_label']) | set(adata_brain3.obs['supertype_id_label'])))\n",
    "n_st = len(st_labels)\n",
    "st_palette = sns.color_palette(cc.glasbey, n_colors=n_st)\n",
    "st_dict = dict(zip(st_labels,st_palette))\n",
    "st_palette"
   ]
  },
  {
   "cell_type": "code",
   "execution_count": 13,
   "id": "18f28fdd-85f4-43ce-aba3-5dc8b22bbbe9",
   "metadata": {},
   "outputs": [],
   "source": [
    "# brain1\n",
    "plt.figure(figsize=(9,9))\n",
    "sc = sns.scatterplot(data=adata_brain1.obs, x='cirro_x', y='cirro_y',\n",
    "                     hue=adata_brain1.obs['supertype_id_label'], \n",
    "                     palette=st_palette, \n",
    "                     alpha=1, s=3, linewidth=0,\n",
    "                     legend=True)\n",
    "\n",
    "# formatting cleanup\n",
    "plt.legend(loc='center left', bbox_to_anchor=(1,0.5), ncol=3)\n",
    "plt.axis('equal')\n",
    "plt.title('brain1 supertypes')\n",
    "sc.set(xlabel=None, ylabel=None, xticklabels=[], yticklabels=[])\n",
    "sc.tick_params(left=False, bottom=False)\n",
    "sc.spines[['right', 'left','top','bottom']].set_visible(False)\n",
    "\n",
    "# brain3\n",
    "plt.figure(figsize=(9,9))\n",
    "sc = sns.scatterplot(data=adata_brain3.obs, x='cirro_x', y='cirro_y',\n",
    "                     hue=adata_brain3.obs['supertype_id_label'], \n",
    "                     palette=st_palette, \n",
    "                     alpha=1, s=3, linewidth=0,\n",
    "                     legend=True)\n",
    "\n",
    "# formatting cleanup\n",
    "plt.legend(loc='center left', bbox_to_anchor=(1,0.5), ncol=3)\n",
    "plt.axis('equal')\n",
    "plt.title('brain3 supertypes')\n",
    "sc.set(xlabel=None, ylabel=None, xticklabels=[], yticklabels=[])\n",
    "sc.tick_params(left=False, bottom=False)\n",
    "sc.spines[['right', 'left','top','bottom']].set_visible(False)"
   ]
  },
  {
   "cell_type": "markdown",
   "id": "9d4a3358-888f-4767-8a5b-acbec3037ef9",
   "metadata": {
    "tags": []
   },
   "source": [
    "## Subclass level"
   ]
  },
  {
   "cell_type": "code",
   "execution_count": 14,
   "id": "4f452bca-ce4e-473f-b2ab-5b8296700edc",
   "metadata": {},
   "outputs": [],
   "source": [
    "sbc_labels = sorted(list(set(adata_brain1.obs['subclass_id_label']) | set(adata_brain3.obs['subclass_id_label'])))\n",
    "n_sbc = len(sbc_labels)\n",
    "sbc_palette = sns.color_palette(cc.glasbey, n_colors=n_sbc)\n",
    "sbc_dict = dict(zip(sbc_labels,sbc_palette))\n",
    "sbc_palette"
   ]
  },
  {
   "cell_type": "code",
   "execution_count": 15,
   "id": "0f3b5f11-2d88-47eb-ae93-232a95bb0f57",
   "metadata": {
    "tags": []
   },
   "outputs": [],
   "source": [
    "# brain1\n",
    "plt.figure(figsize=(9,6))\n",
    "sc = sns.scatterplot(data=adata_brain1.obs, x='cirro_x', y='cirro_y',\n",
    "                     hue=adata_brain1.obs['subclass_id_label'], \n",
    "                     palette=sbc_palette, \n",
    "                     alpha=1, s=3, linewidth=0,\n",
    "                     legend=True)\n",
    "\n",
    "# formatting cleanup\n",
    "plt.legend(loc='center left', bbox_to_anchor=(1,0.5), ncol=2)\n",
    "plt.axis('equal')\n",
    "plt.title('brain1 subclasses')\n",
    "sc.set(xlabel=None, ylabel=None, xticklabels=[], yticklabels=[])\n",
    "sc.tick_params(left=False, bottom=False)\n",
    "sc.spines[['right', 'left','top','bottom']].set_visible(False)\n",
    "\n",
    "\n",
    "# brain3\n",
    "plt.figure(figsize=(9,6))\n",
    "sc = sns.scatterplot(data=adata_brain3.obs, x='cirro_x', y='cirro_y',\n",
    "                     hue=adata_brain3.obs['subclass_id_label'], \n",
    "                     palette=sbc_palette, \n",
    "                     alpha=1, s=3, linewidth=0,\n",
    "                     legend=True)\n",
    "\n",
    "# formatting cleanup\n",
    "plt.legend(loc='center left', bbox_to_anchor=(1,0.5), ncol=2)\n",
    "plt.axis('equal')\n",
    "plt.title('brain3 subclasses')\n",
    "sc.set(xlabel=None, ylabel=None, xticklabels=[], yticklabels=[])\n",
    "sc.tick_params(left=False, bottom=False)\n",
    "sc.spines[['right', 'left','top','bottom']].set_visible(False)"
   ]
  }
 ],
 "metadata": {
  "kernelspec": {
   "display_name": "Python 3",
   "language": "python",
   "name": "python3"
  },
  "language_info": {
   "codemirror_mode": {
    "name": "ipython",
    "version": 3
   },
   "file_extension": ".py",
   "mimetype": "text/x-python",
   "name": "python",
   "nbconvert_exporter": "python",
   "pygments_lexer": "ipython3",
   "version": "3.9.12"
  }
 },
 "nbformat": 4,
 "nbformat_minor": 5
}
