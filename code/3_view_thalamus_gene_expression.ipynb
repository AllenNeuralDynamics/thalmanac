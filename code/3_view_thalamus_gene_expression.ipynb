{
 "cells": [
  {
   "cell_type": "code",
   "execution_count": 2,
   "id": "47b314c6-4db0-4be4-8aed-496189985e35",
   "metadata": {
    "tags": []
   },
   "outputs": [],
   "source": [
    "%load_ext autoreload\n",
    "%autoreload 2"
   ]
  },
  {
   "cell_type": "code",
   "execution_count": 13,
   "id": "6ef76432-a51c-4df4-9bc6-584f00248802",
   "metadata": {
    "tags": []
   },
   "outputs": [],
   "source": [
    "import anndata as ad\n",
    "import pandas as pd\n",
    "import numpy as np\n",
    "\n",
    "import scanpy as sc\n",
    "\n",
    "from thalamus_merfish_analysis import abc_load as abc\n",
    "from thalamus_merfish_analysis import ccf_images as cimg\n",
    "from thalamus_merfish_analysis import ccf_plots as cplots\n",
    "\n",
    "import matplotlib.pyplot as plt\n",
    "%matplotlib inline"
   ]
  },
  {
   "cell_type": "code",
   "execution_count": 3,
   "id": "d159bc8f-ad1e-4273-98c1-3cb7e3370f9a",
   "metadata": {
    "tags": []
   },
   "outputs": [],
   "source": [
    "# import warnings\n",
    "\n",
    "# # suppress FutureWarning warnings (targeting AnnData & Seaborn)\n",
    "# warnings.simplefilter(action='ignore', category=FutureWarning)\n",
    "# warnings.filterwarnings(\"ignore\", message=\".*Trying to modify attribute `.obs` of view, initializing view as actual.*\")"
   ]
  },
  {
   "cell_type": "markdown",
   "id": "02d77fe5-c106-4330-b6a8-e405b18599cf",
   "metadata": {},
   "source": [
    "## Set figure generation & saving behavior"
   ]
  },
  {
   "cell_type": "code",
   "execution_count": 4,
   "id": "b1f2f768-9630-4526-968f-f7cab20d6d29",
   "metadata": {
    "tags": []
   },
   "outputs": [],
   "source": [
    "# This notebook takes awhile to run if you're displaying & saving out all the \n",
    "# DEGs found herein, so to speed things along, set these variables to control\n",
    "# global figure displaying & saving behavior\n",
    "\n",
    "# whether to save figures to /results\n",
    "save_figs = False # suggested to minimize runtime: False\n",
    "\n",
    "# number of DEGs to plot \n",
    "n_de_genes_to_plot = 2 # suggested to minimize runtime: 2"
   ]
  },
  {
   "cell_type": "markdown",
   "id": "bff1fc39-5eca-4870-813b-c4d8542ee5aa",
   "metadata": {},
   "source": [
    "## Load thalamus dataset\n",
    "\n",
    "Since we want to view gene expression, we need to load the full AnnData object.\n",
    "\n",
    "For details on the AnnData output of `load_standard_thalamus()`, please see `1_load_thalamus_data.ipynb`."
   ]
  },
  {
   "cell_type": "code",
   "execution_count": 5,
   "id": "f7c20595-e053-4b25-b91b-b28b3df81345",
   "metadata": {
    "tags": []
   },
   "outputs": [],
   "source": [
    "# load AnnData object so we have the gene expression\n",
    "# standard behavior loads in log2cpm gene counts, which are suitable for both\n",
    "# DEG analysis and gene expression display\n",
    "adata_th_log2cpm = abc.load_standard_thalamus(data_structure='adata')\n",
    "adata = adata_th_log2cpm"
   ]
  },
  {
   "cell_type": "markdown",
   "id": "59634561",
   "metadata": {},
   "source": [
    "### Set spatial coordinates\n",
    "\n",
    "Since we have 3 sets of spatial coordinates (`_section`, `_reconstructed`, and `_ccf`), we need to specify which coordinate space we wish to work from.\n",
    "\n",
    "For this notebook, we will work in the `_reconstructed` coordinate space, which is a registration of each MERFISH section to a target resampled CCF section. \n",
    "For more information on the different coordinates, please see: https://alleninstitute.github.io/abc_atlas_access/notebooks/merfish_ccf_registration_tutorial.html"
   ]
  },
  {
   "cell_type": "code",
   "execution_count": 9,
   "id": "ad1c90af",
   "metadata": {},
   "outputs": [],
   "source": [
    "# set spatial column names to `_reconstructed` coordinate space\n",
    "coords = '_reconstructed'\n",
    "\n",
    "x_col = 'x'+coords\n",
    "y_col = 'y'+coords\n",
    "section_col = z_col = 'z'+coords"
   ]
  },
  {
   "cell_type": "markdown",
   "id": "aaa5d420",
   "metadata": {},
   "source": [
    "### Load Allen Reference Atlas (ARA) structure images & boundaries\n",
    "\n",
    "To overlay the ARA structures on the cell types found in the thalamus, we need to load the volume & boundary images from the ABC Atlas, which are referred to as 'CCF' from here on out."
   ]
  },
  {
   "cell_type": "code",
   "execution_count": 10,
   "id": "00d473f5-b8ed-446e-8681-e18876a74913",
   "metadata": {
    "tags": []
   },
   "outputs": [],
   "source": [
    "# Load the CCF structures image\n",
    "ccf_images = abc.get_ccf_labels_image()"
   ]
  },
  {
   "cell_type": "code",
   "execution_count": 11,
   "id": "863659f8",
   "metadata": {},
   "outputs": [],
   "source": [
    "# specify CCF parcellation level column in adata.obs\n",
    "ccf_label = 'parcellation_substructure'"
   ]
  },
  {
   "cell_type": "code",
   "execution_count": 14,
   "id": "794291da",
   "metadata": {},
   "outputs": [],
   "source": [
    "# Precompute boundaries to use multiple times in this notebook w/o need to recompute\n",
    "\n",
    "# we only need to load the boundaries for sections that contain the thalamus\n",
    "sections_all = sorted(adata.obs[section_col].unique())\n",
    "sections_int = np.rint(np.array(sections_all)/0.2).astype(int)\n",
    "\n",
    "# precompute boundaries for thalamic sections\n",
    "ccf_boundaries = cimg.sectionwise_label_erosion(ccf_images, distance_px=1, \n",
    "                                                fill_val=0, return_edges=True, \n",
    "                                                section_list=sections_int\n",
    "                                                )\n",
    "\n",
    "# # Alternative: skip and define as None to calculate on the fly\n",
    "# ccf_boundaries = None"
   ]
  },
  {
   "cell_type": "markdown",
   "id": "3956426a-4257-4fe4-b967-b0ffcc9df0f0",
   "metadata": {},
   "source": [
    "### Load cluster resources"
   ]
  },
  {
   "cell_type": "code",
   "execution_count": 15,
   "id": "96f3c6ef-a204-4780-b0e3-fabd878d9db5",
   "metadata": {
    "tags": []
   },
   "outputs": [],
   "source": [
    "# load manual cluster annotations for each nucleus\n",
    "nuclei_cluster_df = pd.read_csv(\"resources/prong1_cluster_annotations_by_nucleus.csv\", \n",
    "                                index_col=0)"
   ]
  },
  {
   "cell_type": "code",
   "execution_count": 16,
   "id": "8a2936a8-17c7-4282-a592-e6eef0b53ab3",
   "metadata": {
    "tags": []
   },
   "outputs": [],
   "source": [
    "# Load custom, contrast-y cluster color palette\n",
    "palette_df = pd.read_csv('/code/resources/cluster_palette_glasbey.csv')\n",
    "cluster_palette = dict(zip(palette_df['Unnamed: 0'], palette_df['0']))"
   ]
  },
  {
   "cell_type": "markdown",
   "id": "c7e8698d",
   "metadata": {},
   "source": [
    "## View gene expression"
   ]
  },
  {
   "cell_type": "code",
   "execution_count": 17,
   "id": "622de7be",
   "metadata": {},
   "outputs": [],
   "source": [
    "# 3 sections that representatively span the AP axis of the thalamus\n",
    "sections_3 = [6.4, 7.2, 8.0]"
   ]
  },
  {
   "cell_type": "code",
   "execution_count": 22,
   "id": "d22524d9",
   "metadata": {},
   "outputs": [],
   "source": [
    "figs = cplots.plot_expression_ccf(adata, 'Gad2', ccf_images, \n",
    "                                  sections=sections_3, \n",
    "                                  nuclei=[], \n",
    "                                  s=0.5, \n",
    "                                  cmap='Blues',\n",
    "                                  axes=False,  \n",
    "                                  section_col=section_col, \n",
    "                                  x_col=x_col,\n",
    "                                  y_col=y_col,\n",
    "                                  boundary_img=ccf_boundaries)"
   ]
  },
  {
   "cell_type": "code",
   "execution_count": 23,
   "id": "d47f4cb8",
   "metadata": {},
   "outputs": [],
   "source": [
    "figs = cplots.plot_expression_ccf(adata, 'Gad2', ccf_images, \n",
    "                                  sections=sections_3, \n",
    "                                  nuclei=None, # plots all CCF parcellation structures \n",
    "                                  s=0.5, \n",
    "                                  cmap='Blues',\n",
    "                                  axes=False,  \n",
    "                                  section_col=section_col, \n",
    "                                  x_col=x_col,\n",
    "                                  y_col=y_col,\n",
    "                                  boundary_img=ccf_boundaries)"
   ]
  },
  {
   "cell_type": "code",
   "execution_count": 30,
   "id": "6bd0c6f0",
   "metadata": {},
   "outputs": [],
   "source": [
    "figs = cplots.plot_expression_ccf(adata, 'Gad2', ccf_images, \n",
    "                                  sections=sections_3, \n",
    "                                  nuclei=None, highlight=['RT', 'PVT'],\n",
    "                                  s=0.5, \n",
    "                                  cmap='Blues',\n",
    "                                  axes=False,  \n",
    "                                  section_col=section_col, \n",
    "                                  x_col=x_col,\n",
    "                                  y_col=y_col,\n",
    "                                  boundary_img=ccf_boundaries)"
   ]
  },
  {
   "cell_type": "markdown",
   "id": "c307ce80-c99e-4893-adfd-a187f495a7db",
   "metadata": {},
   "source": [
    "# DEG Analysis"
   ]
  },
  {
   "cell_type": "markdown",
   "id": "bc2e98bf-7f25-45d0-93f6-3182e4265574",
   "metadata": {},
   "source": [
    "## def run_sc_deg_analysis()"
   ]
  },
  {
   "cell_type": "code",
   "execution_count": 32,
   "id": "a5705189-830a-4700-abde-a38ab3a92345",
   "metadata": {
    "tags": []
   },
   "outputs": [],
   "source": [
    "def run_sc_deg_analysis(adata, taxonomy_level, groups='all', reference='rest',\n",
    "                        n_genes_display=20, rankby_abs=True, method='wilcoxon',\n",
    "                        save_to_key=None, print_as_lists=True):\n",
    "            \n",
    "    # rank genes\n",
    "    sc.tl.rank_genes_groups(adata, taxonomy_level, groups=groups, \n",
    "                            reference=reference, n_genes=None, rankby_abs=True,\n",
    "                            method=method, key_added=save_to_key)\n",
    "    \n",
    "    # change default key if input parameter was set\n",
    "    if save_to_key==None:\n",
    "        key='rank_genes_groups'\n",
    "    else:\n",
    "        key=save_to_key\n",
    "    \n",
    "    # plot top n_genes_display\n",
    "    sc.pl.rank_genes_groups(adata, n_genes=n_genes_display, key=key)\n",
    "    \n",
    "    # print out lists of top DEGs so they can be copy-pasted elsewhere\n",
    "    if print_as_lists:\n",
    "        n_genes_print = int(np.floor(n_genes_display/2))\n",
    "\n",
    "        deg_df = sc.get.rank_genes_groups_df(adata, group=None, key=key)\n",
    "\n",
    "        degs_top_all = deg_df.head(n_genes_display).names.to_list()\n",
    "        degs_top_pos = deg_df[deg_df['scores']>0].head(n_genes_print).names.to_list()\n",
    "        degs_top_neg = deg_df[deg_df['scores']<0].head(n_genes_print).names.to_list()\n",
    "\n",
    "        print(f'\\nTop {n_genes_display} DEGs for {groups} vs {reference}:\\n', \n",
    "              degs_top_all)\n",
    "        print(f'\\nTop {n_genes_print} positive DEGs for {groups} vs {reference}:\\n', \n",
    "              degs_top_pos)\n",
    "        print(f'\\nTop {n_genes_print} negative DEGs for {groups} vs {reference}:\\n', \n",
    "              degs_top_neg)\n",
    "        \n",
    "    return degs_top_all, degs_top_pos, degs_top_neg"
   ]
  },
  {
   "cell_type": "markdown",
   "id": "dc854e11-4fdc-445a-8d79-49707e36e4a5",
   "metadata": {
    "tags": []
   },
   "source": [
    "## Anterior Nuclei"
   ]
  },
  {
   "cell_type": "markdown",
   "id": "94c10131-3dac-415a-9231-a489a602dd38",
   "metadata": {
    "tags": []
   },
   "source": [
    "### ANT clusters"
   ]
  },
  {
   "cell_type": "code",
   "execution_count": 15,
   "id": "b02930a9-c70b-425c-8a58-b4a190bb400f",
   "metadata": {
    "tags": []
   },
   "outputs": [],
   "source": [
    "# Extract Prong 1 cluster-nucleus groups\n",
    "taxonomy_level = 'cluster'\n",
    "\n",
    "AD_cluster_aliases = nuclei_df.loc['AD',:].cluster_alias.split(', ')\n",
    "AD_cluster_labels = abc.get_taxonomy_label_from_alias(AD_cluster_aliases,\n",
    "                                                      taxonomy_level, \n",
    "                                                      version='20230830')\n",
    "\n",
    "AV_cluster_aliases = nuclei_df.loc['AV',:].cluster_alias.split(', ')\n",
    "AV_cluster_labels = abc.get_taxonomy_label_from_alias(AV_cluster_aliases,\n",
    "                                                      taxonomy_level, \n",
    "                                                      version='20230830')\n",
    "\n",
    "AM_cluster_aliases = nuclei_df.loc['AM',:].cluster_alias.split(', ')\n",
    "AM_cluster_labels = abc.get_taxonomy_label_from_alias(AM_cluster_aliases,\n",
    "                                                      taxonomy_level, \n",
    "                                                      version='20230830')\n",
    "\n",
    "ANT_cluster_labels = AD_cluster_labels+AV_cluster_labels+AM_cluster_labels\n",
    "print(ANT_cluster_labels)"
   ]
  },
  {
   "cell_type": "code",
   "execution_count": null,
   "id": "4852f12f-a907-4c07-82aa-eea50fac6b97",
   "metadata": {},
   "outputs": [],
   "source": [
    "kwargs_expr = dict(\n",
    "    bg_cells=obs_th_strict,\n",
    "    section_col=section_col,\n",
    "    x_col = 'x_'+coords,\n",
    "    y_col = 'y_'+coords,\n",
    "    s=4, \n",
    "    shape_palette='dark_outline',\n",
    "    boundary_img=ccf_boundaries\n",
    ")"
   ]
  },
  {
   "cell_type": "code",
   "execution_count": 16,
   "id": "928afbd3-fbd4-4987-be7d-444c904618e2",
   "metadata": {
    "tags": []
   },
   "outputs": [],
   "source": [
    "anterior_sec = 8.0\n",
    "nuclei = ['AD', 'AV', 'AMd', 'AMv']\n",
    "\n",
    "obs_ANT = adata_th_zi_neurons.obs[adata_th_zi_neurons.obs['cluster'].isin(ANT_cluster_labels)]\n",
    "\n",
    "ant_fig = cplots.plot_ccf_overlay(obs_ANT, ccf_polygons, bg_cells=obs_th_neurons, \n",
    "                                  point_hue='cluster', sections=[anterior_sec],\n",
    "                                  shape_palette='dark_outline', s=3, \n",
    "                                  point_palette=cluster_palette,\n",
    "                                  ccf_names=nuclei, legend='cells', bg_shapes=False, \n",
    "                                  section_col=section_col, \n",
    "                                  x_col=x_col, y_col=y_col)\n",
    "if save_figs:\n",
    "    ant_fig.savefig(f'../results/abc_deg_AD_cluster{cluster_id}_{gene}.pdf', \n",
    "                    transparent=True, bbox_inches='tight')"
   ]
  },
  {
   "cell_type": "markdown",
   "id": "8db0f482-4b85-4ebf-b2d6-2058cd7ad98e",
   "metadata": {
    "tags": []
   },
   "source": [
    "### AD - subclass vs rest"
   ]
  },
  {
   "cell_type": "code",
   "execution_count": 33,
   "id": "0cd5699f-80f2-4c98-9e91-bf6f346c7856",
   "metadata": {
    "tags": []
   },
   "outputs": [],
   "source": [
    "# AD subclass - '147 AD Serpinb7 Glut'\n",
    "taxonomy_level = 'subclass'\n",
    "key = 'AD_subclass_vs_rest'\n",
    "\n",
    "(degs_top_all, \n",
    "degs_top_pos, \n",
    "degs_top_neg) = run_sc_deg_analysis(adata_th_zi_neurons, taxonomy_level, \n",
    "                                    groups=['147 AD Serpinb7 Glut'], \n",
    "                                    reference='rest',\n",
    "                                    save_to_key=key)"
   ]
  },
  {
   "cell_type": "code",
   "execution_count": 35,
   "id": "a629ef70-97c0-4931-bb25-c47358d1b2fb",
   "metadata": {
    "scrolled": true,
    "tags": []
   },
   "outputs": [],
   "source": [
    "ant_section=[8.0]\n",
    "ant_nuclei=['AD', 'AV', 'AMd', 'AMv']\n",
    "highlight_nuclei=['AD']\n",
    "\n",
    "for gene in degs_top_pos[:n_de_genes_to_plot]:\n",
    "    cplots.plot_expression_ccf(adata_th_zi_neurons, gene, ccf_polygons,\n",
    "                               sections=ant_section, nuclei=ant_nuclei, \n",
    "                               highlight=highlight_nuclei,\n",
    "                               section_col=section_col, \n",
    "                               x_col=x_col, y_col=y_col);"
   ]
  },
  {
   "cell_type": "markdown",
   "id": "0d55c803-5ce0-48ce-bc8a-5c3d24f15ad7",
   "metadata": {},
   "source": [
    "### AD - 2613 vs 2614 clusters"
   ]
  },
  {
   "cell_type": "code",
   "execution_count": 14,
   "id": "86fa6bf7-d0ee-4fa8-8f51-4955f21ccadc",
   "metadata": {
    "tags": []
   },
   "outputs": [],
   "source": [
    "taxonomy_level = 'cluster'\n",
    "AD_cluster_labels = ['2613 AD Serpinb7 Glut_1', '2614 AD Serpinb7 Glut_1']\n",
    "\n",
    "sc.tl.rank_genes_groups(adata_th_zi_neurons, taxonomy_level, \n",
    "                        groups=[AD_cluster_labels[0]], \n",
    "                        reference=AD_cluster_labels[1], \n",
    "                        method='wilcoxon', rankby_abs=True)\n",
    "sc.pl.rank_genes_groups(adata_th_zi_neurons, n_genes=20)\n",
    "\n",
    "de_df = sc.get.rank_genes_groups_df(adata_th_zi_neurons, group=None)\n",
    "de_genes_AD_clust_all = de_df.head(10).names.to_list()\n",
    "de_genes_AD_clust_pos = de_df[de_df['scores']>0].head(10).names.to_list()\n",
    "de_genes_AD_clust_neg = de_df[de_df['scores']<0].head(10).names.to_list()\n",
    "print('Top 10 DE genes:\\n', de_genes_AD_clust_all)\n",
    "print('\\nTop 10 pos DE genes:\\n', de_genes_AD_clust_pos)\n",
    "print('\\n','Top 10 neg DE genes:\\n', de_genes_AD_clust_neg)"
   ]
  },
  {
   "cell_type": "markdown",
   "id": "83ba60f8-07d3-45e5-8a43-c95e8758312c",
   "metadata": {},
   "source": [
    "#### 2613 (medial) DE genes"
   ]
  },
  {
   "cell_type": "code",
   "execution_count": 15,
   "id": "3a6ff815-0021-468d-8505-f146d0a77281",
   "metadata": {
    "scrolled": true,
    "tags": []
   },
   "outputs": [],
   "source": [
    "section=[8.0]\n",
    "ant_nuclei=['AD', 'AV', 'AMd', 'AMv']\n",
    "highlight_nuclei=['AD']\n",
    "\n",
    "section_col = 'z_reconstructed'\n",
    "x_col = 'x_reconstructed'\n",
    "y_col = 'y_reconstructed'\n",
    "\n",
    "kwargs = dict(\n",
    "              s=12\n",
    "             )\n",
    "cluster_id = '2613'\n",
    "for gene in de_genes_AD_clust_pos[:5]:\n",
    "    curr_fig = cplots.plot_expression_ccf(adata_th_zi_neurons, gene, ccf_polygons,\n",
    "                                          sections=section, nuclei=highlight_nuclei, \n",
    "                                          highlight=highlight_nuclei,\n",
    "                                           cmap='Blues', bg_shapes=False, show_outline=False,\n",
    "                                           section_col=section_col, \n",
    "                                           x_col=x_col, y_col=y_col,\n",
    "                                           custom_xy_lims=[4.4,5.1, 5.6,4.6],\n",
    "                                           cb_vmin_vmax=[0,6], **kwargs)\n",
    "    curr_fig[0].savefig('/root/capsule/results/'+f'abc_deg_AD_cluster{cluster_id}_{gene}.pdf', \n",
    "                bbox_inches='tight')"
   ]
  },
  {
   "cell_type": "markdown",
   "id": "fe1f1cc4-3571-4919-b7f2-74d713324d91",
   "metadata": {},
   "source": [
    "#### 2614 (lateral) DE genes"
   ]
  },
  {
   "cell_type": "code",
   "execution_count": 16,
   "id": "e7c43478-cf62-41b9-8214-eaff0b908144",
   "metadata": {
    "scrolled": true,
    "tags": []
   },
   "outputs": [],
   "source": [
    "kwargs = dict(\n",
    "              s=12\n",
    "             )\n",
    "section = [8.0]\n",
    "cluster_id = '2614'\n",
    "for gene in de_genes_AD_clust_neg[:5]:\n",
    "    curr_fig = cplots.plot_expression_ccf(adata_th_zi_neurons, gene, ccf_polygons,\n",
    "                                          sections=section, nuclei=highlight_nuclei, \n",
    "                                          highlight=highlight_nuclei,\n",
    "                                           cmap='Blues', bg_shapes=False, show_outline=False,\n",
    "                                           section_col=section_col, \n",
    "                                           x_col=x_col, y_col=y_col,\n",
    "                                           custom_xy_lims=[4.4,5.1, 5.6,4.6],\n",
    "                                           cb_vmin_vmax=[0,6], **kwargs)\n",
    "    curr_fig[0].savefig('/root/capsule/results/'+f'abc_deg_AD_cluster{cluster_id}_{gene}.pdf', \n",
    "                bbox_inches='tight')"
   ]
  },
  {
   "cell_type": "markdown",
   "id": "10eec37b-9062-4135-8c14-ef644f5c114b",
   "metadata": {
    "tags": []
   },
   "source": [
    "### AV - subclass vs rest"
   ]
  },
  {
   "cell_type": "code",
   "execution_count": 17,
   "id": "005af3f1-d77c-46c8-9bdd-31e65b8298d3",
   "metadata": {
    "tags": []
   },
   "outputs": [],
   "source": [
    "# AV subclass - 148 AV Col27a1 Glut\n",
    "\n",
    "# Plot top 20 DE genes\n",
    "sc.tl.rank_genes_groups(adata_th_zi_neurons, 'subclass', \n",
    "                        groups=['148 AV Col27a1 Glut'], method='wilcoxon', \n",
    "                        rankby_abs=True)\n",
    "sc.pl.rank_genes_groups(adata_th_zi_neurons, n_genes=20)\n",
    "\n",
    "# List top 10 positive DE genes\n",
    "de_df = sc.get.rank_genes_groups_df(adata_th_zi_neurons, group=None)\n",
    "de_genes_pos_AV = de_df[de_df['scores']>0].head(10).names.to_list()\n",
    "print('Top 10 pos DE genes for AV subclass:\\n', de_genes_pos_AV)"
   ]
  },
  {
   "cell_type": "markdown",
   "id": "22aabb50-5786-4378-827d-029d66e2d236",
   "metadata": {},
   "source": [
    "#### Col27a1"
   ]
  },
  {
   "cell_type": "code",
   "execution_count": 18,
   "id": "4a800fc2-646d-4b53-83f0-8801ab5133f7",
   "metadata": {
    "tags": []
   },
   "outputs": [],
   "source": [
    "gene = 'Col27a1'\n",
    "\n",
    "section=['C57BL6J-638850.44']\n",
    "ant_nuclei=['AD', 'AV', 'AMd', 'AMv']\n",
    "highlight_nuclei=['AV']\n",
    "\n",
    "section_col = 'brain_section_label'\n",
    "x_col = 'x_reconstructed'\n",
    "y_col = 'y_reconstructed'\n",
    "\n",
    "cplots.plot_expression_ccf(adata_th_zi_neurons, gene, ccf_polygons,\n",
    "                           sections=section, nuclei=ant_nuclei, \n",
    "                           highlight=highlight_nuclei,\n",
    "                           cmap='Blues', bg_shapes=False, show_outline=False,\n",
    "                           section_col=section_col, \n",
    "                           x_col=x_col, y_col=y_col);"
   ]
  },
  {
   "cell_type": "markdown",
   "id": "23cb2e04-ff13-4f30-96ff-b1a4b5c2f34a",
   "metadata": {
    "tags": []
   },
   "source": [
    "### AV - clusters"
   ]
  },
  {
   "cell_type": "markdown",
   "id": "c8244d22-dd27-4031-96db-a32b76bcd318",
   "metadata": {},
   "source": [
    "#### AV - 2615 vs 2616 clusters"
   ]
  },
  {
   "cell_type": "code",
   "execution_count": 19,
   "id": "70afae8f-b8b9-4dc7-a5c5-56da1d97acc8",
   "metadata": {
    "tags": []
   },
   "outputs": [],
   "source": [
    "taxonomy_level = 'cluster'\n",
    "AV_cluster_labels = ['2615 AV Col27a1 Glut_1', '2616 AV Col27a1 Glut_1']\n",
    "\n",
    "sc.tl.rank_genes_groups(adata_th_zi_neurons, taxonomy_level, \n",
    "                        groups=[AV_cluster_labels[0]], \n",
    "                        reference=AV_cluster_labels[1], \n",
    "                        method='wilcoxon', rankby_abs=True)\n",
    "sc.pl.rank_genes_groups(adata_th_zi_neurons, n_genes=20)\n",
    "\n",
    "de_df = sc.get.rank_genes_groups_df(adata_th_zi_neurons, group=None)\n",
    "de_genes_AV_clust_all = de_df.head(10).names.to_list()\n",
    "de_genes_AV_clust_pos = de_df[de_df['scores']>0].head(10).names.to_list()\n",
    "de_genes_AV_clust_neg = de_df[de_df['scores']<0].head(10).names.to_list()\n",
    "print('Top 10 DE genes:\\n', de_genes_AV_clust_all)\n",
    "print('\\nTop 10 pos DE genes:\\n', de_genes_AV_clust_pos)\n",
    "print('\\n','Top 10 neg DE genes:\\n', de_genes_AV_clust_neg)"
   ]
  },
  {
   "cell_type": "markdown",
   "id": "63ddf39a-9c64-4396-87bb-ead2713bb5da",
   "metadata": {},
   "source": [
    "##### 2615 (medial cluster) DE genes"
   ]
  },
  {
   "cell_type": "code",
   "execution_count": 20,
   "id": "07bb4187-25c8-4d1f-8891-be6148232690",
   "metadata": {
    "scrolled": true,
    "tags": []
   },
   "outputs": [],
   "source": [
    "section=[8.0]\n",
    "ant_nuclei=['AD', 'AV', 'AMd', 'AMv']\n",
    "highlight_nuclei=['AV']\n",
    "\n",
    "section_col = 'z_reconstructed'\n",
    "x_col = 'x_reconstructed'\n",
    "y_col = 'y_reconstructed'\n",
    "\n",
    "kwargs = dict(\n",
    "              s=12\n",
    "             )\n",
    "cluster_id = '2615'\n",
    "for gene in de_genes_AV_clust_pos[:5]:\n",
    "    curr_fig = cplots.plot_expression_ccf(adata_th_zi_neurons, gene, ccf_polygons,\n",
    "                                          sections=section, nuclei=highlight_nuclei, \n",
    "                                          highlight=highlight_nuclei,\n",
    "                                           cmap='Blues', bg_shapes=False, show_outline=False,\n",
    "                                           section_col=section_col, \n",
    "                                           x_col=x_col, y_col=y_col,\n",
    "                                           custom_xy_lims=[4.0,5.0, 5.9,4.8],\n",
    "                                           cb_vmin_vmax=[0,5],\n",
    "                                          **kwargs)\n",
    "    curr_fig[0].savefig('/root/capsule/results/'+f'abc_deg_AV_cluster{cluster_id}_{gene}.pdf', \n",
    "                bbox_inches='tight')"
   ]
  },
  {
   "cell_type": "markdown",
   "id": "78445f77-a716-4222-8935-b2f266c0fb92",
   "metadata": {},
   "source": [
    "##### 2616 (lateral cluster) DE genes"
   ]
  },
  {
   "cell_type": "code",
   "execution_count": 21,
   "id": "0471f890-260c-454b-b1ec-707c48038206",
   "metadata": {
    "scrolled": true,
    "tags": []
   },
   "outputs": [],
   "source": [
    "section=[8.0]\n",
    "ant_nuclei=['AD', 'AV', 'AMd', 'AMv']\n",
    "highlight_nuclei=['AV']\n",
    "\n",
    "section_col = 'z_reconstructed'\n",
    "x_col = 'x_reconstructed'\n",
    "y_col = 'y_reconstructed'\n",
    "\n",
    "kwargs = dict(\n",
    "              s=12\n",
    "             )\n",
    "cluster_id = '2616'\n",
    "for gene in de_genes_AV_clust_neg[:5]:\n",
    "    curr_fig = cplots.plot_expression_ccf(adata_th_zi_neurons, gene, ccf_polygons,\n",
    "                                          sections=section, nuclei=highlight_nuclei, \n",
    "                                          highlight=highlight_nuclei,\n",
    "                                           cmap='Blues', bg_shapes=False, show_outline=False,\n",
    "                                           section_col=section_col, \n",
    "                                           x_col=x_col, y_col=y_col,\n",
    "                                           custom_xy_lims=[4.0,5.0, 5.9,4.8],\n",
    "                                           cb_vmin_vmax=[0,5],\n",
    "                                          **kwargs)\n",
    "    curr_fig[0].savefig('/root/capsule/results/'+f'abc_deg_AV_cluster{cluster_id}_{gene}.pdf', \n",
    "                bbox_inches='tight')"
   ]
  },
  {
   "cell_type": "markdown",
   "id": "88644c18-b3db-409c-8c46-dc11fc65cbe4",
   "metadata": {},
   "source": [
    "#### Sorcs3\n",
    "\n",
    "Mathew's plots in brain1 suggested high expression exclusively in the '1097 AV Col27a1 Glut cluster' in the AV\n",
    "\n",
    "That does not appear to be the case in brain3..."
   ]
  },
  {
   "cell_type": "code",
   "execution_count": 22,
   "id": "9c25042f-4a3e-4e10-bd74-ee7522e0cae2",
   "metadata": {
    "tags": []
   },
   "outputs": [],
   "source": [
    "# Mathew's plots in brain1 suggested high expression exclusively in the '1097 AV Col27a1 Glut cluster' in the AV\n",
    "# That does not appear to be the case in brain3...\n",
    "gene = 'Sorcs3'\n",
    "\n",
    "section=['C57BL6J-638850.44']\n",
    "ant_nuclei=['AD', 'AV', 'AMd', 'AMv']\n",
    "highlight_nuclei=['AV']\n",
    "\n",
    "section_col = 'brain_section_label'\n",
    "x_col = 'x_reconstructed'\n",
    "y_col = 'y_reconstructed'\n",
    "\n",
    "cplots.plot_expression_ccf(adata_th_zi_neurons, gene, ccf_polygons,\n",
    "                           sections=section, nuclei=ant_nuclei, \n",
    "                           highlight=highlight_nuclei,\n",
    "                           cmap='Blues', bg_shapes=False, show_outline=False,\n",
    "                           section_col=section_col, \n",
    "                           x_col=x_col, y_col=y_col);"
   ]
  },
  {
   "cell_type": "markdown",
   "id": "748d9ec2-de12-434c-924a-e8ccde9de032",
   "metadata": {},
   "source": [
    "### AM - supertype vs rest"
   ]
  },
  {
   "cell_type": "code",
   "execution_count": 23,
   "id": "3543ac56-82cf-4108-8bc7-85d05623b813",
   "metadata": {
    "tags": []
   },
   "outputs": [],
   "source": [
    "# AV supertype - 0662 TH Prkcd Grin2c Glut_9\n",
    "\n",
    "# Plot top 20 DE genes\n",
    "sc.tl.rank_genes_groups(adata_th_zi_neurons, 'supertype', \n",
    "                        groups=['0662 TH Prkcd Grin2c Glut_9'],  \n",
    "                        method='wilcoxon', rankby_abs=True)\n",
    "sc.pl.rank_genes_groups(adata_th_zi_neurons, n_genes=20)\n",
    "\n",
    "# List top 10 positive DE genes\n",
    "de_df = sc.get.rank_genes_groups_df(adata_th_zi_neurons, group=None)\n",
    "de_genes_pos_AM = de_df[de_df['scores']>0].head(10).names.to_list()\n",
    "print('Top 10 pos DE genes for AM supertype:\\n', de_genes_pos_AM)"
   ]
  },
  {
   "cell_type": "code",
   "execution_count": 24,
   "id": "3bf48068-1e1d-4f85-8e24-69635710a7cb",
   "metadata": {
    "scrolled": true,
    "tags": []
   },
   "outputs": [],
   "source": [
    "section=['C57BL6J-638850.44']\n",
    "ant_nuclei=['AD', 'AV', 'AMd', 'AMv']\n",
    "highlight_nuclei=['AMv','AMd']\n",
    "\n",
    "section_col = 'brain_section_label'\n",
    "x_col = 'x_reconstructed'\n",
    "y_col = 'y_reconstructed'\n",
    "\n",
    "for gene in de_genes_pos_AM[:5]:\n",
    "    cplots.plot_expression_ccf(adata_th_zi_neurons, gene, ccf_polygons,\n",
    "                               sections=section, nuclei=ant_nuclei, \n",
    "                               highlight=highlight_nuclei,\n",
    "                               cmap='Blues', bg_shapes=False, show_outline=False,\n",
    "                               section_col=section_col, \n",
    "                               x_col=x_col, y_col=y_col);"
   ]
  },
  {
   "cell_type": "markdown",
   "id": "f9026d33-98d8-4a2e-9492-5f3b204cc842",
   "metadata": {},
   "source": [
    "### AM clusters"
   ]
  },
  {
   "cell_type": "code",
   "execution_count": 25,
   "id": "26de36c3-0b7e-4ddd-8091-7c21361520b4",
   "metadata": {
    "tags": []
   },
   "outputs": [],
   "source": [
    "AM_cluster_labels = ['2674 TH Prkcd Grin2c Glut_9',\n",
    "                     '2675 TH Prkcd Grin2c Glut_9',\n",
    "                     '2676 TH Prkcd Grin2c Glut_9']"
   ]
  },
  {
   "cell_type": "markdown",
   "id": "d5d9c84a-3c5a-4efe-8d0d-3f5397e5f2e7",
   "metadata": {},
   "source": [
    "#### 2674 (AMd?) vs 2675 (AMv?)"
   ]
  },
  {
   "cell_type": "code",
   "execution_count": 26,
   "id": "5de7c290-7bb8-4e71-a86b-f440dd21b6c8",
   "metadata": {
    "tags": []
   },
   "outputs": [],
   "source": [
    "taxonomy_level = 'cluster'\n",
    "sc.tl.rank_genes_groups(adata_th_zi_neurons, taxonomy_level, \n",
    "                        groups=[AM_cluster_labels[0]], \n",
    "                        reference=AM_cluster_labels[1], \n",
    "                        method='wilcoxon', rankby_abs=True)\n",
    "sc.pl.rank_genes_groups(adata_th_zi_neurons, n_genes=20)\n",
    "\n",
    "# List top 10 positive DE genes\n",
    "de_df = sc.get.rank_genes_groups_df(adata_th_zi_neurons, group=None)\n",
    "de_genes_AM_clust_all = de_df.head(10).names.to_list()\n",
    "de_genes_AM_clust_pos = de_df[de_df['scores']>0].head(10).names.to_list()\n",
    "de_genes_AM_clust_neg = de_df[de_df['scores']<0].head(10).names.to_list()\n",
    "print('Top 10 DE genes:\\n', de_genes_AM_clust_all)\n",
    "print('\\nTop 10 pos DE genes:\\n', de_genes_AM_clust_pos)\n",
    "print('\\n','Top 10 neg DE genes:\\n', de_genes_AM_clust_neg)"
   ]
  },
  {
   "cell_type": "markdown",
   "id": "4962cd61-b9ff-4f6f-8aad-b5e016b40960",
   "metadata": {},
   "source": [
    "##### AMd markers? (2674 vs 2675 pos. DEG)"
   ]
  },
  {
   "cell_type": "code",
   "execution_count": 27,
   "id": "bea7a42e-fe2b-4fe9-918d-3df2e8ab21d3",
   "metadata": {
    "scrolled": true,
    "tags": []
   },
   "outputs": [],
   "source": [
    "section=[8.0]\n",
    "ant_nuclei=['AD', 'AV', 'AMd', 'AMv']\n",
    "highlight_nuclei=['AMd']\n",
    "\n",
    "section_col = 'z_reconstructed'\n",
    "x_col = 'x_reconstructed'\n",
    "y_col = 'y_reconstructed'\n",
    "\n",
    "kwargs = dict(\n",
    "              s=12\n",
    "             )\n",
    "cluster_id = '2674'\n",
    "for gene in de_genes_AM_clust_pos[:5]:\n",
    "    curr_fig = cplots.plot_expression_ccf(adata_th_zi_neurons, gene, ccf_polygons,\n",
    "                                          sections=section, nuclei=ant_nuclei, \n",
    "                                          highlight=highlight_nuclei,\n",
    "                                           cmap='Blues', bg_shapes=False, show_outline=False,\n",
    "                                           section_col=section_col, \n",
    "                                           x_col=x_col, y_col=y_col,\n",
    "                                           custom_xy_lims=[4.1,5.2, 6.4,5.0],\n",
    "                                           cb_vmin_vmax=[0,5],\n",
    "                                          **kwargs)\n",
    "    curr_fig[0].savefig('/root/capsule/results/'+f'abc_deg_AMd_cluster{cluster_id}_{gene}.pdf', \n",
    "                        bbox_inches='tight')"
   ]
  },
  {
   "cell_type": "markdown",
   "id": "8ac58bb0-a6e1-418a-b97d-36144fe92696",
   "metadata": {},
   "source": [
    "##### AMv markers? (2674 vs 2675 neg. DEG)"
   ]
  },
  {
   "cell_type": "code",
   "execution_count": 28,
   "id": "aeef60ae-5331-473a-aa64-a1e4e8fc3873",
   "metadata": {
    "scrolled": true,
    "tags": []
   },
   "outputs": [],
   "source": [
    "section=[8.0]\n",
    "ant_nuclei=['AD', 'AV', 'AMd', 'AMv']\n",
    "highlight_nuclei=['AMv']\n",
    "\n",
    "section_col = 'z_reconstructed'\n",
    "x_col = 'x_reconstructed'\n",
    "y_col = 'y_reconstructed'\n",
    "\n",
    "kwargs = dict(\n",
    "              s=12\n",
    "             )\n",
    "cluster_id = '2676'\n",
    "for gene in de_genes_AM_clust_neg[:5]:\n",
    "    curr_fig = cplots.plot_expression_ccf(adata_th_zi_neurons, gene, ccf_polygons,\n",
    "                                          sections=section, nuclei=ant_nuclei, \n",
    "                                          highlight=highlight_nuclei,\n",
    "                                           cmap='Blues', bg_shapes=False, show_outline=False,\n",
    "                                           section_col=section_col, \n",
    "                                           x_col=x_col, y_col=y_col,\n",
    "                                           custom_xy_lims=[4.1,5.2, 6.4,5.0],\n",
    "                                           cb_vmin_vmax=[0,5],\n",
    "                                          **kwargs)\n",
    "    curr_fig[0].savefig('/root/capsule/results/'+f'abc_deg_AMv_cluster{cluster_id}_{gene}.pdf', \n",
    "                        bbox_inches='tight')"
   ]
  },
  {
   "cell_type": "markdown",
   "id": "a87c6832-c55c-45c4-8f6a-773e4a2e931a",
   "metadata": {},
   "source": [
    "### ANT vs rest"
   ]
  },
  {
   "cell_type": "code",
   "execution_count": 29,
   "id": "29a8c74e-b327-4f0d-aedf-66b92d772dc3",
   "metadata": {},
   "outputs": [],
   "source": [
    "# left as an exercise to the reader...\n",
    "\n",
    "# obs_th_neurons['anterior_type'] = (obs_th_neurons['supertype'].str.contains('Glut_9') |\n",
    "#                                        obs_th_neurons['supertype'].str.contains('AD') |\n",
    "#                                        obs_th_neurons['supertype'].str.contains('AV')).astype(str)"
   ]
  },
  {
   "cell_type": "code",
   "execution_count": 30,
   "id": "b652750a-b90f-40b8-ad44-959295ee28fa",
   "metadata": {},
   "outputs": [],
   "source": [
    "# gene = \"C1ql3\"\n",
    "# cplots.plot_expression_ccf()\n",
    "\n",
    "# gene = \"Shox2\"\n",
    "# cplots.plot_expression_ccf()"
   ]
  },
  {
   "cell_type": "markdown",
   "id": "93338b8a-771f-4882-80f4-2899d663bc63",
   "metadata": {
    "jp-MarkdownHeadingCollapsed": true,
    "tags": []
   },
   "source": [
    "## VM"
   ]
  },
  {
   "cell_type": "code",
   "execution_count": 31,
   "id": "3e55c4e9-d1ee-4043-a333-dd77ecb734ea",
   "metadata": {
    "tags": []
   },
   "outputs": [],
   "source": [
    "taxonomy_level = 'cluster'\n",
    "\n",
    "VM_cluster_aliases = nuclei_df.loc['VM',:].cluster_alias.split(', ')\n",
    "VM_cluster_labels = abc.get_taxonomy_label_from_alias(VM_cluster_aliases,\n",
    "                                                      taxonomy_level, \n",
    "                                                      version='20230830')\n",
    "print(VM_cluster_aliases); print(VM_cluster_labels)\n",
    "\n",
    "VAL_VM_cluster_aliases = nuclei_df.loc['VAL',:].cluster_alias.split(', ')\n",
    "VAL_VM_cluster_labels = abc.get_taxonomy_label_from_alias(VAL_VM_cluster_aliases,\n",
    "                                                          taxonomy_level, \n",
    "                                                          version='20230830')\n",
    "print(VAL_VM_cluster_aliases); print(VAL_VM_cluster_labels)"
   ]
  },
  {
   "cell_type": "markdown",
   "id": "ee84cedf-5ab6-4c82-adaf-619bd0f75cfd",
   "metadata": {},
   "source": [
    "### DE - VM vs VAL top cluster"
   ]
  },
  {
   "cell_type": "code",
   "execution_count": 32,
   "id": "cfcf9b1c-664f-4d0b-839c-86264d16590a",
   "metadata": {
    "tags": []
   },
   "outputs": [],
   "source": [
    "sc.tl.rank_genes_groups(adata_th_zi_neurons, taxonomy_level, \n",
    "                        groups=[VM_cluster_labels[1]], \n",
    "                        reference=VAL_VM_cluster_labels[0], \n",
    "                        method='wilcoxon', rankby_abs=True)\n",
    "sc.pl.rank_genes_groups(adata_th_zi_neurons, n_genes=20)\n",
    "\n",
    "de_df = sc.get.rank_genes_groups_df(adata_th_zi_neurons, group=None)\n",
    "de_genes_pos = de_df[de_df['scores']>0].head(10).names.to_list()\n",
    "de_genes_neg = de_df[de_df['scores']<0].head(10).names.to_list()\n",
    "print('Top 10 pos DE genes:\\n', de_genes_pos)\n",
    "print('\\n','Top 10 neg DE genes:\\n', de_genes_neg)"
   ]
  },
  {
   "cell_type": "code",
   "execution_count": 33,
   "id": "06f3f633-1b35-4e5a-8681-44ae419c538e",
   "metadata": {
    "scrolled": true,
    "tags": []
   },
   "outputs": [],
   "source": [
    "section=['C57BL6J-638850.40']\n",
    "nuclei=['VM', 'VAL']\n",
    "highlight=['VM']\n",
    "\n",
    "section_col = 'brain_section_label'\n",
    "x_col = 'x_reconstructed'\n",
    "y_col = 'y_reconstructed'\n",
    "\n",
    "for gene in de_genes_pos[:5]:\n",
    "    cplots.plot_expression_ccf(adata_th_zi_neurons, gene, ccf_polygons,\n",
    "                               sections=section, nuclei=nuclei, \n",
    "                               highlight=highlight,\n",
    "                               cmap='Blues', bg_shapes=False, show_outline=False,\n",
    "                               section_col=section_col, \n",
    "                               x_col=x_col, y_col=y_col);"
   ]
  },
  {
   "cell_type": "markdown",
   "id": "c9c6a516-8c72-453a-8488-1c037bc820e9",
   "metadata": {
    "jp-MarkdownHeadingCollapsed": true,
    "tags": []
   },
   "source": [
    "### DE - VM cluster vs rest"
   ]
  },
  {
   "cell_type": "code",
   "execution_count": 34,
   "id": "96c2b6fd-4321-4f23-ac1c-ac073407dd6e",
   "metadata": {
    "tags": []
   },
   "outputs": [],
   "source": [
    "sc.tl.rank_genes_groups(adata_th_zi_neurons, 'cluster', \n",
    "                        groups=[VM_cluster_labels[1]], \n",
    "                        method='wilcoxon', tie_correct=True)\n",
    "sc.pl.rank_genes_groups(adata_th_zi_neurons, n_genes=20)\n",
    "\n",
    "# get list of genes from plot\n",
    "de_df = sc.get.rank_genes_groups_df(adata_th_zi_neurons, group=None)\n",
    "de_genes_pos = de_df[de_df['scores']>0].head(10).names.to_list()\n",
    "print('Top 10 pos DE genes:\\n', de_genes_pos)"
   ]
  },
  {
   "cell_type": "code",
   "execution_count": 35,
   "id": "adf6bc11-aefc-4676-a425-26923a5b4b11",
   "metadata": {
    "scrolled": true,
    "tags": []
   },
   "outputs": [],
   "source": [
    "# ISH diff ex search\n",
    "# https://mouse.brain-map.org/gene/show/87708\n",
    "\n",
    "section=['C57BL6J-638850.40']\n",
    "nuclei=['VM']\n",
    "highlight=['VM']\n",
    "\n",
    "section_col = 'brain_section_label'\n",
    "x_col = 'x_reconstructed'\n",
    "y_col = 'y_reconstructed'\n",
    "\n",
    "for gene in de_genes_pos[:3]:\n",
    "    cplots.plot_expression_ccf(adata_th_zi_neurons, gene, ccf_polygons,\n",
    "                               sections=section, nuclei=nuclei, \n",
    "                               highlight=highlight,\n",
    "                               cmap='Blues', bg_shapes=False, show_outline=False,\n",
    "                               section_col=section_col, \n",
    "                               x_col=x_col, y_col=y_col);"
   ]
  },
  {
   "cell_type": "markdown",
   "id": "0e07fb05-38c0-45a4-abf8-d412e0a46fb9",
   "metadata": {
    "jp-MarkdownHeadingCollapsed": true,
    "tags": []
   },
   "source": [
    "### DE - VM supertype vs rest"
   ]
  },
  {
   "cell_type": "code",
   "execution_count": 36,
   "id": "aef0afbb-c64d-42b3-8e76-7cfcf4e1eb3e",
   "metadata": {
    "tags": []
   },
   "outputs": [],
   "source": [
    "taxonomy_level = 'supertype'\n",
    "\n",
    "VM_cluster_aliases = nuclei_df.loc['VM',:].cluster_alias.split(', ')\n",
    "VM_st_labels = abc.get_taxonomy_label_from_alias(VM_cluster_aliases,\n",
    "                                                      taxonomy_level, \n",
    "                                                      version='20230830')\n",
    "VM_st_labels"
   ]
  },
  {
   "cell_type": "code",
   "execution_count": 37,
   "id": "aeaabe34-ad4e-4c33-8183-5baf4e65598a",
   "metadata": {
    "tags": []
   },
   "outputs": [],
   "source": [
    "sc.tl.rank_genes_groups(adata_th_zi_neurons, 'supertype', \n",
    "                        groups=['0666 TH Prkcd Grin2c Glut_13'], \n",
    "                        method='wilcoxon', tie_correct=True)\n",
    "sc.pl.rank_genes_groups(adata_th_zi_neurons, n_genes=20)\n",
    "\n",
    "# get list of genes from plot\n",
    "de_df = sc.get.rank_genes_groups_df(adata_th_zi_neurons, group=None)\n",
    "de_genes_pos = de_df[de_df['scores']>0].head(10).names.to_list()\n",
    "print('Top 10 pos DE genes:\\n', de_genes_pos)"
   ]
  },
  {
   "cell_type": "code",
   "execution_count": 38,
   "id": "2ddbec6b-daf7-4127-a006-32dc021029ce",
   "metadata": {
    "tags": []
   },
   "outputs": [],
   "source": [
    "gene = 'Rxfp1'\n",
    "\n",
    "section=['C57BL6J-638850.40']\n",
    "nuclei=['VM']\n",
    "highlight=['VM']\n",
    "\n",
    "section_col = 'brain_section_label'\n",
    "x_col = 'x_reconstructed'\n",
    "y_col = 'y_reconstructed'\n",
    "\n",
    "cplots.plot_expression_ccf(adata_th_zi_neurons, gene, ccf_polygons,\n",
    "                           sections=section, nuclei=nuclei, \n",
    "                           highlight=highlight,\n",
    "                           cmap='Blues', bg_shapes=False, show_outline=False,\n",
    "                           section_col=section_col, \n",
    "                           x_col=x_col, y_col=y_col);"
   ]
  },
  {
   "cell_type": "markdown",
   "id": "990304e2-aa9f-48f1-8280-2123e6136811",
   "metadata": {
    "jp-MarkdownHeadingCollapsed": true,
    "tags": []
   },
   "source": [
    "### detailed spatial analysis"
   ]
  },
  {
   "cell_type": "code",
   "execution_count": 39,
   "id": "278d31b3-505e-4f85-bb41-636b7edf4a56",
   "metadata": {},
   "outputs": [],
   "source": [
    "# old code to create a structure for the core region of VM and compare expression between that and the rest of VM/VAL\n",
    "\n",
    "# import geopandas as gp\n",
    "# neuron_points = gp.GeoSeries.from_xy(*obs_th_neurons[['cirro_x','cirro_y']].values.T, \n",
    "#                                      index=obs_th_neurons_names)\n",
    "\n",
    "# import hdbscan\n",
    "# section='C57BL6J-638850.40'\n",
    "# adata_vm = adata_th_zi_neurons[obs.query(f\"section=='{section}' & cluster=='1142'\").index].copy()\n",
    "# df = adata_vm.obs\n",
    "# X = df[['cirro_x','cirro_y']].values\n",
    "# df['spatial_cluster'] = hdbscan.HDBSCAN(min_samples=5).fit_predict(X)\n",
    "# core_clusters = df['spatial_cluster'].value_counts().index[:2]\n",
    "# df['spatial_group'] = df['spatial_cluster'].apply(lambda x: 'core' if x in core_clusters else 'other')\n",
    "\n",
    "# sns.scatterplot(data=df,  x='cirro_x', y='cirro_y', hue='spatial_cluster', s=4,  legend=True, palette='tab10')\n",
    "\n",
    "# nucleus = cshapes.get_polygon_from_obs(df.query(\"spatial_group=='core'\"))\n",
    "# subset = neuron_points.geometry.intersects(nucleus)\n",
    "# obs_th_neurons['in_nucleus'] = subset.values\n",
    "# adata_nucleus = adata_th_zi_neurons[subset]\n",
    "\n",
    "# obs.query(f\"section=='{section}' & supertype=='TH Prkcd Grin2c Glut_13'\").groupby(['cluster'])['in_nucleus'].apply(lambda x: x.value_counts())\n",
    "\n",
    "# # need to include VAL types ??\n",
    "\n",
    "# sc.tl.rank_genes_groups(adata_vm, 'spatial_group', groups=['core'], reference='other', method='wilcoxon', rankby_abs=True)\n",
    "# sc.pl.rank_genes_groups(adata_vm, groups=['core'], n_genes=20)"
   ]
  },
  {
   "cell_type": "markdown",
   "id": "51c9bf30-48bc-47c9-9bc9-1f00465199b4",
   "metadata": {},
   "source": [
    "## MD"
   ]
  },
  {
   "cell_type": "code",
   "execution_count": 40,
   "id": "0746c995-4a42-44c5-9af7-6e66e1603397",
   "metadata": {
    "tags": []
   },
   "outputs": [],
   "source": [
    "md_clusters = ['2678 TH Prkcd Grin2c Glut_10',\n",
    "                 '2648 TH Prkcd Grin2c Glut_1',\n",
    "                 '2635 CM-IAD-CL-PCN Sema5b Glut_1',\n",
    "                 '2681 TH Prkcd Grin2c Glut_12',\n",
    "                 '2644 CM-IAD-CL-PCN Sema5b Glut_4',\n",
    "                 '2682 TH Prkcd Grin2c Glut_12',\n",
    "                 '2683 TH Prkcd Grin2c Glut_13',\n",
    "                 '2638 CM-IAD-CL-PCN Sema5b Glut_2'          \n",
    "                   ]"
   ]
  },
  {
   "cell_type": "markdown",
   "id": "faa9ae06-8dc2-490a-a64f-98c3b0f5ca50",
   "metadata": {},
   "source": [
    "### 2678 shell/MDl+MDm cluster vs rest"
   ]
  },
  {
   "cell_type": "code",
   "execution_count": 41,
   "id": "e07c6a3f-82df-444a-88d5-a57de22b6d0a",
   "metadata": {
    "tags": []
   },
   "outputs": [],
   "source": [
    "# \"Shell\"/MDl+MDm cluster v\n",
    "taxonomy_level = 'cluster'\n",
    "sc.tl.rank_genes_groups(adata_th_zi_neurons, taxonomy_level, \n",
    "                        groups=[md_clusters[0]], method='wilcoxon', \n",
    "                        rankby_abs=True)\n",
    "sc.pl.rank_genes_groups(adata_th_zi_neurons, n_genes=20)\n",
    "\n",
    "# List top 10 positive DE genes\n",
    "de_df = sc.get.rank_genes_groups_df(adata_th_zi_neurons, group=None)\n",
    "de_genes_MD_clust_all = de_df.head(10).names.to_list()\n",
    "de_genes_MD_clust_pos = de_df[de_df['scores']>0].head(10).names.to_list()\n",
    "de_genes_MD_clust_neg = de_df[de_df['scores']<0].head(10).names.to_list()\n",
    "print('Top 10 DE genes:\\n', de_genes_MD_clust_all)\n",
    "print('\\nTop 10 pos DE genes:\\n', de_genes_MD_clust_pos)\n",
    "print('\\n','Top 10 neg DE genes:\\n', de_genes_MD_clust_neg)"
   ]
  },
  {
   "cell_type": "code",
   "execution_count": 42,
   "id": "204587a7-2680-4a17-a239-f072afb8dc3f",
   "metadata": {
    "scrolled": true,
    "tags": []
   },
   "outputs": [],
   "source": [
    "md_sections = [6.8, 7.0, 7.2]\n",
    "md_xy_lims = [4.45, 5.55, 5.9, 4.7] # [4.5, 6.5, 6.0, 4.7] both left & right\n",
    "highlight_nuclei = ['MD']\n",
    "\n",
    "section_col = 'z_reconstructed'\n",
    "x_col = 'x_reconstructed'\n",
    "y_col = 'y_reconstructed'\n",
    "\n",
    "kwargs = dict(\n",
    "              s=10\n",
    "             )\n",
    "cluster_id = '2678'\n",
    "for gene in de_genes_MD_clust_pos[:5]:\n",
    "    curr_fig = cplots.plot_expression_ccf(adata_th_zi_neurons, gene, ccf_polygons,\n",
    "                                          sections=[md_sections[2]], nuclei=highlight_nuclei, \n",
    "                                          highlight=highlight_nuclei,\n",
    "                                           cmap='Blues', bg_shapes=False, show_outline=False,\n",
    "                                           section_col=section_col, \n",
    "                                           x_col=x_col, y_col=y_col,\n",
    "                                           custom_xy_lims=md_xy_lims,\n",
    "                                           # cb_vmin_vmax=[0,5],\n",
    "                                          **kwargs)\n",
    "    curr_fig[0].savefig('/root/capsule/results/'+f'abc_deg_MD_cluster{cluster_id}_{gene}.pdf', \n",
    "                        transparent=True, bbox_inches='tight')"
   ]
  },
  {
   "cell_type": "markdown",
   "id": "10e13b59-1143-431e-ab8c-da580e469f40",
   "metadata": {},
   "source": [
    "### 2678 (shell/MDl+MDm) vs 2648 (core/MDc) clusters"
   ]
  },
  {
   "cell_type": "code",
   "execution_count": 43,
   "id": "ca222dd3-ef34-4592-b9aa-137cefc6ff48",
   "metadata": {
    "tags": []
   },
   "outputs": [],
   "source": [
    "taxonomy_level = 'cluster'\n",
    "sc.tl.rank_genes_groups(adata_th_zi_neurons, taxonomy_level, \n",
    "                        groups=[md_clusters[0]], \n",
    "                        reference=md_clusters[1], \n",
    "                        method='wilcoxon', rankby_abs=True)\n",
    "sc.pl.rank_genes_groups(adata_th_zi_neurons, n_genes=20)\n",
    "\n",
    "# List top 10 positive DE genes\n",
    "de_df = sc.get.rank_genes_groups_df(adata_th_zi_neurons, group=None)\n",
    "de_genes_MD_clust_all = de_df.head(10).names.to_list()\n",
    "de_genes_MD_clust_pos = de_df[de_df['scores']>0].head(10).names.to_list()\n",
    "de_genes_MD_clust_neg = de_df[de_df['scores']<0].head(10).names.to_list()\n",
    "print('Top 10 DE genes:\\n', de_genes_MD_clust_all)\n",
    "print('\\nTop 10 pos DE genes:\\n', de_genes_MD_clust_pos)\n",
    "print('\\n','Top 10 neg DE genes:\\n', de_genes_MD_clust_neg)"
   ]
  },
  {
   "cell_type": "code",
   "execution_count": 44,
   "id": "89e2a5f7-9026-4ed1-b0b7-9926ba586d9f",
   "metadata": {
    "scrolled": true,
    "tags": []
   },
   "outputs": [],
   "source": [
    "kwargs = dict(\n",
    "              s=10\n",
    "             )\n",
    "cluster_ids = ['2678','2648']\n",
    "for gene in de_genes_MD_clust_pos[:5]:\n",
    "    curr_fig = cplots.plot_expression_ccf(adata_th_zi_neurons, gene, ccf_polygons,\n",
    "                                          sections=[md_sections[2]], nuclei=highlight_nuclei, \n",
    "                                          highlight=highlight_nuclei,\n",
    "                                           cmap='Blues', bg_shapes=False, show_outline=False,\n",
    "                                           section_col=section_col, \n",
    "                                           x_col=x_col, y_col=y_col,\n",
    "                                           custom_xy_lims=md_xy_lims,\n",
    "                                           cb_vmin_vmax=[0,5],\n",
    "                                          **kwargs)\n",
    "    curr_fig[0].savefig(f'/results/abc_deg_MD_cluster{cluster_ids[0]}vs{cluster_ids[1]}_{gene}.pdf', \n",
    "                        transparent=True, bbox_inches='tight')"
   ]
  },
  {
   "cell_type": "code",
   "execution_count": 45,
   "id": "740558f1-bdfa-47f9-a23c-d72e8044d58c",
   "metadata": {
    "scrolled": true,
    "tags": []
   },
   "outputs": [],
   "source": [
    "kwargs = dict(\n",
    "              s=10\n",
    "             )\n",
    "cluster_ids = ['2678','2648']\n",
    "for gene in de_genes_MD_clust_neg[:5]:\n",
    "    curr_fig = cplots.plot_expression_ccf(adata_th_zi_neurons, gene, ccf_polygons,\n",
    "                                          sections=[md_sections[2]], nuclei=highlight_nuclei, \n",
    "                                          highlight=highlight_nuclei,\n",
    "                                           cmap='Blues', bg_shapes=False, show_outline=False,\n",
    "                                           section_col=section_col, \n",
    "                                           x_col=x_col, y_col=y_col,\n",
    "                                           custom_xy_lims=md_xy_lims,\n",
    "                                           cb_vmin_vmax=[0,5],\n",
    "                                          **kwargs)\n",
    "    curr_fig[0].savefig(f'/results/abc_deg_MD_cluster{cluster_ids[1]}vs{cluster_ids[0]}_{gene}.pdf', \n",
    "                        transparent=True, bbox_inches='tight')"
   ]
  },
  {
   "cell_type": "markdown",
   "id": "733617e1-bbb0-49c8-823b-d06332789fe9",
   "metadata": {},
   "source": [
    "### 2678 vs 2635\n",
    "\n",
    "Why is there a \"blurry\" boundary at MDl into the IL groups?"
   ]
  },
  {
   "cell_type": "code",
   "execution_count": 46,
   "id": "e8464eca-baed-4835-9616-6b5d7643328d",
   "metadata": {
    "tags": []
   },
   "outputs": [],
   "source": [
    "taxonomy_level = 'cluster'\n",
    "sc.tl.rank_genes_groups(adata_th_zi_neurons, taxonomy_level, \n",
    "                        groups=[md_clusters[0]], \n",
    "                        reference=md_clusters[2], \n",
    "                        method='wilcoxon', rankby_abs=True)\n",
    "sc.pl.rank_genes_groups(adata_th_zi_neurons, n_genes=20)\n",
    "\n",
    "# List top 10 positive DE genes\n",
    "de_df = sc.get.rank_genes_groups_df(adata_th_zi_neurons, group=None)\n",
    "de_genes_MD_clust_all = de_df.head(10).names.to_list()\n",
    "de_genes_MD_clust_pos = de_df[de_df['scores']>0].head(10).names.to_list()\n",
    "de_genes_MD_clust_neg = de_df[de_df['scores']<0].head(10).names.to_list()\n",
    "print('Top 10 DE genes:\\n', de_genes_MD_clust_all)\n",
    "print('\\nTop 10 pos DE genes:\\n', de_genes_MD_clust_pos)\n",
    "print('\\n','Top 10 neg DE genes:\\n', de_genes_MD_clust_neg)"
   ]
  },
  {
   "cell_type": "code",
   "execution_count": 47,
   "id": "7992402c-2175-4aa3-96fc-29f32d0ff520",
   "metadata": {
    "scrolled": true,
    "tags": []
   },
   "outputs": [],
   "source": [
    "kwargs = dict(\n",
    "              s=10\n",
    "             )\n",
    "cluster_ids = ['2678','2635']\n",
    "for gene in de_genes_MD_clust_pos[:5]:\n",
    "    curr_fig = cplots.plot_expression_ccf(adata_th_zi_neurons, gene, ccf_polygons,\n",
    "                                          sections=[md_sections[2]], nuclei=highlight_nuclei, \n",
    "                                          highlight=highlight_nuclei,\n",
    "                                           cmap='Blues', bg_shapes=False, show_outline=False,\n",
    "                                           section_col=section_col, \n",
    "                                           x_col=x_col, y_col=y_col,\n",
    "                                           custom_xy_lims=md_xy_lims,\n",
    "                                           cb_vmin_vmax=[0,5],\n",
    "                                          **kwargs)\n",
    "    curr_fig[0].savefig(f'/results/abc_deg_MD_cluster{cluster_ids[0]}vs{cluster_ids[1]}_{gene}.pdf', \n",
    "                        transparent=True, bbox_inches='tight')"
   ]
  },
  {
   "cell_type": "code",
   "execution_count": 48,
   "id": "cbff1076-b9d9-4e25-b24d-86a0e2cc5ed0",
   "metadata": {
    "scrolled": true,
    "tags": []
   },
   "outputs": [],
   "source": [
    "kwargs = dict(\n",
    "              s=10\n",
    "             )\n",
    "cluster_ids = ['2678','2635']\n",
    "for gene in de_genes_MD_clust_neg[:5]:\n",
    "    curr_fig = cplots.plot_expression_ccf(adata_th_zi_neurons, gene, ccf_polygons,\n",
    "                                          sections=[md_sections[2]], nuclei=highlight_nuclei, \n",
    "                                          highlight=highlight_nuclei,\n",
    "                                           cmap='Blues', bg_shapes=False, show_outline=False,\n",
    "                                           section_col=section_col, \n",
    "                                           x_col=x_col, y_col=y_col,\n",
    "                                           custom_xy_lims=md_xy_lims,\n",
    "                                           cb_vmin_vmax=[0,5],\n",
    "                                          **kwargs)\n",
    "    curr_fig[0].savefig(f'/results/abc_deg_MD_cluster{cluster_ids[1]}vs{cluster_ids[0]}_{gene}.pdf', \n",
    "                        transparent=True, bbox_inches='tight')"
   ]
  },
  {
   "cell_type": "markdown",
   "id": "227e80e7-6da3-48cd-9897-8e001d7847f3",
   "metadata": {},
   "source": [
    "### 2683 vs 2648"
   ]
  },
  {
   "cell_type": "code",
   "execution_count": 49,
   "id": "90c87414-a92c-4519-9224-2d1004f825de",
   "metadata": {
    "tags": []
   },
   "outputs": [],
   "source": [
    "taxonomy_level = 'cluster'\n",
    "sc.tl.rank_genes_groups(adata_th_zi_neurons, taxonomy_level, \n",
    "                        groups=[md_clusters[6]], \n",
    "                        reference=md_clusters[1], \n",
    "                        method='wilcoxon', rankby_abs=True)\n",
    "sc.pl.rank_genes_groups(adata_th_zi_neurons, n_genes=20)\n",
    "\n",
    "# List top 10 positive DE genes\n",
    "de_df = sc.get.rank_genes_groups_df(adata_th_zi_neurons, group=None)\n",
    "de_genes_MD_clust_all = de_df.head(10).names.to_list()\n",
    "de_genes_MD_clust_pos = de_df[de_df['scores']>0].head(10).names.to_list()\n",
    "de_genes_MD_clust_neg = de_df[de_df['scores']<0].head(10).names.to_list()\n",
    "print('Top 10 DE genes:\\n', de_genes_MD_clust_all)\n",
    "print('\\nTop 10 pos DE genes:\\n', de_genes_MD_clust_pos)\n",
    "print('\\n','Top 10 neg DE genes:\\n', de_genes_MD_clust_neg)"
   ]
  },
  {
   "cell_type": "code",
   "execution_count": 50,
   "id": "2118f4d8-ded6-4a36-9f56-72336f313025",
   "metadata": {
    "scrolled": true,
    "tags": []
   },
   "outputs": [],
   "source": [
    "kwargs = dict(\n",
    "              s=10\n",
    "             )\n",
    "cluster_ids = ['2683','2648']\n",
    "for gene in de_genes_MD_clust_pos[:5]:\n",
    "    curr_fig = cplots.plot_expression_ccf(adata_th_zi_neurons, gene, ccf_polygons,\n",
    "                                          sections=[md_sections[2]], nuclei=highlight_nuclei, \n",
    "                                          highlight=highlight_nuclei,\n",
    "                                           cmap='Blues', bg_shapes=False, show_outline=False,\n",
    "                                           section_col=section_col, \n",
    "                                           x_col=x_col, y_col=y_col,\n",
    "                                           custom_xy_lims=md_xy_lims,\n",
    "                                           # cb_vmin_vmax=[0,5],\n",
    "                                          **kwargs)\n",
    "    curr_fig[0].savefig(f'/results/abc_deg_MD_cluster{cluster_ids[0]}vs{cluster_ids[1]}_{gene}.pdf', \n",
    "                        transparent=True, bbox_inches='tight')"
   ]
  },
  {
   "cell_type": "code",
   "execution_count": 51,
   "id": "d4db92ea-e875-4da2-be0f-818cee1f0f4d",
   "metadata": {
    "tags": []
   },
   "outputs": [],
   "source": [
    "taxonomy_level = 'cluster'\n",
    "sc.tl.rank_genes_groups(adata_th_zi_neurons, taxonomy_level, \n",
    "                        groups=[md_clusters[6]], \n",
    "                        reference=md_clusters[0], \n",
    "                        method='wilcoxon', rankby_abs=True)\n",
    "sc.pl.rank_genes_groups(adata_th_zi_neurons, n_genes=20)\n",
    "\n",
    "# List top 10 positive DE genes\n",
    "de_df = sc.get.rank_genes_groups_df(adata_th_zi_neurons, group=None)\n",
    "de_genes_MD_clust_all = de_df.head(10).names.to_list()\n",
    "de_genes_MD_clust_pos = de_df[de_df['scores']>0].head(10).names.to_list()\n",
    "de_genes_MD_clust_neg = de_df[de_df['scores']<0].head(10).names.to_list()\n",
    "print('Top 10 DE genes:\\n', de_genes_MD_clust_all)\n",
    "print('\\nTop 10 pos DE genes:\\n', de_genes_MD_clust_pos)\n",
    "print('\\n','Top 10 neg DE genes:\\n', de_genes_MD_clust_neg)"
   ]
  },
  {
   "cell_type": "code",
   "execution_count": 52,
   "id": "f83ecb90-4013-4b93-af80-d170ab0772e3",
   "metadata": {
    "scrolled": true,
    "tags": []
   },
   "outputs": [],
   "source": [
    "kwargs = dict(\n",
    "              s=10\n",
    "             )\n",
    "cluster_ids = ['2683','2678']\n",
    "for gene in de_genes_MD_clust_pos[:5]:\n",
    "    curr_fig = cplots.plot_expression_ccf(adata_th_zi_neurons, gene, ccf_polygons,\n",
    "                                          sections=[md_sections[2]], nuclei=highlight_nuclei, \n",
    "                                          highlight=highlight_nuclei,\n",
    "                                           cmap='Blues', bg_shapes=False, show_outline=False,\n",
    "                                           section_col=section_col, \n",
    "                                           x_col=x_col, y_col=y_col,\n",
    "                                           custom_xy_lims=md_xy_lims,\n",
    "                                           # cb_vmin_vmax=[0,5],\n",
    "                                          **kwargs)\n",
    "    curr_fig[0].savefig(f'/results/abc_deg_MD_cluster{cluster_ids[0]}vs{cluster_ids[1]}_{gene}.pdf', \n",
    "                        transparent=True, bbox_inches='tight')"
   ]
  },
  {
   "cell_type": "code",
   "execution_count": 56,
   "id": "d9835d61-f45a-45fd-bb2b-c8bcb9b79e1b",
   "metadata": {
    "tags": []
   },
   "outputs": [],
   "source": [
    "# vs rest\n",
    "taxonomy_level = 'cluster'\n",
    "sc.tl.rank_genes_groups(adata_th_zi_neurons, taxonomy_level, \n",
    "                        groups=[md_clusters[6]], \n",
    "                        method='wilcoxon', rankby_abs=True)\n",
    "sc.pl.rank_genes_groups(adata_th_zi_neurons, n_genes=20)\n",
    "\n",
    "# List top 10 positive DE genes\n",
    "de_df = sc.get.rank_genes_groups_df(adata_th_zi_neurons, group=None)\n",
    "de_genes_MD_clust_all = de_df.head(10).names.to_list()\n",
    "de_genes_MD_clust_pos = de_df[de_df['scores']>0].head(10).names.to_list()\n",
    "de_genes_MD_clust_neg = de_df[de_df['scores']<0].head(10).names.to_list()\n",
    "print('Top 10 DE genes:\\n', de_genes_MD_clust_all)\n",
    "print('\\nTop 10 pos DE genes:\\n', de_genes_MD_clust_pos)\n",
    "print('\\n','Top 10 neg DE genes:\\n', de_genes_MD_clust_neg)"
   ]
  },
  {
   "cell_type": "code",
   "execution_count": 57,
   "id": "8acef884-fd5a-4231-905b-452cb6d629cd",
   "metadata": {
    "scrolled": true,
    "tags": []
   },
   "outputs": [],
   "source": [
    "kwargs = dict(\n",
    "              s=10\n",
    "             )\n",
    "cluster_ids = ['2683']\n",
    "for gene in de_genes_MD_clust_pos[:5]:\n",
    "    curr_fig = cplots.plot_expression_ccf(adata_th_zi_neurons, gene, ccf_polygons,\n",
    "                                          sections=[md_sections[2]], nuclei=highlight_nuclei, \n",
    "                                          highlight=highlight_nuclei,\n",
    "                                           cmap='Blues', bg_shapes=False, show_outline=False,\n",
    "                                           section_col=section_col, \n",
    "                                           x_col=x_col, y_col=y_col,\n",
    "                                           custom_xy_lims=md_xy_lims,\n",
    "                                           # cb_vmin_vmax=[0,5],\n",
    "                                          **kwargs)\n",
    "    curr_fig[0].savefig(f'/results/abc_deg_MD_cluster{cluster_ids[0]}vsRest_{gene}.pdf', \n",
    "                        transparent=True, bbox_inches='tight')"
   ]
  },
  {
   "cell_type": "markdown",
   "id": "5d1eaf21-a837-4011-a6c4-95fcfd4be681",
   "metadata": {},
   "source": [
    "### ILM (2681) vs MD (2678)"
   ]
  },
  {
   "cell_type": "code",
   "execution_count": 53,
   "id": "d80d0eff-2ecb-4af1-be94-4cc9392dc08c",
   "metadata": {
    "tags": []
   },
   "outputs": [],
   "source": [
    "taxonomy_level = 'cluster'\n",
    "sc.tl.rank_genes_groups(adata_th_zi_neurons, taxonomy_level, \n",
    "                        groups=[md_clusters[3]], \n",
    "                        reference=md_clusters[0], \n",
    "                        method='wilcoxon', rankby_abs=True)\n",
    "sc.pl.rank_genes_groups(adata_th_zi_neurons, n_genes=20)\n",
    "\n",
    "# List top 10 positive DE genes\n",
    "de_df = sc.get.rank_genes_groups_df(adata_th_zi_neurons, group=None)\n",
    "de_genes_ILM_clust_all = de_df.head(10).names.to_list()\n",
    "de_genes_ILM_clust_pos = de_df[de_df['scores']>0].head(10).names.to_list()\n",
    "de_genes_ILM_clust_neg = de_df[de_df['scores']<0].head(10).names.to_list()\n",
    "print('Top 10 DE genes:\\n', de_genes_ILM_clust_all)\n",
    "print('\\nTop 10 pos DE genes:\\n', de_genes_ILM_clust_pos)\n",
    "print('\\n','Top 10 neg DE genes:\\n', de_genes_ILM_clust_neg)"
   ]
  },
  {
   "cell_type": "code",
   "execution_count": 54,
   "id": "c55a6e82-8e23-41de-aada-a1aed840755f",
   "metadata": {
    "scrolled": true,
    "tags": []
   },
   "outputs": [],
   "source": [
    "kwargs = dict(\n",
    "              s=10\n",
    "             )\n",
    "md_ilm_xy_lims = [4.55, 5.65, 5.9, 4.7] # md_xy_lims=[4.45, 5.55, 5.9, 4.7]\n",
    "cluster_ids = ['2681','2678']\n",
    "for gene in de_genes_ILM_clust_pos[:5]:\n",
    "    curr_fig = cplots.plot_expression_ccf(adata_th_zi_neurons, gene, ccf_polygons,\n",
    "                                          sections=[md_sections[2]], nuclei=highlight_nuclei, \n",
    "                                          highlight=highlight_nuclei,\n",
    "                                           cmap='Blues', bg_shapes=False, show_outline=False,\n",
    "                                           section_col=section_col, \n",
    "                                           x_col=x_col, y_col=y_col,\n",
    "                                           custom_xy_lims=md_ilm_xy_lims,\n",
    "                                           cb_vmin_vmax=[0,5],\n",
    "                                          **kwargs)\n",
    "    curr_fig[0].savefig(f'/results/abc_deg_MD_cluster{cluster_ids[0]}vs{cluster_ids[1]}_{gene}.pdf', \n",
    "                        transparent=True, bbox_inches='tight')"
   ]
  },
  {
   "cell_type": "code",
   "execution_count": 55,
   "id": "325df907-7c3a-407a-b5c8-38484c452aae",
   "metadata": {
    "scrolled": true,
    "tags": []
   },
   "outputs": [],
   "source": [
    "kwargs = dict(\n",
    "              s=10\n",
    "             )\n",
    "cluster_ids = ['2681','2678']\n",
    "for gene in de_genes_ILM_clust_neg[:5]:\n",
    "    curr_fig = cplots.plot_expression_ccf(adata_th_zi_neurons, gene, ccf_polygons,\n",
    "                                          sections=[md_sections[2]], nuclei=highlight_nuclei, \n",
    "                                          highlight=highlight_nuclei,\n",
    "                                           cmap='Blues', bg_shapes=False, show_outline=False,\n",
    "                                           section_col=section_col, \n",
    "                                           x_col=x_col, y_col=y_col,\n",
    "                                           custom_xy_lims=md_ilm_xy_lims,\n",
    "                                           cb_vmin_vmax=[0,5],\n",
    "                                          **kwargs)\n",
    "    curr_fig[0].savefig(f'/results/abc_deg_MD_cluster{cluster_ids[1]}vs{cluster_ids[0]}_{gene}.pdf', \n",
    "                        transparent=True, bbox_inches='tight')"
   ]
  },
  {
   "cell_type": "code",
   "execution_count": null,
   "id": "3679ec07-eace-4f23-9add-ca1acdb557a8",
   "metadata": {},
   "outputs": [],
   "source": []
  }
 ],
 "metadata": {
  "kernelspec": {
   "display_name": "Python 3 (ipykernel)",
   "language": "python",
   "name": "python3"
  },
  "language_info": {
   "codemirror_mode": {
    "name": "ipython",
    "version": 3
   },
   "file_extension": ".py",
   "mimetype": "text/x-python",
   "name": "python",
   "nbconvert_exporter": "python",
   "pygments_lexer": "ipython3",
   "version": "3.9.12"
  }
 },
 "nbformat": 4,
 "nbformat_minor": 5
}
