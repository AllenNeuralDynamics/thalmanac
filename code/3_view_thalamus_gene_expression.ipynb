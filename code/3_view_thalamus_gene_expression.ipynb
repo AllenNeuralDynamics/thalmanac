{
 "cells": [
  {
   "cell_type": "markdown",
   "id": "85d1f41e",
   "metadata": {},
   "source": [
    "# 3_view_thalamus_gene_expression\n",
    "\n",
    "This notebook demonstrates how to use the custom plotting functions found in the\n",
    "`thalamus_merfish_analysis\\ccf_plots.py` module to view spatial gene expression \n",
    "measured by MERFISH in the thalamus and zona incerta.\n",
    "\n",
    "Part 1: View Thalamus-wide Gene Expression\n",
    "\n",
    "Part 2: Find & View DEGs (Differentialy Expressed Genes) \n",
    "\n",
    "Part 3: View HCR / Multi-Gene Experiment Simulation"
   ]
  },
  {
   "cell_type": "code",
   "execution_count": 1,
   "id": "6ef76432-a51c-4df4-9bc6-584f00248802",
   "metadata": {
    "tags": []
   },
   "outputs": [],
   "source": [
    "from importlib_resources import files\n",
    "import anndata as ad\n",
    "import pandas as pd\n",
    "import numpy as np\n",
    "\n",
    "import scanpy as sc\n",
    "\n",
    "from thalamus_merfish_analysis import abc_load as abc\n",
    "from thalamus_merfish_analysis import ccf_images as cimg\n",
    "from thalamus_merfish_analysis import ccf_plots as cplots\n",
    "\n",
    "import matplotlib.pyplot as plt\n",
    "%matplotlib inline"
   ]
  },
  {
   "cell_type": "markdown",
   "id": "02d77fe5-c106-4330-b6a8-e405b18599cf",
   "metadata": {},
   "source": [
    "## Set figure generation behavior"
   ]
  },
  {
   "cell_type": "code",
   "execution_count": 2,
   "id": "b1f2f768-9630-4526-968f-f7cab20d6d29",
   "metadata": {
    "tags": []
   },
   "outputs": [],
   "source": [
    "# This notebook takes awhile to run if you're displaying all the DEGs found\n",
    "# herein, so you can set this variable to control global figure display behavior\n",
    "\n",
    "# number of DEGs to plot \n",
    "n_de_genes_to_plot = 2 # suggested to minimize runtime: 2"
   ]
  },
  {
   "cell_type": "markdown",
   "id": "bff1fc39-5eca-4870-813b-c4d8542ee5aa",
   "metadata": {},
   "source": [
    "## Load thalamus dataset\n",
    "\n",
    "Since we want to view gene expression, we need to load the full AnnData object.\n",
    "\n",
    "For details on the AnnData output of `load_standard_thalamus()`, please see `1_load_thalamus_data.ipynb`."
   ]
  },
  {
   "cell_type": "code",
   "execution_count": 3,
   "id": "f7c20595-e053-4b25-b91b-b28b3df81345",
   "metadata": {
    "tags": []
   },
   "outputs": [],
   "source": [
    "# load AnnData object so we have the gene expression\n",
    "# standard behavior loads in log2cpt (counts per thousand) gene counts, which are suitable for both\n",
    "# DEG analysis and gene expression display\n",
    "adata_th_log2cpt = abc.load_standard_thalamus(data_structure='adata')\n",
    "adata = adata_th_log2cpt"
   ]
  },
  {
   "cell_type": "markdown",
   "id": "59634561",
   "metadata": {},
   "source": [
    "### set spatial coordinates\n",
    "\n",
    "Since we have 3 sets of spatial coordinates (`_section`, `_reconstructed`, and `_ccf`), we need to specify which coordinate space we wish to work from.\n",
    "\n",
    "For this notebook, we will work in the `_reconstructed` coordinate space, which is a registration of each MERFISH section to a target resampled CCF section. \n",
    "For more information on the different coordinates, please see: https://alleninstitute.github.io/abc_atlas_access/notebooks/merfish_ccf_registration_tutorial.html"
   ]
  },
  {
   "cell_type": "code",
   "execution_count": 4,
   "id": "ad1c90af",
   "metadata": {},
   "outputs": [],
   "source": [
    "# set spatial column names to `_reconstructed` coordinate space\n",
    "coords = '_reconstructed'\n",
    "\n",
    "x_col = 'x'+coords\n",
    "y_col = 'y'+coords\n",
    "section_col = z_col = 'z'+coords"
   ]
  },
  {
   "cell_type": "markdown",
   "id": "aaa5d420",
   "metadata": {},
   "source": [
    "### load Allen Reference Atlas (ARA) structure images & boundaries\n",
    "\n",
    "To overlay the ARA structures on the cell types found in the thalamus, we need to load the volume & boundary images from the ABC Atlas, which are referred to as 'CCF' from here on out."
   ]
  },
  {
   "cell_type": "code",
   "execution_count": 5,
   "id": "00d473f5-b8ed-446e-8681-e18876a74913",
   "metadata": {
    "tags": []
   },
   "outputs": [],
   "source": [
    "# Load the CCF structures image\n",
    "ccf_images = abc.get_ccf_labels_image()"
   ]
  },
  {
   "cell_type": "code",
   "execution_count": 6,
   "id": "863659f8",
   "metadata": {},
   "outputs": [],
   "source": [
    "# specify CCF parcellation level column in adata.obs\n",
    "ccf_label = 'parcellation_substructure'"
   ]
  },
  {
   "cell_type": "code",
   "execution_count": 7,
   "id": "794291da",
   "metadata": {},
   "outputs": [],
   "source": [
    "# Precompute boundaries to use multiple times in this notebook w/o need to recompute\n",
    "\n",
    "# we only need to load the boundaries for sections that contain the thalamus\n",
    "sections_all = sorted(adata.obs[section_col].unique())\n",
    "sections_int = np.rint(np.array(sections_all)/0.2).astype(int)\n",
    "\n",
    "# precompute boundaries for thalamic sections\n",
    "ccf_boundaries = cimg.sectionwise_label_erosion(ccf_images, distance_px=1, \n",
    "                                                fill_val=0, return_edges=True, \n",
    "                                                section_list=sections_int\n",
    "                                                )\n",
    "\n",
    "# # Alternative: skip and define as None to calculate on the fly\n",
    "# ccf_boundaries = None"
   ]
  },
  {
   "cell_type": "markdown",
   "id": "3956426a-4257-4fe4-b967-b0ffcc9df0f0",
   "metadata": {},
   "source": [
    "### load custom cluster color palette"
   ]
  },
  {
   "cell_type": "code",
   "execution_count": 8,
   "id": "8a2936a8-17c7-4282-a592-e6eef0b53ab3",
   "metadata": {
    "tags": []
   },
   "outputs": [],
   "source": [
    "# We can load & use the published color palettes for the ABC Atlas taxonomy\n",
    "abc_palettes = {level: abc.get_taxonomy_palette(level) for level in \n",
    "                ['subclass','supertype','cluster']}\n",
    "\n",
    "# Load custom, contrast-y cluster color palette\n",
    "abc_palettes['cluster'] = abc.get_thalamus_cluster_palette()"
   ]
  },
  {
   "cell_type": "code",
   "execution_count": 9,
   "id": "622de7be",
   "metadata": {},
   "outputs": [],
   "source": [
    "# 3 sections that representatively span the AP axis of the thalamus\n",
    "sections_3 = [6.4, 7.2, 8.0]"
   ]
  },
  {
   "cell_type": "code",
   "execution_count": 10,
   "id": "ae8f8f12",
   "metadata": {},
   "outputs": [],
   "source": [
    "# if you reload thalamus_merfish_analysis.ccf_plots after this cell has been run, \n",
    "# cplots.CCF_REGIONS_DEFAULT will be reset to None & you'll need to re-run this cell\n",
    "cplots.CCF_REGIONS_DEFAULT = abc.get_thalamus_names()"
   ]
  },
  {
   "cell_type": "markdown",
   "id": "c7e8698d",
   "metadata": {},
   "source": [
    "## 1.) View Thalamus-wide Gene Expression\n",
    "\n",
    "We provide 3 main ways to view thalamus-wide gene expression\n",
    "\n",
    "1a) Gene expression only\n",
    "\n",
    "1b) Gene expression + CCF parcellation boundaries overlay\n",
    "\n",
    "1c) Gene expression + highlight specific CCF parcellation boundar(y/ies)"
   ]
  },
  {
   "cell_type": "markdown",
   "id": "8cf6e63c",
   "metadata": {},
   "source": [
    "### 1a) Gene expr only\n",
    "\n",
    "The `plot_expression_ccf()` function in the `ccf_plots` module displays per-section gene expression of a specified gene."
   ]
  },
  {
   "cell_type": "code",
   "execution_count": 11,
   "id": "d22524d9",
   "metadata": {},
   "outputs": [],
   "source": [
    "figs = cplots.plot_expression_ccf(adata, # loaded AnnData obj\n",
    "                                  'Gad2', # the 1 gene to display\n",
    "                                  ccf_images, # preloaded CCF image volumes\n",
    "                                  boundary_img=ccf_boundaries, # precalculated for speed\n",
    "                                  nuclei=[], # does NOT show CCF parcellations\n",
    "                                  sections=sections_3, # set to None or leave out to plot all available sections\n",
    "                                                       # to plot single section, wrap in list: e.g. sections=[6.4] \n",
    "                                  cmap='Blues', # accepts any matplotlib colormap \n",
    "                                  point_size=2,\n",
    "                                  section_col=section_col, x_col=x_col, y_col=y_col # defined in prior cell\n",
    "                                  )"
   ]
  },
  {
   "cell_type": "markdown",
   "id": "be966661",
   "metadata": {},
   "source": [
    "### 1b) Gene expr + CCF parcellation overlay\n",
    "\n",
    "By setting `nuclei=None`, the function will plot all CCF parcellation boundaries over the gene's expression"
   ]
  },
  {
   "cell_type": "code",
   "execution_count": 12,
   "id": "d47f4cb8",
   "metadata": {},
   "outputs": [],
   "source": [
    "# By setting `nuclei=None` (the default value), the function will plot all CCF parcellation\n",
    "# boundaries over the gene's expression\n",
    "cplots.CCF_REGIONS_DEFAULT = abc.get_thalamus_names()\n",
    "figs = cplots.plot_expression_ccf(adata,\n",
    "                                  'Gad2',\n",
    "                                  ccf_images,\n",
    "                                  boundary_img=ccf_boundaries,\n",
    "                                  nuclei=None, # default, plots all available CCF parcellation structures\n",
    "                                  sections=sections_3,\n",
    "                                  cmap='Blues',\n",
    "                                  section_col=section_col, x_col=x_col, y_col=y_col\n",
    "                                  )"
   ]
  },
  {
   "cell_type": "markdown",
   "id": "7e861699",
   "metadata": {},
   "source": [
    "### 1c) Gene expr + highlight specific CCF structures\n",
    "\n",
    "By passing a list of CCF substructures to `highlight=['PF', 'AD']`, the \n",
    "`plot_expression_ccf()` function will show all CCF parcellation boundaries with \n",
    "grey outline and highlight the `highlight` substructures with a black outline"
   ]
  },
  {
   "cell_type": "code",
   "execution_count": 13,
   "id": "6bd0c6f0",
   "metadata": {},
   "outputs": [],
   "source": [
    "# Pass a list of substructures to `highlight` to highlight them with a black outline\n",
    "figs = cplots.plot_expression_ccf(adata,\n",
    "                                  'Gad2',\n",
    "                                  ccf_images,\n",
    "                                  boundary_img=ccf_boundaries,\n",
    "\n",
    "                                  nuclei=None, # default, plots all CCF substructures with grey outline\n",
    "                                               # set nuclei=[] to plot no background/grey CCF substructures\n",
    "\n",
    "                                  highlight=['PF', 'AD'], # highlights certain parcellations with black outline\n",
    "                                                          # to plot one substructure, wrap in list: e.g. highlight=['AV']\n",
    "                                                          \n",
    "                                  sections=sections_3,\n",
    "                                  section_col=section_col, x_col=x_col, y_col=y_col)"
   ]
  },
  {
   "cell_type": "markdown",
   "id": "c307ce80-c99e-4893-adfd-a187f495a7db",
   "metadata": {},
   "source": [
    "## 2.) Find & View DEGs\n",
    "\n",
    "We performed differential expression analysis with scanpy’s `rank_genes_group` \n",
    "function   to identify differentially expressed genes (DEGs) between spatially \n",
    "adjacent cell types in the thalamus. "
   ]
  },
  {
   "cell_type": "markdown",
   "id": "bc2e98bf-7f25-45d0-93f6-3182e4265574",
   "metadata": {},
   "source": [
    "#### run_sc_deg_analysis()\n",
    "\n",
    "A helper function to run DEG analysis and format the output"
   ]
  },
  {
   "cell_type": "code",
   "execution_count": 14,
   "id": "a5705189-830a-4700-abde-a38ab3a92345",
   "metadata": {
    "tags": []
   },
   "outputs": [],
   "source": [
    "def run_sc_deg_analysis(adata, taxonomy_level, groups='all', reference='rest',\n",
    "                        n_genes_display=20, rankby_abs=True, method='wilcoxon',\n",
    "                        save_to_key=None, print_as_lists=True):\n",
    "            \n",
    "    # rank genes\n",
    "    sc.tl.rank_genes_groups(adata, taxonomy_level, groups=groups, \n",
    "                            reference=reference, n_genes=None, rankby_abs=True,\n",
    "                            method=method, key_added=save_to_key)\n",
    "    \n",
    "    # change default key if input parameter was set\n",
    "    if save_to_key==None:\n",
    "        key='rank_genes_groups'\n",
    "    else:\n",
    "        key=save_to_key\n",
    "    \n",
    "    # plot top n_genes_display\n",
    "    sc.pl.rank_genes_groups(adata, n_genes=n_genes_display, key=key)\n",
    "    \n",
    "    # print out lists of top DEGs so they can be copy-pasted elsewhere\n",
    "    if print_as_lists:\n",
    "        n_genes_print = int(np.floor(n_genes_display/2))\n",
    "\n",
    "        deg_df = sc.get.rank_genes_groups_df(adata, group=None, key=key)\n",
    "\n",
    "        degs_top_all = deg_df.head(n_genes_display).names.to_list()\n",
    "        degs_top_pos = deg_df[deg_df['scores']>0].head(n_genes_print).names.to_list()\n",
    "        degs_top_neg = deg_df[deg_df['scores']<0].head(n_genes_print).names.to_list()\n",
    "\n",
    "        print(f'\\nTop {n_genes_display} DEGs for {groups} vs {reference}:\\n', \n",
    "              degs_top_all)\n",
    "        print(f'\\nTop {n_genes_print} positive DEGs for {groups} vs {reference}:\\n', \n",
    "              degs_top_pos)\n",
    "        print(f'\\nTop {n_genes_print} negative DEGs for {groups} vs {reference}:\\n', \n",
    "              degs_top_neg)\n",
    "        \n",
    "    return degs_top_all, degs_top_pos, degs_top_neg"
   ]
  },
  {
   "cell_type": "markdown",
   "id": "b94a747a",
   "metadata": {},
   "source": [
    "#### set default plotting kwargs"
   ]
  },
  {
   "cell_type": "code",
   "execution_count": 15,
   "id": "5190f21c",
   "metadata": {},
   "outputs": [],
   "source": [
    "kwargs_ATN_cells = dict(\n",
    "    bg_cells=adata.obs,\n",
    "    boundary_img=ccf_boundaries,\n",
    "    section_col=section_col,\n",
    "    x_col=x_col,\n",
    "    y_col=y_col,\n",
    "    point_size=4, \n",
    "    face_palette=None,\n",
    "    edge_color='grey'\n",
    "    )\n",
    "\n",
    "kwargs_ATN_expr = dict(\n",
    "    boundary_img=ccf_boundaries,\n",
    "    section_col=section_col,\n",
    "    x_col=x_col,\n",
    "    y_col=y_col,\n",
    "    cmap='Blues',\n",
    "    point_size=1,\n",
    "    edge_color='grey'\n",
    "    )"
   ]
  },
  {
   "cell_type": "markdown",
   "id": "4a2f8ac5",
   "metadata": {},
   "source": [
    "### Load cell type : nuclei resource CSV\n",
    "\n",
    "We generated a CSV file that maps each thalamic nucleus to a manually selected \n",
    "set of top clusters, supertypes, and subclasses that map to cells primarily \n",
    "within that nucleus’ boundaries."
   ]
  },
  {
   "cell_type": "code",
   "execution_count": 16,
   "id": "4ad927d3",
   "metadata": {},
   "outputs": [],
   "source": [
    "# load manual cluster annotations for thalamic nuclei\n",
    "nuclei_cluster_df = abc.nuclei_df_manual\n",
    "nuclei_cluster_df.head(5)"
   ]
  },
  {
   "cell_type": "markdown",
   "id": "dc854e11-4fdc-445a-8d79-49707e36e4a5",
   "metadata": {
    "tags": []
   },
   "source": [
    "### Anterior Thalamic Nuclei (ATN) DEGs\n",
    "\n",
    "We will use the anterior thalamic nuclei (ATN) as an example of using DEG analysis\n",
    "to explore and compare the cell types found in the thalamus."
   ]
  },
  {
   "cell_type": "code",
   "execution_count": 19,
   "id": "4852f12f-a907-4c07-82aa-eea50fac6b97",
   "metadata": {},
   "outputs": [],
   "source": [
    "# Use manual nuclei:cluster annotations to grab cells that mapped to major ATN cell types\n",
    "obs_ATN = abc.get_obs_from_annotations(['AD', 'AV', 'AM'], adata.obs, taxonomy_level='cluster')"
   ]
  },
  {
   "cell_type": "code",
   "execution_count": 20,
   "id": "928afbd3-fbd4-4987-be7d-444c904618e2",
   "metadata": {
    "tags": []
   },
   "outputs": [],
   "source": [
    "# Let's look at the cell types in the ATN in one sample section\n",
    "sections_ATN = [8.0]\n",
    "nuclei_ATN_highlight = ['AD', 'AV', 'AMv', 'AMd']\n",
    "\n",
    "# show all th\n",
    "taxonomy_levels = ['subclass','supertype','cluster']\n",
    "for level in taxonomy_levels:\n",
    "    figs_ATN = cplots.plot_ccf_overlay(obs_ATN, \n",
    "                                        ccf_images, \n",
    "                                        ccf_highlight=nuclei_ATN_highlight,\n",
    "                                        point_hue=level, \n",
    "                                        sections=sections_ATN,\n",
    "                                        point_palette=abc_palettes[level],\n",
    "                                        legend='cells',\n",
    "                                        **kwargs_ATN_cells)"
   ]
  },
  {
   "cell_type": "markdown",
   "id": "8db0f482-4b85-4ebf-b2d6-2058cd7ad98e",
   "metadata": {
    "tags": []
   },
   "source": [
    "#### AD subclass vs. rest of subclasses\n",
    "\n",
    "We can use scanpy's gene group analysis to compare one group of cells to the \n",
    "rest of the cells in the dataset.\n",
    "\n",
    "Here, since AD has it's own subclass, we compare the AD-specific subclass, by \n",
    "setting `groups='147 AD Serpinb7 Glut'`, to the rest of the subclasses in the \n",
    "thalamus, by setting `reference='rest'`.\n",
    "\n",
    "We can then plot the top DEGs that are highly expressed in the AD subclass as\n",
    "compared to all other subclasses in the thalamus."
   ]
  },
  {
   "cell_type": "code",
   "execution_count": 21,
   "id": "0cd5699f-80f2-4c98-9e91-bf6f346c7856",
   "metadata": {
    "tags": []
   },
   "outputs": [],
   "source": [
    "# AD subclass = '147 AD Serpinb7 Glut'\n",
    "taxonomy_level = 'subclass'\n",
    "key = 'AD_subclass_vs_rest'\n",
    "\n",
    "# Run DEG analysis for AD subclass vs rest\n",
    "(degs_top_all, \n",
    "degs_top_pos, \n",
    "degs_top_neg) = run_sc_deg_analysis(adata, \n",
    "                                    taxonomy_level, \n",
    "                                    groups=['147 AD Serpinb7 Glut'], \n",
    "                                    reference='rest',\n",
    "                                    save_to_key=key)"
   ]
  },
  {
   "cell_type": "code",
   "execution_count": 22,
   "id": "a629ef70-97c0-4931-bb25-c47358d1b2fb",
   "metadata": {
    "scrolled": true,
    "tags": []
   },
   "outputs": [],
   "source": [
    "# show outlines for all the ATN\n",
    "nuclei_ATN = ['AD', 'AV', 'AMd', 'AMv']\n",
    "# highlight AD in black\n",
    "nuclei_highlight = ['AD']\n",
    "\n",
    "# we set n_de_genes_to_plot=2 at the top of this notebook\n",
    "for gene in degs_top_pos[:n_de_genes_to_plot]:\n",
    "    cplots.plot_expression_ccf(adata, \n",
    "                               gene, \n",
    "                               ccf_images,\n",
    "                               sections=sections_ATN, # plot the example section defined above\n",
    "                               nuclei=nuclei_ATN, \n",
    "                               highlight=nuclei_highlight,\n",
    "                               **kwargs_ATN_expr)"
   ]
  },
  {
   "cell_type": "markdown",
   "id": "0d55c803-5ce0-48ce-bc8a-5c3d24f15ad7",
   "metadata": {},
   "source": [
    "#### AD clusters - 2613 vs. 2614\n",
    "\n",
    "We can also use scanpy's gene group analysis to compare one group of cells to \n",
    "another specific group of cells\n",
    "\n",
    "Here, since AD has two clusters that divide the nucleus into roughly half, we \n",
    "compare the two AD clusters, by setting `groups` to one cluster and `reference` \n",
    "to the other cluster.\n",
    "\n",
    "We can then plot the top DEGs that are highly expressed in the first AD cluster\n",
    "(the one passed to `groups`) as compared to the second AD cluster."
   ]
  },
  {
   "cell_type": "code",
   "execution_count": 23,
   "id": "32064f3e",
   "metadata": {},
   "outputs": [],
   "source": [
    "# get & plot AD-specific clusters\n",
    "obs_AD = abc.get_obs_from_annotations('AD', adata.obs, taxonomy_level='cluster')\n",
    "\n",
    "# set kwargs\n",
    "kwargs_cells_AD = dict(\n",
    "    bg_cells=adata.obs,\n",
    "    boundary_img=ccf_boundaries,\n",
    "    section_col=section_col,\n",
    "    x_col=x_col,\n",
    "    y_col=y_col,\n",
    "    face_palette=None,\n",
    "    edge_color='grey',\n",
    "    point_size=10,  # increase cell marker size for smaller plot from custom_xy_lims\n",
    "    custom_xy_lims=[4.4,5.1, 5.6,4.6]  # [xmin, xmax, ymin, ymax] for AD\n",
    "    )\n",
    "\n",
    "\n",
    "taxonomy_levels = ['cluster']\n",
    "figs_ATN = cplots.plot_ccf_overlay(obs_AD, \n",
    "                                    ccf_images, \n",
    "                                    ccf_highlight=['AD'],\n",
    "                                    point_hue=level, \n",
    "                                    sections=sections_ATN,\n",
    "                                    point_palette=abc_palettes[level],\n",
    "                                    legend='cells',\n",
    "                                    **kwargs_cells_AD)"
   ]
  },
  {
   "cell_type": "code",
   "execution_count": 24,
   "id": "86fa6bf7-d0ee-4fa8-8f51-4955f21ccadc",
   "metadata": {
    "tags": []
   },
   "outputs": [],
   "source": [
    "taxonomy_level = 'cluster'\n",
    "AD_cluster_labels = ['2613 AD Serpinb7 Glut_1', '2614 AD Serpinb7 Glut_1']\n",
    "\n",
    "# Run DEG analysis for the two AD clusters\n",
    "(degs_top_all, \n",
    "degs_top_pos, \n",
    "degs_top_neg) = run_sc_deg_analysis(adata, \n",
    "                                    taxonomy_level, \n",
    "                                    groups=[AD_cluster_labels[0]], \n",
    "                                    reference=AD_cluster_labels[1],\n",
    "                                    save_to_key=key)"
   ]
  },
  {
   "cell_type": "markdown",
   "id": "83ba60f8-07d3-45e5-8a43-c95e8758312c",
   "metadata": {},
   "source": [
    "##### Plot 2613 (medial) DEGs\n",
    "\n",
    "When we plot the expression of the top DEGs, we can use the `custom_xy_lims` \n",
    "parameter to zoom in and focus on just AD.\n",
    "\n",
    "The positive ranked genes (`degs_top_pos`) from `sc.get.rank_genes_groups_df` \n",
    "are more highly expressed in the cluster passed to the `groups` parameter."
   ]
  },
  {
   "cell_type": "code",
   "execution_count": 25,
   "id": "51a405fd",
   "metadata": {},
   "outputs": [],
   "source": [
    "kwargs_expr_AD = dict(\n",
    "    boundary_img=ccf_boundaries,\n",
    "    section_col=section_col,\n",
    "    x_col=x_col,\n",
    "    y_col=y_col,\n",
    "    cmap='Blues',\n",
    "    edge_color='grey',\n",
    "    point_size=10,  # increase cell marker size for smaller plot from custom_xy_lims\n",
    "    custom_xy_lims=[4.4,5.1, 5.6,4.6], # [xmin, xmax, ymin, ymax] for AD\n",
    "    )"
   ]
  },
  {
   "cell_type": "code",
   "execution_count": 26,
   "id": "3a6ff815-0021-468d-8505-f146d0a77281",
   "metadata": {
    "scrolled": true,
    "tags": []
   },
   "outputs": [],
   "source": [
    "for gene in degs_top_pos[:n_de_genes_to_plot]:\n",
    "    cplots.plot_expression_ccf(adata, \n",
    "                               gene, \n",
    "                               ccf_images,\n",
    "                               sections=sections_ATN, # plot the example section defined above\n",
    "                               nuclei=nuclei_ATN, \n",
    "                               highlight=nuclei_highlight,\n",
    "                               **kwargs_expr_AD)"
   ]
  },
  {
   "cell_type": "markdown",
   "id": "fe1f1cc4-3571-4919-b7f2-74d713324d91",
   "metadata": {},
   "source": [
    "##### Plot 2614 (lateral) DEGs\n",
    "\n",
    "The negative ranked genes (`degs_top_neg`) from `sc.get.rank_genes_groups_df` \n",
    "are more highly expressed in the cluster passed to the `reference` parameter."
   ]
  },
  {
   "cell_type": "code",
   "execution_count": 27,
   "id": "e7c43478-cf62-41b9-8214-eaff0b908144",
   "metadata": {
    "scrolled": true,
    "tags": []
   },
   "outputs": [],
   "source": [
    "for gene in degs_top_neg[:n_de_genes_to_plot]:\n",
    "    cplots.plot_expression_ccf(adata, \n",
    "                               gene, \n",
    "                               ccf_images,\n",
    "                               sections=sections_ATN, # plot the example section defined above\n",
    "                               nuclei=nuclei_ATN, \n",
    "                               highlight=nuclei_highlight,\n",
    "                               **kwargs_expr_AD)"
   ]
  },
  {
   "cell_type": "markdown",
   "id": "10eec37b-9062-4135-8c14-ef644f5c114b",
   "metadata": {
    "tags": []
   },
   "source": [
    "#### AV subclass vs. rest of subclasses\n",
    "\n",
    "We can repeat this analysis for AV."
   ]
  },
  {
   "cell_type": "code",
   "execution_count": 28,
   "id": "005af3f1-d77c-46c8-9bdd-31e65b8298d3",
   "metadata": {
    "tags": []
   },
   "outputs": [],
   "source": [
    "# AV subclass - 148 AV Col27a1 Glut\n",
    "taxonomy_level = 'subclass'\n",
    "key = 'AV_subclass_vs_rest'\n",
    "\n",
    "# Run DEG analysis for AV subclass vs rest\n",
    "(degs_top_all, \n",
    "degs_top_pos, \n",
    "degs_top_neg) = run_sc_deg_analysis(adata, \n",
    "                                    taxonomy_level, \n",
    "                                    groups=['148 AV Col27a1 Glut'], \n",
    "                                    reference='rest',\n",
    "                                    save_to_key=key)"
   ]
  },
  {
   "cell_type": "code",
   "execution_count": 29,
   "id": "4a800fc2-646d-4b53-83f0-8801ab5133f7",
   "metadata": {
    "tags": []
   },
   "outputs": [],
   "source": [
    "# show outlines for all the ATN\n",
    "nuclei_ATN = ['AD', 'AV', 'AMd', 'AMv']\n",
    "# highlight AD in black\n",
    "nuclei_highlight = ['AV']\n",
    "\n",
    "# we set n_de_genes_to_plot=2 at the top of this notebook\n",
    "for gene in degs_top_pos[:n_de_genes_to_plot-1]:\n",
    "    cplots.plot_expression_ccf(adata, \n",
    "                               gene, \n",
    "                               ccf_images,\n",
    "                               sections=sections_ATN, # plot the example section defined above\n",
    "                               nuclei=nuclei_ATN, \n",
    "                               highlight=nuclei_highlight,\n",
    "                               **kwargs_ATN_expr)"
   ]
  },
  {
   "cell_type": "markdown",
   "id": "c8244d22-dd27-4031-96db-a32b76bcd318",
   "metadata": {},
   "source": [
    "#### AV clusters - 2615 vs. 2616"
   ]
  },
  {
   "cell_type": "code",
   "execution_count": 30,
   "id": "70afae8f-b8b9-4dc7-a5c5-56da1d97acc8",
   "metadata": {
    "tags": []
   },
   "outputs": [],
   "source": [
    "# get & plot AV-specific clusters\n",
    "obs_AV = abc.get_obs_from_annotations('AV', adata.obs, taxonomy_level='cluster')\n",
    "\n",
    "# set kwargs\n",
    "kwargs_cells_AV = dict(\n",
    "    bg_cells=adata.obs,\n",
    "    boundary_img=ccf_boundaries,\n",
    "    section_col=section_col,\n",
    "    x_col=x_col,\n",
    "    y_col=y_col,\n",
    "    face_palette=None,\n",
    "    edge_color='grey',\n",
    "    point_size=12,  # increase cell marker size for smaller plot from custom_xy_lims\n",
    "    custom_xy_lims=[4.0, 5.0, 5.9, 4.8]  # [xmin, xmax, ymin, ymax] for AV\n",
    "    )\n",
    "\n",
    "\n",
    "taxonomy_levels = ['cluster']\n",
    "figs_ATN = cplots.plot_ccf_overlay(obs_AV, \n",
    "                                    ccf_images, \n",
    "                                    ccf_highlight=['AV'],\n",
    "                                    point_hue=level, \n",
    "                                    sections=sections_ATN,\n",
    "                                    point_palette=abc_palettes[level],\n",
    "                                    legend='cells',\n",
    "                                    **kwargs_cells_AV)\n"
   ]
  },
  {
   "cell_type": "code",
   "execution_count": 31,
   "id": "55f4d2ff",
   "metadata": {},
   "outputs": [],
   "source": [
    "# AV clusters - '2615 AV Col27a1 Glut_1', '2616 AV Col27a1 Glut_1'\n",
    "AV_cluster_labels = obs_AV['cluster'].unique().tolist()\n",
    "taxonomy_level = 'cluster'\n",
    "\n",
    "# Run DEG analysis for the two AV clusters\n",
    "(degs_top_all, \n",
    "degs_top_pos, \n",
    "degs_top_neg) = run_sc_deg_analysis(adata, \n",
    "                                    taxonomy_level, \n",
    "                                    groups=[AV_cluster_labels[0]], \n",
    "                                    reference=AV_cluster_labels[1],\n",
    "                                    save_to_key=key)"
   ]
  },
  {
   "cell_type": "markdown",
   "id": "63ddf39a-9c64-4396-87bb-ead2713bb5da",
   "metadata": {},
   "source": [
    "##### Plot 2615 (medial cluster) DEGs"
   ]
  },
  {
   "cell_type": "code",
   "execution_count": 32,
   "id": "07bb4187-25c8-4d1f-8891-be6148232690",
   "metadata": {
    "scrolled": true,
    "tags": []
   },
   "outputs": [],
   "source": [
    "kwargs_expr_AV = dict(\n",
    "    boundary_img=ccf_boundaries,\n",
    "    section_col=section_col,\n",
    "    x_col=x_col,\n",
    "    y_col=y_col,\n",
    "    cmap='Blues',\n",
    "    edge_color='grey',\n",
    "    point_size=10,  # increase cell marker size for smaller plot from custom_xy_lims\n",
    "    custom_xy_lims=[4.0,5.0, 5.9,4.8]  # [xmin, xmax, ymin, ymax] for AV\n",
    "    )"
   ]
  },
  {
   "cell_type": "code",
   "execution_count": 33,
   "id": "ab68b51b",
   "metadata": {},
   "outputs": [],
   "source": [
    "for gene in degs_top_pos[:n_de_genes_to_plot]:\n",
    "    cplots.plot_expression_ccf(adata, \n",
    "                               gene, \n",
    "                               ccf_images,\n",
    "                               sections=sections_ATN, # plot the example section defined above\n",
    "                               nuclei=nuclei_ATN, \n",
    "                               highlight='AV',\n",
    "                               **kwargs_expr_AV)"
   ]
  },
  {
   "cell_type": "markdown",
   "id": "78445f77-a716-4222-8935-b2f266c0fb92",
   "metadata": {},
   "source": [
    "##### Plot 2616 (lateral cluster) DEGs"
   ]
  },
  {
   "cell_type": "code",
   "execution_count": 34,
   "id": "0471f890-260c-454b-b1ec-707c48038206",
   "metadata": {
    "scrolled": true,
    "tags": []
   },
   "outputs": [],
   "source": [
    "for gene in degs_top_neg[:n_de_genes_to_plot]:\n",
    "    cplots.plot_expression_ccf(adata, \n",
    "                               gene, \n",
    "                               ccf_images,\n",
    "                               sections=sections_ATN, # plot the example section defined above\n",
    "                               nuclei=nuclei_ATN, \n",
    "                               highlight='AV',\n",
    "                               **kwargs_expr_AV)"
   ]
  },
  {
   "cell_type": "markdown",
   "id": "748d9ec2-de12-434c-924a-e8ccde9de032",
   "metadata": {},
   "source": [
    "### AM supertype vs. rest\n",
    "\n",
    "We leave the DEG analysis of AM as an exercise to the reader."
   ]
  },
  {
   "cell_type": "code",
   "execution_count": 35,
   "id": "c7809cb3",
   "metadata": {},
   "outputs": [],
   "source": [
    "# get & plot AV-specific clusters\n",
    "obs_AM = abc.get_obs_from_annotations('AM', adata.obs, taxonomy_level='cluster')\n",
    "\n",
    "# set kwargs\n",
    "kwargs_cells_AM = dict(\n",
    "    bg_cells=adata.obs,\n",
    "    boundary_img=ccf_boundaries,\n",
    "    section_col=section_col,\n",
    "    x_col=x_col,\n",
    "    y_col=y_col,\n",
    "    face_palette=None,\n",
    "    edge_color='lightgrey',\n",
    "    point_size=12,  # increase cell marker size for smaller plot from custom_xy_lims\n",
    "    custom_xy_lims=[4.2, 5.2, max(obs_AM[y_col]),min(obs_AM[y_col])]  # [xmin, xmax, ymin, ymax] for AM\n",
    "    )\n",
    "\n",
    "\n",
    "taxonomy_levels = ['cluster']\n",
    "figs_ATN = cplots.plot_ccf_overlay(obs_AM, \n",
    "                                    ccf_images, \n",
    "                                    ccf_highlight=['AMv', 'AMd'],\n",
    "                                    point_hue=level, \n",
    "                                    sections=sections_ATN,\n",
    "                                    point_palette=abc_palettes[level],\n",
    "                                    legend='cells',\n",
    "                                    **kwargs_cells_AM)"
   ]
  },
  {
   "cell_type": "markdown",
   "id": "109638f8",
   "metadata": {},
   "source": [
    "## 3.) View HCR / Multi-Gene Experiment Simulation\n",
    "\n",
    "Finally, you can view 3 (or more!) genes as a simulation of a multi-gene / HCR experiment."
   ]
  },
  {
   "cell_type": "code",
   "execution_count": 36,
   "id": "2b4b37de",
   "metadata": {},
   "outputs": [],
   "source": [
    "# Plot expression of 3 MERFISH genes as a simulation of an HCR experiment, \n",
    "# including a 3 separate and 1 overlay panels\n",
    "geneList = ['Gad2', 'Calb2', 'Slc17a7']\n",
    "\n",
    "# default is a white background\n",
    "figs_hcr = cplots.plot_hcr(adata, \n",
    "                           geneList, \n",
    "                        #    colors=['blue', 'green', 'red'],\n",
    "                           sections=sections_3, \n",
    "                           section_col=z_col,\n",
    "                           x_col=x_col,\n",
    "                           y_col=y_col,\n",
    "                           )"
   ]
  },
  {
   "cell_type": "code",
   "execution_count": 37,
   "id": "3fafa7e4",
   "metadata": {},
   "outputs": [],
   "source": [
    "# you can also display with a light background \n",
    "figs_hcr = cplots.plot_hcr(adata, \n",
    "                           geneList, \n",
    "                           sections=sections_3, \n",
    "                           section_col=z_col,\n",
    "                           x_col=x_col, \n",
    "                           y_col=y_col,\n",
    "                           dark_background=False)"
   ]
  },
  {
   "cell_type": "code",
   "execution_count": null,
   "id": "897b7488",
   "metadata": {},
   "outputs": [],
   "source": []
  }
 ],
 "metadata": {
  "kernelspec": {
   "display_name": "Python 3 (ipykernel)",
   "language": "python",
   "name": "python3"
  },
  "language_info": {
   "codemirror_mode": {
    "name": "ipython",
    "version": 3
   },
   "file_extension": ".py",
   "mimetype": "text/x-python",
   "name": "python",
   "nbconvert_exporter": "python",
   "pygments_lexer": "ipython3",
   "version": "3.9.12"
  }
 },
 "nbformat": 4,
 "nbformat_minor": 5
}
