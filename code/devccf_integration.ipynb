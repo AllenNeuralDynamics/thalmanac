{
 "cells": [
  {
   "cell_type": "code",
   "execution_count": 1,
   "metadata": {},
   "outputs": [],
   "source": [
    "\n",
    "import spatialdata as sd\n",
    "import pandas as pd\n",
    "import numpy as np\n",
    "import matplotlib.pyplot as plt\n",
    "from thalamus_merfish_analysis import abc_load as abc\n",
    "from thalamus_merfish_analysis import ccf_registration as ccf\n",
    "from thalamus_merfish_analysis import ccf_transforms as ccft\n",
    "%matplotlib inline"
   ]
  },
  {
   "cell_type": "code",
   "execution_count": 2,
   "metadata": {},
   "outputs": [],
   "source": [
    "import nibabel\n",
    "\n",
    "img = nibabel.load(\"/data/KimLabDevCCFv001/KimLabDevCCFv001_Annotations_ASL_Oriented_10um.nii.gz\")"
   ]
  },
  {
   "cell_type": "code",
   "execution_count": 3,
   "metadata": {},
   "outputs": [],
   "source": [
    "img.shape"
   ]
  },
  {
   "cell_type": "code",
   "execution_count": 4,
   "metadata": {},
   "outputs": [],
   "source": [
    "imdata = np.array(img.dataobj).astype(int)"
   ]
  },
  {
   "cell_type": "code",
   "execution_count": 5,
   "metadata": {},
   "outputs": [],
   "source": [
    "img_ccf = abc.get_ccf_labels_image(resampled=False)\n",
    "img_ccf.shape\n"
   ]
  },
  {
   "cell_type": "code",
   "execution_count": 6,
   "metadata": {},
   "outputs": [],
   "source": [
    "df = abc.get_combined_metadata(realigned=True)"
   ]
  },
  {
   "cell_type": "code",
   "execution_count": 7,
   "metadata": {},
   "outputs": [],
   "source": [
    "\n",
    "coords = ['x_section', 'y_section', 'z_section']\n",
    "slice_label = 'slice_int'\n",
    "df[slice_label] = df['z_section'].apply(lambda x: int(x*10))\n",
    "\n",
    "transforms_by_section = ccf.read_quicknii_file(\"/code/resources/quicknii_transforms_20231010.json\", scale=25)\n",
    "minmax = pd.read_csv(\"/code/resources/brain3_thalamus_coordinate_bounds.csv\", index_col=0)\n",
    "\n",
    "# load to spatialdata\n",
    "norm_transform = ccft.get_normalizing_transform(\n",
    "                                           min_xy=minmax.loc['min'].values, \n",
    "                                           max_xy=minmax.loc['max'].values, \n",
    "                                           flip_y=True)\n",
    "cells_by_section = ccft.parse_cells_by_section(df, transforms_by_section, norm_transform, coords, slice_label=slice_label)\n",
    "sdata = sd.SpatialData.from_elements_dict(cells_by_section)\n"
   ]
  },
  {
   "cell_type": "code",
   "execution_count": 8,
   "metadata": {},
   "outputs": [],
   "source": [
    "\n",
    "# saving resampled images\n",
    "img_transform = sd.transformations.Scale(10e-3*np.ones(3), 'xyz')\n",
    "labels = sd.models.Labels3DModel.parse(imdata, dims='xyz', transformations={'ccf': img_transform})\n",
    "sdata.add_labels('ccf_regions', labels)\n"
   ]
  },
  {
   "cell_type": "code",
   "execution_count": 13,
   "metadata": {},
   "outputs": [],
   "source": [
    "from importlib import reload\n",
    "reload(ccft)"
   ]
  },
  {
   "cell_type": "code",
   "execution_count": 27,
   "metadata": {},
   "outputs": [],
   "source": []
  },
  {
   "cell_type": "code",
   "execution_count": 14,
   "metadata": {},
   "outputs": [],
   "source": [
    "\n",
    "ngrid = 1100\n",
    "nz = 76\n",
    "z_res = 2\n",
    "img_stack = np.zeros((ngrid, ngrid, nz), dtype=int)\n",
    "for section in sdata.points.keys():\n",
    "    i = int(np.rint(int(section)/z_res))\n",
    "    target = sdata[section]\n",
    "    source = sdata['ccf_regions']\n",
    "    scale = 10e-3\n",
    "    target_img, target_grid_transform = ccft.map_image_to_slice(sdata, imdata, source, target, scale=scale, ngrid=ngrid, centered=False)\n",
    "    img_stack[:,:,i] = target_img.T"
   ]
  },
  {
   "cell_type": "code",
   "execution_count": 31,
   "metadata": {},
   "outputs": [],
   "source": [
    "import nibabel\n",
    "nifti_img = nibabel.Nifti1Image(img_stack, affine=np.eye(4), dtype='int64')\n",
    "\n",
    "# Save the NIfTI1Image object as .nii file\n",
    "nibabel.save(nifti_img, '/scratch/labels.nii.gz')"
   ]
  },
  {
   "cell_type": "code",
   "execution_count": 34,
   "metadata": {},
   "outputs": [],
   "source": [
    "X = img_stack[:,:,int(np.rint(int(80)/z_res))].T\n",
    "# X = np.where(X==0, np.nan, X)\n",
    "plt.imshow(X)\n"
   ]
  },
  {
   "cell_type": "code",
   "execution_count": 22,
   "metadata": {},
   "outputs": [],
   "source": [
    "th_top_level = ['ZIC', 'CZI', 'Th']\n",
    "\n",
    "import networkx as nx\n",
    "import pandas as pd\n",
    "\n",
    "devccf_index = pd.read_csv(\"/data/KimLabDevCCFv001/KimLabDevCCFv001_MouseOntologyStructure.csv\",\n",
    "                           dtype={'ID':str, 'Parent ID':str})\n",
    "# some quotes have both single and double\n",
    "for x in ['Acronym','Name']:\n",
    "    devccf_index[x] = devccf_index[x].str.replace(\"'\",\"\")\n",
    "    \n",
    "g = nx.from_pandas_edgelist(devccf_index, source='Parent ID', target='ID', \n",
    "                            create_using=nx.DiGraph())\n",
    "devccf_index = devccf_index.set_index('Acronym')\n",
    "th_ids = list(set.union(*(set(nx.descendants(g, devccf_index.loc[x, 'ID'])) \n",
    "                   for x in th_top_level)))\n",
    "th_names = devccf_index.reset_index().set_index('ID').loc[th_ids, 'Acronym']"
   ]
  },
  {
   "cell_type": "code",
   "execution_count": 23,
   "metadata": {},
   "outputs": [],
   "source": [
    "len(th_ids)"
   ]
  },
  {
   "cell_type": "code",
   "execution_count": 32,
   "metadata": {},
   "outputs": [],
   "source": [
    "devccf_index = pd.read_csv(\"/data/KimLabDevCCFv001/KimLabDevCCFv001_MouseOntologyStructure.csv\",\n",
    "                           dtype={'ID':int, 'Parent ID':str})\n",
    "# some quotes have both single and double\n",
    "for x in ['Acronym','Name']:\n",
    "    devccf_index[x] = devccf_index[x].str.replace(\"'\",\"\")\n",
    "    \n"
   ]
  },
  {
   "cell_type": "code",
   "execution_count": 35,
   "metadata": {},
   "outputs": [],
   "source": [
    "pd.Series([0,1]).map(\n",
    "    devccf_index.set_index('ID').to_dict())"
   ]
  },
  {
   "cell_type": "code",
   "execution_count": null,
   "metadata": {},
   "outputs": [],
   "source": []
  }
 ],
 "metadata": {
  "kernelspec": {
   "display_name": "base",
   "language": "python",
   "name": "python3"
  },
  "language_info": {
   "codemirror_mode": {
    "name": "ipython",
    "version": 3
   },
   "file_extension": ".py",
   "mimetype": "text/x-python",
   "name": "python",
   "nbconvert_exporter": "python",
   "pygments_lexer": "ipython3",
   "version": "3.9.12"
  }
 },
 "nbformat": 4,
 "nbformat_minor": 2
}
