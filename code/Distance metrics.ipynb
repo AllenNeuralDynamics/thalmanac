{
 "cells": [
  {
   "cell_type": "markdown",
   "id": "0578723e-a80f-4084-aee5-60597e9d3c49",
   "metadata": {},
   "source": [
    "Notebook looking at distance metrics between clusters"
   ]
  },
  {
   "cell_type": "code",
   "execution_count": 2,
   "id": "6380905c-d4e0-4fca-ac83-24142ec06421",
   "metadata": {},
   "outputs": [],
   "source": [
    "import anndata as ad\n",
    "import pandas as pd\n",
    "import scanpy as sc\n",
    "%matplotlib inline\n",
    "\n",
    "import numpy as np\n",
    "import matplotlib.pyplot as plt\n",
    "import matplotlib.colors\n",
    "import seaborn as sns\n",
    "from sklearn import metrics\n",
    "from sklearn.metrics import pairwise_distances"
   ]
  },
  {
   "cell_type": "code",
   "execution_count": 3,
   "id": "ccad020a-6519-40b4-8dbf-f4854bef460e",
   "metadata": {},
   "outputs": [],
   "source": [
    "# Load sequencing data\n",
    "seqData = ad.read_h5ad(\"../data/rnaseq_AIT17.2_2022-12-15_12-00-00/rnaseq/processed.U19_TH-EPI.postQC.h5ad\")"
   ]
  },
  {
   "cell_type": "code",
   "execution_count": 4,
   "id": "ce7245af-cd0a-4a92-a291-7a83ba6e6ce9",
   "metadata": {},
   "outputs": [],
   "source": [
    "# Subset to anterior thalamic nuclei (ATN). Each nucleus is composed of two clusters\n",
    "atnGroup = [\"1095 AD Serpinb7 Glut\", \"1096 AD Serpinb7 Glut\",\"1097 AV Col27a1 Glut\",\"1098 AV Col27a1 Glut\",\"1169 TH Prkcd Grin2c Glut_9\", \"1171 TH Prkcd Grin2c Glut_9\"]\n",
    "atnData = seqData[seqData.obs[\"cluster_label\"].isin(atnGroup)]"
   ]
  },
  {
   "cell_type": "code",
   "execution_count": 5,
   "id": "9ae93bd7-e5f5-4db3-b5cd-c5e55e2d8b4b",
   "metadata": {},
   "outputs": [],
   "source": [
    "# Compare clusters pairwise\n",
    "for cl in atnGroup:\n",
    "    sc.tl.rank_genes_groups(atnData,groupby=\"cluster_label\",reference = cl, pts = True,key_added=cl)"
   ]
  },
  {
   "cell_type": "code",
   "execution_count": 61,
   "id": "29769364-596e-4fc4-b10a-b6d202aa5833",
   "metadata": {},
   "outputs": [],
   "source": [
    "def getDEGs(seqData,refGroup, degGroups = False, nGenes = 1,):\n",
    "    # Function to select a requested number of genes from a previously computed scanpy \"rank_gene_groups\" object\n",
    "    \n",
    "    # Check that requested reference groups are present within the provided annData object.\n",
    "    seqGroups = set(seqData.uns.keys())\n",
    "    if not set(refGroup).issubset(seqGroups):\n",
    "        raise Exception(\"Could not find keys corresponding to requested reference groups. Run sc.tl.rank_gene_groups with the proper keys added.\")\n",
    "    \n",
    "    # Take the top nGenes from each pairwise comparison\n",
    "    degs = []\n",
    "    for ref in refGroup:\n",
    "        # Pull from specific groups if requested, otherwise all pairwise combinations\n",
    "        if degGroups:\n",
    "            useGroups = set(degGroups) - set([ref])\n",
    "            for cl in useGroups:\n",
    "                degs.extend(seqData.uns[ref][\"names\"][cl][0:nGenes])\n",
    "        \n",
    "        # Iterate through all groups if requested\n",
    "        else:\n",
    "            for cl in seqData.uns[ref][\"names\"].dtype.names:\n",
    "                degs.extend(seqData.uns[ref][\"names\"][cl][0:nGenes])\n",
    "            \n",
    "    # Make genes unique\n",
    "    degs = list(np.unique(degs))\n",
    "    return degs"
   ]
  },
  {
   "cell_type": "code",
   "execution_count": 7,
   "id": "0a1d08b3-aeae-4923-bb10-82c013f37034",
   "metadata": {},
   "outputs": [],
   "source": [
    "def calcSil(seqData,degs,group = \"Level2_id_label\",metric = \"l1\",showPrint = True, showPlot = True):\n",
    "    # Function to calculate silhouette coefficient for each cell using a given feature set \"degs\". Prints mean coefficient and/or plots histograms for each group.\n",
    "    \n",
    "    x = seqData[:,degs].X.A\n",
    "    y = seqData.obs[group].to_numpy()\n",
    "    z = metrics.silhouette_samples(x, y, metric=metric,n_jobs = -1)\n",
    "    \n",
    "    if showPrint:\n",
    "        for cl in np.unique(y):\n",
    "            print(cl + ': ' + str(np.mean(z[y == cl])))\n",
    "        \n",
    "    if showPlot:\n",
    "        for cl in np.unique(y):\n",
    "            plt.hist(z[y == cl],bins=np.linspace(-1,1,100), edgecolor = 'black', alpha = .6, label = cl, density = True);\n",
    "        plt.legend()\n",
    "        \n",
    "    return z"
   ]
  },
  {
   "cell_type": "markdown",
   "id": "07516248-9aec-4ff0-b15e-a40d0643426b",
   "metadata": {},
   "source": [
    "### Compare subclass distances"
   ]
  },
  {
   "cell_type": "code",
   "execution_count": 27,
   "id": "d18064b7-acd6-4899-9fbb-f86f48740250",
   "metadata": {},
   "outputs": [],
   "source": [
    "# Look at silhouette coefficients for increasing numbers of DEGs\n",
    "for count, genes in enumerate([5,10,25]):\n",
    "    degs = getDEGs(atnData,atnGroup,nGenes = genes)\n",
    "    print(\"nGenes = \" + str(genes))\n",
    "    plt.subplot(3,1,count+1)\n",
    "    calcSil(atnData,degs)"
   ]
  },
  {
   "cell_type": "markdown",
   "id": "c5d6343d-b77d-4a1d-95ce-4cf5c05b5794",
   "metadata": {},
   "source": [
    "Increasing feature set reduces silhouette scores, even when adding differentially expressed genes. Maximal silhouette score is for the single most differentially expressed gene."
   ]
  },
  {
   "cell_type": "markdown",
   "id": "737efa7b-27c1-4fc9-816e-fe37b517e76f",
   "metadata": {},
   "source": [
    "### Compare intra subclass cluster silhouette distances"
   ]
  },
  {
   "cell_type": "code",
   "execution_count": 74,
   "id": "4d6c4d19-10b2-4fa6-9387-913bb2eb7ebb",
   "metadata": {},
   "outputs": [],
   "source": [
    "# First look at AD clusters\n",
    "usePair = atnGroup[0:2]\n",
    "# Subset to AD data\n",
    "pairData = atnData[atnData.obs[\"cluster_label\"].isin(usePair)]\n",
    "\n",
    "\n",
    "# Look at silhouette coefficients for increasing numbers of DEGs\n",
    "for count, genes in enumerate([1,10,25]):\n",
    "    degs = getDEGs(pairData,usePair,degGroups = usePair,nGenes = genes)\n",
    "    print(\"nGenes = \" + str(genes))\n",
    "    plt.subplot(3,1,count+1)\n",
    "    calcSil(pairData,degs,group=\"cluster_label\")"
   ]
  },
  {
   "cell_type": "code",
   "execution_count": 77,
   "id": "24b4b815-80a6-4eb2-83ec-0e9b704b6092",
   "metadata": {},
   "outputs": [],
   "source": [
    "# First look at AV clusters\n",
    "usePair = atnGroup[2:4]\n",
    "# Subset to AV data\n",
    "pairData = atnData[atnData.obs[\"cluster_label\"].isin(usePair)]\n",
    "\n",
    "\n",
    "# Look at silhouette coefficients for increasing numbers of DEGs\n",
    "for count, genes in enumerate([1,10,25]):\n",
    "    degs = getDEGs(pairData,usePair,degGroups = usePair,nGenes = genes)\n",
    "    print(\"nGenes = \" + str(genes))\n",
    "    plt.subplot(3,1,count+1)\n",
    "    calcSil(pairData,degs,group=\"cluster_label\")"
   ]
  },
  {
   "cell_type": "code",
   "execution_count": 78,
   "id": "44867ab5-c9de-4853-a80f-d6fdb4a6b92d",
   "metadata": {},
   "outputs": [],
   "source": [
    "# First look at AM clusters\n",
    "usePair = atnGroup[4:6]\n",
    "# Subset to AM data\n",
    "pairData = atnData[atnData.obs[\"cluster_label\"].isin(usePair)]\n",
    "\n",
    "\n",
    "# Look at silhouette coefficients for increasing numbers of DEGs\n",
    "for count, genes in enumerate([1,10,25]):\n",
    "    degs = getDEGs(pairData,usePair,degGroups = usePair,nGenes = genes)\n",
    "    print(\"nGenes = \" + str(genes))\n",
    "    plt.subplot(3,1,count+1)\n",
    "    calcSil(pairData,degs,group=\"cluster_label\")"
   ]
  },
  {
   "cell_type": "code",
   "execution_count": null,
   "id": "10ef4f28-dc46-406c-a738-d1dfe9ee9b1a",
   "metadata": {},
   "outputs": [],
   "source": []
  },
  {
   "cell_type": "code",
   "execution_count": 6,
   "id": "254ce3f8-be11-46c9-b969-3b3ccd76bfff",
   "metadata": {},
   "outputs": [],
   "source": [
    "for cl in np.unique(y):\n",
    "    print(cl + ': ' + str(np.mean(z[y == cl])))"
   ]
  },
  {
   "cell_type": "code",
   "execution_count": 7,
   "id": "6f006edb-7cbd-4638-913f-53fa9b5468a5",
   "metadata": {},
   "outputs": [],
   "source": [
    "for cl in np.unique(y):\n",
    "    plt.hist(z[y == cl],bins=np.linspace(-1,1,100), edgecolor = 'black', alpha = .6, label = cl, density = True);\n",
    "    \n",
    "plt.legend()"
   ]
  },
  {
   "cell_type": "code",
   "execution_count": 46,
   "id": "678d11f0-c4b6-4523-8960-398dc84710a4",
   "metadata": {},
   "outputs": [],
   "source": [
    "degs = [\"C1ql2\",\"Foxp1\",\"Itga4\"]\n",
    "# Subset to top nGenes, compute silhouette samples\n",
    "x = atnData[:,degs].X.A\n",
    "y = atnData.obs[\"cluster_label\"].to_numpy()\n",
    "z = metrics.silhouette_samples(x, y, metric='l1',n_jobs = -1)\n",
    "\n",
    "for cl in np.unique(y):\n",
    "    print(cl + ': ' + str(np.mean(z[y == cl])))\n",
    "    \n",
    "for cl in np.unique(y):\n",
    "    plt.hist(z[y == cl],bins=np.linspace(-1,1,100), edgecolor = 'black', alpha = .6, label = cl, density = True);\n",
    "    \n",
    "plt.legend()"
   ]
  },
  {
   "cell_type": "code",
   "execution_count": null,
   "id": "091e00cf-fb22-4bea-8039-dbbee990e973",
   "metadata": {},
   "outputs": [],
   "source": []
  },
  {
   "cell_type": "code",
   "execution_count": 36,
   "id": "e18d9e0c-8540-4eb0-9548-c39b6b48e3ac",
   "metadata": {},
   "outputs": [],
   "source": [
    "# Take the top nGenes from each pairwise comparison\n",
    "nGenes = 1\n",
    "degs = []\n",
    "for ref in atnGroup:\n",
    "    for cl in atnData.uns[ref][\"names\"].dtype.names:\n",
    "        degs.extend(atnData.uns[ref][\"names\"][cl][0:nGenes])\n",
    "        \n",
    "# Subset to top nGenes, compute silhouette samples\n",
    "x = atnData[:,degs].X.A\n",
    "y = atnData.obs[\"Level2_id_label\"].to_numpy()\n",
    "z = metrics.silhouette_samples(x, y, metric='l1',n_jobs = -1)"
   ]
  },
  {
   "cell_type": "code",
   "execution_count": 30,
   "id": "0b2762ed-88a8-4eb2-948e-541b96528945",
   "metadata": {},
   "outputs": [],
   "source": [
    "x = atnData[:,degs].X.A\n",
    "y = atnData.obs[\"Level2_id_label\"].to_numpy()\n",
    "z = metrics.silhouette_samples(x, y, metric='l1',n_jobs = -1)"
   ]
  },
  {
   "cell_type": "code",
   "execution_count": null,
   "id": "04041428-38f6-4601-9240-6ecb5369aabb",
   "metadata": {},
   "outputs": [],
   "source": []
  },
  {
   "cell_type": "code",
   "execution_count": null,
   "id": "c2aeef32-0425-468e-8465-d84b13d5fdd4",
   "metadata": {},
   "outputs": [],
   "source": []
  },
  {
   "cell_type": "code",
   "execution_count": null,
   "id": "e4bfb19e-3d16-49cb-ac69-06d1cdf9cfef",
   "metadata": {},
   "outputs": [],
   "source": []
  },
  {
   "cell_type": "code",
   "execution_count": 3,
   "id": "b0415b06-f497-438f-8184-6e6e59d83830",
   "metadata": {},
   "outputs": [],
   "source": [
    "atnGroup = [\"1095 AD Serpinb7 Glut\", \"1096 AD Serpinb7 Glut\",\"1097 AV Col27a1 Glut\",\"1098 AV Col27a1 Glut\"]\n",
    "atnData = seqData[seqData.obs[\"cluster_label\"].isin(atnGroup)]"
   ]
  },
  {
   "cell_type": "code",
   "execution_count": 18,
   "id": "25474ab0-3ab9-429e-beaf-0cf2870617e9",
   "metadata": {},
   "outputs": [],
   "source": [
    "x = atnData.X.A\n",
    "y = atnData.obs[\"Level2_id_label\"]"
   ]
  },
  {
   "cell_type": "code",
   "execution_count": 19,
   "id": "9436befe-0298-4836-a190-fa77437d903b",
   "metadata": {},
   "outputs": [],
   "source": [
    "metrics.silhouette_score(x, y, metric='l1')"
   ]
  },
  {
   "cell_type": "code",
   "execution_count": 20,
   "id": "530ebfa5-f265-48bf-9539-5fb7869afb04",
   "metadata": {},
   "outputs": [],
   "source": [
    "# n_jobs = -1 # Use all cores"
   ]
  },
  {
   "cell_type": "code",
   "execution_count": 22,
   "id": "6cf40fa5-7c43-47a8-8a20-af1d7420f061",
   "metadata": {},
   "outputs": [],
   "source": [
    "degs = [\"C1ql2\",\"Npsr1\"]\n",
    "# degs = [\"C1ql2\",\"Npsr1\",\"Itga4\",\"Hcn1\",\"Ramp3\"]"
   ]
  },
  {
   "cell_type": "code",
   "execution_count": 42,
   "id": "789a3d19-a403-4140-b695-dc66c5cf6078",
   "metadata": {},
   "outputs": [],
   "source": [
    "x = atnData[0:1500,degs].X.A\n",
    "y = atnData[0:1500,:].obs[\"Level2_id_label\"].to_numpy()\n",
    "metrics.silhouette_score(x, y, metric='l1',n_jobs = -1)"
   ]
  },
  {
   "cell_type": "code",
   "execution_count": 43,
   "id": "312dfd27-1fa5-4f95-bc40-a0e4c7e7ad54",
   "metadata": {},
   "outputs": [],
   "source": [
    "unique, counts = np.unique(y, return_counts=True)\n",
    "print(counts)"
   ]
  },
  {
   "cell_type": "code",
   "execution_count": 45,
   "id": "07aa0b9f-c47a-4c78-b660-f54249e813a5",
   "metadata": {},
   "outputs": [],
   "source": [
    "x = atnData[:,degs].X.A\n",
    "y = atnData.obs[\"Level2_id_label\"].to_numpy()\n",
    "metrics.silhouette_score(x, y, metric='l1',n_jobs = -1)"
   ]
  },
  {
   "cell_type": "code",
   "execution_count": 47,
   "id": "78f87294-ce1d-4b5e-8229-0f3c497e016a",
   "metadata": {},
   "outputs": [],
   "source": [
    "degs = [\"C1ql2\",\"Npsr1\",\"Itga4\",\"Hcn1\"]\n",
    "x = atnData[:,degs].X.A\n",
    "y = atnData.obs[\"Level2_id_label\"].to_numpy()\n",
    "metrics.silhouette_score(x, y, metric='l1',n_jobs = -1)"
   ]
  },
  {
   "cell_type": "code",
   "execution_count": 72,
   "id": "b6da3e1a-8cec-4906-a35a-f252288f7af8",
   "metadata": {},
   "outputs": [],
   "source": [
    "degs = list(atnData.var_names[0:500])\n",
    "degs.append('C1ql2')\n",
    "degs.append('Npsr1')\n",
    "x = atnData[:,degs].X.A\n",
    "y = atnData.obs[\"Level2_id_label\"].to_numpy()\n",
    "metrics.silhouette_score(x, y, metric='l1',n_jobs = -1)"
   ]
  },
  {
   "cell_type": "code",
   "execution_count": 62,
   "id": "7250847b-90e6-43c2-a2e3-00b26de48f75",
   "metadata": {},
   "outputs": [],
   "source": [
    "degs = [\"C1ql2\",\"Npsr1\"]\n",
    "x = atnData[0:1500,degs].X.A\n",
    "y = atnData[0:1500,:].obs[\"Level2_id_label\"].to_numpy()\n",
    "z = metrics.pairwise_distances(x,metric='l1',n_jobs=-1)\n",
    "plt.imshow(z)"
   ]
  },
  {
   "cell_type": "code",
   "execution_count": 28,
   "id": "0c05ac32-3068-4731-b680-2e345abdb3ba",
   "metadata": {},
   "outputs": [],
   "source": [
    "# Compare clusters pairwise\n",
    "for cl in atnGroup:\n",
    "    sc.tl.rank_genes_groups(atnData,groupby=\"cluster_label\",reference = cl, pts = True,key_added=cl)"
   ]
  },
  {
   "cell_type": "code",
   "execution_count": 93,
   "id": "0d022f07-2c24-4774-9532-59286bdec39f",
   "metadata": {},
   "outputs": [],
   "source": [
    "# Take the top nGenes from each pairwise comparison\n",
    "nGenes = 5\n",
    "degs = []\n",
    "for ref in atnGroup:\n",
    "    for cl in atnData.uns[ref][\"names\"].dtype.names:\n",
    "        degs.extend(atnData.uns[ref][\"names\"][cl][0:nGenes])"
   ]
  },
  {
   "cell_type": "code",
   "execution_count": 98,
   "id": "4f3a5ed8-3f65-44c8-a3f7-7eb2f482bb4e",
   "metadata": {},
   "outputs": [],
   "source": [
    "x = atnData[:,degs].X.A\n",
    "y = atnData.obs[\"Level2_id_label\"].to_numpy()\n",
    "\n",
    "# x = atnData[0:1500,degs].X.A\n",
    "# y = atnData[0:1500,:].obs[\"Level2_id_label\"].to_numpy()\n",
    "# y = atnData[0:1500,:].obs[\"cluster_label\"].to_numpy()\n",
    "z = metrics.silhouette_samples(x, y, metric='l1',n_jobs = -1)\n",
    "plt.plot(z)"
   ]
  }
 ],
 "metadata": {
  "kernelspec": {
   "display_name": "Python 3",
   "language": "python",
   "name": "python3"
  },
  "language_info": {
   "codemirror_mode": {
    "name": "ipython",
    "version": 3
   },
   "file_extension": ".py",
   "mimetype": "text/x-python",
   "name": "python",
   "nbconvert_exporter": "python",
   "pygments_lexer": "ipython3",
   "version": "3.9.12"
  }
 },
 "nbformat": 4,
 "nbformat_minor": 5
}
