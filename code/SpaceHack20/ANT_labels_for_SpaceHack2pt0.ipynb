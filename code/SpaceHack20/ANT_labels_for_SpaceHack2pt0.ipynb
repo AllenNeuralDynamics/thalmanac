{
 "cells": [
  {
   "cell_type": "code",
   "execution_count": 1,
   "id": "850bd879-8d46-4896-a94d-af1d1659da12",
   "metadata": {
    "tags": []
   },
   "outputs": [],
   "source": [
    "import anndata as ad\n",
    "import pandas as pd\n",
    "import matplotlib.pyplot as plt\n",
    "import seaborn as sns\n",
    "\n",
    "from thalamus_merfish_analysis import abc_load as abc\n",
    "from thalamus_merfish_analysis import ccf_polygons as cshapes\n",
    "from thalamus_merfish_analysis import ccf_plots as cplots\n",
    "\n",
    "# from colorcet import glasbey\n",
    "import scanpy as sc\n",
    "\n",
    "%matplotlib inline"
   ]
  },
  {
   "cell_type": "markdown",
   "id": "8fe9a47c-2a46-4f59-997f-bd765692024a",
   "metadata": {},
   "source": [
    "# Load abc data"
   ]
  },
  {
   "cell_type": "code",
   "execution_count": 2,
   "id": "3807c6cd-8467-4c1d-af95-0017ad6c5923",
   "metadata": {
    "tags": []
   },
   "outputs": [],
   "source": [
    "adata = abc.load_adata(version='20230830', transform='log2', \n",
    "                       subset_to_TH_ZI=True,\n",
    "                       flip_y=True, with_metadata=True, with_colors=True)\n",
    "_CIRRO_COLUMNS = {\n",
    "    'x':'cirro_x',\n",
    "    'y':'cirro_y',\n",
    "    'x_section':'cirro_x',\n",
    "    'y_section':'cirro_y',\n",
    "    'brain_section_label':'section',\n",
    "    'parcellation_substructure':'CCF_acronym'\n",
    "}\n",
    "adata.obs = adata.obs.rename(columns=_CIRRO_COLUMNS)"
   ]
  },
  {
   "cell_type": "code",
   "execution_count": 4,
   "id": "3988bb9c-c49d-464f-9d76-5b7a482638dd",
   "metadata": {
    "tags": []
   },
   "outputs": [],
   "source": [
    "# filter out non-neurons, midbrain neurons\n",
    "adata = abc.filter_adata_by_class(adata, filter_nonneuronal=True, \n",
    "                                  filter_midbrain=True)"
   ]
  },
  {
   "cell_type": "code",
   "execution_count": 5,
   "id": "dd8d317e-eebd-4a78-ab1b-8748af7a7e9b",
   "metadata": {
    "tags": []
   },
   "outputs": [],
   "source": [
    "adata"
   ]
  },
  {
   "cell_type": "markdown",
   "id": "b7f5d7f6-27ba-45bc-a48d-f0de29b5c97e",
   "metadata": {},
   "source": [
    "# plotting function(s)"
   ]
  },
  {
   "cell_type": "code",
   "execution_count": 48,
   "id": "a2cf2941-f082-4037-be0c-bfc145e9d0ce",
   "metadata": {
    "tags": []
   },
   "outputs": [],
   "source": [
    "import anndata as ad\n",
    "import numpy as np\n",
    "import pandas as pd\n",
    "\n",
    "import matplotlib.pyplot as plt\n",
    "from matplotlib import colors\n",
    "from matplotlib.lines import Line2D\n",
    "%matplotlib inline\n",
    "\n",
    "def plot_dataset(adata, column='class', z_sections=None, legend=True):\n",
    "    \n",
    "    cell_df = adata.obs\n",
    "\n",
    "    # define legend elements for the column colors\n",
    "    color_col = column+'_color'\n",
    "    categories = cell_df[column].unique()\n",
    "    cat_color_mapping = dict(zip(categories, cell_df[color_col].unique()))\n",
    "    # sort the dict & the categories list by category\n",
    "    cat_color_mapping = dict(sorted(cat_color_mapping.items()))\n",
    "    categories = sorted(categories)\n",
    "    legend_elements = [Line2D([0], [0], \n",
    "                              lw=0, marker='o', markersize=10,\n",
    "                              markerfacecolor=cat_color_mapping[cat],\n",
    "                              color=cat_color_mapping[cat], \n",
    "                              label=cat) \n",
    "                       for cat in cat_color_mapping]\n",
    "    \n",
    "    if z_sections==None:\n",
    "        z_sections = sorted(cell_df['z_reconstructed'].unique())\n",
    "    \n",
    "    n_col = 1\n",
    "    n_row = int(np.ceil(len(z_sections) / n_col))\n",
    "    fig, axes = plt.subplots(n_row, n_col, figsize=(10,20))\n",
    "    axes = axes.ravel()\n",
    "\n",
    "    # x_min = 2.5; x_max = 8.5; y_min = 7.5; y_max = 4\n",
    "\n",
    "    for i, sec in enumerate(z_sections):\n",
    "        ax = axes[i]\n",
    "\n",
    "        curr_sec_cell_df = cell_df[(cell_df['z_reconstructed']>=sec)\n",
    "                                   & (cell_df['z_reconstructed']<(sec+0.1))]\n",
    "\n",
    "        sc = ax.scatter(curr_sec_cell_df['x_reconstructed'], curr_sec_cell_df['y_reconstructed'],\n",
    "                        color=curr_sec_cell_df[column+'_color'],\n",
    "                        s=7, marker='.', zorder=1)\n",
    "        ax.set_title('z='+str(sec))\n",
    "\n",
    "        # ax.set_xlim((x_min,x_max))\n",
    "        # ax.set_ylim((y_min,y_max))\n",
    "        ax.set_xlabel('x_reconstructed')\n",
    "        ax.set_ylabel('y_reconstructed')\n",
    "        ax.axis('equal')\n",
    "        ax.axis('off')\n",
    "        # ax.set_xticks([])\n",
    "        # ax.set_yticks([])\n",
    "\n",
    "        if legend & (i==3):\n",
    "            ax.legend(legend_elements, categories, title='class', \n",
    "                      loc='center left', bbox_to_anchor=(1.1,0.5))"
   ]
  },
  {
   "cell_type": "code",
   "execution_count": 52,
   "id": "e98df277-6000-49e8-8e41-a09d537021db",
   "metadata": {
    "tags": []
   },
   "outputs": [],
   "source": [
    "sections_3 = [6.4, 7.2, 8.0]\n",
    "sections_4 = [5.6, 6.4, 7.2, 8.0]\n",
    "plot_dataset(adata, column='subclass', z_sections=sections_4, legend=False)"
   ]
  },
  {
   "cell_type": "code",
   "execution_count": 49,
   "id": "0a1b9e69-30bb-4ffe-beec-2bbce9b7add2",
   "metadata": {
    "tags": []
   },
   "outputs": [],
   "source": [
    "plot_dataset(adata, column='supertype', z_sections=sections_3, legend=False)"
   ]
  },
  {
   "cell_type": "code",
   "execution_count": 50,
   "id": "7df91527-df3e-4b01-8139-388bb7eee229",
   "metadata": {
    "tags": []
   },
   "outputs": [],
   "source": [
    "plot_dataset(adata, column='cluster', z_sections=sections_3, legend=False)"
   ]
  },
  {
   "cell_type": "code",
   "execution_count": null,
   "id": "ce93e3df-6b3d-4aca-af79-35ed3edde086",
   "metadata": {},
   "outputs": [],
   "source": []
  }
 ],
 "metadata": {
  "kernelspec": {
   "display_name": "Python 3 (ipykernel)",
   "language": "python",
   "name": "python3"
  },
  "language_info": {
   "codemirror_mode": {
    "name": "ipython",
    "version": 3
   },
   "file_extension": ".py",
   "mimetype": "text/x-python",
   "name": "python",
   "nbconvert_exporter": "python",
   "pygments_lexer": "ipython3",
   "version": "3.9.12"
  }
 },
 "nbformat": 4,
 "nbformat_minor": 5
}
