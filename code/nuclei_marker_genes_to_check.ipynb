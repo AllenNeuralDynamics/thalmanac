{
 "cells": [
  {
   "cell_type": "code",
   "execution_count": 1,
   "id": "29e5b98f-349b-4b01-97d0-0a925366ff75",
   "metadata": {},
   "outputs": [],
   "source": [
    "import os\n",
    "import pandas as pd\n",
    "import anndata as ad"
   ]
  },
  {
   "cell_type": "code",
   "execution_count": 2,
   "id": "2fceac20-e09a-4147-bbf8-1025010b6b9d",
   "metadata": {},
   "outputs": [],
   "source": [
    "root_dir = '/root/capsule'"
   ]
  },
  {
   "cell_type": "code",
   "execution_count": 3,
   "id": "0bb5eb87-8e6f-4477-84a5-808a9aadc4ff",
   "metadata": {},
   "outputs": [],
   "source": [
    "marker_gene_csv = pd.read_csv(os.path.join(root_dir,'resources/thalamic_nuclei_marker_genes_from_Wang2020.csv'))"
   ]
  },
  {
   "cell_type": "code",
   "execution_count": 4,
   "id": "bf61a543-e564-4d96-a062-14d9b3664dd8",
   "metadata": {},
   "outputs": [],
   "source": [
    "marker_gene_csv"
   ]
  },
  {
   "cell_type": "code",
   "execution_count": 11,
   "id": "be3c1033-be33-4ca1-a915-8e0b72831fbe",
   "metadata": {},
   "outputs": [],
   "source": [
    "# Find marker genes for the specified nucleus\n",
    "nucleus_abbrv = 'AD'\n",
    "\n",
    "nucleus_df = marker_gene_csv[(marker_gene_csv['structure abbreviation']==nucleus_abbrv)]\n",
    "\n",
    "print('All potential marker genes from Wang et al 2020: ', nucleus_df['gene symbol'].values)"
   ]
  },
  {
   "cell_type": "code",
   "execution_count": 12,
   "id": "c5f41733-a3ff-4771-9373-4a070640e676",
   "metadata": {},
   "outputs": [],
   "source": [
    "# subset to highlight just those marker genes that are:\n",
    "#   (a) found in at least one MERFISH gene panel\n",
    "#   (b) also flagged as expressed in this nucleus by Nagalski et al 2016\n",
    "\n",
    "nucleus_df_subset = marker_gene_csv[(marker_gene_csv['structure abbreviation']==nucleus_abbrv) \n",
    "                                     & (marker_gene_csv['is_in_brain1_gene_panel'] \n",
    "                                        | marker_gene_csv['is_in_brain3_gene_panel'])\n",
    "                                     &  marker_gene_csv['is_expressed_Nagalski2016']]\n",
    "\n",
    "print('Strong potential as marker genes: ', nucleus_df_subset['gene symbol'].values)\n",
    "\n",
    "nucleus_df_subset"
   ]
  },
  {
   "cell_type": "code",
   "execution_count": null,
   "id": "a7e59b2d-6e82-47bb-9ddf-554a4a0b5804",
   "metadata": {},
   "outputs": [],
   "source": []
  }
 ],
 "metadata": {
  "kernelspec": {
   "display_name": "Python 3",
   "language": "python",
   "name": "python3"
  },
  "language_info": {
   "codemirror_mode": {
    "name": "ipython",
    "version": 3
   },
   "file_extension": ".py",
   "mimetype": "text/x-python",
   "name": "python",
   "nbconvert_exporter": "python",
   "pygments_lexer": "ipython3",
   "version": "3.9.12"
  }
 },
 "nbformat": 4,
 "nbformat_minor": 5
}
