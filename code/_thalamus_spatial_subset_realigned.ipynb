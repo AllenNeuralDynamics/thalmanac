{
 "cells": [
  {
   "cell_type": "code",
   "execution_count": 1,
   "metadata": {
    "tags": []
   },
   "outputs": [],
   "source": [
    "%load_ext autoreload\n",
    "%autoreload 2"
   ]
  },
  {
   "cell_type": "code",
   "execution_count": 1,
   "metadata": {
    "tags": []
   },
   "outputs": [],
   "source": [
    "from thalamus_merfish_analysis import abc_load as abc"
   ]
  },
  {
   "cell_type": "code",
   "execution_count": 2,
   "metadata": {
    "tags": []
   },
   "outputs": [],
   "source": [
    "import nibabel\n",
    "import anndata as ad\n",
    "import numpy as np\n",
    "import pandas as pd\n",
    "import scipy.ndimage as ndi\n",
    "\n",
    "import seaborn as sns\n",
    "import matplotlib.pyplot as plt\n",
    "from matplotlib import colors\n",
    "from matplotlib.lines import Line2D\n",
    "%matplotlib inline"
   ]
  },
  {
   "cell_type": "markdown",
   "metadata": {},
   "source": [
    "## walkthrough of abc.label_thalamus_spatial_subset()"
   ]
  },
  {
   "cell_type": "code",
   "execution_count": 43,
   "metadata": {},
   "outputs": [],
   "source": [
    "cells_df = abc.get_combined_metadata(drop_unused=False)"
   ]
  },
  {
   "cell_type": "code",
   "execution_count": 44,
   "metadata": {
    "tags": []
   },
   "outputs": [],
   "source": [
    "ccf_df = pd.read_csv(\n",
    "        abc.ABC_ROOT/\"metadata/Allen-CCF-2020/20230630/parcellation_to_parcellation_term_membership.csv\"\n",
    "        )"
   ]
  },
  {
   "cell_type": "code",
   "execution_count": 45,
   "metadata": {
    "tags": []
   },
   "outputs": [],
   "source": [
    "th_zi_ind = np.hstack(\n",
    "        (ccf_df.loc[ccf_df['parcellation_term_acronym']=='TH', \n",
    "                    'parcellation_index'].unique(),\n",
    "             ccf_df.loc[ccf_df['parcellation_term_acronym']=='ZI', \n",
    "                    'parcellation_index'].unique())\n",
    ")\n",
    "len(th_zi_ind)\n",
    "# th_zi_ind"
   ]
  },
  {
   "cell_type": "code",
   "execution_count": 46,
   "id": "6a6541b3",
   "metadata": {},
   "outputs": [],
   "source": [
    "\n",
    "import nibabel\n",
    "img = nibabel.load(\"/data/realigned/abc_realigned_ccf_labels.nii.gz\")\n",
    "# could maybe keep the lazy dataobj and not convert to numpy?\n",
    "ccf_img = np.array(img.dataobj)"
   ]
  },
  {
   "cell_type": "markdown",
   "metadata": {},
   "source": [
    "## resampled ccf (z resolution limited to merscope slices)"
   ]
  },
  {
   "cell_type": "code",
   "execution_count": 47,
   "metadata": {
    "tags": []
   },
   "outputs": [],
   "source": [
    "# takes about 5 sec\n",
    "th_mask = np.isin(ccf_img, th_zi_ind)"
   ]
  },
  {
   "cell_type": "code",
   "execution_count": 48,
   "metadata": {
    "tags": []
   },
   "outputs": [],
   "source": [
    "plt.imshow(th_mask[:,:,35].T,cmap='gray') #, extent=(0,11,0,11))"
   ]
  },
  {
   "cell_type": "markdown",
   "metadata": {},
   "source": [
    "## comparison to subclasses"
   ]
  },
  {
   "cell_type": "code",
   "execution_count": 49,
   "metadata": {
    "tags": []
   },
   "outputs": [],
   "source": [
    "th_subclasses = ['168 SPA-SPFm-SPFp-POL-PIL-PoT Sp9 Glut', '101 ZI Pax6 Gaba',\n",
    "                  '109 LGv-ZI Otx2 Gaba', '093 RT-ZI Gnb3 Gaba',\n",
    "                  '149 PVT-PT Ntrk1 Glut', '151 TH Prkcd Grin2c Glut',\n",
    "                  '152 RE-Xi Nox4 Glut', '154 PF Fzd5 Glut',\n",
    "                  '203 LGv-SPFp-SPFm Nkx2-2 Tcf7l2 Gaba',\n",
    "                  '148 AV Col27a1 Glut', '146 LH Pou4f1 Sox1 Glut',\n",
    "                  '147 AD Serpinb7 Glut', '153 MG-POL-SGN Nts Glut',\n",
    "                  '110 BST-po Iigp1 Glut', '150 CM-IAD-CL-PCN Sema5b Glut',\n",
    "                  '145 MH Tac2 Glut']\n",
    "cells_df['thal_subclass'] = cells_df[\"subclass\"].isin(th_subclasses)"
   ]
  },
  {
   "cell_type": "code",
   "execution_count": 50,
   "metadata": {},
   "outputs": [],
   "source": [
    "cells_df.columns"
   ]
  },
  {
   "cell_type": "code",
   "execution_count": 51,
   "metadata": {
    "tags": []
   },
   "outputs": [],
   "source": [
    "field_name='TH_ZI_dataset'\n",
    "# use reconstructed (in MERFISH space) coordinates from cells_df\n",
    "# coords = ['x_reconstructed','y_reconstructed','z_reconstructed']\n",
    "coords = ['x_section','y_section','z_section']\n",
    "res = np.array([10e-3, 10e-3, 200e-3])"
   ]
  },
  {
   "cell_type": "code",
   "execution_count": 52,
   "metadata": {
    "tags": []
   },
   "outputs": [],
   "source": [
    "data = dict()\n",
    "for radius in [1,5,10,15,20,30,40]:\n",
    "    mask = abc.sectionwise_dilation(th_mask, radius)\n",
    "    abc._label_masked_cells(cells_df, mask, coords, res, field_name=field_name)\n",
    "    data[radius] = (cells_df.loc[cells_df['thal_subclass']]\n",
    "        .groupby(coords[2])[field_name].mean().loc[lambda x: x>0])"
   ]
  },
  {
   "cell_type": "code",
   "execution_count": 54,
   "metadata": {
    "tags": []
   },
   "outputs": [],
   "source": [
    "for i, xy in data.items():\n",
    "    plt.plot(xy, label=i)\n",
    "\n",
    "    # plt.ylim(0.2,1.1)\n",
    "plt.ylabel('Proportion selected')\n",
    "plt.xlabel('section z')\n",
    "plt.legend(title='Dilation iterations')\n",
    "plt.ylim(0,1)"
   ]
  },
  {
   "cell_type": "markdown",
   "metadata": {},
   "source": [
    "At ten iterations, this seems pretty safe (end sections were already dropped when generating the realigned ccf image)\n"
   ]
  },
  {
   "cell_type": "markdown",
   "metadata": {},
   "source": [
    "### visualize which cells are captured by the TH mask"
   ]
  },
  {
   "cell_type": "code",
   "execution_count": 55,
   "metadata": {
    "tags": []
   },
   "outputs": [],
   "source": [
    "def plot_th_mask_with_cell_overlay(cell_df, th_mask, th_zi_sections, \n",
    "                                   column='class'):\n",
    "\n",
    "    # make a fixed colormap for displaying thalamus mask\n",
    "    cmap_th_mask = colors.ListedColormap(['lightgrey', 'white'])\n",
    "    bounds=[0,1]\n",
    "    norm = colors.BoundaryNorm(bounds, cmap_th_mask.N)\n",
    "\n",
    "    # define legend elements for the column colors\n",
    "    color_col = column+'_color'\n",
    "    categories = cell_df[column].unique()\n",
    "    cat_color_mapping = dict(zip(categories, cell_df[color_col].unique()))\n",
    "    # sort the dict & the categories list by category\n",
    "    cat_color_mapping = dict(sorted(cat_color_mapping.items()))\n",
    "    categories = sorted(categories)\n",
    "    legend_elements = [Line2D([0], [0], \n",
    "                              lw=0, marker='o', markersize=10,\n",
    "                              markerfacecolor=cat_color_mapping[cat],\n",
    "                              color=cat_color_mapping[cat], \n",
    "                              label=cat) \n",
    "                       for cat in cat_color_mapping]\n",
    "    \n",
    "    n_col = 2\n",
    "    n_row = int(np.ceil(len(th_zi_sections) / n_col))\n",
    "    fig, axes = plt.subplots(n_row, n_col, figsize=(12,30))\n",
    "    axes = axes.ravel()\n",
    "\n",
    "    x_min = 2.5; x_max = 8.5; y_min = 7.5; y_max = 4\n",
    "\n",
    "    for i, sec in enumerate(th_zi_sections):\n",
    "        ax = axes[i]\n",
    "\n",
    "        curr_sec_cell_df = cell_df[(cell_df[coords[2]]==sec)]\n",
    "\n",
    "        ax.imshow(th_mask[:,:,int(np.rint(sec/0.2))].T, extent=[0, 11, 11, 0], zorder=0,\n",
    "                  cmap=cmap_th_mask, norm=norm)\n",
    "        sc = ax.scatter(curr_sec_cell_df[coords[0]], curr_sec_cell_df[coords[1]],\n",
    "                        color=curr_sec_cell_df['class_color'],\n",
    "                        s=0.5, marker='.', zorder=1)\n",
    "        ax.set_title('z='+str(sec))\n",
    "\n",
    "        ax.set_xlim((x_min,x_max))\n",
    "        ax.set_xlabel(coords[0])\n",
    "        ax.set_ylabel(coords[1])\n",
    "        ax.set_ylim((y_min,y_max))\n",
    "        ax.axis('off')\n",
    "        ax.set_xticks([])\n",
    "        ax.set_yticks([])\n",
    "\n",
    "        if i==7:\n",
    "            ax.legend(legend_elements, categories, title='class', \n",
    "                      loc='center left', bbox_to_anchor=(1.1,0.5))"
   ]
  },
  {
   "cell_type": "code",
   "execution_count": 56,
   "metadata": {
    "tags": []
   },
   "outputs": [],
   "source": [
    "# th_zi_sections = sorted(th_df['z_section'].unique())\n",
    "th_zi_sections = sorted(cells_df[coords[2]].unique())[19:35]\n",
    "th_mask_dilated = abc.sectionwise_dilation(th_mask, 10)"
   ]
  },
  {
   "cell_type": "code",
   "execution_count": 57,
   "metadata": {
    "tags": []
   },
   "outputs": [],
   "source": [
    "nn_classes = ['30 Astro-Epen', '31 OPC-Oligo', '32 OEC', '33 Vascular', '34 Immune']\n",
    "th_zi_classes = ['12 HY GABA', '13 CNU-HYa Glut','17 MH-LH Glut','18 TH Glut']"
   ]
  },
  {
   "cell_type": "markdown",
   "metadata": {
    "tags": []
   },
   "source": [
    "#### neuronal classes"
   ]
  },
  {
   "cell_type": "code",
   "execution_count": 58,
   "metadata": {
    "tags": []
   },
   "outputs": [],
   "source": [
    "neuronal_cells_df = cells_df[(~cells_df['class'].isin(nn_classes))\n",
    "                             & (cells_df[coords[2]].isin(th_zi_sections))\n",
    "                            ]  #& (cells_df['thal_subclass'])\n",
    "plot_th_mask_with_cell_overlay(neuronal_cells_df, th_mask_dilated, th_zi_sections, column='class')"
   ]
  },
  {
   "cell_type": "markdown",
   "metadata": {
    "tags": []
   },
   "source": [
    "#### thalamus classes only"
   ]
  },
  {
   "cell_type": "code",
   "execution_count": 59,
   "metadata": {
    "tags": []
   },
   "outputs": [],
   "source": [
    "neuronal_th_cells_df = cells_df[(~cells_df['class'].isin(nn_classes))\n",
    "                                & (cells_df[coords[2]].isin(th_zi_sections))\n",
    "                                & (cells_df['class'].isin(th_zi_classes))\n",
    "                               ]  \n",
    "plot_th_mask_with_cell_overlay(neuronal_th_cells_df, th_mask_dilated, th_zi_sections, column='class')"
   ]
  },
  {
   "cell_type": "markdown",
   "metadata": {
    "jp-MarkdownHeadingCollapsed": true,
    "tags": []
   },
   "source": [
    "#### thalamus subclasses only"
   ]
  },
  {
   "cell_type": "code",
   "execution_count": 60,
   "metadata": {
    "tags": []
   },
   "outputs": [],
   "source": [
    "neuronal_th_cells_df = cells_df[(~cells_df['class'].isin(nn_classes))\n",
    "                                & (cells_df[coords[2]].isin(th_zi_sections))\n",
    "                                & (cells_df['thal_subclass'])\n",
    "                               ]  \n",
    "plot_th_mask_with_cell_overlay(neuronal_th_cells_df, th_mask_dilated, th_zi_sections, column='class')"
   ]
  },
  {
   "cell_type": "markdown",
   "metadata": {},
   "source": [
    "# For reference, do not rerun"
   ]
  },
  {
   "cell_type": "code",
   "execution_count": 32,
   "metadata": {},
   "outputs": [],
   "source": [
    "# to break a \"run all\"\n",
    "assert False"
   ]
  },
  {
   "cell_type": "markdown",
   "metadata": {
    "tags": []
   },
   "source": [
    "### compare to Brian's outline dataset"
   ]
  },
  {
   "cell_type": "code",
   "execution_count": 63,
   "metadata": {
    "tags": []
   },
   "outputs": [],
   "source": [
    "# requires old brain 1 dataset to be attached!\n",
    "_THALAMUS_ANNDATA_PATH = \"/data/merfish_638850_AIT17.custom_CCF_annotated_TH_ZI_only_2023-05-04_00-00-00/atlas_brain_638850_AIT17_custom_CCF_annotated_TH_ZI_only.h5ad\"\n",
    "adata_ref = ad.read_h5ad(_THALAMUS_ANNDATA_PATH, backed='r')\n",
    "old_ids = adata_ref.obs_names.astype('string').intersection(cells_df.index)\n",
    "# old_ids = abc.get_thalamus_reference_ids().intersection(cells_df.index)\n",
    "new_ids = cells_df.query(field_name).index"
   ]
  },
  {
   "cell_type": "code",
   "execution_count": 64,
   "metadata": {
    "tags": []
   },
   "outputs": [],
   "source": [
    "\n",
    "len(old_ids.intersection(new_ids))"
   ]
  },
  {
   "cell_type": "code",
   "execution_count": 65,
   "metadata": {
    "tags": []
   },
   "outputs": [],
   "source": [
    "len(new_ids.difference(old_ids))"
   ]
  },
  {
   "cell_type": "code",
   "execution_count": 66,
   "metadata": {
    "tags": []
   },
   "outputs": [],
   "source": [
    "len(old_ids.difference(new_ids))"
   ]
  }
 ],
 "metadata": {
  "kernelspec": {
   "display_name": "Python 3 (ipykernel)",
   "language": "python",
   "name": "python3"
  },
  "language_info": {
   "codemirror_mode": {
    "name": "ipython",
    "version": 3
   },
   "file_extension": ".py",
   "mimetype": "text/x-python",
   "name": "python",
   "nbconvert_exporter": "python",
   "pygments_lexer": "ipython3",
   "version": "3.9.12"
  },
  "vscode": {
   "interpreter": {
    "hash": "d4d1e4263499bec80672ea0156c357c1ee493ec2b1c70f0acce89fc37c4a6abe"
   }
  }
 },
 "nbformat": 4,
 "nbformat_minor": 4
}
