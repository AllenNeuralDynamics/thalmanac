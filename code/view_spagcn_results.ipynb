{
 "cells": [
  {
   "cell_type": "code",
   "execution_count": 1,
   "metadata": {
    "tags": []
   },
   "outputs": [],
   "source": [
    "%load_ext autoreload\n",
    "%autoreload 2"
   ]
  },
  {
   "cell_type": "code",
   "execution_count": 2,
   "metadata": {
    "tags": []
   },
   "outputs": [],
   "source": [
    "import pandas as pd\n",
    "import anndata as ad\n",
    "import matplotlib.pyplot as plt\n",
    "import seaborn as sns\n",
    "import numpy as np\n",
    "\n",
    "from thalamus_merfish_analysis import ccf_plots as cplots\n",
    "from thalamus_merfish_analysis import ccf_images as cimg\n",
    "from thalamus_merfish_analysis import abc_load as abc\n",
    "import thalamus_merfish_analysis.distance_metrics as dm\n",
    "import spagcn_plots as spgplots\n",
    "get_ipython().run_line_magic('matplotlib', 'inline') "
   ]
  },
  {
   "cell_type": "markdown",
   "metadata": {
    "tags": []
   },
   "source": [
    "# Load ABC data + SpaGCN domains predictions"
   ]
  },
  {
   "cell_type": "code",
   "execution_count": 3,
   "metadata": {
    "tags": []
   },
   "outputs": [],
   "source": [
    "# load all cells in the brain \n",
    "# (realigned=True would load faster version)\n",
    "realigned=False\n",
    "obs = abc.get_combined_metadata(realigned=realigned, version=\"20230830\", \n",
    "                                drop_unused=False, flip_y=False, round_z=True)\n",
    "obs.index"
   ]
  },
  {
   "cell_type": "code",
   "execution_count": 4,
   "metadata": {
    "tags": []
   },
   "outputs": [],
   "source": [
    "# load in SpaGCN domain results\n",
    "# temporarily a static file in '../code/resources' until I get a reproducible run setup for the spagcn capsule\n",
    "spagcn_domains_df = pd.read_parquet('/code/resources/spagcn_predicated_domains.parquet')\n",
    "\n",
    "# need to convert to categories since they're imported as int64\n",
    "spagcn_domains_df = spagcn_domains_df.astype('category')\n",
    "spagcn_domains_df"
   ]
  },
  {
   "cell_type": "code",
   "execution_count": 5,
   "metadata": {
    "tags": []
   },
   "outputs": [],
   "source": [
    "# merge in & subset to just cells with SpaGCN domain predictions\n",
    "obs_spagcn = pd.merge(obs, spagcn_domains_df, on='cell_label', how='inner')\n",
    "obs_spagcn.columns"
   ]
  },
  {
   "cell_type": "markdown",
   "metadata": {},
   "source": [
    "## Set up other parameters"
   ]
  },
  {
   "cell_type": "code",
   "execution_count": 6,
   "metadata": {
    "tags": []
   },
   "outputs": [],
   "source": [
    "section_col = 'z_reconstructed'\n",
    "sections_all = sorted(obs_spagcn[section_col].unique())\n",
    "print(f'{sections_all}')\n",
    "\n",
    "# 3 example sections for the GRC poster\n",
    "sections_GRC = [6.4, 7.2, 8.0]"
   ]
  },
  {
   "cell_type": "code",
   "execution_count": 7,
   "metadata": {
    "tags": []
   },
   "outputs": [],
   "source": [
    "if realigned:\n",
    "    ccf_label = 'parcellation_structure_realigned'\n",
    "    coords = 'section'\n",
    "else:\n",
    "    ccf_label = 'parcellation_structure'\n",
    "    coords = 'reconstructed'"
   ]
  },
  {
   "cell_type": "markdown",
   "metadata": {},
   "source": [
    "## Load CCF structures"
   ]
  },
  {
   "cell_type": "code",
   "execution_count": 8,
   "metadata": {},
   "outputs": [],
   "source": [
    "ccf_polygons = abc.get_ccf_labels_image(resampled=True, realigned=realigned, \n",
    "                                        subset_to_left_hemi=True)\n",
    "ccf_boundaries = cimg.sectionwise_label_erosion(ccf_polygons, distance_px=1, \n",
    "                                                fill_val=0, return_edges=True)"
   ]
  },
  {
   "cell_type": "markdown",
   "metadata": {
    "tags": []
   },
   "source": [
    "# Plots"
   ]
  },
  {
   "cell_type": "markdown",
   "metadata": {},
   "source": [
    "## plot all sections to double check data import"
   ]
  },
  {
   "cell_type": "code",
   "execution_count": 9,
   "metadata": {
    "tags": []
   },
   "outputs": [],
   "source": [
    "resolution = 1.4\n",
    "res_str = str(resolution)\n",
    "predicted_col = f'res{res_str[0]}pt{res_str[-1]}'\n",
    "predicted_refined_col = f'res{res_str[0]}pt{res_str[-1]}_refined'\n",
    "\n",
    "fig_all_sec = spgplots.plot_domains_multisection(obs_spagcn, predicted_col, \n",
    "                                                 obsm_key=None, \n",
    "                                                 sections=sections_all,\n",
    "                                                 n_rows=2,\n",
    "                                                 plot_title=None)\n",
    "\n",
    "fig_all_sec.savefig(f'/results/spaGCN_multisec_res{resolution}.pdf', \n",
    "                    transparent=True, bbox_inches='tight')"
   ]
  },
  {
   "cell_type": "markdown",
   "metadata": {
    "tags": []
   },
   "source": [
    "## def plot_domains_overlay()"
   ]
  },
  {
   "cell_type": "code",
   "execution_count": 10,
   "metadata": {
    "tags": []
   },
   "outputs": [],
   "source": [
    "import pathlib\n",
    "import numpy as np\n",
    "import matplotlib.colors as clr\n",
    "import matplotlib.pyplot as plt\n",
    "from mpl_toolkits.axes_grid1 import ImageGrid\n",
    "from matplotlib.lines import Line2D\n",
    "import seaborn as sns\n",
    "from colorcet import glasbey\n",
    "\n",
    "def plot_domains_overlay(data, pred_col, ccf_polygons, ccf_boundaries,\n",
    "                         obsm_key='spaGCN_predicted_domains',\n",
    "                         section_col='', \n",
    "                         x_col = 'x_'+coords, y_col = 'y_'+coords,\n",
    "                         sections=None, n_rows=2, s=10, plot_title=None):\n",
    "    \n",
    "    # allow to input adata or just obs\n",
    "    if hasattr(data, 'obs'):\n",
    "        obs = ad.obs\n",
    "        ad = data.copy()\n",
    "    else:\n",
    "        obs = data.copy()\n",
    "    \n",
    "    # set default plot title\n",
    "    if plot_title==None:\n",
    "        plot_title = 'SpaGCN MERFISH domains\\n'+pred_col\n",
    "        \n",
    "    fig = plt.figure(figsize=(30, 10))\n",
    "    # set grid geometry based on the number of sections\n",
    "    if sections==None:\n",
    "        section_ids = obs['brain_section_label'].cat.categories.tolist()\n",
    "    else:\n",
    "        section_ids = sections\n",
    "    n_rows = n_rows\n",
    "    n_cols = int(np.ceil(len(section_ids)/n_rows))\n",
    "\n",
    "    grid = ImageGrid(fig, 111,  # similar to subplot(111)\n",
    "                     nrows_ncols=(n_rows, n_cols),  # creates 2x2 grid of axes\n",
    "                     axes_pad=(0.1,0.6),  # pad between axes in inch.\n",
    "                     # share_all=True\n",
    "                     )\n",
    "    \n",
    "    # set domain:color mapping dict\n",
    "    if obsm_key==None:\n",
    "        hue_col = pred_col\n",
    "    else:\n",
    "        hue_col = 'spaGCN_domain'\n",
    "        obs[hue_col] = ad.obsm[obsm_key][pred_col]\n",
    "        \n",
    "    spg_domain_ids = sorted(obs[hue_col].unique().tolist())\n",
    "    print(f'{spg_domain_ids=}')\n",
    "    sns_palette = sns.color_palette(glasbey, n_colors=len(spg_domain_ids))\n",
    "    palette_dict = dict(zip(spg_domain_ids, sns_palette))\n",
    "        \n",
    "    # plot each domain separately\n",
    "    for i, sec in enumerate(section_ids):\n",
    "        ax = grid[i]\n",
    "        obs_sec = obs[obs['z_reconstructed']==sec]\n",
    "        \n",
    "        sns.scatterplot(obs_sec, ax=ax, x='x_reconstructed', y='y_reconstructed', \n",
    "                        hue=hue_col, s=s, palette=palette_dict, \n",
    "                        linewidth=0, legend=False)\n",
    "        ax.set_aspect('equal', 'box')\n",
    "        # hide all x-y axes, ticks, labels, etc.\n",
    "        ax.set_xticks([])\n",
    "        ax.set_yticks([])\n",
    "        ax.set_xlabel(None)\n",
    "        ax.set_ylabel(None)\n",
    "        ax.spines[['top', 'bottom', 'right', 'left']].set_visible(False)\n",
    "        \n",
    "        # cplots.plot_ccf_section_raster(ccf_polygons, sec, \n",
    "        #                                palette='dark_outline', \n",
    "        #                                boundary_img=ccf_boundaries, \n",
    "        #                                legend=False, ax=ax)\n",
    "        # cplots._format_image_axes(axes=False)\n",
    "        \n",
    "    # # custom legend that's shared across & inclusive of all plotted sections    \n",
    "    # legend_handles = [Line2D([0], [0], linestyle='None', marker='o', \n",
    "    #                          markersize=14, color=color, label=label) \n",
    "    #                   for label, color in palette_dict.items()]\n",
    "    # legend = fig.legend(handles=legend_handles, loc='upper center', \n",
    "    #                     bbox_to_anchor=(0.5, 0), ncol=n_cols, frameon=False, \n",
    "    #                     fontsize=20)\n",
    "    plt.show()\n",
    "    return fig"
   ]
  },
  {
   "cell_type": "code",
   "execution_count": 11,
   "metadata": {
    "tags": []
   },
   "outputs": [],
   "source": [
    "def plot_ccf_overlay_montage(obs, ccf_polygons, sections=None, ccf_names=None, \n",
    "                             point_hue='CCF_acronym', legend='cells', \n",
    "                             min_group_count=10, min_section_count=20, \n",
    "                             highlight=[], shape_palette=None, \n",
    "                             point_palette=None, bg_cells=None, bg_shapes=True, s=2,\n",
    "                             axes=False, section_col='section', x_col='cirro_x', \n",
    "                             y_col='cirro_y', categorical=True,\n",
    "                             boundary_img=None, set_lims='whole', custom_xy_lims=[], \n",
    "                             n_rows=2):\n",
    "    obs = obs.copy()\n",
    "    # Set variables not specified by user\n",
    "    if sections is None:\n",
    "        sections = sorted(obs[section_col].unique())\n",
    "    if ccf_names is None:\n",
    "        ccf_names = cplots.get_thalamus_substructure_names()\n",
    "    if shape_palette is None:\n",
    "        shape_palette = cplots.___generate_palette(ccf_names)\n",
    "    \n",
    "    # Determine if we have rasterized CCF volumes or polygons-from-cells\n",
    "    raster_regions = type(ccf_polygons) is np.ndarray\n",
    "    if raster_regions & isinstance(sections[0], str):\n",
    "        raise Exception('str type detected for ''sections''. You must use ''z_section'' OR ''z_reconstructed'' as your ''section_col'' in order to plot the rasterized CCF volumes.')\n",
    "        \n",
    "    # Clean up point hue column    \n",
    "    # string type (not categorical) allows adding 'other' to data slice by slice\n",
    "    if categorical:\n",
    "        obs[point_hue] = obs[point_hue].astype(str)\n",
    "        # drop groups below min_group_count and sort by size\n",
    "        # currently across all of obs, not just selected sections\n",
    "        point_group_names = obs[point_hue].value_counts().loc[lambda x: x>min_group_count].index\n",
    "        obs = obs[obs[point_hue].isin(point_group_names)]\n",
    "        \n",
    "        # Set color palette for cell scatter points\n",
    "        if point_palette is None:\n",
    "            # make sure point palette matches shape palette\n",
    "            match_palette = ((point_hue in ['CCF_acronym', 'parcellation_substructure']) \n",
    "                and shape_palette not in ('bw','dark_outline','light_outline'))\n",
    "            point_palette = cplots.___generate_palette(point_group_names, palette_to_match=None)\n",
    "        else:\n",
    "            point_palette = point_palette.copy()\n",
    "        point_palette.update(other='grey')\n",
    "    \n",
    "    if bg_cells is not None:\n",
    "        bg_cells = bg_cells.loc[bg_cells.index.difference(obs.index)]\n",
    "    \n",
    "    # Display each section as a subplot in an ImageGrid\n",
    "    # figs = []\n",
    "    fig = plt.figure(figsize=(30, 10))\n",
    "    # set grid geometry based on the number of sections\n",
    "    n_rows = n_rows\n",
    "    n_cols = int(np.ceil(len(sections)/n_rows))\n",
    "\n",
    "    grid = ImageGrid(fig, 111,  # similar to subplot(111)\n",
    "                     nrows_ncols=(n_rows, n_cols),  # creates 2x2 grid of axes\n",
    "                     axes_pad=(0.1,0.6),  # pad between axes in inch.\n",
    "                     # share_all=True\n",
    "                     )\n",
    "    for i, section in enumerate(sections):\n",
    "        secdata = obs.loc[lambda df: (df[section_col]==section)].copy()\n",
    "        if len(secdata) < min_section_count:\n",
    "            continue\n",
    "        # fig, ax = plt.subplots(figsize=(8,4))\n",
    "        ax = grid[i]\n",
    "        ax.set_title('z='+str(section)+'\\n'+point_hue)\n",
    "        \n",
    "        # display CCF shapes\n",
    "        if raster_regions:\n",
    "            cplots.plot_ccf_section_raster(ccf_polygons, section, boundary_img=boundary_img,\n",
    "                                    ccf_region_names=ccf_names, palette=shape_palette, \n",
    "                                    legend=(legend=='ccf'), ax=ax)\n",
    "        else:\n",
    "            cplots.plot_ccf_section(ccf_polygons, section, highlight=highlight, \n",
    "                             palette=shape_palette, bg_shapes=bg_shapes,\n",
    "                             labels=legend in ['ccf', 'both'], ax=ax)\n",
    "\n",
    "        # display background cells in grey\n",
    "        if bg_cells is not None:\n",
    "            bg_s = s*0.8 if (s<=2) else 2\n",
    "            if custom_xy_lims!=[]:\n",
    "                bg_cells = cplots._filter_by_xy_lims(bg_cells, x_col, y_col, custom_xy_lims)\n",
    "            sns.scatterplot(bg_cells.loc[lambda df: (df[section_col]==section)], \n",
    "                            x=x_col, y=y_col, c='grey', s=bg_s, alpha=0.5, \n",
    "                            linewidth=0, ax=ax)\n",
    "        # lump small groups if legend list is too long\n",
    "        if categorical:\n",
    "            sec_group_counts = secdata[point_hue].value_counts(ascending=True)\n",
    "            if len(sec_group_counts) > 10:\n",
    "                point_groups_section = sec_group_counts.loc[lambda x: x>min_group_count].index\n",
    "                secdata.loc[lambda df: ~df[point_hue].isin(point_groups_section), point_hue] = 'other'\n",
    "            secdata[point_hue] = pd.Categorical(secdata[point_hue])\n",
    "        # display foreground cells according to point_hue\n",
    "        if len(secdata) > 0:\n",
    "            if custom_xy_lims!=[]:\n",
    "                secdata = cplots._filter_by_xy_lims(secdata, x_col, y_col, custom_xy_lims)\n",
    "            sns.scatterplot(secdata, x=x_col, y=y_col, hue=point_hue,\n",
    "                            s=s, palette=point_palette, linewidth=0,\n",
    "                            legend=(legend in ['cells', 'both']), ax=ax)\n",
    "        # plot formatting\n",
    "        # if legend is not None:\n",
    "        #     ncols = 4 if (legend=='ccf') else 2 # cell type names require more horizontal space\n",
    "        #     plt.legend(ncols=ncols, loc='upper center', bbox_to_anchor=(0.5, 0),\n",
    "        #                frameon=False)\n",
    "        cplots._format_image_axes(ax, axes=axes, set_lims=set_lims, \n",
    "                                 custom_xy_lims=custom_xy_lims)\n",
    "        \n",
    "        \n",
    "    # custom legend that's shared across & inclusive of all plotted sections\n",
    "    print(point_palette)\n",
    "    point_palette = dict(sorted(point_palette.items(), \n",
    "                                key=lambda x: (int(x[0]) if x[0].isdigit() else float('inf'), x[0] != 'other')))\n",
    "    legend_handles = [Line2D([0], [0], linestyle='None', marker='o', \n",
    "                             markersize=14, color=color, label=label) \n",
    "                      for label, color in point_palette.items()]\n",
    "    legend = fig.legend(handles=legend_handles, loc='upper center', \n",
    "                        bbox_to_anchor=(0.5, 0), ncol=n_cols, frameon=False, \n",
    "                        fontsize=20)    \n",
    "    plt.show()\n",
    "        # figs.append(fig)\n",
    "    return fig, point_palette"
   ]
  },
  {
   "cell_type": "markdown",
   "metadata": {
    "tags": []
   },
   "source": [
    "## Plot SpaGCN domains + CCF overlay"
   ]
  },
  {
   "cell_type": "code",
   "execution_count": 12,
   "metadata": {
    "tags": []
   },
   "outputs": [],
   "source": [
    "ccf_polygons.shape"
   ]
  },
  {
   "cell_type": "code",
   "execution_count": 13,
   "metadata": {
    "tags": []
   },
   "outputs": [],
   "source": [
    "kwargs = dict(\n",
    "    bg_cells=None,\n",
    "    section_col=section_col,\n",
    "    x_col = 'x_'+coords,\n",
    "    y_col = 'y_'+coords,\n",
    "    s=3, \n",
    "    shape_palette='dark_outline',\n",
    "    boundary_img=ccf_boundaries\n",
    ")\n",
    "figs = cplots.plot_ccf_overlay(obs_spagcn, ccf_polygons, \n",
    "                               point_hue=predicted_col, \n",
    "                               sections=sections_GRC,\n",
    "                               # point_palette=abc_palettes['subclass'],\n",
    "                               legend=None,#'cells', \n",
    "                               **kwargs)"
   ]
  },
  {
   "cell_type": "code",
   "execution_count": 47,
   "metadata": {
    "tags": []
   },
   "outputs": [],
   "source": [
    "kwargs = dict(\n",
    "    bg_cells=None,\n",
    "    section_col=section_col,\n",
    "    x_col = 'x_'+coords,\n",
    "    y_col = 'y_'+coords,\n",
    "    s=15, \n",
    "    shape_palette='dark_outline',\n",
    "    boundary_img=ccf_boundaries\n",
    ")\n",
    "\n",
    "resolution = 1.4\n",
    "res_str = str(resolution)\n",
    "predicted_col = f'res{res_str[0]}pt{res_str[-1]}'\n",
    "predicted_refined_col = f'res{res_str[0]}pt{res_str[-1]}_refined'\n",
    "\n",
    "fig, point_palette = plot_ccf_overlay_montage(obs_spagcn, ccf_polygons, \n",
    "                               point_hue=predicted_col, \n",
    "                               sections=sections_GRC,\n",
    "                               # point_palette=abc_palettes['subclass'],\n",
    "                               legend=None, n_rows=1, set_lims='left_hemi',\n",
    "                               # custom_xy_lims=[2.5, 6, 7.5, 4],\n",
    "                               **kwargs)\n",
    "\n",
    "fig.savefig(f'../results/spaGCN_domains_ccf_overlay_3sections_res{res_str}.pdf', \n",
    "            transparent=True, bbox_inches='tight')"
   ]
  },
  {
   "cell_type": "code",
   "execution_count": 42,
   "metadata": {
    "tags": []
   },
   "outputs": [],
   "source": [
    "# kwargs = dict(\n",
    "#     bg_cells=None,\n",
    "#     section_col=section_col,\n",
    "#     x_col = 'x_'+coords,\n",
    "#     y_col = 'y_'+coords,\n",
    "#     s=15, \n",
    "#     shape_palette='dark_outline',\n",
    "#     boundary_img=ccf_boundaries\n",
    "# )\n",
    "\n",
    "# resolution = 1.0\n",
    "# res_str = str(resolution)\n",
    "# predicted_col = f'res{res_str[0]}pt{res_str[-1]}'\n",
    "# predicted_refined_col = f'res{res_str[0]}pt{res_str[-1]}_refined'\n",
    "\n",
    "# fig, point_palette = plot_ccf_overlay_montage(obs_spagcn, ccf_polygons, \n",
    "#                                point_hue=predicted_col, \n",
    "#                                sections=sections_GRC,\n",
    "#                                # point_palette=abc_palettes['subclass'],\n",
    "#                                legend=None, n_rows=1, set_lims='left_hemi',\n",
    "#                                # custom_xy_lims=[2.5, 6, 7.5, 4],\n",
    "#                                **kwargs)\n",
    "\n",
    "# fig.savefig(f'../results/spaGCN_domains_ccf_overlay_3sections.pdf', \n",
    "#             transparent=True, bbox_inches='tight')"
   ]
  },
  {
   "cell_type": "code",
   "execution_count": 15,
   "metadata": {
    "tags": []
   },
   "outputs": [],
   "source": [
    "# fig = plot_domains_overlay(obs_spagcn, predicted_col, \n",
    "#                            ccf_polygons, ccf_boundaries,\n",
    "#                            obsm_key=None, sections=sections_GRC, \n",
    "#                            n_rows=1, s=10, plot_title=None)"
   ]
  },
  {
   "cell_type": "code",
   "execution_count": 16,
   "metadata": {},
   "outputs": [],
   "source": [
    "from importlib import reload\n",
    "reload(cplots)"
   ]
  },
  {
   "cell_type": "markdown",
   "metadata": {},
   "source": [
    "# Distance Metrics"
   ]
  },
  {
   "cell_type": "markdown",
   "metadata": {},
   "source": [
    "## CCF overlap"
   ]
  },
  {
   "cell_type": "code",
   "execution_count": 17,
   "metadata": {
    "tags": []
   },
   "outputs": [],
   "source": [
    "regions_subset = np.array([\n",
    "    'AD',\n",
    "    'AV',\n",
    "    'LD',\n",
    "    'LGd',\n",
    "    # VP combine?\n",
    "    'VPM',\n",
    "    'VPL',\n",
    "    'AM',\n",
    "    'VPMpc',\n",
    "    'MD',\n",
    "    'LP',\n",
    "    'PO',\n",
    "    'IAD',\n",
    "    'VAL',\n",
    "    'VM',\n",
    "    'RE',\n",
    "    'CL',\n",
    "    'PF',\n",
    "    'CM',\n",
    "    'PCN',\n",
    "    'SPA',\n",
    "    'IMD',\n",
    "    'PVT',\n",
    "    # additional\n",
    "    'MH',\n",
    "    'LH',\n",
    "    'RT',\n",
    "    # 'ZI'\n",
    "])"
   ]
  },
  {
   "cell_type": "code",
   "execution_count": 18,
   "metadata": {
    "tags": []
   },
   "outputs": [],
   "source": [
    "regions_final = [\n",
    "    \"AD\", \"AV\", \"AM\", \"IAD\", \"LD\", \"VPM\", \"VPL\", \"LGd\",\n",
    "    \"MD\", \"CL\", \"CM\", \"IMD\", \"PO\", \"LP\", \"VAL\", \"VM\", \n",
    "    \"RE\", \"PF\", \"VPMpc\", \"PCN\", \"SPA\", \"PVT\", \"MH\", \"LH\", \"RT\", \n",
    "]"
   ]
  },
  {
   "cell_type": "code",
   "execution_count": 19,
   "metadata": {
    "tags": []
   },
   "outputs": [],
   "source": [
    "ax = fig.gca()"
   ]
  },
  {
   "cell_type": "code",
   "execution_count": 40,
   "metadata": {
    "tags": []
   },
   "outputs": [],
   "source": [
    "# ccf region order here is fairly arbitrary \n",
    "dist, y_names, x_names = dm.cluster_distances_from_labels(\n",
    "                            obs_spagcn, y_col=ccf_label, x_col=predicted_col, \n",
    "                            y_names=regions_final, \n",
    "                            x_names=sorted(obs_spagcn[predicted_col].unique()))\n",
    "\n",
    "y_order, x_order = dm.order_distances_x_to_y(dist, reorder_y=True)\n",
    "\n",
    "fig = dm.plot_ordered_similarity_heatmap(dist, \n",
    "                                         y_order=y_order, x_order=x_order, \n",
    "                                         y_names=y_names, x_names=x_names)\n",
    "\n",
    "fig.set_size_inches(7.5,6)\n",
    "\n",
    "fig.savefig(f'../results/similarity_heatmap_nuclei_vs_spaGCN_domains_reorderedY.pdf', \n",
    "            transparent=True, bbox_inches='tight')"
   ]
  },
  {
   "cell_type": "code",
   "execution_count": 46,
   "metadata": {
    "tags": []
   },
   "outputs": [],
   "source": [
    "dist, y_names, x_names = dm.cluster_distances_from_labels(\n",
    "                            obs_spagcn, y_col=ccf_label, x_col=predicted_col, \n",
    "                            y_names=regions_final, \n",
    "                            x_names=sorted(obs_spagcn[predicted_col].unique()))\n",
    "\n",
    "y_order, x_order = dm.order_distances_x_to_y(dist, reorder_y=False)\n",
    "\n",
    "fig = dm.plot_ordered_similarity_heatmap(dist, \n",
    "                                         y_order=y_order, x_order=x_order, \n",
    "                                         y_names=y_names, x_names=x_names)\n",
    "\n",
    "# fig.gca().axis('equal')\n",
    "fig.set_size_inches(7.5,6)\n",
    "\n",
    "fig.savefig(f'../results/similarity_heatmap_nuclei_vs_spaGCN_domains_notReorderedY.pdf', \n",
    "            transparent=True, bbox_inches='tight')"
   ]
  },
  {
   "cell_type": "markdown",
   "metadata": {},
   "source": [
    "## Taxonomy overlap"
   ]
  },
  {
   "cell_type": "markdown",
   "metadata": {},
   "source": [
    "### subclass"
   ]
  },
  {
   "cell_type": "code",
   "execution_count": 22,
   "metadata": {
    "tags": []
   },
   "outputs": [],
   "source": [
    "# sorted(obs_spagcn['subclass'].cat.categories.to_list())"
   ]
  },
  {
   "cell_type": "code",
   "execution_count": 48,
   "metadata": {},
   "outputs": [],
   "source": [
    "subclasses_subset = ['093 RT-ZI Gnb3 Gaba',\n",
    "                     '101 ZI Pax6 Gaba',\n",
    "                     '103 PVHd-DMH Lhx6 Gaba',\n",
    "                     '109 LGv-ZI Otx2 Gaba',\n",
    "                     '145 MH Tac2 Glut',\n",
    "                     '146 LH Pou4f1 Sox1 Glut',\n",
    "                     '147 AD Serpinb7 Glut',\n",
    "                     '148 AV Col27a1 Glut',\n",
    "                     '149 PVT-PT Ntrk1 Glut',\n",
    "                     '150 CM-IAD-CL-PCN Sema5b Glut',\n",
    "                     '151 TH Prkcd Grin2c Glut',\n",
    "                     '152 RE-Xi Nox4 Glut',\n",
    "                     '154 PF Fzd5 Glut',\n",
    "                     # '168 SPA-SPFm-SPFp-POL-PIL-PoT Sp9 Glut', # cut off by midline xcoord bug\n",
    "                     # '197 SNr Six3 Gaba',\n",
    "                     # '202 PRT Tcf7l2 Gaba',\n",
    "                     # '203 LGv-SPFp-SPFm Nkx2-2 Tcf7l2 Gaba' # also cut off by midline xcoord bug??\n",
    "                     ]"
   ]
  },
  {
   "cell_type": "code",
   "execution_count": 53,
   "metadata": {
    "tags": []
   },
   "outputs": [],
   "source": [
    "taxonomy_level = 'subclass'\n",
    "dist, y_names, x_names = dm.cluster_distances_from_labels(\n",
    "                            obs_spagcn, y_col=taxonomy_level, x_col=predicted_col, \n",
    "                            y_names=subclasses_subset, \n",
    "                            x_names=sorted(obs_spagcn[predicted_col].unique()))\n",
    "\n",
    "y_order, x_order = dm.order_distances_x_to_y(dist, reorder_y=False, \n",
    "                                             min_similarity_x=0.1)\n",
    "\n",
    "fig = dm.plot_ordered_similarity_heatmap(dist, \n",
    "                                         y_order=y_order, x_order=x_order, \n",
    "                                         y_names=y_names, x_names=x_names)\n",
    "fig.gca().axis('equal')\n",
    "fig.set_size_inches(7.5,3)\n",
    "\n",
    "fig.savefig(f'../results/similarity_heatmap_subclass_vs_spaGCN_domains_reorderedY.pdf', \n",
    "            transparent=True, bbox_inches='tight')"
   ]
  },
  {
   "cell_type": "markdown",
   "metadata": {
    "tags": []
   },
   "source": [
    "### supertype"
   ]
  },
  {
   "cell_type": "code",
   "execution_count": 25,
   "metadata": {
    "tags": []
   },
   "outputs": [],
   "source": [
    "taxonomy_level = 'supertype'\n",
    "dist, y_names, x_names = dm.cluster_distances_from_labels(\n",
    "                            obs_spagcn, y_col=taxonomy_level, x_col=predicted_col, \n",
    "                            y_names=None, \n",
    "                            x_names=sorted(obs_spagcn[predicted_col].unique()))\n",
    "\n",
    "y_order, x_order = dm.order_distances_x_to_y(dist, reorder_y=True)\n",
    "\n",
    "fig = dm.plot_ordered_similarity_heatmap(dist, \n",
    "                                         y_order=y_order, x_order=x_order, \n",
    "                                         y_names=y_names, x_names=x_names)\n",
    "fig.gca().axis('equal')\n",
    "fig.set_size_inches(4, 12)"
   ]
  },
  {
   "cell_type": "markdown",
   "metadata": {},
   "source": [
    "### clusters"
   ]
  },
  {
   "cell_type": "code",
   "execution_count": 26,
   "metadata": {
    "tags": []
   },
   "outputs": [],
   "source": [
    "cluster_list = sorted(obs_spagcn['cluster'].cat.categories.to_list())\n",
    "clusters_grin2c = [cl for cl in cluster_list if 'Grin2c' in cl]\n",
    "# clusters_grin2c"
   ]
  },
  {
   "cell_type": "code",
   "execution_count": 27,
   "metadata": {
    "tags": []
   },
   "outputs": [],
   "source": [
    "taxonomy_level = 'cluster'\n",
    "dist, y_names, x_names = dm.cluster_distances_from_labels(\n",
    "                            obs_spagcn, y_col=taxonomy_level, x_col=predicted_col, \n",
    "                            y_names=clusters_grin2c, \n",
    "                            x_names=sorted(obs_spagcn[predicted_col].unique()))\n",
    "\n",
    "y_order, x_order = dm.order_distances_x_to_y(dist, reorder_y=True)\n",
    "\n",
    "fig = dm.plot_ordered_similarity_heatmap(dist, \n",
    "                                         y_order=y_order, x_order=x_order, \n",
    "                                         y_names=y_names, x_names=x_names)\n",
    "fig.gca().axis('equal')\n",
    "fig.set_size_inches(4, 8)"
   ]
  },
  {
   "cell_type": "code",
   "execution_count": null,
   "metadata": {},
   "outputs": [],
   "source": []
  }
 ],
 "metadata": {
  "kernelspec": {
   "display_name": "Python 3 (ipykernel)",
   "language": "python",
   "name": "python3"
  },
  "language_info": {
   "codemirror_mode": {
    "name": "ipython",
    "version": 3
   },
   "file_extension": ".py",
   "mimetype": "text/x-python",
   "name": "python",
   "nbconvert_exporter": "python",
   "pygments_lexer": "ipython3",
   "version": "3.9.12"
  }
 },
 "nbformat": 4,
 "nbformat_minor": 4
}
