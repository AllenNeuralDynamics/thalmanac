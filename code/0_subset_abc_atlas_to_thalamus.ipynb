{
 "cells": [
  {
   "cell_type": "markdown",
   "metadata": {},
   "source": [
    "# 0_subset_abc_atlas_to_thalamus\n",
    "\n",
    "To subset the published ABC Atlas MERFISH dataset (3,739,961 cells) to cells that belong to the thalamus and/or the zona incerta (XXX cells), we used a combination of spatial and taxonomy-based labeling.\n",
    "\n",
    "Functions for this process can be found in the `abc_load.py` & `abc_load_base.py` modules of the `thalamus-merfish-analysis` Python package."
   ]
  },
  {
   "cell_type": "code",
   "execution_count": 1,
   "metadata": {
    "tags": []
   },
   "outputs": [],
   "source": [
    "%load_ext autoreload\n",
    "%autoreload 2"
   ]
  },
  {
   "cell_type": "code",
   "execution_count": 2,
   "metadata": {
    "tags": []
   },
   "outputs": [],
   "source": [
    "import numpy as np\n",
    "import pandas as pd\n",
    "\n",
    "import matplotlib.pyplot as plt\n",
    "from matplotlib import colors\n",
    "from matplotlib.lines import Line2D\n",
    "\n",
    "import seaborn as sns\n",
    "import scipy.ndimage as ndi\n",
    "\n",
    "%matplotlib inline"
   ]
  },
  {
   "cell_type": "code",
   "execution_count": 12,
   "metadata": {
    "tags": []
   },
   "outputs": [],
   "source": [
    "from thalamus_merfish_analysis import abc_load as abc\n",
    "from thalamus_merfish_analysis import ccf_images as cimg"
   ]
  },
  {
   "cell_type": "markdown",
   "metadata": {},
   "source": [
    "## Load cell metadata DataFrame"
   ]
  },
  {
   "cell_type": "code",
   "execution_count": 4,
   "metadata": {
    "tags": []
   },
   "outputs": [],
   "source": [
    "cells_df = abc.get_combined_metadata(drop_unused=False)\n",
    "print(f'n_cells in the whole-brain ABC Atlas: {cells_df.shape[0]}')"
   ]
  },
  {
   "cell_type": "markdown",
   "metadata": {},
   "source": [
    "## 1) Spatial filtering based on ARA parcellations & CCFv3 image volumes\n",
    "\n",
    "As an initial spatial filtering step, we used a rasterized anatomical annotation \n",
    "image volume, which aligns a resampled (10x10x??um) CCFv3 coordinate space into \n",
    "the MERFISH data space and where each voxel is assigned a parcellation index that \n",
    "uniquely identifies its assigned 3D Allen Reference Atlas (ARA) anatomical parcellation."
   ]
  },
  {
   "cell_type": "markdown",
   "metadata": {},
   "source": [
    "All the detailed steps outlined below are wrapped in the `label_thalamus_spatial_subset()` \n",
    "function from the `abc_load` module. We confirm this by showing that the number\n",
    "of cells remaining after this single function call (227,417) is the same as the\n",
    "number of cells remaining after detail step 1f (also 227,417)."
   ]
  },
  {
   "cell_type": "code",
   "execution_count": 5,
   "metadata": {},
   "outputs": [],
   "source": [
    "cells_df_th_subset = abc.label_thalamus_spatial_subset(cells_df,\n",
    "                                                       distance_px=20,\n",
    "                                                       cleanup_mask=True,\n",
    "                                                       drop_end_sections=True,\n",
    "                                                       filter_cells=True)\n",
    "\n",
    "print(f'n_cells after label_thalamus_spatial_subset(): {cells_df_th_subset.shape[0]}')"
   ]
  },
  {
   "cell_type": "markdown",
   "metadata": {},
   "source": [
    "### 1a) Load & view CCF parcellation/annotation image volumes\n",
    "\n",
    "`imshow()` colors each pixel by its parcellation_index. \n",
    "You can see that each ARA parcellation has its own color (displayed in grayscale)."
   ]
  },
  {
   "cell_type": "code",
   "execution_count": 6,
   "metadata": {},
   "outputs": [],
   "source": [
    "# loads the whole-brain CCF resampled_annotation image volumes\n",
    "ccf_img = abc.get_ccf_labels_image(resampled=True)\n",
    "\n",
    "# 1100x1100 pixels where each pixel is 10um^2; 76 sections\n",
    "print(f'{ccf_img.shape=}')\n",
    "\n",
    "# display an example section of the image volume that contains the thalamus \n",
    "zindex = 36 \n",
    "plt.imshow(ccf_img[:,:,zindex].T, cmap='gray')  # transpose to plot in correct orientation\n",
    "plt.title(f'example section: {zindex}')\n",
    "xy_labels = 'resampled pixels (1px = 10um)'\n",
    "plt.xlabel(xy_labels); plt.ylabel(xy_labels)\n",
    "plt.show()"
   ]
  },
  {
   "cell_type": "markdown",
   "metadata": {},
   "source": [
    "### 1b) Generate binary mask for TH+ZI parcellation regions\n",
    "\n",
    "We generated a binary TH+ZI mask that included all voxels labelled with a thalalmus \n",
    "(‘TH’) or a zona incerta (‘ZI’) associated parcellation index."
   ]
  },
  {
   "cell_type": "code",
   "execution_count": 7,
   "metadata": {},
   "outputs": [],
   "source": [
    "# get all parcellation names that are in either TH or ZI\n",
    "ccf_regions_to_select = ['TH', 'ZI'] # TH = thalamus ; ZI = zona incerta\n",
    "ccf_regions = abc.get_ccf_names(top_nodes=ccf_regions_to_select, \n",
    "                                level='substructure')\n",
    "print(f'{ccf_regions=}')\n",
    "\n",
    "# convert parcellation names to the unique parcellation_index used in the image volume\n",
    "ccf_index = abc.get_ccf_index(level='substructure')\n",
    "reverse_lookup = pd.Series(ccf_index.index.values, index=ccf_index)\n",
    "th_zi_index_values = reverse_lookup.loc[ccf_regions]\n",
    "print(f'{th_zi_index_values=}')"
   ]
  },
  {
   "cell_type": "code",
   "execution_count": 8,
   "metadata": {},
   "outputs": [],
   "source": [
    "# if you want to subset by a different ARA parcellation region, you can change \n",
    "# the `level` param {'division', 'structure', 'substructure'} to view alterative\n",
    "# options to add to `ccf_regions_to_select` in the previous cell\n",
    "all_division_names = abc.get_ccf_names(top_nodes=None, level='division')\n",
    "print(all_division_names)"
   ]
  },
  {
   "cell_type": "code",
   "execution_count": 9,
   "metadata": {},
   "outputs": [],
   "source": [
    "# generate a binary TH+ZI mask\n",
    "th_zi_mask = np.isin(ccf_img, th_zi_index_values)\n",
    "\n",
    "# subset the ccf image volume using the binary mask\n",
    "th_zi_img = np.where(th_zi_mask, ccf_img, 0)\n",
    "\n",
    "\n",
    "# display the subsetted image volume and TH+ZI binary mask\n",
    "fig, (ax1, ax2, ax3) = plt.subplots(1, 3, figsize=(15, 5))\n",
    "xy_labels = 'resampled pixels (1px=10um)'\n",
    "\n",
    "ax1.imshow(ccf_img[:,:,zindex].T, cmap='gray')\n",
    "ax1.set_title('CCFv3 parcellation substructures - whole-brain')\n",
    "ax1.set_xlabel(xy_labels); ax1.set_ylabel(xy_labels)\n",
    "\n",
    "ax2.imshow(th_zi_img[:,:,zindex].T, cmap='gray')\n",
    "ax2.set_title('parcellation substructures - TH & ZI')\n",
    "ax2.set_xlabel(xy_labels)\n",
    "\n",
    "ax3.imshow(th_zi_mask[:,:,zindex].T, cmap='gray')\n",
    "ax3.set_title('TH+ZI binary mask')\n",
    "ax3.set_xlabel(xy_labels)\n",
    "\n",
    "plt.show()"
   ]
  },
  {
   "cell_type": "markdown",
   "metadata": {},
   "source": [
    "### 1c) Dilate TH+ZI binary mask by 20px (200um)\n",
    "Potentially misaligned TH or ZI cells were captured by dilating the binary mask \n",
    "by 20 pixels (200um)."
   ]
  },
  {
   "cell_type": "code",
   "execution_count": 10,
   "metadata": {},
   "outputs": [],
   "source": [
    "# 20px=200um\n",
    "th_zi_mask_dilated = abc.sectionwise_dilation(th_zi_mask, distance_px=20)\n",
    "\n",
    "\n",
    "# display the subsetted image volume and TH+ZI binary mask\n",
    "fig, (ax1, ax2, ax3, ax4) = plt.subplots(1, 4, figsize=(20, 5))\n",
    "xy_labels = 'resampled pixels (1px=10um)'\n",
    "\n",
    "ax1.imshow(ccf_img[:,:,zindex].T, cmap='gray')\n",
    "ax1.set_title('CCFv3 parcellation substructures - whole-brain')\n",
    "ax1.set_xlabel(xy_labels); ax1.set_ylabel(xy_labels)\n",
    "\n",
    "ax2.imshow(th_zi_img[:,:,zindex].T, cmap='gray')\n",
    "ax2.set_title('parcellation substructures - TH & ZI')\n",
    "ax2.set_xlabel(xy_labels)\n",
    "\n",
    "ax3.imshow(th_zi_mask[:,:,zindex].T, cmap='gray')\n",
    "ax3.set_title('TH+ZI binary mask')\n",
    "ax3.set_xlabel(xy_labels)\n",
    "\n",
    "ax4.imshow(th_zi_mask_dilated[:,:,zindex].T, cmap='gray')\n",
    "ax4.set_title('TH+ZI binary mask, dilated by 20px')\n",
    "ax4.set_xlabel(xy_labels)\n",
    "\n",
    "plt.show()"
   ]
  },
  {
   "cell_type": "markdown",
   "metadata": {},
   "source": [
    "### 1d) Clean up the binary mask"
   ]
  },
  {
   "cell_type": "code",
   "execution_count": 14,
   "metadata": {},
   "outputs": [],
   "source": [
    "th_zi_mask_dilated = cimg.cleanup_mask_regions(th_zi_mask_dilated, \n",
    "                                               area_ratio_thresh=0.1)"
   ]
  },
  {
   "cell_type": "markdown",
   "metadata": {},
   "source": [
    "### 1e) Label & filter using spatial mask\n",
    "\n",
    "This reduces the dataset to 233,340 cells from 16 coronal sections."
   ]
  },
  {
   "cell_type": "code",
   "execution_count": 16,
   "metadata": {},
   "outputs": [],
   "source": [
    "# label cells that fall within the TH+ZI mask\n",
    "field_name='TH_ZI_dataset'\n",
    "coords = ['x_reconstructed','y_reconstructed','z_reconstructed']\n",
    "resolutions = np.array([10e-3, 10e-3, 200e-3])\n",
    "cells_df[field_name] = th_zi_mask_dilated[cimg.image_index_from_coords(cells_df[coords], resolutions)]\n",
    "# cells_df = abc_load_base._label_masked_cells(cells_df, th_zi_mask_dilated, coords, resolutions, field_name=field_name)\n",
    "\n",
    "# filter out cells that do not fall within the TH+ZI mask\n",
    "th_zi_cells_df = cells_df[cells_df[field_name]].copy().drop(columns=[field_name])\n",
    "\n",
    "print(f'n_cells after spatial filtering: {th_zi_cells_df.shape[0]}')"
   ]
  },
  {
   "cell_type": "markdown",
   "metadata": {},
   "source": [
    "### 1f) Drop the anterior-most section and posterior-most section\n",
    "\n",
    "At this stage, we also filtered out all cells from the anterior-most section and \n",
    "the posterior-most section that contained TH and ZI cells due to poor alignment \n",
    "between the CCFv3 TH+ZI parcellation regions and cells mapping to thalamic cell \n",
    "types, as determined by visual inspection. This further reduced the dataset to \n",
    "227,955 cells and 14 coronal sections. "
   ]
  },
  {
   "cell_type": "code",
   "execution_count": 17,
   "metadata": {},
   "outputs": [],
   "source": [
    "# anterior-most section that is dropped: z_section=8.4\n",
    "# posterior-most section that is dropped: z_section=4.8\n",
    "th_zi_cells_df = th_zi_cells_df.query(\"5.0 <= z_section <= 8.2\")\n",
    "\n",
    "print(f'n_cells after end section drop: {th_zi_cells_df.shape[0]}')"
   ]
  },
  {
   "cell_type": "markdown",
   "metadata": {},
   "source": [
    "## 2) Cell-type filtering based on mapped subclasses"
   ]
  },
  {
   "cell_type": "markdown",
   "metadata": {},
   "source": [
    "### visualize which cells are captured by the TH mask"
   ]
  },
  {
   "cell_type": "code",
   "execution_count": 93,
   "metadata": {
    "tags": []
   },
   "outputs": [],
   "source": [
    "def plot_th_mask_with_cell_overlay(cell_df, th_mask, th_zi_sections, \n",
    "                                   column='class', trim_to_th=True, show_mask=True):\n",
    "\n",
    "    # make a fixed colormap for displaying thalamus mask\n",
    "    if show_mask:\n",
    "        cmap_th_mask = colors.ListedColormap(['black', 'white'])\n",
    "    else:\n",
    "        cmap_th_mask = colors.ListedColormap(['white', 'white'])\n",
    "    bounds=[0,1]\n",
    "    norm = colors.BoundaryNorm(bounds, cmap_th_mask.N)\n",
    "\n",
    "    # define legend elements for the column colors\n",
    "    color_col = column+'_color'\n",
    "    categories = cell_df[column].unique()\n",
    "    cat_color_mapping = dict(zip(categories, cell_df[color_col].unique()))\n",
    "    # sort the dict & the categories list by category\n",
    "    cat_color_mapping = dict(sorted(cat_color_mapping.items()))\n",
    "    categories = sorted(categories)\n",
    "    legend_elements = [Line2D([0], [0], \n",
    "                              lw=0, marker='o', markersize=10,\n",
    "                              markerfacecolor=cat_color_mapping[cat],\n",
    "                              color=cat_color_mapping[cat], \n",
    "                              label=cat) \n",
    "                       for cat in cat_color_mapping]\n",
    "    \n",
    "    n_col = 2\n",
    "    n_row = int(np.ceil(len(th_zi_sections) / n_col))\n",
    "    fig, axes = plt.subplots(n_row, n_col, figsize=(n_col*6,n_row*3.75))\n",
    "    axes = axes.ravel()\n",
    "\n",
    "    \n",
    "\n",
    "    for i, sec in enumerate(th_zi_sections):\n",
    "        ax = axes[i]\n",
    "\n",
    "        curr_sec_cell_df = cell_df[(cell_df['z_reconstructed']==sec)]\n",
    "\n",
    "        ax.imshow(th_mask[:,:,int(np.rint(sec/0.2))].T, extent=[0, 11, 11, 0], zorder=0,\n",
    "                  cmap=cmap_th_mask, norm=norm)\n",
    "        sc = ax.scatter(curr_sec_cell_df['x_reconstructed'], curr_sec_cell_df['y_reconstructed'],\n",
    "                        color=curr_sec_cell_df['class_color'],\n",
    "                        s=0.5, marker='.', zorder=1)\n",
    "        ax.set_title('z='+str(sec))\n",
    "\n",
    "        ax.set_xlabel('x_reconstructed')\n",
    "        ax.set_ylabel('y_reconstructed')\n",
    "        if trim_to_th:\n",
    "            x_min = 2; x_max = 9; y_min = 7.5; y_max = 3.5\n",
    "            ax.set_xlim((x_min,x_max))\n",
    "            ax.set_ylim((y_min,y_max))\n",
    "        else:\n",
    "            ax.set_xlim((0,11))\n",
    "            ax.set_ylim((11,0))    \n",
    "        ax.axis('off')\n",
    "        ax.set_xticks([])\n",
    "        ax.set_yticks([])\n",
    "\n",
    "        if i==7:\n",
    "            ax.legend(legend_elements, categories, title='class', \n",
    "                      loc='center left', bbox_to_anchor=(1.1,0.5))"
   ]
  },
  {
   "cell_type": "code",
   "execution_count": 45,
   "metadata": {
    "tags": []
   },
   "outputs": [],
   "source": [
    "# th_zi_sections = sorted(th_df['z_section'].unique())\n",
    "th_zi_sections = sorted(cells_df['z_reconstructed'].unique())[19:35]\n",
    "th_mask_dilated = abc.sectionwise_dilation(th_mask, 10)"
   ]
  },
  {
   "cell_type": "code",
   "execution_count": 46,
   "metadata": {
    "tags": []
   },
   "outputs": [],
   "source": [
    "nn_classes = ['30 Astro-Epen', '31 OPC-Oligo', '32 OEC', '33 Vascular', '34 Immune']\n",
    "th_zi_classes = ['12 HY GABA', '13 CNU-HYa Glut','17 MH-LH Glut','18 TH Glut']"
   ]
  },
  {
   "cell_type": "markdown",
   "metadata": {
    "tags": []
   },
   "source": [
    "#### neuronal classes"
   ]
  },
  {
   "cell_type": "code",
   "execution_count": 47,
   "metadata": {
    "tags": []
   },
   "outputs": [],
   "source": [
    "neuronal_cells_df = cells_df[(~cells_df['class'].isin(nn_classes))\n",
    "                             & (cells_df['z_reconstructed'].isin(th_zi_sections))\n",
    "                            ]  #& (cells_df['thal_subclass'])\n",
    "plot_th_mask_with_cell_overlay(neuronal_cells_df, th_mask_dilated, th_zi_sections, column='class')"
   ]
  },
  {
   "cell_type": "markdown",
   "metadata": {
    "jp-MarkdownHeadingCollapsed": true,
    "tags": []
   },
   "source": [
    "#### thalamus classes only"
   ]
  },
  {
   "cell_type": "code",
   "execution_count": 20,
   "metadata": {
    "tags": []
   },
   "outputs": [],
   "source": [
    "neuronal_th_cells_df = cells_df[(~cells_df['class'].isin(nn_classes))\n",
    "                                & (cells_df['z_reconstructed'].isin(th_zi_sections))\n",
    "                                & (cells_df['class'].isin(th_zi_classes))\n",
    "                               ]  \n",
    "plot_th_mask_with_cell_overlay(neuronal_th_cells_df, th_mask_dilated, th_zi_sections, column='class')"
   ]
  },
  {
   "cell_type": "markdown",
   "metadata": {
    "jp-MarkdownHeadingCollapsed": true,
    "tags": []
   },
   "source": [
    "#### thalamus subclasses only"
   ]
  },
  {
   "cell_type": "code",
   "execution_count": 21,
   "metadata": {
    "tags": []
   },
   "outputs": [],
   "source": [
    "neuronal_th_cells_df = cells_df[(~cells_df['class'].isin(nn_classes))\n",
    "                                & (cells_df['z_reconstructed'].isin(th_zi_sections))\n",
    "                                & (cells_df['thal_subclass'])\n",
    "                               ]  \n",
    "plot_th_mask_with_cell_overlay(neuronal_th_cells_df, th_mask_dilated, th_zi_sections, column='class')"
   ]
  },
  {
   "cell_type": "markdown",
   "metadata": {
    "jp-MarkdownHeadingCollapsed": true,
    "tags": []
   },
   "source": [
    "#### all cells"
   ]
  },
  {
   "cell_type": "code",
   "execution_count": 42,
   "metadata": {
    "tags": []
   },
   "outputs": [],
   "source": [
    "th_sections_df = cells_df[(cells_df['z_reconstructed'].isin(th_zi_sections))\n",
    "                               ]  \n",
    "plot_th_mask_with_cell_overlay(th_sections_df, th_mask_dilated, th_zi_sections, column='class')"
   ]
  },
  {
   "cell_type": "markdown",
   "metadata": {},
   "source": [
    "### view actual abc_load steps"
   ]
  },
  {
   "cell_type": "markdown",
   "metadata": {},
   "source": [
    "#### CCF raster image volume"
   ]
  },
  {
   "cell_type": "code",
   "execution_count": 78,
   "metadata": {
    "tags": []
   },
   "outputs": [],
   "source": [
    "sec = 6.8\n",
    "ind = int(np.rint(sec/0.2))\n",
    "plt.imshow(th_mask[200:901,350:750:,ind].T, cmap='gray') #, extent=(0,11,0,11))\n",
    "ax = plt.gca()\n",
    "ax.axis('off')\n",
    "ax.set_xticks([])\n",
    "ax.set_yticks([])"
   ]
  },
  {
   "cell_type": "markdown",
   "metadata": {},
   "source": [
    "#### subset & make mask from abc_load"
   ]
  },
  {
   "cell_type": "code",
   "execution_count": 84,
   "metadata": {
    "tags": []
   },
   "outputs": [],
   "source": [
    "dist_px = 20\n",
    "cells_df_abc, mask_img = abc.label_thalamus_spatial_subset(cells_df,\n",
    "                                                            flip_y=False,\n",
    "                                                            distance_px=dist_px,\n",
    "                                                            cleanup_mask=True,\n",
    "                                                            drop_end_sections=True,\n",
    "                                                            filter_cells=True,\n",
    "                                                            realigned=False)"
   ]
  },
  {
   "cell_type": "code",
   "execution_count": 85,
   "metadata": {
    "tags": []
   },
   "outputs": [],
   "source": [
    "th_zi_sections_example = sorted(cells_df['z_reconstructed'].unique())[25:29]"
   ]
  },
  {
   "cell_type": "markdown",
   "metadata": {},
   "source": [
    "#### dilated TH mask"
   ]
  },
  {
   "cell_type": "code",
   "execution_count": 89,
   "metadata": {
    "tags": []
   },
   "outputs": [],
   "source": [
    "th_start_ind = int(th_zi_sections_example[0]/0.2)\n",
    "th_end_ind = int(th_zi_sections_example[-1]/0.2)+1\n",
    "mask_img_subset = mask_img[:,:,th_start_ind:th_end_ind]\n",
    "\n",
    "\n",
    "n_col = 2\n",
    "n_row = int(np.ceil(mask_img_subset.shape[2] / n_col))\n",
    "fig, axes = plt.subplots(n_row, n_col, figsize=(n_col*6,n_row*3.75))\n",
    "axes = axes.ravel()\n",
    "\n",
    "x_min = 2.5; x_max = 8.5; y_min = 7.5; y_max = 4\n",
    "\n",
    "for z in np.arange(mask_img_subset.shape[2]):\n",
    "    ax = axes[z]\n",
    "    ax.imshow(np.squeeze(mask_img_subset[:,:,z]).T,cmap='gray', extent=(0,11,0,11))\n",
    "    ax.set_xlim(2,9)\n",
    "    ax.set_ylim(3.5,7.5)\n",
    "    ax.axis('off')\n",
    "    ax.set_xticks([])\n",
    "    ax.set_yticks([])"
   ]
  },
  {
   "cell_type": "markdown",
   "metadata": {
    "tags": []
   },
   "source": [
    "#### all cells with mask"
   ]
  },
  {
   "cell_type": "code",
   "execution_count": 91,
   "metadata": {
    "tags": []
   },
   "outputs": [],
   "source": [
    "th_sections_df = cells_df[(cells_df['z_reconstructed'].isin(th_zi_sections_example))\n",
    "                         ]  \n",
    "plot_th_mask_with_cell_overlay(th_sections_df, mask_img, th_zi_sections_example, \n",
    "                               column='class', trim_to_th=True)"
   ]
  },
  {
   "cell_type": "markdown",
   "metadata": {
    "tags": []
   },
   "source": [
    "#### TH+ZI subset \n",
    "\n",
    "##### with mask"
   ]
  },
  {
   "cell_type": "code",
   "execution_count": 82,
   "metadata": {
    "tags": []
   },
   "outputs": [],
   "source": [
    "# th_mask_dilated = abc.sectionwise_dilation(th_mask, dist_px)\n",
    "\n",
    "cells_df_th = cells_df_abc[(cells_df_abc['z_reconstructed'].isin(th_zi_sections))\n",
    "                           ]\n",
    "\n",
    "plot_th_mask_with_cell_overlay(cells_df_th, mask_img, th_zi_sections, column='class', trim_to_th=True)"
   ]
  },
  {
   "cell_type": "markdown",
   "metadata": {},
   "source": [
    "##### no mask"
   ]
  },
  {
   "cell_type": "code",
   "execution_count": 94,
   "metadata": {
    "tags": []
   },
   "outputs": [],
   "source": [
    "plot_th_mask_with_cell_overlay(cells_df_th, mask_img, th_zi_sections_example, \n",
    "                               column='class', trim_to_th=True, show_mask=False)"
   ]
  },
  {
   "cell_type": "markdown",
   "metadata": {},
   "source": [
    "#### TH+ZI neurons with mask"
   ]
  },
  {
   "cell_type": "code",
   "execution_count": 98,
   "metadata": {
    "tags": []
   },
   "outputs": [],
   "source": [
    "nn_classes = ['30 Astro-Epen', '31 OPC-Oligo', '32 OEC', '33 Vascular', '34 Immune']\n",
    "# th_zi_classes = ['12 HY GABA', '13 CNU-HYa Glut','17 MH-LH Glut','18 TH Glut']\n",
    "neuronal_cells_df = cells_df_th[(~cells_df_th['class'].isin(nn_classes))\n",
    "                             & (cells_df_th['z_reconstructed'].isin(th_zi_sections_example))\n",
    "                            ]"
   ]
  },
  {
   "cell_type": "code",
   "execution_count": 99,
   "metadata": {
    "tags": []
   },
   "outputs": [],
   "source": [
    "plot_th_mask_with_cell_overlay(neuronal_cells_df, mask_img, th_zi_sections_example, \n",
    "                               column='class', trim_to_th=True, show_mask=True)"
   ]
  },
  {
   "cell_type": "code",
   "execution_count": 100,
   "metadata": {
    "tags": []
   },
   "outputs": [],
   "source": [
    "plot_th_mask_with_cell_overlay(neuronal_cells_df, mask_img, th_zi_sections_example, \n",
    "                               column='class', trim_to_th=True, show_mask=False)"
   ]
  },
  {
   "cell_type": "markdown",
   "metadata": {},
   "source": [
    "#### TH+ZI+MB neurons"
   ]
  },
  {
   "cell_type": "code",
   "execution_count": 103,
   "metadata": {
    "tags": []
   },
   "outputs": [],
   "source": [
    "neuronal_th_cells_df = abc.filter_by_class_thalamus(neuronal_cells_df, \n",
    "                                                    filter_nonneuronal=True,\n",
    "                                                    filter_midbrain=False, \n",
    "                                                    filter_other_nonTH=True)"
   ]
  },
  {
   "cell_type": "code",
   "execution_count": 104,
   "metadata": {
    "tags": []
   },
   "outputs": [],
   "source": [
    "plot_th_mask_with_cell_overlay(neuronal_th_cells_df, mask_img, th_zi_sections_example, \n",
    "                               column='class', trim_to_th=True, show_mask=False)"
   ]
  },
  {
   "cell_type": "markdown",
   "metadata": {
    "tags": []
   },
   "source": [
    "### examine end sections with poor match\n",
    "\n",
    "this is with a 300um dilation from above"
   ]
  },
  {
   "cell_type": "code",
   "execution_count": 22,
   "metadata": {
    "tags": []
   },
   "outputs": [],
   "source": [
    "z = 8.4\n",
    "plt.imshow(th_mask_dilated[:,:, int(np.rint(z/0.2))].T, extent=[0, 11, 11, 0])\n",
    "sns.scatterplot(data=cells_df.query(f\"thal_subclass & z_reconstructed=={z}\"), x=coords[0], y=coords[1])\n",
    "plt.ylim(7, 5)\n",
    "plt.xlim(4, 7)"
   ]
  },
  {
   "cell_type": "code",
   "execution_count": 23,
   "metadata": {
    "tags": []
   },
   "outputs": [],
   "source": [
    "z = 4.8\n",
    "plt.imshow(th_mask_dilated[:,:, int(np.rint(z/0.2))].T, extent=[0, 11, 11, 0])\n",
    "sns.scatterplot(data=cells_df.query(f\"thal_subclass & z_reconstructed>{z-0.1} & z_reconstructed<{z+0.1}\"), x=coords[0], y=coords[1], s=4)\n",
    "plt.ylim(6, 4)\n",
    "plt.xlim(2, 8)"
   ]
  },
  {
   "cell_type": "code",
   "execution_count": 24,
   "metadata": {
    "tags": []
   },
   "outputs": [],
   "source": [
    "z = 5.6\n",
    "plt.imshow(th_mask_dilated[:,:, int(np.rint(z/0.2))].T, extent=[0, 11, 11, 0])\n",
    "sns.scatterplot(data=cells_df.query(f\"thal_subclass & z_reconstructed>{z-0.1} & z_reconstructed<{z+0.1}\"), x=coords[0], y=coords[1], s=4)\n",
    "# plt.ylim(7, 5)\n",
    "# plt.xlim(4, 7)"
   ]
  },
  {
   "cell_type": "markdown",
   "metadata": {},
   "source": [
    "# For reference, do not rerun"
   ]
  },
  {
   "cell_type": "code",
   "execution_count": 25,
   "metadata": {},
   "outputs": [],
   "source": [
    "# to break a \"run all\"\n",
    "assert False"
   ]
  },
  {
   "cell_type": "markdown",
   "metadata": {},
   "source": [
    "### Using a true dilation by radius \n",
    "\n",
    "takes much longer, doesn't look much different."
   ]
  },
  {
   "cell_type": "code",
   "execution_count": null,
   "metadata": {
    "tags": []
   },
   "outputs": [],
   "source": [
    "data = dict()\n",
    "for radius in [1,5,10,15,20,30]:\n",
    "    mask = abc.sectionwise_dilation(th_mask, radius, true_radius=True)\n",
    "    abc.label_masked_cells(cells_df, mask, coords, res, field_name=field_name)\n",
    "    data[radius*0.01] = (cells_df.loc[cells_df['thal_subclass']]\n",
    "        .groupby('z_reconstructed')[field_name].mean().loc[lambda x: x>0])"
   ]
  },
  {
   "cell_type": "code",
   "execution_count": null,
   "metadata": {
    "tags": []
   },
   "outputs": [],
   "source": [
    "for i, xy in data.items():\n",
    "    plt.plot(xy, label=i)\n",
    "\n",
    "plt.ylabel('Proportion selected')\n",
    "plt.xlabel('section z')\n",
    "plt.legend(title='Dilation radius')"
   ]
  },
  {
   "cell_type": "markdown",
   "metadata": {},
   "source": [
    "## full 10um ccf"
   ]
  },
  {
   "cell_type": "code",
   "execution_count": 32,
   "metadata": {
    "tags": []
   },
   "outputs": [],
   "source": [
    "# very slow to do operations with this large image volume\n",
    "\n",
    "# ccf_img = abc.get_ccf_labels_image()\n",
    "# # takes about 1 min\n",
    "# th_mask = np.isin(ccf_img, th_zi_ind)"
   ]
  },
  {
   "cell_type": "markdown",
   "metadata": {},
   "source": [
    "# Experiments?"
   ]
  },
  {
   "cell_type": "markdown",
   "metadata": {},
   "source": [
    "## mask into polygon"
   ]
  },
  {
   "cell_type": "code",
   "execution_count": null,
   "metadata": {
    "tags": []
   },
   "outputs": [],
   "source": [
    "# import skimage as ski\n",
    "\n",
    "# z = th_zi_sections[7]\n",
    "# mask_ind = int(np.rint(z/0.2))\n",
    "# ex_th_mask = np.squeeze(th_mask_dilated[:,:,mask_ind]).T\n",
    "\n",
    "# contours = ski.measure.find_contours(ex_th_mask)\n",
    "\n",
    "# # Display the image and plot all contours found\n",
    "# fig, ax = plt.subplots()#figsize=(20,30))\n",
    "# ax.imshow(ex_th_mask, cmap='gray')#, extent=(0,11,0,11))\n",
    "\n",
    "# for contour in contours:\n",
    "#     ax.plot(contour[:, 1], contour[:, 0], linewidth=1)\n",
    "    \n",
    "#     poly_coords = ski.measure.approximate_polygon(contour, tolerance=1.0)\n",
    "#     ax.plot(poly_coords[:, 1], poly_coords[:, 0], linewidth=1)\n",
    "    \n",
    "# ax.axis('image')\n",
    "# # ax.set_xlim(250,900)\n",
    "# # ax.set_ylim(750,375)\n",
    "# # ax.set_xlim(580,620)\n",
    "# # ax.set_ylim(450,375)\n",
    "# # ax.set_xticks([])\n",
    "# # ax.set_yticks([])\n",
    "# plt.show()\n",
    "\n",
    "# print(f'{len(contour)=}')\n",
    "# print(f'{len(poly_coords)=}')"
   ]
  },
  {
   "cell_type": "code",
   "execution_count": 40,
   "metadata": {
    "tags": []
   },
   "outputs": [],
   "source": [
    "th_start_ind = int(th_zi_sections[0]/0.2)\n",
    "th_end_ind = int(th_zi_sections[-1]/0.2)+1\n",
    "th_mask_subset = th_mask_dilated[:,:,th_start_ind:th_end_ind]\n",
    "\n",
    "th_mask_sobel_edge = np.zeros_like(th_mask_subset)"
   ]
  },
  {
   "cell_type": "code",
   "execution_count": 41,
   "metadata": {
    "tags": []
   },
   "outputs": [],
   "source": [
    "n_col = 2\n",
    "n_row = int(np.ceil(th_mask_subset.shape[2] / n_col))\n",
    "fig, axes = plt.subplots(n_row, n_col, figsize=(12,30))\n",
    "axes = axes.ravel()\n",
    "\n",
    "x_min = 2.5; x_max = 8.5; y_min = 7.5; y_max = 4\n",
    "\n",
    "for z in np.arange(th_mask_subset.shape[2]):\n",
    "    ax = axes[z]\n",
    "    ax.imshow(np.squeeze(th_mask_subset[:,:,z]).T,cmap='gray', extent=(0,11,0,11))\n",
    "    ax.set_xlim(2,9)\n",
    "    ax.set_ylim(3.5,7.5)\n",
    "    # plt.xlim(3.8,4.2)\n",
    "    # plt.ylim(4.5,5)"
   ]
  },
  {
   "cell_type": "code",
   "execution_count": null,
   "metadata": {
    "tags": []
   },
   "outputs": [],
   "source": [
    "n_col = 2\n",
    "n_row = int(np.ceil(th_mask_subset.shape[2] / n_col))\n",
    "fig, axes = plt.subplots(n_row, n_col, figsize=(12,30))\n",
    "axes = axes.ravel()\n",
    "\n",
    "x_min = 2.5; x_max = 8.5; y_min = 7.5; y_max = 4\n",
    "\n",
    "for z in np.arange(th_mask_subset.shape[2]):\n",
    "    sobel_edge = ski.filters.roberts(np.squeeze(th_mask_subset[:,:,z]))\n",
    "    th_mask_sobel_edge[:,:,z] = sobel_edge\n",
    "\n",
    "    ax = axes[z]\n",
    "    ax.imshow(sobel_edge.T,cmap='gray', extent=(0,11,0,11))\n",
    "    ax.set_xlim(2.5,8.5)\n",
    "    ax.set_ylim(4,7)\n",
    "    # plt.xlim(3.8,4.2)\n",
    "    # plt.ylim(4.5,5)"
   ]
  },
  {
   "cell_type": "markdown",
   "metadata": {},
   "source": [
    "## remove small mistake regions"
   ]
  },
  {
   "cell_type": "code",
   "execution_count": 34,
   "metadata": {
    "tags": []
   },
   "outputs": [],
   "source": [
    "dilated_th_mask = abc.sectionwise_dilation(th_mask, distance_px=20)"
   ]
  },
  {
   "cell_type": "code",
   "execution_count": 35,
   "metadata": {
    "tags": []
   },
   "outputs": [],
   "source": [
    "plt.imshow(dilated_th_mask[:,:,42].T,cmap='gray') #, extent=(0,11,0,11))"
   ]
  },
  {
   "cell_type": "code",
   "execution_count": 36,
   "metadata": {
    "tags": []
   },
   "outputs": [],
   "source": [
    "max_area_ratio=0.1\n",
    "mask_img = dilated_th_mask[:,:,32]\n",
    "\n",
    "labeled_mask, n_features = ndi.label(mask_img)\n",
    "\n",
    "# calculate the area of the largest region\n",
    "largest_region = np.argmax(ndi.sum(mask_img, labeled_mask, range(n_features + 1)))\n",
    "largest_area = np.sum(labeled_mask==largest_region)\n",
    "\n",
    "# filter out regions with area ratio smaller than the specified threshold\n",
    "regions_to_keep = [label for label \n",
    "                   in range(1, n_features + 1) \n",
    "                   if np.sum(labeled_mask==label) / largest_area >= max_area_ratio\n",
    "                  ]\n",
    "\n",
    "# make a new mask with only the remaining objects\n",
    "new_mask_img = np.isin(labeled_mask, regions_to_keep)\n",
    "\n",
    "plt.imshow(new_mask_img.T,cmap='gray')"
   ]
  },
  {
   "cell_type": "code",
   "execution_count": 37,
   "metadata": {
    "tags": []
   },
   "outputs": [],
   "source": [
    "mask_img = dilated_th_mask\n",
    "\n",
    "new_mask_img = np.zeros_like(mask_img)\n",
    "for sec in range(mask_img.shape[2]):\n",
    "    mask_2d = mask_img[:,:,sec]\n",
    "\n",
    "    labeled_mask, n_regions = ndi.label(mask_2d)\n",
    "\n",
    "    # calculate the area of the largest region\n",
    "    largest_region = np.argmax(ndi.sum(mask_2d, labeled_mask, range(n_regions+1)))\n",
    "    largest_area = np.sum(labeled_mask==largest_region)\n",
    "\n",
    "    # filter out regions with area ratio smaller than the specified threshold\n",
    "    regions_to_keep = [label for label \n",
    "                       in range(1, n_regions+1) \n",
    "                       if np.sum(labeled_mask==label) / largest_area >= max_area_ratio\n",
    "                      ]\n",
    "    # make a new mask with only the remaining objects\n",
    "    new_mask_img[:,:,sec] = np.isin(labeled_mask, regions_to_keep)\n",
    "    \n",
    "plt.imshow(new_mask_img[:,:,32].T,cmap='gray')"
   ]
  },
  {
   "cell_type": "code",
   "execution_count": null,
   "metadata": {},
   "outputs": [],
   "source": []
  }
 ],
 "metadata": {
  "kernelspec": {
   "display_name": "Python 3 (ipykernel)",
   "language": "python",
   "name": "python3"
  },
  "language_info": {
   "codemirror_mode": {
    "name": "ipython",
    "version": 3
   },
   "file_extension": ".py",
   "mimetype": "text/x-python",
   "name": "python",
   "nbconvert_exporter": "python",
   "pygments_lexer": "ipython3",
   "version": "3.9.12"
  },
  "vscode": {
   "interpreter": {
    "hash": "d4d1e4263499bec80672ea0156c357c1ee493ec2b1c70f0acce89fc37c4a6abe"
   }
  }
 },
 "nbformat": 4,
 "nbformat_minor": 4
}
