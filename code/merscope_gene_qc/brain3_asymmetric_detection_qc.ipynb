{
 "cells": [
  {
   "cell_type": "markdown",
   "id": "7c5fead6-81f3-4915-814b-f904924f4942",
   "metadata": {},
   "source": [
    "# L-R Asymmetries in brain3\n",
    "\n",
    "see [2023-08-29_sections_1199651045_048_asymmetry.pptx](https://alleninstitute.sharepoint.com/:p:/s/U19Thalamus/EUnDEPa5Cl1DqPJOTy8mVX4B2e2vdE6V54bPOSG-XnLzDQ?e=EUxCIA) in U19 Thalamus - Project 2 - Reports folder for more details\n",
    "\n",
    "**Issue that prompted this notebook:**\n",
    "- In general, SpaGCN picks up on L-R symmetries, giving the same labels to domains in the R hemisphere as to the L hemisphere\n",
    "- But, in two sections [1199651048, 1199651045] of brain3, SpaGCN assigns *different* domain IDs to what should be identical regions of the left vs right hemispheres \n",
    "- Initializing SpaGCN with fewer clusters does not fully alleviate the asymmetry\n",
    "- See [thalamus-merfish-spaGCN capsule](https://codeocean.allenneuraldynamics.org/capsule/0220088/tree) for those results\n",
    "\n",
    "**Why is this happening?**\n",
    "- Low transcript detection and/or missing cells in the right hemispheres of both sections\n",
    "    - These sections were kept & analyzed for the WMB atlas, despite poor right hemisphere quality, because the left hemisphere was deemed good enough quality to still use\n",
    "\n",
    "**In what other analyses does this issue appear?**\n",
    "- L-R asymmetry does NOT appear significantly in cell type mapping\n",
    "    - see [insert] in this capsule for these results\n",
    "- L-R asymmetry DOES appear in NMF & spatial factorization analyses \n",
    "    - see [merfish-spatial-factorization_mat-copy capsule](https://codeocean.allenneuraldynamics.org/capsule/8871728/tree) for these results\n",
    "\n",
    "**Conclusion:**\n",
    "- Going forward, conduct MERFISH gene expression analyses & interpretation on only the left hemispheres of sections 1199651048 & 1199651045\n",
    "- Probably best to also subset all sections to just the left hemisphere so analyses can be run identically on all sections\n",
    "    - Can then take the mirror image of the right hemispheres and treat them as n=2\n",
    "    - NOT recommended to mirror the \"good\" left hemispheres into the \"bad\" right hemispheres - basically duplicating data"
   ]
  },
  {
   "cell_type": "code",
   "execution_count": 1,
   "id": "d727cb47-412c-4b49-95c8-6abd8f1acd52",
   "metadata": {},
   "outputs": [],
   "source": [
    "import numpy as np\n",
    "import pandas as pd\n",
    "import anndata as ad\n",
    "import matplotlib.pyplot as plt\n",
    "import matplotlib.ticker as mticker\n",
    "import matplotlib\n",
    "import seaborn as sns\n",
    "from scipy import sparse, stats\n",
    "from sklearn import linear_model, datasets\n",
    "\n",
    "%matplotlib inline "
   ]
  },
  {
   "cell_type": "markdown",
   "id": "e51bb988-efb0-4c70-a15d-0c29090aabdd",
   "metadata": {},
   "source": [
    "# Load brain3 adata"
   ]
  },
  {
   "cell_type": "code",
   "execution_count": 2,
   "id": "fb0ba169-5eb0-463f-b6d9-cc0d8ff613e2",
   "metadata": {},
   "outputs": [],
   "source": [
    "adata_brain3 = ad.read_h5ad(\"/root/capsule/data/merfish_638850_AIT17.custom_CCF_annotated_TH_ZI_only_2023-05-04_00-00-00/atlas_brain_638850_AIT17_custom_CCF_annotated_TH_ZI_only.h5ad\") "
   ]
  },
  {
   "cell_type": "code",
   "execution_count": 3,
   "id": "d5baa41f-7b44-4f90-a59c-87fe9b8e5964",
   "metadata": {},
   "outputs": [],
   "source": [
    "genes = sorted([x for x in adata_brain3.var_names if 'Blank' not in x])\n",
    "blanks = sorted([x for x in adata_brain3.var_names if 'Blank' in x])\n",
    "\n",
    "adata_brain3 = adata_brain3[:,genes].copy()\n",
    "# adata_brain3"
   ]
  },
  {
   "cell_type": "markdown",
   "id": "075c632e-1186-4269-840e-1ab251cd0339",
   "metadata": {},
   "source": [
    "# Split the cells into L vs R hemisphere\n",
    "\n",
    "Using an approximate method for now so I can do these diagnostic analyses quickly: find bounding box that contains all cells & then use the halfway point on the x-axis as the approx. midline\n",
    "\n",
    "TODO: use the CCF-aligned polygons for a more accurate division"
   ]
  },
  {
   "cell_type": "code",
   "execution_count": 4,
   "id": "0072dabb-9e7b-4bbb-82b6-41fcc982b926",
   "metadata": {},
   "outputs": [],
   "source": [
    "# Assign each cell to the left or right hemisphere\n",
    "for sec in adata_brain3.obs['section'].unique():\n",
    "    # get the x-coordinates of all cells in this section\n",
    "    x_coords = adata_brain3.obsm['spatial_cirro'][adata_brain3.obs['section']==sec,0]\n",
    "    \n",
    "    # option 1 (best): find bounding box & use halfway as midline\n",
    "    min_x = np.min(x_coords)\n",
    "    max_x = np.max(x_coords)\n",
    "    x_midpoint = (min_x + max_x) / 2\n",
    "    \n",
    "#     # option 2: mean x coord\n",
    "#     x_midpoint = np.mean(x_coords)\n",
    "    \n",
    "#     # option 2: median x coord\n",
    "#     x_midpoint = np.median(x_coords)\n",
    "    \n",
    "    # classify each cell as left or right\n",
    "    adata_brain3.obs.loc[adata_brain3.obs['section']==sec, 'left_right'] = np.where(x_coords < x_midpoint, 'left', 'right')"
   ]
  },
  {
   "cell_type": "code",
   "execution_count": 5,
   "id": "19f69421-9679-4293-b971-7da7f45a4e99",
   "metadata": {},
   "outputs": [],
   "source": [
    "# split left and right into their own anndata objects for ease of use\n",
    "left_hemi_ad = adata_brain3[adata_brain3.obs['left_right']=='left']\n",
    "right_hemi_ad = adata_brain3[adata_brain3.obs['left_right']=='right']"
   ]
  },
  {
   "cell_type": "code",
   "execution_count": 6,
   "id": "355c4f28-84bc-47b2-a603-7e18060d9d9b",
   "metadata": {},
   "outputs": [],
   "source": [
    "# Sanity check that our approx. method of detecting the midline work okay\n",
    "fig = plt.figure(figsize=(20,8))\n",
    "\n",
    "# for sec in adata_brain3.obs['section'].unique():\n",
    "ax = plt.gca()\n",
    "\n",
    "# plot left vs right cells in different colors\n",
    "ax.scatter(left_hemi_ad.obsm['spatial_cirro'][:,0], \n",
    "           left_hemi_ad.obsm['spatial_cirro'][:,1],\n",
    "           c='magenta', s=1, label='left hemisphere (approx.)')\n",
    "ax.scatter(right_hemi_ad.obsm['spatial_cirro'][:,0], \n",
    "           right_hemi_ad.obsm['spatial_cirro'][:,1],\n",
    "           c='green', s=1, label='right hemisphere (approx.)')\n",
    "ax.set_aspect('equal', 'box')\n",
    "ax.legend(loc='upper left', markerscale=7, frameon=False)\n",
    "ax.set_xticks([])\n",
    "ax.set_yticks([])\n",
    "ax.set_xlabel(None)\n",
    "ax.set_ylabel(None)\n",
    "ax.spines[['top', 'bottom', 'right', 'left']].set_visible(False)"
   ]
  },
  {
   "cell_type": "markdown",
   "id": "0b0579d1-fcf0-4187-a211-3370bf0f3641",
   "metadata": {},
   "source": [
    "# L vs R metrics"
   ]
  },
  {
   "cell_type": "code",
   "execution_count": 7,
   "id": "e7513635-97d2-4e81-9c92-32b0bc5a8a35",
   "metadata": {},
   "outputs": [],
   "source": [
    "sec_ids = adata_brain3.obs['section'].unique().tolist()\n",
    "\n",
    "# Store metrics in a per-section dataframe\n",
    "sec_properties_df = pd.DataFrame(index=sec_ids)"
   ]
  },
  {
   "cell_type": "markdown",
   "id": "548c727d-903d-4d87-8451-96aea0475bfc",
   "metadata": {},
   "source": [
    "## total # of cells in L vs R hemisphere"
   ]
  },
  {
   "cell_type": "markdown",
   "id": "adde3c0c-7a47-4775-941c-b9cc71a3a5c5",
   "metadata": {},
   "source": [
    "### calculate"
   ]
  },
  {
   "cell_type": "code",
   "execution_count": 8,
   "id": "efb04d45-b92d-49e6-8505-185d8333d065",
   "metadata": {},
   "outputs": [],
   "source": [
    "# Count the number of cells in each hemisphere\n",
    "for sec in sec_ids:\n",
    "    n_cells_left = sum((adata_brain3.obs['section']==sec) & \n",
    "                       (adata_brain3.obs['left_right']=='left')\n",
    "                      )\n",
    "    n_cells_right = sum((adata_brain3.obs['section']==sec) & \n",
    "                        (adata_brain3.obs['left_right']=='right')\n",
    "                       )\n",
    "    n_cells_pct_diff = (abs(n_cells_left - n_cells_right) / ((n_cells_left + n_cells_right) / 2)) * 100\n",
    "    \n",
    "    sec_properties_df.loc[sec,'n_cells_left'] = n_cells_left\n",
    "    sec_properties_df.loc[sec,'n_cells_right'] = n_cells_right\n",
    "    sec_properties_df.loc[sec,'n_cells_pct_diff'] = n_cells_pct_diff\n",
    "    \n",
    "\n",
    "sec_properties_df['n_cells_left'] = sec_properties_df['n_cells_left'].astype(int)\n",
    "sec_properties_df['n_cells_right'] = sec_properties_df['n_cells_right'].astype(int)"
   ]
  },
  {
   "cell_type": "markdown",
   "id": "f3d110d2-548b-4c3c-8d4b-59b747e33d46",
   "metadata": {},
   "source": [
    "### plot"
   ]
  },
  {
   "cell_type": "code",
   "execution_count": 9,
   "id": "b4bcffc4-f238-4bb3-83f4-c5c61a9e7f81",
   "metadata": {},
   "outputs": [],
   "source": [
    "sns.color_palette(\"hls\", len(sec_ids))"
   ]
  },
  {
   "cell_type": "code",
   "execution_count": 10,
   "id": "e4814f8a-6d45-4402-b34b-fb4083b5064b",
   "metadata": {},
   "outputs": [],
   "source": [
    "# Plot L vs R total # of cells per hemisphere\n",
    "fig, ax = plt.subplots(figsize=(8,8))\n",
    "\n",
    "colors = sns.color_palette(\"hls\", len(sec_ids)+1)\n",
    "\n",
    "\n",
    "xymin = np.min([sec_properties_df['n_cells_left'].min(), \n",
    "               sec_properties_df['n_cells_right'].min()])\n",
    "xymax = np.max([sec_properties_df['n_cells_left'].max(), \n",
    "               sec_properties_df['n_cells_right'].max()])\n",
    "ax.plot([xymin,xymax], [xymin,xymax], color='silver', linestyle='--',zorder=0)\n",
    "\n",
    "for i in range(len(sec_properties_df)):\n",
    "    # highlight the two problematic sections\n",
    "    if sec_ids[i] in ['1199651045', '1199651048']:\n",
    "        ax.scatter(sec_properties_df['n_cells_right'][i], \n",
    "                   sec_properties_df['n_cells_left'][i], \n",
    "                   s=200, color=colors[i], label=sec_ids[i],\n",
    "                   edgecolors='black')\n",
    "    else:\n",
    "        ax.scatter(sec_properties_df['n_cells_right'][i], \n",
    "                   sec_properties_df['n_cells_left'][i], \n",
    "                   s=100, color=colors[i], label=sec_ids[i])\n",
    "\n",
    "# Create a legend for all the scatter points\n",
    "ax.set_aspect('equal', 'box')\n",
    "# ax.set_xscale('log')\n",
    "# ax.set_yscale('log')\n",
    "ax.legend(loc=\"center left\", bbox_to_anchor=(1.,0.5), title=\"Section ID\", \n",
    "          fontsize=14, frameon=False)\n",
    "\n",
    "ax.set_xlabel('# of cells in right hemisphere', fontsize=12)\n",
    "ax.set_ylabel('# of cells in left hemisphere', fontsize=12)\n",
    "plt.title('brain3')\n",
    "plt.show()"
   ]
  },
  {
   "cell_type": "markdown",
   "id": "d5a73f43-7b5e-4dc1-a424-15d0a1898ff7",
   "metadata": {},
   "source": [
    "## Gene expression based metrics\n",
    "\n",
    "total reads, mean expression, median expression, 95th & 99th percentile expression, number of cells expressing, fraction of cells expressing"
   ]
  },
  {
   "cell_type": "markdown",
   "id": "bd90b790-b2de-4256-8ba7-92cad3b4f677",
   "metadata": {},
   "source": [
    "### calculate expression metrics"
   ]
  },
  {
   "cell_type": "code",
   "execution_count": 11,
   "id": "a5924825-366d-4faf-b753-dbc2b02cf02d",
   "metadata": {},
   "outputs": [],
   "source": [
    "# dictionary to store each section's metrics as a separate, gene-by-metric df\n",
    "section_LR_properties = {}\n",
    "\n",
    "# Calculate all the gene expression-based metrics\n",
    "for sec in sec_ids:\n",
    "    gene_expr_left = adata_brain3[(adata_brain3.obs['section']==sec) & \n",
    "                                  (adata_brain3.obs['left_right']=='left')].X.A\n",
    "    gene_expr_right = adata_brain3[(adata_brain3.obs['section']==sec) & \n",
    "                                   (adata_brain3.obs['left_right']=='right')].X.A\n",
    "    \n",
    "    # Calculate the number of cells in sec_adata_left and sec_adata_right\n",
    "    num_cells_left = gene_expr_left.shape[0]\n",
    "    num_cells_right = gene_expr_right.shape[0]\n",
    "    \n",
    "    # Calculate expression metrics for each gene (gene axis=0)\n",
    "    # total reads\n",
    "    total_reads_left = np.sum(gene_expr_left, axis=0)\n",
    "    total_reads_right = np.sum(gene_expr_right, axis=0)\n",
    "    # mean\n",
    "    mean_left = np.mean(gene_expr_left, axis=0)\n",
    "    mean_right = np.mean(gene_expr_right, axis=0)\n",
    "    # median\n",
    "    median_left = np.median(gene_expr_left, axis=0)\n",
    "    median_right = np.median(gene_expr_right, axis=0)\n",
    "    # 95th percentile expression\n",
    "    pct = 95\n",
    "    pct95_left = np.percentile(gene_expr_left, q=pct, axis=0)\n",
    "    pct95_right = np.percentile(gene_expr_right, q=pct, axis=0)\n",
    "    # 99th percentile expression\n",
    "    pct = 95\n",
    "    pct99_left = np.percentile(gene_expr_left, q=pct, axis=0)\n",
    "    pct99_right = np.percentile(gene_expr_right, q=pct, axis=0)\n",
    "    # number of cells expressing each gene\n",
    "    n_cells_expr_left = np.sum(gene_expr_left > 0, axis=0)\n",
    "    n_cells_expr_right = np.sum(gene_expr_right > 0, axis=0)\n",
    "    \n",
    "    # Create a dictionary to store the results\n",
    "    gene_data = {\n",
    "                 # total reads\n",
    "                 'total_reads_left': total_reads_left,\n",
    "                 'total_reads_right': total_reads_right,\n",
    "                 # mean\n",
    "                 'mean_left': mean_left,\n",
    "                 'mean_right': mean_right,\n",
    "                 'mean_left_per_cell': mean_left / num_cells_left,\n",
    "                 'mean_right_per_cell': mean_right / num_cells_right,\n",
    "                 # median\n",
    "                 'median_left': median_left,\n",
    "                 'median_right': median_right,\n",
    "                 'median_left_per_cell': median_left / num_cells_left,\n",
    "                 'median_right_per_cell': median_right / num_cells_right,\n",
    "                 # 95th percentile\n",
    "                 '95pct_left': pct95_left,\n",
    "                 '95pct_right': pct95_right,\n",
    "                 '95pct_left_per_cell': pct95_left / num_cells_left,\n",
    "                 '95pct_right_per_cell': pct95_right / num_cells_right,\n",
    "                 # 99th percentile\n",
    "                 '99pct_left': pct99_left,\n",
    "                 '99pct_right': pct99_right,\n",
    "                 '99pct_left_per_cell': pct99_left / num_cells_left,\n",
    "                 '99pct_right_per_cell': pct99_right / num_cells_right,\n",
    "                 # fraction of cells that are expressing\n",
    "                 'n_cells_expr_left': n_cells_expr_left,\n",
    "                 'n_cells_expr_right': n_cells_expr_right,\n",
    "                 'frac_cells_expr_left': n_cells_expr_left / num_cells_left,\n",
    "                 'frac_cells_expr_right': n_cells_expr_right / num_cells_right\n",
    "                }\n",
    "\n",
    "    # Convert the dictionary to a DataFrame\n",
    "    sec_df = pd.DataFrame(gene_data, index=genes)\n",
    "    \n",
    "    # Add to per-section dictionary\n",
    "    section_LR_properties[sec] = sec_df\n",
    "    \n",
    "# section_LR_properties"
   ]
  },
  {
   "cell_type": "code",
   "execution_count": 12,
   "id": "a675990f-d1aa-483f-8e47-69c99c69ed19",
   "metadata": {},
   "outputs": [],
   "source": [
    "# # uncomment to see the format of this df\n",
    "# section_LR_properties['1199651048']"
   ]
  },
  {
   "cell_type": "markdown",
   "id": "61d44f97-6105-4474-8d52-2bd6eb58235b",
   "metadata": {
    "tags": []
   },
   "source": [
    "### plot_left_vs_right_hemisphere_metric()"
   ]
  },
  {
   "cell_type": "code",
   "execution_count": 13,
   "id": "b9bd03c4-6209-4468-9322-24cbf2621744",
   "metadata": {},
   "outputs": [],
   "source": [
    "def plot_left_vs_right_hemisphere_metric(section_LR_properties, sec_ids, \n",
    "                                         property_col_left, property_col_right,\n",
    "                                         property_name_str, genes_to_highlight=[], \n",
    "                                         xymin=None, xymax=None):\n",
    "    '''\n",
    "    Plot left vs right hemisphere metrics.\n",
    "    \n",
    "    Parameters\n",
    "    ----------\n",
    "    section_LR_properties: dictionary of Pandas dataframes\n",
    "        as generated earlier in this notebook\n",
    "    \n",
    "    sec_ids: list of strings\n",
    "        IDs of sections to generate plots for\n",
    "    \n",
    "    property_col_left, property_col_right:\n",
    "        name of df columns to plot\n",
    "    \n",
    "    property_name_str: string\n",
    "        name of the property as you want it to appear as the title of the plot\n",
    "        \n",
    "    genes_to_highlight: list of strings\n",
    "        names of genes that will be plotted larger & in a different color\n",
    "        \n",
    "    Returns\n",
    "    ------\n",
    "    fig: Matplotlib figure\n",
    "    \n",
    "    '''\n",
    "    \n",
    "    fig, axs = plt.subplots(1, 4, figsize=(24, 7))\n",
    "    plt.subplots_adjust(wspace=0.2)\n",
    "\n",
    "    for i, sec_id_str in enumerate(sec_ids):\n",
    "        # get the current section from the dictionary\n",
    "        sec_df = section_LR_properties[sec_id_str]\n",
    "        genes = sec_df.index.tolist()\n",
    "\n",
    "        ax = axs[i]  # Select the current subplot\n",
    "\n",
    "        ax.scatter(sec_df.loc[:, property_col_right], \n",
    "                   sec_df.loc[:, property_col_left],\n",
    "                   s=10, zorder=0, alpha=0.5, label='brain3 genes')\n",
    "\n",
    "        for gene in genes:\n",
    "            # highlight specified genes - larger, different colors, labeled\n",
    "            if gene in genes_to_highlight:\n",
    "                ax.scatter(sec_df.loc[gene, property_col_right], \n",
    "                           sec_df.loc[gene, property_col_left],\n",
    "                           s=200, zorder=3, label=gene, edgecolors='k')\n",
    "        # only show legend for leftmost plot (no need to plot more than once)\n",
    "        if i==0:\n",
    "            ax.legend(loc='lower left', bbox_to_anchor=(0.1,1.1), ncol=2,\n",
    "                      frameon=True, fontsize=14)\n",
    "        # other plot parameters    \n",
    "        ax.set_aspect('equal', 'box')\n",
    "        ax.set_xscale('log')\n",
    "        ax.set_yscale('log')\n",
    "        ax.set_xlabel('right hemisphere', fontsize=16)\n",
    "        ax.set_ylabel('left hemisphere', fontsize=16)\n",
    "        ax.set_xlim(xymin, xymax)\n",
    "        ax.set_ylim(xymin, xymax)\n",
    "        ax.plot([0, xymax], [0, xymax], color='k', linestyle='--', zorder=2) # tuck 1:1 line behind highlighted genes\n",
    "        ax.set_title('section ' + sec_id_str, fontsize=16)\n",
    "    \n",
    "    plt.suptitle(property_name_str, fontsize=20)\n",
    "    plt.tight_layout() #rect=[0, 0.03, 1, 0.95])  # set aside space for suptitle\n",
    "    plt.show()\n",
    "    \n",
    "    return fig"
   ]
  },
  {
   "cell_type": "markdown",
   "id": "4c07b690-3c01-47d0-9f32-f85c26e314de",
   "metadata": {
    "jp-MarkdownHeadingCollapsed": true,
    "tags": []
   },
   "source": [
    "### RANSAC outlier detection - plot_left_vs_right_ransac()"
   ]
  },
  {
   "cell_type": "code",
   "execution_count": 14,
   "id": "e88a5abf-f60b-4046-9eeb-ac14c3ee7380",
   "metadata": {},
   "outputs": [],
   "source": [
    "def plot_left_vs_right_ransac(section_LR_properties, sec_ids, \n",
    "                                         property_col_left, property_col_right,\n",
    "                                         property_name_str, log_scale=False,\n",
    "                                         xymin=None, xymax=None):\n",
    "    '''\n",
    "    Plot left vs right hemisphere metrics w/ a RANSAC fit & outliers highlighted\n",
    "    \n",
    "    Parameters\n",
    "    ----------\n",
    "    section_LR_properties: dictionary of Pandas dataframes\n",
    "        as generated earlier in this notebook\n",
    "    \n",
    "    sec_ids: list of strings\n",
    "        IDs of sections to generate plots for\n",
    "    \n",
    "    property_col_left, property_col_right:\n",
    "        name of df columns to plot\n",
    "    \n",
    "    property_name_str: string\n",
    "        name of the property as you want it to appear as the title of the plot\n",
    "        \n",
    "    log_scale: boolean\n",
    "        whether the axes will be displayed in log scale\n",
    "        \n",
    "    Returns\n",
    "    ------\n",
    "    fig: Matplotlib figure\n",
    "    \n",
    "    '''\n",
    "    \n",
    "    fig, axs = plt.subplots(1, 4, figsize=(24, 7))\n",
    "    plt.subplots_adjust(wspace=0.2)\n",
    "\n",
    "    for i, sec_id_str in enumerate(sec_ids):\n",
    "        # get the current section from the dictionary\n",
    "        sec_df = section_LR_properties[sec_id_str]\n",
    "        genes = sec_df.index.tolist()\n",
    "        left = sec_df.loc[:, property_col_left].to_numpy()\n",
    "        right = sec_df.loc[:, property_col_right].to_numpy()\n",
    "\n",
    "        ax = axs[i]  # Select the current subplot\n",
    "        \n",
    "        # RANSAC linear fit & outlier detection\n",
    "        ransac = linear_model.RANSACRegressor()\n",
    "        ransac.fit(right.reshape(-1, 1), left)\n",
    "        inlier_mask = ransac.inlier_mask_\n",
    "        outlier_mask = np.logical_not(inlier_mask)\n",
    "        y_intercept = round(ransac.estimator_.intercept_,2)\n",
    "        slope = round(ransac.estimator_.coef_[0],2)\n",
    "        \n",
    "        # Predict data of estimated models\n",
    "        if (xymax < 100):\n",
    "            # use linspace when we need to use non-integer floating pt #s\n",
    "            fit_line_x = np.linspace(xymin, xymax)[:, np.newaxis]\n",
    "        else:\n",
    "            # otherwise, stick with the integers arange generates\n",
    "            fit_line_x = np.arange(xymin, xymax)[:, np.newaxis]   \n",
    "            \n",
    "        fit_line_y_ransac = ransac.predict(fit_line_x)\n",
    "    \n",
    "        # Plot inliers & outliers in different colors\n",
    "        ax.scatter(right[inlier_mask], left[inlier_mask],\n",
    "                   s=10, zorder=0, alpha=0.5, color='yellowgreen', \n",
    "                   label='inlier genes')\n",
    "        ax.scatter(right[outlier_mask], left[outlier_mask],\n",
    "                   s=10, zorder=0, alpha=0.5, color='gold', \n",
    "                   label='outlier genes')\n",
    "        \n",
    "        # plot RANSAC linear fit line\n",
    "        LINE_WIDTH = 2\n",
    "        equation_str = 'y = ' + str(y_intercept) + ' + ' + str(slope) + 'x'\n",
    "        ax.plot(fit_line_x, fit_line_y_ransac, color='cornflowerblue',\n",
    "                linestyle='--', linewidth=LINE_WIDTH, \n",
    "                label='RANSAC regressor\\n'+equation_str)\n",
    "        # # annotate with slope\n",
    "        # ax.text((xymin+10)*1.3, xymax*0.7,\n",
    "        #         fontsize=14)\n",
    "        \n",
    "        # plot 1:1 line\n",
    "        ax.plot([0, xymax], [0, xymax], color='k', zorder=2,\n",
    "                linestyle='--', linewidth=LINE_WIDTH, label='y = x')\n",
    "\n",
    "        # only show legend for leftmost plot (no need to plot more than once)\n",
    "        ax.legend(loc='lower left', bbox_to_anchor=(0.,1.1), ncol=2,\n",
    "                  frameon=True, fontsize=14, markerscale=4.0)\n",
    "        # other plot parameters    \n",
    "        ax.set_aspect('equal', 'box')\n",
    "        if log_scale:\n",
    "            ax.set_xscale('log')\n",
    "            ax.set_yscale('log')\n",
    "        ax.set_xlabel('right hemisphere', fontsize=16)\n",
    "        ax.set_ylabel('left hemisphere', fontsize=16)\n",
    "        ax.set_xlim(xymin, xymax)\n",
    "        ax.set_ylim(xymin, xymax)\n",
    "        ax.set_title('section ' + sec_id_str, fontsize=16)\n",
    "    \n",
    "    plt.suptitle(property_name_str, fontsize=20)\n",
    "    plt.tight_layout() #rect=[0, 0.03, 1, 0.95])  # set aside space for suptitle\n",
    "    plt.show()\n",
    "    \n",
    "    return fig"
   ]
  },
  {
   "cell_type": "markdown",
   "id": "07f04180-792f-421e-b1d4-05bfc94b14ac",
   "metadata": {},
   "source": [
    "### set plotting parameters"
   ]
  },
  {
   "cell_type": "code",
   "execution_count": 15,
   "id": "93b4f1c9-149c-4165-be64-ac830e64e211",
   "metadata": {},
   "outputs": [],
   "source": [
    "genes_to_highlight = ['Bnc1', 'Cldn5', 'Lpar1', 'Nrp1', # noticeably asymmetric, 'Whrn'\n",
    "                      'Pou6f2', 'St6galnac5' # not very noticeable\n",
    "                     ]\n",
    "\n",
    "# list anterior to posterior to match gene expression scatter plots\n",
    "sec_to_plot = [\n",
    "               '1199651054', # reasonable-looking section for comparison\n",
    "               '1199651048', # problematic section\n",
    "               '1199651045', # problematic section\n",
    "               '1199651042'  # reasonable-looking section for comparison\n",
    "              ]"
   ]
  },
  {
   "cell_type": "markdown",
   "id": "e3f514e1-089a-4f92-ba5a-13d4e5fae568",
   "metadata": {
    "tags": []
   },
   "source": [
    "### total gene reads"
   ]
  },
  {
   "cell_type": "code",
   "execution_count": 16,
   "id": "14c45f61-f5fd-4662-afed-47c86fd9455b",
   "metadata": {},
   "outputs": [],
   "source": [
    "# Total gene reads\n",
    "property_col_left = 'total_reads_left'\n",
    "property_col_right = 'total_reads_right'\n",
    "property_name = 'Total gene reads'\n",
    "XY_MIN = 10\n",
    "XY_MAX = 60000"
   ]
  },
  {
   "cell_type": "code",
   "execution_count": 17,
   "id": "d92c9cfd-7f70-4a90-8ff3-a0ddab6e6d3e",
   "metadata": {},
   "outputs": [],
   "source": [
    "# Total gene reads - with genes highlighted\n",
    "fig_tot_reads = plot_left_vs_right_hemisphere_metric(section_LR_properties, \n",
    "                                                     sec_to_plot, \n",
    "                                                     property_col_left, \n",
    "                                                     property_col_right,\n",
    "                                                     property_name, \n",
    "                                                     genes_to_highlight=genes_to_highlight,\n",
    "                                                     xymin=XY_MIN,xymax=XY_MAX)"
   ]
  },
  {
   "cell_type": "code",
   "execution_count": 18,
   "id": "e046e7b4-8b62-4652-8cb7-71377aaebb64",
   "metadata": {},
   "outputs": [],
   "source": [
    "# Total gene reads - RANSAC\n",
    "fig_tot_reads = plot_left_vs_right_ransac(section_LR_properties, sec_to_plot, \n",
    "                                          property_col_left, property_col_right,\n",
    "                                          property_name, log_scale=False,\n",
    "                                          xymin=XY_MIN, xymax=XY_MAX)\n",
    "\n",
    "fig_tot_reads_log = plot_left_vs_right_ransac(section_LR_properties, sec_to_plot, \n",
    "                                              property_col_left, property_col_right,\n",
    "                                              property_name, log_scale=True,\n",
    "                                              xymin=XY_MIN, xymax=XY_MAX)"
   ]
  },
  {
   "cell_type": "markdown",
   "id": "f99002b7-7190-4dc2-8505-330e8f1328ba",
   "metadata": {
    "jp-MarkdownHeadingCollapsed": true,
    "tags": []
   },
   "source": [
    "### # of gene expressing gene"
   ]
  },
  {
   "cell_type": "code",
   "execution_count": 19,
   "id": "7ffb4c58-ebd4-4712-bc91-0743086c0801",
   "metadata": {},
   "outputs": [],
   "source": [
    "# Total number of cells expressing each gene\n",
    "property_col_left = 'n_cells_expr_left'\n",
    "property_col_right = 'n_cells_expr_right'\n",
    "property_name = 'Number of cells expressing each gene'\n",
    "XY_MIN = 80\n",
    "XY_MAX = 15000"
   ]
  },
  {
   "cell_type": "code",
   "execution_count": 20,
   "id": "d85ab5ff-1da8-454d-9a54-026b37c52a0e",
   "metadata": {},
   "outputs": [],
   "source": [
    "# Total number of cells expressing each gene - with genes highlighted\n",
    "fig_cells_expr = plot_left_vs_right_hemisphere_metric(section_LR_properties, \n",
    "                                                      sec_to_plot, \n",
    "                                                      property_col_left, \n",
    "                                                      property_col_right,\n",
    "                                                      property_name, \n",
    "                                                      genes_to_highlight=genes_to_highlight,\n",
    "                                                      xymin=XY_MIN, xymax=XY_MAX)"
   ]
  },
  {
   "cell_type": "code",
   "execution_count": 21,
   "id": "818b3f3f-da50-4028-916a-28d73e39e2ec",
   "metadata": {},
   "outputs": [],
   "source": [
    "# Total number of cells expressing each gene - RANSAC\n",
    "fig_cells_expr = plot_left_vs_right_ransac(section_LR_properties, sec_to_plot, \n",
    "                                           property_col_left, property_col_right,\n",
    "                                           property_name, log_scale=False,\n",
    "                                           xymin=XY_MIN, xymax=XY_MAX)\n",
    "\n",
    "fig_cells_expr_log = plot_left_vs_right_ransac(section_LR_properties, sec_to_plot, \n",
    "                                               property_col_left, property_col_right,\n",
    "                                               property_name, log_scale=True,\n",
    "                                               xymin=XY_MIN, xymax=XY_MAX)"
   ]
  },
  {
   "cell_type": "markdown",
   "id": "52230117-e90c-49ce-81c7-8c4933fb4e9a",
   "metadata": {
    "tags": []
   },
   "source": [
    "### fraction of cell expressing each gene"
   ]
  },
  {
   "cell_type": "code",
   "execution_count": 22,
   "id": "a0434f29-27da-420e-85a3-e737c6b770e3",
   "metadata": {},
   "outputs": [],
   "source": [
    "# Fraction of cells expressing each gene\n",
    "property_col_left = 'frac_cells_expr_left'\n",
    "property_col_right = 'frac_cells_expr_right'\n",
    "property_name = 'Fraction of cells expressing each gene'\n",
    "XY_MIN = 0\n",
    "XY_MAX = 1"
   ]
  },
  {
   "cell_type": "code",
   "execution_count": 23,
   "id": "98b8fafd-1788-469b-b48b-b7c68eca9998",
   "metadata": {},
   "outputs": [],
   "source": [
    "# Fraction of cells expressing each gene - with genes highlighted\n",
    "fig_frac_expr = plot_left_vs_right_hemisphere_metric(section_LR_properties, \n",
    "                                                     sec_to_plot, \n",
    "                                                     property_col_left, \n",
    "                                                     property_col_right,\n",
    "                                                     property_name, \n",
    "                                                     genes_to_highlight=genes_to_highlight,\n",
    "                                                     xymin=XY_MIN, xymax=XY_MAX)"
   ]
  },
  {
   "cell_type": "code",
   "execution_count": 24,
   "id": "c3915cae-9018-41a3-a399-4898ef83462e",
   "metadata": {},
   "outputs": [],
   "source": [
    "# Fraction of cells expressing each gene - RANSAC\n",
    "fig_frac_expr = plot_left_vs_right_ransac(section_LR_properties, sec_to_plot, \n",
    "                                           property_col_left, property_col_right,\n",
    "                                           property_name, log_scale=False,\n",
    "                                           xymin=XY_MIN, xymax=XY_MAX)\n",
    "\n",
    "fig_frac_expr_log = plot_left_vs_right_ransac(section_LR_properties, sec_to_plot, \n",
    "                                               property_col_left, property_col_right,\n",
    "                                               property_name, log_scale=True,\n",
    "                                               xymin=XY_MIN, xymax=XY_MAX)"
   ]
  },
  {
   "cell_type": "markdown",
   "id": "c07ddb4f-cdf3-402b-b001-195663a0ad3f",
   "metadata": {
    "jp-MarkdownHeadingCollapsed": true,
    "tags": []
   },
   "source": [
    "### 99th percentile gene expression, normalized per cell"
   ]
  },
  {
   "cell_type": "code",
   "execution_count": 25,
   "id": "b568937a-383a-44e2-9212-7c5c4b5dae4f",
   "metadata": {},
   "outputs": [],
   "source": [
    "# 99th percentile gene expression, normalized per cell\n",
    "property_col_left = '99pct_left_per_cell'\n",
    "property_col_right = '99pct_right_per_cell'\n",
    "property_name = '99th percentile expression per cell'\n",
    "XY_MIN = 0.00004\n",
    "XY_MAX = 0.0007"
   ]
  },
  {
   "cell_type": "code",
   "execution_count": 26,
   "id": "fdca9528-03a1-4dcd-929f-f06900c0a10e",
   "metadata": {},
   "outputs": [],
   "source": [
    "# 99th pct expression - with genes highlighted\n",
    "fig_99pct = plot_left_vs_right_hemisphere_metric(section_LR_properties, \n",
    "                                                 sec_to_plot, \n",
    "                                                 property_col_left, \n",
    "                                                 property_col_right,\n",
    "                                                 property_name, \n",
    "                                                 genes_to_highlight=genes_to_highlight,\n",
    "                                                 xymin=XY_MIN, xymax=XY_MAX)"
   ]
  },
  {
   "cell_type": "code",
   "execution_count": 27,
   "id": "9cdbcde3-c65e-4ed4-adaa-4df61e6917eb",
   "metadata": {},
   "outputs": [],
   "source": [
    "# 99th pct expression - RANSAC\n",
    "fig_99pct_ransac = plot_left_vs_right_ransac(section_LR_properties, sec_to_plot, \n",
    "                                            property_col_left, property_col_right,\n",
    "                                            property_name, log_scale=False,\n",
    "                                            xymin=XY_MIN, xymax=XY_MAX)\n",
    "\n",
    "fig_99pct_ransac_log = plot_left_vs_right_ransac(section_LR_properties, sec_to_plot, \n",
    "                                                 property_col_left, property_col_right,\n",
    "                                                 property_name, log_scale=True,\n",
    "                                                 xymin=XY_MIN, xymax=XY_MAX)"
   ]
  },
  {
   "cell_type": "markdown",
   "id": "bf5f045d-8f76-49f0-a167-04c9055b4fd6",
   "metadata": {
    "jp-MarkdownHeadingCollapsed": true,
    "tags": []
   },
   "source": [
    "### 99th percentile gene expression, not normalized"
   ]
  },
  {
   "cell_type": "code",
   "execution_count": 28,
   "id": "8b2037ff-f378-4d25-b3a4-7f73fada5a96",
   "metadata": {},
   "outputs": [],
   "source": [
    "# 99th percentile gene expression, not normalized\n",
    "property_col_left = '99pct_left'\n",
    "property_col_right = '99pct_right'\n",
    "property_name = '99th percentile expression'\n",
    "XY_MIN = 0.4\n",
    "XY_MAX = 10"
   ]
  },
  {
   "cell_type": "code",
   "execution_count": 29,
   "id": "fd739cd5-c757-4ed2-8056-638b51b62c11",
   "metadata": {},
   "outputs": [],
   "source": [
    "# 99th percentile gene expression, not normalized - with genes highlighted\n",
    "fig_99pct = plot_left_vs_right_hemisphere_metric(section_LR_properties, \n",
    "                                                      sec_to_plot, \n",
    "                                                      property_col_left, \n",
    "                                                      property_col_right,\n",
    "                                                      property_name, \n",
    "                                                      genes_to_highlight=genes_to_highlight,\n",
    "                                                      xymin=XY_MIN, xymax=XY_MAX)"
   ]
  },
  {
   "cell_type": "code",
   "execution_count": 30,
   "id": "dd716377-5553-420f-9244-1fae0140ca62",
   "metadata": {},
   "outputs": [],
   "source": [
    "# 99th pct expression, not normalized - RANSAC\n",
    "fig_99pct_ransac = plot_left_vs_right_ransac(section_LR_properties, sec_to_plot, \n",
    "                                            property_col_left, property_col_right,\n",
    "                                            property_name, log_scale=False,\n",
    "                                            xymin=XY_MIN, xymax=XY_MAX)\n",
    "\n",
    "fig_99pct_ransac_log = plot_left_vs_right_ransac(section_LR_properties, sec_to_plot, \n",
    "                                                 property_col_left, property_col_right,\n",
    "                                                 property_name, log_scale=True,\n",
    "                                                 xymin=XY_MIN, xymax=XY_MAX)"
   ]
  },
  {
   "cell_type": "markdown",
   "id": "c3e937bc-24ed-44ae-9836-579b3a734d2b",
   "metadata": {},
   "source": [
    "### Mean gene expression, not normalized"
   ]
  },
  {
   "cell_type": "code",
   "execution_count": 31,
   "id": "af2f961d-55ed-4f53-93eb-df4aa38b3cc8",
   "metadata": {},
   "outputs": [],
   "source": [
    "# Mean gene expression, not normalized\n",
    "property_col_left = 'mean_left'\n",
    "property_col_right = 'mean_right'\n",
    "property_name = 'Mean expression'\n",
    "XY_MIN = 0.005\n",
    "XY_MAX = 5"
   ]
  },
  {
   "cell_type": "code",
   "execution_count": 32,
   "id": "ff40a9b6-d92b-4f40-a4c9-1290eaefe355",
   "metadata": {},
   "outputs": [],
   "source": [
    "# np.linspace(XY_MIN,XY_MAX)"
   ]
  },
  {
   "cell_type": "code",
   "execution_count": 33,
   "id": "10277227-bdcd-47c2-9d6f-fe48a6f1f2a4",
   "metadata": {},
   "outputs": [],
   "source": [
    "# Mean gene expression, not normalized - genes highlighted\n",
    "fig_mean = plot_left_vs_right_hemisphere_metric(section_LR_properties, \n",
    "                                                sec_to_plot, \n",
    "                                                property_col_left, \n",
    "                                                property_col_right,\n",
    "                                                property_name, \n",
    "                                                genes_to_highlight=genes_to_highlight,\n",
    "                                                xymin=XY_MIN, xymax=XY_MAX)"
   ]
  },
  {
   "cell_type": "code",
   "execution_count": 34,
   "id": "82afaf5e-cc9d-4ab4-b89d-c2df17a55bb0",
   "metadata": {},
   "outputs": [],
   "source": [
    "# Mean gene expression, not normalized - RANSAC\n",
    "fig_mean_ransac = plot_left_vs_right_ransac(section_LR_properties, sec_to_plot, \n",
    "                                            property_col_left, property_col_right,\n",
    "                                            property_name, log_scale=False,\n",
    "                                            xymin=XY_MIN, xymax=XY_MAX)\n",
    "\n",
    "fig_mean_ransac_log = plot_left_vs_right_ransac(section_LR_properties, sec_to_plot, \n",
    "                                                property_col_left, property_col_right,\n",
    "                                                property_name, log_scale=True,\n",
    "                                                xymin=XY_MIN, xymax=XY_MAX)"
   ]
  },
  {
   "cell_type": "markdown",
   "id": "c157f45d-bcc3-4061-be96-5177eb130096",
   "metadata": {
    "tags": []
   },
   "source": [
    "### mean gene expression, normalized per cell"
   ]
  },
  {
   "cell_type": "code",
   "execution_count": 35,
   "id": "16133dc5-023f-448c-81a7-d5e351582fe3",
   "metadata": {},
   "outputs": [],
   "source": [
    "# Mean gene expression, normalized per cell\n",
    "property_col_left = 'mean_left_per_cell'\n",
    "property_col_right = 'mean_right_per_cell'\n",
    "property_name = 'Mean expression per cell'\n",
    "XY_MIN = 0.000001\n",
    "XY_MAX = 0.0005"
   ]
  },
  {
   "cell_type": "code",
   "execution_count": 36,
   "id": "625e26fa-a6dc-445b-bf72-d7cf5f887229",
   "metadata": {},
   "outputs": [],
   "source": [
    "# Mean gene expression, normalized per cell - genes higlighted\n",
    "fig_mean_norm = plot_left_vs_right_hemisphere_metric(section_LR_properties, \n",
    "                                                     sec_to_plot, \n",
    "                                                     property_col_left, \n",
    "                                                     property_col_right,\n",
    "                                                     property_name, \n",
    "                                                     genes_to_highlight=genes_to_highlight,\n",
    "                                                     xymin=XY_MIN, xymax=XY_MAX)"
   ]
  },
  {
   "cell_type": "code",
   "execution_count": 37,
   "id": "4cc3c366-4207-4dfa-9d82-782d428c3e86",
   "metadata": {},
   "outputs": [],
   "source": [
    "# Mean gene expression, normalized - RANSAC\n",
    "fig_mean_norm_ransac = plot_left_vs_right_ransac(section_LR_properties, sec_to_plot, \n",
    "                                                property_col_left, property_col_right,\n",
    "                                                property_name, log_scale=False,\n",
    "                                                xymin=XY_MIN, xymax=XY_MAX)\n",
    "\n",
    "fig_mean_norm_ransac_log = plot_left_vs_right_ransac(section_LR_properties, sec_to_plot, \n",
    "                                                    property_col_left, property_col_right,\n",
    "                                                    property_name, log_scale=True,\n",
    "                                                    xymin=XY_MIN, xymax=XY_MAX)"
   ]
  },
  {
   "cell_type": "markdown",
   "id": "9ae90650-ecdd-4484-bf41-384b68812e55",
   "metadata": {},
   "source": [
    "## Gene expression distributions\n",
    "\n",
    "Should we screen each gene for these asymmetries to see which ones are bad/worst?\n",
    "\n",
    "Could run K-S test for each gene to compare it's expression distribution between L & R hemispheres, then flag any that are “too” different by some metric (what metric?)"
   ]
  },
  {
   "cell_type": "code",
   "execution_count": 38,
   "id": "4e19cba1-ad9e-4676-a2e8-1e325efe1dc8",
   "metadata": {},
   "outputs": [],
   "source": [
    "ks_test_pval = []\n",
    "for gene in genes:\n",
    "    ks_test_pval.append(stats.ks_2samp(right_hemi_ad[:, gene].X.A.flatten(), \n",
    "                                       left_hemi_ad[:, gene].X.A.flatten(),\n",
    "                                       alternative='two-sided',\n",
    "                                       method='asymp')[1])"
   ]
  },
  {
   "cell_type": "code",
   "execution_count": 39,
   "id": "054214f5-3734-44b9-a377-783ab0a7cbdd",
   "metadata": {},
   "outputs": [],
   "source": [
    "# calculate mean expression in left hemisphere for each gene\n",
    "mean_left = np.mean(left_hemi_ad.X.A, axis=0)"
   ]
  },
  {
   "cell_type": "code",
   "execution_count": 40,
   "id": "91623202-44ef-4221-82b9-4fe184e5bcab",
   "metadata": {},
   "outputs": [],
   "source": [
    "sns.set(rc={\"figure.figsize\":(12, 4)}) #width=3, #height=4\n",
    "sns.set_style('white')\n",
    "jp = sns.jointplot(x=mean_left, y=ks_test_pval, kind='hist', marginal_ticks=True)\n",
    "jp.ax_marg_x.set_yticks([0,130])\n",
    "jp.ax_marg_x.set_ylabel('# of genes')\n",
    "jp.ax_marg_y.set_xticks([0,340])\n",
    "jp.ax_marg_y.set_xlabel('# of genes')\n",
    "plt.axhline(y=0.05, color='red')\n",
    "plt.xlabel('mean expression in left hemisphere')\n",
    "plt.ylabel('two-sided K-S test, p-value')\n",
    "plt.show()"
   ]
  },
  {
   "cell_type": "code",
   "execution_count": null,
   "id": "3de8b29d-e326-4ccb-b9c5-000a137d74e0",
   "metadata": {},
   "outputs": [],
   "source": []
  }
 ],
 "metadata": {
  "kernelspec": {
   "display_name": "Python 3",
   "language": "python",
   "name": "python3"
  },
  "language_info": {
   "codemirror_mode": {
    "name": "ipython",
    "version": 3
   },
   "file_extension": ".py",
   "mimetype": "text/x-python",
   "name": "python",
   "nbconvert_exporter": "python",
   "pygments_lexer": "ipython3",
   "version": "3.9.12"
  }
 },
 "nbformat": 4,
 "nbformat_minor": 5
}
