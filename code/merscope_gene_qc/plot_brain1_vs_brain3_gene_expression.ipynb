{
 "cells": [
  {
   "cell_type": "code",
   "execution_count": 1,
   "id": "40da9d80-317a-4fed-8a03-526db097340c",
   "metadata": {},
   "outputs": [],
   "source": [
    "import anndata as ad\n",
    "import numpy as np\n",
    "\n",
    "import gene_expr_plots as exprplot\n",
    "\n",
    "import matplotlib.pyplot as plt\n",
    "import matplotlib\n",
    "\n",
    "%matplotlib inline "
   ]
  },
  {
   "cell_type": "markdown",
   "id": "10c3ba2a-fb81-4c18-8bea-e8786aaba89d",
   "metadata": {},
   "source": [
    "# Load combined brain1 + brain3 adata"
   ]
  },
  {
   "cell_type": "code",
   "execution_count": 2,
   "id": "5e60756f-65a6-40ed-9d09-b96a4992791d",
   "metadata": {},
   "outputs": [],
   "source": [
    "adata_br1_br3 = ad.read_h5ad(\"/root/capsule/data/merfish_609882and638850_AIT17_annotated_TH_ZI_only_shared_genes_only_2023-04-07_00-00-00/Brain_1_3_TH_ZI.h5ad\")\n",
    "adata_br1_br3"
   ]
  },
  {
   "cell_type": "code",
   "execution_count": 3,
   "id": "2b984562-921f-41cb-b17b-a77dff511843",
   "metadata": {},
   "outputs": [],
   "source": [
    "genes_both = np.array(sorted([x for x in adata_br1_br3.var_names if 'Blank' not in x]))\n",
    "blanks_both = np.array(sorted([x for x in adata_br1_br3.var_names if 'Blank' in x]))\n",
    "\n",
    "adata_br1_br3 = adata_br1_br3[:,genes_both].copy()"
   ]
  },
  {
   "cell_type": "code",
   "execution_count": 4,
   "id": "8be61547-a889-4ad8-af98-af347e81bf97",
   "metadata": {},
   "outputs": [],
   "source": [
    "adata_br1_br3"
   ]
  },
  {
   "cell_type": "markdown",
   "id": "627e9512-d3d2-4b4c-83df-b358958b69fe",
   "metadata": {
    "tags": []
   },
   "source": [
    "## plot_brain1_vs_brain3_expression()"
   ]
  },
  {
   "cell_type": "code",
   "execution_count": 5,
   "id": "e2f8c40a-da73-4e1f-b019-4841fd81b45c",
   "metadata": {
    "tags": []
   },
   "outputs": [],
   "source": [
    "gene = 'Cldn5'\n",
    "fig_cldn5 = exprplot.plot_brain1_vs_brain3_expression(adata_br1_br3, gene)\n",
    "fig_cldn5.savefig('/root/capsule/results/'+'brain1_vs_brain3_expr_'+gene+'.png',\n",
    "                     bbox_inches='tight')"
   ]
  }
 ],
 "metadata": {
  "kernelspec": {
   "display_name": "Python 3",
   "language": "python",
   "name": "python3"
  },
  "language_info": {
   "codemirror_mode": {
    "name": "ipython",
    "version": 3
   },
   "file_extension": ".py",
   "mimetype": "text/x-python",
   "name": "python",
   "nbconvert_exporter": "python",
   "pygments_lexer": "ipython3",
   "version": "3.9.12"
  }
 },
 "nbformat": 4,
 "nbformat_minor": 5
}
