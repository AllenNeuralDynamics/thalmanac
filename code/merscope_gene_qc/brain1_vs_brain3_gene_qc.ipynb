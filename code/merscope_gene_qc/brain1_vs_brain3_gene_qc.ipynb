{
 "cells": [
  {
   "cell_type": "code",
   "execution_count": 1,
   "id": "660b9cde-1d1a-4484-a951-56179ecdb52b",
   "metadata": {},
   "outputs": [],
   "source": [
    "import numpy as np\n",
    "import pandas as pd\n",
    "import anndata as ad\n",
    "import matplotlib.pyplot as plt\n",
    "import matplotlib.ticker as mticker\n",
    "from scipy import sparse\n",
    "\n",
    "import gene_expr_plots as exprplot\n",
    "\n",
    "# in-cell imports:\n",
    "# import warnings\n",
    "# from scipy import stats\n",
    "# from scipy import spatial\n",
    "# import pathlib\n",
    "# from pathlib import Path\n",
    "\n",
    "%matplotlib inline"
   ]
  },
  {
   "cell_type": "markdown",
   "id": "60ff3a7f-868a-482f-9272-e2a8f0a49ead",
   "metadata": {},
   "source": [
    "# Load & subset data"
   ]
  },
  {
   "cell_type": "code",
   "execution_count": 2,
   "id": "698dcf52-1c68-4880-b89d-f10102af908c",
   "metadata": {},
   "outputs": [],
   "source": [
    "adata = ad.read_h5ad(\"/root/capsule/data/merfish_609882and638850_AIT17_annotated_TH_ZI_only_shared_genes_only_2023-04-07_00-00-00/Brain_1_3_TH_ZI.h5ad\")\n",
    "adata"
   ]
  },
  {
   "cell_type": "markdown",
   "id": "7e30e1b7-f7e5-4aaa-8c94-590b8d2e97a0",
   "metadata": {},
   "source": [
    "## gene lists"
   ]
  },
  {
   "cell_type": "code",
   "execution_count": 3,
   "id": "276b7502-76cc-4de2-89fc-9934959b47ae",
   "metadata": {
    "tags": []
   },
   "outputs": [],
   "source": [
    "# get lists of gene names, excluding blank codewords\n",
    "genes = [x for x in adata.var_names if 'Blank' not in x]\n",
    "print(len(genes), 'genes shared between brain1 & brain3\\'s gene panels\\n', genes)"
   ]
  },
  {
   "cell_type": "code",
   "execution_count": 4,
   "id": "4859c136-39ea-462c-8b91-b638b2dcdfc7",
   "metadata": {},
   "outputs": [],
   "source": [
    "# blanks have the naming convention \"Blank-###\"\n",
    "#   Note that because brain1 & brain3 have different codebooks AND different \n",
    "#   number of blanks (brain1=200, brain3=50), blanks with the same \"Blank-###\" \n",
    "#   label should be considered the same *in name only* and not the same in terms\n",
    "#   of counts, etc.\n",
    "blanks = [x for x in adata.var_names if 'Blank' in x]\n",
    "print(len(blanks), '\\\"shared\\\" blanks in brain1 & brain3\\'s gene panels\\n', blanks)"
   ]
  },
  {
   "cell_type": "markdown",
   "id": "7d14ad5a-1106-433d-adfb-bdee0e1db29d",
   "metadata": {},
   "source": [
    "## subset by brain"
   ]
  },
  {
   "cell_type": "code",
   "execution_count": 5,
   "id": "d3ffc4f3-9db1-4682-aa78-994b36fbe5fd",
   "metadata": {},
   "outputs": [],
   "source": [
    "# view obs columns that might allow for easy filtering of brain1 vs brain3\n",
    "#  - animal *should* be different, but isn't, likely due to weird anndata \n",
    "#      behavior when concatenating brain1 & brain3 objects\n",
    "#  - using codebook going forward since it's the one I'm next-most-confident \n",
    "#      should be consistent within each brain\n",
    "# - NB: updated version of this h5ad in Brian's isilon folder has a column\n",
    "adata.obs[['section', 'animal', 'merscope', 'target_atlas_plate', 'codebook']]"
   ]
  },
  {
   "cell_type": "code",
   "execution_count": 6,
   "id": "540f212e-d382-4af7-a248-d776f65d166a",
   "metadata": {},
   "outputs": [],
   "source": [
    "# Distinguish between the two brains by using the codebook names\n",
    "codebook_brain1 = 'VZG147'\n",
    "codebook_brain3 = 'wholebrain031822a'\n",
    "\n",
    "# Split up the two brains\n",
    "adata_brain1 = adata[adata.obs['codebook']==codebook_brain1].copy()\n",
    "# ad_brain1_blanks = adata[adata.obs['codebook']==codebook_brain1, blanks]\n",
    "\n",
    "adata_brain3 = adata[adata.obs['codebook']==codebook_brain3].copy()"
   ]
  },
  {
   "cell_type": "code",
   "execution_count": 7,
   "id": "38110508-9acd-4b0a-8ded-9d97d08b3373",
   "metadata": {},
   "outputs": [],
   "source": [
    "adata_brain1"
   ]
  },
  {
   "cell_type": "markdown",
   "id": "afdf497f-e37d-4a1d-aef7-74b0157d21ce",
   "metadata": {},
   "source": [
    "### define division & subclass filters"
   ]
  },
  {
   "cell_type": "code",
   "execution_count": 8,
   "id": "7dccf0cf-5eb7-4f77-8b4d-488ccbe697e8",
   "metadata": {},
   "outputs": [],
   "source": [
    "# Division labels for just the neurons in the thalamus\n",
    "#   NB: division_id_label is consistent between the two taxonomy mappings,\n",
    "#       AIT17.0 and AIT17.custom, used for brain1 and brain3, whereas \n",
    "#       class_id_label may *look* similar to division labels but are NOT \n",
    "#       necessarily consistent across brains\n",
    "divisions_neuron = [\n",
    "                    '1 Pallium glutamatergic',\n",
    "                    '2 Subpallium GABAergic',\n",
    "                    '3 PAL-sAMY-TH-HY-MB-HB neuronal',\n",
    "                    '4 CBX-MOB-other neuronal'\n",
    "                   ]\n",
    "\n",
    "# Create brain-specific filters for just the neuronal cells, using the division labels\n",
    "neuron_filter_brain1 = adata_brain1.obs['division_id_label'].isin(divisions_neuron)\n",
    "neuron_filter_brain3 = adata_brain3.obs['division_id_label'].isin(divisions_neuron)"
   ]
  },
  {
   "cell_type": "code",
   "execution_count": 9,
   "id": "338a7a65-1524-4394-8c59-5cc2d01567dd",
   "metadata": {},
   "outputs": [],
   "source": [
    "# Use subclass_id_label to distinguish between excitatory (exc) and \n",
    "# inhibitory (inh) cells\n",
    "#   NB: subclass_id_label is NOT fully consistent between the two taxonomy\n",
    "#       mappings, AIT17.0 and AIT17.custom, used for brain1 and brain3, \n",
    "#       respectively, so be cautious using anything more specific than 'glut'\n",
    "#       vs 'gaba' filtering\n",
    "exc_cell_str = 'glut'\n",
    "inh_cell_str = 'gaba'\n",
    "\n",
    "# Filter for excitatory (exc) neurons vs inhibitory (inh) cells\n",
    "exc_filter_brain1 = adata_brain1.obs['subclass_id_label'].str.contains(exc_cell_str,case=False)\n",
    "inh_filter_brain1 = adata_brain1.obs['subclass_id_label'].str.contains(inh_cell_str,case=False)\n",
    "\n",
    "exc_filter_brain3 = adata_brain3.obs['subclass_id_label'].str.contains(exc_cell_str,case=False)\n",
    "inh_filter_brain3 = adata_brain3.obs['subclass_id_label'].str.contains(inh_cell_str,case=False)"
   ]
  },
  {
   "cell_type": "code",
   "execution_count": 10,
   "id": "3087848c-c8dd-42be-a5d4-43f99ba49ca3",
   "metadata": {},
   "outputs": [],
   "source": [
    "# combined\n",
    "exc_neuron_filter_brain1 = exc_filter_brain1 & neuron_filter_brain1\n",
    "inh_neuron_filter_brain1 = inh_filter_brain1 & neuron_filter_brain1\n",
    "\n",
    "exc_neuron_filter_brain3 = exc_filter_brain3 & neuron_filter_brain3\n",
    "inh_neuron_filter_brain3 = inh_filter_brain3 & neuron_filter_brain3"
   ]
  },
  {
   "cell_type": "markdown",
   "id": "480272a1-53df-4072-aa70-08c5b1d0fe47",
   "metadata": {},
   "source": [
    "# Compare mean gene reads in brain1 vs brain3"
   ]
  },
  {
   "cell_type": "code",
   "execution_count": 11,
   "id": "71768d84-5edb-4f83-9fad-89b3751e54f1",
   "metadata": {},
   "outputs": [],
   "source": [
    "# Create a df of all the genes so that we can easily compare all the flags \n",
    "# we're about to generate\n",
    "gene_flags_df = pd.DataFrame(index=genes)"
   ]
  },
  {
   "cell_type": "markdown",
   "id": "485cc1a4-d681-45e1-bb92-4c75edb05cb0",
   "metadata": {
    "tags": []
   },
   "source": [
    "## plot_brain1_vs_brain3_reads()"
   ]
  },
  {
   "cell_type": "code",
   "execution_count": 12,
   "id": "5090d960-6fd5-4043-adcb-646007efd7c1",
   "metadata": {},
   "outputs": [],
   "source": [
    "# Function to generate a scatter plot of gene-by-gene comparisons between\n",
    "# brain1 & brain3\n",
    "def plot_brain1_vs_brain3_reads(gene_reads_brain1, gene_reads_brain3,\n",
    "                                blank_reads_brain1, blank_reads_brain3,\n",
    "                                genes, subset, **kwargs):\n",
    "    \n",
    "    # TODO: add type-enforcement?\n",
    "    genes_to_highlight = kwargs.get('genes_to_highlight', None) # string or list of strings\n",
    "    \n",
    "    fig, ax = plt.subplots(figsize=(11,9))\n",
    "\n",
    "    # Scatter plot of brain1 vs brain3 reads\n",
    "    ax.scatter(gene_reads_brain1, gene_reads_brain3, \n",
    "               s=18, color='cornflowerblue')\n",
    "    # label each data point with the gene name, using a non-black color to \n",
    "    # highlight user-specified genes, if they exist\n",
    "    if genes_to_highlight is None:\n",
    "        for i, gene in enumerate(genes):\n",
    "            ax.annotate(genes[i], \n",
    "                        (gene_reads_brain1[i], gene_reads_brain3[i]), \n",
    "                        fontsize=10, color='k')\n",
    "    else:\n",
    "        for i, gene in enumerate(genes):\n",
    "            if gene in genes_to_highlight:\n",
    "                ax.annotate(genes[i], \n",
    "                            (gene_reads_brain1[i], gene_reads_brain3[i]), \n",
    "                            fontsize=16, color='magenta') \n",
    "            else:\n",
    "                ax.annotate(genes[i], \n",
    "                            (gene_reads_brain1[i], gene_reads_brain3[i]), \n",
    "                            fontsize=10)\n",
    "\n",
    "    # Plot the mean blank reads thresholds as a vertical line (brain1) and a\n",
    "    # horizontal line (brain3)\n",
    "    vline_ymin = min(gene_reads_brain3) # vert line limits\n",
    "    vline_ymax = max(gene_reads_brain3) # vert line limits\n",
    "    hline_xmin = min(gene_reads_brain1) # hor line limits\n",
    "    hline_xmax = max(gene_reads_brain1) # hor line limits\n",
    "    ax.vlines(blank_reads_brain1, ymin=vline_ymin, ymax=vline_ymax, \n",
    "              color='darkorange', ls='--')\n",
    "    ax.hlines(blank_reads_brain3, xmin=hline_xmin,xmax=hline_xmax, \n",
    "              color='darkorange', ls='--')\n",
    "    ax.annotate('brain1\\nmean blank reads\\nper '+subset, \n",
    "                (blank_reads_brain1+0.005,10), color='darkorange', fontsize=12)\n",
    "    ax.annotate('brain3\\nmean blank reads\\nper '+subset, \n",
    "                (3, blank_reads_brain3+0.01), color='darkorange', fontsize=12)\n",
    "\n",
    "    # Plot a slope=1 line for visual reference of perfect brain1 vs brain3 match\n",
    "    ax.axline((1,1),slope=1, ls='-',c='darkgrey')\n",
    "\n",
    "    # Axis formatting\n",
    "    # ax.set_aspect('equal')\n",
    "    ax.set_xlabel('brain1\\n'+'mean gene reads per '+subset)\n",
    "    ax.set_ylabel('brain3\\n'+'mean gene reads per '+subset)\n",
    "    ax.tick_params('both', which='both', direction='in', top=True, right=True,\n",
    "                   color='grey')\n",
    "    ax.spines['bottom'].set_color('grey')\n",
    "    ax.spines['top'].set_color('grey') \n",
    "    ax.spines['right'].set_color('grey')\n",
    "    ax.spines['left'].set_color('grey')\n",
    "    ax.set_xscale('log')\n",
    "    ax.set_yscale('log')\n",
    "    # special function needed to get the major tick labels to display correctly\n",
    "    # on log axes in non-scientific number format\n",
    "    ax.yaxis.set_major_formatter(mticker.FuncFormatter(lambda y, _: '{:g}'.format(y)))\n",
    "    ax.xaxis.set_major_formatter(mticker.FuncFormatter(lambda x, _: '{:g}'.format(x)))\n",
    "\n",
    "    plt.show()"
   ]
  },
  {
   "cell_type": "markdown",
   "id": "17648d6c-9fc6-442a-bdfd-479dc3b73724",
   "metadata": {},
   "source": [
    "## In all thalamic cells"
   ]
  },
  {
   "cell_type": "code",
   "execution_count": 13,
   "id": "fdd9d681-ee3b-4c42-824a-54886a3923c8",
   "metadata": {},
   "outputs": [],
   "source": [
    "# For all cells\n",
    "subset = 'cell'\n",
    "\n",
    "# Calculate mean reads per cell, for each gene\n",
    "mean_gene_reads_per_cell_brain1 = adata_brain1[:, genes].X.A.mean(axis=0)\n",
    "mean_gene_reads_per_cell_brain3 = adata_brain3[:, genes].X.A.mean(axis=0)\n",
    "\n",
    "# Calculate overall mean of the mean blank reads per cell\n",
    "mean_blank_reads_per_cell_brain1 = np.mean(adata_brain1[:, blanks].X.A.mean(axis=1))\n",
    "mean_blank_reads_per_cell_brain3 = np.mean(adata_brain3[:, blanks].X.A.mean(axis=1))"
   ]
  },
  {
   "cell_type": "code",
   "execution_count": 14,
   "id": "0b16482f-1f0e-4ebd-81fa-8b8478600ef7",
   "metadata": {},
   "outputs": [],
   "source": [
    "# Plot\n",
    "plot_brain1_vs_brain3_reads(mean_gene_reads_per_cell_brain1, \n",
    "                            mean_gene_reads_per_cell_brain3,\n",
    "                            mean_blank_reads_per_cell_brain1,\n",
    "                            mean_blank_reads_per_cell_brain3,\n",
    "                            genes, subset, genes_to_highlight=None) #genes_to_highlight=['Npsr1', 'Gad2'])\n",
    "\n",
    "# Flag & store genes that have mean reads in neurons below the overall mean blank read\n",
    "gene_flags_df['below_blanks_all_cells_brain1'] = mean_gene_reads_per_cell_brain1 <= mean_blank_reads_per_cell_brain1\n",
    "gene_flags_df['below_blanks_all_cells_brain3'] = mean_gene_reads_per_cell_brain3 <= mean_blank_reads_per_cell_brain3"
   ]
  },
  {
   "cell_type": "markdown",
   "id": "d7d9900a-f9f6-4f13-b343-1ce28aaa37e0",
   "metadata": {
    "jp-MarkdownHeadingCollapsed": true,
    "tags": []
   },
   "source": [
    "## In neurons"
   ]
  },
  {
   "cell_type": "code",
   "execution_count": 15,
   "id": "18e49094-6d80-4626-9cd8-7f7ed01391bb",
   "metadata": {},
   "outputs": [],
   "source": [
    "# For only neurons\n",
    "subset = 'neuron'\n",
    "\n",
    "# Calculate mean reads per cell, for each gene\n",
    "mean_gene_reads_per_neuron_brain1 = adata_brain1[neuron_filter_brain1, genes].X.A.mean(axis=0)\n",
    "mean_gene_reads_per_neuron_brain3 = adata_brain3[neuron_filter_brain3, genes].X.A.mean(axis=0)\n",
    "\n",
    "# Calculate overall mean of the mean blank reads per cell\n",
    "mean_blank_reads_per_neuron_brain1 = np.mean(adata_brain1[neuron_filter_brain1, blanks].X.A.mean(axis=1))\n",
    "mean_blank_reads_per_neuron_brain3 = np.mean(adata_brain3[neuron_filter_brain3, blanks].X.A.mean(axis=1))\n",
    "\n",
    "# Plot - uncomment below to view\n",
    "plot_brain1_vs_brain3_reads(mean_gene_reads_per_neuron_brain1, \n",
    "                            mean_gene_reads_per_neuron_brain3,\n",
    "                            mean_blank_reads_per_neuron_brain1,\n",
    "                            mean_blank_reads_per_neuron_brain3,\n",
    "                            genes, subset)\n",
    "\n",
    "# Flag & store genes that have mean reads in neurons below the overall mean blank read\n",
    "gene_flags_df['below_blanks_in_neurons_brain1'] = mean_gene_reads_per_neuron_brain1 <= mean_blank_reads_per_neuron_brain1\n",
    "gene_flags_df['below_blanks_in_neurons_brain3'] = mean_gene_reads_per_neuron_brain3 <= mean_blank_reads_per_neuron_brain3"
   ]
  },
  {
   "cell_type": "markdown",
   "id": "308ea718-e727-4a97-8d5a-f7deb8bda891",
   "metadata": {
    "jp-MarkdownHeadingCollapsed": true,
    "tags": []
   },
   "source": [
    "## In non-neurons"
   ]
  },
  {
   "cell_type": "code",
   "execution_count": 16,
   "id": "2ea4c396-10ad-46ff-8a47-49bd7b8421b6",
   "metadata": {},
   "outputs": [],
   "source": [
    "# For only non-neuronal cells\n",
    "subset = 'non-neuronal cell'\n",
    "\n",
    "# Calculate mean reads per cell, for each gene\n",
    "mean_gene_reads_per_nn_brain1 = adata_brain1[~neuron_filter_brain1, genes].X.A.mean(axis=0)\n",
    "mean_gene_reads_per_nn_brain3 = adata_brain3[~neuron_filter_brain3, genes].X.A.mean(axis=0)\n",
    "\n",
    "# Calculate overall mean of the mean blank reads per cell\n",
    "mean_blank_reads_per_nn_brain1 = np.mean(adata_brain1[~neuron_filter_brain1, blanks].X.A.mean(axis=1))\n",
    "mean_blank_reads_per_nn_brain3 = np.mean(adata_brain3[~neuron_filter_brain3, blanks].X.A.mean(axis=1))\n",
    "\n",
    "# Plot - uncomment below to view\n",
    "plot_brain1_vs_brain3_reads(mean_gene_reads_per_nn_brain1, \n",
    "                            mean_gene_reads_per_nn_brain3,\n",
    "                            mean_blank_reads_per_nn_brain1,\n",
    "                            mean_blank_reads_per_nn_brain3,\n",
    "                            genes, subset)\n",
    "\n",
    "# Flag & store genes that have mean reads in non-neuronal cells below the overall mean blank read\n",
    "gene_flags_df['below_blanks_in_nn_brain1'] = mean_gene_reads_per_nn_brain1 <= mean_blank_reads_per_nn_brain1\n",
    "gene_flags_df['below_blanks_in_nn_brain3'] = mean_gene_reads_per_nn_brain3 <= mean_blank_reads_per_nn_brain3"
   ]
  },
  {
   "cell_type": "markdown",
   "id": "d414cff3-aa3c-4d50-afd3-9f31c41f6831",
   "metadata": {
    "jp-MarkdownHeadingCollapsed": true,
    "tags": []
   },
   "source": [
    "## In excitatory neurons"
   ]
  },
  {
   "cell_type": "code",
   "execution_count": 17,
   "id": "8f83d8e9-b013-4932-b0c0-b9b0b40850dd",
   "metadata": {},
   "outputs": [],
   "source": [
    "# For only excitatory neurons\n",
    "subset = 'excitatory neuron'\n",
    "\n",
    "# Calculate mean reads per cell, for each gene\n",
    "mean_gene_reads_per_exc_brain1 = adata_brain1[exc_neuron_filter_brain1, genes].X.A.mean(axis=0)\n",
    "mean_gene_reads_per_exc_brain3 = adata_brain3[exc_neuron_filter_brain3, genes].X.A.mean(axis=0)\n",
    "\n",
    "# Calculate overall mean of the mean blank reads per cell\n",
    "mean_blank_reads_per_exc_brain1 = np.mean(adata_brain1[exc_neuron_filter_brain1, blanks].X.A.mean(axis=1))\n",
    "mean_blank_reads_per_exc_brain3 = np.mean(adata_brain3[exc_neuron_filter_brain3, blanks].X.A.mean(axis=1))\n",
    "\n",
    "# Plot - uncomment below to view\n",
    "plot_brain1_vs_brain3_reads(mean_gene_reads_per_exc_brain1, \n",
    "                            mean_gene_reads_per_exc_brain3,\n",
    "                            mean_blank_reads_per_exc_brain1,\n",
    "                            mean_blank_reads_per_exc_brain3,\n",
    "                            genes, subset)\n",
    "\n",
    "# Flag & store genes that have mean reads in exc cells below the overall mean blank read\n",
    "gene_flags_df['below_blanks_in_exc_brain1'] = mean_gene_reads_per_exc_brain1 <= mean_blank_reads_per_exc_brain1\n",
    "gene_flags_df['below_blanks_in_exc_brain3'] = mean_gene_reads_per_exc_brain3 <= mean_blank_reads_per_exc_brain3"
   ]
  },
  {
   "cell_type": "markdown",
   "id": "9e40b39e-7844-429f-86c3-c7e0114b94e4",
   "metadata": {
    "jp-MarkdownHeadingCollapsed": true,
    "tags": []
   },
   "source": [
    "## In inhibitory neurons"
   ]
  },
  {
   "cell_type": "code",
   "execution_count": 18,
   "id": "53f1827e-7ad9-4d51-ad02-837139876d25",
   "metadata": {},
   "outputs": [],
   "source": [
    "# For only inhibitory neurons\n",
    "subset = 'inhibitory neuron'\n",
    "\n",
    "# Calculate mean reads per cell, for each gene\n",
    "mean_gene_reads_per_inh_brain1 = adata_brain1[inh_neuron_filter_brain1, genes].X.A.mean(axis=0)\n",
    "mean_gene_reads_per_inh_brain3 = adata_brain3[inh_neuron_filter_brain3, genes].X.A.mean(axis=0)\n",
    "\n",
    "# Calculate overall mean of the mean blank reads per cell\n",
    "mean_blank_reads_per_inh_brain1 = np.mean(adata_brain1[inh_neuron_filter_brain1, blanks].X.A.mean(axis=1))\n",
    "mean_blank_reads_per_inh_brain3 = np.mean(adata_brain3[inh_neuron_filter_brain3, blanks].X.A.mean(axis=1))\n",
    "\n",
    "# Plot - uncomment below to view\n",
    "plot_brain1_vs_brain3_reads(mean_gene_reads_per_inh_brain1, \n",
    "                            mean_gene_reads_per_inh_brain3,\n",
    "                            mean_blank_reads_per_inh_brain1,\n",
    "                            mean_blank_reads_per_inh_brain3,\n",
    "                            genes, subset)\n",
    "\n",
    "# Flag & store genes that have mean reads in inh cells below the overall mean blank read\n",
    "gene_flags_df['below_blanks_in_inh_brain1'] = mean_gene_reads_per_inh_brain1 <= mean_blank_reads_per_inh_brain1\n",
    "gene_flags_df['below_blanks_in_inh_brain3'] = mean_gene_reads_per_inh_brain3 <= mean_blank_reads_per_inh_brain3"
   ]
  },
  {
   "cell_type": "markdown",
   "id": "cf002ae6-dec1-40ae-bb93-c17ccda6ec76",
   "metadata": {},
   "source": [
    "## Which genes were flagged for below-blank reads?"
   ]
  },
  {
   "cell_type": "code",
   "execution_count": 19,
   "id": "c569ac7f-f772-4538-b6b5-350bbb027e11",
   "metadata": {},
   "outputs": [],
   "source": [
    "blank_flagged_all_genes = gene_flags_df.index[gene_flags_df.sum(axis=1)>0]\n",
    "\n",
    "# Note: all blank-flagged genes were flagged in both brains by one of the thresholds, but I'm keeping these just in case I want to confirm/show that\n",
    "blank_flagged_brain1_genes = gene_flags_df[gene_flags_df.filter(regex='brain1').columns].index[gene_flags_df.sum(axis=1)>0]\n",
    "blank_flagged_brain3_genes = gene_flags_df[gene_flags_df.filter(regex='brain3').columns].index[gene_flags_df.sum(axis=1)>0]\n",
    "\n",
    "blank_flagged_brain1 = sorted(gene_flags_df[gene_flags_df['below_blanks_all_cells_brain1']==1].index)\n",
    "blank_flagged_brain3 = sorted(gene_flags_df[gene_flags_df['below_blanks_all_cells_brain3']==1].index)\n",
    "blank_flagged_both = sorted(list(set(blank_flagged_brain1).intersection(set(blank_flagged_brain3))))\n",
    "blank_flagged_brain1only = sorted(list(set(blank_flagged_brain1) - (set(blank_flagged_brain3))))\n",
    "blank_flagged_brain3only = sorted(list(set(blank_flagged_brain3) - (set(blank_flagged_brain1))))\n",
    "\n",
    "print('Genes with low avg expression in either brain, any subset of cells:', blank_flagged_all_genes.to_list())\n",
    "print('\\nGenes with low avg expression in Brain 1 only: ', blank_flagged_brain1only)\n",
    "print('Genes with low avg expression in Brain 3 only: ', blank_flagged_brain3only)\n",
    "print('Genes with low avg expression in both brains: ', blank_flagged_both)"
   ]
  },
  {
   "cell_type": "markdown",
   "id": "6a7bc7f8-0fa5-4c0f-be35-7e2e39a2fb53",
   "metadata": {},
   "source": [
    "## Save qc flags to .uns & save adata to results"
   ]
  },
  {
   "cell_type": "code",
   "execution_count": 20,
   "id": "e76ef188-b2ea-435f-86bb-6edfd013cae6",
   "metadata": {},
   "outputs": [],
   "source": [
    "adata.uns['gene_qc_flags'] = gene_flags_df\n",
    "adata.write_h5ad('/root/capsule/results/Brain_1_3_TH_ZI_geneQC.h5ad')"
   ]
  },
  {
   "cell_type": "markdown",
   "id": "100f5c63-7e8f-40fe-9791-9f8ab5dee273",
   "metadata": {},
   "source": [
    "# Variance, CV vs mean for brain1 & brain3"
   ]
  },
  {
   "cell_type": "code",
   "execution_count": 21,
   "id": "fc50092c-e9e7-4365-85d8-6dfbe1e3d9ff",
   "metadata": {},
   "outputs": [],
   "source": [
    "# calculate\n",
    "b1_mean = adata_brain1[:, genes].X.A.mean(axis=0)\n",
    "b1_var = adata_brain1[:, genes].X.A.var(axis=0)\n",
    "b1_std = adata_brain1[:, genes].X.A.std(axis=0)\n",
    "b1_cv = b1_std / b1_mean\n",
    "\n",
    "b3_mean = adata_brain3[:, genes].X.A.mean(axis=0)\n",
    "b3_var = adata_brain3[:, genes].X.A.var(axis=0)\n",
    "b3_std = adata_brain3[:, genes].X.A.std(axis=0)\n",
    "b3_cv = b3_std / b3_mean"
   ]
  },
  {
   "cell_type": "code",
   "execution_count": 22,
   "id": "0ff4e583-dcae-4d67-a12d-4fa69df4306c",
   "metadata": {},
   "outputs": [],
   "source": [
    "# plot mean vs var\n",
    "fig, axes = plt.subplots(1,2, figsize=(20,6))\n",
    "ax = axes[0]\n",
    "ax.scatter(b1_mean, b1_var, s=10, color='b', label='brain 1') #c=np.arange(len(brain_1_genes_df.mean())), cmap='Spectral', marker='o')\n",
    "ax.scatter(b3_mean, b3_var, s=10, color='r', label='brain 3') # c=np.arange(len(brain_3_genes_df.mean())), cmap='Spectral', marker='^')\n",
    "# for i, gene in enumerate(genes):\n",
    "#     ax.annotate(genes[i], (b1_mean[i], b1_var[i]))\n",
    "ax.set_xlabel('gene reads mean')\n",
    "ax.set_ylabel('gene reads variance')\n",
    "ax.set_xscale('log')\n",
    "ax.set_yscale('log')\n",
    "ax.legend()\n",
    "\n",
    "# plot mean vs CV\n",
    "ax = axes[1]\n",
    "ax.scatter(b1_mean, b1_cv, s=10, color='b', label='brain 1')\n",
    "ax.scatter(b3_mean, b3_cv, s=10, color='r', label='brain 3')\n",
    "# for i, gene in enumerate(genes):\n",
    "#     ax.annotate(genes[i], (b1_mean[i], b1_cv[i]))\n",
    "ax.set_xlabel('gene reads mean')\n",
    "ax.set_ylabel('gene reads CV (std/mean)')\n",
    "# ax.set_xscale('log')\n",
    "# ax.set_yscale('log')\n",
    "ax.legend();"
   ]
  },
  {
   "cell_type": "markdown",
   "id": "fa28cac7-5569-4b3f-9ac2-f068429486bc",
   "metadata": {},
   "source": [
    "# Compare 95th, 99th, 99.9th percentile of gene reads in brain1 vs brain3"
   ]
  },
  {
   "cell_type": "markdown",
   "id": "b2e7993e-db4b-40e0-bb5f-49963ae3f983",
   "metadata": {},
   "source": [
    "## plot_brain1_vs_brain3_percentile()"
   ]
  },
  {
   "cell_type": "code",
   "execution_count": 23,
   "id": "f86d3cb8-c38b-400d-89ce-886b4b491205",
   "metadata": {},
   "outputs": [],
   "source": [
    "# Function to generate a scatter plot of gene-by-gene comparisons between\n",
    "# brain1 & brain3\n",
    "def plot_brain1_vs_brain3_percentile(gene_reads_pct_brain1, \n",
    "                                     gene_reads_pct_brain3,\n",
    "                                     genes, percentile, **kwargs):\n",
    "    \n",
    "    # TODO: add type-enforcement?\n",
    "    genes_to_highlight = kwargs.get('genes_to_highlight', None) # string or list of strings\n",
    "    \n",
    "    fig, ax = plt.subplots(figsize=(11,9))\n",
    "\n",
    "    # Scatter plot of brain1 vs brain3 reads\n",
    "    ax.scatter(gene_reads_pct_brain1, gene_reads_pct_brain3, \n",
    "               s=18, color='cornflowerblue')\n",
    "    \n",
    "    # label each data point with the gene name, using a non-black color to \n",
    "    # highlight user-specified genes, if they exist\n",
    "    if genes_to_highlight is None:\n",
    "        for i, gene in enumerate(genes):\n",
    "            ax.annotate(genes[i], \n",
    "                        (gene_reads_pct_brain1[i], gene_reads_pct_brain3[i]), \n",
    "                        fontsize=10, color='k')\n",
    "    else:\n",
    "        for i, gene in enumerate(genes):\n",
    "            if gene in genes_to_highlight:\n",
    "                ax.annotate(genes[i], \n",
    "                            (gene_reads_pct_brain1[i], gene_reads_pct_brain3[i]), \n",
    "                            fontsize=16, color='magenta') \n",
    "            else:\n",
    "                ax.annotate(genes[i], \n",
    "                            (gene_reads_pct_brain1[i], gene_reads_pct_brain3[i]), \n",
    "                            fontsize=10)\n",
    "\n",
    "    # Plot a slope=1 line for visual reference of perfect brain1 vs brain3 match\n",
    "    ax.axline((1,1),slope=1, ls='-',c='darkgrey')\n",
    "\n",
    "    # Axis formatting\n",
    "    # ax.set_aspect('equal')\n",
    "    ax.set_xlabel('brain1\\n'+str(percentile)+'th percentile of gene reads')\n",
    "    ax.set_ylabel('brain3\\n'+str(percentile)+'th percentile of gene reads')\n",
    "    ax.tick_params('both', which='both', direction='in', top=True, right=True,\n",
    "                   color='grey')\n",
    "    ax.spines['bottom'].set_color('grey')\n",
    "    ax.spines['top'].set_color('grey') \n",
    "    ax.spines['right'].set_color('grey')\n",
    "    ax.spines['left'].set_color('grey')\n",
    "    # ax.set_xscale('log')\n",
    "    # ax.set_yscale('log')\n",
    "    # # special function needed to get the major tick labels to display correctly\n",
    "    # # on log axes in non-scientific number format\n",
    "    # ax.yaxis.set_major_formatter(mticker.FuncFormatter(lambda y, _: '{:g}'.format(y)))\n",
    "    # ax.xaxis.set_major_formatter(mticker.FuncFormatter(lambda x, _: '{:g}'.format(x)))\n",
    "\n",
    "    plt.show()"
   ]
  },
  {
   "cell_type": "markdown",
   "id": "546f6e2b-cd5c-4d2c-802a-8974d18c17f2",
   "metadata": {
    "tags": []
   },
   "source": [
    "## 95th percentile"
   ]
  },
  {
   "cell_type": "code",
   "execution_count": 24,
   "id": "46aa630e-af04-4f6d-bc3d-fcbdcb6a1c09",
   "metadata": {},
   "outputs": [],
   "source": [
    "# Plot the 95th percentile of reads for brain1 vs brain3\n",
    "# Are any gene egregiously off the diagonal?\n",
    "pct = 0.95\n",
    "gene_95pct_brain1 = adata_brain1[:,genes].to_df().quantile(pct)\n",
    "gene_95pct_brain3 = adata_brain3[:,genes].to_df().quantile(pct)\n",
    "\n",
    "plot_brain1_vs_brain3_percentile(gene_95pct_brain1, gene_95pct_brain3, \n",
    "                                 genes, int(pct*100), \n",
    "                                 genes_to_highlight=None)"
   ]
  },
  {
   "cell_type": "markdown",
   "id": "f84529e3-a94d-44ac-a3c8-1aaecdfdc450",
   "metadata": {},
   "source": [
    "## 99th percentile"
   ]
  },
  {
   "cell_type": "code",
   "execution_count": 25,
   "id": "e88c5c4a-1545-49e1-9e47-6143c59d122f",
   "metadata": {},
   "outputs": [],
   "source": [
    "# Plot the 99th percentile of reads for brain1 vs brain3\n",
    "# Are any gene egregiously off the diagonal?\n",
    "pct = 0.99\n",
    "gene_99pct_brain1 = adata_brain1[:,genes].to_df().quantile(pct)\n",
    "gene_99pct_brain3 = adata_brain3[:,genes].to_df().quantile(pct)\n",
    "\n",
    "plot_brain1_vs_brain3_percentile(gene_99pct_brain1, gene_99pct_brain3, \n",
    "                                 genes, int(pct*100), \n",
    "                                 genes_to_highlight=None)"
   ]
  },
  {
   "cell_type": "markdown",
   "id": "e4e225af-71fa-4427-b52d-3ab1059cd1ce",
   "metadata": {},
   "source": [
    "## 99.9th percentile"
   ]
  },
  {
   "cell_type": "code",
   "execution_count": 26,
   "id": "613a987e-8cfc-4486-b3ed-0759c855567a",
   "metadata": {},
   "outputs": [],
   "source": [
    "# Plot the 99.9th percentile of reads for brain1 vs brain3\n",
    "# Are any gene egregiously off the diagonal?\n",
    "pct = 0.999\n",
    "gene_99pt9pct_brain1 = adata_brain1[:,genes].to_df().quantile(pct)\n",
    "gene_99pt9pct_brain3 = adata_brain3[:,genes].to_df().quantile(pct)\n",
    "\n",
    "plot_brain1_vs_brain3_percentile(gene_99pt9pct_brain1, gene_99pt9pct_brain3, \n",
    "                                 genes, pct*100, \n",
    "                                 genes_to_highlight=None)"
   ]
  },
  {
   "cell_type": "markdown",
   "id": "cd14270c-b51d-45ae-9d3d-87cd8cd8a920",
   "metadata": {},
   "source": [
    "# Mean-difference (MD) plots\n",
    "\n",
    "aka Bland-Altman plot, aka Tukey mean-difference plot, typically used for determining variance or inconsistencies between two measurement methods in fields like analytical chemistry & clinical laboratories\n",
    "\n",
    "x-axis: average of two methods of measuring the same underlying values\n",
    "\n",
    "y-axis: difference between the two methods"
   ]
  },
  {
   "cell_type": "markdown",
   "id": "10423610-1428-4485-9c21-5b131d0f929b",
   "metadata": {},
   "source": [
    "## MD functions"
   ]
  },
  {
   "cell_type": "markdown",
   "id": "74a0e4d1-de91-41a5-a13e-7a65119c39e1",
   "metadata": {
    "jp-MarkdownHeadingCollapsed": true,
    "tags": []
   },
   "source": [
    "### is_difference_distribution_normal()"
   ]
  },
  {
   "cell_type": "code",
   "execution_count": 27,
   "id": "a3aec92c-ac6f-4d81-91e2-e2fa28c1b3a7",
   "metadata": {},
   "outputs": [],
   "source": [
    "import warnings\n",
    "from scipy import stats\n",
    "\n",
    "# Function to check if the difference between brain1 & brain3 values is normally\n",
    "# distributed\n",
    "def is_difference_distribution_normal(measurement1, measurement2,\n",
    "                                      zscore_thresh=1.96, data_transform=None):\n",
    "    \"\"\"\n",
    "    Checks if the difference between two measurement sets is normally \n",
    "    distributed.\n",
    "\n",
    "    The applicability of the Limits of Agreement (LoA) for a Bland-Altman \n",
    "    mean-difference (MD) plot are based on the assumption that the differences\n",
    "    between the two measurements are normally distribution, so it's imperative\n",
    "    to check for normality before interpreting Bland-Altman plots\n",
    "\n",
    "    Parameters\n",
    "    ----------\n",
    "    measurement1 : array-like\n",
    "        Array of numbers from one measurement of the underlying values\n",
    "    measurement2 : array-like\n",
    "        Array of numbers from another, different, measurement of the underlying \n",
    "        values\n",
    "    zscore_thresh : float (default:1.96)\n",
    "    data_transform : {'log', None, 'none'} (default: None)\n",
    "        Transformation permformed on measurement1 and measurement2 prior to\n",
    "        calculations for and generation of the MD plot. Possible values:\n",
    "        - 'log': natural log transform of the measurements\n",
    "        - 'none', None: no transform\n",
    "\n",
    "    Returns\n",
    "    -------\n",
    "    figure\n",
    "        Histogram and best fit normal curve\n",
    "    skew_zscore\n",
    "    kurtosis_zscore\n",
    "    normal_stat\n",
    "    \"\"\"\n",
    "    # Calculate difference between measurements\n",
    "    if data_transform=='log':\n",
    "        measurement_differences = np.log(measurement1) - np.log(measurement2)\n",
    "        # clean up to remove -inf from log(0) genes and replace with nan so no error is thrown\n",
    "        measurement_differences[(measurement_differences==np.inf) | \n",
    "                                (measurement_differences==-np.inf)] = np.nan\n",
    "        diff_for_norm_fit = measurement_differences[~np.isnan(measurement_differences)]\n",
    "    else:\n",
    "        measurement_differences = measurement1 - measurement2\n",
    "        diff_for_norm_fit = measurement_differences\n",
    "\n",
    "    # Plot difference distribution & normal fit\n",
    "    fig, ax = plt.subplots(figsize=(6,4))\n",
    "    \n",
    "    _, bins, _ = ax.hist(measurement_differences, bins=20, density=1,\n",
    "                         color='cornflowerblue')\n",
    "    \n",
    "    mu, sigma = stats.norm.fit(diff_for_norm_fit)\n",
    "    best_fit_line = stats.norm.pdf(bins, mu, sigma)\n",
    "    ax.plot(bins, best_fit_line, color='darkorange')\n",
    "    \n",
    "    ax.set_ylabel('counts')\n",
    "    if data_transform!=None:\n",
    "        ax.set_xlabel(data_transform+'(difference)')\n",
    "    else:\n",
    "        ax.set_xlabel('difference')\n",
    "\n",
    "    # Explicitly test & display whether or not the difference distribution \n",
    "    # matches a normal distribution\n",
    "    skew_zscore, skew_pval = stats.skewtest(measurement_differences, nan_policy='omit')\n",
    "    if skew_zscore > zscore_thresh:\n",
    "        print('skew test zscore =', '%0.2f'%skew_zscore, \n",
    "              'indicates difference distribution has a positive skew and is not normally distributed')\n",
    "    elif skew_zscore < -zscore_thresh:\n",
    "        print('skew test zscore =', '%0.2f'%skew_zscore, \n",
    "              'indicates difference distribution has a negative skew and is not normally distributed')\n",
    "    else:\n",
    "        print('skew test zscore =', '%0.2f'%skew_zscore, \n",
    "              'indicates difference distribution has no skew and not significantly different from a normal distribution')\n",
    "\n",
    "    kurtosis_zscore, kurtosis_pval = stats.kurtosistest(measurement_differences, nan_policy='omit')\n",
    "    if kurtosis_zscore > zscore_thresh:\n",
    "        print('kurtosis test zscore =', '%0.2f'%kurtosis_zscore, \n",
    "              'indicates difference distribution is more peaked than a normal distribution')\n",
    "    elif kurtosis_zscore < -zscore_thresh:\n",
    "        print('kurtosis test zscore =', '%0.2f'%kurtosis_zscore, \n",
    "              'indicates difference distribution is less peaked than a normal distribution')\n",
    "    else:\n",
    "        print('kurtosis test zscore =', '%0.2f'%kurtosis_zscore,\n",
    "              'indicates difference distribution is not significantly different from a normal distribution')\n",
    "\n",
    "    normal_stat, normal_pval = stats.normaltest(measurement_differences, nan_policy='omit')\n",
    "    if normal_stat > zscore_thresh:\n",
    "        print('normal test score =', '%0.2f'%normal_stat,\n",
    "              'indicates difference distribution significantly deviates from a normal distribution')\n",
    "    else:\n",
    "        print('normal test score =','%0.2f'%normal_stat,\n",
    "              'indicates difference distribution does not significantly deviate from a normal distribution')\n",
    "        \n",
    "    return skew_zscore, kurtosis_zscore, normal_stat\n",
    "    "
   ]
  },
  {
   "cell_type": "markdown",
   "id": "43ed527d-edbb-45c1-bc08-fb7b3d5bbe43",
   "metadata": {
    "tags": []
   },
   "source": [
    "### generate_mean_difference_plot()"
   ]
  },
  {
   "cell_type": "code",
   "execution_count": 28,
   "id": "cd82bb9a-b5a7-4893-972d-f847114e4fc5",
   "metadata": {},
   "outputs": [],
   "source": [
    "# Function to generate a MD plot\n",
    "def generate_mean_difference_plot(measurement1, measurement2,\n",
    "                                  measurement1_label='measurement1', \n",
    "                                  measurement2_label='measurement2',\n",
    "                                  loa_std=2.0, data_transform=None,\n",
    "                                  title=None):\n",
    "    \"\"\"\n",
    "    Generates a mean-difference plot from two measurements of the (assumed) same\n",
    "    underlying values.\n",
    "\n",
    "    Also sometimes called a Bland-Altman plot or a Tukey mean-difference plot.\n",
    "\n",
    "    Parameters\n",
    "    ----------\n",
    "    measurement1 : array-like\n",
    "        Array of numbers from one measurement of the underlying values\n",
    "    measurement2 : array-like\n",
    "        Array of numbers from another, different, measurement of the underlying \n",
    "        values\n",
    "    measurement1_label : str (default: 'measurement1')\n",
    "        The label for measurement1 data, used to annotate the plot axes\n",
    "    measurement1_label : str (default: 'measurement2')\n",
    "        The label for measurement2 data, used to annotate the plot axes\n",
    "    loa_std : float or int, positive (default: 2.0)\n",
    "        Limits of agreement (LoA), specified in standard deviations from the\n",
    "        mean, and used as a threshold to determine outlying data points.\n",
    "        Default is 2.0 standard deviations from the mean, which in a *normal\n",
    "        distribution* encompasses 95.5% of the data (1.0std=68.3%; 3.0std=99.7%)\n",
    "    data_transform : {'log', None, 'none'} (default: None)\n",
    "        Transformation permformed on measurement1 and measurement2 prior to\n",
    "        calculations for and generation of the MD plot. Possible values:\n",
    "        - 'log': natural log transform of the measurements\n",
    "        - 'diff_as_pct_of_mean': \n",
    "        - 'none', None: no transform\n",
    "\n",
    "    Returns\n",
    "    -------\n",
    "    outlier_genes\n",
    "        List of genes flagged as outliers\n",
    "    figure\n",
    "        Annotated mean-difference (MD) plot\n",
    "    \"\"\"\n",
    "    loa_std \n",
    "    \n",
    "    fig, ax = plt.subplots(figsize=(11,6))\n",
    "    \n",
    "    # Calculate the mean and difference of the two measurements\n",
    "    # transform the measurements first, if specified\n",
    "    if data_transform=='log':\n",
    "        # clearn up zero entries & warn user\n",
    "        if np.any(measurement1==0) | np.any(measurement2==0):\n",
    "            warnings.warn('\\nOne or more zero values detected in measurement1 '+\n",
    "                          'or measurement2. \\nThese data points will be '+\n",
    "                          'excluded from the final MD plot because they '+\n",
    "                          'result in a divide-by-zero error in the log '+\n",
    "                          'transform. \\nSet data_transform=None if you wish '+\n",
    "                          'to view all data points.')\n",
    "            measurement1[(measurement1==0) | (measurement1==0)] = np.nan\n",
    "            measurement2[(measurement2==0) | (measurement2==0)] = np.nan\n",
    "        \n",
    "        measurement_diff = np.log(measurement1) - np.log(measurement2)\n",
    "        measurement_mean = (np.log(measurement1) + np.log(measurement2)) / 2\n",
    "        \n",
    "    elif data_transform=='diff_as_pct_of_mean':\n",
    "        measurement_mean = (measurement1 + measurement2) / 2\n",
    "        measurement_diff = ((measurement1 - measurement2)/measurement_mean)*100\n",
    "        \n",
    "    elif (data_transform==None) | (data_transform=='none'):\n",
    "        measurement_diff = measurement1 - measurement2\n",
    "        measurement_mean = (measurement1 + measurement2) / 2\n",
    "        \n",
    "    # Calculate the mean & std of the difference to use for the LoA\n",
    "    diff_mean = np.nanmean(measurement_diff)\n",
    "    diff_std = np.nanstd(measurement_diff)\n",
    "\n",
    "    # Generate the MD plot\n",
    "    ax.scatter(measurement_mean, measurement_diff, s=18, color='cornflowerblue')\n",
    "    for i, gene in enumerate(genes):\n",
    "        ax.annotate(genes[i], (measurement_mean[i], measurement_diff[i]))\n",
    "\n",
    "    # Show and label the mean & loa_std values\n",
    "    annotate_ypos_offset = 0.015*np.nanmax(np.absolute(measurement_diff))\n",
    "    annotate_xpos = 0.90*np.nanmax(measurement_mean)\n",
    "    ax.axhline(diff_mean, color='grey', linestyle='--')\n",
    "    ax.axhline(diff_mean + 1.96*diff_std, color='darkorange', linestyle='--')\n",
    "    ax.axhline(diff_mean - 1.96*diff_std, color='darkorange', linestyle='--')\n",
    "    ax.annotate('$\\mu$ = %0.4f'%diff_mean, \n",
    "                (annotate_xpos,diff_mean+annotate_ypos_offset), \n",
    "                color='grey')\n",
    "    ax.annotate('$\\mu+$'+str(loa_std)+'$\\sigma =$ %0.2f'%(diff_mean + loa_std*diff_std), \n",
    "                (annotate_xpos,(diff_mean + loa_std*diff_std+annotate_ypos_offset)), \n",
    "                color='darkorange')\n",
    "    ax.annotate('$\\mu+$'+str(loa_std)+'$\\sigma =$ %0.2f'%(diff_mean - loa_std*diff_std), \n",
    "                (annotate_xpos,((diff_mean - loa_std*diff_std)+annotate_ypos_offset)), \n",
    "                color='darkorange')\n",
    "    \n",
    "    if (data_transform=='none') | (data_transform==None):\n",
    "        ax.set_xlabel('mean( ('+measurement1_label+'), ('+measurement2_label+') )')\n",
    "        ax.set_ylabel('('+measurement1_label+') - ('+measurement2_label+')')\n",
    "    elif data_transform=='log':\n",
    "        ax.set_xlabel('mean( '+data_transform+'('+measurement1_label+'), '+data_transform+'('+measurement2_label+') )')\n",
    "        ax.set_ylabel(data_transform+'('+measurement1_label+') - '+data_transform+'('+measurement2_label+')')\n",
    "    elif data_transform=='diff_as_pct_of_mean':\n",
    "        ax.set_xlabel('mean( ('+measurement1_label+'), ('+measurement2_label+') )')\n",
    "        ax.set_ylabel('(('+measurement1_label+')-('+measurement2_label+')) / mean \\n(%)')\n",
    "    \n",
    "    ax.set_title(title)\n",
    "    plt.show()\n",
    "    \n",
    "    # Generate a list of flagged genes (those outside the LoA)\n",
    "    brain1_outlier_flag = (measurement_diff < (diff_mean - loa_std*diff_std))\n",
    "    brain3_outlier_flag = (measurement_diff > (diff_mean + loa_std*diff_std))\n",
    "    \n",
    "    print('brain1 flagged genes:', sorted(measurement_diff[brain1_outlier_flag].index.tolist()))\n",
    "    print('brain3 flagged genes:', sorted(measurement_diff[brain3_outlier_flag].index.tolist()))\n",
    "    \n",
    "    outlier_genes_list = measurement_diff[brain1_outlier_flag | brain3_outlier_flag].index\n",
    "    \n",
    "    return measurement_diff, brain1_outlier_flag, brain3_outlier_flag, outlier_genes_list"
   ]
  },
  {
   "cell_type": "markdown",
   "id": "dc8c3e86-3b5b-4282-8caf-ce38544eb9f0",
   "metadata": {},
   "source": [
    "## Initialize df to store MD results"
   ]
  },
  {
   "cell_type": "code",
   "execution_count": 29,
   "id": "a7f00f7d-5e4e-4ad2-8038-2208cd3dde22",
   "metadata": {},
   "outputs": [],
   "source": [
    "# Create a df of all the genes so that we can easily compare all the flags \n",
    "# we're about to generate\n",
    "mean_diff_results_df = pd.DataFrame(index=genes)"
   ]
  },
  {
   "cell_type": "markdown",
   "id": "cae7a27f-2342-46a0-88af-c1c344621e35",
   "metadata": {
    "tags": []
   },
   "source": [
    "## Standard MD plot\n",
    "\n",
    "The standard MD plots may not actually be helpful because we are trying to compare data points spanning 3 orders of magnitude using the same scale.\n",
    "\n",
    "So genes like Gad2, which we have visually confirmed to be fine in both datasets, end up falling almost outside of our confidence interval simply because they have high counts and so a small difference between the two datasets looks large in absolute terms, but is not that large compared to the mean.\n",
    "\n",
    "On the other hand, it's hard to actually get a sense of how much variation there is for the genes with both small means and small differences because they're all smashed together.\n",
    "\n",
    "One idea on how to handle this large span is to use log(95th pct gene reads, brain X) in the mean and difference calculations, which I do below. However, I haven't found any examples where this approach was used, nor do I claim that this has any sort of statistical rigor.\n",
    "\n",
    "Another idea, taken from \"Giavarina D. (2015). Biochemia Medica. 25(2): 141-51. doi:10.11613/BM.2015.015.\", is to divide the difference by the mean to plot the difference as a percentage of the mean, which is \"useful when there is an increase in variability of the difference as teh magnitude of the measurement increases\"\n"
   ]
  },
  {
   "cell_type": "code",
   "execution_count": 30,
   "id": "fab2d4f6-9ce9-4180-b40e-6cefe02ed079",
   "metadata": {},
   "outputs": [],
   "source": [
    "pct = 0.95\n",
    "gene_95pct_brain1 = adata_brain1[:,genes].to_df().quantile(pct)\n",
    "gene_95pct_brain3 = adata_brain3[:,genes].to_df().quantile(pct)\n",
    "\n",
    "skew_zscore, kurtosis_zscore, normal_stat = is_difference_distribution_normal(\n",
    "                                                gene_95pct_brain1, \n",
    "                                                gene_95pct_brain3)\n",
    "col_suffix = '_95pctReads_allCells'\n",
    "(mean_diff_results_df['b1b3_diff'+col_suffix],\n",
    "mean_diff_results_df['b1_flagged'+col_suffix],\n",
    "mean_diff_results_df['b3_flagged'+col_suffix],\n",
    "outlier_genes_95pct) = generate_mean_difference_plot(gene_95pct_brain1,\n",
    "                                                    gene_95pct_brain3, \n",
    "                                                    '95th pct gene reads, brain1', \n",
    "                                                    '95th pct gene reads, brain3',\n",
    "                                                    loa_std=2.0, \n",
    "                                                    data_transform=None)"
   ]
  },
  {
   "cell_type": "markdown",
   "id": "84f7838f-12d7-402f-b7ad-e3fec0983318",
   "metadata": {},
   "source": [
    "## Modified MD w/ log-transformed data\n",
    "\n",
    "The read counts span 3 orders of magnitude, so calculating the mean and difference of the log-transformed 95th percentile of reads should make things more quantitatively comparable\n",
    "\n",
    "HOWEVER, because the 95th percentile read for many genes is still 0, and log(0)=-inf, a number of genes are simply not represented in that plot at all.\n",
    "\n",
    "The minimum read for 99th percentile is 1.0, so the log transform of that metric does not have the same problem\n",
    "\n",
    "Due to the gene drop-out in the 95th percentile, it's best to only use this plot with the 99th percentile (or whatever percentile's minimus is >0)"
   ]
  },
  {
   "cell_type": "code",
   "execution_count": 31,
   "id": "fc3b3840-b21d-4397-aff7-ebb12d5ffb36",
   "metadata": {},
   "outputs": [],
   "source": [
    "# Don't use 95th pct in log-transformed plots due to gene drop-out when reads=0\n",
    "\n",
    "# pct = 0.95\n",
    "# gene_95pct_brain1 = adata_brain1[:,genes].to_df().quantile(pct)\n",
    "# gene_95pct_brain3 = adata_brain3[:,genes].to_df().quantile(pct)\n",
    "\n",
    "# skew_zscore, kurtosis_zscore, normal_stat = is_difference_distribution_normal(\n",
    "#                                                 gene_95pct_brain1, \n",
    "#                                                 gene_95pct_brain3,\n",
    "#                                                 data_transform='log')\n",
    "\n",
    "# # MD plot of the log-transformed 95th percentile of gene reads\n",
    "# outlier_genes_95pct =  generate_mean_difference_plot(gene_95pct_brain1, gene_95pct_brain3, \n",
    "#                                                       '95th pct gene reads, brain1', \n",
    "#                                                       '95th pct gene reads, brain3',\n",
    "#                                                       loa_std=2, data_transform='log')"
   ]
  },
  {
   "cell_type": "markdown",
   "id": "d04640a6-5e98-462e-8ed4-bddd2822d009",
   "metadata": {},
   "source": [
    "### MD of 99th pct in all cells"
   ]
  },
  {
   "cell_type": "code",
   "execution_count": 32,
   "id": "7e82c7ab-da8c-4824-a729-9536d1ff2967",
   "metadata": {},
   "outputs": [],
   "source": [
    "# MD plot of the log-transformed 99th percentile of gene reads\n",
    "# for brain1 & brain3 all genes' 99th pct > 0\n",
    "pct = 0.99\n",
    "gene_99pct_brain1 = adata_brain1[:,genes].to_df().quantile(pct)\n",
    "gene_99pct_brain3 = adata_brain3[:,genes].to_df().quantile(pct)\n",
    "\n",
    "skew_zscore, kurtosis_zscore, normal_stat = is_difference_distribution_normal(\n",
    "                                                gene_99pct_brain1, \n",
    "                                                gene_99pct_brain3,\n",
    "                                                data_transform='log')\n",
    "\n",
    "col_suffix = '_99pctLogReads_allCells'\n",
    "(mean_diff_results_df['b1b3_diff'+col_suffix],\n",
    "mean_diff_results_df['b1_flagged'+col_suffix],\n",
    "mean_diff_results_df['b3_flagged'+col_suffix],\n",
    "outlier_genes_99pct_log) = generate_mean_difference_plot(gene_99pct_brain1,\n",
    "                                                        gene_99pct_brain3, \n",
    "                                                        '99th pct gene reads, brain1', \n",
    "                                                        '99th pct gene reads, brain3',\n",
    "                                                        loa_std=2, data_transform='log')"
   ]
  },
  {
   "cell_type": "markdown",
   "id": "59d04393-ee00-4b4f-8cfe-72f4db03764e",
   "metadata": {},
   "source": [
    "### MD of 99th pct in subsets (neurons, NN, exc, inh)"
   ]
  },
  {
   "cell_type": "code",
   "execution_count": 33,
   "id": "94cebc0e-feab-4a3a-abf6-5ba783202e74",
   "metadata": {},
   "outputs": [],
   "source": [
    "pct = 0.99\n",
    "\n",
    "# neurons\n",
    "gene_99pct_brain1_neurons = adata_brain1[neuron_filter_brain1, genes].to_df().quantile(pct) \n",
    "gene_99pct_brain3_neurons = adata_brain3[neuron_filter_brain3, genes].to_df().quantile(pct)\n",
    "\n",
    "col_suffix = '_99pctLogReads_neurons'\n",
    "(mean_diff_results_df['b1b3_diff'+col_suffix],\n",
    "mean_diff_results_df['b1_flagged'+col_suffix],\n",
    "mean_diff_results_df['b3_flagged'+col_suffix],\n",
    "outlier_genes_99pct_neurons) = generate_mean_difference_plot(\n",
    "                                    gene_99pct_brain1_neurons,\n",
    "                                    gene_99pct_brain3_neurons, \n",
    "                                    '99th pct gene reads, brain1', \n",
    "                                    '99th pct gene reads, brain3',\n",
    "                                    loa_std=2, data_transform='log', \n",
    "                                    title='neurons')\n",
    "\n",
    "# non-neuronal cells\n",
    "gene_99pct_brain1_nn = adata_brain1[~neuron_filter_brain1, genes].to_df().quantile(pct) \n",
    "gene_99pct_brain3_nn = adata_brain3[~neuron_filter_brain3, genes].to_df().quantile(pct) \n",
    "\n",
    "col_suffix = '_99pctLogReads_nn'\n",
    "(mean_diff_results_df['b1b3_diff'+col_suffix],\n",
    "mean_diff_results_df['b1_flagged'+col_suffix],\n",
    "mean_diff_results_df['b3_flagged'+col_suffix],\n",
    "outlier_genes_99pct_nn) = generate_mean_difference_plot(\n",
    "                                    gene_99pct_brain1_nn,\n",
    "                                    gene_99pct_brain3_nn, \n",
    "                                    '99th pct gene reads, brain1', \n",
    "                                    '99th pct gene reads, brain3',\n",
    "                                    loa_std=2, data_transform='log', \n",
    "                                    title='non-neuronal cells')\n",
    "\n",
    "# excitatory neurons\n",
    "gene_99pct_brain1_exc = adata_brain1[exc_neuron_filter_brain1, genes].to_df().quantile(pct) \n",
    "gene_99pct_brain3_exc = adata_brain3[exc_neuron_filter_brain3, genes].to_df().quantile(pct) \n",
    "\n",
    "col_suffix = '_99pctLogReads_exc'\n",
    "(mean_diff_results_df['b1b3_diff'+col_suffix],\n",
    "mean_diff_results_df['b1_flagged'+col_suffix],\n",
    "mean_diff_results_df['b3_flagged'+col_suffix],\n",
    "outlier_genes_99pct_exc) = generate_mean_difference_plot(\n",
    "                                    gene_99pct_brain1_exc,\n",
    "                                    gene_99pct_brain3_exc, \n",
    "                                    '99th pct gene reads, brain1', \n",
    "                                    '99th pct gene reads, brain3',\n",
    "                                    loa_std=2, data_transform='log', \n",
    "                                    title='excitatory neurons')\n",
    "\n",
    "# inhibitory neurons\n",
    "gene_99pct_brain1_inh = adata_brain1[inh_neuron_filter_brain1, genes].to_df().quantile(pct) \n",
    "gene_99pct_brain3_inh = adata_brain3[inh_neuron_filter_brain3, genes].to_df().quantile(pct) \n",
    "\n",
    "col_suffix = '_99pctLogReads_inh'\n",
    "(mean_diff_results_df['b1b3_diff'+col_suffix],\n",
    "mean_diff_results_df['b1_flagged'+col_suffix],\n",
    "mean_diff_results_df['b3_flagged'+col_suffix],\n",
    "outlier_genes_99pct_inh) = generate_mean_difference_plot(\n",
    "                                    gene_99pct_brain1_inh,\n",
    "                                    gene_99pct_brain3_inh, \n",
    "                                    '99th pct gene reads, brain1', \n",
    "                                    '99th pct gene reads, brain3',\n",
    "                                    loa_std=2, data_transform='log', \n",
    "                                    title='inhibitory neurons')"
   ]
  },
  {
   "cell_type": "markdown",
   "id": "66b8c9c5-41ba-4b33-97dd-165134550cb7",
   "metadata": {},
   "source": [
    "### Flagged genes from log-transformed MD\n"
   ]
  },
  {
   "cell_type": "code",
   "execution_count": 34,
   "id": "d399977f-0263-4a20-ba37-462cc2b95031",
   "metadata": {},
   "outputs": [],
   "source": [
    "print('Number of 99th percentile outlier genes, using log-transformed difference, in all cells:', \n",
    "      len(outlier_genes_99pct_log),'\\n', sorted(outlier_genes_99pct_log))\n",
    "\n",
    "print('\\nNumber of 99th percentile outlier genes, using log-transformed difference, in neurons:', \n",
    "      len(outlier_genes_99pct_neurons),'\\n', sorted(outlier_genes_99pct_neurons))\n",
    "\n",
    "print('\\nNumber of 99th percentile outlier genes, using log-transformed difference, in non-neuronal cells:', \n",
    "      len(outlier_genes_99pct_nn),'\\n', sorted(outlier_genes_99pct_nn))\n",
    "\n",
    "print('\\nNumber of 99th percentile outlier genes, using log-transformed difference, in excitatory neurons:', \n",
    "      len(outlier_genes_99pct_exc),'\\n', sorted(outlier_genes_99pct_exc))\n",
    "\n",
    "print('\\nNumber of 99th percentile outlier genes, using log-transformed difference, in inhibitory neurons:', \n",
    "      len(outlier_genes_99pct_inh),'\\n', sorted(outlier_genes_99pct_inh))"
   ]
  },
  {
   "cell_type": "code",
   "execution_count": 35,
   "id": "ed0c90d2-013a-4e29-a99c-614cba87b83a",
   "metadata": {},
   "outputs": [],
   "source": [
    "outlier_genes_all = sorted(list(dict.fromkeys([*outlier_genes_99pct_log, \n",
    "                                               *outlier_genes_99pct_neurons, \n",
    "                                               *outlier_genes_99pct_nn, \n",
    "                                               *outlier_genes_99pct_exc, \n",
    "                                               *outlier_genes_99pct_inh])))\n",
    "print(outlier_genes_all)"
   ]
  },
  {
   "cell_type": "markdown",
   "id": "7f55cee0-68fd-4f6c-ae3b-8053ea2eddc3",
   "metadata": {},
   "source": [
    "### Spatial expression plots of flagged genes"
   ]
  },
  {
   "cell_type": "code",
   "execution_count": 36,
   "id": "a3a9c563-0674-405d-b202-12f1931b58d6",
   "metadata": {},
   "outputs": [],
   "source": [
    "# requires import of module:\n",
    "# import gene_expr_plots as exprplot"
   ]
  },
  {
   "cell_type": "code",
   "execution_count": 37,
   "id": "6500b62a-0fc7-4bc5-8db5-10f56cf5afde",
   "metadata": {},
   "outputs": [],
   "source": [
    "fig_Calb1 = exprplot.plot_brain1_vs_brain3_expression(adata, 'Calb1')\n",
    "fig_Calb2 = exprplot.plot_brain1_vs_brain3_expression(adata, 'Calb2')\n",
    "fig_Kcnip1 = exprplot.plot_brain1_vs_brain3_expression(adata, 'Kcnip1')"
   ]
  },
  {
   "cell_type": "markdown",
   "id": "a53e0431-8bb5-4885-a8ee-b17371747360",
   "metadata": {},
   "source": [
    "## Modified MD w/ difference as % of mean on y-axis\n",
    "\n",
    "Another idea for how to handle the large range of values in gene reads is to divide the difference by the mean to plot the difference as a percentage of the mean, which is \"useful when there is an increase in variability of the difference as teh magnitude of the measurement increases\" (reference: Figure 7 in \"Giavarina D. (2015). Biochemia Medica. 25(2): 141-51. doi:10.11613/BM.2015.015.\")\n"
   ]
  },
  {
   "cell_type": "code",
   "execution_count": 38,
   "id": "dc783111-11c6-42c3-ae0e-add6faabca29",
   "metadata": {},
   "outputs": [],
   "source": [
    "# 95th percentile, all cells\n",
    "pct = 0.95\n",
    "gene_95pct_brain1 = adata_brain1[:,genes].to_df().quantile(pct)\n",
    "gene_95pct_brain3_neurons = adata_brain3[:,genes].to_df().quantile(pct)\n",
    "\n",
    "col_suffix = '_95pctReads_diffAsPctOfMean_allCells'\n",
    "(mean_diff_results_df['b1b3_diff'+col_suffix],\n",
    "mean_diff_results_df['b1_flagged'+col_suffix],\n",
    "mean_diff_results_df['b3_flagged'+col_suffix],\n",
    "outlier_genes_95pct_diffAsPctOfMean) = generate_mean_difference_plot(\n",
    "                                        gene_95pct_brain1,\n",
    "                                        gene_95pct_brain3, \n",
    "                                        '95th pct gene reads, brain1', \n",
    "                                        '95th pct gene reads, brain3',\n",
    "                                        loa_std=2, \n",
    "                                        data_transform='diff_as_pct_of_mean')\n",
    "\n",
    "# 99th percentile, all cells\n",
    "pct = 0.99\n",
    "gene_99pct_brain1 = adata_brain1[:,genes].to_df().quantile(pct)\n",
    "gene_99pct_brain3 = adata_brain3[:,genes].to_df().quantile(pct)\n",
    "\n",
    "col_suffix = '_95pctReads_diffAsPctOfMean_allCells'\n",
    "(mean_diff_results_df['b1b3_diff'+col_suffix],\n",
    "mean_diff_results_df['b1_flagged'+col_suffix],\n",
    "mean_diff_results_df['b3_flagged'+col_suffix],\n",
    "outlier_genes_99pct_diffAsPctOfMean) = generate_mean_difference_plot(\n",
    "                                        gene_99pct_brain1,\n",
    "                                        gene_99pct_brain3, \n",
    "                                        '99th pct gene reads, brain1', \n",
    "                                        '99th pct gene reads, brain3',\n",
    "                                        loa_std=2, \n",
    "                                        data_transform='diff_as_pct_of_mean')"
   ]
  },
  {
   "cell_type": "markdown",
   "id": "70aa2672-3a79-4d21-a49c-0d0fb5a332d0",
   "metadata": {},
   "source": [
    "### Flagged genes from diff as % of mean"
   ]
  },
  {
   "cell_type": "code",
   "execution_count": 39,
   "id": "92e7a18c-6f1a-4394-94a3-dc6b421f4d48",
   "metadata": {},
   "outputs": [],
   "source": [
    "print('Number of 95th percentile outlier genes, using difference as a percent of the mean, in all cells:', \n",
    "      len(outlier_genes_95pct_diffAsPctOfMean),'\\n', sorted(outlier_genes_95pct_diffAsPctOfMean))\n",
    "\n",
    "print('\\nNumber of 99th percentile outlier genes, using difference as a percent of the mean, in all cells:', \n",
    "      len(outlier_genes_99pct_diffAsPctOfMean),'\\n', sorted(outlier_genes_99pct_diffAsPctOfMean))"
   ]
  },
  {
   "cell_type": "markdown",
   "id": "fb8004f3-7f85-4974-95da-826774ea7708",
   "metadata": {
    "tags": []
   },
   "source": [
    "### Plot outlier gene expression"
   ]
  },
  {
   "cell_type": "code",
   "execution_count": 40,
   "id": "0512e6e9-6bf6-42ea-864e-291c602179eb",
   "metadata": {},
   "outputs": [],
   "source": [
    "for gene in outlier_genes_99pct_diffAsPctOfMean:\n",
    "    curr_fig = exprplot.plot_brain1_vs_brain3_expression(adata, gene)"
   ]
  },
  {
   "cell_type": "markdown",
   "id": "aab3ef57-33a5-437c-83c2-152834a6c16e",
   "metadata": {},
   "source": [
    "## Save MD plot results to .uns"
   ]
  },
  {
   "cell_type": "code",
   "execution_count": 41,
   "id": "fd9fd73e-6587-4fcd-8c15-51e4d887662d",
   "metadata": {},
   "outputs": [],
   "source": [
    "adata.uns['mean_diff_plot_results_flags'] = mean_diff_results_df\n",
    "adata.write_h5ad('/root/capsule/results/Brain_1_3_TH_ZI_geneQC.h5ad')"
   ]
  },
  {
   "cell_type": "code",
   "execution_count": 42,
   "id": "da19c164-57df-4ee1-8650-b776c0814e5e",
   "metadata": {},
   "outputs": [],
   "source": [
    "mean_diff_results_df"
   ]
  },
  {
   "cell_type": "markdown",
   "id": "00c6ae02-a8ae-4ed2-9718-26dde49eb16e",
   "metadata": {},
   "source": [
    "# TODO: Extending MD plot analysis to >2 replicates\n",
    "\n",
    "Eventually, we'll want to do this for more than just these two brains, Brain 1 & Brain 3. For example, the Imaging Dept. has a series of 12(?), sequential, ~10um sections of mouse brain that they've been using as \"identical\" replicates to test the consistency of the Xenium. It would be great to be able to do this type of MD comparison on all 12(?) sections to flag potential outliers! However, the combinatorics of individual, pairwise MD plots quickly blows up!!\n",
    "\n",
    "Luckily, the limma R/Bioconducter software package extends the MD / Bland-Altman plot method to compare each replicate (aka sample/method/observers/reader) to the average of all other replicates by:\n",
    "\n",
    "\"A virtual array is constructed by averaging the log-expression value for all the samples other than the sample of interest, and then a mean-difference plot is made between the single array and the virtual array.\" (Ritchie, et al. (2015). Nucleic Acids Research. doi:10.1093/nar/gkv007)\n",
    "\n",
    "This may not be the most efficient way to flag instances where entire sections failed, but it should suffice.\n"
   ]
  }
 ],
 "metadata": {
  "kernelspec": {
   "display_name": "Python 3",
   "language": "python",
   "name": "python3"
  },
  "language_info": {
   "codemirror_mode": {
    "name": "ipython",
    "version": 3
   },
   "file_extension": ".py",
   "mimetype": "text/x-python",
   "name": "python",
   "nbconvert_exporter": "python",
   "pygments_lexer": "ipython3",
   "version": "3.9.12"
  }
 },
 "nbformat": 4,
 "nbformat_minor": 5
}
