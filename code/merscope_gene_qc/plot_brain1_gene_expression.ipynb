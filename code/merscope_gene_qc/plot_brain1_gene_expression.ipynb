{
 "cells": [
  {
   "cell_type": "code",
   "execution_count": 1,
   "id": "b7256e91-d314-421c-8f83-5e61bf3ba515",
   "metadata": {},
   "outputs": [],
   "source": [
    "import anndata as ad\n",
    "import numpy as np\n",
    "\n",
    "import gene_expr_plots as exprplot\n",
    "\n",
    "import matplotlib.pyplot as plt\n",
    "import matplotlib\n",
    "\n",
    "%matplotlib inline "
   ]
  },
  {
   "cell_type": "markdown",
   "id": "7e0860ed-699d-41b6-97da-ed3238fadfa2",
   "metadata": {},
   "source": [
    "# Load data"
   ]
  },
  {
   "cell_type": "markdown",
   "id": "c1fd6984-c90b-491c-8033-8db4c2d519b9",
   "metadata": {},
   "source": [
    "## brain 1 (mouse 609882)"
   ]
  },
  {
   "cell_type": "code",
   "execution_count": 2,
   "id": "86d2823b-5384-4a9f-a4cf-f66e862aa2af",
   "metadata": {},
   "outputs": [],
   "source": [
    "adata_brain1 = ad.read_h5ad(\"/root/capsule/data/merfish_609882_AIT17.1_annotated_TH_ZI_only_2023-02-16_00-00-00/atlas_brain_609882_AIT17_1_annotated_TH_ZI_only.h5ad\")"
   ]
  },
  {
   "cell_type": "code",
   "execution_count": 3,
   "id": "6648459a-09e1-4781-8fd3-66ee576fbefe",
   "metadata": {},
   "outputs": [],
   "source": [
    "genes_b1 = np.array(sorted([x for x in adata_brain1.var_names if 'Blank' not in x]))\n",
    "blanks_b1 = np.array(sorted([x for x in adata_brain1.var_names if 'Blank' in x]))\n",
    "\n",
    "adata_brain1 = adata_brain1[:,genes_b1].copy()\n",
    "adata_brain1"
   ]
  },
  {
   "cell_type": "markdown",
   "id": "826811e2-f7dc-484c-81d8-bf7df9d1c2d1",
   "metadata": {},
   "source": [
    "# Demonstrate plotting functions\n",
    "\n",
    "from gene_expr_plots.py"
   ]
  },
  {
   "cell_type": "markdown",
   "id": "a2e022f4-8e72-4f69-b399-c9055a1f5ed3",
   "metadata": {},
   "source": [
    "## plot_expr_section_by_gene()"
   ]
  },
  {
   "cell_type": "code",
   "execution_count": 4,
   "id": "702dd0a2-3562-4737-b86f-99ed79ceeacb",
   "metadata": {},
   "outputs": [],
   "source": [
    "sections_brain1 = ['1198980089','1198980101']\n",
    "fig_test = exprplot.plot_expr_section_by_gene(adata_brain1, \n",
    "                                              genes_b1[400:405], \n",
    "                                              sections_brain1, \n",
    "                                              match_gene_colorbars=True, \n",
    "                                              display_fig=True,\n",
    "                                              title='brain1 (mouse 609882)', \n",
    "                                              figsize=(24,7), \n",
    "                                              base_fontsize=16)"
   ]
  },
  {
   "cell_type": "markdown",
   "id": "f585ff43-3928-4d5e-bf39-58e2e557355d",
   "metadata": {},
   "source": [
    "# Generate & save batches of plots"
   ]
  },
  {
   "cell_type": "markdown",
   "id": "2141685c-c0c9-4230-bbb2-ec44d3e63b6d",
   "metadata": {},
   "source": [
    "## plot_expr_section_by_gene()"
   ]
  },
  {
   "cell_type": "code",
   "execution_count": null,
   "id": "ba4bca67-de7f-4004-b93f-71a459a98246",
   "metadata": {},
   "outputs": [],
   "source": [
    "sections_brain1 = ['1198980089','1198980101']\n",
    "\n",
    "for i in range(0, len(genes_b1), 5):\n",
    "    gene_batch = genes_b1[i:i+5]\n",
    "    print(gene_batch)\n",
    "    curr_fig = exprplot.plot_expr_section_by_gene(adata_brain1, \n",
    "                                                  gene_batch, \n",
    "                                                  sections_brain1, \n",
    "                                                  match_gene_colorbars=True, \n",
    "                                                  display_fig=False,\n",
    "                                                  title='brain1 (mouse 609882)', \n",
    "                                                  figsize=(24,7), \n",
    "                                                  base_fontsize=16)\n",
    "    curr_fig.savefig('/root/capsule/results/'+'brain1_expr_genes_'+f\"{i:03}\"+'_to_'+f\"{(i+5):03}\"+'.png',\n",
    "                         bbox_inches='tight')"
   ]
  },
  {
   "cell_type": "code",
   "execution_count": null,
   "id": "9509895c-44cf-44a6-a2a1-bceccb105b72",
   "metadata": {},
   "outputs": [],
   "source": []
  }
 ],
 "metadata": {
  "kernelspec": {
   "display_name": "Python 3",
   "language": "python",
   "name": "python3"
  },
  "language_info": {
   "codemirror_mode": {
    "name": "ipython",
    "version": 3
   },
   "file_extension": ".py",
   "mimetype": "text/x-python",
   "name": "python",
   "nbconvert_exporter": "python",
   "pygments_lexer": "ipython3",
   "version": "3.9.12"
  }
 },
 "nbformat": 4,
 "nbformat_minor": 5
}
