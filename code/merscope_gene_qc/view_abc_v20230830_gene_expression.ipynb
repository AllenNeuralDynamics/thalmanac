{
 "cells": [
  {
   "cell_type": "code",
   "execution_count": 1,
   "id": "29919d47-690a-4726-88b1-98b2b45cd294",
   "metadata": {
    "tags": []
   },
   "outputs": [],
   "source": [
    "%load_ext autoreload\n",
    "%autoreload 2"
   ]
  },
  {
   "cell_type": "code",
   "execution_count": 5,
   "id": "b7256e91-d314-421c-8f83-5e61bf3ba515",
   "metadata": {
    "tags": []
   },
   "outputs": [],
   "source": [
    "import anndata as ad\n",
    "import numpy as np\n",
    "\n",
    "import gene_expr_plots as geplot\n",
    "\n",
    "import matplotlib.pyplot as plt\n",
    "import matplotlib\n",
    "\n",
    "# from thalamus_merfish_analysis import ccf_plots as cplots\n",
    "# from thalamus_merfish_analysis import ccf_images as cimg\n",
    "from thalamus_merfish_analysis import abc_load as abc\n",
    "\n",
    "%matplotlib inline"
   ]
  },
  {
   "cell_type": "markdown",
   "id": "5268ae34-c90e-459b-b594-4646bca9b324",
   "metadata": {},
   "source": [
    "# Load adata"
   ]
  },
  {
   "cell_type": "markdown",
   "id": "f29e23e1-91d8-4b18-81b2-0ba38884a20c",
   "metadata": {},
   "source": [
    "## brain 3 (mouse 628850)"
   ]
  },
  {
   "cell_type": "code",
   "execution_count": 3,
   "id": "cf4996f9-22ac-4d4f-956c-2407afb60784",
   "metadata": {
    "tags": []
   },
   "outputs": [],
   "source": [
    "adata = abc.load_adata(transform='log2', subset_to_TH_ZI=True, with_metadata=True,\n",
    "                       flip_y=False, round_z=True, cirro_names=False, \n",
    "                       with_colors=True, realigned=False, loaded_metadata=None)\n",
    "adata = abc.filter_adata_by_class(adata, filter_nonneuronal=True, \n",
    "                                  filter_midbrain=True, \n",
    "                                  filter_others=True)"
   ]
  },
  {
   "cell_type": "code",
   "execution_count": 4,
   "id": "4d8241dd-af5b-48cd-ba15-d5c08c43f7fe",
   "metadata": {
    "tags": []
   },
   "outputs": [],
   "source": [
    "genes_b3 = np.array(sorted([x for x in adata_brain3.var_names if 'Blank' not in x]))\n",
    "blanks_b3 = np.array(sorted([x for x in adata_brain3.var_names if 'Blank' in x]))\n",
    "\n",
    "adata_brain3 = adata_brain3[:,genes_b3].copy()\n",
    "# adata_brain3"
   ]
  },
  {
   "cell_type": "markdown",
   "id": "271bcca0-9250-4a68-ba1e-c3f2c2676193",
   "metadata": {},
   "source": [
    "# Demonstrate plotting functions\n",
    "\n",
    "from gene_expr_plots.py"
   ]
  },
  {
   "cell_type": "markdown",
   "id": "92c18b21-dda9-45c9-b836-ab84d40abc57",
   "metadata": {},
   "source": [
    "## plot_expr_section_by_gene()"
   ]
  },
  {
   "cell_type": "code",
   "execution_count": 5,
   "id": "7e1085df-c4f3-457a-817e-e4940f8d2a00",
   "metadata": {
    "tags": []
   },
   "outputs": [],
   "source": [
    "sections_brain3 = ['1199651054','1199651048']\n",
    "fig_test = geplot.plot_expr_section_by_gene(adata_brain3, \n",
    "                                              genes_b3[400:405], \n",
    "                                              sections_brain3, \n",
    "                                              match_gene_colorbars=True, \n",
    "                                              display_fig=True,\n",
    "                                              title='brain3 (mouse 638850)', \n",
    "                                              figsize=(24,7), \n",
    "                                              base_fontsize=16)"
   ]
  },
  {
   "cell_type": "markdown",
   "id": "3d7b3bc4-b926-4a08-adbc-d0da0e597480",
   "metadata": {},
   "source": [
    "## plot_brain3_expression()"
   ]
  },
  {
   "cell_type": "code",
   "execution_count": 12,
   "id": "3ae3b6db-af4e-49b0-b4e5-8abb105597fd",
   "metadata": {
    "tags": []
   },
   "outputs": [],
   "source": [
    "tnnt1_brain3_fig = geplot.plot_brain3_expression(adata_brain3, 'Tnnt1')"
   ]
  },
  {
   "cell_type": "markdown",
   "id": "cf0b39ba-0e1e-496c-98e9-f7a8d110a9be",
   "metadata": {},
   "source": [
    "# Generate & save batches of plots"
   ]
  },
  {
   "cell_type": "markdown",
   "id": "94217b06-a0c7-4747-a7e1-b9d230559f2f",
   "metadata": {},
   "source": [
    "## plot_expr_section_by_gene()"
   ]
  },
  {
   "cell_type": "code",
   "execution_count": null,
   "id": "a4fa10ed-b66c-404a-88e4-9738e131451d",
   "metadata": {},
   "outputs": [],
   "source": [
    "for i in range(0, len(genes_b3), 5):\n",
    "    gene_batch = genes_b3[i:i+5]\n",
    "    print(gene_batch)\n",
    "    curr_fig = exprplot.plot_expr_section_by_gene(adata_brain3, \n",
    "                                                  gene_batch, \n",
    "                                                  sections_brain3, \n",
    "                                                  match_gene_colorbars=True, \n",
    "                                                  display_fig=False,\n",
    "                                                  title='WMB - brain3 (mouse 638850)', \n",
    "                                                  figsize=(24,7), \n",
    "                                                  base_fontsize=16)\n",
    "    curr_fig.savefig('/root/capsule/results/'+'brain3_expr_genes_'+f\"{i:03}\"+'_to_'+f\"{(i+5):03}\"+'.png',\n",
    "                         bbox_inches='tight')"
   ]
  },
  {
   "cell_type": "markdown",
   "id": "b3547520-acfa-417b-9512-4471fd0a286f",
   "metadata": {},
   "source": [
    "## plot_brain3_expression()"
   ]
  },
  {
   "cell_type": "code",
   "execution_count": 14,
   "id": "f7a1084b-4be5-42a1-8859-883fa24f4462",
   "metadata": {
    "tags": []
   },
   "outputs": [],
   "source": [
    "for gene in genes_b3:\n",
    "    print(gene)\n",
    "    curr_fig = geplot.plot_brain3_expression(adata_brain3, gene, display_fig=False)\n",
    "    curr_fig.savefig('/root/capsule/results/'+'brain3_expr_'+gene+'.png', bbox_inches='tight')"
   ]
  },
  {
   "cell_type": "code",
   "execution_count": null,
   "id": "af1b6e6a-f6f2-4c01-bd04-83ffba366ee2",
   "metadata": {},
   "outputs": [],
   "source": []
  }
 ],
 "metadata": {
  "kernelspec": {
   "display_name": "Python 3 (ipykernel)",
   "language": "python",
   "name": "python3"
  },
  "language_info": {
   "codemirror_mode": {
    "name": "ipython",
    "version": 3
   },
   "file_extension": ".py",
   "mimetype": "text/x-python",
   "name": "python",
   "nbconvert_exporter": "python",
   "pygments_lexer": "ipython3",
   "version": "3.9.12"
  }
 },
 "nbformat": 4,
 "nbformat_minor": 5
}
