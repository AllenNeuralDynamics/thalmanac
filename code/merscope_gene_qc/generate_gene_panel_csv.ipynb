{
 "cells": [
  {
   "cell_type": "code",
   "execution_count": 1,
   "id": "91675e1a-94f2-4209-964f-e887d058f970",
   "metadata": {},
   "outputs": [],
   "source": [
    "import os\n",
    "import anndata as ad\n",
    "import pandas as pd"
   ]
  },
  {
   "cell_type": "markdown",
   "id": "f9f81959-d5a5-4b0f-bf11-c222bedd8514",
   "metadata": {},
   "source": [
    "# Get gene lists from existing h5ad files"
   ]
  },
  {
   "cell_type": "code",
   "execution_count": 2,
   "id": "46f1484c-0597-42d3-aa29-3a09d262ee22",
   "metadata": {},
   "outputs": [],
   "source": [
    "root_dir = '/root/capsule'\n",
    "brain1_data = 'data/merfish_609882_AIT17.1_annotated_TH_ZI_only_2023-02-16_00-00-00/atlas_brain_609882_AIT17_1_annotated_TH_ZI_only.h5ad'\n",
    "brain3_data = 'data/merfish_638850_AIT17.custom_CCF_annotated_TH_ZI_only_2023-05-04_00-00-00/atlas_brain_638850_AIT17_custom_CCF_annotated_TH_ZI_only.h5ad'\n",
    "ad_brain1 = ad.read_h5ad(os.path.join(root_dir, brain1_data))\n",
    "ad_brain3 = ad.read_h5ad(os.path.join(root_dir, brain3_data))"
   ]
  },
  {
   "cell_type": "markdown",
   "id": "d3caf3ab-d302-414e-8a65-9b578b97af4c",
   "metadata": {},
   "source": [
    "## Remove blanks"
   ]
  },
  {
   "cell_type": "code",
   "execution_count": 3,
   "id": "b1b4d484-c593-4b56-9c9e-fd97d71f70dd",
   "metadata": {},
   "outputs": [],
   "source": [
    "gene_panel_VZ147_mouse_609882_brain1 = sorted([x for x in ad_brain1.var_names if 'Blank' not in x])\n",
    "gene_panel_VZ142_mouse_638850_brain3 = sorted([x for x in ad_brain3.var_names if 'Blank' not in x])"
   ]
  },
  {
   "cell_type": "markdown",
   "id": "2541afbc-a697-4475-b6c1-5c33e49da36d",
   "metadata": {},
   "source": [
    "## Write to csv to store in /resources/"
   ]
  },
  {
   "cell_type": "code",
   "execution_count": 4,
   "id": "37d0cb4c-44a1-48b0-b2d2-8c752935f574",
   "metadata": {},
   "outputs": [],
   "source": [
    "gene_panel_df_brain1 = pd.DataFrame(gene_panel_VZ147_mouse_609882_brain1, \n",
    "                                    columns=[\"gene_panel_VZ147_mouse_609882_brain1\"])\n",
    "gene_panel_df_brain3 = pd.DataFrame(gene_panel_VZ142_mouse_638850_brain3, \n",
    "                                    columns=[\"gene_panel_VZ142_mouse_638850_brain3\"])"
   ]
  },
  {
   "cell_type": "code",
   "execution_count": 5,
   "id": "538a1240-b549-41a7-89b3-d10cd1b459c2",
   "metadata": {},
   "outputs": [],
   "source": [
    "# gene_panel_df_brain1.to_csv(os.path.join(root_dir,'resources/gene_panel_VZ147_mouse_609882_brain1.csv'), index=False)\n",
    "# gene_panel_df_brain3.to_csv(os.path.join(root_dir,'resources/gene_panel_VZ142_mouse_638850_brain3.csv'), index=False)"
   ]
  },
  {
   "cell_type": "markdown",
   "id": "313d517f-f2df-4af1-8e65-78f019f1db76",
   "metadata": {},
   "source": [
    "# Read in csv files to check they're correect"
   ]
  },
  {
   "cell_type": "code",
   "execution_count": 6,
   "id": "33c9c8a2-b7e4-4dff-8094-82cafcee96e7",
   "metadata": {},
   "outputs": [],
   "source": [
    "brain1_genes_csv = pd.read_csv(os.path.join(root_dir,'resources/gene_panel_VZ147_mouse_609882_brain1.csv'))\n",
    "len(brain1_genes_csv['gene_panel_VZ147_mouse_609882_brain1'].values)"
   ]
  },
  {
   "cell_type": "code",
   "execution_count": 7,
   "id": "1238941e-afbe-4e20-9baa-0a3609a6a6f5",
   "metadata": {},
   "outputs": [],
   "source": [
    "brain3_genes_csv = pd.read_csv(os.path.join(root_dir,'resources/gene_panel_VZ142_mouse_638850_brain3.csv'))\n",
    "len(brain3_genes_csv['gene_panel_VZ142_mouse_638850_brain3'].values)"
   ]
  },
  {
   "cell_type": "code",
   "execution_count": 8,
   "id": "941132f4-fda3-4d25-b177-ab9de9aac132",
   "metadata": {},
   "outputs": [],
   "source": [
    "brain1_genes_csv['gene_panel_VZ147_mouse_609882_brain1'].values"
   ]
  },
  {
   "cell_type": "code",
   "execution_count": 9,
   "id": "b812f716-ee42-443a-8362-c13665dfcf07",
   "metadata": {},
   "outputs": [],
   "source": [
    "brain3_genes_csv['gene_panel_VZ142_mouse_638850_brain3'].values"
   ]
  }
 ],
 "metadata": {
  "kernelspec": {
   "display_name": "Python 3",
   "language": "python",
   "name": "python3"
  },
  "language_info": {
   "codemirror_mode": {
    "name": "ipython",
    "version": 3
   },
   "file_extension": ".py",
   "mimetype": "text/x-python",
   "name": "python",
   "nbconvert_exporter": "python",
   "pygments_lexer": "ipython3",
   "version": "3.9.12"
  }
 },
 "nbformat": 4,
 "nbformat_minor": 5
}
