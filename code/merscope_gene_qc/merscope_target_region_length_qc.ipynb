{
 "cells": [
  {
   "cell_type": "code",
   "execution_count": 1,
   "id": "b08149bc-dbae-4b7d-96db-044a1d07b415",
   "metadata": {},
   "outputs": [],
   "source": [
    "import numpy as np\n",
    "import pandas as pd\n",
    "import anndata as ad\n",
    "import matplotlib.pyplot as plt\n",
    "import matplotlib.ticker as mticker\n",
    "from scipy import sparse\n",
    "\n",
    "# in-cell imports:\n",
    "# import warnings\n",
    "# from scipy import stats\n",
    "# from scipy import spatial\n",
    "# import pathlib\n",
    "# from pathlib import Path\n",
    "\n",
    "%matplotlib inline"
   ]
  },
  {
   "cell_type": "code",
   "execution_count": 39,
   "id": "c67c4992-1daa-4a77-b4e0-1022b8ee4bfc",
   "metadata": {},
   "outputs": [],
   "source": [
    "adata_qc = ad.read_h5ad('/root/capsule/results/Brain_1_3_TH_ZI_geneQC.h5ad')"
   ]
  },
  {
   "cell_type": "code",
   "execution_count": 40,
   "id": "ba7ce8c4-373b-4b53-90f1-8ca3207da03d",
   "metadata": {},
   "outputs": [],
   "source": [
    "adata_qc"
   ]
  },
  {
   "cell_type": "code",
   "execution_count": 41,
   "id": "09486bea-64c9-4f4b-9fd2-b99e0c2811bf",
   "metadata": {},
   "outputs": [],
   "source": [
    "adata_qc.uns['mean_diff_plot_results_flags']"
   ]
  },
  {
   "cell_type": "code",
   "execution_count": 2,
   "id": "8606a101-5147-4998-ab61-92a83881c8a4",
   "metadata": {},
   "outputs": [],
   "source": [
    "wmb_prelim_genes_df = pd.read_csv('/root/capsule/resources/brain3_PreliminaryGeneList_testmousewb_fromBrian.csv')"
   ]
  },
  {
   "cell_type": "code",
   "execution_count": 3,
   "id": "50ef8d5b-69d4-4464-ab06-9657cd5df071",
   "metadata": {},
   "outputs": [],
   "source": [
    "wmb_prelim_genes_df"
   ]
  },
  {
   "cell_type": "code",
   "execution_count": 37,
   "id": "18e1e929-8882-4d7e-898f-a6e791635108",
   "metadata": {},
   "outputs": [],
   "source": [
    "# Plot gene # of probe target regions vs gene abundance\n",
    "fig = plt.figure(figsize=(20,10))\n",
    "ax = plt.gca()\n",
    "sc = ax.scatter(wmb_prelim_genes_df['Target Regions'], \n",
    "                wmb_prelim_genes_df['Abundance'],\n",
    "                s=18, color='cornflowerblue')\n",
    "ax.set_yscale('log')\n",
    "ax.set_xscale('log')\n",
    "ax.set_ylabel('gene abundance')\n",
    "ax.set_xlabel('# of target regions on gene')\n",
    "\n",
    "\n",
    "for gene in wmb_prelim_genes_df['Vizgen Gene'].tolist():\n",
    "    curr_row = wmb_prelim_genes_df[wmb_prelim_genes_df['Vizgen Gene']==gene]\n",
    "    ax.annotate(gene, (curr_row['Target Regions'], curr_row['Abundance']), \n",
    "                fontsize=10, color='k')\n",
    "    \n",
    "plt.show()"
   ]
  },
  {
   "cell_type": "code",
   "execution_count": null,
   "id": "68e9b47b-cd87-4195-8faf-159799858914",
   "metadata": {},
   "outputs": [],
   "source": []
  }
 ],
 "metadata": {
  "kernelspec": {
   "display_name": "Python 3",
   "language": "python",
   "name": "python3"
  },
  "language_info": {
   "codemirror_mode": {
    "name": "ipython",
    "version": 3
   },
   "file_extension": ".py",
   "mimetype": "text/x-python",
   "name": "python",
   "nbconvert_exporter": "python",
   "pygments_lexer": "ipython3",
   "version": "3.9.12"
  }
 },
 "nbformat": 4,
 "nbformat_minor": 5
}
