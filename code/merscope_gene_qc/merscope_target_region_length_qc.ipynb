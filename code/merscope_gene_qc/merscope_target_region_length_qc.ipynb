{
 "cells": [
  {
   "cell_type": "code",
   "execution_count": 1,
   "id": "b08149bc-dbae-4b7d-96db-044a1d07b415",
   "metadata": {},
   "outputs": [],
   "source": [
    "import numpy as np\n",
    "import pandas as pd\n",
    "import anndata as ad\n",
    "import matplotlib.pyplot as plt\n",
    "import matplotlib.ticker as mticker\n",
    "from scipy import sparse\n",
    "\n",
    "%matplotlib inline"
   ]
  },
  {
   "cell_type": "markdown",
   "id": "c29c56c9-41f5-40ee-9455-f5518a47d94a",
   "metadata": {},
   "source": [
    "# Load adata & csv\n",
    "\n",
    "1. Run brain1_vs_brain3_gene_qc.ipynb to generate ../results/Brain_1_3_TH_ZI_geneQC.h5ad"
   ]
  },
  {
   "cell_type": "code",
   "execution_count": 2,
   "id": "c67c4992-1daa-4a77-b4e0-1022b8ee4bfc",
   "metadata": {},
   "outputs": [],
   "source": [
    "# will need to run brain1_vs_brain3_gene_qc.ipynb to generate this file if on a\n",
    "# new codeocean run\n",
    "adata_qc = ad.read_h5ad('/root/capsule/results/Brain_1_3_TH_ZI_geneQC.h5ad')"
   ]
  },
  {
   "cell_type": "code",
   "execution_count": 3,
   "id": "ba7ce8c4-373b-4b53-90f1-8ca3207da03d",
   "metadata": {},
   "outputs": [],
   "source": [
    "adata_qc"
   ]
  },
  {
   "cell_type": "code",
   "execution_count": 4,
   "id": "09486bea-64c9-4f4b-9fd2-b99e0c2811bf",
   "metadata": {},
   "outputs": [],
   "source": [
    "adata_qc.uns['mean_diff_plot_results_flags']"
   ]
  },
  {
   "cell_type": "code",
   "execution_count": 5,
   "id": "8606a101-5147-4998-ab61-92a83881c8a4",
   "metadata": {},
   "outputs": [],
   "source": [
    "# Load csv from Brian\n",
    "wmb_prelim_genes_csv = pd.read_csv('/code/resources/brain3_PreliminaryGeneList_testmousewb_fromBrian.csv')"
   ]
  },
  {
   "cell_type": "code",
   "execution_count": 6,
   "id": "056e6fc0-2e73-4a9d-af2d-5c2e257e2943",
   "metadata": {},
   "outputs": [],
   "source": [
    "# set the index to the gene name to make indexing/subsetting easier\n",
    "wmb_prelim_genes_csv.set_index(\"Vizgen Gene\", inplace=True)\n",
    "wmb_prelim_genes_csv"
   ]
  },
  {
   "cell_type": "markdown",
   "id": "1d2db3db-f5d3-44fe-ae3a-d560d3560cca",
   "metadata": {},
   "source": [
    "## Find list of overlapping genes"
   ]
  },
  {
   "cell_type": "code",
   "execution_count": 8,
   "id": "f8472a77-c4b7-4dfc-8411-3a35cb5f51d4",
   "metadata": {},
   "outputs": [],
   "source": [
    "# figure out which genes are in both the csv & the ad.uns\n",
    "genes_csv = sorted(wmb_prelim_genes_csv.index.tolist())\n",
    "genes_ad = sorted(adata_qc.uns['mean_diff_plot_results_flags'].index.tolist())\n",
    "genes_both = sorted(list(set(genes_csv) & set(genes_ad)))\n",
    "\n",
    "print(f'{len(genes_csv)=}')\n",
    "print(f'{len(genes_ad)=}')\n",
    "print(f'{len(genes_both)=}')\n",
    "\n",
    "if set(genes_ad).issubset(set(genes_csv)):\n",
    "    genes = genes_ad\n",
    "else:\n",
    "    genes = genes_both\n",
    "    \n",
    "# print(genes)"
   ]
  },
  {
   "cell_type": "markdown",
   "id": "b0e5719e-b9d7-4be3-9658-22bf74e65d69",
   "metadata": {},
   "source": [
    "## Subset to just those genes"
   ]
  },
  {
   "cell_type": "code",
   "execution_count": 9,
   "id": "57fbb3bb-36e0-4fd8-93d0-2b57ed2f5337",
   "metadata": {},
   "outputs": [],
   "source": [
    "# subset both to be just the genes we want\n",
    "mean_diff_plot_results_df = adata_qc.uns['mean_diff_plot_results_flags'].loc[genes,:]\n",
    "mean_diff_plot_results_df"
   ]
  },
  {
   "cell_type": "code",
   "execution_count": 10,
   "id": "01532176-3a1a-4d87-b68b-73d7bf871273",
   "metadata": {},
   "outputs": [],
   "source": [
    "# subset both to be just the genes we want\n",
    "blank_qc_df = adata_qc.uns['gene_qc_flags'].loc[genes,:]\n",
    "blank_qc_df"
   ]
  },
  {
   "cell_type": "code",
   "execution_count": 11,
   "id": "d93a515d-3346-48e6-a523-1239279a53a9",
   "metadata": {},
   "outputs": [],
   "source": [
    "wmb_df = wmb_prelim_genes_csv.loc[genes,:]\n",
    "wmb_df"
   ]
  },
  {
   "cell_type": "markdown",
   "id": "b451dc85-937d-459e-a884-2fc87e745f92",
   "metadata": {},
   "source": [
    "# Plot csv data"
   ]
  },
  {
   "cell_type": "code",
   "execution_count": 12,
   "id": "18e1e929-8882-4d7e-898f-a6e791635108",
   "metadata": {},
   "outputs": [],
   "source": [
    "# Plot gene # of probe target regions vs gene abundance\n",
    "fig = plt.figure(figsize=(20,10))\n",
    "ax = plt.gca()\n",
    "sc = ax.scatter(wmb_df['Target Regions'], \n",
    "                wmb_df['Abundance'],\n",
    "                s=18, color='cornflowerblue')\n",
    "ax.set_yscale('log')\n",
    "ax.set_xscale('log')\n",
    "ax.set_ylabel('gene abundance')\n",
    "ax.set_xlabel('# of target regions on gene')\n",
    "\n",
    "\n",
    "for gene in wmb_df.index.tolist():\n",
    "    curr_row = wmb_df[wmb_df.index==gene]\n",
    "    ax.annotate(gene, (curr_row['Target Regions'], curr_row['Abundance']), \n",
    "                fontsize=10, color='k')\n",
    "    \n",
    "plt.show()"
   ]
  },
  {
   "cell_type": "markdown",
   "id": "69263f4c-bdc7-408e-99a5-0c15dbf9da69",
   "metadata": {},
   "source": [
    "# Plot target regions vs QC metrics"
   ]
  },
  {
   "cell_type": "markdown",
   "id": "52cd4208-8870-4bbb-ab62-c6d084efff71",
   "metadata": {},
   "source": [
    "## Blank metrics"
   ]
  },
  {
   "cell_type": "code",
   "execution_count": null,
   "id": "14658099-5b18-416e-a950-f5b01c267088",
   "metadata": {},
   "outputs": [],
   "source": []
  },
  {
   "cell_type": "code",
   "execution_count": 17,
   "id": "4549078a-a473-4905-8814-504e9d0c0748",
   "metadata": {},
   "outputs": [],
   "source": [
    "# Plot gene # of probe target regions vs gene abundance\n",
    "fig = plt.figure(figsize=(20,10))\n",
    "ax = plt.gca()\n",
    "sc = ax.scatter(wmb_df['Abundance'], wmb_df['Target Regions'],\n",
    "                s=18, color='cornflowerblue')\n",
    "ax.set_yscale('log')\n",
    "ax.set_xscale('log')\n",
    "ax.set_xlabel('gene abundance')\n",
    "ax.set_ylabel('# of target regions on gene')\n",
    "\n",
    "\n",
    "for gene in wmb_df.index.tolist():\n",
    "    curr_row_csv = wmb_df[wmb_df.index==gene]\n",
    "    curr_row_ad = blank_qc_df[blank_qc_df.index==gene]\n",
    "    \n",
    "    if curr_row_ad['below_blanks_all_cells_brain3'].bool():\n",
    "            color = 'magenta'\n",
    "            fontsize=16\n",
    "    elif curr_row_ad['below_blanks_all_cells_brain1'].bool():\n",
    "        color = 'lightsteelblue'\n",
    "        fontsize=16\n",
    "    else:\n",
    "        color = 'k'\n",
    "        fontsize=10\n",
    "            \n",
    "    ax.annotate(gene, (curr_row_csv['Abundance'], curr_row_csv['Target Regions']), \n",
    "                fontsize=fontsize, color=color)\n",
    "\n",
    "ax.annotate('Genes flagged for reads below mean blank reads in brain 1', \n",
    "            (0.04, 350), \n",
    "            fontsize=12, color='lightsteelblue')\n",
    "ax.annotate('Genes flagged for reads below mean blank reads in brain 3', \n",
    "            (0.04, 300), \n",
    "            fontsize=12, color='magenta')\n",
    "    \n",
    "plt.show()"
   ]
  },
  {
   "cell_type": "markdown",
   "id": "501e3a0e-df2e-4899-a1a0-a74c22935a41",
   "metadata": {},
   "source": [
    "## Mean-difference plot metrics"
   ]
  },
  {
   "cell_type": "code",
   "execution_count": 14,
   "id": "64ba071c-80b1-4bbd-8a1a-23782047c599",
   "metadata": {},
   "outputs": [],
   "source": [
    "# Plot gene # of probe target regions vs mean diff plot results column\n",
    "data_col = ['b1b3_diff_95pctReads_allCells', \n",
    "            'b1b3_diff_99pctLogReads_allCells',\n",
    "            'b1b3_diff_99pctLogReads_neurons',\n",
    "            'b1b3_diff_99pctLogReads_nn',\n",
    "            'b1b3_diff_99pctLogReads_exc',\n",
    "            'b1b3_diff_99pctLogReads_inh',\n",
    "            'b1b3_diff_95pctReads_diffAsPctOfMean_allCells'\n",
    "           ]\n",
    "flag_col_b3 = ['b3_flagged_95pctReads_allCells', \n",
    "               'b3_flagged_99pctLogReads_allCells',\n",
    "               'b3_flagged_99pctLogReads_neurons',\n",
    "               'b3_flagged_99pctLogReads_nn',\n",
    "               'b3_flagged_99pctLogReads_exc',\n",
    "               'b3_flagged_99pctLogReads_inh',\n",
    "               'b3_flagged_95pctReads_diffAsPctOfMean_allCells'\n",
    "              ]\n",
    "flag_col_b1 = ['b1_flagged_95pctReads_allCells', \n",
    "               'b1_flagged_99pctLogReads_allCells',\n",
    "               'b1_flagged_99pctLogReads_neurons',\n",
    "               'b1_flagged_99pctLogReads_nn',\n",
    "               'b1_flagged_99pctLogReads_exc',\n",
    "               'b1_flagged_99pctLogReads_inh',\n",
    "               'b1_flagged_95pctReads_diffAsPctOfMean_allCells'\n",
    "              ]"
   ]
  },
  {
   "cell_type": "code",
   "execution_count": 24,
   "id": "6d601ccd-aa08-4f2b-87bf-901f2d37d051",
   "metadata": {},
   "outputs": [],
   "source": [
    "for i, col in enumerate(data_col):\n",
    "    fig = plt.figure(figsize=(20,10))\n",
    "    ax = plt.gca()\n",
    "\n",
    "    sc = ax.scatter(mean_diff_plot_results_df[data_col[i]],\n",
    "                    wmb_df['Target Regions'],\n",
    "                    s=18, \n",
    "                    color='cornflowerblue')\n",
    "    # ax.set_yscale('log')\n",
    "    # ax.invert_xaxis()  # invert y-axis to have brain3 flagged genes in lower left\n",
    "    ax.set_yscale('log')\n",
    "    ax.set_xlabel(data_col[i])\n",
    "    ax.set_ylabel('# of target regions on gene')\n",
    "\n",
    "\n",
    "    for gene in genes:\n",
    "        curr_row_csv = wmb_df[wmb_df.index==gene]\n",
    "        curr_row_ad = mean_diff_plot_results_df[mean_diff_plot_results_df.index==gene]\n",
    "\n",
    "        if curr_row_ad[flag_col_b3[i]].bool():\n",
    "            color = 'magenta'\n",
    "            fontsize=16\n",
    "        elif curr_row_ad[flag_col_b1[i]].bool():\n",
    "            color = 'lightsteelblue'\n",
    "            fontsize=16\n",
    "        else:\n",
    "            color = 'k'\n",
    "            fontsize=10\n",
    "        ax.annotate(gene, (curr_row_ad[data_col[i]], curr_row_csv['Target Regions']), \n",
    "                    fontsize=fontsize, color=color)\n",
    "    \n",
    "    ax.annotate('genes flagged in brain1 for low reads (relative to brain3)', \n",
    "                (-1.3, 40), \n",
    "                fontsize=12, color='lightsteelblue')    \n",
    "    ax.annotate('genes flagged in brain3 for low reads (relative to brain1)', \n",
    "                (0.5, 40), \n",
    "                fontsize=12, color='magenta')\n",
    "\n",
    "    plt.show()\n",
    "    \n",
    "    print('brain3 flagged genes:', mean_diff_plot_results_df[mean_diff_plot_results_df[flag_col_b3[i]]].index.tolist())"
   ]
  },
  {
   "cell_type": "code",
   "execution_count": null,
   "id": "044e0cc7-92a5-4a7e-b84c-7bc8d07526c9",
   "metadata": {},
   "outputs": [],
   "source": []
  }
 ],
 "metadata": {
  "kernelspec": {
   "display_name": "base",
   "language": "python",
   "name": "python3"
  },
  "language_info": {
   "codemirror_mode": {
    "name": "ipython",
    "version": 3
   },
   "file_extension": ".py",
   "mimetype": "text/x-python",
   "name": "python",
   "nbconvert_exporter": "python",
   "pygments_lexer": "ipython3",
   "version": "3.9.12 (main, Apr  5 2022, 06:56:58) \n[GCC 7.5.0]"
  },
  "vscode": {
   "interpreter": {
    "hash": "d4d1e4263499bec80672ea0156c357c1ee493ec2b1c70f0acce89fc37c4a6abe"
   }
  }
 },
 "nbformat": 4,
 "nbformat_minor": 5
}
