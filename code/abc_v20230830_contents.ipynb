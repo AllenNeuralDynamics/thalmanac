{
 "cells": [
  {
   "cell_type": "markdown",
   "id": "691e6455-6090-4afd-ba76-9b0514d32c93",
   "metadata": {},
   "source": [
    "# ABC Atlas Content Walkthrough - v20230830"
   ]
  },
  {
   "cell_type": "code",
   "execution_count": 1,
   "id": "156a0cf5-4dad-4579-8508-6cacb5042234",
   "metadata": {
    "tags": []
   },
   "outputs": [],
   "source": [
    "from pathlib import Path\n",
    "# import json\n",
    "\n",
    "import pandas as pd\n",
    "import anndata as ad\n",
    "import numpy as np\n",
    "\n",
    "import matplotlib.pyplot as plt\n",
    "%matplotlib inline"
   ]
  },
  {
   "cell_type": "markdown",
   "id": "2cd63d23-3a83-4b13-b670-b263d387932c",
   "metadata": {},
   "source": [
    "# Load abc atlas data"
   ]
  },
  {
   "cell_type": "code",
   "execution_count": 2,
   "id": "f0f2e157-8ff8-49d2-8431-9b011cfda0db",
   "metadata": {
    "tags": []
   },
   "outputs": [],
   "source": [
    "abc_root = Path(\"/data/abc_atlas/\")\n",
    "brain_id = 'C57BL6J-638850'\n",
    "version = '20230830'"
   ]
  },
  {
   "cell_type": "code",
   "execution_count": 3,
   "id": "2752200b-4179-4031-9055-2f2175118755",
   "metadata": {
    "tags": []
   },
   "outputs": [],
   "source": [
    "# load expression matrix for log2 counts\n",
    "adata_log2 = ad.read_h5ad(abc_root/f\"expression_matrices/MERFISH-{brain_id}/{version}/{brain_id}-log2.h5ad\", backed='r')"
   ]
  },
  {
   "cell_type": "code",
   "execution_count": 4,
   "id": "f53b041c-0da9-49ce-ad86-af9480c26529",
   "metadata": {
    "tags": []
   },
   "outputs": [],
   "source": [
    "# load in the cell metadata\n",
    "gene_md_df = pd.read_csv(abc_root/f'metadata/MERFISH-{brain_id}/{version}/gene.csv', \n",
    "                         dtype={'cell_label':str},\n",
    "                         index_col=0)"
   ]
  },
  {
   "cell_type": "code",
   "execution_count": 5,
   "id": "8f4fc875-beb4-4eba-936a-d8d68f9bdf9a",
   "metadata": {
    "tags": []
   },
   "outputs": [],
   "source": [
    "# load in the cell metadata\n",
    "cell_md_df = pd.read_csv(abc_root/f'metadata/MERFISH-{brain_id}/{version}/cell_metadata.csv', \n",
    "                         dtype={'cell_label':str},\n",
    "                         index_col=0)"
   ]
  },
  {
   "cell_type": "code",
   "execution_count": 6,
   "id": "719e1610-f093-4892-a1ca-0b8945cff3a5",
   "metadata": {
    "tags": []
   },
   "outputs": [],
   "source": [
    "# load in the _cluster_annotation metadata csv\n",
    "cluster_md_df = pd.read_csv(abc_root/f'metadata/MERFISH-{brain_id}/{version}/views/cell_metadata_with_cluster_annotation.csv', \n",
    "                            dtype={'cell_label':str},\n",
    "                            index_col=0)"
   ]
  },
  {
   "cell_type": "code",
   "execution_count": 7,
   "id": "ec86edc5-1830-45e8-930a-0288268f3eeb",
   "metadata": {
    "tags": []
   },
   "outputs": [],
   "source": [
    "# load in the _parcellation_annotation metadata csv\n",
    "ccf_md_df = pd.read_csv(abc_root/f'metadata/MERFISH-{brain_id}-CCF/{version}/views/cell_metadata_with_parcellation_annotation.csv', \n",
    "                        dtype={'cell_label':str},\n",
    "                        index_col=0)\n",
    "\n",
    "# # flip y coords so the sections don't display upside down\n",
    "# flip_y=True\n",
    "# if flip_y:\n",
    "#     ccf_md_df[['y_section', 'y_reconstructed']] *= -1"
   ]
  },
  {
   "cell_type": "markdown",
   "id": "8d11af46-6b59-4c16-ba44-1a4df77164b4",
   "metadata": {},
   "source": [
    "# What's in each metadata file?"
   ]
  },
  {
   "cell_type": "markdown",
   "id": "396266ad-2fcb-4f93-a13a-e42a8f927368",
   "metadata": {},
   "source": [
    "## expression matrices (log2 & raw) h5ad\n",
    "\n",
    "- 4,334,174 cells (~4.3 million)"
   ]
  },
  {
   "cell_type": "code",
   "execution_count": 8,
   "id": "3f294e41-0b7f-4567-8f1e-4e7006301e87",
   "metadata": {
    "tags": []
   },
   "outputs": [],
   "source": [
    "print(f'{adata_log2.n_obs=}')\n",
    "adata_log2"
   ]
  },
  {
   "cell_type": "markdown",
   "id": "bcbb5d72-1c19-4090-8cf8-9a6737ede75e",
   "metadata": {},
   "source": [
    "## gene.csv metadata"
   ]
  },
  {
   "cell_type": "code",
   "execution_count": 9,
   "id": "ae3823d4-7149-431c-964e-ebeb93767006",
   "metadata": {
    "tags": []
   },
   "outputs": [],
   "source": [
    "print(f'{len(gene_md_df)=}')\n",
    "gene_md_df"
   ]
  },
  {
   "cell_type": "markdown",
   "id": "80ecc777-c1d3-4331-99a1-f9f981e43ac2",
   "metadata": {},
   "source": [
    "## cell_metadata.csv\n",
    "\n",
    "Already at this stage, MK has filtered out the cells with average_correlation_score < 0.5, along with cells that didn't meet volume/gene count/etc. QC criteria.\n",
    "\n",
    "So, there is no way to access all cells with their minimally-useful set of metadata (i.e. cell_labels + expression matrix + xyz coords)"
   ]
  },
  {
   "cell_type": "code",
   "execution_count": 10,
   "id": "df7e995b-40f8-4563-b8b6-f9a225a6d3ae",
   "metadata": {
    "tags": []
   },
   "outputs": [],
   "source": [
    "print(f'{len(cell_md_df)=}')\n",
    "cell_md_df.head(5)"
   ]
  },
  {
   "cell_type": "code",
   "execution_count": 11,
   "id": "e1312c24-20f5-4acb-8582-3c9e44fd794d",
   "metadata": {
    "tags": []
   },
   "outputs": [],
   "source": [
    "# counts, bins = np.histogram(cell_md_df['average_correlation_score'].values)\n",
    "fig = plt.figure()\n",
    "ax = plt.gca()\n",
    "ax.hist(cell_md_df['average_correlation_score'].values, bins=100)\n",
    "ax.set_xlabel('average_correlation_score')\n",
    "ax.set_ylabel('# of cells')\n",
    "plt.show()"
   ]
  },
  {
   "cell_type": "markdown",
   "id": "9e371803-3dbb-48c0-8957-84ee44bd8be9",
   "metadata": {},
   "source": [
    "## cell_metadata_with_cluster_annotation.csv"
   ]
  },
  {
   "cell_type": "code",
   "execution_count": 12,
   "id": "6f6eab72-c72b-4b3f-8b89-fd48cdc78bc0",
   "metadata": {
    "tags": []
   },
   "outputs": [],
   "source": [
    "print(f'{len(ccf_md_df)=}')\n",
    "print(cluster_md_df.columns)\n",
    "cluster_md_df.head(3)"
   ]
  },
  {
   "cell_type": "markdown",
   "id": "62238d28-735c-46d5-95ba-0bda2126bb44",
   "metadata": {},
   "source": [
    "## cell_metadata_with_parcellation_annotation.csv"
   ]
  },
  {
   "cell_type": "code",
   "execution_count": 13,
   "id": "91e5966e-4ad1-4d36-9876-55ea3301bca9",
   "metadata": {
    "tags": []
   },
   "outputs": [],
   "source": [
    "print(f'{len(ccf_md_df)=}')\n",
    "print(ccf_md_df.columns)\n",
    "ccf_md_df.head(3)"
   ]
  },
  {
   "cell_type": "markdown",
   "id": "d5cd9fd7-08fd-4503-8589-9d6c6b32bec0",
   "metadata": {},
   "source": [
    "# What are the different xyz coordinates?"
   ]
  },
  {
   "cell_type": "code",
   "execution_count": 14,
   "id": "f4327862-be55-4dc3-ac80-d064793177b7",
   "metadata": {
    "tags": []
   },
   "outputs": [],
   "source": [
    "# get just the sections that contain the TH\n",
    "th_z_sections = [4.8, 5.0, 5.4, 5.6, 5.8, 6.2, 6.4, 6.6, 6.8, 7.0, 7.2, 7.6, 7.8, 8.0, 8.2]\n",
    "\n",
    "# correct overprecision in some z coords\n",
    "ccf_md_df['z_reconstructed'] = ccf_md_df['z_reconstructed'].round(1)\n",
    "ccf_md_df['z_section'] = ccf_md_df['z_section'].round(1)"
   ]
  },
  {
   "cell_type": "markdown",
   "id": "c7943a6a-1dca-4e89-9597-e522676b9c67",
   "metadata": {},
   "source": [
    "## section vs reconstructed vs ccf coords"
   ]
  },
  {
   "cell_type": "code",
   "execution_count": 15,
   "id": "b75d38d5-b8e5-4c45-a1dd-dfe3190c49a3",
   "metadata": {
    "tags": []
   },
   "outputs": [],
   "source": [
    "n_col = 3\n",
    "n_row = int(np.ceil(len(th_z_sections[9:12]) / n_col))\n",
    "fig, axes = plt.subplots(n_row, n_col, figsize=(12,4))\n",
    "axes = axes.ravel()\n",
    "\n",
    "for i, z in enumerate(th_z_sections[9:12]):\n",
    "    ax = axes[i]\n",
    "    curr_sec_df = ccf_md_df[(ccf_md_df['z_reconstructed']==z)]\n",
    "    \n",
    "    ax.scatter(curr_sec_df['z_ccf'], -curr_sec_df['y_ccf'],\n",
    "                s=0.01, c='lightgrey', marker='.', label='ccf coords (z,y)')\n",
    "    ax.scatter(curr_sec_df['x_section'], -curr_sec_df['y_section'],\n",
    "                s=0.01, c='c', marker='.', label='section coords (x,y)')\n",
    "    ax.scatter(curr_sec_df['x_reconstructed'], -curr_sec_df['y_reconstructed'],\n",
    "                s=0.01, c='m', marker='.', label='reconstructed coords (x,y)')\n",
    "    \n",
    "    if i==0:\n",
    "        ax.legend(markerscale=100, loc='center right', bbox_to_anchor=(-0.1,0.5))\n",
    "    \n",
    "    ax.set_title('z='+str(z))\n",
    "    ax.axis('equal')\n",
    "    ax.axis('off')"
   ]
  },
  {
   "cell_type": "markdown",
   "id": "a00bbf2a-81fa-41af-8b9b-9c2221ff6178",
   "metadata": {},
   "source": [
    "## which coords align with the rasterized CCF volumes?"
   ]
  },
  {
   "cell_type": "code",
   "execution_count": 16,
   "id": "d2f13fc1-88d1-4392-a256-ecb99ae6c0b5",
   "metadata": {
    "tags": []
   },
   "outputs": [],
   "source": [
    "import nibabel\n",
    "annotation_im = nibabel.load('/data/abc_atlas/image_volumes/MERFISH-C57BL6J-638850-CCF/20230630/resampled_annotation.nii.gz')\n",
    "annotation_im = np.array(annotation_im.dataobj)\n",
    "\n",
    "annotation_boundary_im = nibabel.load('/data/abc_atlas/image_volumes/MERFISH-C57BL6J-638850-CCF/20230630/resampled_annotation_boundary.nii.gz')\n",
    "annotation_boundary_im = np.array(annotation_boundary_im.dataobj)"
   ]
  },
  {
   "cell_type": "code",
   "execution_count": 17,
   "id": "c2ad8c81-4be1-4e34-b06c-19d5d3c8348b",
   "metadata": {
    "tags": []
   },
   "outputs": [],
   "source": [
    "def plot_section( xx=None, yy=None, cc=None, val=None, pcmap=None, \n",
    "                 overlay=None, extent=None, bcmap=plt.cm.Greys_r, alpha=1.0,\n",
    "                 fig_width = 6, fig_height = 6 ) :\n",
    "    \n",
    "    fig, ax = plt.subplots()\n",
    "    fig.set_size_inches(fig_width, fig_height)\n",
    "\n",
    "    if xx is not None and yy is not None and pcmap is not None :\n",
    "        plt.scatter(xx,yy,s=0.1,c=val,marker='.',cmap=pcmap)\n",
    "    elif xx is not None and yy is not None and cc is not None :\n",
    "        plt.scatter(xx,yy,s=0.1,color=cc,marker='.',zorder=1)   \n",
    "        \n",
    "    if overlay is not None and extent is not None and bcmap is not None :\n",
    "        plt.imshow(overlay, cmap=bcmap, extent=extent,alpha=alpha,zorder=2)\n",
    "        \n",
    "    ax.set_ylim(11,0)\n",
    "    ax.set_xlim(0,11)\n",
    "    ax.axis('equal')\n",
    "    ax.set_xticks([])\n",
    "    ax.set_yticks([])\n",
    "    \n",
    "    return fig, ax"
   ]
  },
  {
   "cell_type": "code",
   "execution_count": 18,
   "id": "a2ea3682-eb40-4342-8f7b-7e8c0c6a478f",
   "metadata": {
    "tags": []
   },
   "outputs": [],
   "source": [
    "brain_section = 'C57BL6J-638850.40'\n",
    "pred = (ccf_md_df['brain_section_label'] == brain_section )\n",
    "section = ccf_md_df[pred]\n",
    "print(f'{len(section)=}')\n",
    "\n",
    "zindex = int(section.iloc[0]['z_reconstructed'] / 0.2)\n",
    "print(f'{zindex=}')\n",
    "\n",
    "resolution = 10e-3\n",
    "extent = (np.array([0, annotation_boundary_im.shape[1], annotation_boundary_im.shape[0], 0]) - 0.5) * resolution\n",
    "\n",
    "boundary_slice = annotation_boundary_im[:,:,zindex].T"
   ]
  },
  {
   "cell_type": "markdown",
   "id": "ba20371a-a021-4eae-a7d5-24c865868ef6",
   "metadata": {},
   "source": [
    "### x/y_reconstructed coords match resampled_annotation image volume"
   ]
  },
  {
   "cell_type": "code",
   "execution_count": 19,
   "id": "af72bb9f-8e69-492c-bde7-0ee355e0e140",
   "metadata": {
    "tags": []
   },
   "outputs": [],
   "source": [
    "fig, ax = plot_section(section['x_reconstructed'], section['y_reconstructed'], \n",
    "                        cc=section['subclass_color'],\n",
    "                        overlay=boundary_slice, extent=extent, \n",
    "                        bcmap=plt.cm.Greys, alpha = 1.0*(boundary_slice>0),\n",
    "                        fig_width = 9, fig_height = 9 )\n",
    "res = ax.set_title(\"Subclass - Reconstructed Coordinates\")"
   ]
  },
  {
   "cell_type": "markdown",
   "id": "27a9c194-b038-40b8-b5f5-5f21a43493b5",
   "metadata": {},
   "source": [
    "### x/y_section coords do NOT match resampled_annotation image volume"
   ]
  },
  {
   "cell_type": "code",
   "execution_count": 20,
   "id": "194a59ac-edbf-4151-b5be-a2fb700ce346",
   "metadata": {
    "tags": []
   },
   "outputs": [],
   "source": [
    "fig, ax = plot_section(section['x_section'], section['y_section'], \n",
    "                        cc=section['subclass_color'],\n",
    "                        overlay=boundary_slice, extent=extent, \n",
    "                        bcmap=plt.cm.Greys, alpha = 1.0*(boundary_slice>0),\n",
    "                        fig_width = 9, fig_height = 9 )\n",
    "res = ax.set_title(\"Subclass - Section Coordinates\")"
   ]
  },
  {
   "cell_type": "code",
   "execution_count": null,
   "id": "7752d99b-5f67-49e3-953c-24c0e06a2bd0",
   "metadata": {},
   "outputs": [],
   "source": []
  }
 ],
 "metadata": {
  "kernelspec": {
   "display_name": "Python 3 (ipykernel)",
   "language": "python",
   "name": "python3"
  },
  "language_info": {
   "codemirror_mode": {
    "name": "ipython",
    "version": 3
   },
   "file_extension": ".py",
   "mimetype": "text/x-python",
   "name": "python",
   "nbconvert_exporter": "python",
   "pygments_lexer": "ipython3",
   "version": "3.9.12"
  }
 },
 "nbformat": 4,
 "nbformat_minor": 5
}
