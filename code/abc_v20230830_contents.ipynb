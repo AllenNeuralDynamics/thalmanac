{
 "cells": [
  {
   "cell_type": "code",
   "execution_count": 1,
   "id": "156a0cf5-4dad-4579-8508-6cacb5042234",
   "metadata": {
    "tags": []
   },
   "outputs": [],
   "source": [
    "from pathlib import Path\n",
    "# import json\n",
    "\n",
    "import pandas as pd\n",
    "import anndata as ad\n",
    "import numpy as np\n",
    "\n",
    "import matplotlib.pyplot as plt\n",
    "%matplotlib inline"
   ]
  },
  {
   "cell_type": "markdown",
   "id": "2cd63d23-3a83-4b13-b670-b263d387932c",
   "metadata": {},
   "source": [
    "# Load abc atlas data"
   ]
  },
  {
   "cell_type": "code",
   "execution_count": 2,
   "id": "f0f2e157-8ff8-49d2-8431-9b011cfda0db",
   "metadata": {},
   "outputs": [],
   "source": [
    "abc_root = Path(\"/data/abc_atlas/\")\n",
    "brain_id = 'C57BL6J-638850'\n",
    "version = '20230830'"
   ]
  },
  {
   "cell_type": "code",
   "execution_count": 3,
   "id": "2752200b-4179-4031-9055-2f2175118755",
   "metadata": {},
   "outputs": [],
   "source": [
    "# load expression matrix for log2 counts\n",
    "adata_log2 = ad.read_h5ad(abc_root/f\"expression_matrices/MERFISH-{brain_id}/{version}/{brain_id}-log2.h5ad\", backed='r')"
   ]
  },
  {
   "cell_type": "code",
   "execution_count": 4,
   "id": "f53b041c-0da9-49ce-ad86-af9480c26529",
   "metadata": {},
   "outputs": [],
   "source": [
    "# load in the cell metadata\n",
    "gene_md_df = pd.read_csv(abc_root/f'metadata/MERFISH-{brain_id}/{version}/gene.csv', \n",
    "                         dtype={'cell_label':str},\n",
    "                         index_col=0)"
   ]
  },
  {
   "cell_type": "code",
   "execution_count": 5,
   "id": "8f4fc875-beb4-4eba-936a-d8d68f9bdf9a",
   "metadata": {},
   "outputs": [],
   "source": [
    "# load in the cell metadata\n",
    "cell_md_df = pd.read_csv(abc_root/f'metadata/MERFISH-{brain_id}/{version}/cell_metadata.csv', \n",
    "                         dtype={'cell_label':str},\n",
    "                         index_col=0)"
   ]
  },
  {
   "cell_type": "code",
   "execution_count": 6,
   "id": "719e1610-f093-4892-a1ca-0b8945cff3a5",
   "metadata": {},
   "outputs": [],
   "source": [
    "# load in the _cluster_annotation metadata csv\n",
    "cluster_md_df = pd.read_csv(abc_root/f'metadata/MERFISH-{brain_id}/{version}/views/cell_metadata_with_cluster_annotation.csv', \n",
    "                            dtype={'cell_label':str},\n",
    "                            index_col=0)"
   ]
  },
  {
   "cell_type": "code",
   "execution_count": 7,
   "id": "ec86edc5-1830-45e8-930a-0288268f3eeb",
   "metadata": {},
   "outputs": [],
   "source": [
    "# load in the _parcellation_annotation metadata csv\n",
    "ccf_md_df = pd.read_csv(abc_root/f'metadata/MERFISH-{brain_id}-CCF/{version}/views/cell_metadata_with_parcellation_annotation.csv', \n",
    "                        dtype={'cell_label':str},\n",
    "                        index_col=0)\n",
    "\n",
    "# # flip y coords so the sections don't display upside down\n",
    "# flip_y=True\n",
    "# if flip_y:\n",
    "#     ccf_md_df[['y_section', 'y_reconstructed']] *= -1"
   ]
  },
  {
   "cell_type": "markdown",
   "id": "8d11af46-6b59-4c16-ba44-1a4df77164b4",
   "metadata": {},
   "source": [
    "# What's in each metadata file?"
   ]
  },
  {
   "cell_type": "markdown",
   "id": "396266ad-2fcb-4f93-a13a-e42a8f927368",
   "metadata": {},
   "source": [
    "## expression matrices (log2 & raw) h5ad\n",
    "\n",
    "- 4,334,174 cells (~4.3 million)"
   ]
  },
  {
   "cell_type": "code",
   "execution_count": 8,
   "id": "3f294e41-0b7f-4567-8f1e-4e7006301e87",
   "metadata": {},
   "outputs": [],
   "source": [
    "print(f'{adata_log2.n_obs=}')\n",
    "adata_log2"
   ]
  },
  {
   "cell_type": "markdown",
   "id": "bcbb5d72-1c19-4090-8cf8-9a6737ede75e",
   "metadata": {},
   "source": [
    "## gene.csv metadata"
   ]
  },
  {
   "cell_type": "code",
   "execution_count": 9,
   "id": "ae3823d4-7149-431c-964e-ebeb93767006",
   "metadata": {},
   "outputs": [],
   "source": [
    "print(f'{len(gene_md_df)=}')\n",
    "gene_md_df"
   ]
  },
  {
   "cell_type": "markdown",
   "id": "80ecc777-c1d3-4331-99a1-f9f981e43ac2",
   "metadata": {},
   "source": [
    "## cell_metadata.csv"
   ]
  },
  {
   "cell_type": "code",
   "execution_count": 14,
   "id": "df7e995b-40f8-4563-b8b6-f9a225a6d3ae",
   "metadata": {},
   "outputs": [],
   "source": [
    "print(f'{len(cell_md_df)=}')\n",
    "cell_md_df.head(5)"
   ]
  },
  {
   "cell_type": "code",
   "execution_count": 19,
   "id": "e1312c24-20f5-4acb-8582-3c9e44fd794d",
   "metadata": {},
   "outputs": [],
   "source": [
    "# counts, bins = np.histogram(cell_md_df['average_correlation_score'].values)\n",
    "fig = plt.figure()\n",
    "ax = plt.gca()\n",
    "ax.hist(cell_md_df['average_correlation_score'].values, bins=100)\n",
    "ax.set_xlabel('average_correlation_score')\n",
    "ax.set_ylabel('# of cells')\n",
    "plt.show()"
   ]
  },
  {
   "cell_type": "code",
   "execution_count": 12,
   "id": "91e5966e-4ad1-4d36-9876-55ea3301bca9",
   "metadata": {},
   "outputs": [],
   "source": [
    "print(f'{len(ccf_md_df)=}')\n",
    "ccf_md_df"
   ]
  }
 ],
 "metadata": {
  "kernelspec": {
   "display_name": "Python 3 (ipykernel)",
   "language": "python",
   "name": "python3"
  },
  "language_info": {
   "codemirror_mode": {
    "name": "ipython",
    "version": 3
   },
   "file_extension": ".py",
   "mimetype": "text/x-python",
   "name": "python",
   "nbconvert_exporter": "python",
   "pygments_lexer": "ipython3",
   "version": "3.9.12"
  }
 },
 "nbformat": 4,
 "nbformat_minor": 5
}
