{
 "cells": [
  {
   "cell_type": "markdown",
   "metadata": {},
   "source": [
    "# Fig. S3 | River Plots for subclass vs thalamic nuclei\n",
    "\n",
    "River Plots, aka Sankey Diagrams"
   ]
  },
  {
   "cell_type": "code",
   "execution_count": 1,
   "metadata": {},
   "outputs": [],
   "source": [
    "import sys\n",
    "sys.path.append('/code/')\n",
    "from thalamus_merfish_analysis import abc_load as abc\n",
    "from thalamus_merfish_analysis import ccf_images as cimg\n",
    "from thalamus_merfish_analysis import ccf_erode as cerd\n",
    "from thalamus_merfish_analysis import diversity_plots as dplots\n",
    "from thalamus_merfish_analysis.distance_metrics import TH_PARCELLATION_STRUCTURES\n",
    "\n",
    "import warnings\n",
    "warnings.simplefilter(action='ignore', category=FutureWarning)"
   ]
  },
  {
   "cell_type": "code",
   "execution_count": 2,
   "metadata": {},
   "outputs": [],
   "source": [
    "results_dir = '../../results'"
   ]
  },
  {
   "cell_type": "markdown",
   "metadata": {},
   "source": [
    "## Load thalamus data"
   ]
  },
  {
   "cell_type": "code",
   "execution_count": 3,
   "metadata": {},
   "outputs": [],
   "source": [
    "# Load the cell metadata only\n",
    "obs_th = abc.load_standard_thalamus(data_structure='obs')"
   ]
  },
  {
   "cell_type": "markdown",
   "metadata": {},
   "source": [
    "### Erode CCF region boundaries & re-label cell parcellations to account for slight misalignments"
   ]
  },
  {
   "cell_type": "code",
   "execution_count": 4,
   "metadata": {},
   "outputs": [],
   "source": [
    "# Load the CCF structures image\n",
    "ccf_images = abc.get_ccf_labels_image()\n",
    "\n",
    "# Merge substructures into structures (esp. AMd + AMv -> AM; LGd-co + LGd-ip + LGd-sh -> LG)\n",
    "ccf_images = cerd.merge_substructures(ccf_images, ccf_level='structure')\n",
    "\n",
    "# We'll use the eroded CCF structures to calculate similarity metrics\n",
    "ccf_metrics_level = \"structure\"\n",
    "obs_erode, ccf_label_eroded = cerd.label_cells_by_eroded_ccf(obs_th, \n",
    "                                                             ccf_images, \n",
    "                                                             ccf_level=ccf_metrics_level, \n",
    "                                                             distance_px=5) # default is erosion by 5px (50um)\n",
    "\n",
    "# There is poor alignment in section 6.6 between PF celltypes and the PF CCF structure\n",
    "# So, we'll set all cells in section 6.6 to 'unassigned' CCF structure\n",
    "obs_erode.loc[lambda df: df['z_section']==6.6, ccf_label_eroded] = 'unassigned'"
   ]
  },
  {
   "cell_type": "markdown",
   "metadata": {},
   "source": [
    "### Load color palettes"
   ]
  },
  {
   "cell_type": "code",
   "execution_count": 5,
   "metadata": {},
   "outputs": [],
   "source": [
    "# load published color palettes for the ABC Atlas taxonomy\n",
    "abc_palettes = {level: abc.get_taxonomy_palette(level) for level in \n",
    "                ['neurotransmitter','class', 'subclass','supertype','cluster']}"
   ]
  },
  {
   "cell_type": "markdown",
   "metadata": {},
   "source": [
    "## Fig. S3A | River plot for all subclasses vs all thalamic nuclei as shown in Fig. S1"
   ]
  },
  {
   "cell_type": "code",
   "execution_count": 6,
   "metadata": {},
   "outputs": [],
   "source": [
    "subclasses_from_fig2 = [\n",
    "    '093 RT-ZI Gnb3 Gaba',\n",
    "    '101 ZI Pax6 Gaba',\n",
    "    '109 LGv-ZI Otx2 Gaba',\n",
    "    '145 MH Tac2 Glut',\n",
    "    '146 LH Pou4f1 Sox1 Glut',\n",
    "    '147 AD Serpinb7 Glut',\n",
    "    '148 AV Col27a1 Glut',\n",
    "    '149 PVT-PT Ntrk1 Glut',\n",
    "    '150 CM-IAD-CL-PCN Sema5b Glut',\n",
    "    '151 TH Prkcd Grin2c Glut',\n",
    "    '152 RE-Xi Nox4 Glut',\n",
    "    '153 MG-POL-SGN Nts Glut',\n",
    "    '154 PF Fzd5 Glut',\n",
    "    '156 MB-ant-ve Dmrta2 Glut',\n",
    "    '168 SPA-SPFm-SPFp-POL-PIL-PoT Sp9 Glut',\n",
    "    '190 ND-INC Foxd2 Glut',\n",
    "    '197 SNr Six3 Gaba', \n",
    "    '203 LGv-SPFp-SPFm Nkx2-2 Tcf7l2 Gaba',\n",
    "]"
   ]
  },
  {
   "cell_type": "code",
   "execution_count": 7,
   "metadata": {},
   "outputs": [],
   "source": [
    "fig_subclasses_all = dplots.sankey_diagram(\n",
    "    obs_erode, \n",
    "    source_col='subclass', \n",
    "    target_col='parcellation_structure_eroded',\n",
    "    source_cats_to_plot=subclasses_from_fig2, \n",
    "    target_cats_to_plot=TH_PARCELLATION_STRUCTURES,\n",
    "    source_color_dict=abc_palettes['subclass'],\n",
    ")\n",
    "\n",
    "# write_html doesn't require a kaleido package install\n",
    "# to save to an Illustrator-editable PDF, open the html in a browser and print to PDF\n",
    "fig_subclasses_all.write_html(\n",
    "    f\"{results_dir}/figS3_river_plot_subclasses_all.html\",\n",
    ")"
   ]
  },
  {
   "cell_type": "markdown",
   "metadata": {},
   "source": [
    "## Fig. S3B | River diagram for subclasses 150 & 151 vs the 25 thalamic nuclei shown in Fig. 2"
   ]
  },
  {
   "cell_type": "code",
   "execution_count": 8,
   "metadata": {},
   "outputs": [],
   "source": [
    "fig_subclasses_150_151 = dplots.sankey_diagram(\n",
    "    obs_erode, \n",
    "    source_col='subclass', \n",
    "    target_col='parcellation_structure_eroded',\n",
    "    source_cats_to_plot=['150 CM-IAD-CL-PCN Sema5b Glut', \n",
    "                         '151 TH Prkcd Grin2c Glut'], \n",
    "    target_cats_to_plot=dplots.TH_DIVERSITY_REGIONS,\n",
    "    source_color_dict=abc_palettes['subclass'],\n",
    ")\n",
    "\n",
    "fig_subclasses_150_151.write_html(\n",
    "    f\"{results_dir}/figS3_river_plot_subclasses_150_151.html\",\n",
    ")"
   ]
  }
 ],
 "metadata": {
  "kernelspec": {
   "display_name": "base",
   "language": "python",
   "name": "python3"
  },
  "language_info": {
   "codemirror_mode": {
    "name": "ipython",
    "version": 3
   },
   "file_extension": ".py",
   "mimetype": "text/x-python",
   "name": "python",
   "nbconvert_exporter": "python",
   "pygments_lexer": "ipython3",
   "version": "3.9.12"
  }
 },
 "nbformat": 4,
 "nbformat_minor": 2
}
