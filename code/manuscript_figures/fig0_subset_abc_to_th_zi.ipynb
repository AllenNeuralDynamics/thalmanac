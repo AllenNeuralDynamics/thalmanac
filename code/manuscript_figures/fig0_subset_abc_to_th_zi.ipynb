{
 "cells": [
  {
   "cell_type": "code",
   "execution_count": 1,
   "metadata": {},
   "outputs": [],
   "source": [
    "%load_ext autoreload\n",
    "%autoreload 2"
   ]
  },
  {
   "cell_type": "code",
   "execution_count": 2,
   "metadata": {},
   "outputs": [],
   "source": [
    "import numpy as np\n",
    "import pandas as pd\n",
    "\n",
    "import sys\n",
    "sys.path.append('/code/')\n",
    "from thalamus_merfish_analysis import abc_load as abc\n",
    "from thalamus_merfish_analysis import ccf_images as cimg\n",
    "\n",
    "import seaborn as sns\n",
    "import scipy.ndimage as ndi\n",
    "\n",
    "import matplotlib.pyplot as plt\n",
    "from matplotlib import colors\n",
    "from matplotlib.lines import Line2D\n",
    "\n",
    "from matplotlib import rcParams\n",
    "rcParams['ps.fonttype'] = 42\n",
    "rcParams['pdf.fonttype'] = 42\n",
    "rcParams['font.size'] = 7\n",
    "\n",
    "%matplotlib inline"
   ]
  },
  {
   "cell_type": "code",
   "execution_count": 3,
   "metadata": {},
   "outputs": [],
   "source": [
    "results_dir = '../../results'"
   ]
  },
  {
   "cell_type": "code",
   "execution_count": 4,
   "metadata": {},
   "outputs": [],
   "source": [
    "cells_df = abc.get_combined_metadata(drop_unused=False)\n",
    "print(f'n_cells in the whole-brain ABC Atlas: {cells_df.shape[0]}')"
   ]
  },
  {
   "cell_type": "code",
   "execution_count": 5,
   "metadata": {},
   "outputs": [],
   "source": [
    "obs_th = abc.load_standard_thalamus(data_structure='obs')"
   ]
  },
  {
   "cell_type": "code",
   "execution_count": 6,
   "metadata": {},
   "outputs": [],
   "source": [
    "obs_th"
   ]
  },
  {
   "cell_type": "code",
   "execution_count": 7,
   "metadata": {},
   "outputs": [],
   "source": [
    "print(len(obs_th[obs_th['class'].isin(['12 HY GABA', '17 MH-LH Glut', '18 TH Glut'])]) / len(obs_th) * 100)"
   ]
  },
  {
   "cell_type": "code",
   "execution_count": 8,
   "metadata": {},
   "outputs": [],
   "source": [
    "print(len(obs_th[obs_th['class']=='19 MB Glut']) / len(obs_th) * 100)\n",
    "print(len(obs_th[obs_th['class']=='20 MB GABA']) / len(obs_th) * 100)"
   ]
  },
  {
   "cell_type": "markdown",
   "metadata": {},
   "source": [
    "### Set up data structures for figure"
   ]
  },
  {
   "cell_type": "code",
   "execution_count": 9,
   "metadata": {},
   "outputs": [],
   "source": [
    "cells_df_th_subset = abc.label_thalamus_spatial_subset(cells_df,\n",
    "                                                       distance_px=20,\n",
    "                                                       cleanup_mask=True,\n",
    "                                                       drop_end_sections=True,\n",
    "                                                       filter_cells=True)"
   ]
  },
  {
   "cell_type": "code",
   "execution_count": 10,
   "metadata": {},
   "outputs": [],
   "source": [
    "# loads the whole-brain CCF resampled_annotation image volumes\n",
    "ccf_img = abc.get_ccf_labels_image(resampled=True)\n",
    "\n",
    "# get all parcellation names that are in either TH or ZI\n",
    "ccf_regions_to_select = ['TH', 'ZI'] # TH = thalamus ; ZI = zona incerta\n",
    "ccf_regions = abc.get_ccf_names(top_nodes=ccf_regions_to_select, \n",
    "                                level='substructure')\n",
    "print(f'{ccf_regions=}')\n",
    "\n",
    "# convert parcellation names to the unique parcellation_index used in the image volume\n",
    "ccf_index = abc.get_ccf_index(level='substructure')\n",
    "reverse_lookup = pd.Series(ccf_index.index.values, index=ccf_index)\n",
    "th_zi_index_values = reverse_lookup.loc[ccf_regions]\n",
    "print(f'{th_zi_index_values[:5]=} \\netc. ...')\n",
    "\n",
    "# generate a binary TH+ZI mask\n",
    "th_zi_mask = np.isin(ccf_img, th_zi_index_values)\n",
    "\n",
    "# subset the ccf image volume using the binary mask\n",
    "th_zi_img = np.where(th_zi_mask, ccf_img, 0)\n",
    "\n",
    "# 20px=200um\n",
    "th_zi_mask_dilated = abc.sectionwise_dilation(th_zi_mask, distance_px=20)"
   ]
  },
  {
   "cell_type": "code",
   "execution_count": 11,
   "metadata": {},
   "outputs": [],
   "source": [
    "from mpl_toolkits.axes_grid1.anchored_artists import AnchoredSizeBar\n",
    "import matplotlib.font_manager as fm\n",
    "\n",
    "zindex = 36 \n",
    "\n",
    "# display the subsetted image volume and TH+ZI binary mask\n",
    "fig, axes = plt.subplots(1, 4, figsize=(8, 2))\n",
    "xy_labels = 'resampled pixels (1px=10um)'\n",
    "axes = axes.ravel()\n",
    "\n",
    "axes[0].imshow(ccf_img[:,:,zindex].T, cmap='gray')\n",
    "axes[0].set_title('CCFv3 substructures\\nwhole-brain', fontsize=9)\n",
    "# axes[0].set_xlabel(xy_labels); axes[0].set_ylabel(xy_labels)\n",
    "\n",
    "axes[1].imshow(th_zi_img[:,:,zindex].T, cmap='gray')\n",
    "axes[1].set_title('CCFv3 substructures\\nTH + ZI', fontsize=9)\n",
    "# axes[1].set_xlabel(xy_labels)\n",
    "\n",
    "axes[2].imshow(th_zi_mask[:,:,zindex].T, cmap='gray')\n",
    "axes[2].set_title('binary mask\\nTH + ZI', fontsize=9)\n",
    "# axes[2].set_xlabel(xy_labels)\n",
    "\n",
    "axes[3].imshow(th_zi_mask_dilated[:,:,zindex].T, cmap='gray')\n",
    "axes[3].set_title('dilated mask\\nTH + ZI', fontsize=9)\n",
    "# axes[3].set_xlabel(xy_labels)\n",
    "\n",
    "for ax in axes:\n",
    "    ax.set_ylim(top=100)\n",
    "    ax.axis('off')\n",
    "    ax.set_xticks([])\n",
    "    ax.set_yticks([])\n",
    "    scalebar = AnchoredSizeBar(ax.transData,\n",
    "                            100, '1 mm', 'lower left', \n",
    "                            pad=0.2,\n",
    "                            sep=3,\n",
    "                            color='white',\n",
    "                            frameon=False,\n",
    "                            size_vertical=10,\n",
    "                            fontproperties=fm.FontProperties(size=7),\n",
    "                            )\n",
    "    ax.add_artist(scalebar)\n",
    "plt.subplots_adjust(wspace=0.05)\n",
    "plt.show()\n",
    "\n",
    "\n",
    "fig.savefig(f'{results_dir}/fig0A_subset_by_ccf.pdf',\n",
    "            transparent=True, bbox_inches='tight', dpi=1200)"
   ]
  },
  {
   "cell_type": "code",
   "execution_count": 12,
   "metadata": {},
   "outputs": [],
   "source": [
    "# clean up the binary mask to remove small, erroneous mask regions\n",
    "th_zi_mask_dilated_clean = cimg.cleanup_mask_regions(th_zi_mask_dilated, \n",
    "                                                     area_ratio_thresh=0.1)"
   ]
  },
  {
   "cell_type": "markdown",
   "metadata": {},
   "source": [
    "### Filtering by cell types"
   ]
  },
  {
   "cell_type": "code",
   "execution_count": 13,
   "metadata": {},
   "outputs": [],
   "source": [
    "# label cells that fall within the TH+ZI mask\n",
    "field_name='TH_ZI_dataset'\n",
    "coords = ['x_reconstructed','y_reconstructed','z_reconstructed']\n",
    "resolutions = np.array([10e-3, 10e-3, 200e-3])\n",
    "cells_df[field_name] = th_zi_mask_dilated_clean[cimg.image_index_from_coords(cells_df[coords], resolutions)]\n",
    "# cells_df = abc_load_base._label_masked_cells(cells_df, th_zi_mask_dilated, coords, resolutions, field_name=field_name)\n",
    "\n",
    "# filter out cells that do not fall within the TH+ZI mask\n",
    "th_zi_cells_df = cells_df[cells_df[field_name]].copy().drop(columns=[field_name])\n",
    "\n",
    "print(f'n_cells after spatial filtering: {th_zi_cells_df.shape[0]}')"
   ]
  },
  {
   "cell_type": "code",
   "execution_count": 14,
   "metadata": {},
   "outputs": [],
   "source": [
    "def plot_th_mask_with_cell_overlay(cell_df, th_mask, section, \n",
    "                                   hue_column='class', trim_to_th=True, \n",
    "                                   show_mask=True, title='', legend=True):\n",
    "\n",
    "    # make a fixed colormap for displaying thalamus mask\n",
    "    if show_mask:\n",
    "        cmap_th_mask = colors.ListedColormap(['black', 'white'])\n",
    "    else:\n",
    "        cmap_th_mask = colors.ListedColormap(['white', 'white'])\n",
    "    bounds=[0,1]\n",
    "    norm = colors.BoundaryNorm(bounds, cmap_th_mask.N)\n",
    "\n",
    "    # Create legend elements to label the cell colors\n",
    "    color_col = hue_column+'_color'\n",
    "    # .unique() returns hue_column & color_col values in a matched order\n",
    "    categories = cell_df[hue_column].unique()\n",
    "    cat_color_mapping = dict(zip(categories, cell_df[color_col].unique()))\n",
    "    # sort both categories & cat_color_mapping so they appear in alpha category order in legend\n",
    "    categories = sorted(categories)\n",
    "    cat_color_mapping = dict(sorted(cat_color_mapping.items()))\n",
    "    # create invisible objects to make legend handles\n",
    "    legend_elements = [Line2D([0], [0], lw=0, marker='o', markersize=10,\n",
    "                              markerfacecolor=cat_color_mapping[cat],\n",
    "                              color=cat_color_mapping[cat], \n",
    "                              label=cat) \n",
    "                       for cat in cat_color_mapping]\n",
    "    \n",
    "    # Set up figure\n",
    "    fig, ax = plt.subplots(1, 1, figsize=(4,4))\n",
    "    \n",
    "    curr_sec_cell_df = cell_df[(cell_df['z_reconstructed']==section)]\n",
    "\n",
    "    ax.imshow(th_mask[:,:,int(np.rint(section/0.2))].T, extent=[0, 11, 11, 0], zorder=0,\n",
    "                cmap=cmap_th_mask, norm=norm)\n",
    "    sc = ax.scatter(curr_sec_cell_df['x_reconstructed'], curr_sec_cell_df['y_reconstructed'],\n",
    "                    color=curr_sec_cell_df['class_color'],\n",
    "                    s=2, \n",
    "                    marker='.',\n",
    "                    edgecolors='none', \n",
    "                    zorder=1)\n",
    "    # ax.set_title('z_section = '+str(section))\n",
    "\n",
    "    ax.set_xlabel('x_reconstructed')\n",
    "    ax.set_ylabel('y_reconstructed')\n",
    "    if trim_to_th:\n",
    "        x_min = 2; x_max = 9; y_min = 7.5; y_max = 3.5\n",
    "        ax.set_xlim((x_min,x_max))\n",
    "        ax.set_ylim((y_min,y_max))\n",
    "    else:\n",
    "        ax.set_xlim((0,11))\n",
    "        ax.set_ylim((11,0))    \n",
    "    ax.axis('off')\n",
    "    ax.set_xticks([])\n",
    "    ax.set_yticks([])\n",
    "    n_cols = 2 if len(categories) > 12 else 1\n",
    "    if legend:\n",
    "        ax.legend(legend_elements, categories, title='class', ncol=n_cols, \n",
    "                    loc='center left', bbox_to_anchor=(1.1,0.5))\n",
    "        \n",
    "    plt.suptitle(title)\n",
    "    plt.show()\n",
    "    \n",
    "    return fig"
   ]
  },
  {
   "cell_type": "code",
   "execution_count": 20,
   "metadata": {},
   "outputs": [],
   "source": [
    "sections_example_2 = [6.4, 7.2]\n",
    "\n",
    "for sec in sections_example_2:\n",
    "   sec_str = str(int(sec*10))\n",
    "   # All cells in ABC Atlas whole-brain dataset w/ TH mask\n",
    "   fig = plot_th_mask_with_cell_overlay(cells_df, \n",
    "                                        th_zi_mask_dilated_clean, \n",
    "                                        sec, \n",
    "                                        trim_to_th=True,\n",
    "                                        legend=False)\n",
    "   fig.savefig(f'{results_dir}/fig0B_all_cells_with_mask_sec{sec_str}.png',\n",
    "               transparent=True, bbox_inches='tight', dpi=1200)\n",
    "\n",
    "   # All cells after filtering by TH mask\n",
    "   fig = plot_th_mask_with_cell_overlay(th_zi_cells_df, \n",
    "                                        th_zi_mask_dilated_clean, \n",
    "                                        sec, \n",
    "                                        trim_to_th=True,\n",
    "                                        legend=False)\n",
    "   fig.savefig(f'{results_dir}/fig0B_mask_filtered_cells_sec{sec_str}.png',\n",
    "               transparent=True, bbox_inches='tight', dpi=1200)\n",
    "\n",
    "   # Neurons after filtering by TH mask + filtering out NN classes\n",
    "   neurons_test_df = abc.filter_by_class(th_zi_cells_df, exclude=abc.NN_CLASSES)\n",
    "   fig = plot_th_mask_with_cell_overlay(neurons_test_df, \n",
    "                                        th_zi_mask_dilated_clean, \n",
    "                                        sec, \n",
    "                                        trim_to_th=True,\n",
    "                                        legend=False)\n",
    "   fig.savefig(f'{results_dir}/fig0B_mask_filtered_neurons_sec{sec_str}.png',\n",
    "               transparent=True, bbox_inches='tight', dpi=1200)\n",
    "\n",
    "   # TH neurons after filtering out NN, non-TH, and non-MB classes\n",
    "   th_mb_test_df = abc.filter_by_class(th_zi_cells_df, exclude=abc.NN_CLASSES,\n",
    "                                       include=abc.TH_ZI_CLASSES+abc.MB_CLASSES)\n",
    "   fig = plot_th_mask_with_cell_overlay(th_mb_test_df, \n",
    "                                        th_zi_mask_dilated_clean, \n",
    "                                        sec, \n",
    "                                        trim_to_th=True,\n",
    "                                        legend=False)\n",
    "   fig.savefig(f'{results_dir}/fig0B_mask_filtered_neurons_th_mb_sec{sec_str}.png',\n",
    "               transparent=True, bbox_inches='tight', dpi=1200)\n",
    "\n",
    "# fig.savefig(f'{results_dir}/fig0B_mask_filtered_neurons_th_mb_classes.pdf',\n",
    "#             #  transparent=True, \n",
    "#              bbox_inches='tight', \n",
    "#              dpi=1200)"
   ]
  },
  {
   "cell_type": "code",
   "execution_count": 41,
   "metadata": {},
   "outputs": [],
   "source": [
    "th_zi_neurons_df = abc.filter_by_class_thalamus(th_zi_cells_df, \n",
    "                                                filter_nonneuronal=True,\n",
    "                                                filter_midbrain=False, \n",
    "                                                filter_other_nonTH=True)\n",
    "\n",
    "plot_th_mask_with_cell_overlay(th_zi_neurons_df, \n",
    "                               th_zi_mask_dilated_clean, \n",
    "                               sections_example_2[0], \n",
    "                               trim_to_th=True, \n",
    "                               show_mask=True,\n",
    "                               legend=False)"
   ]
  },
  {
   "cell_type": "code",
   "execution_count": 45,
   "metadata": {},
   "outputs": [],
   "source": [
    "th_zi_neurons_df"
   ]
  },
  {
   "cell_type": "code",
   "execution_count": 43,
   "metadata": {},
   "outputs": [],
   "source": [
    "th_zi_neurons_df_FINAL = abc.filter_by_thalamus_coords(th_zi_neurons_df, \n",
    "                                                       buffer=0  # 0 pixels (1px=10um)\n",
    "                                                       )\n",
    "plot_th_mask_with_cell_overlay(th_zi_neurons_df_FINAL, \n",
    "                               th_zi_mask_dilated_clean, \n",
    "                               sections_example_2[0], \n",
    "                               trim_to_th=True, \n",
    "                               show_mask=True,\n",
    "                               legend=False)"
   ]
  },
  {
   "cell_type": "code",
   "execution_count": 55,
   "metadata": {},
   "outputs": [],
   "source": [
    "th_zi_neurons_df_FINAL_buffer, mask = abc.filter_by_thalamus_coords(\n",
    "                                                       th_zi_neurons_df.copy(), \n",
    "                                                       buffer=1  # 0 pixels (1px=10um)\n",
    "                                                       )\n",
    "plot_th_mask_with_cell_overlay(th_zi_neurons_df_FINAL_buffer, \n",
    "                               mask, \n",
    "                               sections_example_2[1], \n",
    "                               trim_to_th=True, \n",
    "                               show_mask=True,\n",
    "                               legend=False)\n",
    "th_zi_neurons_df_FINAL_buffer"
   ]
  },
  {
   "cell_type": "code",
   "execution_count": 57,
   "metadata": {},
   "outputs": [],
   "source": [
    "cmap_th_mask = colors.ListedColormap(['black', 'white'])\n",
    "bounds=[0,1]\n",
    "norm = colors.BoundaryNorm(bounds, cmap_th_mask.N)\n",
    "\n",
    "plt.imshow(mask[:,:,int(np.rint(sections_example_2[0]/0.2))].T, \n",
    "           extent=[0, 11, 11, 0], \n",
    "           zorder=0,\n",
    "           cmap=cmap_th_mask, \n",
    "           norm=norm)"
   ]
  },
  {
   "cell_type": "code",
   "execution_count": 58,
   "metadata": {},
   "outputs": [],
   "source": [
    "obs, mask = abc.filter_by_ccf_region(th_zi_neurons_df.copy(), ['TH', 'ZI'], buffer=1)\n",
    "\n",
    "cmap_th_mask = colors.ListedColormap(['black', 'white'])\n",
    "bounds=[0,1]\n",
    "norm = colors.BoundaryNorm(bounds, cmap_th_mask.N)\n",
    "\n",
    "plt.imshow(mask[:,:,int(np.rint(sections_example_2[0]/0.2))].T, \n",
    "           extent=[0, 11, 11, 0], \n",
    "           zorder=0,\n",
    "           cmap=cmap_th_mask, \n",
    "           norm=norm)"
   ]
  },
  {
   "cell_type": "code",
   "execution_count": null,
   "metadata": {},
   "outputs": [],
   "source": [
    "th_zi_neurons_df_FINAL_buffer"
   ]
  },
  {
   "cell_type": "code",
   "execution_count": 35,
   "metadata": {},
   "outputs": [],
   "source": [
    "th_zi_neurons_df_FINAL_buffer = abc.filter_by_thalamus_coords(\n",
    "                                                       th_zi_neurons_df, \n",
    "                                                       buffer=20  # 0 pixels (1px=10um)\n",
    "                                                       )\n",
    "plot_th_mask_with_cell_overlay(th_zi_neurons_df_FINAL_buffer, \n",
    "                               th_zi_mask_dilated_clean, \n",
    "                               sections_example_2[1], \n",
    "                               trim_to_th=True, \n",
    "                               show_mask=True,\n",
    "                               legend=False)"
   ]
  },
  {
   "cell_type": "code",
   "execution_count": null,
   "metadata": {},
   "outputs": [],
   "source": []
  }
 ],
 "metadata": {
  "kernelspec": {
   "display_name": "base",
   "language": "python",
   "name": "python3"
  },
  "language_info": {
   "codemirror_mode": {
    "name": "ipython",
    "version": 3
   },
   "file_extension": ".py",
   "mimetype": "text/x-python",
   "name": "python",
   "nbconvert_exporter": "python",
   "pygments_lexer": "ipython3",
   "version": "3.9.12"
  }
 },
 "nbformat": 4,
 "nbformat_minor": 2
}
