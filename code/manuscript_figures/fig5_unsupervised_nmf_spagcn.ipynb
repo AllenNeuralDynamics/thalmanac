{
 "cells": [
  {
   "cell_type": "markdown",
   "metadata": {},
   "source": [
    "# Figure 5 | Unsupervised spatial clustering reveals both discrete & continuous gene expression patterns in the thalamus."
   ]
  },
  {
   "cell_type": "code",
   "execution_count": 1,
   "metadata": {},
   "outputs": [],
   "source": [
    "import numpy as np\n",
    "import pandas as pd\n",
    "import anndata as ad\n",
    "\n",
    "import sys\n",
    "sys.path.append(\"/code/\")\n",
    "from abc_merfish_analysis import abc_load as abc\n",
    "from abc_merfish_analysis import ccf_images as cimg\n",
    "from abc_merfish_analysis import ccf_plots as cplots\n",
    "from abc_merfish_analysis import ccf_erode as cerd\n",
    "import abc_merfish_analysis.distance_metrics as dm\n",
    "\n",
    "from colorcet import glasbey\n",
    "\n",
    "import matplotlib.pyplot as plt\n",
    "from matplotlib import rcParams\n",
    "rcParams['pdf.fonttype'] = 42\n",
    "rcParams['ps.fonttype'] = 42\n",
    "rcParams['font.size'] = 7\n",
    "get_ipython().run_line_magic('matplotlib', 'inline') "
   ]
  },
  {
   "cell_type": "code",
   "execution_count": 2,
   "metadata": {},
   "outputs": [],
   "source": [
    "# if you reload abc_merfish_analysis.ccf_plots after this celzl has been run, \n",
    "# cplots.CCF_REGIONS_DEFAULT will be reset to None & you'll need to re-run this cell\n",
    "cplots.CCF_REGIONS_DEFAULT = abc.get_thalamus_names()"
   ]
  },
  {
   "cell_type": "code",
   "execution_count": 3,
   "metadata": {},
   "outputs": [],
   "source": [
    "# same set of CCF regions we'll use for both NSF & SpaGCN similarity heatmaps\n",
    "regions_nsf_spagcn = [\n",
    "    \"AD\", \"AV\", \"AM\", \"IAD\", \"LD\", \"VPM\", \"VPL\", \"LGd\",\n",
    "    \"LGv\", # added in b/c it has a unique NSF pattern\n",
    "    \"MD\", \"CL\", \"CM\", \"IMD\", \"PO\", \"LP\", \"VAL\", \"VM\", \n",
    "    \"RE\", \"PF\", \"VPMpc\", \"PCN\", \"SPA\", \"PVT\", \"MH\", \"LH\", \n",
    "    \"RT\", \n",
    "    \"ZI\"  # added in b/c it has unique NSF patterns\n",
    "]"
   ]
  },
  {
   "cell_type": "code",
   "execution_count": 4,
   "metadata": {},
   "outputs": [],
   "source": [
    "# generate ccf_images & boundaries for the left hemisphere only\n",
    "ccf_images_left_hemi = abc.get_ccf_labels_image(resampled=True, realigned=False, subset_to_left_hemi=True)\n",
    "ccf_boundaries_left_hemi = cimg.sectionwise_label_erosion(ccf_images_left_hemi, distance_px=1, fill_val=0, return_edges=True)"
   ]
  },
  {
   "cell_type": "code",
   "execution_count": 5,
   "metadata": {},
   "outputs": [],
   "source": [
    "# set spatial column names to `_reconstructed` coordinate space\n",
    "coords = '_reconstructed'\n",
    "\n",
    "x_col = 'x'+coords\n",
    "y_col = 'y'+coords\n",
    "section_col = z_col = 'z'+coords\n",
    "\n",
    "# level at which to compare labels\n",
    "ccf_level = 'structure'"
   ]
  },
  {
   "cell_type": "markdown",
   "metadata": {},
   "source": [
    "## Fig. 4A-C | SpaGCN Domain Detection"
   ]
  },
  {
   "cell_type": "code",
   "execution_count": 6,
   "metadata": {},
   "outputs": [],
   "source": [
    "# load all cells in the brain\n",
    "obs = abc.get_combined_metadata(realigned=False)"
   ]
  },
  {
   "cell_type": "code",
   "execution_count": 7,
   "metadata": {},
   "outputs": [],
   "source": [
    "# load in SpaGCN domain results\n",
    "# temporarily a static file in '../code/resources' until I get a reproducible run setup for the spagcn capsule\n",
    "spagcn_domains_df = pd.read_parquet('/data/spagcn/spagcn_predicted_domains.parquet')\n",
    "# need to convert to categories since they're imported as int64\n",
    "spagcn_domains_df = spagcn_domains_df.astype('category')\n",
    "\n",
    "# merge in & subset to just cells with SpaGCN domain predictions\n",
    "obs_spagcn = pd.merge(obs, spagcn_domains_df, on='cell_label', how='inner')\n",
    "\n",
    "# filter by thalamus coords to tighten up the image\n",
    "obs_spagcn = abc.filter_by_thalamus_coords(obs_spagcn)\n",
    "\n",
    "# erode the CCF structures\n",
    "obs_spagcn_erode, ccf_label = cerd.label_cells_by_eroded_ccf(obs_spagcn.copy(), ccf_images_left_hemi, ccf_level=ccf_level)"
   ]
  },
  {
   "cell_type": "code",
   "execution_count": 8,
   "metadata": {},
   "outputs": [],
   "source": [
    "# set the resolutions we want to visualize\n",
    "resolution = 1.4\n",
    "res_str = str(resolution)\n",
    "predicted_col = f'res{res_str[0]}pt{res_str[-1]}'"
   ]
  },
  {
   "cell_type": "code",
   "execution_count": 9,
   "metadata": {},
   "outputs": [],
   "source": [
    "# make a color palette dict\n",
    "color_palette = dict(zip(obs_spagcn_erode[predicted_col].cat.categories, glasbey))"
   ]
  },
  {
   "cell_type": "markdown",
   "metadata": {},
   "source": [
    "### Fig. 4A |  SpaGCN domains in 3 example sections"
   ]
  },
  {
   "cell_type": "code",
   "execution_count": 10,
   "metadata": {},
   "outputs": [],
   "source": [
    "# plot CCF overlaid on the SpaGCN domains\n",
    "fig_spagcn_overlay = cplots.plot_ccf_overlay(\n",
    "    obs_spagcn_erode,\n",
    "    ccf_images_left_hemi,\n",
    "    point_hue=predicted_col,\n",
    "    point_palette=color_palette,\n",
    "    min_group_count=0,\n",
    "    sections=abc.TH_EXAMPLE_Z_SECTIONS,\n",
    "    separate_figs=False,\n",
    "    figsize=(9,3),\n",
    "    legend=\"cells\",\n",
    "    bg_cells=None,\n",
    "    section_col=section_col,\n",
    "    x_col=x_col,\n",
    "    y_col=y_col,\n",
    "    point_size=1,\n",
    "    # edge_color=\"black\",\n",
    "    boundary_img=ccf_boundaries_left_hemi,\n",
    "    custom_xy_lims=[2.5, 6, 7, 4],\n",
    ")\n",
    "fig_spagcn_overlay[0].savefig(f'../../results/fig4A_spaGCN_domains_ccf_overlay_3sections_res{res_str}.pdf', \n",
    "            transparent=True, bbox_inches='tight')"
   ]
  },
  {
   "cell_type": "markdown",
   "metadata": {},
   "source": [
    "### Fig. 5B | Highlights of interesting SpaGCN domains"
   ]
  },
  {
   "cell_type": "markdown",
   "metadata": {},
   "source": [
    "#### AD, AV, AM : Domain 25, 17, 16"
   ]
  },
  {
   "cell_type": "code",
   "execution_count": 11,
   "metadata": {},
   "outputs": [],
   "source": [
    "# plot ATN domain examples\n",
    "structures = ['AD', 'AM', 'AV']\n",
    "domain_ids = [25, 17, 16]\n",
    "section = [abc.TH_EXAMPLE_Z_SECTIONS[0]]\n",
    "\n",
    "for i, domain in enumerate(domain_ids):\n",
    "    obs_spagcn_erode_temp = obs_spagcn_erode[obs_spagcn_erode[predicted_col] == domain]\n",
    "    structure = structures[i]\n",
    "\n",
    "    fig_spagcn_overlay = cplots.plot_ccf_overlay(\n",
    "        obs_spagcn_erode_temp,\n",
    "        ccf_images_left_hemi,\n",
    "        point_hue=predicted_col,\n",
    "        point_palette=color_palette,\n",
    "        min_group_count=0,\n",
    "        sections=section,\n",
    "        separate_figs=False,\n",
    "        figsize=(9,3),\n",
    "        legend=\"cells\",\n",
    "        bg_cells=None,\n",
    "        section_col=section_col,\n",
    "        x_col=x_col,\n",
    "        y_col=y_col,\n",
    "        point_size=1,\n",
    "        # edge_color=\"black\",\n",
    "        boundary_img=ccf_boundaries_left_hemi,\n",
    "        custom_xy_lims=[2.5, 6, 7, 4],\n",
    "    )\n",
    "    fig_spagcn_overlay[0].savefig(f'../../results/fig4B_spaGCN_examples_{structure}_domain{domain}.pdf', \n",
    "                transparent=True, bbox_inches='tight')"
   ]
  },
  {
   "cell_type": "markdown",
   "metadata": {},
   "source": [
    "#### PF : Domain 21 & 11"
   ]
  },
  {
   "cell_type": "code",
   "execution_count": 12,
   "metadata": {},
   "outputs": [],
   "source": [
    "# plot PF domain examples\n",
    "structure = 'PF'\n",
    "domain_ids = [21, 11]\n",
    "section = [abc.TH_EXAMPLE_Z_SECTIONS[2]]\n",
    "\n",
    "for domain in domain_ids:\n",
    "    obs_spagcn_erode_temp = obs_spagcn_erode[obs_spagcn_erode[predicted_col] == domain]\n",
    "\n",
    "    fig_spagcn_overlay = cplots.plot_ccf_overlay(\n",
    "        obs_spagcn_erode_temp,\n",
    "        ccf_images_left_hemi,\n",
    "        point_hue=predicted_col,\n",
    "        point_palette=color_palette,\n",
    "        min_group_count=0,\n",
    "        sections=section,\n",
    "        separate_figs=False,\n",
    "        figsize=(9,3),\n",
    "        legend=\"cells\",\n",
    "        bg_cells=None,\n",
    "        section_col=section_col,\n",
    "        x_col=x_col,\n",
    "        y_col=y_col,\n",
    "        point_size=1,\n",
    "        # edge_color=\"black\",\n",
    "        boundary_img=ccf_boundaries_left_hemi,\n",
    "        custom_xy_lims=[2.5, 6, 7, 4],\n",
    "    )\n",
    "    fig_spagcn_overlay[0].savefig(f'../../results/fig4B_spaGCN_examples_{structure}_domain{domain}.pdf', \n",
    "                transparent=True, bbox_inches='tight')"
   ]
  },
  {
   "cell_type": "markdown",
   "metadata": {},
   "source": [
    "#### RT : Domain 0"
   ]
  },
  {
   "cell_type": "code",
   "execution_count": 13,
   "metadata": {},
   "outputs": [],
   "source": [
    "# plot RT domain examples\n",
    "structure = 'RT'\n",
    "domain_ids = [0]\n",
    "section = abc.TH_EXAMPLE_Z_SECTIONS[0:2]\n",
    "\n",
    "for domain in domain_ids:\n",
    "    obs_spagcn_erode_temp = obs_spagcn_erode[obs_spagcn_erode[predicted_col] == domain]\n",
    "\n",
    "    fig_spagcn_overlay = cplots.plot_ccf_overlay(\n",
    "        obs_spagcn_erode_temp,\n",
    "        ccf_images_left_hemi,\n",
    "        point_hue=predicted_col,\n",
    "        point_palette=color_palette,\n",
    "        min_group_count=0,\n",
    "        sections=section,\n",
    "        separate_figs=False,\n",
    "        figsize=(9,3),\n",
    "        legend=\"cells\",\n",
    "        bg_cells=None,\n",
    "        section_col=section_col,\n",
    "        x_col=x_col,\n",
    "        y_col=y_col,\n",
    "        point_size=1,\n",
    "        # edge_color=\"black\",\n",
    "        boundary_img=ccf_boundaries_left_hemi,\n",
    "        custom_xy_lims=[2.5, 6, 7, 4],\n",
    "    )\n",
    "    fig_spagcn_overlay[0].savefig(f'../../results/fig4B_spaGCN_examples_{structure}_domain{domain}.pdf', \n",
    "                transparent=True, bbox_inches='tight')"
   ]
  },
  {
   "cell_type": "markdown",
   "metadata": {},
   "source": [
    "#### PVT : Domains 24 & 5"
   ]
  },
  {
   "cell_type": "code",
   "execution_count": 14,
   "metadata": {},
   "outputs": [],
   "source": [
    "# plot PVT domain examples\n",
    "structure = 'PVT'\n",
    "domain_ids = [24,5]\n",
    "section = abc.TH_EXAMPLE_Z_SECTIONS[0:2]\n",
    "\n",
    "obs_spagcn_erode_temp = obs_spagcn_erode[obs_spagcn_erode[predicted_col].isin(domain_ids)]\n",
    "\n",
    "fig_spagcn_overlay = cplots.plot_ccf_overlay(\n",
    "    obs_spagcn_erode_temp,\n",
    "    ccf_images_left_hemi,\n",
    "    point_hue=predicted_col,\n",
    "    point_palette=color_palette,\n",
    "    min_group_count=0,\n",
    "    sections=section,\n",
    "    separate_figs=False,\n",
    "    figsize=(9,3),\n",
    "    legend=\"cells\",\n",
    "    bg_cells=None,\n",
    "    section_col=section_col,\n",
    "    x_col=x_col,\n",
    "    y_col=y_col,\n",
    "    point_size=1,\n",
    "    # edge_color=\"black\",\n",
    "    boundary_img=ccf_boundaries_left_hemi,\n",
    "    custom_xy_lims=[2.5, 6, 7, 4],\n",
    ")\n",
    "fig_spagcn_overlay[0].savefig(f'../../results/fig4B_spaGCN_examples_{structure}_domain{domain}.pdf', \n",
    "            transparent=True, bbox_inches='tight')"
   ]
  },
  {
   "cell_type": "markdown",
   "metadata": {},
   "source": [
    "#### MDm,l : Domain 1"
   ]
  },
  {
   "cell_type": "code",
   "execution_count": 15,
   "metadata": {},
   "outputs": [],
   "source": [
    "# plot RT domain examples\n",
    "structure = 'MD'\n",
    "domain_ids = [1]\n",
    "section = [abc.TH_EXAMPLE_Z_SECTIONS[1]]\n",
    "\n",
    "for domain in domain_ids:\n",
    "    obs_spagcn_erode_temp = obs_spagcn_erode[obs_spagcn_erode[predicted_col] == domain]\n",
    "\n",
    "    fig_spagcn_overlay = cplots.plot_ccf_overlay(\n",
    "        obs_spagcn_erode_temp,\n",
    "        ccf_images_left_hemi,\n",
    "        point_hue=predicted_col,\n",
    "        point_palette=color_palette,\n",
    "        min_group_count=0,\n",
    "        sections=section,\n",
    "        separate_figs=False,\n",
    "        figsize=(9,3),\n",
    "        legend=\"cells\",\n",
    "        bg_cells=None,\n",
    "        section_col=section_col,\n",
    "        x_col=x_col,\n",
    "        y_col=y_col,\n",
    "        point_size=1,\n",
    "        # edge_color=\"black\",\n",
    "        boundary_img=ccf_boundaries_left_hemi,\n",
    "        custom_xy_lims=[2.5, 6, 7, 4],\n",
    "    )\n",
    "    fig_spagcn_overlay[0].savefig(f'../../results/fig4B_spaGCN_examples_{structure}_domain{domain}.pdf', \n",
    "                transparent=True, bbox_inches='tight')"
   ]
  },
  {
   "cell_type": "markdown",
   "metadata": {},
   "source": [
    "### Fig. 5C | Similarity heatmap of SpaGCN domains vs CCFv3 structures"
   ]
  },
  {
   "cell_type": "code",
   "execution_count": 16,
   "metadata": {},
   "outputs": [],
   "source": [
    "cmap = dm.CMAP_PURPLES_256"
   ]
  },
  {
   "cell_type": "code",
   "execution_count": 17,
   "metadata": {},
   "outputs": [],
   "source": [
    "# ccf region order here is fairly arbitrary \n",
    "dist, y_names, x_names = dm.cluster_distances_from_labels(\n",
    "                            obs_spagcn_erode, \n",
    "                            y_col=ccf_label, \n",
    "                            x_col=predicted_col, \n",
    "                            y_names=regions_nsf_spagcn, \n",
    "                            x_names=sorted(obs_spagcn[predicted_col].unique()),\n",
    "                            )\n",
    "\n",
    "y_order, x_order = dm.order_distances_x_to_y(dist, \n",
    "                                             reorder_y=False,\n",
    "                                             min_similarity_x=0.1)\n",
    "\n",
    "fig_spagcn = dm.plot_ordered_similarity_heatmap(dist, \n",
    "                                         y_order=y_order, \n",
    "                                         x_order=x_order, \n",
    "                                         y_names=y_names, \n",
    "                                         x_names=x_names,\n",
    "                                         cmap=cmap,)\n",
    "\n",
    "fig_spagcn.set_size_inches(3.3,2.8)\n",
    "fig_spagcn.gca().invert_yaxis()\n",
    "plt.xlabel(\"SpaGCN domains\", rotation=180)\n",
    "\n",
    "fig_spagcn.savefig(f'../../results/fig4C_spagcn_ccf_similarity_heatmap_fixed_order.pdf', \n",
    "                    transparent=True, bbox_inches='tight')"
   ]
  },
  {
   "cell_type": "markdown",
   "metadata": {},
   "source": [
    "## Fig. 5D-F | NSF, non-negative spatial factors/patterns"
   ]
  },
  {
   "cell_type": "code",
   "execution_count": 18,
   "metadata": {},
   "outputs": [],
   "source": [
    "# Load NSF anndata object\n",
    "adata = ad.read_zarr(\"/root/capsule/data/nsf_2000_adata/nsf_2000_adata.zarr\")\n",
    "adata.X = adata.X.toarray()\n",
    "adata.X = np.log2(1 + adata.X*1e6/np.sum(adata.X, axis=1, keepdims=True))\n",
    "\n",
    "# filter by thalamus coords to tighten up the image\n",
    "adata = abc.filter_by_thalamus_coords(adata)"
   ]
  },
  {
   "cell_type": "code",
   "execution_count": 19,
   "metadata": {},
   "outputs": [],
   "source": [
    "# NSF patterns are stored in the obs\n",
    "obs_nsf = adata.obs\n",
    "\n",
    "# erode the CCF structures\n",
    "obs_nsf_erode, ccf_label = cerd.label_cells_by_eroded_ccf(obs_nsf.copy(), ccf_images_left_hemi, ccf_level=ccf_level)"
   ]
  },
  {
   "cell_type": "code",
   "execution_count": 20,
   "metadata": {},
   "outputs": [],
   "source": [
    "nsf_cols = [f\"nsf{i}\" for i in range(30)]\n",
    "nsf_labels = range(30)"
   ]
  },
  {
   "cell_type": "markdown",
   "metadata": {},
   "source": [
    "### Fig5C - NSF patterns in 3 example sections"
   ]
  },
  {
   "cell_type": "code",
   "execution_count": 21,
   "metadata": {},
   "outputs": [],
   "source": [
    "# top patterns by # of cells\n",
    "# across all 3 example sections\n",
    "top_patterns_sections3 = obs_nsf.loc[obs_nsf[section_col].isin(abc.TH_EXAMPLE_Z_SECTIONS), nsf_cols].max(axis=0).loc[lambda x: x>0.25].sort_values(ascending=False)\n",
    "\n",
    "# per section (informational only; not used for plotting)\n",
    "top_patterns_sec64 = obs_nsf.loc[obs_nsf[section_col]==abc.TH_EXAMPLE_Z_SECTIONS[0], nsf_cols].max(axis=0).loc[lambda x: x>0.25].sort_values(ascending=False)\n",
    "top_patterns_sec72 = obs_nsf.loc[obs_nsf[section_col]==abc.TH_EXAMPLE_Z_SECTIONS[1], nsf_cols].max(axis=0).loc[lambda x: x>0.25].sort_values(ascending=False)\n",
    "top_patterns_sec80 = obs_nsf.loc[obs_nsf[section_col]==abc.TH_EXAMPLE_Z_SECTIONS[2], nsf_cols].max(axis=0).loc[lambda x: x>0.25].sort_values(ascending=False)"
   ]
  },
  {
   "cell_type": "code",
   "execution_count": 22,
   "metadata": {},
   "outputs": [],
   "source": [
    "# reset to only plot thalamus structures\n",
    "cplots.CCF_REGIONS_DEFAULT = abc.get_thalamus_names()\n",
    "\n",
    "# patterns to plot\n",
    "fig4_nsf_patterns = top_patterns_sections3.index[:10].sort_values()\n",
    "\n",
    "# manually selecting bright/light colors, as overlapping patterns will generate\n",
    "# greyish/brownish colors\n",
    "color_list = glasbey[:6]+glasbey[7:8]+glasbey[10:12]+glasbey[13:14]\n",
    "\n",
    "kwargs = dict(\n",
    "            ccf_images=ccf_images_left_hemi,\n",
    "            boundary_img=ccf_boundaries_left_hemi,\n",
    "            section_col=section_col,\n",
    "            x_col=x_col,   \n",
    "            y_col=y_col,\n",
    "            normalize_by=None,\n",
    "            dark_background=False,\n",
    ")\n",
    "\n",
    "# save as pngs to save space\n",
    "for sec in abc.TH_EXAMPLE_Z_SECTIONS:\n",
    "    fig = cplots.plot_multichannel_overlay(\n",
    "                    obs_nsf,\n",
    "                    fig4_nsf_patterns,\n",
    "                    sec,\n",
    "                    colors=color_list,\n",
    "                    point_size=3,\n",
    "                    legend=False,\n",
    "                    figsize=(3.5,3),\n",
    "                    **kwargs,\n",
    "                    )\n",
    "    fig.savefig(f\"/results/fig4D_nsf_top10_patterns_overlay_sec{int(sec*10)}.png\", \n",
    "                transparent=True, bbox_inches='tight', dpi=1200)\n",
    "    \n",
    "# make one pdf figure to have a vector graphic of the legend\n",
    "fig = cplots.plot_multichannel_overlay(\n",
    "                    obs_nsf,\n",
    "                    fig4_nsf_patterns,\n",
    "                    sec,\n",
    "                    colors=color_list,\n",
    "                    point_size=3,\n",
    "                    legend=True,\n",
    "                    figsize=(3.5,3),\n",
    "                    **kwargs,\n",
    "                    )\n",
    "fig.savefig(f\"/results/fig4D_nsf_top10_patterns_overlay_sec{int(sec*10)}_legend.pdf\", \n",
    "                    transparent=True, bbox_inches='tight')"
   ]
  },
  {
   "cell_type": "markdown",
   "metadata": {},
   "source": [
    "### Fig5E | Highlights of interesting NSF patterns"
   ]
  },
  {
   "cell_type": "code",
   "execution_count": 23,
   "metadata": {},
   "outputs": [],
   "source": [
    "# set formatting parameters for plots\n",
    "kwargs_fig4E = dict(\n",
    "    categorical=False,\n",
    "    point_palette='Greens', \n",
    "    legend=None,\n",
    "    separate_figs=False,\n",
    "    figsize=(0.85, 0.85),\n",
    "    point_size=0.5,\n",
    "    section_col=section_col,\n",
    "    x_col = x_col,\n",
    "    y_col = y_col,\n",
    "    custom_xy_lims=abc.XY_LIMS_TH_LEFT_HEMI,\n",
    "    boundary_img=ccf_boundaries_left_hemi,\n",
    ")"
   ]
  },
  {
   "cell_type": "code",
   "execution_count": 24,
   "metadata": {},
   "outputs": [],
   "source": [
    "highlight_patterns = [0, 1, 9, 11, 14, 16, 17, 23, 27, 28]\n",
    "highlight_patterns_str = [f'nsf{x}' for x in highlight_patterns]"
   ]
  },
  {
   "cell_type": "code",
   "execution_count": 25,
   "metadata": {},
   "outputs": [],
   "source": [
    "for pattern in highlight_patterns_str:\n",
    "    section = [abc.TH_EXAMPLE_Z_SECTIONS[1]]\n",
    "    \n",
    "    fig_nsf = cplots.plot_ccf_overlay(\n",
    "        obs_nsf, \n",
    "        ccf_images_left_hemi, \n",
    "        point_hue=pattern, \n",
    "        sections=section,\n",
    "        **kwargs_fig4E\n",
    "        )\n",
    "    fig_nsf[0].savefig(f'/results/fig4E_nsf_ccf_overlay_sec{int(section[0]*10)}_{pattern}.pdf',\n",
    "                        transparent=True, bbox_inches='tight', dpi=1200)"
   ]
  },
  {
   "cell_type": "markdown",
   "metadata": {},
   "source": [
    "### Fig. 5F | Similarity heatmap of NSF patterns vs CCFv3 structures"
   ]
  },
  {
   "cell_type": "code",
   "execution_count": 26,
   "metadata": {},
   "outputs": [],
   "source": [
    "# order here is following thalamoseq fig 1\n",
    "dist, y_names, x_names = dm.cluster_distances_from_labels(\n",
    "                            obs_nsf_erode, \n",
    "                            y_col=ccf_label, \n",
    "                            x_col=nsf_cols, \n",
    "                            y_names=regions_nsf_spagcn, \n",
    "                            x_names=nsf_labels,\n",
    "                            )\n",
    "\n",
    "y_order, x_order = dm.order_distances_x_to_y(dist, \n",
    "                                          reorder_y=False, \n",
    "                                          min_similarity_x=0.1)\n",
    "\n",
    "# plt.figure(figsize=(6,6))\n",
    "plt.rcParams.update({'font.size': 7})\n",
    "fig_nsf_sim = dm.plot_ordered_similarity_heatmap(\n",
    "    dist,\n",
    "    y_order=y_order, \n",
    "    x_order=x_order, \n",
    "    y_names=y_names, \n",
    "    x_names=x_names,\n",
    "    cmap=cmap,\n",
    ")\n",
    "fig_nsf_sim.set_size_inches(3.0,2.8)\n",
    "fig_nsf_sim.gca().invert_yaxis()\n",
    "plt.xlabel(\"NSF pattern\", rotation=180)\n",
    "plt.savefig(\"/results/nsf_ccf_similarity_heatmap_ccf_order.pdf\", transparent=True)"
   ]
  }
 ],
 "metadata": {
  "kernelspec": {
   "display_name": "base",
   "language": "python",
   "name": "python3"
  },
  "language_info": {
   "codemirror_mode": {
    "name": "ipython",
    "version": 3
   },
   "file_extension": ".py",
   "mimetype": "text/x-python",
   "name": "python",
   "nbconvert_exporter": "python",
   "pygments_lexer": "ipython3",
   "version": "3.9.12"
  }
 },
 "nbformat": 4,
 "nbformat_minor": 2
}
