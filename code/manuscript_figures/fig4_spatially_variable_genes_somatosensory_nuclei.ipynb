{
 "cells": [
  {
   "cell_type": "markdown",
   "metadata": {},
   "source": [
    "# Figure 4 | Spatially variable genes in the somatosensory nuclei"
   ]
  },
  {
   "cell_type": "code",
   "execution_count": 1,
   "metadata": {},
   "outputs": [],
   "source": [
    "import numpy as np\n",
    "import pandas as pd\n",
    "import scanpy as sc\n",
    "\n",
    "import sys\n",
    "sys.path.append('/code/')\n",
    "from thalamus_merfish_analysis import abc_load as abc\n",
    "from thalamus_merfish_analysis import ccf_images as cimg\n",
    "from thalamus_merfish_analysis import ccf_erode as cerode\n",
    "from thalamus_merfish_analysis import ccf_plots as cplots\n",
    "\n",
    "import warnings\n",
    "warnings.simplefilter(action='ignore', category=FutureWarning)\n",
    "warnings.simplefilter(action='ignore', category=UserWarning)\n",
    "\n",
    "from matplotlib import rcParams\n",
    "rcParams['ps.fonttype'] = 42\n",
    "rcParams['pdf.fonttype'] = 42\n",
    "rcParams['font.size'] = 7\n",
    "\n",
    "import colorcet as cc\n",
    "\n",
    "import matplotlib.pyplot as plt\n",
    "get_ipython().run_line_magic('matplotlib', 'inline') "
   ]
  },
  {
   "cell_type": "code",
   "execution_count": 2,
   "metadata": {},
   "outputs": [],
   "source": [
    "results_dir = '../../results'"
   ]
  },
  {
   "cell_type": "markdown",
   "metadata": {},
   "source": [
    "## Load thalamus data"
   ]
  },
  {
   "cell_type": "code",
   "execution_count": 3,
   "metadata": {},
   "outputs": [],
   "source": [
    "# Load the full thalamus anndata object\n",
    "adata_th = abc.load_standard_thalamus(data_structure='adata')\n",
    "\n",
    "# Subset to just the left hemisphere\n",
    "adata_th_left = adata_th[adata_th.obs['left_hemisphere']].copy()"
   ]
  },
  {
   "cell_type": "code",
   "execution_count": 4,
   "metadata": {},
   "outputs": [],
   "source": [
    "# set spatial column names to `_reconstructed` coordinate space\n",
    "coords = '_reconstructed'\n",
    "\n",
    "x_col = 'x'+coords\n",
    "y_col = 'y'+coords\n",
    "section_col = z_col = 'z'+coords"
   ]
  },
  {
   "cell_type": "code",
   "execution_count": 5,
   "metadata": {},
   "outputs": [],
   "source": [
    "# Load the CCF structures image\n",
    "ccf_images = abc.get_ccf_labels_image()\n",
    "\n",
    "# Merge substructures into structures (esp. AMd + AMv -> AM; LGd-co + LGd-ip + LGd-sh -> LG)\n",
    "ccf_images = cerode.merge_substructures(ccf_images, ccf_level='structure')\n",
    "\n",
    "# Precompute boundaries to use multiple times in this notebook w/o need to recompute\n",
    "# we only need to load the boundaries for sections that contain the thalamus\n",
    "sections_all = sorted(adata_th.obs[section_col].unique())\n",
    "sections_int = np.rint(np.array(sections_all)/0.2).astype(int)\n",
    "\n",
    "# precompute boundaries for thalamic sections\n",
    "ccf_boundaries = cimg.sectionwise_label_erosion(ccf_images, distance_px=1, \n",
    "                                                fill_val=0, return_edges=True, \n",
    "                                                section_list=sections_int\n",
    "                                                )"
   ]
  },
  {
   "cell_type": "code",
   "execution_count": 6,
   "metadata": {},
   "outputs": [],
   "source": [
    "# Load the CCF structures image - just the left hemisphere\n",
    "ccf_images_left = abc.get_ccf_labels_image(subset_to_left_hemi=True)\n",
    "\n",
    "# Merge substructures into structures (esp. AMd + AMv -> AM; LGd-co + LGd-ip + LGd-sh -> LG)\n",
    "ccf_images_left = cerode.merge_substructures(ccf_images_left, ccf_level='structure')\n",
    "\n",
    "# Precompute boundaries to use multiple times in this notebook w/o need to recompute\n",
    "# we only need to load the boundaries for sections that contain the thalamus\n",
    "sections_all = sorted(adata_th_left.obs[section_col].unique())\n",
    "sections_int = np.rint(np.array(sections_all)/0.2).astype(int)\n",
    "\n",
    "# precompute boundaries for thalamic sections\n",
    "ccf_boundaries_left = cimg.sectionwise_label_erosion(ccf_images_left, distance_px=1, \n",
    "                                                fill_val=0, return_edges=True, \n",
    "                                                section_list=sections_int\n",
    "                                                )"
   ]
  },
  {
   "cell_type": "code",
   "execution_count": 7,
   "metadata": {},
   "outputs": [],
   "source": [
    "# if you reload thalamus_merfish_analysis.ccf_plots after this cell has been run, \n",
    "# cplots.CCF_REGIONS_DEFAULT will be reset to None & you'll need to re-run this cell\n",
    "cplots.CCF_REGIONS_DEFAULT = abc.get_thalamus_names()"
   ]
  },
  {
   "cell_type": "code",
   "execution_count": 8,
   "metadata": {},
   "outputs": [],
   "source": [
    "# load the published color palettes for the ABC Atlas taxonomy\n",
    "abc_palettes = {level: abc.get_taxonomy_palette(level) for level in \n",
    "                ['neurotransmitter','class', 'subclass','supertype','cluster']}\n",
    "\n",
    "# We have also provided a secondary color palette for the cluster level that \n",
    "# attempts to increase the color contrast between spatially negihboring clusters\n",
    "# TODO: once released as package, this won't be accessible through a hardcode\n",
    "palette_df = pd.read_csv('/code/thalamus_merfish_analysis/resources/cluster_palette_glasbey.csv')\n",
    "abc_palettes['cluster'] = dict(zip(palette_df['Unnamed: 0'], palette_df['0']))"
   ]
  },
  {
   "cell_type": "markdown",
   "metadata": {},
   "source": [
    "## Load data for just the Somatosensory cells"
   ]
  },
  {
   "cell_type": "code",
   "execution_count": 9,
   "metadata": {},
   "outputs": [],
   "source": [
    "# get the cluster annotations for the somatosensory nuclei\n",
    "nuclei_somatosensory = ['PO', 'VPM', 'VPL']\n",
    "obs_annot = abc.get_obs_from_annotations(nuclei_somatosensory, \n",
    "                                         adata_th.obs, \n",
    "                                         taxonomy_level='cluster',\n",
    "                                         include_shared_clusters=True)\n",
    "\n",
    "# use the list of ATN-specific clusters from obs_annot to filter & reset the \n",
    "# cluster col in the full anndata object\n",
    "obs_annot.loc[:,'cluster'] = obs_annot.loc[:,'cluster'].cat.remove_unused_categories()\n",
    "cluster_list_annot = sorted(obs_annot['cluster'].cat.categories)\n",
    "# ATN-subset of the full anndata object\n",
    "adata_annot = adata_th[adata_th.obs['cluster'].isin(cluster_list_annot)].copy()\n",
    "# reset both cluster and supertype categories\n",
    "for level in ['supertype','cluster']:\n",
    "    adata_annot.obs.loc[:,level] = adata_annot.obs.loc[:,level].cat.remove_unused_categories()\n",
    "    \n",
    "# adata_annot.obs.loc[:,'cluster'] = adata_annot.obs.loc[:,'cluster'].cat.reorder_categories(cluster_list_annot, ordered=True)"
   ]
  },
  {
   "cell_type": "code",
   "execution_count": 10,
   "metadata": {},
   "outputs": [],
   "source": [
    "sections_somatosensory = [7.2, 7.0, 6.8, 6.6, 6.4]  # anterior-to-posterior\n",
    "\n",
    "print(f'sections as {z_col}: {sections_somatosensory}')\n",
    "print(f'sections as brain_section_label: {abc.convert_section_list(sections_somatosensory)}')"
   ]
  },
  {
   "cell_type": "markdown",
   "metadata": {},
   "source": [
    "## Figure 4A-B | Transcriptomic cell types in the somatosensory nuclei"
   ]
  },
  {
   "cell_type": "code",
   "execution_count": 11,
   "metadata": {},
   "outputs": [],
   "source": [
    "# set kwargs for annotated cell type plots\n",
    "kwargs_cell_types = dict(\n",
    "    section_col=z_col,\n",
    "    x_col=x_col,\n",
    "    y_col=y_col,\n",
    "    point_size=0.5,\n",
    "    figsize=(4, 2),\n",
    "    face_palette=None,\n",
    "    edge_color='silver'\n",
    "    )"
   ]
  },
  {
   "cell_type": "markdown",
   "metadata": {},
   "source": [
    "### Figure 4A | Primary supertypes in somatosensory nuclei"
   ]
  },
  {
   "cell_type": "code",
   "execution_count": 13,
   "metadata": {},
   "outputs": [],
   "source": [
    "# Plot primary supertypes in the somatosensory nuclei\n",
    "taxonomy_level = 'supertype'\n",
    "\n",
    "obs_annot_left_st = abc.get_obs_from_annotations(\n",
    "    nuclei_somatosensory, \n",
    "    adata_th_left.obs, \n",
    "    taxonomy_level=taxonomy_level,\n",
    "    include_shared_clusters=True\n",
    ")\n",
    "\n",
    "unique_supertypes = obs_annot_left_st['supertype'].unique()\n",
    "\n",
    "for st in unique_supertypes:\n",
    "    curr_obs_annot_left_st = obs_annot_left_st[obs_annot_left_st['supertype']==st]\n",
    "    plt.rcParams.update({'font.size': 7})\n",
    "    figs_annot = cplots.plot_ccf_overlay(curr_obs_annot_left_st, \n",
    "                                        ccf_images_left,\n",
    "                                        boundary_img=ccf_boundaries_left,\n",
    "                                        bg_cells=adata_th_left.obs, \n",
    "                                        ccf_highlight=nuclei_somatosensory,\n",
    "                                        point_hue=taxonomy_level, \n",
    "                                        sections=sections_somatosensory,\n",
    "                                        point_palette=abc_palettes[taxonomy_level],\n",
    "                                        legend='cells',\n",
    "                                        **kwargs_cell_types)\n",
    "    for i, sec in enumerate(sections_somatosensory):\n",
    "        sec_str = str(int(sec*10))\n",
    "        figs_annot[i].savefig(\n",
    "            f'{results_dir}/fig4A_supertype_{st[:4]}_annotations_z{sec_str}_somatosensory.pdf', \n",
    "            transparent=True, bbox_inches='tight'\n",
    "        )\n",
    "        figs_annot[i].savefig(\n",
    "            f'{results_dir}/fig4A_supertype_{st[:4]}_annotations_z{sec_str}_somatosensory.png', \n",
    "            transparent=True, bbox_inches='tight', \n",
    "            dpi=1200\n",
    "        )"
   ]
  },
  {
   "cell_type": "markdown",
   "metadata": {},
   "source": [
    "### Figure 4B | Primary supertypes in somatosensory nuclei"
   ]
  },
  {
   "cell_type": "code",
   "execution_count": 15,
   "metadata": {},
   "outputs": [],
   "source": [
    "# Plot the clusters found in the somatosensory supertype 0654\n",
    "taxonomy_level = 'cluster'\n",
    "obs_annot_clust_left = abc.get_obs_from_annotations(nuclei_somatosensory, \n",
    "                                                    adata_th_left.obs, \n",
    "                                                    taxonomy_level=taxonomy_level,\n",
    "                                                    include_shared_clusters=True)\n",
    "\n",
    "clusters_st0654 = [\n",
    "    '2648 TH Prkcd Grin2c Glut_1', # VPL/PO\n",
    "    '2649 TH Prkcd Grin2c Glut_1', # VPM\n",
    "]\n",
    "obs_annot_clust_left_st0654 = obs_annot_clust_left[obs_annot_clust_left['cluster'].isin(clusters_st0654)]\n",
    "\n",
    "# Plot the clusters for supertype 654\n",
    "figs_annot = cplots.plot_ccf_overlay(obs_annot_clust_left_st0654,\n",
    "                                    ccf_images_left,\n",
    "                                    boundary_img=ccf_boundaries_left,\n",
    "                                    bg_cells=adata_th_left.obs,\n",
    "                                    ccf_highlight=nuclei_somatosensory,\n",
    "                                    point_hue=taxonomy_level, \n",
    "                                    sections=sections_somatosensory,\n",
    "                                    point_palette=abc_palettes[taxonomy_level],\n",
    "                                    legend='cells',\n",
    "                                    **kwargs_cell_types)\n",
    "for i, sec in enumerate(sections_somatosensory):\n",
    "    sec_str = str(int(sec*10))\n",
    "    figs_annot[i].savefig(f'{results_dir}/fig4B_{taxonomy_level}_2648_2649_annotations_z{sec_str}_somatosensory.pdf', \n",
    "                          transparent=True, bbox_inches='tight')\n",
    "    figs_annot[i].savefig(f'{results_dir}/fig4B_{taxonomy_level}_2648_2649_annotations_z{sec_str}_somatosensory.png', \n",
    "                          transparent=True, bbox_inches='tight', dpi=1200)"
   ]
  },
  {
   "cell_type": "markdown",
   "metadata": {},
   "source": [
    "## Figure 4C-D | Gene expression in the somatosensory nuclei"
   ]
  },
  {
   "cell_type": "markdown",
   "metadata": {},
   "source": [
    "### Figure 4C | Spatially variable genes in the somatosensory nuclei"
   ]
  },
  {
   "cell_type": "code",
   "execution_count": 16,
   "metadata": {},
   "outputs": [],
   "source": [
    "kwargs_gene_expr = dict(\n",
    "    boundary_img=ccf_boundaries_left,\n",
    "    section_col=section_col,\n",
    "    x_col=x_col,\n",
    "    y_col=y_col,\n",
    "    cmap='Blues',\n",
    "    cb_vmin_vmax=(0,5),\n",
    "    point_size=0.5,\n",
    "    edge_color='silver',\n",
    "    edgecolors='silver',\n",
    "    linewidths=0.1,\n",
    "    # figsize=(1.8,1.8),\n",
    "    figsize=(4,2),\n",
    "    )"
   ]
  },
  {
   "cell_type": "code",
   "execution_count": 18,
   "metadata": {},
   "outputs": [],
   "source": [
    "gene_st0659_example = 'Tnc'\n",
    "\n",
    "fig = cplots.plot_expression_ccf(\n",
    "    adata_th_left, \n",
    "    gene_st0659_example, \n",
    "    ccf_images_left,\n",
    "    sections=sections_somatosensory,\n",
    "    highlight=nuclei_somatosensory,\n",
    "    **kwargs_gene_expr\n",
    ")\n",
    "for j, sec in enumerate(sections_somatosensory):\n",
    "    sec_str = str(int(sec*10))\n",
    "    fig[j].savefig(f'{results_dir}/fig4C_degs_somatosensory_{taxonomy_level}_{gene_st0659_example}_z{sec_str}.pdf',\n",
    "                transparent=True, bbox_inches='tight', dpi=1200)\n",
    "    fig[j].savefig(f'{results_dir}/fig4C_degs_somatosensory_{taxonomy_level}_{gene_st0659_example}_z{sec_str}.png',\n",
    "                transparent=True, bbox_inches='tight', dpi=1200)"
   ]
  },
  {
   "cell_type": "code",
   "execution_count": 19,
   "metadata": {},
   "outputs": [],
   "source": [
    "gene_cl2649_example = 'Kcnab3'\n",
    "\n",
    "fig = cplots.plot_expression_ccf(\n",
    "    adata_th_left, \n",
    "    gene_cl2649_example, \n",
    "    ccf_images_left,\n",
    "    sections=sections_somatosensory,\n",
    "    highlight=nuclei_somatosensory,\n",
    "    **kwargs_gene_expr\n",
    ")\n",
    "for j, sec in enumerate(sections_somatosensory):\n",
    "    sec_str = str(int(sec*10))\n",
    "    fig[j].savefig(f'{results_dir}/fig4C_degs_somatosensory_{taxonomy_level}_{gene_cl2649_example}_z{sec_str}.pdf',\n",
    "                transparent=True, bbox_inches='tight', dpi=1200)\n",
    "    fig[j].savefig(f'{results_dir}/fig4C_degs_somatosensory_{taxonomy_level}_{gene_cl2649_example}_z{sec_str}.png',\n",
    "                transparent=True, bbox_inches='tight', dpi=1200)"
   ]
  },
  {
   "cell_type": "markdown",
   "metadata": {},
   "source": [
    "### Figure 4D | Differential Gene Expression (DEGs) between transcriptomic types"
   ]
  },
  {
   "cell_type": "markdown",
   "metadata": {},
   "source": [
    "#### DEGs for supertype 0654 vs rest of cells, supertype 0659 vs rest of cells"
   ]
  },
  {
   "cell_type": "code",
   "execution_count": 20,
   "metadata": {},
   "outputs": [],
   "source": [
    "supertypes_annot = adata_annot.obs['supertype'].cat.categories.to_list()\n",
    "display(supertypes_annot)"
   ]
  },
  {
   "cell_type": "code",
   "execution_count": 21,
   "metadata": {},
   "outputs": [],
   "source": [
    "# Exploratory - Find top 5 DEGs for each supertype\n",
    "deg_list_somatosensory_st = []\n",
    "for st in supertypes_annot:\n",
    "  sc.tl.rank_genes_groups(adata_annot, groupby=\"supertype\", groups=[st],\n",
    "                          reference='rest', n_genes=5, method=\"wilcoxon\")\n",
    "  deg_list_somatosensory_st.extend(sc.get.rank_genes_groups_df(adata_annot, group=st).names.to_list())\n",
    "\n",
    "print(deg_list_somatosensory_st)\n",
    "\n",
    "# manually set gene group labels for dotplot\n",
    "var_group_positions_st = [\n",
    "  [0,4], \n",
    "  [5,9], \n",
    "]\n",
    "var_group_labels_st = [\n",
    "  'Somatosensory supertype 654\\nvs rest', \n",
    "  'Posterior PO supertype 659\\nvs rest',\n",
    "]\n",
    "# dotplot\n",
    "dotplot_st_explore = sc.pl.dotplot(adata_annot,\n",
    "                                  deg_list_somatosensory_st,\n",
    "                                #   sorted(list(set(deg_list_ATN))), \n",
    "                                  groupby='supertype', \n",
    "                                  dendrogram=False,\n",
    "                                  cmap='Blues',\n",
    "                                  var_group_positions=var_group_positions_st,\n",
    "                                  var_group_labels=var_group_labels_st,\n",
    "                                  var_group_rotation=0,\n",
    "                                  # return_fig=True\n",
    "                                  )"
   ]
  },
  {
   "cell_type": "code",
   "execution_count": 22,
   "metadata": {},
   "outputs": [],
   "source": [
    "# Final Figure - Manually selected subset of genes\n",
    "deg_list_somatosensory_st_manual = [\n",
    "    'Scn4b', 'Kcnab3', 'Pvalb', # 0654\n",
    "    'Gpr4', 'St6galnac5', 'Calb1', 'Tnc', # 0659\n",
    "]\n",
    "\n",
    "# manually set gene group labels for dotplot\n",
    "var_group_positions_st = [\n",
    "  [0,2], \n",
    "  [3,6], \n",
    "]\n",
    "var_group_labels_st = [\n",
    "  'Somatosensory supertype 654\\nvs rest', \n",
    "  'Posterior PO supertype 659\\nvs rest',\n",
    "]\n",
    "\n",
    "# dotplot\n",
    "dotplot_st_curated = sc.pl.dotplot(adata_annot,\n",
    "                                  deg_list_somatosensory_st_manual,\n",
    "                                  groupby='supertype', \n",
    "                                  dendrogram=False,\n",
    "                                  cmap='Blues',\n",
    "                                  vmin=0,\n",
    "                                  vmax=4,\n",
    "                                  var_group_positions=var_group_positions_st,\n",
    "                                  var_group_labels=var_group_labels_st,\n",
    "                                  var_group_rotation=90,\n",
    "                                  return_fig=True)\n",
    "\n",
    "# save\n",
    "dotplot_st_curated.savefig(f'{results_dir}/figX_degs_somatosensory_{taxonomy_level}_vs_rest_dotplot_curated.pdf', \n",
    "                          transparent=True, bbox_inches='tight')"
   ]
  },
  {
   "cell_type": "markdown",
   "metadata": {},
   "source": [
    "#### DEGs for cluster 2648 vs 2649 (clusters in supertype 0654)"
   ]
  },
  {
   "cell_type": "code",
   "execution_count": 23,
   "metadata": {},
   "outputs": [],
   "source": [
    "clusters_annot = [\n",
    "    '2648 TH Prkcd Grin2c Glut_1',  # VPL/PO\n",
    "    '2649 TH Prkcd Grin2c Glut_1',  # VPM\n",
    "]\n",
    "\n",
    "adata_annot_clust = adata_annot[adata_annot.obs['cluster'].isin(clusters_annot)].copy()"
   ]
  },
  {
   "cell_type": "code",
   "execution_count": 24,
   "metadata": {},
   "outputs": [],
   "source": [
    "# Helper function to get the top DEGs for a given cluster\n",
    "def get_rank_genes_list(adata, \n",
    "                        groupby='cluster', \n",
    "                        group='', \n",
    "                        reference='rest', \n",
    "                        n_genes=5):\n",
    "    # find DEGs\n",
    "    sc.tl.rank_genes_groups(adata, \n",
    "                            groupby=\"cluster\", \n",
    "                            groups=[group],\n",
    "                            reference=reference, \n",
    "                            n_genes=n_genes, \n",
    "                            method=\"wilcoxon\")\n",
    "    # get DEGs\n",
    "    deg_list = sc.get.rank_genes_groups_df(adata, group=group).names.to_list()\n",
    "    \n",
    "    return deg_list\n",
    "\n",
    "def create_var_group_positions(n_genes, deg_list):\n",
    "    total_genes = len(deg_list)\n",
    "    var_group_positions = []\n",
    "    for i in range(0, total_genes, n_genes):\n",
    "        start = i\n",
    "        end = min(i + n_genes - 1, total_genes - 1)\n",
    "        var_group_positions.append([start, end])\n",
    "    return var_group_positions"
   ]
  },
  {
   "cell_type": "code",
   "execution_count": 25,
   "metadata": {},
   "outputs": [],
   "source": [
    "deg_paired_clust_list = []\n",
    "n_genes = 5\n",
    "\n",
    "# 2648 vs 2649\n",
    "deg_paired_clust_list.extend(get_rank_genes_list(\n",
    "  adata_annot_clust, \n",
    "  group='2648 TH Prkcd Grin2c Glut_1', \n",
    "  reference='2649 TH Prkcd Grin2c Glut_1',\n",
    "  n_genes=n_genes)\n",
    ")\n",
    "deg_paired_clust_list.extend(get_rank_genes_list(\n",
    "  adata_annot_clust, \n",
    "  group='2649 TH Prkcd Grin2c Glut_1', \n",
    "  reference='2648 TH Prkcd Grin2c Glut_1',\n",
    "  n_genes=n_genes)\n",
    ")\n",
    "print(deg_paired_clust_list)\n",
    "\n",
    "# set gene group labels for dotplot\n",
    "var_group_positions = create_var_group_positions(n_genes, deg_paired_clust_list)\n",
    "var_group_labels = [\n",
    "    '2648 (VPL/PO)\\n vs \\n2649 (VPM)',\n",
    "    '2649 (VPM)\\n vs \\n2648 (VPL/PO)',\n",
    "]\n",
    "\n",
    "# dotplot\n",
    "dotplot_clusters_paired = sc.pl.dotplot(\n",
    "    adata_annot_clust,\n",
    "    deg_paired_clust_list, \n",
    "    groupby='cluster', \n",
    "    dendrogram=False,\n",
    "    cmap='Blues',\n",
    "    var_group_positions=var_group_positions,\n",
    "    var_group_labels=var_group_labels,\n",
    "    return_fig=True,\n",
    "  var_group_rotation=0,\n",
    ")\n",
    "# save\n",
    "dotplot_clusters_paired.savefig(\n",
    "    f'{results_dir}/fig4D_degs_somatosensory_{taxonomy_level}_2648_vs_2649_dotplot_exploratory.pdf', \n",
    "    transparent=True, bbox_inches='tight'\n",
    ")"
   ]
  },
  {
   "cell_type": "code",
   "execution_count": 26,
   "metadata": {},
   "outputs": [],
   "source": [
    "cluster_degs = [\n",
    "    # 2648 (VPL/PO)\n",
    "    'Gpr4', 'Calb1', 'Spon1', \n",
    "    # 2649 (VPM)  \n",
    "    'Pvalb', 'Kcnab3', 'Scn4b',\n",
    "    # # 2663 (PO/Eth)           \n",
    "    # 'Gpr4', 'Adgrf5', 'Cnih3', #'Calb1', 'St6galnac5',             \n",
    "]                             \n",
    "\n",
    "var_group_positions = create_var_group_positions(n_genes=3, deg_list=cluster_degs)\n",
    "var_group_labels = [\n",
    "    '2648\\n(VPL/PO)',\n",
    "    '2649\\n(VPM)',\n",
    "    # '2663 (PO/Eth)',\n",
    "]\n",
    "\n",
    "dotplot_cluster_curated = sc.pl.dotplot(adata_annot_clust,\n",
    "                            cluster_degs,\n",
    "                            groupby='cluster', \n",
    "                            dendrogram=False,\n",
    "                            cmap='Blues', #cc.cm.blues, cc.cm.CET_CBL3_r\n",
    "                            vmin=0,\n",
    "                            vmax=4,\n",
    "                            var_group_positions=var_group_positions,\n",
    "                            var_group_labels=var_group_labels,\n",
    "                            var_group_rotation=0,\n",
    "                            return_fig=True,\n",
    "                            )\n",
    "\n",
    "dotplot_cluster_curated.savefig(f'{results_dir}/fig4D_degs_somatosensory_{taxonomy_level}_2648_vs_2649_dotplot_curated.pdf',\n",
    "                    transparent=True, bbox_inches='tight')"
   ]
  }
 ],
 "metadata": {
  "kernelspec": {
   "display_name": "base",
   "language": "python",
   "name": "python3"
  },
  "language_info": {
   "codemirror_mode": {
    "name": "ipython",
    "version": 3
   },
   "file_extension": ".py",
   "mimetype": "text/x-python",
   "name": "python",
   "nbconvert_exporter": "python",
   "pygments_lexer": "ipython3",
   "version": "3.9.12"
  }
 },
 "nbformat": 4,
 "nbformat_minor": 2
}
