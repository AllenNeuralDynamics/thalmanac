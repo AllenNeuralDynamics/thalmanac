{
 "cells": [
  {
   "cell_type": "markdown",
   "metadata": {},
   "source": [
    "# Table 1. Thalamus + Zona Incerta subset of the CCN20230722 whole mouse brain taxonomy."
   ]
  },
  {
   "cell_type": "code",
   "execution_count": 29,
   "metadata": {},
   "outputs": [],
   "source": [
    "import pandas as pd\n",
    "\n",
    "from IPython.display import display, HTML\n",
    "\n",
    "import sys\n",
    "sys.path.append('/code/')\n",
    "from thalamus_merfish_analysis import abc_load as abc\n",
    "\n",
    "from matplotlib import rcParams\n",
    "rcParams['ps.fonttype'] = 42\n",
    "rcParams['pdf.fonttype'] = 42\n",
    "rcParams['font.size'] = 7\n",
    "\n",
    "import matplotlib.pyplot as plt\n",
    "import seaborn as sns\n",
    "\n",
    "get_ipython().run_line_magic('matplotlib', 'inline') "
   ]
  },
  {
   "cell_type": "markdown",
   "metadata": {},
   "source": [
    "## Load .obs data"
   ]
  },
  {
   "cell_type": "code",
   "execution_count": 2,
   "metadata": {},
   "outputs": [],
   "source": [
    "# define path for saving outputs\n",
    "results_dir = '../../results'"
   ]
  },
  {
   "cell_type": "code",
   "execution_count": 3,
   "metadata": {},
   "outputs": [],
   "source": [
    "# load in the full dataset with the taxonomy color metadata\n",
    "obs_wmb = abc.get_combined_metadata(drop_unused=False)\n",
    "\n",
    "# load the thalamus subset\n",
    "obs_th = abc.load_standard_thalamus(data_structure='obs')\n",
    "\n",
    "# join the color metadata to the thalamus subset\n",
    "color_cols = ['neurotransmitter_color', \n",
    "              'class_color', \n",
    "              'subclass_color', \n",
    "              'supertype_color', \n",
    "              'cluster_color']\n",
    "obs_th_color = obs_th.join(obs_wmb[color_cols])"
   ]
  },
  {
   "cell_type": "markdown",
   "metadata": {},
   "source": [
    "## Convert .obs dataframe to taxonomy table"
   ]
  },
  {
   "cell_type": "code",
   "execution_count": 4,
   "metadata": {},
   "outputs": [],
   "source": [
    "# subset df to just taxonomy (+color) columns\n",
    "taxonomy_levels = ['neurotransmitter','class', 'subclass', 'supertype', 'cluster']\n",
    "obs_tax = obs_th_color.drop_duplicates(subset='cluster')[taxonomy_levels+color_cols]\n",
    "\n",
    "# count the number of cells per unique cluster & add as column to the taxonomy df\n",
    "cells_per_cluster_counts = obs_th_color.groupby('cluster',observed=True).size().reset_index(name='num_cells_in_cluster')\n",
    "obs_tax = obs_tax.merge(cells_per_cluster_counts, on='cluster')\n",
    "\n",
    "# clean up the taxonomy columns for sorting\n",
    "for col in taxonomy_levels:\n",
    "    # only keep categories that are present in the TH+ZI dataset\n",
    "    obs_tax.loc[:,col] = obs_tax.loc[:,col].cat.remove_unused_categories()\n",
    "    # remove leading/trailing whitespace\n",
    "    obs_tax.loc[:,col] = obs_tax.loc[:,col].str.strip()\n",
    "    # extract the ID # b/c lexically sorting the str object doesn't yield correct order\n",
    "    obs_tax.loc[:,col+'_id'] = obs_tax.loc[:,col].str.extract('(\\d+)', expand=False).astype(float)\n",
    "\n",
    "# sort by ID #s\n",
    "num_cols = [x+'_id' for x in taxonomy_levels]\n",
    "taxonomy_df = obs_tax.sort_values(by=num_cols, ascending=True, ignore_index=True)\n",
    "# clean up the ID columns\n",
    "taxonomy_df = taxonomy_df.drop(columns=num_cols)\n",
    "\n",
    "display(taxonomy_df.head(5))"
   ]
  },
  {
   "cell_type": "code",
   "execution_count": 5,
   "metadata": {},
   "outputs": [],
   "source": [
    "tax_result = taxonomy_df.groupby('subclass')['supertype'].nunique().reset_index()\n",
    "tax_result.columns = ['subclass', 'unique_supertype_count']\n",
    "tax_result"
   ]
  },
  {
   "cell_type": "code",
   "execution_count": 6,
   "metadata": {},
   "outputs": [],
   "source": [
    "# Save out as csv file\n",
    "taxonomy_df.to_csv(f'{results_dir}/thalamus_zi_taxonomy_CCN20230722.csv', index=False)"
   ]
  },
  {
   "cell_type": "markdown",
   "metadata": {},
   "source": [
    "## Format taxonomy df as HTML table with colored markers"
   ]
  },
  {
   "cell_type": "code",
   "execution_count": 7,
   "metadata": {},
   "outputs": [],
   "source": [
    "def create_abc_atlas_html_table(df):\n",
    "    ''' Create an HTML table with the same custom formatting & dynamic color\n",
    "    markers as the ABC Atlas taxonomy resource html page.\n",
    "    \n",
    "    See: https://alleninstitute.github.io/abc_atlas_access/_static/WMB-taxonomy/20230830/cluster.html#CS20230722_CLUS_0001\n",
    "    '''\n",
    "    # define the CSS style used by the ABC Atlas resource page\n",
    "    # includes alternating gray and white with on-hover color\n",
    "    styles = \"\"\"\n",
    "    <style>\n",
    "    .mystyle {\n",
    "        font-size: 11pt; \n",
    "        font-family: Arial;\n",
    "        border-collapse: collapse; \n",
    "        border: 1px solid silver;\n",
    "    }\n",
    "    .mystyle td {\n",
    "        padding: 5px;\n",
    "    }\n",
    "    .mystyle th {\n",
    "        text-align: left;\n",
    "        padding: 5px;\n",
    "    }\n",
    "    .mystyle tr:nth-child(even) {\n",
    "        background: #E0E0E0;\n",
    "    }\n",
    "    .circle {\n",
    "        background-color: blue;\n",
    "        height: 20px;\n",
    "        width: 20px;\n",
    "        border-radius: 50%;\n",
    "        display: inline-block;\n",
    "    }\n",
    "    .celltext {\n",
    "        padding-left: 5px;\n",
    "        display: inline-block;\n",
    "    }\n",
    "    </style>\n",
    "    \"\"\"\n",
    "    \n",
    "    def format_cell(value, color):\n",
    "        ''' Set the circle color and text value for each cell using the defined \n",
    "        ABC Atlas taxonomy style.\n",
    "        '''\n",
    "        return f'<span class=\"circle\" style=\"background-color: {color};\"></span><span class=\"celltext\">{value}</span>'\n",
    "\n",
    "    # apply custom HTML formatting to each cell in the df\n",
    "    formatted_df = pd.DataFrame()\n",
    "    for col in df.columns:\n",
    "        if not col.endswith('_color'):\n",
    "            color_col = f'{col}_color'\n",
    "            # add colored circle to each column that has a corresponding color column\n",
    "            if color_col in df.columns:\n",
    "                formatted_df[col] = df.apply(lambda x: format_cell(x[col], x[color_col]), axis=1)\n",
    "            # otherwise, just the cell value as text\n",
    "            else:\n",
    "                formatted_df[col] = df[col]\n",
    "\n",
    "    # convert df to html table via pandas\n",
    "    html_table = formatted_df.to_html(escape=False, classes='mystyle')\n",
    "\n",
    "    # append style to top of HTML table so it's stored with the html file\n",
    "    # (alternatively, could be saved to a separate .css file and linked to the html file)\n",
    "    full_html = styles + html_table\n",
    "    return full_html"
   ]
  },
  {
   "cell_type": "code",
   "execution_count": 8,
   "metadata": {},
   "outputs": [],
   "source": [
    "# convert taxonomy df to a HTML table formatted the same as the ABC Atlas resource\n",
    "html_table = create_abc_atlas_html_table(taxonomy_df)\n",
    "\n",
    "# save as html file to results\n",
    "with open(f'{results_dir}/thalamus_zi_taxonomy_CCN20230722_table.html', 'w') as f:\n",
    "    f.write(html_table)"
   ]
  },
  {
   "cell_type": "markdown",
   "metadata": {},
   "source": [
    "## Display full taxonomy table in HTML format"
   ]
  },
  {
   "cell_type": "code",
   "execution_count": 9,
   "metadata": {},
   "outputs": [],
   "source": [
    "# show the HTML table inline\n",
    "display(HTML(html_table))"
   ]
  },
  {
   "cell_type": "markdown",
   "metadata": {},
   "source": []
  },
  {
   "cell_type": "code",
   "execution_count": 10,
   "metadata": {},
   "outputs": [],
   "source": [
    "taxonomy_df_fig1 = taxonomy_df[taxonomy_df['num_cells_in_cluster']>=50].copy()\n",
    "\n",
    "for col in taxonomy_levels:\n",
    "    # only keep categories that are present in this subset of the data\n",
    "    taxonomy_df_fig1.loc[:,col] = taxonomy_df_fig1.loc[:,col].cat.remove_unused_categories()\n",
    "    \n",
    "taxonomy_df_fig1"
   ]
  },
  {
   "cell_type": "code",
   "execution_count": 11,
   "metadata": {},
   "outputs": [],
   "source": [
    "display(list(taxonomy_df_fig1['subclass'].unique()))\n",
    "taxonomy_df_fig1['subclass'].unique()"
   ]
  },
  {
   "cell_type": "code",
   "execution_count": 12,
   "metadata": {},
   "outputs": [],
   "source": [
    "result = taxonomy_df_fig1.groupby('subclass')['supertype'].nunique().reset_index()\n",
    "result.columns = ['subclass', 'unique_supertype_count']\n",
    "result"
   ]
  },
  {
   "cell_type": "code",
   "execution_count": 13,
   "metadata": {},
   "outputs": [],
   "source": [
    "fig1_subclasses = list(taxonomy_df_fig1['subclass'].unique())\n",
    "fig1_subclasses"
   ]
  },
  {
   "cell_type": "code",
   "execution_count": 14,
   "metadata": {},
   "outputs": [],
   "source": [
    "taxonomy_df_fig1_subclasses = taxonomy_df[taxonomy_df['subclass'].isin(fig1_subclasses)].copy()\n",
    "\n",
    "for col in taxonomy_levels:\n",
    "    # only keep categories that are present in this subset of the data\n",
    "    taxonomy_df_fig1_subclasses.loc[:,col] = taxonomy_df_fig1_subclasses.loc[:,col].cat.remove_unused_categories()"
   ]
  },
  {
   "cell_type": "code",
   "execution_count": 34,
   "metadata": {},
   "outputs": [],
   "source": [
    "taxonomy_df_fig1_subclasses.head(20)"
   ]
  },
  {
   "cell_type": "code",
   "execution_count": 36,
   "metadata": {},
   "outputs": [],
   "source": [
    "dict(zip(taxonomy_df_fig1_subclasses['supertype'], taxonomy_df_fig1_subclasses['supertype_color']))"
   ]
  },
  {
   "cell_type": "code",
   "execution_count": 16,
   "metadata": {},
   "outputs": [],
   "source": [
    "list(taxonomy_df_fig1_subclasses['supertype'].unique())"
   ]
  },
  {
   "cell_type": "code",
   "execution_count": 17,
   "metadata": {},
   "outputs": [],
   "source": [
    "unique_cluster_df = taxonomy_df_fig1_subclasses.groupby('supertype')['cluster'].nunique().reset_index()\n",
    "unique_cluster_df.columns = ['supertype', 'unique_cluster_count']\n",
    "unique_cluster_df"
   ]
  },
  {
   "cell_type": "code",
   "execution_count": 18,
   "metadata": {},
   "outputs": [],
   "source": [
    "supertype_order = list(taxonomy_df_fig1_subclasses['supertype'].unique())\n",
    "unique_cluster_df['supertype'] = pd.Categorical(unique_cluster_df['supertype'], \n",
    "                                                categories=supertype_order, \n",
    "                                                ordered=True)\n",
    "unique_cluster_df = unique_cluster_df.sort_values('supertype').reset_index(drop=True)\n",
    "unique_cluster_df"
   ]
  },
  {
   "cell_type": "code",
   "execution_count": 31,
   "metadata": {},
   "outputs": [],
   "source": [
    "# sns.barplot(x='supertype', y='unique_cluster_count', data=unique_cluster_df, order=supertype_order)\n",
    "fig, ax = plt.subplots(figsize=(6.3, 1))\n",
    "plt.bar(unique_cluster_df['supertype'], \n",
    "        unique_cluster_df['unique_cluster_count'], \n",
    "        color='darkgrey')\n",
    "# plt.xlabel('col1')\n",
    "# plt.ylabel('Unique col2 Count')\n",
    "# plt.title('Unique col2 Count per col1 Category')\n",
    "plt.xticks(rotation=90)  # Rotate x-axis labels by 90 degrees\n",
    "ax.invert_yaxis()\n",
    "\n",
    "fig.savefig(f'{results_dir}/fig1A_cluster_count_hist.pdf',\n",
    "            transparent=True, bbox_inches='tight')"
   ]
  },
  {
   "cell_type": "code",
   "execution_count": null,
   "metadata": {},
   "outputs": [],
   "source": []
  }
 ],
 "metadata": {
  "kernelspec": {
   "display_name": "base",
   "language": "python",
   "name": "python3"
  },
  "language_info": {
   "codemirror_mode": {
    "name": "ipython",
    "version": 3
   },
   "file_extension": ".py",
   "mimetype": "text/x-python",
   "name": "python",
   "nbconvert_exporter": "python",
   "pygments_lexer": "ipython3",
   "version": "3.9.12"
  }
 },
 "nbformat": 4,
 "nbformat_minor": 2
}
