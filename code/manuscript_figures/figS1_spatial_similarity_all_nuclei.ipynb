{
 "cells": [
  {
   "cell_type": "markdown",
   "metadata": {},
   "source": [
    "# Figure S1 | Similarity between CCFv3 structures & t-types - ALL NUCLEI"
   ]
  },
  {
   "cell_type": "code",
   "execution_count": 1,
   "metadata": {},
   "outputs": [],
   "source": [
    "import numpy as np\n",
    "import pandas as pd\n",
    "import seaborn as sns\n",
    "\n",
    "import sys\n",
    "sys.path.append(\"/code/\")\n",
    "from thalamus_merfish_analysis import abc_load as abc\n",
    "from thalamus_merfish_analysis import ccf_images as cimg\n",
    "from thalamus_merfish_analysis import ccf_plots as cplots\n",
    "from thalamus_merfish_analysis import ccf_erode as cerd\n",
    "from thalamus_merfish_analysis import diversity_metrics as divmet\n",
    "from thalamus_merfish_analysis import diversity_plots as dplot\n",
    "from thalamus_merfish_analysis import distance_metrics as dm\n",
    "\n",
    "\n",
    "from matplotlib import rcParams\n",
    "rcParams['ps.fonttype'] = 42\n",
    "rcParams['pdf.fonttype'] = 42\n",
    "rcParams['font.size'] = 7\n",
    "\n",
    "import matplotlib.pyplot as plt\n",
    "get_ipython().run_line_magic('matplotlib', 'inline') "
   ]
  },
  {
   "cell_type": "markdown",
   "metadata": {},
   "source": [
    "## Load thalamus data"
   ]
  },
  {
   "cell_type": "code",
   "execution_count": 2,
   "metadata": {},
   "outputs": [],
   "source": [
    "obs_wmb = abc.get_combined_metadata()\n",
    "obs_th = abc.load_standard_thalamus(data_structure='obs')"
   ]
  },
  {
   "cell_type": "code",
   "execution_count": 3,
   "metadata": {},
   "outputs": [],
   "source": [
    "# set spatial column names to `_reconstructed` coordinate space\n",
    "coords = '_reconstructed'\n",
    "\n",
    "x_col = 'x'+coords\n",
    "y_col = 'y'+coords\n",
    "z_col = 'z'+coords\n",
    "section_col = 'brain_section_label'"
   ]
  },
  {
   "cell_type": "code",
   "execution_count": 4,
   "metadata": {},
   "outputs": [],
   "source": [
    "# Load the CCF structures image\n",
    "ccf_images = abc.get_ccf_labels_image()\n",
    "\n",
    "# Merge substructures into structures (esp. AMd + AMv -> AM; LGd-co + LGd-ip + LGd-sh -> LG)\n",
    "ccf_images = cerd.merge_substructures(ccf_images, ccf_level='structure')\n",
    "\n",
    "# we only need to load the boundaries for sections that contain the thalamus\n",
    "sections_all = sorted(obs_th[z_col].unique())\n",
    "sections_int = np.rint(np.array(sections_all)/0.2).astype(int)\n",
    "\n",
    "# precompute boundaries for thalamic sections\n",
    "ccf_boundaries = cimg.sectionwise_label_erosion(ccf_images, distance_px=1, \n",
    "                                                fill_val=0, return_edges=True, \n",
    "                                                section_list=sections_int\n",
    "                                                )"
   ]
  },
  {
   "cell_type": "code",
   "execution_count": 5,
   "metadata": {},
   "outputs": [],
   "source": [
    "# We can load & use the published color palettes for the ABC Atlas taxonomy\n",
    "abc_palettes = {level: abc.get_taxonomy_palette(level) for level in \n",
    "                ['neurotransmitter','class', 'subclass','supertype','cluster']}\n",
    "\n",
    "# We have also provided a secondary color palette for the cluster level that \n",
    "# attempts to increase the color contrast between spatially negihboring clusters\n",
    "abc_palettes['cluster'] = abc.get_thalamus_cluster_palette() \n",
    "\n",
    "ccf_palette = abc.get_ccf_palette('substructure')\n",
    "# ccf_palette['ZI'] = ccf_palette.pop('ZI-unassigned') # need to fix a key error"
   ]
  },
  {
   "cell_type": "code",
   "execution_count": 6,
   "metadata": {},
   "outputs": [],
   "source": [
    "# We'll use the eroded CCF structures to calculate similarity metrics\n",
    "ccf_metrics_level = \"structure\"\n",
    "obs_erode, ccf_label_eroded = cerd.label_cells_by_eroded_ccf(obs_th, ccf_images, ccf_level=ccf_metrics_level, distance_px=5) # default is erosion by 5px (50um)\n",
    "ccf_label = ccf_label_eroded\n",
    "# There is poor alignment in section 6.6 between PF celltypes and the PF CCF structure\n",
    "# So, we'll set all cells in section 6.6 to 'unassigned' CCF structure\n",
    "obs_erode.loc[lambda df: df['z_section']==6.6, ccf_label_eroded] = 'unassigned'"
   ]
  },
  {
   "cell_type": "code",
   "execution_count": 7,
   "metadata": {},
   "outputs": [],
   "source": [
    "# if you reload thalamus_merfish_analysis.ccf_plots after this cell has been run, \n",
    "# cplots.CCF_REGIONS_DEFAULT will be reset to None & you'll need to re-run this cell\n",
    "cplots.CCF_REGIONS_DEFAULT = abc.get_thalamus_names()"
   ]
  },
  {
   "cell_type": "code",
   "execution_count": 8,
   "metadata": {},
   "outputs": [],
   "source": [
    "results_dir = '../../results'"
   ]
  },
  {
   "cell_type": "markdown",
   "metadata": {},
   "source": [
    "## Set plotting parameters"
   ]
  },
  {
   "cell_type": "code",
   "execution_count": 9,
   "metadata": {},
   "outputs": [],
   "source": [
    "regions_to_plot = dm.TH_PARCELLATION_STRUCTURES"
   ]
  },
  {
   "cell_type": "code",
   "execution_count": 10,
   "metadata": {},
   "outputs": [],
   "source": [
    "# set color map\n",
    "cmap = dm.CMAP_PURPLES_256\n",
    "\n",
    "# uncomment to show that colormap is perceptually uniform\n",
    "# dm.plot_cmap_lightness(cmap)\n",
    "\n",
    "# set colorbar range\n",
    "vmin = 0\n",
    "vmax = 0.8"
   ]
  },
  {
   "cell_type": "markdown",
   "metadata": {},
   "source": [
    "### Fig. S1A | Similarity heatmap: Thalamic nuclei vs subclasses\n",
    "\n",
    "### Fig. S1B | Similarity heatmap: Thalamic nuclei vs supertypes\n",
    "\n",
    "### Fig. S1C | Similarity heatmap: Thalamic nuclei vs clusters"
   ]
  },
  {
   "cell_type": "code",
   "execution_count": 11,
   "metadata": {},
   "outputs": [],
   "source": [
    "figure_index = 'S1'\n",
    "panel_letter = ['A', 'B', 'C']\n",
    "\n",
    "taxonomy_levels = ['subclass', 'supertype', 'cluster']\n",
    "figure_sizes = [[1.5*1.8,2*3], [1.5*5.8,2*3], [1.5*8.5,2*3]]\n",
    "\n",
    "\n",
    "for i, taxonomy_level in enumerate(taxonomy_levels):\n",
    "    dist, y_names, x_names = dm.cluster_distances_from_labels(\n",
    "                                obs_erode, y_col=ccf_label, x_col=taxonomy_level, \n",
    "                                y_names=sorted(regions_to_plot),\n",
    "                                x_names=sorted(obs_erode[taxonomy_level].unique()))\n",
    "\n",
    "    y_order, x_order = dm.order_distances_x_to_y(dist, reorder_y=False)\n",
    "\n",
    "    x_names_ids_only = [name[0:4] for name in x_names] if taxonomy_level=='cluster' else [name[0:3] for name in x_names]\n",
    "\n",
    "    fig_sim_hm = dm.plot_ordered_similarity_heatmap(\n",
    "        dist, \n",
    "        y_order=y_order, x_order=x_order, \n",
    "        y_names=y_names, x_names=x_names_ids_only,\n",
    "        cmap=cmap,\n",
    "        vmin=vmin, vmax=vmax,\n",
    "    )\n",
    "\n",
    "    # set figure size\n",
    "    fig_size = figure_sizes[i]\n",
    "    fig_sim_hm.set_size_inches(fig_size[0], fig_size[1])\n",
    "    fig_sim_hm.gca().set_xlabel(taxonomy_level)\n",
    "    fig_sim_hm.gca().set_ylabel('CCF Structure')\n",
    "\n",
    "    fig_sim_hm.savefig(\n",
    "        f'{results_dir}/fig{figure_index}{panel_letter[i]}_similarity_heatmap_nuclei_vs_{taxonomy_level}_ALL_NUCLEI.pdf', \n",
    "        transparent=True, bbox_inches='tight')\n",
    "    # fig_sim_hm.savefig(\n",
    "    #     f'{results_dir}/fig{figure_index}{panel_letter[i]}_similarity_heatmap_nuclei_vs_{taxonomy_level}_ALL_NUCLEI.png', \n",
    "    #     transparent=True, bbox_inches='tight',\n",
    "    #     dpi=600)\n",
    "\n",
    "\n",
    "    # Plot colored labels for the x-axis categories\n",
    "    fig_xlabel_colors = dm.plot_heatmap_xlabel_colors(x_names, \n",
    "                                                    x_order, \n",
    "                                                    abc_palettes[taxonomy_level])\n",
    "    fig_xlabel_colors.set_size_inches(fig_size[0], fig_size[1])\n",
    "    fig_xlabel_colors.savefig(\n",
    "        f'{results_dir}/fig{figure_index}{panel_letter[i]}_similarity_heatmap_nuclei_vs_{taxonomy_level}_xaxis_colors.pdf', \n",
    "        transparent=True, bbox_inches='tight')"
   ]
  }
 ],
 "metadata": {
  "kernelspec": {
   "display_name": "base",
   "language": "python",
   "name": "python3"
  },
  "language_info": {
   "codemirror_mode": {
    "name": "ipython",
    "version": 3
   },
   "file_extension": ".py",
   "mimetype": "text/x-python",
   "name": "python",
   "nbconvert_exporter": "python",
   "pygments_lexer": "ipython3",
   "version": "3.9.12"
  }
 },
 "nbformat": 4,
 "nbformat_minor": 2
}
