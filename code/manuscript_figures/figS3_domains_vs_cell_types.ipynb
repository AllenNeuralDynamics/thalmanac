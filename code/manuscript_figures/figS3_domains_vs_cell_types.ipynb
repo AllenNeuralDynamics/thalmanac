{
 "cells": [
  {
   "cell_type": "code",
   "execution_count": 1,
   "metadata": {},
   "outputs": [],
   "source": [
    "%load_ext autoreload\n",
    "%autoreload 2"
   ]
  },
  {
   "cell_type": "code",
   "execution_count": 2,
   "metadata": {},
   "outputs": [],
   "source": [
    "import numpy as np\n",
    "import pandas as pd\n",
    "import anndata as ad\n",
    "\n",
    "import sys\n",
    "sys.path.append(\"/code/\")\n",
    "from thalamus_merfish_analysis import abc_load as abc\n",
    "from thalamus_merfish_analysis import ccf_images as cimg\n",
    "from thalamus_merfish_analysis import ccf_plots as cplots\n",
    "from thalamus_merfish_analysis import ccf_erode as cerd\n",
    "import thalamus_merfish_analysis.distance_metrics as dm\n",
    "\n",
    "from colorcet import glasbey\n",
    "\n",
    "import matplotlib.pyplot as plt\n",
    "from matplotlib import rcParams\n",
    "rcParams['pdf.fonttype'] = 42\n",
    "rcParams['ps.fonttype'] = 42\n",
    "rcParams['font.size'] = 7\n",
    "get_ipython().run_line_magic('matplotlib', 'inline') "
   ]
  },
  {
   "cell_type": "code",
   "execution_count": 3,
   "metadata": {},
   "outputs": [],
   "source": [
    "# set spatial column names to `_reconstructed` coordinate space\n",
    "coords = '_reconstructed'\n",
    "\n",
    "x_col = 'x'+coords\n",
    "y_col = 'y'+coords\n",
    "section_col = z_col = 'z'+coords\n",
    "\n",
    "# level at which to compare labels\n",
    "ccf_level = 'structure'"
   ]
  },
  {
   "cell_type": "code",
   "execution_count": 4,
   "metadata": {},
   "outputs": [],
   "source": [
    "results_dir = '../../results/'"
   ]
  },
  {
   "cell_type": "code",
   "execution_count": 5,
   "metadata": {},
   "outputs": [],
   "source": [
    "# load all cells in the brain\n",
    "obs = abc.get_combined_metadata(realigned=False)"
   ]
  },
  {
   "cell_type": "code",
   "execution_count": 8,
   "metadata": {},
   "outputs": [],
   "source": [
    "# generate ccf_images & boundaries for the left hemisphere only\n",
    "ccf_images_left = abc.get_ccf_labels_image(resampled=True, \n",
    "                                           realigned=False, \n",
    "                                           subset_to_left_hemi=True)\n",
    "\n",
    "ccf_boundaries_left = cimg.sectionwise_label_erosion(ccf_images_left, \n",
    "                                                distance_px=1, \n",
    "                                                fill_val=0, \n",
    "                                                return_edges=True)"
   ]
  },
  {
   "cell_type": "code",
   "execution_count": 21,
   "metadata": {},
   "outputs": [],
   "source": [
    "# We can load & use the published color palettes for the ABC Atlas taxonomy\n",
    "abc_palettes = {level: abc.get_taxonomy_palette(level) for level in \n",
    "                ['neurotransmitter','class', 'subclass','supertype','cluster']}\n",
    "\n",
    "# We have also provided a secondary color palette for the cluster level that \n",
    "# attempts to increase the color contrast between spatially negihboring clusters\n",
    "abc_palettes['cluster'] = abc.get_thalamus_cluster_palette() \n",
    "\n",
    "ccf_palette = abc.get_ccf_palette('substructure')\n",
    "ccf_palette['ZI'] = ccf_palette.pop('ZI-unassigned') # need to fix a key error"
   ]
  },
  {
   "cell_type": "code",
   "execution_count": 9,
   "metadata": {},
   "outputs": [],
   "source": [
    "# load in SpaGCN domain results\n",
    "# temporarily a static file in '../code/resources' until I get a reproducible run setup for the spagcn capsule\n",
    "spagcn_domains_df = pd.read_parquet('/code/thalamus_merfish_analysis/resources/spagcn_predicated_domains.parquet')\n",
    "# need to convert to categories since they're imported as int64\n",
    "spagcn_domains_df = spagcn_domains_df.astype('category')\n",
    "\n",
    "# merge in & subset to just cells with SpaGCN domain predictions\n",
    "obs_spagcn = pd.merge(obs, spagcn_domains_df, on='cell_label', how='inner')\n",
    "\n",
    "# filter by thalamus coords to tighten up the image\n",
    "obs_spagcn = abc.filter_by_thalamus_coords(obs_spagcn)\n",
    "\n",
    "# erode the CCF structures\n",
    "obs_spagcn_erode, ccf_label = cerd.label_cells_by_eroded_ccf(obs_spagcn.copy(), \n",
    "                                                             ccf_images_left, \n",
    "                                                             ccf_level=ccf_level)"
   ]
  },
  {
   "cell_type": "code",
   "execution_count": 10,
   "metadata": {},
   "outputs": [],
   "source": [
    "# set the resolutions we want to visualize\n",
    "resolution = 1.4\n",
    "res_str = str(resolution)\n",
    "predicted_col = f'res{res_str[0]}pt{res_str[-1]}'"
   ]
  },
  {
   "cell_type": "markdown",
   "metadata": {},
   "source": [
    "## Fig. S3A-C | Domains vs subclasses/supertypes/clusters"
   ]
  },
  {
   "cell_type": "code",
   "execution_count": 24,
   "metadata": {},
   "outputs": [],
   "source": [
    "taxonomy_level = 'subclass'\n",
    "for taxonomy_level in ['subclass', 'supertype', 'cluster']:\n",
    "    dist, y_names, x_names = dm.cluster_distances_from_labels(\n",
    "                                obs_spagcn, \n",
    "                                y_col=predicted_col, \n",
    "                                x_col=taxonomy_level,\n",
    "                                y_names=sorted(obs_spagcn[predicted_col].unique()),\n",
    "                                x_names=sorted(obs_spagcn[taxonomy_level].unique()),#subclasses_subset,\n",
    "                                metric='braycurtis')\n",
    "    # display(y_names)\n",
    "    # display(x_names)\n",
    "\n",
    "    y_order, x_order = dm.order_distances_x_to_y(dist, \n",
    "                                                 reorder_y=True, \n",
    "                                                 min_similarity_x=0.1)\n",
    "\n",
    "    x_names_ids_only = [name[0:4] for name in x_names]\n",
    "\n",
    "    fig = dm.plot_ordered_similarity_heatmap(dist, \n",
    "                                            y_order=y_order, \n",
    "                                            x_order=x_order, \n",
    "                                            y_names=y_names, \n",
    "                                            x_names=x_names_ids_only)\n",
    "    ax = fig.gca()\n",
    "    ax.axis('equal')\n",
    "    ax.set_xlabel(f'{taxonomy_level}')\n",
    "    ax.set_ylabel('SpaGCN domain')\n",
    "    fig.set_size_inches(5.8,3)\n",
    "\n",
    "    fig.savefig(f'{results_dir}/figS3_similarity_heatmap_{taxonomy_level}_vs_spaGCN_domains_reorderedY.pdf', \n",
    "                transparent=True, \n",
    "                bbox_inches='tight')\n",
    "    \n",
    "    # Plot colored labels for the x-axis categories\n",
    "    fig_xlabel_colors = dm.plot_heatmap_xlabel_colors(x_names, \n",
    "                                                     x_order, \n",
    "                                                     abc_palettes[taxonomy_level])\n",
    "    fig_xlabel_colors.set_size_inches(5.7,3)\n",
    "    fig_xlabel_colors.savefig(f'{results_dir}/figS3_similarity_heatmap_{taxonomy_level}_vs_spaGCN_domains_xaxis_colors.pdf', \n",
    "                              transparent=True, \n",
    "                              bbox_inches='tight')"
   ]
  },
  {
   "cell_type": "code",
   "execution_count": null,
   "metadata": {},
   "outputs": [],
   "source": []
  }
 ],
 "metadata": {
  "kernelspec": {
   "display_name": "base",
   "language": "python",
   "name": "python3"
  },
  "language_info": {
   "codemirror_mode": {
    "name": "ipython",
    "version": 3
   },
   "file_extension": ".py",
   "mimetype": "text/x-python",
   "name": "python",
   "nbconvert_exporter": "python",
   "pygments_lexer": "ipython3",
   "version": "3.9.12"
  }
 },
 "nbformat": 4,
 "nbformat_minor": 2
}
