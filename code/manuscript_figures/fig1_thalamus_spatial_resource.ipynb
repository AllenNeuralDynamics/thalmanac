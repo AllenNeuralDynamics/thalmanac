{
 "cells": [
  {
   "cell_type": "code",
   "execution_count": 1,
   "metadata": {},
   "outputs": [],
   "source": [
    "%load_ext autoreload\n",
    "%autoreload 2"
   ]
  },
  {
   "cell_type": "code",
   "execution_count": 2,
   "metadata": {},
   "outputs": [],
   "source": [
    "import numpy as np\n",
    "import pandas as pd\n",
    "\n",
    "import sys\n",
    "sys.path.append('/code/')\n",
    "from thalamus_merfish_analysis import abc_load as abc\n",
    "from thalamus_merfish_analysis import ccf_images as cimg\n",
    "from thalamus_merfish_analysis import ccf_plots as cplots\n",
    "\n",
    "from matplotlib import rcParams\n",
    "rcParams['ps.fonttype'] = 42\n",
    "rcParams['pdf.fonttype'] = 42\n",
    "rcParams['font.size'] = 7\n",
    "\n",
    "import matplotlib.pyplot as plt\n",
    "get_ipython().run_line_magic('matplotlib', 'inline') "
   ]
  },
  {
   "cell_type": "code",
   "execution_count": 3,
   "metadata": {},
   "outputs": [],
   "source": [
    "results_dir = '../../results'"
   ]
  },
  {
   "cell_type": "markdown",
   "metadata": {},
   "source": [
    "## Load thalamus data"
   ]
  },
  {
   "cell_type": "code",
   "execution_count": 4,
   "metadata": {},
   "outputs": [],
   "source": [
    "obs_wmb = abc.get_combined_metadata()\n",
    "obs_th = abc.load_standard_thalamus(data_structure='obs')"
   ]
  },
  {
   "cell_type": "code",
   "execution_count": 5,
   "metadata": {},
   "outputs": [],
   "source": [
    "# set spatial column names to `_reconstructed` coordinate space\n",
    "coords = '_reconstructed'\n",
    "\n",
    "x_col = 'x'+coords\n",
    "y_col = 'y'+coords\n",
    "z_col = 'z'+coords\n",
    "section_col = 'brain_section_label'"
   ]
  },
  {
   "cell_type": "code",
   "execution_count": 6,
   "metadata": {},
   "outputs": [],
   "source": [
    "# Load the CCF structures image\n",
    "ccf_images = abc.get_ccf_labels_image()"
   ]
  },
  {
   "cell_type": "code",
   "execution_count": 7,
   "metadata": {},
   "outputs": [],
   "source": [
    "# Precompute boundaries to use multiple times in this notebook w/o need to recompute\n",
    "\n",
    "# we only need to load the boundaries for sections that contain the thalamus\n",
    "sections_all = sorted(obs_th[z_col].unique())\n",
    "sections_int = np.rint(np.array(sections_all)/0.2).astype(int)\n",
    "\n",
    "# precompute boundaries for thalamic sections\n",
    "ccf_boundaries = cimg.sectionwise_label_erosion(ccf_images, distance_px=1, \n",
    "                                                fill_val=0, return_edges=True, \n",
    "                                                section_list=sections_int\n",
    "                                                )"
   ]
  },
  {
   "cell_type": "code",
   "execution_count": 8,
   "metadata": {},
   "outputs": [],
   "source": [
    "# if you reload thalamus_merfish_analysis.ccf_plots after this cell has been run, \n",
    "# cplots.CCF_REGIONS_DEFAULT will be reset to None & you'll need to re-run this cell\n",
    "cplots.CCF_REGIONS_DEFAULT = abc.get_thalamus_names('substructure')"
   ]
  },
  {
   "cell_type": "code",
   "execution_count": 9,
   "metadata": {},
   "outputs": [],
   "source": [
    "# We can load & use the published color palettes for the ABC Atlas taxonomy\n",
    "abc_palettes = {level: abc.get_taxonomy_palette(level) for level in \n",
    "                ['neurotransmitter','class', 'subclass','supertype','cluster']}\n",
    "\n",
    "# We have also provided a secondary color palette for the cluster level that \n",
    "# attempts to increase the color contrast between spatially negihboring clusters\n",
    "abc_palettes['cluster'] = abc.get_thalamus_cluster_palette() #dict(zip(palette_df['Unnamed: 0'], palette_df['0']))\n",
    "\n",
    "ccf_palette = abc.get_ccf_palette('substructure')\n",
    "ccf_palette['ZI'] = ccf_palette.pop('ZI-unassigned') # need to fix a key error"
   ]
  },
  {
   "cell_type": "markdown",
   "metadata": {},
   "source": [
    "## Figure 1: Thalamic cell types vs anatomical annotations"
   ]
  },
  {
   "cell_type": "markdown",
   "metadata": {},
   "source": [
    "### Figure 1(a): Taxonomy tree\n",
    "\n",
    "Made in R + Illlustrator"
   ]
  },
  {
   "cell_type": "markdown",
   "metadata": {},
   "source": [
    "### Figure 1(b): ARA anatomical annotations "
   ]
  },
  {
   "cell_type": "code",
   "execution_count": 10,
   "metadata": {},
   "outputs": [],
   "source": [
    "kwargs = dict(\n",
    "    bg_cells=None,\n",
    "    section_col=section_col,\n",
    "    x_col=x_col,\n",
    "    y_col=y_col,\n",
    "    point_size=0,\n",
    "    edge_color=\"black\",\n",
    "    boundary_img=ccf_boundaries,\n",
    "    # custom_xy_lims=[2.5, 6, 7, 4],\n",
    ")\n",
    "\n",
    "figs_ara = cplots.plot_ccf_overlay(\n",
    "    obs_th.iloc[:1,:],\n",
    "    ccf_images,\n",
    "    point_hue=\"subclass\",\n",
    "    face_palette=ccf_palette, \n",
    "    min_group_count=0,\n",
    "    sections=cplots.TH_EXAMPLE_SECTION_LABELS,\n",
    "    separate_figs=False,\n",
    "    figsize=(20, 5),\n",
    "    legend=None,\n",
    "    **kwargs,\n",
    ")\n",
    "figs_ara[0].set_size_inches(8.3, 3)\n",
    "figs_ara[0].savefig(f'{results_dir}/fig1B_ccf_ara.png',\n",
    "                 transparent=True, bbox_inches='tight', dpi=300)"
   ]
  },
  {
   "cell_type": "markdown",
   "metadata": {},
   "source": [
    "### Figure 1(c): TH+ZI cell types"
   ]
  },
  {
   "cell_type": "code",
   "execution_count": 11,
   "metadata": {},
   "outputs": [],
   "source": [
    "kwargs_celltypes = dict(boundary_img=ccf_boundaries,\n",
    "                        bg_cells=None,#obs_wmb, # background cells are displayed in grey\n",
    "                        section_col=section_col,\n",
    "                        x_col=x_col, \n",
    "                        y_col=y_col,\n",
    "                        edge_color='black',\n",
    "                        point_size=0.3, # cell marker size\n",
    "                       )\n",
    "\n",
    "levels = ['class', 'subclass', 'supertype', 'cluster']\n",
    "fig_parts = ['C_i', 'C_ii', 'C_iii', 'C_iv']\n",
    "\n",
    "for i, taxonomy_level in enumerate(levels):\n",
    "    palette = abc_palettes[taxonomy_level]\n",
    "        \n",
    "    figs_ccf_celltypes = cplots.plot_ccf_overlay(\n",
    "        obs_th, \n",
    "        ccf_images, \n",
    "        point_hue=taxonomy_level, \n",
    "        sections=cplots.TH_EXAMPLE_SECTION_LABELS,\n",
    "        separate_figs=False,\n",
    "        point_palette=palette,\n",
    "        legend=None, #'cells',\n",
    "        figsize=(20, 5),\n",
    "        **kwargs_celltypes\n",
    "    )\n",
    "    \n",
    "    figs_ccf_celltypes[0].set_size_inches(8.3, 3)\n",
    "    \n",
    "    figs_ccf_celltypes[0].savefig(f'{results_dir}/fig1{fig_parts[i]}_ccf_{taxonomy_level}.pdf',\n",
    "                                  transparent=True, bbox_inches='tight')"
   ]
  }
 ],
 "metadata": {
  "kernelspec": {
   "display_name": "base",
   "language": "python",
   "name": "python3"
  },
  "language_info": {
   "codemirror_mode": {
    "name": "ipython",
    "version": 3
   },
   "file_extension": ".py",
   "mimetype": "text/x-python",
   "name": "python",
   "nbconvert_exporter": "python",
   "pygments_lexer": "ipython3",
   "version": "3.9.12"
  }
 },
 "nbformat": 4,
 "nbformat_minor": 2
}
