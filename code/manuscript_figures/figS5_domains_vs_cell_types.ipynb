{
 "cells": [
  {
   "cell_type": "markdown",
   "metadata": {},
   "source": [
    "# Figure S5 | SpaGCN Domains vs T-types"
   ]
  },
  {
   "cell_type": "code",
   "execution_count": 1,
   "metadata": {},
   "outputs": [],
   "source": [
    "import numpy as np\n",
    "import pandas as pd\n",
    "\n",
    "import sys\n",
    "sys.path.append(\"/code/\")\n",
    "from abc_merfish_analysis import abc_load as abc\n",
    "from abc_merfish_analysis import ccf_erode as cerd\n",
    "import abc_merfish_analysis.distance_metrics as dm\n",
    "\n",
    "import matplotlib.pyplot as plt\n",
    "from matplotlib import rcParams\n",
    "rcParams['pdf.fonttype'] = 42\n",
    "rcParams['ps.fonttype'] = 42\n",
    "rcParams['font.size'] = 7\n",
    "get_ipython().run_line_magic('matplotlib', 'inline') "
   ]
  },
  {
   "cell_type": "code",
   "execution_count": 2,
   "metadata": {},
   "outputs": [],
   "source": [
    "# load all cells in the brain\n",
    "obs = abc.get_combined_metadata(realigned=False)"
   ]
  },
  {
   "cell_type": "code",
   "execution_count": 3,
   "metadata": {},
   "outputs": [],
   "source": [
    "# generate ccf_images & boundaries for the left hemisphere only\n",
    "ccf_images_left = abc.get_ccf_labels_image(resampled=True, \n",
    "                                           realigned=False, \n",
    "                                           subset_to_left_hemi=True)"
   ]
  },
  {
   "cell_type": "code",
   "execution_count": 4,
   "metadata": {},
   "outputs": [],
   "source": [
    "# We can load & use the published color palettes for the ABC Atlas taxonomy\n",
    "abc_palettes = {level: abc.get_taxonomy_palette(level) for level in \n",
    "                ['neurotransmitter','class', 'subclass','supertype','cluster']}\n",
    "\n",
    "# We have also provided a secondary color palette for the cluster level that \n",
    "# attempts to increase the color contrast between spatially negihboring clusters\n",
    "abc_palettes['cluster'] = abc.get_thalamus_cluster_palette() "
   ]
  },
  {
   "cell_type": "code",
   "execution_count": 5,
   "metadata": {},
   "outputs": [],
   "source": [
    "# load in SpaGCN domain results\n",
    "# temporarily a static file in '../code/resources' until I get a reproducible run setup for the spagcn capsule\n",
    "spagcn_domains_df = pd.read_parquet('/data/spagcn/spagcn_predicted_domains.parquet')\n",
    "# need to convert to categories since they're imported as int64\n",
    "spagcn_domains_df = spagcn_domains_df.astype('category')\n",
    "\n",
    "# merge in & subset to just cells with SpaGCN domain predictions\n",
    "obs_spagcn = pd.merge(obs, spagcn_domains_df, on='cell_label', how='inner')\n",
    "\n",
    "# filter by thalamus coords to tighten up the image\n",
    "obs_spagcn = abc.filter_by_thalamus_coords(obs_spagcn)\n",
    "\n",
    "# erode the CCF structures\n",
    "ccf_level = 'structure' # compare at the parcellation_structure level\n",
    "obs_spagcn_erode, ccf_label = cerd.label_cells_by_eroded_ccf(obs_spagcn.copy(), \n",
    "                                                             ccf_images_left, \n",
    "                                                             ccf_level=ccf_level)"
   ]
  },
  {
   "cell_type": "code",
   "execution_count": 6,
   "metadata": {},
   "outputs": [],
   "source": [
    "results_dir = '../../results/'\n",
    "figure_index = 'S5'"
   ]
  },
  {
   "cell_type": "markdown",
   "metadata": {},
   "source": [
    "## Fig. S3A-C | Domains vs subclasses/supertypes/clusters"
   ]
  },
  {
   "cell_type": "code",
   "execution_count": 7,
   "metadata": {},
   "outputs": [],
   "source": [
    "# set the SpaGCN resolution we want to visualize\n",
    "resolution = 1.4\n",
    "res_str = str(resolution)\n",
    "predicted_col = f'res{res_str[0]}pt{res_str[-1]}'"
   ]
  },
  {
   "cell_type": "code",
   "execution_count": 8,
   "metadata": {},
   "outputs": [],
   "source": [
    "# set color map\n",
    "cmap = dm.CMAP_PURPLES_256\n",
    "# dm.plot_cmap_lightness(cmap) # uncomment to see cmap is perceptually uniform\n",
    "\n",
    "# set colorbar range\n",
    "vmin = 0\n",
    "vmax = 0.8"
   ]
  },
  {
   "cell_type": "code",
   "execution_count": 9,
   "metadata": {},
   "outputs": [],
   "source": [
    "fig_letters = ['A', 'B', 'C']\n",
    "fig_sizes = [\n",
    "    [1.8,3],\n",
    "    [5.8,3],\n",
    "    [8.5,3],\n",
    "]\n",
    "taxonomy_levels = ['subclass', 'supertype', 'cluster']\n",
    "\n",
    "domain_names_numerical_order = sorted(obs_spagcn[predicted_col].unique())"
   ]
  },
  {
   "cell_type": "code",
   "execution_count": 10,
   "metadata": {},
   "outputs": [],
   "source": [
    "# Generate the subclass plot first\n",
    "# 1. we'll re-order the SpaGCN domains on the y-axis according to their similarity to the subclasses\n",
    "# 2. we'll use this order to fix  the y-axis order for the other taxonomy levels\n",
    "subclass_ind = 0\n",
    "taxonomy_level = taxonomy_levels[subclass_ind]\n",
    "\n",
    "\n",
    "# Calculate similarity between SpaGCN domains & t-types\n",
    "dist, y_names, x_names = dm.cluster_distances_from_labels(\n",
    "                            obs_spagcn, \n",
    "                            y_col=predicted_col, \n",
    "                            x_col=taxonomy_level,\n",
    "                            y_names=domain_names_numerical_order,\n",
    "                            x_names=sorted(obs_spagcn[taxonomy_level].unique()),\n",
    "                            metric='braycurtis')\n",
    "\n",
    "y_order_from_subclass, x_order = dm.order_distances_x_to_y(\n",
    "    dist, \n",
    "    reorder_y=True, # yes, reorder for the subclass\n",
    "    min_similarity_x=0.1\n",
    ")\n",
    "\n",
    "x_names_ids_only = [name[0:4] for name in x_names]\n",
    "\n",
    "# Plot similarity heatmap\n",
    "fig = dm.plot_ordered_similarity_heatmap(\n",
    "    dist, \n",
    "    y_order=y_order_from_subclass, \n",
    "    x_order=x_order, \n",
    "    y_names=y_names, \n",
    "    x_names=x_names_ids_only,\n",
    "    cmap=cmap, \n",
    "    vmin=vmin, vmax=vmax,\n",
    ")\n",
    "ax = fig.gca()\n",
    "ax.axis('equal')\n",
    "ax.set_xlabel(f'{taxonomy_level}')\n",
    "ax.set_ylabel('SpaGCN domain')\n",
    "fig.set_size_inches(fig_sizes[subclass_ind])\n",
    "\n",
    "fig.savefig(f'{results_dir}/fig{figure_index}{fig_letters[subclass_ind]}_similarity_heatmap_{taxonomy_level}_vs_spaGCN_domains_reorderedY.pdf', \n",
    "            transparent=True, \n",
    "            bbox_inches='tight')\n",
    "\n",
    "# Plot colored labels for the x-axis categories\n",
    "fig_xlabel_colors = dm.plot_heatmap_xlabel_colors(x_names, \n",
    "                                                    x_order, \n",
    "                                                    abc_palettes[taxonomy_level])\n",
    "fig_xlabel_colors.set_size_inches(fig_sizes[subclass_ind])\n",
    "fig_xlabel_colors.savefig(f'{results_dir}/fig{figure_index}{fig_letters[subclass_ind]}_similarity_heatmap_{taxonomy_level}_vs_spaGCN_domains_xaxis_colors.pdf', \n",
    "                            transparent=True, \n",
    "                            bbox_inches='tight')"
   ]
  },
  {
   "cell_type": "code",
   "execution_count": 11,
   "metadata": {},
   "outputs": [],
   "source": [
    "# Plot the other two taxonomy levels, supertype & cluster\n",
    "\n",
    "# use the y_order from the subclass plot to fix the SpaGCN domain order\n",
    "y_names_subclass_order = np.array(domain_names_numerical_order)[y_order_from_subclass]\n",
    "\n",
    "for i, taxonomy_level in enumerate(taxonomy_levels):\n",
    "    # skip the subclass level since we already plotted it\n",
    "    if i == subclass_ind:\n",
    "        continue\n",
    "    \n",
    "    # Calculate similarity between SpaGCN domains & t-types\n",
    "    dist, y_names, x_names = dm.cluster_distances_from_labels(\n",
    "                                obs_spagcn, \n",
    "                                y_col=predicted_col, \n",
    "                                x_col=taxonomy_level,\n",
    "                                y_names=y_names_subclass_order,\n",
    "                                x_names=sorted(obs_spagcn[taxonomy_level].unique()),\n",
    "                                metric='braycurtis')\n",
    "\n",
    "    y_order, x_order = dm.order_distances_x_to_y(dist, \n",
    "                                                reorder_y=False, \n",
    "                                                min_similarity_x=0.1)\n",
    "\n",
    "    x_names_ids_only = [name[0:4] for name in x_names]\n",
    "\n",
    "    # Plot similarity heatmap\n",
    "    fig = dm.plot_ordered_similarity_heatmap(\n",
    "        dist, \n",
    "        y_order=y_order, x_order=x_order, \n",
    "        y_names=y_names, x_names=x_names_ids_only,\n",
    "        cmap=cmap, \n",
    "        vmin=vmin, vmax=vmax,\n",
    "    )\n",
    "    ax = fig.gca()\n",
    "    ax.axis('equal')\n",
    "    ax.set_xlabel(f'{taxonomy_level}')\n",
    "    ax.set_ylabel('SpaGCN domain')\n",
    "    fig.set_size_inches(fig_sizes[i])\n",
    "\n",
    "    fig.savefig(f'{results_dir}/fig{figure_index}{fig_letters[i]}_similarity_heatmap_{taxonomy_level}_vs_spaGCN_domains_yOrderSubclass.pdf', \n",
    "                transparent=True, \n",
    "                bbox_inches='tight')\n",
    "    \n",
    "    # Plot colored labels for the x-axis categories\n",
    "    fig_xlabel_colors = dm.plot_heatmap_xlabel_colors(x_names, \n",
    "                                                     x_order, \n",
    "                                                     abc_palettes[taxonomy_level])\n",
    "    fig_xlabel_colors.set_size_inches(5.7,3)\n",
    "    fig_xlabel_colors.savefig(f'{results_dir}/fig{figure_index}{fig_letters[i]}_similarity_heatmap_{taxonomy_level}_vs_spaGCN_domains_xaxis_colors.pdf', \n",
    "                              transparent=True, \n",
    "                              bbox_inches='tight')"
   ]
  }
 ],
 "metadata": {
  "kernelspec": {
   "display_name": "base",
   "language": "python",
   "name": "python3"
  },
  "language_info": {
   "codemirror_mode": {
    "name": "ipython",
    "version": 3
   },
   "file_extension": ".py",
   "mimetype": "text/x-python",
   "name": "python",
   "nbconvert_exporter": "python",
   "pygments_lexer": "ipython3",
   "version": "3.9.12"
  }
 },
 "nbformat": 4,
 "nbformat_minor": 2
}
