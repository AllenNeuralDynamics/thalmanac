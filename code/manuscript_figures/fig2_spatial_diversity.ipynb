{
 "cells": [
  {
   "cell_type": "code",
   "execution_count": 3,
   "metadata": {},
   "outputs": [],
   "source": [
    "%load_ext autoreload\n",
    "%autoreload 2"
   ]
  },
  {
   "cell_type": "code",
   "execution_count": 4,
   "metadata": {},
   "outputs": [],
   "source": [
    "import numpy as np\n",
    "import pandas as pd\n",
    "import seaborn as sns\n",
    "\n",
    "import sys\n",
    "sys.path.append(\"/code/\")\n",
    "from thalamus_merfish_analysis import abc_load as abc\n",
    "from thalamus_merfish_analysis import ccf_images as cimg\n",
    "from thalamus_merfish_analysis import ccf_plots as cplots\n",
    "from thalamus_merfish_analysis import ccf_erode as cerd\n",
    "from thalamus_merfish_analysis import diversity_metrics as divmet\n",
    "from thalamus_merfish_analysis import diversity_plots as dplot\n",
    "import thalamus_merfish_analysis.distance_metrics as dm\n",
    "\n",
    "\n",
    "from matplotlib import rcParams\n",
    "rcParams['ps.fonttype'] = 42\n",
    "rcParams['pdf.fonttype'] = 42\n",
    "rcParams['font.size'] = 7\n",
    "\n",
    "import matplotlib.pyplot as plt\n",
    "get_ipython().run_line_magic('matplotlib', 'inline') "
   ]
  },
  {
   "cell_type": "markdown",
   "metadata": {},
   "source": [
    "## Load thalamus data"
   ]
  },
  {
   "cell_type": "code",
   "execution_count": 5,
   "metadata": {},
   "outputs": [],
   "source": [
    "obs_wmb = abc.get_combined_metadata()\n",
    "obs_th = abc.load_standard_thalamus(data_structure='obs')"
   ]
  },
  {
   "cell_type": "code",
   "execution_count": 6,
   "metadata": {},
   "outputs": [],
   "source": [
    "# set spatial column names to `_reconstructed` coordinate space\n",
    "coords = '_reconstructed'\n",
    "\n",
    "x_col = 'x'+coords\n",
    "y_col = 'y'+coords\n",
    "z_col = 'z'+coords\n",
    "section_col = 'brain_section_label'"
   ]
  },
  {
   "cell_type": "code",
   "execution_count": 7,
   "metadata": {},
   "outputs": [],
   "source": [
    "# Load the CCF structures image\n",
    "ccf_images = abc.get_ccf_labels_image()\n",
    "\n",
    "# we only need to load the boundaries for sections that contain the thalamus\n",
    "sections_all = sorted(obs_th[z_col].unique())\n",
    "sections_int = np.rint(np.array(sections_all)/0.2).astype(int)\n",
    "\n",
    "# precompute boundaries for thalamic sections\n",
    "ccf_boundaries = cimg.sectionwise_label_erosion(ccf_images, distance_px=1, \n",
    "                                                fill_val=0, return_edges=True, \n",
    "                                                section_list=sections_int\n",
    "                                                )"
   ]
  },
  {
   "cell_type": "code",
   "execution_count": 8,
   "metadata": {},
   "outputs": [],
   "source": [
    "# We can load & use the published color palettes for the ABC Atlas taxonomy\n",
    "abc_palettes = {level: abc.get_taxonomy_palette(level) for level in \n",
    "                ['neurotransmitter','class', 'subclass','supertype','cluster']}\n",
    "\n",
    "# We have also provided a secondary color palette for the cluster level that \n",
    "# attempts to increase the color contrast between spatially negihboring clusters\n",
    "abc_palettes['cluster'] = abc.get_thalamus_cluster_palette() #dict(zip(palette_df['Unnamed: 0'], palette_df['0']))\n",
    "\n",
    "ccf_palette = abc.get_ccf_palette('substructure')\n",
    "ccf_palette['ZI'] = ccf_palette.pop('ZI-unassigned') # need to fix a key error"
   ]
  },
  {
   "cell_type": "code",
   "execution_count": 9,
   "metadata": {},
   "outputs": [],
   "source": [
    "# We'll use the eroded CCF structures to calculate similarity metrics\n",
    "ccf_metrics_level = \"structure\"\n",
    "obs_erode, ccf_label_eroded = cerd.label_cells_by_eroded_ccf(obs, ccf_images, ccf_level=ccf_metrics_level, distance_px=5) # default is erosion by 5px (50um)\n",
    "ccf_label = cerd.ERODED_CCF_STRUCTURE_COL\n",
    "\n",
    "# There is poor alignment in section 6.6 between PF celltypes and the PF CCF structure\n",
    "# So, we'll set all cells in section 6.6 to 'unassigned' CCF structure\n",
    "obs_erode.loc[lambda df: df['z_section']==6.6, ccf_label_eroded] = 'unassigned'"
   ]
  },
  {
   "cell_type": "code",
   "execution_count": 10,
   "metadata": {},
   "outputs": [],
   "source": [
    "# if you reload thalamus_merfish_analysis.ccf_plots after this cell has been run, \n",
    "# cplots.CCF_REGIONS_DEFAULT will be reset to None & you'll need to re-run this cell\n",
    "cplots.CCF_REGIONS_DEFAULT = abc.get_thalamus_names('substructure')"
   ]
  },
  {
   "cell_type": "code",
   "execution_count": 11,
   "metadata": {},
   "outputs": [],
   "source": [
    "results_dir = '../../results'"
   ]
  },
  {
   "cell_type": "markdown",
   "metadata": {},
   "source": [
    "## Fig 2A-C: 2D heatmaps"
   ]
  },
  {
   "cell_type": "code",
   "execution_count": 12,
   "metadata": {},
   "outputs": [],
   "source": [
    "regions_to_plot = [\n",
    "    \"AD\", \"AV\", \"AM\", \"IAD\", \"LD\", \"VPM\", \"VPL\", \"LGd\",\n",
    "    \"MD\", \"CL\", \"CM\", \"IMD\", \"PO\", \"LP\", \"VAL\", \"VM\", \n",
    "    \"RE\", \"PF\", \"VPMpc\", \"PCN\", \"SPA\", \"PVT\", \"MH\", \"LH\", \"RT\", \n",
    "]"
   ]
  },
  {
   "cell_type": "code",
   "execution_count": 13,
   "metadata": {},
   "outputs": [],
   "source": [
    "# thalamic nuclei vs subclass similarity\n",
    "taxonomy_level = 'subclass'\n",
    "dist, y_names, x_names = dm.cluster_distances_from_labels(\n",
    "                            obs_erode, y_col=ccf_label, x_col=taxonomy_level, \n",
    "                            y_names=sorted(regions_to_plot),\n",
    "                            x_names=sorted(obs_erode[taxonomy_level].unique()))\n",
    "\n",
    "y_order, x_order = dm.order_distances_x_to_y(dist, reorder_y=True)\n",
    "\n",
    "x_names_ids_only = [name[0:3] for name in x_names]\n",
    "\n",
    "fig_hm_subclass = dm.plot_ordered_similarity_heatmap(dist, \n",
    "                                         y_order=y_order, x_order=x_order, \n",
    "                                         y_names=y_names, x_names=x_names_ids_only)\n",
    "\n",
    "fig_hm_subclass.set_size_inches(1.8,3)\n",
    "fig_hm_subclass.gca().set_xlabel(taxonomy_level)\n",
    "fig_hm_subclass.gca().set_ylabel('CCF Structure')\n",
    "\n",
    "fig_hm_subclass.savefig(f'{results_dir}/fig2a_similarity_heatmap_nuclei_vs_{taxonomy_level}_alpha-reorderedY.pdf', \n",
    "                        transparent=True, bbox_inches='tight')\n",
    "\n",
    "\n",
    "# Plot colored labels for the x-axis categories\n",
    "fig_xlabel_colors = dm.plot_heatmap_xlabel_colors(x_names, \n",
    "                                                  x_order, \n",
    "                                                  abc_palettes[taxonomy_level])\n",
    "fig_xlabel_colors.set_size_inches(1.8,3)\n",
    "fig_xlabel_colors.savefig(f'{results_dir}/fig2a_similarity_heatmap_nuclei_vs_{taxonomy_level}_xaxis_colors.pdf', \n",
    "                        transparent=True, bbox_inches='tight')"
   ]
  },
  {
   "cell_type": "code",
   "execution_count": 14,
   "metadata": {},
   "outputs": [],
   "source": [
    "# thalamic nuclei vs supertype similarity\n",
    "taxonomy_level = 'supertype'\n",
    "dist, y_names, x_names = dm.cluster_distances_from_labels(\n",
    "                            obs_erode, y_col=ccf_label, x_col=taxonomy_level, \n",
    "                            y_names=sorted(regions_to_plot),\n",
    "                            x_names=sorted(obs_erode[taxonomy_level].unique()))\n",
    "\n",
    "y_order, x_order = dm.order_distances_x_to_y(dist, reorder_y=True)\n",
    "\n",
    "x_names_ids_only = [name[0:4] for name in x_names]\n",
    "\n",
    "fig_hm_supertype = dm.plot_ordered_similarity_heatmap(\n",
    "                        dist, \n",
    "                        y_order=y_order, x_order=x_order, \n",
    "                        y_names=y_names, x_names=x_names_ids_only\n",
    "                        )\n",
    "\n",
    "fig_hm_supertype.set_size_inches(5.8,3)\n",
    "fig_hm_supertype.gca().set_xlabel(taxonomy_level)\n",
    "fig_hm_supertype.gca().set_ylabel('CCF Structure')\n",
    "\n",
    "\n",
    "fig_hm_supertype.savefig(f'{results_dir}/fig2b_similarity_heatmap_nuclei_vs_{taxonomy_level}_alpha-reorderedY.pdf', \n",
    "                        transparent=True, bbox_inches='tight')\n",
    "\n",
    "\n",
    "# Plot colored labels for the x-axis categories\n",
    "fig_xlabel_colors = dm.plot_heatmap_xlabel_colors(x_names, \n",
    "                                                  x_order, \n",
    "                                                  abc_palettes[taxonomy_level])\n",
    "fig_xlabel_colors.set_size_inches(5.7,3)\n",
    "fig_xlabel_colors.savefig(f'{results_dir}/fig2b_similarity_heatmap_nuclei_vs_{taxonomy_level}_xaxis_colors.pdf', \n",
    "                          transparent=True, bbox_inches='tight')"
   ]
  },
  {
   "cell_type": "code",
   "execution_count": 15,
   "metadata": {},
   "outputs": [],
   "source": [
    "# thalamic nuclei vs cluster similarity\n",
    "taxonomy_level = 'cluster'\n",
    "dist, y_names, x_names = dm.cluster_distances_from_labels(\n",
    "                            obs_erode, y_col=ccf_label, x_col=taxonomy_level, \n",
    "                            y_names=sorted(regions_to_plot),\n",
    "                            x_names=sorted(obs_erode[taxonomy_level].unique()))\n",
    "\n",
    "y_order, x_order = dm.order_distances_x_to_y(dist, reorder_y=True)\n",
    "\n",
    "x_names_ids_only = [name[0:4] for name in x_names]\n",
    "\n",
    "fig_hm_cluster = dm.plot_ordered_similarity_heatmap(dist, \n",
    "                                         y_order=y_order, x_order=x_order, \n",
    "                                         y_names=y_names, x_names=x_names_ids_only)\n",
    "\n",
    "fig_hm_cluster.set_size_inches(8.5,3)\n",
    "fig_hm_cluster.gca().set_xlabel(taxonomy_level)\n",
    "fig_hm_cluster.gca().set_ylabel('CCF Structure')\n",
    "\n",
    "\n",
    "fig_hm_cluster.savefig(f'{results_dir}/fig2c_similarity_heatmap_nuclei_vs_{taxonomy_level}_alpha-reorderedY.pdf', \n",
    "                        transparent=True, bbox_inches='tight')\n",
    "\n",
    "\n",
    "# Plot colored labels for the x-axis categories\n",
    "fig_xlabel_colors = dm.plot_heatmap_xlabel_colors(x_names, \n",
    "                                                  x_order, \n",
    "                                                  abc_palettes[taxonomy_level])\n",
    "fig_xlabel_colors.set_size_inches(6.3,3)\n",
    "fig_xlabel_colors.savefig(f'{results_dir}/fig2c_similarity_heatmap_nuclei_vs_{taxonomy_level}_xaxis_colors.pdf', \n",
    "                          transparent=True, bbox_inches='tight')"
   ]
  },
  {
   "cell_type": "markdown",
   "metadata": {},
   "source": [
    "## Figure 2D,E: Diversity metrics in space"
   ]
  },
  {
   "cell_type": "code",
   "execution_count": 16,
   "metadata": {},
   "outputs": [],
   "source": [
    "# calculate per-nucleus diversity metrics\n",
    "th_ccf_metrics = divmet.calculate_diversity_metrics(obs_erode, ccf_label=ccf_label)\n",
    "\n",
    "# set color map\n",
    "cmap = sns.color_palette(\"mako_r\", as_cmap=True)"
   ]
  },
  {
   "cell_type": "code",
   "execution_count": 17,
   "metadata": {},
   "outputs": [],
   "source": [
    "# plot the cell type counts in the CCF structures\n",
    "sections_to_plot = cplots.TH_EXAMPLE_Z_SECTIONS\n",
    "plt.rcParams.update({'font.size': 7})\n",
    "figs_clust_count_norm2cells = cplots.plot_metrics_ccf(ccf_images, \n",
    "                                    th_ccf_metrics['count_norm2cells_cluster'], \n",
    "                                    sections_to_plot,\n",
    "                                    ccf_level=ccf_metrics_level,\n",
    "                                    vmin=0, vmax=0.15, cmap=cmap,\n",
    "                                    cb_label='cluster count / # cells'\n",
    "                                    )\n",
    "\n",
    "for i, fig in enumerate(figs_clust_count_norm2cells):\n",
    "    fig.set_size_inches(4, 2)\n",
    "    fig.savefig(f'{results_dir}/fig2d_ccf_cluster_count_norm2cells_sec{int(sections_to_plot[i]*10)}.png',\n",
    "                transparent=True, bbox_inches='tight', dpi=300)\n",
    "    \n",
    "fig.savefig(f'{results_dir}/fig2d_ccf_cluster_count_norm2cells_colorbar.pdf',\n",
    "            transparent=True, bbox_inches='tight')"
   ]
  },
  {
   "cell_type": "code",
   "execution_count": null,
   "metadata": {},
   "outputs": [],
   "source": [
    "# calculate local diversity index using Inverse Simpson's Index (ISI) as metric\n",
    "local_isi_df = divmet.calculate_local_diversity_metric(obs_erode, \n",
    "                                                       divmet.inverse_simpsons_index, \n",
    "                                                       metric_name='isi', \n",
    "                                                       n_neighbors=15)"
   ]
  },
  {
   "cell_type": "code",
   "execution_count": null,
   "metadata": {},
   "outputs": [],
   "source": [
    "metric_name = 'local_isi_cluster'\n",
    "\n",
    "for section in cplots.TH_EXAMPLE_Z_SECTIONS:\n",
    "    fig = dplot.plot_local_metric_ccf_section(obs_erode, local_isi_df, ccf_images,\n",
    "                                              section, metric_name, cmap=cmap)\n",
    "\n",
    "    fig.set_size_inches(4, 2)\n",
    "    fig.savefig(f'{results_dir}/fig2e_ccf_local_isi_cluster_sec{int(section*10)}.png',\n",
    "                transparent=True, bbox_inches='tight', dpi=300)\n",
    "    fig.savefig(f'{results_dir}/fig2e_ccf_local_isi_cluster_colorbar.pdf',\n",
    "                transparent=True, bbox_inches='tight')"
   ]
  },
  {
   "cell_type": "markdown",
   "metadata": {},
   "source": [
    "## Figure 2F,G: Annotated clusters in example nuclei"
   ]
  },
  {
   "cell_type": "code",
   "execution_count": 19,
   "metadata": {},
   "outputs": [],
   "source": [
    "# set kwargs fpr annotated cluster plots\n",
    "kwargs_cluster_annotations = dict(\n",
    "    bg_cells=obs_th,\n",
    "    boundary_img=ccf_boundaries,\n",
    "    section_col=z_col,\n",
    "    x_col=x_col,\n",
    "    y_col=y_col,\n",
    "    point_size=1.5,\n",
    "    figsize=(4, 2),\n",
    "    face_palette=None,\n",
    "    edge_color='silver'\n",
    "    )"
   ]
  },
  {
   "cell_type": "code",
   "execution_count": 20,
   "metadata": {},
   "outputs": [],
   "source": [
    "# get the cluster annotations for the nucleus of interest\n",
    "nucleus = ['AD', 'AM', 'AV']\n",
    "obs_annot = abc.get_obs_from_annotated_clusters(nucleus, obs_th)\n",
    "\n",
    "# Let's look at the cell types in the ATN in one sample section\n",
    "sections_to_plot = [cplots.TH_EXAMPLE_Z_SECTIONS[0]]\n",
    "nuclei_highlight = ['AD', 'AMd', 'AMv', 'AV', 'AV']\n",
    "taxonomy_level = 'cluster'\n",
    "\n",
    "plt.rcParams.update({'font.size': 7})\n",
    "figs_annot = cplots.plot_ccf_overlay(obs_annot, \n",
    "                                    ccf_images, \n",
    "                                    ccf_highlight=nuclei_highlight,\n",
    "                                    point_hue=taxonomy_level, \n",
    "                                    sections=sections_to_plot,\n",
    "                                    point_palette=abc_palettes[taxonomy_level],\n",
    "                                    legend='cells',\n",
    "                                    **kwargs_cluster_annotations)\n",
    "figs_annot[0].savefig(f'{results_dir}/fig2f_cluster_annotations_z80_ATN.pdf', \n",
    "                      transparent=True, bbox_inches='tight')\n",
    "figs_annot[0].savefig(f'{results_dir}/fig2f_cluster_annotations_z80_ATN.png', \n",
    "                      transparent=True, bbox_inches='tight', dpi=1200)"
   ]
  },
  {
   "cell_type": "code",
   "execution_count": 21,
   "metadata": {},
   "outputs": [],
   "source": [
    "# get the cluster annotations for the nucleus of interest\n",
    "nucleus = ['VAL', 'VM']\n",
    "obs_annot = abc.get_obs_from_annotated_clusters(nucleus, obs_th)\n",
    "\n",
    "# Let's look at the cell types in the ATN in one sample section\n",
    "sections_to_plot = [cplots.TH_EXAMPLE_Z_SECTIONS[1]]\n",
    "nuclei_highlight = nucleus\n",
    "taxonomy_level = 'cluster'\n",
    "\n",
    "figs_annot = cplots.plot_ccf_overlay(obs_annot, \n",
    "                                    ccf_images, \n",
    "                                    ccf_highlight=nuclei_highlight,\n",
    "                                    point_hue=taxonomy_level, \n",
    "                                    sections=sections_to_plot,\n",
    "                                    point_palette=abc_palettes[taxonomy_level],\n",
    "                                    legend='cells',\n",
    "                                    **kwargs_cluster_annotations)\n",
    "\n",
    "figs_annot[0].savefig(f'{results_dir}/fig2f_cluster_annotations_z72_VAL_VM.pdf',\n",
    "                      transparent=True, bbox_inches='tight')\n",
    "figs_annot[0].savefig(f'{results_dir}/fig2f_cluster_annotations_z72_VAL_VM.png',\n",
    "                      transparent=True, bbox_inches='tight', dpi=1200)"
   ]
  }
 ],
 "metadata": {
  "kernelspec": {
   "display_name": "base",
   "language": "python",
   "name": "python3"
  },
  "language_info": {
   "codemirror_mode": {
    "name": "ipython",
    "version": 3
   },
   "file_extension": ".py",
   "mimetype": "text/x-python",
   "name": "python",
   "nbconvert_exporter": "python",
   "pygments_lexer": "ipython3",
   "version": "3.9.12"
  }
 },
 "nbformat": 4,
 "nbformat_minor": 2
}
