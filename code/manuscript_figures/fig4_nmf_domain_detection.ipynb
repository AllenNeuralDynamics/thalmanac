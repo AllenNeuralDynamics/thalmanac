{
 "cells": [
  {
   "cell_type": "code",
   "execution_count": 1,
   "metadata": {},
   "outputs": [],
   "source": [
    "%load_ext autoreload\n",
    "%autoreload 2"
   ]
  },
  {
   "cell_type": "code",
   "execution_count": 2,
   "metadata": {},
   "outputs": [],
   "source": [
    "import numpy as np\n",
    "import pandas as pd\n",
    "import anndata as ad\n",
    "\n",
    "import sys\n",
    "sys.path.append(\"/code/\")\n",
    "from thalamus_merfish_analysis import abc_load as abc\n",
    "from thalamus_merfish_analysis import ccf_images as cimg\n",
    "from thalamus_merfish_analysis import ccf_plots as cplots\n",
    "from thalamus_merfish_analysis import ccf_erode as cerd\n",
    "import thalamus_merfish_analysis.distance_metrics as dm\n",
    "\n",
    "from colorcet import glasbey\n",
    "\n",
    "import matplotlib.pyplot as plt\n",
    "from matplotlib import rcParams\n",
    "rcParams['pdf.fonttype'] = 42\n",
    "get_ipython().run_line_magic('matplotlib', 'inline') "
   ]
  },
  {
   "cell_type": "code",
   "execution_count": 3,
   "metadata": {},
   "outputs": [],
   "source": [
    "# if you reload thalamus_merfish_analysis.ccf_plots after this celzl has been run, \n",
    "# cplots.CCF_REGIONS_DEFAULT will be reset to None & you'll need to re-run this cell\n",
    "cplots.CCF_REGIONS_DEFAULT = abc.get_thalamus_names()"
   ]
  },
  {
   "cell_type": "markdown",
   "metadata": {},
   "source": [
    "# Figure 5 - Unsupervised clustering methods"
   ]
  },
  {
   "cell_type": "code",
   "execution_count": 4,
   "metadata": {},
   "outputs": [],
   "source": [
    "# same set of CCF regions we'll use for both NSF & SpaGCN similarity heatmaps\n",
    "regions_nsf_spagcn = [\n",
    "    \"AD\", \"AV\", \"AM\", \"IAD\", \"LD\", \"VPM\", \"VPL\", \"LGd\",\n",
    "    \"LGv\", # added in b/c it has a unique NSF pattern\n",
    "    \"MD\", \"CL\", \"CM\", \"IMD\", \"PO\", \"LP\", \"VAL\", \"VM\", \n",
    "    \"RE\", \"PF\", \"VPMpc\", \"PCN\", \"SPA\", \"PVT\", \"MH\", \"LH\", \n",
    "    \"RT\", \n",
    "    \"ZI\"  # added in b/c it has unique NSF patterns\n",
    "]"
   ]
  },
  {
   "cell_type": "code",
   "execution_count": 5,
   "metadata": {},
   "outputs": [],
   "source": [
    "# generate ccf_images & boundaries for the left hemisphere only\n",
    "ccf_images_left_hemi = abc.get_ccf_labels_image(resampled=True, realigned=False, subset_to_left_hemi=True)\n",
    "ccf_boundaries_left_hemi = cimg.sectionwise_label_erosion(ccf_images_left_hemi, distance_px=1, fill_val=0, return_edges=True)"
   ]
  },
  {
   "cell_type": "code",
   "execution_count": 6,
   "metadata": {},
   "outputs": [],
   "source": [
    "# set spatial column names to `_reconstructed` coordinate space\n",
    "coords = '_reconstructed'\n",
    "\n",
    "x_col = 'x'+coords\n",
    "y_col = 'y'+coords\n",
    "section_col = z_col = 'z'+coords\n",
    "\n",
    "# level at which to compare labels\n",
    "ccf_level = 'structure'"
   ]
  },
  {
   "cell_type": "markdown",
   "metadata": {},
   "source": [
    "## Fig 5A,B - SpaGCN domains in 3 example sections"
   ]
  },
  {
   "cell_type": "code",
   "execution_count": 7,
   "metadata": {},
   "outputs": [],
   "source": [
    "# load all cells in the brain\n",
    "obs = abc.get_combined_metadata(realigned=False)"
   ]
  },
  {
   "cell_type": "code",
   "execution_count": 8,
   "metadata": {},
   "outputs": [],
   "source": [
    "# load in SpaGCN domain results\n",
    "# temporarily a static file in '../code/resources' until I get a reproducible run setup for the spagcn capsule\n",
    "spagcn_domains_df = pd.read_parquet('/code/thalamus_merfish_analysis/resources/spagcn_predicated_domains.parquet')\n",
    "# need to convert to categories since they're imported as int64\n",
    "spagcn_domains_df = spagcn_domains_df.astype('category')\n",
    "\n",
    "# merge in & subset to just cells with SpaGCN domain predictions\n",
    "obs_spagcn = pd.merge(obs, spagcn_domains_df, on='cell_label', how='inner')\n",
    "\n",
    "# filter by thalamus coords to tighten up the image\n",
    "obs_spagcn = abc.filter_by_thalamus_coords(obs_spagcn)\n",
    "\n",
    "# erode the CCF structures\n",
    "obs_spagcn_erode, ccf_label = cerd.label_cells_by_eroded_ccf(obs_spagcn.copy(), ccf_images_left_hemi, ccf_level=ccf_level)"
   ]
  },
  {
   "cell_type": "markdown",
   "metadata": {},
   "source": [
    "### Fig5A - SpaGCN domains in 3 example sections"
   ]
  },
  {
   "cell_type": "code",
   "execution_count": 9,
   "metadata": {},
   "outputs": [],
   "source": [
    "resolution = 1.4\n",
    "res_str = str(resolution)\n",
    "predicted_col = f'res{res_str[0]}pt{res_str[-1]}'\n",
    "\n",
    "# make a color palette dict\n",
    "color_palette = dict(zip(obs_spagcn_erode[predicted_col].cat.categories, glasbey))\n",
    "\n",
    "# plot CCF overlaid on the SpaGCN domains\n",
    "fig_spagcn_overlay = cplots.plot_ccf_overlay(\n",
    "    obs_spagcn_erode,\n",
    "    ccf_images_left_hemi,\n",
    "    point_hue=predicted_col,\n",
    "    point_palette=color_palette,\n",
    "    min_group_count=0,\n",
    "    sections=cplots.TH_EXAMPLE_Z_SECTIONS,\n",
    "    separate_figs=False,\n",
    "    figsize=(9,3),\n",
    "    legend=\"cells\",\n",
    "    bg_cells=None,\n",
    "    section_col=section_col,\n",
    "    x_col=x_col,\n",
    "    y_col=y_col,\n",
    "    point_size=1,\n",
    "    # edge_color=\"black\",\n",
    "    boundary_img=ccf_boundaries_left_hemi,\n",
    "    custom_xy_lims=[2.5, 6, 7, 4],\n",
    ")\n",
    "fig_spagcn_overlay[0].savefig(f'../../results/spaGCN_domains_ccf_overlay_3sections_res{res_str}.pdf', \n",
    "            transparent=True, bbox_inches='tight')"
   ]
  },
  {
   "cell_type": "markdown",
   "metadata": {},
   "source": [
    "### Fig5B - SpaGCN domains vs CCF regions - similarity heatmap"
   ]
  },
  {
   "cell_type": "code",
   "execution_count": 10,
   "metadata": {},
   "outputs": [],
   "source": [
    "# ccf region order here is fairly arbitrary \n",
    "dist, y_names, x_names = dm.cluster_distances_from_labels(\n",
    "                            obs_spagcn_erode, \n",
    "                            y_col=ccf_label, \n",
    "                            x_col=predicted_col, \n",
    "                            y_names=regions_nsf_spagcn, \n",
    "                            x_names=sorted(obs_spagcn[predicted_col].unique()),\n",
    "                            metric='braycurtis')\n",
    "\n",
    "y_order, x_order = dm.order_distances_x_to_y(dist, \n",
    "                                             reorder_y=False,\n",
    "                                             min_similarity_x=0.1)\n",
    "\n",
    "fig_spagcn = dm.plot_ordered_similarity_heatmap(dist, \n",
    "                                         y_order=y_order, \n",
    "                                         x_order=x_order, \n",
    "                                         y_names=y_names, \n",
    "                                         x_names=x_names)\n",
    "\n",
    "fig_spagcn.set_size_inches(3.3,2.8)\n",
    "fig_spagcn.gca().invert_yaxis()\n",
    "plt.xlabel(\"SpaGCN domains\", rotation=180)\n",
    "\n",
    "fig_spagcn.savefig(f'../../results/spagcn_ccf_similarity_heatmap_fixed_order.pdf', \n",
    "                    transparent=True, bbox_inches='tight')"
   ]
  },
  {
   "cell_type": "markdown",
   "metadata": {},
   "source": [
    "## Fig 5C,D - NSF patterns"
   ]
  },
  {
   "cell_type": "code",
   "execution_count": 11,
   "metadata": {},
   "outputs": [],
   "source": [
    "# Load NSF anndata object\n",
    "adata = ad.read_zarr(\"/root/capsule/data/nsf_2000_adata/nsf_2000_adata.zarr\")\n",
    "adata.X = adata.X.toarray()\n",
    "adata.X = np.log2(1 + adata.X*1e6/np.sum(adata.X, axis=1, keepdims=True))\n",
    "\n",
    "# filter by thalamus coords to tighten up the image\n",
    "adata = abc.filter_by_thalamus_coords(adata)"
   ]
  },
  {
   "cell_type": "code",
   "execution_count": 12,
   "metadata": {},
   "outputs": [],
   "source": [
    "# NSF patterns are stored in the obs\n",
    "obs_nsf = adata.obs\n",
    "\n",
    "# erode the CCF structures\n",
    "obs_nsf_erode, ccf_label = cerd.label_cells_by_eroded_ccf(obs_nsf.copy(), ccf_images_left_hemi, ccf_level=ccf_level)"
   ]
  },
  {
   "cell_type": "code",
   "execution_count": 13,
   "metadata": {},
   "outputs": [],
   "source": [
    "nsf_cols = [f\"nsf{i}\" for i in range(30)]\n",
    "nsf_labels = range(30)"
   ]
  },
  {
   "cell_type": "markdown",
   "metadata": {},
   "source": [
    "### Fig5C - NSF patterns in 3 example sections"
   ]
  },
  {
   "cell_type": "code",
   "execution_count": 14,
   "metadata": {},
   "outputs": [],
   "source": [
    "# top patterns by # of cells\n",
    "# across all 3 example sections\n",
    "top_patterns_sections3 = obs_nsf.loc[obs_nsf[section_col].isin(cplots.TH_EXAMPLE_Z_SECTIONS), nsf_cols].max(axis=0).loc[lambda x: x>0.25].sort_values(ascending=False)\n",
    "\n",
    "# per section (informational only; not used for plotting)\n",
    "top_patterns_sec64 = obs_nsf.loc[obs_nsf[section_col]==cplots.TH_EXAMPLE_Z_SECTIONS[0], nsf_cols].max(axis=0).loc[lambda x: x>0.25].sort_values(ascending=False)\n",
    "top_patterns_sec72 = obs_nsf.loc[obs_nsf[section_col]==cplots.TH_EXAMPLE_Z_SECTIONS[1], nsf_cols].max(axis=0).loc[lambda x: x>0.25].sort_values(ascending=False)\n",
    "top_patterns_sec80 = obs_nsf.loc[obs_nsf[section_col]==cplots.TH_EXAMPLE_Z_SECTIONS[2], nsf_cols].max(axis=0).loc[lambda x: x>0.25].sort_values(ascending=False)"
   ]
  },
  {
   "cell_type": "code",
   "execution_count": 15,
   "metadata": {},
   "outputs": [],
   "source": [
    "from thalamus_merfish_analysis import color_utils as cu\n",
    "import seaborn as sns\n",
    "def plot_patterns_ccf(\n",
    "    obs,\n",
    "    pattern_cols,\n",
    "    section,\n",
    "    # ccf shapes & props\n",
    "    ccf_images=None,\n",
    "    boundary_img=None,\n",
    "    edge_color=\"grey\",\n",
    "    # column names\n",
    "    section_col=\"brain_section_label\",\n",
    "    x_col=\"x_section\",\n",
    "    y_col=\"y_section\",\n",
    "    # point props\n",
    "    pattern_palette=cu.glasbey,\n",
    "    point_size=2,\n",
    "    # formatting\n",
    "    legend=True,\n",
    "    figsize=(8, 4),\n",
    "    **scatterplot_args):\n",
    "    \n",
    "    df = obs.loc[obs[section_col]==section]\n",
    "    fig, ax = plt.subplots(figsize=figsize)\n",
    "    for i, col in enumerate(pattern_cols):\n",
    "        # allow palette to be either a dict or list\n",
    "        if isinstance(pattern_palette, dict):\n",
    "            color = pattern_palette[col]\n",
    "        elif isinstance(pattern_palette, list):\n",
    "            color = pattern_palette[i]\n",
    "        \n",
    "        # filter out cells where pattern=0 to minimize the number of points that\n",
    "        # need to be plotted (each pattern is just layered on top of the previous ones)\n",
    "        df_filtered = df.loc[df[col]>0].copy()\n",
    "\n",
    "        # convert color to RGBA & scale Alpha by current pattern's value\n",
    "        colors_rgba = (np.array(cu.to_rgba(color))[None,:] * \n",
    "                      (np.array([1,1,1,0]) + \n",
    "                       (np.array([0,0,0,1])*df_filtered[col].values[:,None])\n",
    "                       )\n",
    "                      )\n",
    "        # add this pattern to the scatterplot \n",
    "        sns.scatterplot(df, \n",
    "                        c=colors_rgba, \n",
    "                        linewidth=0,\n",
    "                        ax=ax, \n",
    "                        x=x_col,\n",
    "                        y=y_col,\n",
    "                        s=point_size, \n",
    "                        legend=False, **scatterplot_args)\n",
    "        # plot empty scatter plot to create legend\n",
    "        ax.scatter([], [], c=color, label=pattern_cols[i])\n",
    "    \n",
    "    # generate global legend for all patterns\n",
    "    if legend:\n",
    "        ax.legend(loc='center left', bbox_to_anchor=(1, 0.5))\n",
    "    \n",
    "    cplots.plot_ccf_section(ccf_images, section, \n",
    "                    face_palette=None,\n",
    "                    boundary_img=boundary_img, \n",
    "                    legend=False, ax=ax)\n",
    "    return fig"
   ]
  },
  {
   "cell_type": "code",
   "execution_count": 16,
   "metadata": {},
   "outputs": [],
   "source": [
    "# reset to only plot thalamus structures\n",
    "cplots.CCF_REGIONS_DEFAULT = abc.get_thalamus_names()\n",
    "\n",
    "# save as pngs to save space\n",
    "for sec in cplots.TH_EXAMPLE_Z_SECTIONS:\n",
    "    fig = plot_patterns_ccf(\n",
    "                                obs_nsf,\n",
    "                                top_patterns_sections3.index[:15],\n",
    "                                sec,\n",
    "                                ccf_images=ccf_images_left_hemi,\n",
    "                                boundary_img=ccf_boundaries_left_hemi,\n",
    "                                section_col=section_col,\n",
    "                                x_col=x_col,   \n",
    "                                y_col=y_col,\n",
    "                                point_size=1,\n",
    "                                legend=False,\n",
    "                                figsize=(3.5,3),\n",
    "                                )\n",
    "    fig.savefig(f\"/results/nsf_top15_patterns_overlay_sec{int(sec*10)}.png\", \n",
    "                transparent=True, bbox_inches='tight', dpi=1200)\n",
    "    \n",
    "# make one pdf figure to have a vector graphic of the legend\n",
    "fig_pdf = plot_patterns_ccf(\n",
    "                                obs_nsf,\n",
    "                                top_patterns_sections3.index[:15],\n",
    "                                sec,\n",
    "                                ccf_images=ccf_images_left_hemi,\n",
    "                                boundary_img=ccf_boundaries_left_hemi,\n",
    "                                section_col=section_col,\n",
    "                                x_col=x_col,   \n",
    "                                y_col=y_col,\n",
    "                                point_size=3,\n",
    "                                legend=True,\n",
    "                                # figsize=(3.5,3),\n",
    "                                )\n",
    "fig_pdf.savefig(f\"/results/nsf_top15_patterns_overlay_sec{int(sec*10)}.pdf\", \n",
    "                    transparent=True, bbox_inches='tight')"
   ]
  },
  {
   "cell_type": "code",
   "execution_count": 17,
   "metadata": {},
   "outputs": [],
   "source": [
    "# reset to only plot thalamus structures\n",
    "cplots.CCF_REGIONS_DEFAULT = abc.get_thalamus_names()\n",
    "\n",
    "# patterns to plot\n",
    "patterns = top_patterns_sections3.index[:15] #.sort_values()\n",
    "\n",
    "kwargs = dict(\n",
    "            ccf_images=ccf_images_left_hemi,\n",
    "            boundary_img=ccf_boundaries_left_hemi,\n",
    "            section_col=section_col,\n",
    "            x_col=x_col,   \n",
    "            y_col=y_col,\n",
    "            normalize_by=\"all\",\n",
    "            dark_background=False,\n",
    ")\n",
    "\n",
    "# save as pngs to save space\n",
    "for sec in cplots.TH_EXAMPLE_Z_SECTIONS:\n",
    "    fig = cplots.plot_multichannel_overlay(\n",
    "                    obs_nsf,\n",
    "                    patterns,\n",
    "                    sec,\n",
    "                    colors=glasbey,\n",
    "                    point_size=0.1,\n",
    "                    legend=False,\n",
    "                    figsize=(3.5,3),\n",
    "                    **kwargs,\n",
    "                    )\n",
    "    fig.savefig(f\"/results/nsf_top15_patterns_overlay_sec{int(sec*10)}.png\", \n",
    "                transparent=True, bbox_inches='tight', dpi=1200)\n",
    "    \n",
    "# make one pdf figure to have a vector graphic of the legend\n",
    "fig = cplots.plot_multichannel_overlay(\n",
    "                    obs_nsf,\n",
    "                    patterns,\n",
    "                    sec,\n",
    "                    colors=glasbey,\n",
    "                    point_size=3,\n",
    "                    legend=True,\n",
    "                    # figsize=(3.5,3),\n",
    "                    **kwargs,\n",
    "                    )\n",
    "fig_pdf.savefig(f\"/results/nsf_top15_patterns_overlay_sec{int(sec*10)}.pdf\", \n",
    "                    transparent=True, bbox_inches='tight')"
   ]
  },
  {
   "cell_type": "markdown",
   "metadata": {},
   "source": [
    "### Fig5D - NSF patterns vs gene expression"
   ]
  },
  {
   "cell_type": "code",
   "execution_count": 18,
   "metadata": {},
   "outputs": [],
   "source": [
    "kwargs = dict(\n",
    "    section_col=section_col,\n",
    "    x_col = x_col,\n",
    "    y_col = y_col,\n",
    "    custom_xy_lims=cplots.XY_LIMS_TH_LEFT_HEMI,\n",
    "    point_size=1,\n",
    "    boundary_img=ccf_boundaries_left_hemi,\n",
    ")\n",
    "\n",
    "# reset to only plot thalamus structures\n",
    "cplots.CCF_REGIONS_DEFAULT = abc.get_thalamus_names()"
   ]
  },
  {
   "cell_type": "code",
   "execution_count": 19,
   "metadata": {},
   "outputs": [],
   "source": [
    "n = 0\n",
    "\n",
    "fig_nsf0 = cplots.plot_ccf_overlay(\n",
    "        obs_nsf, \n",
    "        ccf_images_left_hemi, \n",
    "        categorical=False,\n",
    "        point_hue=f'nsf{n}', \n",
    "        sections=cplots.TH_EXAMPLE_Z_SECTIONS,\n",
    "        point_palette='Greens', \n",
    "        legend=None,\n",
    "        separate_figs=False,\n",
    "        figsize=(5,2),\n",
    "        **kwargs)\n",
    "fig_nsf0[0].savefig(f'/results/nsf_n{n}_ccf_overlay_3sections.png',\n",
    "                transparent=True, bbox_inches='tight', dpi=1200)"
   ]
  },
  {
   "cell_type": "code",
   "execution_count": null,
   "metadata": {},
   "outputs": [],
   "source": [
    "n = 7\n",
    "\n",
    "fig_nsf0 = cplots.plot_ccf_overlay(\n",
    "        obs_nsf, \n",
    "        ccf_images_left_hemi, \n",
    "        categorical=False,\n",
    "        point_hue=f'nsf{n}', \n",
    "        sections=cplots.TH_EXAMPLE_Z_SECTIONS,\n",
    "        point_palette='Greens', \n",
    "        legend=None,\n",
    "        separate_figs=False,\n",
    "        figsize=(5,2),\n",
    "        **kwargs)\n",
    "fig_nsf0[0].savefig(f'/results/nsf_n{n}_ccf_overlay_3sections.png',\n",
    "                transparent=True, bbox_inches='tight', dpi=1200)"
   ]
  },
  {
   "cell_type": "markdown",
   "metadata": {},
   "source": [
    "### Fig5E - NSF patterns vs CCF regions - similarity heatmap"
   ]
  },
  {
   "cell_type": "code",
   "execution_count": null,
   "metadata": {},
   "outputs": [],
   "source": [
    "# order here is following thalamoseq fig 1\n",
    "dist, y_names, x_names = dm.cluster_distances_from_labels(\n",
    "                            obs_nsf_erode, \n",
    "                            y_col=ccf_label, \n",
    "                            x_col=nsf_cols, \n",
    "                            y_names=regions_nsf_spagcn, \n",
    "                            x_names=nsf_labels,\n",
    "                            metric='braycurtis'\n",
    "                            )\n",
    "\n",
    "y_order, x_order = dm.order_distances_x_to_y(dist, \n",
    "                                          reorder_y=False, \n",
    "                                          min_similarity_x=0.1)\n",
    "\n",
    "# plt.figure(figsize=(6,6))\n",
    "plt.rcParams.update({'font.size': 7})\n",
    "fig_nsf_sim = dm.plot_ordered_similarity_heatmap(\n",
    "    dist, \n",
    "    label=\"similarity (Bray-Curtis)\",\n",
    "    y_order=y_order, \n",
    "    x_order=x_order, \n",
    "    y_names=y_names, \n",
    "    x_names=x_names,\n",
    ")\n",
    "fig_nsf_sim.set_size_inches(3.0,2.8)\n",
    "fig_nsf_sim.gca().invert_yaxis()\n",
    "plt.xlabel(\"NSF pattern\", rotation=180)\n",
    "plt.savefig(\"/results/nsf_ccf_similarity_heatmap_ccf_order.pdf\", transparent=True)"
   ]
  }
 ],
 "metadata": {
  "kernelspec": {
   "display_name": "base",
   "language": "python",
   "name": "python3"
  },
  "language_info": {
   "codemirror_mode": {
    "name": "ipython",
    "version": 3
   },
   "file_extension": ".py",
   "mimetype": "text/x-python",
   "name": "python",
   "nbconvert_exporter": "python",
   "pygments_lexer": "ipython3",
   "version": "3.9.12"
  }
 },
 "nbformat": 4,
 "nbformat_minor": 2
}
