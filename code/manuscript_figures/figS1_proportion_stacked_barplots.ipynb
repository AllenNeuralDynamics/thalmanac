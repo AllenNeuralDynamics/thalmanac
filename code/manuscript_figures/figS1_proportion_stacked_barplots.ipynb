{
 "cells": [
  {
   "cell_type": "markdown",
   "metadata": {},
   "source": [
    "# Figure S1: Cluster proportions stacked barplots"
   ]
  },
  {
   "cell_type": "code",
   "execution_count": 1,
   "metadata": {},
   "outputs": [],
   "source": [
    "import numpy as np\n",
    "import pandas as pd\n",
    "import anndata as ad\n",
    "import seaborn as sns\n",
    "\n",
    "import sys\n",
    "sys.path.append(\"/code/\")\n",
    "from thalamus_merfish_analysis import abc_load as abc\n",
    "from thalamus_merfish_analysis import ccf_erode as cerd\n",
    "from thalamus_merfish_analysis import diversity_metrics as divmet\n",
    "from thalamus_merfish_analysis import diversity_plots as dplot\n",
    "\n",
    "from matplotlib import rcParams\n",
    "# set to Illustrator-compatible font type\n",
    "rcParams['pdf.fonttype'] = 42\n",
    "# set font size for plots to AIND minimal size\n",
    "rcParams['font.size'] = 7\n",
    "\n",
    "import matplotlib.pyplot as plt\n",
    "get_ipython().run_line_magic('matplotlib', 'inline') "
   ]
  },
  {
   "cell_type": "markdown",
   "metadata": {},
   "source": [
    "## Load data"
   ]
  },
  {
   "cell_type": "code",
   "execution_count": 2,
   "metadata": {},
   "outputs": [],
   "source": [
    "# Load cell metadata\n",
    "obs_th = abc.load_standard_thalamus(data_structure='obs')"
   ]
  },
  {
   "cell_type": "code",
   "execution_count": 4,
   "metadata": {},
   "outputs": [],
   "source": [
    "# Load the CCF structures image\n",
    "ccf_images = abc.get_ccf_labels_image()\n",
    "\n",
    "# erode ccf structures to correct for boundary effects\n",
    "obs_erode = cerd.label_cells_by_eroded_ccf(obs_th, ccf_images) # default is erosion by 5px (5um)\n",
    "\n",
    "# There is poor alignment in section 6.6 between PF celltypes and the PF CCF structure\n",
    "# So, we'll set all cells in section 6.6 to 'unassigned' CCF structure\n",
    "obs_erode.loc[lambda df: df['z_section']==6.6, cerd.ERODED_CCF_STRUCTURE_COL] = 'unassigned'\n",
    "\n",
    "# generate metrics for the eroded CCF structure\n",
    "ccf_label='parcellation_structure_eroded'\n",
    "th_ccf_metrics = divmet.calculate_diversity_metrics(obs_erode, ccf_label=ccf_label)\n",
    "\n",
    "# regions_to_plot = dplot.TH_DIVERSITY_REGIONS"
   ]
  },
  {
   "cell_type": "markdown",
   "metadata": {},
   "source": [
    "## Set figure saving behavior"
   ]
  },
  {
   "cell_type": "code",
   "execution_count": 5,
   "metadata": {},
   "outputs": [],
   "source": [
    "results_dir = '../../results'"
   ]
  },
  {
   "cell_type": "markdown",
   "metadata": {},
   "source": [
    "## Plots"
   ]
  },
  {
   "cell_type": "code",
   "execution_count": 6,
   "metadata": {},
   "outputs": [],
   "source": [
    "# Rank thalamic nuclei by their diversity, as measured by the inverse simpson's index (ISI)\n",
    "# We'll use this to set the order of the y-axis for all 3 taxonomy levels\n",
    "taxonomy_level = 'cluster'\n",
    "metrics_to_sort_by = th_ccf_metrics.loc[dplot.TH_DIVERSITY_REGIONS,:]\n",
    "isi_sorted_metrics = metrics_to_sort_by.sort_values(\n",
    "                                by=[f'inverse_simpsons_{taxonomy_level}'], \n",
    "                                ascending=True\n",
    "                                )\n",
    "isi_sorted_regions = isi_sorted_metrics.index\n",
    "\n",
    "# plot \n",
    "fig_isi_rank, ax = plt.subplots()\n",
    "# log transforming just to make the colormap more divergent\n",
    "sns.heatmap(np.log([isi_sorted_metrics[f'inverse_simpsons_{taxonomy_level}'].values]),\n",
    "            square=True, cmap='PuBuGn',#'YlGnBu',\n",
    "            xticklabels=isi_sorted_regions,\n",
    "            ax=ax)\n",
    "\n",
    "fig_isi_rank.savefig(f'{results_dir}/figS1_diversity_rank_1Dheatmap_isi_nuclei_vs_cluster.pdf', \n",
    "                     transparent=True, bbox_inches='tight')"
   ]
  },
  {
   "cell_type": "code",
   "execution_count": 7,
   "metadata": {},
   "outputs": [],
   "source": [
    "# cluster proportions\n",
    "taxonomy_level = 'cluster'\n",
    "fig_bp_cluster = dplot.barplot_stacked_proportions(\n",
    "    obs_erode, \n",
    "    taxonomy_level, \n",
    "    th_ccf_metrics, \n",
    "    legend=False, \n",
    "    min_cell_frac=0.01,  # lump subclasses that are <=1% of cells in that region into \"other\" category \n",
    "                        # also considered: min_cell_frac=0.05 \n",
    "    ordered_regions=isi_sorted_regions,\n",
    "    orientation='horizontal',\n",
    ")\n",
    "fig_bp_cluster.set_size_inches(2.25,3.8)\n",
    "fig_bp_cluster.gca().tick_params(length=0.02*72)\n",
    "\n",
    "ax_cluster = fig_bp_cluster.gca()\n",
    "xticklabels_cluster = [x.get_text() for x in ax_cluster.get_xticklabels()]\n",
    "\n",
    "fig_bp_cluster.savefig(f'{results_dir}/figS1_nuclei_diversity_barplot_ordered-isi-cluster_{taxonomy_level}.pdf', \n",
    "                       transparent=True, bbox_inches='tight')"
   ]
  },
  {
   "cell_type": "code",
   "execution_count": 8,
   "metadata": {},
   "outputs": [],
   "source": [
    "# supertype proportions\n",
    "taxonomy_level = 'supertype'\n",
    "fig_bp_supertype = dplot.barplot_stacked_proportions(\n",
    "    obs_erode, \n",
    "    taxonomy_level, \n",
    "    th_ccf_metrics, \n",
    "    legend=False, \n",
    "    min_cell_frac=0.01, # lump subclasses that are <=1% of cells in that region into \"other\" category \n",
    "                        # also considered: min_cell_frac=0.05 \n",
    "    ordered_regions=isi_sorted_regions,\n",
    "    orientation='horizontal',\n",
    ")\n",
    "fig_bp_supertype.set_size_inches(2.25,3.8)\n",
    "fig_bp_supertype.gca().tick_params(length=0.02*72)\n",
    "\n",
    "# alternative: order the CCF regions for subclass & cluster plots using the \n",
    "# order of regions from sorting by supertype diversity\n",
    "ax_supertype = fig_bp_supertype.gca()\n",
    "xticklabels_supertype = [x.get_text() for x in ax_supertype.get_xticklabels()]\n",
    "\n",
    "fig_bp_supertype.savefig(f'{results_dir}/figS1_nuclei_diversity_barplot_ordered-isi-cluster_{taxonomy_level}.pdf', \n",
    "                         transparent=True, bbox_inches='tight')"
   ]
  },
  {
   "cell_type": "code",
   "execution_count": 9,
   "metadata": {},
   "outputs": [],
   "source": [
    "# subclass proportions\n",
    "taxonomy_level = 'subclass'\n",
    "fig_bp_subclass = dplot.barplot_stacked_proportions(\n",
    "    obs_erode, \n",
    "    taxonomy_level, \n",
    "    th_ccf_metrics, \n",
    "    legend=False, \n",
    "    min_cell_frac=0.01,  # lump subclasses that are <=1% of cells in that region into \"other\" category \n",
    "                        # also considered: min_cell_frac=0.05 \n",
    "    ordered_regions=isi_sorted_regions,\n",
    "    orientation='horizontal',\n",
    ")\n",
    "fig_bp_subclass.set_size_inches(2.25,3.8)\n",
    "fig_bp_subclass.gca().tick_params(length=0.02*72)\n",
    "\n",
    "ax_subclass = fig_bp_subclass.gca()\n",
    "xticklabels_subclass = [x.get_text() for x in ax_subclass.get_xticklabels()]\n",
    "\n",
    "fig_bp_subclass.savefig(f'{results_dir}/figS1_nuclei_diversity_barplot_ordered-isi-cluster_{taxonomy_level}.pdf', \n",
    "                        transparent=True, bbox_inches='tight')"
   ]
  }
 ],
 "metadata": {
  "kernelspec": {
   "display_name": "base",
   "language": "python",
   "name": "python3"
  },
  "language_info": {
   "codemirror_mode": {
    "name": "ipython",
    "version": 3
   },
   "file_extension": ".py",
   "mimetype": "text/x-python",
   "name": "python",
   "nbconvert_exporter": "python",
   "pygments_lexer": "ipython3",
   "version": "3.9.12"
  }
 },
 "nbformat": 4,
 "nbformat_minor": 2
}
