{
 "cells": [
  {
   "cell_type": "markdown",
   "metadata": {},
   "source": [
    "# Figure 3 | Differentially expressed genes distinguish adjacent cell types in the anterior thalamic nuclei."
   ]
  },
  {
   "cell_type": "code",
   "execution_count": 1,
   "metadata": {},
   "outputs": [],
   "source": [
    "%load_ext autoreload\n",
    "%autoreload 2"
   ]
  },
  {
   "cell_type": "code",
   "execution_count": 2,
   "metadata": {},
   "outputs": [],
   "source": [
    "import numpy as np\n",
    "import pandas as pd\n",
    "import scanpy as sc\n",
    "\n",
    "import sys\n",
    "sys.path.append('/code/')\n",
    "from thalamus_merfish_analysis import abc_load as abc\n",
    "from thalamus_merfish_analysis import ccf_images as cimg\n",
    "from thalamus_merfish_analysis import ccf_erode as cerode\n",
    "from thalamus_merfish_analysis import ccf_plots as cplots\n",
    "\n",
    "import warnings\n",
    "warnings.simplefilter(action='ignore', category=FutureWarning)\n",
    "\n",
    "from matplotlib import rcParams\n",
    "rcParams['ps.fonttype'] = 42\n",
    "rcParams['pdf.fonttype'] = 42\n",
    "rcParams['font.size'] = 7\n",
    "\n",
    "import colorcet as cc\n",
    "\n",
    "import matplotlib.pyplot as plt\n",
    "get_ipython().run_line_magic('matplotlib', 'inline') "
   ]
  },
  {
   "cell_type": "code",
   "execution_count": 3,
   "metadata": {},
   "outputs": [],
   "source": [
    "results_dir = '../../results'"
   ]
  },
  {
   "cell_type": "markdown",
   "metadata": {},
   "source": [
    "## Load thalamus data"
   ]
  },
  {
   "cell_type": "code",
   "execution_count": 4,
   "metadata": {},
   "outputs": [],
   "source": [
    "# Load the full thalamus anndata object\n",
    "adata_th = abc.load_standard_thalamus(data_structure='adata')\n",
    "\n",
    "# Subset to just the left hemisphere\n",
    "adata_th_left = adata_th[adata_th.obs['left_hemisphere']].copy()"
   ]
  },
  {
   "cell_type": "code",
   "execution_count": 5,
   "metadata": {},
   "outputs": [],
   "source": [
    "# set spatial column names to `_reconstructed` coordinate space\n",
    "coords = '_reconstructed'\n",
    "\n",
    "x_col = 'x'+coords\n",
    "y_col = 'y'+coords\n",
    "section_col = z_col = 'z'+coords"
   ]
  },
  {
   "cell_type": "code",
   "execution_count": 6,
   "metadata": {},
   "outputs": [],
   "source": [
    "# Load the CCF structures image\n",
    "ccf_images = abc.get_ccf_labels_image()\n",
    "\n",
    "# Merge substructures into structures (esp. AMd + AMv -> AM; LGd-co + LGd-ip + LGd-sh -> LG)\n",
    "ccf_images = cerode.merge_substructures(ccf_images, ccf_level='structure')\n",
    "\n",
    "# Precompute boundaries to use multiple times in this notebook w/o need to recompute\n",
    "# we only need to load the boundaries for sections that contain the thalamus\n",
    "sections_all = sorted(adata_th.obs[section_col].unique())\n",
    "sections_int = np.rint(np.array(sections_all)/0.2).astype(int)\n",
    "\n",
    "# precompute boundaries for thalamic sections\n",
    "ccf_boundaries = cimg.sectionwise_label_erosion(ccf_images, distance_px=1, \n",
    "                                                fill_val=0, return_edges=True, \n",
    "                                                section_list=sections_int\n",
    "                                                )"
   ]
  },
  {
   "cell_type": "code",
   "execution_count": 7,
   "metadata": {},
   "outputs": [],
   "source": [
    "# Load the CCF structures image - just the left hemisphere\n",
    "ccf_images_left = abc.get_ccf_labels_image(subset_to_left_hemi=True)\n",
    "\n",
    "# Merge substructures into structures (esp. AMd + AMv -> AM; LGd-co + LGd-ip + LGd-sh -> LG)\n",
    "ccf_images_left = cerode.merge_substructures(ccf_images_left, ccf_level='structure')\n",
    "\n",
    "# Precompute boundaries to use multiple times in this notebook w/o need to recompute\n",
    "# we only need to load the boundaries for sections that contain the thalamus\n",
    "sections_all = sorted(adata_th_left.obs[section_col].unique())\n",
    "sections_int = np.rint(np.array(sections_all)/0.2).astype(int)\n",
    "\n",
    "# precompute boundaries for thalamic sections\n",
    "ccf_boundaries_left = cimg.sectionwise_label_erosion(ccf_images_left, distance_px=1, \n",
    "                                                fill_val=0, return_edges=True, \n",
    "                                                section_list=sections_int\n",
    "                                                )"
   ]
  },
  {
   "cell_type": "code",
   "execution_count": 8,
   "metadata": {},
   "outputs": [],
   "source": [
    "# if you reload thalamus_merfish_analysis.ccf_plots after this cell has been run, \n",
    "# cplots.CCF_REGIONS_DEFAULT will be reset to None & you'll need to re-run this cell\n",
    "cplots.CCF_REGIONS_DEFAULT = abc.get_thalamus_names()"
   ]
  },
  {
   "cell_type": "code",
   "execution_count": 9,
   "metadata": {},
   "outputs": [],
   "source": [
    "# load the published color palettes for the ABC Atlas taxonomy\n",
    "abc_palettes = {level: abc.get_taxonomy_palette(level) for level in \n",
    "                ['neurotransmitter','class', 'subclass','supertype','cluster']}\n",
    "\n",
    "# We have also provided a secondary color palette for the cluster level that \n",
    "# attempts to increase the color contrast between spatially negihboring clusters\n",
    "# TODO: once released as package, this won't be accessible through a hardcode\n",
    "palette_df = pd.read_csv('/code/thalamus_merfish_analysis/resources/cluster_palette_glasbey.csv')\n",
    "abc_palettes['cluster'] = dict(zip(palette_df['Unnamed: 0'], palette_df['0']))"
   ]
  },
  {
   "cell_type": "markdown",
   "metadata": {},
   "source": [
    "## Load data for just the Somatosensory cells"
   ]
  },
  {
   "cell_type": "code",
   "execution_count": 10,
   "metadata": {},
   "outputs": [],
   "source": [
    "# get the cluster annotations for the somatosensory nuclei\n",
    "nuclei_somatosensory = ['PO', 'VPM', 'VPL']\n",
    "obs_annot = abc.get_obs_from_annotations(nuclei_somatosensory, \n",
    "                                         adata_th.obs, \n",
    "                                         taxonomy_level='cluster',\n",
    "                                         include_shared_clusters=True)\n",
    "\n",
    "# use the list of ATN-specific clusters from obs_annot to filter & reset the \n",
    "# cluster col in the full anndata object\n",
    "obs_annot.loc[:,'cluster'] = obs_annot.loc[:,'cluster'].cat.remove_unused_categories()\n",
    "cluster_list_annot = sorted(obs_annot['cluster'].cat.categories)\n",
    "# ATN-subset of the full anndata object\n",
    "adata_annot = adata_th[adata_th.obs['cluster'].isin(cluster_list_annot)].copy()\n",
    "# reset both cluster and supertype categories\n",
    "for level in ['supertype','cluster']:\n",
    "    adata_annot.obs.loc[:,level] = adata_annot.obs.loc[:,level].cat.remove_unused_categories()\n",
    "    \n",
    "# adata_annot.obs.loc[:,'cluster'] = adata_annot.obs.loc[:,'cluster'].cat.reorder_categories(cluster_list_annot, ordered=True)"
   ]
  },
  {
   "cell_type": "code",
   "execution_count": 11,
   "metadata": {},
   "outputs": [],
   "source": [
    "sections_somatosensory = [6.2, 6.4, 6.6, 6.8, 7.0, 7.2, 7.6]"
   ]
  },
  {
   "cell_type": "markdown",
   "metadata": {},
   "source": [
    "## Fig. X? | Somatosensory subclasses"
   ]
  },
  {
   "cell_type": "code",
   "execution_count": 12,
   "metadata": {},
   "outputs": [],
   "source": [
    "# set kwargs fpr annotated cluster plots\n",
    "kwargs_cluster_annotations = dict(\n",
    "    section_col=z_col,\n",
    "    x_col=x_col,\n",
    "    y_col=y_col,\n",
    "    point_size=0.5,\n",
    "    figsize=(4, 2),\n",
    "    face_palette=None,\n",
    "    edge_color='silver'\n",
    "    )\n",
    "\n",
    "# get the cluster annotations for the nucleus of interest\n",
    "nucleus = nuclei_somatosensory\n",
    "sections_to_plot = sections_somatosensory\n",
    "nuclei_highlight = nuclei_somatosensory\n",
    "taxonomy_level = 'subclass'\n",
    "obs_annot = abc.get_obs_from_annotations(nucleus, \n",
    "                                         adata_th.obs, \n",
    "                                         taxonomy_level=taxonomy_level,\n",
    "                                         include_shared_clusters=True)\n",
    "\n",
    "plt.rcParams.update({'font.size': 7})\n",
    "figs_annot = cplots.plot_ccf_overlay(obs_annot, \n",
    "                                    ccf_images,\n",
    "                                    boundary_img=ccf_boundaries,\n",
    "                                    bg_cells=adata_th.obs, \n",
    "                                    ccf_highlight=nuclei_highlight,\n",
    "                                    point_hue=taxonomy_level, \n",
    "                                    sections=sections_to_plot,\n",
    "                                    point_palette=abc_palettes[taxonomy_level],\n",
    "                                    legend='cells',\n",
    "                                    **kwargs_cluster_annotations)\n",
    "\n",
    "for i, sec in enumerate(sections_to_plot):\n",
    "    figs_annot[i].savefig(f'{results_dir}/figX_{taxonomy_level}_annotations_z{sec}_somatosensory.pdf', \n",
    "                          transparent=True, bbox_inches='tight')\n",
    "    figs_annot[i].savefig(f'{results_dir}/figX_{taxonomy_level}_annotations_z{sec}_somatosensory.png', \n",
    "                          transparent=True, bbox_inches='tight', dpi=1200)"
   ]
  },
  {
   "cell_type": "markdown",
   "metadata": {},
   "source": [
    "## Fig. X? | Somatosensory supertypes"
   ]
  },
  {
   "cell_type": "code",
   "execution_count": 13,
   "metadata": {},
   "outputs": [],
   "source": [
    "# set kwargs fpr annotated cluster plots\n",
    "kwargs_cluster_annotations = dict(\n",
    "    section_col=z_col,\n",
    "    x_col=x_col,\n",
    "    y_col=y_col,\n",
    "    point_size=0.5,\n",
    "    figsize=(4, 2),\n",
    "    face_palette=None,\n",
    "    edge_color='silver'\n",
    "    )\n",
    "\n",
    "# get the cluster annotations for the nucleus of interest\n",
    "nucleus = nuclei_somatosensory\n",
    "sections_to_plot = sections_somatosensory\n",
    "nuclei_highlight = nuclei_somatosensory\n",
    "taxonomy_level = 'supertype'\n",
    "obs_annot = abc.get_obs_from_annotations(nucleus, \n",
    "                                         adata_th.obs, \n",
    "                                         taxonomy_level=taxonomy_level,\n",
    "                                         include_shared_clusters=True)\n",
    "\n",
    "plt.rcParams.update({'font.size': 7})\n",
    "figs_annot = cplots.plot_ccf_overlay(obs_annot, \n",
    "                                    ccf_images,\n",
    "                                    boundary_img=ccf_boundaries,\n",
    "                                    bg_cells=adata_th.obs, \n",
    "                                    ccf_highlight=nuclei_highlight,\n",
    "                                    point_hue=taxonomy_level, \n",
    "                                    sections=sections_to_plot,\n",
    "                                    point_palette=abc_palettes[taxonomy_level],\n",
    "                                    legend='cells',\n",
    "                                    **kwargs_cluster_annotations)\n",
    "for i, sec in enumerate(sections_to_plot):\n",
    "    figs_annot[i].savefig(f'{results_dir}/figX_supertype_annotations_z{sec}_somatosensory.pdf', \n",
    "                          transparent=True, bbox_inches='tight')\n",
    "    figs_annot[i].savefig(f'{results_dir}/figX_supertype_annotations_z{sec}_somatosensory.png', \n",
    "                          transparent=True, bbox_inches='tight', dpi=1200)"
   ]
  },
  {
   "cell_type": "markdown",
   "metadata": {},
   "source": [
    "## Fig. 3C | Dotplot of differentially expressed genes (DEGs) in the 3 ATN supertypes"
   ]
  },
  {
   "cell_type": "markdown",
   "metadata": {},
   "source": [
    "### Fig. S2 | Exploratory DEG dotplot (5 genes per supertype)"
   ]
  },
  {
   "cell_type": "code",
   "execution_count": 14,
   "metadata": {},
   "outputs": [],
   "source": [
    "supertypes_annot_all = adata_annot.obs['supertype'].cat.categories\n",
    "display(supertypes_annot_all.to_list())"
   ]
  },
  {
   "cell_type": "code",
   "execution_count": 15,
   "metadata": {},
   "outputs": [],
   "source": [
    "supertypes_annot = [\n",
    "    '0654 TH Prkcd Grin2c Glut_1', \n",
    "    '0659 TH Prkcd Grin2c Glut_6',\n",
    "]"
   ]
  },
  {
   "cell_type": "code",
   "execution_count": 16,
   "metadata": {},
   "outputs": [],
   "source": [
    "deg_list_somatosensory_st = []\n",
    "\n",
    "for st in supertypes_annot:\n",
    "  print(st)\n",
    "  sc.tl.rank_genes_groups(adata_annot, groupby=\"supertype\", groups=[st],\n",
    "                          reference='rest', n_genes=5, method=\"wilcoxon\")\n",
    "  deg_list_somatosensory_st.extend(sc.get.rank_genes_groups_df(adata_annot, group=st).names.to_list())\n",
    "\n",
    "print(deg_list_somatosensory_st)\n",
    "\n",
    "# manually set gene group labels for dotplot\n",
    "var_group_positions_st = [\n",
    "  [0,4], \n",
    "  [5,9], \n",
    "]\n",
    "var_group_labels_st = [\n",
    "  'Somatosensory supertype 654\\nvs rest', \n",
    "  'Posterior PO supertype 659\\nvs rest',\n",
    "]\n",
    "# dotplot\n",
    "dotplot_st_explore = sc.pl.dotplot(adata_annot,\n",
    "                                  deg_list_somatosensory_st,\n",
    "                                #   sorted(list(set(deg_list_ATN))), \n",
    "                                  groupby='supertype', \n",
    "                                  dendrogram=False,\n",
    "                                  cmap='Blues',\n",
    "                                  var_group_positions=var_group_positions_st,\n",
    "                                  var_group_labels=var_group_labels_st,\n",
    "                                  var_group_rotation=0)"
   ]
  },
  {
   "cell_type": "code",
   "execution_count": 17,
   "metadata": {},
   "outputs": [],
   "source": [
    "deg_list_somatosensory_st_manual = [\n",
    "    'Gpr4',\n",
    "    'St6galnac5',\n",
    "    'Tnc',\n",
    "]"
   ]
  },
  {
   "cell_type": "markdown",
   "metadata": {},
   "source": [
    "## Fig. 3B | Gene expression of supertype DEGs in the ATN"
   ]
  },
  {
   "cell_type": "code",
   "execution_count": 18,
   "metadata": {},
   "outputs": [],
   "source": [
    "# show outlines for all the ATN\n",
    "nuclei_to_highlight = nuclei_somatosensory\n",
    "sections_to_plot = sections_somatosensory\n",
    "\n",
    "kwargs_ATN_expr = dict(\n",
    "    boundary_img=ccf_boundaries_left,\n",
    "    section_col=section_col,\n",
    "    x_col=x_col,\n",
    "    y_col=y_col,\n",
    "    cmap='Blues',\n",
    "    # cb_vmin_vmax=(0,7),\n",
    "    point_size=1.5,\n",
    "    edge_color='silver',\n",
    "    edgecolors='silver',\n",
    "    linewidths=0.1,\n",
    "    # figsize=(1.8,1.8),\n",
    "    figsize=(8,8),\n",
    "    )\n",
    "\n",
    "# AD DEGs\n",
    "for gene in deg_list_somatosensory_st_manual:\n",
    "    fig = cplots.plot_expression_ccf(adata_th_left, \n",
    "                               gene, \n",
    "                               ccf_images_left,\n",
    "                               sections=sections_to_plot,\n",
    "                               highlight=nuclei_to_highlight,\n",
    "                            #    zoom_to_highlighted=True,\n",
    "                               **kwargs_ATN_expr)\n",
    "    fig[0].savefig(f'{results_dir}/degs_somatosensory_supertypes_{gene}.pdf',\n",
    "                   transparent=True, bbox_inches='tight', dpi=1200)\n",
    "    fig[0].savefig(f'{results_dir}/degs_somatosensory_supertypes_{gene}.png',\n",
    "                   transparent=True, bbox_inches='tight', dpi=1200)"
   ]
  },
  {
   "cell_type": "markdown",
   "metadata": {},
   "source": [
    "## Fig. X? | Somatosensory clusters"
   ]
  },
  {
   "cell_type": "code",
   "execution_count": 19,
   "metadata": {},
   "outputs": [],
   "source": [
    "# set kwargs fpr annotated cluster plots\n",
    "kwargs_cluster_annotations = dict(\n",
    "    section_col=z_col,\n",
    "    x_col=x_col,\n",
    "    y_col=y_col,\n",
    "    point_size=0.5,\n",
    "    figsize=(4, 2),\n",
    "    face_palette=None,\n",
    "    edge_color='silver'\n",
    "    )\n",
    "\n",
    "# get the cluster annotations for the nucleus of interest\n",
    "sections_to_plot = sections_somatosensory\n",
    "nuclei_highlight = nuclei_somatosensory\n",
    "taxonomy_level = 'cluster'\n",
    "obs_annot_clust_left = abc.get_obs_from_annotations(nuclei_somatosensory, \n",
    "                                                    adata_th_left.obs, \n",
    "                                                    taxonomy_level=taxonomy_level,\n",
    "                                                    include_shared_clusters=True)\n",
    "obs_annot_clust = abc.get_obs_from_annotations(nuclei_somatosensory, \n",
    "                                                adata_th.obs, \n",
    "                                                taxonomy_level=taxonomy_level,\n",
    "                                                include_shared_clusters=True)\n",
    "\n",
    "plt.rcParams.update({'font.size': 7})\n",
    "figs_annot = cplots.plot_ccf_overlay(obs_annot_clust, # obs_annot_clust_left\n",
    "                                    ccf_images_left,\n",
    "                                    boundary_img=ccf_boundaries, #_left,\n",
    "                                    bg_cells=adata_th.obs, #adata_th_left.obs, \n",
    "                                    ccf_highlight=nuclei_highlight,\n",
    "                                    point_hue=taxonomy_level, \n",
    "                                    sections=sections_to_plot,\n",
    "                                    point_palette=abc_palettes[taxonomy_level],\n",
    "                                    legend='cells',\n",
    "                                    **kwargs_cluster_annotations)\n",
    "# figs_annot[0].savefig(f'{results_dir}/figX_cluster_annotations_z80_ATN.pdf', \n",
    "#                       transparent=True, bbox_inches='tight')\n",
    "# figs_annot[0].savefig(f'{results_dir}/figX_cluster_annotations_z80_ATN.png', \n",
    "#                       transparent=True, bbox_inches='tight', dpi=1200)"
   ]
  },
  {
   "cell_type": "code",
   "execution_count": 20,
   "metadata": {},
   "outputs": [],
   "source": [
    "cluster_somat_clusters = [\n",
    "    '2648 TH Prkcd Grin2c Glut_1', # VPL/PO\n",
    "    '2649 TH Prkcd Grin2c Glut_1', # VPM\n",
    "    '2663 TH Prkcd Grin2c Glut_6', #PO/Eth\n",
    "]"
   ]
  },
  {
   "cell_type": "code",
   "execution_count": 21,
   "metadata": {},
   "outputs": [],
   "source": [
    "# set kwargs fpr annotated cluster plots\n",
    "kwargs_cluster_annotations = dict(\n",
    "    section_col=z_col,\n",
    "    x_col=x_col,\n",
    "    y_col=y_col,\n",
    "    point_size=4,\n",
    "    figsize=(1.75, 1.5),\n",
    "    face_palette=None,\n",
    "    edge_color='silver',\n",
    "    )"
   ]
  },
  {
   "cell_type": "markdown",
   "metadata": {},
   "source": [
    "## Fig. 3H | Dotplot of differentially expressed genes (DEGs) in the 7 ATN clusters"
   ]
  },
  {
   "cell_type": "code",
   "execution_count": 22,
   "metadata": {},
   "outputs": [],
   "source": [
    "# # manual medial-to-lateral cluster ordering for dotplots\n",
    "# clusters_med_to_lat_ATN = [\n",
    "#     '2613 AD Serpinb7 Glut_1',\n",
    "#     '2614 AD Serpinb7 Glut_1',\n",
    "#     '2615 AV Col27a1 Glut_1',\n",
    "#     '2616 AV Col27a1 Glut_1',\n",
    "#     '2674 TH Prkcd Grin2c Glut_9',\n",
    "#     '2676 TH Prkcd Grin2c Glut_9',\n",
    "#     '2675 TH Prkcd Grin2c Glut_9',\n",
    "# ]\n",
    "\n",
    "# # reorder by manual medial-to-lateral ordering\n",
    "# adata_annot.obs.loc[:,'cluster'] = adata_annot.obs.loc[:,'cluster'].cat.reorder_categories(clusters_med_to_lat_ATN, ordered=True)\n",
    "# adata_annot.obs.loc[:,'cluster'].cat.categories"
   ]
  },
  {
   "cell_type": "code",
   "execution_count": 23,
   "metadata": {},
   "outputs": [],
   "source": [
    "cluster_somat_clusters = [\n",
    "    '2648 TH Prkcd Grin2c Glut_1', \n",
    "    '2649 TH Prkcd Grin2c Glut_1',\n",
    "    '2663 TH Prkcd Grin2c Glut_6',\n",
    "]"
   ]
  },
  {
   "cell_type": "markdown",
   "metadata": {},
   "source": [
    "### Exploratory dotplots for ATN cluster DEGs (5 genes per neighboring cluster pair)"
   ]
  },
  {
   "cell_type": "code",
   "execution_count": 24,
   "metadata": {},
   "outputs": [],
   "source": [
    "# Helper function to get the top DEGs for a given cluster\n",
    "def get_rank_genes_list(adata, \n",
    "                        groupby='cluster', \n",
    "                        group='', \n",
    "                        reference='rest', \n",
    "                        n_genes=5):\n",
    "    # find DEGs\n",
    "    sc.tl.rank_genes_groups(adata, \n",
    "                            groupby=\"cluster\", \n",
    "                            groups=[group],\n",
    "                            reference=reference, \n",
    "                            n_genes=n_genes, \n",
    "                            method=\"wilcoxon\")\n",
    "    # get DEGs\n",
    "    deg_list = sc.get.rank_genes_groups_df(adata, group=group).names.to_list()\n",
    "    \n",
    "    return deg_list\n",
    "\n",
    "def create_var_group_positions(n_genes, deg_list):\n",
    "    total_genes = len(deg_list)\n",
    "    var_group_positions = []\n",
    "    for i in range(0, total_genes, n_genes):\n",
    "        start = i\n",
    "        end = min(i + n_genes - 1, total_genes - 1)\n",
    "        var_group_positions.append([start, end])\n",
    "    return var_group_positions"
   ]
  },
  {
   "cell_type": "code",
   "execution_count": 25,
   "metadata": {},
   "outputs": [],
   "source": [
    "deg_cluster_vs_rest = []\n",
    "n_genes = 5\n",
    "\n",
    "# 2648 vs rest\n",
    "deg_cluster_vs_rest.extend(get_rank_genes_list(adata_th, \n",
    "                                               group='2648 TH Prkcd Grin2c Glut_1', \n",
    "                                               reference='rest',\n",
    "                                               n_genes=n_genes))\n",
    "print(deg_cluster_vs_rest)\n",
    "\n",
    "# 2649 vs rest\n",
    "deg_cluster_vs_rest.extend(get_rank_genes_list(adata_th, \n",
    "                                               group='2649 TH Prkcd Grin2c Glut_1', \n",
    "                                               reference='rest',\n",
    "                                               n_genes=n_genes))\n",
    "print(deg_cluster_vs_rest)\n",
    "\n",
    "# 2663 vs rest\n",
    "deg_cluster_vs_rest.extend(get_rank_genes_list(adata_th, \n",
    "                                               group='2663 TH Prkcd Grin2c Glut_6', \n",
    "                                               reference='rest',\n",
    "                                               n_genes=n_genes))\n",
    "print(deg_cluster_vs_rest)\n",
    "\n",
    "\n",
    "# manually set gene group labels for dotplot\n",
    "var_group_labels = [\n",
    "  '2648 (VPL/PO) vs rest',\n",
    "  '2649 (VPM) vs rest',\n",
    "  '2663 (PO/Eth) vs rest',\n",
    "  ]\n",
    "var_group_positions = create_var_group_positions(n_genes, deg_cluster_vs_rest)\n",
    "\n",
    "# dotplot\n",
    "sc.pl.dotplot(adata_annot,\n",
    "              deg_cluster_vs_rest, \n",
    "              groupby='cluster', \n",
    "              dendrogram=False,\n",
    "              cmap='Blues',\n",
    "              var_group_positions=var_group_positions,\n",
    "              var_group_labels=var_group_labels,\n",
    "              # var_group_rotation=0,\n",
    "              )"
   ]
  },
  {
   "cell_type": "code",
   "execution_count": 26,
   "metadata": {},
   "outputs": [],
   "source": [
    "deg_paired_clust_list = []\n",
    "n_genes = 5\n",
    "\n",
    "# 2648 vs 2649\n",
    "deg_paired_clust_list.extend(get_rank_genes_list(adata_annot, \n",
    "                                               group='2648 TH Prkcd Grin2c Glut_1', \n",
    "                                               reference='2649 TH Prkcd Grin2c Glut_1',\n",
    "                                               n_genes=n_genes))\n",
    "print(deg_paired_clust_list)\n",
    "# sc.pl.rank_genes_groups(adata_annot, group=cluster_list_annot[0])\n",
    "deg_paired_clust_list.extend(get_rank_genes_list(adata_annot, \n",
    "                                               group='2649 TH Prkcd Grin2c Glut_1', \n",
    "                                               reference='2648 TH Prkcd Grin2c Glut_1',\n",
    "                                               n_genes=n_genes))\n",
    "print(deg_paired_clust_list)\n",
    "\n",
    "# 2648 vs 2663\n",
    "deg_paired_clust_list.extend(get_rank_genes_list(adata_annot, \n",
    "                                               group='2648 TH Prkcd Grin2c Glut_1',\n",
    "                                               reference='2663 TH Prkcd Grin2c Glut_6',\n",
    "                                               n_genes=n_genes))\n",
    "print(deg_paired_clust_list)\n",
    "deg_paired_clust_list.extend(get_rank_genes_list(adata_annot, \n",
    "                                               group='2663 TH Prkcd Grin2c Glut_6',\n",
    "                                               reference='2648 TH Prkcd Grin2c Glut_1',\n",
    "                                               n_genes=n_genes))\n",
    "print(deg_paired_clust_list)\n",
    "\n",
    "# 2649 vs 2663\n",
    "deg_paired_clust_list.extend(get_rank_genes_list(adata_annot, \n",
    "                                               group='2649 TH Prkcd Grin2c Glut_1', \n",
    "                                               reference='2663 TH Prkcd Grin2c Glut_6',\n",
    "                                               n_genes=n_genes))\n",
    "deg_paired_clust_list.extend(get_rank_genes_list(adata_annot, \n",
    "                                               group='2663 TH Prkcd Grin2c Glut_6', \n",
    "                                               reference='2649 TH Prkcd Grin2c Glut_1',\n",
    "                                               n_genes=n_genes))\n",
    "print(deg_paired_clust_list)\n",
    "\n",
    "# set gene group labels for dotplot\n",
    "var_group_positions = create_var_group_positions(n_genes, deg_paired_clust_list)\n",
    "var_group_labels = [\n",
    "  '2648 (VPL/PO)\\n vs \\n2649 (VPM)',\n",
    "  '2649 (VPM)\\n vs \\n2648 (VPL/PO)',\n",
    "  '2648 (VPL/PO)\\n vs \\n2663 (PO/Eth)',\n",
    "  '2663 (PO/Eth)\\n vs \\n2648 (VPL/PO)',\n",
    "  '2649 (VPM)\\n vs \\n2663 (PO/Eth)',\n",
    "  '2663 (PO/Eth)\\n vs \\n2649 (VPM)',\n",
    "]\n",
    "\n",
    "# dotplot\n",
    "sc.pl.dotplot(adata_annot,\n",
    "              deg_paired_clust_list, \n",
    "              groupby='cluster', \n",
    "              dendrogram=False,\n",
    "              cmap='Blues',\n",
    "              var_group_positions=var_group_positions,\n",
    "              var_group_labels=var_group_labels,\n",
    "            #   var_group_rotation=0,\n",
    "              )"
   ]
  },
  {
   "cell_type": "markdown",
   "metadata": {},
   "source": [
    "### Curated dotplot of ATN cluster DEGs for Fig. 3H"
   ]
  },
  {
   "cell_type": "code",
   "execution_count": 27,
   "metadata": {},
   "outputs": [],
   "source": [
    "marker_genes_manual = [\n",
    "    # 2648 (VPL/PO)\n",
    "    'Ramp3', 'Spon1', 'Tcf7l2',\n",
    "    # 2649 (VPM)  \n",
    "    'Kcnab3', 'Pvalb', 'Scn4b',\n",
    "    # 2663 (PO/Eth)           \n",
    "    'Gpr4', 'Calb1', 'St6galnac5',              \n",
    "]                             \n",
    "\n",
    "var_group_positions = create_var_group_positions(n_genes=3, deg_list=marker_genes_manual)\n",
    "\n",
    "var_group_labels = ['2648 (VPL/PO)',\n",
    "                    '2649 (VPM)',\n",
    "                    '2663 (PO/Eth)',\n",
    "                    ]"
   ]
  },
  {
   "cell_type": "code",
   "execution_count": 28,
   "metadata": {},
   "outputs": [],
   "source": [
    "fig_curated = sc.pl.dotplot(adata_annot,\n",
    "                            marker_genes_manual,\n",
    "                            groupby='cluster', \n",
    "                            dendrogram=False,\n",
    "                            cmap='Blues', #cc.cm.blues, cc.cm.CET_CBL3_r\n",
    "                            var_group_positions=var_group_positions,\n",
    "                            var_group_labels=var_group_labels,\n",
    "                            var_group_rotation=90,\n",
    "                            return_fig=True,\n",
    "                            )\n",
    "\n",
    "fig_curated.savefig(f'{results_dir}/degs_curated_dotplot_ATN.pdf',\n",
    "                    transparent=True, bbox_inches='tight')\n",
    "# fig_curated.savefig(f'{results_dir}/degs_curated_dotplot_ATN.png',\n",
    "#                     transparent=True, bbox_inches='tight')"
   ]
  },
  {
   "cell_type": "code",
   "execution_count": 29,
   "metadata": {},
   "outputs": [],
   "source": [
    "# show outlines for all the ATN\n",
    "nuclei_to_highlight = nuclei_somatosensory\n",
    "sections_to_plot = sections_somatosensory\n",
    "\n",
    "kwargs_ATN_expr = dict(\n",
    "    boundary_img=ccf_boundaries_left,\n",
    "    section_col=section_col,\n",
    "    x_col=x_col,\n",
    "    y_col=y_col,\n",
    "    cmap='Blues',\n",
    "    # cb_vmin_vmax=(0,7),\n",
    "    point_size=1.5,\n",
    "    edge_color='silver',\n",
    "    edgecolors='silver',\n",
    "    linewidths=0.1,\n",
    "    # figsize=(1.8,1.8),\n",
    "    figsize=(8,8),\n",
    "    )\n",
    "\n",
    "# AD DEGs\n",
    "for i, gene in enumerate(marker_genes_manual):\n",
    "    if i==0:\n",
    "        print('2648 (VPL/PO) genes')\n",
    "    elif i==3:\n",
    "        print('2649 (VPM) genes')\n",
    "    elif i==6:\n",
    "        print('2663 (PO/Eth) genes')\n",
    "        \n",
    "    fig = cplots.plot_expression_ccf(adata_th_left, \n",
    "                               gene, \n",
    "                               ccf_images_left,\n",
    "                               sections=sections_to_plot,\n",
    "                               highlight=nuclei_to_highlight,\n",
    "                            #    zoom_to_highlighted=True,\n",
    "                               **kwargs_ATN_expr)\n",
    "    for j, sec in enumerate(sections_to_plot):\n",
    "        fig[j].savefig(f'{results_dir}/degs_somatosensory_clusters_{gene}_z{sec}.pdf',\n",
    "                       transparent=True, bbox_inches='tight', dpi=1200)\n",
    "        fig[j].savefig(f'{results_dir}/degs_somatosensory_clusters_{gene}_z{sec}.png',\n",
    "                       transparent=True, bbox_inches='tight', dpi=1200)"
   ]
  },
  {
   "cell_type": "code",
   "execution_count": null,
   "metadata": {},
   "outputs": [],
   "source": []
  }
 ],
 "metadata": {
  "kernelspec": {
   "display_name": "base",
   "language": "python",
   "name": "python3"
  },
  "language_info": {
   "codemirror_mode": {
    "name": "ipython",
    "version": 3
   },
   "file_extension": ".py",
   "mimetype": "text/x-python",
   "name": "python",
   "nbconvert_exporter": "python",
   "pygments_lexer": "ipython3",
   "version": "3.9.12"
  }
 },
 "nbformat": 4,
 "nbformat_minor": 2
}
