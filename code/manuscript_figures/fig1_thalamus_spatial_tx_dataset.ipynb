{
 "cells": [
  {
   "cell_type": "markdown",
   "metadata": {},
   "source": [
    "## Figure 1 | A curated spatial transcriptomic resource for the adult mouse thalamus."
   ]
  },
  {
   "cell_type": "code",
   "execution_count": 1,
   "metadata": {},
   "outputs": [],
   "source": [
    "import numpy as np\n",
    "import pandas as pd\n",
    "\n",
    "import sys\n",
    "sys.path.append('/code/')\n",
    "from abc_merfish_analysis import abc_load as abc\n",
    "from abc_merfish_analysis import ccf_images as cimg\n",
    "from abc_merfish_analysis import ccf_plots as cplots\n",
    "from abc_merfish_analysis import ccf_erode as cerode\n",
    "\n",
    "from matplotlib import rcParams\n",
    "rcParams['ps.fonttype'] = 42\n",
    "rcParams['pdf.fonttype'] = 42\n",
    "rcParams['font.size'] = 7\n",
    "\n",
    "import matplotlib.pyplot as plt\n",
    "get_ipython().run_line_magic('matplotlib', 'inline') "
   ]
  },
  {
   "cell_type": "code",
   "execution_count": 2,
   "metadata": {},
   "outputs": [],
   "source": [
    "results_dir = '../../results'"
   ]
  },
  {
   "cell_type": "markdown",
   "metadata": {},
   "source": [
    "## Load thalamus data"
   ]
  },
  {
   "cell_type": "code",
   "execution_count": 3,
   "metadata": {},
   "outputs": [],
   "source": [
    "obs_wmb = abc.get_combined_metadata()\n",
    "obs_th = abc.load_standard_thalamus(data_structure='obs')"
   ]
  },
  {
   "cell_type": "code",
   "execution_count": 4,
   "metadata": {},
   "outputs": [],
   "source": [
    "# set spatial column names to `_reconstructed` coordinate space\n",
    "coords = '_reconstructed'\n",
    "\n",
    "x_col = 'x'+coords\n",
    "y_col = 'y'+coords\n",
    "z_col = 'z'+coords\n",
    "section_col = 'brain_section_label'"
   ]
  },
  {
   "cell_type": "code",
   "execution_count": 5,
   "metadata": {},
   "outputs": [],
   "source": [
    "# Load the CCF structures image\n",
    "ccf_images = abc.get_ccf_labels_image()\n",
    "\n",
    "# Merge substructures into structures (esp. AMd + AMv -> AM; LGd-co + LGd-ip + LGd-sh -> LG)\n",
    "ccf_images = cerode.merge_substructures(ccf_images, ccf_level='structure')"
   ]
  },
  {
   "cell_type": "code",
   "execution_count": 6,
   "metadata": {},
   "outputs": [],
   "source": [
    "# Precompute boundaries to use multiple times in this notebook w/o need to recompute\n",
    "\n",
    "# we only need to load the boundaries for sections that contain the thalamus\n",
    "sections_all = sorted(obs_th[z_col].unique())\n",
    "sections_int = np.rint(np.array(sections_all)/0.2).astype(int)\n",
    "\n",
    "# precompute boundaries for thalamic sections\n",
    "ccf_boundaries = cimg.sectionwise_label_erosion(ccf_images, distance_px=1, \n",
    "                                                fill_val=0, return_edges=True, \n",
    "                                                section_list=sections_int\n",
    "                                                )"
   ]
  },
  {
   "cell_type": "code",
   "execution_count": 7,
   "metadata": {},
   "outputs": [],
   "source": [
    "# if you reload abc_merfish_analysis.ccf_plots after this cell has been run, \n",
    "# cplots.CCF_REGIONS_DEFAULT will be reset to None & you'll need to re-run this cell\n",
    "cplots.CCF_REGIONS_DEFAULT = abc.get_thalamus_names()"
   ]
  },
  {
   "cell_type": "code",
   "execution_count": 8,
   "metadata": {},
   "outputs": [],
   "source": [
    "# We can load & use the published color palettes for the ABC Atlas taxonomy\n",
    "abc_palettes = {level: abc.get_taxonomy_palette(level) for level in \n",
    "                ['neurotransmitter','class', 'subclass','supertype','cluster']}\n",
    "\n",
    "# We have also provided a secondary color palette for the cluster level that \n",
    "# attempts to increase the color contrast between spatially negihboring clusters\n",
    "abc_palettes['cluster'] = abc.get_thalamus_cluster_palette() #dict(zip(palette_df['Unnamed: 0'], palette_df['0']))\n",
    "\n",
    "ccf_palette = abc.get_ccf_palette('substructure')"
   ]
  },
  {
   "cell_type": "markdown",
   "metadata": {},
   "source": [
    "## Fig. 1A | Taxonomy of thalamus neuronal cell types"
   ]
  },
  {
   "cell_type": "markdown",
   "metadata": {},
   "source": [
    "### Taxonomy dendogram\n",
    "\n",
    "Made in R + Illlustrator"
   ]
  },
  {
   "cell_type": "markdown",
   "metadata": {},
   "source": [
    "### Histogram of # clusters per supertype"
   ]
  },
  {
   "cell_type": "code",
   "execution_count": 9,
   "metadata": {},
   "outputs": [],
   "source": [
    "taxonomy_df = pd.read_csv('../abc_merfish_analysis/resources/taxonomy_CCN20230722_th_zi_only.csv')"
   ]
  },
  {
   "cell_type": "code",
   "execution_count": 10,
   "metadata": {},
   "outputs": [],
   "source": [
    "# Find which clusters have >= 50 cells\n",
    "taxonomy_df_clust50cells = taxonomy_df[taxonomy_df['num_cells_in_cluster']>=50].copy()\n",
    "\n",
    "taxonomy_levels = ['neurotransmitter','class', 'subclass', 'supertype', 'cluster']\n",
    "for col in taxonomy_levels:\n",
    "    # set col series to categorical\n",
    "    taxonomy_df_clust50cells[col] = taxonomy_df_clust50cells[col].astype('category')\n",
    "    # only keep categories that are present in this subset of the data\n",
    "    taxonomy_df_clust50cells.loc[:,col] = taxonomy_df_clust50cells.loc[:,col].cat.remove_unused_categories()\n",
    "    \n",
    "    \n",
    "# We'll only display subclasses that have at least one cluster with >= 50 cells\n",
    "fig1_subclasses = list(taxonomy_df_clust50cells['subclass'].unique())\n",
    "taxonomy_df_fig1 = taxonomy_df[taxonomy_df['subclass'].isin(fig1_subclasses)].copy()\n",
    "\n",
    "for col in taxonomy_levels:\n",
    "    # only keep categories that are present in this subset of the data\n",
    "    taxonomy_df_fig1[col] = taxonomy_df_fig1[col].astype('category')\n",
    "    taxonomy_df_fig1.loc[:,col] = taxonomy_df_fig1.loc[:,col].cat.remove_unused_categories()"
   ]
  },
  {
   "cell_type": "code",
   "execution_count": 11,
   "metadata": {},
   "outputs": [],
   "source": [
    "# Count the number of unique clusters per supertype\n",
    "unique_cluster_df = taxonomy_df_fig1.groupby('supertype', observed=True)['cluster'].nunique().reset_index()\n",
    "unique_cluster_df.columns = ['supertype', 'unique_cluster_count']\n",
    "\n",
    "# Plot histogram of unique clusters per supertype \n",
    "fig, ax = plt.subplots(figsize=(6.3, 1))\n",
    "plt.bar(unique_cluster_df['supertype'], \n",
    "        unique_cluster_df['unique_cluster_count'], \n",
    "        color='darkgrey')\n",
    "plt.xticks(rotation=90)  # Rotate x-axis labels by 90 degrees\n",
    "ax.invert_yaxis()\n",
    "\n",
    "fig.savefig(f'{results_dir}/fig1A_hist_cluster_count_per_supertype.pdf',\n",
    "            transparent=True, bbox_inches='tight')"
   ]
  },
  {
   "cell_type": "markdown",
   "metadata": {},
   "source": [
    "### Colored markers for supertype nodes (histogram xlabels)"
   ]
  },
  {
   "cell_type": "code",
   "execution_count": 12,
   "metadata": {},
   "outputs": [],
   "source": [
    "def plot_scatter_xlabel_colors(x_names, x_order, color_dict, xticklabel_is_id=True):\n",
    "    \"\"\"Plot a single-row scatter plot with colored markers for each x label.\n",
    "\n",
    "    Parameters\n",
    "    ----------\n",
    "    x_names: list\n",
    "        list of all possible x-labels\n",
    "    x_order: np.ndarray\n",
    "        indices of the items in x_names to plot, in desired order\n",
    "    color_dict: dict\n",
    "        dictionary mapping x-labels to colors\n",
    "\n",
    "    Returns\n",
    "    -------\n",
    "    fig: matplotlib.figure.Figure\n",
    "    \"\"\"\n",
    "    # Reorder & subset x_names according to x_order\n",
    "    x_labels = np.array(x_names)[x_order]\n",
    "    # Create a list of colors for each x-label\n",
    "    color_list = [color_dict[x] for x in x_labels if x in color_dict]\n",
    "\n",
    "    # HARDCODED: use only the taxonomy category ID # for the xticklabels\n",
    "    if xticklabel_is_id:\n",
    "        xticklabels = [label.split(\" \")[0] for label in x_labels]\n",
    "    else:\n",
    "        xticklabels = x_labels\n",
    "\n",
    "    # fig, ax = plt.subplots()\n",
    "    fig, ax = plt.subplots(figsize=(8, 1))\n",
    "\n",
    "    # Plot circular markers at the specified x positions\n",
    "    ax.scatter(range(len(xticklabels)), \n",
    "               np.zeros(len(xticklabels)), \n",
    "               c=color_list, \n",
    "               s=50, \n",
    "               marker='.',\n",
    "               linewidth=0,\n",
    "            )\n",
    "\n",
    "    # Set xticks and labels\n",
    "    ax.set_xticks(range(len(xticklabels)))\n",
    "    ax.set_xticklabels(xticklabels, rotation=90)\n",
    "\n",
    "    # Hide y-axis\n",
    "    ax.set_frame_on(False)\n",
    "    ax.get_yaxis().set_visible(False)\n",
    "\n",
    "    return fig"
   ]
  },
  {
   "cell_type": "code",
   "execution_count": 13,
   "metadata": {},
   "outputs": [],
   "source": [
    "# Plot xlabel colored markers for each supertype\n",
    "supertype_color_dict = dict(zip(taxonomy_df_fig1['supertype'], \n",
    "                                taxonomy_df_fig1['supertype_color']\n",
    "                                )\n",
    "                            )\n",
    "st_names = unique_cluster_df['supertype'].to_list()\n",
    "st_order = np.arange(len(st_names))\n",
    "xlabel_color_marker_fig = plot_scatter_xlabel_colors(st_names, \n",
    "                                                     st_order, \n",
    "                                                     supertype_color_dict, \n",
    "                                                     xticklabel_is_id=False)\n",
    "xlabel_color_marker_fig.savefig(f'{results_dir}/fig1A_supertype_color_markers.pdf',\n",
    "                                transparent=True, bbox_inches='tight')"
   ]
  },
  {
   "cell_type": "code",
   "execution_count": 14,
   "metadata": {},
   "outputs": [],
   "source": [
    "# How many classes, subclasses, supertypes, and clusters are displayed in the figure?\n",
    "for level in ['class', 'subclass','supertype','cluster']:\n",
    "    plural_str = 'es' if level[-1] == 's' else 's'\n",
    "    print(f'Number of unique {level}{plural_str}:', len(taxonomy_df_fig1[level].unique()))"
   ]
  },
  {
   "cell_type": "markdown",
   "metadata": {},
   "source": [
    "## Fig. 1B | ARA anatomical annotations "
   ]
  },
  {
   "cell_type": "code",
   "execution_count": 15,
   "metadata": {},
   "outputs": [],
   "source": [
    "kwargs = dict(\n",
    "    bg_cells=None,\n",
    "    section_col=section_col,\n",
    "    x_col=x_col,\n",
    "    y_col=y_col,\n",
    "    point_size=0,\n",
    "    edge_color=\"black\",\n",
    "    boundary_img=ccf_boundaries,\n",
    "    # custom_xy_lims=[2.5, 6, 7, 4],\n",
    ")\n",
    "\n",
    "figs_ara = cplots.plot_ccf_overlay(\n",
    "    obs_th.iloc[:1,:],\n",
    "    ccf_images,\n",
    "    point_hue=\"subclass\",\n",
    "    face_palette=ccf_palette, \n",
    "    min_group_count=0,\n",
    "    sections=abc.TH_EXAMPLE_SECTION_LABELS,\n",
    "    separate_figs=False,\n",
    "    figsize=(20, 5),\n",
    "    legend=None,\n",
    "    **kwargs,\n",
    ")\n",
    "figs_ara[0].set_size_inches(8.3, 3)\n",
    "figs_ara[0].savefig(f'{results_dir}/fig1B_ccf_ara.png',\n",
    "                 transparent=True, bbox_inches='tight', dpi=1200)"
   ]
  },
  {
   "cell_type": "markdown",
   "metadata": {},
   "source": [
    "### Fig. 1C | TH+ZI cell types"
   ]
  },
  {
   "cell_type": "code",
   "execution_count": 16,
   "metadata": {},
   "outputs": [],
   "source": [
    "kwargs_celltypes = dict(boundary_img=ccf_boundaries,\n",
    "                        bg_cells=None,#obs_wmb, # background cells are displayed in grey\n",
    "                        section_col=section_col,\n",
    "                        x_col=x_col, \n",
    "                        y_col=y_col,\n",
    "                        edge_color='black',\n",
    "                        point_size=0.5, # cell marker size\n",
    "                       )\n",
    "\n",
    "levels = ['class', 'subclass', 'supertype', 'cluster']\n",
    "\n",
    "for i, taxonomy_level in enumerate(levels):\n",
    "    palette = abc_palettes[taxonomy_level]\n",
    "        \n",
    "    figs_ccf_celltypes = cplots.plot_ccf_overlay(\n",
    "        obs_th, \n",
    "        ccf_images, \n",
    "        point_hue=taxonomy_level, \n",
    "        sections=abc.TH_EXAMPLE_SECTION_LABELS,\n",
    "        separate_figs=False,\n",
    "        point_palette=palette,\n",
    "        legend=None, #'cells',\n",
    "        figsize=(20, 5),\n",
    "        **kwargs_celltypes\n",
    "    )\n",
    "    \n",
    "    figs_ccf_celltypes[0].set_size_inches(8.3, 3)\n",
    "    \n",
    "    # figs_ccf_celltypes[0].savefig(f'{results_dir}/fig1C_ccf_{taxonomy_level}.pdf',\n",
    "    #                               transparent=True, bbox_inches='tight', dpi=1200)\n",
    "    figs_ccf_celltypes[0].savefig(f'{results_dir}/fig1C_ccf_{taxonomy_level}.png',\n",
    "                                  transparent=True, bbox_inches='tight', dpi=1200)"
   ]
  }
 ],
 "metadata": {
  "kernelspec": {
   "display_name": "base",
   "language": "python",
   "name": "python3"
  },
  "language_info": {
   "codemirror_mode": {
    "name": "ipython",
    "version": 3
   },
   "file_extension": ".py",
   "mimetype": "text/x-python",
   "name": "python",
   "nbconvert_exporter": "python",
   "pygments_lexer": "ipython3",
   "version": "3.9.12"
  }
 },
 "nbformat": 4,
 "nbformat_minor": 2
}
