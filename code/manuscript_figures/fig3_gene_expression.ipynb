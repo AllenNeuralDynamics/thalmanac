{
 "cells": [
  {
   "cell_type": "markdown",
   "metadata": {},
   "source": [
    "# Figure 3 | Differentially expressed genes distinguish adjacent cell types in the anterior thalamic nuclei."
   ]
  },
  {
   "cell_type": "code",
   "execution_count": 1,
   "metadata": {},
   "outputs": [],
   "source": [
    "%load_ext autoreload\n",
    "%autoreload 2"
   ]
  },
  {
   "cell_type": "code",
   "execution_count": 156,
   "metadata": {},
   "outputs": [],
   "source": [
    "import numpy as np\n",
    "import pandas as pd\n",
    "import scanpy as sc\n",
    "\n",
    "import sys\n",
    "sys.path.append('/code/')\n",
    "from thalamus_merfish_analysis import abc_load as abc\n",
    "from thalamus_merfish_analysis import ccf_images as cimg\n",
    "from thalamus_merfish_analysis import ccf_erode as cerode\n",
    "from thalamus_merfish_analysis import ccf_plots as cplots\n",
    "\n",
    "import warnings\n",
    "warnings.simplefilter(action='ignore', category=FutureWarning)\n",
    "\n",
    "from matplotlib import rcParams\n",
    "rcParams['ps.fonttype'] = 42\n",
    "rcParams['pdf.fonttype'] = 42\n",
    "rcParams['font.size'] = 7\n",
    "\n",
    "import colorcet as cc\n",
    "\n",
    "import matplotlib.pyplot as plt\n",
    "get_ipython().run_line_magic('matplotlib', 'inline') "
   ]
  },
  {
   "cell_type": "code",
   "execution_count": 3,
   "metadata": {},
   "outputs": [],
   "source": [
    "results_dir = '../../results'"
   ]
  },
  {
   "cell_type": "markdown",
   "metadata": {},
   "source": [
    "## Load thalamus data"
   ]
  },
  {
   "cell_type": "code",
   "execution_count": 4,
   "metadata": {},
   "outputs": [],
   "source": [
    "# Load the full thalamus anndata object\n",
    "adata_th = abc.load_standard_thalamus(data_structure='adata')\n",
    "\n",
    "# Subset to just the left hemisphere\n",
    "adata_th_left = adata_th[adata_th.obs['left_hemisphere']].copy()"
   ]
  },
  {
   "cell_type": "code",
   "execution_count": 5,
   "metadata": {},
   "outputs": [],
   "source": [
    "# set spatial column names to `_reconstructed` coordinate space\n",
    "coords = '_reconstructed'\n",
    "\n",
    "x_col = 'x'+coords\n",
    "y_col = 'y'+coords\n",
    "section_col = z_col = 'z'+coords"
   ]
  },
  {
   "cell_type": "code",
   "execution_count": 6,
   "metadata": {},
   "outputs": [],
   "source": [
    "# Load the CCF structures image\n",
    "ccf_images = abc.get_ccf_labels_image()\n",
    "\n",
    "# Merge substructures into structures (esp. AMd + AMv -> AM; LGd-co + LGd-ip + LGd-sh -> LG)\n",
    "ccf_images = cerode.merge_substructures(ccf_images, ccf_level='structure')\n",
    "\n",
    "# Precompute boundaries to use multiple times in this notebook w/o need to recompute\n",
    "# we only need to load the boundaries for sections that contain the thalamus\n",
    "sections_all = sorted(adata_th.obs[section_col].unique())\n",
    "sections_int = np.rint(np.array(sections_all)/0.2).astype(int)\n",
    "\n",
    "# precompute boundaries for thalamic sections\n",
    "ccf_boundaries = cimg.sectionwise_label_erosion(ccf_images, distance_px=1, \n",
    "                                                fill_val=0, return_edges=True, \n",
    "                                                section_list=sections_int\n",
    "                                                )"
   ]
  },
  {
   "cell_type": "code",
   "execution_count": 7,
   "metadata": {},
   "outputs": [],
   "source": [
    "# Load the CCF structures image - just the left hemisphere\n",
    "ccf_images_left = abc.get_ccf_labels_image(subset_to_left_hemi=True)\n",
    "\n",
    "# Merge substructures into structures (esp. AMd + AMv -> AM; LGd-co + LGd-ip + LGd-sh -> LG)\n",
    "ccf_images_left = cerode.merge_substructures(ccf_images_left, ccf_level='structure')\n",
    "\n",
    "# Precompute boundaries to use multiple times in this notebook w/o need to recompute\n",
    "# we only need to load the boundaries for sections that contain the thalamus\n",
    "sections_all = sorted(adata_th_left.obs[section_col].unique())\n",
    "sections_int = np.rint(np.array(sections_all)/0.2).astype(int)\n",
    "\n",
    "# precompute boundaries for thalamic sections\n",
    "ccf_boundaries_left = cimg.sectionwise_label_erosion(ccf_images_left, distance_px=1, \n",
    "                                                fill_val=0, return_edges=True, \n",
    "                                                section_list=sections_int\n",
    "                                                )"
   ]
  },
  {
   "cell_type": "code",
   "execution_count": 8,
   "metadata": {},
   "outputs": [],
   "source": [
    "# if you reload thalamus_merfish_analysis.ccf_plots after this cell has been run, \n",
    "# cplots.CCF_REGIONS_DEFAULT will be reset to None & you'll need to re-run this cell\n",
    "cplots.CCF_REGIONS_DEFAULT = abc.get_thalamus_names()"
   ]
  },
  {
   "cell_type": "code",
   "execution_count": 9,
   "metadata": {},
   "outputs": [],
   "source": [
    "# load the published color palettes for the ABC Atlas taxonomy\n",
    "abc_palettes = {level: abc.get_taxonomy_palette(level) for level in \n",
    "                ['neurotransmitter','class', 'subclass','supertype','cluster']}\n",
    "\n",
    "# We have also provided a secondary color palette for the cluster level that \n",
    "# attempts to increase the color contrast between spatially negihboring clusters\n",
    "\n",
    "abc_palettes['cluster'] = abc.get_thalamus_cluster_palette() "
   ]
  },
  {
   "cell_type": "markdown",
   "metadata": {},
   "source": [
    "## Load data for just the ATN cells"
   ]
  },
  {
   "cell_type": "code",
   "execution_count": 10,
   "metadata": {},
   "outputs": [],
   "source": [
    "# get the cluster annotations for the ATN\n",
    "nucleus = ['AD', 'AM', 'AV']\n",
    "obs_annot = abc.get_obs_from_annotated_clusters(nucleus, adata_th.obs)\n",
    "\n",
    "# use the list of ATN-specific clusters from obs_annot to filter & reset the \n",
    "# cluster col in the full anndata object\n",
    "obs_annot.loc[:,'cluster'] = obs_annot.loc[:,'cluster'].cat.remove_unused_categories()\n",
    "cluster_list_ATN = sorted(obs_annot['cluster'].cat.categories)\n",
    "# ATN-subset of the full anndata object\n",
    "adata_ATN = adata_th[adata_th.obs['cluster'].isin(cluster_list_ATN)].copy()\n",
    "# reset both cluster and supertype categories\n",
    "for level in ['supertype','cluster']:\n",
    "    adata_ATN.obs.loc[:,level] = adata_ATN.obs.loc[:,level].cat.remove_unused_categories()\n",
    "    \n",
    "# adata_ATN.obs.loc[:,'cluster'] = adata_ATN.obs.loc[:,'cluster'].cat.reorder_categories(cluster_list_ATN, ordered=True)"
   ]
  },
  {
   "cell_type": "markdown",
   "metadata": {},
   "source": [
    "## Fig. 3A | Anterior thalamic nuclei (ATN) supertypes"
   ]
  },
  {
   "cell_type": "code",
   "execution_count": 11,
   "metadata": {},
   "outputs": [],
   "source": [
    "# set kwargs fpr annotated cluster plots\n",
    "kwargs_cluster_annotations = dict(\n",
    "    section_col=z_col,\n",
    "    x_col=x_col,\n",
    "    y_col=y_col,\n",
    "    point_size=0.5,\n",
    "    figsize=(4, 2),\n",
    "    face_palette=None,\n",
    "    edge_color='silver'\n",
    "    )\n",
    "\n",
    "# get the cluster annotations for the nucleus of interest\n",
    "nucleus = ['AD', 'AM', 'AV']\n",
    "obs_annot = abc.get_obs_from_annotated_clusters(nucleus, adata_th.obs)\n",
    "\n",
    "# Let's look at the cell types in the ATN in one sample section\n",
    "sections_to_plot = [cplots.TH_EXAMPLE_Z_SECTIONS[0]]\n",
    "nuclei_highlight = ['AD', 'AMd', 'AMv', 'AV', 'AV']\n",
    "taxonomy_level = 'supertype'\n",
    "\n",
    "plt.rcParams.update({'font.size': 7})\n",
    "figs_annot = cplots.plot_ccf_overlay(obs_annot, \n",
    "                                    ccf_images,\n",
    "                                    boundary_img=ccf_boundaries,\n",
    "                                    bg_cells=adata_th.obs, \n",
    "                                    ccf_highlight=nuclei_highlight,\n",
    "                                    point_hue=taxonomy_level, \n",
    "                                    sections=sections_to_plot,\n",
    "                                    point_palette=abc_palettes[taxonomy_level],\n",
    "                                    legend='cells',\n",
    "                                    **kwargs_cluster_annotations)\n",
    "figs_annot[0].savefig(f'{results_dir}/fig3A_supertype_annotations_z80_ATN.pdf', \n",
    "                      transparent=True, bbox_inches='tight')\n",
    "figs_annot[0].savefig(f'{results_dir}/fig3A_supertype_annotations_z80_ATN.png', \n",
    "                      transparent=True, bbox_inches='tight', dpi=1200)"
   ]
  },
  {
   "cell_type": "markdown",
   "metadata": {},
   "source": [
    "## Fig. 3C | Dotplot of differentially expressed genes (DEGs) in the 3 ATN supertypes"
   ]
  },
  {
   "cell_type": "markdown",
   "metadata": {},
   "source": [
    "### Fig. S2 | Exploratory DEG dotplot (5 genes per supertype)"
   ]
  },
  {
   "cell_type": "code",
   "execution_count": 12,
   "metadata": {},
   "outputs": [],
   "source": [
    "supertypes_ATN = ['0642 AV Col27a1 Glut_1', \n",
    "                  '0641 AD Serpinb7 Glut_1',\n",
    "                  '0662 TH Prkcd Grin2c Glut_9']\n",
    "\n",
    "supertypes_ATN = adata_ATN.obs['supertype'].cat.categories"
   ]
  },
  {
   "cell_type": "code",
   "execution_count": 13,
   "metadata": {},
   "outputs": [],
   "source": [
    "supertypes_ATN = [\n",
    "    '0641 AD Serpinb7 Glut_1',\n",
    "    '0642 AV Col27a1 Glut_1',\n",
    "    '0662 TH Prkcd Grin2c Glut_9'\n",
    "]\n",
    "deg_list_ATN_st = []\n",
    "\n",
    "for st in supertypes_ATN:\n",
    "    sc.tl.rank_genes_groups(adata_ATN, groupby=\"supertype\", groups=[st],\n",
    "                            reference='rest', n_genes=5, method=\"wilcoxon\")\n",
    "    deg_list_ATN_st.extend(sc.get.rank_genes_groups_df(adata_ATN, group=st).names.to_list())\n",
    "\n",
    "print(deg_list_ATN_st)\n",
    "\n",
    "# manually set gene group labels for dotplot\n",
    "var_group_positions_st = [[0,4], [5,9], \n",
    "                       [10,14]]\n",
    "var_group_labels_st = ['AD supertype 641\\nvs rest', \n",
    "                    'AV supertype 642\\nvs rest',\n",
    "                    'AM supertype 662\\nvs rest']\n",
    "# dotplot\n",
    "dotplot_st_explore = sc.pl.dotplot(adata_ATN,\n",
    "                                  deg_list_ATN_st,\n",
    "                                #   sorted(list(set(deg_list_ATN))), \n",
    "                                  groupby='supertype', \n",
    "                                  dendrogram=False,\n",
    "                                  cmap='Blues',\n",
    "                                  var_group_positions=var_group_positions_st,\n",
    "                                  var_group_labels=var_group_labels_st,\n",
    "                                  var_group_rotation=0)\n",
    "dotplot_st.savefig(f'{results_dir}/figS2A_ATN_supertype_degs_dotplot_5perST.pdf',\n",
    "                    transparent=True, \n",
    "                    bbox_inches='tight')"
   ]
  },
  {
   "cell_type": "markdown",
   "metadata": {},
   "source": [
    "### Curated dotplot for Fig. 3C (2 manually selected DEGs per supertype)"
   ]
  },
  {
   "cell_type": "code",
   "execution_count": 14,
   "metadata": {},
   "outputs": [],
   "source": [
    "markers_manual_ATN_st = [\n",
    "    # AD\n",
    "    'Adcy2', 'Slc17a7', 'Syndig1l',\n",
    "    # AV \n",
    "    'Car4', 'Col27a1', 'Zbtb16',\n",
    "    # AM\n",
    "    # 'Calb1', \n",
    "    'Ramp3', # 'Tnnt1',\n",
    "    'Tox', 'Tmem132c',\n",
    "    ]"
   ]
  },
  {
   "cell_type": "code",
   "execution_count": 15,
   "metadata": {},
   "outputs": [],
   "source": [
    "# manually set gene group labels for dotplot\n",
    "var_group_positions_st = [[0,2], \n",
    "                          [3,5], \n",
    "                          [6,8]]\n",
    "var_group_labels_st = ['AD supertype 641\\nvs rest', \n",
    "                    'AV supertype 642\\nvs rest',\n",
    "                    'AM supertype 662\\nvs rest']\n",
    "\n",
    "# dotplot\n",
    "dotplot_st = sc.pl.dotplot(adata_ATN,\n",
    "              markers_manual_ATN_st,\n",
    "            #   sorted(list(set(deg_list_ATN))), \n",
    "              groupby='supertype', \n",
    "              dendrogram=False,\n",
    "              cmap='Blues',\n",
    "              var_group_positions=var_group_positions_st,\n",
    "              var_group_labels=var_group_labels_st,\n",
    "              var_group_rotation=0,\n",
    "              return_fig=True)\n",
    "dotplot_st.savefig(f'{results_dir}/degs_curated_dotplot_ATN_supertype.pdf',\n",
    "                    transparent=True, bbox_inches='tight')"
   ]
  },
  {
   "cell_type": "markdown",
   "metadata": {},
   "source": [
    "## Fig. 3B | Gene expression of supertype DEGs in the ATN"
   ]
  },
  {
   "cell_type": "code",
   "execution_count": 16,
   "metadata": {},
   "outputs": [],
   "source": [
    "# show outlines for all the ATN\n",
    "nuclei_ATN = ['AD', 'AV', 'AMd', 'AMv']\n",
    "sections_ATN = [7.8, 8.0, 8.2]\n",
    "\n",
    "kwargs_ATN_expr = dict(\n",
    "    boundary_img=ccf_boundaries_left,\n",
    "    section_col=section_col,\n",
    "    x_col=x_col,\n",
    "    y_col=y_col,\n",
    "    cmap='Blues',\n",
    "    # cb_vmin_vmax=(0,7),\n",
    "    point_size=1.5,\n",
    "    edge_color='silver',\n",
    "    edgecolors='silver',\n",
    "    linewidths=0.1,\n",
    "    figsize=(1.8,1.8),\n",
    "    )\n",
    "\n",
    "# AD DEGs\n",
    "for gene in markers_manual_ATN_st:\n",
    "    fig = cplots.plot_expression_ccf(adata_th_left, \n",
    "                               gene, \n",
    "                               ccf_images_left,\n",
    "                               sections=[8.0],\n",
    "                               highlight=nuclei_ATN,\n",
    "                               zoom_to_highlighted=True,\n",
    "                               **kwargs_ATN_expr)\n",
    "    fig[0].savefig(f'{results_dir}/degs_ATN_supertypes_{gene}.pdf',\n",
    "                   transparent=True, bbox_inches='tight', dpi=1200)\n",
    "    fig[0].savefig(f'{results_dir}/degs_ATN_supertypes_{gene}.png',\n",
    "                   transparent=True, bbox_inches='tight', dpi=1200)"
   ]
  },
  {
   "cell_type": "markdown",
   "metadata": {},
   "source": [
    "## Fig. 3D | ATN clusters"
   ]
  },
  {
   "cell_type": "code",
   "execution_count": 28,
   "metadata": {},
   "outputs": [],
   "source": [
    "# set kwargs fpr annotated cluster plots\n",
    "kwargs_cluster_annotations = dict(\n",
    "    section_col=z_col,\n",
    "    x_col=x_col,\n",
    "    y_col=y_col,\n",
    "    point_size=0.5,\n",
    "    figsize=(4, 2),\n",
    "    face_palette=None,\n",
    "    edge_color='silver'\n",
    "    )\n",
    "\n",
    "# get the cluster annotations for the nucleus of interest\n",
    "nucleus = ['AD', 'AM', 'AV']\n",
    "obs_annot_left = abc.get_obs_from_annotated_clusters(nucleus, adata_th_left.obs)\n",
    "\n",
    "# Let's look at the cell types in the ATN in one sample section\n",
    "sections_ATN_clusters = [8.0, 7.8]\n",
    "nuclei_highlight = ['AD', 'AMd', 'AMv', 'AV', 'AV']\n",
    "taxonomy_level = 'cluster'\n",
    "\n",
    "plt.rcParams.update({'font.size': 7})\n",
    "figs_annot = cplots.plot_ccf_overlay(obs_annot_left, \n",
    "                                    ccf_images_left,\n",
    "                                    boundary_img=ccf_boundaries_left,\n",
    "                                    bg_cells=adata_th_left.obs, \n",
    "                                    ccf_highlight=nuclei_highlight,\n",
    "                                    point_hue=taxonomy_level, \n",
    "                                    sections=sections_ATN_clusters,\n",
    "                                    point_palette=abc_palettes[taxonomy_level],\n",
    "                                    legend='cells',\n",
    "                                    **kwargs_cluster_annotations)\n",
    "figs_annot[0].savefig(f'{results_dir}/fig3_cluster_annotations_z80_ATN.pdf', \n",
    "                      transparent=True, bbox_inches='tight')\n",
    "figs_annot[0].savefig(f'{results_dir}/fig3_cluster_annotations_z80_ATN.png', \n",
    "                      transparent=True, bbox_inches='tight', dpi=1200)"
   ]
  },
  {
   "cell_type": "code",
   "execution_count": 107,
   "metadata": {},
   "outputs": [],
   "source": [
    "# set kwargs fpr annotated cluster plots\n",
    "kwargs_cluster_annotations = dict(\n",
    "    section_col=z_col,\n",
    "    x_col=x_col,\n",
    "    y_col=y_col,\n",
    "    point_size=4,\n",
    "    figsize=(1.75, 1.5),\n",
    "    face_palette=None,\n",
    "    edge_color='silver',\n",
    "    )"
   ]
  },
  {
   "cell_type": "code",
   "execution_count": 108,
   "metadata": {},
   "outputs": [],
   "source": [
    "# AD clusters\n",
    "sections_ATN_clusters = [8.0, 7.8]\n",
    "nuclei_highlight = ['AD']\n",
    "obs_annot_AD = abc.get_obs_from_annotated_clusters(nuclei_highlight, adata_th_left.obs)\n",
    "taxonomy_level = 'cluster'\n",
    "custom_xy_lims_AD = [4.4, 5.0, 5.55, 4.55]  # manually set zoom so the two sections' \n",
    "                                            # plots are the same size\n",
    "\n",
    "plt.rcParams.update({'font.size': 7})\n",
    "for sec in sections_ATN_clusters:\n",
    "    figs_annot = cplots.plot_ccf_overlay(obs_annot_AD, \n",
    "                                        ccf_images_left,\n",
    "                                        boundary_img=ccf_boundaries_left,\n",
    "                                        bg_cells=adata_th_left.obs, \n",
    "                                        ccf_highlight=nuclei_highlight,\n",
    "                                        point_hue=taxonomy_level, \n",
    "                                        sections=[sec],\n",
    "                                        point_palette=abc_palettes[taxonomy_level],\n",
    "                                        legend='cells',\n",
    "                                        custom_xy_lims=custom_xy_lims_AD,\n",
    "                                        **kwargs_cluster_annotations)\n",
    "    figs_annot[0].savefig(f'{results_dir}/fig3_cluster_annotations_{nuclei_highlight}_z{int(sec*10)}.pdf', \n",
    "                        transparent=True, bbox_inches='tight')\n",
    "    figs_annot[0].savefig(f'{results_dir}/fig3_cluster_annotations_{nuclei_highlight}_z{int(sec*10)}.png', \n",
    "                        transparent=True, bbox_inches='tight', dpi=1200)"
   ]
  },
  {
   "cell_type": "code",
   "execution_count": 109,
   "metadata": {},
   "outputs": [],
   "source": [
    "# AV clusters\n",
    "sections_ATN_clusters = [8.0, 7.8]\n",
    "nuclei_highlight = ['AV']\n",
    "obs_annot_AV = abc.get_obs_from_annotated_clusters(nuclei_highlight, adata_th_left.obs)\n",
    "taxonomy_level = 'cluster'\n",
    "custom_xy_lims_AV = [4.0, 5.0, 5.90, 4.8]  # manually set zoom so the two sections' \n",
    "                                            # plots are the same size\n",
    "\n",
    "plt.rcParams.update({'font.size': 7})\n",
    "for sec in sections_ATN_clusters:\n",
    "    figs_annot = cplots.plot_ccf_overlay(obs_annot_AV, \n",
    "                                        ccf_images_left,\n",
    "                                        boundary_img=ccf_boundaries_left,\n",
    "                                        bg_cells=adata_th_left.obs, \n",
    "                                        ccf_highlight=nuclei_highlight,\n",
    "                                        point_hue=taxonomy_level, \n",
    "                                        sections=[sec],\n",
    "                                        point_palette=abc_palettes[taxonomy_level],\n",
    "                                        legend='cells',\n",
    "                                        custom_xy_lims=custom_xy_lims_AV,\n",
    "                                        **kwargs_cluster_annotations)\n",
    "    figs_annot[0].savefig(f'{results_dir}/fig3_cluster_annotations_{nuclei_highlight}_z{int(sec*10)}.pdf', \n",
    "                        transparent=True, bbox_inches='tight')\n",
    "    figs_annot[0].savefig(f'{results_dir}/fig3_cluster_annotations_{nuclei_highlight}_z{int(sec*10)}.png', \n",
    "                        transparent=True, bbox_inches='tight', dpi=1200)"
   ]
  },
  {
   "cell_type": "code",
   "execution_count": 110,
   "metadata": {},
   "outputs": [],
   "source": [
    "# AM clusters\n",
    "sections_ATN_clusters = [8.0, 7.8]\n",
    "nuclei_highlight = ['AM']\n",
    "obs_annot_AM = abc.get_obs_from_annotated_clusters(nuclei_highlight, adata_th_left.obs)\n",
    "taxonomy_level = 'cluster'\n",
    "custom_xy_lims_AM = [4.35, 5.3, 6.35, 5.3]  # manually set zoom so the two sections' \n",
    "                                            # plots are the same size\n",
    "\n",
    "plt.rcParams.update({'font.size': 7})\n",
    "for sec in sections_ATN_clusters:\n",
    "    figs_annot = cplots.plot_ccf_overlay(obs_annot_AM, \n",
    "                                        ccf_images_left,\n",
    "                                        boundary_img=ccf_boundaries_left,\n",
    "                                        bg_cells=adata_th_left.obs, \n",
    "                                        ccf_highlight=nuclei_highlight,\n",
    "                                        point_hue=taxonomy_level, \n",
    "                                        sections=[sec],\n",
    "                                        point_palette=abc_palettes[taxonomy_level],\n",
    "                                        legend='cells',\n",
    "                                        custom_xy_lims=custom_xy_lims_AM,\n",
    "                                        **kwargs_cluster_annotations)\n",
    "    figs_annot[0].savefig(f'{results_dir}/fig3_cluster_annotations_{nuclei_highlight}_z{int(sec*10)}.pdf', \n",
    "                        transparent=True, bbox_inches='tight')\n",
    "    figs_annot[0].savefig(f'{results_dir}/fig3_cluster_annotations_{nuclei_highlight}_z{int(sec*10)}.png', \n",
    "                        transparent=True, bbox_inches='tight', dpi=1200)"
   ]
  },
  {
   "cell_type": "markdown",
   "metadata": {},
   "source": [
    "## Fig. 3H | Dotplot of differentially expressed genes (DEGs) in the 7 ATN clusters"
   ]
  },
  {
   "cell_type": "code",
   "execution_count": 18,
   "metadata": {},
   "outputs": [],
   "source": [
    "# manual medial-to-lateral cluster ordering for dotplots\n",
    "clusters_med_to_lat_ATN = [\n",
    "    '2613 AD Serpinb7 Glut_1',\n",
    "    '2614 AD Serpinb7 Glut_1',\n",
    "    '2615 AV Col27a1 Glut_1',\n",
    "    '2616 AV Col27a1 Glut_1',\n",
    "    '2674 TH Prkcd Grin2c Glut_9',\n",
    "    '2676 TH Prkcd Grin2c Glut_9',\n",
    "    '2675 TH Prkcd Grin2c Glut_9',\n",
    "]\n",
    "\n",
    "# reorder by manual medial-to-lateral ordering\n",
    "adata_ATN.obs.loc[:,'cluster'] = adata_ATN.obs.loc[:,'cluster'].cat.reorder_categories(clusters_med_to_lat_ATN, ordered=True)\n",
    "adata_ATN.obs.loc[:,'cluster'].cat.categories"
   ]
  },
  {
   "cell_type": "markdown",
   "metadata": {},
   "source": [
    "### Exploratory dotplots for ATN cluster DEGs (5 genes per neighboring cluster pair)"
   ]
  },
  {
   "cell_type": "code",
   "execution_count": 19,
   "metadata": {},
   "outputs": [],
   "source": [
    "# Helper function to get the top DEGs for a given cluster\n",
    "def get_rank_genes_list(adata, \n",
    "                        groupby='cluster', \n",
    "                        group='', \n",
    "                        reference='rest', \n",
    "                        n_genes=5):\n",
    "    # find DEGs\n",
    "    sc.tl.rank_genes_groups(adata, \n",
    "                            groupby=\"cluster\", \n",
    "                            groups=[group],\n",
    "                            reference=reference, \n",
    "                            n_genes=n_genes, \n",
    "                            method=\"wilcoxon\")\n",
    "    # get DEGs\n",
    "    deg_list = sc.get.rank_genes_groups_df(adata, group=group).names.to_list()\n",
    "    \n",
    "    return deg_list"
   ]
  },
  {
   "cell_type": "code",
   "execution_count": 20,
   "metadata": {},
   "outputs": [],
   "source": [
    "deg_paired_list_ATN = []\n",
    "n_genes = 5\n",
    "\n",
    "# AD clusters vs each other\n",
    "deg_paired_list_ATN.extend(get_rank_genes_list(adata_ATN, \n",
    "                                               group='2613 AD Serpinb7 Glut_1', \n",
    "                                               reference='2614 AD Serpinb7 Glut_1',\n",
    "                                               n_genes=n_genes))\n",
    "print(deg_paired_list_ATN)\n",
    "# sc.pl.rank_genes_groups(adata_ATN, group=cluster_list_ATN[0])\n",
    "deg_paired_list_ATN.extend(get_rank_genes_list(adata_ATN, \n",
    "                                               group='2614 AD Serpinb7 Glut_1', \n",
    "                                               reference='2613 AD Serpinb7 Glut_1',\n",
    "                                               n_genes=n_genes))\n",
    "print(deg_paired_list_ATN)\n",
    "\n",
    "# AV clusters vs each other\n",
    "deg_paired_list_ATN.extend(get_rank_genes_list(adata_ATN, \n",
    "                                               group='2615 AV Col27a1 Glut_1',\n",
    "                                               reference='2616 AV Col27a1 Glut_1',\n",
    "                                               n_genes=n_genes))\n",
    "print(deg_paired_list_ATN)\n",
    "deg_paired_list_ATN.extend(get_rank_genes_list(adata_ATN, \n",
    "                                               group='2616 AV Col27a1 Glut_1',\n",
    "                                               reference='2615 AV Col27a1 Glut_1',\n",
    "                                               n_genes=n_genes))\n",
    "print(deg_paired_list_ATN)\n",
    "\n",
    "# AM clusters vs each other -- medial -> lateral : 2674 -> 2676 -> 2675\n",
    "# 2676 vs 2674\n",
    "deg_paired_list_ATN.extend(get_rank_genes_list(adata_ATN, \n",
    "                                               group='2674 TH Prkcd Grin2c Glut_9', \n",
    "                                               reference='2676 TH Prkcd Grin2c Glut_9',\n",
    "                                               n_genes=n_genes))\n",
    "print(deg_paired_list_ATN)\n",
    "deg_paired_list_ATN.extend(get_rank_genes_list(adata_ATN, \n",
    "                                               group='2676 TH Prkcd Grin2c Glut_9', \n",
    "                                               reference='2674 TH Prkcd Grin2c Glut_9',\n",
    "                                               n_genes=n_genes))\n",
    "# 2676 vs 2675\n",
    "deg_paired_list_ATN.extend(get_rank_genes_list(adata_ATN, \n",
    "                                               group='2676 TH Prkcd Grin2c Glut_9', \n",
    "                                               reference='2675 TH Prkcd Grin2c Glut_9',\n",
    "                                               n_genes=n_genes))\n",
    "print(deg_paired_list_ATN)\n",
    "deg_paired_list_ATN.extend(get_rank_genes_list(adata_ATN, \n",
    "                                               group='2675 TH Prkcd Grin2c Glut_9', \n",
    "                                               reference='2676 TH Prkcd Grin2c Glut_9',\n",
    "                                               n_genes=n_genes))\n",
    "# 2674 vs 2675\n",
    "deg_paired_list_ATN.extend(get_rank_genes_list(adata_ATN, \n",
    "                                               group='2674 TH Prkcd Grin2c Glut_9', \n",
    "                                               reference='2675 TH Prkcd Grin2c Glut_9',\n",
    "                                               n_genes=n_genes))\n",
    "print(deg_paired_list_ATN)\n",
    "deg_paired_list_ATN.extend(get_rank_genes_list(adata_ATN, \n",
    "                                               group='2675 TH Prkcd Grin2c Glut_9', \n",
    "                                               reference='2674 TH Prkcd Grin2c Glut_9',\n",
    "                                               n_genes=n_genes))\n",
    "print(deg_paired_list_ATN)\n",
    "\n",
    "# set gene group labels for dotplot\n",
    "var_group_positions = [[0,9], [0,4], [5,9], \n",
    "                       [10,19], [10,14], [15,19], \n",
    "                       [20,49], [20,24], [25,29], [30,34], [35,39], [40,44], [45,49]]\n",
    "var_group_labels = ['AD clusters\\n',\n",
    "                    '2613 vs 2614',\n",
    "                    '2614 vs 2613',\n",
    "                    'AV clusters\\n',\n",
    "                    '2615 vs 2616',\n",
    "                    '2616 vs 2615',\n",
    "                    'AM clusters\\n',\n",
    "                    '2674 vs 2676',\n",
    "                    '2676 vs 2674',\n",
    "                    '2676 vs 2675',\n",
    "                    '2675 vs 2676',\n",
    "                    '2674 vs 2675',\n",
    "                    '2675 vs 2674']\n",
    "# dotplot\n",
    "sc.pl.dotplot(adata_ATN,\n",
    "              deg_paired_list_ATN, \n",
    "              groupby='cluster', \n",
    "              dendrogram=False,\n",
    "              cmap='Blues',\n",
    "              var_group_positions=var_group_positions,\n",
    "              var_group_labels=var_group_labels,\n",
    "              var_group_rotation=0,\n",
    "              )"
   ]
  },
  {
   "cell_type": "markdown",
   "metadata": {},
   "source": [
    "### Curated dotplot of ATN cluster DEGs for Fig. 3H"
   ]
  },
  {
   "cell_type": "code",
   "execution_count": 21,
   "metadata": {},
   "outputs": [],
   "source": [
    "markers_manual_ATN = [\n",
    "    # ADm 2613\n",
    "    'Calb2', 'Cnr1', #'Lypd1',\n",
    "    # ADl 2614    \n",
    "    'Scn4b', 'Syt2',\n",
    "    # AVm 2615            \n",
    "    'Htr1b', 'Sorcs3',  #'Grm1',\n",
    "    # AVl 2616          \n",
    "    'Chrm3', 'Sox2', #'Kcnh8', #'Klhl14',\n",
    "    # AM 2674\n",
    "    'Shisa6', 'Rorb', \n",
    "    # AM 2676                     \n",
    "    'Pdyn', 'Fbn2',\n",
    "    # AM 2675          \n",
    "    'Cacng3', 'Tox', #'Tafa2',               \n",
    "]                             \n",
    "\n",
    "var_group_positions = [\n",
    "                        [0,1], \n",
    "                        [2,3], \n",
    "                        [4,5], \n",
    "                        [6,7], \n",
    "                        [8,9], \n",
    "                        [10,11], \n",
    "                        [12,13],\n",
    "                       ]\n",
    "\n",
    "var_group_labels = ['AD cluster 2613',\n",
    "                    'AD cluster 2614',\n",
    "                    'AV cluster 2615',\n",
    "                    'AV cluster 2616',\n",
    "                    'AM cluster 2674',\n",
    "                    'AM cluster 2676',\n",
    "                    'AM cluster 2675',\n",
    "                    ]"
   ]
  },
  {
   "cell_type": "code",
   "execution_count": 22,
   "metadata": {},
   "outputs": [],
   "source": [
    "fig_curated = sc.pl.dotplot(adata_ATN,\n",
    "                            markers_manual_ATN,\n",
    "                            groupby='cluster', \n",
    "                            dendrogram=False,\n",
    "                            cmap='Blues', #cc.cm.blues, cc.cm.CET_CBL3_r\n",
    "                            var_group_positions=var_group_positions,\n",
    "                            var_group_labels=var_group_labels,\n",
    "                            var_group_rotation=90,\n",
    "                            return_fig=True,\n",
    "                            )\n",
    "\n",
    "fig_curated.savefig(f'{results_dir}/degs_curated_dotplot_ATN.pdf',\n",
    "                    transparent=True, bbox_inches='tight')\n",
    "# fig_curated.savefig(f'{results_dir}/degs_curated_dotplot_ATN.png',\n",
    "#                     transparent=True, bbox_inches='tight')"
   ]
  },
  {
   "cell_type": "markdown",
   "metadata": {},
   "source": [
    "## Fig. 3E-G | Gene expression of cluster DEGs in the ATN"
   ]
  },
  {
   "cell_type": "code",
   "execution_count": 113,
   "metadata": {},
   "outputs": [],
   "source": [
    "sections_ATN_clusters = [8.0, 7.8]\n",
    "taxonomy_level = 'cluster'\n",
    "\n",
    "# set kwargs for annotated cluster plots\n",
    "kwargs_cluster_annotations = dict(\n",
    "    section_col=section_col,\n",
    "    x_col=x_col,\n",
    "    y_col=y_col,\n",
    "    boundary_img=ccf_boundaries_left,\n",
    "    bg_cells=adata_th_left.obs,\n",
    "    point_hue=taxonomy_level,\n",
    "    point_palette=abc_palettes[taxonomy_level],\n",
    "    legend='cells',\n",
    "    point_size=4,\n",
    "    figsize=(1.75,1.5),\n",
    "    face_palette=None,\n",
    "    edge_color='silver'\n",
    "    )\n",
    "\n",
    "# set kwargs for gene expression plots\n",
    "kwargs_ATN_expr = dict(\n",
    "    sections=sections_ATN_clusters,\n",
    "    boundary_img=ccf_boundaries_left,\n",
    "    section_col=section_col,\n",
    "    x_col=x_col,\n",
    "    y_col=y_col,\n",
    "    cmap='Blues',\n",
    "    cb_vmin_vmax=(0,7),\n",
    "    point_size=3,\n",
    "    edge_color='silver', # CCF shape boundary color\n",
    "    edgecolors='silver', # marker edge color\n",
    "    linewidths=0.1,\n",
    "    figsize=(1.75,1.5),\n",
    "    show_axes=False,\n",
    "    )"
   ]
  },
  {
   "cell_type": "markdown",
   "metadata": {},
   "source": [
    "### Fig. 3E | Gene expression of AD cluster DEGs"
   ]
  },
  {
   "cell_type": "code",
   "execution_count": 138,
   "metadata": {},
   "outputs": [],
   "source": [
    "# AD clusters\n",
    "nuclei_highlight = ['AD']\n",
    "\n",
    "custom_xy_lims_AD = [4.4, 5.0, 5.55, 4.55]  # manually set zoom so the two sections' \n",
    "                                            # plots are the same size\n",
    "                                            \n",
    "obs_annot = abc.get_obs_from_annotated_clusters(nuclei_highlight, adata_th_left.obs)"
   ]
  },
  {
   "cell_type": "code",
   "execution_count": 139,
   "metadata": {},
   "outputs": [],
   "source": [
    "# AD clusters\n",
    "for sec in sections_ATN_clusters:\n",
    "    figs_annot = cplots.plot_ccf_overlay(obs_annot, \n",
    "                                        ccf_images_left,\n",
    "                                        ccf_highlight=nuclei_highlight,\n",
    "                                        sections=[sec],\n",
    "                                        custom_xy_lims=custom_xy_lims_AD,\n",
    "                                        **kwargs_cluster_annotations)\n",
    "    figs_annot[0].savefig(f'{results_dir}/fig3_cluster_annotations_{nuclei_highlight[0]}_z{int(sec*10)}.pdf', \n",
    "                        transparent=True, bbox_inches='tight')\n",
    "    figs_annot[0].savefig(f'{results_dir}/fig3_cluster_annotations_{nuclei_highlight[0]}_z{int(sec*10)}.png', \n",
    "                        transparent=True, bbox_inches='tight', dpi=1200)"
   ]
  },
  {
   "cell_type": "code",
   "execution_count": 140,
   "metadata": {},
   "outputs": [],
   "source": [
    "# AD DEGs\n",
    "for gene in markers_manual_ATN[:3:2]:\n",
    "    figs = cplots.plot_expression_ccf(adata_th_left, \n",
    "                               gene, \n",
    "                               ccf_images_left,\n",
    "                               highlight=nuclei_highlight,\n",
    "                            #    zoom_to_highlighted=True,\n",
    "                               custom_xy_lims=custom_xy_lims_AD,\n",
    "                               **kwargs_ATN_expr)\n",
    "    for i, fig in enumerate(figs):\n",
    "        fig.savefig(f'{results_dir}/degs_ATN_AD_{gene}_z{int(sections_to_plot[i]*10)}.pdf',\n",
    "                    transparent=True, bbox_inches='tight', dpi=1200)\n",
    "        fig.savefig(f'{results_dir}/degs_ATN_AD_{gene}_z{int(sections_to_plot[i]*10)}.png',\n",
    "                    transparent=True, bbox_inches='tight', dpi=1200)"
   ]
  },
  {
   "cell_type": "markdown",
   "metadata": {},
   "source": [
    "### Fig. 3F | Gene expression of AV cluster DEGs"
   ]
  },
  {
   "cell_type": "code",
   "execution_count": 141,
   "metadata": {},
   "outputs": [],
   "source": [
    "# AV clusters\n",
    "nuclei_highlight = ['AV']\n",
    "\n",
    "custom_xy_lims_AV = [4.0, 5.0, 5.90, 4.75]  # manually set zoom so the two sections' \n",
    "                                            # plots are the same size\n",
    "                                            \n",
    "obs_annot = abc.get_obs_from_annotated_clusters(nuclei_highlight, adata_th_left.obs)"
   ]
  },
  {
   "cell_type": "code",
   "execution_count": 142,
   "metadata": {},
   "outputs": [],
   "source": [
    "# AV clusters\n",
    "for sec in sections_ATN_clusters:\n",
    "    figs_annot = cplots.plot_ccf_overlay(obs_annot, \n",
    "                                        ccf_images_left,\n",
    "                                        ccf_highlight=nuclei_highlight,\n",
    "                                        sections=[sec],\n",
    "                                        custom_xy_lims=custom_xy_lims_AV,\n",
    "                                        **kwargs_cluster_annotations)\n",
    "    figs_annot[0].savefig(f'{results_dir}/fig3_cluster_annotations_{nuclei_highlight[0]}_z{int(sec*10)}.pdf', \n",
    "                        transparent=True, bbox_inches='tight')\n",
    "    figs_annot[0].savefig(f'{results_dir}/fig3_cluster_annotations_{nuclei_highlight[0]}_z{int(sec*10)}.png', \n",
    "                        transparent=True, bbox_inches='tight', dpi=1200)"
   ]
  },
  {
   "cell_type": "code",
   "execution_count": 143,
   "metadata": {},
   "outputs": [],
   "source": [
    "# AV DEGs\n",
    "for gene in markers_manual_ATN[4:8:2]:\n",
    "    figs = cplots.plot_expression_ccf(adata_th_left, \n",
    "                               gene, \n",
    "                               ccf_images_left,\n",
    "                               highlight=nuclei_highlight,\n",
    "                            #    zoom_to_highlighted=True,\n",
    "                               custom_xy_lims=custom_xy_lims_AV,\n",
    "                               **kwargs_ATN_expr)\n",
    "    for i, fig in enumerate(figs):\n",
    "        fig.savefig(f'{results_dir}/degs_ATN_{nuclei_highlight[0]}_{gene}_z{int(sections_to_plot[i]*10)}.pdf',\n",
    "                    transparent=True, bbox_inches='tight', dpi=1200)\n",
    "        fig.savefig(f'{results_dir}/degs_ATN_{nuclei_highlight[0]}_{gene}_z{int(sections_to_plot[i]*10)}.png',\n",
    "                    transparent=True, bbox_inches='tight', dpi=1200)\n"
   ]
  },
  {
   "cell_type": "code",
   "execution_count": 149,
   "metadata": {},
   "outputs": [],
   "source": [
    "# AM clusters\n",
    "nuclei_annot = ['AM']\n",
    "nuclei_highlight = ['AMd', 'AMv']\n",
    "\n",
    "custom_xy_lims_AM = [4.35, 5.3, 6.35, 5.3]  # manually set zoom so the two sections' \n",
    "                                            # plots are the same size\n",
    "                                            \n",
    "obs_annot = abc.get_obs_from_annotated_clusters(nuclei_annot, adata_th_left.obs)"
   ]
  },
  {
   "cell_type": "code",
   "execution_count": 153,
   "metadata": {},
   "outputs": [],
   "source": [
    "# AM clusters\n",
    "for sec in sections_ATN_clusters:\n",
    "    figs_annot = cplots.plot_ccf_overlay(obs_annot, \n",
    "                                        ccf_images_left,\n",
    "                                        ccf_highlight=nuclei_highlight,\n",
    "                                        sections=[sec],\n",
    "                                        custom_xy_lims=custom_xy_lims_AM,\n",
    "                                        **kwargs_cluster_annotations)\n",
    "    figs_annot[0].savefig(f'{results_dir}/fig3_cluster_annotations_{nuclei_highlight[0]}_z{int(sec*10)}.pdf', \n",
    "                        transparent=True, bbox_inches='tight')\n",
    "    figs_annot[0].savefig(f'{results_dir}/fig3_cluster_annotations_{nuclei_highlight[0]}_z{int(sec*10)}.png', \n",
    "                        transparent=True, bbox_inches='tight', dpi=1200)"
   ]
  },
  {
   "cell_type": "markdown",
   "metadata": {},
   "source": [
    "### Fig. 3G | Gene expression of AM cluster DEGs"
   ]
  },
  {
   "cell_type": "code",
   "execution_count": 164,
   "metadata": {},
   "outputs": [],
   "source": [
    "# AM DEGs\n",
    "for gene in markers_manual_ATN[8::2]:\n",
    "    figs = cplots.plot_expression_ccf(\n",
    "                                adata_th_left, \n",
    "                                gene, \n",
    "                                ccf_images_left,\n",
    "                                highlight=nuclei_highlight,\n",
    "                                #    zoom_to_highlighted=True,\n",
    "                                custom_xy_lims=custom_xy_lims_AM,\n",
    "                                **kwargs_ATN_expr)\n",
    "    \n",
    "    for i, fig in enumerate(figs):\n",
    "        fig.savefig(f'{results_dir}/degs_ATN_{nuclei_annot[0]}_{gene}_z{int(sections_to_plot[i]*10)}.pdf',\n",
    "                    transparent=True, bbox_inches='tight', dpi=1200)\n",
    "        fig.savefig(f'{results_dir}/degs_ATN_{nuclei_annot[0]}_{gene}_z{int(sections_to_plot[i]*10)}.png',\n",
    "                    transparent=True, bbox_inches='tight', dpi=1200)"
   ]
  },
  {
   "cell_type": "markdown",
   "metadata": {},
   "source": [
    "## Alt. Fig. 3E-G | left hemi, two sections"
   ]
  },
  {
   "cell_type": "code",
   "execution_count": null,
   "metadata": {},
   "outputs": [],
   "source": [
    "# get the cluster annotations for the nucleus of interest\n",
    "nucleus = ['AD', 'AM', 'AV']\n",
    "obs_th_left = adata_th_left.obs.copy()\n",
    "obs_annot = abc.get_obs_from_annotated_clusters(nucleus, obs_th_left)\n",
    "\n",
    "# Let's look at the cell types in the ATN in one sample section\n",
    "sections_to_plot = [8.0, 7.8]\n",
    "nuclei_highlight = ['AD', 'AMd', 'AMv', 'AV', 'AV']\n",
    "taxonomy_level = 'cluster'\n",
    "\n",
    "plt.rcParams.update({'font.size': 7})\n",
    "figs_annot = cplots.plot_ccf_overlay(obs_annot, \n",
    "                                    ccf_images_left,\n",
    "                                    boundary_img=ccf_boundaries_left,\n",
    "                                    bg_cells=obs_th_left, \n",
    "                                    ccf_highlight=nuclei_highlight,\n",
    "                                    point_hue=taxonomy_level, \n",
    "                                    sections=sections_to_plot,\n",
    "                                    point_palette=abc_palettes[taxonomy_level],\n",
    "                                    legend='cells',\n",
    "                                    **kwargs_cluster_annotations)\n",
    "\n",
    "for i, sec in enumerate(sections_to_plot):\n",
    "    sec_str = int(sec*10)\n",
    "    figs_annot[i].savefig(f'{results_dir}/fig2f_cluster_annotations_z{sec_str}_ATN_left.pdf',\n",
    "                        transparent=True, bbox_inches='tight')\n",
    "    figs_annot[i].savefig(f'{results_dir}/fig2f_cluster_annotations_z{sec_str}_ATN_left.png',\n",
    "                        transparent=True, bbox_inches='tight', dpi=1200)"
   ]
  },
  {
   "cell_type": "code",
   "execution_count": null,
   "metadata": {},
   "outputs": [],
   "source": [
    "rcParams['image.composite_image'] = False\n",
    "\n",
    "kwargs_ATN_expr = dict(\n",
    "    sections=sections_to_plot,\n",
    "    zoom_to_highlighted=True,\n",
    "    boundary_img=ccf_boundaries_left,\n",
    "    section_col=section_col,\n",
    "    x_col=x_col,\n",
    "    y_col=y_col,\n",
    "    cmap='Blues',\n",
    "    cb_vmin_vmax=(0,7),\n",
    "    point_size=3,\n",
    "    edge_color='silver', # CCF shape boundary color\n",
    "    edgecolors='silver', # marker edge color\n",
    "    linewidths=0.1,\n",
    "    figsize=(1.5,1.5),\n",
    "    )\n",
    "\n",
    "# AD DEGs\n",
    "for gene in markers_manual_ATN[:3:2]:\n",
    "    figs = cplots.plot_expression_ccf(adata_th_left, \n",
    "                               gene, \n",
    "                               ccf_images_left,\n",
    "                               highlight=['AD'],\n",
    "                               **kwargs_ATN_expr)\n",
    "    for i, fig in enumerate(figs):\n",
    "        fig.savefig(f'{results_dir}/degs_ATN_AD_{gene}_z{int(sections_to_plot[i]*10)}.pdf',\n",
    "                    transparent=True, bbox_inches='tight', dpi=1200)\n",
    "        fig.savefig(f'{results_dir}/degs_ATN_AD_{gene}_z{int(sections_to_plot[i]*10)}.png',\n",
    "                    transparent=True, bbox_inches='tight', dpi=1200)"
   ]
  },
  {
   "cell_type": "code",
   "execution_count": null,
   "metadata": {},
   "outputs": [],
   "source": [
    "# AV DEGs\n",
    "for gene in markers_manual_ATN[4:8:2]:\n",
    "    figs = cplots.plot_expression_ccf(adata_th_left, \n",
    "                               gene, \n",
    "                               ccf_images_left,\n",
    "                               highlight=['AV'],\n",
    "                               **kwargs_ATN_expr)\n",
    "    for i, fig in enumerate(figs):\n",
    "        fig.savefig(f'{results_dir}/degs_ATN_AV_{gene}_z{int(sections_to_plot[i]*10)}.pdf',\n",
    "                    transparent=True, bbox_inches='tight', dpi=1200)\n",
    "        fig.savefig(f'{results_dir}/degs_ATN_AV_{gene}_z{int(sections_to_plot[i]*10)}.png',\n",
    "                    transparent=True, bbox_inches='tight', dpi=1200)"
   ]
  },
  {
   "cell_type": "code",
   "execution_count": null,
   "metadata": {},
   "outputs": [],
   "source": [
    "# AM DEGs\n",
    "for gene in markers_manual_ATN[8::2]:\n",
    "    figs = cplots.plot_expression_ccf(adata_th_left, \n",
    "                               gene, \n",
    "                               ccf_images_left,\n",
    "                               highlight=['AMd', 'AMv'],\n",
    "                               **kwargs_ATN_expr)\n",
    "    for i, fig in enumerate(figs):\n",
    "        fig.savefig(f'{results_dir}/degs_ATN_AM_{gene}_z{int(sections_to_plot[i]*10)}.pdf',\n",
    "                    transparent=True, bbox_inches='tight', dpi=1200)\n",
    "        fig.savefig(f'{results_dir}/degs_ATN_AM_{gene}_z{int(sections_to_plot[i]*10)}.png',\n",
    "                    transparent=True, bbox_inches='tight', dpi=1200)"
   ]
  },
  {
   "cell_type": "code",
   "execution_count": null,
   "metadata": {},
   "outputs": [],
   "source": []
  }
 ],
 "metadata": {
  "kernelspec": {
   "display_name": "base",
   "language": "python",
   "name": "python3"
  },
  "language_info": {
   "codemirror_mode": {
    "name": "ipython",
    "version": 3
   },
   "file_extension": ".py",
   "mimetype": "text/x-python",
   "name": "python",
   "nbconvert_exporter": "python",
   "pygments_lexer": "ipython3",
   "version": "3.9.12"
  }
 },
 "nbformat": 4,
 "nbformat_minor": 2
}
