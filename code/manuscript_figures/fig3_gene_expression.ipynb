{
 "cells": [
  {
   "cell_type": "code",
   "execution_count": 1,
   "metadata": {},
   "outputs": [],
   "source": [
    "%load_ext autoreload\n",
    "%autoreload 2"
   ]
  },
  {
   "cell_type": "markdown",
   "metadata": {},
   "source": [
    "# Figure 3 - Gene Expression"
   ]
  },
  {
   "cell_type": "code",
   "execution_count": 2,
   "metadata": {},
   "outputs": [],
   "source": [
    "import numpy as np\n",
    "import pandas as pd\n",
    "import scanpy as sc\n",
    "\n",
    "import sys\n",
    "sys.path.append('/code/')\n",
    "from thalamus_merfish_analysis import abc_load as abc\n",
    "from thalamus_merfish_analysis import ccf_images as cimg\n",
    "from thalamus_merfish_analysis import ccf_plots as cplots\n",
    "\n",
    "import warnings\n",
    "warnings.simplefilter(action='ignore', category=FutureWarning)\n",
    "\n",
    "from matplotlib import rcParams\n",
    "rcParams['ps.fonttype'] = 42\n",
    "rcParams['pdf.fonttype'] = 42\n",
    "rcParams['font.size'] = 7\n",
    "\n",
    "import colorcet as cc\n",
    "\n",
    "import matplotlib.pyplot as plt\n",
    "get_ipython().run_line_magic('matplotlib', 'inline') "
   ]
  },
  {
   "cell_type": "code",
   "execution_count": 3,
   "metadata": {},
   "outputs": [],
   "source": [
    "adata_th = abc.load_standard_thalamus(data_structure='adata')"
   ]
  },
  {
   "cell_type": "code",
   "execution_count": 4,
   "metadata": {},
   "outputs": [],
   "source": [
    "# set spatial column names to `_reconstructed` coordinate space\n",
    "coords = '_reconstructed'\n",
    "\n",
    "x_col = 'x'+coords\n",
    "y_col = 'y'+coords\n",
    "section_col = z_col = 'z'+coords"
   ]
  },
  {
   "cell_type": "code",
   "execution_count": 5,
   "metadata": {},
   "outputs": [],
   "source": [
    "# Load the CCF structures image\n",
    "ccf_images = abc.get_ccf_labels_image()\n",
    "\n",
    "# Precompute boundaries to use multiple times in this notebook w/o need to recompute\n",
    "# we only need to load the boundaries for sections that contain the thalamus\n",
    "sections_all = sorted(adata_th.obs[section_col].unique())\n",
    "sections_int = np.rint(np.array(sections_all)/0.2).astype(int)\n",
    "\n",
    "# precompute boundaries for thalamic sections\n",
    "ccf_boundaries = cimg.sectionwise_label_erosion(ccf_images, distance_px=1, \n",
    "                                                fill_val=0, return_edges=True, \n",
    "                                                section_list=sections_int\n",
    "                                                )"
   ]
  },
  {
   "cell_type": "code",
   "execution_count": 17,
   "metadata": {},
   "outputs": [],
   "source": [
    "adata_th_left = adata_th[adata_th.obs['left_hemisphere']].copy()\n",
    "\n",
    "# Load the CCF structures image - just the left hemisphere\n",
    "ccf_images_left = abc.get_ccf_labels_image(subset_to_left_hemi=True)\n",
    "\n",
    "# Precompute boundaries to use multiple times in this notebook w/o need to recompute\n",
    "# we only need to load the boundaries for sections that contain the thalamus\n",
    "sections_all = sorted(adata_th_left.obs[section_col].unique())\n",
    "sections_int = np.rint(np.array(sections_all)/0.2).astype(int)\n",
    "\n",
    "# precompute boundaries for thalamic sections\n",
    "ccf_boundaries_left = cimg.sectionwise_label_erosion(ccf_images_left, distance_px=1, \n",
    "                                                fill_val=0, return_edges=True, \n",
    "                                                section_list=sections_int\n",
    "                                                )"
   ]
  },
  {
   "cell_type": "code",
   "execution_count": 6,
   "metadata": {},
   "outputs": [],
   "source": [
    "# if you reload thalamus_merfish_analysis.ccf_plots after this cell has been run, \n",
    "# cplots.CCF_REGIONS_DEFAULT will be reset to None & you'll need to re-run this cell\n",
    "cplots.CCF_REGIONS_DEFAULT = abc.get_thalamus_names('substructure')"
   ]
  },
  {
   "cell_type": "code",
   "execution_count": 13,
   "metadata": {},
   "outputs": [],
   "source": [
    "# load the published color palettes for the ABC Atlas taxonomy\n",
    "abc_palettes = {level: abc.get_taxonomy_palette(level) for level in \n",
    "                ['neurotransmitter','class', 'subclass','supertype','cluster']}\n",
    "\n",
    "# We have also provided a secondary color palette for the cluster level that \n",
    "# attempts to increase the color contrast between spatially negihboring clusters\n",
    "palette_df = pd.read_csv('/code/resources/cluster_palette_glasbey.csv')\n",
    "abc_palettes['cluster'] = dict(zip(palette_df['Unnamed: 0'], palette_df['0']))"
   ]
  },
  {
   "cell_type": "code",
   "execution_count": 8,
   "metadata": {},
   "outputs": [],
   "source": [
    "results_dir = '../../results'"
   ]
  },
  {
   "cell_type": "markdown",
   "metadata": {},
   "source": [
    "## Figure 3A"
   ]
  },
  {
   "cell_type": "code",
   "execution_count": 14,
   "metadata": {},
   "outputs": [],
   "source": [
    "# set kwargs fpr annotated cluster plots\n",
    "kwargs_cluster_annotations = dict(\n",
    "    section_col=z_col,\n",
    "    x_col=x_col,\n",
    "    y_col=y_col,\n",
    "    point_size=1.5,\n",
    "    figsize=(4, 2),\n",
    "    face_palette=None,\n",
    "    edge_color='silver'\n",
    "    )\n",
    "\n",
    "# get the cluster annotations for the nucleus of interest\n",
    "nucleus = ['AD', 'AM', 'AV']\n",
    "obs_annot = abc.get_obs_from_annotated_clusters(nucleus, adata_th_left.obs)\n",
    "\n",
    "# Let's look at the cell types in the ATN in one sample section\n",
    "sections_to_plot = [cplots.TH_EXAMPLE_Z_SECTIONS[0]]\n",
    "nuclei_highlight = ['AD', 'AMd', 'AMv', 'AV', 'AV']\n",
    "taxonomy_level = 'cluster'\n",
    "\n",
    "plt.rcParams.update({'font.size': 7})\n",
    "figs_annot = cplots.plot_ccf_overlay(obs_annot, \n",
    "                                    ccf_images,\n",
    "                                    boundary_img=ccf_boundaries,\n",
    "                                    bg_cells=adata_th.obs, \n",
    "                                    ccf_highlight=nuclei_highlight,\n",
    "                                    point_hue=taxonomy_level, \n",
    "                                    sections=sections_to_plot,\n",
    "                                    point_palette=abc_palettes[taxonomy_level],\n",
    "                                    legend='cells',\n",
    "                                    **kwargs_cluster_annotations)\n",
    "figs_annot[0].savefig(f'{results_dir}/fig2f_cluster_annotations_z80_ATN.pdf', \n",
    "                      transparent=True, bbox_inches='tight')\n",
    "figs_annot[0].savefig(f'{results_dir}/fig2f_cluster_annotations_z80_ATN.png', \n",
    "                      transparent=True, bbox_inches='tight', dpi=1200)"
   ]
  },
  {
   "cell_type": "markdown",
   "metadata": {},
   "source": [
    "## Figure n_genes? - gene expression dot plot"
   ]
  },
  {
   "cell_type": "code",
   "execution_count": 18,
   "metadata": {},
   "outputs": [],
   "source": [
    "# kwargs_scatter = dict(\n",
    "#     linewidths=2,\n",
    "#     edgecolors='black',\n",
    "#     )"
   ]
  },
  {
   "cell_type": "markdown",
   "metadata": {},
   "source": [
    "### ATN nuclei"
   ]
  },
  {
   "cell_type": "code",
   "execution_count": 19,
   "metadata": {},
   "outputs": [],
   "source": [
    "# get the cluster annotations for the nucleus of interest\n",
    "nucleus = ['AD', 'AM', 'AV']\n",
    "obs_annot = abc.get_obs_from_annotated_clusters(nucleus, adata_th.obs)\n",
    "\n",
    "# clean up cluster categories\n",
    "obs_annot.loc[:,'cluster'] = obs_annot.loc[:,'cluster'].cat.remove_unused_categories()\n",
    "# get the nucleus-specific list of clusters\n",
    "cluster_list_ATN = sorted(obs_annot.loc[:,'cluster'].cat.categories)\n",
    "\n",
    "# use that list to filter & reset the cluster col in the full anndata object\n",
    "adata_ATN = adata_th[adata_th.obs['cluster'].isin(cluster_list_ATN)].copy()\n",
    "\n",
    "adata_ATN.obs.loc[:,'cluster'] = adata_ATN.obs.loc[:,'cluster'].cat.remove_unused_categories()\n",
    "adata_ATN.obs.loc[:,'cluster'] = adata_ATN.obs.loc[:,'cluster'].cat.reorder_categories(cluster_list_ATN, ordered=True)"
   ]
  },
  {
   "cell_type": "code",
   "execution_count": 20,
   "metadata": {},
   "outputs": [],
   "source": [
    "supertypes_ATN = ['0642 AV Col27a1 Glut_1', \n",
    "                  '0641 AD Serpinb7 Glut_1',\n",
    "                  '0662 TH Prkcd Grin2c Glut_9']\n",
    "\n",
    "adata_ATN.obs['supertype'].cat.categories"
   ]
  },
  {
   "cell_type": "code",
   "execution_count": 21,
   "metadata": {},
   "outputs": [],
   "source": [
    "clusters_med_to_lat_ATN = [\n",
    "    '2613 AD Serpinb7 Glut_1',\n",
    "    '2614 AD Serpinb7 Glut_1',\n",
    "    '2615 AV Col27a1 Glut_1',\n",
    "    '2616 AV Col27a1 Glut_1',\n",
    "    '2674 TH Prkcd Grin2c Glut_9',\n",
    "    '2676 TH Prkcd Grin2c Glut_9',\n",
    "    '2675 TH Prkcd Grin2c Glut_9',\n",
    "]\n",
    "\n",
    "# reorder by manual medial-to-lateral ordering\n",
    "adata_ATN.obs.loc[:,'cluster'] = adata_ATN.obs.loc[:,'cluster'].cat.reorder_categories(clusters_med_to_lat_ATN, ordered=True)"
   ]
  },
  {
   "cell_type": "code",
   "execution_count": 22,
   "metadata": {},
   "outputs": [],
   "source": [
    "adata_ATN.obs.loc[:,'cluster'].cat.categories"
   ]
  },
  {
   "cell_type": "code",
   "execution_count": 23,
   "metadata": {},
   "outputs": [],
   "source": [
    "# get top 5 DEGs for each ATN cluster vs rest of the clusters\n",
    "# TODO: check if DEGs change when you run this analysis on an anndata object \n",
    "#       with: the whole brain vs the whole thalamus vs just the ATN cells\n",
    "deg_list_ATN = []\n",
    "for cluster in clusters_med_to_lat_ATN:\n",
    "    sc.tl.rank_genes_groups(adata_ATN, groupby=\"cluster\", groups=[cluster],\n",
    "                            reference='rest', n_genes=5, method=\"wilcoxon\")\n",
    "    deg_list_ATN.extend(sc.get.rank_genes_groups_df(adata_ATN, group=cluster).names.to_list())\n",
    "\n",
    "print(deg_list_ATN)\n",
    "\n",
    "# manually set gene group labels for dotplot\n",
    "var_group_positions = [[0,4], [5,9], \n",
    "                       [10,14], [15,19], \n",
    "                       [20,24], [25,29], [30,34]]\n",
    "var_group_labels = ['AD cluster 2613\\nvs rest', \n",
    "                    'AD cluster 2614\\nvs rest',\n",
    "                    'AV cluster 2615\\nvs rest', \n",
    "                    'AV cluster 2616\\nvs rest',\n",
    "                    'AM cluster 2674\\nvs rest', \n",
    "                    'AM cluster 2676\\nvs rest', \n",
    "                    'AM cluster 2675\\nvs rest']\n",
    "# dotplot\n",
    "sc.pl.dotplot(adata_ATN,\n",
    "              deg_list_ATN,\n",
    "            #   sorted(list(set(deg_list_ATN))), \n",
    "              groupby='cluster', \n",
    "              dendrogram=False,\n",
    "              cmap='Blues',\n",
    "              var_group_positions=var_group_positions,\n",
    "              var_group_labels=var_group_labels,\n",
    "              var_group_rotation=0)"
   ]
  },
  {
   "cell_type": "code",
   "execution_count": 24,
   "metadata": {},
   "outputs": [],
   "source": [
    "def get_rank_genes_list(adata, \n",
    "                        groupby='cluster', \n",
    "                        group='', \n",
    "                        reference='rest', \n",
    "                        n_genes=5):\n",
    "    # find DEGs\n",
    "    sc.tl.rank_genes_groups(adata, \n",
    "                            groupby=\"cluster\", \n",
    "                            groups=[group],\n",
    "                            reference=reference, \n",
    "                            n_genes=n_genes, \n",
    "                            method=\"wilcoxon\")\n",
    "    # get DEGs\n",
    "    deg_list = sc.get.rank_genes_groups_df(adata, group=group).names.to_list()\n",
    "    \n",
    "    return deg_list"
   ]
  },
  {
   "cell_type": "code",
   "execution_count": 25,
   "metadata": {},
   "outputs": [],
   "source": [
    "cluster_list_ATN"
   ]
  },
  {
   "cell_type": "code",
   "execution_count": 26,
   "metadata": {},
   "outputs": [],
   "source": [
    "deg_paired_list_ATN = []\n",
    "n_genes = 5\n",
    "\n",
    "# AD clusters vs each other\n",
    "deg_paired_list_ATN.extend(get_rank_genes_list(adata_ATN, \n",
    "                                               group='2613 AD Serpinb7 Glut_1', \n",
    "                                               reference='2614 AD Serpinb7 Glut_1',\n",
    "                                               n_genes=n_genes))\n",
    "print(deg_paired_list_ATN)\n",
    "# sc.pl.rank_genes_groups(adata_ATN, group=cluster_list_ATN[0])\n",
    "deg_paired_list_ATN.extend(get_rank_genes_list(adata_ATN, \n",
    "                                               group='2614 AD Serpinb7 Glut_1', \n",
    "                                               reference='2613 AD Serpinb7 Glut_1',\n",
    "                                               n_genes=n_genes))\n",
    "print(deg_paired_list_ATN)\n",
    "\n",
    "# AV clusters vs each other\n",
    "deg_paired_list_ATN.extend(get_rank_genes_list(adata_ATN, \n",
    "                                               group='2615 AV Col27a1 Glut_1',\n",
    "                                               reference='2616 AV Col27a1 Glut_1',\n",
    "                                               n_genes=n_genes))\n",
    "print(deg_paired_list_ATN)\n",
    "deg_paired_list_ATN.extend(get_rank_genes_list(adata_ATN, \n",
    "                                               group='2616 AV Col27a1 Glut_1',\n",
    "                                               reference='2615 AV Col27a1 Glut_1',\n",
    "                                               n_genes=n_genes))\n",
    "print(deg_paired_list_ATN)\n",
    "\n",
    "# AM clusters vs each other -- medial -> lateral : 2674 -> 2676 -> 2675\n",
    "# 2676 vs 2674\n",
    "deg_paired_list_ATN.extend(get_rank_genes_list(adata_ATN, \n",
    "                                               group='2674 TH Prkcd Grin2c Glut_9', \n",
    "                                               reference='2676 TH Prkcd Grin2c Glut_9',\n",
    "                                               n_genes=n_genes))\n",
    "print(deg_paired_list_ATN)\n",
    "deg_paired_list_ATN.extend(get_rank_genes_list(adata_ATN, \n",
    "                                               group='2676 TH Prkcd Grin2c Glut_9', \n",
    "                                               reference='2674 TH Prkcd Grin2c Glut_9',\n",
    "                                               n_genes=n_genes))\n",
    "# 2676 vs 2675\n",
    "deg_paired_list_ATN.extend(get_rank_genes_list(adata_ATN, \n",
    "                                               group='2676 TH Prkcd Grin2c Glut_9', \n",
    "                                               reference='2675 TH Prkcd Grin2c Glut_9',\n",
    "                                               n_genes=n_genes))\n",
    "print(deg_paired_list_ATN)\n",
    "deg_paired_list_ATN.extend(get_rank_genes_list(adata_ATN, \n",
    "                                               group='2675 TH Prkcd Grin2c Glut_9', \n",
    "                                               reference='2676 TH Prkcd Grin2c Glut_9',\n",
    "                                               n_genes=n_genes))\n",
    "# 2674 vs 2675\n",
    "deg_paired_list_ATN.extend(get_rank_genes_list(adata_ATN, \n",
    "                                               group='2674 TH Prkcd Grin2c Glut_9', \n",
    "                                               reference='2675 TH Prkcd Grin2c Glut_9',\n",
    "                                               n_genes=n_genes))\n",
    "print(deg_paired_list_ATN)\n",
    "deg_paired_list_ATN.extend(get_rank_genes_list(adata_ATN, \n",
    "                                               group='2675 TH Prkcd Grin2c Glut_9', \n",
    "                                               reference='2674 TH Prkcd Grin2c Glut_9',\n",
    "                                               n_genes=n_genes))\n",
    "print(deg_paired_list_ATN)\n",
    "\n",
    "# set gene group labels for dotplot\n",
    "var_group_positions = [[0,9], [0,4], [5,9], \n",
    "                       [10,19], [10,14], [15,19], \n",
    "                       [20,49], [20,24], [25,29], [30,34], [35,39], [40,44], [45,49]]\n",
    "var_group_labels = ['AD clusters\\n',\n",
    "                    '2613 vs 2614',\n",
    "                    '2614 vs 2613',\n",
    "                    'AV clusters\\n',\n",
    "                    '2615 vs 2616',\n",
    "                    '2616 vs 2615',\n",
    "                    'AM clusters\\n',\n",
    "                    '2674 vs 2676',\n",
    "                    '2676 vs 2674',\n",
    "                    '2676 vs 2675',\n",
    "                    '2675 vs 2676',\n",
    "                    '2674 vs 2675',\n",
    "                    '2675 vs 2674']\n",
    "# dotplot\n",
    "sc.pl.dotplot(adata_ATN,\n",
    "              deg_paired_list_ATN, \n",
    "              groupby='cluster', \n",
    "              dendrogram=False,\n",
    "              cmap='Blues',\n",
    "              var_group_positions=var_group_positions,\n",
    "              var_group_labels=var_group_labels,\n",
    "              var_group_rotation=0,\n",
    "              )"
   ]
  },
  {
   "cell_type": "code",
   "execution_count": 27,
   "metadata": {},
   "outputs": [],
   "source": [
    "# var_group_positions = [[0,4], [5,9], [10,14], [15,19], \n",
    "#                        [20,24], [25,29], [30,34], [35,39], [40,44], [45,49]]\n",
    "# var_group_labels = ['AD clusters\\n2613 vs 2614',\n",
    "#                     'AD clusters\\n2614 vs 2613', \n",
    "#                     'AV clusters\\n2615 vs 2616', \n",
    "#                     'AV clusters\\n2616 vs 2615',\n",
    "#                     'AM clusters\\n2674 vs 2676',\n",
    "#                     'AM clusters\\n2676 vs 2674',\n",
    "#                     'AM clusters\\n2676 vs 2675',\n",
    "#                     'AM clusters\\n2675 vs 2676',\n",
    "#                     'AM clusters\\n2674 vs 2675',\n",
    "                    # 'AM clusters\\n2675 vs 2674']\n"
   ]
  },
  {
   "cell_type": "code",
   "execution_count": 28,
   "metadata": {},
   "outputs": [],
   "source": [
    "gene_list = sorted(adata_ATN.var.index)"
   ]
  },
  {
   "cell_type": "code",
   "execution_count": 29,
   "metadata": {},
   "outputs": [],
   "source": [
    "# AD markers from literature\n",
    "nagalski_2016_markers_ad = ['Ahnak2', \n",
    "                       'Bcl2l11',\n",
    "                       'C1ql2',\n",
    "                       'Col5a2',\n",
    "                       'Ddef1',\n",
    "                       'Dkk3',\n",
    "                       'Ephx2',\n",
    "                       'Gng13',\n",
    "                       'Ism1',\n",
    "                       'Kcng3',\n",
    "                       'Notum',\n",
    "                       'Ntn1',\n",
    "                       'Stard13'\n",
    "                       ]\n",
    "roy_2021_markers_ad = ['C1ql2', 'Herc1', 'Mtor', 'Prchd1', 'Ywhag']\n",
    "\n",
    "nagalski_markers_av = ['Echdc2', 'Myo5c']\n",
    "roy_2021_markers_av = ['Col25a1']"
   ]
  },
  {
   "cell_type": "code",
   "execution_count": 30,
   "metadata": {},
   "outputs": [],
   "source": [
    "for gene in nagalski_2016_markers_ad:\n",
    "    if gene in gene_list:\n",
    "        print(gene)"
   ]
  },
  {
   "cell_type": "code",
   "execution_count": 40,
   "metadata": {},
   "outputs": [],
   "source": [
    "markers_custom_ATN = ['Calb2', 'Cnr1', 'Lypd1',     # ADm 2613\n",
    "                      'Scn4b', 'Syt2',              # ADl 2614\n",
    "                      'Htr1b',                      # AVm 2615\n",
    "                      'Chrm3', 'Kcnh8', 'Klhl14',   # AVl 2616\n",
    "                      'Shisa6',                     # AM 2674\n",
    "                      'Pdyn', 'Fbn2',               # AM 2676\n",
    "                      'Cacng3',                     # AM 2675\n",
    "                      ]                             \n",
    "\n",
    "var_group_positions = [\n",
    "                        [0,2], \n",
    "                        [3,4], \n",
    "                        [5,5], \n",
    "                        [6,8], \n",
    "                        [9,9], \n",
    "                        [10,11], \n",
    "                        [12,12],\n",
    "                       ]\n",
    "\n",
    "var_group_labels = ['AD cluster 2613',\n",
    "                    'AD cluster 2614',\n",
    "                    'AV cluster 2615',\n",
    "                    'AV cluster 2616',\n",
    "                    'AM cluster 2674',\n",
    "                    'AM cluster 2676',\n",
    "                    'AM cluster 2675',\n",
    "                    ]\n",
    "\n",
    "fig_curated = sc.pl.dotplot(adata_ATN,\n",
    "                            markers_custom_ATN,\n",
    "                            groupby='cluster', \n",
    "                            dendrogram=False,\n",
    "                            cmap='Blues', #cc.cm.blues,\n",
    "                            var_group_positions=var_group_positions,\n",
    "                            var_group_labels=var_group_labels,\n",
    "                            var_group_rotation=90,\n",
    "                            return_fig=True,\n",
    "                            )\n",
    "fig_curated.savefig(f'{results_dir}/degs_curated_dotplot_ATN.pdf',\n",
    "                    transparent=True, bbox_inches='tight')\n",
    "fig_curated.savefig(f'{results_dir}/degs_curated_dotplot_ATN_colorcetBlues.png',\n",
    "                    transparent=True, bbox_inches='tight')"
   ]
  },
  {
   "cell_type": "code",
   "execution_count": 32,
   "metadata": {},
   "outputs": [],
   "source": [
    "fig_curated = sc.pl.dotplot(adata_ATN,\n",
    "                            markers_custom_ATN,\n",
    "                            groupby='cluster', \n",
    "                            dendrogram=False,\n",
    "                            cmap=cc.cm.CET_CBL3_r,\n",
    "                            var_group_positions=var_group_positions,\n",
    "                            var_group_labels=var_group_labels,\n",
    "                            var_group_rotation=90,\n",
    "                            return_fig=True,\n",
    "                            )\n",
    "# fig_curated.savefig(f'{results_dir}/degs_curated_dotplot_ATN.pdf',\n",
    "#                     transparent=True, bbox_inches='tight')\n",
    "fig_curated.savefig(f'{results_dir}/degs_curated_dotplot_ATN_colorcetCET_CBL3.png',\n",
    "                    transparent=True, bbox_inches='tight')"
   ]
  },
  {
   "cell_type": "code",
   "execution_count": 34,
   "metadata": {},
   "outputs": [],
   "source": [
    "fig_curated = sc.pl.dotplot(adata_ATN,\n",
    "                            markers_custom_ATN,\n",
    "                            groupby='cluster', \n",
    "                            dendrogram=False,\n",
    "                            cmap=cc.cm.CET_CBTL3_r,\n",
    "                            var_group_positions=var_group_positions,\n",
    "                            var_group_labels=var_group_labels,\n",
    "                            var_group_rotation=90,\n",
    "                            return_fig=True,\n",
    "                            )\n",
    "\n",
    "fig_curated.savefig(f'{results_dir}/degs_curated_dotplot_ATN_colorcetCBTL3.png',\n",
    "                    transparent=True, bbox_inches='tight')\n",
    "fig_curated.savefig(f'{results_dir}/degs_curated_dotplot_ATN_colorcetCBTL3.pdf',\n",
    "                    transparent=True, bbox_inches='tight')"
   ]
  },
  {
   "cell_type": "code",
   "execution_count": 35,
   "metadata": {},
   "outputs": [],
   "source": [
    "fig_curated = sc.pl.dotplot(adata_ATN,\n",
    "                            markers_custom_ATN,\n",
    "                            groupby='cluster', \n",
    "                            dendrogram=False,\n",
    "                            cmap='Blues',\n",
    "                            var_group_positions=var_group_positions,\n",
    "                            var_group_labels=var_group_labels,\n",
    "                            var_group_rotation=90,\n",
    "                            return_fig=True,\n",
    "                            )\n",
    "fig_curated.savefig(f'{results_dir}/degs_curated_dotplot_ATN_matplotlibBlues.png',\n",
    "                    transparent=True, bbox_inches='tight')"
   ]
  },
  {
   "cell_type": "code",
   "execution_count": 36,
   "metadata": {},
   "outputs": [],
   "source": [
    "# show outlines for all the ATN\n",
    "nuclei_ATN = ['AD', 'AV', 'AMd', 'AMv']\n",
    "sections_ATN = [7.8, 8.0, 8.2]\n",
    "\n",
    "kwargs_ATN_expr = dict(\n",
    "    boundary_img=ccf_boundaries,\n",
    "    section_col=section_col,\n",
    "    x_col=x_col,\n",
    "    y_col=y_col,\n",
    "    cmap='Blues',\n",
    "    point_size=4,\n",
    "    edge_color='silver'\n",
    "    )\n",
    "\n",
    "# we set n_de_genes_to_plot=2 at the top of this notebook\n",
    "for gene in markers_custom_ATN:\n",
    "    cplots.plot_expression_ccf(adata_th, \n",
    "                               gene, \n",
    "                               ccf_images,\n",
    "                               sections=[8.0],\n",
    "                               highlight=nuclei_ATN,\n",
    "                               zoom_to_highlighted=True,\n",
    "                               **kwargs_ATN_expr)"
   ]
  },
  {
   "cell_type": "code",
   "execution_count": 37,
   "metadata": {},
   "outputs": [],
   "source": [
    "kwargs_cluster_annotations = dict(\n",
    "    bg_cells=adata_th.obs,\n",
    "    boundary_img=ccf_boundaries,\n",
    "    section_col=section_col,\n",
    "    x_col=x_col,\n",
    "    y_col=y_col,\n",
    "    point_size=3, #0.5, \n",
    "    face_palette=None,\n",
    "    edge_color='silver'\n",
    "    )\n",
    "\n",
    "# Let's look at the cell types in the ATN in one sample section\n",
    "nuclei_highlight = ['AD', 'AMd', 'AMv', 'AV']\n",
    "taxonomy_level = 'cluster'\n",
    "\n",
    "figs_annot = cplots.plot_ccf_overlay(obs_annot, \n",
    "                                    ccf_images, \n",
    "                                    ccf_highlight=nuclei_highlight,\n",
    "                                    point_hue=taxonomy_level, \n",
    "                                    sections=[8.0],\n",
    "                                    point_palette=cluster_palette,\n",
    "                                    legend='cells',\n",
    "                                    separate_figs=False, n_rows=1,\n",
    "                                    figsize=(20,5),#, (8.3, 3),\n",
    "                                    **kwargs_cluster_annotations)"
   ]
  },
  {
   "cell_type": "code",
   "execution_count": null,
   "metadata": {},
   "outputs": [],
   "source": []
  },
  {
   "cell_type": "markdown",
   "metadata": {},
   "source": [
    "## MD"
   ]
  },
  {
   "cell_type": "code",
   "execution_count": null,
   "metadata": {},
   "outputs": [],
   "source": []
  },
  {
   "cell_type": "code",
   "execution_count": 38,
   "metadata": {},
   "outputs": [],
   "source": [
    "markers_MD = ['Scn4b', 'Ldb2', 'Cntnap3', 'Cbln2', 'Cdh20', 'Necab1', 'Tnnt1', \n",
    "              'Calb2', 'Drd2']"
   ]
  },
  {
   "cell_type": "code",
   "execution_count": null,
   "metadata": {},
   "outputs": [],
   "source": []
  }
 ],
 "metadata": {
  "kernelspec": {
   "display_name": "base",
   "language": "python",
   "name": "python3"
  },
  "language_info": {
   "codemirror_mode": {
    "name": "ipython",
    "version": 3
   },
   "file_extension": ".py",
   "mimetype": "text/x-python",
   "name": "python",
   "nbconvert_exporter": "python",
   "pygments_lexer": "ipython3",
   "version": "3.9.12"
  }
 },
 "nbformat": 4,
 "nbformat_minor": 2
}
