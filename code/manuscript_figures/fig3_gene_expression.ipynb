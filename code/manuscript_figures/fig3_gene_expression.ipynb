{
 "cells": [
  {
   "cell_type": "code",
   "execution_count": 1,
   "metadata": {},
   "outputs": [],
   "source": [
    "%load_ext autoreload\n",
    "%autoreload 2"
   ]
  },
  {
   "cell_type": "markdown",
   "metadata": {},
   "source": [
    "# Figure 3 - Gene Expression"
   ]
  },
  {
   "cell_type": "code",
   "execution_count": 2,
   "metadata": {},
   "outputs": [],
   "source": [
    "import numpy as np\n",
    "import pandas as pd\n",
    "import scanpy as sc\n",
    "\n",
    "import sys\n",
    "sys.path.append('/code/')\n",
    "from thalamus_merfish_analysis import abc_load as abc\n",
    "from thalamus_merfish_analysis import ccf_images as cimg\n",
    "from thalamus_merfish_analysis import ccf_plots as cplots\n",
    "\n",
    "from matplotlib import rcParams\n",
    "rcParams['ps.fonttype'] = 42\n",
    "rcParams['pdf.fonttype'] = 42\n",
    "rcParams['font.size'] = 9\n",
    "\n",
    "import matplotlib.pyplot as plt\n",
    "get_ipython().run_line_magic('matplotlib', 'inline') "
   ]
  },
  {
   "cell_type": "code",
   "execution_count": 3,
   "metadata": {},
   "outputs": [],
   "source": [
    "adata_th = abc.load_standard_thalamus(data_structure='adata')"
   ]
  },
  {
   "cell_type": "code",
   "execution_count": 4,
   "metadata": {},
   "outputs": [],
   "source": [
    "# set spatial column names to `_reconstructed` coordinate space\n",
    "coords = '_reconstructed'\n",
    "\n",
    "x_col = 'x'+coords\n",
    "y_col = 'y'+coords\n",
    "section_col = z_col = 'z'+coords"
   ]
  },
  {
   "cell_type": "code",
   "execution_count": 6,
   "metadata": {},
   "outputs": [],
   "source": [
    "# Load the CCF structures image\n",
    "ccf_images = abc.get_ccf_labels_image()\n",
    "\n",
    "# Precompute boundaries to use multiple times in this notebook w/o need to recompute\n",
    "# we only need to load the boundaries for sections that contain the thalamus\n",
    "sections_all = sorted(adata_th.obs[section_col].unique())\n",
    "sections_int = np.rint(np.array(sections_all)/0.2).astype(int)\n",
    "\n",
    "# precompute boundaries for thalamic sections\n",
    "ccf_boundaries = cimg.sectionwise_label_erosion(ccf_images, distance_px=1, \n",
    "                                                fill_val=0, return_edges=True, \n",
    "                                                section_list=sections_int\n",
    "                                                )"
   ]
  },
  {
   "cell_type": "code",
   "execution_count": 7,
   "metadata": {},
   "outputs": [],
   "source": [
    "# if you reload thalamus_merfish_analysis.ccf_plots after this cell has been run, \n",
    "# cplots.CCF_REGIONS_DEFAULT will be reset to None & you'll need to re-run this cell\n",
    "cplots.CCF_REGIONS_DEFAULT = abc.get_thalamus_names('substructure')"
   ]
  },
  {
   "cell_type": "markdown",
   "metadata": {},
   "source": [
    "## Figure 3? - gene expression dot plot"
   ]
  },
  {
   "cell_type": "markdown",
   "metadata": {},
   "source": [
    "### ATN nuclei"
   ]
  },
  {
   "cell_type": "code",
   "execution_count": 56,
   "metadata": {},
   "outputs": [],
   "source": [
    "# get the cluster annotations for the nucleus of interest\n",
    "nucleus = ['AD', 'AM', 'AV']\n",
    "obs_annot = abc.get_obs_from_annotated_clusters(nucleus, adata_th.obs)\n",
    "\n",
    "# clean up cluster categories\n",
    "obs_annot.loc[:,'cluster'] = obs_annot.loc[:,'cluster'].cat.remove_unused_categories()\n",
    "# get the nucleus-specific list of clusters\n",
    "cluster_list_ATN = sorted(obs_annot.loc[:,'cluster'].cat.categories)\n",
    "\n",
    "# use that list to filter & reset the cluster col in the full anndata object\n",
    "adata_ATN = adata_th[adata_th.obs['cluster'].isin(cluster_list_ATN)].copy()\n",
    "\n",
    "adata_ATN.obs.loc[:,'cluster'] = adata_ATN_view.obs.loc[:,'cluster'].cat.remove_unused_categories()\n",
    "adata_ATN.obs.loc[:,'cluster'] = adata_ATN_view.obs.loc[:,'cluster'].cat.reorder_categories(cluster_list_ATN, ordered=True)"
   ]
  },
  {
   "cell_type": "code",
   "execution_count": 74,
   "metadata": {},
   "outputs": [],
   "source": [
    "cluster_list_ATN"
   ]
  },
  {
   "cell_type": "code",
   "execution_count": 37,
   "metadata": {},
   "outputs": [],
   "source": [
    "adata_ATN.obs.loc[:,'cluster'].cat.categories"
   ]
  },
  {
   "cell_type": "code",
   "execution_count": 75,
   "metadata": {},
   "outputs": [],
   "source": [
    "deg_list_ATN = []\n",
    "for cluster in cluster_list_ATN:\n",
    "    sc.tl.rank_genes_groups(adata_ATN, groupby=\"cluster\", groups=[cluster],\n",
    "                            reference='rest', n_genes=3, method=\"wilcoxon\")\n",
    "    deg_list_ATN.extend(sc.get.rank_genes_groups_df(adata_ATN, group=cluster).names.to_list())\n",
    "# sc.tl.rank_genes_groups(adata_ATN, groupby=\"cluster\", groups=['2613 AD Serpinb7 Glut_1'],\n",
    "#                         reference='rest', n_genes=5, method=\"wilcoxon\")\n",
    "# print(sc.get.rank_genes_groups_df(adata_ATN, group=None).names.to_list())\n",
    "print(deg_list_ATN)"
   ]
  },
  {
   "cell_type": "code",
   "execution_count": 77,
   "metadata": {},
   "outputs": [],
   "source": [
    "sc.pl.dotplot(adata_ATN,\n",
    "              deg_list_ATN,\n",
    "            #   sorted(list(set(deg_list_ATN))), \n",
    "              groupby='cluster', \n",
    "              dendrogram=False)"
   ]
  },
  {
   "cell_type": "code",
   "execution_count": 66,
   "metadata": {},
   "outputs": [],
   "source": [
    "def get_rank_genes_list(adata, \n",
    "                        groupby='cluster', \n",
    "                        group='', \n",
    "                        reference='rest', \n",
    "                        n_genes=5):\n",
    "    # find DEGs\n",
    "    sc.tl.rank_genes_groups(adata, \n",
    "                            groupby=\"cluster\", \n",
    "                            groups=[group],\n",
    "                            reference=reference, \n",
    "                            n_genes=n_genes, \n",
    "                            method=\"wilcoxon\")\n",
    "    # get DEGs\n",
    "    deg_list = sc.get.rank_genes_groups_df(adata, group=group).names.to_list()\n",
    "    \n",
    "    return deg_list"
   ]
  },
  {
   "cell_type": "code",
   "execution_count": 67,
   "metadata": {},
   "outputs": [],
   "source": [
    "cluster_list_ATN[0]"
   ]
  },
  {
   "cell_type": "code",
   "execution_count": 69,
   "metadata": {},
   "outputs": [],
   "source": [
    "deg_paired_list_ATN = []\n",
    "\n",
    "# AD clusters vs each other\n",
    "deg_paired_list_ATN.extend(get_rank_genes_list(adata_ATN, \n",
    "                                               group=cluster_list_ATN[0], \n",
    "                                               reference=cluster_list_ATN[1],\n",
    "                                               n_genes=3))\n",
    "# sc.pl.rank_genes_groups(adata_ATN, group=cluster_list_ATN[0])\n",
    "deg_paired_list_ATN.extend(get_rank_genes_list(adata_ATN, \n",
    "                                               group=cluster_list_ATN[1], \n",
    "                                               reference=cluster_list_ATN[0],\n",
    "                                               n_genes=3))\n",
    "\n",
    "# AV clusters vs each other\n",
    "deg_paired_list_ATN.extend(get_rank_genes_list(adata_ATN, \n",
    "                                               group=cluster_list_ATN[2], \n",
    "                                               reference=cluster_list_ATN[3],\n",
    "                                               n_genes=3))\n",
    "deg_paired_list_ATN.extend(get_rank_genes_list(adata_ATN, \n",
    "                                               group=cluster_list_ATN[3], \n",
    "                                               reference=cluster_list_ATN[2],\n",
    "                                               n_genes=3))\n"
   ]
  },
  {
   "cell_type": "code",
   "execution_count": 70,
   "metadata": {},
   "outputs": [],
   "source": [
    "sc.pl.dotplot(adata_ATN,\n",
    "              list(set(deg_paired_list_ATN)), \n",
    "            #   sorted(list(set(deg_paired_list_ATN))), \n",
    "              groupby='cluster', \n",
    "              dendrogram=False)"
   ]
  },
  {
   "cell_type": "code",
   "execution_count": null,
   "metadata": {},
   "outputs": [],
   "source": [
    "markers_MD = ['Scn4b', 'Ldb2', 'Cntnap3', 'Cbln2', 'Cdh20', 'Necab1', 'Tnnt1', \n",
    "              'Calb2', 'Drd2']"
   ]
  }
 ],
 "metadata": {
  "kernelspec": {
   "display_name": "base",
   "language": "python",
   "name": "python3"
  },
  "language_info": {
   "codemirror_mode": {
    "name": "ipython",
    "version": 3
   },
   "file_extension": ".py",
   "mimetype": "text/x-python",
   "name": "python",
   "nbconvert_exporter": "python",
   "pygments_lexer": "ipython3",
   "version": "3.9.12"
  }
 },
 "nbformat": 4,
 "nbformat_minor": 2
}
