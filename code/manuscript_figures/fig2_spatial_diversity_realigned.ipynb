{
 "cells": [
  {
   "cell_type": "markdown",
   "metadata": {},
   "source": [
    "# Figure 2 | Transcriptomic diversity across the thalamus."
   ]
  },
  {
   "cell_type": "code",
   "execution_count": 1,
   "metadata": {},
   "outputs": [],
   "source": [
    "%load_ext autoreload\n",
    "%autoreload 2"
   ]
  },
  {
   "cell_type": "code",
   "execution_count": 2,
   "metadata": {},
   "outputs": [],
   "source": [
    "import numpy as np\n",
    "import pandas as pd\n",
    "import seaborn as sns\n",
    "\n",
    "import sys\n",
    "sys.path.append(\"/code/\")\n",
    "from thalamus_merfish_analysis import abc_load as abc\n",
    "from thalamus_merfish_analysis import ccf_images as cimg\n",
    "from thalamus_merfish_analysis import ccf_plots as cplots\n",
    "from thalamus_merfish_analysis import ccf_erode as cerd\n",
    "from thalamus_merfish_analysis import diversity_metrics as divmet\n",
    "from thalamus_merfish_analysis import diversity_plots as dplot\n",
    "import thalamus_merfish_analysis.distance_metrics as dm\n",
    "\n",
    "\n",
    "from matplotlib import rcParams\n",
    "rcParams['ps.fonttype'] = 42\n",
    "rcParams['pdf.fonttype'] = 42\n",
    "rcParams['font.size'] = 7\n",
    "\n",
    "import matplotlib.pyplot as plt\n",
    "get_ipython().run_line_magic('matplotlib', 'inline') "
   ]
  },
  {
   "cell_type": "markdown",
   "metadata": {},
   "source": [
    "## Load thalamus data"
   ]
  },
  {
   "cell_type": "code",
   "execution_count": 3,
   "metadata": {},
   "outputs": [],
   "source": [
    "obs_wmb = abc.get_combined_metadata()\n",
    "obs_th = abc.load_standard_thalamus(data_structure='obs')"
   ]
  },
  {
   "cell_type": "code",
   "execution_count": 4,
   "metadata": {},
   "outputs": [],
   "source": [
    "# set spatial column names to `_reconstructed` coordinate space\n",
    "coords = '_reconstructed'\n",
    "\n",
    "x_col = 'x'+coords\n",
    "y_col = 'y'+coords\n",
    "z_col = 'z'+coords\n",
    "section_col = 'brain_section_label'"
   ]
  },
  {
   "cell_type": "code",
   "execution_count": 5,
   "metadata": {},
   "outputs": [],
   "source": [
    "# Load the CCF structures image\n",
    "ccf_images = abc.get_ccf_labels_image(realigned=True)\n",
    "\n",
    "# Merge substructures into structures (esp. AMd + AMv -> AM; LGd-co + LGd-ip + LGd-sh -> LG)\n",
    "ccf_images = cerd.merge_substructures(ccf_images, ccf_level='structure')\n",
    "\n",
    "# we only need to load the boundaries for sections that contain the thalamus\n",
    "sections_all = sorted(obs_th[z_col].unique())\n",
    "sections_int = np.rint(np.array(sections_all)/0.2).astype(int)\n",
    "\n",
    "# precompute boundaries for thalamic sections\n",
    "ccf_boundaries = cimg.sectionwise_label_erosion(ccf_images, distance_px=1, \n",
    "                                                fill_val=0, return_edges=True, \n",
    "                                                section_list=sections_int\n",
    "                                                )"
   ]
  },
  {
   "cell_type": "code",
   "execution_count": 7,
   "metadata": {},
   "outputs": [],
   "source": [
    "# We can load & use the published color palettes for the ABC Atlas taxonomy\n",
    "abc_palettes = {level: abc.get_taxonomy_palette(level) for level in \n",
    "                ['neurotransmitter','class', 'subclass','supertype','cluster']}\n",
    "\n",
    "# We have also provided a secondary color palette for the cluster level that \n",
    "# attempts to increase the color contrast between spatially negihboring clusters\n",
    "abc_palettes['cluster'] = abc.get_thalamus_cluster_palette() \n",
    "\n",
    "ccf_palette = abc.get_ccf_palette('substructure')\n",
    "# ccf_palette['ZI'] = ccf_palette.pop('ZI-unassigned') # need to fix a key error"
   ]
  },
  {
   "cell_type": "code",
   "execution_count": 8,
   "metadata": {},
   "outputs": [],
   "source": [
    "# We'll use the eroded CCF structures to calculate similarity metrics\n",
    "ccf_metrics_level = \"structure\"\n",
    "obs_erode, ccf_label_eroded = cerd.label_cells_by_eroded_ccf(obs_th, ccf_images, ccf_level=ccf_metrics_level, distance_px=5) # default is erosion by 5px (50um)\n",
    "ccf_label = ccf_label_eroded\n",
    "# There is poor alignment in section 6.6 between PF celltypes and the PF CCF structure\n",
    "# So, we'll set all cells in section 6.6 to 'unassigned' CCF structure\n",
    "obs_erode.loc[lambda df: df['z_section']==6.6, ccf_label_eroded] = 'unassigned'"
   ]
  },
  {
   "cell_type": "code",
   "execution_count": 9,
   "metadata": {},
   "outputs": [],
   "source": [
    "# if you reload thalamus_merfish_analysis.ccf_plots after this cell has been run, \n",
    "# cplots.CCF_REGIONS_DEFAULT will be reset to None & you'll need to re-run this cell\n",
    "cplots.CCF_REGIONS_DEFAULT = abc.get_thalamus_names()"
   ]
  },
  {
   "cell_type": "code",
   "execution_count": 10,
   "metadata": {},
   "outputs": [],
   "source": [
    "results_dir = '../../results'"
   ]
  },
  {
   "cell_type": "markdown",
   "metadata": {},
   "source": [
    "## Fig. 2A-C | Similarity heatmaps: Thalamic nuclei vs cell types"
   ]
  },
  {
   "cell_type": "code",
   "execution_count": 11,
   "metadata": {},
   "outputs": [],
   "source": [
    "regions_to_plot = [\n",
    "    \"AD\", \"AV\", \"AM\", \"IAD\", \"LD\", \"VPM\", \"VPL\", \"LGd\",\n",
    "    \"MD\", \"CL\", \"CM\", \"IMD\", \"PO\", \"LP\", \"VAL\", \"VM\", \n",
    "    \"RE\", \"PF\", \"VPMpc\", \"PCN\", \"SPA\", \"PVT\", \"MH\", \"LH\", \"RT\", \n",
    "]"
   ]
  },
  {
   "cell_type": "code",
   "execution_count": 12,
   "metadata": {},
   "outputs": [],
   "source": [
    "from matplotlib.colors import LinearSegmentedColormap, BoundaryNorm\n",
    "\n",
    "# Get the rocket_r colormap\n",
    "rocket_r = sns.color_palette(\"rocket_r\", as_cmap=True)\n",
    "\n",
    "# Number of colors in the original colormap\n",
    "n_colors_in_rocket = 256  # or use len(sns.color_palette(\"rocket_r\"))\n",
    "\n",
    "# Generate colors from the rocket_r colormap\n",
    "colors = rocket_r(np.linspace(0, 1, n_colors_in_rocket))\n",
    "\n",
    "# Add one white color at the beginning\n",
    "white = np.array([[1, 1, 1, 1]])  # RGBA for white\n",
    "new_colors = np.vstack([white, colors])  # Combine white and rocket_r colors\n",
    "\n",
    "# Create a new colormap with the modified colors\n",
    "custom_cmap = LinearSegmentedColormap.from_list(\"custom_rocket_r_with_white\", new_colors)\n",
    "\n",
    "# Create a discrete colormap with the modified colors\n",
    "n_bins = 11\n",
    "custom_cmap_discrete = LinearSegmentedColormap.from_list(\"custom_rocket_r_with_white\", \n",
    "                                                         new_colors, \n",
    "                                                         N=n_bins)\n",
    "# Create the norm to map values to the bins\n",
    "norm = BoundaryNorm(np.concatenate([[0, 0.00000001], np.linspace(0.1, 1, n_bins-1)]), \n",
    "                    ncolors=n_bins)\n",
    "\n",
    "# Example usage with imshow\n",
    "data = [np.concatenate([np.array([0.0, 0.2]), np.random.random(10)])]\n",
    "print(data)\n",
    "plt.imshow(data, cmap=custom_cmap_discrete, norm=norm)\n",
    "plt.colorbar()\n",
    "plt.show()"
   ]
  },
  {
   "cell_type": "code",
   "execution_count": 13,
   "metadata": {},
   "outputs": [],
   "source": [
    "np.concatenate([[0], np.linspace(0, 1, n_bins)])"
   ]
  },
  {
   "cell_type": "code",
   "execution_count": 14,
   "metadata": {},
   "outputs": [],
   "source": [
    "np.random.random(10)"
   ]
  },
  {
   "cell_type": "code",
   "execution_count": 15,
   "metadata": {},
   "outputs": [],
   "source": [
    "\n",
    "# Generate a purple-like palette with cubehelix\n",
    "cmap_purple_256 = sns.cubehelix_palette(256, start=-0.2, rot=0.6, dark=0.1, light=1.0, as_cmap=True)\n",
    "sns.palplot(sns.cubehelix_palette(256, start=-0.2, rot=0.6, dark=0.1, light=1.0))\n",
    "plt.show()\n",
    "\n",
    "cmap_purple_11 = sns.cubehelix_palette(11, start=-0.2, rot=0.6, dark=0.1, light=1.0, as_cmap=True)\n",
    "sns.palplot(sns.cubehelix_palette(11, start=-0.2, rot=0.6, dark=0.1, light=1.0))\n",
    "plt.show()\n",
    "\n",
    "# Example usage with imshow\n",
    "data = [np.concatenate([np.array([0.0, 0.2]), np.random.random(10)])]\n",
    "print(data)\n",
    "plt.imshow(data, cmap=cmap_purple_11) #, norm=norm)\n",
    "plt.colorbar()\n",
    "plt.show()\n",
    "\n",
    "\n",
    "# Generate colors from the rocket_r colormap\n",
    "colors = cmap_purple_256(np.linspace(0, 1, 256))\n",
    "\n",
    "# Create a new colormap with the modified colors\n",
    "custom_cmap = LinearSegmentedColormap.from_list(\"custom_purple_256\", colors)\n",
    "\n",
    "# Create a discrete colormap with the modified colors\n",
    "n_bins = 16\n",
    "custom_purple_discrete = LinearSegmentedColormap.from_list(\"custom_purple_256\", \n",
    "                                                         colors, \n",
    "                                                         N=n_bins)\n",
    "# Create the norm to map values to the bins\n",
    "norm = BoundaryNorm(np.concatenate([np.linspace(0, 0.8, n_bins+1)]), \n",
    "                    ncolors=n_bins)\n",
    "\n",
    "# Example usage with imshow\n",
    "data = [np.concatenate([np.array([0.0, 0.05, 0.1]), np.random.random(10)])]\n",
    "print(data)\n",
    "plt.imshow(data, cmap=custom_purple_discrete, norm=norm)\n",
    "plt.colorbar()\n",
    "plt.show()"
   ]
  },
  {
   "cell_type": "code",
   "execution_count": 16,
   "metadata": {},
   "outputs": [],
   "source": [
    "# Generate 256 equally spaced values from the colormap\n",
    "cmap_values = cmap_purple_256(np.linspace(0, 1, 256))\n",
    "\n",
    "# Convert RGB to lightness (grayscale)\n",
    "# Perceptual weights for RGB to grayscale conversion\n",
    "lightness = 0.2126 * cmap_values[:, 0] + 0.7152 * cmap_values[:, 1] + 0.0722 * cmap_values[:, 2]\n",
    "\n",
    "# Plot the lightness values\n",
    "# Plot each marker with its corresponding colormap color\n",
    "for i in range(256):\n",
    "    plt.plot(i, lightness[i], 'o', color=cmap_values[i], markersize=6)\n",
    "plt.xlabel(\"Colormap Index\")\n",
    "plt.ylabel(\"Lightness (Perceptual)\")\n",
    "plt.title(\"Perceptual Lightness of cmap_purple_256\")\n",
    "plt.legend()\n",
    "plt.show()\n"
   ]
  },
  {
   "cell_type": "code",
   "execution_count": 30,
   "metadata": {},
   "outputs": [],
   "source": [
    "# color map options\n",
    "# cmap = 'viridis'\n",
    "# cmap = 'rocket_r'\n",
    "# cmap = custom_cmap\n",
    "# cmap = custom_cmap_discrete\n",
    "cmap = cmap_purple_256\n",
    "\n",
    "# range\n",
    "vmin = 0\n",
    "vmax = 0.8"
   ]
  },
  {
   "cell_type": "markdown",
   "metadata": {},
   "source": [
    "### Fig. 2A | Similarity heatmap: Thalamic nuclei vs subclasses"
   ]
  },
  {
   "cell_type": "code",
   "execution_count": 31,
   "metadata": {},
   "outputs": [],
   "source": [
    "# thalamic nuclei vs subclass similarity\n",
    "taxonomy_level = 'subclass'\n",
    "dist, y_names, x_names = dm.cluster_distances_from_labels(\n",
    "                            obs_erode, y_col=ccf_label, x_col=taxonomy_level, \n",
    "                            y_names=sorted(regions_to_plot),\n",
    "                            x_names=sorted(obs_erode[taxonomy_level].unique()))\n",
    "\n",
    "y_order, x_order = dm.order_distances_x_to_y(dist, reorder_y=False) #True)\n",
    "\n",
    "x_names_ids_only = [name[0:3] for name in x_names]\n",
    "\n",
    "fig_hm_subclass = dm.plot_ordered_similarity_heatmap(\n",
    "    dist, \n",
    "    y_order=y_order, x_order=x_order, \n",
    "    y_names=y_names, x_names=x_names_ids_only,\n",
    "    cmap=cmap,\n",
    "    # cmap=custom_purple_discrete, norm=norm,\n",
    "    vmin=vmin, vmax=vmax,\n",
    ")\n",
    "\n",
    "fig_hm_subclass.set_size_inches(1.8,3)\n",
    "fig_hm_subclass.gca().set_xlabel(taxonomy_level)\n",
    "fig_hm_subclass.gca().set_ylabel('CCF Structure')\n",
    "\n",
    "fig_hm_subclass.savefig(f'{results_dir}/fig2A_similarity_heatmap_nuclei_vs_{taxonomy_level}_alpha-reorderedY.pdf', \n",
    "                        transparent=True, bbox_inches='tight')\n",
    "fig_hm_subclass.savefig(f'{results_dir}/fig2A_similarity_heatmap_nuclei_vs_{taxonomy_level}_alpha-reorderedY.png', \n",
    "                        dpi=600, transparent=True, bbox_inches='tight')\n",
    "\n",
    "\n",
    "# Plot colored labels for the x-axis categories\n",
    "fig_xlabel_colors = dm.plot_heatmap_xlabel_colors(x_names, \n",
    "                                                  x_order, \n",
    "                                                  abc_palettes[taxonomy_level])\n",
    "fig_xlabel_colors.set_size_inches(1.8,3)\n",
    "fig_xlabel_colors.savefig(f'{results_dir}/fig2A_similarity_heatmap_nuclei_vs_{taxonomy_level}_xaxis_colors.pdf', \n",
    "                        transparent=True, bbox_inches='tight')"
   ]
  },
  {
   "cell_type": "markdown",
   "metadata": {},
   "source": [
    "### Fig. 2B | Similarity heatmap: Thalamic nuclei vs supertypes"
   ]
  },
  {
   "cell_type": "code",
   "execution_count": 19,
   "metadata": {},
   "outputs": [],
   "source": [
    "# thalamic nuclei vs supertype similarity\n",
    "taxonomy_level = 'supertype'\n",
    "dist, y_names, x_names = dm.cluster_distances_from_labels(\n",
    "                            obs_erode, y_col=ccf_label, x_col=taxonomy_level, \n",
    "                            y_names=sorted(regions_to_plot),\n",
    "                            x_names=sorted(obs_erode[taxonomy_level].unique()))\n",
    "\n",
    "y_order, x_order = dm.order_distances_x_to_y(dist, reorder_y=True)\n",
    "\n",
    "x_names_ids_only = [name[0:4] for name in x_names]\n",
    "\n",
    "fig_hm_supertype = dm.plot_ordered_similarity_heatmap(\n",
    "    dist, \n",
    "    y_order=y_order, x_order=x_order, \n",
    "    y_names=y_names, x_names=x_names_ids_only,\n",
    "    cmap=cmap,\n",
    "    # cmap=custom_purple_discrete, norm=norm,\n",
    "    vmin=vmin, vmax=vmax,\n",
    ")\n",
    "\n",
    "fig_hm_supertype.set_size_inches(5.8,3)\n",
    "fig_hm_supertype.gca().set_xlabel(taxonomy_level)\n",
    "fig_hm_supertype.gca().set_ylabel('CCF Structure')\n",
    "\n",
    "\n",
    "fig_hm_supertype.savefig(f'{results_dir}/fig2B_similarity_heatmap_nuclei_vs_{taxonomy_level}_alpha-reorderedY.pdf', \n",
    "                        transparent=True, bbox_inches='tight')\n",
    "fig_hm_supertype.savefig(f'{results_dir}/fig2B_similarity_heatmap_nuclei_vs_{taxonomy_level}_alpha-reorderedY.png', \n",
    "                        dpi=600, transparent=True, bbox_inches='tight')\n",
    "\n",
    "\n",
    "# Plot colored labels for the x-axis categories\n",
    "fig_xlabel_colors = dm.plot_heatmap_xlabel_colors(x_names, \n",
    "                                                  x_order, \n",
    "                                                  abc_palettes[taxonomy_level])\n",
    "fig_xlabel_colors.set_size_inches(5.7,3)\n",
    "fig_xlabel_colors\n",
    "fig_xlabel_colors.savefig(f'{results_dir}/fig2B_similarity_heatmap_nuclei_vs_{taxonomy_level}_xaxis_colors.pdf', \n",
    "                          transparent=True, bbox_inches='tight')"
   ]
  },
  {
   "cell_type": "markdown",
   "metadata": {},
   "source": [
    "### Fig. 2C | Similarity heatmap: Thalamic nuclei vs clusters"
   ]
  },
  {
   "cell_type": "code",
   "execution_count": 20,
   "metadata": {},
   "outputs": [],
   "source": [
    "regions_to_plot_manual_clusters = [\n",
    "    \"AD\", \"AM\", \"AV\", \"CM\", \"IAD\", \"IMD\", \n",
    "    \"LD\", \"LGd\", \"LP\", \"PVT\", \"MD\", \"CL\",\n",
    "    \"PCN\", \"VAL\", \"VM\", \"VPM\", \"VPMpc\",\n",
    "    \"PO\", \"VPL\", \"RE\", \n",
    "    \"LH\", \"MH\", \"PF\",  \"RT\", \"SPA\"\n",
    "]\n",
    "\n",
    "# thalamic nuclei vs cluster similarity\n",
    "taxonomy_level = 'cluster'\n",
    "dist, y_names, x_names = dm.cluster_distances_from_labels(\n",
    "                            obs_erode, y_col=ccf_label, x_col=taxonomy_level, \n",
    "                            y_names=regions_to_plot_manual_clusters, #sorted(regions_to_plot),\n",
    "                            x_names=sorted(obs_erode[taxonomy_level].unique()))\n",
    "\n",
    "y_order, x_order = dm.order_distances_x_to_y(dist, reorder_y=False) #reorder_y=True)\n",
    "\n",
    "x_names_ids_only = [name[0:4] for name in x_names]\n",
    "\n",
    "fig_hm_cluster = dm.plot_ordered_similarity_heatmap(\n",
    "    dist, \n",
    "    y_order=y_order, x_order=x_order, \n",
    "    y_names=y_names, x_names=x_names_ids_only,\n",
    "    cmap=cmap,\n",
    "    # cmap=custom_purple_discrete, norm=norm,\n",
    "    vmin=vmin, vmax=vmax,\n",
    ")\n",
    "\n",
    "fig_hm_cluster.set_size_inches(8.5,3)\n",
    "fig_hm_cluster.gca().set_xlabel(taxonomy_level)\n",
    "fig_hm_cluster.gca().set_ylabel('CCF Structure')\n",
    "\n",
    "\n",
    "fig_hm_cluster.savefig(f'{results_dir}/fig2C_similarity_heatmap_nuclei_vs_{taxonomy_level}_alpha-reorderedY.pdf', \n",
    "                        transparent=True, bbox_inches='tight')\n",
    "fig_hm_cluster.savefig(f'{results_dir}/fig2C_similarity_heatmap_nuclei_vs_{taxonomy_level}_alpha-reorderedY.png', \n",
    "                        dpi=600, transparent=True, bbox_inches='tight')\n",
    "\n",
    "\n",
    "# Plot colored labels for the x-axis categories\n",
    "fig_xlabel_colors = dm.plot_heatmap_xlabel_colors(x_names, \n",
    "                                                  x_order, \n",
    "                                                  abc_palettes[taxonomy_level])\n",
    "fig_xlabel_colors.set_size_inches(6.3,3)\n",
    "fig_xlabel_colors.savefig(f'{results_dir}/fig2C_similarity_heatmap_nuclei_vs_{taxonomy_level}_xaxis_colors.pdf', \n",
    "                          transparent=True, bbox_inches='tight')"
   ]
  },
  {
   "cell_type": "markdown",
   "metadata": {},
   "source": [
    "## Fig. 2D-E: Examples of cluster:nuclei correspondance"
   ]
  },
  {
   "cell_type": "code",
   "execution_count": 21,
   "metadata": {},
   "outputs": [],
   "source": [
    "# set kwargs fpr annotated cluster plots\n",
    "kwargs_cluster_annotations = dict(\n",
    "    section_col=z_col,\n",
    "    x_col=x_col,\n",
    "    y_col=y_col,\n",
    "    point_size=1.5,\n",
    "    figsize=(4, 2),\n",
    "    face_palette=None,\n",
    "    edge_color='silver'\n",
    "    )"
   ]
  },
  {
   "cell_type": "markdown",
   "metadata": {},
   "source": [
    "### Fig. 2D | VAL & VM"
   ]
  },
  {
   "cell_type": "code",
   "execution_count": 22,
   "metadata": {},
   "outputs": [],
   "source": [
    "# subset to just the left hemisphere to save space to display multiple sections\n",
    "obs_th_left = obs_th.loc[obs_th['left_hemisphere']]\n",
    "\n",
    "# Need to reload ccf images for just the left hemisphere\n",
    "ccf_images_left = abc.get_ccf_labels_image(subset_to_left_hemi=True)\n",
    "# Merge substructures into structures (esp. AMd + AMv -> AM; LGd-co + LGd-ip + LGd-sh -> LG)\n",
    "ccf_images_left = cerd.merge_substructures(ccf_images_left, ccf_level='structure')\n",
    "\n",
    "# we only need to load the boundaries for sections that contain the thalamus\n",
    "sections_all = sorted(obs_th_left[z_col].unique())\n",
    "sections_int = np.rint(np.array(sections_all)/0.2).astype(int)\n",
    "\n",
    "# precompute boundaries for thalamic sections\n",
    "ccf_boundaries_left = cimg.sectionwise_label_erosion(ccf_images_left, \n",
    "                                                     distance_px=1, \n",
    "                                                     fill_val=0, \n",
    "                                                     return_edges=True, \n",
    "                                                     section_list=sections_int\n",
    "                                                     )"
   ]
  },
  {
   "cell_type": "code",
   "execution_count": 23,
   "metadata": {},
   "outputs": [],
   "source": [
    "# get the cluster annotations for the nucleus of interest\n",
    "nucleus = ['VAL', 'VM']\n",
    "obs_annot = abc.get_obs_from_annotations(nucleus, obs_th_left, taxonomy_level='cluster')\n",
    "# # subset to left hemisphere\n",
    "# obs_annot = obs_annot.loc[obs_annot['left_hemisphere']]\n",
    "# drop a couple that seem to be due to CCF misalignment\n",
    "cat_to_drop = ['2686 TH Prkcd Grin2c Glut_13', '2684 TH Prkcd Grin2c Glut_13']\n",
    "obs_annot = obs_annot.loc[~obs_annot['cluster'].isin(cat_to_drop)]\n",
    "\n",
    "\n",
    "# Let's look at the cell types in the ATN in one sample section\n",
    "# sections_all_VAL_VM = [7.8, 7.6, 7.2, 7.0, 6.8, 6.6]\n",
    "# ant. to post.: C57BL6J-638850.42, C57BL6J-638850.40, C57BL6J-638850.39, C57BL6J-638850.38, C57BL6J-638850.37\n",
    "sections_to_plot = [7.6, 7.2, 7.0, 6.8, 6.6] \n",
    "nuclei_highlight = nucleus\n",
    "taxonomy_level = 'cluster'\n",
    "\n",
    "figs_annot = cplots.plot_ccf_overlay(obs_annot,\n",
    "                                     ccf_images_left,\n",
    "                                     boundary_img=ccf_boundaries_left,\n",
    "                                     bg_cells=obs_th_left, \n",
    "                                     ccf_highlight=nuclei_highlight,\n",
    "                                     point_hue=taxonomy_level, \n",
    "                                     sections=sections_to_plot, # sections_all_VAL_VM\n",
    "                                     point_palette=abc_palettes[taxonomy_level],\n",
    "                                     legend='cells',\n",
    "                                     **kwargs_cluster_annotations)\n",
    "\n",
    "for i, sec in enumerate(sections_to_plot):\n",
    "    sec_str = int(sec*10)\n",
    "    figs_annot[i].savefig(f'{results_dir}/fig2D_cluster_annotations_z{sec_str}_VAL_VM.pdf',\n",
    "                        transparent=True, bbox_inches='tight')\n",
    "    figs_annot[i].savefig(f'{results_dir}/fig2D_cluster_annotations_z{sec_str}_VAL_VM.png',\n",
    "                        transparent=True, bbox_inches='tight', dpi=1200)"
   ]
  },
  {
   "cell_type": "markdown",
   "metadata": {},
   "source": [
    "### Fig. 2E | Anterior thalamic nuclei (ATN: AD, AV, AM)"
   ]
  },
  {
   "cell_type": "code",
   "execution_count": 24,
   "metadata": {},
   "outputs": [],
   "source": [
    "# get the cluster annotations for the nucleus of interest\n",
    "nucleus = ['AD', 'AM', 'AV']\n",
    "obs_annot = abc.get_obs_from_annotations(nucleus, obs_th_left, taxonomy_level='cluster')\n",
    "\n",
    "# Let's look at the cell types in the ATN in one sample section\n",
    "# anterior to posterior: C57BL6J-638850.44, C57BL6J-638850.43\n",
    "sections_to_plot = [8.0, 7.8]\n",
    "nuclei_highlight = ['AD', 'AMd', 'AMv', 'AV', 'AV']\n",
    "taxonomy_level = 'cluster'\n",
    "\n",
    "plt.rcParams.update({'font.size': 7})\n",
    "figs_annot = cplots.plot_ccf_overlay(obs_annot, \n",
    "                                    ccf_images_left,\n",
    "                                    boundary_img=ccf_boundaries_left,\n",
    "                                    bg_cells=obs_th_left, \n",
    "                                    ccf_highlight=nuclei_highlight,\n",
    "                                    point_hue=taxonomy_level, \n",
    "                                    sections=sections_to_plot,\n",
    "                                    point_palette=abc_palettes[taxonomy_level],\n",
    "                                    legend='cells',\n",
    "                                    **kwargs_cluster_annotations)\n",
    "\n",
    "for i, sec in enumerate(sections_to_plot):\n",
    "    sec_str = int(sec*10)\n",
    "    figs_annot[i].savefig(f'{results_dir}/fig2E_cluster_annotations_z{sec_str}_ATN_left.pdf',\n",
    "                        transparent=True, bbox_inches='tight')\n",
    "    figs_annot[i].savefig(f'{results_dir}/fig2E_cluster_annotations_z{sec_str}_ATN_left.png',\n",
    "                        transparent=True, bbox_inches='tight', dpi=1200)"
   ]
  },
  {
   "cell_type": "markdown",
   "metadata": {},
   "source": [
    "## Fig. 2F-G | Cluster diversity metrics"
   ]
  },
  {
   "cell_type": "code",
   "execution_count": 25,
   "metadata": {},
   "outputs": [],
   "source": [
    "# calculate per-nucleus diversity metrics\n",
    "th_ccf_metrics = divmet.calculate_diversity_metrics(obs_erode, ccf_label=ccf_label)\n",
    "\n",
    "# set color map\n",
    "cmap = sns.color_palette(\"mako_r\", as_cmap=True)"
   ]
  },
  {
   "cell_type": "markdown",
   "metadata": {},
   "source": [
    "### Fig. 2F | Per nucleus cluster diversity\n",
    "Aggregates per nucleus, across all sections"
   ]
  },
  {
   "cell_type": "code",
   "execution_count": 26,
   "metadata": {},
   "outputs": [],
   "source": [
    "# plot the cell type counts in the CCF structures\n",
    "sections_to_plot = cplots.TH_EXAMPLE_Z_SECTIONS\n",
    "plt.rcParams.update({'font.size': 7})\n",
    "figs_clust_count_norm2cells = cplots.plot_metrics_ccf(ccf_images_left, \n",
    "                                    th_ccf_metrics['count_norm2cells_cluster'], \n",
    "                                    sections_to_plot,\n",
    "                                    ccf_level=ccf_metrics_level,\n",
    "                                    vmin=0, \n",
    "                                    vmax=0.15, \n",
    "                                    cmap=cmap,\n",
    "                                    cb_label='cluster count / # cells'\n",
    "                                    )\n",
    "\n",
    "for i, fig in enumerate(figs_clust_count_norm2cells):\n",
    "    fig.set_size_inches(3.5, 2)\n",
    "    fig.savefig(f'{results_dir}/fig2F_ccf_cluster_count_norm2cells_sec{int(sections_to_plot[i]*10)}.png',\n",
    "                transparent=True, bbox_inches='tight', dpi=300)\n",
    "    \n",
    "fig.savefig(f'{results_dir}/fig2F_ccf_cluster_count_norm2cells_colorbar.pdf',\n",
    "            transparent=True, bbox_inches='tight')"
   ]
  },
  {
   "cell_type": "markdown",
   "metadata": {},
   "source": [
    "### Fig 2G | Local cluster diversity \n",
    "local = 15 nearest neighbors in same section"
   ]
  },
  {
   "cell_type": "code",
   "execution_count": 27,
   "metadata": {},
   "outputs": [],
   "source": [
    "# calculate local diversity index using Inverse Simpson's Index (ISI) as metric\n",
    "local_isi_df = divmet.calculate_local_diversity_metric(obs_erode, \n",
    "                                                       divmet.inverse_simpsons_index, \n",
    "                                                       metric_name='isi', \n",
    "                                                       n_neighbors=15)"
   ]
  },
  {
   "cell_type": "code",
   "execution_count": 28,
   "metadata": {},
   "outputs": [],
   "source": [
    "metric_name = 'local_isi_cluster'\n",
    "\n",
    "# subset to left hemisphere for plotting\n",
    "obs_erode_left = obs_erode.loc[obs_erode['left_hemisphere']]\n",
    "\n",
    "for section in cplots.TH_EXAMPLE_Z_SECTIONS:\n",
    "    fig = dplot.plot_local_metric_ccf_section(obs_erode_left, local_isi_df, ccf_images_left,\n",
    "                                              section, metric_name, cmap=cmap)\n",
    "\n",
    "    fig.set_size_inches(3.5, 2)\n",
    "    fig.savefig(f'{results_dir}/fig2G_ccf_local_isi_cluster_sec{int(section*10)}.png',\n",
    "                transparent=True, bbox_inches='tight', dpi=300)\n",
    "    fig.savefig(f'{results_dir}/fig2G_ccf_local_isi_cluster_colorbar.pdf',\n",
    "                transparent=True, bbox_inches='tight')"
   ]
  }
 ],
 "metadata": {
  "kernelspec": {
   "display_name": "base",
   "language": "python",
   "name": "python3"
  },
  "language_info": {
   "codemirror_mode": {
    "name": "ipython",
    "version": 3
   },
   "file_extension": ".py",
   "mimetype": "text/x-python",
   "name": "python",
   "nbconvert_exporter": "python",
   "pygments_lexer": "ipython3",
   "version": "3.9.12"
  }
 },
 "nbformat": 4,
 "nbformat_minor": 2
}
