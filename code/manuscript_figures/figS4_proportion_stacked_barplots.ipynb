{
 "cells": [
  {
   "cell_type": "markdown",
   "metadata": {},
   "source": [
    "# Figure S4: Cell type proportions stacked barplots"
   ]
  },
  {
   "cell_type": "code",
   "execution_count": 1,
   "metadata": {},
   "outputs": [],
   "source": [
    "import numpy as np\n",
    "import seaborn as sns\n",
    "\n",
    "import sys\n",
    "sys.path.append(\"/code/\")\n",
    "from thalamus_merfish_analysis import abc_load as abc\n",
    "from thalamus_merfish_analysis import ccf_erode as cerd\n",
    "from thalamus_merfish_analysis import diversity_metrics as divmet\n",
    "from thalamus_merfish_analysis import diversity_plots as dplot\n",
    "\n",
    "from matplotlib import rcParams\n",
    "rcParams['pdf.fonttype'] = 42  # set to Illustrator-compatible font type\n",
    "rcParams['font.size'] = 7  # set font size for plots to minimum recommended\n",
    "\n",
    "import matplotlib.pyplot as plt\n",
    "get_ipython().run_line_magic('matplotlib', 'inline') "
   ]
  },
  {
   "cell_type": "markdown",
   "metadata": {},
   "source": [
    "## Load data"
   ]
  },
  {
   "cell_type": "code",
   "execution_count": 2,
   "metadata": {},
   "outputs": [],
   "source": [
    "# Load cell metadata\n",
    "obs_th = abc.load_standard_thalamus(data_structure='obs')"
   ]
  },
  {
   "cell_type": "code",
   "execution_count": 3,
   "metadata": {},
   "outputs": [],
   "source": [
    "# Load the CCF structures image\n",
    "ccf_images = abc.get_ccf_labels_image()\n",
    "\n",
    "# erode ccf structures to correct for boundary effects\n",
    "parcellation_level = 'structure'\n",
    "obs_erode, _ = cerd.label_cells_by_eroded_ccf(\n",
    "                                            obs_th, \n",
    "                                            ccf_images,\n",
    "                                            ccf_level=parcellation_level,\n",
    "                                            distance_px=5, # default is erosion by 5px (5um)\n",
    "                                            )\n",
    "\n",
    "# There is poor alignment in section 6.6 between PF celltypes and the PF CCF structure\n",
    "# So, we'll set all cells in section 6.6 to 'unassigned' CCF structure\n",
    "obs_erode.loc[lambda df: df['z_section']==6.6, cerd._ERODED_CCF_INDEX_COL] = np.nan#'unassigned'\n",
    "\n",
    "# generate metrics for the eroded CCF structure\n",
    "ccf_label=f'parcellation_{parcellation_level}_eroded'\n",
    "th_ccf_metrics = divmet.calculate_diversity_metrics(obs_erode, ccf_label=ccf_label)"
   ]
  },
  {
   "cell_type": "markdown",
   "metadata": {},
   "source": [
    "## Set figure saving behavior"
   ]
  },
  {
   "cell_type": "code",
   "execution_count": 4,
   "metadata": {},
   "outputs": [],
   "source": [
    "results_dir = '../../results'\n",
    "figure_index = 'S4'"
   ]
  },
  {
   "cell_type": "markdown",
   "metadata": {},
   "source": [
    "## Plots"
   ]
  },
  {
   "cell_type": "code",
   "execution_count": 5,
   "metadata": {},
   "outputs": [],
   "source": [
    "# Rank thalamic nuclei by their *CLUSTER* diversity, as measured by the inverse simpson's index (ISI)\n",
    "# We'll use this to set the order of the y-axis for all 3 taxonomy levels\n",
    "taxonomy_level = 'cluster'\n",
    "metrics_to_sort_by = th_ccf_metrics.loc[dplot.TH_DIVERSITY_REGIONS,:]\n",
    "isi_sorted_metrics = metrics_to_sort_by.sort_values(\n",
    "                                by=[f'inverse_simpsons_{taxonomy_level}'],\n",
    "                                ascending=False\n",
    "                                )\n",
    "isi_sorted_regions = isi_sorted_metrics.index"
   ]
  },
  {
   "cell_type": "code",
   "execution_count": 6,
   "metadata": {},
   "outputs": [],
   "source": [
    "# Show cluster ISI ranking as a heatmap\n",
    "cmap = sns.color_palette(\"mako_r\", as_cmap=True) \n",
    "fig_isi_rank, ax = plt.subplots(figsize=(6.65,2))\n",
    "sns.heatmap(\n",
    "    [isi_sorted_metrics[f'inverse_simpsons_{taxonomy_level}'].values],#),\n",
    "            square=True, \n",
    "            vmin=0,\n",
    "            vmax=20,\n",
    "            cmap=cmap,\n",
    "            xticklabels=isi_sorted_regions,\n",
    "            ax=ax)\n",
    "\n",
    "fig_isi_rank.savefig(f'{results_dir}/fig{figure_index}_diversity_rank_1Dheatmap_isi_cluster_ALL_NUCLEI.pdf', \n",
    "                     transparent=True, bbox_inches='tight')"
   ]
  },
  {
   "cell_type": "code",
   "execution_count": 7,
   "metadata": {},
   "outputs": [],
   "source": [
    "# cell type proportions as bar plots\n",
    "taxonomy_levels = ['cluster', 'supertype', 'subclass']\n",
    "for taxonomy_level in taxonomy_levels:\n",
    "    fig_bar = dplot.barplot_stacked_proportions(\n",
    "        obs_erode, \n",
    "        taxonomy_level, \n",
    "        th_ccf_metrics, \n",
    "        legend=False, \n",
    "        min_cell_frac=0.01,  # lump categories that are <=1% of cells in that region into \"other\" category \n",
    "                             # also considered: min_cell_frac=0.05 \n",
    "        ordered_regions=isi_sorted_regions,\n",
    "        orientation='horizontal',\n",
    "    )\n",
    "    fig_bar.set_size_inches(2.15,3.8)\n",
    "    fig_bar.gca().tick_params(length=0.02*72)\n",
    "\n",
    "    fig_bar.savefig(\n",
    "        f'{results_dir}/fig{figure_index}_nuclei_diversity_barplot_ordered-isi-cluster_{taxonomy_level}_ALL_NUCLEI.pdf', \n",
    "        transparent=True, bbox_inches='tight')"
   ]
  }
 ],
 "metadata": {
  "kernelspec": {
   "display_name": "base",
   "language": "python",
   "name": "python3"
  },
  "language_info": {
   "codemirror_mode": {
    "name": "ipython",
    "version": 3
   },
   "file_extension": ".py",
   "mimetype": "text/x-python",
   "name": "python",
   "nbconvert_exporter": "python",
   "pygments_lexer": "ipython3",
   "version": "3.9.12"
  }
 },
 "nbformat": 4,
 "nbformat_minor": 2
}
