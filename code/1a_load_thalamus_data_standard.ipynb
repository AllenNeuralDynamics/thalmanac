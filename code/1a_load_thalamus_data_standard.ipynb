{
 "cells": [
  {
   "cell_type": "markdown",
   "id": "e54bd8e9",
   "metadata": {},
   "source": [
    "# 1a_load_thalamus_data_standard\n",
    "\n",
    "This notebook demonstrates how to use the custom abc_merfish_analysis \n",
    "module to load a standardized thalamus subset of the Allen Brain Cell (ABC) \n",
    "Atlas' whole mouse brain MERFISH dataset (https://portal.brain-map.org/atlases-and-data/bkp/abc-atlas). \n",
    "This notebook includes descriptions of the contents of the standard thalamus dataset.\n",
    "\n",
    "If you want to load a customized thalamus dataset, see `1b_load_thalamus_data_custom.ipynb`.\n",
    "\n",
    "Additional information on the full ABC Atlas dataset can be found at: https://alleninstitute.github.io/abc_atlas_access/intro.html"
   ]
  },
  {
   "cell_type": "code",
   "execution_count": 2,
   "id": "f14afdc8",
   "metadata": {
    "tags": []
   },
   "outputs": [],
   "source": [
    "from abc_merfish_analysis import abc_load as abc\n",
    "get_ipython().run_line_magic('matplotlib', 'inline') "
   ]
  },
  {
   "cell_type": "code",
   "execution_count": 1,
   "id": "d74f1ac2",
   "metadata": {},
   "outputs": [],
   "source": [
    "abc"
   ]
  },
  {
   "cell_type": "markdown",
   "id": "2c770388",
   "metadata": {},
   "source": [
    "## 1. Load thalamus dataset\n",
    "\n",
    "You can load a thalamus subset of the ABC Atlas as either:\n",
    "\n",
    "A) a pandas DataFrame, which includes just the cell metadata\n",
    "\n",
    "B) an AnnData object, which includes:\n",
    "- gene expression counts, transformed to log2cpt (cpt = counts per thousand), stored in adata.X\n",
    "- cell metadata, stored in adata.obs \n",
    "- gene metadata, stored in adata.var\n",
    "\n",
    "The DataFrame is useful if you just want to explore mapped cell types and don't \n",
    "need the gene expression counts. The DataFrame will load a little faster (~1 min vs. \n",
    "~2.5 min) & take up less memory (~0.5 GB vs ~2 GB) than the full AnnData object."
   ]
  },
  {
   "cell_type": "markdown",
   "id": "9cb3ed09",
   "metadata": {},
   "source": [
    "### 1A. Load thalamus data as DataFrame\n",
    "\n",
    "Load select cell metadata. See comment block below for details on what metadata\n",
    "are included in the cell metadata DataFrame.\n",
    "\n",
    "Additional information on these metadata, and other metadata available, can be \n",
    "found at: https://alleninstitute.github.io/abc_atlas_access/intro.html\n"
   ]
  },
  {
   "cell_type": "code",
   "execution_count": 2,
   "id": "c49a2e3b",
   "metadata": {},
   "outputs": [],
   "source": [
    "'''\n",
    "These metadata descriptions are compiled & modified from the \"Allen Brain Cell \n",
    "Atlas - Data Access\" companion Jupyter book, which can be found at: \n",
    "https://alleninstitute.github.io/abc_atlas_access/intro.html\n",
    "\n",
    "For more details on the spatial coordinates, see: \n",
    "https://alleninstitute.github.io/abc_atlas_access/notebooks/merfish_ccf_registration_tutorial.html\n",
    "\n",
    "For more information on the cell type taxonomy & definitions, see:\n",
    "https://alleninstitute.github.io/abc_atlas_access/notebooks/cluster_annotation_tutorial.html\n",
    "\n",
    "cell_label : str\n",
    "    unique string used for ID of each cell; Index of the DataFrame\n",
    "brain_section_label : str\n",
    "    [brain specimen ID].[section number], e.g. \"C57BL6J-638850.37\".\n",
    "    [brain specimen ID] is the same, 'C57BL6J-638850', for all cells in this  \n",
    "    dataset. [section number] specifies the ordered index of each coronal \n",
    "    section, from \n",
    "neurotransmitter : str, {Glut, GABA, None, Dopa, Glut-GABA}\n",
    "    neurotransmitter type of the cell; assigned based on average expression of  \n",
    "    both neurotransmitter transporter genes and key neurotransmitter \n",
    "    synthesizing enzyme genes\n",
    "class : str\n",
    "    top level of cell type definition, primarily determined by broad brain \n",
    "    region and neurotransmitter type. Classes group together related subclasses \n",
    "    & all cells within a subclass belong to the same class.\n",
    "    Class names are constructed as \"[class ID] [brain region abbrv] \n",
    "    [neurotransmitter abbrv]\", e.g. \"20 MB GABA\". \n",
    "subclass:\n",
    "    a coarse level of cell type definition. Subclass groups together related \n",
    "    supertypes & all cells within a supertype belong to the same subclass\n",
    "    Class names are constructed as \"[subclass ID] [select marker genes] \n",
    "    [neurotransmitter abbrv]\", e.g. \"197 SNr Six3 Gaba\".\n",
    "supertype:\n",
    "    second finest level of cell type definition; groups together similar \n",
    "    clusters & all cells within a cluster belong to the same supertype.\n",
    "    Supertype names are constructed as \"[supertype ID] [parent subclass label]_\n",
    "    [supertype # within parent subclass]\", e.g. \"0806 SNr Six3 Gaba_1\" and \n",
    "    \"0806 SNr Six3 Gaba_2\"\n",
    "cluster : str\n",
    "    finest level of cell type definition; cells within a cluster share similar \n",
    "    characteristics and belong to the same supertype.\n",
    "    Cluster names are constructed as \"[cluster ID] [parent supertype label]\",\n",
    "    e.g. \"3464 SNr Six3 Gaba_1\"\n",
    "cluster_alias : int?\n",
    "    unique 4-digit integer to identify the cluster to which the cell was mapped\n",
    "average_correlation_score: float in range [0,1]\n",
    "    correlation score specifying how \"well\" each cell mapped to it's assigned cluster\n",
    "x_section, y_section, z_section : float\n",
    "    original experiment coordinate space for MERFISH dataset. x & y specify the\n",
    "    coronal plane (M-L & D-V, respectively). z specifies the section in A-P, and \n",
    "    all cells from the same experimental section have the same z_section\n",
    "x_reconstructed, y_reconstructed, z_reconstructed : float\n",
    "    point-to-point mapping from the original MERFISH coordinate space to the\n",
    "    CCF space to match a target CCF section. x & y specify the coronal plane, z \n",
    "    specifies the sagittal plane and is the same for all cells from the same \n",
    "    MERFISH z_section\n",
    "z_ccf, y_ccf, x_ccf : float\n",
    "    3D global affine mapping that aligns CCF into the MERFISH space. z & y \n",
    "    specify the coronal plane, medial-lateral & dorsal-ventral, respectively. \n",
    "    x specifies anterior-posterior & can be different for cells from the same \n",
    "    MERFISH z_section\n",
    "parcellation_index :\n",
    "    unique integer identifying each parcellation_substructure; used as the pixel\n",
    "    value in the annotation volume\n",
    "parcellation_division, parcellation_structure, parcellation_substructure : str\n",
    "    human readable Allen Reference Atlas (ARA) parcellation levels to which the \n",
    "    cell belongs; division is the highest level, substructure is the lowest\n",
    "left_hemisphere : bool\n",
    "    True if cell is in the left hemisphere, False if in the right\n",
    "'''"
   ]
  },
  {
   "cell_type": "code",
   "execution_count": 3,
   "id": "e86f10ab",
   "metadata": {},
   "outputs": [],
   "source": [
    "# Load cell metadata DataFrame\n",
    "obs = abc.load_standard_thalamus(data_structure='obs')"
   ]
  },
  {
   "cell_type": "code",
   "execution_count": 4,
   "id": "66aedc3e",
   "metadata": {},
   "outputs": [],
   "source": [
    "# Display some info about the loaded DataFrame\n",
    "\n",
    "# number of cells in this thalamus dataset\n",
    "print(f'n_cells = {obs.shape[0]}')\n",
    "\n",
    "# all metadata field names\n",
    "display(obs.columns)\n",
    "\n",
    "# first 11 metadata fields\n",
    "display(obs.head(3).iloc[:, :11])\n",
    "# last 11 metadata fields\n",
    "display(obs.head(3).iloc[:, 11:])"
   ]
  },
  {
   "cell_type": "markdown",
   "id": "6a525d91",
   "metadata": {},
   "source": [
    "### 1B. Load thalamus dataset as AnnData object\n",
    "\n",
    "Includes:\n",
    "- gene expression counts, transformed to log2cpt, stored in adata.X\n",
    "- cell metadata, stored in adata.obs (identical to the DataFrame loaded in Part 1A)\n",
    "- gene metadata, stored in adata.var\n",
    "- the exact same set of cells as loaded into the DataFrame in Part 1A"
   ]
  },
  {
   "cell_type": "code",
   "execution_count": 5,
   "id": "9959ca6c",
   "metadata": {},
   "outputs": [],
   "source": [
    "'''\n",
    "These metadata descriptions are compiled & modified from the \"Allen Brain Cell \n",
    "Atlas - Data Access\" companion Jupyter book, which can be found at: \n",
    "https://alleninstitute.github.io/abc_atlas_access/intro.html\n",
    "\n",
    "adata_th.X : np.ndarray of float\n",
    "    dense array of gene expression values for each cell in the dataset; standard \n",
    "    gene counts transform is log2cpt, log2(counts per thousand)\n",
    "\n",
    "adata_th.obs : pd.DataFrame\n",
    "    cell metadata, identical to the DataFrame version loaded in Part 1A\n",
    "    \n",
    "adata_th.var : pd.DataFrame\n",
    "    gene metadata, with the following fields:\n",
    "    gene_symbol : str\n",
    "        commonly used gene name. Both the Index of the DataFrame and a column\n",
    "    transcript_identifier : str\n",
    "        unique Ensembl transcript ID for each gene\n",
    "'''"
   ]
  },
  {
   "cell_type": "code",
   "execution_count": 6,
   "id": "5e6f78f7-a55e-4d8e-9709-9b9e845da8cf",
   "metadata": {
    "tags": []
   },
   "outputs": [],
   "source": [
    "# Load thalamus AnnData object (includes gene expression + cell & gene metadata)\n",
    "adata_th = abc.load_standard_thalamus(data_structure='adata')"
   ]
  },
  {
   "cell_type": "code",
   "execution_count": 7,
   "id": "9c3569a8",
   "metadata": {},
   "outputs": [],
   "source": [
    "# Display some info about the loaded AnnData object\n",
    "display(adata_th)\n",
    "\n",
    "# gene expression counts are transformed from raw to log2cpt (cpt = counts per thousand)\n",
    "display(adata_th.X)\n",
    "\n",
    "display(adata_th.var.head(3))\n",
    "\n",
    "display(adata_th.uns)"
   ]
  }
 ],
 "metadata": {
  "kernelspec": {
   "display_name": "base",
   "language": "python",
   "name": "python3"
  },
  "language_info": {
   "codemirror_mode": {
    "name": "ipython",
    "version": 3
   },
   "file_extension": ".py",
   "mimetype": "text/x-python",
   "name": "python",
   "nbconvert_exporter": "python",
   "pygments_lexer": "ipython3",
   "version": "3.9.12"
  }
 },
 "nbformat": 4,
 "nbformat_minor": 5
}
