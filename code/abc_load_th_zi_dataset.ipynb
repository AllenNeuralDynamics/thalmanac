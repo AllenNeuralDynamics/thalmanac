{
 "cells": [
  {
   "cell_type": "code",
   "execution_count": 1,
   "id": "5ba641bf-7e22-44c2-9a10-0c9aa378a5b5",
   "metadata": {
    "tags": []
   },
   "outputs": [],
   "source": [
    "%load_ext autoreload\n",
    "%autoreload 2"
   ]
  },
  {
   "cell_type": "code",
   "execution_count": 2,
   "id": "e01731f2-1938-422f-81c8-8e3ec7e7fc03",
   "metadata": {
    "tags": []
   },
   "outputs": [],
   "source": [
    "import abc_load as abc"
   ]
  },
  {
   "cell_type": "markdown",
   "id": "03ec6e4b-bbed-4183-8ddc-889921eb0a8f",
   "metadata": {},
   "source": [
    "## Load TH+ZI spatial subset from public ABC dataset"
   ]
  },
  {
   "cell_type": "code",
   "execution_count": 3,
   "id": "1d474346-4547-4a15-bec8-51eaa53e969d",
   "metadata": {
    "tags": []
   },
   "outputs": [],
   "source": [
    "adata_th_zi = abc.load_adata(transform='log2', subset_to_TH_ZI=True, \n",
    "                             with_metadata=True, flip_y=True,\n",
    "                             with_colors=True)"
   ]
  },
  {
   "cell_type": "code",
   "execution_count": 4,
   "id": "e1d59361-8454-4fcd-be0c-38f566d5d050",
   "metadata": {
    "tags": []
   },
   "outputs": [],
   "source": [
    "adata_th_zi"
   ]
  },
  {
   "cell_type": "markdown",
   "id": "53d06c8f-4203-48ef-9f75-94abf9959732",
   "metadata": {
    "jp-MarkdownHeadingCollapsed": true,
    "tags": []
   },
   "source": [
    "## def plot_dataset()"
   ]
  },
  {
   "cell_type": "code",
   "execution_count": 5,
   "id": "c977ecaf-20cd-4a89-afc3-3fb9e556e1d8",
   "metadata": {
    "tags": []
   },
   "outputs": [],
   "source": [
    "import anndata as ad\n",
    "import numpy as np\n",
    "import pandas as pd\n",
    "\n",
    "import matplotlib.pyplot as plt\n",
    "from matplotlib import colors\n",
    "from matplotlib.lines import Line2D\n",
    "%matplotlib inline\n",
    "\n",
    "def plot_dataset(adata, column='class'):\n",
    "    \n",
    "    cell_df = adata.obs\n",
    "\n",
    "    # define legend elements for the column colors\n",
    "    color_col = column+'_color'\n",
    "    categories = cell_df[column].unique()\n",
    "    cat_color_mapping = dict(zip(categories, cell_df[color_col].unique()))\n",
    "    # sort the dict & the categories list by category\n",
    "    cat_color_mapping = dict(sorted(cat_color_mapping.items()))\n",
    "    categories = sorted(categories)\n",
    "    legend_elements = [Line2D([0], [0], \n",
    "                              lw=0, marker='o', markersize=10,\n",
    "                              markerfacecolor=cat_color_mapping[cat],\n",
    "                              color=cat_color_mapping[cat], \n",
    "                              label=cat) \n",
    "                       for cat in cat_color_mapping]\n",
    "    \n",
    "    z_sections = sorted(cell_df['z_reconstructed'].unique())\n",
    "    \n",
    "    n_col = 2\n",
    "    n_row = int(np.ceil(len(z_sections) / n_col))\n",
    "    fig, axes = plt.subplots(n_row, n_col, figsize=(12,30))\n",
    "    axes = axes.ravel()\n",
    "\n",
    "    # x_min = 2.5; x_max = 8.5; y_min = 7.5; y_max = 4\n",
    "\n",
    "    for i, sec in enumerate(z_sections):\n",
    "        ax = axes[i]\n",
    "\n",
    "        curr_sec_cell_df = cell_df[(cell_df['z_reconstructed']==sec)]\n",
    "\n",
    "        sc = ax.scatter(curr_sec_cell_df['x_reconstructed'], curr_sec_cell_df['y_reconstructed'],\n",
    "                        color=curr_sec_cell_df['class_color'],\n",
    "                        s=0.5, marker='.', zorder=1)\n",
    "        ax.set_title('z='+str(sec))\n",
    "\n",
    "        # ax.set_xlim((x_min,x_max))\n",
    "        # ax.set_ylim((y_min,y_max))\n",
    "        ax.set_xlabel('x_reconstructed')\n",
    "        ax.set_ylabel('y_reconstructed')\n",
    "        ax.axis('equal')\n",
    "        ax.axis('off')\n",
    "        # ax.set_xticks([])\n",
    "        # ax.set_yticks([])\n",
    "\n",
    "        if i==7:\n",
    "            ax.legend(legend_elements, categories, title='class', \n",
    "                      loc='center left', bbox_to_anchor=(1.1,0.5))"
   ]
  },
  {
   "cell_type": "markdown",
   "id": "e98de733-e756-4255-aa82-57ac10f03be7",
   "metadata": {},
   "source": [
    "## Display output of abc.load_adata()"
   ]
  },
  {
   "cell_type": "markdown",
   "id": "e611083b-65f1-4cfa-9d8b-23591e949ee1",
   "metadata": {
    "tags": []
   },
   "source": [
    "### display all cells"
   ]
  },
  {
   "cell_type": "code",
   "execution_count": 6,
   "id": "02b0e7d2-f903-452c-85c4-ded6aeaece17",
   "metadata": {
    "tags": []
   },
   "outputs": [],
   "source": [
    "plot_dataset(adata_th_zi, column='class')"
   ]
  },
  {
   "cell_type": "markdown",
   "id": "ec7b6526-44b9-4a5f-bb27-73a61a103321",
   "metadata": {},
   "source": [
    "### display just neurons"
   ]
  },
  {
   "cell_type": "code",
   "execution_count": 8,
   "id": "f9951fb2-c54b-43ca-84c8-d318f7fcac3e",
   "metadata": {
    "tags": []
   },
   "outputs": [],
   "source": [
    "nn_classes = ['30 Astro-Epen', '31 OPC-Oligo', '32 OEC', '33 Vascular', '34 Immune']\n",
    "plot_dataset(adata_th_zi[~adata_th_zi.obs['class'].isin(nn_classes)], column='class')"
   ]
  },
  {
   "cell_type": "markdown",
   "id": "9273b5fa-25db-487d-8909-19cd5e1eec10",
   "metadata": {},
   "source": [
    "## Cleanup loaded dataset with abc.filter_adata_by_class()"
   ]
  },
  {
   "cell_type": "markdown",
   "id": "9ac7a0f2-42e6-4757-b90f-2b9c9bd8d43a",
   "metadata": {},
   "source": [
    "### keep only TH, ZI, & MH+LH classes"
   ]
  },
  {
   "cell_type": "code",
   "execution_count": 9,
   "id": "5200b016-0595-478c-9a15-10d79260526d",
   "metadata": {
    "tags": []
   },
   "outputs": [],
   "source": [
    "adata_th_zi_filter_all = abc.filter_adata_by_class(adata_th_zi, \n",
    "                                                  filter_nonneuronal=True, \n",
    "                                                  filter_midbrain=True)\n",
    "\n",
    "plot_dataset(adata_th_zi_filter_all, column='class')"
   ]
  },
  {
   "cell_type": "markdown",
   "id": "2d6667c5-1aaa-4da8-a024-cade7a91de29",
   "metadata": {},
   "source": [
    "### keep midbrain classes as well"
   ]
  },
  {
   "cell_type": "code",
   "execution_count": 11,
   "id": "cb3af4df-a4c4-4dc1-8947-169519a5d512",
   "metadata": {
    "tags": []
   },
   "outputs": [],
   "source": [
    "adata_th_zi_keep_MB = abc.filter_adata_by_class(adata_th_zi, \n",
    "                                                filter_nonneuronal=True, \n",
    "                                                filter_midbrain=False)\n",
    "\n",
    "plot_dataset(adata_th_zi_keep_MB, column='class')"
   ]
  }
 ],
 "metadata": {
  "kernelspec": {
   "display_name": "Python 3 (ipykernel)",
   "language": "python",
   "name": "python3"
  },
  "language_info": {
   "codemirror_mode": {
    "name": "ipython",
    "version": 3
   },
   "file_extension": ".py",
   "mimetype": "text/x-python",
   "name": "python",
   "nbconvert_exporter": "python",
   "pygments_lexer": "ipython3",
   "version": "3.9.12"
  }
 },
 "nbformat": 4,
 "nbformat_minor": 5
}
