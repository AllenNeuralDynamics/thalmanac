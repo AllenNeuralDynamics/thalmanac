{
 "cells": [
  {
   "cell_type": "markdown",
   "id": "091ad530",
   "metadata": {},
   "source": [
    "# 4_metrics_nucleus_celltype_diversity"
   ]
  },
  {
   "cell_type": "markdown",
   "id": "21f74095",
   "metadata": {},
   "source": [
    "This notebook demonstrates the calculation and visualization of metrics for the level of transcriptomic diversity across the thalamus, evaluated as a function of the local distribution of taxonomic cell types."
   ]
  },
  {
   "cell_type": "code",
   "execution_count": 1,
   "id": "4a7efd2f",
   "metadata": {},
   "outputs": [],
   "source": [
    "import seaborn as sns\n",
    "\n",
    "from thalamus_merfish_analysis import ccf_plots as cplot\n",
    "from thalamus_merfish_analysis import abc_load as abc\n",
    "from thalamus_merfish_analysis import ccf_erode as cerd\n",
    "from thalamus_merfish_analysis import diversity_metrics as divmet\n",
    "from thalamus_merfish_analysis import diversity_plots as dplot\n",
    "\n",
    "get_ipython().run_line_magic('matplotlib', 'inline') \n",
    "cplot.CCF_REGIONS_DEFAULT = abc.get_thalamus_names()"
   ]
  },
  {
   "cell_type": "markdown",
   "id": "2c770388",
   "metadata": {},
   "source": [
    "## Load ABC Thalamus dataset"
   ]
  },
  {
   "cell_type": "code",
   "execution_count": 2,
   "id": "d87f9452",
   "metadata": {},
   "outputs": [],
   "source": [
    "# load just the obs\n",
    "obs = abc.load_standard_thalamus(data_structure='obs')"
   ]
  },
  {
   "cell_type": "code",
   "execution_count": 3,
   "id": "818c56d0",
   "metadata": {},
   "outputs": [],
   "source": [
    "# load CCF image volumes\n",
    "realigned=False\n",
    "ccf_images = abc.get_ccf_labels_image(resampled=True, realigned=realigned)"
   ]
  },
  {
   "cell_type": "code",
   "execution_count": 4,
   "id": "1e420edc",
   "metadata": {},
   "outputs": [],
   "source": [
    "# set spatial column names to `_reconstructed` coordinate space\n",
    "coords = '_reconstructed'\n",
    "x_col = 'x'+coords\n",
    "y_col = 'y'+coords\n",
    "section_col = z_col = 'z'+coords"
   ]
  },
  {
   "cell_type": "markdown",
   "id": "c1791b6e",
   "metadata": {},
   "source": [
    "## Define eroded CCF regions"
   ]
  },
  {
   "cell_type": "markdown",
   "id": "ac6f55e4",
   "metadata": {},
   "source": [
    "Diversity metrics for regions are very sensitive to the precise location of region borders - diversity will be strongly inflated if the annotated region contains cells that actually belong to neighboring regions. Since visual inspection of alignment results has shown them to be imperfect in some parts of the thalamus, we mitigate this effect by calculating cell-type distributions only for the \"core\" of each region (cells that are at least 50 um from the region borders)."
   ]
  },
  {
   "cell_type": "code",
   "execution_count": 5,
   "id": "1d83e1bc",
   "metadata": {},
   "outputs": [],
   "source": [
    "ccf_metrics_level = \"structure\"\n",
    "obs_erode, ccf_label_eroded = cerd.label_cells_by_eroded_ccf(obs, ccf_images, ccf_level=ccf_metrics_level, distance_px=5) # default is erosion by 5px (50um)"
   ]
  },
  {
   "cell_type": "markdown",
   "id": "9733c219",
   "metadata": {},
   "source": [
    "We also drop one section (6.6) from the calculations entirely -- due to issues with the anterior-posterior positioning at the coarse alignment stage, the parafascicular nucleus (PF) is only annotated in a tiny proportion of the section, while PF cell types clearly cover a significant portion."
   ]
  },
  {
   "cell_type": "code",
   "execution_count": 6,
   "id": "1172ff77",
   "metadata": {},
   "outputs": [],
   "source": [
    "# So, we'll set all cells in section 6.6 to 'unassigned' CCF structure\n",
    "obs_erode.loc[lambda df: df['z_section']==6.6, ccf_label_eroded] = 'unassigned'"
   ]
  },
  {
   "cell_type": "code",
   "execution_count": 7,
   "id": "b5ddd3a9",
   "metadata": {},
   "outputs": [],
   "source": [
    "# We can visualize this mismatch (see `154 PF Fzd5 Glut` subclass in dark blue) \n",
    "# by using our plotting functions from the `2_view_thalamus_celltypes_ccf` notebook\n",
    "taxonomy_level = ['subclass']#, 'supertype']\n",
    "for level in taxonomy_level:\n",
    "    sec66_fig = cplot.plot_ccf_overlay(obs_erode, ccf_images, \n",
    "                                        point_hue=level, \n",
    "                                        sections=[6.6],\n",
    "                                        ccf_highlight=['PF'],\n",
    "                                        point_palette=abc.get_taxonomy_palette(level),\n",
    "                                        legend='cells',\n",
    "                                        section_col=section_col,\n",
    "                                        x_col=x_col, \n",
    "                                        y_col=y_col,)"
   ]
  },
  {
   "cell_type": "markdown",
   "id": "9d4f57eb",
   "metadata": {},
   "source": [
    "## Calculate default set of metrics"
   ]
  },
  {
   "cell_type": "markdown",
   "id": "028577aa",
   "metadata": {},
   "source": [
    "We calculate the following metrics: count of distinct types (raw, normalized by cell count, and fraction of all types), count of distinct types containing at least 5 cells in the region (raw and fractional), inverse Simpson's index, and Shannon index. Each metric is evaluated for types at the cluster, supertype, and subclass level of the taxonomy."
   ]
  },
  {
   "cell_type": "code",
   "execution_count": 8,
   "id": "b5c87331",
   "metadata": {},
   "outputs": [],
   "source": [
    "ccf_label='parcellation_structure_eroded'\n",
    "th_ccf_metrics = divmet.calculate_diversity_metrics(obs_erode, ccf_label=ccf_label)\n",
    "th_ccf_metrics.columns"
   ]
  },
  {
   "cell_type": "markdown",
   "id": "aba3bfcf",
   "metadata": {},
   "source": [
    "## Plot default metrics\n",
    "\n",
    "### Select regions to plot"
   ]
  },
  {
   "cell_type": "markdown",
   "id": "6ad5493e",
   "metadata": {},
   "source": [
    "For ease of plotting, we select a subset of regions focusing on relevant comparisons to the literature and excluding very small or low cell count regions."
   ]
  },
  {
   "cell_type": "code",
   "execution_count": 9,
   "id": "11ffe764",
   "metadata": {},
   "outputs": [],
   "source": [
    "regions_to_plot = dplot.TH_DIVERSITY_REGIONS"
   ]
  },
  {
   "cell_type": "markdown",
   "id": "fff810ee",
   "metadata": {},
   "source": [
    "### Plot cluster count & fraction on dual y-axis barplot\n",
    "\n",
    "Since cluster fractional count is simply a rescaling of cluster count, we can display both with dual y axes on a single plot."
   ]
  },
  {
   "cell_type": "code",
   "execution_count": 10,
   "id": "eaabcd43",
   "metadata": {},
   "outputs": [],
   "source": [
    "fig = dplot.barplot_dual_y_count_frac(th_ccf_metrics.loc[regions_to_plot], 'cluster', \n",
    "                                gt5_only=True)\n",
    "# fig.savefig(\"/results/nuclei_cluster_counts_barplot.pdf\", transparent=True)"
   ]
  },
  {
   "cell_type": "markdown",
   "id": "e4dd08c2",
   "metadata": {},
   "source": [
    "### Plot diversity at multiple taxonomy levels (cell type count)\n",
    "\n",
    "Diversity at different levels of the taxonomy is highly correlated but not always directly proportional. We plot all levels together, sorted by the cluster-level diversity, in order to visualize this."
   ]
  },
  {
   "cell_type": "code",
   "execution_count": 11,
   "id": "d234d6af",
   "metadata": {},
   "outputs": [],
   "source": [
    "fig = dplot.plot_metric_multiple_levels(th_ccf_metrics.loc[regions_to_plot], \n",
    "                                          'count',\n",
    "                                          ylabel=\"cell type count\")"
   ]
  },
  {
   "cell_type": "code",
   "execution_count": 12,
   "id": "7f8842ac",
   "metadata": {},
   "outputs": [],
   "source": [
    "fig = dplot.plot_metric_multiple_levels(th_ccf_metrics.loc[regions_to_plot], \n",
    "                                          'count_gt5',\n",
    "                                          ylabel='cell type (with >5 cells) count')"
   ]
  },
  {
   "cell_type": "code",
   "execution_count": 13,
   "id": "74616802",
   "metadata": {},
   "outputs": [],
   "source": [
    "fig = dplot.plot_metric_multiple_levels(th_ccf_metrics.loc[regions_to_plot], \n",
    "                                          'frac',\n",
    "                                          ylabel='cell type count / # cell types')"
   ]
  },
  {
   "cell_type": "code",
   "execution_count": 14,
   "id": "6871b01b",
   "metadata": {},
   "outputs": [],
   "source": [
    "fig = dplot.plot_metric_multiple_levels(th_ccf_metrics.loc[regions_to_plot], \n",
    "                                          'frac_gt5',\n",
    "                                          ylabel='cell type (with >5 cells) count / # cell types')"
   ]
  },
  {
   "cell_type": "markdown",
   "id": "e16789e4",
   "metadata": {},
   "source": [
    "### Accounting for relationships to CCF region size\n"
   ]
  },
  {
   "cell_type": "markdown",
   "id": "0494be5f",
   "metadata": {},
   "source": [
    "There is a wide range of sizes (here, we mean # of cells) & cell densities across thalamic CCF structures:"
   ]
  },
  {
   "cell_type": "code",
   "execution_count": 15,
   "id": "ddfdc7c5",
   "metadata": {},
   "outputs": [],
   "source": [
    "print('thalamic structure with fewest cells:\\n', \n",
    "      th_ccf_metrics.loc[regions_to_plot]['count_cells'].idxmin(), \n",
    "      th_ccf_metrics.loc[regions_to_plot]['count_cells'].min())\n",
    "print('thalamic structure with most cells:\\n', \n",
    "      th_ccf_metrics.loc[regions_to_plot]['count_cells'].idxmax(), \n",
    "      th_ccf_metrics.loc[regions_to_plot]['count_cells'].max())\n"
   ]
  },
  {
   "cell_type": "code",
   "execution_count": 16,
   "id": "b7c73a68",
   "metadata": {},
   "outputs": [],
   "source": [
    "fig = dplot.plot_metric_multiple_levels(th_ccf_metrics.loc[regions_to_plot], \n",
    "                                        'count_cells', \n",
    "                                        taxonomy_levels=None,\n",
    "                                        ylabel='cell count')"
   ]
  },
  {
   "cell_type": "markdown",
   "id": "50da0104",
   "metadata": {},
   "source": [
    "The effect of cell count on cluster count is weak, but present. We can plot normalized cluster count for a different view of diversity accounting for this contribution."
   ]
  },
  {
   "cell_type": "code",
   "execution_count": 17,
   "id": "d313d19c",
   "metadata": {},
   "outputs": [],
   "source": [
    "# effect of region size is weak but probably still present...\n",
    "sns.regplot(th_ccf_metrics.loc[regions_to_plot], x='count_cells', y='count_gt5_cluster', \n",
    "            color='#F99D20', label='cluster');"
   ]
  },
  {
   "cell_type": "code",
   "execution_count": 18,
   "id": "8a8f9ce4",
   "metadata": {},
   "outputs": [],
   "source": [
    "fig = dplot.plot_metric_multiple_levels(th_ccf_metrics.loc[regions_to_plot], \n",
    "                                          'count_norm2cells', \n",
    "                                          ylabel='cell type count / # cells')"
   ]
  },
  {
   "cell_type": "markdown",
   "id": "559fa75d",
   "metadata": {},
   "source": [
    "## Spatial view of region-wise diversity\n",
    "\n",
    "We have also provided a function in `ccf_plots` that allows you to shade the \n",
    "CCF structures by a given metric.\n",
    "\n",
    "We display 'cluster count / # cells' as a usage example."
   ]
  },
  {
   "cell_type": "code",
   "execution_count": 19,
   "id": "f24434fc",
   "metadata": {},
   "outputs": [],
   "source": [
    "# need to load the CCF image volumes\n",
    "ccf_images = abc.get_ccf_labels_image(resampled=True).astype(int)\n",
    "\n",
    "# pick the same 3 example sections used in the `2_view_thalamus_celltypes_ccf` notebook\n",
    "sections_3 = [6.4, 7.2, 8.0] "
   ]
  },
  {
   "cell_type": "code",
   "execution_count": 20,
   "id": "da4a4d5c",
   "metadata": {},
   "outputs": [],
   "source": [
    "# plot the cell type counts in the CCF structures\n",
    "figs = cplot.plot_metrics_ccf(ccf_images, \n",
    "                              th_ccf_metrics['count_norm2cells_cluster'], \n",
    "                              sections_3,\n",
    "                              ccf_level=ccf_metrics_level,\n",
    "                              vmin=0, vmax=0.15, cmap='Oranges',\n",
    "                              cb_label='cluster count / # cells')"
   ]
  },
  {
   "cell_type": "markdown",
   "id": "5f7cca89",
   "metadata": {},
   "source": [
    "## Local diversity index"
   ]
  },
  {
   "cell_type": "markdown",
   "id": "58b74bf9",
   "metadata": {},
   "source": [
    "For a view of diversity that is not dependent on predefined region boundaries, we can calculate local diversity indices for each cell, using the same metrics for diversity of the cell-type distribution, but restricted to nearest neighbors of the cell. We demonstrate this for 15-cell neighborhoods, using the Inverse Simpson's index (equivalent to the cell type count if types are evenly distributed, but weighted so that smaller types contribute less).\n",
    "\n",
    "The plotting method provided additionally smooths the cell-wise metrics onto a regular grid before plotting."
   ]
  },
  {
   "cell_type": "code",
   "execution_count": 21,
   "id": "85a233ba",
   "metadata": {},
   "outputs": [],
   "source": [
    "local_isi_df = divmet.calculate_local_diversity_metric(obs_erode, \n",
    "                                                       divmet.inverse_simpsons_index, \n",
    "                                                       metric_name='isi', \n",
    "                                                       n_neighbors=15)\n",
    "local_isi_df"
   ]
  },
  {
   "cell_type": "code",
   "execution_count": 22,
   "id": "be4e9a0a",
   "metadata": {},
   "outputs": [],
   "source": [
    "sections_3 = [6.4, 7.2, 8.0]\n",
    "metric_name = 'local_isi_cluster'\n",
    "for section in sections_3:\n",
    "    fig = dplot.plot_local_metric_ccf_section(obs_erode, local_isi_df, ccf_images,\n",
    "                                              section, metric_name)"
   ]
  },
  {
   "cell_type": "markdown",
   "id": "4eb63d0e",
   "metadata": {},
   "source": [
    "## Proportions as stacked bar graphs"
   ]
  },
  {
   "cell_type": "markdown",
   "id": "c6be0189",
   "metadata": {},
   "source": [
    "We also visualize the diversity and specific cell-type distributions of each region as a stacked barplot with distinct segments/colors for each type. Types containing less than 1% of the cells in the region are excluded and greyed out (alternatively, can be thresholded by count)."
   ]
  },
  {
   "cell_type": "markdown",
   "id": "a966793b",
   "metadata": {},
   "source": [
    "### Subclass proportions by region"
   ]
  },
  {
   "cell_type": "code",
   "execution_count": 23,
   "id": "896262ac",
   "metadata": {},
   "outputs": [],
   "source": [
    "fig = dplot.barplot_stacked_proportions(obs_erode, 'subclass', th_ccf_metrics, \n",
    "                                        legend=True, min_cell_frac=0.01)   # other options: min_cell_count=5, min_cell_frac=0.05 "
   ]
  },
  {
   "cell_type": "markdown",
   "id": "9451bf23",
   "metadata": {},
   "source": [
    "### Supertype proportions by region"
   ]
  },
  {
   "cell_type": "code",
   "execution_count": 24,
   "id": "b6dd8835",
   "metadata": {},
   "outputs": [],
   "source": [
    "# filter clusters that represent <= 1% of cells in that region\n",
    "fig = dplot.barplot_stacked_proportions(obs_erode, 'supertype', th_ccf_metrics, \n",
    "                                        legend=True, min_cell_frac=0.01)  # other options: min_cell_count=5, min_cell_frac=0.05 "
   ]
  },
  {
   "cell_type": "markdown",
   "id": "f8a8a17b",
   "metadata": {},
   "source": [
    "### Cluster proportions by region"
   ]
  },
  {
   "cell_type": "code",
   "execution_count": 25,
   "id": "9c7be61b",
   "metadata": {},
   "outputs": [],
   "source": [
    "# without legend\n",
    "# filter clusters that represent <= 1% of cells in that region\n",
    "fig = dplot.barplot_stacked_proportions(obs_erode, 'cluster', th_ccf_metrics, \n",
    "                                        legend=False, min_cell_frac=0.01)  # other options: min_cell_count=5, min_cell_frac=0.05"
   ]
  },
  {
   "cell_type": "code",
   "execution_count": 26,
   "id": "7d697b7a",
   "metadata": {},
   "outputs": [],
   "source": [
    "#  with legend - uncomment to view the very long list of clusters\n",
    "# fig = dplot.barplot_stacked_proportions(obs_erode, 'cluster', th_ccf_metrics, \n",
    "#                                         legend=False, min_cell_frac=0.01)  # other options: min_cell_count=5, min_cell_frac=0.05"
   ]
  }
 ],
 "metadata": {
  "kernelspec": {
   "display_name": "base",
   "language": "python",
   "name": "python3"
  },
  "language_info": {
   "codemirror_mode": {
    "name": "ipython",
    "version": 3
   },
   "file_extension": ".py",
   "mimetype": "text/x-python",
   "name": "python",
   "nbconvert_exporter": "python",
   "pygments_lexer": "ipython3",
   "version": "3.9.12"
  },
  "vscode": {
   "interpreter": {
    "hash": "d4d1e4263499bec80672ea0156c357c1ee493ec2b1c70f0acce89fc37c4a6abe"
   }
  }
 },
 "nbformat": 4,
 "nbformat_minor": 5
}
