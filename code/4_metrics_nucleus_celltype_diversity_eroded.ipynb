{
 "cells": [
  {
   "cell_type": "markdown",
   "id": "091ad530",
   "metadata": {},
   "source": [
    "# 4_metrics_nucleus_celltype_diversity"
   ]
  },
  {
   "cell_type": "code",
   "execution_count": 1,
   "id": "17c0c229",
   "metadata": {},
   "outputs": [],
   "source": [
    "%load_ext autoreload\n",
    "%autoreload 2"
   ]
  },
  {
   "cell_type": "code",
   "execution_count": 2,
   "id": "4a7efd2f",
   "metadata": {},
   "outputs": [],
   "source": [
    "import pandas as pd\n",
    "import matplotlib.pyplot as plt\n",
    "import seaborn as sns\n",
    "import numpy as np\n",
    "\n",
    "from thalamus_merfish_analysis import ccf_plots as cplot\n",
    "from thalamus_merfish_analysis import ccf_images as cimg\n",
    "from thalamus_merfish_analysis import ccf_registration as ccf\n",
    "from thalamus_merfish_analysis import abc_load as abc\n",
    "from thalamus_merfish_analysis import ccf_erode as cerd\n",
    "from thalamus_merfish_analysis import diversity_metrics as divmet\n",
    "from thalamus_merfish_analysis import diversity_plots as divplot\n",
    "\n",
    "get_ipython().run_line_magic('matplotlib', 'inline') "
   ]
  },
  {
   "cell_type": "markdown",
   "id": "2c770388",
   "metadata": {},
   "source": [
    "## Load ABC Thalamus dataset"
   ]
  },
  {
   "cell_type": "code",
   "execution_count": 3,
   "id": "d87f9452",
   "metadata": {},
   "outputs": [],
   "source": [
    "# load just the obs\n",
    "obs = abc.load_standard_thalamus(data_structure='obs')"
   ]
  },
  {
   "cell_type": "code",
   "execution_count": 4,
   "id": "818c56d0",
   "metadata": {},
   "outputs": [],
   "source": [
    "# load CCF image volumes\n",
    "realigned=False\n",
    "ccf_images = abc.get_ccf_labels_image(resampled=True, realigned=realigned)"
   ]
  },
  {
   "cell_type": "code",
   "execution_count": 5,
   "id": "1e420edc",
   "metadata": {},
   "outputs": [],
   "source": [
    "# set spatial column names to `_reconstructed` coordinate space\n",
    "coords = '_reconstructed'\n",
    "x_col = 'x'+coords\n",
    "y_col = 'y'+coords\n",
    "section_col = z_col = 'z'+coords"
   ]
  },
  {
   "cell_type": "markdown",
   "id": "c1791b6e",
   "metadata": {},
   "source": [
    "## Define eroded CCF regions"
   ]
  },
  {
   "cell_type": "code",
   "execution_count": 6,
   "id": "1d83e1bc",
   "metadata": {},
   "outputs": [],
   "source": [
    "obs = cerd.label_cells_by_eroded_ccf(obs, ccf_images) # default is erosion by 5px (5um)"
   ]
  },
  {
   "cell_type": "code",
   "execution_count": 7,
   "id": "f19ac1ea",
   "metadata": {},
   "outputs": [],
   "source": [
    "# There is poor alignment in section 6.6 between PF celltypes and the PF CCF structure\n",
    "# So, we'll set all cells in section 6.6 to 'unassigned' CCF structure\n",
    "obs.loc[lambda df: df['z_section']==6.6, cerd.ERODED_CCF_STRUCTURE_COL] = 'unassigned'"
   ]
  },
  {
   "cell_type": "code",
   "execution_count": 8,
   "id": "b5ddd3a9",
   "metadata": {},
   "outputs": [],
   "source": [
    "# We can visualize this mismatch (see `154 PF Fzd5 Glut` subclass in dark blue) \n",
    "# by using our plotting functions from the `2_view_thalamus_celltypes_ccf` notebook\n",
    "taxonomy_level = ['subclass']#, 'supertype']\n",
    "for level in taxonomy_level:\n",
    "    sec66_fig = cplot.plot_ccf_overlay(obs, ccf_images, \n",
    "                                        point_hue=level, \n",
    "                                        sections=[6.6],\n",
    "                                        point_palette=abc.get_taxonomy_palette(level),\n",
    "                                        legend='cells',\n",
    "                                        section_col=section_col,\n",
    "                                        x_col=x_col, \n",
    "                                        y_col=y_col,)"
   ]
  },
  {
   "cell_type": "markdown",
   "id": "9d4f57eb",
   "metadata": {},
   "source": [
    "## Calculate default set of metrics"
   ]
  },
  {
   "cell_type": "code",
   "execution_count": 9,
   "id": "b5c87331",
   "metadata": {},
   "outputs": [],
   "source": [
    "ccf_label='parcellation_structure_eroded'\n",
    "th_ccf_metrics = divmet.calculate_diversity_metrics(obs, ccf_label=ccf_label)\n",
    "th_ccf_metrics"
   ]
  },
  {
   "cell_type": "markdown",
   "id": "aba3bfcf",
   "metadata": {},
   "source": [
    "## Plot default metrics\n",
    "\n",
    "### Select regions to plot"
   ]
  },
  {
   "cell_type": "code",
   "execution_count": 10,
   "id": "11ffe764",
   "metadata": {},
   "outputs": [],
   "source": [
    "regions_to_plot = divplot.TH_DIVERSITY_REGIONS"
   ]
  },
  {
   "cell_type": "markdown",
   "id": "fff810ee",
   "metadata": {},
   "source": [
    "### Plot cluster count & frac on dual y-axis barplot"
   ]
  },
  {
   "cell_type": "code",
   "execution_count": 12,
   "id": "eaabcd43",
   "metadata": {},
   "outputs": [],
   "source": [
    "fig = divplot.barplot_dual_y_count_frac(th_ccf_metrics.loc[regions_to_plot], 'cluster', \n",
    "                                gt5_only=True)\n",
    "# fig.savefig(\"/results/nuclei_cluster_counts_barplot.pdf\", transparent=True)"
   ]
  },
  {
   "cell_type": "markdown",
   "id": "e4dd08c2",
   "metadata": {},
   "source": [
    "### Plot unique cell type count"
   ]
  },
  {
   "cell_type": "code",
   "execution_count": 13,
   "id": "d234d6af",
   "metadata": {},
   "outputs": [],
   "source": [
    "fig = divplot.plot_metric_multiple_levels(th_ccf_metrics.loc[regions_to_plot], \n",
    "                                          'count',\n",
    "                                          ylabel=\"cell type count\")"
   ]
  },
  {
   "cell_type": "code",
   "execution_count": 14,
   "id": "7f8842ac",
   "metadata": {},
   "outputs": [],
   "source": [
    "fig = divplot.plot_metric_multiple_levels(th_ccf_metrics.loc[regions_to_plot], \n",
    "                                          'count_gt5',\n",
    "                                          ylabel='cell type (with >5 cells) count')"
   ]
  },
  {
   "cell_type": "markdown",
   "id": "259ecb0e",
   "metadata": {},
   "source": [
    "### Plot: cell type count / # cell types"
   ]
  },
  {
   "cell_type": "code",
   "execution_count": 15,
   "id": "74616802",
   "metadata": {},
   "outputs": [],
   "source": [
    "fig = divplot.plot_metric_multiple_levels(th_ccf_metrics.loc[regions_to_plot], \n",
    "                                          'frac',\n",
    "                                          ylabel='cell type count / # cell types')"
   ]
  },
  {
   "cell_type": "code",
   "execution_count": 16,
   "id": "6871b01b",
   "metadata": {},
   "outputs": [],
   "source": [
    "fig = divplot.plot_metric_multiple_levels(th_ccf_metrics.loc[regions_to_plot], \n",
    "                                          'frac_gt5',\n",
    "                                          ylabel='cell type (with >5 cells) count / # cell types')"
   ]
  },
  {
   "cell_type": "markdown",
   "id": "e16789e4",
   "metadata": {},
   "source": [
    "### Plot cell type counts, normalized to # of cells in each CCF region\n",
    "\n",
    "This controls for differing cell densities & region sizes across CCF structures"
   ]
  },
  {
   "cell_type": "markdown",
   "id": "0494be5f",
   "metadata": {},
   "source": [
    "There is a wide range of sizes (here, we mean # of cells) & cell densities across thalamic CCF structures:"
   ]
  },
  {
   "cell_type": "code",
   "execution_count": 17,
   "id": "ddfdc7c5",
   "metadata": {},
   "outputs": [],
   "source": [
    "print('thalamic structure with fewest cells:\\n', \n",
    "      th_ccf_metrics.loc[regions_to_plot]['count_cells'].idxmin(), \n",
    "      th_ccf_metrics.loc[regions_to_plot]['count_cells'].min())\n",
    "print('thalamic structure with most cells:\\n', \n",
    "      th_ccf_metrics.loc[regions_to_plot]['count_cells'].idxmax(), \n",
    "      th_ccf_metrics.loc[regions_to_plot]['count_cells'].max())\n"
   ]
  },
  {
   "cell_type": "code",
   "execution_count": 18,
   "id": "b7c73a68",
   "metadata": {},
   "outputs": [],
   "source": [
    "fig = divplot.plot_metric_multiple_levels(th_ccf_metrics.loc[regions_to_plot], \n",
    "                                          'count_cells', \n",
    "                                          levels=None,\n",
    "                                          ylabel='cell count')"
   ]
  },
  {
   "cell_type": "markdown",
   "id": "308e23ef",
   "metadata": {},
   "source": [
    "The effect of CCf structure size is weak, but present, and should be accounted for"
   ]
  },
  {
   "cell_type": "code",
   "execution_count": 19,
   "id": "b7172c81",
   "metadata": {},
   "outputs": [],
   "source": [
    "# effect of region size is weak but probably still present...\n",
    "import seaborn as sns\n",
    "sns.regplot(th_ccf_metrics.loc[regions_to_plot], x='count_cells', y='count_gt5_cluster', \n",
    "            color='#F99D20', label='cluster');"
   ]
  },
  {
   "cell_type": "code",
   "execution_count": 20,
   "id": "8a8f9ce4",
   "metadata": {},
   "outputs": [],
   "source": [
    "fig = divplot.plot_metric_multiple_levels(th_ccf_metrics.loc[regions_to_plot], \n",
    "                                          'count_norm2cells', \n",
    "                                          ylabel='cell type count / # cells')"
   ]
  },
  {
   "cell_type": "markdown",
   "id": "559fa75d",
   "metadata": {},
   "source": [
    "## Display CCF structures shaded by metrics\n",
    "\n",
    "We have also provided a function in `ccf_plots` that allows you to shade the \n",
    "CCF structures by a given metric.\n",
    "\n",
    "We display 'cluster count / # cells' as a usage example."
   ]
  },
  {
   "cell_type": "code",
   "execution_count": 21,
   "id": "f24434fc",
   "metadata": {},
   "outputs": [],
   "source": [
    "# need to load the CCF image volumes\n",
    "ccf_images = abc.get_ccf_labels_image(resampled=True).astype(int)\n",
    "\n",
    "# pick the same 3 example sections used in the `2_view_thalamus_celltypes_ccf` notebook\n",
    "sections_3 = [6.4, 7.2, 8.0] "
   ]
  },
  {
   "cell_type": "code",
   "execution_count": 22,
   "id": "da4a4d5c",
   "metadata": {},
   "outputs": [],
   "source": [
    "# plot the cell type counts in the CCF structures\n",
    "figs = cplot.plot_metrics_ccf(ccf_images, \n",
    "                              th_ccf_metrics['count_norm2cells_cluster'], \n",
    "                              sections_3,\n",
    "                              vmin=0, vmax=0.15, cmap='Oranges',\n",
    "                              cb_label='cluster count / # cells')"
   ]
  },
  {
   "cell_type": "markdown",
   "id": "5f7cca89",
   "metadata": {},
   "source": [
    "## Calculate local diversity index"
   ]
  },
  {
   "cell_type": "code",
   "execution_count": null,
   "id": "a130dd8e",
   "metadata": {},
   "outputs": [],
   "source": [
    "from sklearn.neighbors import NearestNeighbors\n",
    "\n",
    "neigh = NearestNeighbors(n_neighbors=20, n_jobs=-1)\n",
    "neigh_coords = [x+'_ccf' for x in 'xyz']\n",
    "X = obs_neurons_ccf[neigh_coords].values\n",
    "neigh.fit(X)"
   ]
  },
  {
   "cell_type": "code",
   "execution_count": null,
   "id": "843ff0ec",
   "metadata": {},
   "outputs": [],
   "source": [
    "from multiprocessing import Pool\n",
    "# def local_index(obs_neurons_ccf, function, name, ccf_label, n_neighbors=15, levels=['cluster']):\n",
    "function = inverse_simpsons\n",
    "name='isi'\n",
    "n_neighbors=15\n",
    "levels=['cluster', 'subclass']\n",
    "\n",
    "neighbors = neigh.kneighbors(X, n_neighbors=n_neighbors, return_distance=False)\n",
    "\n",
    "def fcn(i): \n",
    "    return obs_neurons_ccf.iloc[neighbors[i]][levels].aggregate(function)\n",
    "\n",
    "with Pool() as p:\n",
    "    out = p.map(fcn, range(len(obs_neurons_ccf)))"
   ]
  },
  {
   "cell_type": "code",
   "execution_count": null,
   "id": "66b72b46",
   "metadata": {},
   "outputs": [],
   "source": [
    "cellwise_metrics = pd.DataFrame.from_records(out, index=obs_neurons_ccf.index).rename(columns=lambda x: \"_\".join(['local', name, x]))"
   ]
  },
  {
   "cell_type": "code",
   "execution_count": null,
   "id": "79ad2cbe",
   "metadata": {},
   "outputs": [],
   "source": [
    "img = ccf_images[:,:,0]\n",
    "grid = np.ix_(np.arange(img.shape[0])* 10e-3, np.arange(img.shape[1])* 10e-3) \n",
    "\n",
    "from scipy.interpolate import CloughTocher2DInterpolator, LinearNDInterpolator\n",
    "\n",
    "from scipy.ndimage import gaussian_filter"
   ]
  },
  {
   "cell_type": "code",
   "execution_count": null,
   "id": "f4e25616",
   "metadata": {},
   "outputs": [],
   "source": [
    "section = 7.2\n",
    "\n",
    "th_indices = [i for i, name in ccf_index.items() if name in th_structure_names]\n",
    "def plot_section(section):\n",
    "    obs = obs_neurons_ccf.join(cellwise_metrics).loc[lambda df: df[section_col]==section]\n",
    "    interp = LinearNDInterpolator(obs[['x_'+coords, 'y_'+coords]], obs['local_isi_cluster']\n",
    "                                #   /n_neighbors)\n",
    "    )\n",
    "    img = interp(*grid)\n",
    "    fig, ax = plt.subplots()\n",
    "    resolution = 10e-3\n",
    "    extent = resolution * (np.array([0, imdata.shape[0], imdata.shape[1], 0]) - 0.5)\n",
    "\n",
    "    sec_img = ccf_images[:,:,int(np.rint(section/200e-3))]\n",
    "    mask = np.any(np.stack([sec_img==i for i in th_indices]), axis=0)\n",
    "    img[~mask] = np.nan\n",
    "    # img = gaussian_filter(img, 2)\n",
    "\n",
    "    im = ax.imshow(img.T, cmap='Oranges', extent=extent, interpolation=\"none\", vmin=0, vmax=15)\n",
    "\n",
    "    cplot.plot_ccf_section(ccf_images, section,\n",
    "                                        ccf_region_names=None, palette='dark_outline', ax=ax)\n",
    "    cplot.format_image_axes()\n",
    "    plt.colorbar(im, label=\"Inverse Simpson's index\")\n",
    "\n",
    "\n",
    "plot_section(7.2)\n",
    "# plt.title(\"Local cluster diversity\")\n",
    "plt.savefig(\"/results/lisi_sec1.pdf\", transparent=True)\n",
    "plot_section(8.0)\n",
    "plt.savefig(\"/results/lisi_sec2.pdf\", transparent=True)"
   ]
  },
  {
   "cell_type": "code",
   "execution_count": null,
   "id": "0b270ac4",
   "metadata": {},
   "outputs": [],
   "source": [
    "obs = obs_neurons_ccf.join(cellwise_metrics)\n",
    "kwargs = dict(\n",
    "    section_col=section_col,\n",
    "    x_col = 'x_'+coords,\n",
    "    y_col = 'y_'+coords,\n",
    "    s=2, \n",
    "    face_palette=None,\n",
    "    edge_color='grey',\n",
    "    # boundary_img=ccf_boundaries\n",
    ")\n",
    "figs = cplot.plot_ccf_overlay(obs, ccf_images, point_hue='local_isi_cluster', point_palette='viridis_r', \n",
    "                       categorical=False, legend=False, sections=[7.2, 8.0], **kwargs)\n",
    "for i, fig in enumerate(figs):\n",
    "    fig.savefig(f\"/results/local_isi_sec{i}.pdf\")"
   ]
  },
  {
   "cell_type": "code",
   "execution_count": null,
   "id": "01e8d843",
   "metadata": {},
   "outputs": [],
   "source": [
    "# local index - about 2 min to run!\n",
    "\n",
    "# n_neighbors = 15\n",
    "# neighbors = neigh.kneighbors(X, n_neighbors=n_neighbors, return_distance=False)\n",
    "# neighbors_series = pd.Series(neighbors.tolist(), index=obs_neurons_ccf.index)\n",
    "\n",
    "# def local_metric(label_series, neighbors_series, function):\n",
    "#     results = np.array([\n",
    "#         function(\n",
    "#     # doesn't include neighbors across boundaries...\n",
    "#             # label_series.reindex(obs_neurons_ccf.index[ind]).dropna()\n",
    "#             # label_series[label_series.index.intersection(obs_neurons_ccf.index[ind])]\n",
    "#             obs_neurons_ccf[label_series.name].iloc[ind]\n",
    "#             )\n",
    "#         for ind in neighbors_series[label_series.index]\n",
    "#         ])\n",
    "#     return np.median(results)\n",
    "\n",
    "# lisi = lambda x: local_metric(x, neighbors_series, inverse_simpsons)\n",
    "# th_lisi = get_region_metric(obs_neurons_ccf, ccf_label, lisi, \"lisi\", levels=['cluster','supertype','subclass'])"
   ]
  },
  {
   "cell_type": "code",
   "execution_count": null,
   "id": "56a791be",
   "metadata": {},
   "outputs": [],
   "source": [
    "median_local_metrics = cellwise_metrics.join(obs_neurons_ccf[ccf_label]).groupby(ccf_label, observed=True).median().drop(\n",
    "    index=['unassigned', 'TH-unassigned'])"
   ]
  },
  {
   "cell_type": "code",
   "execution_count": null,
   "id": "9104fc33",
   "metadata": {},
   "outputs": [],
   "source": [
    "cplot.plot_metrics_ccf(imdata, median_local_metrics[\"local_isi_cluster\"], sections, ccf_index,\n",
    "                       cmap='Oranges')"
   ]
  },
  {
   "cell_type": "code",
   "execution_count": null,
   "id": "c101b177",
   "metadata": {},
   "outputs": [],
   "source": [
    "cplot.plot_metrics_ccf(imdata, median_local_metrics[\"local_isi_subclass\"], sections, ccf_index,\n",
    "                       cmap='Greens')"
   ]
  },
  {
   "cell_type": "markdown",
   "id": "4eb63d0e",
   "metadata": {},
   "source": [
    "\n",
    "## Proportions as stacked bar graphs"
   ]
  },
  {
   "cell_type": "code",
   "execution_count": 1,
   "id": "69432202",
   "metadata": {},
   "outputs": [],
   "source": [
    "# for each subregion, count the proportion of cells in each cluster/supertype/subclass\n",
    "regions = list(regions_to_plot)\n",
    "ccf_cluster_counts = pd.DataFrame(0.0, index=regions, columns=th_clusters)\n",
    "ccf_supertype_counts = pd.DataFrame(0.0, index=regions, columns=th_supertypes)\n",
    "ccf_subclass_counts = pd.DataFrame(0.0, index=regions, columns=th_subclasses)\n",
    "min_count = 5\n",
    "for subregion, df in obs_neurons_ccf.groupby(ccf_label, observed=True):\n",
    "    if subregion in regions_100:\n",
    "        # clusters\n",
    "        cluster_counts = df['cluster'].value_counts().loc[lambda x: x>min_count]\n",
    "        ccf_cluster_counts.loc[subregion, \n",
    "                            cluster_counts.index] = cluster_counts.values / len(df)\n",
    "        ccf_cluster_counts.loc[subregion, 'other'] = 1-ccf_cluster_counts.loc[subregion].sum()\n",
    "\n",
    "        # supertypes\n",
    "        supertype_counts = df['supertype'].value_counts().loc[lambda x: x>min_count]\n",
    "        ccf_supertype_counts.loc[subregion, \n",
    "                                supertype_counts.index] = supertype_counts.values / len(df)\n",
    "        ccf_supertype_counts.loc[subregion, 'other'] = 1-ccf_supertype_counts.loc[subregion].sum()\n",
    "\n",
    "        # subclasses\n",
    "        subclass_counts = df['subclass'].value_counts().loc[lambda x: x>min_count]\n",
    "        ccf_subclass_counts.loc[subregion, \n",
    "                                subclass_counts.index] = subclass_counts.values / len(df)\n",
    "        ccf_subclass_counts.loc[subregion, 'other'] = 1-ccf_subclass_counts.loc[subregion].sum()"
   ]
  },
  {
   "cell_type": "code",
   "execution_count": null,
   "id": "0ec08224",
   "metadata": {},
   "outputs": [],
   "source": [
    "ccf_cluster_counts"
   ]
  },
  {
   "cell_type": "markdown",
   "id": "2d901b80",
   "metadata": {},
   "source": [
    "#### TODO: Implement barchart w/ plotly\n",
    "\n",
    "which will enable hovering over the bars to display the subclass/supertype/cluster to which it belongs"
   ]
  },
  {
   "cell_type": "code",
   "execution_count": null,
   "id": "ecabb3c0",
   "metadata": {},
   "outputs": [],
   "source": [
    "# display as a stacked bar graph\n",
    "from colorcet import glasbey_light\n",
    "\n",
    "def plot_stacked_barplot(df, taxonomy_level, legend=True, palette=None):\n",
    "    fig, axes = plt.subplots(nrows=1, ncols=1, figsize=(12,5))\n",
    "    if palette is None:\n",
    "        palette = abc.get_taxonomy_palette(taxonomy_level)\n",
    "        # palette = sns.color_palette(glasbey_light, n_colors=len(df.columns))\n",
    "    palette['other'] = 'grey'\n",
    "    df.plot(kind='bar', stacked=True, ax=axes, legend=legend, color=palette)\n",
    "    if legend:\n",
    "        axes.legend(loc='upper left', bbox_to_anchor=(0.05, -0.3), ncol=4)\n",
    "    axes.set_xticklabels(df.index, rotation=90)\n",
    "    axes.set_xlabel('CCF structure')\n",
    "    # axes.set_yticks([])\n",
    "    axes.set_ylabel('proportion of cells in unique '+taxonomy_level)\n",
    "\n",
    "    fig.subplots_adjust(hspace=0.1)\n",
    "    \n",
    "    # add text\n",
    "    for i, subregion in enumerate(df.index):\n",
    "        n_nonzero = (df.loc[subregion, df.columns!='other']>0).sum()\n",
    "        axes.text(i, 1.01, n_nonzero, horizontalalignment='center')"
   ]
  },
  {
   "cell_type": "markdown",
   "id": "b123b4dd",
   "metadata": {},
   "source": [
    "#### Subclasses"
   ]
  },
  {
   "cell_type": "code",
   "execution_count": null,
   "id": "2b07cb07",
   "metadata": {},
   "outputs": [],
   "source": [
    "# First sort by the Shannon Diversity Index from th_ccf_metrics\n",
    "th_metrics_sorted_by_sdi = th_metrics.loc[regions_to_plot].sort_values(by='shannon_index_subclass', ascending=True)\n",
    "\n",
    "# Use sorted list of subregions to plot in order from least diverse to most diverse\n",
    "plot_stacked_barplot(ccf_subclass_counts.loc[list(th_metrics_sorted_by_sdi.index)], \n",
    "                     'subclass', legend=False)"
   ]
  },
  {
   "cell_type": "markdown",
   "id": "d3c611a7",
   "metadata": {},
   "source": [
    "#### Supertypes"
   ]
  },
  {
   "cell_type": "code",
   "execution_count": null,
   "id": "e940ccb3",
   "metadata": {},
   "outputs": [],
   "source": [
    "# First sort by the Shannon Diversity Index from th_metrics\n",
    "th_metrics_sorted_by_sdi = th_metrics.loc[regions_subset].sort_values(by='shannon_index_supertype', ascending=True)\n",
    "\n",
    "# Use sorted list of subregions to plot in order from least diverse to most diverse\n",
    "plot_stacked_barplot(ccf_supertype_counts.loc[th_metrics_sorted_by_sdi.index], \n",
    "                     'supertype', legend=False)"
   ]
  },
  {
   "cell_type": "markdown",
   "id": "08f728de",
   "metadata": {},
   "source": [
    "#### Clusters"
   ]
  },
  {
   "cell_type": "code",
   "execution_count": null,
   "id": "cbcfa1dc",
   "metadata": {},
   "outputs": [],
   "source": [
    "cluster_palette_glasbey = pd.read_csv(\"resources/cluster_palette_glasbey.csv\", index_col=0).iloc[:,0].to_dict()\n"
   ]
  },
  {
   "cell_type": "code",
   "execution_count": null,
   "id": "2f597c33",
   "metadata": {},
   "outputs": [],
   "source": [
    "# First sort by the Shannon Diversity Index from th_metrics\n",
    "th_metrics_sorted_by_sdi = th_metrics.loc[regions_subset].sort_values(by='count_gt5_cluster', ascending=True)\n",
    "\n",
    "# Use sorted list of subregions to plot in order from least diverse to most diverse\n",
    "plot_stacked_barplot(ccf_cluster_counts.loc[th_metrics_sorted_by_sdi.index], \n",
    "                     'cluster', palette=cluster_palette_glasbey, legend=False)\n",
    "\n",
    "plt.savefig(\"/results/nuclei_cluster_proportion_barplot.pdf\", transparent=True)"
   ]
  },
  {
   "cell_type": "markdown",
   "id": "589cb9b4",
   "metadata": {},
   "source": [
    "# Per Cluster/Supertype/Subclass Metrics (neurons only)"
   ]
  },
  {
   "cell_type": "markdown",
   "id": "0ab6f5ef",
   "metadata": {},
   "source": [
    "## TODO: Dispersion of clusters/supertypes across nuclei\n",
    "\n",
    "i.e. grab a cluster that dominates in one nucleus (e.g. 1133 in MD) and ask how dispersed it is across the whole thalamus. Ideally, a linear metric, such that you could ask what the dispersion is for all clusters to see which ones seem to be more compact and which are more shared\n",
    "\n",
    "I *think* this is going to have to be done on hemispheres, rather than the whole brain. Most existing tools I'm finding are not able to account for symmetries.\n",
    "\n",
    "Likely going to borrow from some of ArcGIS's standard toolboxes\n",
    "- https://pro.arcgis.com/en/pro-app/latest/tool-reference/spatial-statistics/h-how-standard-distance-spatial-statistic-works.htm\n",
    "\n",
    "Or other satellite imagery methods:\n",
    "- https://www.tandfonline.com/doi/full/10.1080/17538947.2018.1474957"
   ]
  },
  {
   "cell_type": "markdown",
   "id": "36ae81a3",
   "metadata": {},
   "source": [
    "# Neighborhood metrics\n",
    "\n",
    "Single neuron tracing in the MD (shown in weekly U19 on Fri 7/28/23) illustrates two things:\n",
    "1. Some *neighboring* soma have *distinct* projection patterns\n",
    "2. Some *distant* soma have *very similar* projection patterns\n",
    "\n",
    "Jayaram's interpretation is that \\#1 is surprising given gene expression in the MD.\n",
    "\n",
    "But I don't think that's the correct interpretation, especially in the MD! \n",
    "- MD contains a large diversity of cell types, many of which show salt-and-pepper sprinkling throughout the MD.\n",
    "- At the very least, we don't have our MERFISH data analyzed in the right way to say whether or not the single neuron data is surprising/unexpected\n",
    "- They really need their mFISH data to say this for certain\n",
    "\n",
    "## TODO: most likely/common neighboring cell type metric\n",
    "\n",
    "\"most common / most likely neighbor\" metrics for cells\n",
    "- How likely are you to find a cell with (a) the same or (b) a different transcriptomic type right next to your cell of interest?\n",
    "- What's the average fraction of nearest neighbors that are the same? different?\n",
    "- How many non-self cell types are represented in the nearest neighbors?\n",
    "- Do these metrics change from nucleus to nucleus? i.e. do cells in the MD have more diverse neighbors than, say, AD? (shannon index might suggest that they do)"
   ]
  },
  {
   "cell_type": "code",
   "execution_count": null,
   "id": "fde7ff8b",
   "metadata": {},
   "outputs": [],
   "source": []
  }
 ],
 "metadata": {
  "kernelspec": {
   "display_name": "base",
   "language": "python",
   "name": "python3"
  },
  "language_info": {
   "codemirror_mode": {
    "name": "ipython",
    "version": 3
   },
   "file_extension": ".py",
   "mimetype": "text/x-python",
   "name": "python",
   "nbconvert_exporter": "python",
   "pygments_lexer": "ipython3",
   "version": "3.9.12"
  },
  "vscode": {
   "interpreter": {
    "hash": "d4d1e4263499bec80672ea0156c357c1ee493ec2b1c70f0acce89fc37c4a6abe"
   }
  }
 },
 "nbformat": 4,
 "nbformat_minor": 5
}
