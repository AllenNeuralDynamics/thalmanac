{
 "cells": [
  {
   "cell_type": "code",
   "execution_count": 1,
   "id": "17c0c229",
   "metadata": {},
   "outputs": [],
   "source": [
    "%load_ext autoreload\n",
    "%autoreload 2"
   ]
  },
  {
   "cell_type": "code",
   "execution_count": 2,
   "id": "4a7efd2f",
   "metadata": {},
   "outputs": [],
   "source": [
    "import pandas as pd\n",
    "import matplotlib.pyplot as plt\n",
    "import seaborn as sns\n",
    "import numpy as np\n",
    "\n",
    "from thalamus_merfish_analysis import ccf_plots as cplot\n",
    "from thalamus_merfish_analysis import ccf_images as cimg\n",
    "from thalamus_merfish_analysis import ccf_registration as ccf\n",
    "from thalamus_merfish_analysis import abc_load as abc\n",
    "get_ipython().run_line_magic('matplotlib', 'inline') "
   ]
  },
  {
   "cell_type": "markdown",
   "id": "2c770388",
   "metadata": {},
   "source": [
    "# Load brain3 data"
   ]
  },
  {
   "cell_type": "code",
   "execution_count": 3,
   "id": "910c5b25",
   "metadata": {},
   "outputs": [],
   "source": [
    "# realigned just loads faster version here\n",
    "obs = abc.get_combined_metadata(realigned=True, version=\"20230830\", drop_unused=False)"
   ]
  },
  {
   "cell_type": "code",
   "execution_count": 4,
   "id": "818c56d0",
   "metadata": {},
   "outputs": [],
   "source": [
    "realigned=False\n",
    "ccf_polygons = abc.get_ccf_labels_image(resampled=True, realigned=realigned)"
   ]
  },
  {
   "cell_type": "markdown",
   "id": "7d04f8ad",
   "metadata": {},
   "source": [
    "### preprocessing"
   ]
  },
  {
   "cell_type": "code",
   "execution_count": 5,
   "id": "3412217a",
   "metadata": {},
   "outputs": [],
   "source": [
    "th_names = abc.get_thalamus_names(level='structure')\n",
    "th_structure_names = list(set(th_names).difference(['TH-unassigned']))\n",
    "if realigned:\n",
    "    ccf_label = 'parcellation_structure_realigned'\n",
    "    coords = 'section'\n",
    "else:\n",
    "    ccf_label = 'parcellation_structure'\n",
    "    coords = 'reconstructed'"
   ]
  },
  {
   "cell_type": "code",
   "execution_count": 6,
   "id": "8a5bcf62",
   "metadata": {},
   "outputs": [],
   "source": [
    "# remove non-neuronal and some other outlier non-thalamus types\n",
    "obs_neurons = abc.filter_by_class_thalamus(obs, filter_midbrain=False)\n",
    "obs_neurons_ccf = abc.filter_by_thalamus_coords(obs_neurons, realigned=realigned).copy()\n"
   ]
  },
  {
   "cell_type": "code",
   "execution_count": 7,
   "id": "58e23354",
   "metadata": {},
   "outputs": [],
   "source": [
    "# def combine_labels(ccf_index, image, names, combined_name):\n",
    "#     reverse_index = pd.Series(ccf_index.index, index=ccf_index)\n",
    "#     ccf_ids = reverse_index.loc[names].values\n",
    "#     image = np.where(np.any([image==i for i in ccf_ids], axis=0), ccf_ids[0], image)\n",
    "#     ccf_index[ccf_ids[0]] = combined_name\n",
    "#     return ccf_index, image"
   ]
  },
  {
   "cell_type": "code",
   "execution_count": 8,
   "id": "71b0f9b7",
   "metadata": {},
   "outputs": [],
   "source": [
    "obs = pd.read_parquet(\"/data/merfish_ccf_eroded_temp/obs_ccf_eroded.parquet\")"
   ]
  },
  {
   "cell_type": "code",
   "execution_count": 9,
   "id": "32376e17",
   "metadata": {},
   "outputs": [],
   "source": [
    "min_count=0.1\n",
    "nuclei_to_cluster = (obs.groupby('parcellation_structure_eroded')['cluster'].apply(lambda x:\n",
    "                     x.str[:4].value_counts(normalize=True).loc[lambda x: x>min_count].index.to_list()))\n",
    "\n",
    "from collections import defaultdict\n",
    "from itertools import chain\n",
    "\n",
    "cluster_to_nuclei = defaultdict(list)\n",
    "for nucleus, clusters in nuclei_to_cluster.items():\n",
    "    if 'unassigned' in nucleus:\n",
    "        continue\n",
    "    for cluster in clusters:\n",
    "        cluster_to_nuclei[cluster].append(nucleus)\n",
    "cluster_to_nuclei = pd.Series(cluster_to_nuclei)\n",
    "annotations = (cluster_to_nuclei.rename('nuclei').apply(lambda x: \" \".join(x)).reset_index()\n",
    "    .groupby('nuclei')['index'].agg(lambda x: \", \".join(x))\n",
    "    .rename('cluster_ids_CNN20230720'))\n",
    "annotations.to_csv(\"resources/annotations_from_eroded_counts.csv\")"
   ]
  },
  {
   "cell_type": "code",
   "execution_count": 10,
   "id": "a3ccb907",
   "metadata": {},
   "outputs": [],
   "source": [
    "annotations.head()"
   ]
  },
  {
   "cell_type": "markdown",
   "id": "37bdacaf",
   "metadata": {},
   "source": [
    "## define eroded regions"
   ]
  },
  {
   "cell_type": "code",
   "execution_count": 11,
   "id": "5f88b99c",
   "metadata": {},
   "outputs": [],
   "source": [
    "section_col = 'z_section'\n",
    "sections_all = sorted(obs_neurons_ccf[section_col].unique())\n",
    "sections_int = np.rint(np.array(sections_all)/0.2).astype(int)\n"
   ]
  },
  {
   "cell_type": "code",
   "execution_count": 12,
   "id": "638669d5",
   "metadata": {},
   "outputs": [],
   "source": [
    "ccf_index = abc.get_ccf_index(level='structure')\n",
    "# group substructures by structure before eroding\n",
    "reverse_index = ccf_index.reset_index().groupby('parcellation_term_acronym')['parcellation_index'].first()\n",
    "mapping = ccf_index.map(reverse_index).to_dict()\n",
    "# could do this by advanced indexing into a large array instead...\n",
    "ccf_polygons = cimg.map_label_values(ccf_polygons, mapping, section_list=sections_int)"
   ]
  },
  {
   "cell_type": "code",
   "execution_count": 13,
   "id": "454c8fc8",
   "metadata": {},
   "outputs": [],
   "source": [
    "poly_eroded = cimg.sectionwise_label_erosion(ccf_polygons, 5, section_list=sections_int)"
   ]
  },
  {
   "cell_type": "code",
   "execution_count": 15,
   "id": "c9307670",
   "metadata": {},
   "outputs": [],
   "source": [
    "from thalamus_merfish_analysis.abc_load_base import _label_masked_cells\n",
    "coord_names = [f\"{x}_{coords}\" for x in 'xyz'] # zyx order \n",
    "resolutions = np.array([10e-3, 10e-3, 200e-3])\n",
    "new_ccf_index = 'parcellation_index_eroded'\n",
    "obs_neurons_ccf = _label_masked_cells(obs_neurons_ccf, poly_eroded, coord_names, resolutions, field_name=new_ccf_index)\n",
    "# add parcellation metadata\n",
    "ccf_label = 'parcellation_structure_eroded'\n",
    "obs_neurons_ccf[ccf_label] = obs_neurons_ccf[new_ccf_index].map(ccf_index)"
   ]
  },
  {
   "cell_type": "code",
   "execution_count": 16,
   "id": "f19ac1ea",
   "metadata": {},
   "outputs": [],
   "source": [
    "# poor alignment in this slice\n",
    "obs_neurons_ccf.loc[lambda df: df[section_col]==6.6, ccf_label] = 'unassigned'"
   ]
  },
  {
   "cell_type": "code",
   "execution_count": 17,
   "id": "d3e2cce6",
   "metadata": {},
   "outputs": [],
   "source": [
    "obs_neurons_ccf.to_parquet(\"/results/obs_ccf_eroded.parquet\")"
   ]
  },
  {
   "cell_type": "markdown",
   "id": "92fd5f9b",
   "metadata": {},
   "source": [
    "## which regions to plot?"
   ]
  },
  {
   "cell_type": "code",
   "execution_count": null,
   "id": "7462f8ca",
   "metadata": {},
   "outputs": [],
   "source": [
    "regions_subset = [\n",
    "    'AD',\n",
    "    'AV',\n",
    "    'LD',\n",
    "    'LGd',\n",
    "    # VP combine?\n",
    "    'VPM',\n",
    "    'VPL',\n",
    "    'AM',\n",
    "    'VPMpc',\n",
    "    'MD',\n",
    "    'LP',\n",
    "    'PO',\n",
    "    'IAD',\n",
    "    'VAL',\n",
    "    'VM',\n",
    "    'RE',\n",
    "    'CL',\n",
    "    'PF',\n",
    "    'CM',\n",
    "    'PCN',\n",
    "    'SPA',\n",
    "    'IMD',\n",
    "    'PVT',\n",
    "    # additional\n",
    "    'MH',\n",
    "    'LH',\n",
    "    'RT',\n",
    "    # 'ZI'\n",
    "]"
   ]
  },
  {
   "cell_type": "code",
   "execution_count": null,
   "id": "27850bfa",
   "metadata": {},
   "outputs": [],
   "source": [
    "obs_neurons_ccf[ccf_label].value_counts().loc[lambda x: x>100]"
   ]
  },
  {
   "cell_type": "code",
   "execution_count": null,
   "id": "38341dd2",
   "metadata": {},
   "outputs": [],
   "source": [
    "regions_100 = obs_neurons_ccf[ccf_label].value_counts().loc[lambda x: x>100].index.difference(['unassigned','TH-unassigned'])\n",
    "regions_100.difference(regions_subset)"
   ]
  },
  {
   "cell_type": "code",
   "execution_count": null,
   "id": "a246f293",
   "metadata": {},
   "outputs": [],
   "source": [
    "# could maybe keep IMD, rest are very small\n",
    "set(regions_subset) - set(regions_100)"
   ]
  },
  {
   "cell_type": "code",
   "execution_count": null,
   "id": "fa076ed4",
   "metadata": {},
   "outputs": [],
   "source": [
    "regions_subset = list(set(regions_subset) & set(regions_100))\n",
    "len(regions_subset)"
   ]
  },
  {
   "cell_type": "code",
   "execution_count": null,
   "id": "02bb1e55",
   "metadata": {},
   "outputs": [],
   "source": [
    "# compare spatial area\n",
    "# unique, counts = np.unique(poly_eroded[:,:,sections_int], return_counts=True)\n",
    "# areas = pd.Series(counts, index=unique)\n",
    "# areas.index = areas.index.map(ccf_index)\n",
    "# areas = areas.loc[areas.index.intersection(th_structure_names)]\n",
    "# areas.sort_values()"
   ]
  },
  {
   "cell_type": "markdown",
   "id": "eeae487a",
   "metadata": {
    "tags": []
   },
   "source": [
    "## Cell Type overall counts\n"
   ]
  },
  {
   "cell_type": "code",
   "execution_count": null,
   "id": "4824f1ea",
   "metadata": {},
   "outputs": [],
   "source": [
    "# generate lists of the clusters, supertypes, subclasses, and classes present\n",
    "# in the thalamus data\n",
    "th_clusters = obs_neurons_ccf['cluster'].drop_duplicates().tolist()\n",
    "th_supertypes = obs_neurons_ccf['supertype'].drop_duplicates().tolist()\n",
    "th_subclasses = obs_neurons_ccf['subclass'].drop_duplicates().tolist()\n",
    "print(f'{len(th_clusters)=}')\n",
    "print(f'{len(th_supertypes)=}')\n",
    "print(f'{len(th_subclasses)=}')"
   ]
  },
  {
   "cell_type": "code",
   "execution_count": null,
   "id": "c7f42ab8",
   "metadata": {},
   "outputs": [],
   "source": [
    "obs_neurons_eroded = obs_neurons_ccf.loc[lambda df: df[ccf_label].isin(th_structure_names)]\n",
    "th_clusters = obs_neurons_eroded['cluster'].value_counts().loc[lambda x: x>5].index\n",
    "th_supertypes = obs_neurons_eroded['supertype'].value_counts().loc[lambda x: x>5].index\n",
    "th_subclasses = obs_neurons_eroded['subclass'].value_counts().loc[lambda x: x>5].index\n",
    "print(\"Types with >5 cells in the eroded regions\")\n",
    "print(f'{len(th_clusters)=}')\n",
    "print(f'{len(th_supertypes)=}')\n",
    "print(f'{len(th_subclasses)=}')"
   ]
  },
  {
   "cell_type": "code",
   "execution_count": null,
   "id": "215e3aa4",
   "metadata": {},
   "outputs": [],
   "source": [
    "th_clusters = obs_neurons_ccf['cluster'].value_counts().loc[lambda x: x>5].index\n",
    "th_supertypes = obs_neurons_ccf['supertype'].value_counts().loc[lambda x: x>5].index\n",
    "th_subclasses = obs_neurons_ccf['subclass'].value_counts().loc[lambda x: x>5].index\n",
    "print(\"Types with >5 cells\")\n",
    "print(f'{len(th_clusters)=}')\n",
    "print(f'{len(th_supertypes)=}')\n",
    "print(f'{len(th_subclasses)=}')"
   ]
  },
  {
   "cell_type": "markdown",
   "id": "9d4f57eb",
   "metadata": {},
   "source": [
    "# calculate metrics"
   ]
  },
  {
   "cell_type": "code",
   "execution_count": null,
   "id": "30580aa4",
   "metadata": {},
   "outputs": [],
   "source": [
    "def get_region_metric(obs_neurons_ccf, ccf_label, function, name, \n",
    "                      norm_fcn=None,\n",
    "                      levels=['cluster','supertype','subclass']):\n",
    "    th_metrics = (obs_neurons_ccf.loc[lambda df: ~df[ccf_label].isin(['unassigned','TH-unassigned'])]\n",
    "                        .groupby(ccf_label, observed=True)[levels]\n",
    "                        .aggregate(function)\n",
    "                        .rename(columns=lambda x: \"_\".join([name, x])))\n",
    "    if norm_fcn is not None:\n",
    "        th_metrics = th_metrics / obs_neurons_ccf[levels].apply(norm_fcn).values[None,:]\n",
    "    return th_metrics\n"
   ]
  },
  {
   "cell_type": "code",
   "execution_count": null,
   "id": "b5fb0b69",
   "metadata": {},
   "outputs": [],
   "source": [
    "\n",
    "count = lambda x: len(x.unique())\n",
    "norm_count = lambda x: len(x.unique())/len(x)\n",
    "count_gt5 = lambda x: len(x.value_counts().loc[lambda c: c>5])\n",
    "inverse_simpsons = lambda x: 1/np.sum((x.value_counts().loc[lambda c: c>0]/len(x))**2)\n",
    "\n",
    "th_metrics = pd.concat([\n",
    "    get_region_metric(obs_neurons_ccf, ccf_label, count, \"n\"),\n",
    "    get_region_metric(obs_neurons_ccf, ccf_label, count, \"frac\", norm_fcn=count),\n",
    "    get_region_metric(obs_neurons_ccf, ccf_label, norm_count, \"norm_count\"),\n",
    "    get_region_metric(obs_neurons_ccf, ccf_label, count_gt5, \"count_gt5\"),\n",
    "    get_region_metric(obs_neurons_ccf, ccf_label, inverse_simpsons, \"inverse_simpsons\"),\n",
    "], axis=1)\n",
    "th_metrics['count'] = obs_neurons_ccf[ccf_label].value_counts()\n",
    "# th_metrics = th_metrics.drop(index='unassigned')"
   ]
  },
  {
   "cell_type": "code",
   "execution_count": null,
   "id": "eaabcd43",
   "metadata": {},
   "outputs": [],
   "source": [
    "def barplot_counts_fractions(th_metrics, level, thresholded=True):\n",
    "    fig, ax1 = plt.subplots(figsize=(8,4))\n",
    "    if thresholded:\n",
    "        count = f'count_gt5_{level}'\n",
    "        ntot = obs_neurons_ccf[level].value_counts().loc[lambda x: x>5].shape[0]\n",
    "    else:\n",
    "        count = f'n_{level}'\n",
    "        ntot = obs_neurons_ccf[level].value_counts().loc[lambda x: x>0].shape[0]\n",
    "    th_metrics_sorted = th_metrics.sort_values(by=count, ascending=True)\n",
    "    # Plot the absolute values on the left y-axis\n",
    "    ax1.scatter(th_metrics_sorted.index, th_metrics_sorted[count], color='#5DA7E5', alpha=0)\n",
    "    ax1.set_ylabel(f'unique {level} count', color='k')\n",
    "    ax1.tick_params(axis='y', labelcolor='k')\n",
    "    ax1.set_xticks(th_metrics_sorted.index)\n",
    "    ax1.set_xticklabels(th_metrics_sorted.index, rotation=90)\n",
    "    ax1.set_ylim(0, th_metrics_sorted[count].max()*1.05)\n",
    "    plt.grid(visible=True, axis='y')\n",
    "\n",
    "    # Create a secondary y-axis on the right\n",
    "    ax2 = ax1.twinx()\n",
    "\n",
    "    # Plot the fraction values on the right y-axis\n",
    "    frac = th_metrics_sorted[count].astype(float)/ntot\n",
    "    ax2.bar(th_metrics_sorted.index, frac, color='#5DA7E5', label=level)\n",
    "    ax2.set_ylabel(f'fraction of total count (n={ntot})', color='k', rotation=270, labelpad=15)\n",
    "    ax2.set_ylim(0, frac.max()*1.05)\n",
    "    ax2.tick_params(axis='y', labelcolor='k')\n",
    "    # ax2.legend()\n",
    "\n",
    "    # plt.xticks(rotation=90)\n",
    "    plt.xlabel('CCF thalamic subregions')\n",
    "    plt.title(f'{level} count per thalamic CCF structure')\n",
    "    return fig\n",
    "\n",
    "fig = barplot_counts_fractions(th_metrics.loc[regions_subset], 'cluster', thresholded=True)\n",
    "fig.savefig(\"/results/nuclei_cluster_counts_barplot.pdf\", transparent=True)"
   ]
  },
  {
   "cell_type": "code",
   "execution_count": null,
   "id": "5de99243",
   "metadata": {},
   "outputs": [],
   "source": [
    "def plot_metrics_multiple_levels(th_metrics, metric, levels=['cluster','subclass']):\n",
    "    fig, ax1 = plt.subplots(figsize=(8,4))\n",
    "\n",
    "    th_metrics_sorted = th_metrics.sort_values(by=\"_\".join([metric, levels[0]]), ascending=True)\n",
    "    for level in levels[::-1]:\n",
    "        ax1.scatter(th_metrics_sorted.index, th_metrics_sorted[\"_\".join([metric, level])], \n",
    "                     label=level, zorder=2) \n",
    "    ax1.set_xticks(th_metrics_sorted.index)\n",
    "    ax1.set_xticklabels(th_metrics_sorted.index, rotation=90)\n",
    "    ax1.set_ylabel(metric)\n",
    "    ax1.legend()\n",
    "    plt.grid(visible=True, axis='both', zorder=0, color='whitesmoke')\n"
   ]
  },
  {
   "cell_type": "code",
   "execution_count": null,
   "id": "d234d6af",
   "metadata": {},
   "outputs": [],
   "source": [
    "plot_metrics_multiple_levels(th_metrics.loc[regions_subset], 'n')\n",
    "plt.ylabel(\"cell type count\")"
   ]
  },
  {
   "cell_type": "code",
   "execution_count": null,
   "id": "74616802",
   "metadata": {},
   "outputs": [],
   "source": [
    "plot_metrics_multiple_levels(th_metrics.loc[regions_subset], 'frac')\n",
    "plt.ylabel('Cell type count / # cell types');"
   ]
  },
  {
   "cell_type": "code",
   "execution_count": null,
   "id": "8a8f9ce4",
   "metadata": {},
   "outputs": [],
   "source": [
    "plot_metrics_multiple_levels(th_metrics.loc[regions_subset], 'norm_count')\n",
    "plt.ylabel('Cell type count / # cells');"
   ]
  },
  {
   "cell_type": "code",
   "execution_count": null,
   "id": "2d6abf6f",
   "metadata": {},
   "outputs": [],
   "source": [
    "plot_metrics_multiple_levels(th_metrics.loc[regions_subset], 'count_gt5')\n",
    "plt.ylabel(\"cell type count (outliers removed)\")"
   ]
  },
  {
   "cell_type": "code",
   "execution_count": null,
   "id": "b7172c81",
   "metadata": {},
   "outputs": [],
   "source": [
    "# effect of region size is weak but probably still present...\n",
    "import seaborn as sns\n",
    "sns.regplot(th_metrics.loc[regions_100], x='count', y='count_gt5_cluster', color='#F99D20', label='cluster') "
   ]
  },
  {
   "cell_type": "markdown",
   "id": "559fa75d",
   "metadata": {},
   "source": [
    "### CCF colored by value"
   ]
  },
  {
   "cell_type": "code",
   "execution_count": null,
   "id": "f24434fc",
   "metadata": {},
   "outputs": [],
   "source": [
    "imdata = abc.get_ccf_labels_image(resampled=True).astype(int)\n",
    "# x, y, z orientation\n",
    "imdata.shape"
   ]
  },
  {
   "cell_type": "code",
   "execution_count": null,
   "id": "0660d893",
   "metadata": {},
   "outputs": [],
   "source": [
    "sections = [7.2] "
   ]
  },
  {
   "cell_type": "code",
   "execution_count": null,
   "id": "40f63ff0",
   "metadata": {},
   "outputs": [],
   "source": [
    "cplot.plot_metrics_ccf_raster(imdata, th_metrics['count_gt5_supertype'], sections, ccf_index,\n",
    "                            cmap='Blues', cb_label='number of supertypes in subregion')"
   ]
  },
  {
   "cell_type": "code",
   "execution_count": null,
   "id": "dcd2d41f",
   "metadata": {},
   "outputs": [],
   "source": [
    "cplot.plot_metrics_ccf_raster(imdata, th_metrics['count_gt5_cluster'], sections, ccf_index,\n",
    "                       cmap='Oranges', cb_label='number of clusters in subregion')"
   ]
  },
  {
   "cell_type": "markdown",
   "id": "6ac110c6",
   "metadata": {},
   "source": [
    "## Cell Type Diversity"
   ]
  },
  {
   "cell_type": "markdown",
   "id": "ab19ade9",
   "metadata": {},
   "source": [
    "### Shannon Diversity Index"
   ]
  },
  {
   "cell_type": "code",
   "execution_count": null,
   "id": "be2f35e2",
   "metadata": {},
   "outputs": [],
   "source": [
    "# Shannon diversity index, normalized to (0,1)\n",
    "# 1 = high diversity (clusters found in equal proportions)\n",
    "# 0 = low diversity (some clusters found in higher proportions in subregion)\n",
    "\n",
    "def calc_shannon_index(obs_col):\n",
    "    # calculate proportion of each category\n",
    "    cateogory_counts = obs_col.value_counts()\n",
    "    cateogory_counts = cateogory_counts[cateogory_counts>0] # cleanup zeros so log() doesn't throw warnings\n",
    "    p = cateogory_counts / cateogory_counts.sum()\n",
    "    \n",
    "    # calculate shannon diversity index\n",
    "    shannon_ind = (-1)*((p * np.log2(p)).sum())\n",
    "    \n",
    "    # normalized separately\n",
    "    # normalize by log2 of number of categories to limit index to range (0, 1)\n",
    "    # shannon_norm = shannon_ind / np.log2(n_total_categories)\n",
    "    return shannon_ind"
   ]
  },
  {
   "cell_type": "code",
   "execution_count": null,
   "id": "154a7fbf",
   "metadata": {},
   "outputs": [],
   "source": [
    "th_metrics = th_metrics.join(\n",
    "    get_region_metric(obs_neurons_ccf, ccf_label, calc_shannon_index, \"shannon_index\")).join(\n",
    "    get_region_metric(obs_neurons_ccf, ccf_label, lambda x: 2**calc_shannon_index(x), \"shannon_diversity\")).join(\n",
    "    get_region_metric(obs_neurons_ccf, ccf_label, calc_shannon_index, \"shannon_index_norm\", \n",
    "                      norm_fcn=lambda x: np.log2(len(x.unique())))\n",
    ")"
   ]
  },
  {
   "cell_type": "code",
   "execution_count": null,
   "id": "e6fd71cf",
   "metadata": {},
   "outputs": [],
   "source": [
    "plot_metrics_multiple_levels(th_metrics.loc[regions_subset], 'shannon_index_norm')\n",
    "plt.ylabel(\"Shannon diversity index (normalized)\")\n",
    "plt.savefig(\"/results/shannon_diversity_index.pdf\", transparent=True)"
   ]
  },
  {
   "cell_type": "code",
   "execution_count": null,
   "id": "ec5bdb0e",
   "metadata": {},
   "outputs": [],
   "source": [
    "plot_metrics_multiple_levels(th_metrics.loc[regions_subset], 'shannon_index')\n",
    "plt.ylabel(\"Shannon index (bits)\")"
   ]
  },
  {
   "cell_type": "code",
   "execution_count": null,
   "id": "ad3b6271",
   "metadata": {},
   "outputs": [],
   "source": [
    "plot_metrics_multiple_levels(th_metrics.loc[regions_subset], 'shannon_diversity')\n",
    "plt.ylabel(\"Shannon diversity\")"
   ]
  },
  {
   "cell_type": "code",
   "execution_count": null,
   "id": "40f63ff0",
   "metadata": {},
   "outputs": [],
   "source": [
    "\n",
    "label = 'Shannon Index - clusters'\n",
    "cplot.plot_metrics_ccf_raster(imdata, th_metrics['shannon_index_cluster'], sections, ccf_index,\n",
    "                            cmap='Oranges', cb_label=label)"
   ]
  },
  {
   "cell_type": "code",
   "execution_count": null,
   "id": "dcd2d41f",
   "metadata": {},
   "outputs": [],
   "source": [
    "\n",
    "label = 'Shannon Index - subclasses'\n",
    "cplot.plot_metrics_ccf_raster(imdata, th_metrics['shannon_index_subclass'], sections, ccf_index,\n",
    "                            cmap='Greens', cb_label=label)"
   ]
  },
  {
   "cell_type": "code",
   "execution_count": null,
   "id": "bd12e65d",
   "metadata": {},
   "outputs": [],
   "source": [
    "plot_metrics_multiple_levels(th_metrics.loc[regions_subset], 'inverse_simpsons')\n",
    "# plt.ylabel(\"cell type count (outliers removed)\")"
   ]
  },
  {
   "cell_type": "code",
   "execution_count": null,
   "id": "14a3f7e7",
   "metadata": {},
   "outputs": [],
   "source": [
    "figs = cplot.plot_metrics_ccf_raster(ccf_polygons, th_metrics['inverse_simpsons_cluster'], [7.2, 8.0], ccf_index,\n",
    "                       cmap='Oranges', vmin=0, vmax=15, cb_label=\"Inverse Simpson's index\")\n",
    "for i, fig in enumerate(figs):\n",
    "    fig.savefig(f\"/results/nuclei_cluster_diversity_isi_sec{i}.pdf\")"
   ]
  },
  {
   "cell_type": "code",
   "execution_count": null,
   "id": "f7864d30",
   "metadata": {},
   "outputs": [],
   "source": [
    "cplot.plot_metrics_ccf_raster(imdata, th_metrics['inverse_simpsons_supertype'], sections, ccf_index,\n",
    "                       cmap='Blues')"
   ]
  },
  {
   "cell_type": "code",
   "execution_count": null,
   "id": "dc5714a0",
   "metadata": {},
   "outputs": [],
   "source": [
    "cplot.plot_metrics_ccf_raster(imdata, th_metrics['inverse_simpsons_subclass'], sections, ccf_index,\n",
    "                       cmap='Greens')"
   ]
  },
  {
   "cell_type": "markdown",
   "id": "5f7cca89",
   "metadata": {},
   "source": [
    "## local index"
   ]
  },
  {
   "cell_type": "code",
   "execution_count": null,
   "id": "a130dd8e",
   "metadata": {},
   "outputs": [],
   "source": [
    "from sklearn.neighbors import NearestNeighbors\n",
    "\n",
    "neigh = NearestNeighbors(n_neighbors=20, n_jobs=-1)\n",
    "neigh_coords = [x+'_ccf' for x in 'xyz']\n",
    "X = obs_neurons_ccf[neigh_coords].values\n",
    "neigh.fit(X)"
   ]
  },
  {
   "cell_type": "code",
   "execution_count": null,
   "id": "843ff0ec",
   "metadata": {},
   "outputs": [],
   "source": [
    "from multiprocessing import Pool\n",
    "# def local_index(obs_neurons_ccf, function, name, ccf_label, n_neighbors=15, levels=['cluster']):\n",
    "function = inverse_simpsons\n",
    "name='isi'\n",
    "n_neighbors=15\n",
    "levels=['cluster', 'subclass']\n",
    "\n",
    "neighbors = neigh.kneighbors(X, n_neighbors=n_neighbors, return_distance=False)\n",
    "\n",
    "def fcn(i): \n",
    "    return obs_neurons_ccf.iloc[neighbors[i]][levels].aggregate(function)\n",
    "\n",
    "with Pool() as p:\n",
    "    out = p.map(fcn, range(len(obs_neurons_ccf)))"
   ]
  },
  {
   "cell_type": "code",
   "execution_count": null,
   "id": "66b72b46",
   "metadata": {},
   "outputs": [],
   "source": [
    "cellwise_metrics = pd.DataFrame.from_records(out, index=obs_neurons_ccf.index).rename(columns=lambda x: \"_\".join(['local', name, x]))"
   ]
  },
  {
   "cell_type": "code",
   "execution_count": null,
   "id": "79ad2cbe",
   "metadata": {},
   "outputs": [],
   "source": [
    "img = ccf_polygons[:,:,0]\n",
    "grid = np.ix_(np.arange(img.shape[0])* 10e-3, np.arange(img.shape[1])* 10e-3) \n",
    "\n",
    "from scipy.interpolate import CloughTocher2DInterpolator, LinearNDInterpolator\n",
    "\n",
    "from scipy.ndimage import gaussian_filter"
   ]
  },
  {
   "cell_type": "code",
   "execution_count": null,
   "id": "f4e25616",
   "metadata": {},
   "outputs": [],
   "source": [
    "section = 7.2\n",
    "\n",
    "th_indices = [i for i, name in ccf_index.items() if name in th_structure_names]\n",
    "def plot_section(section):\n",
    "    obs = obs_neurons_ccf.join(cellwise_metrics).loc[lambda df: df[section_col]==section]\n",
    "    interp = LinearNDInterpolator(obs[['x_'+coords, 'y_'+coords]], obs['local_isi_cluster']\n",
    "                                #   /n_neighbors)\n",
    "    )\n",
    "    img = interp(*grid)\n",
    "    fig, ax = plt.subplots()\n",
    "    resolution = 10e-3\n",
    "    extent = resolution * (np.array([0, imdata.shape[0], imdata.shape[1], 0]) - 0.5)\n",
    "\n",
    "    sec_img = ccf_polygons[:,:,int(np.rint(section/200e-3))]\n",
    "    mask = np.any(np.stack([sec_img==i for i in th_indices]), axis=0)\n",
    "    img[~mask] = np.nan\n",
    "    # img = gaussian_filter(img, 2)\n",
    "\n",
    "    im = ax.imshow(img.T, cmap='Oranges', extent=extent, interpolation=\"none\", vmin=0, vmax=15)\n",
    "\n",
    "    cplot.plot_ccf_section_raster(ccf_polygons, section,\n",
    "                                        ccf_region_names=None, palette='dark_outline', ax=ax)\n",
    "    cplot.format_image_axes()\n",
    "    plt.colorbar(im, label=\"Inverse Simpson's index\")\n",
    "\n",
    "\n",
    "plot_section(7.2)\n",
    "# plt.title(\"Local cluster diversity\")\n",
    "plt.savefig(\"/results/lisi_sec1.pdf\", transparent=True)\n",
    "plot_section(8.0)\n",
    "plt.savefig(\"/results/lisi_sec2.pdf\", transparent=True)"
   ]
  },
  {
   "cell_type": "code",
   "execution_count": null,
   "id": "0b270ac4",
   "metadata": {},
   "outputs": [],
   "source": [
    "obs = obs_neurons_ccf.join(cellwise_metrics)\n",
    "kwargs = dict(\n",
    "    section_col=section_col,\n",
    "    x_col = 'x_'+coords,\n",
    "    y_col = 'y_'+coords,\n",
    "    s=2, \n",
    "    shape_palette='dark_outline',\n",
    "    # boundary_img=ccf_boundaries\n",
    ")\n",
    "figs = cplot.plot_ccf_overlay(obs, ccf_polygons, point_hue='local_isi_cluster', point_palette='viridis_r', \n",
    "                       categorical=False, legend=False, sections=[7.2, 8.0], **kwargs)\n",
    "for i, fig in enumerate(figs):\n",
    "    fig.savefig(f\"/results/local_isi_sec{i}.pdf\")"
   ]
  },
  {
   "cell_type": "code",
   "execution_count": null,
   "id": "01e8d843",
   "metadata": {},
   "outputs": [],
   "source": [
    "# local index - about 2 min to run!\n",
    "\n",
    "# n_neighbors = 15\n",
    "# neighbors = neigh.kneighbors(X, n_neighbors=n_neighbors, return_distance=False)\n",
    "# neighbors_series = pd.Series(neighbors.tolist(), index=obs_neurons_ccf.index)\n",
    "\n",
    "# def local_metric(label_series, neighbors_series, function):\n",
    "#     results = np.array([\n",
    "#         function(\n",
    "#     # doesn't include neighbors across boundaries...\n",
    "#             # label_series.reindex(obs_neurons_ccf.index[ind]).dropna()\n",
    "#             # label_series[label_series.index.intersection(obs_neurons_ccf.index[ind])]\n",
    "#             obs_neurons_ccf[label_series.name].iloc[ind]\n",
    "#             )\n",
    "#         for ind in neighbors_series[label_series.index]\n",
    "#         ])\n",
    "#     return np.median(results)\n",
    "\n",
    "# lisi = lambda x: local_metric(x, neighbors_series, inverse_simpsons)\n",
    "# th_lisi = get_region_metric(obs_neurons_ccf, ccf_label, lisi, \"lisi\", levels=['cluster','supertype','subclass'])"
   ]
  },
  {
   "cell_type": "code",
   "execution_count": null,
   "id": "56a791be",
   "metadata": {},
   "outputs": [],
   "source": [
    "median_local_metrics = cellwise_metrics.join(obs_neurons_ccf[ccf_label]).groupby(ccf_label, observed=True).median().drop(\n",
    "    index=['unassigned', 'TH-unassigned'])"
   ]
  },
  {
   "cell_type": "code",
   "execution_count": null,
   "id": "9104fc33",
   "metadata": {},
   "outputs": [],
   "source": [
    "cplot.plot_metrics_ccf_raster(imdata, median_local_metrics[\"local_isi_cluster\"], sections, ccf_index,\n",
    "                       cmap='Oranges')"
   ]
  },
  {
   "cell_type": "code",
   "execution_count": null,
   "id": "c101b177",
   "metadata": {},
   "outputs": [],
   "source": [
    "cplot.plot_metrics_ccf_raster(imdata, median_local_metrics[\"local_isi_subclass\"], sections, ccf_index,\n",
    "                       cmap='Greens')"
   ]
  },
  {
   "cell_type": "markdown",
   "id": "4eb63d0e",
   "metadata": {},
   "source": [
    "\n",
    "## Proportions as stacked bar graphs"
   ]
  },
  {
   "cell_type": "code",
   "execution_count": null,
   "id": "69432202",
   "metadata": {},
   "outputs": [],
   "source": [
    "# for each subregion, count the proportion of cells in each cluster/supertype/subclass\n",
    "regions = list(regions_100)\n",
    "ccf_cluster_counts = pd.DataFrame(0.0, index=regions, columns=th_clusters)\n",
    "ccf_supertype_counts = pd.DataFrame(0.0, index=regions, columns=th_supertypes)\n",
    "ccf_subclass_counts = pd.DataFrame(0.0, index=regions, columns=th_subclasses)\n",
    "min_count = 5\n",
    "for subregion, df in obs_neurons_ccf.groupby(ccf_label, observed=True):\n",
    "    if subregion in regions_100:\n",
    "        # clusters\n",
    "        cluster_counts = df['cluster'].value_counts().loc[lambda x: x>min_count]\n",
    "        ccf_cluster_counts.loc[subregion, \n",
    "                            cluster_counts.index] = cluster_counts.values / len(df)\n",
    "        ccf_cluster_counts.loc[subregion, 'other'] = 1-ccf_cluster_counts.loc[subregion].sum()\n",
    "\n",
    "        # supertypes\n",
    "        supertype_counts = df['supertype'].value_counts().loc[lambda x: x>min_count]\n",
    "        ccf_supertype_counts.loc[subregion, \n",
    "                                supertype_counts.index] = supertype_counts.values / len(df)\n",
    "        ccf_supertype_counts.loc[subregion, 'other'] = 1-ccf_supertype_counts.loc[subregion].sum()\n",
    "\n",
    "        # subclasses\n",
    "        subclass_counts = df['subclass'].value_counts().loc[lambda x: x>min_count]\n",
    "        ccf_subclass_counts.loc[subregion, \n",
    "                                subclass_counts.index] = subclass_counts.values / len(df)\n",
    "        ccf_subclass_counts.loc[subregion, 'other'] = 1-ccf_subclass_counts.loc[subregion].sum()"
   ]
  },
  {
   "cell_type": "markdown",
   "id": "2d901b80",
   "metadata": {},
   "source": [
    "#### TODO: Implement barchart w/ plotly\n",
    "\n",
    "which will enable hovering over the bars to display the subclass/supertype/cluster to which it belongs"
   ]
  },
  {
   "cell_type": "code",
   "execution_count": null,
   "id": "ecabb3c0",
   "metadata": {},
   "outputs": [],
   "source": [
    "# display as a stacked bar graph\n",
    "from colorcet import glasbey_light\n",
    "\n",
    "def plot_stacked_barplot(df, taxonomy_level, legend=True, palette=None):\n",
    "    fig, axes = plt.subplots(nrows=1, ncols=1, figsize=(12,5))\n",
    "    if palette is None:\n",
    "        palette = abc.get_taxonomy_palette(taxonomy_level)\n",
    "        # palette = sns.color_palette(glasbey_light, n_colors=len(df.columns))\n",
    "    palette['other'] = 'grey'\n",
    "    df.plot(kind='bar', stacked=True, ax=axes, legend=legend, color=palette)\n",
    "    if legend:\n",
    "        axes.legend(loc='upper left', bbox_to_anchor=(0.05, -0.3), ncol=4)\n",
    "    axes.set_xticklabels(df.index, rotation=90)\n",
    "    axes.set_xlabel('CCF structure')\n",
    "    # axes.set_yticks([])\n",
    "    axes.set_ylabel('proportion of cells in unique '+taxonomy_level)\n",
    "\n",
    "    fig.subplots_adjust(hspace=0.1)\n",
    "    \n",
    "    # add text\n",
    "    for i, subregion in enumerate(df.index):\n",
    "        n_nonzero = (df.loc[subregion, df.columns!='other']>0).sum()\n",
    "        axes.text(i, 1.01, n_nonzero, horizontalalignment='center')"
   ]
  },
  {
   "cell_type": "markdown",
   "id": "b123b4dd",
   "metadata": {},
   "source": [
    "#### Subclasses"
   ]
  },
  {
   "cell_type": "code",
   "execution_count": null,
   "id": "2b07cb07",
   "metadata": {},
   "outputs": [],
   "source": [
    "# First sort by the Shannon Diversity Index from th_metrics\n",
    "th_metrics_sorted_by_sdi = th_metrics.loc[regions_subset].sort_values(by='shannon_index_subclass', ascending=True)\n",
    "\n",
    "# Use sorted list of subregions to plot in order from least diverse to most diverse\n",
    "plot_stacked_barplot(ccf_subclass_counts.loc[list(th_metrics_sorted_by_sdi.index)], \n",
    "                     'subclass', legend=False)"
   ]
  },
  {
   "cell_type": "markdown",
   "id": "d3c611a7",
   "metadata": {},
   "source": [
    "#### Supertypes"
   ]
  },
  {
   "cell_type": "code",
   "execution_count": null,
   "id": "e940ccb3",
   "metadata": {},
   "outputs": [],
   "source": [
    "# First sort by the Shannon Diversity Index from th_metrics\n",
    "th_metrics_sorted_by_sdi = th_metrics.loc[regions_subset].sort_values(by='shannon_index_supertype', ascending=True)\n",
    "\n",
    "# Use sorted list of subregions to plot in order from least diverse to most diverse\n",
    "plot_stacked_barplot(ccf_supertype_counts.loc[th_metrics_sorted_by_sdi.index], \n",
    "                     'supertype', legend=False)"
   ]
  },
  {
   "cell_type": "markdown",
   "id": "08f728de",
   "metadata": {},
   "source": [
    "#### Clusters"
   ]
  },
  {
   "cell_type": "code",
   "execution_count": null,
   "id": "cbcfa1dc",
   "metadata": {},
   "outputs": [],
   "source": [
    "cluster_palette_glasbey = pd.read_csv(\"resources/cluster_palette_glasbey.csv\", index_col=0).iloc[:,0].to_dict()\n"
   ]
  },
  {
   "cell_type": "code",
   "execution_count": null,
   "id": "2f597c33",
   "metadata": {},
   "outputs": [],
   "source": [
    "# First sort by the Shannon Diversity Index from th_metrics\n",
    "th_metrics_sorted_by_sdi = th_metrics.loc[regions_subset].sort_values(by='count_gt5_cluster', ascending=True)\n",
    "\n",
    "# Use sorted list of subregions to plot in order from least diverse to most diverse\n",
    "plot_stacked_barplot(ccf_cluster_counts.loc[th_metrics_sorted_by_sdi.index], \n",
    "                     'cluster', palette=cluster_palette_glasbey, legend=False)\n",
    "\n",
    "plt.savefig(\"/results/nuclei_cluster_proportion_barplot.pdf\", transparent=True)"
   ]
  },
  {
   "cell_type": "markdown",
   "id": "589cb9b4",
   "metadata": {},
   "source": [
    "# Per Cluster/Supertype/Subclass Metrics (neurons only)"
   ]
  },
  {
   "cell_type": "markdown",
   "id": "0ab6f5ef",
   "metadata": {},
   "source": [
    "## TODO: Dispersion of clusters/supertypes across nuclei\n",
    "\n",
    "i.e. grab a cluster that dominates in one nucleus (e.g. 1133 in MD) and ask how dispersed it is across the whole thalamus. Ideally, a linear metric, such that you could ask what the dispersion is for all clusters to see which ones seem to be more compact and which are more shared\n",
    "\n",
    "I *think* this is going to have to be done on hemispheres, rather than the whole brain. Most existing tools I'm finding are not able to account for symmetries.\n",
    "\n",
    "Likely going to borrow from some of ArcGIS's standard toolboxes\n",
    "- https://pro.arcgis.com/en/pro-app/latest/tool-reference/spatial-statistics/h-how-standard-distance-spatial-statistic-works.htm\n",
    "\n",
    "Or other satellite imagery methods:\n",
    "- https://www.tandfonline.com/doi/full/10.1080/17538947.2018.1474957"
   ]
  },
  {
   "cell_type": "markdown",
   "id": "36ae81a3",
   "metadata": {},
   "source": [
    "# Neighborhood metrics\n",
    "\n",
    "Single neuron tracing in the MD (shown in weekly U19 on Fri 7/28/23) illustrates two things:\n",
    "1. Some *neighboring* soma have *distinct* projection patterns\n",
    "2. Some *distant* soma have *very similar* projection patterns\n",
    "\n",
    "Jayaram's interpretation is that \\#1 is surprising given gene expression in the MD.\n",
    "\n",
    "But I don't think that's the correct interpretation, especially in the MD! \n",
    "- MD contains a large diversity of cell types, many of which show salt-and-pepper sprinkling throughout the MD.\n",
    "- At the very least, we don't have our MERFISH data analyzed in the right way to say whether or not the single neuron data is surprising/unexpected\n",
    "- They really need their mFISH data to say this for certain\n",
    "\n",
    "## TODO: most likely/common neighboring cell type metric\n",
    "\n",
    "\"most common / most likely neighbor\" metrics for cells\n",
    "- How likely are you to find a cell with (a) the same or (b) a different transcriptomic type right next to your cell of interest?\n",
    "- What's the average fraction of nearest neighbors that are the same? different?\n",
    "- How many non-self cell types are represented in the nearest neighbors?\n",
    "- Do these metrics change from nucleus to nucleus? i.e. do cells in the MD have more diverse neighbors than, say, AD? (shannon index might suggest that they do)"
   ]
  },
  {
   "cell_type": "code",
   "execution_count": null,
   "id": "fde7ff8b",
   "metadata": {},
   "outputs": [],
   "source": []
  }
 ],
 "metadata": {
  "kernelspec": {
   "display_name": "base",
   "language": "python",
   "name": "python3"
  },
  "language_info": {
   "codemirror_mode": {
    "name": "ipython",
    "version": 3
   },
   "file_extension": ".py",
   "mimetype": "text/x-python",
   "name": "python",
   "nbconvert_exporter": "python",
   "pygments_lexer": "ipython3",
   "version": "3.9.12"
  },
  "vscode": {
   "interpreter": {
    "hash": "d4d1e4263499bec80672ea0156c357c1ee493ec2b1c70f0acce89fc37c4a6abe"
   }
  }
 },
 "nbformat": 4,
 "nbformat_minor": 5
}
