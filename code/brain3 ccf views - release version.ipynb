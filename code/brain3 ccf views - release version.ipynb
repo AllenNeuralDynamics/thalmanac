{
 "cells": [
  {
   "cell_type": "code",
   "execution_count": 1,
   "id": "a39e6ed3-f672-4f65-aac7-ab64c5ffe443",
   "metadata": {
    "tags": []
   },
   "outputs": [],
   "source": [
    "%load_ext autoreload\n",
    "%autoreload 2"
   ]
  },
  {
   "cell_type": "code",
   "execution_count": 2,
   "id": "b21f526e-a5f1-4af5-9605-bfa01ee161bf",
   "metadata": {
    "tags": []
   },
   "outputs": [],
   "source": [
    "import anndata as ad\n",
    "import pandas as pd\n",
    "import matplotlib.pyplot as plt\n",
    "import seaborn as sns\n",
    "\n",
    "import abc_load as abc\n",
    "import ccf_polygons as cshapes\n",
    "import ccf_plots as cplots\n",
    "\n",
    "# from colorcet import glasbey\n",
    "import scanpy as sc\n",
    "\n",
    "%matplotlib inline\n",
    "\n",
    "sns.set_style('white')"
   ]
  },
  {
   "cell_type": "markdown",
   "id": "6f96a821-abaf-4240-9958-5f4b68af5e7b",
   "metadata": {},
   "source": [
    "# Load TH+ZI subset of ABC atlas"
   ]
  },
  {
   "cell_type": "code",
   "execution_count": 3,
   "id": "55333d41-30b1-4177-82a1-50c7f8979569",
   "metadata": {
    "tags": []
   },
   "outputs": [],
   "source": [
    "adata = abc.load_adata(transform='log2', subset_to_TH_ZI=True, cirro_names=True,\n",
    "                       flip_y=True, with_metadata=True, with_colors=True)"
   ]
  },
  {
   "cell_type": "code",
   "execution_count": 4,
   "id": "8db1ed86",
   "metadata": {
    "tags": []
   },
   "outputs": [],
   "source": [
    "adata.obs['supertype'] = pd.Categorical(adata.obs['supertype'].str[5:])\n",
    "adata.obs['subclass'] = pd.Categorical(adata.obs['subclass'].str[4:])"
   ]
  },
  {
   "cell_type": "markdown",
   "id": "ed1425d6-bebf-415e-9447-ceeb9dcfa3ef",
   "metadata": {},
   "source": [
    "# define and view CCF polygons"
   ]
  },
  {
   "cell_type": "markdown",
   "id": "9d3df1fd-224b-4c0e-8cb9-fe46366760a7",
   "metadata": {},
   "source": [
    "## calc polygons"
   ]
  },
  {
   "cell_type": "code",
   "execution_count": 5,
   "id": "119a19c8-a706-4dd8-a04a-075a18300013",
   "metadata": {
    "tags": []
   },
   "outputs": [],
   "source": [
    "ccf_polygons = cshapes.get_ccf_polygons(adata.obs)"
   ]
  },
  {
   "cell_type": "code",
   "execution_count": 6,
   "id": "850036b8-3320-4d21-94bc-6b7f7c4d274f",
   "metadata": {
    "tags": []
   },
   "outputs": [],
   "source": [
    "ccf_polygons_th_zi = ccf_polygons[ccf_polygons.index.isin(cshapes.CCF_TH_NAMES, level=\"name\")]"
   ]
  },
  {
   "cell_type": "code",
   "execution_count": 7,
   "id": "524fe171-736f-4e00-a530-3274eecc34e1",
   "metadata": {
    "scrolled": true,
    "tags": []
   },
   "outputs": [],
   "source": [
    "# sections = [\"1199651024\", \"1199651036\", \"1199651048\"]\n",
    "sections = [\"C57BL6J-638850.32\", \"C57BL6J-638850.36\", \"C57BL6J-638850.40\", \"C57BL6J-638850.44\"]\n",
    "cplots.plot_ccf_overlay(adata.obs, ccf_polygons_th_zi, sections=sections)"
   ]
  },
  {
   "cell_type": "markdown",
   "id": "9da8bb6c-2ba8-4e92-a1d9-ecd84dc408a5",
   "metadata": {},
   "source": [
    "## view thalamic neurons subset with subclass labels"
   ]
  },
  {
   "cell_type": "code",
   "execution_count": 8,
   "id": "67b407d1-657b-4a44-91a4-d99a76ce6207",
   "metadata": {
    "tags": []
   },
   "outputs": [],
   "source": [
    "# filter out non-neuronal cells, keep midbrain classes\n",
    "adata_neuronal = abc.filter_adata_by_class(adata, filter_nonneuronal=True, \n",
    "                                           filter_midbrain=True)"
   ]
  },
  {
   "cell_type": "code",
   "execution_count": 9,
   "id": "bd03f712-08c3-4b37-b07e-199de36db027",
   "metadata": {
    "tags": []
   },
   "outputs": [],
   "source": [
    "# split off cluster_id from cluster_label, as string, to simplify querying\n",
    "adata_neuronal.obs['cluster_id'] = pd.Categorical(\n",
    "                                        adata_neuronal.obs['cluster'].apply(\n",
    "                                        lambda x: x.split(' ')[0]))"
   ]
  },
  {
   "cell_type": "code",
   "execution_count": 10,
   "id": "84cb7d8c-7055-4d3e-a05d-e0b130821c9a",
   "metadata": {
    "scrolled": true,
    "tags": []
   },
   "outputs": [],
   "source": [
    "# may need to tweak clustering params on fine \n",
    "cplots.plot_ccf_overlay(adata.obs.iloc[[],:]#no foreground cells\n",
    "                       , ccf_polygons_th_zi, sections=sections, highlight='all', \n",
    "                           # x_field='x_section', y_field='y_section',\n",
    "                 bg_cells=adata_neuronal.obs, bg_shapes=False, min_group_count=0, legend=False)"
   ]
  },
  {
   "cell_type": "code",
   "execution_count": 11,
   "id": "5bf0618c-8837-4247-860b-a630aa259105",
   "metadata": {
    "tags": []
   },
   "outputs": [],
   "source": [
    "subclasses = adata_neuronal.obs['subclass'].value_counts().loc[lambda x: x>300]\n",
    "print(f'{len(subclasses) = }')\n",
    "subclasses"
   ]
  },
  {
   "cell_type": "code",
   "execution_count": 12,
   "id": "ccb94149-01e3-47e2-b970-dd96ca17de64",
   "metadata": {
    "tags": []
   },
   "outputs": [],
   "source": [
    "adata_neuronal.obs.loc[lambda df: df['subclass'].isin(subclasses.index), 'class'].value_counts().loc[lambda x: x>0]"
   ]
  },
  {
   "cell_type": "code",
   "execution_count": 13,
   "id": "30afd613-7f2f-4e51-8afa-29601b405a8f",
   "metadata": {
    "tags": []
   },
   "outputs": [],
   "source": [
    "n_supertypes = adata_neuronal.obs.loc[lambda df: df['subclass'].isin(subclasses.index), 'supertype'].unique().shape[0]\n",
    "print(f'{n_supertypes = }')"
   ]
  },
  {
   "cell_type": "code",
   "execution_count": 14,
   "id": "9e72ffb4-25e3-4fd7-8d7d-34c48cfb252c",
   "metadata": {
    "tags": []
   },
   "outputs": [],
   "source": [
    "n_clusters = adata_neuronal.obs.loc[lambda df: df['subclass'].isin(subclasses.index), 'cluster'].unique().shape[0]\n",
    "print(f'{n_clusters = }')"
   ]
  },
  {
   "cell_type": "code",
   "execution_count": 15,
   "id": "5109cdfc-06de-48b2-aed0-5ee8b13b122b",
   "metadata": {
    "tags": []
   },
   "outputs": [],
   "source": [
    "tax_level = 'subclass'\n",
    "point_palette = dict(zip(adata_neuronal.obs[tax_level].unique(),\n",
    "                         adata_neuronal.obs[tax_level+'_color'].unique()))\n",
    "point_palette"
   ]
  },
  {
   "cell_type": "code",
   "execution_count": 16,
   "id": "68607550-f2a1-4984-8829-78e04fa30b6d",
   "metadata": {
    "scrolled": true,
    "tags": []
   },
   "outputs": [],
   "source": [
    "obs = adata_neuronal.obs.loc[lambda df: df['subclass'].isin(subclasses.index)]\n",
    "cplots.plot_ccf_overlay(obs, ccf_polygons_th_zi, bg_cells=adata_neuronal.obs, point_hue='subclass', sections=sections,\n",
    "                 shape_palette='dark_outline', point_palette=point_palette, legend=False, highlight='all',\n",
    "                           # x_field='x_section', y_field='y_section',\n",
    "                 min_group_count=30)"
   ]
  },
  {
   "cell_type": "markdown",
   "id": "e6059d52-ef34-4e20-be15-9ce9d592652e",
   "metadata": {},
   "source": [
    "# Investigate prong 1 cluster-nucleus groups"
   ]
  },
  {
   "cell_type": "code",
   "execution_count": 17,
   "id": "1ce5008d-48df-4be3-aa2e-8952af892f53",
   "metadata": {
    "tags": []
   },
   "outputs": [],
   "source": [
    "# \"resources/Prong 1 Vitessce links by nucleus.csv\" has the old taxonomy level\n",
    "# IDs and so isn't currently useful\n",
    "# keeping this cell around in case we ever update it with current taxonomy IDs\n",
    "\n",
    "# nuclei_df = pd.read_csv(\"resources/Prong 1 Vitessce links by nucleus.csv\", index_col=0)\n",
    "\n",
    "# def get_obs_from_annotated_clusters(name, adata, nuclei_df):\n",
    "#     clusters = nuclei_df.loc[name, \"annotated clusters\"].split(', ')\n",
    "#     obs = adata.obs.loc[lambda df: df['cluster_id'].isin(clusters)]\n",
    "#     return obs\n",
    "\n",
    "# # obs = get_obs_from_annotated_clusters('VM', adata, nuclei_df)\n",
    "# obs = adata_neuronal.obs.query(\"cluster=='1142 TH Prkcd Grin2c Glut_13'\")"
   ]
  },
  {
   "cell_type": "markdown",
   "id": "58d01918-e6e5-443d-9b74-59e287301a8e",
   "metadata": {},
   "source": [
    "## VM"
   ]
  },
  {
   "cell_type": "code",
   "execution_count": 18,
   "id": "e6ef226c-a928-453e-a734-cfa9a989afd1",
   "metadata": {
    "scrolled": true,
    "tags": []
   },
   "outputs": [],
   "source": [
    "nuclei = ['VM', 'VAL']\n",
    "\n",
    "# from manual inspection of ABC Atlas cells in VM or VAL\n",
    "supertypes = ['TH Prkcd Grin2c Glut_13',  # 0666 \n",
    "              'TH Prkcd Grin2c Glut_1',  # 0654\n",
    "              'RE-Xi Nox4 Glut_2'  # 0669 - maybe bleedthrough from another AP position?\n",
    "             ]\n",
    "\n",
    "clusters = ['2648 TH Prkcd Grin2c Glut_1',\n",
    "            '2648 TH Prkcd Grin2c Glut_1',\n",
    "            '2683 TH Prkcd Grin2c Glut_13', \n",
    "            '2687 TH Prkcd Grin2c Glut_13'\n",
    "            # '2684 TH Prkcd Grin2c Glut_13', <100 cells\n",
    "            # '2685 TH Prkcd Grin2c Glut_13',\n",
    "            # '2686 TH Prkcd Grin2c Glut_13'\n",
    "           ]"
   ]
  },
  {
   "cell_type": "code",
   "execution_count": 19,
   "id": "5e924f4a-642d-46f5-bc53-7015e2bc36a9",
   "metadata": {
    "scrolled": true,
    "tags": []
   },
   "outputs": [],
   "source": [
    "obs = adata_neuronal.obs[adata_neuronal.obs['cluster'].isin(clusters)]\n",
    "cplots.plot_nucleus_cluster_comparison_slices(obs, ccf_polygons_th_zi, \n",
    "                                              nuclei=nuclei, \n",
    "                                              legend='both', \n",
    "                                              bg_cells=adata_neuronal.obs, \n",
    "                                              bg_shapes=False, \n",
    "                                              shape_palette='greyscale')"
   ]
  },
  {
   "cell_type": "code",
   "execution_count": 20,
   "id": "ef97153f-b284-42e6-bc43-11c9888fcc62",
   "metadata": {
    "tags": []
   },
   "outputs": [],
   "source": [
    "obs = adata_neuronal.obs.query(\"supertype=='TH Prkcd Grin2c Glut_13'\")\n",
    "# obs = adata_neuronal.obs[adata_neuronal.obs['supertype'].isin(supertypes)]\n",
    "# obs\n",
    "obs['cluster'].value_counts().loc[lambda x: x>5]"
   ]
  },
  {
   "cell_type": "code",
   "execution_count": 21,
   "id": "6bd81b2f-c28f-46cd-a180-501b86e2f32d",
   "metadata": {
    "scrolled": true,
    "tags": []
   },
   "outputs": [],
   "source": [
    "# remove 1140? annotated as VPMpc\n",
    "clusters = ['2683', '2687', '2686']\n",
    "obs = adata.obs.loc[lambda df: df['cluster'].str[:4].isin(clusters)]\n",
    "cplots.plot_nucleus_cluster_comparison_slices(obs, ccf_polygons_th_zi, nuclei=['VM'], legend='cells', bg_cells=adata_neuronal.obs, bg_shapes=False, shape_palette='greyscale')"
   ]
  },
  {
   "cell_type": "markdown",
   "id": "82a27e61-d95a-4814-96fa-cfda2c1ef989",
   "metadata": {
    "tags": []
   },
   "source": [
    "### diff exp"
   ]
  },
  {
   "cell_type": "markdown",
   "id": "0da259a6-a173-4abd-8430-a9d4695d6974",
   "metadata": {},
   "source": [
    "#### cluster DE"
   ]
  },
  {
   "cell_type": "markdown",
   "id": "ec3f2853-314f-4255-8da1-63f1fc179be6",
   "metadata": {},
   "source": [
    "##### cluster 2687 vs 2683"
   ]
  },
  {
   "cell_type": "code",
   "execution_count": 24,
   "id": "cbd366e0-26fb-46c5-90fa-a07a3c7bfe68",
   "metadata": {
    "tags": []
   },
   "outputs": [],
   "source": [
    "sc.tl.rank_genes_groups(adata_neuronal, 'cluster_id', groups=['2687'], \n",
    "                        reference='2683', method='wilcoxon', rankby_abs=True,\n",
    "                        key_added='2687vs2683')\n",
    "sc.pl.rank_genes_groups(adata_neuronal, n_genes=20, key='2687vs2683')"
   ]
  },
  {
   "cell_type": "code",
   "execution_count": 25,
   "id": "027949df-25dc-4235-9eb1-f4734bd6268b",
   "metadata": {
    "tags": []
   },
   "outputs": [],
   "source": [
    "de_df = sc.get.rank_genes_groups_df(adata_neuronal, group='2687', \n",
    "                                    key='2687vs2683')\n",
    "\n",
    "# get the top 5 DE gene hits that are more and less expressed in the target group\n",
    "de_genes_pos_top5 = de_df[de_df['scores']>0].head(5)['names'].tolist()\n",
    "de_genes_neg_top5 = de_df[de_df['scores']<0].head(5)['names'].tolist()"
   ]
  },
  {
   "cell_type": "code",
   "execution_count": 26,
   "id": "18d7ed38-fe8f-44b4-bb12-e42aefb79e3f",
   "metadata": {
    "scrolled": true,
    "tags": []
   },
   "outputs": [],
   "source": [
    "section='C57BL6J-638850.40'\n",
    "nuclei=['VM', 'VAL']\n",
    "highlight_nuclei=['VM']\n",
    "\n",
    "for gene in de_genes_pos_top5:\n",
    "    cplots.plot_expression_ccf(adata_neuronal, section, gene, ccf_polygons, \n",
    "                               nuclei=nuclei, bg_shapes=False, \n",
    "                               highlight=highlight_nuclei, cmap='Blues', \n",
    "                               show_outline=True);"
   ]
  },
  {
   "cell_type": "code",
   "execution_count": 27,
   "id": "636f2ab8-a3d9-45ef-984f-6049851626c0",
   "metadata": {
    "scrolled": true,
    "tags": []
   },
   "outputs": [],
   "source": [
    "section='C57BL6J-638850.40'\n",
    "nuclei=['VM', 'VAL']\n",
    "highlight_nuclei=['VAL']\n",
    "\n",
    "for gene in de_genes_neg_top5:\n",
    "    cplots.plot_expression_ccf(adata_neuronal, section, gene, ccf_polygons, \n",
    "                               nuclei=nuclei, bg_shapes=False, \n",
    "                               highlight=highlight_nuclei, cmap='Blues', \n",
    "                               show_outline=True);"
   ]
  },
  {
   "cell_type": "markdown",
   "id": "d29dffbf-d7bb-43a2-bc2e-5705fca55d55",
   "metadata": {},
   "source": [
    "##### cluster 2687 vs rest"
   ]
  },
  {
   "cell_type": "code",
   "execution_count": 28,
   "id": "4055869a-5409-41e4-9bb3-dd12196b89c2",
   "metadata": {
    "tags": []
   },
   "outputs": [],
   "source": [
    "sc.tl.rank_genes_groups(adata_neuronal, 'cluster_id', groups=['2687'], \n",
    "                        method='wilcoxon', tie_correct=True, \n",
    "                        key_added='2687vsRest')\n",
    "sc.pl.rank_genes_groups(adata_neuronal, n_genes=20, key='2687vsRest')"
   ]
  },
  {
   "cell_type": "code",
   "execution_count": 29,
   "id": "2d3d5124-dcfc-42a7-9ac6-399e7b2fc889",
   "metadata": {
    "tags": []
   },
   "outputs": [],
   "source": [
    "de_df = sc.get.rank_genes_groups_df(adata_neuronal, group='2687', key='2687vsRest')\n",
    "\n",
    "# get the top 5 DE gene hits that are more and less expressed in the target group\n",
    "de_genes_pos_top5 = de_df.head(5)['names'].tolist()\n",
    "de_genes_pos_top5"
   ]
  },
  {
   "cell_type": "code",
   "execution_count": 30,
   "id": "9e0a9a2a-2735-4e21-b735-80bc358a0ae9",
   "metadata": {
    "scrolled": true,
    "tags": []
   },
   "outputs": [],
   "source": [
    "# ISH diff ex search\n",
    "# Galnt18 - https://mouse.brain-map.org/gene/show/87708\n",
    "\n",
    "section='C57BL6J-638850.40'\n",
    "nuclei=['VM', 'VAL']\n",
    "highlight_nuclei=['VM']\n",
    "\n",
    "for gene in de_genes_pos_top5:\n",
    "    cplots.plot_expression_ccf(adata_neuronal, section, gene, ccf_polygons, \n",
    "                               nuclei=nuclei, bg_shapes=False, \n",
    "                               highlight=highlight_nuclei, cmap='Blues', \n",
    "                               show_outline=True);"
   ]
  },
  {
   "cell_type": "markdown",
   "id": "252dc358-a7db-4584-a023-32bc11fbe91b",
   "metadata": {},
   "source": [
    "#### supertype DE"
   ]
  },
  {
   "cell_type": "code",
   "execution_count": 31,
   "id": "a4886fc8-03fb-443b-9ea4-1ad7d0802302",
   "metadata": {
    "tags": []
   },
   "outputs": [],
   "source": [
    "sc.tl.rank_genes_groups(adata_neuronal, 'supertype', \n",
    "                        groups=['TH Prkcd Grin2c Glut_13'], method='wilcoxon', \n",
    "                        tie_correct=True)\n",
    "sc.pl.rank_genes_groups(adata_neuronal, n_genes=20)"
   ]
  },
  {
   "cell_type": "markdown",
   "id": "899d185b-f893-4956-b7df-48c9c441b744",
   "metadata": {
    "tags": []
   },
   "source": [
    "### outlining VM / composition"
   ]
  },
  {
   "cell_type": "code",
   "execution_count": 32,
   "id": "34d79cd3-b91c-4a8b-b77e-38239d8ec895",
   "metadata": {
    "tags": []
   },
   "outputs": [],
   "source": [
    "import geopandas as gp\n",
    "neuron_points = gp.GeoSeries.from_xy(*adata_neuronal.obs[['cirro_x','cirro_y']].values.T, index=adata_neuronal.obs_names)"
   ]
  },
  {
   "cell_type": "code",
   "execution_count": 33,
   "id": "efa02d54-fa77-4aec-aacb-73ec210f07b1",
   "metadata": {
    "tags": []
   },
   "outputs": [],
   "source": [
    "import hdbscan\n",
    "section='C57BL6J-638850.40'\n",
    "adata_vm = adata_neuronal[adata_neuronal.obs.query(f\"section=='{section}' & cluster_id=='2687'\").index].copy()\n",
    "df = adata_vm.obs\n",
    "X = df[['cirro_x','cirro_y']].values\n",
    "df['spatial_cluster'] = hdbscan.HDBSCAN(min_samples=5).fit_predict(X)\n",
    "core_clusters = df['spatial_cluster'].value_counts().index[:2]\n",
    "df['spatial_group'] = df['spatial_cluster'].apply(lambda x: 'core' if x in core_clusters else 'other')"
   ]
  },
  {
   "cell_type": "code",
   "execution_count": 34,
   "id": "1903b71f-5d5b-435e-9dfd-48651ce85a48",
   "metadata": {
    "tags": []
   },
   "outputs": [],
   "source": [
    "sns.scatterplot(data=df,  x='cirro_x', y='cirro_y', hue='spatial_cluster', s=4,  legend=True, palette='tab10')"
   ]
  },
  {
   "cell_type": "code",
   "execution_count": 35,
   "id": "6a550495-7f21-408f-b008-c759904383c1",
   "metadata": {
    "tags": []
   },
   "outputs": [],
   "source": [
    "nucleus = cshapes.get_polygon_from_obs(df.query(\"spatial_group=='core'\"))\n",
    "subset = neuron_points.geometry.intersects(nucleus)\n",
    "adata_neuronal.obs['in_nucleus'] = subset.values\n",
    "adata_nucleus = adata_neuronal[subset]"
   ]
  },
  {
   "cell_type": "code",
   "execution_count": 36,
   "id": "bea5e4ac-1b41-4450-8b81-3c95b590d9d1",
   "metadata": {
    "tags": []
   },
   "outputs": [],
   "source": [
    "adata_neuronal.obs.query(f\"section=='{section}' & supertype=='TH Prkcd Grin2c Glut_13'\").groupby(['cluster'])['in_nucleus'].apply(lambda x: x.value_counts())"
   ]
  },
  {
   "cell_type": "code",
   "execution_count": 37,
   "id": "c9f19460-4f9d-4665-b8d5-6884cbf2dce0",
   "metadata": {
    "tags": []
   },
   "outputs": [],
   "source": [
    "# need to include VAL types ??"
   ]
  },
  {
   "cell_type": "code",
   "execution_count": 38,
   "id": "e12814fd-1a2c-466e-b717-4d80554f14e9",
   "metadata": {
    "tags": []
   },
   "outputs": [],
   "source": [
    "sc.tl.rank_genes_groups(adata_vm, 'spatial_group', groups=['core'], reference='other', method='wilcoxon', rankby_abs=True)\n",
    "sc.pl.rank_genes_groups(adata_vm, groups=['core'], n_genes=20)"
   ]
  },
  {
   "cell_type": "markdown",
   "id": "cf934f53-f634-4e39-bad1-57c31fd4d46a",
   "metadata": {},
   "source": [
    "## anterior"
   ]
  },
  {
   "cell_type": "code",
   "execution_count": 39,
   "id": "df1d6877-2a33-4c98-8c5b-930385c3e4a9",
   "metadata": {
    "tags": []
   },
   "outputs": [],
   "source": [
    "nuclei=['AD', 'AV', 'AMd', 'AMv']\n",
    "section='C57BL6J-638850.44'\n",
    "# cplot.plot_ccf_section(ccf_polygons_th_zi, section, highlight=nuclei, )\n",
    "cplots.plot_ccf_overlay(adata.obs.loc[[],:], ccf_polygons_th_zi, \n",
    "                       sections=[section], highlight=nuclei, legend='both', \n",
    "                       bg_cells=adata_neuronal.obs, bg_shapes=True, \n",
    "                       min_group_count=0)"
   ]
  },
  {
   "cell_type": "code",
   "execution_count": 40,
   "id": "5ef48b83-92ee-4577-be14-a18f6db6446a",
   "metadata": {
    "tags": []
   },
   "outputs": [],
   "source": [
    "nuclei = ['AD', 'AMd', 'AMv', 'AV']\n",
    "\n",
    "# from manual inspection of ABC Atlas cells in AD, AM, AV\n",
    "subclasses= ['AD Serpinb7 Glut',  # 147, AD\n",
    "              'AV Col27a1 Glut',  # 148, AV\n",
    "              'TH Prkcd Grin2c Glut'  # 151, AM\n",
    "             ]\n",
    "\n",
    "supertypes = ['AD Serpinb7 Glut_1',  # 0641, AD\n",
    "              'AV Col27a1 Glut_1',  # 0642, AV\n",
    "              'TH Prkcd Grin2c Glut_9' # 0662, AM\n",
    "             ]\n",
    "\n",
    "clusters = ['2613 AD Serpinb7 Glut_1', # AD\n",
    "            '2614 AD Serpinb7 Glut_1',  # AD\n",
    "            '2615 AV Col27a1 Glut_1',  # AV\n",
    "            '2616 AV Col27a1 Glut_1',  # AV\n",
    "            '2674 TH Prkcd Grin2c Glut_9',  # AM\n",
    "            '2675 TH Prkcd Grin2c Glut_9',  # AM \n",
    "            '2676 TH Prkcd Grin2c Glut_9'  # AM\n",
    "           ]"
   ]
  },
  {
   "cell_type": "code",
   "execution_count": 41,
   "id": "5be709c9-9782-409e-82ad-95bf71c0a8b0",
   "metadata": {
    "scrolled": true,
    "tags": []
   },
   "outputs": [],
   "source": [
    "obs = adata.obs[adata.obs['cluster'].isin(clusters)]\n",
    "cplots.plot_nucleus_cluster_comparison_slices(obs, ccf_polygons_th_zi, \n",
    "                                              nuclei=nuclei, legend='cells',\n",
    "                                              bg_cells=adata_neuronal.obs, \n",
    "                                              bg_shapes=False, \n",
    "                                              shape_palette='greyscale')"
   ]
  },
  {
   "cell_type": "markdown",
   "id": "dd98c3d5-d285-4110-9f35-e961564f7869",
   "metadata": {
    "tags": []
   },
   "source": [
    "### diff exp"
   ]
  },
  {
   "cell_type": "markdown",
   "id": "dadd0ac9-97a2-466d-9609-a154445a788d",
   "metadata": {},
   "source": [
    "#### AV"
   ]
  },
  {
   "cell_type": "code",
   "execution_count": 42,
   "id": "44e2abeb-7158-4b0e-ac27-33d20041a5ed",
   "metadata": {
    "tags": []
   },
   "outputs": [],
   "source": [
    "sc.tl.rank_genes_groups(adata_neuronal, 'subclass', groups=['AV Col27a1 Glut'], method='wilcoxon', rankby_abs=True)\n",
    "sc.pl.rank_genes_groups(adata_neuronal, n_genes=20)"
   ]
  },
  {
   "cell_type": "markdown",
   "id": "f7f5e9ba-875a-4b0e-b3a8-33aee98f00fe",
   "metadata": {},
   "source": [
    "##### Col27a1"
   ]
  },
  {
   "cell_type": "code",
   "execution_count": 43,
   "id": "95c79503-9d89-4943-8ab7-113521cfc4d1",
   "metadata": {
    "tags": []
   },
   "outputs": [],
   "source": [
    "section = 'C57BL6J-638850.44'\n",
    "\n",
    "gene = \"Col27a1\"\n",
    "ant_nuclei=['AD', 'AV', 'AMd', 'AMv']\n",
    "highlight_nuclei=['AD', 'AV']\n",
    "cplots.plot_expression_ccf(adata_neuronal, section, gene, ccf_polygons, nuclei=ant_nuclei, bg_shapes=False, \n",
    "                    cmap='Blues', show_outline=True, highlight=highlight_nuclei);"
   ]
  },
  {
   "cell_type": "markdown",
   "id": "6200cd79-0047-442f-b96b-3962e736e826",
   "metadata": {},
   "source": [
    "##### Sorcs3\n",
    "Mathew's plots in brain1 suggested high expression exclusively in the '1097 AV Col27a1 Glut cluster' in the AV\n",
    "\n",
    "That does not appear to be the case in brain3..."
   ]
  },
  {
   "cell_type": "code",
   "execution_count": 44,
   "id": "ecd4d343-c696-4b33-8f38-bb4b44630d17",
   "metadata": {
    "tags": []
   },
   "outputs": [],
   "source": [
    "\n",
    "# Mathew's plots in brain1 suggested high expression exclusively in the '1097 AV Col27a1 Glut cluster' in the AV\n",
    "# That does not appear to be the case in brain3...\n",
    "gene = \"Sorcs3\"\n",
    "ant_nuclei=['AD', 'AV', 'AMd', 'AMv']\n",
    "highlight_nuclei=['AV']\n",
    "cplots.plot_expression_ccf(adata_neuronal, section, gene, ccf_polygons, nuclei=ant_nuclei, bg_shapes=False, \n",
    "                    cmap='Blues', show_outline=True, highlight=highlight_nuclei);"
   ]
  },
  {
   "cell_type": "markdown",
   "id": "02a2413a-c449-4021-9b96-5d467169f973",
   "metadata": {},
   "source": [
    "#### AD"
   ]
  },
  {
   "cell_type": "code",
   "execution_count": 45,
   "id": "e222f084-6f18-4e6e-99e4-c6d1b2e3b276",
   "metadata": {
    "tags": []
   },
   "outputs": [],
   "source": [
    "sc.tl.rank_genes_groups(adata_neuronal, 'subclass', groups=['AD Serpinb7 Glut'], method='wilcoxon', rankby_abs=True)\n",
    "sc.pl.rank_genes_groups(adata_neuronal, n_genes=20)"
   ]
  },
  {
   "cell_type": "code",
   "execution_count": 46,
   "id": "7537750a-1d05-453f-9f4a-6231d2855730",
   "metadata": {
    "tags": []
   },
   "outputs": [],
   "source": [
    "\n",
    "gene = \"Syndig1l\"\n",
    "ant_nuclei=['AD', 'AV', 'AMd', 'AMv']\n",
    "highlight_nuclei=['AD']\n",
    "cplots.plot_expression_ccf(adata_neuronal, section, gene, ccf_polygons, nuclei=ant_nuclei, bg_shapes=False, \n",
    "                    cmap='Blues', show_outline=True, highlight=highlight_nuclei);"
   ]
  },
  {
   "cell_type": "markdown",
   "id": "d140b73f-e065-4326-b5cc-f88aefd5e3ad",
   "metadata": {},
   "source": [
    "#### AM"
   ]
  },
  {
   "cell_type": "code",
   "execution_count": 47,
   "id": "2160e5ac-1999-4b56-b64f-c42f3763649f",
   "metadata": {
    "tags": []
   },
   "outputs": [],
   "source": [
    "sc.tl.rank_genes_groups(adata_neuronal, 'supertype', groups=['TH Prkcd Grin2c Glut_9'], method='wilcoxon', rankby_abs=True)\n",
    "sc.pl.rank_genes_groups(adata_neuronal, n_genes=20)"
   ]
  },
  {
   "cell_type": "code",
   "execution_count": 48,
   "id": "74194b27-9ee1-42d0-98d0-6f424f6be6ab",
   "metadata": {
    "tags": []
   },
   "outputs": [],
   "source": [
    "\n",
    "gene = \"Cbln1\"\n",
    "ant_nuclei=['AD', 'AV', 'AMd', 'AMv']\n",
    "highlight_nuclei=['AMd', 'AMv']\n",
    "cplots.plot_expression_ccf(adata_neuronal, section, gene, ccf_polygons, nuclei=ant_nuclei, bg_shapes=False, \n",
    "                    cmap='Blues', show_outline=True, highlight=highlight_nuclei);"
   ]
  },
  {
   "cell_type": "code",
   "execution_count": 49,
   "id": "8d8544ec-edc5-4f6a-8843-e9eb3877d9ef",
   "metadata": {
    "tags": []
   },
   "outputs": [],
   "source": [
    "adata_neuronal.obs['anterior_type'] = (adata_neuronal.obs['supertype'].str.contains('Glut_9') |\n",
    "                                       adata_neuronal.obs['supertype'].str.contains('AD') |\n",
    "                                       adata_neuronal.obs['supertype'].str.contains('AV')).astype(str)"
   ]
  },
  {
   "cell_type": "code",
   "execution_count": 50,
   "id": "d75e4955-7944-4087-8be0-c9ce11de505f",
   "metadata": {
    "tags": []
   },
   "outputs": [],
   "source": [
    "sc.tl.rank_genes_groups(adata_neuronal, 'anterior_type', method='wilcoxon', rankby_abs=True)\n",
    "sc.pl.rank_genes_groups(adata_neuronal, n_genes=20)"
   ]
  },
  {
   "cell_type": "code",
   "execution_count": 51,
   "id": "3b24566e-5a74-40ce-9578-bf571dca91ee",
   "metadata": {
    "tags": []
   },
   "outputs": [],
   "source": [
    "\n",
    "gene = \"C1ql3\"\n",
    "nuclei=['AD', 'AV', 'AMd', 'AMv']\n",
    "cplots.plot_expression_ccf(adata_neuronal, section, gene, ccf_polygons, nuclei=nuclei, bg_shapes=False, \n",
    "                    cmap='Blues', show_outline=True);"
   ]
  },
  {
   "cell_type": "code",
   "execution_count": 52,
   "id": "8a0f290d-6336-46e9-a515-1d5170142f65",
   "metadata": {
    "tags": []
   },
   "outputs": [],
   "source": [
    "\n",
    "gene = \"Shox2\"\n",
    "nuclei=['AD', 'AV', 'AMd', 'AMv']\n",
    "cplots.plot_expression_ccf(adata_neuronal, section, gene, ccf_polygons, nuclei=nuclei, bg_shapes=False, \n",
    "                    cmap='Blues', show_outline=True);"
   ]
  },
  {
   "cell_type": "markdown",
   "id": "a51bc67b-895d-4b10-89cd-323a55c06985",
   "metadata": {
    "tags": []
   },
   "source": [
    "## MD"
   ]
  },
  {
   "cell_type": "code",
   "execution_count": 53,
   "id": "3a7b010b-93b3-406b-8eec-f1ca74753951",
   "metadata": {
    "scrolled": true,
    "tags": []
   },
   "outputs": [],
   "source": [
    "cluster = \"2678 TH Prkcd Grin2c Glut_10\"\n",
    "obs = adata.obs.loc[lambda df: df['cluster']==cluster]\n",
    "nuclei = ['MD']\n",
    "palette = {cluster: \"#bcbd22\"}\n",
    "cplots.plot_nucleus_cluster_comparison_slices(obs, ccf_polygons_th_zi, \n",
    "                                              nuclei=nuclei, legend='cells', \n",
    "                                              bg_cells=adata_neuronal.obs, \n",
    "                                              bg_shapes=False, \n",
    "                                              shape_palette='dark_outline', \n",
    "                                              point_palette=palette, s=5)"
   ]
  },
  {
   "cell_type": "code",
   "execution_count": 54,
   "id": "3cd9ebf9-c6e6-4b8c-be32-3ddbf33f3399",
   "metadata": {
    "scrolled": true,
    "tags": []
   },
   "outputs": [],
   "source": [
    "# TODO: should probably remove 1132 (2677) from annotation\n",
    "clusters = [\"2677 TH Prkcd Grin2c Glut_10\",\n",
    "            \"2678 TH Prkcd Grin2c Glut_10\"]\n",
    "obs = adata.obs[adata.obs['cluster'].isin(clusters)]\n",
    "\n",
    "cplots.plot_nucleus_cluster_comparison_slices(obs, ccf_polygons_th_zi, \n",
    "                                              nuclei=nuclei, legend='cells', \n",
    "                                              bg_cells=adata_neuronal.obs, \n",
    "                                              bg_shapes=False, \n",
    "                                              shape_palette='dark_outline', s=5)"
   ]
  },
  {
   "cell_type": "markdown",
   "id": "2dbb13e9-4f18-4d12-9050-a4dbbdf6b6c9",
   "metadata": {},
   "source": [
    "### diff exp"
   ]
  },
  {
   "cell_type": "code",
   "execution_count": 55,
   "id": "19801e4a-3814-48a5-bdff-f67746981d2a",
   "metadata": {
    "tags": []
   },
   "outputs": [],
   "source": [
    "sc.tl.rank_genes_groups(adata_neuronal, 'cluster_id', groups=['2678'], method='wilcoxon', rankby_abs=True)\n",
    "sc.pl.rank_genes_groups(adata_neuronal, n_genes=20)"
   ]
  },
  {
   "cell_type": "markdown",
   "id": "4387e563-b976-4b69-8335-90b0ae99adb0",
   "metadata": {
    "tags": []
   },
   "source": [
    "## other"
   ]
  },
  {
   "cell_type": "code",
   "execution_count": 56,
   "id": "31215762-e2f0-4c76-a2fa-83888fd49530",
   "metadata": {
    "scrolled": true,
    "tags": []
   },
   "outputs": [],
   "source": [
    "# obs = get_obs_from_annotated_clusters('PT', adata_neuronal, nuclei_df)\n",
    "# cplots.plot_nucleus_cluster_comparison_slices(obs, ccf_polygons_th_zi, nuclei='PT', legend='cells', bg_cells=adata_neuronal.obs, bg_shapes=False, \n",
    "#                                        shape_palette='dark_outline', s=5)"
   ]
  },
  {
   "cell_type": "code",
   "execution_count": 57,
   "id": "c90bffe0-5849-4118-85b9-2554aee73c91",
   "metadata": {
    "scrolled": true,
    "tags": []
   },
   "outputs": [],
   "source": [
    "# obs = adata_neuronal.obs.query(\"supertype.str.contains('PVT-PT')\", engine='python')\n",
    "# cplots.plot_nucleus_cluster_comparison_slices(obs, ccf_polygons_th_zi, nuclei=['PT','PVT'], bg_cells=adata_neuronal.obs, bg_shapes=False, legend='both')"
   ]
  },
  {
   "cell_type": "code",
   "execution_count": null,
   "id": "47ae967e-e879-47f6-b21b-06b6bd06b257",
   "metadata": {
    "scrolled": true,
    "tags": []
   },
   "outputs": [],
   "source": [
    "# obs = get_obs_from_annotated_clusters('PVT', adata_neuronal, nuclei_df)\n",
    "# cplots.plot_nucleus_cluster_comparison_slices(obs, ccf_polygons_th_zi, nuclei=['PT','PVT'], bg_cells=adata_neuronal.obs, bg_shapes=False, legend='both')"
   ]
  },
  {
   "cell_type": "code",
   "execution_count": null,
   "id": "e7fb693e-4197-407a-ad50-4db386025471",
   "metadata": {
    "scrolled": true,
    "tags": []
   },
   "outputs": [],
   "source": [
    "# obs = get_obs_from_annotated_clusters('LGd', adata_neuronal, nuclei_df)\n",
    "# cplots.plot_nucleus_cluster_comparison_slices(obs, ccf_polygons_th_zi, nuclei=['LGd-co', 'LGd-ip', 'LGd-sh'], bg_cells=adata_neuronal.obs, bg_shapes=False)"
   ]
  },
  {
   "cell_type": "code",
   "execution_count": null,
   "id": "f3153ee9-0bfc-4ce2-83c1-0d400007aa5d",
   "metadata": {
    "scrolled": true,
    "tags": []
   },
   "outputs": [],
   "source": [
    "# obs = get_obs_from_annotated_clusters('SMT', adata_neuronal, nuclei_df)\n",
    "# cplots.plot_nucleus_cluster_comparison_slices(obs, ccf_polygons_th_zi, nuclei='SMT', bg_cells=adata_neuronal.obs, bg_shapes=False)"
   ]
  },
  {
   "cell_type": "code",
   "execution_count": null,
   "id": "83f73d53-ca19-4662-988e-70ffc0e21114",
   "metadata": {
    "scrolled": true,
    "tags": []
   },
   "outputs": [],
   "source": [
    "# obs = get_obs_from_annotated_clusters('LD', adata_neuronal, nuclei_df)\n",
    "# cplots.plot_nucleus_cluster_comparison_slices(obs, ccf_polygons_th_zi, nuclei='LD', bg_cells=adata_neuronal.obs, bg_shapes=False)"
   ]
  },
  {
   "cell_type": "code",
   "execution_count": null,
   "id": "f546284e-308f-4ac8-a46d-45de2346a90f",
   "metadata": {},
   "outputs": [],
   "source": []
  }
 ],
 "metadata": {
  "kernelspec": {
   "display_name": "Python 3 (ipykernel)",
   "language": "python",
   "name": "python3"
  },
  "language_info": {
   "codemirror_mode": {
    "name": "ipython",
    "version": 3
   },
   "file_extension": ".py",
   "mimetype": "text/x-python",
   "name": "python",
   "nbconvert_exporter": "python",
   "pygments_lexer": "ipython3",
   "version": "3.9.12"
  },
  "vscode": {
   "interpreter": {
    "hash": "d4d1e4263499bec80672ea0156c357c1ee493ec2b1c70f0acce89fc37c4a6abe"
   }
  }
 },
 "nbformat": 4,
 "nbformat_minor": 5
}
