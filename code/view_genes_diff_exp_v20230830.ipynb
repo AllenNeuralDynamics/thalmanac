{
 "cells": [
  {
   "cell_type": "code",
   "execution_count": 1,
   "id": "47b314c6-4db0-4be4-8aed-496189985e35",
   "metadata": {
    "tags": []
   },
   "outputs": [],
   "source": [
    "%load_ext autoreload\n",
    "%autoreload 2"
   ]
  },
  {
   "cell_type": "code",
   "execution_count": 2,
   "id": "6ef76432-a51c-4df4-9bc6-584f00248802",
   "metadata": {
    "tags": []
   },
   "outputs": [],
   "source": [
    "import anndata as ad\n",
    "import pandas as pd\n",
    "import numpy as np\n",
    "\n",
    "import matplotlib.pyplot as plt\n",
    "# import matplotlib\n",
    "from matplotlib.colors import rgb2hex\n",
    "from colorcet import glasbey\n",
    "# import seaborn as sns\n",
    "\n",
    "import shapely\n",
    "import shapely.plotting as splot\n",
    "\n",
    "import scanpy as sc\n",
    "\n",
    "from thalamus_merfish_analysis import ccf_plots as cplots\n",
    "from thalamus_merfish_analysis import abc_load as abc\n",
    "\n",
    "%matplotlib inline"
   ]
  },
  {
   "cell_type": "code",
   "execution_count": 3,
   "id": "d159bc8f-ad1e-4273-98c1-3cb7e3370f9a",
   "metadata": {
    "tags": []
   },
   "outputs": [],
   "source": [
    "import warnings\n",
    "\n",
    "# suppress FutureWarning warnings (targeting AnnData & Seaborn)\n",
    "warnings.simplefilter(action='ignore', category=FutureWarning)\n",
    "warnings.filterwarnings(\"ignore\", message=\".*Trying to modify attribute `.obs` of view, initializing view as actual.*\")"
   ]
  },
  {
   "cell_type": "markdown",
   "id": "bff1fc39-5eca-4870-813b-c4d8542ee5aa",
   "metadata": {},
   "source": [
    "# Load TH+ZI subset of ABC atlas"
   ]
  },
  {
   "cell_type": "code",
   "execution_count": 4,
   "id": "f7c20595-e053-4b25-b91b-b28b3df81345",
   "metadata": {
    "tags": []
   },
   "outputs": [],
   "source": [
    "version = '20230830'\n",
    "adata_th_zi = abc.load_adata(version=version, transform='log2', \n",
    "                             subset_to_TH_ZI=True, with_metadata=True, \n",
    "                             flip_y=False, # ccf_plots module expects unflipped y axis\n",
    "                             round_z=True,\n",
    "                             with_colors=True) # colors required for displaying by cell type\n",
    "\n",
    "adata_th_zi_neurons = abc.filter_adata_by_class(adata_th_zi, filter_nonneuronal=True,\n",
    "                                                filter_midbrain=True)"
   ]
  },
  {
   "cell_type": "code",
   "execution_count": 5,
   "id": "39b4597f-ab92-4322-add6-5d56e41c610c",
   "metadata": {
    "tags": []
   },
   "outputs": [],
   "source": [
    "# grab the obs df\n",
    "obs_th_neurons = adata_th_zi_neurons.obs.copy()"
   ]
  },
  {
   "cell_type": "code",
   "execution_count": 6,
   "id": "00d473f5-b8ed-446e-8681-e18876a74913",
   "metadata": {
    "tags": []
   },
   "outputs": [],
   "source": [
    "# load in rasterized CCF volumes\n",
    "ccf_polygons = abc.get_ccf_labels_image(resampled=True).astype(int)"
   ]
  },
  {
   "cell_type": "markdown",
   "id": "3956426a-4257-4fe4-b967-b0ffcc9df0f0",
   "metadata": {},
   "source": [
    "# Load Prong 1 cluster-nucleus groups"
   ]
  },
  {
   "cell_type": "code",
   "execution_count": 7,
   "id": "96f3c6ef-a204-4780-b0e3-fabd878d9db5",
   "metadata": {
    "tags": []
   },
   "outputs": [],
   "source": [
    "nuclei_df = pd.read_csv(\"resources/prong1_cluster_annotations_by_nucleus.csv\", \n",
    "                        index_col=0)"
   ]
  },
  {
   "cell_type": "markdown",
   "id": "c307ce80-c99e-4893-adfd-a187f495a7db",
   "metadata": {},
   "source": [
    "# DE Genes"
   ]
  },
  {
   "cell_type": "markdown",
   "id": "dc854e11-4fdc-445a-8d79-49707e36e4a5",
   "metadata": {
    "tags": []
   },
   "source": [
    "## Anterior Nuclei"
   ]
  },
  {
   "cell_type": "markdown",
   "id": "94c10131-3dac-415a-9231-a489a602dd38",
   "metadata": {
    "tags": []
   },
   "source": [
    "### ANT clusters"
   ]
  },
  {
   "cell_type": "code",
   "execution_count": 8,
   "id": "b02930a9-c70b-425c-8a58-b4a190bb400f",
   "metadata": {
    "tags": []
   },
   "outputs": [],
   "source": [
    "# Extract Prong 1 cluster-nucleus groups\n",
    "taxonomy_level = 'cluster'\n",
    "\n",
    "AD_cluster_aliases = nuclei_df.loc['AD',:].cluster_alias.split(', ')\n",
    "AD_cluster_labels = abc.get_taxonomy_label_from_alias(AD_cluster_aliases,\n",
    "                                                      taxonomy_level, \n",
    "                                                      version='20230830')\n",
    "\n",
    "AV_cluster_aliases = nuclei_df.loc['AV',:].cluster_alias.split(', ')\n",
    "AV_cluster_labels = abc.get_taxonomy_label_from_alias(AV_cluster_aliases,\n",
    "                                                      taxonomy_level, \n",
    "                                                      version='20230830')\n",
    "\n",
    "AM_cluster_aliases = nuclei_df.loc['AM',:].cluster_alias.split(', ')\n",
    "AM_cluster_labels = abc.get_taxonomy_label_from_alias(AM_cluster_aliases,\n",
    "                                                      taxonomy_level, \n",
    "                                                      version='20230830')\n",
    "\n",
    "ANT_cluster_labels = AD_cluster_labels+AV_cluster_labels+AM_cluster_labels\n",
    "print(ANT_cluster_labels)"
   ]
  },
  {
   "cell_type": "code",
   "execution_count": 9,
   "id": "928afbd3-fbd4-4987-be7d-444c904618e2",
   "metadata": {
    "tags": []
   },
   "outputs": [],
   "source": [
    "anterior_sec = 8.0\n",
    "nuclei = ['AD', 'AV', 'AMd', 'AMv']\n",
    "\n",
    "obs_ANT = adata_th_zi_neurons.obs[adata_th_zi_neurons.obs['cluster'].isin(ANT_cluster_labels)]\n",
    "\n",
    "section_col = 'z_reconstructed'\n",
    "x_coord_col = 'x_reconstructed'\n",
    "y_coord_col = 'y_reconstructed'\n",
    "ccf_label = 'parcellation_substructure'\n",
    "\n",
    "cplots.plot_ccf_overlay(obs_ANT, ccf_polygons, bg_cells=obs_th_neurons, \n",
    "                        point_hue='cluster', sections=[anterior_sec],\n",
    "                        shape_palette='dark_outline', s=3,\n",
    "                        ccf_names=nuclei, legend='cells', bg_shapes=False, \n",
    "                        section_col=section_col, \n",
    "                        x_col=x_coord_col, y_col=y_coord_col)"
   ]
  },
  {
   "cell_type": "code",
   "execution_count": 10,
   "id": "a86eacab-8d6c-4744-b567-bb8341e84b27",
   "metadata": {},
   "outputs": [],
   "source": [
    "# # cplots.plot_nucleus_cluster_comparison_slices('AD', adata, nuclei_df, ccf_polygons)\n",
    "# obs = get_obs_from_annotated_clusters('AD', adata_th_zi_neurons, nuclei_df)\n",
    "# cplots.plot_nucleus_cluster_comparison_slices(obs, ccf_polygons, nuclei='AD')"
   ]
  },
  {
   "cell_type": "markdown",
   "id": "8db0f482-4b85-4ebf-b2d6-2058cd7ad98e",
   "metadata": {
    "tags": []
   },
   "source": [
    "### AD - subclass vs rest"
   ]
  },
  {
   "cell_type": "code",
   "execution_count": 11,
   "id": "0cd5699f-80f2-4c98-9e91-bf6f346c7856",
   "metadata": {
    "tags": []
   },
   "outputs": [],
   "source": [
    "# AD subclass - 147 AD Serpinb7 Glut\n",
    "\n",
    "# Plot top 20 DE genes\n",
    "sc.tl.rank_genes_groups(adata_th_zi_neurons, 'subclass', \n",
    "                        groups=['147 AD Serpinb7 Glut'], method='wilcoxon', \n",
    "                        rankby_abs=True)\n",
    "sc.pl.rank_genes_groups(adata_th_zi_neurons, n_genes=20)\n",
    "\n",
    "# List top 10 positive DE genes\n",
    "de_df = sc.get.rank_genes_groups_df(adata_th_zi_neurons, group=None)\n",
    "de_genes_pos_AD = de_df[de_df['scores']>0].head(10).names.to_list()\n",
    "print('Top 10 pos DE genes for AD subclass:\\n', de_genes_pos_AD)"
   ]
  },
  {
   "cell_type": "code",
   "execution_count": 12,
   "id": "a629ef70-97c0-4931-bb25-c47358d1b2fb",
   "metadata": {
    "scrolled": true,
    "tags": []
   },
   "outputs": [],
   "source": [
    "section=['C57BL6J-638850.44']\n",
    "ant_nuclei=['AD', 'AV', 'AMd', 'AMv']\n",
    "highlight_nuclei=['AD']\n",
    "\n",
    "section_col = 'brain_section_label'\n",
    "x_coord_col = 'x_reconstructed'\n",
    "y_coord_col = 'y_reconstructed'\n",
    "\n",
    "for gene in de_genes_pos_AD:\n",
    "    cplots.plot_expression_ccf(adata_th_zi_neurons, gene, ccf_polygons,\n",
    "                               sections=section, nuclei=ant_nuclei, \n",
    "                               highlight=highlight_nuclei,\n",
    "                               cmap='Blues', bg_shapes=False, show_outline=False,\n",
    "                               section_col=section_col, \n",
    "                               x_col=x_coord_col, y_col=y_coord_col);"
   ]
  },
  {
   "cell_type": "markdown",
   "id": "10eec37b-9062-4135-8c14-ef644f5c114b",
   "metadata": {
    "tags": []
   },
   "source": [
    "### AV - subclass vs rest"
   ]
  },
  {
   "cell_type": "code",
   "execution_count": 13,
   "id": "005af3f1-d77c-46c8-9bdd-31e65b8298d3",
   "metadata": {
    "tags": []
   },
   "outputs": [],
   "source": [
    "# AV subclass - 148 AV Col27a1 Glut\n",
    "\n",
    "# Plot top 20 DE genes\n",
    "sc.tl.rank_genes_groups(adata_th_zi_neurons, 'subclass', \n",
    "                        groups=['148 AV Col27a1 Glut'], method='wilcoxon', \n",
    "                        rankby_abs=True)\n",
    "sc.pl.rank_genes_groups(adata_th_zi_neurons, n_genes=20)\n",
    "\n",
    "# List top 10 positive DE genes\n",
    "de_df = sc.get.rank_genes_groups_df(adata_th_zi_neurons, group=None)\n",
    "de_genes_pos_AV = de_df[de_df['scores']>0].head(10).names.to_list()\n",
    "print('Top 10 pos DE genes for AV subclass:\\n', de_genes_pos_AV)"
   ]
  },
  {
   "cell_type": "markdown",
   "id": "22aabb50-5786-4378-827d-029d66e2d236",
   "metadata": {},
   "source": [
    "#### Col27a1"
   ]
  },
  {
   "cell_type": "code",
   "execution_count": 14,
   "id": "4a800fc2-646d-4b53-83f0-8801ab5133f7",
   "metadata": {
    "tags": []
   },
   "outputs": [],
   "source": [
    "gene = 'Col27a1'\n",
    "\n",
    "section=['C57BL6J-638850.44']\n",
    "ant_nuclei=['AD', 'AV', 'AMd', 'AMv']\n",
    "highlight_nuclei=['AV']\n",
    "\n",
    "section_col = 'brain_section_label'\n",
    "x_coord_col = 'x_reconstructed'\n",
    "y_coord_col = 'y_reconstructed'\n",
    "\n",
    "cplots.plot_expression_ccf(adata_th_zi_neurons, gene, ccf_polygons,\n",
    "                           sections=section, nuclei=ant_nuclei, \n",
    "                           highlight=highlight_nuclei,\n",
    "                           cmap='Blues', bg_shapes=False, show_outline=False,\n",
    "                           section_col=section_col, \n",
    "                           x_col=x_coord_col, y_col=y_coord_col);"
   ]
  },
  {
   "cell_type": "markdown",
   "id": "23cb2e04-ff13-4f30-96ff-b1a4b5c2f34a",
   "metadata": {
    "tags": []
   },
   "source": [
    "### AV - cluster"
   ]
  },
  {
   "cell_type": "markdown",
   "id": "88644c18-b3db-409c-8c46-dc11fc65cbe4",
   "metadata": {},
   "source": [
    "#### Sorcs3\n",
    "\n",
    "Mathew's plots in brain1 suggested high expression exclusively in the '1097 AV Col27a1 Glut cluster' in the AV\n",
    "\n",
    "That does not appear to be the case in brain3..."
   ]
  },
  {
   "cell_type": "code",
   "execution_count": 15,
   "id": "9c25042f-4a3e-4e10-bd74-ee7522e0cae2",
   "metadata": {
    "tags": []
   },
   "outputs": [],
   "source": [
    "# Mathew's plots in brain1 suggested high expression exclusively in the '1097 AV Col27a1 Glut cluster' in the AV\n",
    "# That does not appear to be the case in brain3...\n",
    "gene = 'Sorcs3'\n",
    "\n",
    "section=['C57BL6J-638850.44']\n",
    "ant_nuclei=['AD', 'AV', 'AMd', 'AMv']\n",
    "highlight_nuclei=['AV']\n",
    "\n",
    "section_col = 'brain_section_label'\n",
    "x_coord_col = 'x_reconstructed'\n",
    "y_coord_col = 'y_reconstructed'\n",
    "\n",
    "cplots.plot_expression_ccf(adata_th_zi_neurons, gene, ccf_polygons,\n",
    "                           sections=section, nuclei=ant_nuclei, \n",
    "                           highlight=highlight_nuclei,\n",
    "                           cmap='Blues', bg_shapes=False, show_outline=False,\n",
    "                           section_col=section_col, \n",
    "                           x_col=x_coord_col, y_col=y_coord_col);"
   ]
  },
  {
   "cell_type": "markdown",
   "id": "748d9ec2-de12-434c-924a-e8ccde9de032",
   "metadata": {},
   "source": [
    "### AM - supertype vs rest"
   ]
  },
  {
   "cell_type": "code",
   "execution_count": 16,
   "id": "3543ac56-82cf-4108-8bc7-85d05623b813",
   "metadata": {
    "tags": []
   },
   "outputs": [],
   "source": [
    "# AV supertype - 0662 TH Prkcd Grin2c Glut_9\n",
    "\n",
    "# Plot top 20 DE genes\n",
    "sc.tl.rank_genes_groups(adata_th_zi_neurons, 'supertype', \n",
    "                        groups=['0662 TH Prkcd Grin2c Glut_9'],  \n",
    "                        method='wilcoxon', rankby_abs=True)\n",
    "sc.pl.rank_genes_groups(adata_th_zi_neurons, n_genes=20)\n",
    "\n",
    "# List top 10 positive DE genes\n",
    "de_df = sc.get.rank_genes_groups_df(adata_th_zi_neurons, group=None)\n",
    "de_genes_pos_AM = de_df[de_df['scores']>0].head(10).names.to_list()\n",
    "print('Top 10 pos DE genes for AM supertype:\\n', de_genes_pos_AM)"
   ]
  },
  {
   "cell_type": "code",
   "execution_count": 17,
   "id": "3bf48068-1e1d-4f85-8e24-69635710a7cb",
   "metadata": {
    "scrolled": true,
    "tags": []
   },
   "outputs": [],
   "source": [
    "section=['C57BL6J-638850.44']\n",
    "ant_nuclei=['AD', 'AV', 'AMd', 'AMv']\n",
    "highlight_nuclei=['AMv','AMd']\n",
    "\n",
    "section_col = 'brain_section_label'\n",
    "x_coord_col = 'x_reconstructed'\n",
    "y_coord_col = 'y_reconstructed'\n",
    "\n",
    "for gene in de_genes_pos_AM[:5]:\n",
    "    cplots.plot_expression_ccf(adata_th_zi_neurons, gene, ccf_polygons,\n",
    "                               sections=section, nuclei=ant_nuclei, \n",
    "                               highlight=highlight_nuclei,\n",
    "                               cmap='Blues', bg_shapes=False, show_outline=False,\n",
    "                               section_col=section_col, \n",
    "                               x_col=x_coord_col, y_col=y_coord_col);"
   ]
  },
  {
   "cell_type": "markdown",
   "id": "a87c6832-c55c-45c4-8f6a-773e4a2e931a",
   "metadata": {},
   "source": [
    "### ANT vs rest"
   ]
  },
  {
   "cell_type": "code",
   "execution_count": 18,
   "id": "29a8c74e-b327-4f0d-aedf-66b92d772dc3",
   "metadata": {},
   "outputs": [],
   "source": [
    "# left as an exercise to the reader...\n",
    "\n",
    "# obs_th_neurons['anterior_type'] = (obs_th_neurons['supertype'].str.contains('Glut_9') |\n",
    "#                                        obs_th_neurons['supertype'].str.contains('AD') |\n",
    "#                                        obs_th_neurons['supertype'].str.contains('AV')).astype(str)"
   ]
  },
  {
   "cell_type": "code",
   "execution_count": 19,
   "id": "b652750a-b90f-40b8-ad44-959295ee28fa",
   "metadata": {},
   "outputs": [],
   "source": [
    "# gene = \"C1ql3\"\n",
    "# cplots.plot_expression_ccf()\n",
    "\n",
    "# gene = \"Shox2\"\n",
    "# cplots.plot_expression_ccf()"
   ]
  },
  {
   "cell_type": "markdown",
   "id": "93338b8a-771f-4882-80f4-2899d663bc63",
   "metadata": {
    "tags": []
   },
   "source": [
    "## VM"
   ]
  },
  {
   "cell_type": "code",
   "execution_count": 22,
   "id": "3e55c4e9-d1ee-4043-a333-dd77ecb734ea",
   "metadata": {
    "tags": []
   },
   "outputs": [],
   "source": [
    "taxonomy_level = 'cluster'\n",
    "\n",
    "VM_cluster_aliases = nuclei_df.loc['VM',:].cluster_alias.split(', ')\n",
    "VM_cluster_labels = abc.get_taxonomy_label_from_alias(VM_cluster_aliases,\n",
    "                                                      taxonomy_level, \n",
    "                                                      version='20230830')\n",
    "print(VM_cluster_aliases); print(VM_cluster_labels)\n",
    "\n",
    "VAL_VM_cluster_aliases = nuclei_df.loc['VAL',:].cluster_alias.split(', ')\n",
    "VAL_VM_cluster_labels = abc.get_taxonomy_label_from_alias(VAL_VM_cluster_aliases,\n",
    "                                                          taxonomy_level, \n",
    "                                                          version='20230830')\n",
    "print(VAL_VM_cluster_aliases); print(VAL_VM_cluster_labels)"
   ]
  },
  {
   "cell_type": "markdown",
   "id": "ee84cedf-5ab6-4c82-adaf-619bd0f75cfd",
   "metadata": {},
   "source": [
    "### DE - VM vs VAL top cluster"
   ]
  },
  {
   "cell_type": "code",
   "execution_count": 23,
   "id": "cfcf9b1c-664f-4d0b-839c-86264d16590a",
   "metadata": {
    "tags": []
   },
   "outputs": [],
   "source": [
    "sc.tl.rank_genes_groups(adata_th_zi_neurons, taxonomy_level, \n",
    "                        groups=[VM_cluster_labels[1]], \n",
    "                        reference=VAL_VM_cluster_labels[0], \n",
    "                        method='wilcoxon', rankby_abs=True)\n",
    "sc.pl.rank_genes_groups(adata_th_zi_neurons, n_genes=20)\n",
    "\n",
    "de_df = sc.get.rank_genes_groups_df(adata_th_zi_neurons, group=None)\n",
    "de_genes_pos = de_df[de_df['scores']>0].head(10).names.to_list()\n",
    "de_genes_neg = de_df[de_df['scores']<0].head(10).names.to_list()\n",
    "print('Top 10 pos DE genes:\\n', de_genes_pos)\n",
    "print('\\n','Top 10 neg DE genes:\\n', de_genes_neg)"
   ]
  },
  {
   "cell_type": "code",
   "execution_count": 24,
   "id": "06f3f633-1b35-4e5a-8681-44ae419c538e",
   "metadata": {
    "scrolled": true,
    "tags": []
   },
   "outputs": [],
   "source": [
    "section=['C57BL6J-638850.40']\n",
    "nuclei=['VM', 'VAL']\n",
    "highlight=['VM']\n",
    "\n",
    "section_col = 'brain_section_label'\n",
    "x_coord_col = 'x_reconstructed'\n",
    "y_coord_col = 'y_reconstructed'\n",
    "\n",
    "for gene in de_genes_pos[:5]:\n",
    "    cplots.plot_expression_ccf(adata_th_zi_neurons, gene, ccf_polygons,\n",
    "                               sections=section, nuclei=nuclei, \n",
    "                               highlight=highlight,\n",
    "                               cmap='Blues', bg_shapes=False, show_outline=False,\n",
    "                               section_col=section_col, \n",
    "                               x_col=x_coord_col, y_col=y_coord_col);"
   ]
  },
  {
   "cell_type": "markdown",
   "id": "c9c6a516-8c72-453a-8488-1c037bc820e9",
   "metadata": {},
   "source": [
    "### DE - VM cluster vs rest"
   ]
  },
  {
   "cell_type": "code",
   "execution_count": 25,
   "id": "96c2b6fd-4321-4f23-ac1c-ac073407dd6e",
   "metadata": {
    "tags": []
   },
   "outputs": [],
   "source": [
    "sc.tl.rank_genes_groups(adata_th_zi_neurons, 'cluster', \n",
    "                        groups=[VM_cluster_labels[1]], \n",
    "                        method='wilcoxon', tie_correct=True)\n",
    "sc.pl.rank_genes_groups(adata_th_zi_neurons, n_genes=20)\n",
    "\n",
    "# get list of genes from plot\n",
    "de_df = sc.get.rank_genes_groups_df(adata_th_zi_neurons, group=None)\n",
    "de_genes_pos = de_df[de_df['scores']>0].head(10).names.to_list()\n",
    "print('Top 10 pos DE genes:\\n', de_genes_pos)"
   ]
  },
  {
   "cell_type": "code",
   "execution_count": 26,
   "id": "adf6bc11-aefc-4676-a425-26923a5b4b11",
   "metadata": {
    "scrolled": true,
    "tags": []
   },
   "outputs": [],
   "source": [
    "# ISH diff ex search\n",
    "# https://mouse.brain-map.org/gene/show/87708\n",
    "\n",
    "section=['C57BL6J-638850.40']\n",
    "nuclei=['VM']\n",
    "highlight=['VM']\n",
    "\n",
    "section_col = 'brain_section_label'\n",
    "x_coord_col = 'x_reconstructed'\n",
    "y_coord_col = 'y_reconstructed'\n",
    "\n",
    "for gene in de_genes_pos[:3]:\n",
    "    cplots.plot_expression_ccf(adata_th_zi_neurons, gene, ccf_polygons,\n",
    "                               sections=section, nuclei=nuclei, \n",
    "                               highlight=highlight,\n",
    "                               cmap='Blues', bg_shapes=False, show_outline=False,\n",
    "                               section_col=section_col, \n",
    "                               x_col=x_coord_col, y_col=y_coord_col);"
   ]
  },
  {
   "cell_type": "markdown",
   "id": "0e07fb05-38c0-45a4-abf8-d412e0a46fb9",
   "metadata": {},
   "source": [
    "### DE - VM supertype vs rest"
   ]
  },
  {
   "cell_type": "code",
   "execution_count": 27,
   "id": "aef0afbb-c64d-42b3-8e76-7cfcf4e1eb3e",
   "metadata": {
    "tags": []
   },
   "outputs": [],
   "source": [
    "taxonomy_level = 'supertype'\n",
    "\n",
    "VM_cluster_aliases = nuclei_df.loc['VM',:].cluster_alias.split(', ')\n",
    "VM_st_labels = abc.get_taxonomy_label_from_alias(VM_cluster_aliases,\n",
    "                                                      taxonomy_level, \n",
    "                                                      version='20230830')\n",
    "VM_st_labels"
   ]
  },
  {
   "cell_type": "code",
   "execution_count": 28,
   "id": "aeaabe34-ad4e-4c33-8183-5baf4e65598a",
   "metadata": {
    "tags": []
   },
   "outputs": [],
   "source": [
    "sc.tl.rank_genes_groups(adata_th_zi_neurons, 'supertype', \n",
    "                        groups=['0666 TH Prkcd Grin2c Glut_13'], \n",
    "                        method='wilcoxon', tie_correct=True)\n",
    "sc.pl.rank_genes_groups(adata_th_zi_neurons, n_genes=20)\n",
    "\n",
    "# get list of genes from plot\n",
    "de_df = sc.get.rank_genes_groups_df(adata_th_zi_neurons, group=None)\n",
    "de_genes_pos = de_df[de_df['scores']>0].head(10).names.to_list()\n",
    "print('Top 10 pos DE genes:\\n', de_genes_pos)"
   ]
  },
  {
   "cell_type": "code",
   "execution_count": 29,
   "id": "2ddbec6b-daf7-4127-a006-32dc021029ce",
   "metadata": {
    "tags": []
   },
   "outputs": [],
   "source": [
    "gene = 'Rxfp1'\n",
    "\n",
    "section=['C57BL6J-638850.40']\n",
    "nuclei=['VM']\n",
    "highlight=['VM']\n",
    "\n",
    "section_col = 'brain_section_label'\n",
    "x_coord_col = 'x_reconstructed'\n",
    "y_coord_col = 'y_reconstructed'\n",
    "\n",
    "cplots.plot_expression_ccf(adata_th_zi_neurons, gene, ccf_polygons,\n",
    "                           sections=section, nuclei=nuclei, \n",
    "                           highlight=highlight,\n",
    "                           cmap='Blues', bg_shapes=False, show_outline=False,\n",
    "                           section_col=section_col, \n",
    "                           x_col=x_coord_col, y_col=y_coord_col);"
   ]
  },
  {
   "cell_type": "markdown",
   "id": "990304e2-aa9f-48f1-8280-2123e6136811",
   "metadata": {},
   "source": [
    "### detailed spatial analysis"
   ]
  },
  {
   "cell_type": "code",
   "execution_count": 35,
   "id": "278d31b3-505e-4f85-bb41-636b7edf4a56",
   "metadata": {},
   "outputs": [],
   "source": [
    "# old code to create a structure for the core region of VM and compare expression between that and the rest of VM/VAL\n",
    "\n",
    "# import geopandas as gp\n",
    "# neuron_points = gp.GeoSeries.from_xy(*obs_th_neurons[['cirro_x','cirro_y']].values.T, \n",
    "#                                      index=obs_th_neurons_names)\n",
    "\n",
    "# import hdbscan\n",
    "# section='C57BL6J-638850.40'\n",
    "# adata_vm = adata_th_zi_neurons[obs.query(f\"section=='{section}' & cluster=='1142'\").index].copy()\n",
    "# df = adata_vm.obs\n",
    "# X = df[['cirro_x','cirro_y']].values\n",
    "# df['spatial_cluster'] = hdbscan.HDBSCAN(min_samples=5).fit_predict(X)\n",
    "# core_clusters = df['spatial_cluster'].value_counts().index[:2]\n",
    "# df['spatial_group'] = df['spatial_cluster'].apply(lambda x: 'core' if x in core_clusters else 'other')\n",
    "\n",
    "# sns.scatterplot(data=df,  x='cirro_x', y='cirro_y', hue='spatial_cluster', s=4,  legend=True, palette='tab10')\n",
    "\n",
    "# nucleus = cshapes.get_polygon_from_obs(df.query(\"spatial_group=='core'\"))\n",
    "# subset = neuron_points.geometry.intersects(nucleus)\n",
    "# obs_th_neurons['in_nucleus'] = subset.values\n",
    "# adata_nucleus = adata_th_zi_neurons[subset]\n",
    "\n",
    "# obs.query(f\"section=='{section}' & supertype=='TH Prkcd Grin2c Glut_13'\").groupby(['cluster'])['in_nucleus'].apply(lambda x: x.value_counts())\n",
    "\n",
    "# # need to include VAL types ??\n",
    "\n",
    "# sc.tl.rank_genes_groups(adata_vm, 'spatial_group', groups=['core'], reference='other', method='wilcoxon', rankby_abs=True)\n",
    "# sc.pl.rank_genes_groups(adata_vm, groups=['core'], n_genes=20)"
   ]
  },
  {
   "cell_type": "markdown",
   "id": "51c9bf30-48bc-47c9-9bc9-1f00465199b4",
   "metadata": {},
   "source": [
    "## MD"
   ]
  },
  {
   "cell_type": "code",
   "execution_count": 31,
   "id": "12ee88af-1d10-4d38-be67-cfab58a8aa77",
   "metadata": {
    "tags": []
   },
   "outputs": [],
   "source": [
    "# Extract Prong 1 cluster-nucleus groups\n",
    "taxonomy_level = 'cluster'\n",
    "\n",
    "MD_cluster_aliases = nuclei_df.loc['MD',:].cluster_alias.split(', ')\n",
    "MD_cluster_labels = abc.get_taxonomy_label_from_alias(MD_cluster_aliases,\n",
    "                                                      taxonomy_level, \n",
    "                                                      version='20230830')\n",
    "print(MD_cluster_labels)\n",
    "\n",
    "# TODO: should probably remove 2677 from annotation"
   ]
  },
  {
   "cell_type": "code",
   "execution_count": 32,
   "id": "717d361f-d9e7-4880-b18a-97c11de236ae",
   "metadata": {
    "scrolled": true,
    "tags": []
   },
   "outputs": [],
   "source": [
    "sections_md = [6.6, 6.8, 7.0, 7.2, 7.6, 7.8, 8.0]\n",
    "nuclei = ['MD']\n",
    "\n",
    "obs_MD = adata_th_zi_neurons.obs[adata_th_zi_neurons.obs['cluster'].isin(MD_cluster_labels)]\n",
    "\n",
    "section_col = 'z_reconstructed'\n",
    "x_coord_col = 'x_reconstructed'\n",
    "y_coord_col = 'y_reconstructed'\n",
    "ccf_label = 'parcellation_substructure'\n",
    "\n",
    "cplots.plot_ccf_overlay(obs_MD, ccf_polygons, bg_cells=obs_th_neurons, \n",
    "                        point_hue='cluster', sections=sections_md,\n",
    "                        shape_palette='dark_outline', s=3,\n",
    "                        ccf_names=nuclei, legend='cells', bg_shapes=False, \n",
    "                        section_col=section_col, \n",
    "                        x_col=x_coord_col, y_col=y_coord_col)"
   ]
  },
  {
   "cell_type": "code",
   "execution_count": 33,
   "id": "debcd319-f39b-474c-bf37-4a1e30eacdc3",
   "metadata": {
    "tags": []
   },
   "outputs": [],
   "source": [
    "# TODO: should probably remove 2677 from annotation\n",
    "sc.tl.rank_genes_groups(adata_th_zi_neurons, taxonomy_level, \n",
    "                        groups=[MD_cluster_labels[1]], \n",
    "                        method='wilcoxon', rankby_abs=True)\n",
    "sc.pl.rank_genes_groups(adata_th_zi_neurons, n_genes=20)\n",
    "\n",
    "de_df = sc.get.rank_genes_groups_df(adata_th_zi_neurons, group=None)\n",
    "de_genes_pos_MD = de_df[de_df['scores']>0].head(10).names.to_list()\n",
    "de_genes_neg_MD = de_df[de_df['scores']<0].head(10).names.to_list()\n",
    "print('Top 10 pos DE genes:\\n', de_genes_pos_MD)\n",
    "print('\\n','Top 10 neg DE genes:\\n', de_genes_neg_MD)"
   ]
  },
  {
   "cell_type": "code",
   "execution_count": 34,
   "id": "8b8bf247-5711-4f02-b2c8-2c6bf78fb678",
   "metadata": {
    "scrolled": true,
    "tags": []
   },
   "outputs": [],
   "source": [
    "section=[7.2]\n",
    "md_nuclei=['MD']\n",
    "\n",
    "section_col = 'z_reconstructed'\n",
    "x_coord_col = 'x_reconstructed'\n",
    "y_coord_col = 'y_reconstructed'\n",
    "\n",
    "for gene in de_genes_pos_MD[:5]:\n",
    "    cplots.plot_expression_ccf(adata_th_zi_neurons, gene, ccf_polygons,\n",
    "                               sections=section, nuclei=md_nuclei, \n",
    "                               highlight=md_nuclei,\n",
    "                               cmap='Blues', bg_shapes=False, show_outline=False,\n",
    "                               section_col=section_col, \n",
    "                               x_col=x_coord_col, y_col=y_coord_col);"
   ]
  }
 ],
 "metadata": {
  "kernelspec": {
   "display_name": "Python 3 (ipykernel)",
   "language": "python",
   "name": "python3"
  },
  "language_info": {
   "codemirror_mode": {
    "name": "ipython",
    "version": 3
   },
   "file_extension": ".py",
   "mimetype": "text/x-python",
   "name": "python",
   "nbconvert_exporter": "python",
   "pygments_lexer": "ipython3",
   "version": "3.9.12"
  }
 },
 "nbformat": 4,
 "nbformat_minor": 5
}
