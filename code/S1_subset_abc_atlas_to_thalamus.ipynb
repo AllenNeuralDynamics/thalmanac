{
 "cells": [
  {
   "cell_type": "markdown",
   "metadata": {},
   "source": [
    "# 0_subset_abc_atlas_to_thalamus\n",
    "\n",
    "To subset the published ABC Atlas MERFISH dataset (3,739,961 cells) to cells that belong to the thalamus and/or the zona incerta (XXX cells), we used a combination of spatial and taxonomy-based labeling.\n",
    "\n",
    "Functions for this process can be found in the `abc_load.py` & `abc_load_base.py` modules of the `thalamus-merfish-analysis` Python package."
   ]
  },
  {
   "cell_type": "code",
   "execution_count": 1,
   "metadata": {
    "tags": []
   },
   "outputs": [],
   "source": [
    "%load_ext autoreload\n",
    "%autoreload 2"
   ]
  },
  {
   "cell_type": "code",
   "execution_count": 2,
   "metadata": {
    "tags": []
   },
   "outputs": [],
   "source": [
    "import numpy as np\n",
    "import pandas as pd\n",
    "\n",
    "import matplotlib.pyplot as plt\n",
    "from matplotlib import colors\n",
    "from matplotlib.lines import Line2D\n",
    "\n",
    "import seaborn as sns\n",
    "import scipy.ndimage as ndi\n",
    "\n",
    "%matplotlib inline"
   ]
  },
  {
   "cell_type": "code",
   "execution_count": 3,
   "metadata": {
    "tags": []
   },
   "outputs": [],
   "source": [
    "from thalamus_merfish_analysis import abc_load as abc\n",
    "from thalamus_merfish_analysis import ccf_images as cimg"
   ]
  },
  {
   "cell_type": "markdown",
   "metadata": {},
   "source": [
    "## Load cell metadata DataFrame"
   ]
  },
  {
   "cell_type": "code",
   "execution_count": 4,
   "metadata": {
    "tags": []
   },
   "outputs": [],
   "source": [
    "cells_df = abc.get_combined_metadata(drop_unused=False)\n",
    "print(f'n_cells in the whole-brain ABC Atlas: {cells_df.shape[0]}')"
   ]
  },
  {
   "cell_type": "markdown",
   "metadata": {},
   "source": [
    "## Plotting helper functions"
   ]
  },
  {
   "cell_type": "markdown",
   "metadata": {},
   "source": [
    "### def plot_th_mask_with_cell_overlay()"
   ]
  },
  {
   "cell_type": "code",
   "execution_count": 5,
   "metadata": {},
   "outputs": [],
   "source": [
    "def plot_th_mask_with_cell_overlay(cell_df, th_mask, th_zi_sections, \n",
    "                                   hue_column='class', trim_to_th=True, \n",
    "                                   show_mask=True, title=''):\n",
    "\n",
    "    # make a fixed colormap for displaying thalamus mask\n",
    "    if show_mask:\n",
    "        cmap_th_mask = colors.ListedColormap(['black', 'white'])\n",
    "    else:\n",
    "        cmap_th_mask = colors.ListedColormap(['white', 'white'])\n",
    "    bounds=[0,1]\n",
    "    norm = colors.BoundaryNorm(bounds, cmap_th_mask.N)\n",
    "\n",
    "    # Create legend elements to label the cell colors\n",
    "    color_col = hue_column+'_color'\n",
    "    # .unique() returns hue_column & color_col values in a matched order\n",
    "    categories = cell_df[hue_column].unique()\n",
    "    cat_color_mapping = dict(zip(categories, cell_df[color_col].unique()))\n",
    "    # sort both categories & cat_color_mapping so they appear in alpha category order in legend\n",
    "    categories = sorted(categories)\n",
    "    cat_color_mapping = dict(sorted(cat_color_mapping.items()))\n",
    "    # create invisible objects to make legend handles\n",
    "    legend_elements = [Line2D([0], [0], lw=0, marker='o', markersize=10,\n",
    "                              markerfacecolor=cat_color_mapping[cat],\n",
    "                              color=cat_color_mapping[cat], \n",
    "                              label=cat) \n",
    "                       for cat in cat_color_mapping]\n",
    "    \n",
    "    # Set up figure\n",
    "    n_col = 2\n",
    "    n_row = int(np.ceil(len(th_zi_sections) / n_col))\n",
    "    fig, axes = plt.subplots(n_row, n_col, figsize=(n_col*6,n_row*3.75))\n",
    "    axes = axes.ravel()\n",
    "\n",
    "    for i, sec in enumerate(th_zi_sections):\n",
    "        ax = axes[i]\n",
    "\n",
    "        curr_sec_cell_df = cell_df[(cell_df['z_reconstructed']==sec)]\n",
    "\n",
    "        ax.imshow(th_mask[:,:,int(np.rint(sec/0.2))].T, extent=[0, 11, 11, 0], zorder=0,\n",
    "                  cmap=cmap_th_mask, norm=norm)\n",
    "        sc = ax.scatter(curr_sec_cell_df['x_reconstructed'], curr_sec_cell_df['y_reconstructed'],\n",
    "                        color=curr_sec_cell_df['class_color'],\n",
    "                        s=0.5, marker='.', zorder=1)\n",
    "        ax.set_title('z_section = '+str(sec))\n",
    "\n",
    "        ax.set_xlabel('x_reconstructed')\n",
    "        ax.set_ylabel('y_reconstructed')\n",
    "        if trim_to_th:\n",
    "            x_min = 2; x_max = 9; y_min = 7.5; y_max = 3.5\n",
    "            ax.set_xlim((x_min,x_max))\n",
    "            ax.set_ylim((y_min,y_max))\n",
    "        else:\n",
    "            ax.set_xlim((0,11))\n",
    "            ax.set_ylim((11,0))    \n",
    "        ax.axis('off')\n",
    "        ax.set_xticks([])\n",
    "        ax.set_yticks([])\n",
    "        n_cols = 2 if len(categories) > 12 else 1\n",
    "        if i==1:\n",
    "            ax.legend(legend_elements, categories, title='class', ncol=n_cols, \n",
    "                      loc='center left', bbox_to_anchor=(1.1,0.5))\n",
    "    plt.suptitle(title)\n",
    "    plt.show()"
   ]
  },
  {
   "cell_type": "markdown",
   "metadata": {},
   "source": [
    "## 1.) Spatial filtering based on ARA parcellations & CCFv3 image volumes\n",
    "\n",
    "As an initial spatial filtering step, we used a rasterized anatomical annotation \n",
    "image volume, which aligns a resampled (10x10x??um) CCFv3 coordinate space into \n",
    "the MERFISH data space and where each voxel is assigned a parcellation index that \n",
    "uniquely identifies its assigned 3D Allen Reference Atlas (ARA) anatomical parcellation."
   ]
  },
  {
   "cell_type": "markdown",
   "metadata": {},
   "source": [
    "All the detailed steps outlined below are wrapped in the `label_thalamus_spatial_subset()` \n",
    "function from the `abc_load` module. We confirm this by showing that the number\n",
    "of cells remaining after this single function call (227,417) is the same as the\n",
    "number of cells remaining after detail step 1f (also 227,417)."
   ]
  },
  {
   "cell_type": "code",
   "execution_count": 6,
   "metadata": {},
   "outputs": [],
   "source": [
    "cells_df_th_subset = abc.label_thalamus_spatial_subset(cells_df,\n",
    "                                                       distance_px=20,\n",
    "                                                       cleanup_mask=True,\n",
    "                                                       drop_end_sections=True,\n",
    "                                                       filter_cells=True)\n",
    "\n",
    "print(f'n_cells after label_thalamus_spatial_subset(): {cells_df_th_subset.shape[0]}')"
   ]
  },
  {
   "cell_type": "markdown",
   "metadata": {},
   "source": [
    "### 1a) Load & view CCF parcellation/annotation image volumes\n",
    "\n",
    "`imshow()` colors each pixel by its parcellation_index. \n",
    "You can see that each ARA parcellation has its own color (displayed in grayscale)."
   ]
  },
  {
   "cell_type": "code",
   "execution_count": 7,
   "metadata": {},
   "outputs": [],
   "source": [
    "# loads the whole-brain CCF resampled_annotation image volumes\n",
    "ccf_img = abc.get_ccf_labels_image(resampled=True)\n",
    "\n",
    "# 1100x1100 pixels where each pixel is 10um^2; 76 sections\n",
    "print(f'{ccf_img.shape=}')\n",
    "\n",
    "# display an example section of the image volume that contains the thalamus \n",
    "zindex = 36 \n",
    "plt.imshow(ccf_img[:,:,zindex].T, cmap='gray')  # transpose to plot in correct orientation\n",
    "plt.title(f'example section: {zindex}')\n",
    "xy_labels = 'resampled pixels (1px=10um)'\n",
    "plt.xlabel(xy_labels); plt.ylabel(xy_labels)\n",
    "plt.show()"
   ]
  },
  {
   "cell_type": "markdown",
   "metadata": {},
   "source": [
    "### 1b) Generate binary mask for TH+ZI parcellation regions\n",
    "\n",
    "We generated a binary TH+ZI mask that included all voxels labelled with a thalalmus \n",
    "(‘TH’) or a zona incerta (‘ZI’) associated parcellation index."
   ]
  },
  {
   "cell_type": "code",
   "execution_count": 8,
   "metadata": {},
   "outputs": [],
   "source": [
    "# get all parcellation names that are in either TH or ZI\n",
    "ccf_regions_to_select = ['TH', 'ZI'] # TH = thalamus ; ZI = zona incerta\n",
    "ccf_regions = abc.get_ccf_names(top_nodes=ccf_regions_to_select, \n",
    "                                level='substructure')\n",
    "print(f'{ccf_regions=}')\n",
    "\n",
    "# convert parcellation names to the unique parcellation_index used in the image volume\n",
    "ccf_index = abc.get_ccf_index(level='substructure')\n",
    "reverse_lookup = pd.Series(ccf_index.index.values, index=ccf_index)\n",
    "th_zi_index_values = reverse_lookup.loc[ccf_regions]\n",
    "print(f'{th_zi_index_values[:5]=} \\netc. ...')"
   ]
  },
  {
   "cell_type": "code",
   "execution_count": 9,
   "metadata": {},
   "outputs": [],
   "source": [
    "# if you want to subset by a different ARA parcellation region, you can change \n",
    "# the `level` param {'division', 'structure', 'substructure'} to view alterative\n",
    "# options to add to `ccf_regions_to_select` in the previous cell\n",
    "all_division_names = abc.get_ccf_names(top_nodes=None, level='division')\n",
    "print(all_division_names)"
   ]
  },
  {
   "cell_type": "code",
   "execution_count": 10,
   "metadata": {},
   "outputs": [],
   "source": [
    "# generate a binary TH+ZI mask\n",
    "th_zi_mask = np.isin(ccf_img, th_zi_index_values)\n",
    "\n",
    "# subset the ccf image volume using the binary mask\n",
    "th_zi_img = np.where(th_zi_mask, ccf_img, 0)\n",
    "\n",
    "\n",
    "# display the subsetted image volume and TH+ZI binary mask\n",
    "fig, (ax1, ax2, ax3) = plt.subplots(1, 3, figsize=(15, 5))\n",
    "xy_labels = 'resampled pixels (1px=10um)'\n",
    "\n",
    "ax1.imshow(ccf_img[:,:,zindex].T, cmap='gray')\n",
    "ax1.set_title('CCFv3 parcellation substructures - whole-brain')\n",
    "ax1.set_xlabel(xy_labels); ax1.set_ylabel(xy_labels)\n",
    "\n",
    "ax2.imshow(th_zi_img[:,:,zindex].T, cmap='gray')\n",
    "ax2.set_title('parcellation substructures - TH & ZI')\n",
    "ax2.set_xlabel(xy_labels)\n",
    "\n",
    "ax3.imshow(th_zi_mask[:,:,zindex].T, cmap='gray')\n",
    "ax3.set_title('TH+ZI binary mask')\n",
    "ax3.set_xlabel(xy_labels)\n",
    "\n",
    "plt.show()"
   ]
  },
  {
   "cell_type": "markdown",
   "metadata": {},
   "source": [
    "### 1c) Dilate TH+ZI binary mask by 20px (200um)\n",
    "Potentially misaligned TH or ZI cells were captured by dilating the binary mask \n",
    "by 20 pixels (200um)."
   ]
  },
  {
   "cell_type": "code",
   "execution_count": 12,
   "metadata": {},
   "outputs": [],
   "source": [
    "# 20px=200um\n",
    "th_zi_mask_dilated = cimg.sectionwise_dilation(th_zi_mask, distance_px=20)\n",
    "\n",
    "\n",
    "# display the subsetted image volume and TH+ZI binary mask\n",
    "fig, (ax1, ax2, ax3, ax4) = plt.subplots(1, 4, figsize=(20, 5))\n",
    "xy_labels = 'resampled pixels (1px=10um)'\n",
    "\n",
    "ax1.imshow(ccf_img[:,:,zindex].T, cmap='gray')\n",
    "ax1.set_title('CCFv3 parcellation substructures - whole-brain')\n",
    "ax1.set_xlabel(xy_labels); ax1.set_ylabel(xy_labels)\n",
    "\n",
    "ax2.imshow(th_zi_img[:,:,zindex].T, cmap='gray')\n",
    "ax2.set_title('parcellation substructures - TH & ZI')\n",
    "ax2.set_xlabel(xy_labels)\n",
    "\n",
    "ax3.imshow(th_zi_mask[:,:,zindex].T, cmap='gray')\n",
    "ax3.set_title('TH+ZI binary mask')\n",
    "ax3.set_xlabel(xy_labels)\n",
    "\n",
    "ax4.imshow(th_zi_mask_dilated[:,:,zindex].T, cmap='gray')\n",
    "ax4.set_title('TH+ZI binary mask, dilated by 20px')\n",
    "ax4.set_xlabel(xy_labels)\n",
    "\n",
    "plt.show()"
   ]
  },
  {
   "cell_type": "markdown",
   "metadata": {},
   "source": [
    "### 1d) Clean up the binary mask\n",
    "\n",
    "This step was implemented to correct a particular section (shown below)"
   ]
  },
  {
   "cell_type": "code",
   "execution_count": 13,
   "metadata": {},
   "outputs": [],
   "source": [
    "# clean up the binary mask to remove small, erroneous mask regions\n",
    "th_zi_mask_dilated_clean = cimg.cleanup_mask_regions(th_zi_mask_dilated, \n",
    "                                                     area_ratio_thresh=0.1)\n",
    "\n",
    "\n",
    "# display the subsetted image volume and TH+ZI binary mask\n",
    "zindex = 32\n",
    "fig, (ax1, ax2, ax3, ax4) = plt.subplots(1, 4, figsize=(20, 5))\n",
    "xy_labels = 'resampled pixels (1px=10um)'\n",
    "\n",
    "ax1.imshow(th_zi_img[:,:,zindex].T, cmap='gray')\n",
    "ax1.set_title('CCFv3 parcellation substructures - TH & ZI')\n",
    "ax1.set_xlabel(xy_labels); ax1.set_ylabel(xy_labels)\n",
    "\n",
    "ax2.imshow(th_zi_mask[:,:,zindex].T, cmap='gray')\n",
    "ax2.set_title('TH+ZI binary mask')\n",
    "ax2.set_xlabel(xy_labels)\n",
    "\n",
    "ax3.imshow(th_zi_mask_dilated[:,:,zindex].T, cmap='gray')\n",
    "ax3.set_title('TH+ZI binary mask, dilated by 20px')\n",
    "ax3.set_xlabel(xy_labels)\n",
    "\n",
    "ax4.imshow(th_zi_mask_dilated_clean[:,:,zindex].T, cmap='gray')\n",
    "ax4.set_title('TH+ZI binary mask, dilated, cleaned up')\n",
    "ax4.set_xlabel(xy_labels)\n",
    "\n",
    "plt.show()"
   ]
  },
  {
   "cell_type": "markdown",
   "metadata": {},
   "source": [
    "### 1e) Label & filter using spatial mask\n",
    "\n",
    "This reduces the dataset to 233,340 cells from 16 coronal sections."
   ]
  },
  {
   "cell_type": "code",
   "execution_count": 14,
   "metadata": {},
   "outputs": [],
   "source": [
    "# label cells that fall within the TH+ZI mask\n",
    "field_name='TH_ZI_dataset'\n",
    "coords = ['x_reconstructed','y_reconstructed','z_reconstructed']\n",
    "resolutions = np.array([10e-3, 10e-3, 200e-3])\n",
    "cells_df[field_name] = th_zi_mask_dilated_clean[cimg.image_index_from_coords(cells_df[coords], resolutions)]\n",
    "# cells_df = abc_load_base._label_masked_cells(cells_df, th_zi_mask_dilated, coords, resolutions, field_name=field_name)\n",
    "\n",
    "# filter out cells that do not fall within the TH+ZI mask\n",
    "th_zi_cells_df = cells_df[cells_df[field_name]].copy().drop(columns=[field_name])\n",
    "\n",
    "print(f'n_cells after spatial filtering: {th_zi_cells_df.shape[0]}')"
   ]
  },
  {
   "cell_type": "code",
   "execution_count": null,
   "metadata": {},
   "outputs": [],
   "source": []
  },
  {
   "cell_type": "code",
   "execution_count": 15,
   "metadata": {},
   "outputs": [],
   "source": [
    "sections_example_2 = [6.4, 7.2]\n",
    "\n",
    "# show dataset before any spatial filtering in two example sections\n",
    "plot_th_mask_with_cell_overlay(cells_df, th_zi_mask_dilated_clean, \n",
    "                               sections_example_2, trim_to_th=True,\n",
    "                               title='all cells in ABC Atlas whole-brain dataset')\n",
    "\n",
    "# show dataset before any spatial filtering in two example sections\n",
    "plot_th_mask_with_cell_overlay(th_zi_cells_df, th_zi_mask_dilated_clean, \n",
    "                               sections_example_2, trim_to_th=True,\n",
    "                               title='cells after filtering by TH+ZI mask')"
   ]
  },
  {
   "cell_type": "markdown",
   "metadata": {},
   "source": [
    "### 1f) Drop the anterior-most section and posterior-most section\n",
    "\n",
    "At this stage, we also filtered out all cells from the anterior-most section and \n",
    "the posterior-most section that contained TH and ZI cells due to poor alignment \n",
    "between the CCFv3 TH+ZI parcellation regions and cells mapping to thalamic cell \n",
    "types, as determined by visual inspection. This further reduced the dataset to \n",
    "227,417 cells and 14 coronal sections. "
   ]
  },
  {
   "cell_type": "code",
   "execution_count": 16,
   "metadata": {},
   "outputs": [],
   "source": [
    "z_sections = [8.4, 8.2, 5.0, 4.8]\n",
    "th_classes = abc.TH_ZI_CLASSES\n",
    "\n",
    "# Display the TH+ZI mask with the cells overlayed on top to show that TH cells \n",
    "# in sections 8.4 and 4.8 have poor overlap with the TH mask\n",
    "for z_sec in z_sections:\n",
    "    z_img = int(np.rint(z_sec/0.2))\n",
    "    sec_df = th_zi_cells_df[(th_zi_cells_df['z_reconstructed']==z_sec) & \n",
    "                            (th_zi_cells_df['class'].isin(th_classes))]\n",
    "    plt.imshow(th_zi_mask_dilated_clean[:,:,z_img].T, cmap='gray', extent=[0, 11, 11, 0])\n",
    "    sns.scatterplot(data=sec_df, x='x_reconstructed', y='y_reconstructed', s=5)\n",
    "    if (z_sec==8.4) | (z_sec==4.8):\n",
    "        plt.title(f'z_section={z_sec}\\n(section dropped)')\n",
    "    else:\n",
    "        plt.title(f'z_section={z_sec}\\n(section kept)')\n",
    "    plt.ylim(7, 4)\n",
    "    plt.xlim(2, 9)\n",
    "    plt.show()"
   ]
  },
  {
   "cell_type": "code",
   "execution_count": 17,
   "metadata": {},
   "outputs": [],
   "source": [
    "# anterior-most section that is dropped: z_section=8.4\n",
    "# posterior-most section that is dropped: z_section=4.8\n",
    "th_zi_cells_df = th_zi_cells_df.query(\"5.0 <= z_section <= 8.2\")\n",
    "\n",
    "print(f'n_cells after end section drop: {th_zi_cells_df.shape[0]}')"
   ]
  },
  {
   "cell_type": "markdown",
   "metadata": {},
   "source": [
    "## 2.) Cell-type filtering based on mapped subclasses\n",
    "\n",
    "We then filtered out cells based on their mapped cell types, using the class \n",
    "level of the scRNAseq hierarchical taxonomy. \n",
    "\n",
    "First, we filtered out cells belonging to the four non-neuronal classes \n",
    "('30 Astro-Epen', '31 OPC-Oligo', '33 Vascular', and '34 Immune'). \n",
    "\n",
    "We determined that nearly all neurons in the TH and ZI belonged to just 3 \n",
    "classes ('12 HY GABA', '17 MH-LH Glut', and '18 TH Glut'), with a small \n",
    "percentage of cells in the TH—including interneurons in the LGd—mapping to two \n",
    "midbrain classes ('19 MB Glut' and '20 MB GABA'). We then filtered out all \n",
    "neurons that did not belong to one of these five classes, which created a \n",
    "dataset with 92,923 neurons. "
   ]
  },
  {
   "cell_type": "code",
   "execution_count": 18,
   "metadata": {},
   "outputs": [],
   "source": [
    "# groups of classes are pre-defined in the `abc_load` module\n",
    "print(f'{abc.NN_CLASSES=}')\n",
    "print(f'{abc.TH_ZI_CLASSES=}')\n",
    "print(f'{abc.MB_CLASSES=}')"
   ]
  },
  {
   "cell_type": "code",
   "execution_count": 19,
   "metadata": {},
   "outputs": [],
   "source": [
    "th_zi_neurons_df = abc.filter_by_class_thalamus(th_zi_cells_df, \n",
    "                                                filter_nonneuronal=True,\n",
    "                                                filter_midbrain=False, \n",
    "                                                filter_other_nonTH=True)\n",
    "\n",
    "print(f'n_neurons after cell type filtering: {th_zi_neurons_df.shape[0]}')"
   ]
  },
  {
   "cell_type": "code",
   "execution_count": 20,
   "metadata": {},
   "outputs": [],
   "source": [
    "sections_example_2 = [6.4, 7.2]\n",
    "\n",
    "# show dataset after spatial filtering in two example sections\n",
    "plot_th_mask_with_cell_overlay(th_zi_cells_df, th_zi_mask_dilated_clean, \n",
    "                               sections_example_2, trim_to_th=True,\n",
    "                               title='cells after filtering by TH+ZI mask')\n",
    "\n",
    "# show dataset after filtering out just non-neuronal classes\n",
    "neurons_test_df = abc.filter_by_class(th_zi_cells_df, exclude=abc.NN_CLASSES)\n",
    "plot_th_mask_with_cell_overlay(neurons_test_df, th_zi_mask_dilated_clean, \n",
    "                               sections_example_2, trim_to_th=True,\n",
    "                               title='TH+ZI cells after filtering out non-neuronal cells')\n",
    "\n",
    "# show dataset after filtering out non-neuronal classes & non-TH, non-ZI, non-MB classes\n",
    "th_mb_test_df = abc.filter_by_class(th_zi_cells_df, exclude=abc.NN_CLASSES,\n",
    "                                    include=abc.TH_ZI_CLASSES+abc.MB_CLASSES)\n",
    "plot_th_mask_with_cell_overlay(th_mb_test_df, th_zi_mask_dilated_clean, \n",
    "                               sections_example_2, trim_to_th=True,\n",
    "                               title='TH+ZI cells after filtering out non-neuronal, other classes')\n",
    "\n",
    "# show dataset after filtering out non-neuronal classes & non-TH, non-ZI, non-MB classes\n",
    "th_mb_test_df = abc.filter_by_class(th_zi_cells_df, exclude=abc.NN_CLASSES,\n",
    "                                    include=abc.TH_ZI_CLASSES+['20 MB GABA'])\n",
    "plot_th_mask_with_cell_overlay(th_mb_test_df, th_zi_mask_dilated_clean, \n",
    "                               sections_example_2, trim_to_th=True,\n",
    "                               title='TH+ZI cells after filtering out non-neuronal, other, MB Glut classes')\n",
    "\n",
    "# show dataset after filtering out non-neuronal classes, MB classes, and non-TH & non-ZI classes\n",
    "th_test_df = abc.filter_by_class(th_zi_cells_df, exclude=abc.NN_CLASSES,\n",
    "                                 include=abc.TH_ZI_CLASSES)\n",
    "plot_th_mask_with_cell_overlay(th_test_df, th_zi_mask_dilated_clean, \n",
    "                               sections_example_2, trim_to_th=True,\n",
    "                               title='TH+ZI cells after filtering out non-neuronal, midbrain, other classes')"
   ]
  },
  {
   "cell_type": "markdown",
   "metadata": {},
   "source": [
    "## 3.) Spatial Refinement\n",
    "\n",
    "We did a final spatial refinement step to filter the remaining cells by the same \n",
    "anatomical annotation image volume as before, but this time with the dilation \n",
    "buffer set to 0 pixels. \n",
    "\n",
    "This produced our final TH+ZI neuronal subset of the ABC Atlas with 92,923 neurons in 14 coronal sections. "
   ]
  },
  {
   "cell_type": "code",
   "execution_count": 21,
   "metadata": {},
   "outputs": [],
   "source": [
    "th_zi_neurons_df_FINAL = abc.filter_by_thalamus_coords(th_zi_neurons_df, \n",
    "                                                       buffer=0  # 0 pixels (1px=10um)\n",
    "                                                       )\n",
    "\n",
    "print(f'n_neurons after spatial refinement (final TH+ZI dataset): {th_zi_neurons_df_FINAL.shape[0]}')"
   ]
  },
  {
   "cell_type": "code",
   "execution_count": 22,
   "metadata": {},
   "outputs": [],
   "source": [
    "sections_th_all = sorted(th_zi_neurons_df_FINAL['z_section'].unique())\n",
    "\n",
    "# show dataset after spatial filtering in two example sections\n",
    "plot_th_mask_with_cell_overlay(th_zi_neurons_df_FINAL, th_zi_mask, \n",
    "                               sections_th_all, trim_to_th=True, show_mask=False,\n",
    "                               title='Final TH+ZI subset of the ABC Atlas')"
   ]
  }
 ],
 "metadata": {
  "kernelspec": {
   "display_name": "Python 3 (ipykernel)",
   "language": "python",
   "name": "python3"
  },
  "language_info": {
   "codemirror_mode": {
    "name": "ipython",
    "version": 3
   },
   "file_extension": ".py",
   "mimetype": "text/x-python",
   "name": "python",
   "nbconvert_exporter": "python",
   "pygments_lexer": "ipython3",
   "version": "3.9.12"
  },
  "vscode": {
   "interpreter": {
    "hash": "d4d1e4263499bec80672ea0156c357c1ee493ec2b1c70f0acce89fc37c4a6abe"
   }
  }
 },
 "nbformat": 4,
 "nbformat_minor": 4
}
