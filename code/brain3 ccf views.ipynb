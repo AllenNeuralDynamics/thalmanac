{
 "cells": [
  {
   "cell_type": "code",
   "execution_count": 1,
   "id": "b21f526e-a5f1-4af5-9605-bfa01ee161bf",
   "metadata": {},
   "outputs": [],
   "source": [
    "import anndata as ad\n",
    "import pandas as pd\n",
    "import shapely\n",
    "import shapely.plotting as splot\n",
    "import matplotlib.pyplot as plt\n",
    "import seaborn as sns\n",
    "import numpy as np\n",
    "\n",
    "%matplotlib inline\n",
    "\n",
    "sns.set_style('white')"
   ]
  },
  {
   "cell_type": "code",
   "execution_count": 2,
   "id": "fb170ed4-9f53-4a13-afc3-be84c4f4d370",
   "metadata": {},
   "outputs": [],
   "source": [
    "import warnings\n",
    "warnings.filterwarnings('ignore', category=UserWarning)\n",
    "warnings.filterwarnings('ignore', category=FutureWarning)"
   ]
  },
  {
   "cell_type": "code",
   "execution_count": 3,
   "id": "df778415-c2ec-4ea0-891d-3495b3451788",
   "metadata": {},
   "outputs": [],
   "source": [
    "adata = ad.read_h5ad(\"../data/merfish_638850_AIT17.custom_CCF_annotated_TH_ZI_only_2023-05-04_00-00-00/atlas_brain_638850_AIT17_custom_CCF_annotated_TH_ZI_only.h5ad\")\n",
    "adata"
   ]
  },
  {
   "cell_type": "code",
   "execution_count": 4,
   "id": "68bb00da-d2fc-4a88-bbac-46750cc25219",
   "metadata": {},
   "outputs": [],
   "source": [
    "# nice to have everything for plotting in the obs dataframe\n",
    "adata.obs['cirro_x'] = adata.obsm['spatial_cirro'][:,0]\n",
    "adata.obs['cirro_y'] = adata.obsm['spatial_cirro'][:,1]"
   ]
  },
  {
   "cell_type": "markdown",
   "id": "6f96a821-abaf-4240-9958-5f4b68af5e7b",
   "metadata": {},
   "source": [
    "# define and view CCF polygons"
   ]
  },
  {
   "cell_type": "markdown",
   "id": "9d3df1fd-224b-4c0e-8cb9-fe46366760a7",
   "metadata": {},
   "source": [
    "## calc polygons"
   ]
  },
  {
   "cell_type": "code",
   "execution_count": 111,
   "id": "bb1ece4d-e995-44dd-a189-58674ec91f17",
   "metadata": {},
   "outputs": [],
   "source": [
    "import hdbscan\n",
    "\n",
    "from collections import defaultdict\n",
    "from shapely.ops import unary_union\n",
    "from sklearn.cluster import OPTICS, DBSCAN, k_means\n",
    "\n",
    "def poly_from_points(X, min_points=0, allow_holes=False):\n",
    "    if X.shape[0] < min_points:\n",
    "        return None\n",
    "    poly = shapely.concave_hull(shapely.multipoints(X), allow_holes=allow_holes, ratio=0.3)\n",
    "    if type(poly) is shapely.Polygon:\n",
    "        return poly\n",
    "    else:\n",
    "        return None"
   ]
  },
  {
   "cell_type": "code",
   "execution_count": 105,
   "id": "dc0d304d-fd18-4e5b-835c-b08f2342c2f4",
   "metadata": {},
   "outputs": [],
   "source": [
    "ccf_th_names = ['AD', 'AMd', 'AMv', 'AV', 'CL', 'CM', 'Eth', 'FF', 'IAD', 'IAM', 'IGL', 'IMD', 'IntG', 'LD', 'LGd-co', 'LGd-ip', 'LGd-sh', \n",
    "                'LGv', 'LH', 'LP', 'MD', 'MGd', 'MGm', 'MGv', 'MH', 'PCN', 'PF', 'PIL', 'PO', 'POL', 'PP', 'PR', 'PT', 'PVT', 'PoT', \n",
    "                'RE', 'RH', 'RT', 'SGN', 'SMT', 'SPA', 'SPFp', 'SubG', 'VAL', 'VM', 'VPL', 'VPLpc', 'VPM', 'VPMpc', 'Xi', 'ZI']"
   ]
  },
  {
   "cell_type": "code",
   "execution_count": 112,
   "id": "3212e603-5db4-4c78-b285-d75c3f9ad2f7",
   "metadata": {},
   "outputs": [],
   "source": [
    "def split_cells_clustering(X):\n",
    "    clusters = hdbscan.HDBSCAN(min_samples=10).fit_predict(X)\n",
    "    return [X[clusters==i, :] for i in set(clusters) if not i==-1]\n",
    "\n",
    "def split_cells_midline(X, midline_gap=100):\n",
    "    centroids, _, _ = k_means(X, 2, n_init=5)\n",
    "    midpoint = np.mean(centroids, 0)[0]\n",
    "    if np.min(np.abs(X[:,0] - midpoint)) > midline_gap:\n",
    "        left = X[X[:,0] < midpoint]\n",
    "        right = X[X[:,0] > midpoint]\n",
    "        return [left, right]\n",
    "    else:\n",
    "        return [X]\n",
    "\n",
    "def get_polygon_from_obs(df, min_points=50, split_clusters=True):\n",
    "    X = df[['cirro_x','cirro_y']].values\n",
    "    if X.shape[0] > min_points:\n",
    "        if split_clusters:\n",
    "            groups = split_cells_clustering(X)\n",
    "        else:\n",
    "            groups = split_cells_midline(X)\n",
    "        if len(groups)>0:\n",
    "            return unary_union([poly_from_points(x, allow_holes=not split_clusters) for x in groups])\n",
    "        else:\n",
    "            return None\n",
    "                \n",
    "def get_ccf_polygons(data, min_points=50, midline_gap=100):\n",
    "    ccf_polygons = defaultdict(dict)  \n",
    "    for (name, section), df in data.groupby(['CCF_acronym', 'section']):\n",
    "        poly = get_polygon_from_obs(df, min_points, split_clusters=name not in ccf_th_names)\n",
    "        if poly is not None:\n",
    "            ccf_polygons[name][section] = poly\n",
    "    return ccf_polygons"
   ]
  },
  {
   "cell_type": "code",
   "execution_count": 113,
   "id": "119a19c8-a706-4dd8-a04a-075a18300013",
   "metadata": {},
   "outputs": [],
   "source": [
    "ccf_polygons = get_ccf_polygons(adata.obs)"
   ]
  },
  {
   "cell_type": "code",
   "execution_count": 114,
   "id": "850036b8-3320-4d21-94bc-6b7f7c4d274f",
   "metadata": {},
   "outputs": [],
   "source": [
    "ccf_polygons_th_zi = {x: ccf_polygons[x] for x in ccf_th_names}"
   ]
  },
  {
   "cell_type": "markdown",
   "id": "20ac8639-b39b-4557-ac16-dd35cd40ebd1",
   "metadata": {},
   "source": [
    "## view all slices with polygons and labeled points"
   ]
  },
  {
   "cell_type": "code",
   "execution_count": 132,
   "id": "bbfa4fe9-c6e6-4f73-ba31-9884c54094ed",
   "metadata": {},
   "outputs": [],
   "source": [
    "def plot_shape(poly, **kwargs):\n",
    "    edgecolor='black'\n",
    "    if type(poly) is shapely.GeometryCollection:\n",
    "        for subpoly in poly.geoms:\n",
    "            patch = splot.plot_polygon(subpoly, add_points=False, edgecolor=edgecolor, **kwargs)\n",
    "    else:\n",
    "        patch = splot.plot_polygon(poly, add_points=False, edgecolor=edgecolor, **kwargs)\n",
    "    return patch\n",
    "\n",
    "import colorcet as cc\n",
    "def plot_ccf_section(ccf_polygons, section, highlight=[], palette=None, labels=True, bg_shapes=True, ax=None):\n",
    "    ccf_names = ccf_polygons.keys()\n",
    "    if palette is None:\n",
    "        palette = dict(zip(ccf_names, sns.color_palette(cc.glasbey, n_colors=len(ccf_names))))\n",
    "    elif palette=='bw':\n",
    "        palette = {x: '#BBBBBB' for x in ccf_names}\n",
    "    if highlight=='all':\n",
    "        highlight = ccf_names\n",
    "    patches = []\n",
    "    if bg_shapes:\n",
    "        for i, name in enumerate(ccf_names):\n",
    "            if section in ccf_polygons[name] and name not in highlight:\n",
    "                patches.append(plot_shape(ccf_polygons[name][section], color=palette[name], ax=ax, \n",
    "                                alpha=0.1, label=name if labels else None))\n",
    "    for name in highlight:\n",
    "        if section in ccf_polygons[name]:\n",
    "            patches.append(plot_shape(ccf_polygons[name][section], color=palette[name], ax=ax,\n",
    "                                alpha=0.4, label=name if labels else None))\n",
    "    return patches\n",
    "\n",
    "def plot_ccf_overlay(obs, ccf_polygons, sections=None, point_hue='CCF_acronym', legend='cells', min_group_count=10, highlight=[], \n",
    "                     outlines_only=False, bg_cells=None, bg_shapes=True, axes=False):\n",
    "    obs = obs.copy()\n",
    "    if sections is None:\n",
    "        sections = obs['section'].unique()\n",
    "    else:\n",
    "        ccf_polygons = {x: y for x, y in ccf_polygons.items() \n",
    "                        if len(sections & y.keys()) > 0}\n",
    "    ccf_names = ccf_polygons.keys()\n",
    "    shape_palette = 'bw' if outlines_only else dict(zip(ccf_names, sns.color_palette(cc.glasbey, n_colors=len(ccf_names))))\n",
    "    \n",
    "#     string rep allows adding 'other'\n",
    "    obs[point_hue] = obs[point_hue].astype(str)\n",
    "    point_group_names = obs[point_hue].value_counts().loc[lambda x: x>min_group_count].index\n",
    "    obs = obs.loc[lambda df: df[point_hue].isin(point_group_names)]\n",
    "    \n",
    "    if point_hue == 'CCF_acronym':\n",
    "        point_palette = shape_palette.copy()\n",
    "        extra_names = point_group_names.difference(ccf_names)\n",
    "        extra_palette = dict(zip(extra_names, sns.color_palette(cc.glasbey, n_colors=len(point_group_names))[-len(extra_names):]))\n",
    "        point_palette.update(extra_palette)\n",
    "    else:\n",
    "        point_palette = dict(zip(point_group_names, sns.color_palette(cc.glasbey, n_colors=len(point_group_names))))\n",
    "    point_palette.update(other='grey')\n",
    "    \n",
    "    for section in sections:\n",
    "        secdata = obs.loc[lambda df: (df['section']==section)].copy() #& df['CCF_acronym'].isin(ccf_names)]\n",
    "        if len(secdata) < min_group_count:\n",
    "            continue\n",
    "        print(section)\n",
    "        fig, ax = plt.subplots(figsize=(8,4))\n",
    "        \n",
    "        patches = plot_ccf_section(ccf_polygons, section, highlight=highlight, palette=shape_palette, bg_shapes=bg_shapes,\n",
    "                                   labels=legend in ['ccf', 'both'], ax=ax)\n",
    "        \n",
    "        if bg_cells is not None:\n",
    "            sns.scatterplot(bg_cells.loc[lambda df: (df['section']==section)], x='cirro_x', y='cirro_y', c='grey', s=2, alpha=0.5)\n",
    "        # lump small groups if legend list is too long\n",
    "        sec_group_counts = secdata[point_hue].value_counts(ascending=True)\n",
    "        if len(sec_group_counts) > 10:\n",
    "            point_groups_section = sec_group_counts.loc[lambda x: x>min_group_count].index\n",
    "            secdata.loc[lambda df: ~df[point_hue].isin(point_groups_section), point_hue] = 'other'\n",
    "        secdata[point_hue] = pd.Categorical(secdata[point_hue])\n",
    "        \n",
    "        sns.scatterplot(secdata, x='cirro_x', y='cirro_y', hue=point_hue, s=2, palette=point_palette, legend=legend in ['cells', 'both'])\n",
    "        if legend:\n",
    "            plt.legend(ncols=2, loc='upper center', bbox_to_anchor=(0.5, 0))\n",
    "        plt.axis('image')\n",
    "        if not axes:\n",
    "            sns.despine(left=True, bottom=True)\n",
    "            plt.xticks([])\n",
    "            plt.yticks([])\n",
    "        plt.xlabel('')\n",
    "        plt.ylabel('')\n",
    "        plt.show()\n",
    "            "
   ]
  },
  {
   "cell_type": "code",
   "execution_count": 115,
   "id": "524fe171-736f-4e00-a530-3274eecc34e1",
   "metadata": {
    "scrolled": true,
    "tags": []
   },
   "outputs": [],
   "source": [
    "plot_ccf_overlay(adata.obs, ccf_polygons)"
   ]
  },
  {
   "cell_type": "markdown",
   "id": "bf54ab17-8dcd-4331-b24e-f7cc89368396",
   "metadata": {},
   "source": [
    "### define thalamus subset (requires atlas download)\n",
    "\n",
    "can skip now, result saved"
   ]
  },
  {
   "cell_type": "code",
   "execution_count": 11,
   "id": "2d2004d9-b9e3-47ca-aa54-5a2d0a88514e",
   "metadata": {},
   "outputs": [],
   "source": [
    "# import urllib.request, json \n",
    "# with urllib.request.urlopen(\"http://api.brain-map.org/api/v2/structure_graph_download/1.json\") as url:\n",
    "#     atlas = json.load(url)['msg']"
   ]
  },
  {
   "cell_type": "code",
   "execution_count": 12,
   "id": "7c86d77f-dc81-4819-9cb2-5c5b5fc9600d",
   "metadata": {},
   "outputs": [],
   "source": [
    "from bg_atlasapi.bg_atlas import BrainGlobeAtlas\n",
    "atlas = BrainGlobeAtlas(\"allen_mouse_100um\", brainglobe_dir='/scratch/brainglobe/')"
   ]
  },
  {
   "cell_type": "code",
   "execution_count": 13,
   "id": "e123fb5f-e7b8-49c3-9c7c-fdd892004845",
   "metadata": {},
   "outputs": [],
   "source": [
    "ccf_polygons_th_zi = {x: ccf_polygons[x] for x in ccf_polygons.keys() \n",
    "                      #549: thalamus, 797: ZI\n",
    "                      if (549 in atlas.structures[x]['structure_id_path'] \n",
    "                          and not 549==atlas.structures[x]['structure_id_path'][-1])\n",
    "                      or 797 in atlas.structures[x]['structure_id_path']\n",
    "                     }"
   ]
  },
  {
   "cell_type": "code",
   "execution_count": 14,
   "id": "aecd2f10-8648-4373-9bc7-ac63919414f3",
   "metadata": {},
   "outputs": [],
   "source": [
    "len(ccf_polygons_th_zi)"
   ]
  },
  {
   "cell_type": "markdown",
   "id": "9da8bb6c-2ba8-4e92-a1d9-ecd84dc408a5",
   "metadata": {},
   "source": [
    "## view thalamus subset with subclass labels"
   ]
  },
  {
   "cell_type": "code",
   "execution_count": 116,
   "id": "84cb7d8c-7055-4d3e-a05d-e0b130821c9a",
   "metadata": {
    "scrolled": true,
    "tags": []
   },
   "outputs": [],
   "source": [
    "# may need to tweak clustering params on fine \n",
    "plot_ccf_overlay(adata.obs.loc[[],:], ccf_polygons_th_zi, sections=adata.obs['section'].unique(), highlight='all', \n",
    "                 bg_cells=adata_neuronal.obs, bg_shapes=True, min_group_count=0, legend=False)"
   ]
  },
  {
   "cell_type": "code",
   "execution_count": 118,
   "id": "68607550-f2a1-4984-8829-78e04fa30b6d",
   "metadata": {
    "scrolled": true,
    "tags": []
   },
   "outputs": [],
   "source": [
    "plot_ccf_overlay(adata_neuronal.obs, ccf_polygons_th_zi, highlight=ccf_th_names, point_hue='subclass_id_label', legend=False, outlines_only=True)"
   ]
  },
  {
   "cell_type": "markdown",
   "id": "e6059d52-ef34-4e20-be15-9ce9d592652e",
   "metadata": {},
   "source": [
    "# Investigate prong 1 cluster-nucleus groups"
   ]
  },
  {
   "cell_type": "code",
   "execution_count": 20,
   "id": "1ce5008d-48df-4be3-aa2e-8952af892f53",
   "metadata": {
    "tags": []
   },
   "outputs": [],
   "source": [
    "nuclei_df = pd.read_csv(\"../resources/Prong 1 Vitessce links by nucleus.csv\", index_col=0)"
   ]
  },
  {
   "cell_type": "code",
   "execution_count": 82,
   "id": "b8713b48-36af-4549-b822-5750d3003198",
   "metadata": {},
   "outputs": [],
   "source": [
    "def get_obs_from_annotated_clusters(name, adata, nuclei_df):\n",
    "    clusters = nuclei_df.loc[name, \"annotated clusters\"].split(', ')\n",
    "    obs = adata.obs.loc[lambda df: df['cluster_label'].str[:4].isin(clusters)]\n",
    "    return obs\n",
    "\n",
    "def plot_nucleus_cluster_comparison_slices(obs, ccf_polygons, nuclei, bg_cells=None, bg_shapes=True, legend='cells', **kwargs):\n",
    "    sections_points = obs['section'].value_counts().loc[lambda x: x>10].index\n",
    "    nuclei = [nuclei] if type(nuclei) is str else nuclei\n",
    "    sections_nuclei = set.union(*[set(ccf_polygons[x].keys()) for x in nuclei])\n",
    "    sections = sorted(sections_nuclei.union(sections_points))\n",
    "    plot_ccf_overlay(obs, ccf_polygons, sections, point_hue='cluster_label', legend=legend, highlight=nuclei, bg_cells=bg_cells, bg_shapes=bg_shapes, **kwargs)"
   ]
  },
  {
   "cell_type": "code",
   "execution_count": 22,
   "id": "853787df-c288-4bc1-ac3d-31feb84705c8",
   "metadata": {},
   "outputs": [],
   "source": [
    "adata_neuronal = adata[adata.obs[\"division_id_label\"].isin([\"3 PAL-sAMY-TH-HY-MB-HB neuronal\",\"2 Subpallium GABAergic\",\"4 CBX-MOB-other neuronal\"])].copy()\n",
    "# cluster_id as string to simplify querying\n",
    "adata_neuronal.obs['cluster_id'] = pd.Categorical(adata_neuronal.obs['cluster_id'].astype(int).astype(str))"
   ]
  },
  {
   "cell_type": "markdown",
   "id": "58d01918-e6e5-443d-9b74-59e287301a8e",
   "metadata": {},
   "source": [
    "## VM"
   ]
  },
  {
   "cell_type": "code",
   "execution_count": 23,
   "id": "d9bcbfe5-5eae-4e86-bfd0-818e7a2db1e8",
   "metadata": {
    "scrolled": true,
    "tags": []
   },
   "outputs": [],
   "source": [
    "# obs = get_obs_from_annotated_clusters('VM', adata, nuclei_df)\n",
    "obs = adata_neuronal.obs.query(\"cluster_label=='1142 TH Prkcd Grin2c Glut_13'\")\n",
    "plot_nucleus_cluster_comparison_slices(obs, ccf_polygons_th_zi, nuclei=['VM', 'VAL'], legend='both', bg_cells=adata_neuronal.obs, bg_shapes=False)"
   ]
  },
  {
   "cell_type": "code",
   "execution_count": 24,
   "id": "ef97153f-b284-42e6-bc43-11c9888fcc62",
   "metadata": {},
   "outputs": [],
   "source": [
    "obs = adata_neuronal.obs.query(\"supertype_label=='TH Prkcd Grin2c Glut_13'\")\n",
    "obs['cluster_label'].value_counts().loc[lambda x: x>5]"
   ]
  },
  {
   "cell_type": "code",
   "execution_count": 92,
   "id": "6bd81b2f-c28f-46cd-a180-501b86e2f32d",
   "metadata": {
    "scrolled": true,
    "tags": []
   },
   "outputs": [],
   "source": [
    "# remove 1140? annotated as VPMpc\n",
    "clusters = ['1138', '1141', '1142']\n",
    "obs = adata.obs.loc[lambda df: df['cluster_label'].str[:4].isin(clusters)]\n",
    "plot_nucleus_cluster_comparison_slices(obs, ccf_polygons_th_zi, nuclei=['VM'], legend='cells', bg_cells=adata_neuronal.obs, bg_shapes=False, outlines_only=True)"
   ]
  },
  {
   "cell_type": "markdown",
   "id": "82a27e61-d95a-4814-96fa-cfda2c1ef989",
   "metadata": {},
   "source": [
    "### diff exp"
   ]
  },
  {
   "cell_type": "code",
   "execution_count": 26,
   "id": "86c752c2-e00f-4954-91f2-cad4562c347b",
   "metadata": {},
   "outputs": [],
   "source": [
    "import scanpy as sc"
   ]
  },
  {
   "cell_type": "code",
   "execution_count": 27,
   "id": "cbd366e0-26fb-46c5-90fa-a07a3c7bfe68",
   "metadata": {},
   "outputs": [],
   "source": [
    "sc.tl.rank_genes_groups(adata_neuronal, 'cluster_id', groups=['1142'], reference='1138', method='wilcoxon', rankby_abs=True)\n",
    "sc.pl.rank_genes_groups(adata_neuronal, n_genes=20)"
   ]
  },
  {
   "cell_type": "code",
   "execution_count": 28,
   "id": "7a6fd150-e28b-47d4-b204-337f1d174bbe",
   "metadata": {},
   "outputs": [],
   "source": [
    "adata_neuronal"
   ]
  },
  {
   "cell_type": "code",
   "execution_count": 120,
   "id": "e0296627-c778-42a9-b680-7a15923c2e33",
   "metadata": {},
   "outputs": [],
   "source": [
    "def plot_expression_ccf(adata_neuronal, section, gene, polygons, nuclei=[], bg_shapes=False, axes=False):\n",
    "    subset = adata_neuronal[adata_neuronal.obs.query(f\"section=='{section}'\").index]\n",
    "    fig, ax = plt.subplots(figsize=(8,4))\n",
    "    plot_ccf_section(ccf_polygons_th_zi, section, highlight=nuclei, bg_shapes=bg_shapes, ax=ax, palette='bw')\n",
    "\n",
    "    x, y = subset.obsm['spatial_cirro'].T\n",
    "    c = subset[:,gene].X.toarray().squeeze()\n",
    "    im = plt.scatter(x=x, y=y, c=c, s=2, cmap='magma')\n",
    "    plt.colorbar(label=\"log2(CPM+1)\")\n",
    "    plt.axis('image')\n",
    "    plt.title(gene)\n",
    "    if not axes:\n",
    "        # sns.despine(left=True, bottom=True)\n",
    "        plt.xticks([])\n",
    "        plt.yticks([])\n",
    "    plt.xlabel('')\n",
    "    plt.ylabel('')\n",
    "    plt.show()"
   ]
  },
  {
   "cell_type": "code",
   "execution_count": 133,
   "id": "18d7ed38-fe8f-44b4-bb12-e42aefb79e3f",
   "metadata": {},
   "outputs": [],
   "source": [
    "section='1199651048'\n",
    "\n",
    "gene = \"Calb1\"\n",
    "nuclei=['VM', 'VAL']\n",
    "plot_expression_ccf(adata_neuronal, section, gene, ccf_polygons, nuclei=nuclei, bg_shapes=False)"
   ]
  },
  {
   "cell_type": "code",
   "execution_count": 134,
   "id": "636f2ab8-a3d9-45ef-984f-6049851626c0",
   "metadata": {},
   "outputs": [],
   "source": [
    "section='1199651048'\n",
    "\n",
    "gene = \"Necab1\"\n",
    "nuclei=['VM', 'VAL']\n",
    "plot_expression_ccf(adata_neuronal, section, gene, ccf_polygons, nuclei=nuclei, bg_shapes=False)"
   ]
  },
  {
   "cell_type": "code",
   "execution_count": 31,
   "id": "a4886fc8-03fb-443b-9ea4-1ad7d0802302",
   "metadata": {},
   "outputs": [],
   "source": [
    "sc.tl.rank_genes_groups(adata_neuronal, 'supertype_label', groups=['TH Prkcd Grin2c Glut_13'], method='wilcoxon', tie_correct=True)\n",
    "sc.pl.rank_genes_groups(adata_neuronal, n_genes=20)"
   ]
  },
  {
   "cell_type": "code",
   "execution_count": 32,
   "id": "4055869a-5409-41e4-9bb3-dd12196b89c2",
   "metadata": {},
   "outputs": [],
   "source": [
    "sc.tl.rank_genes_groups(adata_neuronal, 'cluster_id', groups=['1142'], method='wilcoxon', tie_correct=True)\n",
    "sc.pl.rank_genes_groups(adata_neuronal, n_genes=20)"
   ]
  },
  {
   "cell_type": "code",
   "execution_count": 135,
   "id": "9e0a9a2a-2735-4e21-b735-80bc358a0ae9",
   "metadata": {
    "tags": []
   },
   "outputs": [],
   "source": [
    "# ISH diff ex search\n",
    "# https://mouse.brain-map.org/gene/show/87708\n",
    "\n",
    "section='1199651048'\n",
    "\n",
    "gene = \"Galnt18\"\n",
    "nuclei=['VM', 'VAL']\n",
    "plot_expression_ccf(adata_neuronal, section, gene, ccf_polygons, nuclei=nuclei, bg_shapes=False)"
   ]
  },
  {
   "cell_type": "code",
   "execution_count": 136,
   "id": "be76998b-dcbe-477b-82bf-39ddd9371452",
   "metadata": {},
   "outputs": [],
   "source": [
    "section='1199651057'\n",
    "plot_expression_ccf(adata_neuronal, section, gene, ccf_polygons, nuclei=nuclei, bg_shapes=False)"
   ]
  },
  {
   "cell_type": "code",
   "execution_count": 137,
   "id": "9fa6b6ab-6ff2-4d8d-bd1b-e44e70b9fab3",
   "metadata": {
    "tags": []
   },
   "outputs": [],
   "source": [
    "\n",
    "gene = \"Stxbp6\"\n",
    "nuclei=['VM', 'VAL']\n",
    "plot_expression_ccf(adata_neuronal, section, gene, ccf_polygons, nuclei=nuclei, bg_shapes=False)"
   ]
  },
  {
   "cell_type": "code",
   "execution_count": 138,
   "id": "ecde0be8-6f82-4080-9993-265db50fc801",
   "metadata": {},
   "outputs": [],
   "source": [
    "section='1199651048'\n",
    "\n",
    "gene = \"Spon1\"\n",
    "nuclei=['VM', 'VAL']\n",
    "plot_expression_ccf(adata_neuronal, section, gene, ccf_polygons, nuclei=nuclei, bg_shapes=False)"
   ]
  },
  {
   "cell_type": "code",
   "execution_count": 139,
   "id": "6e9032f5-eb3d-4909-aff8-87460926e605",
   "metadata": {},
   "outputs": [],
   "source": [
    "section='1199651057'\n",
    "plot_expression_ccf(adata_neuronal, section, gene, ccf_polygons, nuclei=nuclei, bg_shapes=False)"
   ]
  },
  {
   "cell_type": "markdown",
   "id": "899d185b-f893-4956-b7df-48c9c441b744",
   "metadata": {
    "tags": []
   },
   "source": [
    "### outlining VM / composition"
   ]
  },
  {
   "cell_type": "code",
   "execution_count": 39,
   "id": "34d79cd3-b91c-4a8b-b77e-38239d8ec895",
   "metadata": {},
   "outputs": [],
   "source": [
    "import geopandas as gp\n",
    "neuron_points = gp.GeoSeries.from_xy(*adata_neuronal.obsm['spatial_cirro'].T, index=adata_neuronal.obs_names)"
   ]
  },
  {
   "cell_type": "code",
   "execution_count": 40,
   "id": "efa02d54-fa77-4aec-aacb-73ec210f07b1",
   "metadata": {},
   "outputs": [],
   "source": [
    "adata_vm = adata[adata.obs.query(\"section=='1199651048' & cluster_id==1142\").index].copy()\n",
    "df = adata_vm.obs\n",
    "X = df[['cirro_x','cirro_y']].values\n",
    "df['spatial_cluster'] = hdbscan.HDBSCAN(min_samples=10).fit_predict(X)\n",
    "core_clusters = df['spatial_cluster'].value_counts().index[:2]\n",
    "df['spatial_group'] = df['spatial_cluster'].apply(lambda x: 'core' if x in core_clusters else 'other')"
   ]
  },
  {
   "cell_type": "code",
   "execution_count": 41,
   "id": "7e41f57f-2b03-4752-bec8-6112c087f34e",
   "metadata": {},
   "outputs": [],
   "source": [
    "df['spatial_group'].value_counts()"
   ]
  },
  {
   "cell_type": "code",
   "execution_count": 42,
   "id": "1903b71f-5d5b-435e-9dfd-48651ce85a48",
   "metadata": {},
   "outputs": [],
   "source": [
    "sns.scatterplot(data=df,  x='cirro_x', y='cirro_y', hue='spatial_cluster', s=4,  legend=True, palette='tab10')"
   ]
  },
  {
   "cell_type": "code",
   "execution_count": 43,
   "id": "6a550495-7f21-408f-b008-c759904383c1",
   "metadata": {},
   "outputs": [],
   "source": [
    "nucleus = get_polygon_from_obs(df.query(\"spatial_group=='core'\"))\n",
    "subset = neuron_points.geometry.intersects(nucleus)\n",
    "adata_neuronal.obs['in_nucleus'] = subset.values\n",
    "adata_nucleus = adata_neuronal[subset]"
   ]
  },
  {
   "cell_type": "code",
   "execution_count": 44,
   "id": "a5bc5663-877d-468f-9792-d6519a21710c",
   "metadata": {},
   "outputs": [],
   "source": [
    "# sc.pl.embedding(adata_nucleus, \"spatial_cirro\", color=\"supertype_label\")\n",
    "sc.pl.embedding(adata_nucleus, \"spatial_cirro\", color=\"cluster_label\", s=20)"
   ]
  },
  {
   "cell_type": "code",
   "execution_count": 45,
   "id": "bea5e4ac-1b41-4450-8b81-3c95b590d9d1",
   "metadata": {},
   "outputs": [],
   "source": [
    "adata_neuronal.obs.query(\"section=='1199651048' & supertype_label=='TH Prkcd Grin2c Glut_13'\").groupby(['cluster_label'])['in_nucleus'].apply(lambda x: x.value_counts())"
   ]
  },
  {
   "cell_type": "code",
   "execution_count": 46,
   "id": "c9f19460-4f9d-4665-b8d5-6884cbf2dce0",
   "metadata": {},
   "outputs": [],
   "source": [
    "# need to include VAL types ??"
   ]
  },
  {
   "cell_type": "code",
   "execution_count": 47,
   "id": "e12814fd-1a2c-466e-b717-4d80554f14e9",
   "metadata": {
    "tags": []
   },
   "outputs": [],
   "source": [
    "sc.tl.rank_genes_groups(adata_vm, 'spatial_group', groups=['core'], reference='other', method='wilcoxon', rankby_abs=True)\n",
    "sc.pl.rank_genes_groups(adata_vm, groups=['core'], n_genes=20)"
   ]
  },
  {
   "cell_type": "markdown",
   "id": "cf934f53-f634-4e39-bad1-57c31fd4d46a",
   "metadata": {},
   "source": [
    "## anterior"
   ]
  },
  {
   "cell_type": "code",
   "execution_count": 76,
   "id": "00f4bf3e-4db3-4319-adec-aa0ff27930a6",
   "metadata": {},
   "outputs": [],
   "source": [
    "nuclei=['AD', 'AV', 'AMd', 'AMv']\n",
    "section = '1199651060'\n",
    "# plot_ccf_section(ccf_polygons_th_zi, section, highlight=nuclei, )\n",
    "plot_ccf_overlay(adata.obs.loc[[],:], ccf_polygons_th_zi, sections=[section], highlight=nuclei, legend='both', bg_cells=adata_neuronal.obs, bg_shapes=True, min_group_count=0)"
   ]
  },
  {
   "cell_type": "code",
   "execution_count": 87,
   "id": "5be709c9-9782-409e-82ad-95bf71c0a8b0",
   "metadata": {
    "scrolled": true,
    "tags": []
   },
   "outputs": [],
   "source": [
    "clusters = [str(x) for x in list(range(1169, 1171+1)) + list(range(1095, 1098+1))]\n",
    "obs = adata.obs.loc[lambda df: df['cluster_label'].str[:4].isin(clusters)]\n",
    "\n",
    "plot_nucleus_cluster_comparison_slices(obs, ccf_polygons_th_zi, nuclei=nuclei, legend='cells', bg_cells=adata_neuronal.obs, bg_shapes=False, outlines_only=True)"
   ]
  },
  {
   "cell_type": "code",
   "execution_count": 49,
   "id": "57351b66-0a81-4c9d-a997-46d736ba8878",
   "metadata": {
    "scrolled": true,
    "tags": []
   },
   "outputs": [],
   "source": [
    "# plot_nucleus_cluster_comparison_slices('AD', adata, nuclei_df, ccf_polygons_th_zi)\n",
    "obs = get_obs_from_annotated_clusters('AD', adata, nuclei_df)\n",
    "plot_nucleus_cluster_comparison_slices(obs, ccf_polygons_th_zi, nuclei='AD')"
   ]
  },
  {
   "cell_type": "code",
   "execution_count": 50,
   "id": "b26e9734-4dd5-4965-bc43-dce458582b68",
   "metadata": {
    "scrolled": true,
    "tags": []
   },
   "outputs": [],
   "source": [
    "\n",
    "# plot_nucleus_cluster_comparison_slices('AD', adata, nuclei_df, ccf_polygons_th_zi)\n",
    "obs = get_obs_from_annotated_clusters('AD', adata, nuclei_df)\n",
    "plot_nucleus_cluster_comparison_slices(obs, ccf_polygons_th_zi, nuclei='AD')"
   ]
  },
  {
   "cell_type": "markdown",
   "id": "dd98c3d5-d285-4110-9f35-e961564f7869",
   "metadata": {
    "tags": []
   },
   "source": [
    "### diff exp"
   ]
  },
  {
   "cell_type": "code",
   "execution_count": 51,
   "id": "44e2abeb-7158-4b0e-ac27-33d20041a5ed",
   "metadata": {},
   "outputs": [],
   "source": [
    "sc.tl.rank_genes_groups(adata_neuronal, 'subclass_label', groups=['AV Col27a1 Glut'], method='wilcoxon', rankby_abs=True)\n",
    "sc.pl.rank_genes_groups(adata_neuronal, n_genes=20)"
   ]
  },
  {
   "cell_type": "code",
   "execution_count": 140,
   "id": "95c79503-9d89-4943-8ab7-113521cfc4d1",
   "metadata": {},
   "outputs": [],
   "source": [
    "section='1199651060'\n",
    "\n",
    "gene = \"Col27a1\"\n",
    "nuclei=['AD', 'AV', 'AMd', 'AMv']\n",
    "plot_expression_ccf(adata_neuronal, section, gene, ccf_polygons, nuclei=nuclei, bg_shapes=False)"
   ]
  },
  {
   "cell_type": "code",
   "execution_count": 53,
   "id": "e222f084-6f18-4e6e-99e4-c6d1b2e3b276",
   "metadata": {},
   "outputs": [],
   "source": [
    "sc.tl.rank_genes_groups(adata_neuronal, 'subclass_label', groups=['AD Serpinb7 Glut'], method='wilcoxon', rankby_abs=True)\n",
    "sc.pl.rank_genes_groups(adata_neuronal, n_genes=20)"
   ]
  },
  {
   "cell_type": "code",
   "execution_count": 141,
   "id": "7537750a-1d05-453f-9f4a-6231d2855730",
   "metadata": {},
   "outputs": [],
   "source": [
    "section='1199651060'\n",
    "\n",
    "gene = \"Syndig1l\"\n",
    "nuclei=['AD', 'AV', 'AMd', 'AMv']\n",
    "plot_expression_ccf(adata_neuronal, section, gene, ccf_polygons, nuclei=nuclei, bg_shapes=False)"
   ]
  },
  {
   "cell_type": "code",
   "execution_count": 55,
   "id": "2160e5ac-1999-4b56-b64f-c42f3763649f",
   "metadata": {},
   "outputs": [],
   "source": [
    "sc.tl.rank_genes_groups(adata_neuronal, 'supertype_label', groups=['TH Prkcd Grin2c Glut_9'], method='wilcoxon', rankby_abs=True)\n",
    "sc.pl.rank_genes_groups(adata_neuronal, n_genes=20)"
   ]
  },
  {
   "cell_type": "code",
   "execution_count": 142,
   "id": "74194b27-9ee1-42d0-98d0-6f424f6be6ab",
   "metadata": {},
   "outputs": [],
   "source": [
    "section='1199651060'\n",
    "\n",
    "gene = \"Cbln1\"\n",
    "nuclei=['AD', 'AV', 'AMd', 'AMv']\n",
    "plot_expression_ccf(adata_neuronal, section, gene, ccf_polygons, nuclei=nuclei, bg_shapes=False)"
   ]
  },
  {
   "cell_type": "code",
   "execution_count": 146,
   "id": "8d8544ec-edc5-4f6a-8843-e9eb3877d9ef",
   "metadata": {},
   "outputs": [],
   "source": [
    "adata_neuronal.obs['anterior_type'] = (adata_neuronal.obs['supertype_label'].str.contains('Glut_9') |\n",
    "                                       adata_neuronal.obs['supertype_label'].str.contains('AD') |\n",
    "                                       adata_neuronal.obs['supertype_label'].str.contains('AV')).astype(str)"
   ]
  },
  {
   "cell_type": "code",
   "execution_count": 147,
   "id": "d75e4955-7944-4087-8be0-c9ce11de505f",
   "metadata": {},
   "outputs": [],
   "source": [
    "sc.tl.rank_genes_groups(adata_neuronal, 'anterior_type', method='wilcoxon', rankby_abs=True)\n",
    "sc.pl.rank_genes_groups(adata_neuronal, n_genes=20)"
   ]
  },
  {
   "cell_type": "code",
   "execution_count": 148,
   "id": "3b24566e-5a74-40ce-9578-bf571dca91ee",
   "metadata": {},
   "outputs": [],
   "source": [
    "section='1199651060'\n",
    "\n",
    "gene = \"C1ql3\"\n",
    "nuclei=['AD', 'AV', 'AMd', 'AMv']\n",
    "plot_expression_ccf(adata_neuronal, section, gene, ccf_polygons, nuclei=nuclei, bg_shapes=False)"
   ]
  },
  {
   "cell_type": "code",
   "execution_count": 149,
   "id": "8a0f290d-6336-46e9-a515-1d5170142f65",
   "metadata": {},
   "outputs": [],
   "source": [
    "section='1199651060'\n",
    "\n",
    "gene = \"Shox2\"\n",
    "nuclei=['AD', 'AV', 'AMd', 'AMv']\n",
    "plot_expression_ccf(adata_neuronal, section, gene, ccf_polygons, nuclei=nuclei, bg_shapes=False)"
   ]
  },
  {
   "cell_type": "markdown",
   "id": "a51bc67b-895d-4b10-89cd-323a55c06985",
   "metadata": {
    "tags": []
   },
   "source": [
    "## MD"
   ]
  },
  {
   "cell_type": "code",
   "execution_count": 65,
   "id": "3cd9ebf9-c6e6-4b8c-be32-3ddbf33f3399",
   "metadata": {
    "scrolled": true,
    "tags": []
   },
   "outputs": [],
   "source": [
    "obs = get_obs_from_annotated_clusters('MD', adata, nuclei_df)\n",
    "plot_nucleus_cluster_comparison_slices(obs, ccf_polygons_th_zi, 'MD', bg_shapes=False, bg_cells=adata_neuronal.obs)"
   ]
  },
  {
   "cell_type": "markdown",
   "id": "4387e563-b976-4b69-8335-90b0ae99adb0",
   "metadata": {
    "tags": []
   },
   "source": [
    "## other"
   ]
  },
  {
   "cell_type": "code",
   "execution_count": 58,
   "id": "31215762-e2f0-4c76-a2fa-83888fd49530",
   "metadata": {
    "scrolled": true,
    "tags": []
   },
   "outputs": [],
   "source": [
    "obs = get_obs_from_annotated_clusters('PT', adata, nuclei_df)\n",
    "plot_nucleus_cluster_comparison_slices(obs, ccf_polygons_th_zi, nuclei='PT', bg_cells=adata_neuronal.obs, bg_shapes=False)"
   ]
  },
  {
   "cell_type": "code",
   "execution_count": 59,
   "id": "c90bffe0-5849-4118-85b9-2554aee73c91",
   "metadata": {
    "scrolled": true,
    "tags": []
   },
   "outputs": [],
   "source": [
    "obs = adata_neuronal.obs.query(\"supertype_label.str.contains('PVT-PT')\", engine='python')\n",
    "plot_nucleus_cluster_comparison_slices(obs, ccf_polygons_th_zi, nuclei=['PT','PVT'], bg_cells=adata_neuronal.obs, bg_shapes=False, legend='both')"
   ]
  },
  {
   "cell_type": "code",
   "execution_count": 60,
   "id": "47ae967e-e879-47f6-b21b-06b6bd06b257",
   "metadata": {
    "scrolled": true,
    "tags": []
   },
   "outputs": [],
   "source": [
    "obs = get_obs_from_annotated_clusters('PVT', adata, nuclei_df)\n",
    "plot_nucleus_cluster_comparison_slices(obs, ccf_polygons_th_zi, nuclei=['PT','PVT'], bg_cells=adata_neuronal.obs, bg_shapes=False, legend='both')"
   ]
  },
  {
   "cell_type": "code",
   "execution_count": 61,
   "id": "e7fb693e-4197-407a-ad50-4db386025471",
   "metadata": {
    "scrolled": true,
    "tags": []
   },
   "outputs": [],
   "source": [
    "obs = get_obs_from_annotated_clusters('LGd', adata, nuclei_df)\n",
    "plot_nucleus_cluster_comparison_slices(obs, ccf_polygons_th_zi, nuclei=['LGd-co', 'LGd-ip', 'LGd-sh'], bg_cells=adata_neuronal.obs, bg_shapes=False)"
   ]
  },
  {
   "cell_type": "code",
   "execution_count": 62,
   "id": "f3153ee9-0bfc-4ce2-83c1-0d400007aa5d",
   "metadata": {
    "scrolled": true,
    "tags": []
   },
   "outputs": [],
   "source": [
    "obs = get_obs_from_annotated_clusters('SMT', adata, nuclei_df)\n",
    "plot_nucleus_cluster_comparison_slices(obs, ccf_polygons_th_zi, nuclei='SMT', bg_cells=adata_neuronal.obs, bg_shapes=False)"
   ]
  },
  {
   "cell_type": "code",
   "execution_count": 63,
   "id": "83f73d53-ca19-4662-988e-70ffc0e21114",
   "metadata": {
    "scrolled": true,
    "tags": []
   },
   "outputs": [],
   "source": [
    "obs = get_obs_from_annotated_clusters('LD', adata, nuclei_df)\n",
    "plot_nucleus_cluster_comparison_slices(obs, ccf_polygons_th_zi, nuclei='LD', bg_cells=adata_neuronal.obs, bg_shapes=False)"
   ]
  },
  {
   "cell_type": "markdown",
   "id": "a30841c0-7eab-49bb-8a30-3386d5868bbf",
   "metadata": {
    "tags": []
   },
   "source": [
    "# OLD: clustering tests"
   ]
  },
  {
   "cell_type": "code",
   "execution_count": null,
   "id": "d29eee57-882f-4bbd-bcb9-12a9a367a4f6",
   "metadata": {
    "scrolled": true,
    "tags": []
   },
   "outputs": [],
   "source": [
    "plot_ccf_overlay(adata.obs, ccf_polygons)"
   ]
  },
  {
   "cell_type": "code",
   "execution_count": 7,
   "id": "8249f4de-7c0c-4f6e-b127-672731fcf6cd",
   "metadata": {},
   "outputs": [],
   "source": [
    "data = adata.obs.query(\"section=='1199651024'\")\n",
    "\n",
    "ccf_polygons = defaultdict(dict)  \n",
    "for (name, section), df in data.groupby(['CCF_acronym', 'section']):\n",
    "    X = df[['cirro_x','cirro_y']].values\n",
    "    if X.shape[0] > 100:\n",
    "        clusters = OPTICS(min_cluster_size=50, min_samples=10, n_jobs=2).fit_predict(X)\n",
    "        results = [poly_from_points(X[clusters==i, :]) for i in set(clusters) if not i==-1]\n",
    "        ccf_polygons[name][section] = unary_union(results)\n",
    "        "
   ]
  },
  {
   "cell_type": "code",
   "execution_count": 20,
   "id": "43ebe433-fcfc-463b-97c8-c59a186d9b96",
   "metadata": {},
   "outputs": [],
   "source": [
    "df = adata.obs.query(\"section=='1199651033' & CCF_acronym=='MB'\").copy()\n",
    "X = df[['cirro_x','cirro_y']].values\n",
    "df['spatial_cluster'] = hdbscan.HDBSCAN(min_samples=10).fit_predict(X)\n",
    "sns.scatterplot(data=df,  x='cirro_x', y='cirro_y', hue='spatial_cluster', s=2,  legend=True, palette='tab10')"
   ]
  },
  {
   "cell_type": "code",
   "execution_count": 17,
   "id": "b95c2578-43b3-4474-9da1-931b351716a9",
   "metadata": {},
   "outputs": [],
   "source": [
    "df = adata.obs.query(\"section=='1199651033' & CCF_acronym=='MB'\").copy()\n",
    "X = df[['cirro_x','cirro_y']].values\n",
    "df['spatial_cluster'] = OPTICS(min_samples=10, xi=0.01, max_eps=1000, predecessor_correction=False, n_jobs=4).fit_predict(X)\n",
    "sns.scatterplot(data=df,  x='cirro_x', y='cirro_y', hue='spatial_cluster', s=2,  legend=True, palette='tab10')"
   ]
  }
 ],
 "metadata": {
  "kernelspec": {
   "display_name": "Python 3",
   "language": "python",
   "name": "python3"
  },
  "language_info": {
   "codemirror_mode": {
    "name": "ipython",
    "version": 3
   },
   "file_extension": ".py",
   "mimetype": "text/x-python",
   "name": "python",
   "nbconvert_exporter": "python",
   "pygments_lexer": "ipython3",
   "version": "3.9.12"
  }
 },
 "nbformat": 4,
 "nbformat_minor": 5
}
