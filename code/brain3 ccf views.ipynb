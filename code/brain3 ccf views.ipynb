{
 "cells": [
  {
   "cell_type": "code",
   "execution_count": 236,
   "id": "0b1fc5f9-3e2d-4698-955a-788be48faa96",
   "metadata": {},
   "outputs": [],
   "source": [
    "import anndata as ad\n",
    "import pandas as pd\n",
    "import shapely\n",
    "import shapely.plotting as splot\n",
    "import matplotlib.pyplot as plt\n",
    "import seaborn as sns\n",
    "import numpy as np\n",
    "\n",
    "%matplotlib inline"
   ]
  },
  {
   "cell_type": "code",
   "execution_count": 201,
   "id": "fb170ed4-9f53-4a13-afc3-be84c4f4d370",
   "metadata": {},
   "outputs": [],
   "source": [
    "import warnings\n",
    "warnings.filterwarnings('ignore', category=UserWarning)\n",
    "warnings.filterwarnings('ignore', category=FutureWarning)"
   ]
  },
  {
   "cell_type": "code",
   "execution_count": 2,
   "id": "df778415-c2ec-4ea0-891d-3495b3451788",
   "metadata": {},
   "outputs": [],
   "source": [
    "adata = ad.read_h5ad(\"../data/merfish_638850_AIT17.custom_CCF_annotated_TH_ZI_only_2023-05-04_00-00-00/atlas_brain_638850_AIT17_custom_CCF_annotated_TH_ZI_only.h5ad\")\n",
    "adata"
   ]
  },
  {
   "cell_type": "code",
   "execution_count": 3,
   "id": "68bb00da-d2fc-4a88-bbac-46750cc25219",
   "metadata": {},
   "outputs": [],
   "source": [
    "adata.obs['cirro_x'] = adata.obsm['spatial_cirro'][:,0]\n",
    "adata.obs['cirro_y'] = adata.obsm['spatial_cirro'][:,1]"
   ]
  },
  {
   "cell_type": "markdown",
   "id": "6f96a821-abaf-4240-9958-5f4b68af5e7b",
   "metadata": {},
   "source": [
    "# define and view CCF polygons"
   ]
  },
  {
   "cell_type": "code",
   "execution_count": 198,
   "id": "da33ed7c-85e8-459d-b364-4ba83d94e384",
   "metadata": {},
   "outputs": [],
   "source": [
    "def plot_shape(poly, **kwargs):\n",
    "    if type(poly) is shapely.GeometryCollection:\n",
    "        for subpoly in poly.geoms:\n",
    "            patch = splot.plot_polygon(subpoly, add_points=False, **kwargs)\n",
    "    else:\n",
    "        patch = splot.plot_polygon(poly, add_points=False, **kwargs)\n",
    "    return patch"
   ]
  },
  {
   "cell_type": "code",
   "execution_count": 161,
   "id": "0d8636c9-ffd6-4354-91e9-fc3a14b22029",
   "metadata": {},
   "outputs": [],
   "source": [
    "from collections import defaultdict\n",
    "from shapely.ops import unary_union\n",
    "from sklearn.cluster import OPTICS, DBSCAN, k_means\n",
    "\n",
    "def poly_from_points(X):\n",
    "    if X.shape[0] < 10:\n",
    "        return None\n",
    "    poly = shapely.concave_hull(shapely.multipoints(X), allow_holes=True, ratio=0.3)\n",
    "    if type(poly) is shapely.Polygon:\n",
    "        return poly\n",
    "    else:\n",
    "        return None"
   ]
  },
  {
   "cell_type": "code",
   "execution_count": 162,
   "id": "8249f4de-7c0c-4f6e-b127-672731fcf6cd",
   "metadata": {},
   "outputs": [],
   "source": [
    "# data = adata.obs.query(\"section=='1199651024'\")\n",
    "\n",
    "# ccf_polygons = defaultdict(dict)  \n",
    "# for (name, section), df in data.groupby(['CCF_acronym', 'section']):\n",
    "#     X = df[['cirro_x','cirro_y']].values\n",
    "#     if X.shape[0] > 100:\n",
    "#         clusters = OPTICS(min_cluster_size=50, min_samples=10, n_jobs=2).fit_predict(X)\n",
    "#         results = [poly_from_points(X[clusters==i, :]) for i in set(clusters) if not i==-1]\n",
    "#         ccf_polygons[name][section] = unary_union(results)\n",
    "        "
   ]
  },
  {
   "cell_type": "code",
   "execution_count": 182,
   "id": "e52d90e5-f797-41e2-bbcd-d986a8263b53",
   "metadata": {},
   "outputs": [],
   "source": [
    "def get_ccf_polygons(data):\n",
    "    ccf_polygons = defaultdict(dict)  \n",
    "    for (name, section), df in data.groupby(['CCF_acronym', 'section']):\n",
    "        X = df[['cirro_x','cirro_y']].values\n",
    "        if X.shape[0] > 100:\n",
    "            centroids, _, _ = k_means(X, 2, n_init=5)\n",
    "            midpoint = np.mean(centroids, 0)[0]\n",
    "            # midpoint = df['cirro_x'].mean()\n",
    "            if np.min(np.abs(X[:,0] - midpoint)) > 100:\n",
    "                left = X[X[:,0] < midpoint]\n",
    "                right = X[X[:,0] > midpoint]\n",
    "                ccf_polygons[name][section] = unary_union([poly_from_points(left), poly_from_points(right)])\n",
    "            else:\n",
    "                poly = poly_from_points(X)\n",
    "                if poly is not None:\n",
    "                    ccf_polygons[name][section] = poly\n",
    "    return ccf_polygons"
   ]
  },
  {
   "cell_type": "code",
   "execution_count": 183,
   "id": "119a19c8-a706-4dd8-a04a-075a18300013",
   "metadata": {},
   "outputs": [],
   "source": [
    "ccf_polygons = get_ccf_polygons(adata.obs)"
   ]
  },
  {
   "cell_type": "code",
   "execution_count": null,
   "id": "cf0561d9-9034-419b-ab0c-f45975845c9d",
   "metadata": {},
   "outputs": [],
   "source": [
    "import colorcet as cc\n",
    "\n",
    "def plot_ccf_overlay(obs, ccf_polygons, sections, point_hue='CCF_acronym', legend=True, min_group_count=10, highlight=[]):\n",
    "    ccf_names = ccf_polygons.keys()\n",
    "    shape_palette = dict(zip(ccf_names, sns.color_palette(cc.glasbey, n_colors=len(ccf_names))))\n",
    "    group_names = obs[point_hue].value_counts().loc[lambda x: x>min_group_count].index\n",
    "    point_palette = dict(zip(group_names, sns.color_palette(cc.glasbey, n_colors=len(group_names))))\n",
    "\n",
    "    for section in sections:\n",
    "        plt.figure(figsize=(10,4))\n",
    "        plt.title(section)\n",
    "        patches = []\n",
    "        for i, name in enumerate(ccf_polygons.keys()):\n",
    "            if section in ccf_polygons[name]:\n",
    "                patches.append(plot_shape(ccf_polygons[name][section], color=shape+palette[name], \n",
    "                                          alpha=0.4 if name in highlight else 0.1, \n",
    "                                          label=name if legend=='CCF' else None))\n",
    "        \n",
    "        secdata = obs.loc[lambda df: (df['section']==section) & df['CCF_acronym'].isin(ccf_names)]\n",
    "        if min_group_count>0:\n",
    "            groups = secdata[point_hue].value_counts().loc[lambda x: x>min_group_count].index\n",
    "            secdata = secdata.loc[lambda df: df[point_hue].isin(groups)]\n",
    "        secdata[point_hue].cat.remove_unused_categories(inplace=True)\n",
    "        sns.scatterplot(secdata, x='cirro_x', y='cirro_y', hue=point_hue, s=2, palette=point_palette, legend=legend is True)\n",
    "        if legend=='CCF':\n",
    "            plt.legend(title='CCF regions', handles=patches, ncols=2, loc='upper left', bbox_to_anchor=(1,1))"
   ]
  },
  {
   "cell_type": "markdown",
   "id": "20ac8639-b39b-4557-ac16-dd35cd40ebd1",
   "metadata": {},
   "source": [
    "## view all slices with polygons and labeled points"
   ]
  },
  {
   "cell_type": "code",
   "execution_count": 206,
   "id": "524fe171-736f-4e00-a530-3274eecc34e1",
   "metadata": {
    "scrolled": true,
    "tags": []
   },
   "outputs": [],
   "source": [
    "sections = set.union(*(set(x.keys()) for x in ccf_polygons.values()))\n",
    "\n",
    "plot_ccf_overlay(adata.obs, ccf_polygons, sections, point_hue='CCF_acronym', legend=False)"
   ]
  },
  {
   "cell_type": "markdown",
   "id": "b6e21608-1dd6-46cd-82ca-a1727215507c",
   "metadata": {},
   "source": [
    "## view with subclass labels"
   ]
  },
  {
   "cell_type": "code",
   "execution_count": 220,
   "id": "68607550-f2a1-4984-8829-78e04fa30b6d",
   "metadata": {},
   "outputs": [],
   "source": [
    "sections = ['1199651024']\n",
    "obs = adata.obs.loc[lambda df: df['division_id_label']=='3 PAL-sAMY-TH-HY-MB-HB neuronal']\n",
    "plot_ccf_overlay(obs, ccf_polygons, sections, point_hue='subclass_id_label', legend=True)"
   ]
  },
  {
   "cell_type": "markdown",
   "id": "e6059d52-ef34-4e20-be15-9ce9d592652e",
   "metadata": {},
   "source": [
    "# Investigate prong 1 cluster-nucleus groups"
   ]
  },
  {
   "cell_type": "code",
   "execution_count": 237,
   "id": "1ce5008d-48df-4be3-aa2e-8952af892f53",
   "metadata": {
    "collapsed": true,
    "jupyter": {
     "outputs_hidden": true
    },
    "tags": []
   },
   "outputs": [],
   "source": [
    "nuclei_df = pd.read_csv(\"../resources/Prong 1 Vitessce links by nucleus.csv\", index_col=0)"
   ]
  },
  {
   "cell_type": "code",
   "execution_count": 238,
   "id": "b8713b48-36af-4549-b822-5750d3003198",
   "metadata": {},
   "outputs": [],
   "source": [
    "def plot_nucleus_cluster_comparison_slices(name, adata, nuclei_df, ccf_polygons, subregions=None, legend=True):\n",
    "    clusters = nuclei_df.loc[name, \"annotated clusters\"].split(', ')\n",
    "    obs = adata.obs.loc[lambda df: df['cluster_label'].str[:4].isin(clusters)]\n",
    "    sections = obs['section'].value_counts().loc[lambda x: x>10].index.sort_values()\n",
    "    nuclei = subregions or [name]\n",
    "    plot_ccf_overlay(obs, ccf_polygons, sections, point_hue='cluster_label', legend=legend, highlight=nuclei)"
   ]
  },
  {
   "cell_type": "code",
   "execution_count": 239,
   "id": "b26e9734-4dd5-4965-bc43-dce458582b68",
   "metadata": {
    "scrolled": true,
    "tags": []
   },
   "outputs": [],
   "source": [
    "plot_nucleus_cluster_comparison_slices('AD', adata, nuclei_df, ccf_polygons)"
   ]
  },
  {
   "cell_type": "code",
   "execution_count": 240,
   "id": "b5cf77d4-9e28-4df7-8c9f-d27f9b5852d5",
   "metadata": {
    "scrolled": true,
    "tags": []
   },
   "outputs": [],
   "source": [
    "plot_nucleus_cluster_comparison_slices('AM', adata, nuclei_df, ccf_polygons, subregions=['AMd','AMv'])"
   ]
  },
  {
   "cell_type": "code",
   "execution_count": 241,
   "id": "593c574a-e9a3-4826-9ba8-e8ee04014ba9",
   "metadata": {
    "scrolled": true,
    "tags": []
   },
   "outputs": [],
   "source": [
    "plot_nucleus_cluster_comparison_slices('AV', adata, nuclei_df, ccf_polygons)"
   ]
  },
  {
   "cell_type": "code",
   "execution_count": 242,
   "id": "d9bcbfe5-5eae-4e86-bfd0-818e7a2db1e8",
   "metadata": {
    "scrolled": true,
    "tags": []
   },
   "outputs": [],
   "source": [
    "plot_nucleus_cluster_comparison_slices('VM', adata, nuclei_df, ccf_polygons)"
   ]
  },
  {
   "cell_type": "code",
   "execution_count": 243,
   "id": "b6f77ef9-b4f6-42f0-bf84-bb5047b7ec1a",
   "metadata": {
    "scrolled": true,
    "tags": []
   },
   "outputs": [],
   "source": [
    "plot_nucleus_cluster_comparison_slices('LD', adata, nuclei_df, ccf_polygons)"
   ]
  },
  {
   "cell_type": "markdown",
   "id": "3de6513c-aa4a-45f5-8e48-5707ce23ad7d",
   "metadata": {
    "jp-MarkdownHeadingCollapsed": true,
    "tags": []
   },
   "source": [
    "## flat view plots"
   ]
  },
  {
   "cell_type": "code",
   "execution_count": 28,
   "id": "c89ade86-bfa7-48e8-98bb-67ffaa2d483e",
   "metadata": {},
   "outputs": [],
   "source": [
    "def plot_nucleus_cluster_comparison(name, adata, nuclei_df, ccf_polygons, subregions=None):\n",
    "    plt.figure(figsize=(40,10))\n",
    "    if subregions is not None:\n",
    "        for x in subregions:\n",
    "            for poly in ccf_polygons[x].values():\n",
    "                splot.plot_polygon(poly, color='grey', add_points=False)\n",
    "    else:\n",
    "        for poly in ccf_polygons[name].values():\n",
    "            splot.plot_polygon(poly, color='grey', add_points=False)\n",
    "    clusters = nuclei_df.loc[name, \"annotated clusters\"].split(', ')\n",
    "    df = adata.obs.loc[lambda df: df['cluster_label'].str[:4].isin(clusters)]\n",
    "    df['cluster_label'].cat.remove_unused_categories(inplace=True)\n",
    "    sns.scatterplot(df, x='cirro_x', y='cirro_y', hue='cluster_label', s=2)"
   ]
  },
  {
   "cell_type": "code",
   "execution_count": 8,
   "id": "95d9e7ca-be1d-4e24-88eb-c17aee7c5aae",
   "metadata": {},
   "outputs": [],
   "source": []
  },
  {
   "cell_type": "code",
   "execution_count": 29,
   "id": "19db7557-08ea-4a4e-9df3-2bb716676448",
   "metadata": {},
   "outputs": [],
   "source": [
    "plot_nucleus_cluster_comparison('AD', adata, nuclei_df, ccf_polygons)"
   ]
  },
  {
   "cell_type": "code",
   "execution_count": 30,
   "id": "3f207431-9b1c-4636-9794-4f172226fdef",
   "metadata": {},
   "outputs": [],
   "source": [
    "plot_nucleus_cluster_comparison('AM', adata, nuclei_df, ccf_polygons, subregions=['AMd','AMv'])"
   ]
  },
  {
   "cell_type": "code",
   "execution_count": 22,
   "id": "8b6ccfe8-182d-487f-abd6-fb95d2465833",
   "metadata": {},
   "outputs": [],
   "source": [
    "plot_nucleus_cluster_comparison('AV', adata, nuclei_df, ccf_polygons)"
   ]
  },
  {
   "cell_type": "code",
   "execution_count": 31,
   "id": "1917a8c4-bb2f-4cfb-9772-2ffec35b5265",
   "metadata": {},
   "outputs": [],
   "source": [
    "plot_nucleus_cluster_comparison('VM', adata, nuclei_df, ccf_polygons)"
   ]
  },
  {
   "cell_type": "code",
   "execution_count": 33,
   "id": "c790f6b2-b0a2-47e3-9e97-aa7358fb9600",
   "metadata": {},
   "outputs": [],
   "source": [
    "plot_nucleus_cluster_comparison('LD', adata, nuclei_df, ccf_polygons)"
   ]
  },
  {
   "cell_type": "code",
   "execution_count": null,
   "id": "175a301e-dc39-4c66-baf2-7ecbaa5228d5",
   "metadata": {},
   "outputs": [],
   "source": []
  }
 ],
 "metadata": {
  "kernelspec": {
   "display_name": "Python 3",
   "language": "python",
   "name": "python3"
  },
  "language_info": {
   "codemirror_mode": {
    "name": "ipython",
    "version": 3
   },
   "file_extension": ".py",
   "mimetype": "text/x-python",
   "name": "python",
   "nbconvert_exporter": "python",
   "pygments_lexer": "ipython3",
   "version": "3.9.12"
  }
 },
 "nbformat": 4,
 "nbformat_minor": 5
}
