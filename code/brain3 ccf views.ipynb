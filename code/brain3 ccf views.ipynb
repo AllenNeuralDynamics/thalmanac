{
 "cells": [
  {
   "cell_type": "code",
   "execution_count": 1,
   "id": "0b1fc5f9-3e2d-4698-955a-788be48faa96",
   "metadata": {},
   "outputs": [],
   "source": [
    "import anndata as ad\n",
    "import pandas as pd\n",
    "import shapely\n",
    "import shapely.plotting as splot\n",
    "import matplotlib.pyplot as plt\n",
    "import seaborn as sns\n",
    "import numpy as np"
   ]
  },
  {
   "cell_type": "markdown",
   "id": "f6bf0f06-6a75-4f53-a113-2e135c74d645",
   "metadata": {
    "tags": []
   },
   "source": [
    "# Load and subset data"
   ]
  },
  {
   "cell_type": "code",
   "execution_count": 2,
   "id": "df778415-c2ec-4ea0-891d-3495b3451788",
   "metadata": {},
   "outputs": [],
   "source": [
    "adata = ad.read_h5ad(\"../data/merfish_638850_AIT17.custom_CCF_annotated_TH_ZI_only_2023-05-04_00-00-00/atlas_brain_638850_AIT17_custom_CCF_annotated_TH_ZI_only.h5ad\")\n",
    "adata"
   ]
  },
  {
   "cell_type": "code",
   "execution_count": 3,
   "id": "68bb00da-d2fc-4a88-bbac-46750cc25219",
   "metadata": {},
   "outputs": [],
   "source": [
    "adata.obs['cirro_x'] = adata.obsm['spatial_cirro'][:,0]\n",
    "adata.obs['cirro_y'] = adata.obsm['spatial_cirro'][:,1]"
   ]
  },
  {
   "cell_type": "code",
   "execution_count": 21,
   "id": "d027bfc1-8b14-4469-ab00-2dda736f3b1f",
   "metadata": {},
   "outputs": [],
   "source": [
    "from collections import defaultdict\n",
    "from shapely.ops import unary_union\n",
    "\n",
    "ccf_polygons = defaultdict(dict)\n",
    "poly_from_obs = lambda df: shapely.concave_hull(shapely.multipoints(df[['cirro_x','cirro_y']].values), allow_holes=True, ratio=0.3)\n",
    "for (name, section), df in adata.obs.groupby(['CCF_acronym', 'section']):\n",
    "    if len(df)>10:\n",
    "        midpoint = df['cirro_x'].mean()\n",
    "        if np.min(np.abs(df['cirro_x'] - midpoint)) > 100:\n",
    "            left = df.loc[df['cirro_x'] < midpoint]\n",
    "            right = df.loc[df['cirro_x'] > midpoint]\n",
    "            ccf_polygons[name][section] = unary_union([poly_from_obs(left), poly_from_obs(right)])\n",
    "        else:\n",
    "            ccf_polygons[name][section] = poly_from_obs(df)"
   ]
  },
  {
   "cell_type": "code",
   "execution_count": 5,
   "id": "a38d49fd-5996-4fe7-89f5-84ea7de634f9",
   "metadata": {},
   "outputs": [],
   "source": [
    "\n",
    "def plot_polygon(ccf_polygons, name):\n",
    "    for poly in ccf_polygons[name].values():\n",
    "        splot.plot_polygon(poly, add_points=False)\n",
    "\n",
    "name = 'ZI'\n",
    "plt.figure(figsize=(20,10))\n",
    "plot_polygon(ccf_polygons, name)"
   ]
  },
  {
   "cell_type": "code",
   "execution_count": 28,
   "id": "c89ade86-bfa7-48e8-98bb-67ffaa2d483e",
   "metadata": {},
   "outputs": [],
   "source": [
    "nuclei_df = pd.read_csv(\"../resources/Prong 1 Vitessce links by nucleus.csv\", index_col=0)\n",
    "\n",
    "\n",
    "\n",
    "def plot_nucleus_cluster_comparison(name, adata, nuclei_df, ccf_polygons, subregions=None):\n",
    "    plt.figure(figsize=(40,10))\n",
    "    if subregions is not None:\n",
    "        for x in subregions:\n",
    "            for poly in ccf_polygons[x].values():\n",
    "                splot.plot_polygon(poly, color='grey', add_points=False)\n",
    "    else:\n",
    "        for poly in ccf_polygons[name].values():\n",
    "            splot.plot_polygon(poly, color='grey', add_points=False)\n",
    "    clusters = nuclei_df.loc[name, \"annotated clusters\"].split(', ')\n",
    "    df = adata.obs.loc[lambda df: df['cluster_label'].str[:4].isin(clusters)]\n",
    "    df['cluster_label'].cat.remove_unused_categories(inplace=True)\n",
    "    sns.scatterplot(df, x='cirro_x', y='cirro_y', hue='cluster_label', s=2)"
   ]
  },
  {
   "cell_type": "code",
   "execution_count": 6,
   "id": "bf6c9def-b23b-413a-93ef-324f44e4acb1",
   "metadata": {},
   "outputs": [],
   "source": [
    "%matplotlib widget"
   ]
  },
  {
   "cell_type": "code",
   "execution_count": 8,
   "id": "95d9e7ca-be1d-4e24-88eb-c17aee7c5aae",
   "metadata": {},
   "outputs": [],
   "source": [
    "%matplotlib inline"
   ]
  },
  {
   "cell_type": "code",
   "execution_count": 29,
   "id": "19db7557-08ea-4a4e-9df3-2bb716676448",
   "metadata": {},
   "outputs": [],
   "source": [
    "plot_nucleus_cluster_comparison('AD', adata, nuclei_df, ccf_polygons)"
   ]
  },
  {
   "cell_type": "code",
   "execution_count": 30,
   "id": "3f207431-9b1c-4636-9794-4f172226fdef",
   "metadata": {},
   "outputs": [],
   "source": [
    "plot_nucleus_cluster_comparison('AM', adata, nuclei_df, ccf_polygons, subregions=['AMd','AMv'])"
   ]
  },
  {
   "cell_type": "code",
   "execution_count": 22,
   "id": "8b6ccfe8-182d-487f-abd6-fb95d2465833",
   "metadata": {},
   "outputs": [],
   "source": [
    "plot_nucleus_cluster_comparison('AV', adata, nuclei_df, ccf_polygons)"
   ]
  },
  {
   "cell_type": "code",
   "execution_count": 31,
   "id": "1917a8c4-bb2f-4cfb-9772-2ffec35b5265",
   "metadata": {},
   "outputs": [],
   "source": [
    "plot_nucleus_cluster_comparison('VM', adata, nuclei_df, ccf_polygons)"
   ]
  },
  {
   "cell_type": "code",
   "execution_count": 33,
   "id": "c790f6b2-b0a2-47e3-9e97-aa7358fb9600",
   "metadata": {},
   "outputs": [],
   "source": [
    "plot_nucleus_cluster_comparison('LD', adata, nuclei_df, ccf_polygons)"
   ]
  },
  {
   "cell_type": "code",
   "execution_count": null,
   "id": "175a301e-dc39-4c66-baf2-7ecbaa5228d5",
   "metadata": {},
   "outputs": [],
   "source": []
  }
 ],
 "metadata": {
  "kernelspec": {
   "display_name": "Python 3",
   "language": "python",
   "name": "python3"
  },
  "language_info": {
   "codemirror_mode": {
    "name": "ipython",
    "version": 3
   },
   "file_extension": ".py",
   "mimetype": "text/x-python",
   "name": "python",
   "nbconvert_exporter": "python",
   "pygments_lexer": "ipython3",
   "version": "3.9.12"
  }
 },
 "nbformat": 4,
 "nbformat_minor": 5
}
