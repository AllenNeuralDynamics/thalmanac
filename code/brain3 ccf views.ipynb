{
 "cells": [
  {
   "cell_type": "code",
   "execution_count": 1,
   "id": "e14547e4",
   "metadata": {},
   "outputs": [],
   "source": [
    "import anndata as ad\n",
    "import pandas as pd\n",
    "import matplotlib.pyplot as plt\n",
    "import seaborn as sns\n",
    "\n",
    "import ccf_polygons as cpoly\n",
    "import ccf_plots as cplot\n",
    "\n",
    "%matplotlib inline\n",
    "\n",
    "sns.set_style('white')"
   ]
  },
  {
   "cell_type": "code",
   "execution_count": 3,
   "id": "d0d82bc6",
   "metadata": {},
   "outputs": [],
   "source": [
    "# import warnings\n",
    "# warnings.filterwarnings('ignore', category=UserWarning)\n",
    "# warnings.filterwarnings('ignore', category=FutureWarning)"
   ]
  },
  {
   "cell_type": "code",
   "execution_count": 4,
   "id": "25523418",
   "metadata": {},
   "outputs": [],
   "source": [
    "adata = ad.read_h5ad(\"../data/merfish_638850_AIT17.custom_CCF_annotated_TH_ZI_only_2023-05-04_00-00-00/atlas_brain_638850_AIT17_custom_CCF_annotated_TH_ZI_only.h5ad\")\n",
    "adata"
   ]
  },
  {
   "cell_type": "code",
   "execution_count": null,
   "id": "21c85b53",
   "metadata": {},
   "outputs": [],
   "source": [
    "# for compatibility with new version, should align more fields eventually \n",
    "adata.obs['cluster'] = adata.obs['cluster_label']"
   ]
  },
  {
   "cell_type": "code",
   "execution_count": 5,
   "id": "db28e998",
   "metadata": {},
   "outputs": [],
   "source": [
    "# nice to have everything for plotting in the obs dataframe\n",
    "adata.obs['cirro_x'] = adata.obsm['spatial_cirro'][:,0]\n",
    "adata.obs['cirro_y'] = adata.obsm['spatial_cirro'][:,1]"
   ]
  },
  {
   "cell_type": "markdown",
   "id": "3b204ae1",
   "metadata": {},
   "source": [
    "# define and view CCF polygons"
   ]
  },
  {
   "cell_type": "markdown",
   "id": "6d9c6583",
   "metadata": {},
   "source": [
    "## calc polygons"
   ]
  },
  {
   "cell_type": "code",
   "execution_count": 8,
   "id": "1e644cd3",
   "metadata": {},
   "outputs": [],
   "source": [
    "ccf_polygons = cpoly.get_ccf_polygons(adata.obs)"
   ]
  },
  {
   "cell_type": "code",
   "execution_count": 9,
   "id": "b11f9fdc",
   "metadata": {},
   "outputs": [],
   "source": [
    "ccf_polygons_th_zi = ccf_polygons[ccf_polygons.index.isin(cpoly.CCF_TH_NAMES, level=\"name\")]"
   ]
  },
  {
   "cell_type": "code",
   "execution_count": 10,
   "id": "bd04dac7",
   "metadata": {},
   "outputs": [],
   "source": [
    "# polygon for whole thalamus outline\n",
    "th_outline_polygons = cpoly.get_outline_polygon(adata.obs)"
   ]
  },
  {
   "cell_type": "code",
   "execution_count": 11,
   "id": "65ed1a5b",
   "metadata": {
    "scrolled": true,
    "tags": []
   },
   "outputs": [],
   "source": [
    "sections = [\"1199651024\", \"1199651036\", \"1199651048\"]\n",
    "cplot.plot_ccf_overlay(adata.obs, ccf_polygons, sections=sections)"
   ]
  },
  {
   "cell_type": "code",
   "execution_count": 12,
   "id": "b399f52e",
   "metadata": {},
   "outputs": [],
   "source": [
    "cplot.plot_section_outline(th_outline_polygons, sections='1199651060', alpha=0.05)"
   ]
  },
  {
   "cell_type": "markdown",
   "id": "c86b638e",
   "metadata": {},
   "source": [
    "### define thalamus subset (requires atlas download)\n",
    "\n",
    "can skip now, result saved"
   ]
  },
  {
   "cell_type": "code",
   "execution_count": 13,
   "id": "250ef42e",
   "metadata": {},
   "outputs": [],
   "source": [
    "# import urllib.request, json \n",
    "# with urllib.request.urlopen(\"http://api.brain-map.org/api/v2/structure_graph_download/1.json\") as url:\n",
    "#     atlas = json.load(url)['msg']"
   ]
  },
  {
   "cell_type": "code",
   "execution_count": 14,
   "id": "8e1137a9",
   "metadata": {},
   "outputs": [],
   "source": [
    "# from bg_atlasapi.bg_atlas import BrainGlobeAtlas\n",
    "# atlas = BrainGlobeAtlas(\"allen_mouse_100um\", brainglobe_dir='/scratch/brainglobe/')\n",
    "\n",
    "# ccf_polygons_th_zi = {x: ccf_polygons[x] for x in ccf_polygons.keys() \n",
    "#                       #549: thalamus, 797: ZI\n",
    "#                       if (549 in atlas.structures[x]['structure_id_path'] \n",
    "#                           and not 549==atlas.structures[x]['structure_id_path'][-1])\n",
    "#                       or 797 in atlas.structures[x]['structure_id_path']\n",
    "#                      }"
   ]
  },
  {
   "cell_type": "markdown",
   "id": "1cf696f5",
   "metadata": {},
   "source": [
    "## view thalamus subset with subclass labels"
   ]
  },
  {
   "cell_type": "code",
   "execution_count": 15,
   "id": "8c4ace21",
   "metadata": {},
   "outputs": [],
   "source": [
    "adata_neuronal = adata[adata.obs[\"division_id_label\"].isin([\"3 PAL-sAMY-TH-HY-MB-HB neuronal\",\"2 Subpallium GABAergic\",\"4 CBX-MOB-other neuronal\"])].copy()\n",
    "# cluster_id as string to simplify querying\n",
    "adata_neuronal.obs['cluster_id'] = pd.Categorical(adata_neuronal.obs['cluster_id'].astype(int).astype(str))"
   ]
  },
  {
   "cell_type": "code",
   "execution_count": 32,
   "id": "b9e247da",
   "metadata": {
    "scrolled": true,
    "tags": []
   },
   "outputs": [],
   "source": [
    "# may need to tweak clustering params on fine \n",
    "cplot.plot_ccf_overlay(adata.obs.iloc[[],:]#no foreground cells\n",
    "                       , ccf_polygons_th_zi, sections=sections, highlight='all', \n",
    "                 bg_cells=adata_neuronal.obs, bg_shapes=False, min_group_count=0, legend=False)"
   ]
  },
  {
   "cell_type": "code",
   "execution_count": 17,
   "id": "2aa97e32",
   "metadata": {},
   "outputs": [],
   "source": [
    "subclasses = adata_neuronal.obs['subclass_label'].value_counts().loc[lambda x: x>300]\n",
    "subclasses"
   ]
  },
  {
   "cell_type": "code",
   "execution_count": 18,
   "id": "50f6ff2f",
   "metadata": {},
   "outputs": [],
   "source": [
    "len(subclasses)"
   ]
  },
  {
   "cell_type": "code",
   "execution_count": 19,
   "id": "5cf0a621",
   "metadata": {},
   "outputs": [],
   "source": [
    "adata_neuronal.obs.loc[lambda df: df['subclass_label'].isin(subclasses.index), 'division_id_label'].value_counts().loc[lambda x: x>0]"
   ]
  },
  {
   "cell_type": "code",
   "execution_count": 20,
   "id": "bbc9c592",
   "metadata": {},
   "outputs": [],
   "source": [
    "adata_neuronal.obs.loc[lambda df: df['subclass_label'].isin(subclasses.index), 'class_label'].value_counts().loc[lambda x: x>0]"
   ]
  },
  {
   "cell_type": "code",
   "execution_count": 21,
   "id": "74243f10",
   "metadata": {},
   "outputs": [],
   "source": [
    "adata_neuronal.obs.loc[lambda df: df['subclass_label'].isin(subclasses.index), 'supertype_label'].unique().shape[0]"
   ]
  },
  {
   "cell_type": "code",
   "execution_count": 22,
   "id": "43e63317",
   "metadata": {},
   "outputs": [],
   "source": [
    "adata_neuronal.obs.loc[lambda df: df['subclass_label'].isin(subclasses.index), 'cluster_label'].unique().shape[0]"
   ]
  },
  {
   "cell_type": "code",
   "execution_count": 33,
   "id": "90c58da4",
   "metadata": {},
   "outputs": [],
   "source": [
    "from colorcet import glasbey\n",
    "point_palette = dict(zip(subclasses.index, sns.color_palette(glasbey, n_colors=len(subclasses.index))))\n",
    "\n",
    "from matplotlib.colors import rgb2hex\n",
    "{x.replace(' ', '_'): rgb2hex(point_palette[x]) for x in point_palette.keys()}"
   ]
  },
  {
   "cell_type": "code",
   "execution_count": 47,
   "id": "134a4d07",
   "metadata": {
    "scrolled": true,
    "tags": []
   },
   "outputs": [],
   "source": [
    "obs = adata_neuronal.obs.loc[lambda df: df['subclass_label'].isin(subclasses.index)]\n",
    "cplot.plot_ccf_overlay(obs, ccf_polygons_th_zi, bg_cells=adata_neuronal.obs, point_hue='subclass_label', sections=sections,\n",
    "                 shape_palette='dark_outline', point_palette=point_palette, legend=False, highlight='all', \n",
    "                 min_group_count=30)"
   ]
  },
  {
   "cell_type": "markdown",
   "id": "3bd25183",
   "metadata": {},
   "source": [
    "# Investigate prong 1 cluster-nucleus groups"
   ]
  },
  {
   "cell_type": "code",
   "execution_count": 48,
   "id": "63e3b563",
   "metadata": {
    "tags": []
   },
   "outputs": [],
   "source": [
    "nuclei_df = pd.read_csv(\"../resources/Prong 1 Vitessce links by nucleus.csv\", index_col=0)\n",
    "\n",
    "def get_obs_from_annotated_clusters(name, adata, nuclei_df):\n",
    "    clusters = nuclei_df.loc[name, \"annotated clusters\"].split(', ')\n",
    "    obs = adata.obs.loc[lambda df: df['cluster_label'].str[:4].isin(clusters)]\n",
    "    return obs"
   ]
  },
  {
   "cell_type": "markdown",
   "id": "e1538173",
   "metadata": {},
   "source": [
    "## VM"
   ]
  },
  {
   "cell_type": "code",
   "execution_count": 63,
   "id": "335e3406",
   "metadata": {
    "scrolled": true,
    "tags": []
   },
   "outputs": [],
   "source": [
    "# obs = get_obs_from_annotated_clusters('VM', adata, nuclei_df)\n",
    "obs = adata_neuronal.obs.query(\"cluster_label=='1142 TH Prkcd Grin2c Glut_13'\")\n",
    "cplot.plot_nucleus_cluster_comparison_slices(obs, ccf_polygons_th_zi, nuclei=['VM', 'VAL'], legend='both', bg_cells=adata_neuronal.obs, bg_shapes=False)"
   ]
  },
  {
   "cell_type": "code",
   "execution_count": 60,
   "id": "fc7ad998",
   "metadata": {},
   "outputs": [],
   "source": [
    "obs = adata_neuronal.obs.query(\"supertype_label=='TH Prkcd Grin2c Glut_13'\")\n",
    "obs['cluster_label'].value_counts().loc[lambda x: x>5]"
   ]
  },
  {
   "cell_type": "code",
   "execution_count": 64,
   "id": "0b85e46d",
   "metadata": {
    "scrolled": true,
    "tags": []
   },
   "outputs": [],
   "source": [
    "# remove 1140? annotated as VPMpc\n",
    "clusters = ['1138', '1141', '1142']\n",
    "obs = adata.obs.loc[lambda df: df['cluster_label'].str[:4].isin(clusters)]\n",
    "cplot.plot_nucleus_cluster_comparison_slices(obs, ccf_polygons_th_zi, nuclei=['VM'], legend='cells', bg_cells=adata_neuronal.obs, bg_shapes=False, shape_palette='greyscale')"
   ]
  },
  {
   "cell_type": "markdown",
   "id": "bdc567f3",
   "metadata": {},
   "source": [
    "### diff exp"
   ]
  },
  {
   "cell_type": "code",
   "execution_count": 65,
   "id": "7b5e2331",
   "metadata": {},
   "outputs": [],
   "source": [
    "import scanpy as sc"
   ]
  },
  {
   "cell_type": "code",
   "execution_count": 66,
   "id": "c1416476",
   "metadata": {},
   "outputs": [],
   "source": [
    "sc.tl.rank_genes_groups(adata_neuronal, 'cluster_id', groups=['1142'], reference='1138', method='wilcoxon', rankby_abs=True)\n",
    "sc.pl.rank_genes_groups(adata_neuronal, n_genes=20)"
   ]
  },
  {
   "cell_type": "code",
   "execution_count": 68,
   "id": "01976367",
   "metadata": {},
   "outputs": [],
   "source": [
    "section='1199651045'\n",
    "gene = \"Calb1\"\n",
    "nuclei=['VM', 'VAL']\n",
    "highlight_nuclei=['VM']\n",
    "cplot.plot_expression_ccf(adata_neuronal, section, gene, ccf_polygons, nuclei=nuclei, \n",
    "                    bg_shapes=False, highlight=highlight_nuclei,\n",
    "                    cmap='Blues', show_outline=True);"
   ]
  },
  {
   "cell_type": "code",
   "execution_count": 69,
   "id": "c8189efc",
   "metadata": {},
   "outputs": [],
   "source": [
    "section='1199651045'\n",
    "gene = \"Necab1\"\n",
    "nuclei=['VM', 'VAL']\n",
    "highlight_nuclei=['VM']\n",
    "cplot.plot_expression_ccf(adata_neuronal, section, gene, ccf_polygons, nuclei=nuclei, \n",
    "                    bg_shapes=False, highlight=highlight_nuclei,\n",
    "                    cmap='Blues', show_outline=True);"
   ]
  },
  {
   "cell_type": "code",
   "execution_count": 70,
   "id": "f4925f85",
   "metadata": {},
   "outputs": [],
   "source": [
    "section='1199651045'\n",
    "gene = \"Spon1\"\n",
    "nuclei=['VM', 'VAL']\n",
    "highlight_nuclei=['VM']\n",
    "cplot.plot_expression_ccf(adata_neuronal, section, gene, ccf_polygons, nuclei=nuclei, \n",
    "                    bg_shapes=False, highlight=highlight_nuclei,\n",
    "                    cmap='Blues', show_outline=True);"
   ]
  },
  {
   "cell_type": "code",
   "execution_count": 71,
   "id": "ce60dac3",
   "metadata": {},
   "outputs": [],
   "source": [
    "section='1199651048'\n",
    "gene = \"Cbln1\"\n",
    "nuclei=['VM', 'VAL']\n",
    "highlight_nuclei=['VM']\n",
    "cplot.plot_expression_ccf(adata_neuronal, section, gene, ccf_polygons, nuclei=nuclei, \n",
    "                    bg_shapes=False, highlight=highlight_nuclei,\n",
    "                    cmap='Blues', show_outline=True);"
   ]
  },
  {
   "cell_type": "code",
   "execution_count": 72,
   "id": "2d340ca2",
   "metadata": {},
   "outputs": [],
   "source": [
    "section='1199651048'\n",
    "gene = 'Tmie'\n",
    "nuclei=['VM', 'VAL']\n",
    "highlight_nuclei=['VM']\n",
    "cplot.plot_expression_ccf(adata_neuronal, section, gene, ccf_polygons, nuclei=nuclei, \n",
    "                    bg_shapes=False, highlight=highlight_nuclei,\n",
    "                    cmap='Blues', show_outline=True);"
   ]
  },
  {
   "cell_type": "code",
   "execution_count": 73,
   "id": "675768dd",
   "metadata": {},
   "outputs": [],
   "source": [
    "section='1199651045'\n",
    "gene = 'Galnt18'\n",
    "nuclei=['VM', 'VAL']\n",
    "highlight_nuclei=['VM']\n",
    "cplot.plot_expression_ccf(adata_neuronal, section, gene, ccf_polygons, nuclei=nuclei, \n",
    "                    bg_shapes=False, highlight=highlight_nuclei,\n",
    "                    cmap='Blues', show_outline=True);"
   ]
  },
  {
   "cell_type": "code",
   "execution_count": 74,
   "id": "d77912e8",
   "metadata": {},
   "outputs": [],
   "source": [
    "sc.tl.rank_genes_groups(adata_neuronal, 'supertype_label', groups=['TH Prkcd Grin2c Glut_13'], method='wilcoxon', tie_correct=True)\n",
    "sc.pl.rank_genes_groups(adata_neuronal, n_genes=20)"
   ]
  },
  {
   "cell_type": "code",
   "execution_count": 75,
   "id": "b655766c",
   "metadata": {},
   "outputs": [],
   "source": [
    "sc.tl.rank_genes_groups(adata_neuronal, 'cluster_id', groups=['1142'], method='wilcoxon', tie_correct=True)\n",
    "sc.pl.rank_genes_groups(adata_neuronal, n_genes=20)"
   ]
  },
  {
   "cell_type": "code",
   "execution_count": 76,
   "id": "966d6a8f",
   "metadata": {
    "tags": []
   },
   "outputs": [],
   "source": [
    "# ISH diff ex search\n",
    "# https://mouse.brain-map.org/gene/show/87708\n",
    "\n",
    "section='1199651048'\n",
    "\n",
    "gene = \"Galnt18\"\n",
    "nuclei=['VM', 'VAL']\n",
    "highlight_nuclei=['VM']\n",
    "cplot.plot_expression_ccf(adata_neuronal, section, gene, ccf_polygons, nuclei=nuclei, \n",
    "                    bg_shapes=False, highlight=highlight_nuclei,\n",
    "                    cmap='Blues', show_outline=True);"
   ]
  },
  {
   "cell_type": "code",
   "execution_count": 77,
   "id": "743774be",
   "metadata": {},
   "outputs": [],
   "source": [
    "section='1199651057'\n",
    "nuclei=['VM', 'VAL']\n",
    "highlight_nuclei=['VM']\n",
    "cplot.plot_expression_ccf(adata_neuronal, section, gene, ccf_polygons, nuclei=nuclei, \n",
    "                    bg_shapes=False, highlight=highlight_nuclei,\n",
    "                    cmap='Blues', show_outline=True);"
   ]
  },
  {
   "cell_type": "code",
   "execution_count": 78,
   "id": "35624281",
   "metadata": {
    "tags": []
   },
   "outputs": [],
   "source": [
    "gene = \"Stxbp6\"\n",
    "nuclei=['VM', 'VAL']\n",
    "highlight_nuclei=['VM']\n",
    "cplot.plot_expression_ccf(adata_neuronal, section, gene, ccf_polygons, nuclei=nuclei, \n",
    "                    bg_shapes=False, highlight=highlight_nuclei,\n",
    "                    cmap='Blues', show_outline=True);"
   ]
  },
  {
   "cell_type": "code",
   "execution_count": 79,
   "id": "41dd6daf",
   "metadata": {},
   "outputs": [],
   "source": [
    "section='1199651048'\n",
    "\n",
    "gene = \"Spon1\"\n",
    "nuclei=['VM', 'VAL']\n",
    "highlight_nuclei=['VM']\n",
    "cplot.plot_expression_ccf(adata_neuronal, section, gene, ccf_polygons, nuclei=nuclei, \n",
    "                    bg_shapes=False, highlight=highlight_nuclei,\n",
    "                    cmap='Blues', show_outline=True);"
   ]
  },
  {
   "cell_type": "code",
   "execution_count": 80,
   "id": "0b8c5aab",
   "metadata": {},
   "outputs": [],
   "source": [
    "section='1199651045'\n",
    "nuclei=['VM', 'VAL']\n",
    "highlight_nuclei=['VM']\n",
    "cplot.plot_expression_ccf(adata_neuronal, section, gene, ccf_polygons, nuclei=nuclei, \n",
    "                    bg_shapes=False, highlight=highlight_nuclei,\n",
    "                    cmap='Blues', show_outline=True);"
   ]
  },
  {
   "cell_type": "markdown",
   "id": "2b8d4add",
   "metadata": {
    "tags": []
   },
   "source": [
    "### outlining VM / composition"
   ]
  },
  {
   "cell_type": "code",
   "execution_count": 81,
   "id": "73d0722c",
   "metadata": {},
   "outputs": [],
   "source": [
    "import geopandas as gp\n",
    "neuron_points = gp.GeoSeries.from_xy(*adata_neuronal.obsm['spatial_cirro'].T, index=adata_neuronal.obs_names)"
   ]
  },
  {
   "cell_type": "code",
   "execution_count": 83,
   "id": "ccfbd05a",
   "metadata": {},
   "outputs": [],
   "source": [
    "import hdbscan\n",
    "\n",
    "adata_vm = adata[adata.obs.query(\"section=='1199651048' & cluster_id==1142\").index].copy()\n",
    "df = adata_vm.obs\n",
    "X = df[['cirro_x','cirro_y']].values\n",
    "df['spatial_cluster'] = hdbscan.HDBSCAN(min_samples=10).fit_predict(X)\n",
    "core_clusters = df['spatial_cluster'].value_counts().index[:2]\n",
    "df['spatial_group'] = df['spatial_cluster'].apply(lambda x: 'core' if x in core_clusters else 'other')"
   ]
  },
  {
   "cell_type": "code",
   "execution_count": 85,
   "id": "5e8211d8",
   "metadata": {},
   "outputs": [],
   "source": [
    "sns.scatterplot(data=df,  x='cirro_x', y='cirro_y', hue='spatial_cluster', s=4,  legend=True, palette='tab10')"
   ]
  },
  {
   "cell_type": "code",
   "execution_count": 86,
   "id": "e9d7573b",
   "metadata": {},
   "outputs": [],
   "source": [
    "nucleus = cpoly.get_polygon_from_obs(df.query(\"spatial_group=='core'\"))\n",
    "subset = neuron_points.geometry.intersects(nucleus)\n",
    "adata_neuronal.obs['in_nucleus'] = subset.values\n",
    "adata_nucleus = adata_neuronal[subset]"
   ]
  },
  {
   "cell_type": "code",
   "execution_count": 87,
   "id": "fb6c9269",
   "metadata": {},
   "outputs": [],
   "source": [
    "# sc.pl.embedding(adata_nucleus, \"spatial_cirro\", color=\"supertype_label\")\n",
    "sc.pl.embedding(adata_nucleus, \"spatial_cirro\", color=\"cluster_label\", s=20)"
   ]
  },
  {
   "cell_type": "code",
   "execution_count": 88,
   "id": "7f21386f",
   "metadata": {},
   "outputs": [],
   "source": [
    "adata_neuronal.obs.query(\"section=='1199651048' & supertype_label=='TH Prkcd Grin2c Glut_13'\").groupby(['cluster_label'])['in_nucleus'].apply(lambda x: x.value_counts())"
   ]
  },
  {
   "cell_type": "code",
   "execution_count": 89,
   "id": "c7b5a118",
   "metadata": {},
   "outputs": [],
   "source": [
    "# need to include VAL types ??"
   ]
  },
  {
   "cell_type": "code",
   "execution_count": 90,
   "id": "2676e56d",
   "metadata": {
    "tags": []
   },
   "outputs": [],
   "source": [
    "sc.tl.rank_genes_groups(adata_vm, 'spatial_group', groups=['core'], reference='other', method='wilcoxon', rankby_abs=True)\n",
    "sc.pl.rank_genes_groups(adata_vm, groups=['core'], n_genes=20)"
   ]
  },
  {
   "cell_type": "markdown",
   "id": "8fcb7283",
   "metadata": {},
   "source": [
    "## anterior"
   ]
  },
  {
   "cell_type": "code",
   "execution_count": 91,
   "id": "57174c4f",
   "metadata": {},
   "outputs": [],
   "source": [
    "nuclei=['AD', 'AV', 'AMd', 'AMv']\n",
    "section = '1199651060'\n",
    "# cplot.plot_ccf_section(ccf_polygons_th_zi, section, highlight=nuclei, )\n",
    "cplot.plot_ccf_overlay(adata.obs.loc[[],:], ccf_polygons_th_zi, sections=[section], highlight=nuclei, legend='both', bg_cells=adata_neuronal.obs, bg_shapes=True, min_group_count=0)"
   ]
  },
  {
   "cell_type": "code",
   "execution_count": 92,
   "id": "e1dfce4d",
   "metadata": {
    "scrolled": true,
    "tags": []
   },
   "outputs": [],
   "source": [
    "clusters = [str(x) for x in list(range(1169, 1171+1)) + list(range(1095, 1098+1))]\n",
    "obs = adata.obs.loc[lambda df: df['cluster_label'].str[:4].isin(clusters)]\n",
    "\n",
    "cplot.plot_nucleus_cluster_comparison_slices(obs, ccf_polygons_th_zi, nuclei=nuclei, legend='cells', bg_cells=adata_neuronal.obs, bg_shapes=False, shape_palette='greyscale')"
   ]
  },
  {
   "cell_type": "code",
   "execution_count": 93,
   "id": "172432b7",
   "metadata": {
    "scrolled": true,
    "tags": []
   },
   "outputs": [],
   "source": [
    "# cplot.plot_nucleus_cluster_comparison_slices('AD', adata, nuclei_df, ccf_polygons_th_zi)\n",
    "obs = get_obs_from_annotated_clusters('AD', adata, nuclei_df)\n",
    "cplot.plot_nucleus_cluster_comparison_slices(obs, ccf_polygons_th_zi, nuclei='AD')"
   ]
  },
  {
   "cell_type": "code",
   "execution_count": 94,
   "id": "5595c859",
   "metadata": {
    "scrolled": true,
    "tags": []
   },
   "outputs": [],
   "source": [
    "\n",
    "# cplot.plot_nucleus_cluster_comparison_slices('AD', adata, nuclei_df, ccf_polygons_th_zi)\n",
    "obs = get_obs_from_annotated_clusters('AD', adata, nuclei_df)\n",
    "cplot.plot_nucleus_cluster_comparison_slices(obs, ccf_polygons_th_zi, nuclei='AD')"
   ]
  },
  {
   "cell_type": "markdown",
   "id": "65a9d5f8",
   "metadata": {
    "tags": []
   },
   "source": [
    "### diff exp"
   ]
  },
  {
   "cell_type": "markdown",
   "id": "31ec702b",
   "metadata": {},
   "source": [
    "#### AV"
   ]
  },
  {
   "cell_type": "code",
   "execution_count": 95,
   "id": "817045f2",
   "metadata": {},
   "outputs": [],
   "source": [
    "sc.tl.rank_genes_groups(adata_neuronal, 'subclass_label', groups=['AV Col27a1 Glut'], method='wilcoxon', rankby_abs=True)\n",
    "sc.pl.rank_genes_groups(adata_neuronal, n_genes=20)"
   ]
  },
  {
   "cell_type": "markdown",
   "id": "f65cb383",
   "metadata": {},
   "source": [
    "##### Col27a1"
   ]
  },
  {
   "cell_type": "code",
   "execution_count": 102,
   "id": "490dec18",
   "metadata": {},
   "outputs": [],
   "source": [
    "section='1199651060'\n",
    "\n",
    "gene = \"Col27a1\"\n",
    "ant_nuclei=['AD', 'AV', 'AMd', 'AMv']\n",
    "highlight_nuclei=['AD', 'AV']\n",
    "cplot.plot_expression_ccf(adata_neuronal, section, gene, ccf_polygons, nuclei=ant_nuclei, bg_shapes=False, \n",
    "                    cmap='Blues', show_outline=True, highlight=highlight_nuclei);"
   ]
  },
  {
   "cell_type": "markdown",
   "id": "855b6c38",
   "metadata": {},
   "source": [
    "##### Sorcs3\n",
    "Mathew's plots in brain1 suggested high expression exclusively in the '1097 AV Col27a1 Glut cluster' in the AV\n",
    "\n",
    "That does not appear to be the case in brain3..."
   ]
  },
  {
   "cell_type": "code",
   "execution_count": 103,
   "id": "77d1d518",
   "metadata": {},
   "outputs": [],
   "source": [
    "section='1199651060'\n",
    "\n",
    "# Mathew's plots in brain1 suggested high expression exclusively in the '1097 AV Col27a1 Glut cluster' in the AV\n",
    "# That does not appear to be the case in brain3...\n",
    "gene = \"Sorcs3\"\n",
    "ant_nuclei=['AD', 'AV', 'AMd', 'AMv']\n",
    "highlight_nuclei=['AV']\n",
    "cplot.plot_expression_ccf(adata_neuronal, section, gene, ccf_polygons, nuclei=ant_nuclei, bg_shapes=False, \n",
    "                    cmap='Blues', show_outline=True, highlight=highlight_nuclei);"
   ]
  },
  {
   "cell_type": "markdown",
   "id": "19639f36",
   "metadata": {},
   "source": [
    "#### AD"
   ]
  },
  {
   "cell_type": "code",
   "execution_count": 104,
   "id": "f93f36a5",
   "metadata": {},
   "outputs": [],
   "source": [
    "sc.tl.rank_genes_groups(adata_neuronal, 'subclass_label', groups=['AD Serpinb7 Glut'], method='wilcoxon', rankby_abs=True)\n",
    "sc.pl.rank_genes_groups(adata_neuronal, n_genes=20)"
   ]
  },
  {
   "cell_type": "code",
   "execution_count": 105,
   "id": "62c927bd",
   "metadata": {},
   "outputs": [],
   "source": [
    "section='1199651060'\n",
    "\n",
    "gene = \"Syndig1l\"\n",
    "ant_nuclei=['AD', 'AV', 'AMd', 'AMv']\n",
    "highlight_nuclei=['AD']\n",
    "cplot.plot_expression_ccf(adata_neuronal, section, gene, ccf_polygons, nuclei=ant_nuclei, bg_shapes=False, \n",
    "                    cmap='Blues', show_outline=True, highlight=highlight_nuclei);"
   ]
  },
  {
   "cell_type": "markdown",
   "id": "b9b3376a",
   "metadata": {},
   "source": [
    "#### AM"
   ]
  },
  {
   "cell_type": "code",
   "execution_count": 106,
   "id": "a11d6a48",
   "metadata": {},
   "outputs": [],
   "source": [
    "sc.tl.rank_genes_groups(adata_neuronal, 'supertype_label', groups=['TH Prkcd Grin2c Glut_9'], method='wilcoxon', rankby_abs=True)\n",
    "sc.pl.rank_genes_groups(adata_neuronal, n_genes=20)"
   ]
  },
  {
   "cell_type": "code",
   "execution_count": 107,
   "id": "579ec31c",
   "metadata": {},
   "outputs": [],
   "source": [
    "section='1199651060'\n",
    "\n",
    "gene = \"Cbln1\"\n",
    "ant_nuclei=['AD', 'AV', 'AMd', 'AMv']\n",
    "highlight_nuclei=['AMd', 'AMv']\n",
    "cplot.plot_expression_ccf(adata_neuronal, section, gene, ccf_polygons, nuclei=ant_nuclei, bg_shapes=False, \n",
    "                    cmap='Blues', show_outline=True, highlight=highlight_nuclei);"
   ]
  },
  {
   "cell_type": "code",
   "execution_count": 108,
   "id": "5207789c",
   "metadata": {},
   "outputs": [],
   "source": [
    "adata_neuronal.obs['anterior_type'] = (adata_neuronal.obs['supertype_label'].str.contains('Glut_9') |\n",
    "                                       adata_neuronal.obs['supertype_label'].str.contains('AD') |\n",
    "                                       adata_neuronal.obs['supertype_label'].str.contains('AV')).astype(str)"
   ]
  },
  {
   "cell_type": "code",
   "execution_count": 110,
   "id": "c04ad542",
   "metadata": {},
   "outputs": [],
   "source": [
    "sc.tl.rank_genes_groups(adata_neuronal, 'anterior_type', method='wilcoxon', rankby_abs=True)\n",
    "sc.pl.rank_genes_groups(adata_neuronal, n_genes=20)"
   ]
  },
  {
   "cell_type": "code",
   "execution_count": 111,
   "id": "d9344a50",
   "metadata": {},
   "outputs": [],
   "source": [
    "section='1199651060'\n",
    "\n",
    "gene = \"C1ql3\"\n",
    "nuclei=['AD', 'AV', 'AMd', 'AMv']\n",
    "cplot.plot_expression_ccf(adata_neuronal, section, gene, ccf_polygons, nuclei=nuclei, bg_shapes=False, \n",
    "                    cmap='Blues', show_outline=True);"
   ]
  },
  {
   "cell_type": "code",
   "execution_count": 112,
   "id": "0833d275",
   "metadata": {},
   "outputs": [],
   "source": [
    "section='1199651060'\n",
    "\n",
    "gene = \"Shox2\"\n",
    "nuclei=['AD', 'AV', 'AMd', 'AMv']\n",
    "cplot.plot_expression_ccf(adata_neuronal, section, gene, ccf_polygons, nuclei=nuclei, bg_shapes=False, \n",
    "                    cmap='Blues', show_outline=True);"
   ]
  },
  {
   "cell_type": "markdown",
   "id": "179a742d",
   "metadata": {
    "tags": []
   },
   "source": [
    "## MD"
   ]
  },
  {
   "cell_type": "code",
   "execution_count": 113,
   "id": "06af6339",
   "metadata": {
    "scrolled": true,
    "tags": []
   },
   "outputs": [],
   "source": [
    "cluster = \"1133 TH Prkcd Grin2c Glut_10\"\n",
    "obs = adata.obs.loc[lambda df: df['cluster_label']==cluster]\n",
    "nuclei = ['MD']\n",
    "palette = {cluster: \"#bcbd22\"}\n",
    "cplot.plot_nucleus_cluster_comparison_slices(obs, ccf_polygons_th_zi, nuclei=nuclei, legend='cells', bg_cells=adata_neuronal.obs, bg_shapes=False, \n",
    "                                       shape_palette='dark_outline', point_palette=palette, s=5)"
   ]
  },
  {
   "cell_type": "code",
   "execution_count": 116,
   "id": "1a8b6b3f",
   "metadata": {
    "scrolled": true,
    "tags": []
   },
   "outputs": [],
   "source": [
    "obs = get_obs_from_annotated_clusters('MD', adata, nuclei_df)\n",
    "\n",
    "cplot.plot_nucleus_cluster_comparison_slices(obs, ccf_polygons_th_zi, nuclei=nuclei, legend='cells', bg_cells=adata_neuronal.obs, bg_shapes=False, \n",
    "                                       shape_palette='dark_outline', s=5)"
   ]
  },
  {
   "cell_type": "markdown",
   "id": "2825dcc0",
   "metadata": {},
   "source": [
    "### diff exp"
   ]
  },
  {
   "cell_type": "code",
   "execution_count": 117,
   "id": "f601b4ff",
   "metadata": {},
   "outputs": [],
   "source": [
    "sc.tl.rank_genes_groups(adata_neuronal, 'cluster_id', groups=['1133'], method='wilcoxon', rankby_abs=True)\n",
    "sc.pl.rank_genes_groups(adata_neuronal, n_genes=20)"
   ]
  },
  {
   "cell_type": "markdown",
   "id": "15e6326e",
   "metadata": {
    "tags": []
   },
   "source": [
    "## other"
   ]
  },
  {
   "cell_type": "code",
   "execution_count": 118,
   "id": "c64c8251",
   "metadata": {
    "scrolled": true,
    "tags": []
   },
   "outputs": [],
   "source": [
    "obs = get_obs_from_annotated_clusters('PT', adata, nuclei_df)\n",
    "cplot.plot_nucleus_cluster_comparison_slices(obs, ccf_polygons_th_zi, nuclei='PT', bg_cells=adata_neuronal.obs, bg_shapes=False)"
   ]
  },
  {
   "cell_type": "code",
   "execution_count": 119,
   "id": "c0bca5cf",
   "metadata": {
    "scrolled": true,
    "tags": []
   },
   "outputs": [],
   "source": [
    "obs = adata_neuronal.obs.query(\"supertype_label.str.contains('PVT-PT')\", engine='python')\n",
    "cplot.plot_nucleus_cluster_comparison_slices(obs, ccf_polygons_th_zi, nuclei=['PT','PVT'], bg_cells=adata_neuronal.obs, bg_shapes=False, legend='both')"
   ]
  },
  {
   "cell_type": "code",
   "execution_count": 120,
   "id": "7270d523",
   "metadata": {
    "scrolled": true,
    "tags": []
   },
   "outputs": [],
   "source": [
    "obs = get_obs_from_annotated_clusters('PVT', adata, nuclei_df)\n",
    "cplot.plot_nucleus_cluster_comparison_slices(obs, ccf_polygons_th_zi, nuclei=['PT','PVT'], bg_cells=adata_neuronal.obs, bg_shapes=False, legend='both')"
   ]
  },
  {
   "cell_type": "code",
   "execution_count": 121,
   "id": "1aa1ce84",
   "metadata": {
    "scrolled": true,
    "tags": []
   },
   "outputs": [],
   "source": [
    "obs = get_obs_from_annotated_clusters('LGd', adata, nuclei_df)\n",
    "cplot.plot_nucleus_cluster_comparison_slices(obs, ccf_polygons_th_zi, nuclei=['LGd-co', 'LGd-ip', 'LGd-sh'], bg_cells=adata_neuronal.obs, bg_shapes=False)"
   ]
  },
  {
   "cell_type": "code",
   "execution_count": 122,
   "id": "bfff9f24",
   "metadata": {
    "scrolled": true,
    "tags": []
   },
   "outputs": [],
   "source": [
    "obs = get_obs_from_annotated_clusters('SMT', adata, nuclei_df)\n",
    "cplot.plot_nucleus_cluster_comparison_slices(obs, ccf_polygons_th_zi, nuclei='SMT', bg_cells=adata_neuronal.obs, bg_shapes=False)"
   ]
  },
  {
   "cell_type": "code",
   "execution_count": 123,
   "id": "711ab29c",
   "metadata": {
    "scrolled": true,
    "tags": []
   },
   "outputs": [],
   "source": [
    "obs = get_obs_from_annotated_clusters('LD', adata, nuclei_df)\n",
    "cplot.plot_nucleus_cluster_comparison_slices(obs, ccf_polygons_th_zi, nuclei='LD', bg_cells=adata_neuronal.obs, bg_shapes=False)"
   ]
  }
 ],
 "metadata": {
  "kernelspec": {
   "display_name": "base",
   "language": "python",
   "name": "python3"
  },
  "language_info": {
   "codemirror_mode": {
    "name": "ipython",
    "version": 3
   },
   "file_extension": ".py",
   "mimetype": "text/x-python",
   "name": "python",
   "nbconvert_exporter": "python",
   "pygments_lexer": "ipython3",
   "version": "3.9.12 (main, Apr  5 2022, 06:56:58) \n[GCC 7.5.0]"
  },
  "vscode": {
   "interpreter": {
    "hash": "d4d1e4263499bec80672ea0156c357c1ee493ec2b1c70f0acce89fc37c4a6abe"
   }
  }
 },
 "nbformat": 4,
 "nbformat_minor": 5
}
