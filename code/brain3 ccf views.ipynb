{
 "cells": [
  {
   "cell_type": "code",
   "execution_count": 1,
   "id": "b21f526e-a5f1-4af5-9605-bfa01ee161bf",
   "metadata": {},
   "outputs": [],
   "source": [
    "import anndata as ad\n",
    "import pandas as pd\n",
    "import matplotlib.pyplot as plt\n",
    "import seaborn as sns\n",
    "\n",
    "import ccf_polygons as cpoly\n",
    "import ccf_plots as cplot\n",
    "\n",
    "%matplotlib inline\n",
    "\n",
    "sns.set_style('white')"
   ]
  },
  {
   "cell_type": "code",
   "execution_count": 2,
   "id": "fb170ed4-9f53-4a13-afc3-be84c4f4d370",
   "metadata": {},
   "outputs": [],
   "source": [
    "# import warnings\n",
    "# warnings.filterwarnings('ignore', category=UserWarning)\n",
    "# warnings.filterwarnings('ignore', category=FutureWarning)"
   ]
  },
  {
   "cell_type": "code",
   "execution_count": 3,
   "id": "df778415-c2ec-4ea0-891d-3495b3451788",
   "metadata": {},
   "outputs": [],
   "source": [
    "adata = ad.read_h5ad(\"../data/merfish_638850_AIT17.custom_CCF_annotated_TH_ZI_only_2023-05-04_00-00-00/atlas_brain_638850_AIT17_custom_CCF_annotated_TH_ZI_only.h5ad\")\n",
    "adata"
   ]
  },
  {
   "cell_type": "code",
   "execution_count": null,
   "id": "9d683d03",
   "metadata": {},
   "outputs": [],
   "source": [
    "# for compatibility with new version, should align more fields eventually \n",
    "adata.obs['cluster'] = adata.obs['cluster_label']"
   ]
  },
  {
   "cell_type": "code",
   "execution_count": 5,
   "id": "68bb00da-d2fc-4a88-bbac-46750cc25219",
   "metadata": {},
   "outputs": [],
   "source": [
    "# nice to have everything for plotting in the obs dataframe\n",
    "adata.obs['cirro_x'] = adata.obsm['spatial_cirro'][:,0]\n",
    "adata.obs['cirro_y'] = adata.obsm['spatial_cirro'][:,1]"
   ]
  },
  {
   "cell_type": "markdown",
   "id": "6f96a821-abaf-4240-9958-5f4b68af5e7b",
   "metadata": {},
   "source": [
    "# define and view CCF polygons"
   ]
  },
  {
   "cell_type": "markdown",
   "id": "9d3df1fd-224b-4c0e-8cb9-fe46366760a7",
   "metadata": {},
   "source": [
    "## calc polygons"
   ]
  },
  {
   "cell_type": "code",
   "execution_count": 8,
   "id": "119a19c8-a706-4dd8-a04a-075a18300013",
   "metadata": {},
   "outputs": [],
   "source": [
    "ccf_polygons = cpoly.get_ccf_polygons(adata.obs)"
   ]
  },
  {
   "cell_type": "code",
   "execution_count": 9,
   "id": "850036b8-3320-4d21-94bc-6b7f7c4d274f",
   "metadata": {},
   "outputs": [],
   "source": [
    "ccf_polygons_th_zi = ccf_polygons[ccf_polygons.index.isin(cpoly.CCF_TH_NAMES, level=\"name\")]"
   ]
  },
  {
   "cell_type": "code",
   "execution_count": 10,
   "id": "eb62cdc8-1717-48eb-89a9-09ab5d39dc16",
   "metadata": {},
   "outputs": [],
   "source": [
    "# polygon for whole thalamus outline\n",
    "th_outline_polygons = cpoly.get_outline_polygon(adata.obs)"
   ]
  },
  {
   "cell_type": "code",
   "execution_count": 11,
   "id": "524fe171-736f-4e00-a530-3274eecc34e1",
   "metadata": {
    "scrolled": true,
    "tags": []
   },
   "outputs": [],
   "source": [
    "sections = [\"1199651024\", \"1199651036\", \"1199651048\"]\n",
    "cplot.plot_ccf_overlay(adata.obs, ccf_polygons, sections=sections)"
   ]
  },
  {
   "cell_type": "code",
   "execution_count": 12,
   "id": "2e16856c-da71-4453-9350-4b517d409be5",
   "metadata": {},
   "outputs": [],
   "source": [
    "cplot.plot_section_outline(th_outline_polygons, sections='1199651060', alpha=0.05)"
   ]
  },
  {
   "cell_type": "markdown",
   "id": "bf54ab17-8dcd-4331-b24e-f7cc89368396",
   "metadata": {},
   "source": [
    "### define thalamus subset (requires atlas download)\n",
    "\n",
    "can skip now, result saved"
   ]
  },
  {
   "cell_type": "code",
   "execution_count": 13,
   "id": "2d2004d9-b9e3-47ca-aa54-5a2d0a88514e",
   "metadata": {},
   "outputs": [],
   "source": [
    "# import urllib.request, json \n",
    "# with urllib.request.urlopen(\"http://api.brain-map.org/api/v2/structure_graph_download/1.json\") as url:\n",
    "#     atlas = json.load(url)['msg']"
   ]
  },
  {
   "cell_type": "code",
   "execution_count": 14,
   "id": "1ab095f1-a1a4-43cc-a90d-fa545f1b3efc",
   "metadata": {},
   "outputs": [],
   "source": [
    "# from bg_atlasapi.bg_atlas import BrainGlobeAtlas\n",
    "# atlas = BrainGlobeAtlas(\"allen_mouse_100um\", brainglobe_dir='/scratch/brainglobe/')\n",
    "\n",
    "# ccf_polygons_th_zi = {x: ccf_polygons[x] for x in ccf_polygons.keys() \n",
    "#                       #549: thalamus, 797: ZI\n",
    "#                       if (549 in atlas.structures[x]['structure_id_path'] \n",
    "#                           and not 549==atlas.structures[x]['structure_id_path'][-1])\n",
    "#                       or 797 in atlas.structures[x]['structure_id_path']\n",
    "#                      }"
   ]
  },
  {
   "cell_type": "markdown",
   "id": "9da8bb6c-2ba8-4e92-a1d9-ecd84dc408a5",
   "metadata": {},
   "source": [
    "## view thalamus subset with subclass labels"
   ]
  },
  {
   "cell_type": "code",
   "execution_count": 15,
   "id": "90d57bc0-33ce-4b7f-81a9-a4d4f1bf58c9",
   "metadata": {},
   "outputs": [],
   "source": [
    "adata_neuronal = adata[adata.obs[\"division_id_label\"].isin([\"3 PAL-sAMY-TH-HY-MB-HB neuronal\",\"2 Subpallium GABAergic\",\"4 CBX-MOB-other neuronal\"])].copy()\n",
    "# cluster_id as string to simplify querying\n",
    "adata_neuronal.obs['cluster_id'] = pd.Categorical(adata_neuronal.obs['cluster_id'].astype(int).astype(str))"
   ]
  },
  {
   "cell_type": "code",
   "execution_count": 32,
   "id": "84cb7d8c-7055-4d3e-a05d-e0b130821c9a",
   "metadata": {
    "scrolled": true,
    "tags": []
   },
   "outputs": [],
   "source": [
    "# may need to tweak clustering params on fine \n",
    "cplot.plot_ccf_overlay(adata.obs.iloc[[],:]#no foreground cells\n",
    "                       , ccf_polygons_th_zi, sections=sections, highlight='all', \n",
    "                 bg_cells=adata_neuronal.obs, bg_shapes=False, min_group_count=0, legend=False)"
   ]
  },
  {
   "cell_type": "code",
   "execution_count": 17,
   "id": "5bf0618c-8837-4247-860b-a630aa259105",
   "metadata": {},
   "outputs": [],
   "source": [
    "subclasses = adata_neuronal.obs['subclass_label'].value_counts().loc[lambda x: x>300]\n",
    "subclasses"
   ]
  },
  {
   "cell_type": "code",
   "execution_count": 18,
   "id": "a8e01ea1-4070-4b53-bd55-c00f10c15ba3",
   "metadata": {},
   "outputs": [],
   "source": [
    "len(subclasses)"
   ]
  },
  {
   "cell_type": "code",
   "execution_count": 19,
   "id": "ccb94149-01e3-47e2-b970-dd96ca17de64",
   "metadata": {},
   "outputs": [],
   "source": [
    "adata_neuronal.obs.loc[lambda df: df['subclass_label'].isin(subclasses.index), 'division_id_label'].value_counts().loc[lambda x: x>0]"
   ]
  },
  {
   "cell_type": "code",
   "execution_count": 20,
   "id": "3b097c7c-d407-4c38-bc52-d8d3ac6a261e",
   "metadata": {},
   "outputs": [],
   "source": [
    "adata_neuronal.obs.loc[lambda df: df['subclass_label'].isin(subclasses.index), 'class_label'].value_counts().loc[lambda x: x>0]"
   ]
  },
  {
   "cell_type": "code",
   "execution_count": 21,
   "id": "30afd613-7f2f-4e51-8afa-29601b405a8f",
   "metadata": {},
   "outputs": [],
   "source": [
    "adata_neuronal.obs.loc[lambda df: df['subclass_label'].isin(subclasses.index), 'supertype_label'].unique().shape[0]"
   ]
  },
  {
   "cell_type": "code",
   "execution_count": 22,
   "id": "9e72ffb4-25e3-4fd7-8d7d-34c48cfb252c",
   "metadata": {},
   "outputs": [],
   "source": [
    "adata_neuronal.obs.loc[lambda df: df['subclass_label'].isin(subclasses.index), 'cluster_label'].unique().shape[0]"
   ]
  },
  {
   "cell_type": "code",
   "execution_count": 33,
   "id": "9c7636d3-a64c-4e70-8f72-93a6173f5c3b",
   "metadata": {},
   "outputs": [],
   "source": [
    "from colorcet import glasbey\n",
    "point_palette = dict(zip(subclasses.index, sns.color_palette(glasbey, n_colors=len(subclasses.index))))\n",
    "\n",
    "from matplotlib.colors import rgb2hex\n",
    "{x.replace(' ', '_'): rgb2hex(point_palette[x]) for x in point_palette.keys()}"
   ]
  },
  {
   "cell_type": "code",
   "execution_count": 47,
   "id": "68607550-f2a1-4984-8829-78e04fa30b6d",
   "metadata": {
    "scrolled": true,
    "tags": []
   },
   "outputs": [],
   "source": [
    "obs = adata_neuronal.obs.loc[lambda df: df['subclass_label'].isin(subclasses.index)]\n",
    "cplot.plot_ccf_overlay(obs, ccf_polygons_th_zi, bg_cells=adata_neuronal.obs, point_hue='subclass_label', sections=sections,\n",
    "                 shape_palette='dark_outline', point_palette=point_palette, legend=False, highlight='all', \n",
    "                 min_group_count=30)"
   ]
  },
  {
   "cell_type": "markdown",
   "id": "e6059d52-ef34-4e20-be15-9ce9d592652e",
   "metadata": {},
   "source": [
    "# Investigate prong 1 cluster-nucleus groups"
   ]
  },
  {
   "cell_type": "code",
   "execution_count": 48,
   "id": "1ce5008d-48df-4be3-aa2e-8952af892f53",
   "metadata": {
    "tags": []
   },
   "outputs": [],
   "source": [
    "nuclei_df = pd.read_csv(\"../resources/Prong 1 Vitessce links by nucleus.csv\", index_col=0)\n",
    "\n",
    "def get_obs_from_annotated_clusters(name, adata, nuclei_df):\n",
    "    clusters = nuclei_df.loc[name, \"annotated clusters\"].split(', ')\n",
    "    obs = adata.obs.loc[lambda df: df['cluster_label'].str[:4].isin(clusters)]\n",
    "    return obs"
   ]
  },
  {
   "cell_type": "markdown",
   "id": "58d01918-e6e5-443d-9b74-59e287301a8e",
   "metadata": {},
   "source": [
    "## VM"
   ]
  },
  {
   "cell_type": "code",
   "execution_count": 63,
   "id": "d9bcbfe5-5eae-4e86-bfd0-818e7a2db1e8",
   "metadata": {
    "scrolled": true,
    "tags": []
   },
   "outputs": [],
   "source": [
    "# obs = get_obs_from_annotated_clusters('VM', adata, nuclei_df)\n",
    "obs = adata_neuronal.obs.query(\"cluster_label=='1142 TH Prkcd Grin2c Glut_13'\")\n",
    "cplot.plot_nucleus_cluster_comparison_slices(obs, ccf_polygons_th_zi, nuclei=['VM', 'VAL'], legend='both', bg_cells=adata_neuronal.obs, bg_shapes=False)"
   ]
  },
  {
   "cell_type": "code",
   "execution_count": 60,
   "id": "ef97153f-b284-42e6-bc43-11c9888fcc62",
   "metadata": {},
   "outputs": [],
   "source": [
    "obs = adata_neuronal.obs.query(\"supertype_label=='TH Prkcd Grin2c Glut_13'\")\n",
    "obs['cluster_label'].value_counts().loc[lambda x: x>5]"
   ]
  },
  {
   "cell_type": "code",
   "execution_count": 64,
   "id": "6bd81b2f-c28f-46cd-a180-501b86e2f32d",
   "metadata": {
    "scrolled": true,
    "tags": []
   },
   "outputs": [],
   "source": [
    "# remove 1140? annotated as VPMpc\n",
    "clusters = ['1138', '1141', '1142']\n",
    "obs = adata.obs.loc[lambda df: df['cluster_label'].str[:4].isin(clusters)]\n",
    "cplot.plot_nucleus_cluster_comparison_slices(obs, ccf_polygons_th_zi, nuclei=['VM'], legend='cells', bg_cells=adata_neuronal.obs, bg_shapes=False, shape_palette='greyscale')"
   ]
  },
  {
   "cell_type": "markdown",
   "id": "82a27e61-d95a-4814-96fa-cfda2c1ef989",
   "metadata": {},
   "source": [
    "### diff exp"
   ]
  },
  {
   "cell_type": "code",
   "execution_count": 65,
   "id": "86c752c2-e00f-4954-91f2-cad4562c347b",
   "metadata": {},
   "outputs": [],
   "source": [
    "import scanpy as sc"
   ]
  },
  {
   "cell_type": "code",
   "execution_count": 66,
   "id": "cbd366e0-26fb-46c5-90fa-a07a3c7bfe68",
   "metadata": {},
   "outputs": [],
   "source": [
    "sc.tl.rank_genes_groups(adata_neuronal, 'cluster_id', groups=['1142'], reference='1138', method='wilcoxon', rankby_abs=True)\n",
    "sc.pl.rank_genes_groups(adata_neuronal, n_genes=20)"
   ]
  },
  {
   "cell_type": "code",
   "execution_count": 68,
   "id": "18d7ed38-fe8f-44b4-bb12-e42aefb79e3f",
   "metadata": {},
   "outputs": [],
   "source": [
    "section='1199651045'\n",
    "gene = \"Calb1\"\n",
    "nuclei=['VM', 'VAL']\n",
    "highlight_nuclei=['VM']\n",
    "cplot.plot_expression_ccf(adata_neuronal, section, gene, ccf_polygons, nuclei=nuclei, \n",
    "                    bg_shapes=False, highlight=highlight_nuclei,\n",
    "                    cmap='Blues', show_outline=True);"
   ]
  },
  {
   "cell_type": "code",
   "execution_count": 69,
   "id": "636f2ab8-a3d9-45ef-984f-6049851626c0",
   "metadata": {},
   "outputs": [],
   "source": [
    "section='1199651045'\n",
    "gene = \"Necab1\"\n",
    "nuclei=['VM', 'VAL']\n",
    "highlight_nuclei=['VM']\n",
    "cplot.plot_expression_ccf(adata_neuronal, section, gene, ccf_polygons, nuclei=nuclei, \n",
    "                    bg_shapes=False, highlight=highlight_nuclei,\n",
    "                    cmap='Blues', show_outline=True);"
   ]
  },
  {
   "cell_type": "code",
   "execution_count": 70,
   "id": "5cc1b9f2-e2cf-4410-9d9f-a96e4bd14ac3",
   "metadata": {},
   "outputs": [],
   "source": [
    "section='1199651045'\n",
    "gene = \"Spon1\"\n",
    "nuclei=['VM', 'VAL']\n",
    "highlight_nuclei=['VM']\n",
    "cplot.plot_expression_ccf(adata_neuronal, section, gene, ccf_polygons, nuclei=nuclei, \n",
    "                    bg_shapes=False, highlight=highlight_nuclei,\n",
    "                    cmap='Blues', show_outline=True);"
   ]
  },
  {
   "cell_type": "code",
   "execution_count": 71,
   "id": "7ae30f6e-9eb9-452e-9077-db6935b4fad7",
   "metadata": {},
   "outputs": [],
   "source": [
    "section='1199651048'\n",
    "gene = \"Cbln1\"\n",
    "nuclei=['VM', 'VAL']\n",
    "highlight_nuclei=['VM']\n",
    "cplot.plot_expression_ccf(adata_neuronal, section, gene, ccf_polygons, nuclei=nuclei, \n",
    "                    bg_shapes=False, highlight=highlight_nuclei,\n",
    "                    cmap='Blues', show_outline=True);"
   ]
  },
  {
   "cell_type": "code",
   "execution_count": 72,
   "id": "d89dfc18-7175-4ea1-a9f1-9f8f8512b9b9",
   "metadata": {},
   "outputs": [],
   "source": [
    "section='1199651048'\n",
    "gene = 'Tmie'\n",
    "nuclei=['VM', 'VAL']\n",
    "highlight_nuclei=['VM']\n",
    "cplot.plot_expression_ccf(adata_neuronal, section, gene, ccf_polygons, nuclei=nuclei, \n",
    "                    bg_shapes=False, highlight=highlight_nuclei,\n",
    "                    cmap='Blues', show_outline=True);"
   ]
  },
  {
   "cell_type": "code",
   "execution_count": 73,
   "id": "a8dfac1e-f53a-46d9-b876-31c84648bef6",
   "metadata": {},
   "outputs": [],
   "source": [
    "section='1199651045'\n",
    "gene = 'Galnt18'\n",
    "nuclei=['VM', 'VAL']\n",
    "highlight_nuclei=['VM']\n",
    "cplot.plot_expression_ccf(adata_neuronal, section, gene, ccf_polygons, nuclei=nuclei, \n",
    "                    bg_shapes=False, highlight=highlight_nuclei,\n",
    "                    cmap='Blues', show_outline=True);"
   ]
  },
  {
   "cell_type": "code",
   "execution_count": 74,
   "id": "a4886fc8-03fb-443b-9ea4-1ad7d0802302",
   "metadata": {},
   "outputs": [],
   "source": [
    "sc.tl.rank_genes_groups(adata_neuronal, 'supertype_label', groups=['TH Prkcd Grin2c Glut_13'], method='wilcoxon', tie_correct=True)\n",
    "sc.pl.rank_genes_groups(adata_neuronal, n_genes=20)"
   ]
  },
  {
   "cell_type": "code",
   "execution_count": 75,
   "id": "4055869a-5409-41e4-9bb3-dd12196b89c2",
   "metadata": {},
   "outputs": [],
   "source": [
    "sc.tl.rank_genes_groups(adata_neuronal, 'cluster_id', groups=['1142'], method='wilcoxon', tie_correct=True)\n",
    "sc.pl.rank_genes_groups(adata_neuronal, n_genes=20)"
   ]
  },
  {
   "cell_type": "code",
   "execution_count": 76,
   "id": "9e0a9a2a-2735-4e21-b735-80bc358a0ae9",
   "metadata": {
    "tags": []
   },
   "outputs": [],
   "source": [
    "# ISH diff ex search\n",
    "# https://mouse.brain-map.org/gene/show/87708\n",
    "\n",
    "section='1199651048'\n",
    "\n",
    "gene = \"Galnt18\"\n",
    "nuclei=['VM', 'VAL']\n",
    "highlight_nuclei=['VM']\n",
    "cplot.plot_expression_ccf(adata_neuronal, section, gene, ccf_polygons, nuclei=nuclei, \n",
    "                    bg_shapes=False, highlight=highlight_nuclei,\n",
    "                    cmap='Blues', show_outline=True);"
   ]
  },
  {
   "cell_type": "code",
   "execution_count": 77,
   "id": "be76998b-dcbe-477b-82bf-39ddd9371452",
   "metadata": {},
   "outputs": [],
   "source": [
    "section='1199651057'\n",
    "nuclei=['VM', 'VAL']\n",
    "highlight_nuclei=['VM']\n",
    "cplot.plot_expression_ccf(adata_neuronal, section, gene, ccf_polygons, nuclei=nuclei, \n",
    "                    bg_shapes=False, highlight=highlight_nuclei,\n",
    "                    cmap='Blues', show_outline=True);"
   ]
  },
  {
   "cell_type": "code",
   "execution_count": 78,
   "id": "9fa6b6ab-6ff2-4d8d-bd1b-e44e70b9fab3",
   "metadata": {
    "tags": []
   },
   "outputs": [],
   "source": [
    "gene = \"Stxbp6\"\n",
    "nuclei=['VM', 'VAL']\n",
    "highlight_nuclei=['VM']\n",
    "cplot.plot_expression_ccf(adata_neuronal, section, gene, ccf_polygons, nuclei=nuclei, \n",
    "                    bg_shapes=False, highlight=highlight_nuclei,\n",
    "                    cmap='Blues', show_outline=True);"
   ]
  },
  {
   "cell_type": "code",
   "execution_count": 79,
   "id": "ecde0be8-6f82-4080-9993-265db50fc801",
   "metadata": {},
   "outputs": [],
   "source": [
    "section='1199651048'\n",
    "\n",
    "gene = \"Spon1\"\n",
    "nuclei=['VM', 'VAL']\n",
    "highlight_nuclei=['VM']\n",
    "cplot.plot_expression_ccf(adata_neuronal, section, gene, ccf_polygons, nuclei=nuclei, \n",
    "                    bg_shapes=False, highlight=highlight_nuclei,\n",
    "                    cmap='Blues', show_outline=True);"
   ]
  },
  {
   "cell_type": "code",
   "execution_count": 80,
   "id": "6e9032f5-eb3d-4909-aff8-87460926e605",
   "metadata": {},
   "outputs": [],
   "source": [
    "section='1199651045'\n",
    "nuclei=['VM', 'VAL']\n",
    "highlight_nuclei=['VM']\n",
    "cplot.plot_expression_ccf(adata_neuronal, section, gene, ccf_polygons, nuclei=nuclei, \n",
    "                    bg_shapes=False, highlight=highlight_nuclei,\n",
    "                    cmap='Blues', show_outline=True);"
   ]
  },
  {
   "cell_type": "markdown",
   "id": "899d185b-f893-4956-b7df-48c9c441b744",
   "metadata": {
    "tags": []
   },
   "source": [
    "### outlining VM / composition"
   ]
  },
  {
   "cell_type": "code",
   "execution_count": 81,
   "id": "34d79cd3-b91c-4a8b-b77e-38239d8ec895",
   "metadata": {},
   "outputs": [],
   "source": [
    "import geopandas as gp\n",
    "neuron_points = gp.GeoSeries.from_xy(*adata_neuronal.obsm['spatial_cirro'].T, index=adata_neuronal.obs_names)"
   ]
  },
  {
   "cell_type": "code",
   "execution_count": 83,
   "id": "efa02d54-fa77-4aec-aacb-73ec210f07b1",
   "metadata": {},
   "outputs": [],
   "source": [
    "import hdbscan\n",
    "\n",
    "adata_vm = adata[adata.obs.query(\"section=='1199651048' & cluster_id==1142\").index].copy()\n",
    "df = adata_vm.obs\n",
    "X = df[['cirro_x','cirro_y']].values\n",
    "df['spatial_cluster'] = hdbscan.HDBSCAN(min_samples=10).fit_predict(X)\n",
    "core_clusters = df['spatial_cluster'].value_counts().index[:2]\n",
    "df['spatial_group'] = df['spatial_cluster'].apply(lambda x: 'core' if x in core_clusters else 'other')"
   ]
  },
  {
   "cell_type": "code",
   "execution_count": 85,
   "id": "1903b71f-5d5b-435e-9dfd-48651ce85a48",
   "metadata": {},
   "outputs": [],
   "source": [
    "sns.scatterplot(data=df,  x='cirro_x', y='cirro_y', hue='spatial_cluster', s=4,  legend=True, palette='tab10')"
   ]
  },
  {
   "cell_type": "code",
   "execution_count": 86,
   "id": "6a550495-7f21-408f-b008-c759904383c1",
   "metadata": {},
   "outputs": [],
   "source": [
    "nucleus = cpoly.get_polygon_from_obs(df.query(\"spatial_group=='core'\"))\n",
    "subset = neuron_points.geometry.intersects(nucleus)\n",
    "adata_neuronal.obs['in_nucleus'] = subset.values\n",
    "adata_nucleus = adata_neuronal[subset]"
   ]
  },
  {
   "cell_type": "code",
   "execution_count": 87,
   "id": "a5bc5663-877d-468f-9792-d6519a21710c",
   "metadata": {},
   "outputs": [],
   "source": [
    "# sc.pl.embedding(adata_nucleus, \"spatial_cirro\", color=\"supertype_label\")\n",
    "sc.pl.embedding(adata_nucleus, \"spatial_cirro\", color=\"cluster_label\", s=20)"
   ]
  },
  {
   "cell_type": "code",
   "execution_count": 88,
   "id": "bea5e4ac-1b41-4450-8b81-3c95b590d9d1",
   "metadata": {},
   "outputs": [],
   "source": [
    "adata_neuronal.obs.query(\"section=='1199651048' & supertype_label=='TH Prkcd Grin2c Glut_13'\").groupby(['cluster_label'])['in_nucleus'].apply(lambda x: x.value_counts())"
   ]
  },
  {
   "cell_type": "code",
   "execution_count": 89,
   "id": "c9f19460-4f9d-4665-b8d5-6884cbf2dce0",
   "metadata": {},
   "outputs": [],
   "source": [
    "# need to include VAL types ??"
   ]
  },
  {
   "cell_type": "code",
   "execution_count": 90,
   "id": "e12814fd-1a2c-466e-b717-4d80554f14e9",
   "metadata": {
    "tags": []
   },
   "outputs": [],
   "source": [
    "sc.tl.rank_genes_groups(adata_vm, 'spatial_group', groups=['core'], reference='other', method='wilcoxon', rankby_abs=True)\n",
    "sc.pl.rank_genes_groups(adata_vm, groups=['core'], n_genes=20)"
   ]
  },
  {
   "cell_type": "markdown",
   "id": "cf934f53-f634-4e39-bad1-57c31fd4d46a",
   "metadata": {},
   "source": [
    "## anterior"
   ]
  },
  {
   "cell_type": "code",
   "execution_count": 91,
   "id": "00f4bf3e-4db3-4319-adec-aa0ff27930a6",
   "metadata": {},
   "outputs": [],
   "source": [
    "nuclei=['AD', 'AV', 'AMd', 'AMv']\n",
    "section = '1199651060'\n",
    "# cplot.plot_ccf_section(ccf_polygons_th_zi, section, highlight=nuclei, )\n",
    "cplot.plot_ccf_overlay(adata.obs.loc[[],:], ccf_polygons_th_zi, sections=[section], highlight=nuclei, legend='both', bg_cells=adata_neuronal.obs, bg_shapes=True, min_group_count=0)"
   ]
  },
  {
   "cell_type": "code",
   "execution_count": 92,
   "id": "5be709c9-9782-409e-82ad-95bf71c0a8b0",
   "metadata": {
    "scrolled": true,
    "tags": []
   },
   "outputs": [],
   "source": [
    "clusters = [str(x) for x in list(range(1169, 1171+1)) + list(range(1095, 1098+1))]\n",
    "obs = adata.obs.loc[lambda df: df['cluster_label'].str[:4].isin(clusters)]\n",
    "\n",
    "cplot.plot_nucleus_cluster_comparison_slices(obs, ccf_polygons_th_zi, nuclei=nuclei, legend='cells', bg_cells=adata_neuronal.obs, bg_shapes=False, shape_palette='greyscale')"
   ]
  },
  {
   "cell_type": "code",
   "execution_count": 93,
   "id": "57351b66-0a81-4c9d-a997-46d736ba8878",
   "metadata": {
    "scrolled": true,
    "tags": []
   },
   "outputs": [],
   "source": [
    "# cplot.plot_nucleus_cluster_comparison_slices('AD', adata, nuclei_df, ccf_polygons_th_zi)\n",
    "obs = get_obs_from_annotated_clusters('AD', adata, nuclei_df)\n",
    "cplot.plot_nucleus_cluster_comparison_slices(obs, ccf_polygons_th_zi, nuclei='AD')"
   ]
  },
  {
   "cell_type": "code",
   "execution_count": 94,
   "id": "b26e9734-4dd5-4965-bc43-dce458582b68",
   "metadata": {
    "scrolled": true,
    "tags": []
   },
   "outputs": [],
   "source": [
    "\n",
    "# cplot.plot_nucleus_cluster_comparison_slices('AD', adata, nuclei_df, ccf_polygons_th_zi)\n",
    "obs = get_obs_from_annotated_clusters('AD', adata, nuclei_df)\n",
    "cplot.plot_nucleus_cluster_comparison_slices(obs, ccf_polygons_th_zi, nuclei='AD')"
   ]
  },
  {
   "cell_type": "markdown",
   "id": "dd98c3d5-d285-4110-9f35-e961564f7869",
   "metadata": {
    "tags": []
   },
   "source": [
    "### diff exp"
   ]
  },
  {
   "cell_type": "markdown",
   "id": "dadd0ac9-97a2-466d-9609-a154445a788d",
   "metadata": {},
   "source": [
    "#### AV"
   ]
  },
  {
   "cell_type": "code",
   "execution_count": 95,
   "id": "44e2abeb-7158-4b0e-ac27-33d20041a5ed",
   "metadata": {},
   "outputs": [],
   "source": [
    "sc.tl.rank_genes_groups(adata_neuronal, 'subclass_label', groups=['AV Col27a1 Glut'], method='wilcoxon', rankby_abs=True)\n",
    "sc.pl.rank_genes_groups(adata_neuronal, n_genes=20)"
   ]
  },
  {
   "cell_type": "markdown",
   "id": "f7f5e9ba-875a-4b0e-b3a8-33aee98f00fe",
   "metadata": {},
   "source": [
    "##### Col27a1"
   ]
  },
  {
   "cell_type": "code",
   "execution_count": 102,
   "id": "95c79503-9d89-4943-8ab7-113521cfc4d1",
   "metadata": {},
   "outputs": [],
   "source": [
    "section='1199651060'\n",
    "\n",
    "gene = \"Col27a1\"\n",
    "ant_nuclei=['AD', 'AV', 'AMd', 'AMv']\n",
    "highlight_nuclei=['AD', 'AV']\n",
    "cplot.plot_expression_ccf(adata_neuronal, section, gene, ccf_polygons, nuclei=ant_nuclei, bg_shapes=False, \n",
    "                    cmap='Blues', show_outline=True, highlight=highlight_nuclei);"
   ]
  },
  {
   "cell_type": "markdown",
   "id": "6200cd79-0047-442f-b96b-3962e736e826",
   "metadata": {},
   "source": [
    "##### Sorcs3\n",
    "Mathew's plots in brain1 suggested high expression exclusively in the '1097 AV Col27a1 Glut cluster' in the AV\n",
    "\n",
    "That does not appear to be the case in brain3..."
   ]
  },
  {
   "cell_type": "code",
   "execution_count": 103,
   "id": "ecd4d343-c696-4b33-8f38-bb4b44630d17",
   "metadata": {},
   "outputs": [],
   "source": [
    "section='1199651060'\n",
    "\n",
    "# Mathew's plots in brain1 suggested high expression exclusively in the '1097 AV Col27a1 Glut cluster' in the AV\n",
    "# That does not appear to be the case in brain3...\n",
    "gene = \"Sorcs3\"\n",
    "ant_nuclei=['AD', 'AV', 'AMd', 'AMv']\n",
    "highlight_nuclei=['AV']\n",
    "cplot.plot_expression_ccf(adata_neuronal, section, gene, ccf_polygons, nuclei=ant_nuclei, bg_shapes=False, \n",
    "                    cmap='Blues', show_outline=True, highlight=highlight_nuclei);"
   ]
  },
  {
   "cell_type": "markdown",
   "id": "02a2413a-c449-4021-9b96-5d467169f973",
   "metadata": {},
   "source": [
    "#### AD"
   ]
  },
  {
   "cell_type": "code",
   "execution_count": 104,
   "id": "e222f084-6f18-4e6e-99e4-c6d1b2e3b276",
   "metadata": {},
   "outputs": [],
   "source": [
    "sc.tl.rank_genes_groups(adata_neuronal, 'subclass_label', groups=['AD Serpinb7 Glut'], method='wilcoxon', rankby_abs=True)\n",
    "sc.pl.rank_genes_groups(adata_neuronal, n_genes=20)"
   ]
  },
  {
   "cell_type": "code",
   "execution_count": 105,
   "id": "7537750a-1d05-453f-9f4a-6231d2855730",
   "metadata": {},
   "outputs": [],
   "source": [
    "section='1199651060'\n",
    "\n",
    "gene = \"Syndig1l\"\n",
    "ant_nuclei=['AD', 'AV', 'AMd', 'AMv']\n",
    "highlight_nuclei=['AD']\n",
    "cplot.plot_expression_ccf(adata_neuronal, section, gene, ccf_polygons, nuclei=ant_nuclei, bg_shapes=False, \n",
    "                    cmap='Blues', show_outline=True, highlight=highlight_nuclei);"
   ]
  },
  {
   "cell_type": "markdown",
   "id": "d140b73f-e065-4326-b5cc-f88aefd5e3ad",
   "metadata": {},
   "source": [
    "#### AM"
   ]
  },
  {
   "cell_type": "code",
   "execution_count": 106,
   "id": "2160e5ac-1999-4b56-b64f-c42f3763649f",
   "metadata": {},
   "outputs": [],
   "source": [
    "sc.tl.rank_genes_groups(adata_neuronal, 'supertype_label', groups=['TH Prkcd Grin2c Glut_9'], method='wilcoxon', rankby_abs=True)\n",
    "sc.pl.rank_genes_groups(adata_neuronal, n_genes=20)"
   ]
  },
  {
   "cell_type": "code",
   "execution_count": 107,
   "id": "74194b27-9ee1-42d0-98d0-6f424f6be6ab",
   "metadata": {},
   "outputs": [],
   "source": [
    "section='1199651060'\n",
    "\n",
    "gene = \"Cbln1\"\n",
    "ant_nuclei=['AD', 'AV', 'AMd', 'AMv']\n",
    "highlight_nuclei=['AMd', 'AMv']\n",
    "cplot.plot_expression_ccf(adata_neuronal, section, gene, ccf_polygons, nuclei=ant_nuclei, bg_shapes=False, \n",
    "                    cmap='Blues', show_outline=True, highlight=highlight_nuclei);"
   ]
  },
  {
   "cell_type": "code",
   "execution_count": 108,
   "id": "8d8544ec-edc5-4f6a-8843-e9eb3877d9ef",
   "metadata": {},
   "outputs": [],
   "source": [
    "adata_neuronal.obs['anterior_type'] = (adata_neuronal.obs['supertype_label'].str.contains('Glut_9') |\n",
    "                                       adata_neuronal.obs['supertype_label'].str.contains('AD') |\n",
    "                                       adata_neuronal.obs['supertype_label'].str.contains('AV')).astype(str)"
   ]
  },
  {
   "cell_type": "code",
   "execution_count": 110,
   "id": "d75e4955-7944-4087-8be0-c9ce11de505f",
   "metadata": {},
   "outputs": [],
   "source": [
    "sc.tl.rank_genes_groups(adata_neuronal, 'anterior_type', method='wilcoxon', rankby_abs=True)\n",
    "sc.pl.rank_genes_groups(adata_neuronal, n_genes=20)"
   ]
  },
  {
   "cell_type": "code",
   "execution_count": 111,
   "id": "3b24566e-5a74-40ce-9578-bf571dca91ee",
   "metadata": {},
   "outputs": [],
   "source": [
    "section='1199651060'\n",
    "\n",
    "gene = \"C1ql3\"\n",
    "nuclei=['AD', 'AV', 'AMd', 'AMv']\n",
    "cplot.plot_expression_ccf(adata_neuronal, section, gene, ccf_polygons, nuclei=nuclei, bg_shapes=False, \n",
    "                    cmap='Blues', show_outline=True);"
   ]
  },
  {
   "cell_type": "code",
   "execution_count": 112,
   "id": "8a0f290d-6336-46e9-a515-1d5170142f65",
   "metadata": {},
   "outputs": [],
   "source": [
    "section='1199651060'\n",
    "\n",
    "gene = \"Shox2\"\n",
    "nuclei=['AD', 'AV', 'AMd', 'AMv']\n",
    "cplot.plot_expression_ccf(adata_neuronal, section, gene, ccf_polygons, nuclei=nuclei, bg_shapes=False, \n",
    "                    cmap='Blues', show_outline=True);"
   ]
  },
  {
   "cell_type": "markdown",
   "id": "a51bc67b-895d-4b10-89cd-323a55c06985",
   "metadata": {
    "tags": []
   },
   "source": [
    "## MD"
   ]
  },
  {
   "cell_type": "code",
   "execution_count": 113,
   "id": "3a7b010b-93b3-406b-8eec-f1ca74753951",
   "metadata": {
    "scrolled": true,
    "tags": []
   },
   "outputs": [],
   "source": [
    "cluster = \"1133 TH Prkcd Grin2c Glut_10\"\n",
    "obs = adata.obs.loc[lambda df: df['cluster_label']==cluster]\n",
    "nuclei = ['MD']\n",
    "palette = {cluster: \"#bcbd22\"}\n",
    "cplot.plot_nucleus_cluster_comparison_slices(obs, ccf_polygons_th_zi, nuclei=nuclei, legend='cells', bg_cells=adata_neuronal.obs, bg_shapes=False, \n",
    "                                       shape_palette='dark_outline', point_palette=palette, s=5)"
   ]
  },
  {
   "cell_type": "code",
   "execution_count": 116,
   "id": "3cd9ebf9-c6e6-4b8c-be32-3ddbf33f3399",
   "metadata": {
    "scrolled": true,
    "tags": []
   },
   "outputs": [],
   "source": [
    "obs = get_obs_from_annotated_clusters('MD', adata, nuclei_df)\n",
    "\n",
    "cplot.plot_nucleus_cluster_comparison_slices(obs, ccf_polygons_th_zi, nuclei=nuclei, legend='cells', bg_cells=adata_neuronal.obs, bg_shapes=False, \n",
    "                                       shape_palette='dark_outline', s=5)"
   ]
  },
  {
   "cell_type": "markdown",
   "id": "2dbb13e9-4f18-4d12-9050-a4dbbdf6b6c9",
   "metadata": {},
   "source": [
    "### diff exp"
   ]
  },
  {
   "cell_type": "code",
   "execution_count": 117,
   "id": "19801e4a-3814-48a5-bdff-f67746981d2a",
   "metadata": {},
   "outputs": [],
   "source": [
    "sc.tl.rank_genes_groups(adata_neuronal, 'cluster_id', groups=['1133'], method='wilcoxon', rankby_abs=True)\n",
    "sc.pl.rank_genes_groups(adata_neuronal, n_genes=20)"
   ]
  },
  {
   "cell_type": "markdown",
   "id": "4387e563-b976-4b69-8335-90b0ae99adb0",
   "metadata": {
    "tags": []
   },
   "source": [
    "## other"
   ]
  },
  {
   "cell_type": "code",
   "execution_count": 118,
   "id": "31215762-e2f0-4c76-a2fa-83888fd49530",
   "metadata": {
    "scrolled": true,
    "tags": []
   },
   "outputs": [],
   "source": [
    "obs = get_obs_from_annotated_clusters('PT', adata, nuclei_df)\n",
    "cplot.plot_nucleus_cluster_comparison_slices(obs, ccf_polygons_th_zi, nuclei='PT', bg_cells=adata_neuronal.obs, bg_shapes=False)"
   ]
  },
  {
   "cell_type": "code",
   "execution_count": 119,
   "id": "c90bffe0-5849-4118-85b9-2554aee73c91",
   "metadata": {
    "scrolled": true,
    "tags": []
   },
   "outputs": [],
   "source": [
    "obs = adata_neuronal.obs.query(\"supertype_label.str.contains('PVT-PT')\", engine='python')\n",
    "cplot.plot_nucleus_cluster_comparison_slices(obs, ccf_polygons_th_zi, nuclei=['PT','PVT'], bg_cells=adata_neuronal.obs, bg_shapes=False, legend='both')"
   ]
  },
  {
   "cell_type": "code",
   "execution_count": 120,
   "id": "47ae967e-e879-47f6-b21b-06b6bd06b257",
   "metadata": {
    "scrolled": true,
    "tags": []
   },
   "outputs": [],
   "source": [
    "obs = get_obs_from_annotated_clusters('PVT', adata, nuclei_df)\n",
    "cplot.plot_nucleus_cluster_comparison_slices(obs, ccf_polygons_th_zi, nuclei=['PT','PVT'], bg_cells=adata_neuronal.obs, bg_shapes=False, legend='both')"
   ]
  },
  {
   "cell_type": "code",
   "execution_count": 121,
   "id": "e7fb693e-4197-407a-ad50-4db386025471",
   "metadata": {
    "scrolled": true,
    "tags": []
   },
   "outputs": [],
   "source": [
    "obs = get_obs_from_annotated_clusters('LGd', adata, nuclei_df)\n",
    "cplot.plot_nucleus_cluster_comparison_slices(obs, ccf_polygons_th_zi, nuclei=['LGd-co', 'LGd-ip', 'LGd-sh'], bg_cells=adata_neuronal.obs, bg_shapes=False)"
   ]
  },
  {
   "cell_type": "code",
   "execution_count": 122,
   "id": "f3153ee9-0bfc-4ce2-83c1-0d400007aa5d",
   "metadata": {
    "scrolled": true,
    "tags": []
   },
   "outputs": [],
   "source": [
    "obs = get_obs_from_annotated_clusters('SMT', adata, nuclei_df)\n",
    "cplot.plot_nucleus_cluster_comparison_slices(obs, ccf_polygons_th_zi, nuclei='SMT', bg_cells=adata_neuronal.obs, bg_shapes=False)"
   ]
  },
  {
   "cell_type": "code",
   "execution_count": 123,
   "id": "83f73d53-ca19-4662-988e-70ffc0e21114",
   "metadata": {
    "scrolled": true,
    "tags": []
   },
   "outputs": [],
   "source": [
    "obs = get_obs_from_annotated_clusters('LD', adata, nuclei_df)\n",
    "cplot.plot_nucleus_cluster_comparison_slices(obs, ccf_polygons_th_zi, nuclei='LD', bg_cells=adata_neuronal.obs, bg_shapes=False)"
   ]
  }
 ],
 "metadata": {
  "kernelspec": {
   "display_name": "Python 3",
   "language": "python",
   "name": "python3"
  },
  "language_info": {
   "codemirror_mode": {
    "name": "ipython",
    "version": 3
   },
   "file_extension": ".py",
   "mimetype": "text/x-python",
   "name": "python",
   "nbconvert_exporter": "python",
   "pygments_lexer": "ipython3",
   "version": "3.9.12"
  },
  "vscode": {
   "interpreter": {
    "hash": "d4d1e4263499bec80672ea0156c357c1ee493ec2b1c70f0acce89fc37c4a6abe"
   }
  }
 },
 "nbformat": 4,
 "nbformat_minor": 5
}
