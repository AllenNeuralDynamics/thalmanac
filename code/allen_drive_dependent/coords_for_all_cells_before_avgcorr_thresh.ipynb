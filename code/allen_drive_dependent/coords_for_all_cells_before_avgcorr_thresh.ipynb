{
 "cells": [
  {
   "cell_type": "code",
   "execution_count": 1,
   "id": "84170d27-efb2-49c3-a146-789aa2d9f91d",
   "metadata": {
    "tags": []
   },
   "outputs": [],
   "source": [
    "from pathlib import Path\n",
    "\n",
    "import numpy as np\n",
    "import pandas as pd\n",
    "import anndata as ad\n",
    "    \n",
    "import matplotlib.pyplot as plt"
   ]
  },
  {
   "cell_type": "markdown",
   "id": "d5051075-da09-4a30-8bfa-0e18ebeea347",
   "metadata": {},
   "source": [
    "# Load data"
   ]
  },
  {
   "cell_type": "code",
   "execution_count": null,
   "id": "68682914-dd0f-4b04-abcd-ccc0f42c0954",
   "metadata": {},
   "outputs": [],
   "source": []
  },
  {
   "cell_type": "markdown",
   "id": "1ccd003a-2e64-4204-8891-b62f76254ade",
   "metadata": {},
   "source": [
    "## Load abc data"
   ]
  },
  {
   "cell_type": "code",
   "execution_count": 5,
   "id": "8f6db28f-e7e8-4e22-b7c8-cad56f543195",
   "metadata": {
    "tags": []
   },
   "outputs": [],
   "source": [
    "abc_root = Path('//allen/programs/celltypes/workgroups/rnaseqanalysis/mFISH/meghanturner/abc_atlas/abc_atlas_data/')\n",
    "brain_id = 'C57BL6J-638850'\n",
    "version='20230830'"
   ]
  },
  {
   "cell_type": "code",
   "execution_count": 6,
   "id": "1b99e906-702e-4e0e-89bb-e9949e06171d",
   "metadata": {
    "tags": []
   },
   "outputs": [],
   "source": [
    "# load in the 'obs' cluster_annotations + parcellation_annotation metadata\n",
    "ccf_md_df = pd.read_csv(abc_root/f'metadata/MERFISH-{brain_id}-CCF/{version}/views/cell_metadata_with_parcellation_annotation.csv', \n",
    "                        dtype={'cell_label':str}, \n",
    "                        index_col=0)\n",
    "\n",
    "# flip y coords so the sections don't display upside down\n",
    "flip_y=True\n",
    "if flip_y:\n",
    "    ccf_md_df[['y_section', 'y_reconstructed']] *= -1"
   ]
  },
  {
   "cell_type": "code",
   "execution_count": 8,
   "id": "2bebc8df-7e40-42d4-b145-68a4428b1195",
   "metadata": {
    "tags": []
   },
   "outputs": [],
   "source": [
    "ccf_md_df"
   ]
  },
  {
   "cell_type": "markdown",
   "id": "72cfb6c2-f814-4c0a-90c4-e667c071a11f",
   "metadata": {},
   "source": [
    "## Load MK's ccf coordinate csv"
   ]
  },
  {
   "cell_type": "code",
   "execution_count": 26,
   "id": "020a1b8b-aed4-492e-8beb-969a086da720",
   "metadata": {
    "tags": []
   },
   "outputs": [],
   "source": [
    "mk_root_dir = Path(\"/allen/programs/celltypes/workgroups/rnaseqanalysis/mFISH/michaelkunst/MERSCOPES/mouse/atlas/mouse_638850\")\n",
    "ccf_coord_file = \"alignment/ccf_cells_20230515.csv\"\n",
    "# ccf_coord_path = root_dir / ccf_coord_file"
   ]
  },
  {
   "cell_type": "code",
   "execution_count": 3,
   "id": "8a76a9b7-59e8-4b45-98c9-35c9dd02cf80",
   "metadata": {
    "tags": []
   },
   "outputs": [],
   "source": [
    "ccf_coord_df = pd.read_csv(mk_root_dir / ccf_coord_file, \n",
    "                           dtype={'cell_id':str}, \n",
    "                           index_col=0)"
   ]
  },
  {
   "cell_type": "code",
   "execution_count": 4,
   "id": "65c2b4dd-883d-4cfb-b533-967b648543dc",
   "metadata": {
    "tags": []
   },
   "outputs": [],
   "source": [
    "ccf_coord_df"
   ]
  },
  {
   "cell_type": "code",
   "execution_count": 89,
   "id": "2195583d-9abf-4f07-aaea-cfeec39b9614",
   "metadata": {
    "tags": []
   },
   "outputs": [],
   "source": [
    "bin_coord_df = pd.read_csv(mk_root_dir/'alignment/ccf_cells_20221201.csv',\n",
    "                           dtype={'_index':str},\n",
    "                           index_col=0)"
   ]
  },
  {
   "cell_type": "code",
   "execution_count": 90,
   "id": "783dd15c-69d2-4cad-a715-7c4b9032fc40",
   "metadata": {
    "tags": []
   },
   "outputs": [],
   "source": [
    "bin_coord_df"
   ]
  },
  {
   "cell_type": "markdown",
   "id": "f08c7754-1f06-4e8c-a777-4b90e9e6a3ae",
   "metadata": {},
   "source": [
    "## Load in other MK's files"
   ]
  },
  {
   "cell_type": "markdown",
   "id": "39b2e92a-803a-4ec7-bf75-cc8f01900075",
   "metadata": {},
   "source": [
    "### with \"ccf3D\" coords?"
   ]
  },
  {
   "cell_type": "code",
   "execution_count": 27,
   "id": "52678ef4-921d-4750-b28e-1649da701746",
   "metadata": {
    "tags": []
   },
   "outputs": [],
   "source": [
    "cirro_CCF_ad = ad.read_h5ad(mk_root_dir/'cirro_folder/atlas_brain_638850_CCF.h5ad', backed='r')"
   ]
  },
  {
   "cell_type": "code",
   "execution_count": 28,
   "id": "b94a4342-8117-41ea-918f-29dd26e972e9",
   "metadata": {
    "tags": []
   },
   "outputs": [],
   "source": [
    "cirro_CCF_ad"
   ]
  },
  {
   "cell_type": "markdown",
   "id": "32245ada-1a68-4ba1-9c5d-ab5313706610",
   "metadata": {},
   "source": [
    "### with \"global3D\" & \"corrected\" coords"
   ]
  },
  {
   "cell_type": "code",
   "execution_count": 99,
   "id": "4b0f992e-4062-4701-8b0d-4c8f18a70705",
   "metadata": {
    "tags": []
   },
   "outputs": [],
   "source": [
    "cirro_anno_ad = ad.read_h5ad(mk_root_dir/'cirro_folder/mouse_633850_new_region_anno.h5ad', backed='r')"
   ]
  },
  {
   "cell_type": "code",
   "execution_count": 100,
   "id": "d187e5c5-db0b-494d-8cca-d3a4026cbd97",
   "metadata": {
    "tags": []
   },
   "outputs": [],
   "source": [
    "cirro_anno_ad"
   ]
  },
  {
   "cell_type": "markdown",
   "id": "59fada82-4a1e-4cf8-a90b-d899f7519460",
   "metadata": {},
   "source": [
    "### metadata csv with maybe some coords?"
   ]
  },
  {
   "cell_type": "code",
   "execution_count": 77,
   "id": "10986684-fdcc-44cb-a8f2-440601f2c2b8",
   "metadata": {
    "tags": []
   },
   "outputs": [],
   "source": [
    "md_csv = pd.read_csv(mk_root_dir/'analysis/data/metadata_638850.csv',\n",
    "                     dtype={'cell_id':str}, \n",
    "                     index_col=1)"
   ]
  },
  {
   "cell_type": "code",
   "execution_count": 78,
   "id": "1a7c6e14-4c84-417b-a354-bbc2e968c333",
   "metadata": {
    "tags": []
   },
   "outputs": [],
   "source": [
    "md_csv"
   ]
  },
  {
   "cell_type": "markdown",
   "id": "671e4b3d-3aa4-473e-b4a1-366bedd78b5f",
   "metadata": {},
   "source": [
    "# Plot coordinates"
   ]
  },
  {
   "cell_type": "markdown",
   "id": "961e350b-c595-4174-a8f7-b05504399a0c",
   "metadata": {},
   "source": [
    "## section coords"
   ]
  },
  {
   "cell_type": "code",
   "execution_count": 29,
   "id": "f381337d-9250-4d2b-a684-c373f9d38ecf",
   "metadata": {
    "tags": []
   },
   "outputs": [],
   "source": [
    "# sorted(ccf_md_df['z_section'].unique())\n",
    "z_pos = 6.4\n",
    "curr_sec = ccf_md_df[ccf_md_df['z_section']==z_pos]\n",
    "sec_cell_labels = curr_sec.index"
   ]
  },
  {
   "cell_type": "code",
   "execution_count": 93,
   "id": "f78d4943-1bf1-446f-a50d-c840751be67d",
   "metadata": {
    "tags": []
   },
   "outputs": [],
   "source": [
    "ccf_coord_df.index"
   ]
  },
  {
   "cell_type": "code",
   "execution_count": 92,
   "id": "4706223b-34a6-481a-a185-4afb62663e9f",
   "metadata": {
    "tags": []
   },
   "outputs": [],
   "source": [
    "sec_ccf_coord_df = ccf_coord_df[ccf_coord_df.index.intersection(sec_cell_labels)]\n",
    "sec_ccf_coord_df"
   ]
  },
  {
   "cell_type": "code",
   "execution_count": 30,
   "id": "dc2bd6bd-5bc9-47bb-a100-c3fe276c94ea",
   "metadata": {
    "tags": []
   },
   "outputs": [],
   "source": [
    "# ref_labels = sec_cell_labels\n",
    "sec_adata = cirro_CCF_ad[cirro_CCF_ad.obs_names.intersection(sec_cell_labels)].to_memory()"
   ]
  },
  {
   "cell_type": "code",
   "execution_count": 101,
   "id": "c6cc9408-9ae9-4d8e-b0e3-a6ce61b082ee",
   "metadata": {
    "tags": []
   },
   "outputs": [],
   "source": [
    "sec_cirro_anno_ad = cirro_anno_ad[cirro_anno_ad.obs_names.intersection(sec_cell_labels)].to_memory()"
   ]
  },
  {
   "cell_type": "code",
   "execution_count": 102,
   "id": "0654dd03-7e68-492d-b282-308508ea4b02",
   "metadata": {
    "tags": []
   },
   "outputs": [],
   "source": [
    "sec_cirro_anno_ad"
   ]
  },
  {
   "cell_type": "code",
   "execution_count": 112,
   "id": "0495d845-010a-4c4c-80d3-a683a2da7d83",
   "metadata": {
    "tags": []
   },
   "outputs": [],
   "source": [
    "fig, axes = plt.subplots(1,3,figsize=(16,4))\n",
    "axes = axes.ravel()\n",
    "\n",
    "\n",
    "i=0\n",
    "axes[i].scatter(curr_sec['x_section'], \n",
    "                curr_sec['y_section'],\n",
    "                s=0.01, c ='green')\n",
    "axes[i].axis('equal')\n",
    "axes[i].set_title('x/y_section')\n",
    "\n",
    "\n",
    "i=1\n",
    "axes[i].scatter(sec_adata.obsm['spatial_rotated'][:,0],\n",
    "                sec_adata.obsm['spatial_rotated'][:,1],\n",
    "                s=0.01, c='grey')\n",
    "axes[i].axis('equal')\n",
    "axes[i].set_title('spatial_rotated')\n",
    "\n",
    "# i=2\n",
    "# axes[i].scatter(curr_sec['x_section']*1000, \n",
    "#                 (curr_sec['y_section']+5)*1000,\n",
    "#                 s=0.01, c ='red')\n",
    "# axes[i].axis('equal')\n",
    "\n",
    "\n",
    "i=2\n",
    "axes[i].scatter(sec_cirro_anno_ad.obs['corrected_x'],\n",
    "                -sec_cirro_anno_ad.obs['corrected_y'],\n",
    "                s=0.01, c='blue')\n",
    "axes[i].axis('equal')\n",
    "axes[i].set_title('corrected_x/y')"
   ]
  },
  {
   "cell_type": "code",
   "execution_count": 113,
   "id": "9e005c83-5176-47d5-bff3-98be5b65c078",
   "metadata": {
    "tags": []
   },
   "outputs": [],
   "source": [
    "fig = plt.figure()\n",
    "ax = plt.gca()\n",
    "\n",
    "ax.scatter(curr_sec['x_section'], \n",
    "                curr_sec['y_section'],\n",
    "                s=0.01, c ='red')\n",
    "\n",
    "ax.scatter(sec_cirro_anno_ad.obs['corrected_x']/1000,\n",
    "            -sec_cirro_anno_ad.obs['corrected_y']/1000,\n",
    "            s=0.01, c='green')\n",
    "plt.axis('equal')"
   ]
  },
  {
   "cell_type": "code",
   "execution_count": 67,
   "id": "7a45c5fa-10c6-4019-9932-55946a620c04",
   "metadata": {
    "tags": []
   },
   "outputs": [],
   "source": [
    "fig = plt.figure()\n",
    "ax = plt.gca()\n",
    "\n",
    "ax.scatter((sec_adata.obsm['spatial_rotated'][:,0]/1001)+0.6,\n",
    "           (sec_adata.obsm['spatial_rotated'][:,1]/1001)-5.2,\n",
    "           s=0.01, c='grey')\n",
    "\n",
    "ax.scatter(curr_sec['x_section'], \n",
    "           curr_sec['y_section'],\n",
    "           s=0.01, c ='blue')\n",
    "\n",
    "plt.axis('equal')"
   ]
  },
  {
   "cell_type": "markdown",
   "id": "66c352bb-ae9f-4d60-b57c-19120c1c11f5",
   "metadata": {},
   "source": [
    "## ccf vs reconstructed coords"
   ]
  },
  {
   "cell_type": "code",
   "execution_count": 94,
   "id": "7e677d92-07a5-4373-b89d-dfd54dffb3bd",
   "metadata": {
    "tags": []
   },
   "outputs": [],
   "source": [
    "sec_adata.obsm['ccf3D']"
   ]
  },
  {
   "cell_type": "code",
   "execution_count": 117,
   "id": "aa48c44e-dd05-45d3-a4fa-363475813627",
   "metadata": {
    "tags": []
   },
   "outputs": [],
   "source": [
    "fig, axes = plt.subplots(1,3,figsize=(16,6))\n",
    "axes = axes.ravel()\n",
    "\n",
    "i=0\n",
    "axes[i].scatter(sec_adata.obsm['ccf3D'][:,0],\n",
    "                sec_adata.obsm['ccf3D'][:,1],\n",
    "                s=0.01, c='grey')\n",
    "# axes[i].axis('equal')\n",
    "axes[i].set_title('ccf3D')\n",
    "\n",
    "i=1\n",
    "axes[i].scatter(curr_sec['x_ccf'], \n",
    "                -curr_sec['y_ccf'],\n",
    "                s=0.01, c ='r')\n",
    "# axes[i].axis('equal')\n",
    "axes[i].set_title('x/y_ccf')\n",
    "\n",
    "\n",
    "i=2\n",
    "axes[i].scatter(curr_sec['x_reconstructed'], \n",
    "                curr_sec['y_reconstructed'],\n",
    "                s=0.01, c ='blue')\n",
    "axes[i].axis('equal')\n",
    "axes[i].set_title('x/y_reconstructed')\n",
    "\n",
    "\n",
    "\n",
    "# i=3\n",
    "# axes[i].scatter(sec_bin_coord_df['bin_x'], \n",
    "#                 sec_bin_coord_df['bin_y'],\n",
    "#                 s=0.01, c ='green')\n",
    "# axes[i].axis('equal')"
   ]
  },
  {
   "cell_type": "code",
   "execution_count": null,
   "id": "05043d86-c10b-4afb-bc56-3c8fd7bb739c",
   "metadata": {},
   "outputs": [],
   "source": []
  }
 ],
 "metadata": {
  "kernelspec": {
   "display_name": "Python 3 (ipykernel)",
   "language": "python",
   "name": "python3"
  },
  "language_info": {
   "codemirror_mode": {
    "name": "ipython",
    "version": 3
   },
   "file_extension": ".py",
   "mimetype": "text/x-python",
   "name": "python",
   "nbconvert_exporter": "python",
   "pygments_lexer": "ipython3",
   "version": "3.9.18"
  }
 },
 "nbformat": 4,
 "nbformat_minor": 5
}
