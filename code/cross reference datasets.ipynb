{
 "cells": [
  {
   "cell_type": "code",
   "execution_count": 1,
   "id": "dbc8c16a",
   "metadata": {},
   "outputs": [],
   "source": [
    "import anndata as ad\n",
    "import pandas as pd\n",
    "import scanpy as sc\n",
    "%matplotlib inline\n",
    "\n",
    "import numpy as np\n",
    "import matplotlib.pyplot as plt\n",
    "import matplotlib.colors\n",
    "import seaborn as sns"
   ]
  },
  {
   "cell_type": "code",
   "execution_count": 2,
   "id": "0cad16c5-4815-4d27-981b-2f676f9af291",
   "metadata": {},
   "outputs": [],
   "source": [
    "# Load MERFISH data\n",
    "merData = ad.read_h5ad(\"../data/merfish_609882_AIT17.1_annotated_TH_ZI_only_2023-02-16_00-00-00/atlas_brain_609882_AIT17_1_annotated_TH_ZI_only.h5ad\")\n",
    "\n",
    "# Subset to neuronal\n",
    "merData = merData[merData.obs[\"division_id_label\"].isin([\"3 PAL-sAMY-TH-HY-MB-HB neuronal\",\"2 Subpallium GABAergic\",\"4 CBX-MOB-other neuronal\"])]"
   ]
  },
  {
   "cell_type": "code",
   "execution_count": 3,
   "id": "da7a1b0f-23f7-4c41-a394-d59d67e5b395",
   "metadata": {},
   "outputs": [],
   "source": [
    "# Load sequencing data\n",
    "seqData = ad.read_h5ad(\"../data/rnaseq_AIT17.2_2022-12-15_12-00-00/rnaseq/processed.U19_TH-EPI.postQC.h5ad\")"
   ]
  },
  {
   "cell_type": "markdown",
   "id": "f14ae591-e23b-40c7-a614-2da4cc200b73",
   "metadata": {
    "jp-MarkdownHeadingCollapsed": true,
    "tags": []
   },
   "source": [
    "## Explore sequencing data"
   ]
  },
  {
   "cell_type": "code",
   "execution_count": 4,
   "id": "71e41bee-ce69-4896-aff5-848b620b27ab",
   "metadata": {},
   "outputs": [],
   "source": [
    "for name in seqData.obs[\"Level2_id_label\"].unique():\n",
    "    print(name)"
   ]
  },
  {
   "cell_type": "code",
   "execution_count": 4,
   "id": "917fb921-64bb-41a5-8379-370e35b4c7a0",
   "metadata": {},
   "outputs": [],
   "source": [
    "def getColorDict(annData,level):\n",
    "    colorDict = {}\n",
    "    a = 0\n",
    "    for group in annData.obs[level].unique():\n",
    "        colorDict[group] = matplotlib.colors.to_rgb(seqData.uns[level + \"_colors\"][a][0])\n",
    "        a = a + 1\n",
    "        \n",
    "    return colorDict"
   ]
  },
  {
   "cell_type": "code",
   "execution_count": 6,
   "id": "fb690632-17d1-4d90-b5d0-bc62dc521eb8",
   "metadata": {},
   "outputs": [],
   "source": [
    "seqPalette = getColorDict(seqData,\"Level2_id_label\")\n",
    "sc.pl.embedding(seqData,\"EMBED2\",color = \"Level2_id_label\", palette = seqPalette)"
   ]
  },
  {
   "cell_type": "code",
   "execution_count": 7,
   "id": "15b5f3e9-c934-46f8-99c0-29a14e5165b5",
   "metadata": {},
   "outputs": [],
   "source": [
    "# Subset to Prkcd subclass\n",
    "prkcdData = seqData[seqData.obs[\"Level2_id_label\"].isin([\"69_TH Prkcd Grin2c Glut\"])]"
   ]
  },
  {
   "cell_type": "code",
   "execution_count": 8,
   "id": "d62e80a1-ee1c-486d-b704-04f97049a23a",
   "metadata": {},
   "outputs": [],
   "source": [
    "# Prkcd supertype\n",
    "sc.pl.embedding(prkcdData,\"EMBED2\",color = \"supertype_id_label\")"
   ]
  },
  {
   "cell_type": "code",
   "execution_count": 9,
   "id": "130acd2b-cbcf-4f13-9cb0-362aa180d54d",
   "metadata": {},
   "outputs": [],
   "source": [
    "prkcdPalette = getColorDict(prkcdData,\"cluster_label\")\n",
    "\n",
    "sc.pl.embedding(prkcdData,\"EMBED2\",color = \"cluster_label\", palette = prkcdPalette)"
   ]
  },
  {
   "cell_type": "code",
   "execution_count": 10,
   "id": "0f6899ab-2384-43e5-b0cd-1c1e561d3ab4",
   "metadata": {},
   "outputs": [],
   "source": [
    "sc.pl.embedding(prkcdData,\"EMBED2\",color = \"Cbln1\")"
   ]
  },
  {
   "cell_type": "code",
   "execution_count": 11,
   "id": "834e376f-a78a-43ce-8b22-2ab3007bafe3",
   "metadata": {},
   "outputs": [],
   "source": [
    "sc.pl.embedding(seqData,\"EMBED2\",color = \"Cbln2\")"
   ]
  },
  {
   "cell_type": "markdown",
   "id": "9d529c67-6f56-4f1d-8ffc-c9316cdc668f",
   "metadata": {
    "jp-MarkdownHeadingCollapsed": true,
    "tags": []
   },
   "source": [
    "## Explore MERFISH data"
   ]
  },
  {
   "cell_type": "code",
   "execution_count": 5,
   "id": "06b56eb3-c166-403f-a1db-da1635f76f21",
   "metadata": {},
   "outputs": [],
   "source": [
    "def countTypes(annData,label):\n",
    "    # Quick function to check an AnnData object for the number of cells belonging to each of a given label\n",
    "    countTypes = annData.obs[label].unique()\n",
    "    countDF = pd.DataFrame([sum(annData.obs[label] == name) for name in countTypes], \n",
    "                             columns= [\"Count\"], index = countTypes)\n",
    "    countDF = countDF.sort_values(by = \"Count\", ascending=False)\n",
    "    return countDF\n",
    "\n",
    "def plotGenes(genes, section = '1198980080'):\n",
    "    \"\"\" Plot spatial expression of a requested list of genes for a given section of MERFISH data \"\"\"\n",
    "    \n",
    "    # Clean inputs\n",
    "    if type(genes) != list:\n",
    "        genes = [genes]\n",
    "    \n",
    "    # Functionality to call sections by name or sequentially iterate through them\n",
    "    uniqueSections = merData.obs[\"section\"].unique()\n",
    "    if section not in uniqueSections:\n",
    "        if int(section) < len(uniqueSections):\n",
    "            section = uniqueSections[int(section)]\n",
    "        else:\n",
    "            raise Exception(\"Unrecognized section number\")\n",
    "    \n",
    "    # Subset to requested section\n",
    "    merSection = merData[merData.obs[\"section\"] == section]\n",
    "    \n",
    "    # Set up plot parameters\n",
    "    nGenes = len(genes)\n",
    "    nCol = int(np.floor(np.sqrt(nGenes)))\n",
    "    nRow = int(np.ceil(nGenes / nCol))\n",
    "    \n",
    "    # Make smaller if requesting lots of plots\n",
    "    if nGenes <= 4:\n",
    "        plt.figure(figsize=(nRow*6.4,nCol*4.8))\n",
    "    else:\n",
    "        plt.figure(figsize=(nRow*3.2,nCol*2.4))\n",
    "        \n",
    "    # Plot expression for each gene\n",
    "    for count, gene in enumerate(genes):\n",
    "        \n",
    "        # Set colormap\n",
    "        cnorm = merSection[:,gene].X / merSection[:,gene].X.max() # Normalize to maximal gene expression\n",
    "        color = plt.cm.viridis(cnorm)\n",
    "\n",
    "        # Plot\n",
    "        ax = plt.subplot(nRow,nCol,count+1)\n",
    "        plt.subplots_adjust(wspace=1, hspace=0.1)\n",
    "        plt.scatter(merSection.obsm[\"spatial_cirro\"][:,0],merSection.obsm[\"spatial_cirro\"][:,1], color = color, s = 15, edgecolors = \"black\", linewidth = .2)\n",
    "        # plt.title(gene);\n",
    "\n",
    "        # Adjust colorbar to show actual expression levels\n",
    "        cbar = plt.colorbar()\n",
    "        cbar.ax.set_yticks(np.linspace(0,1,6))\n",
    "        cbar.ax.set_yticklabels(np.round(np.linspace(0,1,6) * merSection[:,gene].X.max(),1));\n",
    "        # plt.clim(0,6)\n",
    "\n",
    "        plt.tight_layout()\n",
    "        plt.title(gene)\n",
    "        plt.axis('off')\n",
    "        \n",
    "def plotAll(level = \"cluster_label\",group = \"1180 RE-Xi Nox4 Glut_3\", color = 'cyan'):\n",
    "    \"\"\" Function to plot spatial arrangement of cells across all sections. \"\"\"\n",
    "    \n",
    "    # Check that level and group pairings match, e.g. did not ask for a cluster within subclass .obs\n",
    "    if group not in merData.obs[level].unique():\n",
    "        raise Exception(\"Requested group is not within the specified annData object .obs level.\")\n",
    "        \n",
    "    # Subset to requested section\n",
    "    groupData = merData[merData.obs[level] == group]\n",
    "    \n",
    "    # Plot\n",
    "    plt.figure(figsize = (6.4* 9,4.8 * 4))\n",
    "    plt.scatter(merData.obsm[\"spatial_cirro\"][:,0],merData.obsm[\"spatial_cirro\"][:,1],color = 'gray', s = 15, edgecolors = \"black\", linewidth = .2,zorder = 0)\n",
    "    plt.scatter(groupData.obsm[\"spatial_cirro\"][:,0],groupData.obsm[\"spatial_cirro\"][:,1],color = color, s = 15, edgecolors = \"black\", linewidth = .2)\n",
    "    \n",
    "    plt.title(group, fontsize = 48)\n",
    "    plt.axis('off')\n",
    "    plt.tight_layout()"
   ]
  },
  {
   "cell_type": "code",
   "execution_count": 13,
   "id": "d17daace-cc54-44f7-b037-24b29e2fd483",
   "metadata": {},
   "outputs": [],
   "source": [
    "plotGenes([\"Gad2\",\"Cbln2\",\"Prkcd\",\"Calb2\"], 8)"
   ]
  },
  {
   "cell_type": "code",
   "execution_count": 14,
   "id": "dbc52b17-e768-4655-9c64-2a0f230365ac",
   "metadata": {},
   "outputs": [],
   "source": [
    "plotAll(level = \"Level2_id_label\",group = \"68_CM-IAD-CL-PCN Glut\")"
   ]
  },
  {
   "cell_type": "code",
   "execution_count": 15,
   "id": "4df285c7-5bcf-46e2-9ad4-84bf82c41c1f",
   "metadata": {},
   "outputs": [],
   "source": [
    "# Subset to particular section\n",
    "merSection = merData[merData.obs[\"section\"] == merData.obs[\"section\"].unique()[8]]\n",
    "\n",
    "# Count Prkcd clusters within data\n",
    "countTypes(merSection,\"Level2_id_label\").head(10)"
   ]
  },
  {
   "cell_type": "code",
   "execution_count": 16,
   "id": "2e5b343c-858c-4678-a1e9-a5c4b49885c0",
   "metadata": {},
   "outputs": [],
   "source": [
    "# Subset to particular section\n",
    "merSection = merData[merData.obs[\"section\"] == merData.obs[\"section\"].unique()[8]]\n",
    "\n",
    "# Subset to midline data\n",
    "merSection = merSection[merSection.obs[\"Level2_id_label\"] == \"68_CM-IAD-CL-PCN Glut\"]\n",
    "\n",
    "# Count midline clusters within data\n",
    "countTypes(merSection,\"cluster_label\").head(20)"
   ]
  },
  {
   "cell_type": "code",
   "execution_count": 6,
   "id": "bb02218d-6471-481d-944b-949ad5e751a2",
   "metadata": {},
   "outputs": [],
   "source": [
    "def plotSectionClusters(subclass = \"68_CM-IAD-CL-PCN Glut\", sections = ['1198980086', '1198980092','1198980095', '1198980098'],palette = \"Spectral_r\", subset = 0):\n",
    "    \"\"\" Function to plot all clusters from a specific subclass in a given slice, with a chosen color palette.\"\"\"\n",
    "    \n",
    "    # Subset to requested slice\n",
    "    merSection = merData[merData.obs[\"section\"].isin(sections)]\n",
    "    \n",
    "    # Want to create a dictionary of each subclass contained within a given class\n",
    "    # First create unique tuples with each class and subclass pair\n",
    "    groupPairs = set(zip(merSection.obs[\"Level2_id_label\"],merSection.obs[\"cluster_label\"]))\n",
    "\n",
    "    # Then initialize a dictionary where each subclass is a key corresponding to an empty list\n",
    "    classDict = {pair[0]: [] for pair in groupPairs}\n",
    "\n",
    "    # Add each cluster to the corresponding class list\n",
    "    for pair in groupPairs:\n",
    "        classDict[pair[0]].append(pair[1])\n",
    "\n",
    "    # Further subset to top N clusters, if requested\n",
    "    if subset:\n",
    "        # Subset to only requested subclass\n",
    "        onlySubclass = merSection[merSection.obs[\"cluster_label\"].isin(classDict[subclass])]\n",
    "        # Take top N clusters from that subclass\n",
    "        toColor = list(countTypes(onlySubclass,\"cluster_label\").head(subset).index)\n",
    "    else:\n",
    "        toColor = classDict[subclass]\n",
    "\n",
    "    # Create a dictionary where each cluster corresponds to a color\n",
    "    colorDict = {}\n",
    "    colorCount = 0\n",
    "\n",
    "    # Create the appropriate colormap by blending the requested palette for the appropriate number of clusters\n",
    "    colorBlend = sns.color_palette(palette, n_colors=len(toColor))\n",
    "#     sns.palplot(colorBlend)\n",
    "\n",
    "    # Populate color dictionary\n",
    "    for pair in groupPairs:\n",
    "\n",
    "        # Assign colors to requested subclass, otherwise color black\n",
    "        if pair[1] in toColor:\n",
    "            colorDict[pair[1]] = colorBlend[colorCount]\n",
    "            # print(pair[1]) \n",
    "            colorCount += 1\n",
    "        else:\n",
    "            colorDict[pair[1]] = 'black'\n",
    "\n",
    "    # Prepare plotting\n",
    "    nSections = len(sections)\n",
    "    nCol = int(np.floor(np.sqrt(nSections)))\n",
    "    nRow = int(np.ceil(nSections / nCol))\n",
    "    \n",
    "    # Make plots smaller if lots of figures\n",
    "    if nSections <= 4:\n",
    "        plt.figure(figsize=(nRow*6.4,nCol*4.8))\n",
    "    else:\n",
    "        plt.figure(figsize=(nRow*3.2,nCol*2.4))\n",
    "            \n",
    "    # Plot each slice successively\n",
    "    for count, tissue in enumerate(sections):\n",
    "        \n",
    "        ax = plt.subplot(nRow,nCol,count+1)\n",
    "        plt.subplots_adjust(wspace=.1, hspace=.1)\n",
    "            \n",
    "        merSection = merData[merData.obs[\"section\"] == tissue]\n",
    "        for cl in merSection.obs[\"cluster_label\"].unique():\n",
    "            x = merSection[merSection.obs[\"cluster_label\"] == cl]\n",
    "            if colorDict[cl] == \"black\":\n",
    "                plt.scatter(x.obsm[\"spatial_cirro\"][:,0],x.obsm[\"spatial_cirro\"][:,1],color = colorDict[cl], s = 15, edgecolors = \"black\", linewidth = .2,zorder = 0)\n",
    "            else:\n",
    "                plt.scatter(x.obsm[\"spatial_cirro\"][:,0],x.obsm[\"spatial_cirro\"][:,1],color = colorDict[cl], s = 15, edgecolors = \"black\", linewidth = .2)\n",
    "        plt.title(\"Section#: \" + tissue)\n",
    "        plt.axis('off')\n",
    "        plt.tight_layout()\n",
    "        \n",
    "    return colorDict"
   ]
  },
  {
   "cell_type": "code",
   "execution_count": 23,
   "id": "49d5a952-2702-432a-92f6-291a634f78c1",
   "metadata": {},
   "outputs": [],
   "source": [
    "plotSectionClusters(subclass = \"68_CM-IAD-CL-PCN Glut\");"
   ]
  },
  {
   "cell_type": "code",
   "execution_count": 20,
   "id": "683f1bd6-b355-4fb2-bc59-26929b854fb9",
   "metadata": {},
   "outputs": [],
   "source": [
    "# Note clusters within these sections\n",
    "clList = [\"1129 CM-IAD-CL-PCN Glut_5\", \"1116 CM-IAD-CL-PCN Glut_1\", \"1123 CM-IAD-CL-PCN Glut_3\", \"1118 CM-IAD-CL-PCN Glut_1\",\n",
    "      \"1119 CM-IAD-CL-PCN Glut_2\", \"1120 CM-IAD-CL-PCN Glut_2\", \"1121 CM-IAD-CL-PCN Glut_2\", \"1128 CM-IAD-CL-PCN Glut_5\",\n",
    "      \"1125 CM-IAD-CL-PCN Glut_4\", \"1117 CM-IAD-CL-PCN Glut_1\", \"1115 CM-IAD-CL-PCN Glut_1\", \"1126 CM-IAD-CL-PCN Glut_4\",\n",
    "      \"1124 CM-IAD-CL-PCN Glut_3\", \"1127 CM-IAD-CL-PCN Glut_4\", \"1122 CM-IAD-CL-PCN Glut_3\"]"
   ]
  },
  {
   "cell_type": "code",
   "execution_count": 21,
   "id": "e7c0235a-51f4-4cd6-92e2-b7968874c9f1",
   "metadata": {},
   "outputs": [],
   "source": [
    "# Look at sequencing data for those clusters within those sections\n",
    "\n",
    "# Note clusters within these sections\n",
    "clList = [\"1129 CM-IAD-CL-PCN Glut_5\", \"1116 CM-IAD-CL-PCN Glut_1\", \"1123 CM-IAD-CL-PCN Glut_3\", \"1118 CM-IAD-CL-PCN Glut_1\",\n",
    "      \"1119 CM-IAD-CL-PCN Glut_2\", \"1120 CM-IAD-CL-PCN Glut_2\", \"1121 CM-IAD-CL-PCN Glut_2\", \"1128 CM-IAD-CL-PCN Glut_5\",\n",
    "      \"1125 CM-IAD-CL-PCN Glut_4\", \"1117 CM-IAD-CL-PCN Glut_1\", \"1115 CM-IAD-CL-PCN Glut_1\", \"1126 CM-IAD-CL-PCN Glut_4\",\n",
    "      \"1124 CM-IAD-CL-PCN Glut_3\", \"1127 CM-IAD-CL-PCN Glut_4\", \"1122 CM-IAD-CL-PCN Glut_3\"]\n",
    "\n",
    "# seqPalette = getColorDict(seqData,\"Level2_id_label\")\n",
    "ilmData = seqData[seqData.obs[\"Level2_id_label\"] == \"68_CM-IAD-CL-PCN Glut\"]\n",
    "ilmPalette = getColorDict(ilmData,\"cluster_label\") # from previous sequencing section\n",
    "\n",
    "sc.pl.embedding(seqData,\"EMBED2\",color = \"Level2_id_label\", palette = seqPalette)\n",
    "sc.pl.embedding(ilmData,\"EMBED2\",color = \"cluster_label\", palette = ilmPalette)"
   ]
  },
  {
   "cell_type": "markdown",
   "id": "a4459c15-a1cb-4c76-90a1-3eeb1796b06b",
   "metadata": {
    "jp-MarkdownHeadingCollapsed": true,
    "tags": []
   },
   "source": [
    "## Plot spatial arrangement of clusters"
   ]
  },
  {
   "cell_type": "code",
   "execution_count": 7,
   "id": "a33197ba-ecf4-49e1-8747-3b095db6416c",
   "metadata": {},
   "outputs": [],
   "source": [
    "def plotSpatial(level = \"cluster_label\",group = \"1180 RE-Xi Nox4 Glut_3\", section = False, color = 'cyan'):\n",
    "    \"\"\" Function to plot the spatial layout of a requested group. \"\"\"\n",
    "    \n",
    "    # Check that level and group pairings match, e.g. did not ask for a cluster within subclass .obs\n",
    "    if group not in merData.obs[level].unique():\n",
    "        raise Exception(\"Requested group is not within the specified annData object .obs level.\")\n",
    "    \n",
    "    # If specific section is requested, use that. Otherwise use section with greatest number of cells from that group.\n",
    "    if section:\n",
    "        section = checkSectionNumber(merData,section)\n",
    "    else:\n",
    "        section = merData[merData.obs[level] == group].obs[\"section\"].mode()[0]\n",
    "        \n",
    "    # Subset to requested section\n",
    "    sectionData = merData[merData.obs[\"section\"] == section]\n",
    "    groupData = sectionData[sectionData.obs[level] == group]\n",
    "    \n",
    "    # Plot\n",
    "    plt.figure(dpi=120)\n",
    "    plt.scatter(sectionData.obsm[\"spatial_cirro\"][:,0],sectionData.obsm[\"spatial_cirro\"][:,1],color = 'gray', s = 15, edgecolors = \"black\", linewidth = .2,zorder = 0)\n",
    "    plt.scatter(groupData.obsm[\"spatial_cirro\"][:,0],groupData.obsm[\"spatial_cirro\"][:,1],color = color, s = 15, edgecolors = \"black\", linewidth = .2)\n",
    "    \n",
    "    plt.title(group + \": section \" + section)\n",
    "    \n",
    "def checkSectionNumber(annData,section):\n",
    "    \"\"\" Function to convert indexed section calls, e.g. section = 1, 2, 3 rather than ID 1198980092 \"\"\"\n",
    "    \n",
    "    uniqueSections = annData.obs[\"section\"].unique()\n",
    "    # If section call isn't within list of section names, assume it's an index and convert appropriately.\n",
    "    if section not in uniqueSections:\n",
    "        if int(section) < len(uniqueSections):\n",
    "            section = uniqueSections[int(section)]\n",
    "        else:\n",
    "            raise Exception(\"Unrecognized section number\")\n",
    "    return section"
   ]
  },
  {
   "cell_type": "code",
   "execution_count": 25,
   "id": "877196ff-0377-4b30-aafa-6f8e053ac2d1",
   "metadata": {},
   "outputs": [],
   "source": [
    "x = [\"69_TH Prkcd Grin2c Glut\", \"81_RT ZI Gnb3 Gaba\", \"68_CM-IAD-CL-PCN Glut\",\"70_RE-Xi Nox4 Glut\"]\n",
    "z = [\"cyan\", \"red\", \"orange\",\"green\"]\n",
    "for i in range(len(x)):\n",
    "    plotSpatial(level = \"Level2_id_label\",group = x[i], section = 5, color = z[i])"
   ]
  },
  {
   "cell_type": "markdown",
   "id": "b82ad1ec-b6fb-4477-ab3c-80b4f619b1ad",
   "metadata": {
    "jp-MarkdownHeadingCollapsed": true,
    "tags": []
   },
   "source": [
    "## Correspond MERFISH to sequencing data"
   ]
  },
  {
   "cell_type": "code",
   "execution_count": 11,
   "id": "3c2748a3-c70b-43db-aa90-4ffe45bae8d1",
   "metadata": {},
   "outputs": [],
   "source": [
    "plotSpatial(level = \"Level2_id_label\",group = \"70_RE-Xi Nox4 Glut\",color=\"lightgreen\")"
   ]
  },
  {
   "cell_type": "markdown",
   "id": "d2cbbbb6-5094-40e2-ab28-86ac10f9ccf2",
   "metadata": {
    "jp-MarkdownHeadingCollapsed": true,
    "tags": []
   },
   "source": [
    "### Spatial arrangement of reuniens clusters"
   ]
  },
  {
   "cell_type": "code",
   "execution_count": 12,
   "id": "24fb3583-e633-42ed-b904-7e64c215c203",
   "metadata": {},
   "outputs": [],
   "source": [
    "# Check for counts of clusters present within reuniens subclass\n",
    "reData = merData[merData.obs[\"Level2_id_label\"] == \"70_RE-Xi Nox4 Glut\"]\n",
    "reDF = countTypes(reData,\"cluster_label\")\n",
    "reDF"
   ]
  },
  {
   "cell_type": "code",
   "execution_count": 31,
   "id": "d8a3b724-7f6f-4abf-9ac5-bcde8af65071",
   "metadata": {},
   "outputs": [],
   "source": [
    "# Count subclass occurrences in each section\n",
    "reTopSections = merData[merData.obs[\"Level2_id_label\"] == \"70_RE-Xi Nox4 Glut\"].obs[\"section\"].value_counts().head(9)\n",
    "reTopSections = reTopSections.sort_index()\n",
    "\n",
    "# Plot top 9 sections (ordered Anterior - Posterior)\n",
    "reColorDict = plotSectionClusters(subclass = \"70_RE-Xi Nox4 Glut\", sections = reTopSections.index,palette = \"Spectral\")"
   ]
  },
  {
   "cell_type": "code",
   "execution_count": 32,
   "id": "53f39d51-fa0c-441a-b733-3b1009cd1ab8",
   "metadata": {},
   "outputs": [],
   "source": [
    "# Look at spatial arrangement of each of these clusters\n",
    "\n",
    "# # Generate different colors for each cluster (actually just use color dict established in the above step)\n",
    "# reColor = sns.color_palette(\"Spectral\", n_colors=len(reDF))\n",
    "\n",
    "for cluster in reDF.index:\n",
    "    plotSpatial(level = \"cluster_label\",group = cluster,color=reColorDict[cluster]) # By default will plot the section where each cluster is most abundant"
   ]
  },
  {
   "cell_type": "markdown",
   "id": "e9ba690a-e8d8-412a-be84-22b53615482a",
   "metadata": {
    "jp-MarkdownHeadingCollapsed": true,
    "tags": []
   },
   "source": [
    "### UMAPs"
   ]
  },
  {
   "cell_type": "code",
   "execution_count": 33,
   "id": "d623b8b0-a4f2-4294-8035-ba742891c8b3",
   "metadata": {},
   "outputs": [],
   "source": [
    "# Plot subclass UMAPS\n",
    "subclassColorDict = {key: 'lightgray' for key in seqData.obs[\"Level2_id_label\"].unique()}\n",
    "subclassColorDict[\"70_RE-Xi Nox4 Glut\"] = \"black\"\n",
    "sc.pl.embedding(seqData,\"EMBED2\",color = \"Level2_id_label\", palette = subclassColorDict, size = 1)\n",
    "\n",
    "# Plot Reuniens Clusters\n",
    "seqData.obs[\"RE_clusters\"] = seqData.obs[\"cluster_label\"]\n",
    "seqData.obs[\"RE_clusters\"] = seqData.obs[\"RE_clusters\"].cat.set_categories(reDF.index)\n",
    "sc.pl.embedding(seqData,\"EMBED2\",color = \"RE_clusters\", palette = reColorDict, size = 1)\n",
    "\n",
    "# Plot just Reuniens Clusters\n",
    "reData = seqData[seqData.obs[\"Level2_id_label\"] == \"70_RE-Xi Nox4 Glut\"]\n",
    "sc.pl.embedding(reData,\"EMBED2\",color = \"RE_clusters\", palette = reColorDict)"
   ]
  },
  {
   "cell_type": "markdown",
   "id": "b9bd5537-5394-41a5-8971-2836cf45e2b3",
   "metadata": {
    "jp-MarkdownHeadingCollapsed": true,
    "tags": []
   },
   "source": [
    "### Differential expression"
   ]
  },
  {
   "cell_type": "code",
   "execution_count": 34,
   "id": "dc0e0460-6492-4842-b42c-552b534e52a3",
   "metadata": {},
   "outputs": [],
   "source": [
    "sc.tl.rank_genes_groups(reData,groupby=\"cluster_label\",reference = \"rest\")\n",
    "sc.pl.rank_genes_groups(reData, n_genes=10, fontsize = 16, sharey=False)"
   ]
  },
  {
   "cell_type": "code",
   "execution_count": 47,
   "id": "e626f523-6140-4483-b9fd-6d97932b02d8",
   "metadata": {},
   "outputs": [],
   "source": [
    "geneList = [reData.uns[\"rank_genes_groups\"][\"names\"][name][0] for name in reData.uns[\"rank_genes_groups\"][\"names\"].dtype.names]\n",
    "geneList"
   ]
  },
  {
   "cell_type": "code",
   "execution_count": 58,
   "id": "f82800e5-bb7e-419f-ae1b-31b835789b73",
   "metadata": {},
   "outputs": [],
   "source": [
    "sc.pl.stacked_violin(reData, geneList, groupby='cluster_label',figsize=[12,6])"
   ]
  },
  {
   "cell_type": "code",
   "execution_count": 62,
   "id": "09b5f6b5-dcf3-43da-82ae-f72d601908f6",
   "metadata": {},
   "outputs": [],
   "source": [
    "sc.pl.correlation_matrix(reData,groupby=\"cluster_label\",show_correlation_numbers=True)"
   ]
  },
  {
   "cell_type": "code",
   "execution_count": null,
   "id": "a5e205fb-18a0-4aeb-8050-825b544d1933",
   "metadata": {},
   "outputs": [],
   "source": []
  },
  {
   "cell_type": "markdown",
   "id": "ac742a24-f7df-406e-b647-6b59ac841488",
   "metadata": {
    "jp-MarkdownHeadingCollapsed": true,
    "tags": []
   },
   "source": [
    "### Other stuff"
   ]
  },
  {
   "cell_type": "code",
   "execution_count": 8,
   "id": "953c27d8-e3c9-4288-9d4f-efb6ab07b382",
   "metadata": {},
   "outputs": [],
   "source": [
    "# Check for counts of clusters present within reuniens subclass\n",
    "avData = merData[merData.obs[\"Level2_id_label\"] == \"66_AV Col27a1 Glut\"]\n",
    "avDF = countTypes(avData,\"cluster_label\")\n",
    "avDF"
   ]
  },
  {
   "cell_type": "code",
   "execution_count": 14,
   "id": "6a761dc9-c91e-4b30-84d8-17c40a3c530b",
   "metadata": {},
   "outputs": [],
   "source": [
    "sc.tl.rank_genes_groups(avData,groupby=\"cluster_label\",reference = \"rest\",pts=True)\n",
    "sc.pl.rank_genes_groups(avData, n_genes=10, fontsize = 16, sharey=False)"
   ]
  },
  {
   "cell_type": "code",
   "execution_count": 15,
   "id": "4c35c710-67ca-4cf7-998f-4c608bbfe942",
   "metadata": {},
   "outputs": [],
   "source": [
    "# Flatten to a single array\n",
    "geneList = np.concatenate([avData.uns[\"rank_genes_groups\"][\"names\"][name][0:3] for name in avData.uns[\"rank_genes_groups\"][\"names\"].dtype.names])\n",
    "geneList"
   ]
  },
  {
   "cell_type": "code",
   "execution_count": 129,
   "id": "b1572d75-1212-45c2-a385-7d4f42a8da04",
   "metadata": {},
   "outputs": [],
   "source": [
    "sc.pl.stacked_violin(avData, geneList, groupby='cluster_label',figsize=[6,4])\n",
    "sc.pl.dotplot(avData, geneList, groupby='cluster_label',figsize=[6,4])"
   ]
  },
  {
   "cell_type": "code",
   "execution_count": 19,
   "id": "d8b3ef32-c2be-4c4f-ba69-8d6dfdeacc41",
   "metadata": {},
   "outputs": [],
   "source": [
    "avSeqData = seqData[seqData.obs[\"Level2_id_label\"] == \"66_AV Col27a1 Glut\"]\n",
    "sc.tl.rank_genes_groups(avSeqData,groupby=\"cluster_label\",reference = \"rest\",pts=True)\n",
    "sc.pl.rank_genes_groups(avSeqData, n_genes=20, fontsize = 16, sharey=False)"
   ]
  },
  {
   "cell_type": "code",
   "execution_count": 20,
   "id": "2018b71f-b0ed-4fbd-adb0-cc021784369b",
   "metadata": {},
   "outputs": [],
   "source": [
    "seqGeneList = np.concatenate([avSeqData.uns[\"rank_genes_groups\"][\"names\"][name][0:3] for name in avSeqData.uns[\"rank_genes_groups\"][\"names\"].dtype.names])\n",
    "seqGeneList"
   ]
  },
  {
   "cell_type": "code",
   "execution_count": 134,
   "id": "c3aa99d1-c88b-45b1-ad61-4e1d19cdef04",
   "metadata": {},
   "outputs": [],
   "source": [
    "sc.pl.stacked_violin(avSeqData, seqGeneList, groupby='cluster_label',figsize=[6,4])\n",
    "sc.pl.dotplot(avSeqData, seqGeneList, groupby='cluster_label',figsize=[6,4])"
   ]
  },
  {
   "cell_type": "code",
   "execution_count": 135,
   "id": "a44609fc-2fd4-46d7-bbea-71c70d26b431",
   "metadata": {},
   "outputs": [],
   "source": [
    "sc.pl.stacked_violin(avSeqData, geneList, groupby='cluster_label',figsize=[6,4])\n",
    "sc.pl.dotplot(avSeqData, geneList, groupby='cluster_label',figsize=[6,4])"
   ]
  },
  {
   "cell_type": "code",
   "execution_count": 9,
   "id": "59dc8661-d2f6-4554-a603-406a1194c0af",
   "metadata": {},
   "outputs": [],
   "source": [
    "def plotROCs(annData, group, geneList = \"Prkcd\", groupby = \"Level2_id_label\", density = True, xRange = 8):\n",
    "    # Function to plot gene expression histograms for two clusters, and then display ROC analysis\n",
    "    # for logistics regression classification accuracy based on those genes.\n",
    "    from sklearn.metrics import roc_curve, roc_auc_score, auc, RocCurveDisplay\n",
    "    from sklearn.linear_model import LogisticRegression\n",
    "    \n",
    "    if type(geneList) is not list:\n",
    "        geneList = [geneList]\n",
    "\n",
    "    # Setup plotting parameters\n",
    "    plt.figure(figsize=(12.8,2.4*len(geneList)))\n",
    "    plt.subplot(len(geneList),2,1)\n",
    "    \n",
    "    # Subset to requested group\n",
    "    groupData = annData[annData.obs[groupby] == group]\n",
    "    \n",
    "    # Create plots for each gene\n",
    "    for count, gene in enumerate(geneList,1):\n",
    "        plt.subplot(len(geneList),2,(count*2 - 1))\n",
    "\n",
    "        ### Plot whole population histogram ###\n",
    "        plt.hist(annData[:,gene].X.A, bins = np.arange(0,xRange,.1), alpha = .7, color = 'black',\n",
    "                label = \"merData\", density = density)\n",
    "\n",
    "        # Plot requested subpopulations, from largest to smallest\n",
    "        plt.hist(groupData[:,gene].X.A,bins = np.arange(0,xRange,.1), edgecolor = 'black',\n",
    "                alpha = .7, label = group, density = density)\n",
    "\n",
    "        if density:\n",
    "            plt.ylim([0, 1])\n",
    "        plt.legend()\n",
    "        plt.xlabel('Log2p Expression')\n",
    "        plt.ylabel('PDF')\n",
    "        plt.title(gene)\n",
    "        plt.tight_layout()\n",
    "        \n",
    "        ### Plot ROC analysis ###\n",
    "        plt.subplot(len(geneList),2,(count*2))\n",
    "        x = annData[:,gene].X.A\n",
    "        y = annData.obs[groupby].to_numpy() == group\n",
    "\n",
    "        # Fit logstic regression model\n",
    "        clf = LogisticRegression().fit(x, y)\n",
    "        yPred = clf.decision_function(x)\n",
    "        fpr, tpr, thresholds = roc_curve(y, yPred)\n",
    "        roc_auc = auc(fpr, tpr)\n",
    "    \n",
    "        # Display ROC curves\n",
    "        plt.plot(fpr,tpr, label = \"AUC = \" + str(np.round(roc_auc,3)))\n",
    "        plt.legend(loc = \"lower right\")\n",
    "        plt.xlabel('False Positive Rate')\n",
    "        plt.ylabel('True Positive Rate')\n",
    "        plt.title(\"ROC\")\n",
    "        plt.tight_layout()"
   ]
  },
  {
   "cell_type": "code",
   "execution_count": 144,
   "id": "16a4057e-9b1a-47cd-88dc-272c4c807fed",
   "metadata": {},
   "outputs": [],
   "source": [
    "plotROCs(avSeqData,\"1097 AV Col27a1 Glut\",list(geneList), groupby = \"cluster_label\",xRange = 10)"
   ]
  },
  {
   "cell_type": "code",
   "execution_count": 145,
   "id": "da6a13a0-6550-4ef4-9728-ef1ce2bc4724",
   "metadata": {},
   "outputs": [],
   "source": [
    "plotROCs(avSeqData,\"1097 AV Col27a1 Glut\",list(seqGeneList), groupby = \"cluster_label\", xRange = 14)"
   ]
  },
  {
   "cell_type": "code",
   "execution_count": 78,
   "id": "afff051f-d560-4f54-a7da-eae9ae87e7bf",
   "metadata": {},
   "outputs": [],
   "source": [
    "plotGenes([\"Sorcs3\",\"C1ql2\",\"Prkcd\",\"C1ql3\"],3)"
   ]
  },
  {
   "cell_type": "markdown",
   "id": "e6b53a44-cd01-4912-961d-d0800ddd9dba",
   "metadata": {
    "jp-MarkdownHeadingCollapsed": true,
    "tags": []
   },
   "source": [
    "## Look into AD"
   ]
  },
  {
   "cell_type": "code",
   "execution_count": 10,
   "id": "5a9c7941-53ea-4018-9870-40776fae3e46",
   "metadata": {},
   "outputs": [],
   "source": [
    "adSeqData = seqData[seqData.obs[\"Level2_id_label\"] == \"65_AD Serpinb7 Glut\"]\n",
    "sc.tl.rank_genes_groups(adSeqData,groupby=\"cluster_label\",reference = \"rest\", pts = True)\n",
    "sc.pl.rank_genes_groups(adSeqData, n_genes=20, fontsize = 16, sharey=False)"
   ]
  },
  {
   "cell_type": "code",
   "execution_count": 158,
   "id": "7eb8a73d-2ac9-4815-a51a-b4b56dcd676a",
   "metadata": {},
   "outputs": [],
   "source": [
    "adSeqGeneList = np.concatenate([adSeqData.uns[\"rank_genes_groups\"][\"names\"][name][0:3] for name in adSeqData.uns[\"rank_genes_groups\"][\"names\"].dtype.names])\n",
    "plotROCs(adSeqData,\"1095 AD Serpinb7 Glut\",list(adSeqGeneList), groupby = \"cluster_label\",xRange = 13)"
   ]
  },
  {
   "cell_type": "code",
   "execution_count": 212,
   "id": "a5e2c86e-e130-4cec-8b52-c696ef85fb8d",
   "metadata": {},
   "outputs": [],
   "source": [
    "ptDF.loc[[\"Scn4b\",\"Slc17a7\",\"Nkain2\",\"Zcchc12\",\"Prkcd\"]].sort_values(\"diff\",ascending = False)"
   ]
  },
  {
   "cell_type": "code",
   "execution_count": 178,
   "id": "58ad3bdd-b5ab-4325-84fd-799ab962041e",
   "metadata": {},
   "outputs": [],
   "source": [
    "ptDF = adSeqData.uns[\"rank_genes_groups\"][\"pts\"]\n",
    "ptDF['diff'] = ptDF['1095 AD Serpinb7 Glut'] - ptDF['1096 AD Serpinb7 Glut']\n",
    "ptDF.sort_values(\"diff\")"
   ]
  },
  {
   "cell_type": "code",
   "execution_count": 154,
   "id": "36f5cb2e-a2cc-4fb7-bf6e-10a9a2360463",
   "metadata": {},
   "outputs": [],
   "source": [
    "adData = merData[merData.obs[\"Level2_id_label\"] == \"65_AD Serpinb7 Glut\"]\n",
    "sc.tl.rank_genes_groups(adData,groupby=\"cluster_label\",reference = \"rest\", pts=True)\n",
    "sc.pl.rank_genes_groups(adData, n_genes=10, fontsize = 16, sharey=False)"
   ]
  },
  {
   "cell_type": "code",
   "execution_count": 156,
   "id": "24d3073d-202e-411a-af08-a94add0fd262",
   "metadata": {},
   "outputs": [],
   "source": [
    "adGeneList = np.concatenate([adData.uns[\"rank_genes_groups\"][\"names\"][name][0:3] for name in adData.uns[\"rank_genes_groups\"][\"names\"].dtype.names])\n",
    "plotROCs(adSeqData,\"1095 AD Serpinb7 Glut\",list(adGeneList), groupby = \"cluster_label\",xRange = 10)"
   ]
  },
  {
   "cell_type": "code",
   "execution_count": 157,
   "id": "74fdf4ae-6cdb-4530-83c8-649013e7d657",
   "metadata": {},
   "outputs": [],
   "source": [
    "plotGenes([\"Slc17a7\",\"C1ql2\",\"Zcchc12\",\"Scn4b\"],3)"
   ]
  },
  {
   "cell_type": "markdown",
   "id": "fb804701-472f-4876-a685-9418993af499",
   "metadata": {
    "jp-MarkdownHeadingCollapsed": true,
    "tags": []
   },
   "source": [
    "## Discriminate anterior nuclei"
   ]
  },
  {
   "cell_type": "code",
   "execution_count": 11,
   "id": "69d6c1e8-ce60-45cc-a241-753e80054f3a",
   "metadata": {},
   "outputs": [],
   "source": [
    "# List putative nuclei clusters:\n",
    "anteriorNuclei = [\"1095 AD Serpinb7 Glut\", \"1096 AD Serpinb7 Glut\", # Anterodorsal nucleus\n",
    "                  \"1097 AV Col27a1 Glut\",\"1098 AV Col27a1 Glut\", # Anteroventral nucleus\n",
    "                  \"1169 TH Prkcd Grin2c Glut_9\", \"1171 TH Prkcd Grin2c Glut_9\", # Anteromedial nucleus\n",
    "                  \"1153 TH Prkcd Grin2c Glut_5\", # Lateral dorsal nucleus of thalamus\n",
    "                 ]\n",
    "antSeqData = seqData[seqData.obs[\"cluster_label\"].isin(anteriorNuclei)]\n",
    "\n",
    "sc.tl.rank_genes_groups(antSeqData,groupby=\"cluster_label\",reference = \"rest\", pts = True)\n",
    "sc.pl.rank_genes_groups(antSeqData, n_genes=10, fontsize = 16, sharey=False)"
   ]
  },
  {
   "cell_type": "markdown",
   "id": "3505d35d-2bdc-4494-af2f-4009225a36df",
   "metadata": {
    "jp-MarkdownHeadingCollapsed": true,
    "tags": []
   },
   "source": [
    "## Modality differences\n",
    "Look at differences between datasets, e.g. cell counts collected"
   ]
  },
  {
   "cell_type": "code",
   "execution_count": 123,
   "id": "0d651c39-641f-491f-8c0d-80ea68c728dc",
   "metadata": {},
   "outputs": [],
   "source": [
    "xDF = countTypes(seqData,\"Level2_id_label\")\n",
    "yDF = countTypes(merData,\"Level2_id_label\")\n",
    "zDict = {}\n",
    "for group in xDF.index:\n",
    "    zDict[group] = xDF.loc[group][0] / yDF.loc[group][0]\n",
    "    \n",
    "pd.DataFrame(data=zDict.values(),index = zDict.keys(),columns=[\"seq / mer\"]).sort_values(\"seq / mer\",ascending = False)"
   ]
  },
  {
   "cell_type": "markdown",
   "id": "8f0fe19f-3f92-480d-a2aa-c00daa6bb480",
   "metadata": {
    "jp-MarkdownHeadingCollapsed": true,
    "tags": []
   },
   "source": [
    "## Misc"
   ]
  },
  {
   "cell_type": "code",
   "execution_count": 131,
   "id": "6a90bd4f-41ad-488f-bbe8-bd125d8334c1",
   "metadata": {},
   "outputs": [],
   "source": [
    "# Look at LGN clusters, section #16\n",
    "plotSectionClusters(subclass = \"69_TH Prkcd Grin2c Glut\",sections=[\"1198980123\"]);"
   ]
  },
  {
   "cell_type": "code",
   "execution_count": 126,
   "id": "c3429132-30d8-4a4f-a30f-915baceab6ec",
   "metadata": {},
   "outputs": [],
   "source": [
    "plotGenes([\"Gad2\",\"Kirrel3\",\"Prkcd\",\"C1ql3\"],16)"
   ]
  }
 ],
 "metadata": {
  "kernelspec": {
   "display_name": "Python 3",
   "language": "python",
   "name": "python3"
  },
  "language_info": {
   "codemirror_mode": {
    "name": "ipython",
    "version": 3
   },
   "file_extension": ".py",
   "mimetype": "text/x-python",
   "name": "python",
   "nbconvert_exporter": "python",
   "pygments_lexer": "ipython3",
   "version": "3.9.12"
  }
 },
 "nbformat": 4,
 "nbformat_minor": 5
}
