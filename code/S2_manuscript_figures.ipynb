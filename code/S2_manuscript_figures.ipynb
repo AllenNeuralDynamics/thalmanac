{
 "cells": [
  {
   "cell_type": "code",
   "execution_count": 1,
   "metadata": {},
   "outputs": [],
   "source": [
    "%load_ext autoreload\n",
    "%autoreload 2"
   ]
  },
  {
   "cell_type": "code",
   "execution_count": 2,
   "metadata": {},
   "outputs": [],
   "source": [
    "import numpy as np\n",
    "import pandas as pd\n",
    "\n",
    "from thalamus_merfish_analysis import abc_load as abc\n",
    "from thalamus_merfish_analysis import ccf_images as cimg\n",
    "from thalamus_merfish_analysis import ccf_plots as cplots\n",
    "get_ipython().run_line_magic('matplotlib', 'inline') "
   ]
  },
  {
   "cell_type": "markdown",
   "metadata": {},
   "source": [
    "## Load thalamus data"
   ]
  },
  {
   "cell_type": "code",
   "execution_count": 3,
   "metadata": {},
   "outputs": [],
   "source": [
    "obs_wmb = abc.get_combined_metadata()\n",
    "obs_th = abc.load_standard_thalamus(data_structure='obs')"
   ]
  },
  {
   "cell_type": "code",
   "execution_count": 4,
   "metadata": {},
   "outputs": [],
   "source": [
    "# set spatial column names to `_reconstructed` coordinate space\n",
    "coords = '_reconstructed'\n",
    "\n",
    "x_col = 'x'+coords\n",
    "y_col = 'y'+coords\n",
    "section_col = z_col = 'z'+coords"
   ]
  },
  {
   "cell_type": "code",
   "execution_count": 5,
   "metadata": {},
   "outputs": [],
   "source": [
    "# Load the CCF structures image\n",
    "ccf_images = abc.get_ccf_labels_image()"
   ]
  },
  {
   "cell_type": "code",
   "execution_count": 6,
   "metadata": {},
   "outputs": [],
   "source": [
    "# Precompute boundaries to use multiple times in this notebook w/o need to recompute\n",
    "\n",
    "# we only need to load the boundaries for sections that contain the thalamus\n",
    "sections_all = sorted(obs_th[section_col].unique())\n",
    "sections_int = np.rint(np.array(sections_all)/0.2).astype(int)\n",
    "\n",
    "# precompute boundaries for thalamic sections\n",
    "ccf_boundaries = cimg.sectionwise_label_erosion(ccf_images, distance_px=1, \n",
    "                                                fill_val=0, return_edges=True, \n",
    "                                                section_list=sections_int\n",
    "                                                )"
   ]
  },
  {
   "cell_type": "code",
   "execution_count": 7,
   "metadata": {},
   "outputs": [],
   "source": [
    "# 3 example sections for paper figures\n",
    "sections_3 = [6.4, 7.2, 8.0]"
   ]
  },
  {
   "cell_type": "code",
   "execution_count": 8,
   "metadata": {},
   "outputs": [],
   "source": [
    "# if you reload thalamus_merfish_analysis.ccf_plots after this cell has been run, \n",
    "# cplots.CCF_REGIONS_DEFAULT will be reset to None & you'll need to re-run this cell\n",
    "cplots.CCF_REGIONS_DEFAULT = abc.get_thalamus_names('substructure')"
   ]
  },
  {
   "cell_type": "code",
   "execution_count": 9,
   "metadata": {},
   "outputs": [],
   "source": [
    "# We can load & use the published color palettes for the ABC Atlas taxonomy\n",
    "abc_palettes = {level: abc.get_taxonomy_palette(level) for level in \n",
    "                ['neurotransmitter','class', 'subclass','supertype','cluster']}\n",
    "\n",
    "# We have also provided a secondary color palette for the cluster level that \n",
    "# attempts to increase the color contrast between spatially negihboring clusters\n",
    "# palette_df = pd.read_csv('/code/resources/cluster_palette_glasbey.csv')\n",
    "cluster_palette = abc.get_thalamus_cluster_palette() #dict(zip(palette_df['Unnamed: 0'], palette_df['0']))\n",
    "\n",
    "ccf_palette = abc.get_ccf_palette('substructure')\n",
    "ccf_palette['ZI'] = ccf_palette.pop('ZI-unassigned') # need to fix a key error"
   ]
  },
  {
   "cell_type": "markdown",
   "metadata": {},
   "source": [
    "## Figure 1: Thalamic cell types vs anatomical annotations"
   ]
  },
  {
   "cell_type": "markdown",
   "metadata": {},
   "source": [
    "### Figure 1(a): Subset of ABC Atlas"
   ]
  },
  {
   "cell_type": "code",
   "execution_count": 10,
   "metadata": {},
   "outputs": [],
   "source": [
    "kwargs_celltypes = dict(boundary_img=ccf_boundaries,\n",
    "                        bg_cells=obs_wmb, # background cells are displayed in grey\n",
    "                        section_col=section_col,\n",
    "                        x_col=x_col, \n",
    "                        y_col=y_col,\n",
    "                        edge_color='black',\n",
    "                        point_size=1, # cell marker size\n",
    "                       )\n",
    "\n",
    "taxonomy_level = 'class'\n",
    "class_figs= cplots.plot_ccf_overlay(\n",
    "    obs_th, \n",
    "    ccf_images, \n",
    "    point_hue='parcellation_substructure',\n",
    "    sections=[sections_3[1]],\n",
    "    separate_figs=True, # False does NOT show bg_cells\n",
    "    point_palette=ccf_palette,#abc_palettes[taxonomy_level],\n",
    "    legend=None, #'cells',\n",
    "    figsize=(20, 5),\n",
    "    custom_xy_lims=[0, 11, 11, 0],\n",
    "    **kwargs_celltypes\n",
    ")"
   ]
  },
  {
   "cell_type": "markdown",
   "metadata": {},
   "source": [
    "### Figure 1(b): Taxonomy tree"
   ]
  },
  {
   "cell_type": "markdown",
   "metadata": {},
   "source": [
    "### Figure 1(c): ARA anatomical annotations "
   ]
  },
  {
   "cell_type": "code",
   "execution_count": 11,
   "metadata": {},
   "outputs": [],
   "source": [
    "kwargs = dict(\n",
    "    bg_cells=None,\n",
    "    section_col=section_col,\n",
    "    x_col=x_col,\n",
    "    y_col=y_col,\n",
    "    point_size=0,\n",
    "    edge_color=\"black\",\n",
    "    boundary_img=ccf_boundaries,\n",
    "    # custom_xy_lims=[2.5, 6, 7, 4],\n",
    ")\n",
    "\n",
    "figs = cplots.plot_ccf_overlay(\n",
    "    obs_th,\n",
    "    ccf_images,\n",
    "    point_hue=\"subclass\",\n",
    "    face_palette=ccf_palette, \n",
    "    min_group_count=0,\n",
    "    sections=sections_3,\n",
    "    separate_figs=False,\n",
    "    figsize=(20, 5),\n",
    "    legend=None,\n",
    "    **kwargs,\n",
    ")\n",
    "# fig.savefig(f'../results/spaGCN_domains_ccf_overlay_3sections_res{res_str}.pdf', \n",
    "#             transparent=True, bbox_inches='tight')"
   ]
  },
  {
   "cell_type": "markdown",
   "metadata": {},
   "source": [
    "### Figure 1(d-g): TH+ZI cell types"
   ]
  },
  {
   "cell_type": "code",
   "execution_count": 12,
   "metadata": {},
   "outputs": [],
   "source": [
    "kwargs_celltypes = dict(boundary_img=ccf_boundaries,\n",
    "                        bg_cells=None,#obs_wmb, # background cells are displayed in grey\n",
    "                        section_col=section_col,\n",
    "                        x_col=x_col, \n",
    "                        y_col=y_col,\n",
    "                        edge_color='black',\n",
    "                        point_size=3, # cell marker size\n",
    "                       )\n",
    "\n",
    "levels = ['class', 'subclass', 'supertype', 'cluster']\n",
    "\n",
    "for taxonomy_level in levels:\n",
    "    if taxonomy_level == 'cluster':\n",
    "        palette = cluster_palette\n",
    "    else:\n",
    "        palette = abc_palettes[taxonomy_level]\n",
    "        \n",
    "    nt_figs = cplots.plot_ccf_overlay(\n",
    "        obs_th, \n",
    "        ccf_images, \n",
    "        point_hue=taxonomy_level, \n",
    "        sections=sections_3,\n",
    "        separate_figs=False,\n",
    "        point_palette=palette,\n",
    "        legend=None, #'cells',\n",
    "        figsize=(20, 5),\n",
    "        **kwargs_celltypes\n",
    "    )"
   ]
  },
  {
   "cell_type": "markdown",
   "metadata": {},
   "source": [
    "## Table 1: Taxonomy for TH+ZI cell types"
   ]
  },
  {
   "cell_type": "code",
   "execution_count": 13,
   "metadata": {},
   "outputs": [],
   "source": [
    "taxonomy_levels = ['class', 'subclass', 'supertype', 'cluster']\n",
    "obs_tax = obs_th.drop_duplicates(subset='cluster')[taxonomy_levels]\n",
    "\n",
    "# Clean up the taxonomy columns for sorting\n",
    "for col in obs_tax.columns:\n",
    "    # only keep categories that are present in the TH+ZI dataset\n",
    "    obs_tax.loc[:,col] = obs_tax.loc[:,col].cat.remove_unused_categories()\n",
    "    # remove leading/trailing whitespace\n",
    "    obs_tax.loc[:,col] = obs_tax.loc[:,col].str.strip()\n",
    "    # extract the ID # b/c lexically sorting the str object doesn't yield correct order\n",
    "    obs_tax.loc[:,col+'_id'] = obs_tax.loc[:,col].str.extract('(\\d+)', expand=False).astype(float)\n",
    "\n",
    "# sort by ID #s\n",
    "num_cols = [x+'_id' for x in taxonomy_levels]\n",
    "taxonomy_df = obs_tax.sort_values(by=num_cols, ascending=True, ignore_index=True)\n",
    "# clean up the ID columns\n",
    "taxonomy_df = taxonomy_df.drop(columns=num_cols)\n",
    "\n",
    "display(taxonomy_df)"
   ]
  },
  {
   "cell_type": "code",
   "execution_count": 14,
   "metadata": {},
   "outputs": [],
   "source": [
    "# Save out as csv file\n",
    "taxonomy_df.to_csv('../results/th_zi_taxonomy_CCN20230722.csv', index=False)"
   ]
  },
  {
   "cell_type": "markdown",
   "metadata": {},
   "source": [
    "## Figure 2: Thalamic nuclei metrics"
   ]
  },
  {
   "cell_type": "code",
   "execution_count": 15,
   "metadata": {},
   "outputs": [],
   "source": [
    "from thalamus_merfish_analysis import ccf_erode as cerd\n",
    "from thalamus_merfish_analysis import diversity_metrics as divmet\n",
    "from thalamus_merfish_analysis import diversity_plots as dplot"
   ]
  },
  {
   "cell_type": "code",
   "execution_count": 16,
   "metadata": {},
   "outputs": [],
   "source": [
    "obs_erode = cerd.label_cells_by_eroded_ccf(obs_th, ccf_images) # default is erosion by 5px (5um)\n",
    "# There is poor alignment in section 6.6 between PF celltypes and the PF CCF structure\n",
    "# So, we'll set all cells in section 6.6 to 'unassigned' CCF structure\n",
    "\n",
    "obs_erode.loc[lambda df: df['z_section']==6.6, cerd.ERODED_CCF_STRUCTURE_COL] = 'unassigned'\n",
    "\n",
    "# generate metrics for the eroded CCF structure\n",
    "ccf_label='parcellation_structure_eroded'\n",
    "th_ccf_metrics = divmet.calculate_diversity_metrics(obs_erode, ccf_label=ccf_label)\n",
    "\n",
    "regions_to_plot = dplot.TH_DIVERSITY_REGIONS"
   ]
  },
  {
   "cell_type": "markdown",
   "metadata": {},
   "source": [
    "### Fig 2(?): Stacked barplots"
   ]
  },
  {
   "cell_type": "code",
   "execution_count": 23,
   "metadata": {},
   "outputs": [],
   "source": [
    "# subclass\n",
    "fig_bp_subclass = dplot.barplot_stacked_proportions(\n",
    "    obs_erode, \n",
    "    'subclass', \n",
    "    th_ccf_metrics, \n",
    "    legend=True, \n",
    "    min_cell_frac=0.01  # lump subclasses that are <=1% of cells in that region into \"other\" category \n",
    "                        # also considered: min_cell_frac=0.05 \n",
    ")\n",
    "\n",
    "# supertype\n",
    "fig_bp_subclass = dplot.barplot_stacked_proportions(\n",
    "    obs_erode, \n",
    "    'supertype', \n",
    "    th_ccf_metrics, \n",
    "    legend=True, \n",
    "    min_cell_frac=0.01  # lump subclasses that are <=1% of cells in that region into \"other\" category \n",
    "                        # also considered: min_cell_frac=0.05 \n",
    ")\n",
    "\n",
    "# cluster\n",
    "fig_bp_subclass = dplot.barplot_stacked_proportions(\n",
    "    obs_erode, \n",
    "    'cluster', \n",
    "    th_ccf_metrics, \n",
    "    legend=False, \n",
    "    min_cell_frac=0.01  # lump subclasses that are <=1% of cells in that region into \"other\" category \n",
    "                        # also considered: min_cell_frac=0.05 \n",
    ")"
   ]
  },
  {
   "cell_type": "markdown",
   "metadata": {},
   "source": [
    "### Fig 2(?): 2D heatmaps"
   ]
  },
  {
   "cell_type": "code",
   "execution_count": 24,
   "metadata": {},
   "outputs": [],
   "source": [
    "import thalamus_merfish_analysis.distance_metrics as dm"
   ]
  },
  {
   "cell_type": "code",
   "execution_count": null,
   "metadata": {},
   "outputs": [],
   "source": [
    "# TODO: 2D heatmaps of nuclei vs taxonomy level categories (like for SpaGCN domains)"
   ]
  }
 ],
 "metadata": {
  "kernelspec": {
   "display_name": "base",
   "language": "python",
   "name": "python3"
  },
  "language_info": {
   "codemirror_mode": {
    "name": "ipython",
    "version": 3
   },
   "file_extension": ".py",
   "mimetype": "text/x-python",
   "name": "python",
   "nbconvert_exporter": "python",
   "pygments_lexer": "ipython3",
   "version": "3.9.12"
  }
 },
 "nbformat": 4,
 "nbformat_minor": 2
}
