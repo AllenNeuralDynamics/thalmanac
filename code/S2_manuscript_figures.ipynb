{
 "cells": [
  {
   "cell_type": "code",
   "execution_count": 1,
   "metadata": {},
   "outputs": [],
   "source": [
    "%load_ext autoreload\n",
    "%autoreload 2"
   ]
  },
  {
   "cell_type": "code",
   "execution_count": 60,
   "metadata": {},
   "outputs": [],
   "source": [
    "import numpy as np\n",
    "import pandas as pd\n",
    "\n",
    "from thalamus_merfish_analysis import abc_load as abc\n",
    "from thalamus_merfish_analysis import ccf_images as cimg\n",
    "from thalamus_merfish_analysis import ccf_plots as cplots\n",
    "get_ipython().run_line_magic('matplotlib', 'inline') "
   ]
  },
  {
   "cell_type": "markdown",
   "metadata": {},
   "source": [
    "## Load thalamus data"
   ]
  },
  {
   "cell_type": "code",
   "execution_count": 57,
   "metadata": {},
   "outputs": [],
   "source": [
    "obs_wmb = abc.get_combined_metadata()\n",
    "obs_th = abc.load_standard_thalamus(data_structure='obs')"
   ]
  },
  {
   "cell_type": "code",
   "execution_count": 4,
   "metadata": {},
   "outputs": [],
   "source": [
    "# set spatial column names to `_reconstructed` coordinate space\n",
    "coords = '_reconstructed'\n",
    "\n",
    "x_col = 'x'+coords\n",
    "y_col = 'y'+coords\n",
    "section_col = z_col = 'z'+coords"
   ]
  },
  {
   "cell_type": "code",
   "execution_count": 5,
   "metadata": {},
   "outputs": [],
   "source": [
    "# Load the CCF structures image\n",
    "ccf_images = abc.get_ccf_labels_image()"
   ]
  },
  {
   "cell_type": "code",
   "execution_count": 6,
   "metadata": {},
   "outputs": [],
   "source": [
    "# Precompute boundaries to use multiple times in this notebook w/o need to recompute\n",
    "\n",
    "# we only need to load the boundaries for sections that contain the thalamus\n",
    "sections_all = sorted(obs_th[section_col].unique())\n",
    "sections_int = np.rint(np.array(sections_all)/0.2).astype(int)\n",
    "\n",
    "# precompute boundaries for thalamic sections\n",
    "ccf_boundaries = cimg.sectionwise_label_erosion(ccf_images, distance_px=1, \n",
    "                                                fill_val=0, return_edges=True, \n",
    "                                                section_list=sections_int\n",
    "                                                )"
   ]
  },
  {
   "cell_type": "code",
   "execution_count": 7,
   "metadata": {},
   "outputs": [],
   "source": [
    "# 3 example sections for paper figures\n",
    "sections_3 = [6.4, 7.2, 8.0]"
   ]
  },
  {
   "cell_type": "code",
   "execution_count": 74,
   "metadata": {},
   "outputs": [],
   "source": [
    "# if you reload thalamus_merfish_analysis.ccf_plots after this cell has been run, \n",
    "# cplots.CCF_REGIONS_DEFAULT will be reset to None & you'll need to re-run this cell\n",
    "cplots.CCF_REGIONS_DEFAULT = abc.get_thalamus_names('substructure')"
   ]
  },
  {
   "cell_type": "code",
   "execution_count": 61,
   "metadata": {},
   "outputs": [],
   "source": [
    "# We can load & use the published color palettes for the ABC Atlas taxonomy\n",
    "abc_palettes = {level: abc.get_taxonomy_palette(level) for level in \n",
    "                ['neurotransmitter','class', 'subclass','supertype','cluster']}\n",
    "\n",
    "# We have also provided a secondary color palette for the cluster level that \n",
    "# attempts to increase the color contrast between spatially negihboring clusters\n",
    "palette_df = pd.read_csv('/code/resources/cluster_palette_glasbey.csv')\n",
    "cluster_palette = dict(zip(palette_df['Unnamed: 0'], palette_df['0']))"
   ]
  },
  {
   "cell_type": "code",
   "execution_count": 79,
   "metadata": {},
   "outputs": [],
   "source": [
    "obs_wmb"
   ]
  },
  {
   "cell_type": "markdown",
   "metadata": {},
   "source": [
    "## Figure 1: Thalamic cell types vs anatomical annotations"
   ]
  },
  {
   "cell_type": "code",
   "execution_count": 86,
   "metadata": {},
   "outputs": [],
   "source": [
    "kwargs_celltypes = dict(boundary_img=ccf_boundaries,\n",
    "                        bg_cells=obs_wmb, # background cells are displayed in grey\n",
    "                        section_col=section_col,\n",
    "                        x_col=x_col, \n",
    "                        y_col=y_col,\n",
    "                        edge_color='black',\n",
    "                        point_size=1, # cell marker size\n",
    "                       )\n",
    "\n",
    "taxonomy_level = 'class'\n",
    "class_figs= cplots.plot_ccf_overlay(\n",
    "    obs_th, \n",
    "    ccf_images, \n",
    "    point_hue='parcellation_substructure',\n",
    "    sections=sections_3,\n",
    "    separate_figs=True, # False does NOT show bg_cells\n",
    "    point_palette=ccf_palette,#abc_palettes[taxonomy_level],\n",
    "    legend=None, #'cells',\n",
    "    figsize=(20, 5),\n",
    "    custom_xy_lims=[0, 11, 11, 0],\n",
    "    **kwargs_celltypes\n",
    ")"
   ]
  },
  {
   "cell_type": "code",
   "execution_count": 56,
   "metadata": {},
   "outputs": [],
   "source": [
    "kwargs = dict(\n",
    "    bg_cells=None,\n",
    "    section_col=section_col,\n",
    "    x_col=x_col,\n",
    "    y_col=y_col,\n",
    "    point_size=0,\n",
    "    edge_color=\"black\",\n",
    "    boundary_img=ccf_boundaries,\n",
    "    # custom_xy_lims=[2.5, 6, 7, 4],\n",
    ")\n",
    "\n",
    "figs = cplots.plot_ccf_overlay(\n",
    "    obs_th,\n",
    "    ccf_images,\n",
    "    point_hue=\"subclass\",\n",
    "    face_palette=ccf_palette, \n",
    "    min_group_count=0,\n",
    "    sections=sections_3,\n",
    "    separate_figs=False,\n",
    "    figsize=(20, 5),\n",
    "    legend=None,\n",
    "    **kwargs,\n",
    ")\n",
    "# fig.savefig(f'../results/spaGCN_domains_ccf_overlay_3sections_res{res_str}.pdf', \n",
    "#             transparent=True, bbox_inches='tight')"
   ]
  },
  {
   "cell_type": "code",
   "execution_count": 77,
   "metadata": {},
   "outputs": [],
   "source": [
    "kwargs_celltypes = dict(boundary_img=ccf_boundaries,\n",
    "                        bg_cells=None,#obs_wmb, # background cells are displayed in grey\n",
    "                        section_col=section_col,\n",
    "                        x_col=x_col, \n",
    "                        y_col=y_col,\n",
    "                        edge_color='black',\n",
    "                        point_size=3, # cell marker size\n",
    "                       )\n",
    "\n",
    "levels = ['class', 'subclass', 'supertype', 'cluster']\n",
    "\n",
    "for taxonomy_level in levels:\n",
    "    if taxonomy_level == 'cluster':\n",
    "        palette = cluster_palette\n",
    "    else:\n",
    "        palette = abc_palettes[taxonomy_level]\n",
    "        \n",
    "    nt_figs = cplots.plot_ccf_overlay(\n",
    "        obs_th, \n",
    "        ccf_images, \n",
    "        point_hue=taxonomy_level, \n",
    "        sections=sections_3,\n",
    "        separate_figs=False,\n",
    "        point_palette=palette,\n",
    "        legend=None, #'cells',\n",
    "        figsize=(20, 5),\n",
    "        **kwargs_celltypes\n",
    "    )"
   ]
  },
  {
   "cell_type": "markdown",
   "metadata": {},
   "source": [
    "## Figure 2: Thalamic nuclei metrics"
   ]
  },
  {
   "cell_type": "markdown",
   "metadata": {},
   "source": []
  }
 ],
 "metadata": {
  "kernelspec": {
   "display_name": "base",
   "language": "python",
   "name": "python3"
  },
  "language_info": {
   "codemirror_mode": {
    "name": "ipython",
    "version": 3
   },
   "file_extension": ".py",
   "mimetype": "text/x-python",
   "name": "python",
   "nbconvert_exporter": "python",
   "pygments_lexer": "ipython3",
   "version": "3.9.12"
  }
 },
 "nbformat": 4,
 "nbformat_minor": 2
}
