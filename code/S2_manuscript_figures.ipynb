{
 "cells": [
  {
   "cell_type": "code",
   "execution_count": 1,
   "metadata": {},
   "outputs": [],
   "source": [
    "%load_ext autoreload\n",
    "%autoreload 2"
   ]
  },
  {
   "cell_type": "code",
   "execution_count": 35,
   "metadata": {},
   "outputs": [],
   "source": [
    "import numpy as np\n",
    "import pandas as pd\n",
    "import seaborn as sns\n",
    "\n",
    "from thalamus_merfish_analysis import abc_load as abc\n",
    "from thalamus_merfish_analysis import ccf_images as cimg\n",
    "from thalamus_merfish_analysis import ccf_plots as cplots\n",
    "from thalamus_merfish_analysis import ccf_erode as cerd\n",
    "from thalamus_merfish_analysis import diversity_metrics as divmet\n",
    "from thalamus_merfish_analysis import diversity_plots as dplot\n",
    "import thalamus_merfish_analysis.distance_metrics as dm\n",
    "get_ipython().run_line_magic('matplotlib', 'inline') "
   ]
  },
  {
   "cell_type": "code",
   "execution_count": 3,
   "metadata": {},
   "outputs": [],
   "source": [
    "import matplotlib.pyplot as plt\n",
    "from matplotlib import rcParams\n",
    "\n",
    "rcParams['ps.fonttype'] = 42\n",
    "rcParams['pdf.fonttype'] = 42\n",
    "rcParams['font.size'] = 9\n"
   ]
  },
  {
   "cell_type": "markdown",
   "metadata": {},
   "source": [
    "## Load thalamus data"
   ]
  },
  {
   "cell_type": "code",
   "execution_count": 4,
   "metadata": {},
   "outputs": [],
   "source": [
    "obs_wmb = abc.get_combined_metadata()\n",
    "obs_th = abc.load_standard_thalamus(data_structure='obs')"
   ]
  },
  {
   "cell_type": "code",
   "execution_count": 5,
   "metadata": {},
   "outputs": [],
   "source": [
    "# set spatial column names to `_reconstructed` coordinate space\n",
    "coords = '_reconstructed'\n",
    "\n",
    "x_col = 'x'+coords\n",
    "y_col = 'y'+coords\n",
    "section_col = z_col = 'z'+coords"
   ]
  },
  {
   "cell_type": "code",
   "execution_count": 6,
   "metadata": {},
   "outputs": [],
   "source": [
    "# Load the CCF structures image\n",
    "ccf_images = abc.get_ccf_labels_image()"
   ]
  },
  {
   "cell_type": "code",
   "execution_count": 7,
   "metadata": {},
   "outputs": [],
   "source": [
    "# Precompute boundaries to use multiple times in this notebook w/o need to recompute\n",
    "\n",
    "# we only need to load the boundaries for sections that contain the thalamus\n",
    "sections_all = sorted(obs_th[section_col].unique())\n",
    "sections_int = np.rint(np.array(sections_all)/0.2).astype(int)\n",
    "\n",
    "# precompute boundaries for thalamic sections\n",
    "ccf_boundaries = cimg.sectionwise_label_erosion(ccf_images, distance_px=1, \n",
    "                                                fill_val=0, return_edges=True, \n",
    "                                                section_list=sections_int\n",
    "                                                )"
   ]
  },
  {
   "cell_type": "code",
   "execution_count": 8,
   "metadata": {},
   "outputs": [],
   "source": [
    "# 3 example sections for paper figures\n",
    "sections_3 = [6.4, 7.2, 8.0]"
   ]
  },
  {
   "cell_type": "code",
   "execution_count": 9,
   "metadata": {},
   "outputs": [],
   "source": [
    "# if you reload thalamus_merfish_analysis.ccf_plots after this cell has been run, \n",
    "# cplots.CCF_REGIONS_DEFAULT will be reset to None & you'll need to re-run this cell\n",
    "cplots.CCF_REGIONS_DEFAULT = abc.get_thalamus_names('substructure')"
   ]
  },
  {
   "cell_type": "code",
   "execution_count": 10,
   "metadata": {},
   "outputs": [],
   "source": [
    "# We can load & use the published color palettes for the ABC Atlas taxonomy\n",
    "abc_palettes = {level: abc.get_taxonomy_palette(level) for level in \n",
    "                ['neurotransmitter','class', 'subclass','supertype','cluster']}\n",
    "\n",
    "# We have also provided a secondary color palette for the cluster level that \n",
    "# attempts to increase the color contrast between spatially negihboring clusters\n",
    "# palette_df = pd.read_csv('/code/resources/cluster_palette_glasbey.csv')\n",
    "abc_palettes['cluster'] = abc.get_thalamus_cluster_palette() #dict(zip(palette_df['Unnamed: 0'], palette_df['0']))\n",
    "\n",
    "ccf_palette = abc.get_ccf_palette('substructure')\n",
    "ccf_palette['ZI'] = ccf_palette.pop('ZI-unassigned') # need to fix a key error"
   ]
  },
  {
   "cell_type": "markdown",
   "metadata": {},
   "source": [
    "## Figure 1: Thalamic cell types vs anatomical annotations"
   ]
  },
  {
   "cell_type": "markdown",
   "metadata": {},
   "source": [
    "### Figure 1(a): Subset of ABC Atlas"
   ]
  },
  {
   "cell_type": "code",
   "execution_count": 11,
   "metadata": {},
   "outputs": [],
   "source": [
    "# downsample non-TH cells to minimize num of points rendered\n",
    "obs_nonTH = obs_wmb.drop(obs_th.index, axis=0)\n",
    "obs_nonTH = obs_nonTH.sample(frac=0.1, random_state=0)\n",
    "\n",
    "kwargs_celltypes = dict(boundary_img=ccf_boundaries,\n",
    "                        bg_cells=obs_nonTH, # background cells are displayed in grey\n",
    "                        section_col=section_col,\n",
    "                        x_col=x_col, \n",
    "                        y_col=y_col,\n",
    "                        edge_color='white',\n",
    "                        point_size=1, # cell marker size\n",
    "                       )\n",
    "\n",
    "\n",
    "taxonomy_level = 'class'\n",
    "subset_fig = cplots.plot_ccf_overlay(\n",
    "    obs_th.sample(frac=0.5, random_state=0), \n",
    "    ccf_images, \n",
    "    point_hue='parcellation_substructure',\n",
    "    sections=[sections_3[1]],\n",
    "    separate_figs=True, # False does NOT show bg_cells\n",
    "    point_palette=ccf_palette,#abc_palettes[taxonomy_level],\n",
    "    legend=None, #'cells',\n",
    "    figsize=(20, 5),\n",
    "    custom_xy_lims=[0, 11, 11, 0],\n",
    "    **kwargs_celltypes\n",
    ")\n",
    "subset_fig[0].set_size_inches(3, 3)\n",
    "subset_fig[0].savefig(f'../results/fig1A_subset_of_abc_atlas.pdf', \n",
    "                          transparent=True, bbox_inches='tight')"
   ]
  },
  {
   "cell_type": "markdown",
   "metadata": {},
   "source": [
    "### Figure 1(b): Taxonomy tree"
   ]
  },
  {
   "cell_type": "markdown",
   "metadata": {},
   "source": [
    "### Figure 1(c): ARA anatomical annotations "
   ]
  },
  {
   "cell_type": "code",
   "execution_count": 12,
   "metadata": {},
   "outputs": [],
   "source": [
    "kwargs = dict(\n",
    "    bg_cells=None,\n",
    "    section_col=section_col,\n",
    "    x_col=x_col,\n",
    "    y_col=y_col,\n",
    "    point_size=0,\n",
    "    edge_color=\"black\",\n",
    "    boundary_img=ccf_boundaries,\n",
    "    # custom_xy_lims=[2.5, 6, 7, 4],\n",
    ")\n",
    "\n",
    "figs_ara = cplots.plot_ccf_overlay(\n",
    "    obs_th.iloc[:1,:],\n",
    "    ccf_images,\n",
    "    point_hue=\"subclass\",\n",
    "    face_palette=ccf_palette, \n",
    "    min_group_count=0,\n",
    "    sections=sections_3,\n",
    "    separate_figs=False,\n",
    "    figsize=(20, 5),\n",
    "    legend=None,\n",
    "    **kwargs,\n",
    ")\n",
    "figs_ara[0].set_size_inches(8.3, 3)\n",
    "figs_ara[0].savefig(f'../results/fig1C_ccf_ara.png',\n",
    "                 transparent=True, bbox_inches='tight', dpi=300)"
   ]
  },
  {
   "cell_type": "markdown",
   "metadata": {},
   "source": [
    "### Figure 1(d-g): TH+ZI cell types"
   ]
  },
  {
   "cell_type": "code",
   "execution_count": 13,
   "metadata": {},
   "outputs": [],
   "source": [
    "kwargs_celltypes = dict(boundary_img=ccf_boundaries,\n",
    "                        bg_cells=None,#obs_wmb, # background cells are displayed in grey\n",
    "                        section_col=section_col,\n",
    "                        x_col=x_col, \n",
    "                        y_col=y_col,\n",
    "                        edge_color='black',\n",
    "                        point_size=0.3, # cell marker size\n",
    "                       )\n",
    "\n",
    "levels = ['class', 'subclass', 'supertype', 'cluster']\n",
    "fig_parts = ['D', 'E', 'F', 'G']\n",
    "\n",
    "for i, taxonomy_level in enumerate(levels):\n",
    "    palette = abc_palettes[taxonomy_level]\n",
    "        \n",
    "    figs_ccf_celltypes = cplots.plot_ccf_overlay(\n",
    "        obs_th, \n",
    "        ccf_images, \n",
    "        point_hue=taxonomy_level, \n",
    "        sections=sections_3,\n",
    "        separate_figs=False,\n",
    "        point_palette=palette,\n",
    "        legend=None, #'cells',\n",
    "        figsize=(20, 5),\n",
    "        **kwargs_celltypes\n",
    "    )\n",
    "    \n",
    "    figs_ccf_celltypes[0].set_size_inches(8.3, 3)\n",
    "    \n",
    "    figs_ccf_celltypes[0].savefig(f'../results/fig1{fig_parts[i]}_ccf_{taxonomy_level}.pdf',\n",
    "                                  transparent=True, bbox_inches='tight')"
   ]
  },
  {
   "cell_type": "markdown",
   "metadata": {},
   "source": [
    "## Table 1: Taxonomy for TH+ZI cell types"
   ]
  },
  {
   "cell_type": "code",
   "execution_count": 14,
   "metadata": {},
   "outputs": [],
   "source": [
    "taxonomy_levels = ['class', 'subclass', 'supertype', 'cluster']\n",
    "obs_tax = obs_th.drop_duplicates(subset='cluster')[taxonomy_levels]\n",
    "\n",
    "# Clean up the taxonomy columns for sorting\n",
    "for col in obs_tax.columns:\n",
    "    # only keep categories that are present in the TH+ZI dataset\n",
    "    obs_tax.loc[:,col] = obs_tax.loc[:,col].cat.remove_unused_categories()\n",
    "    # remove leading/trailing whitespace\n",
    "    obs_tax.loc[:,col] = obs_tax.loc[:,col].str.strip()\n",
    "    # extract the ID # b/c lexically sorting the str object doesn't yield correct order\n",
    "    obs_tax.loc[:,col+'_id'] = obs_tax.loc[:,col].str.extract('(\\d+)', expand=False).astype(float)\n",
    "\n",
    "# sort by ID #s\n",
    "num_cols = [x+'_id' for x in taxonomy_levels]\n",
    "taxonomy_df = obs_tax.sort_values(by=num_cols, ascending=True, ignore_index=True)\n",
    "# clean up the ID columns\n",
    "taxonomy_df = taxonomy_df.drop(columns=num_cols)\n",
    "\n",
    "display(taxonomy_df)"
   ]
  },
  {
   "cell_type": "code",
   "execution_count": 15,
   "metadata": {},
   "outputs": [],
   "source": [
    "# Save out as csv file\n",
    "taxonomy_df.to_csv('../results/th_zi_taxonomy_CCN20230722.csv', index=False)"
   ]
  },
  {
   "cell_type": "markdown",
   "metadata": {},
   "source": [
    "## Figure 2: Thalamic nuclei metrics"
   ]
  },
  {
   "cell_type": "code",
   "execution_count": 17,
   "metadata": {},
   "outputs": [],
   "source": [
    "obs_erode = cerd.label_cells_by_eroded_ccf(obs_th, ccf_images) # default is erosion by 5px (5um)\n",
    "# There is poor alignment in section 6.6 between PF celltypes and the PF CCF structure\n",
    "# So, we'll set all cells in section 6.6 to 'unassigned' CCF structure\n",
    "\n",
    "obs_erode.loc[lambda df: df['z_section']==6.6, cerd.ERODED_CCF_STRUCTURE_COL] = 'unassigned'\n",
    "\n",
    "# generate metrics for the eroded CCF structure\n",
    "ccf_label='parcellation_structure_eroded'\n",
    "th_ccf_metrics = divmet.calculate_diversity_metrics(obs_erode, ccf_label=ccf_label)\n",
    "\n",
    "regions_to_plot = dplot.TH_DIVERSITY_REGIONS"
   ]
  },
  {
   "cell_type": "markdown",
   "metadata": {},
   "source": [
    "### Fig S1: Stacked barplots"
   ]
  },
  {
   "cell_type": "code",
   "execution_count": 19,
   "metadata": {},
   "outputs": [],
   "source": [
    "taxonomy_level = 'cluster'\n",
    "metrics_to_sort_by = th_ccf_metrics.loc[dplot.TH_DIVERSITY_REGIONS,:]\n",
    "isi_sorted_metrics = metrics_to_sort_by.sort_values(\n",
    "                                by=[f'inverse_simpsons_{taxonomy_level}'], \n",
    "                                ascending=True\n",
    "                                )\n",
    "isi_sorted_regions = isi_sorted_metrics.index\n",
    "\n",
    "# plot \n",
    "fig_isi_rank, ax = plt.subplots()\n",
    "# log transforming just to make the colormap more divergent\n",
    "sns.heatmap(np.log([isi_sorted_metrics[f'inverse_simpsons_{taxonomy_level}'].values]),\n",
    "            square=True, cmap='PuBuGn',#'YlGnBu',\n",
    "            xticklabels=isi_sorted_regions,\n",
    "            ax=ax)\n",
    "\n",
    "fig_isi_rank.savefig(f'../results/diversity_rank_1Dheatmap_isi_nuclei_vs_cluster.pdf', \n",
    "                     transparent=True, bbox_inches='tight')"
   ]
  },
  {
   "cell_type": "code",
   "execution_count": 20,
   "metadata": {},
   "outputs": [],
   "source": [
    "plt.rcParams.update({'font.size': 7})\n",
    "\n",
    "# cluster\n",
    "taxonomy_level = 'cluster'\n",
    "fig_bp_cluster = dplot.barplot_stacked_proportions(\n",
    "    obs_erode, \n",
    "    taxonomy_level, \n",
    "    th_ccf_metrics, \n",
    "    legend=False, \n",
    "    min_cell_frac=0.01,  # lump subclasses that are <=1% of cells in that region into \"other\" category \n",
    "                        # also considered: min_cell_frac=0.05 \n",
    "    ordered_regions=isi_sorted_regions,\n",
    "    orientation='horizontal',\n",
    ")\n",
    "fig_bp_cluster.set_size_inches(2.25,3.8)\n",
    "fig_bp_cluster.gca().tick_params(length=0.02*72)\n",
    "\n",
    "ax_cluster = fig_bp_cluster.gca()\n",
    "xticklabels_cluster = [x.get_text() for x in ax_cluster.get_xticklabels()]\n",
    "\n",
    "fig_bp_cluster.savefig(f'../results/nuclei_diversity_barplot_ordered-isi-cluster_{taxonomy_level}.pdf', \n",
    "                       transparent=True, bbox_inches='tight')"
   ]
  },
  {
   "cell_type": "code",
   "execution_count": 21,
   "metadata": {},
   "outputs": [],
   "source": [
    "# supertype\n",
    "taxonomy_level = 'supertype'\n",
    "fig_bp_supertype = dplot.barplot_stacked_proportions(\n",
    "    obs_erode, \n",
    "    taxonomy_level, \n",
    "    th_ccf_metrics, \n",
    "    legend=False, \n",
    "    min_cell_frac=0.01, # lump subclasses that are <=1% of cells in that region into \"other\" category \n",
    "                        # also considered: min_cell_frac=0.05 \n",
    "    ordered_regions=isi_sorted_regions,\n",
    "    orientation='horizontal',\n",
    ")\n",
    "fig_bp_supertype.set_size_inches(2.25,3.8)\n",
    "fig_bp_supertype.gca().tick_params(length=0.02*72)\n",
    "\n",
    "# alternative: order the CCF regions for subclass & cluster plots using the \n",
    "# order of regions from sorting by supertype diversity\n",
    "ax_supertype = fig_bp_supertype.gca()\n",
    "xticklabels_supertype = [x.get_text() for x in ax_supertype.get_xticklabels()]\n",
    "\n",
    "fig_bp_supertype.savefig(f'../results/nuclei_diversity_barplot_ordered-isi-cluster_{taxonomy_level}.pdf', \n",
    "                         transparent=True, bbox_inches='tight')"
   ]
  },
  {
   "cell_type": "code",
   "execution_count": 22,
   "metadata": {},
   "outputs": [],
   "source": [
    "# subclass\n",
    "taxonomy_level = 'subclass'\n",
    "fig_bp_subclass = dplot.barplot_stacked_proportions(\n",
    "    obs_erode, \n",
    "    taxonomy_level, \n",
    "    th_ccf_metrics, \n",
    "    legend=False, \n",
    "    min_cell_frac=0.01,  # lump subclasses that are <=1% of cells in that region into \"other\" category \n",
    "                        # also considered: min_cell_frac=0.05 \n",
    "    ordered_regions=isi_sorted_regions,\n",
    "    orientation='horizontal',\n",
    ")\n",
    "fig_bp_subclass.set_size_inches(2.25,3.8)\n",
    "fig_bp_subclass.gca().tick_params(length=0.02*72)\n",
    "\n",
    "ax_subclass = fig_bp_subclass.gca()\n",
    "xticklabels_subclass = [x.get_text() for x in ax_subclass.get_xticklabels()]\n",
    "\n",
    "fig_bp_subclass.savefig(f'../results/nuclei_diversity_barplot_ordered-isi-cluster_{taxonomy_level}.pdf', \n",
    "                        transparent=True, bbox_inches='tight')"
   ]
  },
  {
   "cell_type": "markdown",
   "metadata": {},
   "source": [
    "### Fig 2A-C - 2D heatmaps"
   ]
  },
  {
   "cell_type": "code",
   "execution_count": 23,
   "metadata": {},
   "outputs": [],
   "source": [
    "regions_final = [\n",
    "    \"AD\", \"AV\", \"AM\", \"IAD\", \"LD\", \"VPM\", \"VPL\", \"LGd\",\n",
    "    \"MD\", \"CL\", \"CM\", \"IMD\", \"PO\", \"LP\", \"VAL\", \"VM\", \n",
    "    \"RE\", \"PF\", \"VPMpc\", \"PCN\", \"SPA\", \"PVT\", \"MH\", \"LH\", \"RT\", \n",
    "]"
   ]
  },
  {
   "cell_type": "code",
   "execution_count": 33,
   "metadata": {},
   "outputs": [],
   "source": [
    "# ccf region order here is fairly arbitrary t\n",
    "taxonomy_level = 'subclass'\n",
    "dist, y_names, x_names = dm.cluster_distances_from_labels(\n",
    "                            obs_th, y_col=ccf_label, x_col=taxonomy_level, \n",
    "                            y_names=sorted(regions_final),\n",
    "                            x_names=sorted(obs_th[taxonomy_level].unique()))\n",
    "\n",
    "y_order, x_order = dm.order_distances_x_to_y(dist, reorder_y=True)\n",
    "\n",
    "x_names_ids_only = [name[0:3] for name in x_names]\n",
    "\n",
    "plt.rcParams.update({'font.size': 7})\n",
    "fig_hm_subclass = dm.plot_ordered_similarity_heatmap(dist, \n",
    "                                         y_order=y_order, x_order=x_order, \n",
    "                                         y_names=y_names, x_names=x_names_ids_only)\n",
    "\n",
    "fig_hm_subclass.set_size_inches(1.8,3)\n",
    "fig_hm_subclass.gca().set_xlabel(taxonomy_level)\n",
    "fig_hm_subclass.gca().set_ylabel('CCF Structure')\n",
    "\n",
    "fig_hm_subclass.savefig(f'../results/similarity_heatmap_nuclei_vs_{taxonomy_level}_alpha-reorderedY.pdf', \n",
    "                        transparent=True, bbox_inches='tight')\n",
    "\n",
    "\n",
    "# Plot colored labels for the x-axis categories\n",
    "fig_xlabel_colors = dm.plot_heatmap_xlabel_colors(x_names, \n",
    "                                                  x_order, \n",
    "                                                  abc_palettes[taxonomy_level])\n",
    "fig_xlabel_colors.set_size_inches(1.8,3)\n",
    "fig_xlabel_colors.savefig(f'../results/similarity_heatmap_nuclei_vs_{taxonomy_level}_xaxis_colors.pdf', \n",
    "                        transparent=True, bbox_inches='tight')"
   ]
  },
  {
   "cell_type": "code",
   "execution_count": 32,
   "metadata": {},
   "outputs": [],
   "source": [
    "# ccf region order here is fairly arbitrary t\n",
    "taxonomy_level = 'supertype'\n",
    "dist, y_names, x_names = dm.cluster_distances_from_labels(\n",
    "                            obs_th, y_col=ccf_label, x_col=taxonomy_level, \n",
    "                            y_names=sorted(regions_final),\n",
    "                            x_names=sorted(obs_th[taxonomy_level].unique()))\n",
    "\n",
    "y_order, x_order = dm.order_distances_x_to_y(dist, reorder_y=True)\n",
    "\n",
    "x_names_ids_only = [name[0:4] for name in x_names]\n",
    "\n",
    "fig_hm_supertype = dm.plot_ordered_similarity_heatmap(\n",
    "                        dist, \n",
    "                        y_order=y_order, x_order=x_order, \n",
    "                        y_names=y_names, x_names=x_names_ids_only\n",
    "                        )\n",
    "\n",
    "fig_hm_supertype.set_size_inches(5.8,3)\n",
    "fig_hm_supertype.gca().set_xlabel(taxonomy_level)\n",
    "fig_hm_supertype.gca().set_ylabel('CCF Structure')\n",
    "\n",
    "\n",
    "fig_hm_supertype.savefig(f'../results/similarity_heatmap_nuclei_vs_{taxonomy_level}_alpha-reorderedY.pdf', \n",
    "                        transparent=True, bbox_inches='tight')\n",
    "\n",
    "\n",
    "# Plot colored labels for the x-axis categories\n",
    "fig_xlabel_colors = dm.plot_heatmap_xlabel_colors(x_names, \n",
    "                                                  x_order, \n",
    "                                                  abc_palettes[taxonomy_level])\n",
    "fig_xlabel_colors.set_size_inches(5.7,3)\n",
    "fig_xlabel_colors.savefig(f'../results/similarity_heatmap_nuclei_vs_{taxonomy_level}_xaxis_colors.pdf', \n",
    "                          transparent=True, bbox_inches='tight')"
   ]
  },
  {
   "cell_type": "code",
   "execution_count": 31,
   "metadata": {},
   "outputs": [],
   "source": [
    "taxonomy_level = 'cluster'\n",
    "dist, y_names, x_names = dm.cluster_distances_from_labels(\n",
    "                            obs_th, y_col=ccf_label, x_col=taxonomy_level, \n",
    "                            y_names=sorted(regions_final),\n",
    "                            x_names=sorted(obs_th[taxonomy_level].unique()))\n",
    "\n",
    "y_order, x_order = dm.order_distances_x_to_y(dist, reorder_y=True)\n",
    "\n",
    "x_names_ids_only = [name[0:4] for name in x_names]\n",
    "\n",
    "fig_hm_cluster = dm.plot_ordered_similarity_heatmap(dist, \n",
    "                                         y_order=y_order, x_order=x_order, \n",
    "                                         y_names=y_names, x_names=x_names_ids_only)\n",
    "\n",
    "fig_hm_cluster.set_size_inches(8.5,3)\n",
    "fig_hm_cluster.gca().set_xlabel(taxonomy_level)\n",
    "fig_hm_cluster.gca().set_ylabel('CCF Structure')\n",
    "\n",
    "\n",
    "fig_hm_cluster.savefig(f'../results/similarity_heatmap_nuclei_vs_{taxonomy_level}_alpha-reorderedY.pdf', \n",
    "                        transparent=True, bbox_inches='tight')\n",
    "\n",
    "\n",
    "# Plot colored labels for the x-axis categories\n",
    "fig_xlabel_colors = dm.plot_heatmap_xlabel_colors(x_names, \n",
    "                                                  x_order, \n",
    "                                                  abc_palettes[taxonomy_level])\n",
    "fig_xlabel_colors.set_size_inches(6.3,3)\n",
    "fig_xlabel_colors.savefig(f'../results/similarity_heatmap_nuclei_vs_{taxonomy_level}_xaxis_colors.pdf', \n",
    "                          transparent=True, bbox_inches='tight')"
   ]
  },
  {
   "cell_type": "markdown",
   "metadata": {},
   "source": [
    "### Figure 2D-E: Diversity metrics in space"
   ]
  },
  {
   "cell_type": "code",
   "execution_count": 51,
   "metadata": {},
   "outputs": [],
   "source": [
    "cmap = sns.color_palette(\"mako_r\", as_cmap=True)"
   ]
  },
  {
   "cell_type": "code",
   "execution_count": 55,
   "metadata": {},
   "outputs": [],
   "source": [
    "# plot the cell type counts in the CCF structures\n",
    "figs_clust_count_norm2cells = cplots.plot_metrics_ccf(ccf_images, \n",
    "                                    th_ccf_metrics['count_norm2cells_cluster'], \n",
    "                                    sections_3,\n",
    "                                    vmin=0, vmax=0.15, cmap=cmap,\n",
    "                                    cb_label='cluster count / # cells'\n",
    "                                    )\n",
    "\n",
    "for i, fig in enumerate(figs_clust_count_norm2cells):\n",
    "    fig.set_size_inches(4, 2)\n",
    "    fig.savefig(f'../results/fig2D_ccf_cluster_count_norm2cells_sec{int(sections_3[i]*10)}.png',\n",
    "                transparent=True, bbox_inches='tight', dpi=300)\n",
    "    fig.savefig(f'../results/fig2D_ccf_cluster_count_norm2cells_colorbar.pdf',\n",
    "                transparent=True, bbox_inches='tight')"
   ]
  },
  {
   "cell_type": "code",
   "execution_count": 43,
   "metadata": {},
   "outputs": [],
   "source": [
    "local_isi_df = divmet.calculate_local_diversity_metric(obs_erode, \n",
    "                                                       divmet.inverse_simpsons_index, \n",
    "                                                       metric_name='isi', \n",
    "                                                       n_neighbors=15)"
   ]
  },
  {
   "cell_type": "code",
   "execution_count": 58,
   "metadata": {},
   "outputs": [],
   "source": [
    "sections_3 = [6.4, 7.2, 8.0]\n",
    "metric_name = 'local_isi_cluster'\n",
    "for section in sections_3:\n",
    "    fig = dplot.plot_local_metric_ccf_section(obs_erode, local_isi_df, ccf_images,\n",
    "                                              section, metric_name, cmap=cmap)\n",
    "\n",
    "    fig.set_size_inches(4, 2)\n",
    "    fig.savefig(f'../results/fig2E_ccf_local_isi_cluster_sec{int(section*10)}.png',\n",
    "                transparent=True, bbox_inches='tight', dpi=300)\n",
    "    fig.savefig(f'../results/fig2E_ccf_local_isi_cluster_colorbar.pdf',\n",
    "                transparent=True, bbox_inches='tight')"
   ]
  },
  {
   "cell_type": "code",
   "execution_count": null,
   "metadata": {},
   "outputs": [],
   "source": []
  }
 ],
 "metadata": {
  "kernelspec": {
   "display_name": "base",
   "language": "python",
   "name": "python3"
  },
  "language_info": {
   "codemirror_mode": {
    "name": "ipython",
    "version": 3
   },
   "file_extension": ".py",
   "mimetype": "text/x-python",
   "name": "python",
   "nbconvert_exporter": "python",
   "pygments_lexer": "ipython3",
   "version": "3.9.12"
  }
 },
 "nbformat": 4,
 "nbformat_minor": 2
}
