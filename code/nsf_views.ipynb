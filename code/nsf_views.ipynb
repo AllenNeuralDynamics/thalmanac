{
 "cells": [
  {
   "cell_type": "code",
   "execution_count": 1,
   "metadata": {},
   "outputs": [],
   "source": [
    "# %load_ext autoreload\n",
    "# %autoreload 2"
   ]
  },
  {
   "cell_type": "code",
   "execution_count": 2,
   "metadata": {},
   "outputs": [],
   "source": [
    "import pandas as pd\n",
    "import anndata as ad\n",
    "import matplotlib.pyplot as plt\n",
    "import seaborn as sns\n",
    "import numpy as np\n",
    "\n",
    "from thalamus_merfish_analysis import ccf_plots as cplots\n",
    "from thalamus_merfish_analysis import ccf_images as cimg\n",
    "from thalamus_merfish_analysis import abc_load as abc\n",
    "get_ipython().run_line_magic('matplotlib', 'inline') "
   ]
  },
  {
   "cell_type": "code",
   "execution_count": 3,
   "metadata": {},
   "outputs": [],
   "source": [
    "adata = ad.read_zarr(\"/root/capsule/data/nsf_2000_adata1/nsf_2000_adata.zarr\")"
   ]
  },
  {
   "cell_type": "code",
   "execution_count": 4,
   "metadata": {},
   "outputs": [],
   "source": [
    "obs = adata.obs\n",
    "\n",
    "section_col = 'z_section'\n",
    "sections_all = sorted(obs[section_col].unique())\n",
    "# pick 3 example sections\n",
    "sections_3 = [6.4, 7.2, 8.0]"
   ]
  },
  {
   "cell_type": "markdown",
   "metadata": {},
   "source": [
    "## distance metrics"
   ]
  },
  {
   "cell_type": "code",
   "execution_count": 5,
   "metadata": {},
   "outputs": [],
   "source": [
    "import sklearn.metrics\n",
    "import scipy.spatial.distance as ssd\n",
    "import scipy.cluster.hierarchy as sch"
   ]
  },
  {
   "cell_type": "code",
   "execution_count": 6,
   "metadata": {},
   "outputs": [],
   "source": [
    "# factor totals correlated with gene totals??\n",
    "np.corrcoef(obs['nsf_tot'].values, adata.X.sum(axis=1).squeeze())"
   ]
  },
  {
   "cell_type": "code",
   "execution_count": 7,
   "metadata": {},
   "outputs": [],
   "source": [
    "nsf_cols = [f\"nsf{i}\" for i in range(30)]\n",
    "# un-normalized by scaling by totals?\n",
    "factors = obs[nsf_cols].values * obs['nsf_tot'].values[:,None]\n",
    "y = ssd.pdist(factors.T, metric='correlation')\n"
   ]
  },
  {
   "cell_type": "code",
   "execution_count": 8,
   "metadata": {},
   "outputs": [],
   "source": [
    "link = sch.linkage(y, method='single', optimal_ordering=True)\n",
    "dend = sch.dendrogram(link, no_plot=True)\n",
    "dist = ssd.squareform(y)\n",
    "nsf_order = dend[\"leaves\"]\n",
    "dist = dist[nsf_order, :]\n",
    "dist = dist[:, nsf_order]\n",
    "plt.matshow(dist)"
   ]
  },
  {
   "cell_type": "code",
   "execution_count": 9,
   "metadata": {},
   "outputs": [],
   "source": [
    "link = sch.linkage(y, method='complete', optimal_ordering=True)\n",
    "dend = sch.dendrogram(link, no_plot=True)\n",
    "dist = ssd.squareform(y)\n",
    "order = dend[\"leaves\"]\n",
    "dist = dist[order, :]\n",
    "dist = dist[:, order]\n",
    "plt.matshow(dist)"
   ]
  },
  {
   "cell_type": "code",
   "execution_count": 10,
   "metadata": {},
   "outputs": [],
   "source": [
    "th_names = abc.get_thalamus_substructure_names()\n",
    "th_subregion_names = list(set(th_names).difference(['TH-unassigned']))"
   ]
  },
  {
   "cell_type": "code",
   "execution_count": 11,
   "metadata": {},
   "outputs": [],
   "source": [
    "ccf_label = 'parcellation_substructure_realigned'\n",
    "obs[ccf_label] = obs[ccf_label].str.replace('-unassigned','')\n",
    "\n",
    "for x in th_subregion_names:\n",
    "    obs[x] = obs[ccf_label] == x"
   ]
  },
  {
   "cell_type": "code",
   "execution_count": 12,
   "metadata": {},
   "outputs": [],
   "source": [
    "th_subregions_found = list(set(th_subregion_names).intersection(obs[ccf_label].unique()))\n",
    "obs[th_subregion_names].mean(axis=0).loc[lambda x: x==0]"
   ]
  },
  {
   "cell_type": "code",
   "execution_count": 13,
   "metadata": {},
   "outputs": [],
   "source": [
    "# TODO: lookup sort from cross-species alignment\n",
    "regions = obs[th_subregions_found].values\n",
    "# ssd.squareform(ssd.pdist())\n",
    "dist_nsf_ccf = sklearn.metrics.pairwise_distances(factors.T[nsf_order], regions.T, metric='correlation')\n",
    "\n",
    "min_dist = dist_nsf_ccf.min(axis=0)\n",
    "ccf_sort = np.argsort(dist_nsf_ccf.argmin(axis=0) + min_dist)\n",
    "\n",
    "fig, ax = plt.subplots(figsize=(10,6))\n",
    "sns.heatmap(dist_nsf_ccf[:,ccf_sort], yticklabels=nsf_order, xticklabels=np.array(th_subregions_found)[ccf_sort], ax=ax)"
   ]
  },
  {
   "cell_type": "code",
   "execution_count": 14,
   "metadata": {},
   "outputs": [],
   "source": [
    "# TODO: try clustering ccf on gene-space similarity (or spatial?) to order instead (sns.clustermap?)"
   ]
  },
  {
   "cell_type": "markdown",
   "metadata": {},
   "source": [
    "## plotting"
   ]
  },
  {
   "cell_type": "code",
   "execution_count": 15,
   "metadata": {},
   "outputs": [],
   "source": [
    "ccf_polygons = abc.get_ccf_labels_image(resampled=True, realigned=True)\n",
    "# erase right hemisphere\n",
    "ccf_polygons[550:,:,:] = 0\n",
    "ccf_boundaries = cimg.sectionwise_label_erosion(ccf_polygons, distance_px=1, fill_val=0, return_edges=True)"
   ]
  },
  {
   "cell_type": "code",
   "execution_count": 16,
   "metadata": {},
   "outputs": [],
   "source": [
    "\n",
    "ccf_label = 'parcellation_substructure_realigned'\n",
    "\n",
    "x_coord_col = 'x_section'\n",
    "y_coord_col = 'y_section'\n"
   ]
  },
  {
   "cell_type": "code",
   "execution_count": 17,
   "metadata": {},
   "outputs": [],
   "source": [
    "n=23\n"
   ]
  },
  {
   "cell_type": "code",
   "execution_count": 18,
   "metadata": {},
   "outputs": [],
   "source": [
    "\n",
    "cplots.plot_ccf_overlay(obs, ccf_polygons, categorical=False,\n",
    "                        point_hue=f'nsf{n}', sections=sections_3,\n",
    "                        shape_palette='dark_outline', \n",
    "                        point_palette='viridis', legend=None, \n",
    "                        section_col=section_col, \n",
    "                        x_col=x_coord_col, y_col=y_coord_col, s=3,\n",
    "                        boundary_img=ccf_boundaries);"
   ]
  },
  {
   "cell_type": "markdown",
   "metadata": {},
   "source": [
    "## gene plots from loadings\n",
    "\n",
    "Caution: Do not always look like factors!"
   ]
  },
  {
   "cell_type": "code",
   "execution_count": 19,
   "metadata": {},
   "outputs": [],
   "source": [
    "from importlib import reload\n",
    "reload(cplots)"
   ]
  },
  {
   "cell_type": "code",
   "execution_count": 20,
   "metadata": {},
   "outputs": [],
   "source": [
    "loadings = adata.var[nsf_cols].to_numpy()\n",
    "lin_weights = loadings @ np.linalg.pinv(loadings.T @ loadings)\n",
    "# feat @ loadings.T = X, so feat ~= X @ lin_weights\n",
    "adata.obsm['genes_on_loadings'] = adata.X @ loadings\n",
    "adata.obsm['genes_linear_projection'] = adata.X @ lin_weights"
   ]
  },
  {
   "cell_type": "code",
   "execution_count": 21,
   "metadata": {},
   "outputs": [],
   "source": [
    "# can't plot with obsm currently\n",
    "\n",
    "# cplots.plot_ccf_overlay(obs, ccf_polygons, categorical=False,\n",
    "#                         point_hue=adata.obsm['genes_on_loadings'][:,0], \n",
    "#                         sections=sections_3,\n",
    "#                         shape_palette='dark_outline', \n",
    "#                         point_palette='viridis', legend=None, \n",
    "#                         section_col=section_col, \n",
    "#                         x_col=x_coord_col, y_col=y_coord_col, s=3,\n",
    "#                         boundary_img=ccf_boundaries);"
   ]
  },
  {
   "cell_type": "code",
   "execution_count": 22,
   "metadata": {},
   "outputs": [],
   "source": [
    "# TODO: try linear approx of forward transform\n",
    "for i, x in enumerate(nsf_cols):\n",
    "    loadings = adata.var[x].to_numpy()\n",
    "    obs[x+\"_allgenes\"] = adata.X @ loadings\n",
    "    order = loadings.argsort()\n",
    "    loadings[order[:-3]] = 0\n",
    "    obs[x+\"_3genes\"] = adata.X @ loadings\n",
    "    loadings[order[:-2]] = 0\n",
    "    obs[x+\"_2genes\"] = adata.X @ loadings\n",
    "    obs[x+\"_linear_genes\"] = adata.X @ lin_weights[:,i]\n"
   ]
  },
  {
   "cell_type": "code",
   "execution_count": 23,
   "metadata": {},
   "outputs": [],
   "source": [
    "cplots.plot_ccf_overlay(obs, ccf_polygons, categorical=False,\n",
    "                        point_hue=f'nsf{n}_linear_genes', sections=sections_3,\n",
    "                        shape_palette='dark_outline', \n",
    "                        point_palette='viridis', legend=None, \n",
    "                        section_col=section_col, \n",
    "                        x_col=x_coord_col, y_col=y_coord_col, s=3,\n",
    "                        boundary_img=ccf_boundaries);"
   ]
  },
  {
   "cell_type": "code",
   "execution_count": 24,
   "metadata": {},
   "outputs": [],
   "source": [
    "cplots.plot_ccf_overlay(obs, ccf_polygons, categorical=False,\n",
    "                        point_hue=f'nsf{n}_allgenes', sections=sections_3,\n",
    "                        shape_palette='dark_outline', \n",
    "                        point_palette='viridis', legend=None, \n",
    "                        section_col=section_col, \n",
    "                        x_col=x_coord_col, y_col=y_coord_col, s=3,\n",
    "                        boundary_img=ccf_boundaries);"
   ]
  },
  {
   "cell_type": "code",
   "execution_count": 25,
   "metadata": {},
   "outputs": [],
   "source": [
    "cplots.plot_ccf_overlay(obs, ccf_polygons, categorical=False,\n",
    "                        point_hue=f'nsf{n}_3genes', sections=sections_3,\n",
    "                        shape_palette='dark_outline', \n",
    "                        point_palette='viridis', legend=None, \n",
    "                        section_col=section_col, \n",
    "                        x_col=x_coord_col, y_col=y_coord_col, s=3,\n",
    "                        boundary_img=ccf_boundaries);"
   ]
  },
  {
   "cell_type": "code",
   "execution_count": 26,
   "metadata": {},
   "outputs": [],
   "source": [
    "cplots.plot_ccf_overlay(obs, ccf_polygons, categorical=False,\n",
    "                        point_hue=f'nsf{n}_2genes', sections=sections_3,\n",
    "                        shape_palette='dark_outline', \n",
    "                        point_palette='viridis', legend=None, \n",
    "                        section_col=section_col, \n",
    "                        x_col=x_coord_col, y_col=y_coord_col, s=3,\n",
    "                        boundary_img=ccf_boundaries);"
   ]
  },
  {
   "cell_type": "markdown",
   "metadata": {},
   "source": [
    "## plotting (nonlin alignment)"
   ]
  },
  {
   "cell_type": "code",
   "execution_count": 27,
   "metadata": {},
   "outputs": [],
   "source": [
    "ccf_polygons2 = abc.get_ccf_labels_image(resampled=True, realigned=False)\n",
    "# erase right hemisphere\n",
    "ccf_polygons2[550:,:,:] = 0\n",
    "ccf_boundaries2 = cimg.sectionwise_label_erosion(ccf_polygons2, distance_px=1, fill_val=0, return_edges=True)"
   ]
  },
  {
   "cell_type": "code",
   "execution_count": 28,
   "metadata": {},
   "outputs": [],
   "source": [
    "\n",
    "ccf_label = 'parcellation_substructure'\n",
    "\n",
    "x_coord_col = 'x_reconstructed'\n",
    "y_coord_col = 'y_reconstructed'\n"
   ]
  },
  {
   "cell_type": "code",
   "execution_count": 29,
   "metadata": {},
   "outputs": [],
   "source": [
    "cplots.plot_ccf_overlay(obs, ccf_polygons2, categorical=False,\n",
    "                        point_hue='nsf1', sections=sections_3,\n",
    "                        shape_palette='dark_outline', \n",
    "                        point_palette='viridis', legend=None, \n",
    "                        section_col=section_col, \n",
    "                        x_col=x_coord_col, y_col=y_coord_col, s=3,\n",
    "                        boundary_img=ccf_boundaries2);"
   ]
  },
  {
   "cell_type": "code",
   "execution_count": null,
   "metadata": {},
   "outputs": [],
   "source": []
  }
 ],
 "metadata": {
  "kernelspec": {
   "display_name": "base",
   "language": "python",
   "name": "python3"
  },
  "language_info": {
   "codemirror_mode": {
    "name": "ipython",
    "version": 3
   },
   "file_extension": ".py",
   "mimetype": "text/x-python",
   "name": "python",
   "nbconvert_exporter": "python",
   "pygments_lexer": "ipython3",
   "version": "3.9.12"
  }
 },
 "nbformat": 4,
 "nbformat_minor": 2
}
