{
 "cells": [
  {
   "cell_type": "code",
   "execution_count": 1,
   "id": "55f29659-194d-4e9e-88f6-9035f35b3ff0",
   "metadata": {
    "tags": []
   },
   "outputs": [],
   "source": [
    "%load_ext autoreload\n",
    "%autoreload 2"
   ]
  },
  {
   "cell_type": "code",
   "execution_count": 2,
   "id": "f14afdc8",
   "metadata": {
    "tags": []
   },
   "outputs": [],
   "source": [
    "import anndata as ad\n",
    "import pandas as pd\n",
    "import numpy as np\n",
    "\n",
    "import matplotlib.pyplot as plt\n",
    "# import matplotlib\n",
    "from matplotlib.colors import rgb2hex\n",
    "from colorcet import glasbey\n",
    "# import seaborn as sns\n",
    "\n",
    "import shapely\n",
    "import shapely.plotting as splot\n",
    "\n",
    "import scanpy as sc\n",
    "\n",
    "import ccf_plots as cplots\n",
    "import abc_load as abc\n",
    "\n",
    "%matplotlib inline"
   ]
  },
  {
   "cell_type": "code",
   "execution_count": 3,
   "id": "83d564e3-6be2-4483-8c8f-c742cac9edd9",
   "metadata": {
    "tags": []
   },
   "outputs": [],
   "source": [
    "# suppress FutureWarning warnings (targeting AnnData & Seaborn)\n",
    "import warnings\n",
    "warnings.simplefilter(action='ignore', category=FutureWarning)"
   ]
  },
  {
   "cell_type": "markdown",
   "id": "2c770388",
   "metadata": {},
   "source": [
    "# Load TH+ZI subset of ABC atlas"
   ]
  },
  {
   "cell_type": "code",
   "execution_count": 4,
   "id": "84a8b275-c25a-4641-ac2d-02c1613b2350",
   "metadata": {
    "tags": []
   },
   "outputs": [],
   "source": [
    "version = '20230830'\n",
    "adata_th_zi = abc.load_adata(version=version, transform='log2', \n",
    "                             subset_to_TH_ZI=True, with_metadata=True, \n",
    "                             flip_y=False, # ccf_plots module expects unflipped y axis\n",
    "                             round_z=True,\n",
    "                             with_colors=True) # colors required for displaying by cell type"
   ]
  },
  {
   "cell_type": "code",
   "execution_count": 5,
   "id": "2e5c5bd3-d2f9-435d-80d2-01179f709093",
   "metadata": {
    "tags": []
   },
   "outputs": [],
   "source": [
    "adata_th_zi_neurons = abc.filter_adata_by_class(adata_th_zi, filter_nonneuronal=True,\n",
    "                                                filter_midbrain=True)"
   ]
  },
  {
   "cell_type": "code",
   "execution_count": 6,
   "id": "d0fdf2bb-cb01-4bf2-af99-e86597d51ea0",
   "metadata": {
    "tags": []
   },
   "outputs": [],
   "source": [
    "# grab the obs df\n",
    "obs_th_neurons = adata_th_zi_neurons.obs.copy()"
   ]
  },
  {
   "cell_type": "code",
   "execution_count": 7,
   "id": "4da0e712-6a6e-4d1e-9416-4d4a9fcd8611",
   "metadata": {
    "tags": []
   },
   "outputs": [],
   "source": [
    "# load in rasterized CCF volumes\n",
    "ccf_polygons = abc.get_ccf_labels_image(resampled=True).astype(int)"
   ]
  },
  {
   "cell_type": "markdown",
   "id": "c3a75574",
   "metadata": {},
   "source": [
    "### preprocessing"
   ]
  },
  {
   "cell_type": "code",
   "execution_count": 8,
   "id": "8620f04c-e2ed-4601-a330-5178bfabfb77",
   "metadata": {
    "tags": []
   },
   "outputs": [],
   "source": [
    "# # rename the reconstructed coords to be compatible with ccf_plots.py module\n",
    "# rename = {\n",
    "#           'x_reconstructed':'cirro_x',\n",
    "#           'y_reconstructed':'cirro_y',\n",
    "#           'brain_section_label':'section',\n",
    "#           'parcellation_substructure':'CCF_acronym'\n",
    "#          }\n",
    "# obs_th_neurons = obs_th_neurons.rename(columns=rename)\n",
    "section_col = 'z_reconstructed'\n",
    "x_coord_col = 'x_reconstructed'\n",
    "y_coord_col = 'y_reconstructed'\n",
    "ccf_label = 'parcellation_substructure'"
   ]
  },
  {
   "cell_type": "code",
   "execution_count": 9,
   "id": "33e8b7b0",
   "metadata": {
    "tags": []
   },
   "outputs": [],
   "source": [
    "# # helps plotting etc by trimming categories\n",
    "# for col in obs_th_neurons.columns:\n",
    "#     if isinstance(obs_th_neurons[col].dtype, pd.CategoricalDtype):\n",
    "#         obs_th_neurons[col] = obs_th_neurons[col].cat.remove_unused_categories()"
   ]
  },
  {
   "cell_type": "code",
   "execution_count": 10,
   "id": "ca8cba35-574d-402d-95e2-7b82fee28012",
   "metadata": {
    "tags": []
   },
   "outputs": [],
   "source": [
    "sections = sorted(obs_th_neurons[section_col].unique())\n",
    "\n",
    "# pick 3 example sections\n",
    "sections_3 = [6.4, 7.2, 8.0]"
   ]
  },
  {
   "cell_type": "markdown",
   "id": "9da8bb6c-2ba8-4e92-a1d9-ecd84dc408a5",
   "metadata": {},
   "source": [
    "## view thalamus subset with subclass labels"
   ]
  },
  {
   "cell_type": "code",
   "execution_count": 11,
   "id": "84cb7d8c-7055-4d3e-a05d-e0b130821c9a",
   "metadata": {
    "tags": []
   },
   "outputs": [],
   "source": [
    "section_col = 'z_reconstructed'\n",
    "x_coord_col = 'x_reconstructed'\n",
    "y_coord_col = 'y_reconstructed'\n",
    "ccf_label = 'parcellation_substructure'\n",
    "# obs_th_neurons['z_section']\n",
    "cplots.plot_ccf_overlay(obs_th_neurons.iloc[[],:], # no foreground cells; just the ccf shapes\n",
    "                        ccf_polygons, sections=sections_3, point_hue=ccf_label, \n",
    "                        highlight='all', legend='ccf',\n",
    "                        section_col=section_col, x_col=x_coord_col, y_col=y_coord_col,\n",
    "                        bg_shapes=False, min_group_count=0, \n",
    "                        axes=False)"
   ]
  },
  {
   "cell_type": "code",
   "execution_count": 12,
   "id": "5bf0618c-8837-4247-860b-a630aa259105",
   "metadata": {
    "tags": []
   },
   "outputs": [],
   "source": [
    "subclasses_all = obs_th_neurons['subclass'].value_counts().loc[lambda x: x>100]\n",
    "print(len(subclasses_all))\n",
    "\n",
    "supertypes_all = obs_th_neurons['supertype'].value_counts().loc[lambda x: x>10]\n",
    "print(len(supertypes_all))"
   ]
  },
  {
   "cell_type": "code",
   "execution_count": 13,
   "id": "3b097c7c-d407-4c38-bc52-d8d3ac6a261e",
   "metadata": {
    "tags": []
   },
   "outputs": [],
   "source": [
    "obs_th_neurons.loc[lambda df: df['subclass'].isin(subclasses_all.index), 'class'].value_counts().loc[lambda x: x>0]"
   ]
  },
  {
   "cell_type": "code",
   "execution_count": 14,
   "id": "30afd613-7f2f-4e51-8afa-29601b405a8f",
   "metadata": {
    "tags": []
   },
   "outputs": [],
   "source": [
    "obs_th_neurons.loc[lambda df: df['subclass'].isin(subclasses_all.index), 'supertype'].unique().shape[0]"
   ]
  },
  {
   "cell_type": "code",
   "execution_count": 15,
   "id": "9e72ffb4-25e3-4fd7-8d7d-34c48cfb252c",
   "metadata": {
    "tags": []
   },
   "outputs": [],
   "source": [
    "obs_th_neurons.loc[lambda df: df['subclass'].isin(subclasses_all.index), 'cluster'].unique().shape[0]"
   ]
  },
  {
   "cell_type": "code",
   "execution_count": 16,
   "id": "68607550-f2a1-4984-8829-78e04fa30b6d",
   "metadata": {
    "tags": []
   },
   "outputs": [],
   "source": [
    "tax_level = 'subclass'\n",
    "point_palette = dict(zip(obs_th_neurons[tax_level].unique(),\n",
    "                         obs_th_neurons[tax_level+'_color'].unique()))\n",
    "\n",
    "obs = obs_th_neurons.loc[lambda df: df['subclass'].isin(subclasses_all.index)]\n",
    "cplots.plot_ccf_overlay(obs, ccf_polygons, \n",
    "                        # bg_cells=obs_th_neurons, # skip the background cells - it just makes it look like a grey 3D shadow on each dot\n",
    "                        point_hue='subclass', sections=sections_3,\n",
    "                        shape_palette='dark_outline', \n",
    "                        point_palette=point_palette, legend='cells', \n",
    "                        highlight='all', section_col=section_col, \n",
    "                        x_col=x_coord_col, y_col=y_coord_col,\n",
    "                        min_group_count=30, s=3)"
   ]
  },
  {
   "cell_type": "code",
   "execution_count": 17,
   "id": "6112e767-bfcf-40cf-ab7b-7dea817c16fa",
   "metadata": {
    "tags": []
   },
   "outputs": [],
   "source": [
    "tax_level = 'supertype'\n",
    "point_palette = dict(zip(obs_th_neurons[tax_level].unique(),\n",
    "                         obs_th_neurons[tax_level+'_color'].unique()))\n",
    "\n",
    "obs = obs_th_neurons.loc[lambda df: df['subclass'].isin(subclasses_all.index)]\n",
    "cplots.plot_ccf_overlay(obs, ccf_polygons, \n",
    "                        #bg_cells=obs_th_neurons, # skip the background cells - it just makes it look like a grey 3D shadow on each dot\n",
    "                        point_hue='supertype', sections=sections_3,\n",
    "                        shape_palette='dark_outline', \n",
    "                        point_palette=point_palette, legend='cells', \n",
    "                        highlight='all', section_col=section_col, \n",
    "                        x_col=x_coord_col, y_col=y_coord_col,\n",
    "                        min_group_count=30,s=3)"
   ]
  },
  {
   "cell_type": "code",
   "execution_count": 18,
   "id": "7a343a1d-bf57-473e-b71b-fd7f91c3463b",
   "metadata": {
    "tags": []
   },
   "outputs": [],
   "source": [
    "tax_level = 'cluster'\n",
    "point_palette = dict(zip(obs_th_neurons[tax_level].unique(),\n",
    "                         obs_th_neurons[tax_level+'_color'].unique()))\n",
    "\n",
    "obs = obs_th_neurons.loc[lambda df: df['subclass'].isin(subclasses_all.index)]\n",
    "cplots.plot_ccf_overlay(obs, ccf_polygons, \n",
    "                        #bg_cells=obs_th_neurons, # skip the background cells - it just makes it look like a grey 3D shadow on each dot\n",
    "                        point_hue='cluster', sections=sections_3,\n",
    "                        shape_palette='dark_outline', \n",
    "                        point_palette=point_palette, legend=None, \n",
    "                        # highlight='all', \n",
    "                        section_col=section_col, \n",
    "                        x_col=x_coord_col, y_col=y_coord_col,\n",
    "                        min_group_count=30,s=3)"
   ]
  },
  {
   "cell_type": "markdown",
   "id": "fe04a33a-67a0-41ee-9f8e-d989813abcdd",
   "metadata": {
    "tags": []
   },
   "source": [
    "## examples"
   ]
  },
  {
   "cell_type": "markdown",
   "id": "17c4eb17-767c-4d64-b1f2-8eb709210b01",
   "metadata": {
    "tags": []
   },
   "source": [
    "### ANT"
   ]
  },
  {
   "cell_type": "markdown",
   "id": "0c9adf61-a8c6-47fa-a04d-8657e2d98bfc",
   "metadata": {},
   "source": [
    "#### supertypes"
   ]
  },
  {
   "cell_type": "code",
   "execution_count": 19,
   "id": "8ca56c4d-8bfc-4d07-b42f-b39c19330f1b",
   "metadata": {
    "tags": []
   },
   "outputs": [],
   "source": [
    "anterior_sec = 8.0\n",
    "clusters = [str(x) for x in list(range(2613, 2616+1)) + list(range(2674, 2676+1))]\n",
    "obs = obs_th_neurons.loc[lambda df: df['cluster'].str[:4].isin(clusters)]\n",
    "\n",
    "nuclei = ['AD', 'AV', 'AMd', 'AMv']\n",
    "cplots.plot_ccf_overlay(obs, ccf_polygons, bg_cells=obs_th_neurons, \n",
    "                        point_hue='supertype', sections=[anterior_sec],\n",
    "                        shape_palette='dark_outline', s=3,\n",
    "                        ccf_names=nuclei, legend='cells', bg_shapes=False, \n",
    "                        section_col=section_col, \n",
    "                        x_col=x_coord_col, y_col=y_coord_col)"
   ]
  },
  {
   "cell_type": "markdown",
   "id": "6f05f2e0-2f43-428e-9520-4b918457bc9e",
   "metadata": {},
   "source": [
    "#### clusters"
   ]
  },
  {
   "cell_type": "code",
   "execution_count": 20,
   "id": "ee92e611",
   "metadata": {
    "tags": []
   },
   "outputs": [],
   "source": [
    "cplots.plot_ccf_overlay(obs, ccf_polygons, bg_cells=obs_th_neurons, \n",
    "                        point_hue='cluster', sections=[anterior_sec],\n",
    "                        shape_palette='dark_outline', s=3,\n",
    "                        ccf_names=nuclei, legend='cells', bg_shapes=False, \n",
    "                        section_col=section_col, \n",
    "                        x_col=x_coord_col, y_col=y_coord_col)"
   ]
  },
  {
   "cell_type": "markdown",
   "id": "9fe021dd-6f0c-45fa-8348-411a3dabf1e2",
   "metadata": {
    "tags": []
   },
   "source": [
    "### VAL + VM (clusters)"
   ]
  },
  {
   "cell_type": "code",
   "execution_count": 21,
   "id": "bec12672-2e8b-4205-b0be-265cdf668076",
   "metadata": {
    "tags": []
   },
   "outputs": [],
   "source": [
    "# VAL + VM\n",
    "sections = [7.2, 7.0, 6.8]\n",
    "clusters = ['2683','2684','2687']\n",
    "obs = obs_th_neurons.loc[lambda df: df['cluster'].str[:4].isin(clusters)]\n",
    "nuclei = ['VM','VAL']\n",
    "cplots.plot_ccf_overlay(obs, ccf_polygons, bg_cells=obs_th_neurons, \n",
    "                        point_hue='cluster', sections=sections,\n",
    "                        shape_palette='dark_outline', s=3,\n",
    "                        ccf_names=nuclei, legend='cells', bg_shapes=False, \n",
    "                        section_col=section_col, \n",
    "                        x_col=x_coord_col, y_col=y_coord_col)"
   ]
  },
  {
   "cell_type": "markdown",
   "id": "7471413f-459c-43da-8687-4f0e037e889d",
   "metadata": {
    "tags": []
   },
   "source": [
    "### PVT"
   ]
  },
  {
   "cell_type": "markdown",
   "id": "0814fd1f-ed99-47f6-aee8-52a33e2872a4",
   "metadata": {},
   "source": [
    "#### subclass"
   ]
  },
  {
   "cell_type": "code",
   "execution_count": 22,
   "id": "947153c1",
   "metadata": {
    "tags": []
   },
   "outputs": [],
   "source": [
    "pvt_sections = [7.0, 7.8]\n",
    "nuclei = ['PVT']\n",
    "subclasses = nuclei\n",
    "obs = obs_th_neurons.loc[np.any([obs_th_neurons['subclass'].str.contains(x).values for x in subclasses], axis=0), :]\n",
    "cplots.plot_ccf_overlay(obs, ccf_polygons, bg_cells=obs_th_neurons, \n",
    "                        point_hue='subclass', sections=pvt_sections,\n",
    "                        shape_palette='dark_outline', s=3,\n",
    "                        ccf_names=nuclei, legend='cells', bg_shapes=False, \n",
    "                        section_col=section_col, \n",
    "                        x_col=x_coord_col, y_col=y_coord_col)"
   ]
  },
  {
   "cell_type": "markdown",
   "id": "6fe99b03-609a-4676-9013-ba92d8b09366",
   "metadata": {},
   "source": [
    "#### supertypes"
   ]
  },
  {
   "cell_type": "code",
   "execution_count": 23,
   "id": "8642939b-b6d0-4efa-8f2c-23c6d5d45a3f",
   "metadata": {
    "tags": []
   },
   "outputs": [],
   "source": [
    "cplots.plot_ccf_overlay(obs, ccf_polygons, bg_cells=obs_th_neurons, \n",
    "                        point_hue='supertype', sections=pvt_sections,\n",
    "                        shape_palette='dark_outline',\n",
    "                        ccf_names=nuclei, legend='cells', bg_shapes=False, \n",
    "                        section_col=section_col, \n",
    "                        x_col=x_coord_col, y_col=y_coord_col)"
   ]
  },
  {
   "cell_type": "markdown",
   "id": "ce1c0075-6335-496c-b1be-c4d8f2b6bce0",
   "metadata": {
    "tags": []
   },
   "source": [
    "### RT"
   ]
  },
  {
   "cell_type": "markdown",
   "id": "099e2030-a3c7-4476-b5a2-4c2aeb0c37d2",
   "metadata": {},
   "source": [
    "#### subclass"
   ]
  },
  {
   "cell_type": "code",
   "execution_count": 24,
   "id": "bddc939c-7984-4286-99f8-0eb2b96a7d0e",
   "metadata": {
    "tags": []
   },
   "outputs": [],
   "source": [
    "# RT\n",
    "rt_sections = [7.2, 7.8]\n",
    "nuclei = ['RT'] #,'ZI-unassigned'\n",
    "subclasses = ['RT-ZI']\n",
    "obs = obs_th_neurons.loc[np.any([obs_th_neurons['subclass'].str.contains(x).values for x in subclasses], axis=0), :]\n",
    "\n",
    "#subclass\n",
    "cplots.plot_ccf_overlay(obs, ccf_polygons, bg_cells=obs_th_neurons, \n",
    "                        point_hue='subclass', sections=rt_sections,\n",
    "                        shape_palette='dark_outline', s=3,\n",
    "                        ccf_names=nuclei, legend='cells', bg_shapes=False, \n",
    "                        section_col=section_col, \n",
    "                        x_col=x_coord_col, y_col=y_coord_col)"
   ]
  },
  {
   "cell_type": "markdown",
   "id": "f7d91437-e7ae-44f9-a4ae-e4f82a25b029",
   "metadata": {},
   "source": [
    "#### supertypes"
   ]
  },
  {
   "cell_type": "code",
   "execution_count": 25,
   "id": "4983b4e7-f611-4c70-86fc-23e9a3ff4607",
   "metadata": {
    "tags": []
   },
   "outputs": [],
   "source": [
    "#supertype\n",
    "cplots.plot_ccf_overlay(obs, ccf_polygons, bg_cells=obs_th_neurons, \n",
    "                        point_hue='supertype', sections=rt_sections,\n",
    "                        shape_palette='dark_outline', s=3,\n",
    "                        ccf_names=nuclei, legend='cells', bg_shapes=False, \n",
    "                        section_col=section_col, \n",
    "                        x_col=x_coord_col, y_col=y_coord_col)"
   ]
  },
  {
   "cell_type": "markdown",
   "id": "e6059d52-ef34-4e20-be15-9ce9d592652e",
   "metadata": {
    "tags": []
   },
   "source": [
    "# Investigate other cluster-nucleus groups"
   ]
  },
  {
   "cell_type": "code",
   "execution_count": 26,
   "id": "9ead9b74-b954-4c45-bd61-23e6ec7ebe9b",
   "metadata": {
    "tags": []
   },
   "outputs": [],
   "source": [
    "nuclei_df = pd.read_csv(\"resources/prong1_cluster_annotations_by_nucleus.csv\", \n",
    "                        index_col=0)"
   ]
  },
  {
   "cell_type": "code",
   "execution_count": 27,
   "id": "4dc37c80-c518-4567-810e-e965f28246e6",
   "metadata": {
    "tags": []
   },
   "outputs": [],
   "source": [
    "def get_obs_from_annotated_clusters(name, adata, nuclei_df):\n",
    "    clusters = nuclei_df.loc[name, 'cluster_alias'].split(', ')\n",
    "    obs = adata.obs[adata.obs['cluster_alias'].isin(clusters)]\n",
    "    return obs"
   ]
  },
  {
   "cell_type": "code",
   "execution_count": 28,
   "id": "3b3766d9-5c42-42de-8940-a991fcc62866",
   "metadata": {
    "tags": []
   },
   "outputs": [],
   "source": [
    "section_col = 'z_reconstructed'\n",
    "x_coord_col = 'x_reconstructed'\n",
    "y_coord_col = 'y_reconstructed'"
   ]
  },
  {
   "cell_type": "markdown",
   "id": "73ba994a-50ee-486e-8d98-e408c5b5cbbe",
   "metadata": {},
   "source": [
    "## PT"
   ]
  },
  {
   "cell_type": "code",
   "execution_count": 29,
   "id": "86cc0993-437c-401a-87c7-ca404cdf6727",
   "metadata": {
    "tags": []
   },
   "outputs": [],
   "source": [
    "obs = get_obs_from_annotated_clusters('PT', adata_th_zi_neurons, nuclei_df)\n",
    "\n",
    "cplots.plot_nucleus_cluster_comparison_slices(obs, ccf_polygons, nuclei='PT', \n",
    "                                              legend='both', \n",
    "                                              bg_cells=obs_th_neurons, \n",
    "                                              bg_shapes=False, \n",
    "                                              shape_palette='dark_outline', s=5,\n",
    "                                              section_col=section_col, \n",
    "                                              x_col=x_coord_col, y_col=y_coord_col)"
   ]
  },
  {
   "cell_type": "markdown",
   "id": "e0eaeee2-19c6-4bbb-8039-5a409f3b439d",
   "metadata": {},
   "source": [
    "## PT & PVT"
   ]
  },
  {
   "cell_type": "code",
   "execution_count": 30,
   "id": "c90bffe0-5849-4118-85b9-2554aee73c91",
   "metadata": {
    "tags": []
   },
   "outputs": [],
   "source": [
    "obs = adata_th_zi_neurons.obs.query(\"supertype.str.contains('PVT-PT')\", engine='python')\n",
    "cplots.plot_nucleus_cluster_comparison_slices(obs, ccf_polygons, nuclei=['PT','PVT'], \n",
    "                                              legend='cells', \n",
    "                                              bg_cells=obs_th_neurons, \n",
    "                                              bg_shapes=False, \n",
    "                                              shape_palette='dark_outline', s=5,\n",
    "                                              section_col=section_col, \n",
    "                                              x_col=x_coord_col, y_col=y_coord_col)"
   ]
  },
  {
   "cell_type": "markdown",
   "id": "a563c423-d6b1-4b89-a8b3-cd89e1792d8e",
   "metadata": {},
   "source": [
    "## PVT"
   ]
  },
  {
   "cell_type": "code",
   "execution_count": 31,
   "id": "47ae967e-e879-47f6-b21b-06b6bd06b257",
   "metadata": {
    "tags": []
   },
   "outputs": [],
   "source": [
    "obs = get_obs_from_annotated_clusters('PVT', adata_th_zi_neurons, nuclei_df)\n",
    "cplots.plot_nucleus_cluster_comparison_slices(obs, ccf_polygons, nuclei=['PVT'], \n",
    "                                              legend='cells', \n",
    "                                              bg_cells=obs_th_neurons, \n",
    "                                              bg_shapes=False, \n",
    "                                              shape_palette='dark_outline', s=5,\n",
    "                                              section_col=section_col, \n",
    "                                              x_col=x_coord_col, y_col=y_coord_col)"
   ]
  },
  {
   "cell_type": "markdown",
   "id": "c202d59d-d5ee-4d0b-840c-f2f9f95d50de",
   "metadata": {},
   "source": [
    "## LGd"
   ]
  },
  {
   "cell_type": "code",
   "execution_count": 32,
   "id": "e7fb693e-4197-407a-ad50-4db386025471",
   "metadata": {
    "tags": []
   },
   "outputs": [],
   "source": [
    "obs = get_obs_from_annotated_clusters('LGd', adata_th_zi_neurons, nuclei_df)\n",
    "cplots.plot_nucleus_cluster_comparison_slices(obs, ccf_polygons, nuclei=['LGd-co', 'LGd-ip', 'LGd-sh'], \n",
    "                                              legend='cells', \n",
    "                                              bg_cells=obs_th_neurons, \n",
    "                                              bg_shapes=False, \n",
    "                                              shape_palette='dark_outline', s=5,\n",
    "                                              section_col=section_col, \n",
    "                                              x_col=x_coord_col, y_col=y_coord_col)"
   ]
  },
  {
   "cell_type": "markdown",
   "id": "5f0a28bd-cecc-421a-815b-b0c7fe3a404d",
   "metadata": {},
   "source": [
    "## SMT"
   ]
  },
  {
   "cell_type": "code",
   "execution_count": 33,
   "id": "668d279e-4a59-4d42-8be8-5c7d2156c783",
   "metadata": {
    "tags": []
   },
   "outputs": [],
   "source": [
    "obs = get_obs_from_annotated_clusters('SMT', adata_th_zi_neurons, nuclei_df)\n",
    "cplots.plot_nucleus_cluster_comparison_slices(obs, ccf_polygons, nuclei='SMT', \n",
    "                                              legend='cells', \n",
    "                                              bg_cells=obs_th_neurons, \n",
    "                                              bg_shapes=False, \n",
    "                                              shape_palette='dark_outline', s=5,\n",
    "                                              section_col=section_col, \n",
    "                                              x_col=x_coord_col, y_col=y_coord_col)"
   ]
  },
  {
   "cell_type": "markdown",
   "id": "f40bc102-4227-4ade-8cd3-fe1a892af4ed",
   "metadata": {},
   "source": [
    "## LD"
   ]
  },
  {
   "cell_type": "code",
   "execution_count": 34,
   "id": "83f73d53-ca19-4662-988e-70ffc0e21114",
   "metadata": {
    "tags": []
   },
   "outputs": [],
   "source": [
    "obs = get_obs_from_annotated_clusters('LD', adata_th_zi_neurons, nuclei_df)\n",
    "cplots.plot_nucleus_cluster_comparison_slices(obs, ccf_polygons, nuclei='LD', \n",
    "                                              legend='cells', \n",
    "                                              bg_cells=obs_th_neurons, \n",
    "                                              bg_shapes=False, \n",
    "                                              shape_palette='dark_outline', s=5,\n",
    "                                              section_col=section_col, \n",
    "                                              x_col=x_coord_col, y_col=y_coord_col)"
   ]
  }
 ],
 "metadata": {
  "kernelspec": {
   "display_name": "Python 3 (ipykernel)",
   "language": "python",
   "name": "python3"
  },
  "language_info": {
   "codemirror_mode": {
    "name": "ipython",
    "version": 3
   },
   "file_extension": ".py",
   "mimetype": "text/x-python",
   "name": "python",
   "nbconvert_exporter": "python",
   "pygments_lexer": "ipython3",
   "version": "3.9.12"
  },
  "vscode": {
   "interpreter": {
    "hash": "d4d1e4263499bec80672ea0156c357c1ee493ec2b1c70f0acce89fc37c4a6abe"
   }
  }
 },
 "nbformat": 4,
 "nbformat_minor": 5
}
