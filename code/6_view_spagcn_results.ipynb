{
 "cells": [
  {
   "cell_type": "code",
   "execution_count": 1,
   "metadata": {
    "tags": []
   },
   "outputs": [],
   "source": [
    "%load_ext autoreload\n",
    "%autoreload 2"
   ]
  },
  {
   "cell_type": "code",
   "execution_count": 2,
   "metadata": {
    "tags": []
   },
   "outputs": [],
   "source": [
    "import pandas as pd\n",
    "import numpy as np\n",
    "\n",
    "from thalamus_merfish_analysis import ccf_plots as cplots\n",
    "from thalamus_merfish_analysis import ccf_images as cimg\n",
    "from thalamus_merfish_analysis import abc_load as abc\n",
    "import thalamus_merfish_analysis.distance_metrics as dm\n",
    "get_ipython().run_line_magic('matplotlib', 'inline') "
   ]
  },
  {
   "cell_type": "code",
   "execution_count": 26,
   "metadata": {},
   "outputs": [],
   "source": [
    "cplots.CCF_REGIONS_DEFAULT = abc.get_thalamus_names()"
   ]
  },
  {
   "cell_type": "markdown",
   "metadata": {
    "tags": []
   },
   "source": [
    "# Load ABC data + SpaGCN domains predictions"
   ]
  },
  {
   "cell_type": "code",
   "execution_count": 4,
   "metadata": {
    "tags": []
   },
   "outputs": [],
   "source": [
    "# load all cells in the brain \n",
    "# (realigned=True would load faster version)\n",
    "realigned=False\n",
    "obs = abc.get_combined_metadata(realigned=realigned)"
   ]
  },
  {
   "cell_type": "code",
   "execution_count": 5,
   "metadata": {
    "tags": []
   },
   "outputs": [],
   "source": [
    "# load in SpaGCN domain results\n",
    "# temporarily a static file in '../code/resources' until I get a reproducible run setup for the spagcn capsule\n",
    "spagcn_domains_df = pd.read_parquet('/code/resources/spagcn_predicated_domains.parquet')\n",
    "\n",
    "# need to convert to categories since they're imported as int64\n",
    "spagcn_domains_df = spagcn_domains_df.astype('category')\n",
    "spagcn_domains_df"
   ]
  },
  {
   "cell_type": "code",
   "execution_count": 6,
   "metadata": {
    "tags": []
   },
   "outputs": [],
   "source": [
    "# merge in & subset to just cells with SpaGCN domain predictions\n",
    "obs_spagcn = pd.merge(obs, spagcn_domains_df, on='cell_label', how='inner')"
   ]
  },
  {
   "cell_type": "markdown",
   "metadata": {},
   "source": [
    "## Set up other parameters"
   ]
  },
  {
   "cell_type": "code",
   "execution_count": 7,
   "metadata": {
    "tags": []
   },
   "outputs": [],
   "source": [
    "section_col = 'z_reconstructed'\n",
    "sections_all = sorted(obs_spagcn[section_col].unique())\n",
    "print(f'{sections_all}')\n",
    "\n",
    "# 3 example sections for the GRC poster\n",
    "sections_GRC = [6.4, 7.2, 8.0]"
   ]
  },
  {
   "cell_type": "code",
   "execution_count": 8,
   "metadata": {
    "tags": []
   },
   "outputs": [],
   "source": [
    "if realigned:\n",
    "    ccf_label = 'parcellation_structure_realigned'\n",
    "    coords = 'section'\n",
    "else:\n",
    "    ccf_label = 'parcellation_structure'\n",
    "    coords = 'reconstructed'"
   ]
  },
  {
   "cell_type": "markdown",
   "metadata": {},
   "source": [
    "## Load CCF structures"
   ]
  },
  {
   "cell_type": "code",
   "execution_count": 9,
   "metadata": {},
   "outputs": [],
   "source": [
    "ccf_images = abc.get_ccf_labels_image(resampled=True, realigned=realigned, \n",
    "                                        subset_to_left_hemi=True)\n",
    "ccf_boundaries = cimg.sectionwise_label_erosion(ccf_images, distance_px=1, \n",
    "                                                fill_val=0, return_edges=True)"
   ]
  },
  {
   "cell_type": "markdown",
   "metadata": {
    "tags": []
   },
   "source": [
    "# Plots"
   ]
  },
  {
   "cell_type": "markdown",
   "metadata": {},
   "source": [
    "## plot all sections to double check data import"
   ]
  },
  {
   "cell_type": "code",
   "execution_count": 27,
   "metadata": {
    "tags": []
   },
   "outputs": [],
   "source": [
    "resolution = 1.4\n",
    "res_str = str(resolution)\n",
    "predicted_col = f'res{res_str[0]}pt{res_str[-1]}'\n",
    "predicted_refined_col = f'res{res_str[0]}pt{res_str[-1]}_refined'\n",
    "\n",
    "fig_all_sec = cplots.plot_ccf_overlay(\n",
    "    obs_spagcn,\n",
    "    ccf_images=None,\n",
    "    point_hue=predicted_col,\n",
    "    separate_figs=False,\n",
    "    n_rows=2,\n",
    "    figsize=(20, 5),\n",
    "    legend=\"cells\",\n",
    "    section_col=section_col,\n",
    "    x_col=\"x_\" + coords,\n",
    "    y_col=\"y_\" + coords,\n",
    "    point_size=2,\n",
    "    custom_xy_lims=[2.5, 6, 7, 4],\n",
    "    min_group_count=0,\n",
    ")\n",
    "# fig_all_sec.savefig(f'/results/spaGCN_multisec_res{resolution}.pdf', \n",
    "#                     transparent=True, bbox_inches='tight')"
   ]
  },
  {
   "cell_type": "markdown",
   "metadata": {
    "tags": []
   },
   "source": [
    "## Plot SpaGCN domains + CCF overlay"
   ]
  },
  {
   "cell_type": "code",
   "execution_count": 28,
   "metadata": {
    "tags": []
   },
   "outputs": [],
   "source": [
    "kwargs = dict(\n",
    "    bg_cells=None,\n",
    "    section_col=section_col,\n",
    "    x_col=\"x_\" + coords,\n",
    "    y_col=\"y_\" + coords,\n",
    "    point_size=3,\n",
    "    edge_color=\"black\",\n",
    "    boundary_img=ccf_boundaries,\n",
    "    custom_xy_lims=[2.5, 6, 7, 4],\n",
    ")\n",
    "figs = cplots.plot_ccf_overlay(\n",
    "    obs_spagcn,\n",
    "    ccf_images,\n",
    "    point_hue=predicted_col,\n",
    "    sections=sections_GRC,\n",
    "    # point_palette=abc_palettes['subclass'],\n",
    "    legend=None,  #'cells',\n",
    "    **kwargs,\n",
    ")"
   ]
  },
  {
   "cell_type": "code",
   "execution_count": 29,
   "metadata": {},
   "outputs": [],
   "source": [
    "\n",
    "figs = cplots.plot_ccf_overlay(\n",
    "    obs_spagcn,\n",
    "    ccf_images,\n",
    "    point_hue=predicted_col,\n",
    "    min_group_count=0,\n",
    "    sections=sections_GRC,\n",
    "    separate_figs=False,\n",
    "    figsize=(15, 5),\n",
    "    legend=\"cells\",\n",
    "    **kwargs,\n",
    ")\n",
    "# fig.savefig(f'../results/spaGCN_domains_ccf_overlay_3sections_res{res_str}.pdf', \n",
    "#             transparent=True, bbox_inches='tight')"
   ]
  },
  {
   "cell_type": "markdown",
   "metadata": {},
   "source": [
    "# Distance Metrics"
   ]
  },
  {
   "cell_type": "markdown",
   "metadata": {},
   "source": [
    "## CCF overlap"
   ]
  },
  {
   "cell_type": "code",
   "execution_count": null,
   "metadata": {
    "tags": []
   },
   "outputs": [],
   "source": [
    "regions_subset = np.array([\n",
    "    'AD',\n",
    "    'AV',\n",
    "    'LD',\n",
    "    'LGd',\n",
    "    # VP combine?\n",
    "    'VPM',\n",
    "    'VPL',\n",
    "    'AM',\n",
    "    'VPMpc',\n",
    "    'MD',\n",
    "    'LP',\n",
    "    'PO',\n",
    "    'IAD',\n",
    "    'VAL',\n",
    "    'VM',\n",
    "    'RE',\n",
    "    'CL',\n",
    "    'PF',\n",
    "    'CM',\n",
    "    'PCN',\n",
    "    'SPA',\n",
    "    'IMD',\n",
    "    'PVT',\n",
    "    # additional\n",
    "    'MH',\n",
    "    'LH',\n",
    "    'RT',\n",
    "    # 'ZI'\n",
    "])"
   ]
  },
  {
   "cell_type": "code",
   "execution_count": null,
   "metadata": {
    "tags": []
   },
   "outputs": [],
   "source": [
    "regions_final = [\n",
    "    \"AD\", \"AV\", \"AM\", \"IAD\", \"LD\", \"VPM\", \"VPL\", \"LGd\",\n",
    "    \"MD\", \"CL\", \"CM\", \"IMD\", \"PO\", \"LP\", \"VAL\", \"VM\", \n",
    "    \"RE\", \"PF\", \"VPMpc\", \"PCN\", \"SPA\", \"PVT\", \"MH\", \"LH\", \"RT\", \n",
    "]"
   ]
  },
  {
   "cell_type": "code",
   "execution_count": null,
   "metadata": {
    "tags": []
   },
   "outputs": [],
   "source": [
    "# ccf region order here is fairly arbitrary \n",
    "dist, y_names, x_names = dm.cluster_distances_from_labels(\n",
    "                            obs_spagcn, y_col=ccf_label, x_col=predicted_col, \n",
    "                            y_names=regions_final, \n",
    "                            x_names=sorted(obs_spagcn[predicted_col].unique()))\n",
    "\n",
    "y_order, x_order = dm.order_distances_x_to_y(dist, reorder_y=True)\n",
    "\n",
    "fig = dm.plot_ordered_similarity_heatmap(dist, \n",
    "                                         y_order=y_order, x_order=x_order, \n",
    "                                         y_names=y_names, x_names=x_names)\n",
    "\n",
    "fig.set_size_inches(7.5,6)\n",
    "\n",
    "fig.savefig(f'../results/similarity_heatmap_nuclei_vs_spaGCN_domains_reorderedY.pdf', \n",
    "            transparent=True, bbox_inches='tight')"
   ]
  },
  {
   "cell_type": "code",
   "execution_count": null,
   "metadata": {
    "tags": []
   },
   "outputs": [],
   "source": [
    "dist, y_names, x_names = dm.cluster_distances_from_labels(\n",
    "                            obs_spagcn, y_col=ccf_label, x_col=predicted_col, \n",
    "                            y_names=regions_final, \n",
    "                            x_names=sorted(obs_spagcn[predicted_col].unique()))\n",
    "\n",
    "y_order, x_order = dm.order_distances_x_to_y(dist, reorder_y=False)\n",
    "\n",
    "fig = dm.plot_ordered_similarity_heatmap(dist, \n",
    "                                         y_order=y_order, x_order=x_order, \n",
    "                                         y_names=y_names, x_names=x_names)\n",
    "\n",
    "# fig.gca().axis('equal')\n",
    "fig.set_size_inches(7.5,6)\n",
    "\n",
    "fig.savefig(f'../results/similarity_heatmap_nuclei_vs_spaGCN_domains_notReorderedY.pdf', \n",
    "            transparent=True, bbox_inches='tight')"
   ]
  },
  {
   "cell_type": "markdown",
   "metadata": {},
   "source": [
    "## Taxonomy overlap"
   ]
  },
  {
   "cell_type": "markdown",
   "metadata": {},
   "source": [
    "### subclass"
   ]
  },
  {
   "cell_type": "code",
   "execution_count": null,
   "metadata": {
    "tags": []
   },
   "outputs": [],
   "source": [
    "# sorted(obs_spagcn['subclass'].cat.categories.to_list())"
   ]
  },
  {
   "cell_type": "code",
   "execution_count": null,
   "metadata": {},
   "outputs": [],
   "source": [
    "subclasses_subset = ['093 RT-ZI Gnb3 Gaba',\n",
    "                     '101 ZI Pax6 Gaba',\n",
    "                     '103 PVHd-DMH Lhx6 Gaba',\n",
    "                     '109 LGv-ZI Otx2 Gaba',\n",
    "                     '145 MH Tac2 Glut',\n",
    "                     '146 LH Pou4f1 Sox1 Glut',\n",
    "                     '147 AD Serpinb7 Glut',\n",
    "                     '148 AV Col27a1 Glut',\n",
    "                     '149 PVT-PT Ntrk1 Glut',\n",
    "                     '150 CM-IAD-CL-PCN Sema5b Glut',\n",
    "                     '151 TH Prkcd Grin2c Glut',\n",
    "                     '152 RE-Xi Nox4 Glut',\n",
    "                     '154 PF Fzd5 Glut',\n",
    "                     # '168 SPA-SPFm-SPFp-POL-PIL-PoT Sp9 Glut', # cut off by midline xcoord bug\n",
    "                     # '197 SNr Six3 Gaba',\n",
    "                     # '202 PRT Tcf7l2 Gaba',\n",
    "                     # '203 LGv-SPFp-SPFm Nkx2-2 Tcf7l2 Gaba' # also cut off by midline xcoord bug??\n",
    "                     ]"
   ]
  },
  {
   "cell_type": "code",
   "execution_count": null,
   "metadata": {
    "tags": []
   },
   "outputs": [],
   "source": [
    "taxonomy_level = 'subclass'\n",
    "dist, y_names, x_names = dm.cluster_distances_from_labels(\n",
    "                            obs_spagcn, y_col=taxonomy_level, x_col=predicted_col, \n",
    "                            y_names=subclasses_subset, \n",
    "                            x_names=sorted(obs_spagcn[predicted_col].unique()))\n",
    "\n",
    "y_order, x_order = dm.order_distances_x_to_y(dist, reorder_y=False, \n",
    "                                             min_similarity_x=0.1)\n",
    "\n",
    "fig = dm.plot_ordered_similarity_heatmap(dist, \n",
    "                                         y_order=y_order, x_order=x_order, \n",
    "                                         y_names=y_names, x_names=x_names)\n",
    "fig.gca().axis('equal')\n",
    "fig.set_size_inches(7.5,3)\n",
    "\n",
    "fig.savefig(f'../results/similarity_heatmap_subclass_vs_spaGCN_domains_reorderedY.pdf', \n",
    "            transparent=True, bbox_inches='tight')"
   ]
  },
  {
   "cell_type": "markdown",
   "metadata": {
    "tags": []
   },
   "source": [
    "### supertype"
   ]
  },
  {
   "cell_type": "code",
   "execution_count": null,
   "metadata": {
    "tags": []
   },
   "outputs": [],
   "source": [
    "taxonomy_level = 'supertype'\n",
    "dist, y_names, x_names = dm.cluster_distances_from_labels(\n",
    "                            obs_spagcn, y_col=taxonomy_level, x_col=predicted_col, \n",
    "                            y_names=None, \n",
    "                            x_names=sorted(obs_spagcn[predicted_col].unique()))\n",
    "\n",
    "y_order, x_order = dm.order_distances_x_to_y(dist, reorder_y=True)\n",
    "\n",
    "fig = dm.plot_ordered_similarity_heatmap(dist, \n",
    "                                         y_order=y_order, x_order=x_order, \n",
    "                                         y_names=y_names, x_names=x_names)\n",
    "fig.gca().axis('equal')\n",
    "fig.set_size_inches(4, 12)"
   ]
  },
  {
   "cell_type": "markdown",
   "metadata": {},
   "source": [
    "### clusters"
   ]
  },
  {
   "cell_type": "code",
   "execution_count": null,
   "metadata": {
    "tags": []
   },
   "outputs": [],
   "source": [
    "cluster_list = sorted(obs_spagcn['cluster'].cat.categories.to_list())\n",
    "clusters_grin2c = [cl for cl in cluster_list if 'Grin2c' in cl]\n",
    "# clusters_grin2c"
   ]
  },
  {
   "cell_type": "code",
   "execution_count": null,
   "metadata": {
    "tags": []
   },
   "outputs": [],
   "source": [
    "taxonomy_level = 'cluster'\n",
    "dist, y_names, x_names = dm.cluster_distances_from_labels(\n",
    "                            obs_spagcn, y_col=taxonomy_level, x_col=predicted_col, \n",
    "                            y_names=clusters_grin2c, \n",
    "                            x_names=sorted(obs_spagcn[predicted_col].unique()))\n",
    "\n",
    "y_order, x_order = dm.order_distances_x_to_y(dist, reorder_y=True)\n",
    "\n",
    "fig = dm.plot_ordered_similarity_heatmap(dist, \n",
    "                                         y_order=y_order, x_order=x_order, \n",
    "                                         y_names=y_names, x_names=x_names)\n",
    "fig.gca().axis('equal')\n",
    "fig.set_size_inches(4, 8)"
   ]
  },
  {
   "cell_type": "code",
   "execution_count": null,
   "metadata": {},
   "outputs": [],
   "source": []
  }
 ],
 "metadata": {
  "kernelspec": {
   "display_name": "Python 3 (ipykernel)",
   "language": "python",
   "name": "python3"
  },
  "language_info": {
   "codemirror_mode": {
    "name": "ipython",
    "version": 3
   },
   "file_extension": ".py",
   "mimetype": "text/x-python",
   "name": "python",
   "nbconvert_exporter": "python",
   "pygments_lexer": "ipython3",
   "version": "3.9.12"
  }
 },
 "nbformat": 4,
 "nbformat_minor": 4
}
