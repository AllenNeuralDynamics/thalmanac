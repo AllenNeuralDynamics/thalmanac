{
 "cells": [
  {
   "cell_type": "code",
   "execution_count": 6,
   "id": "ceff4a6c-54ba-4d4a-b61e-9d8c3c37ee9a",
   "metadata": {},
   "outputs": [],
   "source": [
    "%load_ext autoreload\n",
    "%autoreload 2"
   ]
  },
  {
   "cell_type": "code",
   "execution_count": 7,
   "id": "2c7fcb35-e968-4b6e-86bf-7fe5efc224c9",
   "metadata": {},
   "outputs": [],
   "source": [
    "import anndata as ad\n",
    "import pandas as pd\n",
    "import numpy as np\n",
    "\n",
    "import scanpy as sc\n",
    "\n",
    "from thalamus_merfish_analysis import ccf_plots as cplots\n",
    "from thalamus_merfish_analysis import abc_load as abc\n",
    "\n",
    "import matplotlib.pyplot as plt\n",
    "import seaborn as sns\n",
    "import colorcet as cc\n",
    "\n",
    "%matplotlib inline"
   ]
  },
  {
   "cell_type": "markdown",
   "id": "a8588ecd-095b-4111-9386-e98dcf095f45",
   "metadata": {},
   "source": [
    "## Load ABC atlas data"
   ]
  },
  {
   "cell_type": "code",
   "execution_count": 8,
   "id": "19ec3a7d-e490-400b-ba47-624090eaf3cf",
   "metadata": {},
   "outputs": [],
   "source": [
    "version = '20230830'\n",
    "adata_th_zi = abc.load_adata_thalamus(version=version, \n",
    "                             transform='raw', # will manually norm+log2 later\n",
    "                             subset_to_TH_ZI=True, \n",
    "                             with_metadata=True, \n",
    "                             flip_y=True,\n",
    "                             round_z=True,\n",
    "                             with_colors=False) # need colors to come with"
   ]
  },
  {
   "cell_type": "code",
   "execution_count": 28,
   "id": "1e326080-98f1-4541-9ded-dc08b88e82b8",
   "metadata": {},
   "outputs": [],
   "source": [
    "adata_th_zi_neurons = abc.filter_adata_by_class(adata_th_zi, filter_nonneuronal=True,\n",
    "                                                filter_midbrain=True)\n",
    "\n",
    "# filter to thalamus boundaries (add a buffer here if wanted)\n",
    "filter_buffer = 0  # 5\n",
    "realigned=False\n",
    "obs_filtered = abc.filter_by_thalamus_coords(adata_th_zi_neurons.obs.copy(), \n",
    "                                             realigned=realigned, \n",
    "                                             buffer=filter_buffer)\n",
    "adata_th_zi_neurons = adata_th_zi_neurons[obs_filtered.index].copy() "
   ]
  },
  {
   "cell_type": "code",
   "execution_count": 29,
   "id": "5a115c66-03b7-4393-aeb5-d930c351b00e",
   "metadata": {},
   "outputs": [],
   "source": [
    "gene_list = [gene for gene in adata_th_zi_neurons.var_names if 'Blank' not in gene]\n",
    "adata_th_zi_neurons = adata_th_zi_neurons[:,gene_list]"
   ]
  },
  {
   "cell_type": "code",
   "execution_count": 30,
   "id": "0dc72d67-7b92-49c3-bd01-0ce8e10d226d",
   "metadata": {
    "tags": []
   },
   "outputs": [],
   "source": [
    "adata_th_zi_glut = adata_th_zi_neurons[adata_th_zi_neurons.obs['neurotransmitter']!='GABA'].copy()"
   ]
  },
  {
   "cell_type": "code",
   "execution_count": 31,
   "id": "d3a34a82-325e-4ea7-b08c-36e55fc8167e",
   "metadata": {
    "tags": []
   },
   "outputs": [],
   "source": [
    "adata_glut_log2CPM = adata_th_zi_glut.copy()\n",
    "adata_glut_log2CPM.X = np.asarray(np.log2(1 + adata_th_zi_glut.X*1e6/np.sum(adata_th_zi_glut.X.toarray(), axis=1, keepdims=True)))"
   ]
  },
  {
   "cell_type": "code",
   "execution_count": 36,
   "id": "3ab8d4e5-0da9-4fac-bb93-15393ba47cfe",
   "metadata": {
    "tags": []
   },
   "outputs": [],
   "source": [
    "adata_glut_log2CPM"
   ]
  },
  {
   "cell_type": "markdown",
   "id": "8bb72dde-b770-488b-9540-9927e3466414",
   "metadata": {},
   "source": [
    "## Thalamo-seq comparison"
   ]
  },
  {
   "cell_type": "code",
   "execution_count": 32,
   "id": "82346ba5-c351-40ba-8817-c4a73474081d",
   "metadata": {
    "tags": []
   },
   "outputs": [],
   "source": [
    "sc.pp.pca(adata_glut_log2CPM)\n",
    "sc.pl.pca(adata_glut_log2CPM)"
   ]
  },
  {
   "cell_type": "code",
   "execution_count": 33,
   "id": "772610b2-770f-4dfb-95f7-a5397f5d4124",
   "metadata": {
    "tags": []
   },
   "outputs": [],
   "source": [
    "sc.pl.pca(adata_glut_log2CPM, color='subclass')"
   ]
  },
  {
   "cell_type": "code",
   "execution_count": 37,
   "id": "e2d1dd45-7bfb-44c3-b1fb-ae6a3d253c85",
   "metadata": {
    "tags": []
   },
   "outputs": [],
   "source": [
    "sc.pl.pca(adata_glut_log2CPM, color='parcellation_substructure')"
   ]
  },
  {
   "cell_type": "code",
   "execution_count": 34,
   "id": "cea7e33e-482c-49f8-8ab0-00f5271cdfe3",
   "metadata": {
    "tags": []
   },
   "outputs": [],
   "source": [
    "sc.pl.pca(adata_glut_log2CPM, color='Calb1')"
   ]
  },
  {
   "cell_type": "code",
   "execution_count": 35,
   "id": "e356fbf5-2a74-4a3c-b916-d6356740a9c8",
   "metadata": {
    "tags": []
   },
   "outputs": [],
   "source": [
    "sc.pl.pca(adata_glut_log2CPM, color='Pvalb')"
   ]
  },
  {
   "cell_type": "markdown",
   "id": "95ebe5e6-0ed8-49df-a650-b042e69d422a",
   "metadata": {},
   "source": [
    "### Genes encoding calcium-binding proteins"
   ]
  },
  {
   "cell_type": "code",
   "execution_count": 38,
   "id": "4c2114b3-6964-4387-9221-77e8be03480b",
   "metadata": {
    "tags": []
   },
   "outputs": [],
   "source": [
    "sc.pl.pca(adata_glut_log2CPM, color='Calb2')"
   ]
  },
  {
   "cell_type": "code",
   "execution_count": 39,
   "id": "c396ab16-7a4a-460c-b778-75c660c937d9",
   "metadata": {
    "tags": []
   },
   "outputs": [],
   "source": [
    "sc.pl.pca(adata_glut_log2CPM, color='Tnnt1')"
   ]
  },
  {
   "cell_type": "code",
   "execution_count": 40,
   "id": "6017f749-317d-4839-8d47-ce6f27c4cee1",
   "metadata": {
    "tags": []
   },
   "outputs": [],
   "source": [
    "sc.pl.pca(adata_glut_log2CPM, color='Necab1')"
   ]
  },
  {
   "cell_type": "code",
   "execution_count": null,
   "id": "9254dda5-0a90-47dd-b31b-b8d2b2af7d3e",
   "metadata": {},
   "outputs": [],
   "source": []
  }
 ],
 "metadata": {
  "kernelspec": {
   "display_name": "Python 3 (ipykernel)",
   "language": "python",
   "name": "python3"
  },
  "language_info": {
   "codemirror_mode": {
    "name": "ipython",
    "version": 3
   },
   "file_extension": ".py",
   "mimetype": "text/x-python",
   "name": "python",
   "nbconvert_exporter": "python",
   "pygments_lexer": "ipython3",
   "version": "3.9.12"
  }
 },
 "nbformat": 4,
 "nbformat_minor": 5
}
