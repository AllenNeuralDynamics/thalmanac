{
 "cells": [
  {
   "cell_type": "markdown",
   "metadata": {},
   "source": [
    "# 5_view_nmf_nsf_results\n",
    "\n",
    "This notebook loads and visualized the spatial patterns discovered by applying \"Non-negative Spatial Factorization\" (NSF, a form of Gaussian process non-negative matrix factorization) to the thalamus MERFISH gene expression data."
   ]
  },
  {
   "cell_type": "code",
   "execution_count": 1,
   "metadata": {},
   "outputs": [],
   "source": [
    "import anndata as ad\n",
    "import matplotlib.pyplot as plt\n",
    "import numpy as np\n",
    "\n",
    "from thalamus_merfish_analysis import ccf_plots as cplots\n",
    "from thalamus_merfish_analysis import ccf_images as cimg\n",
    "from thalamus_merfish_analysis import abc_load as abc\n",
    "from thalamus_merfish_analysis import distance_metrics as dm\n",
    "\n",
    "get_ipython().run_line_magic(\"matplotlib\", \"inline\")\n",
    "cplots.CCF_REGIONS_DEFAULT = abc.get_thalamus_names()"
   ]
  },
  {
   "cell_type": "markdown",
   "metadata": {},
   "source": [
    "## Load NSF results"
   ]
  },
  {
   "cell_type": "code",
   "execution_count": 2,
   "metadata": {},
   "outputs": [],
   "source": [
    "# TODO: use load function from abc_load or save zarr with logcpt, prefiltered?\n",
    "# TODO: trim extra reordering options?\n",
    "# TODO: update to use eroded regions, or just mention?\n",
    "# TODO: try clustering ccf regions (eroded) on gene-space similarity to order instead? (from OT work, or just sns.clustermap?)\n",
    "adata = ad.read_zarr(\"/root/capsule/data/nsf_2000_adata/nsf_2000_adata.zarr\")\n",
    "adata.X = np.log2(\n",
    "    1 + adata.X.toarray() * 1e3 / np.sum(adata.X.toarray(), axis=1, keepdims=True)\n",
    ")\n",
    "# filter by thalamus coordinates\n",
    "adata = abc.filter_by_thalamus_coords(adata)\n",
    "\n",
    "# get the cell metadata as obs\n",
    "obs = adata.obs.copy()"
   ]
  },
  {
   "cell_type": "code",
   "execution_count": 3,
   "metadata": {},
   "outputs": [],
   "source": [
    "# while these results could be visualized in realigned coordinates, \n",
    "# the patterns were discovered in reconstructed coordinates\n",
    "realigned = False\n",
    "if realigned:\n",
    "    ccf_label = \"parcellation_structure_realigned\"\n",
    "    coords = \"section\"\n",
    "else:\n",
    "    ccf_label = \"parcellation_structure\"\n",
    "    coords = \"reconstructed\"\n",
    "\n",
    "x_col = \"x_\" + coords\n",
    "y_col = \"y_\" + coords\n",
    "section_col = \"z_\" + coords\n",
    "sections_all = sorted(obs[section_col].unique())"
   ]
  },
  {
   "cell_type": "markdown",
   "metadata": {},
   "source": [
    "The stored output of the NSF method contains factors (weights across cells) and loadings (weights across genes) for each pattern, stored in the anndata object under names nsf0, nsf1. "
   ]
  },
  {
   "cell_type": "code",
   "execution_count": 4,
   "metadata": {},
   "outputs": [],
   "source": [
    "nsf_cols = [f\"nsf{i}\" for i in range(30)]\n",
    "factors = obs[nsf_cols].values.T\n",
    "loadings = adata.var[nsf_cols].values.T"
   ]
  },
  {
   "cell_type": "markdown",
   "metadata": {},
   "source": [
    "Factors are normalized to sum to 1 across patterns, for interpretation as a distribution or soft clustering of each cell to a pattern."
   ]
  },
  {
   "cell_type": "code",
   "execution_count": 5,
   "metadata": {},
   "outputs": [],
   "source": [
    "# clustering of cells to factors\n",
    "factors.sum(axis=0)"
   ]
  },
  {
   "cell_type": "markdown",
   "metadata": {},
   "source": [
    "Loadings are normalized to sum to 1 across genes, for interpretation as a distribution of each pattern across genes."
   ]
  },
  {
   "cell_type": "code",
   "execution_count": 6,
   "metadata": {},
   "outputs": [],
   "source": [
    "loadings.sum(axis=1)"
   ]
  },
  {
   "cell_type": "markdown",
   "metadata": {},
   "source": [
    "Alternatively, the factors can be rescaled, perhaps recovering additional information from the factorization - this changes some but not all distance metrics between patterns, and no obvious advantages were found"
   ]
  },
  {
   "cell_type": "code",
   "execution_count": 7,
   "metadata": {},
   "outputs": [],
   "source": [
    "# metrics changed: cosine\n",
    "# metrics unchanged: braycurtis\n",
    "# factors = obs[nsf_cols].values * obs['nsf_tot'].values[:,None]\n",
    "\n",
    "# factor totals are not correlated with the total counts\n",
    "# np.corrcoef(obs[\"nsf_tot\"].values, adata.X.sum(axis=1).squeeze())"
   ]
  },
  {
   "cell_type": "markdown",
   "metadata": {},
   "source": [
    "## Spatial pattern similarity (based on factors)"
   ]
  },
  {
   "cell_type": "markdown",
   "metadata": {},
   "source": [
    "The `distance_metrics` module has functions to calculate and plot pairwise distances between factors, ordering them by the optimal ordering for a hierarchical clustering dendrogram based on the distances (keeping as many similar clusters as close as possible in order).\n",
    "\n",
    "Relevant parameters here include the distance metric and the clustering \"linkage\" method. We show primary results with the Dice similarity coefficient (Dice-Sorensen, calculated as 1 minus the Bray-Curtis dissimilarity; this is also directly related to Jaccard index by `J = S/(2-S)`)."
   ]
  },
  {
   "cell_type": "code",
   "execution_count": 8,
   "metadata": {},
   "outputs": [],
   "source": [
    "dist = dm.pairwise_distances(factors, metric=\"braycurtis\")\n",
    "nsf_order = dm.order_distances_by_clustering(dist, cluster_method=\"complete\")\n",
    "\n",
    "fig = dm.plot_ordered_similarity_heatmap(\n",
    "    dist, y_order=nsf_order, label=\"similarity (Dice)\"\n",
    ")\n",
    "# plt.savefig(\"/results/nsf_pattern_similarity.pdf\", transparent=True)"
   ]
  },
  {
   "cell_type": "markdown",
   "metadata": {},
   "source": [
    "### Alternative distance metrics\n",
    "\n",
    "Similar groupings of patterns emerge from cosine similarity and Dice similarity applied to factors normalized across cells. These are plotted with the same ordering as above for comparison."
   ]
  },
  {
   "cell_type": "code",
   "execution_count": 9,
   "metadata": {},
   "outputs": [],
   "source": [
    "dist_cosine = dm.pairwise_distances(factors, metric=\"cosine\")\n",
    "\n",
    "fig = dm.plot_ordered_similarity_heatmap(\n",
    "    dist_cosine, y_order=nsf_order, label=\"similarity (cosine)\"\n",
    ")"
   ]
  },
  {
   "cell_type": "code",
   "execution_count": 10,
   "metadata": {},
   "outputs": [],
   "source": [
    "dist_norm = dm.pairwise_distances(\n",
    "    factors / factors.sum(axis=1, keepdims=True), metric=\"braycurtis\"\n",
    ")\n",
    "\n",
    "fig = dm.plot_ordered_similarity_heatmap(\n",
    "    dist_norm, y_order=nsf_order, label=\"similarity (Dice)\"\n",
    ")"
   ]
  },
  {
   "cell_type": "markdown",
   "metadata": {},
   "source": [
    "### Gene-space similarity of NSF patterns\n",
    "\n",
    "We can also use the same tools to assess similarity between patterns in gene expression space, using the loadings."
   ]
  },
  {
   "cell_type": "code",
   "execution_count": 11,
   "metadata": {},
   "outputs": [],
   "source": [
    "X = loadings / loadings.sum(axis=0, keepdims=True)\n",
    "X = loadings\n",
    "dist_genes = dm.pairwise_distances(\n",
    "    X,\n",
    "    #    metric='cosine',\n",
    "    metric=\"braycurtis\",\n",
    ")\n",
    "\n",
    "fig = dm.plot_ordered_similarity_heatmap(\n",
    "    dist_genes, y_order=nsf_order, label=\"similarity (Dice)\"\n",
    ")\n",
    "plt.title(\"Gene pattern overlap\")\n",
    "plt.xlabel(\"NSF patterns, ordered by spatial similarity\")"
   ]
  },
  {
   "cell_type": "code",
   "execution_count": 12,
   "metadata": {},
   "outputs": [],
   "source": [
    "order = dm.order_distances_by_clustering(dist_genes)\n",
    "dm.plot_ordered_similarity_heatmap(\n",
    "    dist_genes,\n",
    "    y_order=order,\n",
    "    label=\"similarity (Dice)\",\n",
    "    triangular=True,\n",
    "    #    figsize=(8,7),\n",
    ")\n",
    "plt.title(\"Gene pattern overlap\")\n",
    "plt.xlabel(\"NSF patterns, optimal ordering\")\n",
    "# plt.savefig(\"/results/nsf_pattern_gene_similarity.pdf\", transparent=True)"
   ]
  },
  {
   "cell_type": "markdown",
   "metadata": {},
   "source": [
    "## Similarity between patterns and thalamic nuclei\n",
    "\n",
    "We apply the same tools to visualize spatial (cell-wise) similarity between patterns and CCF definitions of thalamic nuclei. \n",
    "\n",
    "Plots include a subset of thalamic nuclei chosen based on relevance to thalamus-wide patterns discovered in prior studies. Order of nuclei is initialized based on prior understanding of thalamic structure, then NSF patterns are reordered to match based on their most similar nucleus. Nuclei with poor matches are then reordered to be grouped below nuclei with similar but stronger NSF pattern matches.\n",
    "\n"
   ]
  },
  {
   "cell_type": "code",
   "execution_count": 13,
   "metadata": {},
   "outputs": [],
   "source": [
    "regions_final = [\n",
    "    \"AD\",\n",
    "    \"AV\",\n",
    "    \"AM\",\n",
    "    \"IAD\",\n",
    "    \"LD\",\n",
    "    \"VPM\",\n",
    "    \"VPL\",\n",
    "    \"LGd\",\n",
    "    \"MD\",\n",
    "    \"CL\",\n",
    "    \"CM\",\n",
    "    \"IMD\",\n",
    "    \"PO\",\n",
    "    \"LP\",\n",
    "    \"VAL\",\n",
    "    \"VM\",\n",
    "    \"RE\",\n",
    "    \"PF\",\n",
    "    \"VPMpc\",\n",
    "    \"PCN\",\n",
    "    \"SPA\",\n",
    "    \"PVT\",\n",
    "    \"MH\",\n",
    "    \"LH\",\n",
    "    \"RT\",\n",
    "]"
   ]
  },
  {
   "cell_type": "code",
   "execution_count": 14,
   "metadata": {},
   "outputs": [],
   "source": [
    "# order here is following thalamoseq fig 1\n",
    "dist, y_names, x_names = dm.cluster_distances_from_labels(\n",
    "    obs, y_col=ccf_label, x_col=nsf_cols, y_names=regions_final, x_names=range(30)\n",
    ")\n",
    "\n",
    "y_order, x_order = dm.order_distances_x_to_y(dist, reorder_y=False)\n",
    "\n",
    "dm.plot_ordered_similarity_heatmap(\n",
    "    dist,\n",
    "    label=\"Dice coefficient\",\n",
    "    y_order=y_order,\n",
    "    x_order=x_order,\n",
    "    y_names=y_names,\n",
    "    x_names=x_names,\n",
    "    #    figsize=(6,6),\n",
    ")\n",
    "plt.title(\"Spatial pattern overlap\")\n",
    "plt.xlabel(\"NSF pattern\")\n",
    "# plt.savefig(\"/results/nsf_ccf_similarity_heatmap_ccf_order.pdf\", transparent=True)"
   ]
  },
  {
   "cell_type": "markdown",
   "metadata": {},
   "source": [
    "### Comparisons with different subsets of nuclei"
   ]
  },
  {
   "cell_type": "code",
   "execution_count": 15,
   "metadata": {},
   "outputs": [],
   "source": [
    "regions_subset = np.array(\n",
    "    [\n",
    "        \"AD\",\n",
    "        \"AV\",\n",
    "        \"LD\",\n",
    "        \"LGd\",\n",
    "        # VP combine?\n",
    "        \"VPM\",\n",
    "        \"VPL\",\n",
    "        \"AM\",\n",
    "        \"VPMpc\",\n",
    "        \"MD\",\n",
    "        \"LP\",\n",
    "        \"PO\",\n",
    "        \"IAD\",\n",
    "        \"VAL\",\n",
    "        \"VM\",\n",
    "        \"RE\",\n",
    "        \"CL\",\n",
    "        \"PF\",\n",
    "        \"CM\",\n",
    "        \"PCN\",\n",
    "        \"SPA\",\n",
    "        \"IMD\",\n",
    "        \"PVT\",\n",
    "        # additional\n",
    "        \"MH\",\n",
    "        \"LH\",\n",
    "        \"RT\",\n",
    "        # 'ZI'\n",
    "    ]\n",
    ")"
   ]
  },
  {
   "cell_type": "code",
   "execution_count": 16,
   "metadata": {},
   "outputs": [],
   "source": [
    "regions_ccf_order = np.array(\n",
    "    [\n",
    "        \"VAL\",\n",
    "        \"VM\",\n",
    "        \"VPL\",\n",
    "        \"VPM\",\n",
    "        \"VPMpc\",\n",
    "        \"SPA\",\n",
    "        \"LGd\",\n",
    "        \"LP\",\n",
    "        \"PO\",\n",
    "        \"AV\",\n",
    "        \"AM\",\n",
    "        \"AD\",\n",
    "        \"IAD\",\n",
    "        \"LD\",\n",
    "        \"IMD\",\n",
    "        \"MD\",\n",
    "        \"PVT\",\n",
    "        \"RE\",\n",
    "        \"CM\",\n",
    "        \"PCN\",\n",
    "        \"CL\",\n",
    "        \"PF\",\n",
    "        \"MH\",\n",
    "        \"LH\",\n",
    "        \"RT\",\n",
    "    ]\n",
    ")\n",
    "regions_ot_clustering_order = np.array(\n",
    "    [\n",
    "        \"PF\",\n",
    "        \"VPMpc\",\n",
    "        \"RE\",\n",
    "        \"CM\",\n",
    "        \"IMD\",\n",
    "        \"MD\",\n",
    "        \"CL\",\n",
    "        \"PVT\",\n",
    "        \"SPA\",\n",
    "        \"AD\",\n",
    "        \"AV\",\n",
    "        \"AM\",\n",
    "        \"IAD\",\n",
    "        \"PCN\",\n",
    "        \"VAL\",\n",
    "        \"VM\",\n",
    "        \"PO\",\n",
    "        \"LP\",\n",
    "        \"LD\",\n",
    "        \"VPM\",\n",
    "        \"VPL\",\n",
    "        \"LGd\",\n",
    "        \"MH\",\n",
    "        \"LH\",\n",
    "        \"RT\",\n",
    "    ]\n",
    ")"
   ]
  },
  {
   "cell_type": "code",
   "execution_count": 17,
   "metadata": {},
   "outputs": [],
   "source": [
    "# order here is following thalamoseq fig 1\n",
    "dist, y_names, x_names = dm.cluster_distances_from_labels(\n",
    "    obs, y_col=ccf_label, x_col=nsf_cols, y_names=regions_subset, x_names=range(30)\n",
    ")\n",
    "\n",
    "y_order, x_order = dm.order_distances_x_to_y(dist, reorder_y=True)\n",
    "\n",
    "dm.plot_ordered_similarity_heatmap(\n",
    "    dist, y_order=y_order, x_order=x_order, y_names=y_names, x_names=x_names\n",
    ")\n",
    "\n",
    "plt.savefig(\"/results/nsf_ccf_similarity_heatmap_ccf_order.pdf\", transparent=True)"
   ]
  },
  {
   "cell_type": "code",
   "execution_count": 18,
   "metadata": {},
   "outputs": [],
   "source": [
    "dist, y_names, x_names = dm.cluster_distances_from_labels(\n",
    "    obs,\n",
    "    y_col=ccf_label,\n",
    "    x_col=nsf_cols,\n",
    "    y_names=regions_ot_clustering_order,\n",
    "    x_names=range(30),\n",
    ")\n",
    "\n",
    "y_order, x_order = dm.order_distances_x_to_y(dist, reorder_y=False)\n",
    "\n",
    "dm.plot_ordered_similarity_heatmap(\n",
    "    dist, y_order=y_order, x_order=x_order, y_names=y_names, x_names=x_names\n",
    ")\n",
    "# plt.savefig(\"/results/nsf_ccf_similarity_heatmap_ot_order.pdf\", transparent=True)"
   ]
  },
  {
   "cell_type": "code",
   "execution_count": 19,
   "metadata": {},
   "outputs": [],
   "source": [
    "dist, y_names, x_names = dm.cluster_distances_from_labels(\n",
    "    obs, y_col=ccf_label, x_col=nsf_cols, y_names=regions_ccf_order, x_names=range(30)\n",
    ")\n",
    "\n",
    "y_order, x_order = dm.order_distances_x_to_y(dist, reorder_y=False)\n",
    "\n",
    "dm.plot_ordered_similarity_heatmap(\n",
    "    dist, y_order=y_order, x_order=x_order, y_names=y_names, x_names=x_names\n",
    ")\n",
    "\n",
    "# plt.savefig(\"/results/nsf_ccf_similarity_heatmap_atlas_order.pdf\", transparent=True)"
   ]
  },
  {
   "cell_type": "markdown",
   "metadata": {},
   "source": [
    "### Comparisons ordered by NSF pattern clustering"
   ]
  },
  {
   "cell_type": "code",
   "execution_count": 20,
   "metadata": {},
   "outputs": [],
   "source": [
    "# fig, ax = plt.subplots(figsize=(7,4.5))\n",
    "\n",
    "dist_nsf_ccf = dist.T[nsf_order, :]\n",
    "subset = dist_nsf_ccf.min(axis=1) < 0.9\n",
    "\n",
    "y_order, ccf_order = dm.order_distances_x_to_y(dist_nsf_ccf[subset], reorder_y=True)\n",
    "# ccf_order = plot_distances_sorted(dist_nsf_ccf[subset], nsf_order[subset], regions_subset, reorder_y=True)\n",
    "fig = dm.plot_ordered_similarity_heatmap(\n",
    "    dist_nsf_ccf[subset],\n",
    "    y_order=y_order,\n",
    "    x_order=ccf_order,\n",
    "    y_names=nsf_order[subset],\n",
    "    x_names=regions_subset,\n",
    ")\n",
    "# plt.savefig(\"/results/nsf_ccf_similarity.pdf\")"
   ]
  },
  {
   "cell_type": "code",
   "execution_count": 21,
   "metadata": {},
   "outputs": [],
   "source": [
    "dist = dist_nsf_ccf[:, ccf_order].T\n",
    "y_order, x_order = dm.order_distances_x_to_y(dist, reorder_y=False)\n",
    "\n",
    "fig = dm.plot_ordered_similarity_heatmap(\n",
    "    dist,\n",
    "    y_order=y_order,\n",
    "    x_order=x_order,\n",
    "    y_names=regions_subset[ccf_order],\n",
    "    x_names=nsf_order,\n",
    ")"
   ]
  },
  {
   "cell_type": "markdown",
   "metadata": {},
   "source": [
    "## Visualizing spatial patterns with CCF boundaries\n",
    "\n",
    "We use the visualization functions developed for multi-gene HCR-like multiple color overlays to plot multiple patterns simultaneously. \n",
    "\n",
    "We first load the CCF boundary data, then calculate the patterns most strongly represented in a particular section showing the MD nucleus."
   ]
  },
  {
   "cell_type": "code",
   "execution_count": 23,
   "metadata": {},
   "outputs": [],
   "source": [
    "ccf_images = abc.get_ccf_labels_image(\n",
    "    resampled=True, realigned=realigned, subset_to_left_hemi=True\n",
    ")\n",
    "# erase right hemisphere to speed up?\n",
    "# ccf_images[550:,:,:] = 0\n",
    "ccf_boundaries = cimg.sectionwise_label_erosion(\n",
    "    ccf_images, distance_px=1, fill_val=0, return_edges=True\n",
    ")"
   ]
  },
  {
   "cell_type": "code",
   "execution_count": 24,
   "metadata": {},
   "outputs": [],
   "source": [
    "section = 7.2\n",
    "top_patterns = (\n",
    "    obs.loc[obs[section_col] == section, nsf_cols]\n",
    "    .max(axis=0)\n",
    "    .loc[lambda x: x > 0.25]\n",
    "    .sort_values(ascending=False)\n",
    ")\n",
    "top_patterns"
   ]
  },
  {
   "cell_type": "code",
   "execution_count": 25,
   "metadata": {},
   "outputs": [],
   "source": [
    "kwargs = dict(\n",
    "    section_col=\"z_section\",\n",
    "    x_col=\"x_\" + coords,\n",
    "    y_col=\"y_\" + coords,\n",
    "    point_size=0.5,\n",
    "    # face_palette=None,\n",
    "    # edge_color='grey',\n",
    "    boundary_img=ccf_boundaries,\n",
    ")\n",
    "cols = top_patterns.index[:10]\n",
    "\n",
    "fig, axes = plt.subplots(2, 5, figsize=(10, 5))\n",
    "axes = axes.ravel()\n",
    "\n",
    "for i, col in enumerate(cols):\n",
    "    cplots.plot_section_overlay(\n",
    "        obs,\n",
    "        ccf_images=ccf_images,\n",
    "        section=section,\n",
    "        # sections=[section],\n",
    "        point_hue=col,\n",
    "        point_palette=\"Greens\",\n",
    "        custom_xy_lims=cplots.XY_LIMS_TH_LEFT_HEMI,\n",
    "        # categorical=False,\n",
    "        ax=axes[i],\n",
    "        legend=None,\n",
    "        **kwargs,\n",
    "    )\n",
    "# fig.savefig(\"/results/nsf_section_patterns_tiled.pdf\", transparent=True)"
   ]
  },
  {
   "cell_type": "code",
   "execution_count": 26,
   "metadata": {},
   "outputs": [],
   "source": [
    "patterns = top_patterns.index[:10].sort_values()\n",
    "obs_plot = obs.copy()\n",
    "# obs_plot[patterns] /= obs_plot[patterns].values.sum(axis=1, keepdims=True)\n",
    "fig = cplots.plot_multichannel_overlay(\n",
    "    obs_plot,\n",
    "    patterns,\n",
    "    section,\n",
    "    section_col=section_col,\n",
    "    normalize_by=None,\n",
    "    ccf_images=ccf_images,\n",
    "    boundary_img=ccf_boundaries,\n",
    ")\n",
    "# plt.savefig(\"/results/nsf_section_patterns_overlay.pdf\", transparent=True)"
   ]
  },
  {
   "cell_type": "markdown",
   "metadata": {},
   "source": [
    "## Visualizing individual patterns and related genes\n",
    "\n",
    "For particular patterns of interest, the NSF results can point to relevant genes by comparing loadings between adjacent patterns and selecting those with the largest difference. For the AV and MD nuclei, we first choose two relevant patterns demonstrating substructure with the nucleus (by hand selection from similarity plots above), plot the patterns alone, then select and plot divergent genes."
   ]
  },
  {
   "cell_type": "code",
   "execution_count": 27,
   "metadata": {},
   "outputs": [],
   "source": [
    "kwargs = dict(\n",
    "    section_col=\"z_section\",\n",
    "    x_col=\"x_\" + coords,\n",
    "    y_col=\"y_\" + coords,\n",
    "    point_size=2,\n",
    "    # face_palette=None,\n",
    "    # edge_color='grey',\n",
    "    boundary_img=ccf_boundaries,\n",
    "    custom_xy_lims=cplots.XY_LIMS_TH_LEFT_HEMI,\n",
    ")"
   ]
  },
  {
   "cell_type": "markdown",
   "metadata": {},
   "source": [
    "### AV"
   ]
  },
  {
   "cell_type": "code",
   "execution_count": 28,
   "metadata": {},
   "outputs": [],
   "source": [
    "# AV\n",
    "for n in [22, 24]:\n",
    "    fig = cplots.plot_ccf_overlay(\n",
    "        obs,\n",
    "        ccf_images,\n",
    "        categorical=False,\n",
    "        point_hue=f\"nsf{n}\",\n",
    "        sections=[8.0],\n",
    "        point_palette=\"viridis\",\n",
    "        legend=None,\n",
    "        **kwargs,\n",
    "    )"
   ]
  },
  {
   "cell_type": "code",
   "execution_count": 29,
   "metadata": {},
   "outputs": [],
   "source": [
    "diff_genes = adata.var[\"nsf22\"] - adata.var[\"nsf24\"]\n",
    "(-diff_genes).sort_values(ascending=False).head()"
   ]
  },
  {
   "cell_type": "code",
   "execution_count": 30,
   "metadata": {},
   "outputs": [],
   "source": [
    "cols = (-diff_genes).sort_values(ascending=False).head(2).index\n",
    "for col in cols:\n",
    "    adata.obs[col] = 2 ** adata[:, col].X.toarray().squeeze()\n",
    "    fig = cplots.plot_ccf_overlay(\n",
    "        adata.obs,\n",
    "        ccf_images,\n",
    "        categorical=False,\n",
    "        point_hue=col,\n",
    "        sections=[8.0],\n",
    "        point_palette=\"Blues\",\n",
    "        legend=None,\n",
    "        **kwargs,\n",
    "    )\n",
    "\n",
    "    # fig[0].savefig(f\"/results/nsf_genes_AV_{col}.pdf\", transparent=True)"
   ]
  },
  {
   "cell_type": "code",
   "execution_count": 31,
   "metadata": {},
   "outputs": [],
   "source": [
    "diff_genes = adata.var[\"nsf22\"] - adata.var[\"nsf24\"]\n",
    "(diff_genes).sort_values(ascending=False).head()"
   ]
  },
  {
   "cell_type": "code",
   "execution_count": 32,
   "metadata": {},
   "outputs": [],
   "source": [
    "cols = diff_genes.sort_values(ascending=False).head(2).index\n",
    "for col in cols:\n",
    "    adata.obs[col] = 2 ** adata[:, col].X.toarray().squeeze()\n",
    "    fig = cplots.plot_ccf_overlay(\n",
    "        adata.obs,\n",
    "        ccf_images,\n",
    "        categorical=False,\n",
    "        point_hue=col,\n",
    "        sections=[8.0],\n",
    "        point_palette=\"Blues\",\n",
    "        legend=None,\n",
    "        **kwargs,\n",
    "    )\n",
    "    fig[0].savefig(f\"/results/nsf_genes_AV_{col}.pdf\", transparent=True)"
   ]
  },
  {
   "cell_type": "markdown",
   "metadata": {},
   "source": [
    "### MD"
   ]
  },
  {
   "cell_type": "code",
   "execution_count": 33,
   "metadata": {},
   "outputs": [],
   "source": [
    "region = \"MD\"\n",
    "section_MD = 7.2"
   ]
  },
  {
   "cell_type": "code",
   "execution_count": 34,
   "metadata": {},
   "outputs": [],
   "source": [
    "for n in [7, 27, 23]:\n",
    "    figs = cplots.plot_ccf_overlay(\n",
    "        obs,\n",
    "        ccf_images,\n",
    "        categorical=False,\n",
    "        point_hue=f\"nsf{n}\",\n",
    "        sections=[section_MD],\n",
    "        point_palette=\"Greens\",\n",
    "        legend=None,\n",
    "        **kwargs,\n",
    "    )\n",
    "\n",
    "# figs[2].savefig(f\"/results/nsf_pattern_nsf{n}_{region}.pdf\", transparent=True)"
   ]
  },
  {
   "cell_type": "markdown",
   "metadata": {},
   "source": [
    "For MD, the three patterns shown represent central MD and two peripheral patterns - we select genes that are emphasized in the center over the periphery."
   ]
  },
  {
   "cell_type": "code",
   "execution_count": 36,
   "metadata": {},
   "outputs": [],
   "source": [
    "diff_genes = adata.var[\"nsf23\"] - adata.var[\"nsf27\"] - adata.var[\"nsf7\"]\n",
    "diff_genes.sort_values(ascending=False).head()"
   ]
  },
  {
   "cell_type": "code",
   "execution_count": 37,
   "metadata": {},
   "outputs": [],
   "source": [
    "cols = diff_genes.sort_values(ascending=False).head(3).index\n",
    "for col in cols:\n",
    "    adata.obs[col] = 2 ** adata[:, col].X.toarray().squeeze()\n",
    "    figs = cplots.plot_ccf_overlay(\n",
    "        adata.obs,\n",
    "        ccf_images,\n",
    "        categorical=False,\n",
    "        point_hue=col,\n",
    "        sections=[section_MD],\n",
    "        point_palette=\"Greens\",\n",
    "        legend=None,\n",
    "        **kwargs,\n",
    "    )\n",
    "    figs[0].savefig(f\"/results/nsf_genes_{region}_{col}.pdf\", transparent=True)"
   ]
  },
  {
   "cell_type": "markdown",
   "metadata": {},
   "source": [
    "## Approximating patterns from gene expression\n",
    "\n",
    "Since the NSF factorization is not invertible, patterns cannot be expressed exactly as a linear combination of genes, even with the full gene expression available. However, it can be interesting to explore the best approximations of patterns reconstructed in this way, using all genes or using restricted subsets of genes."
   ]
  },
  {
   "cell_type": "code",
   "execution_count": 38,
   "metadata": {},
   "outputs": [],
   "source": [
    "loadings = adata.var[nsf_cols].to_numpy()\n",
    "lin_weights = loadings @ np.linalg.pinv(loadings.T @ loadings)\n",
    "# feat @ loadings.T = X, so feat ~= X @ lin_weights\n",
    "adata.obsm[\"genes_on_loadings\"] = adata.X @ loadings\n",
    "adata.obsm[\"genes_linear_projection\"] = adata.X @ lin_weights"
   ]
  },
  {
   "cell_type": "code",
   "execution_count": 39,
   "metadata": {},
   "outputs": [],
   "source": [
    "N = loadings.shape[1]\n",
    "# normalize by gene to compare patterns by gene?\n",
    "# loadings_norm = loadings/loadings.sum(axis=1, keepdims=True)\n",
    "loadings_norm = loadings\n",
    "top_gene = np.zeros(N, dtype=int)\n",
    "gene_prominence = np.zeros(N)\n",
    "for n in range(N):\n",
    "    pattern_prominence = loadings_norm[:, n] - np.delete(loadings_norm, n, axis=1).max(\n",
    "        axis=1\n",
    "    )\n",
    "    n_gene = np.argmax(pattern_prominence)\n",
    "    top_gene[n] = n_gene\n",
    "    gene_prominence[n] = pattern_prominence[n_gene]\n",
    "    obs[f\"nsf{n}_1gene\"] = 2 ** np.array(adata.X[:, n_gene])"
   ]
  },
  {
   "cell_type": "code",
   "execution_count": 40,
   "metadata": {},
   "outputs": [],
   "source": [
    "np.nonzero(gene_prominence > 0.1)"
   ]
  },
  {
   "cell_type": "code",
   "execution_count": 41,
   "metadata": {},
   "outputs": [],
   "source": [
    "(top_gene == loadings.argmax(axis=0))[np.nonzero(gene_prominence > 0.1)]"
   ]
  },
  {
   "cell_type": "code",
   "execution_count": 42,
   "metadata": {},
   "outputs": [],
   "source": [
    "kwargs = dict(\n",
    "    section_col=\"z_section\",\n",
    "    x_col=\"x_\" + coords,\n",
    "    y_col=\"y_\" + coords,\n",
    "    point_size=1,\n",
    "    face_palette=None,\n",
    "    edge_color=\"grey\",\n",
    "    boundary_img=ccf_boundaries,\n",
    "    custom_xy_lims=cplots.XY_LIMS_TH_LEFT_HEMI,\n",
    ")"
   ]
  },
  {
   "cell_type": "markdown",
   "metadata": {},
   "source": [
    "### AV"
   ]
  },
  {
   "cell_type": "code",
   "execution_count": 43,
   "metadata": {},
   "outputs": [],
   "source": [
    "for n in [22, 24]:\n",
    "    print(adata.var_names[top_gene[n]])\n",
    "    cplots.plot_ccf_overlay(\n",
    "        obs,\n",
    "        ccf_images,\n",
    "        categorical=False,\n",
    "        point_hue=f\"nsf{n}_1gene\",\n",
    "        sections=[8.0],\n",
    "        point_palette=\"Blues\",\n",
    "        legend=None,\n",
    "        **kwargs,\n",
    "    )"
   ]
  },
  {
   "cell_type": "markdown",
   "metadata": {},
   "source": [
    "### MD"
   ]
  },
  {
   "cell_type": "code",
   "execution_count": 44,
   "metadata": {},
   "outputs": [],
   "source": [
    "for n in [7, 27, 23]:\n",
    "    print(adata.var_names[top_gene[n]])\n",
    "    cplots.plot_ccf_overlay(\n",
    "        obs,\n",
    "        ccf_images,\n",
    "        categorical=False,\n",
    "        point_hue=f\"nsf{n}_1gene\",\n",
    "        sections=[section],\n",
    "        point_palette=\"Blues\",\n",
    "        legend=None,\n",
    "        **kwargs,\n",
    "    )"
   ]
  },
  {
   "cell_type": "code",
   "execution_count": 45,
   "metadata": {},
   "outputs": [],
   "source": [
    "for i, x in enumerate(nsf_cols):\n",
    "    loadings = adata.var[x].to_numpy()[:, None]\n",
    "    obs[x + \"_allgenes\"] = adata.X @ loadings\n",
    "    order = loadings.argsort()\n",
    "    loadings[order[:-3]] = 0\n",
    "    obs[x + \"_3genes\"] = adata.X @ loadings\n",
    "    loadings[order[:-2]] = 0\n",
    "    obs[x + \"_2genes\"] = adata.X @ loadings\n",
    "    obs[x + \"_linear_genes\"] = adata.X @ lin_weights[:, [i]]"
   ]
  },
  {
   "cell_type": "code",
   "execution_count": 46,
   "metadata": {},
   "outputs": [],
   "source": [
    "for n in [7, 27, 23]:\n",
    "    cplots.plot_ccf_overlay(\n",
    "        obs,\n",
    "        ccf_images,\n",
    "        categorical=False,\n",
    "        point_hue=f\"nsf{n}_linear_genes\",\n",
    "        sections=[section],\n",
    "        point_palette=\"viridis\",\n",
    "        legend=None,\n",
    "        **kwargs,\n",
    "    )"
   ]
  },
  {
   "cell_type": "code",
   "execution_count": 47,
   "metadata": {},
   "outputs": [],
   "source": [
    "for n in [7, 27, 23]:\n",
    "    cplots.plot_ccf_overlay(\n",
    "        obs,\n",
    "        ccf_images,\n",
    "        categorical=False,\n",
    "        point_hue=f\"nsf{n}_allgenes\",\n",
    "        sections=[section],\n",
    "        point_palette=\"viridis\",\n",
    "        legend=None,\n",
    "        **kwargs,\n",
    "    )"
   ]
  },
  {
   "cell_type": "code",
   "execution_count": 48,
   "metadata": {},
   "outputs": [],
   "source": [
    "for n in [7, 27, 23]:\n",
    "    cplots.plot_ccf_overlay(\n",
    "        obs,\n",
    "        ccf_images,\n",
    "        categorical=False,\n",
    "        point_hue=f\"nsf{n}_3genes\",\n",
    "        sections=[section],\n",
    "        point_palette=\"viridis\",\n",
    "        legend=None,\n",
    "        **kwargs,\n",
    "    )"
   ]
  },
  {
   "cell_type": "code",
   "execution_count": 49,
   "metadata": {},
   "outputs": [],
   "source": [
    "for n in [7, 27, 23]:\n",
    "    cplots.plot_ccf_overlay(\n",
    "        obs,\n",
    "        ccf_images,\n",
    "        categorical=False,\n",
    "        point_hue=f\"nsf{n}_2genes\",\n",
    "        sections=[section],\n",
    "        point_palette=\"viridis\",\n",
    "        legend=None,\n",
    "        **kwargs,\n",
    "    )"
   ]
  },
  {
   "cell_type": "code",
   "execution_count": null,
   "metadata": {},
   "outputs": [],
   "source": []
  }
 ],
 "metadata": {
  "kernelspec": {
   "display_name": "base",
   "language": "python",
   "name": "python3"
  },
  "language_info": {
   "codemirror_mode": {
    "name": "ipython",
    "version": 3
   },
   "file_extension": ".py",
   "mimetype": "text/x-python",
   "name": "python",
   "nbconvert_exporter": "python",
   "pygments_lexer": "ipython3",
   "version": "3.9.12"
  }
 },
 "nbformat": 4,
 "nbformat_minor": 2
}
