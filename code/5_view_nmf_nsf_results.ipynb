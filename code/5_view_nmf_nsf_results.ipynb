{
 "cells": [
  {
   "cell_type": "code",
   "execution_count": 1,
   "metadata": {},
   "outputs": [],
   "source": [
    "import anndata as ad\n",
    "import matplotlib.pyplot as plt\n",
    "import numpy as np\n",
    "\n",
    "from thalamus_merfish_analysis import ccf_plots as cplots\n",
    "from thalamus_merfish_analysis import ccf_images as cimg\n",
    "from thalamus_merfish_analysis import abc_load as abc\n",
    "from thalamus_merfish_analysis import distance_metrics as dm\n",
    "get_ipython().run_line_magic('matplotlib', 'inline') \n",
    "cplots.CCF_REGIONS_DEFAULT = abc.get_thalamus_names()"
   ]
  },
  {
   "cell_type": "code",
   "execution_count": 2,
   "metadata": {},
   "outputs": [],
   "source": [
    "# load NSF results\n",
    "adata = ad.read_zarr(\"/root/capsule/data/nsf_2000_adata/nsf_2000_adata.zarr\")\n",
    "adata.X = np.log2(1 + adata.X.toarray()*1e3/np.sum(adata.X.toarray(), axis=1, keepdims=True))"
   ]
  },
  {
   "cell_type": "code",
   "execution_count": 3,
   "metadata": {},
   "outputs": [],
   "source": [
    "# filter by thalamus coordinates\n",
    "adata = abc.filter_by_thalamus_coords(adata)\n",
    "\n",
    "# get the cell metadata as obs\n",
    "obs = adata.obs.copy()"
   ]
  },
  {
   "cell_type": "code",
   "execution_count": 4,
   "metadata": {},
   "outputs": [],
   "source": [
    "realigned = False\n",
    "if realigned:\n",
    "    ccf_label = 'parcellation_structure_realigned'\n",
    "    coords = 'section'\n",
    "else:\n",
    "    ccf_label = 'parcellation_structure'\n",
    "    coords = 'reconstructed'"
   ]
  },
  {
   "cell_type": "code",
   "execution_count": 5,
   "metadata": {},
   "outputs": [],
   "source": [
    "x_col = 'x_'+coords\n",
    "y_col = 'y_'+coords\n",
    "section_col = 'z_'+coords\n",
    "\n",
    "sections_all = sorted(obs[section_col].unique())"
   ]
  },
  {
   "cell_type": "code",
   "execution_count": 6,
   "metadata": {},
   "outputs": [],
   "source": [
    "nsf_cols = [f\"nsf{i}\" for i in range(30)]\n",
    "# normalized or scaling by totals?\n",
    "# metrics changed: cosine\n",
    "# metrics unchanged: braycurtis\n",
    "# factors = obs[nsf_cols].values * obs['nsf_tot'].values[:,None]\n",
    "factors = obs[nsf_cols].values.T\n",
    "loadings = adata.var[nsf_cols].values.T"
   ]
  },
  {
   "cell_type": "markdown",
   "metadata": {},
   "source": [
    "## distance metrics"
   ]
  },
  {
   "cell_type": "code",
   "execution_count": 7,
   "metadata": {},
   "outputs": [],
   "source": [
    "# factor totals correlated with gene totals??\n",
    "np.corrcoef(obs['nsf_tot'].values, adata.X.sum(axis=1).squeeze())"
   ]
  },
  {
   "cell_type": "code",
   "execution_count": 8,
   "metadata": {},
   "outputs": [],
   "source": [
    "# clustering of cells to factors\n",
    "factors.sum(axis=0)"
   ]
  },
  {
   "cell_type": "code",
   "execution_count": 9,
   "metadata": {},
   "outputs": [],
   "source": [
    "factors.sum(axis=1).mean()"
   ]
  },
  {
   "cell_type": "code",
   "execution_count": 10,
   "metadata": {},
   "outputs": [],
   "source": [
    "# factors as distributions over genes\n",
    "loadings.sum(axis=1)"
   ]
  },
  {
   "cell_type": "markdown",
   "metadata": {},
   "source": [
    "## PP distance clustermaps"
   ]
  },
  {
   "cell_type": "code",
   "execution_count": 11,
   "metadata": {},
   "outputs": [],
   "source": [
    "from sklearn.metrics import pairwise_distances\n",
    "# y = ssd.pdist(factors, metric='braycurtis')\n",
    "# dist = ssd.squareform(y)\n",
    "\n",
    "# link = sch.linkage(y, method='complete', optimal_ordering=True)\n",
    "# dend = sch.dendrogram(link, no_plot=True)\n",
    "# nsf_order = dend[\"leaves\"]\n",
    "\n",
    "dist = pairwise_distances(factors, \n",
    "                          metric='braycurtis')\n",
    "nsf_order = dm.order_distances_by_clustering(dist)\n",
    "\n",
    "fig = dm.plot_ordered_similarity_heatmap(dist, \n",
    "                                         nsf_order, \n",
    "                                         label='similarity (Bray-Curtis)')\n",
    "# sns.heatmap(1-dist[np.ix_(nsf_order, nsf_order)], yticklabels=nsf_order, xticklabels=nsf_order,\n",
    "#                 cbar_kws=dict(label=\"Dice coefficient (similarity)\"), cmap='rocket_r', vmin=0, vmax=1)\n",
    "# plt.savefig(\"/results/nsf_pattern_similarity.pdf\", transparent=True)"
   ]
  },
  {
   "cell_type": "code",
   "execution_count": 12,
   "metadata": {},
   "outputs": [],
   "source": [
    "# unchanged\n",
    "# y = ssd.pdist(factors * obs['nsf_tot'].values[None,:], metric='braycurtis')\n",
    "\n",
    "# a bit closer to cosine\n",
    "dist_norm = pairwise_distances(factors / factors.sum(axis=1, keepdims=True), \n",
    "                               metric='braycurtis')\n",
    "\n",
    "fig = dm.plot_ordered_similarity_heatmap(dist_norm, \n",
    "                                         nsf_order, \n",
    "                                         label='similarity (Bray-Curtis)')"
   ]
  },
  {
   "cell_type": "code",
   "execution_count": 13,
   "metadata": {},
   "outputs": [],
   "source": [
    "dist_cosine = pairwise_distances(factors, \n",
    "                                 metric='cosine')\n",
    "\n",
    "fig = dm.plot_ordered_similarity_heatmap(dist_cosine, \n",
    "                                         nsf_order, \n",
    "                                         label='similarity (cosine)')"
   ]
  },
  {
   "cell_type": "markdown",
   "metadata": {},
   "source": [
    "### gene loadings distance"
   ]
  },
  {
   "cell_type": "code",
   "execution_count": 14,
   "metadata": {},
   "outputs": [],
   "source": [
    "X = loadings / loadings.sum(axis=0, keepdims=True)\n",
    "X = loadings\n",
    "dist_genes = pairwise_distances(X, \n",
    "                            #    metric='cosine',\n",
    "                               metric='braycurtis',\n",
    "                               )\n",
    "\n",
    "fig = dm.plot_ordered_similarity_heatmap(dist_genes, \n",
    "                                         nsf_order, \n",
    "                                         label='similarity (Bray-Curtis)')"
   ]
  },
  {
   "cell_type": "code",
   "execution_count": 15,
   "metadata": {},
   "outputs": [],
   "source": [
    "order = dm.order_distances_by_clustering(dist_genes)\n",
    "dm.plot_ordered_similarity_heatmap(dist_genes, \n",
    "                                   order, \n",
    "                                   label='similarity (Bray-Curtis)', \n",
    "                                   triangular=True, \n",
    "                                #    figsize=(8,7),\n",
    "                                   )\n",
    "plt.title(\"Gene pattern overlap\")\n",
    "plt.axis('image')\n",
    "\n",
    "plt.xlabel(\"NSF pattern\")\n",
    "plt.savefig(\"/results/nsf_pattern_gene_similarity.pdf\", transparent=True)"
   ]
  },
  {
   "cell_type": "markdown",
   "metadata": {},
   "source": [
    "## CCF overlap"
   ]
  },
  {
   "cell_type": "code",
   "execution_count": 16,
   "metadata": {},
   "outputs": [],
   "source": [
    "# th_names = abc.get_thalamus_names(level='structure')\n",
    "# th_subregion_names = list(set(th_names).difference(['TH-unassigned']))\n",
    "# ccf_label = 'parcellation_structure_realigned'\n",
    "# obs[ccf_label] = obs[ccf_label].str.replace('-unassigned','')\n",
    "\n",
    "# for x in th_subregion_names:\n",
    "#     obs[x] = obs[ccf_label] == x\n",
    "# th_subregions_found = list(set(th_subregion_names).intersection(obs[ccf_label].unique()))\n",
    "# obs[th_subregion_names].mean(axis=0).loc[lambda x: x==0]"
   ]
  },
  {
   "cell_type": "code",
   "execution_count": 17,
   "metadata": {},
   "outputs": [],
   "source": [
    "regions_subset = np.array([\n",
    "    'AD',\n",
    "    'AV',\n",
    "    'LD',\n",
    "    'LGd',\n",
    "    # VP combine?\n",
    "    'VPM',\n",
    "    'VPL',\n",
    "    'AM',\n",
    "    'VPMpc',\n",
    "    'MD',\n",
    "    'LP',\n",
    "    'PO',\n",
    "    'IAD',\n",
    "    'VAL',\n",
    "    'VM',\n",
    "    'RE',\n",
    "    'CL',\n",
    "    'PF',\n",
    "    'CM',\n",
    "    'PCN',\n",
    "    'SPA',\n",
    "    'IMD',\n",
    "    'PVT',\n",
    "    # additional\n",
    "    'MH',\n",
    "    'LH',\n",
    "    'RT',\n",
    "    # 'ZI'\n",
    "])"
   ]
  },
  {
   "cell_type": "code",
   "execution_count": 18,
   "metadata": {},
   "outputs": [],
   "source": [
    "regions_ccf_order = np.array([\n",
    "    'VAL', 'VM', 'VPL', 'VPM', 'VPMpc', 'SPA', 'LGd', 'LP', \n",
    "    'PO', 'AV', 'AM', 'AD', 'IAD', 'LD', 'IMD', 'MD', 'PVT',\n",
    "    'RE', 'CM', 'PCN', 'CL', 'PF', 'MH', 'LH', 'RT'])\n",
    "regions_ot_clustering_order = np.array([\n",
    "    'PF', 'VPMpc', 'RE', 'CM', 'IMD', 'MD', 'CL', 'PVT', \n",
    "    'SPA', 'AD', 'AV', 'AM', 'IAD', 'PCN', 'VAL', \n",
    "    'VM', 'PO', 'LP', 'LD', 'VPM', 'VPL', 'LGd', 'MH', 'LH', 'RT'])"
   ]
  },
  {
   "cell_type": "code",
   "execution_count": 19,
   "metadata": {},
   "outputs": [],
   "source": [
    "regions_final = [\n",
    "    \"AD\", \"AV\", \"AM\", \"IAD\", \"LD\", \"VPM\", \"VPL\", \"LGd\",\n",
    "    \"MD\", \"CL\", \"CM\", \"IMD\", \"PO\", \"LP\", \"VAL\", \"VM\", \n",
    "    \"RE\", \"PF\", \"VPMpc\", \"PCN\", \"SPA\", \"PVT\", \"MH\", \"LH\", \"RT\", \n",
    "]"
   ]
  },
  {
   "cell_type": "code",
   "execution_count": 20,
   "metadata": {},
   "outputs": [],
   "source": [
    "# order here is following thalamoseq fig 1\n",
    "dist, y_names, x_names = dm.cluster_distances_from_labels(\n",
    "    obs, y_col=ccf_label, x_col=nsf_cols, \n",
    "    y_names=regions_final, x_names=range(30))\n",
    "\n",
    "y_order, x_order = dm.order_distances_x_to_y(dist, reorder_y=False)\n",
    "\n",
    "dm.plot_ordered_similarity_heatmap(dist, \n",
    "                                   label=\"Dice coefficient\",\n",
    "                                   y_order=y_order, \n",
    "                                   x_order=x_order, \n",
    "                                   y_names=y_names, \n",
    "                                   x_names=x_names, \n",
    "                                #    figsize=(6,6),\n",
    "                                   )\n",
    "plt.axis('image')\n",
    "plt.title(\"Spatial pattern overlap\")\n",
    "plt.xlabel(\"NSF pattern\")\n",
    "plt.savefig(\"/results/nsf_ccf_similarity_heatmap_ccf_order.pdf\", transparent=True)"
   ]
  },
  {
   "cell_type": "code",
   "execution_count": 21,
   "metadata": {},
   "outputs": [],
   "source": [
    "# order here is following thalamoseq fig 1\n",
    "dist, y_names, x_names = dm.cluster_distances_from_labels(\n",
    "    obs, y_col=ccf_label, x_col=nsf_cols, \n",
    "    y_names=regions_subset, x_names=range(30))\n",
    "\n",
    "y_order, x_order = dm.order_distances_x_to_y(dist, reorder_y=True)\n",
    "\n",
    "dm.plot_ordered_similarity_heatmap(dist, \n",
    "                       y_order=y_order, x_order=x_order, \n",
    "                       y_names=y_names, x_names=x_names)\n",
    "\n",
    "plt.savefig(\"/results/nsf_ccf_similarity_heatmap_ccf_order.pdf\", transparent=True)"
   ]
  },
  {
   "cell_type": "code",
   "execution_count": 22,
   "metadata": {},
   "outputs": [],
   "source": [
    "dist, y_names, x_names = dm.cluster_distances_from_labels(\n",
    "    obs, y_col=ccf_label, x_col=nsf_cols, \n",
    "    y_names=regions_ot_clustering_order, x_names=range(30))\n",
    "\n",
    "y_order, x_order = dm.order_distances_x_to_y(dist, reorder_y=False)\n",
    "\n",
    "dm.plot_ordered_similarity_heatmap(dist, \n",
    "                       y_order=y_order, x_order=x_order, \n",
    "                       y_names=y_names, x_names=x_names)\n",
    "plt.savefig(\"/results/nsf_ccf_similarity_heatmap_ot_order.pdf\", transparent=True)"
   ]
  },
  {
   "cell_type": "code",
   "execution_count": 23,
   "metadata": {},
   "outputs": [],
   "source": [
    "dist, y_names, x_names = dm.cluster_distances_from_labels(\n",
    "    obs, y_col=ccf_label, x_col=nsf_cols, \n",
    "    y_names=regions_ccf_order, x_names=range(30))\n",
    "\n",
    "y_order, x_order = dm.order_distances_x_to_y(dist, reorder_y=False)\n",
    "\n",
    "dm.plot_ordered_similarity_heatmap(\n",
    "    dist, \n",
    "    y_order=y_order, \n",
    "    x_order=x_order, \n",
    "    y_names=y_names, \n",
    "    x_names=x_names\n",
    ")\n",
    "\n",
    "plt.savefig(\"/results/nsf_ccf_similarity_heatmap_atlas_order.pdf\", transparent=True)"
   ]
  },
  {
   "cell_type": "code",
   "execution_count": 24,
   "metadata": {},
   "outputs": [],
   "source": [
    "\n",
    "# jaccard\n",
    "# d = dist_nsf_ccf/(2-dist_nsf_ccf)"
   ]
  },
  {
   "cell_type": "markdown",
   "metadata": {},
   "source": [
    "### ordered by NSF pattern clustering"
   ]
  },
  {
   "cell_type": "code",
   "execution_count": 25,
   "metadata": {},
   "outputs": [],
   "source": [
    "# fig, ax = plt.subplots(figsize=(7,4.5))\n",
    "\n",
    "dist_nsf_ccf = dist.T[nsf_order,:]\n",
    "subset = dist_nsf_ccf.min(axis=1) < 0.9\n",
    "\n",
    "y_order, ccf_order = dm.order_distances_x_to_y(dist_nsf_ccf[subset], reorder_y=True)\n",
    "# ccf_order = plot_distances_sorted(dist_nsf_ccf[subset], nsf_order[subset], regions_subset, reorder_y=True)\n",
    "fig = dm.plot_ordered_similarity_heatmap(\n",
    "            dist_nsf_ccf[subset], \n",
    "            y_order=y_order, \n",
    "            x_order=ccf_order, \n",
    "            y_names=nsf_order[subset], \n",
    "            x_names=regions_subset\n",
    "            )\n",
    "# plt.savefig(\"/results/nsf_ccf_similarity.pdf\")"
   ]
  },
  {
   "cell_type": "code",
   "execution_count": 26,
   "metadata": {},
   "outputs": [],
   "source": [
    "dist = dist_nsf_ccf[:,ccf_order].T\n",
    "y_order, x_order = dm.order_distances_x_to_y(dist, reorder_y=False)\n",
    "\n",
    "fig = dm.plot_ordered_similarity_heatmap(\n",
    "            dist, \n",
    "            y_order=y_order, \n",
    "            x_order=x_order, \n",
    "            y_names=regions_subset[ccf_order], \n",
    "            x_names=nsf_order)"
   ]
  },
  {
   "cell_type": "code",
   "execution_count": 27,
   "metadata": {},
   "outputs": [],
   "source": [
    "# TODO: try clustering ccf on gene-space similarity (or spatial?) to order instead (sns.clustermap?)"
   ]
  },
  {
   "cell_type": "markdown",
   "metadata": {},
   "source": [
    "## spatial plotting over CCF section"
   ]
  },
  {
   "cell_type": "code",
   "execution_count": 28,
   "metadata": {},
   "outputs": [],
   "source": [
    "\n",
    "ccf_images = abc.get_ccf_labels_image(resampled=True, realigned=realigned, subset_to_left_hemi=True)\n",
    "# erase right hemisphere\n",
    "# ccf_images[550:,:,:] = 0\n",
    "ccf_boundaries = cimg.sectionwise_label_erosion(ccf_images, distance_px=1, fill_val=0, return_edges=True)"
   ]
  },
  {
   "cell_type": "code",
   "execution_count": 29,
   "metadata": {},
   "outputs": [],
   "source": [
    "section = 7.2\n",
    "top_patterns = obs.loc[obs[section_col]==section, nsf_cols].max(axis=0).loc[lambda x: x>0.25].sort_values(ascending=False)\n",
    "top_patterns"
   ]
  },
  {
   "cell_type": "code",
   "execution_count": 30,
   "metadata": {},
   "outputs": [],
   "source": [
    "patterns = top_patterns.index[:10].sort_values()\n",
    "obs_plot = obs.copy()\n",
    "# obs_plot[patterns] /= obs_plot[patterns].values.sum(axis=1, keepdims=True)\n",
    "fig = cplots.plot_multichannel_overlay(\n",
    "    obs_plot,\n",
    "    patterns,\n",
    "    section,\n",
    "    section_col=section_col,\n",
    "    normalize_by=None,\n",
    "    ccf_images=ccf_images,\n",
    "    boundary_img=ccf_boundaries,\n",
    ")\n",
    "# plt.savefig(\"/results/nsf_section_patterns_overlay.pdf\", transparent=True)"
   ]
  },
  {
   "cell_type": "code",
   "execution_count": 31,
   "metadata": {},
   "outputs": [],
   "source": [
    "kwargs = dict(\n",
    "    section_col=\"z_section\",\n",
    "    x_col=\"x_\" + coords,\n",
    "    y_col=\"y_\" + coords,\n",
    "    point_size=0.5,\n",
    "    # face_palette=None,\n",
    "    # edge_color='grey',\n",
    "    boundary_img=ccf_boundaries,\n",
    ")\n",
    "cols = top_patterns.index[:10]\n",
    "\n",
    "fig, axes = plt.subplots(2, 5, figsize=(10, 5))\n",
    "axes = axes.ravel()\n",
    "\n",
    "for i, col in enumerate(cols):\n",
    "    cplots.plot_section_overlay(\n",
    "        obs,\n",
    "        ccf_images=ccf_images,\n",
    "        section=section,\n",
    "        # sections=[section],\n",
    "        point_hue=col,\n",
    "        point_palette=\"Greens\",\n",
    "        custom_xy_lims=cplots.XY_LIMS_TH_LEFT_HEMI,\n",
    "        # categorical=False,\n",
    "        ax=axes[i],\n",
    "        legend=None,\n",
    "        **kwargs,\n",
    "    )\n",
    "# fig.savefig(\"/results/nsf_section_patterns_tiled.pdf\", transparent=True)"
   ]
  },
  {
   "cell_type": "markdown",
   "metadata": {},
   "source": [
    "## plotting individual patterns and genes"
   ]
  },
  {
   "cell_type": "code",
   "execution_count": 32,
   "metadata": {},
   "outputs": [],
   "source": [
    "\n",
    "kwargs = dict(\n",
    "    section_col='z_section',\n",
    "    x_col = 'x_'+coords,\n",
    "    y_col = 'y_'+coords,\n",
    "    point_size=2, \n",
    "    # face_palette=None,\n",
    "    # edge_color='grey',\n",
    "    boundary_img=ccf_boundaries,\n",
    "    custom_xy_lims=cplots.XY_LIMS_TH_LEFT_HEMI,\n",
    ")"
   ]
  },
  {
   "cell_type": "code",
   "execution_count": 33,
   "metadata": {},
   "outputs": [],
   "source": [
    "# MD\n",
    "# n=27, 7, 23 (or 0 for center)\n",
    "n=7\n",
    "# VM etc\n",
    "# little gene overlap\n",
    "# n=20\n"
   ]
  },
  {
   "cell_type": "markdown",
   "metadata": {},
   "source": [
    "### AV"
   ]
  },
  {
   "cell_type": "code",
   "execution_count": 34,
   "metadata": {},
   "outputs": [],
   "source": [
    "# AV\n",
    "for n in [22, 24]:\n",
    "    fig = cplots.plot_ccf_overlay(obs, ccf_images, categorical=False,\n",
    "                        point_hue=f'nsf{n}', sections=[8.0],\n",
    "                        point_palette='viridis', legend=None,\n",
    "                        **kwargs)"
   ]
  },
  {
   "cell_type": "code",
   "execution_count": 35,
   "metadata": {},
   "outputs": [],
   "source": [
    "\n",
    "diff_genes = adata.var[\"nsf22\"] - adata.var[\"nsf24\"]\n",
    "(-diff_genes).sort_values(ascending=False).head()"
   ]
  },
  {
   "cell_type": "code",
   "execution_count": 36,
   "metadata": {},
   "outputs": [],
   "source": [
    "cols = (-diff_genes).sort_values(ascending=False).head(2).index\n",
    "for col in cols:\n",
    "    adata.obs[col] = 2**adata[:,col].X.toarray().squeeze()\n",
    "    fig = cplots.plot_ccf_overlay(adata.obs, \n",
    "                            ccf_images, \n",
    "                            categorical=False,\n",
    "                            point_hue=col, \n",
    "                            sections=[8.0],\n",
    "                            point_palette='Blues', \n",
    "                            legend=None,\n",
    "                            **kwargs)\n",
    "\n",
    "    fig[0].savefig(f\"/results/nsf_genes_AV_{col}.pdf\", transparent=True)"
   ]
  },
  {
   "cell_type": "code",
   "execution_count": 37,
   "metadata": {},
   "outputs": [],
   "source": [
    "\n",
    "diff_genes = adata.var[\"nsf22\"] - adata.var[\"nsf24\"]\n",
    "(diff_genes).sort_values(ascending=False).head()"
   ]
  },
  {
   "cell_type": "code",
   "execution_count": 38,
   "metadata": {},
   "outputs": [],
   "source": [
    "cols = diff_genes.sort_values(ascending=False).head(2).index\n",
    "for col in cols:\n",
    "    adata.obs[col] = 2**adata[:,col].X.toarray().squeeze()\n",
    "    fig = cplots.plot_ccf_overlay(adata.obs, \n",
    "                            ccf_images, \n",
    "                            categorical=False,\n",
    "                            point_hue=col, \n",
    "                            sections=[8.0],\n",
    "                            point_palette='Blues', \n",
    "                            legend=None,\n",
    "                            **kwargs)\n",
    "    fig[0].savefig(f\"/results/nsf_genes_AV_{col}.pdf\", transparent=True)"
   ]
  },
  {
   "cell_type": "markdown",
   "metadata": {},
   "source": [
    "### MD"
   ]
  },
  {
   "cell_type": "code",
   "execution_count": 39,
   "metadata": {},
   "outputs": [],
   "source": [
    "region = 'MD'\n",
    "section_MD = 7.2"
   ]
  },
  {
   "cell_type": "code",
   "execution_count": 40,
   "metadata": {},
   "outputs": [],
   "source": [
    "for n in [7, 27, 23]:\n",
    "    figs = cplots.plot_ccf_overlay(obs, \n",
    "                            ccf_images, \n",
    "                            categorical=False,\n",
    "                            point_hue=f'nsf{n}', \n",
    "                            sections=[section_MD],\n",
    "                            point_palette='Greens', \n",
    "                            legend=None,\n",
    "                            **kwargs)"
   ]
  },
  {
   "cell_type": "code",
   "execution_count": 41,
   "metadata": {},
   "outputs": [],
   "source": [
    "n=23\n",
    "figs = cplots.plot_ccf_overlay(obs, \n",
    "                            ccf_images, \n",
    "                            categorical=False,\n",
    "                            point_hue=f'nsf{n}', \n",
    "                            sections=[section_MD],\n",
    "                            point_palette='Greens', \n",
    "                            legend=None,\n",
    "                            **kwargs)\n",
    "\n",
    "figs[0].savefig(f\"/results/nsf_pattern_nsf{n}_{region}.pdf\", transparent=True)"
   ]
  },
  {
   "cell_type": "code",
   "execution_count": 42,
   "metadata": {},
   "outputs": [],
   "source": [
    "\n",
    "diff_genes = adata.var[\"nsf23\"] - adata.var[\"nsf27\"] - adata.var[\"nsf7\"]\n",
    "diff_genes.sort_values(ascending=False).head()"
   ]
  },
  {
   "cell_type": "code",
   "execution_count": 43,
   "metadata": {},
   "outputs": [],
   "source": [
    "cols = diff_genes.sort_values(ascending=False).head(3).index\n",
    "for col in cols:\n",
    "    adata.obs[col] = 2**adata[:,col].X.toarray().squeeze()\n",
    "    figs = cplots.plot_ccf_overlay(\n",
    "                            adata.obs, \n",
    "                            ccf_images, \n",
    "                            categorical=False,\n",
    "                            point_hue=col, \n",
    "                            sections=[section_MD],\n",
    "                            point_palette='Greens', \n",
    "                            legend=None,\n",
    "                            **kwargs)\n",
    "    figs[0].savefig(f\"/results/nsf_genes_{region}_{col}.pdf\", transparent=True)"
   ]
  },
  {
   "cell_type": "markdown",
   "metadata": {},
   "source": [
    "## gene plots from loadings\n",
    "\n",
    "Caution: Do not always look like factors!"
   ]
  },
  {
   "cell_type": "code",
   "execution_count": 44,
   "metadata": {},
   "outputs": [],
   "source": [
    "loadings = adata.var[nsf_cols].to_numpy()\n",
    "lin_weights = loadings @ np.linalg.pinv(loadings.T @ loadings)\n",
    "# feat @ loadings.T = X, so feat ~= X @ lin_weights\n",
    "adata.obsm['genes_on_loadings'] = adata.X @ loadings\n",
    "adata.obsm['genes_linear_projection'] = adata.X @ lin_weights"
   ]
  },
  {
   "cell_type": "code",
   "execution_count": 45,
   "metadata": {},
   "outputs": [],
   "source": [
    "N = loadings.shape[1]\n",
    "# normalize by gene to compare patterns by gene?\n",
    "# loadings_norm = loadings/loadings.sum(axis=1, keepdims=True)\n",
    "loadings_norm = loadings\n",
    "top_gene = np.zeros(N, dtype=int)\n",
    "gene_prominence = np.zeros(N)\n",
    "for n in range(N):\n",
    "    pattern_prominence = loadings_norm[:,n] - np.delete(loadings_norm, n, axis=1).max(axis=1)\n",
    "    n_gene = np.argmax(pattern_prominence)\n",
    "    top_gene[n] = n_gene\n",
    "    gene_prominence[n] = pattern_prominence[n_gene]\n",
    "    obs[f\"nsf{n}_1gene\"] = 2**np.array(adata.X[:,n_gene])"
   ]
  },
  {
   "cell_type": "code",
   "execution_count": 46,
   "metadata": {},
   "outputs": [],
   "source": [
    "np.nonzero(gene_prominence>0.1)"
   ]
  },
  {
   "cell_type": "code",
   "execution_count": 47,
   "metadata": {},
   "outputs": [],
   "source": [
    "(top_gene == loadings.argmax(axis=0))[np.nonzero(gene_prominence>0.1)]"
   ]
  },
  {
   "cell_type": "code",
   "execution_count": 48,
   "metadata": {},
   "outputs": [],
   "source": [
    "\n",
    "kwargs = dict(\n",
    "    section_col='z_section',\n",
    "    x_col = 'x_'+coords,\n",
    "    y_col = 'y_'+coords,\n",
    "    point_size=1, \n",
    "    face_palette=None,\n",
    "    edge_color='grey',\n",
    "    boundary_img=ccf_boundaries,\n",
    "    custom_xy_lims=cplots.XY_LIMS_TH_LEFT_HEMI,\n",
    ")"
   ]
  },
  {
   "cell_type": "markdown",
   "metadata": {},
   "source": [
    "### AV"
   ]
  },
  {
   "cell_type": "code",
   "execution_count": 49,
   "metadata": {},
   "outputs": [],
   "source": [
    "for n in[22, 24]:\n",
    "    print(adata.var_names[top_gene[n]])\n",
    "    cplots.plot_ccf_overlay(obs, ccf_images, categorical=False,\n",
    "                        point_hue=f'nsf{n}_1gene', sections=[8.0], \n",
    "                        point_palette='Blues', legend=None, \n",
    "                        **kwargs);"
   ]
  },
  {
   "cell_type": "markdown",
   "metadata": {},
   "source": [
    "### MD"
   ]
  },
  {
   "cell_type": "code",
   "execution_count": 50,
   "metadata": {},
   "outputs": [],
   "source": [
    "for n in[7, 27, 23]:\n",
    "    print(adata.var_names[top_gene[n]])\n",
    "    cplots.plot_ccf_overlay(obs, ccf_images, categorical=False,\n",
    "                        point_hue=f'nsf{n}_1gene', sections=[section], \n",
    "                        point_palette='Blues', legend=None, \n",
    "                        **kwargs);"
   ]
  },
  {
   "cell_type": "code",
   "execution_count": 52,
   "metadata": {},
   "outputs": [],
   "source": [
    "\n",
    "for i, x in enumerate(nsf_cols):\n",
    "    loadings = adata.var[x].to_numpy()[:,None]\n",
    "    obs[x+\"_allgenes\"] = adata.X @ loadings\n",
    "    order = loadings.argsort()\n",
    "    loadings[order[:-3]] = 0\n",
    "    obs[x+\"_3genes\"] = adata.X @ loadings\n",
    "    loadings[order[:-2]] = 0\n",
    "    obs[x+\"_2genes\"] = adata.X @ loadings\n",
    "    obs[x+\"_linear_genes\"] = adata.X @ lin_weights[:,[i]]\n"
   ]
  },
  {
   "cell_type": "code",
   "execution_count": 53,
   "metadata": {},
   "outputs": [],
   "source": [
    "for n in[7, 27, 23]:\n",
    "    cplots.plot_ccf_overlay(obs, ccf_images, categorical=False,\n",
    "                        point_hue=f'nsf{n}_linear_genes', sections=[section], \n",
    "                        point_palette='viridis', legend=None, \n",
    "                        **kwargs);"
   ]
  },
  {
   "cell_type": "code",
   "execution_count": 54,
   "metadata": {},
   "outputs": [],
   "source": [
    "for n in[7, 27, 23]:\n",
    "    cplots.plot_ccf_overlay(obs, ccf_images, categorical=False,\n",
    "                        point_hue=f'nsf{n}_allgenes', sections=[section], \n",
    "                        point_palette='viridis', legend=None, \n",
    "                        **kwargs);"
   ]
  },
  {
   "cell_type": "code",
   "execution_count": 55,
   "metadata": {},
   "outputs": [],
   "source": [
    "for n in[7, 27, 23]:\n",
    "    cplots.plot_ccf_overlay(obs, ccf_images, categorical=False,\n",
    "                        point_hue=f'nsf{n}_3genes', sections=[section], \n",
    "                        point_palette='viridis', legend=None, \n",
    "                        **kwargs);"
   ]
  },
  {
   "cell_type": "code",
   "execution_count": 56,
   "metadata": {},
   "outputs": [],
   "source": [
    "for n in[7, 27, 23]:\n",
    "    cplots.plot_ccf_overlay(obs, ccf_images, categorical=False,\n",
    "                        point_hue=f'nsf{n}_2genes', sections=[section], \n",
    "                        point_palette='viridis', legend=None, \n",
    "                        **kwargs);"
   ]
  },
  {
   "cell_type": "code",
   "execution_count": null,
   "metadata": {},
   "outputs": [],
   "source": []
  }
 ],
 "metadata": {
  "kernelspec": {
   "display_name": "base",
   "language": "python",
   "name": "python3"
  },
  "language_info": {
   "codemirror_mode": {
    "name": "ipython",
    "version": 3
   },
   "file_extension": ".py",
   "mimetype": "text/x-python",
   "name": "python",
   "nbconvert_exporter": "python",
   "pygments_lexer": "ipython3",
   "version": "3.9.12"
  }
 },
 "nbformat": 4,
 "nbformat_minor": 2
}
