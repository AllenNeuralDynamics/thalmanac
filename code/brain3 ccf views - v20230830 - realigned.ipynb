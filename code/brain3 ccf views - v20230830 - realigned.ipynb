{
 "cells": [
  {
   "cell_type": "code",
   "execution_count": 1,
   "id": "36ae7a0d",
   "metadata": {},
   "outputs": [],
   "source": [
    "# %load_ext autoreload\n",
    "# %autoreload 2"
   ]
  },
  {
   "cell_type": "code",
   "execution_count": 1,
   "id": "f14afdc8",
   "metadata": {},
   "outputs": [],
   "source": [
    "import pandas as pd\n",
    "import matplotlib.pyplot as plt\n",
    "import seaborn as sns\n",
    "import numpy as np\n",
    "\n",
    "from thalamus_merfish_analysis import ccf_plots as cplots\n",
    "from thalamus_merfish_analysis import ccf_images as cimg\n",
    "from thalamus_merfish_analysis import abc_load as abc\n",
    "get_ipython().run_line_magic('matplotlib', 'inline') "
   ]
  },
  {
   "cell_type": "markdown",
   "id": "2c770388",
   "metadata": {},
   "source": [
    "# Load brain3 data"
   ]
  },
  {
   "cell_type": "code",
   "execution_count": 2,
   "id": "e081cde8",
   "metadata": {},
   "outputs": [],
   "source": [
    "obs = abc.get_combined_metadata(realigned=True, version=\"20230830\", drop_unused=False)\n"
   ]
  },
  {
   "cell_type": "code",
   "execution_count": 3,
   "id": "6cb2477f",
   "metadata": {},
   "outputs": [],
   "source": [
    "# add parcellation index\n",
    "imdata = abc.get_ccf_labels_image(resampled=False)"
   ]
  },
  {
   "cell_type": "code",
   "execution_count": 4,
   "id": "d91ba9ad",
   "metadata": {},
   "outputs": [],
   "source": [
    "imdata.shape"
   ]
  },
  {
   "cell_type": "code",
   "execution_count": null,
   "id": "5e00df3f",
   "metadata": {},
   "outputs": [],
   "source": [
    "\n",
    "ccf_polygons = abc.get_ccf_labels_image(resampled=True, realigned=True)\n",
    "ccf_label = 'parcellation_substructure_realigned'\n",
    "ccf_boundaries = cimg.sectionwise_label_erosion(ccf_polygons, distance_px=1, fill_val=0, return_edges=True)"
   ]
  },
  {
   "cell_type": "markdown",
   "id": "c3a75574",
   "metadata": {},
   "source": [
    "### preprocessing"
   ]
  },
  {
   "cell_type": "code",
   "execution_count": 4,
   "id": "6bbfc91a",
   "metadata": {},
   "outputs": [],
   "source": [
    "th_names = abc.get_thalamus_substructure_names()\n",
    "th_subregion_names = list(set(th_names).difference(['TH-unassigned']))"
   ]
  },
  {
   "cell_type": "code",
   "execution_count": 5,
   "id": "1c524d63",
   "metadata": {},
   "outputs": [],
   "source": [
    "# subset just the neurons\n",
    "# maybe change this to actually take out only non-neuronal?\n",
    "# obs_neurons = abc.filter_adata_by_class(obs, filter_midbrain=False)\n",
    "nn_classes = [\n",
    "    \"31 OPC-Oligo\",\n",
    "    \"30 Astro-Epen\",\n",
    "    \"33 Vascular\",\n",
    "    \"34 Immune\",\n",
    "]\n",
    "# subset just the neurons\n",
    "obs_neurons = obs[~obs['class'].isin(nn_classes)]\n",
    "\n",
    "# filter to CCF \n",
    "# does not include fiber tracts etc \n",
    "# obs_th = obs[obs[ccf_label].isin(th_names)]\n",
    "# using outline with small buffer\n",
    "obs_th = abc.label_thalamus_spatial_subset(obs, distance_px=5, realigned=True, filter_cells=True)\n"
   ]
  },
  {
   "cell_type": "code",
   "execution_count": 6,
   "id": "33e8b7b0",
   "metadata": {},
   "outputs": [],
   "source": [
    "obs_th_neurons = obs.loc[obs_neurons.index.intersection(obs_th.index)]\n",
    "# helps plotting etc by trimming categories\n",
    "obs_th_neurons = obs_th_neurons.assign(\n",
    "    **obs_th_neurons.select_dtypes(include=[\"category\"])\n",
    "    .apply(lambda x: x.cat.remove_unused_categories())\n",
    "    .to_dict(orient='series'))"
   ]
  },
  {
   "cell_type": "code",
   "execution_count": 7,
   "id": "d133e930",
   "metadata": {},
   "outputs": [],
   "source": [
    "section_col = 'z_section'\n",
    "x_coord_col = 'x_section'\n",
    "y_coord_col = 'y_section'\n",
    "\n",
    "sections_all = sorted(obs_th_neurons[section_col].unique())\n",
    "# pick 3 example sections\n",
    "sections_3 = [6.4, 7.2, 8.0]"
   ]
  },
  {
   "cell_type": "markdown",
   "id": "9da8bb6c-2ba8-4e92-a1d9-ecd84dc408a5",
   "metadata": {},
   "source": [
    "## view CCF"
   ]
  },
  {
   "cell_type": "code",
   "execution_count": 8,
   "id": "84cb7d8c-7055-4d3e-a05d-e0b130821c9a",
   "metadata": {
    "scrolled": true,
    "tags": []
   },
   "outputs": [],
   "source": [
    "cplots.plot_ccf_overlay(obs_th_neurons.iloc[[],:], # no foreground cells; just the ccf shapes\n",
    "                        ccf_polygons, sections=sections_3, point_hue=ccf_label, \n",
    "                        highlight='all', legend='ccf',\n",
    "                        section_col=section_col, x_col=x_coord_col, y_col=y_coord_col,\n",
    "                        bg_shapes=False, min_group_count=0, \n",
    "                        axes=False)"
   ]
  },
  {
   "cell_type": "markdown",
   "id": "9da8bb6c-2ba8-4e92-a1d9-ecd84dc408a5",
   "metadata": {},
   "source": [
    "## view taxonomy labels over CCF"
   ]
  },
  {
   "cell_type": "markdown",
   "id": "28a2a844",
   "metadata": {},
   "source": [
    "### select thalamus celltype subsets"
   ]
  },
  {
   "cell_type": "code",
   "execution_count": 9,
   "id": "d70190ac",
   "metadata": {},
   "outputs": [],
   "source": [
    "obs_th['class'].value_counts().loc[lambda x: x>40]"
   ]
  },
  {
   "cell_type": "code",
   "execution_count": 10,
   "id": "d70190ac",
   "metadata": {},
   "outputs": [],
   "source": [
    "obs_th_neurons['class'].value_counts()"
   ]
  },
  {
   "cell_type": "code",
   "execution_count": 11,
   "id": "5bf0618c-8837-4247-860b-a630aa259105",
   "metadata": {
    "tags": []
   },
   "outputs": [],
   "source": [
    "th_subclasses = obs_th_neurons['subclass'].value_counts().loc[lambda x: x>400]\n",
    "th_subclasses"
   ]
  },
  {
   "cell_type": "code",
   "execution_count": 12,
   "id": "a8e01ea1-4070-4b53-bd55-c00f10c15ba3",
   "metadata": {
    "tags": []
   },
   "outputs": [],
   "source": [
    "len(th_subclasses)"
   ]
  },
  {
   "cell_type": "code",
   "execution_count": 13,
   "id": "3b097c7c-d407-4c38-bc52-d8d3ac6a261e",
   "metadata": {
    "tags": []
   },
   "outputs": [],
   "source": [
    "obs_th_neurons.loc[lambda df: df['subclass'].isin(th_subclasses.index), 'class'].value_counts().loc[lambda x: x>0]"
   ]
  },
  {
   "cell_type": "code",
   "execution_count": 14,
   "id": "30afd613-7f2f-4e51-8afa-29601b405a8f",
   "metadata": {
    "tags": []
   },
   "outputs": [],
   "source": [
    "obs_th_neurons.loc[lambda df: df['subclass'].isin(th_subclasses.index), 'supertype'].unique().shape[0]"
   ]
  },
  {
   "cell_type": "code",
   "execution_count": 15,
   "id": "9e72ffb4-25e3-4fd7-8d7d-34c48cfb252c",
   "metadata": {
    "tags": []
   },
   "outputs": [],
   "source": [
    "obs_th_neurons.loc[lambda df: df['subclass'].isin(th_subclasses.index), 'cluster'].unique().shape[0]"
   ]
  },
  {
   "cell_type": "code",
   "execution_count": 16,
   "id": "5bf0618c-8837-4247-860b-a630aa259105",
   "metadata": {
    "tags": []
   },
   "outputs": [],
   "source": [
    "subclasses_all = obs_th_neurons['subclass'].value_counts().loc[lambda x: x>100]\n",
    "print(len(subclasses_all))\n",
    "\n",
    "supertypes_all = obs_th_neurons['supertype'].value_counts().loc[lambda x: x>10]\n",
    "print(len(supertypes_all))"
   ]
  },
  {
   "cell_type": "code",
   "execution_count": 17,
   "id": "3b097c7c-d407-4c38-bc52-d8d3ac6a261e",
   "metadata": {
    "tags": []
   },
   "outputs": [],
   "source": [
    "obs_th_neurons.loc[lambda df: df['subclass'].isin(subclasses_all.index), 'class'].value_counts().loc[lambda x: x>0]"
   ]
  },
  {
   "cell_type": "code",
   "execution_count": 18,
   "id": "30afd613-7f2f-4e51-8afa-29601b405a8f",
   "metadata": {
    "tags": []
   },
   "outputs": [],
   "source": [
    "obs_th_neurons.loc[lambda df: df['subclass'].isin(subclasses_all.index), 'supertype'].unique().shape[0]"
   ]
  },
  {
   "cell_type": "code",
   "execution_count": 19,
   "id": "9e72ffb4-25e3-4fd7-8d7d-34c48cfb252c",
   "metadata": {
    "tags": []
   },
   "outputs": [],
   "source": [
    "obs_th_neurons.loc[lambda df: df['subclass'].isin(subclasses_all.index), 'cluster'].unique().shape[0]"
   ]
  },
  {
   "cell_type": "markdown",
   "id": "f0a195a1",
   "metadata": {},
   "source": [
    "### Plots"
   ]
  },
  {
   "cell_type": "code",
   "execution_count": 20,
   "id": "9c7636d3-a64c-4e70-8f72-93a6173f5c3b",
   "metadata": {
    "tags": []
   },
   "outputs": [],
   "source": [
    "\n",
    "palette_subclass = abc.get_taxonomy_palette('subclass')\n",
    "palette_supertype = abc.get_taxonomy_palette('supertype')\n",
    "palette_cluster = abc.get_taxonomy_palette('cluster')\n"
   ]
  },
  {
   "cell_type": "code",
   "execution_count": 29,
   "id": "f10f3a6b",
   "metadata": {},
   "outputs": [],
   "source": [
    "obs = obs_th_neurons.loc[lambda df: df['subclass'].isin(subclasses_all.index)]\n",
    "point_palette = palette_subclass\n",
    "cplots.plot_ccf_overlay(obs, ccf_polygons, \n",
    "                        bg_cells=obs_th_neurons, # skip the background cells - it just makes it look like a grey 3D shadow on each dot\n",
    "                        point_hue='subclass', sections=sections_3,\n",
    "                        shape_palette='dark_outline', \n",
    "                        point_palette=point_palette, legend='cells', \n",
    "                        highlight='all', section_col=section_col, \n",
    "                        x_col=x_coord_col, y_col=y_coord_col,\n",
    "                        min_group_count=10, s=3)"
   ]
  },
  {
   "cell_type": "code",
   "execution_count": 30,
   "id": "f10f3a6b",
   "metadata": {},
   "outputs": [],
   "source": [
    "obs = obs_th_neurons.loc[lambda df: df['supertype'].isin(supertypes_all.index)]\n",
    "point_palette = palette_supertype\n",
    "cplots.plot_ccf_overlay(obs, ccf_polygons, \n",
    "                        bg_cells=obs_th_neurons, # skip the background cells - it just makes it look like a grey 3D shadow on each dot\n",
    "                        point_hue='supertype', sections=sections_3,\n",
    "                        shape_palette='dark_outline', \n",
    "                        point_palette=point_palette, legend='cells', \n",
    "                        highlight='all', section_col=section_col, \n",
    "                        x_col=x_coord_col, y_col=y_coord_col,\n",
    "                        min_group_count=30, s=3)"
   ]
  },
  {
   "cell_type": "markdown",
   "id": "b1733310",
   "metadata": {},
   "source": [
    "## specific nuclei examples"
   ]
  },
  {
   "cell_type": "code",
   "execution_count": null,
   "id": "112f8c0b",
   "metadata": {},
   "outputs": [],
   "source": [
    "anterior_sec = 8.0\n",
    "clusters = [str(x) for x in list(range(1169, 1171+1)) + list(range(1095, 1098+1))]\n",
    "obs = obs_th_neurons.loc[lambda df: df['cluster'].str[:4].isin(clusters)]\n",
    "nuclei = ['AD', 'AV', 'AMd', 'AMv']\n",
    "cplots.plot_ccf_overlay(obs, ccf_polygons, bg_cells=obs_th, point_hue='supertype', sections=[anterior_sec],\n",
    "                 shape_palette='dark_outline',\n",
    "                 ccf_names=nuclei, legend='cells', bg_shapes=False, \n",
    "                 section_col=section_col)"
   ]
  },
  {
   "cell_type": "code",
   "execution_count": null,
   "id": "d133e930",
   "metadata": {},
   "outputs": [],
   "source": [
    "\n",
    "cplots.plot_ccf_overlay(obs, ccf_polygons, bg_cells=obs_th, point_hue='cluster', sections=[anterior_sec],\n",
    "                 shape_palette='dark_outline',\n",
    "                 ccf_names=nuclei, legend='cells', bg_shapes=False, \n",
    "                 section_col=section_col)"
   ]
  },
  {
   "cell_type": "code",
   "execution_count": null,
   "id": "112f8c0b",
   "metadata": {},
   "outputs": [],
   "source": [
    "sections = [7.2, 7.0, 6.8]\n",
    "clusters = ['1138','1141','1142']\n",
    "obs = obs_th_neurons.loc[lambda df: df['cluster'].str[:4].isin(clusters)]\n",
    "nuclei = ['VM','VAL']\n",
    "cplots.plot_ccf_overlay(obs, ccf_polygons, bg_cells=obs_th, point_hue='cluster', sections=sections,\n",
    "                 shape_palette='dark_outline',\n",
    "                 ccf_names=nuclei, legend='cells', bg_shapes=False, \n",
    "                 section_col=section_col)"
   ]
  },
  {
   "cell_type": "code",
   "execution_count": null,
   "id": "112f8c0b",
   "metadata": {},
   "outputs": [],
   "source": [
    "pvt_sections = [7.0, 7.8]\n",
    "nuclei = ['PVT']\n",
    "subclasses = nuclei\n",
    "obs = obs_th_neurons.loc[np.any([obs_th_neurons['subclass'].str.contains(x).values for x in subclasses], axis=0), :]\n",
    "cplots.plot_ccf_overlay(obs, ccf_polygons, bg_cells=obs_th, point_hue='supertype', sections=pvt_sections,\n",
    "                 shape_palette='dark_outline',\n",
    "                 ccf_names=nuclei, legend='cells', bg_shapes=False, \n",
    "                 section_col=section_col)"
   ]
  },
  {
   "cell_type": "code",
   "execution_count": null,
   "id": "112f8c0b",
   "metadata": {},
   "outputs": [],
   "source": [
    "rt_sections = [7.2, 7.8]\n",
    "nuclei = ['RT']\n",
    "subclasses = ['RT ZI']\n",
    "obs = obs_th_neurons.loc[np.any([obs_th_neurons['subclass'].str.contains(x).values for x in subclasses], axis=0), :]\n",
    "cplots.plot_ccf_overlay(obs, ccf_polygons, bg_cells=obs_th, point_hue='supertype', sections=rt_sections,\n",
    "                 shape_palette='dark_outline',\n",
    "                 ccf_names=nuclei, legend='cells', bg_shapes=False, \n",
    "                 section_col=section_col)"
   ]
  },
  {
   "cell_type": "markdown",
   "id": "ddfe3501",
   "metadata": {},
   "source": [
    "## subclass view of all sections"
   ]
  },
  {
   "cell_type": "code",
   "execution_count": null,
   "id": "68607550-f2a1-4984-8829-78e04fa30b6d",
   "metadata": {
    "scrolled": true,
    "tags": []
   },
   "outputs": [],
   "source": [
    "obs = obs_th_neurons\n",
    "cplots.plot_ccf_overlay(obs, ccf_polygons, \n",
    "                        # bg_cells=obs_th_neurons, # skip the background cells - it just makes it look like a grey 3D shadow on each dot\n",
    "                        point_hue='subclass', sections=sections_all,\n",
    "                        shape_palette='dark_outline', \n",
    "                        point_palette=None, \n",
    "                        legend='cells', highlight='all', \n",
    "                        section_col=section_col, x_col=x_coord_col, y_col=y_coord_col,\n",
    "                        min_group_count=30, s=3)"
   ]
  }
 ],
 "metadata": {
  "kernelspec": {
   "display_name": "Python 3 (ipykernel)",
   "language": "python",
   "name": "python3"
  },
  "language_info": {
   "codemirror_mode": {
    "name": "ipython",
    "version": 3
   },
   "file_extension": ".py",
   "mimetype": "text/x-python",
   "name": "python",
   "nbconvert_exporter": "python",
   "pygments_lexer": "ipython3",
   "version": "3.9.12"
  },
  "vscode": {
   "interpreter": {
    "hash": "d4d1e4263499bec80672ea0156c357c1ee493ec2b1c70f0acce89fc37c4a6abe"
   }
  }
 },
 "nbformat": 4,
 "nbformat_minor": 5
}
