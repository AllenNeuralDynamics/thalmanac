{
 "cells": [
  {
   "cell_type": "markdown",
   "id": "6f9d4f80",
   "metadata": {},
   "source": [
    "# Notebook to simulate HCR data\n",
    "\n",
    "modified from Mathew's pre-CodeOcean notebook to run in this capsule"
   ]
  },
  {
   "cell_type": "code",
   "execution_count": 1,
   "id": "5c1a1701",
   "metadata": {
    "tags": []
   },
   "outputs": [],
   "source": [
    "import numpy as np\n",
    "import pandas as pd\n",
    "import anndata as ad\n",
    "import scanpy as sc\n",
    "import matplotlib.pyplot as plt\n",
    "import matplotlib as mpl\n",
    "import seaborn as sns\n",
    "\n",
    "%matplotlib inline"
   ]
  },
  {
   "cell_type": "markdown",
   "id": "2ec69ddd-60ef-4208-ba9a-f160fb038816",
   "metadata": {},
   "source": [
    "## Load old brain1 & brain3 data assets"
   ]
  },
  {
   "cell_type": "code",
   "execution_count": 2,
   "id": "0eeb466a-4993-4160-9222-b82ba361ff9c",
   "metadata": {
    "tags": []
   },
   "outputs": [],
   "source": [
    "# Load MERFISH data\n",
    "adata_brain1 = ad.read_h5ad(\"../../data/merfish_609882_AIT17.1_annotated_TH_ZI_only_2023-02-16_00-00-00/atlas_brain_609882_AIT17_1_annotated_TH_ZI_only.h5ad\")\n",
    "adata_brain3 = ad.read_h5ad(\"../../data/merfish_638850_AIT17.custom_CCF_annotated_TH_ZI_only_2023-05-04_00-00-00/atlas_brain_638850_AIT17_custom_CCF_annotated_TH_ZI_only.h5ad\")"
   ]
  },
  {
   "cell_type": "code",
   "execution_count": 3,
   "id": "b882bb03-0b93-42d4-adf4-506820bb9cc3",
   "metadata": {
    "tags": []
   },
   "outputs": [],
   "source": [
    "# Subset to neuronal\n",
    "neuronal_divisions = [\"3 PAL-sAMY-TH-HY-MB-HB neuronal\",\"2 Subpallium GABAergic\",\"4 CBX-MOB-other neuronal\"]\n",
    "adata_brain1 = adata_brain1[adata_brain1.obs[\"division_id_label\"].isin(neuronal_divisions)].copy()\n",
    "adata_brain3 = adata_brain3[adata_brain3.obs[\"division_id_label\"].isin(neuronal_divisions)].copy()"
   ]
  },
  {
   "cell_type": "code",
   "execution_count": 4,
   "id": "3d56ae5b-36a9-44e2-b1d8-8836e373cef5",
   "metadata": {
    "tags": []
   },
   "outputs": [],
   "source": [
    "adata_brain1"
   ]
  },
  {
   "cell_type": "code",
   "execution_count": 5,
   "id": "d4652053-6d82-4365-904b-744dbfe15888",
   "metadata": {
    "tags": []
   },
   "outputs": [],
   "source": [
    "adata_brain1.obs['section'].cat.categories[2:24]\n",
    "# len(adata_brain1.obs['section'].cat.categories[2:24])"
   ]
  },
  {
   "cell_type": "code",
   "execution_count": 6,
   "id": "961db4f0-71b6-4036-addb-03524d4512d1",
   "metadata": {
    "tags": []
   },
   "outputs": [],
   "source": [
    "ALL_SECTION_PAIRS_BRAIN1_BRAIN3 = np.array([\n",
    "                                            ['1198980077','1199651060'],\n",
    "                                            ['1198980089','1199651054'],\n",
    "                                            ['1198980101','1199651048'],\n",
    "                                            ['1198980108','1199651045'],\n",
    "                                            ['1198980114','1199651042'],\n",
    "                                            ['1198980120','1199651039'],\n",
    "                                            ['1198980134','1199651033'],\n",
    "                                            ['1198980146','1199651027'],\n",
    "                                            ['1198980152','1199651024']\n",
    "                                           ], dtype=object)"
   ]
  },
  {
   "cell_type": "code",
   "execution_count": 7,
   "id": "ed655f03-dc3a-4dba-ba2f-7ece2d563c12",
   "metadata": {
    "tags": []
   },
   "outputs": [],
   "source": [
    "BRAIN1_SECTION_IDS = np.array(['1198980077', '1198980080', '1198980086', \n",
    "                                '1198980089', '1198980092', '1198980095', \n",
    "                                '1198980098', '1198980101', '1198980105', \n",
    "                                '1198980108', '1198980111', '1198980114', \n",
    "                                '1198980117', '1198980120', '1198980123',\n",
    "                                '1198980131', '1198980134', '1198980137', \n",
    "                                '1198980140', '1198980146', '1198980149', \n",
    "                                '1198980152'], dtype=object)"
   ]
  },
  {
   "cell_type": "code",
   "execution_count": 8,
   "id": "8d6fad39-3d8a-4557-ace1-f8660d00ce0e",
   "metadata": {
    "tags": []
   },
   "outputs": [],
   "source": [
    "ALL_SECTION_PAIRS_BRAIN1_BRAIN3[:,0]"
   ]
  },
  {
   "cell_type": "markdown",
   "id": "c411ee58-a168-4218-8ddc-6491c833f8dd",
   "metadata": {},
   "source": [
    "## Plotting functions"
   ]
  },
  {
   "cell_type": "markdown",
   "id": "7429efc7-4b57-4e2d-8453-66e0b90ad4d3",
   "metadata": {
    "jp-MarkdownHeadingCollapsed": true,
    "tags": []
   },
   "source": [
    "### def hcrVis()"
   ]
  },
  {
   "cell_type": "code",
   "execution_count": 9,
   "id": "042cafaa",
   "metadata": {
    "tags": []
   },
   "outputs": [],
   "source": [
    "def hcrVis(merData,genes, section = '1198980089'):\n",
    "    \"\"\" Draw on MERSCOPE data to plot separate and overlaid expression of 3 genes. \"\"\"\n",
    "    plt.figure(figsize=(24,3), dpi=80)\n",
    "    \n",
    "    # Subset based on requested section\n",
    "    merSection = merData[merData.obs[\"section\"] == section]\n",
    "    \n",
    "    # Get normalized expression of each gene\n",
    "    gene1Norm = merSection[:,genes[0]].X / merSection[:,genes[0]].X.max()\n",
    "    gene2Norm = merSection[:,genes[1]].X / merSection[:,genes[1]].X.max()\n",
    "    gene3Norm = merSection[:,genes[2]].X / merSection[:,genes[2]].X.max()\n",
    "\n",
    "    # Convert each genes normalized expression into an RGB value\n",
    "    colorR = np.concatenate((gene1Norm, np.zeros([len(gene1Norm),2])),axis=1)\n",
    "    colorG = np.concatenate((np.zeros([len(gene1Norm),1]),gene2Norm,np.zeros([len(gene1Norm),1])),axis=1)\n",
    "    colorB = np.concatenate((np.zeros([len(gene1Norm),2]),gene3Norm),axis=1)\n",
    "    \n",
    "    # Combine each gene for overlaid plot\n",
    "    colorRGB = np.concatenate((gene1Norm, gene2Norm, gene3Norm),axis=1)\n",
    "    colors = (colorR, colorG, colorB, colorRGB)\n",
    "    genes.append('Overlay') # Append for labeling purposes\n",
    "\n",
    "    # For each channel, plot spatial expression\n",
    "    for count, color in enumerate(colors):\n",
    "        plt.subplot(1,4,count+1)\n",
    "        plt.scatter(merSection.obsm[\"spatial_cirro\"][:,0],\n",
    "                    merSection.obsm[\"spatial_cirro\"][:,1],\n",
    "                    s=30, marker='.', color=color)\n",
    "        plt.title(genes[count])\n",
    "        plt.axis('equal')\n",
    "        plt.axis('off')"
   ]
  },
  {
   "cell_type": "markdown",
   "id": "6bdb35f9-d35e-4288-9a71-f20299275118",
   "metadata": {
    "jp-MarkdownHeadingCollapsed": true,
    "tags": []
   },
   "source": [
    "### def hcrVis_multisection(merData, genes)"
   ]
  },
  {
   "cell_type": "code",
   "execution_count": 10,
   "id": "1260e6f0-62b9-4d19-957d-ff07bf36ac3e",
   "metadata": {
    "tags": []
   },
   "outputs": [],
   "source": [
    "def hcrVis_multisection(merData, genes):\n",
    "    \"\"\" Draw on MERSCOPE data to plot separate and overlaid expression of 3 genes. \"\"\"\n",
    "    \n",
    "    if len(genes) != 3:\n",
    "        raise Exception('must input exactly 3 genes')\n",
    "    \n",
    "    n_cols = 4 # 3 genes + overlay\n",
    "    n_rows = len(BRAIN1_SECTION_IDS)\n",
    "\n",
    "    fig, axs = plt.subplots(n_rows, n_cols, figsize=(20,75))\n",
    "\n",
    "    for i, sec_id in enumerate(BRAIN1_SECTION_IDS):\n",
    "        \n",
    "        # Subset based on requested section\n",
    "        merSection = merData[merData.obs[\"section\"] == sec_id]\n",
    "\n",
    "        # Get normalized expression of each gene\n",
    "        gene1Norm = merSection[:,genes[0]].X / merSection[:,genes[0]].X.max()\n",
    "        gene2Norm = merSection[:,genes[1]].X / merSection[:,genes[1]].X.max()\n",
    "        gene3Norm = merSection[:,genes[2]].X / merSection[:,genes[2]].X.max()\n",
    "\n",
    "        # Convert each genes normalized expression into an RGB value\n",
    "        colorR = np.concatenate((gene1Norm, np.zeros([len(gene1Norm),2])),axis=1)\n",
    "        colorG = np.concatenate((np.zeros([len(gene1Norm),1]),gene2Norm,np.zeros([len(gene1Norm),1])),axis=1)\n",
    "        colorB = np.concatenate((np.zeros([len(gene1Norm),2]),gene3Norm),axis=1)\n",
    "\n",
    "        # Combine each gene for overlaid plot\n",
    "        colorRGB = np.concatenate((gene1Norm, gene2Norm, gene3Norm),axis=1)\n",
    "        colors = (colorR, colorG, colorB, colorRGB)\n",
    "        genes.append('Overlay') # Append for labeling purposes\n",
    "\n",
    "        # For each channel, plot spatial expression\n",
    "        for c, color in enumerate(colors):\n",
    "            # plt.subplot(1,4,count+1)\n",
    "            ax = axs[i,c]\n",
    "            ax.scatter(merSection.obsm[\"spatial_cirro\"][:,0],\n",
    "                        merSection.obsm[\"spatial_cirro\"][:,1],\n",
    "                        s=20, marker='.', color=color)\n",
    "            ax.set_title(genes[c])\n",
    "            ax.set_aspect('equal', 'box')\n",
    "            # ax.set_xticks([])\n",
    "            # ax.set_yticks([])\n",
    "            ax.axis('off')\n",
    "\n",
    "    # plt.axis('off')"
   ]
  },
  {
   "cell_type": "markdown",
   "id": "67d7eb98-8df2-443d-b487-423e43f845c6",
   "metadata": {},
   "source": [
    "## Hemi Thalamus HCR Bridging Dataset Gene Selections"
   ]
  },
  {
   "cell_type": "markdown",
   "id": "5fcc03de-3265-4d93-a04b-95cfbddeaf86",
   "metadata": {},
   "source": [
    "### Round 1 Gene Set \n",
    "\n",
    "*(decided on 1/31/24)*\n",
    "\n",
    "Pvalb\n",
    "\n",
    "C1ql3\n",
    "\n",
    "Slc17a7 (VGLUT1)"
   ]
  },
  {
   "cell_type": "code",
   "execution_count": 11,
   "id": "a6561956-141b-4cd5-a129-ce82b569f6ab",
   "metadata": {
    "scrolled": true,
    "tags": []
   },
   "outputs": [],
   "source": [
    "geneList = [\"Pvalb\",\"C1ql3\",\"Slc17a7\"]\n",
    "hcrVis_multisection(adata_brain1,geneList)\n",
    "\n",
    "# sections_brain1 = ALL_SECTION_PAIRS_BRAIN1_BRAIN3[:,0]\n",
    "# for i, sec in enumerate(sections_brain1):\n",
    "#     hcrVis(adata_brain1,geneList,sec)"
   ]
  },
  {
   "cell_type": "markdown",
   "id": "a8208813-0e35-4cbe-9a63-c664e7ac9123",
   "metadata": {
    "tags": []
   },
   "source": [
    "#### would Gad2 be better than Pvalb?\n",
    "\n",
    "Gad2 labels the ZI in addition to the TH, whereas Pvalb is limite to just the TH (not expressed highly in ZI)"
   ]
  },
  {
   "cell_type": "code",
   "execution_count": 12,
   "id": "99280706-468e-4c26-9289-520ad6e745ff",
   "metadata": {
    "scrolled": true,
    "tags": []
   },
   "outputs": [],
   "source": [
    "geneList = [\"Gad2\",\"C1ql3\",\"Slc17a7\"]\n",
    "hcrVis_multisection(adata_brain1,geneList)"
   ]
  },
  {
   "cell_type": "code",
   "execution_count": 13,
   "id": "4f9fff97-11d8-4fef-b45c-06d2b3d900ce",
   "metadata": {
    "tags": []
   },
   "outputs": [],
   "source": [
    "geneList = [\"Gad1\",\"C1ql3\",\"Slc17a7\"]\n",
    "hcrVis_multisection(adata_brain1,geneList)"
   ]
  },
  {
   "cell_type": "markdown",
   "id": "55c2ed4e-0425-47b7-94c0-87371c96f6ef",
   "metadata": {},
   "source": [
    "#### Would Calb2 be better than C1ql3 in the posterior?\n",
    "\n",
    "Yes, probably best to go with Gad2, Calb2, Slc17a7 for this 1st round of genes"
   ]
  },
  {
   "cell_type": "code",
   "execution_count": 14,
   "id": "11aee72a-45ef-4c3a-b4e9-dfc0309f6b22",
   "metadata": {
    "scrolled": true,
    "tags": []
   },
   "outputs": [],
   "source": [
    "geneList = [\"Gad2\",\"Calb2\",\"Slc17a7\"]\n",
    "hcrVis_multisection(adata_brain1,geneList)"
   ]
  },
  {
   "cell_type": "markdown",
   "id": "d95bf761-18d0-48a2-b070-fa7aaf8e1fea",
   "metadata": {},
   "source": [
    "#### Calb2 / C1ql3 bleedthrough test"
   ]
  },
  {
   "cell_type": "code",
   "execution_count": 15,
   "id": "4e34fddb-edda-46b6-8a84-984affa839ff",
   "metadata": {
    "scrolled": true,
    "tags": []
   },
   "outputs": [],
   "source": [
    "geneList = [\"Calb2\",\"C1ql3\",\"Slc17a7\"]\n",
    "hcrVis_multisection(adata_brain1,geneList)"
   ]
  },
  {
   "cell_type": "markdown",
   "id": "11ba80d8-4a72-4b17-ba0e-ca21e40e6f60",
   "metadata": {},
   "source": [
    "#### Exploring other gene combos"
   ]
  },
  {
   "cell_type": "code",
   "execution_count": 16,
   "id": "c88782bc-6c40-4209-9ce4-88ac6eb023f6",
   "metadata": {
    "scrolled": true,
    "tags": []
   },
   "outputs": [],
   "source": [
    "geneList = [\"Gad2\",'Calb2',\"Cnih3\"]\n",
    "\n",
    "sections_brain1 = ALL_SECTION_PAIRS_BRAIN1_BRAIN3[:,0]\n",
    "\n",
    "for i, sec in enumerate(sections_brain1):\n",
    "    hcrVis(adata_brain1,geneList,sec)"
   ]
  },
  {
   "cell_type": "code",
   "execution_count": 17,
   "id": "b347a5d5-fb71-4070-8266-a27d64ec3ac6",
   "metadata": {
    "scrolled": true,
    "tags": []
   },
   "outputs": [],
   "source": [
    "geneList = [\"C1ql3\",'Syndig1l',\"Ankrd6\"]\n",
    "\n",
    "for i, sec in enumerate(sections_brain1):\n",
    "    hcrVis(adata_brain1,geneList,sec)"
   ]
  },
  {
   "cell_type": "code",
   "execution_count": 18,
   "id": "b3a520ef-d10d-482a-a6a3-f99febcb19ef",
   "metadata": {
    "scrolled": true,
    "tags": []
   },
   "outputs": [],
   "source": [
    "geneList = [\"C1ql3\",'Calb2',\"Slc17a7\"]\n",
    "\n",
    "for i, sec in enumerate(sections_brain1):\n",
    "    hcrVis(adata_brain1,geneList,sec)"
   ]
  },
  {
   "cell_type": "markdown",
   "id": "63fd7d3b-5b89-4b74-902d-8ace7f16ba71",
   "metadata": {
    "jp-MarkdownHeadingCollapsed": true,
    "tags": []
   },
   "source": [
    "#### Would Slc17a6(VGLUT2) be better than Slc17a7(VGLUT1)?\n",
    "\n",
    "nope"
   ]
  },
  {
   "cell_type": "code",
   "execution_count": 19,
   "id": "ef2d5dae-b046-44d7-b6ff-26d3bb46e9c7",
   "metadata": {
    "tags": []
   },
   "outputs": [],
   "source": [
    "geneList = [\"Pvalb\",\"C1ql3\",\"Slc17a6\"]\n",
    "\n",
    "sections_brain1 = ALL_SECTION_PAIRS_BRAIN1_BRAIN3[:,0]\n",
    "\n",
    "for i, sec in enumerate(sections_brain1):\n",
    "    hcrVis(adata_brain1,geneList,sec)"
   ]
  },
  {
   "cell_type": "markdown",
   "id": "57c1a121-093a-4472-8ea3-89721d0877cd",
   "metadata": {
    "tags": []
   },
   "source": [
    "## Other gene sets"
   ]
  },
  {
   "cell_type": "code",
   "execution_count": 20,
   "id": "44de7828-5ae3-4d02-aaa2-212808cc98dd",
   "metadata": {
    "tags": []
   },
   "outputs": [],
   "source": [
    "# Figure out HCR probes to order\n",
    "geneList = [\"Pvalb\",\"C1ql3\",\"Slc17a7\"]\n",
    "hcrVis(adata_brain1,geneList,'1198980089')"
   ]
  },
  {
   "cell_type": "code",
   "execution_count": 21,
   "id": "4a05078a",
   "metadata": {
    "tags": []
   },
   "outputs": [],
   "source": [
    "# Figure out HCR probes to order\n",
    "geneList = [\"Scn4b\",\"Hs3st1\",\"Slc17a7\"]\n",
    "hcrVis(adata_brain1,geneList,'1198980089')"
   ]
  },
  {
   "cell_type": "code",
   "execution_count": 22,
   "id": "96147bf9-b662-4d61-88f9-78acedf2f257",
   "metadata": {
    "tags": []
   },
   "outputs": [],
   "source": [
    "# Figure out HCR probes to order\n",
    "geneList = [\"Kirrel3\",\"C1ql3\",\"Calb2\"]\n",
    "hcrVis(adata_brain1,geneList,'1198980089')"
   ]
  },
  {
   "cell_type": "code",
   "execution_count": 23,
   "id": "83a49981",
   "metadata": {
    "tags": []
   },
   "outputs": [],
   "source": [
    "# Figure out HCR probes to order\n",
    "geneList = [\"Necab1\",\"Scn4b\",\"C1ql3\"]\n",
    "hcrVis(adata_brain1,geneList,'1198980089')"
   ]
  },
  {
   "cell_type": "code",
   "execution_count": 24,
   "id": "be6f5431",
   "metadata": {
    "tags": []
   },
   "outputs": [],
   "source": [
    "geneList = [\"Kirrel3\",\"Scn4b\",\"Cbln1\"]\n",
    "hcrVis(adata_brain1,geneList,'1198980089')"
   ]
  },
  {
   "cell_type": "code",
   "execution_count": 25,
   "id": "12461900",
   "metadata": {
    "tags": []
   },
   "outputs": [],
   "source": [
    "geneList = [\"Slc17a7\",\"Kirrel3\",\"Syndig1l\"]\n",
    "hcrVis(adata_brain1,geneList,'1198980089')"
   ]
  },
  {
   "cell_type": "code",
   "execution_count": 26,
   "id": "0028ffb0-6692-4408-ba04-0d5d1acc1157",
   "metadata": {
    "tags": []
   },
   "outputs": [],
   "source": [
    "geneList = [\"Calb2\",\"C1ql3\",\"Syndig1l\"]\n",
    "hcrVis(adata_brain1,geneList,'1198980120')"
   ]
  },
  {
   "cell_type": "markdown",
   "id": "ba7e274f",
   "metadata": {},
   "source": [
    "### Developmentally relevant genes"
   ]
  },
  {
   "cell_type": "code",
   "execution_count": 27,
   "id": "ea07ebdb",
   "metadata": {
    "tags": []
   },
   "outputs": [],
   "source": [
    "# Pcdh8 and Cdh12 seem to form non-overlapping populations\n",
    "geneList = [\"Pcdh8\",\"Cdh12\",\"Tmem132c\"]\n",
    "hcrVis(adata_brain1,geneList,'1198980120')"
   ]
  },
  {
   "cell_type": "code",
   "execution_count": 28,
   "id": "7001b0bc-1cfe-47de-8ff0-df48966f7791",
   "metadata": {
    "tags": []
   },
   "outputs": [],
   "source": [
    "# Cbln's seem to form a stepwise gradient\n",
    "geneList = [\"Cbln4\",\"Cbln1\",\"Cbln2\"]\n",
    "hcrVis(adata_brain1,geneList,'1198980089')"
   ]
  },
  {
   "cell_type": "code",
   "execution_count": 29,
   "id": "1071cf19",
   "metadata": {
    "tags": []
   },
   "outputs": [],
   "source": [
    "# Tmem intersection\n",
    "geneList = [\"Tmem132c\",\"Deptor\",\"Tmem255a\"]\n",
    "hcrVis(adata_brain1,geneList,'1198980120')"
   ]
  },
  {
   "cell_type": "markdown",
   "id": "69a5f5fd",
   "metadata": {
    "tags": []
   },
   "source": [
    "## Look specifically at MD"
   ]
  },
  {
   "cell_type": "code",
   "execution_count": 30,
   "id": "42a244c7",
   "metadata": {
    "tags": []
   },
   "outputs": [],
   "source": [
    "# def hcrMD(merData,genes):\n",
    "#     \"\"\" Draw on MERSCOPE data to plot separate and overlaid expression of 3 genes. \"\"\"\n",
    "#     plt.figure(figsize=(12,9), dpi=80)\n",
    "#     xBounds = [-84000, -82000]\n",
    "#     yBounds = [87000, 88500]\n",
    "#     spacer = 100\n",
    "    \n",
    "#     # Subset to approximately area MD\n",
    "#     merSection = merData[merData.obs[\"section\"] == '1198980089']\n",
    "#     merSection = merSection[(merSection.obsm[\"spatial_cirro\"][:,0] > xBounds[0]) & \n",
    "#                             (merSection.obsm[\"spatial_cirro\"][:,0] < xBounds[1])]\n",
    "#     merSection = merSection[(merSection.obsm[\"spatial_cirro\"][:,1] > yBounds[0]) & \n",
    "#                             (merSection.obsm[\"spatial_cirro\"][:,1] < yBounds[1])]\n",
    "#     print(len(MerSection))\n",
    "#     # Get normalized expression of each gene\n",
    "#     gene1Norm = merSection[:,genes[0]].X / merSection[:,genes[0]].X.max()\n",
    "#     gene2Norm = merSection[:,genes[1]].X / merSection[:,genes[1]].X.max()\n",
    "#     gene3Norm = merSection[:,genes[2]].X / merSection[:,genes[2]].X.max()\n",
    "\n",
    "#     # Convert each genes normalized expression into an RGB value\n",
    "#     colorR = np.concatenate((gene1Norm, np.zeros([len(gene1Norm),2])),axis=1)\n",
    "#     colorG = np.concatenate((np.zeros([len(gene1Norm),1]),gene2Norm,np.zeros([len(gene1Norm),1])),axis=1)\n",
    "#     colorB = np.concatenate((np.zeros([len(gene1Norm),2]),gene3Norm),axis=1)\n",
    "    \n",
    "#     # Combine each gene for overlaid plot\n",
    "#     colorRGB = np.concatenate((gene1Norm, gene2Norm, gene3Norm),axis=1)\n",
    "#     colors = (colorR, colorG, colorB, colorRGB)\n",
    "#     genes.append('Overlay') # Append for labeling purposes\n",
    "    \n",
    "#     # Plot\n",
    "#     plt.figure(figsize=(16,16))\n",
    "\n",
    "#     # For each channel, plot spatial expression\n",
    "#     for count, color in enumerate(colors):\n",
    "#         plt.subplot(2,2,count+1)\n",
    "#         plt.subplots_adjust(wspace=0.01, hspace=0.1)\n",
    "#         plt.scatter(merSection.obsm[\"spatial_cirro\"][:,0],merSection.obsm[\"spatial_cirro\"][:,1],\n",
    "#                     s=75, color = color, edgecolors='black') #s=120\n",
    "#         # Draw bounding box\n",
    "#         plt.plot([xBounds[1] - spacer,xBounds[0] + spacer,xBounds[0] + spacer,xBounds[1] - spacer,xBounds[1] - spacer],\n",
    "#                  [yBounds[1] - spacer,yBounds[1] - spacer,yBounds[0] + spacer,yBounds[0] + spacer,yBounds[1] - spacer],'k')\n",
    "#         plt.title(genes[count],fontsize = 18, fontweight='bold')\n",
    "#         plt.axis('off')\n",
    "#         plt.axis('equal')"
   ]
  },
  {
   "cell_type": "code",
   "execution_count": 31,
   "id": "f1aac0b3",
   "metadata": {
    "tags": []
   },
   "outputs": [],
   "source": [
    "def hcrMDhorizontal(merData,genes):\n",
    "    \"\"\" Draw on MERSCOPE data to plot separate and overlaid expression of 3 genes. \"\"\"\n",
    "    plt.figure(figsize=(12,9), dpi=80)\n",
    "    xBounds = [-83650, -82000]\n",
    "    yBounds = [87200, 88300]\n",
    "    spacer = 100\n",
    "    \n",
    "    # Subset to approximately area MD\n",
    "    merSection = merData[merData.obs[\"section\"]=='1198980089']\n",
    "    merSection = merSection[(merSection.obsm[\"spatial_cirro\"][:,0] > xBounds[0]) & \n",
    "                            (merSection.obsm[\"spatial_cirro\"][:,0] < xBounds[1])]\n",
    "    merSection = merSection[(merSection.obsm[\"spatial_cirro\"][:,1] > yBounds[0]) & \n",
    "                            (merSection.obsm[\"spatial_cirro\"][:,1] < yBounds[1])]\n",
    "    \n",
    "    # Get normalized expression of each gene\n",
    "    gene1Norm = merSection[:,genes[0]].X / merSection[:,genes[0]].X.max()\n",
    "    gene2Norm = merSection[:,genes[1]].X / merSection[:,genes[1]].X.max()\n",
    "    gene3Norm = merSection[:,genes[2]].X / merSection[:,genes[2]].X.max()\n",
    "\n",
    "    # Convert each genes normalized expression into an RGB value\n",
    "    colorR = np.concatenate((gene1Norm, np.zeros([len(gene1Norm),2])),axis=1)\n",
    "    colorG = np.concatenate((np.zeros([len(gene1Norm),1]),gene2Norm,np.zeros([len(gene1Norm),1])),axis=1)\n",
    "    colorB = np.concatenate((np.zeros([len(gene1Norm),2]),gene3Norm),axis=1)\n",
    "    \n",
    "    # Combine each gene for overlaid plot\n",
    "    colorRGB = np.concatenate((gene1Norm, gene2Norm, gene3Norm),axis=1)\n",
    "    colors = (colorR, colorG, colorB, colorRGB)\n",
    "    genes.append('Overlay') # Append for labeling purposes\n",
    "    \n",
    "    # Plot\n",
    "    plt.figure(figsize=(32,8))\n",
    "\n",
    "    # For each channel, plot spatial expression\n",
    "    for count, color in enumerate(colors):\n",
    "        plt.subplot(1,4,count+1)\n",
    "        plt.subplots_adjust(wspace=0.01, hspace=0.1)\n",
    "        plt.scatter(merSection.obsm[\"spatial_cirro\"][:,0],merSection.obsm[\"spatial_cirro\"][:,1],\n",
    "                    s=50, color = color, edgecolors=None) #s=75\n",
    "        # Draw bounding box\n",
    "        plt.plot([xBounds[1] + spacer,xBounds[0] - spacer,xBounds[0] - spacer,xBounds[1] + spacer,xBounds[1] + spacer],\n",
    "                 [yBounds[1] + spacer,yBounds[1] + spacer,yBounds[0] - spacer,yBounds[0] - spacer,yBounds[1] + spacer],'k')\n",
    "        plt.title(genes[count],fontsize = 18, fontweight='bold')\n",
    "        plt.axis('off')\n",
    "        plt.axis('equal')"
   ]
  },
  {
   "cell_type": "code",
   "execution_count": 32,
   "id": "1338017a",
   "metadata": {
    "tags": []
   },
   "outputs": [],
   "source": [
    "# Remaining probes\n",
    "geneList = [\"Slc17a7\",\"Hs3st1\",\"Scn4b\"]\n",
    "hcrMDhorizontal(adata_brain1,geneList);"
   ]
  },
  {
   "cell_type": "code",
   "execution_count": 33,
   "id": "f17f61ae",
   "metadata": {
    "tags": []
   },
   "outputs": [],
   "source": [
    "# Try to mimic Phillips et al 2019 (sub Slc17a7 for Tnnt1)\n",
    "geneList = [\"Hs3st1\",\"Necab1\",\"Calb2\"]\n",
    "hcrMDhorizontal(adata_brain1,geneList)"
   ]
  },
  {
   "cell_type": "code",
   "execution_count": 34,
   "id": "3c364512",
   "metadata": {
    "tags": []
   },
   "outputs": [],
   "source": [
    "# Try to mimic Phillips et al 2019 (sub Slc17a7 for Tnnt1)\n",
    "geneList = [\"Syndig1l\",\"Kirrel3\",\"Scn4b\"]\n",
    "hcrMDhorizontal(adata_brain1,geneList)"
   ]
  },
  {
   "cell_type": "code",
   "execution_count": 35,
   "id": "f19b4f36",
   "metadata": {
    "tags": []
   },
   "outputs": [],
   "source": [
    "# Remaining probes\n",
    "geneList = [\"Slc17a7\",\"Scn4b\",\"C1ql3\"]\n",
    "hcrMDhorizontal(adata_brain1,geneList)"
   ]
  },
  {
   "cell_type": "code",
   "execution_count": 36,
   "id": "6b759bed",
   "metadata": {
    "tags": []
   },
   "outputs": [],
   "source": [
    "# Try to mimic Phillips et al 2019 (sub Slc17a7 for Tnnt1)\n",
    "geneList = [\"Slc17a7\",\"Necab1\",\"Calb2\"]\n",
    "hcrMDhorizontal(adata_brain1,geneList)"
   ]
  },
  {
   "cell_type": "code",
   "execution_count": 37,
   "id": "b6674c2d",
   "metadata": {
    "tags": []
   },
   "outputs": [],
   "source": [
    "# Look at overlap of central MD expressing genes\n",
    "geneList = [\"Slc17a7\",\"Hs3st1\",\"Clmp\"]\n",
    "hcrMDhorizontal(adata_brain1,geneList)"
   ]
  },
  {
   "cell_type": "code",
   "execution_count": 38,
   "id": "4bf5906b",
   "metadata": {
    "tags": []
   },
   "outputs": [],
   "source": [
    "# Look at overlap of broadly MD expressing genes\n",
    "geneList = [\"Necab1\",\"Syndig1l\",\"Syndig1l\"]\n",
    "hcrMDhorizontal(adata_brain1,geneList)"
   ]
  },
  {
   "cell_type": "code",
   "execution_count": 39,
   "id": "d70632d0",
   "metadata": {
    "tags": []
   },
   "outputs": [],
   "source": [
    "#(Frog face)\n",
    "geneList = [\"C1ql3\",\"Prkcd\",\"Scn4b\"]\n",
    "hcrMDhorizontal(adata_brain1,geneList)"
   ]
  },
  {
   "cell_type": "code",
   "execution_count": 40,
   "id": "a4a54931-70ee-4046-809e-6c7e88f29dbf",
   "metadata": {
    "tags": []
   },
   "outputs": [],
   "source": [
    "geneList = [\"C1ql3\",\"Syndig1l\",\"Ankrd6\"]\n",
    "hcrMDhorizontal(adata_brain1,geneList)"
   ]
  },
  {
   "cell_type": "code",
   "execution_count": null,
   "id": "4198389d-b7f1-4e28-9c5c-77d1baf6a267",
   "metadata": {},
   "outputs": [],
   "source": []
  }
 ],
 "metadata": {
  "kernelspec": {
   "display_name": "Python 3 (ipykernel)",
   "language": "python",
   "name": "python3"
  },
  "language_info": {
   "codemirror_mode": {
    "name": "ipython",
    "version": 3
   },
   "file_extension": ".py",
   "mimetype": "text/x-python",
   "name": "python",
   "nbconvert_exporter": "python",
   "pygments_lexer": "ipython3",
   "version": "3.9.12"
  }
 },
 "nbformat": 4,
 "nbformat_minor": 5
}
