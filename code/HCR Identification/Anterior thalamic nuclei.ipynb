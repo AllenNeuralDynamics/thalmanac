{
 "cells": [
  {
   "cell_type": "markdown",
   "id": "d2a9a24f-82bd-4faa-96e5-83d244d7681c",
   "metadata": {},
   "source": [
    "Notebook documenting work and analyses for selection of HCR probes to discriminate transcriptomic types within anterior thalamic nuclei."
   ]
  },
  {
   "cell_type": "code",
   "execution_count": 4,
   "id": "38b5fdd1-5c57-4974-a513-36065352ebb1",
   "metadata": {},
   "outputs": [],
   "source": [
    "import anndata as ad\n",
    "import pandas as pd\n",
    "import scanpy as sc\n",
    "%matplotlib inline\n",
    "\n",
    "import numpy as np\n",
    "import matplotlib.pyplot as plt\n",
    "import matplotlib.colors\n",
    "import seaborn as sns"
   ]
  },
  {
   "cell_type": "code",
   "execution_count": 5,
   "id": "30ac9b8f-0dd5-4324-8065-ebfb5e7f5579",
   "metadata": {},
   "outputs": [],
   "source": [
    "# Load MERFISH data\n",
    "merData = ad.read_h5ad(\"../../data/merfish_609882_AIT17.1_annotated_TH_ZI_only_2023-02-16_00-00-00/atlas_brain_609882_AIT17_1_annotated_TH_ZI_only.h5ad\")\n",
    "\n",
    "# Subset to neuronal\n",
    "merData = merData[merData.obs[\"division_id_label\"].isin([\"3 PAL-sAMY-TH-HY-MB-HB neuronal\",\"2 Subpallium GABAergic\",\"4 CBX-MOB-other neuronal\"])]"
   ]
  },
  {
   "cell_type": "code",
   "execution_count": null,
   "id": "68807846-d105-478b-b8f9-c46adf8d8dfc",
   "metadata": {},
   "outputs": [],
   "source": [
    "# Load sequencing data\n",
    "seqData = ad.read_h5ad(\"../../data/rnaseq_AIT17.2_2022-12-15_12-00-00/rnaseq/processed.U19_TH-EPI.postQC.h5ad\")"
   ]
  },
  {
   "cell_type": "markdown",
   "id": "8db105e4-6cd8-40ac-adf7-88daf140c799",
   "metadata": {
    "tags": []
   },
   "source": [
    "## Analysis functions"
   ]
  },
  {
   "cell_type": "code",
   "execution_count": 16,
   "id": "16e67b41-1657-4c07-aeed-ad994f6744b4",
   "metadata": {},
   "outputs": [],
   "source": [
    "def countTypes(annData,label):\n",
    "    # Quick function to check an AnnData object for the number of cells belonging to each of a given label\n",
    "    countTypes = annData.obs[label].unique()\n",
    "    countDF = pd.DataFrame([sum(annData.obs[label] == name) for name in countTypes], \n",
    "                             columns= [\"Count\"], index = countTypes)\n",
    "    countDF = countDF.sort_values(by = \"Count\", ascending=False)\n",
    "    return countDF\n",
    "\n",
    "def plotGenes(genes, section = '1198980080'):\n",
    "    \"\"\" Plot spatial expression of a requested list of genes for a given section of MERFISH data \"\"\"\n",
    "    \n",
    "    # Clean inputs\n",
    "    if type(genes) != list:\n",
    "        genes = [genes]\n",
    "    \n",
    "    # Functionality to call sections by name or sequentially iterate through them\n",
    "    uniqueSections = merData.obs[\"section\"].unique()\n",
    "    if section not in uniqueSections:\n",
    "        if int(section) < len(uniqueSections):\n",
    "            section = uniqueSections[int(section)]\n",
    "        else:\n",
    "            raise Exception(\"Unrecognized section number\")\n",
    "    \n",
    "    # Subset to requested section\n",
    "    merSection = merData[merData.obs[\"section\"] == section]\n",
    "    \n",
    "    # Set up plot parameters\n",
    "    nGenes = len(genes)\n",
    "    nCol = int(np.ceil(np.sqrt(nGenes))) #int(np.floor(np.sqrt(nGenes)))\n",
    "    nRow = nCol #int(np.ceil(nGenes / nCol)) #Keep square to prevent distortion\n",
    "    \n",
    "    # Make smaller if requesting lots of plots\n",
    "    if nGenes <= 4:\n",
    "        plt.figure(figsize=(nRow*7.4,nCol*4.8))\n",
    "    else:\n",
    "        plt.figure(figsize=(nRow*4.2,nCol*2.4))\n",
    "        \n",
    "    # Plot expression for each gene\n",
    "    for count, gene in enumerate(genes):\n",
    "        \n",
    "        # Set colormap\n",
    "        cnorm = merSection[:,gene].X / merSection[:,gene].X.max() # Normalize to maximal gene expression\n",
    "        color = plt.cm.viridis(cnorm)\n",
    "\n",
    "        # Plot\n",
    "        ax = plt.subplot(nRow,nCol,count+1)\n",
    "        plt.subplots_adjust(wspace=1, hspace=0.1)\n",
    "        plt.scatter(merSection.obsm[\"spatial_cirro\"][:,0],merSection.obsm[\"spatial_cirro\"][:,1], color = color, s = 2)#, s = 15, edgecolors = \"black\", linewidth = .2)\n",
    "        # plt.title(gene);\n",
    "\n",
    "        # Adjust colorbar to show actual expression levels\n",
    "        cbar = plt.colorbar()\n",
    "        cbar.ax.set_yticks(np.linspace(0,1,6))\n",
    "        cbar.ax.set_yticklabels(np.round(np.linspace(0,1,6) * merSection[:,gene].X.max(),1));\n",
    "        # plt.clim(0,6)\n",
    "        \n",
    "        plt.gca().set_aspect('equal')\n",
    "        plt.tight_layout()\n",
    "        plt.title(gene)\n",
    "        plt.axis('off')\n",
    "    \n",
    "def plotSectionClusters(subclass = \"68_CM-IAD-CL-PCN Glut\", sections = ['1198980086', '1198980092','1198980095', '1198980098'],palette = \"Spectral_r\", subset = 0):\n",
    "    \"\"\" Function to plot all clusters from a specific subclass in a given slice, with a chosen color palette.\"\"\"\n",
    "    \n",
    "    # Subset to requested slice\n",
    "    merSection = merData[merData.obs[\"section\"].isin(sections)]\n",
    "    \n",
    "    # Want to create a dictionary of each subclass contained within a given class\n",
    "    # First create unique tuples with each class and subclass pair\n",
    "    groupPairs = set(zip(merSection.obs[\"Level2_id_label\"],merSection.obs[\"cluster_label\"]))\n",
    "\n",
    "    # Then initialize a dictionary where each subclass is a key corresponding to an empty list\n",
    "    classDict = {pair[0]: [] for pair in groupPairs}\n",
    "\n",
    "    # Add each cluster to the corresponding class list\n",
    "    for pair in groupPairs:\n",
    "        classDict[pair[0]].append(pair[1])\n",
    "\n",
    "    # Further subset to top N clusters, if requested\n",
    "    if subset:\n",
    "        # Subset to only requested subclass\n",
    "        onlySubclass = merSection[merSection.obs[\"cluster_label\"].isin(classDict[subclass])]\n",
    "        # Take top N clusters from that subclass\n",
    "        toColor = list(countTypes(onlySubclass,\"cluster_label\").head(subset).index)\n",
    "    else:\n",
    "        toColor = classDict[subclass]\n",
    "\n",
    "    # Create a dictionary where each cluster corresponds to a color\n",
    "    colorDict = {}\n",
    "    colorCount = 0\n",
    "\n",
    "    # Create the appropriate colormap by blending the requested palette for the appropriate number of clusters\n",
    "    colorBlend = sns.color_palette(palette, n_colors=len(toColor))\n",
    "#     sns.palplot(colorBlend)\n",
    "\n",
    "    # Populate color dictionary\n",
    "    for pair in groupPairs:\n",
    "\n",
    "        # Assign colors to requested subclass, otherwise color black\n",
    "        if pair[1] in toColor:\n",
    "            colorDict[pair[1]] = colorBlend[colorCount]\n",
    "            # print(pair[1]) \n",
    "            colorCount += 1\n",
    "        else:\n",
    "            colorDict[pair[1]] = 'black'\n",
    "\n",
    "    # Prepare plotting\n",
    "    nSections = len(sections)\n",
    "    nCol = int(np.floor(np.sqrt(nSections)))\n",
    "    nRow = int(np.ceil(nSections / nCol))\n",
    "    \n",
    "    # Make plots smaller if lots of figures\n",
    "    if nSections <= 4:\n",
    "        plt.figure(figsize=(nRow*6.4,nCol*4.8))\n",
    "    else:\n",
    "        plt.figure(figsize=(nRow*3.2,nCol*2.4))\n",
    "            \n",
    "    # Plot each slice successively\n",
    "    for count, tissue in enumerate(sections):\n",
    "        \n",
    "        ax = plt.subplot(nRow,nCol,count+1)\n",
    "        plt.subplots_adjust(wspace=.1, hspace=.1)\n",
    "            \n",
    "        merSection = merData[merData.obs[\"section\"] == tissue]\n",
    "        for cl in merSection.obs[\"cluster_label\"].unique():\n",
    "            x = merSection[merSection.obs[\"cluster_label\"] == cl]\n",
    "            if colorDict[cl] == \"black\":\n",
    "                plt.scatter(x.obsm[\"spatial_cirro\"][:,0],x.obsm[\"spatial_cirro\"][:,1],color = colorDict[cl], s = 15, edgecolors = \"black\", linewidth = .2,zorder = 0)\n",
    "            else:\n",
    "                plt.scatter(x.obsm[\"spatial_cirro\"][:,0],x.obsm[\"spatial_cirro\"][:,1],color = colorDict[cl], s = 15, edgecolors = \"black\", linewidth = .2)\n",
    "        plt.title(\"Section#: \" + tissue)\n",
    "        plt.axis('off')\n",
    "        plt.tight_layout()\n",
    "        \n",
    "    return colorDict\n",
    "\n",
    "def plotSpatial(level = \"cluster_label\",group = \"1180 RE-Xi Nox4 Glut_3\", section = False, color = 'cyan'):\n",
    "    \"\"\" Function to plot the spatial layout of a requested group. \"\"\"\n",
    "    \n",
    "    # Check that level and group pairings match, e.g. did not ask for a cluster within subclass .obs\n",
    "    if group not in merData.obs[level].unique():\n",
    "        raise Exception(\"Requested group is not within the specified annData object .obs level.\")\n",
    "    \n",
    "    # If specific section is requested, use that. Otherwise use section with greatest number of cells from that group.\n",
    "    if section:\n",
    "        section = checkSectionNumber(merData,section)\n",
    "    else:\n",
    "        section = merData[merData.obs[level] == group].obs[\"section\"].mode()[0]\n",
    "        \n",
    "    # Subset to requested section\n",
    "    sectionData = merData[merData.obs[\"section\"] == section]\n",
    "    groupData = sectionData[sectionData.obs[level] == group]\n",
    "    \n",
    "    # Plot\n",
    "    plt.figure(dpi=120)\n",
    "    plt.scatter(sectionData.obsm[\"spatial_cirro\"][:,0],sectionData.obsm[\"spatial_cirro\"][:,1],color = 'gray', s = 15, edgecolors = \"black\", linewidth = .2,zorder = 0)\n",
    "    plt.scatter(groupData.obsm[\"spatial_cirro\"][:,0],groupData.obsm[\"spatial_cirro\"][:,1],color = color, s = 15, edgecolors = \"black\", linewidth = .2)\n",
    "    \n",
    "    plt.title(group + \": section \" + section)\n",
    "\n",
    "def plotSpatialGroups(level = \"cluster_label\",group = \"1180 RE-Xi Nox4 Glut_3\", section = 3, color = 'cyan'):\n",
    "    \"\"\" Function to plot the spatial layout of several requested groups. \"\"\"\n",
    "    \n",
    "    # If specific section is requested, use that. Otherwise use section with greatest number of cells from that group.\n",
    "    section = checkSectionNumber(merData,section)\n",
    "        \n",
    "    # Subset to requested section\n",
    "    sectionData = merData[merData.obs[\"section\"] == section]\n",
    "    \n",
    "    # Plot\n",
    "    plt.figure(dpi=120)\n",
    "    plt.scatter(sectionData.obsm[\"spatial_cirro\"][:,0],sectionData.obsm[\"spatial_cirro\"][:,1],color = 'gray', s = 15, edgecolors = \"black\", linewidth = .2,zorder = 0)\n",
    "    \n",
    "    # Plot group data\n",
    "    for name in group:\n",
    "        groupData = sectionData[sectionData.obs[level] == name]\n",
    "        plt.scatter(groupData.obsm[\"spatial_cirro\"][:,0],groupData.obsm[\"spatial_cirro\"][:,1],color = color[name], s = 15, edgecolors = \"black\", linewidth = .2)\n",
    "    \n",
    "    plt.title(\"section: \" + section)\n",
    "    \n",
    "def checkSectionNumber(annData,section):\n",
    "    \"\"\" Function to convert indexed section calls, e.g. section = 1, 2, 3 rather than ID 1198980092 \"\"\"\n",
    "    \n",
    "    uniqueSections = annData.obs[\"section\"].unique()\n",
    "    # If section call isn't within list of section names, assume it's an index and convert appropriately.\n",
    "    if section not in uniqueSections:\n",
    "        if int(section) < len(uniqueSections):\n",
    "            section = uniqueSections[int(section)]\n",
    "        else:\n",
    "            raise Exception(\"Unrecognized section number\")\n",
    "    return section\n",
    "\n",
    "def plotROCs(annData, group, geneList = \"Prkcd\", groupby = \"Level2_id_label\", density = True, xRange = 8, color = 'tab:blue'):\n",
    "    # Function to plot gene expression histograms for two clusters, and then display ROC analysis\n",
    "    # for logistics regression classification accuracy based on those genes.\n",
    "    from sklearn.metrics import roc_curve, roc_auc_score, auc, RocCurveDisplay\n",
    "    from sklearn.linear_model import LogisticRegression\n",
    "    \n",
    "    if type(geneList) is not list:\n",
    "        geneList = [geneList]\n",
    "\n",
    "    # Setup plotting parameters\n",
    "    plt.figure(figsize=(12.8,2.4*len(geneList)))\n",
    "    plt.subplot(len(geneList),2,1)\n",
    "    \n",
    "    # Subset to requested group\n",
    "    groupData = annData[annData.obs[groupby] == group]\n",
    "    nonGroupData = annData[annData.obs[groupby] != group]\n",
    "    \n",
    "    # Create plots for each gene\n",
    "    for count, gene in enumerate(geneList,1):\n",
    "        plt.subplot(len(geneList),2,(count*2 - 1))\n",
    "\n",
    "        ### Plot whole population histogram ###\n",
    "        plt.hist(nonGroupData[:,gene].X.A, bins = np.arange(0,xRange,.1), alpha = .7, color = 'black',\n",
    "                label = \"Rest of Population\", density = density)\n",
    "\n",
    "        # Plot requested subpopulations, from largest to smallest\n",
    "        plt.hist(groupData[:,gene].X.A,bins = np.arange(0,xRange,.1), edgecolor = 'black', color = color,\n",
    "                alpha = .7, label = group, density = density)\n",
    "\n",
    "        if density:\n",
    "            plt.ylim([0, 1])\n",
    "        plt.legend()\n",
    "        plt.xlabel('Log2p Expression')\n",
    "        plt.ylabel('PDF')\n",
    "        plt.title(gene)\n",
    "        plt.tight_layout()\n",
    "        \n",
    "        ### Plot ROC analysis ###\n",
    "        plt.subplot(len(geneList),2,(count*2))\n",
    "        x = annData[:,gene].X.A\n",
    "        y = annData.obs[groupby].to_numpy() == group\n",
    "\n",
    "        # Fit logstic regression model\n",
    "        clf = LogisticRegression().fit(x, y)\n",
    "        yPred = clf.decision_function(x)\n",
    "        fpr, tpr, thresholds = roc_curve(y, yPred)\n",
    "        roc_auc = auc(fpr, tpr)\n",
    "    \n",
    "        # Display ROC curves\n",
    "        plt.plot(fpr,tpr, color = color, label = \"AUC = \" + str(np.round(roc_auc,3)))\n",
    "        plt.legend(loc = \"lower right\")\n",
    "        plt.xlabel('False Positive Rate')\n",
    "        plt.ylabel('True Positive Rate')\n",
    "        plt.title(\"ROC\")\n",
    "        plt.tight_layout()"
   ]
  },
  {
   "cell_type": "markdown",
   "id": "8235605c-7c37-4e48-8d70-3bcae4c0bfb0",
   "metadata": {
    "jp-MarkdownHeadingCollapsed": true,
    "tags": []
   },
   "source": [
    "## Demonstrate spatial layout"
   ]
  },
  {
   "cell_type": "code",
   "execution_count": 7,
   "id": "7abbc654-3823-4a2f-8cb6-febf8e1d03e8",
   "metadata": {},
   "outputs": [],
   "source": [
    "anteriorNuclei = [\"1095 AD Serpinb7 Glut\", \"1096 AD Serpinb7 Glut\", # Anterodorsal nucleus\n",
    "                  \"1097 AV Col27a1 Glut\",\"1098 AV Col27a1 Glut\", # Anteroventral nucleus\n",
    "                  \"1169 TH Prkcd Grin2c Glut_9\", \"1171 TH Prkcd Grin2c Glut_9\", # Anteromedial nucleus\n",
    "                 ]\n",
    "\n",
    "# Plot each nucleus\n",
    "colorDict = {\"1095 AD Serpinb7 Glut\":\"tab:blue\",\n",
    "             \"1096 AD Serpinb7 Glut\":\"tab:blue\",\n",
    "             \"1097 AV Col27a1 Glut\":\"tab:green\",\n",
    "             \"1098 AV Col27a1 Glut\":\"tab:green\",\n",
    "             \"1169 TH Prkcd Grin2c Glut_9\":\"tab:orange\",\n",
    "             \"1171 TH Prkcd Grin2c Glut_9\":\"tab:orange\"}\n",
    "plotSpatialGroups(level = \"cluster_label\",group = anteriorNuclei, color = colorDict)\n",
    "plt.title(\"Subclass\")\n",
    "\n",
    "# Plot each transcriptomic type\n",
    "colorDict = {\"1095 AD Serpinb7 Glut\":\"tab:pink\",\n",
    "             \"1096 AD Serpinb7 Glut\":\"tab:blue\",\n",
    "             \"1097 AV Col27a1 Glut\":\"tab:purple\",\n",
    "             \"1098 AV Col27a1 Glut\":\"tab:green\",\n",
    "             \"1169 TH Prkcd Grin2c Glut_9\":\"tab:cyan\",\n",
    "             \"1171 TH Prkcd Grin2c Glut_9\":\"tab:orange\"}\n",
    "plotSpatialGroups(level = \"cluster_label\",group = anteriorNuclei, color = colorDict)\n",
    "plt.title(\"Cluster\")"
   ]
  },
  {
   "cell_type": "markdown",
   "id": "7c1c1157-dda3-4777-9ebe-704b32ae55c1",
   "metadata": {
    "tags": []
   },
   "source": [
    "## Look for differentially expressed genes"
   ]
  },
  {
   "cell_type": "markdown",
   "id": "caf64b57-ac2a-4ac8-9d5d-127d6b1653d6",
   "metadata": {
    "tags": []
   },
   "source": [
    "### Subclass [Level2_id_label] level discrimination"
   ]
  },
  {
   "cell_type": "code",
   "execution_count": 10,
   "id": "ed030e47-c797-4518-aaf9-405724c15804",
   "metadata": {},
   "outputs": [],
   "source": [
    "# Grab sequencing data from cells belonging to clusters that map to anterior thalamic nuclei in MERFISH\n",
    "anteriorNuclei = [\"1095 AD Serpinb7 Glut\", \"1096 AD Serpinb7 Glut\", # Anterodorsal nucleus\n",
    "                  \"1097 AV Col27a1 Glut\",\"1098 AV Col27a1 Glut\", # Anteroventral nucleus\n",
    "                  \"1169 TH Prkcd Grin2c Glut_9\", \"1171 TH Prkcd Grin2c Glut_9\", # Anteromedial nucleus\n",
    "                 ]\n",
    "antSeqData = seqData[seqData.obs[\"cluster_label\"].isin(anteriorNuclei)]\n",
    "\n",
    "# Compare subclass against all\n",
    "sc.tl.rank_genes_groups(antSeqData,groupby=\"Level2_id_label\",reference = \"rest\", pts = True)\n",
    "sc.pl.rank_genes_groups(antSeqData, n_genes=10, fontsize = 16, sharey=False)"
   ]
  },
  {
   "cell_type": "code",
   "execution_count": 11,
   "id": "511363b8-b557-4512-9af2-71fed1f00ded",
   "metadata": {},
   "outputs": [],
   "source": [
    "# Compare subclasses pairwise\n",
    "sc.tl.rank_genes_groups(antSeqData,groupby=\"Level2_id_label\",reference = \"65_AD Serpinb7 Glut\", pts = True, key_added = \"AD ref\")\n",
    "sc.pl.rank_genes_groups(antSeqData, n_genes=10, fontsize = 16, sharey=False, key = \"AD ref\")\n",
    "\n",
    "sc.tl.rank_genes_groups(antSeqData,groupby=\"Level2_id_label\",reference = \"66_AV Col27a1 Glut\", pts = True, key_added = \"AV ref\")\n",
    "sc.pl.rank_genes_groups(antSeqData, n_genes=10, fontsize = 16, sharey=False, key = \"AV ref\")\n",
    "\n",
    "sc.tl.rank_genes_groups(antSeqData,groupby=\"Level2_id_label\",reference = \"69_TH Prkcd Grin2c Glut\", pts = True, key_added = \"AM ref\")\n",
    "sc.pl.rank_genes_groups(antSeqData, n_genes=10, fontsize = 16, sharey=False, key = \"AM ref\")"
   ]
  },
  {
   "cell_type": "markdown",
   "id": "2d7e11b1-17fd-41c8-acb0-a7b79adea1eb",
   "metadata": {},
   "source": [
    "Anterior dorsal nucleus is relatively easy to discriminate, however anteroventral and anteromedial nucleus are more difficult. Some genes which putatively separate the two subclasses appear to have failed within the MERFISH panel (e.g. Npsr1, Me3). Genes that distinguish anteromedial from anteroventral tend to be even more highly expressed in other parts of the thalamus (e.g. Ramp3, Zcchc12). Several genes that are not present within the MERFISH dataset can be crossreferenced with Allen ISH databases, e.g. anteroventral targeting Itga4 (\n",
    "https://mouse.brain-map.org/experiment/show/77924520) and anteromedial targeting Foxp1 (https://mouse.brain-map.org/experiment/show/69288998)"
   ]
  },
  {
   "cell_type": "code",
   "execution_count": 17,
   "id": "b8e4c1b6-161e-42e1-8dfa-7c4b864c6f5e",
   "metadata": {},
   "outputs": [],
   "source": [
    "# Several of the top genes\n",
    "potentialHits = [\"C1ql2\",\"Npsr1\",\"Hcn1\",\"Ramp3\",\"Cntnap5c\",\"Calb1\",\"Cnih3\",\"Tox\",\"Me3\",\"Itga4\",\"Zcchc12\",\"Foxp1\",\"Cbln1\",\"Pcdh9\"]\n",
    "inMerfish = []\n",
    "for gene in potentialHits:\n",
    "    if gene in merData.var_names:\n",
    "        inMerfish.append(gene)\n",
    "    \n",
    "plotGenes(inMerfish,section = 3)"
   ]
  },
  {
   "cell_type": "code",
   "execution_count": 12,
   "id": "42f71dfd-77fc-470b-9c8f-4ce1eeb37037",
   "metadata": {},
   "outputs": [],
   "source": [
    "# Look at discriminability of genes within sequencing data\n",
    "gene = [\"C1ql2\",\"Itga4\",\"Foxp1\"]\n",
    "xRange = 12\n",
    "plotROCs(antSeqData,\"65_AD Serpinb7 Glut\",gene,xRange = xRange, color = \"tab:blue\")\n",
    "plotROCs(antSeqData,\"66_AV Col27a1 Glut\",gene, xRange = xRange, color = \"tab:orange\")\n",
    "plotROCs(antSeqData,\"69_TH Prkcd Grin2c Glut\",gene, xRange = xRange, color = \"tab:green\")"
   ]
  },
  {
   "cell_type": "markdown",
   "id": "1487e285-1597-4be6-9829-718cd4ce5ca6",
   "metadata": {
    "tags": []
   },
   "source": [
    "### Cluster [cluster_label] level discrimination"
   ]
  },
  {
   "cell_type": "code",
   "execution_count": 7,
   "id": "f528e928-7bbf-4299-bf72-4416c7d18827",
   "metadata": {},
   "outputs": [],
   "source": [
    "# Look at cluster specific DEGs\n",
    "\n",
    "## Start with AM\n",
    "amNuclei = [\"1169 TH Prkcd Grin2c Glut_9\", \"1171 TH Prkcd Grin2c Glut_9\"] # Anteromedial nucleus\n",
    "amSeqData = seqData[seqData.obs[\"cluster_label\"].isin(amNuclei)]\n",
    "\n",
    "# Compare clusters pairwise\n",
    "sc.tl.rank_genes_groups(amSeqData,groupby=\"cluster_label\",reference = \"1171 TH Prkcd Grin2c Glut_9\", pts = True)\n",
    "sc.pl.rank_genes_groups(amSeqData, n_genes=10, fontsize = 16, sharey=False)\n",
    "\n",
    "## Next look at AV\n",
    "avNuclei = [\"1097 AV Col27a1 Glut\",\"1098 AV Col27a1 Glut\"] # Anteromedial nucleus\n",
    "avSeqData = seqData[seqData.obs[\"cluster_label\"].isin(avNuclei)]\n",
    "\n",
    "# Compare clusters pairwise\n",
    "sc.tl.rank_genes_groups(avSeqData,groupby=\"cluster_label\",reference = \"1098 AV Col27a1 Glut\", pts = True)\n",
    "sc.pl.rank_genes_groups(avSeqData, n_genes=10, fontsize = 16, sharey=False)\n",
    "\n",
    "## Finally look at AD\n",
    "adNuclei = [\"1095 AD Serpinb7 Glut\", \"1096 AD Serpinb7 Glut\"] # Anteromedial nucleus\n",
    "adSeqData = seqData[seqData.obs[\"cluster_label\"].isin(adNuclei)]\n",
    "\n",
    "# Compare clusters pairwise\n",
    "sc.tl.rank_genes_groups(adSeqData,groupby=\"cluster_label\",reference = \"1096 AD Serpinb7 Glut\", pts = True)\n",
    "sc.pl.rank_genes_groups(adSeqData, n_genes=10, fontsize = 16, sharey=False)"
   ]
  },
  {
   "cell_type": "code",
   "execution_count": 18,
   "id": "d2920e79-bcc2-44d4-a555-aee98c6626f8",
   "metadata": {},
   "outputs": [],
   "source": [
    "# Many of the top genes lack clear borders defining different clusters within MERFISH data\n",
    "potentialHits = [\"Scn4b\",\"Nkain3\",\"Shroom3\",\"Dpp10\",\"Lypd1\",\"Atp2b1\",\"Sorcs1\",\"Unc5d\",\"Grm1\",\"Unc5d\",\"Kcnip3\",\"Pcp4\",\n",
    "                 \"Htr1b\",\"Adarb2\",\"Cntnap2\",\"Ramp3\",\"Sorcs3\",\"Tmem132c\",\"Rgs4\",\"Zcchc12\",\"Necab1\",\"Timp3\"]\n",
    "inMerfish = []\n",
    "for gene in potentialHits:\n",
    "    if gene in merData.var_names:\n",
    "        inMerfish.append(gene)\n",
    "    \n",
    "plotGenes(inMerfish,section = 3)"
   ]
  },
  {
   "cell_type": "code",
   "execution_count": 21,
   "id": "b31abc8d-25f8-427f-bce4-c2549a5650a9",
   "metadata": {
    "tags": []
   },
   "outputs": [],
   "source": [
    "# Look at discriminability of genes within sequencing data\n",
    "gene = [\"Scn4b\",\"Grm1\",\"Atp2b1\"]\n",
    "xRange = 12\n",
    "plotROCs(adSeqData,\"1096 AD Serpinb7 Glut\",gene, groupby = \"cluster_label\", xRange = xRange, color = \"tab:blue\")\n",
    "plotROCs(avSeqData,\"1097 AV Col27a1 Glut\",gene, groupby = \"cluster_label\", xRange = xRange, color = \"tab:orange\")\n",
    "plotROCs(amSeqData,\"1169 TH Prkcd Grin2c Glut_9\",gene,groupby = \"cluster_label\",xRange = xRange, color = \"tab:green\")"
   ]
  },
  {
   "cell_type": "markdown",
   "id": "b6af0d66-f977-4058-a7d6-c2c212cef99d",
   "metadata": {},
   "source": [
    "Final List<br><br>\n",
    "AD: C1ql2,    1096: Scn4b <br>\n",
    "AV: Itga4,    1097: Grm1, Atp2b1<br>\n",
    "AM: Foxp1,    1169: Grm1, Atp2b1<br>\n",
    "Cbln1: AV + AM"
   ]
  },
  {
   "cell_type": "markdown",
   "id": "17a3c521-2b38-4ba7-af23-c7fbc31cf172",
   "metadata": {
    "tags": []
   },
   "source": [
    "## Other interesting expression patterns"
   ]
  },
  {
   "cell_type": "code",
   "execution_count": 19,
   "id": "d8811cbd-5ed9-4ac2-be24-1835ff22278f",
   "metadata": {},
   "outputs": [],
   "source": [
    "# Other interesting expression patterns\n",
    "gene = [\"Cbln1\",\"Stum\",\"Tox3\",\"Tox\",\"Cnih3\",\"Syndig1l\"]\n",
    "plotGenes(gene)"
   ]
  },
  {
   "cell_type": "markdown",
   "id": "c251503b-2ac5-498f-a68d-5697306ce751",
   "metadata": {},
   "source": [
    "AM is the only anterior thalamic nucleus that belongs to the Prkcd group rather than its own subclass. Look for DEGs between AM and the rest of Prkcd"
   ]
  },
  {
   "cell_type": "code",
   "execution_count": 7,
   "id": "63dcef89-df18-4f7e-a082-55dfcc9887ee",
   "metadata": {},
   "outputs": [],
   "source": [
    "amClusters = [\"1169 TH Prkcd Grin2c Glut_9\", \"1171 TH Prkcd Grin2c Glut_9\"]\n",
    "prkcdSeqData = seqData[seqData.obs[\"Level2_id_label\"] == \"69_TH Prkcd Grin2c Glut\"]\n",
    "prkcdSeqData.obs[\"AM\"] = pd.Categorical(prkcdSeqData.obs[\"cluster_label\"].isin(amClusters))\n",
    "\n",
    "sc.tl.rank_genes_groups(prkcdSeqData,groupby=\"AM\",reference = \"rest\", pts = True)\n",
    "sc.pl.rank_genes_groups(prkcdSeqData, n_genes=10, fontsize = 16, sharey=False)"
   ]
  },
  {
   "cell_type": "code",
   "execution_count": 11,
   "id": "d104b0c3-1428-432f-b5b0-f24563075eb4",
   "metadata": {},
   "outputs": [],
   "source": [
    "# Plot ATN prkcd groups\n",
    "section = 3\n",
    "\n",
    "prkcdColorDict = plotSectionClusters(subclass = \"69_TH Prkcd Grin2c Glut\",sections = [checkSectionNumber(merData,section)])\n",
    "\n",
    "prkcdGroups = [\"1132 TH Prkcd Grin2c Glut_10\", \"1137 TH Prkcd Grin2c Glut_12\", \"1158 TH Prkcd Grin2c Glut_6\", \"1149 TH Prkcd Grin2c Glut_4\"]\n",
    "for group in prkcdGroups:\n",
    "    plotSpatial(group = group,section = section, color = prkcdColorDict[group])"
   ]
  },
  {
   "cell_type": "code",
   "execution_count": null,
   "id": "d4a52360-e9a6-49eb-9768-73bc2ae3fbb0",
   "metadata": {},
   "outputs": [],
   "source": [
    "## Code to scrape scanpy rank_gene_groups output for genes present within the MERFISH dataset\n",
    "\n",
    "# x = []\n",
    "# for i in range(50):\n",
    "#     if antSeqData.uns[\"rank_genes_groups\"][\"names\"]['69_TH Prkcd Grin2c Glut'][i] in merData.var_names:\n",
    "#         x.append(antSeqData.uns[\"rank_genes_groups\"][\"names\"]['69_TH Prkcd Grin2c Glut'][i])"
   ]
  }
 ],
 "metadata": {
  "kernelspec": {
   "display_name": "Python 3",
   "language": "python",
   "name": "python3"
  },
  "language_info": {
   "codemirror_mode": {
    "name": "ipython",
    "version": 3
   },
   "file_extension": ".py",
   "mimetype": "text/x-python",
   "name": "python",
   "nbconvert_exporter": "python",
   "pygments_lexer": "ipython3",
   "version": "3.9.12"
  }
 },
 "nbformat": 4,
 "nbformat_minor": 5
}
