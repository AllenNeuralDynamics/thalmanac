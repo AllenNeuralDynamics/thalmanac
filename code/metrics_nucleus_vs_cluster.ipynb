{
 "cells": [
  {
   "cell_type": "code",
   "execution_count": 1,
   "id": "0cd597e2",
   "metadata": {},
   "outputs": [],
   "source": [
    "import pandas as pd\n",
    "import matplotlib.pyplot as plt\n",
    "import seaborn as sns\n",
    "import numpy as np\n",
    "\n",
    "from thalamus_merfish_analysis import ccf_plots as cplot\n",
    "from thalamus_merfish_analysis import ccf_images as cimg\n",
    "from thalamus_merfish_analysis import abc_load as abc\n",
    "\n",
    "get_ipython().run_line_magic('matplotlib', 'inline') "
   ]
  },
  {
   "cell_type": "markdown",
   "id": "2c770388",
   "metadata": {},
   "source": [
    "## Load brain3 data"
   ]
  },
  {
   "cell_type": "code",
   "execution_count": 2,
   "id": "09bb79ea",
   "metadata": {},
   "outputs": [],
   "source": [
    "obs = abc.get_combined_metadata(realigned=True)\n",
    "obs = abc.label_thalamus_spatial_subset(obs, realigned=True, filter_cells=True)\n",
    "\n",
    "ccf_label = 'parcellation_substructure_realigned'\n",
    "nn_classes = [\n",
    "    \"31 OPC-Oligo\",\n",
    "    \"30 Astro-Epen\",\n",
    "    \"33 Vascular\",\n",
    "    \"34 Immune\",\n",
    "]\n",
    "# subset just the neurons\n",
    "obs_neurons = obs[~obs['class'].isin(nn_classes)]"
   ]
  },
  {
   "cell_type": "code",
   "execution_count": 5,
   "id": "b55b8e85",
   "metadata": {},
   "outputs": [],
   "source": [
    "th_names = abc.get_thalamus_substructure_names()\n",
    "th_subregion_names = list(set(th_names).difference(['TH-unassigned']))\n"
   ]
  },
  {
   "cell_type": "code",
   "execution_count": 81,
   "id": "5bf0618c-8837-4247-860b-a630aa259105",
   "metadata": {
    "tags": []
   },
   "outputs": [],
   "source": [
    "# define celltype lists based on strict spatial subset\n",
    "# obs_th_neurons = obs_neurons[obs_neurons[ccf_label].isin(th_names)]\n",
    "obs_th_neurons = obs_neurons[obs_neurons['parcellation_substructure_realigned'].isin(th_names) |\n",
    "                             obs_neurons['parcellation_substructure'].isin(th_names)]\n",
    "th_celltypes = dict()\n",
    "th_celltypes['subclass'] = obs_th_neurons['subclass'].value_counts().loc[lambda x: x>100].index\n",
    "print(f\"{len(th_celltypes['subclass'])=}\")\n",
    "\n",
    "th_celltypes['supertype'] = obs_th_neurons['supertype'].value_counts().loc[lambda x: x>20].index\n",
    "print(f\"{len(th_celltypes['supertype'])=}\")\n",
    "\n",
    "th_celltypes['cluster'] = obs_th_neurons['cluster'].value_counts().loc[lambda x: x>10].index\n",
    "print(f\"{len(th_celltypes['cluster'])=}\")"
   ]
  },
  {
   "cell_type": "markdown",
   "metadata": {},
   "source": [
    "## matching metrics"
   ]
  },
  {
   "cell_type": "code",
   "execution_count": 44,
   "metadata": {},
   "outputs": [],
   "source": [
    "from sklearn.metrics import f1_score, precision_score, recall_score\n",
    "\n",
    "def get_nucleus_celltype_match(obs, ccf_label, ccf_name, celltype_label, celltype_name):\n",
    "    nucleus = obs[ccf_label] == ccf_name\n",
    "    celltype = obs[celltype_label] == celltype_name\n",
    "    record = {\n",
    "        'nucleus_precision': precision_score(nucleus, celltype),\n",
    "        'nucleus_coverage': recall_score(nucleus, celltype),\n",
    "        'nucleus_f1': f1_score(nucleus, celltype),\n",
    "    }\n",
    "    return record\n",
    "    \n",
    "def get_nucleus_celltype_metrics(obs, ccf_label, celltype_label, \n",
    "                                 ccf_list=None, celltype_list=None):\n",
    "    if celltype_list is None:\n",
    "        celltype_list = obs[celltype_label].unique()\n",
    "    # else: obs = obs[obs[celltype_label].isin(celltype_list)]\n",
    "    if ccf_list is None:\n",
    "        ccf_list = obs[ccf_label].unique()\n",
    "    # else: obs = obs[obs[ccf_label].isin(ccf_list)]\n",
    "    # could subset like this, but need to track the negatives...\n",
    "    \n",
    "    records = []\n",
    "    for celltype_name in celltype_list:\n",
    "        celltype = obs[celltype_label] == celltype_name\n",
    "        for ccf_name in ccf_list:\n",
    "            nucleus = obs[ccf_label] == ccf_name\n",
    "            tp = (nucleus & celltype).sum()\n",
    "            fp = (~nucleus & celltype).sum()\n",
    "            fn = (nucleus & ~celltype).sum()\n",
    "            recall = tp/(tp+fn)\n",
    "            precision = tp/(tp+fp)\n",
    "            jaccard = tp/(tp+fp+fn)\n",
    "            f1 = 2*recall*precision/(recall+precision)\n",
    "            if precision>0.5 or recall>0.5 or f1>0.4:\n",
    "                record = {\n",
    "                    'nucleus': ccf_name,\n",
    "                    'celltype': celltype_name,\n",
    "                    'nucleus_precision': precision,\n",
    "                    'nucleus_recall': recall,\n",
    "                    'nucleus_f1': f1,\n",
    "                    'jaccard':jaccard\n",
    "                }\n",
    "                records.append(record)\n",
    "    return pd.DataFrame.from_records(records)"
   ]
  },
  {
   "cell_type": "code",
   "execution_count": 67,
   "metadata": {},
   "outputs": [],
   "source": [
    "subclass_df = get_nucleus_celltype_metrics(obs_neurons, ccf_label, 'subclass', \n",
    "                                           ccf_list=th_subregion_names,\n",
    "                                           celltype_list=th_celltypes['subclass'])"
   ]
  },
  {
   "cell_type": "code",
   "execution_count": 68,
   "metadata": {},
   "outputs": [],
   "source": [
    "subclass_set = subclass_df.query('nucleus_precision>0.6 & nucleus_recall>0.15')\n",
    "subclass_set.sort_values('nucleus_f1', ascending=False)"
   ]
  },
  {
   "cell_type": "code",
   "execution_count": 61,
   "metadata": {},
   "outputs": [],
   "source": [
    "subclass_region_names = set(subclass_set['nucleus']).difference(['LGd-sh'])\n",
    "nonsubclass_region_names = set(th_subregion_names).difference(subclass_region_names)"
   ]
  },
  {
   "cell_type": "code",
   "execution_count": 69,
   "metadata": {},
   "outputs": [],
   "source": [
    "supertype_df = get_nucleus_celltype_metrics(obs_neurons, ccf_label, 'supertype', \n",
    "                                           ccf_list=nonsubclass_region_names,\n",
    "                                           celltype_list=th_celltypes['supertype'])"
   ]
  },
  {
   "cell_type": "code",
   "execution_count": 70,
   "metadata": {},
   "outputs": [],
   "source": [
    "supertype_set = supertype_df.query('nucleus_precision>0.6 & nucleus_recall>0.15')\n",
    "supertype_set.sort_values('nucleus_f1', ascending=False)"
   ]
  },
  {
   "cell_type": "code",
   "execution_count": 71,
   "metadata": {},
   "outputs": [],
   "source": [
    "cluster_df = get_nucleus_celltype_metrics(obs_neurons, ccf_label, 'cluster', \n",
    "                                           ccf_list=nonsubclass_region_names,\n",
    "                                           celltype_list=th_celltypes['cluster'])"
   ]
  },
  {
   "cell_type": "code",
   "execution_count": 72,
   "metadata": {},
   "outputs": [],
   "source": [
    "cluster_set = cluster_df.query('nucleus_precision>0.6 & nucleus_recall>0.1')\n",
    "cluster_set.sort_values('nucleus_f1', ascending=False)"
   ]
  },
  {
   "cell_type": "markdown",
   "metadata": {},
   "source": [
    "## original alignment"
   ]
  },
  {
   "cell_type": "code",
   "execution_count": 82,
   "metadata": {},
   "outputs": [],
   "source": [
    "ccf_label = 'parcellation_substructure'"
   ]
  },
  {
   "cell_type": "code",
   "execution_count": 83,
   "metadata": {},
   "outputs": [],
   "source": [
    "subclass_df = get_nucleus_celltype_metrics(obs_neurons, ccf_label, 'subclass', \n",
    "                                           ccf_list=th_subregion_names,\n",
    "                                           celltype_list=th_celltypes['subclass'])"
   ]
  },
  {
   "cell_type": "code",
   "execution_count": 84,
   "metadata": {},
   "outputs": [],
   "source": [
    "subclass_set = subclass_df.query('nucleus_precision>0.6 & nucleus_recall>0.15')\n",
    "subclass_set.sort_values('nucleus_f1', ascending=False)"
   ]
  },
  {
   "cell_type": "code",
   "execution_count": 85,
   "metadata": {},
   "outputs": [],
   "source": [
    "subclass_region_names = set(subclass_set['nucleus']).difference(['LGd-sh'])\n",
    "nonsubclass_region_names = set(th_subregion_names).difference(subclass_region_names)"
   ]
  },
  {
   "cell_type": "code",
   "execution_count": 86,
   "metadata": {},
   "outputs": [],
   "source": [
    "supertype_df = get_nucleus_celltype_metrics(obs_neurons, ccf_label, 'supertype', \n",
    "                                           ccf_list=nonsubclass_region_names,\n",
    "                                           celltype_list=th_celltypes['supertype'])"
   ]
  },
  {
   "cell_type": "code",
   "execution_count": 87,
   "metadata": {},
   "outputs": [],
   "source": [
    "supertype_set = supertype_df.query('nucleus_precision>0.6 & nucleus_recall>0.15')\n",
    "supertype_set.sort_values('nucleus_f1', ascending=False)"
   ]
  },
  {
   "cell_type": "code",
   "execution_count": 88,
   "metadata": {},
   "outputs": [],
   "source": [
    "cluster_df = get_nucleus_celltype_metrics(obs_neurons, ccf_label, 'cluster', \n",
    "                                           ccf_list=nonsubclass_region_names,\n",
    "                                           celltype_list=th_celltypes['cluster'])"
   ]
  },
  {
   "cell_type": "code",
   "execution_count": 89,
   "metadata": {},
   "outputs": [],
   "source": [
    "cluster_set = cluster_df.query('nucleus_precision>0.6 & nucleus_recall>0.1')\n",
    "cluster_set.sort_values('nucleus_f1', ascending=False)"
   ]
  },
  {
   "cell_type": "markdown",
   "metadata": {},
   "source": []
  }
 ],
 "metadata": {
  "kernelspec": {
   "display_name": "base",
   "language": "python",
   "name": "python3"
  },
  "language_info": {
   "codemirror_mode": {
    "name": "ipython",
    "version": 3
   },
   "file_extension": ".py",
   "mimetype": "text/x-python",
   "name": "python",
   "nbconvert_exporter": "python",
   "pygments_lexer": "ipython3",
   "version": "3.9.12"
  },
  "orig_nbformat": 4,
  "vscode": {
   "interpreter": {
    "hash": "d4d1e4263499bec80672ea0156c357c1ee493ec2b1c70f0acce89fc37c4a6abe"
   }
  }
 },
 "nbformat": 4,
 "nbformat_minor": 2
}
