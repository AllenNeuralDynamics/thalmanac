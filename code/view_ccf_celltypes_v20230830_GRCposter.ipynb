{
 "cells": [
  {
   "cell_type": "code",
   "execution_count": 1,
   "id": "36ae7a0d",
   "metadata": {
    "tags": []
   },
   "outputs": [],
   "source": [
    "%load_ext autoreload\n",
    "%autoreload 2"
   ]
  },
  {
   "cell_type": "code",
   "execution_count": 2,
   "id": "f14afdc8",
   "metadata": {
    "tags": []
   },
   "outputs": [],
   "source": [
    "import pandas as pd\n",
    "import matplotlib.pyplot as plt\n",
    "import seaborn as sns\n",
    "import numpy as np\n",
    "\n",
    "from thalamus_merfish_analysis import ccf_plots as cplots\n",
    "from thalamus_merfish_analysis import ccf_images as cimg\n",
    "from thalamus_merfish_analysis import abc_load as abc\n",
    "get_ipython().run_line_magic('matplotlib', 'inline') "
   ]
  },
  {
   "cell_type": "markdown",
   "id": "2c770388",
   "metadata": {},
   "source": [
    "# Load brain3 data"
   ]
  },
  {
   "cell_type": "code",
   "execution_count": 3,
   "id": "e081cde8",
   "metadata": {
    "tags": []
   },
   "outputs": [],
   "source": [
    "# load all cells in the brain - realigned just loads faster version here\n",
    "obs = abc.get_combined_metadata(realigned=True, version=\"20230830\", drop_unused=False)\n",
    "obs.columns"
   ]
  },
  {
   "cell_type": "markdown",
   "id": "0c41f02c-28c8-4aac-96a5-000473020e14",
   "metadata": {},
   "source": [
    "## load CCF structures"
   ]
  },
  {
   "cell_type": "code",
   "execution_count": 4,
   "id": "5e00df3f",
   "metadata": {
    "tags": []
   },
   "outputs": [],
   "source": [
    "realigned=False\n",
    "ccf_images = abc.get_ccf_labels_image(resampled=True, realigned=realigned)\n",
    "if realigned:\n",
    "    ccf_label = 'parcellation_substructure_realigned'\n",
    "    coords = 'section'\n",
    "else:\n",
    "    ccf_label = 'parcellation_substructure'\n",
    "    coords = 'reconstructed'"
   ]
  },
  {
   "cell_type": "markdown",
   "id": "c3a75574",
   "metadata": {},
   "source": [
    "## Preprocessing"
   ]
  },
  {
   "cell_type": "markdown",
   "id": "469c9e7c-528d-4162-9270-9e836536f3cd",
   "metadata": {},
   "source": [
    "### Subset to thalamus & neurons"
   ]
  },
  {
   "cell_type": "code",
   "execution_count": 5,
   "id": "f0ffe163-1d9e-4b09-86ba-5668be283341",
   "metadata": {
    "tags": []
   },
   "outputs": [],
   "source": [
    "# get thalamus CCF substructure names\n",
    "th_names = abc.get_thalamus_substructure_names()\n",
    "th_subregion_names = list(set(th_names).difference(['TH-unassigned']))"
   ]
  },
  {
   "cell_type": "code",
   "execution_count": 6,
   "id": "be5fe068-86a8-4ad5-8924-ec4acb408bd1",
   "metadata": {
    "tags": []
   },
   "outputs": [],
   "source": [
    "# remove non-neuronal and some other outlier non-thalamus types\n",
    "obs_neurons = abc.filter_by_class_thalamus(obs, filter_midbrain=False)"
   ]
  },
  {
   "cell_type": "code",
   "execution_count": 7,
   "id": "b1308a7b-85ec-49c1-97a8-7766704aad58",
   "metadata": {
    "tags": []
   },
   "outputs": [],
   "source": [
    "# filter to thalamus boundaries (add a buffer here if wanted)\n",
    "filter_buffer = 0  # 5\n",
    "obs_th_neurons = abc.filter_by_thalamus_coords(obs_neurons, \n",
    "                                               realigned=realigned, \n",
    "                                               buffer=filter_buffer)\n",
    "obs_th_strict = obs_th_neurons"
   ]
  },
  {
   "cell_type": "markdown",
   "id": "95b74e38-eabd-4a2c-a9af-79f10ebce848",
   "metadata": {},
   "source": [
    "### Set TH sections"
   ]
  },
  {
   "cell_type": "code",
   "execution_count": 8,
   "id": "6dd38563-ca7d-48f8-8f79-ec6c3ca7fba9",
   "metadata": {
    "tags": []
   },
   "outputs": [],
   "source": [
    "section_col = 'z_section'\n",
    "sections_all = sorted(obs_th_neurons[section_col].unique())"
   ]
  },
  {
   "cell_type": "code",
   "execution_count": 9,
   "id": "8308eea4-ebe1-4435-a11a-5da2fdf0c237",
   "metadata": {
    "tags": []
   },
   "outputs": [],
   "source": [
    "# 3 sections that representatively span the AP axis of the thalamus\n",
    "sections_GRC = [6.4, 7.2, 8.0] # 7.8 - dropped due to layout contraints on the poster"
   ]
  },
  {
   "cell_type": "markdown",
   "id": "0e0349f4-07d9-40ee-b8ea-9941e5ca7d0d",
   "metadata": {},
   "source": [
    "### Precalculate CCF boundaries"
   ]
  },
  {
   "cell_type": "code",
   "execution_count": 10,
   "id": "a886fcaf-3794-4153-a468-d70169ffb8b4",
   "metadata": {
    "tags": []
   },
   "outputs": [],
   "source": [
    "sections_int = np.rint(np.array(sections_all)/0.2).astype(int)\n",
    "ccf_boundaries = cimg.sectionwise_label_erosion(ccf_images, distance_px=1, \n",
    "                                                fill_val=0, return_edges=True, \n",
    "                                                section_list=sections_int\n",
    "                                                )\n",
    "# can skip and def as none to calculate on the fly\n",
    "# ccf_boundaries = None"
   ]
  },
  {
   "cell_type": "markdown",
   "id": "eea55a53-fea6-4d8e-be5c-9fd80fe34836",
   "metadata": {
    "tags": []
   },
   "source": [
    "# View CCF Structures"
   ]
  },
  {
   "cell_type": "markdown",
   "id": "937c763a-4585-4887-bca8-25401ce26504",
   "metadata": {
    "tags": []
   },
   "source": [
    "## View CCF as in ARA\n",
    "\n",
    "I want to be able to generate the view you get from the ARA, but subset to just the thalamus.\n",
    "\n",
    "\n",
    "TODO\n",
    "1. Confirm hex colors from ABC atlas metadata (used Illustratoyr eyedropper of ARA screenshot)\n",
    "2. Add Allen Reference Atlas labels to plot on top of the centroid(?) of the nucleus\n",
    "3. Use different salmon shades for the appropriate nuclei, as done in the actual ARA images"
   ]
  },
  {
   "cell_type": "code",
   "execution_count": 12,
   "id": "b9d60be1-fe69-4373-85b5-2a0a9fe6be39",
   "metadata": {
    "scrolled": true,
    "tags": []
   },
   "outputs": [],
   "source": [
    "ara_figs = cplots.plot_ccf_overlay(obs_th_neurons.iloc[[],:], # no foreground cells; just the ccf shapes\n",
    "                                    ccf_images, sections=sections_GRC, point_hue=ccf_label, \n",
    "                                    # highlight='all', # not currently implemented\n",
    "                                    legend='ccf',\n",
    "                                    face_palette=None,\n",
    "                                    edge_color='black',\n",
    "                                    section_col=section_col,\n",
    "                                    x_col = 'x_'+coords,\n",
    "                                    y_col = 'y_'+coords,\n",
    "                                    min_section_count=0, \n",
    "                                    boundary_img=ccf_boundaries);\n",
    "# save as pdfs\n",
    "for i, fig in enumerate(ara_figs):\n",
    "    sec = int(sections_GRC[i]*10)\n",
    "    fig.savefig(f'/results/ccf_ara_z{sec}.pdf', transparent=True, \n",
    "                bbox_inches='tight')"
   ]
  },
  {
   "cell_type": "markdown",
   "id": "564095e5",
   "metadata": {},
   "source": [
    "## view taxonomy labels over CCF"
   ]
  },
  {
   "cell_type": "markdown",
   "id": "8ce10499-9078-45c6-a8d6-096613653048",
   "metadata": {},
   "source": [
    "# View Cell Types + CCF Overlay"
   ]
  },
  {
   "cell_type": "markdown",
   "id": "28a2a844",
   "metadata": {},
   "source": [
    "## Select thalamus celltype subsets"
   ]
  },
  {
   "cell_type": "code",
   "execution_count": 13,
   "id": "73fd778e",
   "metadata": {
    "tags": []
   },
   "outputs": [],
   "source": [
    "subclasses_all = obs_th_strict['subclass'].value_counts().loc[lambda x: x>100].index\n",
    "print(f'{len(subclasses_all) = }')\n",
    "\n",
    "supertypes_all = obs_th_strict['supertype'].value_counts().loc[lambda x: x>20].index\n",
    "print(f'{len(supertypes_all) = }')"
   ]
  },
  {
   "cell_type": "code",
   "execution_count": 14,
   "id": "cb5640da",
   "metadata": {
    "tags": []
   },
   "outputs": [],
   "source": [
    "supertypes_from_subclasses = obs_th_neurons.loc[\n",
    "    lambda df: df['subclass'].isin(subclasses_all), 'supertype'].unique()\n",
    "\n",
    "print(f'{supertypes_from_subclasses.shape[0] = }')\n",
    "\n",
    "print(f'{len(supertypes_all.intersection(supertypes_from_subclasses)) = }')"
   ]
  },
  {
   "cell_type": "code",
   "execution_count": 15,
   "id": "87896024",
   "metadata": {
    "tags": []
   },
   "outputs": [],
   "source": [
    "clusters_from_subclasses = obs_th_neurons.loc[\n",
    "            lambda df: df['subclass'].isin(subclasses_all), 'cluster'].unique()\n",
    "print(f'{clusters_from_subclasses.shape[0] = }')"
   ]
  },
  {
   "cell_type": "markdown",
   "id": "f0a195a1",
   "metadata": {},
   "source": [
    "### Figure parameters"
   ]
  },
  {
   "cell_type": "markdown",
   "id": "649c5fcf-b057-4cb2-b3fa-d212f339205f",
   "metadata": {},
   "source": [
    "#### Set celltype color palettes"
   ]
  },
  {
   "cell_type": "code",
   "execution_count": 16,
   "id": "9c7636d3-a64c-4e70-8f72-93a6173f5c3b",
   "metadata": {
    "tags": []
   },
   "outputs": [],
   "source": [
    "abc_palettes = {level: abc.get_taxonomy_palette(level) for level in \n",
    "                ['subclass','supertype','cluster']}"
   ]
  },
  {
   "cell_type": "code",
   "execution_count": 17,
   "id": "b795bc6d-c37c-4efb-bcb0-7a13c07cdd5b",
   "metadata": {
    "tags": []
   },
   "outputs": [],
   "source": [
    "palette_df = pd.read_csv('/code/resources/cluster_palette_glasbey.csv')\n",
    "cluster_palette = dict(zip(palette_df['Unnamed: 0'], palette_df['0']))"
   ]
  },
  {
   "cell_type": "markdown",
   "id": "ceae2970-ad5a-437d-8366-f4a51ea9c5e6",
   "metadata": {},
   "source": [
    "#### Set plot kwargs"
   ]
  },
  {
   "cell_type": "code",
   "execution_count": 18,
   "id": "692a9f75",
   "metadata": {
    "tags": []
   },
   "outputs": [],
   "source": [
    "kwargs = dict(\n",
    "    bg_cells=obs_th_strict,\n",
    "    section_col=section_col,\n",
    "    x_col = 'x_'+coords,\n",
    "    y_col = 'y_'+coords,\n",
    "    s=3, \n",
    "    face_palette=None,\n",
    "    edge_color='grey',\n",
    "    boundary_img=ccf_boundaries\n",
    ")"
   ]
  },
  {
   "cell_type": "markdown",
   "id": "a9f929b2-8443-40ca-a6c3-1d2a6a8e052a",
   "metadata": {},
   "source": [
    "#### Get obs with TH subclasses"
   ]
  },
  {
   "cell_type": "code",
   "execution_count": 19,
   "id": "c7fde760-f0a8-4f81-913f-d0ffef21dc39",
   "metadata": {
    "tags": []
   },
   "outputs": [],
   "source": [
    "obs_th_subclasses = obs_th_neurons.loc[lambda df: df['subclass'].isin(subclasses_all)]"
   ]
  },
  {
   "cell_type": "markdown",
   "id": "af158c99-4fb5-423e-86cc-cf5abe1f1c86",
   "metadata": {},
   "source": [
    "## Subclass + CCF plots"
   ]
  },
  {
   "cell_type": "code",
   "execution_count": 20,
   "id": "a53c1211-e833-4940-abfc-e7986047aca7",
   "metadata": {
    "scrolled": true,
    "tags": []
   },
   "outputs": [],
   "source": [
    "subclass_figs = cplots.plot_ccf_overlay(obs_th_subclasses, ccf_images, \n",
    "                                        point_hue='subclass', \n",
    "                                        sections=sections_GRC,\n",
    "                                        point_palette=abc_palettes['subclass'],\n",
    "                                        legend=None, #'cells', \n",
    "                                        **kwargs)\n",
    "\n",
    "# save as pdfs\n",
    "for i, fig in enumerate(subclass_figs):\n",
    "    sec = int(sections_GRC[i]*10)\n",
    "    fig.savefig(f'/results/ccf_subclass_z{sec}.pdf', transparent=True, \n",
    "                bbox_inches='tight')"
   ]
  },
  {
   "cell_type": "code",
   "execution_count": 21,
   "id": "2d5cece2",
   "metadata": {},
   "outputs": [],
   "source": [
    "subclass_figs = cplots.plot_ccf_overlay(obs_th_subclasses, ccf_images, \n",
    "                                        point_hue='subclass', \n",
    "                                        sections=sections_GRC,\n",
    "                                        point_palette=abc_palettes['subclass'],\n",
    "                                        legend='cells', \n",
    "                                        **kwargs)\n",
    "\n",
    "# save as pdfs\n",
    "for i, fig in enumerate(subclass_figs):\n",
    "    sec = int(sections_GRC[i]*10)\n",
    "    fig.savefig(f'/results/ccf_subclass_z{sec}.pdf', transparent=True, \n",
    "                bbox_inches='tight')"
   ]
  },
  {
   "cell_type": "markdown",
   "id": "b670d5ee-f695-4569-b0c1-54b130593d9c",
   "metadata": {
    "jp-MarkdownHeadingCollapsed": true,
    "tags": []
   },
   "source": [
    "## Supertype + CCF plots - NOT DISPLAYING FOR GRC"
   ]
  },
  {
   "cell_type": "code",
   "execution_count": 22,
   "id": "5e73c4cb",
   "metadata": {
    "tags": []
   },
   "outputs": [],
   "source": [
    "# # Not displaying supertypes on the GRC poster for simplicity\n",
    "# obs = obs_th_neurons.loc[lambda df: df['supertype'].isin(supertypes_all)]\n",
    "\n",
    "# cplots.plot_ccf_overlay(obs_th_subclasses, ccf_images, \n",
    "#                         point_hue='supertype', sections=sections_GRC,\n",
    "#                         point_palette=palettes['supertype'],\n",
    "#                         legend=None, #'cells', \n",
    "#                         **kwargs);\n",
    "\n",
    "# # save as pdfs\n",
    "# for i, fig in enumerate(subclass_figs):\n",
    "#     sec = int(sections_GRC[i]*10)\n",
    "#     fig.savefig(f'/results/ccf_supertype_z{sec}.pdf', transparent=True, \n",
    "#                 bbox_inches='tight')"
   ]
  },
  {
   "cell_type": "markdown",
   "id": "5d8eaa54-3bf2-4cbe-b9df-3f062186ce3a",
   "metadata": {},
   "source": [
    "## Cluster + CCF plots"
   ]
  },
  {
   "cell_type": "code",
   "execution_count": 23,
   "id": "bf8451fb",
   "metadata": {
    "scrolled": true,
    "tags": []
   },
   "outputs": [],
   "source": [
    "cluster_figs = cplots.plot_ccf_overlay(obs_th_subclasses, ccf_images, \n",
    "                                       sections=sections_GRC,\n",
    "                                       point_hue='cluster', \n",
    "                                       point_palette=cluster_palette,\n",
    "                                       legend=None, \n",
    "                                       **kwargs)\n",
    "\n",
    "# save as\n",
    "for i, fig in enumerate(cluster_figs):\n",
    "    sec_name = int(sections_GRC[i]*10)\n",
    "    fig.savefig(f'/results/ccf_cluster_z{sec_name}.pdf', transparent=True,  \n",
    "                bbox_inches='tight')"
   ]
  },
  {
   "cell_type": "markdown",
   "id": "b1733310",
   "metadata": {
    "tags": []
   },
   "source": [
    "# Specific nuclei examples"
   ]
  },
  {
   "cell_type": "markdown",
   "id": "6bddbd4a",
   "metadata": {},
   "source": [
    "## AD & AV clusters"
   ]
  },
  {
   "cell_type": "code",
   "execution_count": 24,
   "id": "440a9685-2f24-4acb-922d-80b8b41e57bb",
   "metadata": {
    "tags": []
   },
   "outputs": [],
   "source": [
    "ant_sections = [8.0]\n",
    "ad_av_nuclei = ['AD', 'AV']\n",
    "ad_av_clusters = [str(x) for x in list(range(2613, 2616+1))]\n",
    "ad_av_obs = obs_th_neurons.loc[lambda df: df['cluster'].str[:4].isin(ad_av_clusters)]\n",
    "\n",
    "kwargs = dict(\n",
    "    bg_cells=obs_th_strict,\n",
    "    section_col=section_col,\n",
    "    x_col = 'x_'+coords,\n",
    "    y_col = 'y_'+coords,\n",
    "    s=4, \n",
    "    face_palette=None,\n",
    "    edge_color='grey',\n",
    "    boundary_img=ccf_boundaries\n",
    ")\n",
    "\n",
    "figs = cplots.plot_ccf_overlay(ad_av_obs, ccf_images, sections=ant_sections,\n",
    "                               point_hue='cluster', point_palette=cluster_palette,\n",
    "                               ccf_names=['AD', 'AV'], legend='cells',\n",
    "                               custom_xy_lims=[3.7,7.6, 5.9, 4.6],\n",
    "                               **kwargs);\n",
    "figs[0].savefig(f'/results/abc_ccf_AD_AV_clusters_z{int(ant_sections[0]*10)}.pdf', \n",
    "               bbox_inches='tight')"
   ]
  },
  {
   "cell_type": "markdown",
   "id": "5fdbe282",
   "metadata": {
    "tags": []
   },
   "source": [
    "## MD"
   ]
  },
  {
   "cell_type": "code",
   "execution_count": 25,
   "id": "8612863f-a3cd-4acf-a400-cc74cca6ceb5",
   "metadata": {
    "tags": []
   },
   "outputs": [],
   "source": [
    "nucleus='MD'\n",
    "md_sections = [6.8, 7.0, 7.2]\n",
    "md_xy_lims = [4.3, 6.8, 6.2, 4.4]\n",
    "md_kwargs = dict(\n",
    "                bg_cells=obs_th_strict,\n",
    "                section_col=section_col,\n",
    "                x_col = 'x_'+coords,\n",
    "                y_col = 'y_'+coords,\n",
    "                s=10, \n",
    "                face_palette=None,\n",
    "                edge_color='grey',\n",
    "                boundary_img=ccf_boundaries\n",
    "            )"
   ]
  },
  {
   "cell_type": "code",
   "execution_count": 26,
   "id": "2e65db01-d58f-472a-886d-4df199952238",
   "metadata": {
    "scrolled": true,
    "tags": []
   },
   "outputs": [],
   "source": [
    "taxonomy_level = 'subclass'\n",
    "md_figs = cplots.plot_ccf_overlay(obs_th_subclasses, \n",
    "                                  ccf_images, \n",
    "                                  sections=md_sections,\n",
    "                                  point_hue=taxonomy_level, \n",
    "                                  point_palette=abc_palettes[taxonomy_level],\n",
    "                                  ccf_names=[nucleus],\n",
    "                                  custom_xy_lims=md_xy_lims,\n",
    "                                  legend=None, \n",
    "                                  **md_kwargs);\n",
    "\n",
    "for i, fig in enumerate(md_figs):\n",
    "    sec = int(md_sections[i]*10)\n",
    "    fig.savefig(f'/results/ccf_MD_{taxonomy_level}_z{sec}.pdf', transparent=True,\n",
    "                bbox_inches='tight')"
   ]
  },
  {
   "cell_type": "code",
   "execution_count": 27,
   "id": "52b5cfea-8080-4bd6-b31a-ef2f34d62cf9",
   "metadata": {
    "scrolled": true,
    "tags": []
   },
   "outputs": [],
   "source": [
    "# taxonomy_level = 'supertype'\n",
    "# md_figs = cplots.plot_ccf_overlay(obs_th_subclasses, \n",
    "#                                   ccf_images, \n",
    "#                                   sections=md_sections,\n",
    "#                                   point_hue=taxonomy_level, \n",
    "#                                   point_palette=abc_palettes[taxonomy_level],\n",
    "#                                   ccf_names=[nucleus],\n",
    "#                                   custom_xy_lims=md_xy_lims,\n",
    "#                                   legend=None, \n",
    "#                                   **md_kwargs);\n",
    "\n",
    "# for i, fig in enumerate(md_figs):\n",
    "#     sec = int(md_sections[i]*10)\n",
    "#     fig.savefig(f'/results/ccf_MD_{taxonomy_level}_z{sec}.pdf', transparent=True,\n",
    "#                 bbox_inches='tight')"
   ]
  },
  {
   "cell_type": "code",
   "execution_count": 28,
   "id": "e64266e6-d3df-4bc2-8852-aa9c7b4fcf20",
   "metadata": {
    "tags": []
   },
   "outputs": [],
   "source": [
    "# clusters with >=1% of cells in the MD\n",
    "# see metrics notebook for code\n",
    "md_clusters = ['2678 TH Prkcd Grin2c Glut_10',\n",
    "                 '2648 TH Prkcd Grin2c Glut_1',\n",
    "                 '2635 CM-IAD-CL-PCN Sema5b Glut_1',\n",
    "                 '2681 TH Prkcd Grin2c Glut_12',\n",
    "                 '2644 CM-IAD-CL-PCN Sema5b Glut_4',\n",
    "                 '2682 TH Prkcd Grin2c Glut_12',\n",
    "                 '2683 TH Prkcd Grin2c Glut_13',\n",
    "                 '2638 CM-IAD-CL-PCN Sema5b Glut_2',\n",
    "                 '2677 TH Prkcd Grin2c Glut_10',\n",
    "                 '2636 CM-IAD-CL-PCN Sema5b Glut_1',\n",
    "                 '2664 TH Prkcd Grin2c Glut_6',\n",
    "                 '2687 TH Prkcd Grin2c Glut_13',\n",
    "                 '2636 CM-IAD-CL-PCN Sema5b Glut_1',\n",
    "                 '2664 TH Prkcd Grin2c Glut_6',\n",
    "                 '2687 TH Prkcd Grin2c Glut_13',\n",
    "                 '2639 CM-IAD-CL-PCN Sema5b Glut_2',\n",
    "                 '2633 CM-IAD-CL-PCN Sema5b Glut_1',\n",
    "                 '2674 TH Prkcd Grin2c Glut_9',\n",
    "                 '2634 CM-IAD-CL-PCN Sema5b Glut_1',\n",
    "                 '2643 CM-IAD-CL-PCN Sema5b Glut_4',\n",
    "                 '2662 TH Prkcd Grin2c Glut_6',\n",
    "                 '2622 PVT-PT Ntrk1 Glut_2',\n",
    "                 '2621 PVT-PT Ntrk1 Glut_2',\n",
    "                 '2642 CM-IAD-CL-PCN Sema5b Glut_3',\n",
    "                 '2637 CM-IAD-CL-PCN Sema5b Glut_2',\n",
    "                 '2663 TH Prkcd Grin2c Glut_6',\n",
    "                 '2632 PVT-PT Ntrk1 Glut_6'           \n",
    "                   ]\n",
    "md_clusters_gc = ['2678 TH Prkcd Grin2c Glut_10',\n",
    "                 '2648 TH Prkcd Grin2c Glut_1',\n",
    "                 '2635 CM-IAD-CL-PCN Sema5b Glut_1',\n",
    "                 '2683 TH Prkcd Grin2c Glut_13']\n",
    "md_clusters_1pct = md_clusters[:13]\n",
    "md_clusters_2pct = md_clusters[:8]\n",
    "md_clusters_top4 = md_clusters[:4]\n",
    "md_clusters_5pct = md_clusters[:3]\n",
    "\n",
    "obs_md = obs_th_neurons.loc[lambda df: df['cluster'].isin(md_clusters)]\n",
    "obs_md_grc = obs_th_neurons.loc[lambda df: df['cluster'].isin(md_clusters_gc)]\n",
    "obs_md_1pct = obs_th_neurons.loc[lambda df: df['cluster'].isin(md_clusters_1pct)]\n",
    "obs_md_2pct = obs_th_neurons.loc[lambda df: df['cluster'].isin(md_clusters_2pct)]\n",
    "obs_md_top4 = obs_th_neurons.loc[lambda df: df['cluster'].isin(md_clusters_top4)]\n",
    "obs_md_5pct = obs_th_neurons.loc[lambda df: df['cluster'].isin(md_clusters_5pct)]\n",
    "obs_md_annot = abc.get_obs_from_annotated_clusters(nucleus, obs_th_neurons)"
   ]
  },
  {
   "cell_type": "code",
   "execution_count": 29,
   "id": "4b8fa7ad-325e-446f-8805-fdb3c6f3df2a",
   "metadata": {
    "tags": []
   },
   "outputs": [],
   "source": [
    "md_clusters_top4"
   ]
  },
  {
   "cell_type": "code",
   "execution_count": 30,
   "id": "a2cd0904-bfbf-4b97-964a-193badcb9288",
   "metadata": {
    "tags": []
   },
   "outputs": [],
   "source": [
    "taxonomy_level = 'cluster'\n",
    "md_figs = cplots.plot_ccf_overlay(obs_md, \n",
    "                                  ccf_images, \n",
    "                                  sections=md_sections,\n",
    "                                  point_hue=taxonomy_level, \n",
    "                                  point_palette=cluster_palette,\n",
    "                                  ccf_names=[nucleus],\n",
    "                                  custom_xy_lims=md_xy_lims,\n",
    "                                  legend='cells', \n",
    "                                  **md_kwargs);\n",
    "\n",
    "for i, fig in enumerate(md_figs):\n",
    "    sec = int(md_sections[i]*10)\n",
    "    fig.savefig(f'/results/ccf_MD_{taxonomy_level}_z{sec}.pdf', transparent=True,\n",
    "                bbox_inches='tight')"
   ]
  },
  {
   "cell_type": "code",
   "execution_count": 31,
   "id": "13b6a08e-6118-4e7b-b97b-09e90b55e7e1",
   "metadata": {
    "tags": []
   },
   "outputs": [],
   "source": [
    "taxonomy_level = 'cluster'\n",
    "md_figs = cplots.plot_ccf_overlay(obs_md_5pct, \n",
    "                                  ccf_images, \n",
    "                                  sections=md_sections,\n",
    "                                  point_hue=taxonomy_level, \n",
    "                                  point_palette=cluster_palette,\n",
    "                                  ccf_names=[nucleus],\n",
    "                                  custom_xy_lims=md_xy_lims,\n",
    "                                  legend='cells', \n",
    "                                  **md_kwargs);"
   ]
  },
  {
   "cell_type": "code",
   "execution_count": 32,
   "id": "f2d50f8b-4a64-4f93-8e52-7932298585a0",
   "metadata": {
    "tags": []
   },
   "outputs": [],
   "source": [
    "taxonomy_level = 'cluster'\n",
    "# plt.rcParams.update({'font.size': 14})\n",
    "md_figs = cplots.plot_ccf_overlay(obs_md_top4, \n",
    "                                  ccf_images, \n",
    "                                  sections=md_sections,\n",
    "                                  point_hue=taxonomy_level, \n",
    "                                  point_palette=cluster_palette,\n",
    "                                  ccf_names=[nucleus],\n",
    "                                  custom_xy_lims=md_xy_lims,\n",
    "                                  legend='cells', \n",
    "                                  **md_kwargs);\n",
    "\n",
    "\n",
    "\n",
    "for i, fig in enumerate(md_figs):\n",
    "    sec = int(md_sections[i]*10)\n",
    "    fig.savefig(f'/results/ccf_MD_top4clusters_z{sec}.pdf', transparent=True,\n",
    "                bbox_inches='tight')\n",
    "    obs_md_grc"
   ]
  },
  {
   "cell_type": "code",
   "execution_count": 33,
   "id": "dfd4d458-99b9-4beb-be8f-82c7c9af3b2e",
   "metadata": {},
   "outputs": [],
   "source": [
    "taxonomy_level = 'cluster'\n",
    "# plt.rcParams.update({'font.size': 14})\n",
    "md_figs = cplots.plot_ccf_overlay(obs_md_grc, \n",
    "                                  ccf_images, \n",
    "                                  sections=md_sections,\n",
    "                                  point_hue=taxonomy_level, \n",
    "                                  point_palette=cluster_palette,\n",
    "                                  ccf_names=[nucleus],\n",
    "                                  custom_xy_lims=md_xy_lims,\n",
    "                                  legend='cells', \n",
    "                                  **md_kwargs);\n",
    "\n",
    "for i, fig in enumerate(md_figs):\n",
    "    sec = int(md_sections[i]*10)\n",
    "    fig.savefig(f'/results/ccf_MD_4clusters_z{sec}.pdf', transparent=True,\n",
    "                bbox_inches='tight')"
   ]
  },
  {
   "cell_type": "code",
   "execution_count": 34,
   "id": "33891adc-b413-4872-a23c-d330ae928491",
   "metadata": {},
   "outputs": [],
   "source": [
    "taxonomy_level = 'cluster'\n",
    "# plt.rcParams.update({'font.size': 14})\n",
    "md_figs = cplots.plot_ccf_overlay(obs_md_top4, \n",
    "                                  ccf_images, \n",
    "                                  sections=md_sections,\n",
    "                                  point_hue=taxonomy_level, \n",
    "                                  point_palette=cluster_palette,\n",
    "                                  ccf_names=[nucleus],\n",
    "                                  custom_xy_lims=md_xy_lims,\n",
    "                                  legend='cells', \n",
    "                                  **md_kwargs);\n",
    "\n",
    "\n",
    "\n",
    "for i, fig in enumerate(md_figs):\n",
    "    sec = int(md_sections[i]*10)\n",
    "    fig.savefig(f'/results/ccf_MD_top4clusters_z{sec}.pdf', transparent=True,\n",
    "                bbox_inches='tight')"
   ]
  },
  {
   "cell_type": "code",
   "execution_count": 35,
   "id": "116bcf18-ecae-41d0-84f1-4e28216fc9c0",
   "metadata": {
    "tags": []
   },
   "outputs": [],
   "source": [
    "\n",
    "taxonomy_level = 'cluster'\n",
    "md_figs = cplots.plot_ccf_overlay(obs_md_2pct, \n",
    "                                  ccf_images, \n",
    "                                  sections=md_sections,\n",
    "                                  point_hue=taxonomy_level, \n",
    "                                  point_palette=cluster_palette,\n",
    "                                  ccf_names=[nucleus], \n",
    "                                #   highlight=[nucleus], # not currently implemented\n",
    "                                  custom_xy_lims=md_xy_lims,\n",
    "                                  legend='cells', \n",
    "                                  **md_kwargs);\n",
    "\n",
    "for i, fig in enumerate(md_figs):\n",
    "    sec = int(md_sections[i]*10)\n",
    "    fig.savefig(f'/results/ccf_MD_8clusters_z{sec}.pdf', transparent=True,\n",
    "                bbox_inches='tight')"
   ]
  },
  {
   "cell_type": "code",
   "execution_count": 36,
   "id": "54bcf0dd-8dc2-4f49-a715-cb4831c13807",
   "metadata": {
    "tags": []
   },
   "outputs": [],
   "source": [
    "# taxonomy_level = 'cluster'\n",
    "# md_figs = cplots.plot_ccf_overlay(obs_md_1pct, \n",
    "#                                   ccf_images, \n",
    "#                                   sections=md_sections,\n",
    "#                                   point_hue=taxonomy_level, \n",
    "#                                   point_palette=cluster_palette,\n",
    "#                                   ccf_names=[nucleus],\n",
    "#                                   custom_xy_lims=md_xy_lims,\n",
    "#                                   legend='cells', \n",
    "#                                   **md_kwargs);"
   ]
  },
  {
   "cell_type": "code",
   "execution_count": 37,
   "id": "4290778a-16ff-44a8-8823-cebe5f4a45c6",
   "metadata": {
    "tags": []
   },
   "outputs": [],
   "source": [
    "md_clust_old = ['1130 TH Prkcd Grin2c Glut_1', '1133 TH Prkcd Grin2c Glut_10',\n",
    "                '1136 TH Prkcd Grin2c Glut_12', '1137 TH Prkcd Grin2c Glut_12',\n",
    "                '1138 TH Prkcd Grin2c Glut_13', '1142 TH Prkcd Grin2c Glut_13',\n",
    "                '1157 TH Prkcd Grin2c Glut_6', '1158 TH Prkcd Grin2c Glut_6',\n",
    "                '1159 TH Prkcd Grin2c Glut_6', '1168 TH Prkcd Grin2c Glut_8']\n",
    "md_clust_curr = abc.convert_taxonomy_labels(md_clust_old, 'cluster', \n",
    "                                        label_format='id_label',\n",
    "                                        input_version='20230630', output_version='20230830',\n",
    "                                        output_as_dict=True)\n",
    "md_clust_curr"
   ]
  },
  {
   "cell_type": "code",
   "execution_count": 38,
   "id": "291b722e-8fec-4964-8e1e-17ac7005b41c",
   "metadata": {
    "tags": []
   },
   "outputs": [],
   "source": [
    "abc.convert_taxonomy_labels(['2635 CM-IAD-CL-PCN Sema5b Glut_1'], 'cluster', \n",
    "                            label_format='id_label',\n",
    "                            input_version='20230830', output_version='20230630',\n",
    "                            output_as_dict=True)"
   ]
  },
  {
   "cell_type": "markdown",
   "id": "99bb26c9-274b-4684-a317-48e9d111caa3",
   "metadata": {
    "jp-MarkdownHeadingCollapsed": true,
    "tags": []
   },
   "source": [
    "## Clusters, no CCF overlay"
   ]
  },
  {
   "cell_type": "code",
   "execution_count": 39,
   "id": "2cd0767d-fcc7-4388-b2ea-e7b3d8455831",
   "metadata": {
    "tags": []
   },
   "outputs": [],
   "source": [
    "# obs = obs_th_neurons.loc[lambda df: df['subclass'].isin(subclasses_all)]\n",
    "# nuclei = ['AD', 'AV', 'AMd', 'AMv']\n",
    "# kwargs = dict(\n",
    "#     bg_cells=obs_th_strict,\n",
    "#     section_col=section_col,\n",
    "#     x_col = 'x_'+coords,\n",
    "#     y_col = 'y_'+coords,\n",
    "#     s=5, \n",
    "#     face_palette=None,\n",
    "#     edge_color='grey',\n",
    "#     boundary_img=ccf_boundaries\n",
    "# )\n",
    "# cplots.plot_ccf_overlay(obs, ccf_images, \n",
    "#                         point_hue='cluster', sections=[sections_GRC[1]],\n",
    "#                         point_palette=palettes['cluster'],\n",
    "#                         ccf_names=nuclei,\n",
    "#                         legend=None, \n",
    "#                         **kwargs);"
   ]
  },
  {
   "cell_type": "markdown",
   "id": "3d3655db-5d08-4c21-ab84-96083b18aaf5",
   "metadata": {
    "tags": []
   },
   "source": [
    "## Gene expression, no CCF overlay"
   ]
  },
  {
   "cell_type": "code",
   "execution_count": 40,
   "id": "8aa0b051-2fdf-43e4-987f-ec10f8aecf6e",
   "metadata": {
    "tags": []
   },
   "outputs": [],
   "source": [
    "# adata = abc.load_adata_thalamus(transform='log2', subset_to_TH_ZI=True, with_metadata=True,\n",
    "#                        flip_y=False, round_z=True, \n",
    "#                        with_colors=True, realigned=False)\n",
    "\n",
    "# adata = abc.filter_by_class_thalamus(adata, filter_nonneuronal=True, \n",
    "#                                   filter_midbrain=True, \n",
    "#                                   filter_other_nonTH=True)"
   ]
  },
  {
   "cell_type": "code",
   "execution_count": 41,
   "id": "1a955741",
   "metadata": {
    "tags": []
   },
   "outputs": [],
   "source": [
    "# cplots.plot_expression_ccf(adata, 'Gad2', ccf_images, \n",
    "#                            sections=[7.2], \n",
    "#                            nuclei=['AD'], ccf_highlight=['AD'], # not in this section so result is no ccf overlays\n",
    "#                            s=0.5, cmap='Blues', show_outline=False, \n",
    "#                            axes=False,  \n",
    "#                            section_col='z_reconstructed', \n",
    "#                            x_col='x_reconstructed',\n",
    "#                            y_col='y_reconstructed',\n",
    "#                            boundary_img=None)"
   ]
  },
  {
   "cell_type": "code",
   "execution_count": 42,
   "id": "eed27abb-b9d7-4f47-aaba-2802966cb9af",
   "metadata": {
    "tags": []
   },
   "outputs": [],
   "source": [
    "# cplots.plot_expression_ccf(adata, 'Slc17a7', ccf_images, \n",
    "#                            sections=[7.2], \n",
    "#                            nuclei=['AD'], ccf_highlight=['AD'], # not in this section so result is no ccf overlays\n",
    "#                            s=0.5, cmap='Blues', show_outline=False, \n",
    "#                            axes=False,  \n",
    "#                            section_col='z_reconstructed', \n",
    "#                            x_col='x_reconstructed',\n",
    "#                            y_col='y_reconstructed',\n",
    "#                            boundary_img=None)"
   ]
  },
  {
   "cell_type": "code",
   "execution_count": null,
   "id": "fd67e348-ec6a-45d4-9024-f099c73e5810",
   "metadata": {},
   "outputs": [],
   "source": []
  }
 ],
 "metadata": {
  "kernelspec": {
   "display_name": "Python 3 (ipykernel)",
   "language": "python",
   "name": "python3"
  },
  "language_info": {
   "codemirror_mode": {
    "name": "ipython",
    "version": 3
   },
   "file_extension": ".py",
   "mimetype": "text/x-python",
   "name": "python",
   "nbconvert_exporter": "python",
   "pygments_lexer": "ipython3",
   "version": "3.9.12"
  },
  "vscode": {
   "interpreter": {
    "hash": "d4d1e4263499bec80672ea0156c357c1ee493ec2b1c70f0acce89fc37c4a6abe"
   }
  }
 },
 "nbformat": 4,
 "nbformat_minor": 5
}
