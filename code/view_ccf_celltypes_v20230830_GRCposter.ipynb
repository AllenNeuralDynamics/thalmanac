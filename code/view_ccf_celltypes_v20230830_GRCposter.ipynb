{
 "cells": [
  {
   "cell_type": "code",
   "execution_count": 1,
   "id": "36ae7a0d",
   "metadata": {
    "tags": []
   },
   "outputs": [],
   "source": [
    "%load_ext autoreload\n",
    "%autoreload 2"
   ]
  },
  {
   "cell_type": "code",
   "execution_count": 2,
   "id": "f14afdc8",
   "metadata": {
    "tags": []
   },
   "outputs": [],
   "source": [
    "import pandas as pd\n",
    "import matplotlib.pyplot as plt\n",
    "import seaborn as sns\n",
    "import numpy as np\n",
    "\n",
    "from thalamus_merfish_analysis import ccf_plots as cplots\n",
    "from thalamus_merfish_analysis import ccf_images as cimg\n",
    "from thalamus_merfish_analysis import abc_load as abc\n",
    "get_ipython().run_line_magic('matplotlib', 'inline') "
   ]
  },
  {
   "cell_type": "markdown",
   "id": "2c770388",
   "metadata": {},
   "source": [
    "## Load brain3 data"
   ]
  },
  {
   "cell_type": "code",
   "execution_count": 3,
   "id": "e081cde8",
   "metadata": {
    "tags": []
   },
   "outputs": [],
   "source": [
    "# realigned just loads faster version here\n",
    "obs = abc.get_combined_metadata(realigned=True, version=\"20230830\", drop_unused=False)"
   ]
  },
  {
   "cell_type": "code",
   "execution_count": 4,
   "id": "c3fe65f5-192f-49ea-be66-dd1b0e4aabe4",
   "metadata": {
    "tags": []
   },
   "outputs": [],
   "source": [
    "obs.columns"
   ]
  },
  {
   "cell_type": "code",
   "execution_count": 5,
   "id": "5e00df3f",
   "metadata": {
    "tags": []
   },
   "outputs": [],
   "source": [
    "realigned=False\n",
    "ccf_polygons = abc.get_ccf_labels_image(resampled=True, realigned=realigned)\n",
    "if realigned:\n",
    "    ccf_label = 'parcellation_substructure_realigned'\n",
    "    coords = 'section'\n",
    "else:\n",
    "    ccf_label = 'parcellation_substructure'\n",
    "    coords = 'reconstructed'"
   ]
  },
  {
   "cell_type": "markdown",
   "id": "c3a75574",
   "metadata": {},
   "source": [
    "### preprocessing"
   ]
  },
  {
   "cell_type": "code",
   "execution_count": 6,
   "id": "6bbfc91a",
   "metadata": {
    "tags": []
   },
   "outputs": [],
   "source": [
    "th_names = abc.get_thalamus_substructure_names()\n",
    "th_subregion_names = list(set(th_names).difference(['TH-unassigned']))"
   ]
  },
  {
   "cell_type": "code",
   "execution_count": 7,
   "id": "1c524d63",
   "metadata": {
    "tags": []
   },
   "outputs": [],
   "source": [
    "# remove non-neuronal and some other outlier non-thalamus types\n",
    "obs_neurons = abc.filter_adata_by_class(obs, filter_midbrain=False)\n",
    "\n",
    "# remove non-neuronal only\n",
    "# nn_classes = [\n",
    "#     \"31 OPC-Oligo\",\n",
    "#     \"30 Astro-Epen\",\n",
    "#     \"33 Vascular\",\n",
    "#     \"34 Immune\",\n",
    "# ]\n",
    "# obs_neurons = obs[~obs['class'].isin(nn_classes)]"
   ]
  },
  {
   "cell_type": "code",
   "execution_count": 8,
   "id": "c5bb8a2e",
   "metadata": {
    "tags": []
   },
   "outputs": [],
   "source": [
    "\n",
    "# filter to CCF based on labels\n",
    "# does not include fiber tracts etc \n",
    "# obs_th = obs[obs[ccf_label].isin(th_names)]\n",
    "\n",
    "# filter to CCF using thalamus outline with a small buffer (slower)\n",
    "obs_th = abc.label_thalamus_spatial_subset(obs, distance_px=5, realigned=realigned, filter_cells=True)\n",
    "\n",
    "# subset just the neurons\n",
    "obs_th_neurons = obs.loc[obs_neurons.index.intersection(obs_th.index)]\n",
    "obs_th_strict = obs_th_neurons.loc[lambda df: df[ccf_label].isin(th_names)]\n"
   ]
  },
  {
   "cell_type": "code",
   "execution_count": 9,
   "id": "d133e930",
   "metadata": {
    "tags": []
   },
   "outputs": [],
   "source": [
    "section_col = 'z_section'\n",
    "sections_all = sorted(obs_th_neurons[section_col].unique())\n",
    "# pick 3 example sections\n",
    "sections_GRC = [6.4, 7.2, 7.8, 8.0]"
   ]
  },
  {
   "cell_type": "code",
   "execution_count": 10,
   "id": "8cf10760",
   "metadata": {
    "tags": []
   },
   "outputs": [],
   "source": [
    "sections_int = np.rint(np.array(sections_all)/0.2).astype(int)\n",
    "ccf_boundaries = cimg.sectionwise_label_erosion(ccf_polygons, distance_px=1, fill_val=0, \n",
    "                                                return_edges=True, section_list=sections_int\n",
    "                                                )"
   ]
  },
  {
   "cell_type": "code",
   "execution_count": 11,
   "id": "100afb9a-4be0-4cc3-bf3e-96e99ad320c7",
   "metadata": {
    "tags": []
   },
   "outputs": [],
   "source": [
    "obs_th.columns"
   ]
  },
  {
   "cell_type": "markdown",
   "id": "9da8bb6c-2ba8-4e92-a1d9-ecd84dc408a5",
   "metadata": {},
   "source": [
    "## view CCF"
   ]
  },
  {
   "cell_type": "code",
   "execution_count": 12,
   "id": "84cb7d8c-7055-4d3e-a05d-e0b130821c9a",
   "metadata": {
    "scrolled": true,
    "tags": []
   },
   "outputs": [],
   "source": [
    "cplots.plot_ccf_overlay(obs_th_neurons.iloc[[],:], # no foreground cells; just the ccf shapes\n",
    "                        ccf_polygons, sections=sections_GRC, point_hue=ccf_label, \n",
    "                        highlight='all', legend='ccf',\n",
    "                        section_col=section_col,\n",
    "                        x_col = 'x_'+coords,\n",
    "                        y_col = 'y_'+coords,\n",
    "                        bg_shapes=False, min_section_count=0, \n",
    "                        boundary_img=ccf_boundaries);"
   ]
  },
  {
   "cell_type": "markdown",
   "id": "937c763a-4585-4887-bca8-25401ce26504",
   "metadata": {},
   "source": [
    "## View CCF as in ARA\n",
    "\n",
    "I want to be able to generate the view you get from the ARA, but subset to just the thalamus.\n",
    "\n",
    "Done:\n",
    "1. Implemented a shape_palette='allen_reference_atlas' option that colors all CCF regions with a single salmon color that is used by the ARA for many of the thalalmic nuclei (#FE8084)\n",
    "\n",
    "TODO\n",
    "1. Confirm hex colors from ABC atlas metadata (used Illustratoyr eyedropper of ARA screenshot)\n",
    "2. Add Allen Reference Atlas labels to plot on top of the centroid(?) of the nucleus\n",
    "3. Use different salmon shades for the appropriate nuclei, as done in the actual ARA images"
   ]
  },
  {
   "cell_type": "code",
   "execution_count": 13,
   "id": "b9d60be1-fe69-4373-85b5-2a0a9fe6be39",
   "metadata": {
    "scrolled": true,
    "tags": []
   },
   "outputs": [],
   "source": [
    "cplots.plot_ccf_overlay(obs_th_neurons.iloc[[],:], # no foreground cells; just the ccf shapes\n",
    "                        ccf_polygons, sections=sections_GRC, point_hue=ccf_label, \n",
    "                        highlight='all', legend='ccf',\n",
    "                        shape_palette='allen_reference_atlas',\n",
    "                        section_col=section_col,\n",
    "                        x_col = 'x_'+coords,\n",
    "                        y_col = 'y_'+coords,\n",
    "                        bg_shapes=False, min_section_count=0, \n",
    "                        boundary_img=ccf_boundaries);"
   ]
  },
  {
   "cell_type": "markdown",
   "id": "564095e5",
   "metadata": {},
   "source": [
    "## view taxonomy labels over CCF"
   ]
  },
  {
   "cell_type": "markdown",
   "id": "28a2a844",
   "metadata": {},
   "source": [
    "### select thalamus celltype subsets"
   ]
  },
  {
   "cell_type": "code",
   "execution_count": 14,
   "id": "73fd778e",
   "metadata": {},
   "outputs": [],
   "source": [
    "subclasses_all = obs_th_strict['subclass'].value_counts().loc[lambda x: x>100].index\n",
    "print(len(subclasses_all))\n",
    "\n",
    "supertypes_all = obs_th_strict['supertype'].value_counts().loc[lambda x: x>20].index\n",
    "print(len(supertypes_all))"
   ]
  },
  {
   "cell_type": "code",
   "execution_count": 15,
   "id": "00c82521",
   "metadata": {},
   "outputs": [],
   "source": [
    "obs_th_neurons.loc[lambda df: df['subclass'].isin(subclasses_all), 'class'].value_counts()"
   ]
  },
  {
   "cell_type": "code",
   "execution_count": 16,
   "id": "cb5640da",
   "metadata": {},
   "outputs": [],
   "source": [
    "supertypes_from_subclasses = obs_th_neurons.loc[\n",
    "    lambda df: df['subclass'].isin(subclasses_all), 'supertype'].unique()\n",
    "supertypes_from_subclasses.shape[0]"
   ]
  },
  {
   "cell_type": "code",
   "execution_count": 17,
   "id": "56c67516",
   "metadata": {},
   "outputs": [],
   "source": [
    "len(supertypes_all.intersection(supertypes_from_subclasses))"
   ]
  },
  {
   "cell_type": "code",
   "execution_count": 18,
   "id": "87896024",
   "metadata": {},
   "outputs": [],
   "source": [
    "obs_th_neurons.loc[lambda df: df['subclass'].isin(subclasses_all), 'cluster'].unique().shape[0]"
   ]
  },
  {
   "cell_type": "markdown",
   "id": "f0a195a1",
   "metadata": {},
   "source": [
    "### Plots"
   ]
  },
  {
   "cell_type": "code",
   "execution_count": 19,
   "id": "9c7636d3-a64c-4e70-8f72-93a6173f5c3b",
   "metadata": {
    "tags": []
   },
   "outputs": [],
   "source": [
    "palettes = {level: abc.get_taxonomy_palette(level) for level in \n",
    "            ['subclass','supertype','cluster']}"
   ]
  },
  {
   "cell_type": "code",
   "execution_count": 20,
   "id": "692a9f75",
   "metadata": {},
   "outputs": [],
   "source": [
    "kwargs = dict(\n",
    "    bg_cells=obs_th_strict,\n",
    "    section_col=section_col,\n",
    "    x_col = 'x_'+coords,\n",
    "    y_col = 'y_'+coords,\n",
    "    s=3, \n",
    "    shape_palette='dark_outline',\n",
    "    boundary_img=ccf_boundaries\n",
    ")"
   ]
  },
  {
   "cell_type": "code",
   "execution_count": 21,
   "id": "a53c1211-e833-4940-abfc-e7986047aca7",
   "metadata": {},
   "outputs": [],
   "source": [
    "obs = obs_th_neurons.loc[lambda df: df['subclass'].isin(subclasses_all)]\n",
    "subclass_figs = cplots.plot_ccf_overlay(obs, ccf_polygons, \n",
    "                                        point_hue='subclass', \n",
    "                                        sections=sections_GRC,\n",
    "                                        point_palette=palettes['subclass'],\n",
    "                                        legend=None, #'cells', \n",
    "                                        **kwargs)"
   ]
  },
  {
   "cell_type": "code",
   "execution_count": 40,
   "id": "0bc2c798-3d77-4a83-b648-782f8d330e98",
   "metadata": {},
   "outputs": [],
   "source": [
    "# save as pdfs\n",
    "for i, fig in enumerate(subclass_figs):\n",
    "    sec_name = sections_GRC[i]*10\n",
    "    fig.savefig('/root/capsule/results/'+f'ccf_subclass_z{sec_name}.pdf', \n",
    "                bbox_inches='tight')\n",
    "    fig.savefig('/root/capsule/results/'+f'ccf_cluster_z{sec_name}_dpi300.png', \n",
    "                bbox_inches='tight', dpi=300)"
   ]
  },
  {
   "cell_type": "code",
   "execution_count": 23,
   "id": "5e73c4cb",
   "metadata": {},
   "outputs": [],
   "source": [
    "# TODO: this is not a good palette! maybe make supertypes of a subtype the same hue?\n",
    "obs = obs_th_neurons.loc[lambda df: df['supertype'].isin(supertypes_all)]\n",
    "cplots.plot_ccf_overlay(obs, ccf_polygons, \n",
    "                        point_hue='supertype', sections=sections_GRC,\n",
    "                        point_palette=palettes['supertype'],\n",
    "                        legend='cells', \n",
    "                        **kwargs);"
   ]
  },
  {
   "cell_type": "code",
   "execution_count": 49,
   "id": "bf8451fb",
   "metadata": {},
   "outputs": [],
   "source": [
    "kwargs = dict(\n",
    "    bg_cells=obs_th_strict,\n",
    "    section_col=section_col,\n",
    "    x_col = 'x_'+coords,\n",
    "    y_col = 'y_'+coords,\n",
    "    s=2.5, \n",
    "    shape_palette='dark_outline',\n",
    "    boundary_img=ccf_boundaries\n",
    ")\n",
    "obs = obs_th_neurons.loc[lambda df: df['subclass'].isin(subclasses_all)]\n",
    "cluster_figs = cplots.plot_ccf_overlay(obs, ccf_polygons, \n",
    "                                       point_hue='cluster', \n",
    "                                       sections=sections_GRC,\n",
    "                                       point_palette=palettes['cluster'],\n",
    "                                       legend=None, \n",
    "                                       **kwargs);"
   ]
  },
  {
   "cell_type": "code",
   "execution_count": 51,
   "id": "0c207913-f301-4cbf-bf1f-f1c97093ffa0",
   "metadata": {
    "tags": []
   },
   "outputs": [],
   "source": [
    "# save as\n",
    "for i, fig in enumerate(cluster_figs):\n",
    "    sec_name = int(sections_GRC[i]*10)\n",
    "    fig.savefig('/root/capsule/results/'+f'ccf_cluster_z{sec_name}.pdf', \n",
    "                bbox_inches='tight')\n",
    "    fig.savefig('/root/capsule/results/'+f'ccf_cluster_z{sec_name}_dpi300.png', \n",
    "                bbox_inches='tight', dpi=300)"
   ]
  },
  {
   "cell_type": "markdown",
   "id": "b1733310",
   "metadata": {
    "jp-MarkdownHeadingCollapsed": true,
    "tags": []
   },
   "source": [
    "## specific nuclei examples"
   ]
  },
  {
   "cell_type": "markdown",
   "id": "6bddbd4a",
   "metadata": {},
   "source": [
    "### ANT"
   ]
  },
  {
   "cell_type": "markdown",
   "id": "7e115c6b",
   "metadata": {},
   "source": [
    "#### supertypes"
   ]
  },
  {
   "cell_type": "code",
   "execution_count": 25,
   "id": "112f8c0b",
   "metadata": {},
   "outputs": [],
   "source": [
    "sections = [8.0]\n",
    "clusters = [str(x) for x in list(range(2613, 2616+1)) + list(range(2674, 2676+1))]\n",
    "obs = obs_th_neurons.loc[lambda df: df['cluster'].str[:4].isin(clusters)]\n",
    "nuclei = ['AD', 'AV', 'AMd', 'AMv']\n",
    "\n",
    "cplots.plot_ccf_overlay(obs, ccf_polygons,\n",
    "                        point_hue='supertype', point_palette=palettes['supertype'],\n",
    "                        sections=sections,\n",
    "                        ccf_names=nuclei, legend='cells',\n",
    "                        **kwargs);"
   ]
  },
  {
   "cell_type": "code",
   "execution_count": 26,
   "id": "52d5d13c",
   "metadata": {},
   "outputs": [],
   "source": [
    "# or plot all sections based on the selected cells\n",
    "cplots.plot_ccf_overlay(obs, ccf_polygons,\n",
    "                        point_hue='supertype', point_palette=palettes['supertype'],\n",
    "                        sections=None,\n",
    "                        ccf_names=nuclei, legend='cells',\n",
    "                        **kwargs);"
   ]
  },
  {
   "cell_type": "markdown",
   "id": "0dc00556",
   "metadata": {},
   "source": [
    "#### clusters"
   ]
  },
  {
   "cell_type": "code",
   "execution_count": 27,
   "id": "fe940bef",
   "metadata": {},
   "outputs": [],
   "source": [
    "cplots.plot_ccf_overlay(obs, ccf_polygons,\n",
    "                        point_hue='cluster', point_palette=palettes['cluster'],\n",
    "                        sections=sections,\n",
    "                        ccf_names=nuclei, legend='cells',\n",
    "                        **kwargs);"
   ]
  },
  {
   "cell_type": "markdown",
   "id": "19537386",
   "metadata": {},
   "source": [
    "### VAL + VM (clusters)"
   ]
  },
  {
   "cell_type": "code",
   "execution_count": 28,
   "id": "15737205",
   "metadata": {},
   "outputs": [],
   "source": [
    "\n",
    "sections = [7.2, 7.0, 6.8]\n",
    "clusters = ['2683','2684','2687']\n",
    "obs = obs_th_neurons.loc[lambda df: df['cluster'].str[:4].isin(clusters)]\n",
    "nuclei = ['VM','VAL']\n",
    "cplots.plot_ccf_overlay(obs, ccf_polygons,\n",
    "                        point_hue='cluster', point_palette=palettes['cluster'],\n",
    "                        sections=sections,\n",
    "                        ccf_names=nuclei, legend='cells',\n",
    "                        **kwargs);"
   ]
  },
  {
   "cell_type": "markdown",
   "id": "56e9ac26",
   "metadata": {},
   "source": [
    "### PVT"
   ]
  },
  {
   "cell_type": "markdown",
   "id": "a2be79de",
   "metadata": {},
   "source": [
    "#### supertypes in one subclass"
   ]
  },
  {
   "cell_type": "code",
   "execution_count": 29,
   "id": "a521e37c",
   "metadata": {},
   "outputs": [],
   "source": [
    "sections = [6.6, 7.8, 8.2]\n",
    "nuclei = ['PVT']\n",
    "# subclasses annotated as PVT\n",
    "obs = obs_th_neurons.loc[np.any([obs_th_neurons['subclass'].str.contains(x).values for x in nuclei], axis=0), :]\n",
    "cplots.plot_ccf_overlay(obs, ccf_polygons,\n",
    "                        point_hue='supertype', point_palette=palettes['supertype'],\n",
    "                        sections=sections,\n",
    "                        ccf_names=nuclei, legend='cells',\n",
    "                        **kwargs);"
   ]
  },
  {
   "cell_type": "markdown",
   "id": "54551327",
   "metadata": {},
   "source": [
    "### RT"
   ]
  },
  {
   "cell_type": "markdown",
   "id": "934e6f64",
   "metadata": {},
   "source": [
    "#### supertypes in one subclass"
   ]
  },
  {
   "cell_type": "code",
   "execution_count": 30,
   "id": "30f549c0",
   "metadata": {},
   "outputs": [],
   "source": [
    "sections = [7.2, 7.8]\n",
    "nuclei = ['RT','ZI']\n",
    "match = 'RT-ZI'\n",
    "obs = obs_th_neurons.loc[obs_th_neurons['subclass'].str.contains(match)]\n",
    "cplots.plot_ccf_overlay(obs, ccf_polygons,\n",
    "                        point_hue='supertype', point_palette=palettes['supertype'],\n",
    "                        sections=sections,\n",
    "                        ccf_names=nuclei, legend='cells',\n",
    "                        **kwargs);"
   ]
  },
  {
   "cell_type": "markdown",
   "id": "5fdbe282",
   "metadata": {
    "tags": []
   },
   "source": [
    "## other nuclei from annotations"
   ]
  },
  {
   "cell_type": "markdown",
   "id": "1fa7426d",
   "metadata": {},
   "source": [
    "### PT"
   ]
  },
  {
   "cell_type": "code",
   "execution_count": 31,
   "id": "c79d15a8",
   "metadata": {},
   "outputs": [],
   "source": [
    "nucleus='PT'\n",
    "obs = abc.get_obs_from_annotated_clusters(nucleus, obs_th_neurons)\n",
    "\n",
    "cplots.plot_ccf_overlay(obs, ccf_polygons,\n",
    "                        point_hue='supertype', point_palette=palettes['supertype'],\n",
    "                        ccf_names=[nucleus],\n",
    "                        **kwargs);"
   ]
  },
  {
   "cell_type": "markdown",
   "id": "68e7c3bb",
   "metadata": {},
   "source": [
    "### LGd"
   ]
  },
  {
   "cell_type": "code",
   "execution_count": 32,
   "id": "9a7bb429",
   "metadata": {},
   "outputs": [],
   "source": [
    "\n",
    "nuclei=['LGd-co', 'LGd-ip', 'LGd-sh']\n",
    "obs = abc.get_obs_from_annotated_clusters('LGd', obs_th_neurons)\n",
    "\n",
    "cplots.plot_ccf_overlay(obs, ccf_polygons,\n",
    "                        point_hue='cluster', point_palette=palettes['cluster'],\n",
    "                        ccf_names=nuclei,\n",
    "                        **kwargs);"
   ]
  },
  {
   "cell_type": "markdown",
   "id": "b34ceb46",
   "metadata": {},
   "source": [
    "### SMT"
   ]
  },
  {
   "cell_type": "code",
   "execution_count": 33,
   "id": "9f5a462d",
   "metadata": {},
   "outputs": [],
   "source": [
    "nucleus='SMT'\n",
    "obs = abc.get_obs_from_annotated_clusters(nucleus, obs_th_neurons)\n",
    "\n",
    "cplots.plot_ccf_overlay(obs, ccf_polygons,\n",
    "                        point_hue='cluster', point_palette=palettes['cluster'],\n",
    "                        ccf_names=[nucleus],\n",
    "                        **kwargs);"
   ]
  },
  {
   "cell_type": "markdown",
   "id": "48d5e035",
   "metadata": {},
   "source": [
    "### LD"
   ]
  },
  {
   "cell_type": "code",
   "execution_count": 34,
   "id": "e2dd53c2",
   "metadata": {},
   "outputs": [],
   "source": [
    "nucleus='LD'\n",
    "obs = abc.get_obs_from_annotated_clusters(nucleus, obs_th_neurons)\n",
    "\n",
    "cplots.plot_ccf_overlay(obs, ccf_polygons,\n",
    "                        point_hue='cluster', point_palette=palettes['cluster'],\n",
    "                        ccf_names=[nucleus],\n",
    "                        **kwargs);"
   ]
  },
  {
   "cell_type": "markdown",
   "id": "36a36b41",
   "metadata": {},
   "source": [
    "### PVT-IMD overlap"
   ]
  },
  {
   "cell_type": "code",
   "execution_count": 35,
   "id": "f4a046f9",
   "metadata": {},
   "outputs": [],
   "source": [
    "# by annotation\n",
    "obs = pd.concat([\n",
    "    abc.get_obs_from_annotated_clusters('PVT', obs_th_neurons),\n",
    "    abc.get_obs_from_annotated_clusters('PVT IMD', obs_th_neurons)\n",
    "])\n",
    "nuclei = ['PVT','IMD']\n",
    "# by subclass (excluding)\n",
    "# obs = obs_th_neurons.loc[lambda df: df['subclass'].str.contains('PVT')]\n",
    "# obs = obs.loc[obs.index.difference(obs_anno.index)]\n",
    "\n",
    "# by cluster\n",
    "# clusters = ['2617','2629']\n",
    "# obs = obs_th_neurons.loc[lambda df: df['cluster'].str[:4].isin(clusters)]\n",
    "\n",
    "cplots.plot_ccf_overlay(obs, ccf_polygons,\n",
    "                        min_group_count=0,min_section_count=20,\n",
    "                        point_hue='cluster', point_palette=palettes['cluster'],\n",
    "                        ccf_names=nuclei, \n",
    "                        **kwargs);"
   ]
  },
  {
   "cell_type": "markdown",
   "id": "99bb26c9-274b-4684-a317-48e9d111caa3",
   "metadata": {},
   "source": [
    "## Clusters, no CCF overlay"
   ]
  },
  {
   "cell_type": "code",
   "execution_count": 36,
   "id": "2cd0767d-fcc7-4388-b2ea-e7b3d8455831",
   "metadata": {
    "tags": []
   },
   "outputs": [],
   "source": [
    "obs = obs_th_neurons.loc[lambda df: df['subclass'].isin(subclasses_all)]\n",
    "nuclei = ['AD', 'AV', 'AMd', 'AMv']\n",
    "kwargs = dict(\n",
    "    bg_cells=obs_th_strict,\n",
    "    section_col=section_col,\n",
    "    x_col = 'x_'+coords,\n",
    "    y_col = 'y_'+coords,\n",
    "    s=5, \n",
    "    shape_palette='dark_outline',\n",
    "    boundary_img=ccf_boundaries\n",
    ")\n",
    "cplots.plot_ccf_overlay(obs, ccf_polygons, \n",
    "                        point_hue='cluster', sections=[sections_GRC[1]],\n",
    "                        point_palette=palettes['cluster'],\n",
    "                        ccf_names=nuclei,\n",
    "                        legend=None, \n",
    "                        **kwargs);"
   ]
  },
  {
   "cell_type": "markdown",
   "id": "3d3655db-5d08-4c21-ab84-96083b18aaf5",
   "metadata": {},
   "source": [
    "## Gene expression, no CCF overlay"
   ]
  },
  {
   "cell_type": "code",
   "execution_count": 37,
   "id": "8aa0b051-2fdf-43e4-987f-ec10f8aecf6e",
   "metadata": {
    "tags": []
   },
   "outputs": [],
   "source": [
    "adata = abc.load_adata(transform='log2', subset_to_TH_ZI=True, with_metadata=True,\n",
    "                       flip_y=False, round_z=True, cirro_names=False, \n",
    "                       with_colors=True, realigned=False, loaded_metadata=None)\n",
    "\n",
    "adata = abc.filter_adata_by_class(adata, filter_nonneuronal=True, \n",
    "                                  filter_midbrain=True, \n",
    "                                  filter_others=True)"
   ]
  },
  {
   "cell_type": "code",
   "execution_count": 38,
   "id": "1a955741",
   "metadata": {
    "tags": []
   },
   "outputs": [],
   "source": [
    "cplots.plot_expression_ccf(adata, 'Gad2', ccf_polygons, \n",
    "                           sections=[7.2], \n",
    "                           nuclei=['AD'], highlight=['AD'], # not in this section so result is no ccf overlays\n",
    "                           s=0.5, cmap='Blues', show_outline=False, \n",
    "                           bg_shapes=False, axes=False,  \n",
    "                           section_col='z_reconstructed', \n",
    "                           x_col='x_reconstructed',\n",
    "                           y_col='y_reconstructed',\n",
    "                           boundary_img=None)"
   ]
  },
  {
   "cell_type": "code",
   "execution_count": 39,
   "id": "eed27abb-b9d7-4f47-aaba-2802966cb9af",
   "metadata": {
    "tags": []
   },
   "outputs": [],
   "source": [
    "cplots.plot_expression_ccf(adata, 'Slc17a7', ccf_polygons, \n",
    "                           sections=[7.2], \n",
    "                           nuclei=['AD'], highlight=['AD'], # not in this section so result is no ccf overlays\n",
    "                           s=0.5, cmap='Blues', show_outline=False, \n",
    "                           bg_shapes=False, axes=False,  \n",
    "                           section_col='z_reconstructed', \n",
    "                           x_col='x_reconstructed',\n",
    "                           y_col='y_reconstructed',\n",
    "                           boundary_img=None)"
   ]
  },
  {
   "cell_type": "code",
   "execution_count": null,
   "id": "fd67e348-ec6a-45d4-9024-f099c73e5810",
   "metadata": {},
   "outputs": [],
   "source": []
  }
 ],
 "metadata": {
  "kernelspec": {
   "display_name": "Python 3 (ipykernel)",
   "language": "python",
   "name": "python3"
  },
  "language_info": {
   "codemirror_mode": {
    "name": "ipython",
    "version": 3
   },
   "file_extension": ".py",
   "mimetype": "text/x-python",
   "name": "python",
   "nbconvert_exporter": "python",
   "pygments_lexer": "ipython3",
   "version": "3.9.12"
  },
  "vscode": {
   "interpreter": {
    "hash": "d4d1e4263499bec80672ea0156c357c1ee493ec2b1c70f0acce89fc37c4a6abe"
   }
  }
 },
 "nbformat": 4,
 "nbformat_minor": 5
}
