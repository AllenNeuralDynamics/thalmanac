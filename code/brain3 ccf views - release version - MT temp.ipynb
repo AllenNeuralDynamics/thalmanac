{
 "cells": [
  {
   "cell_type": "code",
   "execution_count": 1,
   "id": "37b88bb5-c784-40a3-979b-aaf2db53f259",
   "metadata": {
    "tags": []
   },
   "outputs": [],
   "source": [
    "%load_ext autoreload\n",
    "%autoreload 2"
   ]
  },
  {
   "cell_type": "code",
   "execution_count": 2,
   "id": "b21f526e-a5f1-4af5-9605-bfa01ee161bf",
   "metadata": {
    "tags": []
   },
   "outputs": [],
   "source": [
    "import anndata as ad\n",
    "import pandas as pd\n",
    "import matplotlib.pyplot as plt\n",
    "import seaborn as sns\n",
    "\n",
    "import ccf_polygons as cshapes\n",
    "import ccf_plots as cplots\n",
    "import abc_load\n",
    "\n",
    "%matplotlib inline\n",
    "\n",
    "sns.set_style('white')"
   ]
  },
  {
   "cell_type": "code",
   "execution_count": 3,
   "id": "f96c0a87-8a3d-4389-9561-3acfaea87df1",
   "metadata": {
    "tags": []
   },
   "outputs": [],
   "source": [
    "from importlib import reload"
   ]
  },
  {
   "cell_type": "markdown",
   "id": "b11818e6",
   "metadata": {
    "jp-MarkdownHeadingCollapsed": true,
    "tags": []
   },
   "source": [
    "## Load details (can skip)"
   ]
  },
  {
   "cell_type": "code",
   "execution_count": 3,
   "id": "489c8249-8e66-4c70-b50e-61541fda448e",
   "metadata": {},
   "outputs": [],
   "source": [
    "from pathlib import Path\n",
    "import json\n",
    "# abc_root = Path(\"/data/allen-brain-cell-atlas/\")\n",
    "abc_root = Path(\"/data/abc_atlas/\")\n",
    "with open(abc_root/\"releases/20230630/manifest.json\") as file:\n",
    "    manifest = json.load(file)\n",
    "metadata = manifest['file_listing']['MERFISH-C57BL6J-638850']['metadata']"
   ]
  },
  {
   "cell_type": "code",
   "execution_count": null,
   "id": "33d0fb20-30a9-4d82-bbfa-870698bb107a",
   "metadata": {},
   "outputs": [],
   "source": [
    "\n",
    "# cells_df = pd.read_csv(abc_root/metadata['cell_metadata_with_cluster_annotation']['files']['csv']['relative_path'], index_col=0)\n",
    "cells_df = pd.read_csv(\"/data/abc_atlas/metadata/MERFISH-C57BL6J-638850/20230630/views/cell_metadata_with_cluster_annotation.csv\",\n",
    "# cells_df = pd.read_csv(\"/data/abc_atlas/metadata/MERFISH-C57BL6J-638850/20230630/cell_metadata.csv\",\n",
    "                       dtype={'cell_label':str}, index_col=0)\n",
    "cells_df.shape"
   ]
  },
  {
   "cell_type": "code",
   "execution_count": null,
   "id": "28804a85-daf7-4d67-baa0-7f8e2186cde8",
   "metadata": {},
   "outputs": [],
   "source": [
    "cells_df.columns"
   ]
  },
  {
   "cell_type": "markdown",
   "id": "ee5af81e-a809-4ce8-b6db-867fb1e1908c",
   "metadata": {},
   "source": [
    "Why is there missing position data across all sections? Additional attrition from slice coords to ccf is mostly at end sections, but this is distributed..."
   ]
  },
  {
   "cell_type": "code",
   "execution_count": null,
   "id": "e5a28cfd-a51a-4ac4-8323-fba905a2980c",
   "metadata": {
    "tags": []
   },
   "outputs": [],
   "source": [
    "cells_df['x'].isna().value_counts().sort_index()"
   ]
  },
  {
   "cell_type": "code",
   "execution_count": null,
   "id": "2ffdb56d-33a1-4e32-a2cf-9de101de3492",
   "metadata": {
    "tags": []
   },
   "outputs": [],
   "source": [
    "cells_df.loc[lambda df: df['x'].isna(), 'brain_section_label'].value_counts().sort_index()"
   ]
  },
  {
   "cell_type": "code",
   "execution_count": null,
   "id": "0dd6c158-18ab-4544-a090-5de367618c2a",
   "metadata": {},
   "outputs": [],
   "source": [
    "ccf_df = pd.read_csv(\"/data/abc_atlas/metadata/MERFISH-C57BL6J-638850-CCF/20230630/views/cell_metadata_with_parcellation_annotation.csv\",\n",
    "# ccf_df = pd.read_csv(\"/data/abc_atlas/metadata/MERFISH-C57BL6J-638850-CCF/20230630/reconstructed_coordinates.csv\", \n",
    "                     dtype={'cell_label':str}, index_col=0)\n",
    "ccf_df.shape"
   ]
  },
  {
   "cell_type": "code",
   "execution_count": null,
   "id": "9d2dd49a",
   "metadata": {},
   "outputs": [],
   "source": [
    "ccf_df.columns"
   ]
  },
  {
   "cell_type": "code",
   "execution_count": null,
   "id": "3670140d-c2bd-4cc4-9bff-a190d116e00a",
   "metadata": {},
   "outputs": [],
   "source": [
    "metadata_ccf = manifest['file_listing']['Allen-CCF-2020']['metadata']\n",
    "rpath = metadata_ccf['parcellation_to_parcellation_term_membership_acronym']['files']['csv']['relative_path']\n",
    "parcellation_annotation = pd.read_csv(abc_root/rpath, index_col=0)\n",
    "parcellation_annotation.columns = ['parcellation_%s'% x for x in  parcellation_annotation.columns]\n",
    "ccf_df = ccf_df.join(parcellation_annotation, on='parcellation_index')\n",
    "ccf_df.columns"
   ]
  },
  {
   "cell_type": "code",
   "execution_count": null,
   "id": "1850c3c3-7acf-45b6-945a-20292c084728",
   "metadata": {},
   "outputs": [],
   "source": [
    "rpath = metadata_ccf['parcellation_to_parcellation_term_membership_color']['files']['csv']['relative_path']\n",
    "ccf_colors = (pd.read_csv(abc_root/rpath, index_col=0)\n",
    "              .join(parcellation_annotation)\n",
    "              .set_index('parcellation_substructure'))"
   ]
  },
  {
   "cell_type": "code",
   "execution_count": null,
   "id": "bf6e242f-5de7-4629-9887-360306509d39",
   "metadata": {},
   "outputs": [],
   "source": [
    "adata_ref = ad.read_h5ad(\"/data/merfish_638850_AIT17.custom_CCF_annotated_TH_ZI_only_2023-05-04_00-00-00/atlas_brain_638850_AIT17_custom_CCF_annotated_TH_ZI_only.h5ad\",\n",
    "                        backed='r')\n",
    "\n",
    "adata = ad.read_h5ad(\"/data/abc_atlas/expression_matrices/MERFISH-C57BL6J-638850/20230630/C57BL6J-638850-log2.h5ad\", backed='r')\n",
    "adata"
   ]
  },
  {
   "cell_type": "code",
   "execution_count": null,
   "id": "58f1fc67-c822-4fc5-96d4-75639f3cee79",
   "metadata": {},
   "outputs": [],
   "source": [
    "# QC'd cells or mismatched names?\n",
    "len(adata_ref.obs_names.difference(adata.obs_names))"
   ]
  },
  {
   "cell_type": "code",
   "execution_count": null,
   "id": "e626ad4d-56af-417c-af9f-82d31d054253",
   "metadata": {},
   "outputs": [],
   "source": [
    "adata = adata[adata.obs_names.intersection(adata_ref.obs_names)]\n",
    "adata = adata.to_memory()\n",
    "adata"
   ]
  },
  {
   "cell_type": "code",
   "execution_count": null,
   "id": "d74f20b7-edf5-4d66-b0d5-a1cad77b7062",
   "metadata": {},
   "outputs": [],
   "source": [
    "cells_df['y'] *= -1\n",
    "cells_df.rename(columns={'x':'x_section','y':'y_section','z':'z_section'}, inplace=True)\n",
    "ccf_df['y'] *= -1\n",
    "ccf_df.rename(columns={'x':'x_reconstructed','y':'y_reconstructed','z':'z_reconstructed'}, inplace=True)\n",
    "\n",
    "rename={\n",
    "    'x_section':'cirro_x',\n",
    "    'y_section':'cirro_y',\n",
    "    'brain_section_label':'section',\n",
    "    'parcellation_substructure':'CCF_acronym'\n",
    "}\n",
    "\n",
    "ccf_df.rename(columns=rename, inplace=True)\n",
    "cells_df.rename(columns=rename, inplace=True)"
   ]
  },
  {
   "cell_type": "code",
   "execution_count": null,
   "id": "fba53c49-da48-4075-b798-89e558ec29ab",
   "metadata": {},
   "outputs": [],
   "source": [
    "adata.obs = adata.obs.join(cells_df[cells_df.columns.difference(adata.obs.columns)])\n",
    "adata.obs = adata.obs.join(ccf_df[ccf_df.columns.difference(adata.obs.columns)])"
   ]
  },
  {
   "cell_type": "markdown",
   "id": "6f96a821-abaf-4240-9958-5f4b68af5e7b",
   "metadata": {},
   "source": [
    "# define and view CCF polygons"
   ]
  },
  {
   "cell_type": "code",
   "execution_count": 4,
   "id": "55333d41-30b1-4177-82a1-50c7f8979569",
   "metadata": {
    "tags": []
   },
   "outputs": [],
   "source": [
    "adata = abc_load.load_adata(cirro_names=True, flip_y=True)"
   ]
  },
  {
   "cell_type": "code",
   "execution_count": 5,
   "id": "8db1ed86",
   "metadata": {
    "tags": []
   },
   "outputs": [],
   "source": [
    "adata.obs['supertype'] = pd.Categorical(adata.obs['supertype'].str[5:])\n",
    "adata.obs['subclass'] = pd.Categorical(adata.obs['subclass'].str[4:])"
   ]
  },
  {
   "cell_type": "code",
   "execution_count": 6,
   "id": "d30021cd-431c-411b-a01d-9d1f7ff6cf30",
   "metadata": {
    "tags": []
   },
   "outputs": [],
   "source": [
    "adata"
   ]
  },
  {
   "cell_type": "markdown",
   "id": "9d3df1fd-224b-4c0e-8cb9-fe46366760a7",
   "metadata": {},
   "source": [
    "## calc polygons"
   ]
  },
  {
   "cell_type": "code",
   "execution_count": 7,
   "id": "119a19c8-a706-4dd8-a04a-075a18300013",
   "metadata": {
    "tags": []
   },
   "outputs": [],
   "source": [
    "ccf_polygons = cshapes.get_ccf_polygons(adata.obs)"
   ]
  },
  {
   "cell_type": "code",
   "execution_count": 8,
   "id": "850036b8-3320-4d21-94bc-6b7f7c4d274f",
   "metadata": {
    "tags": []
   },
   "outputs": [],
   "source": [
    "ccf_polygons_th_zi = ccf_polygons[ccf_polygons.index.isin(cshapes.CCF_TH_NAMES, level=\"name\")]"
   ]
  },
  {
   "cell_type": "code",
   "execution_count": 9,
   "id": "524fe171-736f-4e00-a530-3274eecc34e1",
   "metadata": {
    "scrolled": true,
    "tags": []
   },
   "outputs": [],
   "source": [
    "# sections = [\"1199651024\", \"1199651036\", \"1199651048\"]\n",
    "sections = [\"C57BL6J-638850.32\", \"C57BL6J-638850.36\", \"C57BL6J-638850.40\"]\n",
    "cplots.plot_ccf_overlay(adata.obs, ccf_polygons_th_zi, sections=sections)"
   ]
  },
  {
   "cell_type": "markdown",
   "id": "9da8bb6c-2ba8-4e92-a1d9-ecd84dc408a5",
   "metadata": {},
   "source": [
    "## view thalamus subset with subclass labels"
   ]
  },
  {
   "cell_type": "code",
   "execution_count": 10,
   "id": "90d57bc0-33ce-4b7f-81a9-a4d4f1bf58c9",
   "metadata": {
    "tags": []
   },
   "outputs": [],
   "source": [
    "nonneuronal_classes = ['30 Astro-Epen', '31 OPC-Oligo', '32 OEC', '33 Vascular', '34 Immune']\n",
    "adata_neuronal = adata[~adata.obs[\"class\"].isin(nonneuronal_classes)].copy()\n",
    "# cluster_id as string to simplify querying\n",
    "adata_neuronal.obs['cluster_id'] = pd.Categorical(adata_neuronal.obs['cluster'].apply(\n",
    "    lambda x: x.split(' ')[0]))"
   ]
  },
  {
   "cell_type": "code",
   "execution_count": 11,
   "id": "84cb7d8c-7055-4d3e-a05d-e0b130821c9a",
   "metadata": {
    "scrolled": true,
    "tags": []
   },
   "outputs": [],
   "source": [
    "# may need to tweak clustering params on fine \n",
    "cplots.plot_ccf_overlay(adata.obs.iloc[[],:]#no foreground cells\n",
    "                       , ccf_polygons_th_zi, sections=sections, highlight='all', \n",
    "                           # x_field='x_section', y_field='y_section',\n",
    "                 bg_cells=adata_neuronal.obs, bg_shapes=False, min_group_count=0, legend=False)"
   ]
  },
  {
   "cell_type": "code",
   "execution_count": 12,
   "id": "5bf0618c-8837-4247-860b-a630aa259105",
   "metadata": {
    "tags": []
   },
   "outputs": [],
   "source": [
    "subclasses = adata_neuronal.obs['subclass'].value_counts().loc[lambda x: x>300]\n",
    "subclasses"
   ]
  },
  {
   "cell_type": "code",
   "execution_count": 13,
   "id": "a8e01ea1-4070-4b53-bd55-c00f10c15ba3",
   "metadata": {
    "tags": []
   },
   "outputs": [],
   "source": [
    "len(subclasses)"
   ]
  },
  {
   "cell_type": "code",
   "execution_count": 14,
   "id": "ccb94149-01e3-47e2-b970-dd96ca17de64",
   "metadata": {
    "tags": []
   },
   "outputs": [],
   "source": [
    "adata_neuronal.obs.loc[lambda df: df['subclass'].isin(subclasses.index), 'neurotransmitter'].value_counts().loc[lambda x: x>0]"
   ]
  },
  {
   "cell_type": "code",
   "execution_count": 15,
   "id": "3b097c7c-d407-4c38-bc52-d8d3ac6a261e",
   "metadata": {
    "tags": []
   },
   "outputs": [],
   "source": [
    "adata_neuronal.obs.loc[lambda df: df['subclass'].isin(subclasses.index), 'class'].value_counts().loc[lambda x: x>0]"
   ]
  },
  {
   "cell_type": "code",
   "execution_count": 16,
   "id": "30afd613-7f2f-4e51-8afa-29601b405a8f",
   "metadata": {
    "tags": []
   },
   "outputs": [],
   "source": [
    "adata_neuronal.obs.loc[lambda df: df['subclass'].isin(subclasses.index), 'supertype'].unique().shape[0]"
   ]
  },
  {
   "cell_type": "code",
   "execution_count": 17,
   "id": "9e72ffb4-25e3-4fd7-8d7d-34c48cfb252c",
   "metadata": {
    "tags": []
   },
   "outputs": [],
   "source": [
    "adata_neuronal.obs.loc[lambda df: df['subclass'].isin(subclasses.index), 'cluster'].unique().shape[0]"
   ]
  },
  {
   "cell_type": "code",
   "execution_count": 18,
   "id": "9c7636d3-a64c-4e70-8f72-93a6173f5c3b",
   "metadata": {
    "tags": []
   },
   "outputs": [],
   "source": [
    "from colorcet import glasbey\n",
    "point_palette = dict(zip(subclasses.index, sns.color_palette(glasbey, n_colors=len(subclasses.index))))\n",
    "\n",
    "from matplotlib.colors import rgb2hex\n",
    "{x.replace(' ', '_'): rgb2hex(point_palette[x]) for x in point_palette.keys()}"
   ]
  },
  {
   "cell_type": "code",
   "execution_count": 19,
   "id": "68607550-f2a1-4984-8829-78e04fa30b6d",
   "metadata": {
    "scrolled": true,
    "tags": []
   },
   "outputs": [],
   "source": [
    "obs = adata_neuronal.obs.loc[lambda df: df['subclass'].isin(subclasses.index)]\n",
    "cplots.plot_ccf_overlay(obs, ccf_polygons_th_zi, bg_cells=adata_neuronal.obs, point_hue='subclass', sections=sections,\n",
    "                 shape_palette='dark_outline', point_palette=point_palette, legend=False, highlight='all',\n",
    "                           # x_field='x_section', y_field='y_section',\n",
    "                 min_group_count=30)"
   ]
  },
  {
   "cell_type": "markdown",
   "id": "e6059d52-ef34-4e20-be15-9ce9d592652e",
   "metadata": {},
   "source": [
    "# Investigate prong 1 cluster-nucleus groups"
   ]
  },
  {
   "cell_type": "code",
   "execution_count": 23,
   "id": "1ce5008d-48df-4be3-aa2e-8952af892f53",
   "metadata": {
    "tags": []
   },
   "outputs": [],
   "source": [
    "nuclei_df = pd.read_csv(\"../resources/Prong 1 Vitessce links by nucleus.csv\", index_col=0)\n",
    "\n",
    "def get_obs_from_annotated_clusters(name, adata, nuclei_df):\n",
    "    clusters = nuclei_df.loc[name, \"annotated clusters\"].split(', ')\n",
    "    obs = adata.obs.loc[lambda df: df['cluster_id'].isin(clusters)]\n",
    "    return obs"
   ]
  },
  {
   "cell_type": "markdown",
   "id": "58d01918-e6e5-443d-9b74-59e287301a8e",
   "metadata": {},
   "source": [
    "## VM"
   ]
  },
  {
   "cell_type": "code",
   "execution_count": 54,
   "id": "d0a39a8d-9c9f-4a54-b866-d29f52bd156b",
   "metadata": {
    "tags": []
   },
   "outputs": [],
   "source": [
    "obs = adata_neuronal.obs.query(\"supertype=='TH Prkcd Grin2c Glut_13'\")\n",
    "obs['cluster'].value_counts().loc[lambda x: x>5]"
   ]
  },
  {
   "cell_type": "code",
   "execution_count": 37,
   "id": "2fa74059-bf1a-453e-b89f-c6fa71d918bf",
   "metadata": {
    "tags": []
   },
   "outputs": [],
   "source": [
    "clusters_VM = ['2683 TH Prkcd Grin2c Glut_13', '2687 TH Prkcd Grin2c Glut_13']"
   ]
  },
  {
   "cell_type": "code",
   "execution_count": 58,
   "id": "d9bcbfe5-5eae-4e86-bfd0-818e7a2db1e8",
   "metadata": {
    "scrolled": true,
    "tags": []
   },
   "outputs": [],
   "source": [
    "obs_VM = adata_neuronal.obs.query(\"cluster=='2683 TH Prkcd Grin2c Glut_13' | cluster=='2687 TH Prkcd Grin2c Glut_13'\")\n",
    "cplots.plot_nucleus_cluster_comparison_slices(obs_VM, ccf_polygons_th_zi, nuclei=['VM', 'VAL'], legend='both', bg_cells=adata_neuronal.obs, bg_shapes=False, shape_palette='greyscale')"
   ]
  },
  {
   "cell_type": "code",
   "execution_count": 53,
   "id": "6bd81b2f-c28f-46cd-a180-501b86e2f32d",
   "metadata": {
    "scrolled": true,
    "tags": []
   },
   "outputs": [],
   "source": [
    "# remove 1140? annotated as VPMpc\n",
    "clusters = ['1138', '1141', '1142']\n",
    "obs = adata.obs.loc[lambda df: df['cluster'].str[:4].isin(clusters)]\n",
    "cplots.plot_nucleus_cluster_comparison_slices(obs, ccf_polygons_th_zi, nuclei=['VM'], legend='cells', bg_cells=adata_neuronal.obs, bg_shapes=False, shape_palette='greyscale')"
   ]
  },
  {
   "cell_type": "markdown",
   "id": "82a27e61-d95a-4814-96fa-cfda2c1ef989",
   "metadata": {
    "jp-MarkdownHeadingCollapsed": true,
    "tags": []
   },
   "source": [
    "### diff exp"
   ]
  },
  {
   "cell_type": "code",
   "execution_count": null,
   "id": "86c752c2-e00f-4954-91f2-cad4562c347b",
   "metadata": {
    "tags": []
   },
   "outputs": [],
   "source": [
    "import scanpy as sc"
   ]
  },
  {
   "cell_type": "code",
   "execution_count": null,
   "id": "cbd366e0-26fb-46c5-90fa-a07a3c7bfe68",
   "metadata": {
    "tags": []
   },
   "outputs": [],
   "source": [
    "sc.tl.rank_genes_groups(adata_neuronal, 'cluster_id', groups=['1142'], reference='1138', method='wilcoxon', rankby_abs=True)\n",
    "sc.pl.rank_genes_groups(adata_neuronal, n_genes=20)"
   ]
  },
  {
   "cell_type": "code",
   "execution_count": null,
   "id": "18d7ed38-fe8f-44b4-bb12-e42aefb79e3f",
   "metadata": {
    "tags": []
   },
   "outputs": [],
   "source": [
    "section='C57BL6J-638850.40'\n",
    "gene = \"Calb1\"\n",
    "nuclei=['VM', 'VAL']\n",
    "highlight_nuclei=['VM']\n",
    "cplots.plot_expression_ccf(adata_neuronal, section, gene, ccf_polygons, nuclei=nuclei, \n",
    "                    bg_shapes=False, highlight=highlight_nuclei,\n",
    "                    cmap='Blues', show_outline=True);"
   ]
  },
  {
   "cell_type": "code",
   "execution_count": null,
   "id": "636f2ab8-a3d9-45ef-984f-6049851626c0",
   "metadata": {
    "tags": []
   },
   "outputs": [],
   "source": [
    "gene = \"Necab1\"\n",
    "nuclei=['VM', 'VAL']\n",
    "highlight_nuclei=['VM']\n",
    "cplots.plot_expression_ccf(adata_neuronal, section, gene, ccf_polygons, nuclei=nuclei, \n",
    "                    bg_shapes=False, highlight=highlight_nuclei,\n",
    "                    cmap='Blues', show_outline=True);"
   ]
  },
  {
   "cell_type": "code",
   "execution_count": null,
   "id": "5cc1b9f2-e2cf-4410-9d9f-a96e4bd14ac3",
   "metadata": {
    "tags": []
   },
   "outputs": [],
   "source": [
    "gene = \"Spon1\"\n",
    "nuclei=['VM', 'VAL']\n",
    "highlight_nuclei=['VM']\n",
    "cplots.plot_expression_ccf(adata_neuronal, section, gene, ccf_polygons, nuclei=nuclei, \n",
    "                    bg_shapes=False, highlight=highlight_nuclei,\n",
    "                    cmap='Blues', show_outline=True);"
   ]
  },
  {
   "cell_type": "code",
   "execution_count": null,
   "id": "7ae30f6e-9eb9-452e-9077-db6935b4fad7",
   "metadata": {
    "tags": []
   },
   "outputs": [],
   "source": [
    "gene = \"Cbln1\"\n",
    "nuclei=['VM', 'VAL']\n",
    "highlight_nuclei=['VM']\n",
    "cplots.plot_expression_ccf(adata_neuronal, section, gene, ccf_polygons, nuclei=nuclei, \n",
    "                    bg_shapes=False, highlight=highlight_nuclei,\n",
    "                    cmap='Blues', show_outline=True);"
   ]
  },
  {
   "cell_type": "code",
   "execution_count": null,
   "id": "d89dfc18-7175-4ea1-a9f1-9f8f8512b9b9",
   "metadata": {
    "tags": []
   },
   "outputs": [],
   "source": [
    "gene = 'Tmie'\n",
    "nuclei=['VM', 'VAL']\n",
    "highlight_nuclei=['VM']\n",
    "cplots.plot_expression_ccf(adata_neuronal, section, gene, ccf_polygons, nuclei=nuclei, \n",
    "                    bg_shapes=False, highlight=highlight_nuclei,\n",
    "                    cmap='Blues', show_outline=True);"
   ]
  },
  {
   "cell_type": "code",
   "execution_count": null,
   "id": "a8dfac1e-f53a-46d9-b876-31c84648bef6",
   "metadata": {
    "tags": []
   },
   "outputs": [],
   "source": [
    "gene = 'Galnt18'\n",
    "nuclei=['VM', 'VAL']\n",
    "highlight_nuclei=['VM']\n",
    "cplots.plot_expression_ccf(adata_neuronal, section, gene, ccf_polygons, nuclei=nuclei, \n",
    "                    bg_shapes=False, highlight=highlight_nuclei,\n",
    "                    cmap='Blues', show_outline=True);"
   ]
  },
  {
   "cell_type": "code",
   "execution_count": null,
   "id": "a4886fc8-03fb-443b-9ea4-1ad7d0802302",
   "metadata": {
    "tags": []
   },
   "outputs": [],
   "source": [
    "sc.tl.rank_genes_groups(adata_neuronal, 'supertype', groups=['TH Prkcd Grin2c Glut_13'], method='wilcoxon', tie_correct=True)\n",
    "sc.pl.rank_genes_groups(adata_neuronal, n_genes=20)"
   ]
  },
  {
   "cell_type": "code",
   "execution_count": null,
   "id": "4055869a-5409-41e4-9bb3-dd12196b89c2",
   "metadata": {
    "tags": []
   },
   "outputs": [],
   "source": [
    "sc.tl.rank_genes_groups(adata_neuronal, 'cluster_id', groups=['1142'], method='wilcoxon', tie_correct=True)\n",
    "sc.pl.rank_genes_groups(adata_neuronal, n_genes=20)"
   ]
  },
  {
   "cell_type": "code",
   "execution_count": null,
   "id": "9e0a9a2a-2735-4e21-b735-80bc358a0ae9",
   "metadata": {
    "tags": []
   },
   "outputs": [],
   "source": [
    "# ISH diff ex search\n",
    "# https://mouse.brain-map.org/gene/show/87708\n",
    "\n",
    "gene = \"Galnt18\"\n",
    "nuclei=['VM', 'VAL']\n",
    "highlight_nuclei=['VM']\n",
    "cplots.plot_expression_ccf(adata_neuronal, section, gene, ccf_polygons, nuclei=nuclei, \n",
    "                    bg_shapes=False, highlight=highlight_nuclei,\n",
    "                    cmap='Blues', show_outline=True);"
   ]
  },
  {
   "cell_type": "code",
   "execution_count": null,
   "id": "9fa6b6ab-6ff2-4d8d-bd1b-e44e70b9fab3",
   "metadata": {
    "tags": []
   },
   "outputs": [],
   "source": [
    "gene = \"Stxbp6\"\n",
    "nuclei=['VM', 'VAL']\n",
    "highlight_nuclei=['VM']\n",
    "cplots.plot_expression_ccf(adata_neuronal, section, gene, ccf_polygons, nuclei=nuclei, \n",
    "                    bg_shapes=False, highlight=highlight_nuclei,\n",
    "                    cmap='Blues', show_outline=True);"
   ]
  },
  {
   "cell_type": "code",
   "execution_count": null,
   "id": "ecde0be8-6f82-4080-9993-265db50fc801",
   "metadata": {
    "tags": []
   },
   "outputs": [],
   "source": [
    "gene = \"Spon1\"\n",
    "nuclei=['VM', 'VAL']\n",
    "highlight_nuclei=['VM']\n",
    "cplots.plot_expression_ccf(adata_neuronal, section, gene, ccf_polygons, nuclei=nuclei, \n",
    "                    bg_shapes=False, highlight=highlight_nuclei,\n",
    "                    cmap='Blues', show_outline=True);"
   ]
  },
  {
   "cell_type": "markdown",
   "id": "899d185b-f893-4956-b7df-48c9c441b744",
   "metadata": {
    "tags": []
   },
   "source": [
    "### outlining VM / composition"
   ]
  },
  {
   "cell_type": "code",
   "execution_count": 35,
   "id": "34d79cd3-b91c-4a8b-b77e-38239d8ec895",
   "metadata": {
    "tags": []
   },
   "outputs": [],
   "source": [
    "import geopandas as gp\n",
    "neuron_points = gp.GeoSeries.from_xy(*adata_neuronal.obs[['cirro_x','cirro_y']].values.T, index=adata_neuronal.obs_names)"
   ]
  },
  {
   "cell_type": "code",
   "execution_count": null,
   "id": "efa02d54-fa77-4aec-aacb-73ec210f07b1",
   "metadata": {
    "tags": []
   },
   "outputs": [],
   "source": [
    "import hdbscan\n",
    "section='C57BL6J-638850.40'\n",
    "adata_vm = adata_neuronal[adata_neuronal.obs.query(f\"section=='{section}' & cluster_id=='1142'\").index].copy()\n",
    "df = adata_vm.obs\n",
    "X = df[['cirro_x','cirro_y']].values\n",
    "df['spatial_cluster'] = hdbscan.HDBSCAN(min_samples=5).fit_predict(X)\n",
    "core_clusters = df['spatial_cluster'].value_counts().index[:2]\n",
    "df['spatial_group'] = df['spatial_cluster'].apply(lambda x: 'core' if x in core_clusters else 'other')"
   ]
  },
  {
   "cell_type": "code",
   "execution_count": null,
   "id": "1903b71f-5d5b-435e-9dfd-48651ce85a48",
   "metadata": {
    "tags": []
   },
   "outputs": [],
   "source": [
    "sns.scatterplot(data=df,  x='cirro_x', y='cirro_y', hue='spatial_cluster', s=4,  legend=True, palette='tab10')"
   ]
  },
  {
   "cell_type": "code",
   "execution_count": null,
   "id": "6a550495-7f21-408f-b008-c759904383c1",
   "metadata": {
    "tags": []
   },
   "outputs": [],
   "source": [
    "nucleus = cshapes.get_polygon_from_obs(df.query(\"spatial_group=='core'\"))\n",
    "subset = neuron_points.geometry.intersects(nucleus)\n",
    "adata_neuronal.obs['in_nucleus'] = subset.values\n",
    "adata_nucleus = adata_neuronal[subset]"
   ]
  },
  {
   "cell_type": "code",
   "execution_count": null,
   "id": "bea5e4ac-1b41-4450-8b81-3c95b590d9d1",
   "metadata": {
    "tags": []
   },
   "outputs": [],
   "source": [
    "adata_neuronal.obs.query(f\"section=='{section}' & supertype=='TH Prkcd Grin2c Glut_13'\").groupby(['cluster'])['in_nucleus'].apply(lambda x: x.value_counts())"
   ]
  },
  {
   "cell_type": "code",
   "execution_count": null,
   "id": "c9f19460-4f9d-4665-b8d5-6884cbf2dce0",
   "metadata": {
    "tags": []
   },
   "outputs": [],
   "source": [
    "# need to include VAL types ??"
   ]
  },
  {
   "cell_type": "code",
   "execution_count": null,
   "id": "e12814fd-1a2c-466e-b717-4d80554f14e9",
   "metadata": {
    "tags": []
   },
   "outputs": [],
   "source": [
    "sc.tl.rank_genes_groups(adata_vm, 'spatial_group', groups=['core'], reference='other', method='wilcoxon', rankby_abs=True)\n",
    "sc.pl.rank_genes_groups(adata_vm, groups=['core'], n_genes=20)"
   ]
  },
  {
   "cell_type": "markdown",
   "id": "cf934f53-f634-4e39-bad1-57c31fd4d46a",
   "metadata": {},
   "source": [
    "## anterior"
   ]
  },
  {
   "cell_type": "code",
   "execution_count": 65,
   "id": "d6ce91d6-cc0e-48b8-8490-7923ddd61e05",
   "metadata": {
    "tags": []
   },
   "outputs": [],
   "source": [
    "obs = adata_neuronal.obs.query(\"supertype=='AD Serpinb7 Glut_1'\")\n",
    "obs['cluster'].value_counts().loc[lambda x: x>5]"
   ]
  },
  {
   "cell_type": "code",
   "execution_count": 66,
   "id": "31f62557-9572-4a12-b399-0056a072776d",
   "metadata": {
    "tags": []
   },
   "outputs": [],
   "source": [
    "obs = adata_neuronal.obs.query(\"supertype=='AV Col27a1 Glut_1'\")\n",
    "obs['cluster'].value_counts().loc[lambda x: x>5]"
   ]
  },
  {
   "cell_type": "code",
   "execution_count": 67,
   "id": "45a42a40-1edb-4add-a371-4e5d8959fd6d",
   "metadata": {
    "tags": []
   },
   "outputs": [],
   "source": [
    "obs = adata_neuronal.obs.query(\"supertype=='TH Prkcd Grin2c Glut_9'\")\n",
    "obs['cluster'].value_counts().loc[lambda x: x>5]"
   ]
  },
  {
   "cell_type": "code",
   "execution_count": 68,
   "id": "a1a442d0-21df-4593-aa62-239ea8c8d5ec",
   "metadata": {
    "scrolled": true,
    "tags": []
   },
   "outputs": [],
   "source": [
    "clusters = [str(x) for x in list(range(2613, 2616+1)) + list(range(2674, 2676+1))]\n",
    "obs = adata.obs.loc[lambda df: df['cluster'].str[:4].isin(clusters)]"
   ]
  },
  {
   "cell_type": "code",
   "execution_count": 71,
   "id": "9af23771-ee8a-45a5-a31e-4fc19755464f",
   "metadata": {
    "scrolled": true,
    "tags": []
   },
   "outputs": [],
   "source": [
    "cplots.plot_nucleus_cluster_comparison_slices(obs, ccf_polygons_th_zi, \n",
    "                                              nuclei=['AD','AMd','AMv','AV'], \n",
    "                                              legend='cells', \n",
    "                                              bg_cells=adata_neuronal.obs, \n",
    "                                              bg_shapes=False, \n",
    "                                              shape_palette='greyscale')"
   ]
  },
  {
   "cell_type": "code",
   "execution_count": null,
   "id": "00f4bf3e-4db3-4319-adec-aa0ff27930a6",
   "metadata": {
    "tags": []
   },
   "outputs": [],
   "source": [
    "nuclei=['AD', 'AV', 'AMd', 'AMv']\n",
    "section = 'C57BL6J-638850.44'\n",
    "# cplots.plot_ccf_section(ccf_polygons_th_zi, section, highlight=nuclei, )\n",
    "cplots.plot_ccf_overlay(adata.obs.loc[[],:], ccf_polygons_th_zi, sections=[section], highlight=nuclei, legend='both', bg_cells=adata_neuronal.obs, bg_shapes=True, min_group_count=0)"
   ]
  },
  {
   "cell_type": "code",
   "execution_count": null,
   "id": "57351b66-0a81-4c9d-a997-46d736ba8878",
   "metadata": {
    "scrolled": true,
    "tags": []
   },
   "outputs": [],
   "source": [
    "# cplots.plot_nucleus_cluster_comparison_slices('AD', adata, nuclei_df, ccf_polygons_th_zi)\n",
    "obs = get_obs_from_annotated_clusters('AD', adata_neuronal, nuclei_df)\n",
    "cplots.plot_nucleus_cluster_comparison_slices(obs, ccf_polygons_th_zi, nuclei='AD')"
   ]
  },
  {
   "cell_type": "markdown",
   "id": "dd98c3d5-d285-4110-9f35-e961564f7869",
   "metadata": {
    "jp-MarkdownHeadingCollapsed": true,
    "tags": []
   },
   "source": [
    "### diff exp"
   ]
  },
  {
   "cell_type": "markdown",
   "id": "dadd0ac9-97a2-466d-9609-a154445a788d",
   "metadata": {},
   "source": [
    "#### AV"
   ]
  },
  {
   "cell_type": "code",
   "execution_count": null,
   "id": "44e2abeb-7158-4b0e-ac27-33d20041a5ed",
   "metadata": {
    "tags": []
   },
   "outputs": [],
   "source": [
    "sc.tl.rank_genes_groups(adata_neuronal, 'subclass', groups=['AV Col27a1 Glut'], method='wilcoxon', rankby_abs=True)\n",
    "sc.pl.rank_genes_groups(adata_neuronal, n_genes=20)"
   ]
  },
  {
   "cell_type": "markdown",
   "id": "f7f5e9ba-875a-4b0e-b3a8-33aee98f00fe",
   "metadata": {},
   "source": [
    "##### Col27a1"
   ]
  },
  {
   "cell_type": "code",
   "execution_count": 60,
   "id": "95c79503-9d89-4943-8ab7-113521cfc4d1",
   "metadata": {
    "tags": []
   },
   "outputs": [],
   "source": [
    "section = 'C57BL6J-638850.44'\n",
    "\n",
    "gene = \"Col27a1\"\n",
    "ant_nuclei=['AD', 'AV', 'AMd', 'AMv']\n",
    "highlight_nuclei=['AD', 'AV']\n",
    "cplots.plot_expression_ccf(adata_neuronal, section, gene, ccf_polygons, nuclei=ant_nuclei, bg_shapes=False, \n",
    "                    cmap='Blues', show_outline=True, highlight=highlight_nuclei);"
   ]
  },
  {
   "cell_type": "markdown",
   "id": "6200cd79-0047-442f-b96b-3962e736e826",
   "metadata": {},
   "source": [
    "##### Sorcs3\n",
    "Mathew's plots in brain1 suggested high expression exclusively in the '1097 AV Col27a1 Glut cluster' in the AV\n",
    "\n",
    "That does not appear to be the case in brain3..."
   ]
  },
  {
   "cell_type": "code",
   "execution_count": null,
   "id": "ecd4d343-c696-4b33-8f38-bb4b44630d17",
   "metadata": {
    "tags": []
   },
   "outputs": [],
   "source": [
    "\n",
    "# Mathew's plots in brain1 suggested high expression exclusively in the '1097 AV Col27a1 Glut cluster' in the AV\n",
    "# That does not appear to be the case in brain3...\n",
    "gene = \"Sorcs3\"\n",
    "ant_nuclei=['AD', 'AV', 'AMd', 'AMv']\n",
    "highlight_nuclei=['AV']\n",
    "cplots.plot_expression_ccf(adata_neuronal, section, gene, ccf_polygons, nuclei=ant_nuclei, bg_shapes=False, \n",
    "                    cmap='Blues', show_outline=True, highlight=highlight_nuclei);"
   ]
  },
  {
   "cell_type": "markdown",
   "id": "02a2413a-c449-4021-9b96-5d467169f973",
   "metadata": {},
   "source": [
    "#### AD"
   ]
  },
  {
   "cell_type": "code",
   "execution_count": null,
   "id": "e222f084-6f18-4e6e-99e4-c6d1b2e3b276",
   "metadata": {
    "tags": []
   },
   "outputs": [],
   "source": [
    "sc.tl.rank_genes_groups(adata_neuronal, 'subclass', groups=['AD Serpinb7 Glut'], method='wilcoxon', rankby_abs=True)\n",
    "sc.pl.rank_genes_groups(adata_neuronal, n_genes=20)"
   ]
  },
  {
   "cell_type": "code",
   "execution_count": null,
   "id": "7537750a-1d05-453f-9f4a-6231d2855730",
   "metadata": {
    "tags": []
   },
   "outputs": [],
   "source": [
    "\n",
    "gene = \"Syndig1l\"\n",
    "ant_nuclei=['AD', 'AV', 'AMd', 'AMv']\n",
    "highlight_nuclei=['AD']\n",
    "cplots.plot_expression_ccf(adata_neuronal, section, gene, ccf_polygons, nuclei=ant_nuclei, bg_shapes=False, \n",
    "                    cmap='Blues', show_outline=True, highlight=highlight_nuclei);"
   ]
  },
  {
   "cell_type": "markdown",
   "id": "d140b73f-e065-4326-b5cc-f88aefd5e3ad",
   "metadata": {},
   "source": [
    "#### AM"
   ]
  },
  {
   "cell_type": "code",
   "execution_count": null,
   "id": "2160e5ac-1999-4b56-b64f-c42f3763649f",
   "metadata": {
    "tags": []
   },
   "outputs": [],
   "source": [
    "sc.tl.rank_genes_groups(adata_neuronal, 'supertype', groups=['TH Prkcd Grin2c Glut_9'], method='wilcoxon', rankby_abs=True)\n",
    "sc.pl.rank_genes_groups(adata_neuronal, n_genes=20)"
   ]
  },
  {
   "cell_type": "code",
   "execution_count": null,
   "id": "74194b27-9ee1-42d0-98d0-6f424f6be6ab",
   "metadata": {
    "tags": []
   },
   "outputs": [],
   "source": [
    "\n",
    "gene = \"Cbln1\"\n",
    "ant_nuclei=['AD', 'AV', 'AMd', 'AMv']\n",
    "highlight_nuclei=['AMd', 'AMv']\n",
    "cplots.plot_expression_ccf(adata_neuronal, section, gene, ccf_polygons, nuclei=ant_nuclei, bg_shapes=False, \n",
    "                    cmap='Blues', show_outline=True, highlight=highlight_nuclei);"
   ]
  },
  {
   "cell_type": "code",
   "execution_count": null,
   "id": "8d8544ec-edc5-4f6a-8843-e9eb3877d9ef",
   "metadata": {
    "tags": []
   },
   "outputs": [],
   "source": [
    "adata_neuronal.obs['anterior_type'] = (adata_neuronal.obs['supertype'].str.contains('Glut_9') |\n",
    "                                       adata_neuronal.obs['supertype'].str.contains('AD') |\n",
    "                                       adata_neuronal.obs['supertype'].str.contains('AV')).astype(str)"
   ]
  },
  {
   "cell_type": "code",
   "execution_count": null,
   "id": "d75e4955-7944-4087-8be0-c9ce11de505f",
   "metadata": {
    "tags": []
   },
   "outputs": [],
   "source": [
    "sc.tl.rank_genes_groups(adata_neuronal, 'anterior_type', method='wilcoxon', rankby_abs=True)\n",
    "sc.pl.rank_genes_groups(adata_neuronal, n_genes=20)"
   ]
  },
  {
   "cell_type": "code",
   "execution_count": 13,
   "id": "3b24566e-5a74-40ce-9578-bf571dca91ee",
   "metadata": {
    "tags": []
   },
   "outputs": [],
   "source": [
    "\n",
    "gene = \"C1ql3\"\n",
    "nuclei=['AD', 'AV', 'AMd', 'AMv']\n",
    "cplots.plot_expression_ccf(adata_neuronal, section, gene, ccf_polygons, nuclei=nuclei, bg_shapes=False, \n",
    "                    cmap='Blues', show_outline=True);"
   ]
  },
  {
   "cell_type": "code",
   "execution_count": null,
   "id": "8a0f290d-6336-46e9-a515-1d5170142f65",
   "metadata": {
    "tags": []
   },
   "outputs": [],
   "source": [
    "\n",
    "gene = \"Shox2\"\n",
    "nuclei=['AD', 'AV', 'AMd', 'AMv']\n",
    "cplots.plot_expression_ccf(adata_neuronal, section, gene, ccf_polygons, nuclei=nuclei, bg_shapes=False, \n",
    "                    cmap='Blues', show_outline=True);"
   ]
  },
  {
   "cell_type": "markdown",
   "id": "a51bc67b-895d-4b10-89cd-323a55c06985",
   "metadata": {
    "tags": []
   },
   "source": [
    "## MD"
   ]
  },
  {
   "cell_type": "code",
   "execution_count": null,
   "id": "3a7b010b-93b3-406b-8eec-f1ca74753951",
   "metadata": {
    "scrolled": true,
    "tags": []
   },
   "outputs": [],
   "source": [
    "cluster = \"1133 TH Prkcd Grin2c Glut_10\"\n",
    "obs = adata.obs.loc[lambda df: df['cluster']==cluster]\n",
    "nuclei = ['MD']\n",
    "palette = {cluster: \"#bcbd22\"}\n",
    "cplots.plot_nucleus_cluster_comparison_slices(obs, ccf_polygons_th_zi, nuclei=nuclei, legend='cells', bg_cells=adata_neuronal.obs, bg_shapes=False, \n",
    "                                       shape_palette='dark_outline', point_palette=palette, s=5)"
   ]
  },
  {
   "cell_type": "code",
   "execution_count": null,
   "id": "1d79a7fc-7c76-4bb4-866c-e90cb093fd2e",
   "metadata": {},
   "outputs": [],
   "source": [
    "cluster = \"1130 TH Prkcd Grin2c Glut_1\"\n",
    "obs = adata.obs.loc[lambda df: df['cluster']==cluster]\n",
    "nuclei = ['MD']\n",
    "palette = {cluster: \"#bcbd22\"}\n",
    "cplots.plot_nucleus_cluster_comparison_slices(obs, ccf_polygons_th_zi, nuclei=nuclei, legend='cells', bg_cells=adata_neuronal.obs, bg_shapes=False, \n",
    "                                       shape_palette='dark_outline', point_palette=palette, s=5)"
   ]
  },
  {
   "cell_type": "code",
   "execution_count": null,
   "id": "3cd9ebf9-c6e6-4b8c-be32-3ddbf33f3399",
   "metadata": {
    "scrolled": true,
    "tags": []
   },
   "outputs": [],
   "source": [
    "# TODO: should probably remove 1132 from annotation\n",
    "obs = get_obs_from_annotated_clusters('MD', adata_neuronal, nuclei_df)\n",
    "\n",
    "cplots.plot_nucleus_cluster_comparison_slices(obs, ccf_polygons_th_zi, nuclei=nuclei, legend='cells', bg_cells=adata_neuronal.obs, bg_shapes=False, \n",
    "                                       shape_palette='dark_outline', s=5)"
   ]
  },
  {
   "cell_type": "markdown",
   "id": "2dbb13e9-4f18-4d12-9050-a4dbbdf6b6c9",
   "metadata": {},
   "source": [
    "### diff exp"
   ]
  },
  {
   "cell_type": "code",
   "execution_count": null,
   "id": "19801e4a-3814-48a5-bdff-f67746981d2a",
   "metadata": {
    "tags": []
   },
   "outputs": [],
   "source": [
    "sc.tl.rank_genes_groups(adata_neuronal, 'cluster_id', groups=['1133'], method='wilcoxon', rankby_abs=True)\n",
    "sc.pl.rank_genes_groups(adata_neuronal, n_genes=20)"
   ]
  },
  {
   "cell_type": "markdown",
   "id": "4387e563-b976-4b69-8335-90b0ae99adb0",
   "metadata": {
    "tags": []
   },
   "source": [
    "## other"
   ]
  },
  {
   "cell_type": "code",
   "execution_count": null,
   "id": "31215762-e2f0-4c76-a2fa-83888fd49530",
   "metadata": {
    "scrolled": true,
    "tags": []
   },
   "outputs": [],
   "source": [
    "obs = get_obs_from_annotated_clusters('PT', adata_neuronal, nuclei_df)\n",
    "cplots.plot_nucleus_cluster_comparison_slices(obs, ccf_polygons_th_zi, nuclei='PT', legend='cells', bg_cells=adata_neuronal.obs, bg_shapes=False, \n",
    "                                       shape_palette='dark_outline', s=5)"
   ]
  },
  {
   "cell_type": "code",
   "execution_count": null,
   "id": "c90bffe0-5849-4118-85b9-2554aee73c91",
   "metadata": {
    "scrolled": true,
    "tags": []
   },
   "outputs": [],
   "source": [
    "obs = adata_neuronal.obs.query(\"supertype.str.contains('PVT-PT')\", engine='python')\n",
    "cplots.plot_nucleus_cluster_comparison_slices(obs, ccf_polygons_th_zi, nuclei=['PT','PVT'], bg_cells=adata_neuronal.obs, bg_shapes=False, legend='both')"
   ]
  },
  {
   "cell_type": "code",
   "execution_count": null,
   "id": "47ae967e-e879-47f6-b21b-06b6bd06b257",
   "metadata": {
    "scrolled": true,
    "tags": []
   },
   "outputs": [],
   "source": [
    "obs = get_obs_from_annotated_clusters('PVT', adata_neuronal, nuclei_df)\n",
    "cplots.plot_nucleus_cluster_comparison_slices(obs, ccf_polygons_th_zi, nuclei=['PT','PVT'], bg_cells=adata_neuronal.obs, bg_shapes=False, legend='both')"
   ]
  },
  {
   "cell_type": "code",
   "execution_count": null,
   "id": "e7fb693e-4197-407a-ad50-4db386025471",
   "metadata": {
    "scrolled": true,
    "tags": []
   },
   "outputs": [],
   "source": [
    "obs = get_obs_from_annotated_clusters('LGd', adata_neuronal, nuclei_df)\n",
    "cplots.plot_nucleus_cluster_comparison_slices(obs, ccf_polygons_th_zi, nuclei=['LGd-co', 'LGd-ip', 'LGd-sh'], bg_cells=adata_neuronal.obs, bg_shapes=False)"
   ]
  },
  {
   "cell_type": "code",
   "execution_count": null,
   "id": "f3153ee9-0bfc-4ce2-83c1-0d400007aa5d",
   "metadata": {
    "scrolled": true,
    "tags": []
   },
   "outputs": [],
   "source": [
    "obs = get_obs_from_annotated_clusters('SMT', adata_neuronal, nuclei_df)\n",
    "cplots.plot_nucleus_cluster_comparison_slices(obs, ccf_polygons_th_zi, nuclei='SMT', bg_cells=adata_neuronal.obs, bg_shapes=False)"
   ]
  },
  {
   "cell_type": "code",
   "execution_count": null,
   "id": "83f73d53-ca19-4662-988e-70ffc0e21114",
   "metadata": {
    "scrolled": true,
    "tags": []
   },
   "outputs": [],
   "source": [
    "obs = get_obs_from_annotated_clusters('LD', adata_neuronal, nuclei_df)\n",
    "cplots.plot_nucleus_cluster_comparison_slices(obs, ccf_polygons_th_zi, nuclei='LD', bg_cells=adata_neuronal.obs, bg_shapes=False)"
   ]
  },
  {
   "cell_type": "code",
   "execution_count": null,
   "id": "f546284e-308f-4ac8-a46d-45de2346a90f",
   "metadata": {},
   "outputs": [],
   "source": []
  }
 ],
 "metadata": {
  "kernelspec": {
   "display_name": "Python 3 (ipykernel)",
   "language": "python",
   "name": "python3"
  },
  "language_info": {
   "codemirror_mode": {
    "name": "ipython",
    "version": 3
   },
   "file_extension": ".py",
   "mimetype": "text/x-python",
   "name": "python",
   "nbconvert_exporter": "python",
   "pygments_lexer": "ipython3",
   "version": "3.9.12"
  },
  "vscode": {
   "interpreter": {
    "hash": "d4d1e4263499bec80672ea0156c357c1ee493ec2b1c70f0acce89fc37c4a6abe"
   }
  }
 },
 "nbformat": 4,
 "nbformat_minor": 5
}
