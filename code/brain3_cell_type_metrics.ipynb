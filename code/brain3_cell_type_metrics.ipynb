{
 "cells": [
  {
   "cell_type": "code",
   "execution_count": 1,
   "id": "0cd597e2",
   "metadata": {},
   "outputs": [],
   "source": [
    "import anndata as ad\n",
    "import pandas as pd\n",
    "import shapely\n",
    "import shapely.plotting as splot\n",
    "import matplotlib.pyplot as plt\n",
    "import matplotlib\n",
    "import seaborn as sns\n",
    "import numpy as np\n",
    "\n",
    "import ccf_plots as cplot\n",
    "import ccf_polygons as cpoly\n",
    "# import ccf_cells\n",
    "\n",
    "%matplotlib inline"
   ]
  },
  {
   "cell_type": "markdown",
   "id": "2c770388",
   "metadata": {},
   "source": [
    "# Load brain3 data"
   ]
  },
  {
   "cell_type": "code",
   "execution_count": 2,
   "id": "8171f730",
   "metadata": {},
   "outputs": [],
   "source": [
    "adata = ad.read_h5ad(\"../data/merfish_638850_AIT17.custom_CCF_annotated_TH_ZI_only_2023-05-04_00-00-00/atlas_brain_638850_AIT17_custom_CCF_annotated_TH_ZI_only.h5ad\")\n",
    "adata"
   ]
  },
  {
   "cell_type": "markdown",
   "id": "9cd35939",
   "metadata": {
    "jp-MarkdownHeadingCollapsed": true,
    "tags": []
   },
   "source": [
    "# Calculate CCF polygons"
   ]
  },
  {
   "cell_type": "code",
   "execution_count": 3,
   "id": "040dad88",
   "metadata": {},
   "outputs": [],
   "source": [
    "# nice to have everything for plotting in the obs dataframe\n",
    "adata.obs['cirro_x'] = adata.obsm['spatial_cirro'][:,0]\n",
    "adata.obs['cirro_y'] = adata.obsm['spatial_cirro'][:,1]"
   ]
  },
  {
   "cell_type": "code",
   "execution_count": 4,
   "id": "7fe0cb38",
   "metadata": {},
   "outputs": [],
   "source": [
    "ccf_polygons = cpoly.get_ccf_polygons(adata.obs)\n",
    "ccf_polygons_th_zi = ccf_polygons[ccf_polygons.index.isin(cpoly.CCF_TH_NAMES, level=\"name\")]"
   ]
  },
  {
   "cell_type": "code",
   "execution_count": 5,
   "id": "5003a576",
   "metadata": {},
   "outputs": [],
   "source": [
    "ccf_names_noZI = cpoly.CCF_TH_NAMES[:-1]\n",
    "ccf_polygons_th_noZI = ccf_polygons[ccf_polygons.index.isin(ccf_names_noZI, level=\"name\")]"
   ]
  },
  {
   "cell_type": "code",
   "execution_count": 6,
   "id": "6bb6d928",
   "metadata": {
    "tags": []
   },
   "outputs": [],
   "source": [
    "sections = [\"1199651024\", \"1199651036\", \"1199651048\"]\n",
    "cplot.plot_ccf_overlay(adata.obs, ccf_polygons_th_zi, sections=sections)"
   ]
  },
  {
   "cell_type": "code",
   "execution_count": 7,
   "id": "bfd000ec",
   "metadata": {},
   "outputs": [],
   "source": [
    "# subset just the neurons\n",
    "divisions_neuron = ['1 Pallium glutamatergic',\n",
    "                    '2 Subpallium GABAergic',\n",
    "                    '3 PAL-sAMY-TH-HY-MB-HB neuronal',\n",
    "                    '4 CBX-MOB-other neuronal']\n",
    "\n",
    "adata_neurons = adata[adata.obs['division_id_label'].isin(divisions_neuron)]"
   ]
  },
  {
   "cell_type": "markdown",
   "id": "37bdacaf",
   "metadata": {},
   "source": [
    "# Per Subregion Metrics (neurons only)"
   ]
  },
  {
   "cell_type": "code",
   "execution_count": 8,
   "id": "6f7d20e4",
   "metadata": {},
   "outputs": [],
   "source": [
    "# only look at the thalamic subregions as defined in cpoly.CCF_TH_NAMES\n",
    "adata_neurons_ccf = adata_neurons[adata_neurons.obs.CCF_acronym.isin(cpoly.CCF_TH_NAMES)]\n",
    "adata_neurons_ccf.obs.CCF_acronym.cat.categories"
   ]
  },
  {
   "cell_type": "code",
   "execution_count": 9,
   "id": "c50212a7",
   "metadata": {},
   "outputs": [],
   "source": [
    "# adata_neurons_ccf.obs.subclass_id_label"
   ]
  },
  {
   "cell_type": "code",
   "execution_count": 10,
   "id": "68d79447",
   "metadata": {},
   "outputs": [],
   "source": [
    "# define a new df in which to store metrics\n",
    "th_metrics = pd.DataFrame(index=cpoly.CCF_TH_NAMES)"
   ]
  },
  {
   "cell_type": "markdown",
   "id": "eeae487a",
   "metadata": {
    "tags": []
   },
   "source": [
    "## Cell Type Richness\n",
    "\n",
    "transcriptomic richness = \\# of (clusters/supertypes/subclasses/classes) present in a given subregion of the thalamus\n",
    "\n",
    "(Defined similarly to ecology's \"species richness\" = # of species in a given region)"
   ]
  },
  {
   "cell_type": "code",
   "execution_count": 11,
   "id": "4824f1ea",
   "metadata": {},
   "outputs": [],
   "source": [
    "# generate lists of the clusters, supertypes, subclasses, and classes present\n",
    "# in the thalamus data\n",
    "th_clusters = adata_neurons_ccf.obs.cluster_label.drop_duplicates().tolist()\n",
    "th_supertypes = adata_neurons_ccf.obs.supertype_id_label.drop_duplicates().tolist()\n",
    "th_subclasses = adata_neurons_ccf.obs.subclass_id_label.drop_duplicates().tolist()\n",
    "n_th_clusters = len(th_clusters)\n",
    "n_th_supertypes = len(th_supertypes)\n",
    "n_th_subclasses = len(th_subclasses)\n",
    "# print(f'{len(th_clusters)=}')\n",
    "# print(f'{len(adata_neurons_ccf.obs.cluster_label.unique().tolist())}')\n",
    "# print(f'{len(th_supertypes)=}')\n",
    "# print(f'{len(adata_neurons_ccf.obs.supertype_id_label.unique().tolist())}')\n",
    "# print(f'{len(th_subclasses)=}')\n",
    "# print(f'{len(adata_neurons_ccf.obs.subclass_id_label.unique().tolist())}')"
   ]
  },
  {
   "cell_type": "code",
   "execution_count": 12,
   "id": "92b28da8",
   "metadata": {},
   "outputs": [],
   "source": [
    "for subregion, df in adata_neurons_ccf.obs.groupby('CCF_acronym'):\n",
    "    # number of thalamic clusters, supertypes, subclasses in each subregion\n",
    "    th_metrics.loc[subregion, \n",
    "                   'n_clusters'] = len(df.cluster_label.drop_duplicates())\n",
    "    th_metrics.loc[subregion, \n",
    "                   'n_supertypes'] = len(df.supertype_id_label.drop_duplicates())\n",
    "    th_metrics.loc[subregion, \n",
    "                   'n_subclasses'] = len(df.subclass_id_label.drop_duplicates())\n",
    "\n",
    "    # fraction of thalamic clusters, supertypes, subclasses in each \n",
    "    # subregion (denominator is total # of [tax. level] present in all of thalamus)\n",
    "    th_metrics.loc[subregion, \n",
    "                   'frac_clusters'] = (len(df.cluster_label.drop_duplicates()) \n",
    "                                       / n_th_clusters)\n",
    "    th_metrics.loc[subregion,\n",
    "                   'frac_supertypes'] = (len(df.supertype_id_label.drop_duplicates())\n",
    "                                         / n_th_supertypes)\n",
    "    th_metrics.loc[subregion,\n",
    "                   'frac_subclasses'] = (len(df.subclass_id_label.drop_duplicates())\n",
    "                                         / n_th_subclasses)"
   ]
  },
  {
   "cell_type": "markdown",
   "id": "0028ffb4",
   "metadata": {},
   "source": [
    "### scatter plot"
   ]
  },
  {
   "cell_type": "code",
   "execution_count": 13,
   "id": "eaabcd43",
   "metadata": {},
   "outputs": [],
   "source": [
    "# exlcude ZI because it's so much higher\n",
    "th_metrics_noZI = th_metrics.loc[ccf_names_noZI]\n",
    "th_metrics_sorted = th_metrics_noZI.sort_values(by='frac_supertypes', ascending=True)\n",
    "# th_metrics_sorted\n",
    "\n",
    "fig, ax1 = plt.subplots(figsize=(12,6))\n",
    "\n",
    "# Plot the absolute values on the left y-axis\n",
    "ax1.scatter(th_metrics_sorted.index, th_metrics_sorted['n_supertypes'], color='#5DA7E5', alpha=0)\n",
    "ax1.set_ylabel('# of supertypes', color='k')\n",
    "ax1.tick_params(axis='y', labelcolor='k')\n",
    "ax1.set_xticks(th_metrics_sorted.index)\n",
    "ax1.set_xticklabels(th_metrics_sorted.index, rotation=90)\n",
    "plt.grid(visible=True, axis='y')\n",
    "\n",
    "# Create a secondary y-axis on the right\n",
    "ax2 = ax1.twinx()\n",
    "\n",
    "# Plot the fraction values on the right y-axis\n",
    "ax2.bar(th_metrics_sorted.index, th_metrics_sorted['frac_supertypes'], color='#5DA7E5', label='supertype')\n",
    "ax2.set_ylabel('fraction of total supertypes (n='+str(n_th_supertypes)+')', color='k', rotation=270, labelpad=15)\n",
    "ax2.tick_params(axis='y', labelcolor='k')\n",
    "ax2.legend()\n",
    "\n",
    "# plt.xticks(rotation=90)\n",
    "plt.xlabel('CCF thalamic subregions')\n",
    "plt.title('supertypes per CCF thalamic subregion')\n",
    "\n",
    "plt.show()"
   ]
  },
  {
   "cell_type": "markdown",
   "id": "559fa75d",
   "metadata": {},
   "source": [
    "### CCF colored by value"
   ]
  },
  {
   "cell_type": "code",
   "execution_count": 14,
   "id": "40f63ff0",
   "metadata": {},
   "outputs": [],
   "source": [
    "sections = ['1199651048'] #[\"1199651036\", \"1199651048\", \"1199651060\"] #\"1199651024\",\n",
    "print('Supertypes')\n",
    "cplot.plot_metrics_ccf(adata_neurons_ccf.obs, ccf_polygons_th_noZI, \n",
    "                       th_metrics.loc[ccf_names_noZI,'n_supertypes'], \n",
    "                       sections=sections, cmap='Blues',\n",
    "                       highlight='all', cb_label='number of supertypes in subregion')"
   ]
  },
  {
   "cell_type": "code",
   "execution_count": 15,
   "id": "dcd2d41f",
   "metadata": {},
   "outputs": [],
   "source": [
    "sections = ['1199651048'] #[\"1199651036\", \"1199651048\", \"1199651060\"] #\"1199651024\",\n",
    "print('Clusters')\n",
    "cplot.plot_metrics_ccf(adata_neurons_ccf.obs, ccf_polygons_th_noZI,\n",
    "                       th_metrics.loc[ccf_names_noZI,'n_clusters'], \n",
    "                       sections=sections,  cmap='Oranges',\n",
    "                       highlight='all', cb_label='number of clusters in subregion')"
   ]
  },
  {
   "cell_type": "markdown",
   "id": "6ac110c6",
   "metadata": {},
   "source": [
    "## Cell Type Diversity"
   ]
  },
  {
   "cell_type": "markdown",
   "id": "ab19ade9",
   "metadata": {},
   "source": [
    "### Shannon Diversity Index"
   ]
  },
  {
   "cell_type": "code",
   "execution_count": 16,
   "id": "be2f35e2",
   "metadata": {},
   "outputs": [],
   "source": [
    "# Shannon diversity index, normalized to (0,1)\n",
    "# 1 = high diversity (clusters found in equal proportions)\n",
    "# 0 = low diversity (some clusters found in higher proportions in subregion)\n",
    "\n",
    "def calc_shannon_index(obs_col, n_total_categories):\n",
    "    # calculate proportion of each category\n",
    "    cateogory_counts = obs_col.value_counts()\n",
    "    cateogory_counts = cateogory_counts[cateogory_counts>0] # cleanup zeros so log() doesn't throw warnings\n",
    "    p = cateogory_counts / cateogory_counts.sum()\n",
    "    \n",
    "    # calculate shannon diversity index\n",
    "    shannon_ind = (-1)*((p * np.log2(p)).sum())\n",
    "    \n",
    "    # normalize by log2 of number of categories to limit index to range (0, 1)\n",
    "    shannon_norm = shannon_ind / np.log2(n_total_categories)\n",
    "    \n",
    "    return shannon_norm"
   ]
  },
  {
   "cell_type": "code",
   "execution_count": 17,
   "id": "154a7fbf",
   "metadata": {},
   "outputs": [],
   "source": [
    "# clusters\n",
    "for subregion, df in adata_neurons_ccf.obs.groupby('CCF_acronym'):\n",
    "    th_metrics.loc[subregion, \n",
    "                   'shannon_index_clusters'] = calc_shannon_index(df['cluster_label'], \n",
    "                                                                  n_th_clusters)\n",
    "    th_metrics.loc[subregion, \n",
    "                   'shannon_index_supertypes'] = calc_shannon_index(df['supertype_id_label'], \n",
    "                                                                  n_th_clusters)\n",
    "    th_metrics.loc[subregion, \n",
    "                   'shannon_index_subclasses'] = calc_shannon_index(df['subclass_id_label'], \n",
    "                                                                  n_th_clusters)"
   ]
  },
  {
   "cell_type": "code",
   "execution_count": 18,
   "id": "404f9f7a",
   "metadata": {},
   "outputs": [],
   "source": [
    "# exlcude ZI because it's so much higher\n",
    "th_metrics_noZI = th_metrics.loc[ccf_names_noZI]\n",
    "\n",
    "# sort by cluster shannon index\n",
    "th_metrics_sorted = th_metrics_noZI.sort_values(by='shannon_index_supertypes', ascending=True)\n",
    "# th_metrics_sorted\n",
    "\n",
    "fig, ax1 = plt.subplots(figsize=(12,6))\n",
    "\n",
    "# Plot the absolute values on the left y-axis\n",
    "ax1.scatter(th_metrics_sorted.index, th_metrics_sorted['shannon_index_clusters'], \n",
    "            color='#F99D20', label='cluster', zorder=2) # orange\n",
    "ax1.scatter(th_metrics_sorted.index, th_metrics_sorted['shannon_index_supertypes'], \n",
    "            color='#5DA7E5', label='supertype', zorder=3) # blue\n",
    "ax1.scatter(th_metrics_sorted.index, th_metrics_sorted['shannon_index_subclasses'], \n",
    "            color='#1D8649', label='subclass', zorder=2) # green\n",
    "\n",
    "# FFE700 yellow\n",
    "ax1.set_ylabel('Shannon Diversity Index', color='k')\n",
    "ax1.tick_params(axis='y', labelcolor='k')\n",
    "ax1.set_xticks(th_metrics_sorted.index)\n",
    "ax1.set_xticklabels(th_metrics_sorted.index, rotation=90)\n",
    "ax1.legend()\n",
    "plt.grid(visible=True, axis='both', zorder=0, color='whitesmoke')\n",
    "\n",
    "# plt.xticks(rotation=90)\n",
    "plt.xlabel('CCF thalamic subregions')\n",
    "plt.title('Shannon Diversity Index')\n",
    "\n",
    "plt.show()"
   ]
  },
  {
   "cell_type": "code",
   "execution_count": 19,
   "id": "6070a5fb",
   "metadata": {},
   "outputs": [],
   "source": [
    "sections = [\"1199651036\", \"1199651048\", \"1199651060\"] #\"1199651024\",\n",
    "print('Clusters')\n",
    "cplot.plot_metrics_ccf(adata_neurons_ccf.obs, ccf_polygons_th_noZI, \n",
    "                       th_metrics.loc[ccf_names_noZI,'shannon_index_clusters'], \n",
    "                       sections=['1199651048'], cmap='Oranges',\n",
    "                       highlight='all', cb_label='Shannon Diversity Index')"
   ]
  },
  {
   "cell_type": "code",
   "execution_count": 20,
   "id": "13054067",
   "metadata": {},
   "outputs": [],
   "source": [
    "print('Supertypes')\n",
    "cplot.plot_metrics_ccf(adata_neurons_ccf.obs, ccf_polygons_th_noZI, \n",
    "                       th_metrics.loc[ccf_names_noZI,'shannon_index_supertypes'], \n",
    "                       sections=['1199651048'], cmap='Blues',\n",
    "                       highlight='all', cb_label='Shannon Diversity Index')"
   ]
  },
  {
   "cell_type": "code",
   "execution_count": 21,
   "id": "e9abd0b7",
   "metadata": {},
   "outputs": [],
   "source": [
    "print('Subclasses')\n",
    "cplot.plot_metrics_ccf(adata_neurons_ccf.obs, ccf_polygons_th_noZI, \n",
    "                       th_metrics.loc[ccf_names_noZI,'shannon_index_subclasses'], \n",
    "                       sections=['1199651048'], cmap='Greens',\n",
    "                       highlight='all', cb_label='Shannon Diversity Index')"
   ]
  },
  {
   "cell_type": "markdown",
   "id": "4eb63d0e",
   "metadata": {},
   "source": [
    "### Proportions as stacked bar graphs"
   ]
  },
  {
   "cell_type": "code",
   "execution_count": 44,
   "id": "69432202",
   "metadata": {},
   "outputs": [],
   "source": [
    "# for each subregion, count the proportion of cells in each cluster/supertype/subclass\n",
    "th_subregions = cpoly.CCF_TH_NAMES\n",
    "ccf_cluster_counts = pd.DataFrame(index=th_subregions, columns=th_clusters)\n",
    "ccf_supertype_counts = pd.DataFrame(index=th_subregions, columns=th_supertypes)\n",
    "ccf_subclass_counts = pd.DataFrame(index=th_subregions, columns=th_subclasses)\n",
    "for subregion, df in adata_neurons_ccf.obs.groupby('CCF_acronym'):\n",
    "    # clusters\n",
    "    cluster_counts = df.cluster_label.value_counts()\n",
    "    ccf_cluster_counts.loc[subregion, \n",
    "                           cluster_counts.index] = cluster_counts.values / len(df)\n",
    "\n",
    "    # supertypes\n",
    "    supertype_counts = df.supertype_id_label.value_counts()\n",
    "    ccf_supertype_counts.loc[subregion, \n",
    "                             supertype_counts.index] = supertype_counts.values / len(df)\n",
    "\n",
    "    # subclasses\n",
    "    subclass_counts = df.subclass_id_label.value_counts()\n",
    "    ccf_subclass_counts.loc[subregion, \n",
    "                            subclass_counts.index] = subclass_counts.values / len(df)"
   ]
  },
  {
   "cell_type": "markdown",
   "id": "2d901b80",
   "metadata": {},
   "source": [
    "#### TODO: Implement barchart w/ plotly\n",
    "\n",
    "which will enable hovering over the bars to display the subclass/supertype/cluster to which it belongs"
   ]
  },
  {
   "cell_type": "code",
   "execution_count": 40,
   "id": "ecabb3c0",
   "metadata": {},
   "outputs": [],
   "source": [
    "# display as a stacked bar graph\n",
    "from colorcet import glasbey_light\n",
    "\n",
    "def plot_stacked_barplot(df, taxonomy_level, legend=True):\n",
    "    fig, axes = plt.subplots(nrows=1, ncols=1, figsize=(20,6))\n",
    "    colors = sns.color_palette(glasbey_light, n_colors=len(df.columns))\n",
    "    df.plot(kind='bar', stacked=True, ax=axes, legend=legend, color=colors)\n",
    "    if legend:\n",
    "        axes.legend(loc='upper left', bbox_to_anchor=(0.05, -0.3), ncol=4)\n",
    "    axes.set_xticklabels(df.index, rotation=90)\n",
    "    axes.set_xlabel('CCF subregion')\n",
    "    # axes.set_yticks([])\n",
    "    axes.set_ylabel('proportion of cells in unique '+taxonomy_level)\n",
    "\n",
    "    fig.subplots_adjust(hspace=0.1)\n",
    "    \n",
    "    # add text\n",
    "    for i, subregion in enumerate(df.index):\n",
    "        n_nonzero = (df.loc[subregion]>0).sum()\n",
    "        axes.text(i, 1.01, n_nonzero, horizontalalignment='center')\n",
    "    plt.show()"
   ]
  },
  {
   "cell_type": "markdown",
   "id": "b123b4dd",
   "metadata": {},
   "source": [
    "#### Subclasses"
   ]
  },
  {
   "cell_type": "code",
   "execution_count": 41,
   "id": "2b07cb07",
   "metadata": {},
   "outputs": [],
   "source": [
    "# First sort by the Shannon Diversity Index from th_metrics\n",
    "th_metrics_sorted_by_sdi = th_metrics.sort_values(by='shannon_index_subclasses', ascending=True)\n",
    "\n",
    "# Use sorted list of subregions to plot in order from least diverse to most diverse\n",
    "plot_stacked_barplot(ccf_subclass_counts.loc[th_metrics_sorted_by_sdi.index], \n",
    "                     'subclasses', legend=True)"
   ]
  },
  {
   "cell_type": "markdown",
   "id": "d3c611a7",
   "metadata": {},
   "source": [
    "#### Supertypes"
   ]
  },
  {
   "cell_type": "code",
   "execution_count": 42,
   "id": "e940ccb3",
   "metadata": {},
   "outputs": [],
   "source": [
    "# First sort by the Shannon Diversity Index from th_metrics\n",
    "th_metrics_sorted_by_sdi = th_metrics.sort_values(by='shannon_index_supertypes', ascending=True)\n",
    "\n",
    "# Use sorted list of subregions to plot in order from least diverse to most diverse\n",
    "plot_stacked_barplot(ccf_supertype_counts.loc[th_metrics_sorted_by_sdi.index], \n",
    "                     'supertypes', legend=False)"
   ]
  },
  {
   "cell_type": "markdown",
   "id": "08f728de",
   "metadata": {},
   "source": [
    "#### Clusters"
   ]
  },
  {
   "cell_type": "code",
   "execution_count": 43,
   "id": "2f597c33",
   "metadata": {},
   "outputs": [],
   "source": [
    "# First sort by the Shannon Diversity Index from th_metrics\n",
    "th_metrics_sorted_by_sdi = th_metrics.sort_values(by='shannon_index_clusters', ascending=True)\n",
    "\n",
    "# Use sorted list of subregions to plot in order from least diverse to most diverse\n",
    "plot_stacked_barplot(ccf_cluster_counts.loc[th_metrics_sorted_by_sdi.index], \n",
    "                     'clusters', legend=False)"
   ]
  },
  {
   "cell_type": "markdown",
   "id": "589cb9b4",
   "metadata": {},
   "source": [
    "# Per Cluster/Supertype/Subclass Metrics (neurons only)"
   ]
  },
  {
   "cell_type": "markdown",
   "id": "0ab6f5ef",
   "metadata": {},
   "source": [
    "## TODO: Dispersion of clusters/supertypes across nuclei\n",
    "\n",
    "i.e. grab a cluster that dominates in one nucleus (e.g. 1133 in MD) and ask how dispersed it is across the whole thalamus. Ideally, a linear metric, such that you could ask what the dispersion is for all clusters to see which ones seem to be more compact and which are more shared\n",
    "\n",
    "I *think* this is going to have to be done on hemispheres, rather than the whole brain. Most existing tools I'm finding are not able to account for symmetries.\n",
    "\n",
    "Likely going to borrow from some of ArcGIS's standard toolboxes\n",
    "- https://pro.arcgis.com/en/pro-app/latest/tool-reference/spatial-statistics/h-how-standard-distance-spatial-statistic-works.htm\n",
    "\n",
    "Or other satellite imagery methods:\n",
    "- https://www.tandfonline.com/doi/full/10.1080/17538947.2018.1474957"
   ]
  },
  {
   "cell_type": "markdown",
   "id": "36ae81a3",
   "metadata": {},
   "source": [
    "# Neighborhood metrics\n",
    "\n",
    "Single neuron tracing in the MD (shown in weekly U19 on Fri 7/28/23) illustrates two things:\n",
    "1. Some *neighboring* soma have *distinct* projection patterns\n",
    "2. Some *distant* soma have *very similar* projection patterns\n",
    "\n",
    "Jayaram's interpretation is that \\#1 is surprising given gene expression in the MD.\n",
    "\n",
    "But I don't think that's the correct interpretation, especially in the MD! \n",
    "- MD contains a large diversity of cell types, many of which show salt-and-pepper sprinkling throughout the MD.\n",
    "- At the very least, we don't have our MERFISH data analyzed in the right way to say whether or not the single neuron data is surprising/unexpected\n",
    "- They really need their mFISH data to say this for certain\n",
    "\n",
    "## TODO: most likely/common neighboring cell type metric\n",
    "\n",
    "\"most common / most likely neighbor\" metrics for cells\n",
    "- How likely are you to find a cell with (a) the same or (b) a different transcriptomic type right next to your cell of interest?\n",
    "- What's the average fraction of nearest neighbors that are the same? different?\n",
    "- How many non-self cell types are represented in the nearest neighbors?\n",
    "- Do these metrics change from nucleus to nucleus? i.e. do cells in the MD have more diverse neighbors than, say, AD? (shannon index might suggest that they do)"
   ]
  },
  {
   "cell_type": "code",
   "execution_count": null,
   "id": "fde7ff8b",
   "metadata": {},
   "outputs": [],
   "source": []
  }
 ],
 "metadata": {
  "kernelspec": {
   "display_name": "Python 3",
   "language": "python",
   "name": "python3"
  },
  "language_info": {
   "codemirror_mode": {
    "name": "ipython",
    "version": 3
   },
   "file_extension": ".py",
   "mimetype": "text/x-python",
   "name": "python",
   "nbconvert_exporter": "python",
   "pygments_lexer": "ipython3",
   "version": "3.9.12"
  }
 },
 "nbformat": 4,
 "nbformat_minor": 5
}
