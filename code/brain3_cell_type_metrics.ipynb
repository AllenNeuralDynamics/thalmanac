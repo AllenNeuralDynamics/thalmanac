{
 "cells": [
  {
   "cell_type": "code",
   "execution_count": 45,
   "id": "11514172-0ccb-4c25-a7f6-a58149d53544",
   "metadata": {},
   "outputs": [],
   "source": [
    "import anndata as ad\n",
    "import pandas as pd\n",
    "import shapely\n",
    "import shapely.plotting as splot\n",
    "import matplotlib.pyplot as plt\n",
    "import matplotlib\n",
    "import seaborn as sns\n",
    "import numpy as np\n",
    "\n",
    "import ccf_plots as cplot\n",
    "import ccf_polygons as cpoly\n",
    "# import ccf_cells\n",
    "\n",
    "%matplotlib inline"
   ]
  },
  {
   "cell_type": "markdown",
   "id": "ab18ce0c-4493-4498-b57d-28a5b31f37b5",
   "metadata": {},
   "source": [
    "# Load brain3 data"
   ]
  },
  {
   "cell_type": "code",
   "execution_count": 2,
   "id": "351f8724-4f7f-4175-b776-8af3d3971b9b",
   "metadata": {},
   "outputs": [],
   "source": [
    "adata = ad.read_h5ad(\"../data/merfish_638850_AIT17.custom_CCF_annotated_TH_ZI_only_2023-05-04_00-00-00/atlas_brain_638850_AIT17_custom_CCF_annotated_TH_ZI_only.h5ad\")\n",
    "adata"
   ]
  },
  {
   "cell_type": "markdown",
   "id": "536548f7-5a09-4712-8bec-3c7cc96d816d",
   "metadata": {
    "jp-MarkdownHeadingCollapsed": true,
    "tags": []
   },
   "source": [
    "# Calculate CCF polygons"
   ]
  },
  {
   "cell_type": "code",
   "execution_count": 3,
   "id": "c57e3b33-fecb-497a-a75f-cc2487f25301",
   "metadata": {},
   "outputs": [],
   "source": [
    "# nice to have everything for plotting in the obs dataframe\n",
    "adata.obs['cirro_x'] = adata.obsm['spatial_cirro'][:,0]\n",
    "adata.obs['cirro_y'] = adata.obsm['spatial_cirro'][:,1]"
   ]
  },
  {
   "cell_type": "code",
   "execution_count": 4,
   "id": "78bcdc00-4924-4d9c-95ab-bc0d23b42c7f",
   "metadata": {},
   "outputs": [],
   "source": [
    "ccf_polygons = cpoly.get_ccf_polygons(adata.obs)\n",
    "ccf_polygons_th_zi = ccf_polygons[ccf_polygons.index.isin(cpoly.CCF_TH_NAMES, level=\"name\")]"
   ]
  },
  {
   "cell_type": "code",
   "execution_count": 5,
   "id": "20bd0f0d-29a7-4c28-ae83-7120117c3c00",
   "metadata": {},
   "outputs": [],
   "source": [
    "ccf_names_noZI = cpoly.CCF_TH_NAMES[:-1]\n",
    "ccf_polygons_th_noZI = ccf_polygons[ccf_polygons.index.isin(ccf_names_noZI, level=\"name\")]"
   ]
  },
  {
   "cell_type": "code",
   "execution_count": 6,
   "id": "64e8a697-7796-42dc-9e56-79e0cb71446a",
   "metadata": {
    "tags": []
   },
   "outputs": [],
   "source": [
    "sections = [\"1199651024\", \"1199651036\", \"1199651048\"]\n",
    "cplot.plot_ccf_overlay(adata.obs, ccf_polygons_th_zi, sections=sections)"
   ]
  },
  {
   "cell_type": "code",
   "execution_count": 7,
   "id": "4adedfff-5bb8-4d11-a80b-51277257c85a",
   "metadata": {},
   "outputs": [],
   "source": [
    "# subset just the neurons\n",
    "divisions_neuron = ['1 Pallium glutamatergic',\n",
    "                    '2 Subpallium GABAergic',\n",
    "                    '3 PAL-sAMY-TH-HY-MB-HB neuronal',\n",
    "                    '4 CBX-MOB-other neuronal']\n",
    "\n",
    "adata_neurons = adata[adata.obs['division_id_label'].isin(divisions_neuron)]"
   ]
  },
  {
   "cell_type": "markdown",
   "id": "224de5d1-bae6-47c7-a0c9-b74673c2ab04",
   "metadata": {},
   "source": [
    "# Per Subregion Metrics (neurons only)"
   ]
  },
  {
   "cell_type": "code",
   "execution_count": 8,
   "id": "8381f66e-397b-4567-ac1a-54031ab52bbe",
   "metadata": {},
   "outputs": [],
   "source": [
    "# only look at the thalamic subregions as defined in cpoly.CCF_TH_NAMES\n",
    "adata_neurons_ccf = adata_neurons[adata_neurons.obs.CCF_acronym.isin(cpoly.CCF_TH_NAMES)]\n",
    "adata_neurons_ccf.obs.CCF_acronym.cat.categories"
   ]
  },
  {
   "cell_type": "code",
   "execution_count": 9,
   "id": "5a55a2e3-3a09-4ffd-bff2-3ccfa5c0bdf5",
   "metadata": {},
   "outputs": [],
   "source": [
    "# adata_neurons_ccf.obs.subclass_id_label"
   ]
  },
  {
   "cell_type": "code",
   "execution_count": 10,
   "id": "60231499-40a6-496d-95fd-008ffe94dfca",
   "metadata": {},
   "outputs": [],
   "source": [
    "# define a new df in which to store metrics\n",
    "th_metrics = pd.DataFrame(index=cpoly.CCF_TH_NAMES)"
   ]
  },
  {
   "cell_type": "markdown",
   "id": "5866b1b6-b703-4ba2-bb4c-481a34de3e09",
   "metadata": {
    "tags": []
   },
   "source": [
    "## Cell Type Richness\n",
    "\n",
    "transcriptomic richness = \\# of (clusters/supertypes/subclasses/classes) present in a given subregion of the thalamus\n",
    "\n",
    "(Defined similarly to ecology's \"species richness\" = # of species in a given region)"
   ]
  },
  {
   "cell_type": "code",
   "execution_count": 11,
   "id": "8a5acf90-5d9b-4c16-8600-b07b2a11ba3c",
   "metadata": {},
   "outputs": [],
   "source": [
    "# generate lists of the clusters, supertypes, subclasses, and classes present\n",
    "# in the thalamus data\n",
    "th_clusters = adata_neurons_ccf.obs.cluster_label.drop_duplicates().tolist()\n",
    "th_supertypes = adata_neurons_ccf.obs.supertype_id_label.drop_duplicates().tolist()\n",
    "th_subclasses = adata_neurons_ccf.obs.subclass_id_label.drop_duplicates().tolist()\n",
    "n_th_clusters = len(th_clusters)\n",
    "n_th_supertypes = len(th_supertypes)\n",
    "n_th_subclasses = len(th_subclasses)\n",
    "# print(f'{len(th_clusters)=}')\n",
    "# print(f'{len(adata_neurons_ccf.obs.cluster_label.unique().tolist())}')\n",
    "# print(f'{len(th_supertypes)=}')\n",
    "# print(f'{len(adata_neurons_ccf.obs.supertype_id_label.unique().tolist())}')\n",
    "# print(f'{len(th_subclasses)=}')\n",
    "# print(f'{len(adata_neurons_ccf.obs.subclass_id_label.unique().tolist())}')"
   ]
  },
  {
   "cell_type": "code",
   "execution_count": 12,
   "id": "d5b41e60-d6c9-40fc-bc3c-4faa7a500296",
   "metadata": {},
   "outputs": [],
   "source": [
    "for subregion, df in adata_neurons_ccf.obs.groupby('CCF_acronym'):\n",
    "    # number of thalamic clusters, supertypes, subclasses in each subregion\n",
    "    th_metrics.loc[subregion, \n",
    "                   'n_clusters'] = len(df.cluster_label.drop_duplicates())\n",
    "    th_metrics.loc[subregion, \n",
    "                   'n_supertypes'] = len(df.supertype_id_label.drop_duplicates())\n",
    "    th_metrics.loc[subregion, \n",
    "                   'n_subclasses'] = len(df.subclass_id_label.drop_duplicates())\n",
    "\n",
    "    # fraction of thalamic clusters, supertypes, subclasses in each \n",
    "    # subregion (denominator is total # of [tax. level] present in all of thalamus)\n",
    "    th_metrics.loc[subregion, \n",
    "                   'frac_clusters'] = (len(df.cluster_label.drop_duplicates()) \n",
    "                                       / n_th_clusters)\n",
    "    th_metrics.loc[subregion,\n",
    "                   'frac_supertypes'] = (len(df.supertype_id_label.drop_duplicates())\n",
    "                                         / n_th_supertypes)\n",
    "    th_metrics.loc[subregion,\n",
    "                   'frac_subclasses'] = (len(df.subclass_id_label.drop_duplicates())\n",
    "                                         / n_th_subclasses)"
   ]
  },
  {
   "cell_type": "markdown",
   "id": "5861e9a2-cc09-43a5-9b09-8847fa0c5120",
   "metadata": {},
   "source": [
    "### scatter plot"
   ]
  },
  {
   "cell_type": "code",
   "execution_count": 13,
   "id": "e864009b-f6e0-4344-8d9b-565ed0c01bda",
   "metadata": {},
   "outputs": [],
   "source": [
    "# exlcude ZI because it's so much higher\n",
    "th_metrics_noZI = th_metrics.loc[ccf_names_noZI]\n",
    "th_metrics_sorted = th_metrics_noZI.sort_values(by='frac_supertypes', ascending=True)\n",
    "# th_metrics_sorted\n",
    "\n",
    "fig, ax1 = plt.subplots(figsize=(12,6))\n",
    "\n",
    "# Plot the absolute values on the left y-axis\n",
    "ax1.scatter(th_metrics_sorted.index, th_metrics_sorted['n_supertypes'], color='#5DA7E5', alpha=0)\n",
    "ax1.set_ylabel('# of supertypes', color='k')\n",
    "ax1.tick_params(axis='y', labelcolor='k')\n",
    "ax1.set_xticks(th_metrics_sorted.index)\n",
    "ax1.set_xticklabels(th_metrics_sorted.index, rotation=90)\n",
    "plt.grid(visible=True, axis='y')\n",
    "\n",
    "# Create a secondary y-axis on the right\n",
    "ax2 = ax1.twinx()\n",
    "\n",
    "# Plot the fraction values on the right y-axis\n",
    "ax2.bar(th_metrics_sorted.index, th_metrics_sorted['frac_supertypes'], color='#5DA7E5', label='supertype')\n",
    "ax2.set_ylabel('fraction of total supertypes (n='+str(n_th_supertypes)+')', color='k', rotation=270, labelpad=15)\n",
    "ax2.tick_params(axis='y', labelcolor='k')\n",
    "ax2.legend()\n",
    "\n",
    "# plt.xticks(rotation=90)\n",
    "plt.xlabel('CCF thalamic subregions')\n",
    "plt.title('supertypes per CCF thalamic subregion')\n",
    "\n",
    "plt.show()"
   ]
  },
  {
   "cell_type": "markdown",
   "id": "2617bced-1584-48e1-a4eb-a62fe97ac49e",
   "metadata": {},
   "source": [
    "### CCF colored by value"
   ]
  },
  {
   "cell_type": "code",
   "execution_count": 14,
   "id": "7bb3ce1a-d982-4fb6-8850-5e692d454986",
   "metadata": {},
   "outputs": [],
   "source": [
    "sections = ['1199651048'] #[\"1199651036\", \"1199651048\", \"1199651060\"] #\"1199651024\",\n",
    "print('Supertypes')\n",
    "cplot.plot_metrics_ccf(adata_neurons_ccf.obs, ccf_polygons_th_noZI, \n",
    "                       th_metrics.loc[ccf_names_noZI,'n_supertypes'], \n",
    "                       sections=sections, cmap='Blues',\n",
    "                       highlight='all', cb_label='number of supertypes in subregion')"
   ]
  },
  {
   "cell_type": "code",
   "execution_count": 15,
   "id": "63ee7c79-73e6-47c7-9b1e-d1066de38073",
   "metadata": {},
   "outputs": [],
   "source": [
    "sections = ['1199651048'] #[\"1199651036\", \"1199651048\", \"1199651060\"] #\"1199651024\",\n",
    "print('Clusters')\n",
    "cplot.plot_metrics_ccf(adata_neurons_ccf.obs, ccf_polygons_th_noZI,\n",
    "                       th_metrics.loc[ccf_names_noZI,'n_clusters'], \n",
    "                       sections=sections,  cmap='Oranges',\n",
    "                       highlight='all', cb_label='number of clusters in subregion')"
   ]
  },
  {
   "cell_type": "markdown",
   "id": "a4c08e50-b7a2-4b24-8fdc-abbaf80a1610",
   "metadata": {},
   "source": [
    "## Cell Type Diversity"
   ]
  },
  {
   "cell_type": "markdown",
   "id": "557acbf2-d708-461b-b127-404eb62cd5ba",
   "metadata": {},
   "source": [
    "### Shannon Diversity Index"
   ]
  },
  {
   "cell_type": "code",
   "execution_count": 16,
   "id": "13fc568f-9554-42a5-8b72-ab3afd0dd9dd",
   "metadata": {},
   "outputs": [],
   "source": [
    "# Shannon diversity index, normalized to (0,1)\n",
    "# 1 = high diversity (clusters found in equal proportions)\n",
    "# 0 = low diversity (some clusters found in higher proportions in subregion)\n",
    "\n",
    "def calc_shannon_index(obs_col, n_total_categories):\n",
    "    # calculate proportion of each category\n",
    "    cateogory_counts = obs_col.value_counts()\n",
    "    cateogory_counts = cateogory_counts[cateogory_counts>0] # cleanup zeros so log() doesn't throw warnings\n",
    "    p = cateogory_counts / cateogory_counts.sum()\n",
    "    \n",
    "    # calculate shannon diversity index\n",
    "    shannon_ind = (-1)*((p * np.log2(p)).sum())\n",
    "    \n",
    "    # normalize by log2 of number of categories to limit index to range (0, 1)\n",
    "    shannon_norm = shannon_ind / np.log2(n_total_categories)\n",
    "    \n",
    "    return shannon_norm"
   ]
  },
  {
   "cell_type": "code",
   "execution_count": 17,
   "id": "5322081f-c3be-410f-879c-7490219298b1",
   "metadata": {},
   "outputs": [],
   "source": [
    "# clusters\n",
    "for subregion, df in adata_neurons_ccf.obs.groupby('CCF_acronym'):\n",
    "    th_metrics.loc[subregion, \n",
    "                   'shannon_index_clusters'] = calc_shannon_index(df['cluster_label'], \n",
    "                                                                  n_th_clusters)\n",
    "    th_metrics.loc[subregion, \n",
    "                   'shannon_index_supertypes'] = calc_shannon_index(df['supertype_id_label'], \n",
    "                                                                  n_th_clusters)\n",
    "    th_metrics.loc[subregion, \n",
    "                   'shannon_index_subclasses'] = calc_shannon_index(df['subclass_id_label'], \n",
    "                                                                  n_th_clusters)"
   ]
  },
  {
   "cell_type": "code",
   "execution_count": 18,
   "id": "7a5f5499-50a0-4d01-ad1f-4505d4da2bfe",
   "metadata": {},
   "outputs": [],
   "source": [
    "# exlcude ZI because it's so much higher\n",
    "th_metrics_noZI = th_metrics.loc[ccf_names_noZI]\n",
    "\n",
    "# sort by cluster shannon index\n",
    "th_metrics_sorted = th_metrics_noZI.sort_values(by='shannon_index_supertypes', ascending=True)\n",
    "# th_metrics_sorted\n",
    "\n",
    "fig, ax1 = plt.subplots(figsize=(12,6))\n",
    "\n",
    "# Plot the absolute values on the left y-axis\n",
    "ax1.scatter(th_metrics_sorted.index, th_metrics_sorted['shannon_index_clusters'], \n",
    "            color='#F99D20', label='cluster', zorder=2) # orange\n",
    "ax1.scatter(th_metrics_sorted.index, th_metrics_sorted['shannon_index_supertypes'], \n",
    "            color='#5DA7E5', label='supertype', zorder=3) # blue\n",
    "ax1.scatter(th_metrics_sorted.index, th_metrics_sorted['shannon_index_subclasses'], \n",
    "            color='#1D8649', label='subclass', zorder=2) # green\n",
    "\n",
    "# FFE700 yellow\n",
    "ax1.set_ylabel('Shannon Diversity Index', color='k')\n",
    "ax1.tick_params(axis='y', labelcolor='k')\n",
    "ax1.set_xticks(th_metrics_sorted.index)\n",
    "ax1.set_xticklabels(th_metrics_sorted.index, rotation=90)\n",
    "ax1.legend()\n",
    "plt.grid(visible=True, axis='both', zorder=0, color='whitesmoke')\n",
    "\n",
    "# plt.xticks(rotation=90)\n",
    "plt.xlabel('CCF thalamic subregions')\n",
    "plt.title('Shannon Diversity Index')\n",
    "\n",
    "plt.show()"
   ]
  },
  {
   "cell_type": "code",
   "execution_count": 19,
   "id": "200cddc7-5193-4cdd-bb14-5aea2f6011d5",
   "metadata": {},
   "outputs": [],
   "source": [
    "sections = [\"1199651036\", \"1199651048\", \"1199651060\"] #\"1199651024\",\n",
    "print('Clusters')\n",
    "cplot.plot_metrics_ccf(adata_neurons_ccf.obs, ccf_polygons_th_noZI, \n",
    "                       th_metrics.loc[ccf_names_noZI,'shannon_index_clusters'], \n",
    "                       sections=['1199651048'], cmap='Oranges',\n",
    "                       highlight='all', cb_label='Shannon Diversity Index')"
   ]
  },
  {
   "cell_type": "code",
   "execution_count": 20,
   "id": "fb3781e7-b285-41e9-b156-a23b2cc5f6d1",
   "metadata": {},
   "outputs": [],
   "source": [
    "print('Supertypes')\n",
    "cplot.plot_metrics_ccf(adata_neurons_ccf.obs, ccf_polygons_th_noZI, \n",
    "                       th_metrics.loc[ccf_names_noZI,'shannon_index_supertypes'], \n",
    "                       sections=['1199651048'], cmap='Blues',\n",
    "                       highlight='all', cb_label='Shannon Diversity Index')"
   ]
  },
  {
   "cell_type": "code",
   "execution_count": 104,
   "id": "37c6125b-bcb9-4f7f-b1f1-b440f2084d32",
   "metadata": {},
   "outputs": [],
   "source": [
    "print('Subclasses')\n",
    "cplot.plot_metrics_ccf(adata_neurons_ccf.obs, ccf_polygons_th_noZI, \n",
    "                       th_metrics.loc[ccf_names_noZI,'shannon_index_subclasses'], \n",
    "                       sections=['1199651048'], cmap='Greens',\n",
    "                       highlight='all', cb_label='Shannon Diversity Index')"
   ]
  },
  {
   "cell_type": "markdown",
   "id": "56e1032b-b4de-46a1-a819-3a5ab5c71433",
   "metadata": {},
   "source": [
    "### Proportions as stacked bar graphs"
   ]
  },
  {
   "cell_type": "code",
   "execution_count": 30,
   "id": "b7306e06-2179-49c2-bacb-52088548a262",
   "metadata": {},
   "outputs": [],
   "source": [
    "# for each subregion, count the proportion of cells in each cluster/supertype/subclass\n",
    "ccf_cluster_counts = pd.DataFrame(index=cpoly.CCF_TH_NAMES, columns=th_clusters)\n",
    "ccf_supertype_counts = pd.DataFrame(index=cpoly.CCF_TH_NAMES, columns=th_supertypes)\n",
    "ccf_subclass_counts = pd.DataFrame(index=cpoly.CCF_TH_NAMES, columns=th_subclasses)\n",
    "for subregion, df in adata_neurons_ccf.obs.groupby('CCF_acronym'):\n",
    "    # clusters\n",
    "    cluster_counts = df.cluster_label.value_counts()\n",
    "    ccf_cluster_counts.loc[subregion, cluster_counts.index] = cluster_counts.values / len(df)\n",
    "\n",
    "    # supertypes\n",
    "    supertype_counts = df.supertype_id_label.value_counts()\n",
    "    ccf_supertype_counts.loc[subregion, supertype_counts.index] = supertype_counts.values / len(df)\n",
    "\n",
    "    # subclasses\n",
    "    subclass_counts = df.subclass_id_label.value_counts()\n",
    "    ccf_subclass_counts.loc[subregion, subclass_counts.index] = subclass_counts.values / len(df)"
   ]
  },
  {
   "cell_type": "code",
   "execution_count": 99,
   "id": "755aa5c3-3200-4850-aa1c-372b74a2bf73",
   "metadata": {},
   "outputs": [],
   "source": [
    "# display as a stacked bar graph\n",
    "from colorcet import glasbey_light\n",
    "\n",
    "def plot_stacked_barplot(df, taxonomy_level, legend=True):\n",
    "    fig, axes = plt.subplots(nrows=1, ncols=1, figsize=(20,6))\n",
    "    colors = sns.color_palette(glasbey_light, n_colors=len(df))\n",
    "    df.plot(kind='bar', stacked=True, ax=axes, legend=legend, color=colors)\n",
    "    if legend:\n",
    "        axes.legend(loc='upper left', bbox_to_anchor=(0.05, -0.3), ncol=4)\n",
    "    axes.set_xticklabels(df.index, rotation=90)\n",
    "    axes.set_xlabel('CCF subregion')\n",
    "    axes.set_yticks([])\n",
    "    axes.set_ylabel('proportion of cells in unique '+taxonomy_level)\n",
    "\n",
    "    fig.subplots_adjust(hspace=0.1)\n",
    "    \n",
    "    # add text\n",
    "    for i, subregion in enumerate(df.index):\n",
    "        n_nonzero = (df.loc[subregion]>0).sum()\n",
    "        axes.text(i, 1.01, n_nonzero, horizontalalignment='center')\n",
    "    plt.show()"
   ]
  },
  {
   "cell_type": "code",
   "execution_count": 100,
   "id": "54afbaff-0652-4c17-b717-41ff8ca3009e",
   "metadata": {},
   "outputs": [],
   "source": [
    "# First sort by the Shannon Diversity Index from th_metrics\n",
    "th_metrics_sorted_by_sdi = th_metrics.sort_values(by='shannon_index_clusters', ascending=True)\n",
    "\n",
    "# Use sorted list of subregions to plot in order from least diverse to most diverse\n",
    "plot_stacked_barplot(ccf_cluster_counts.loc[th_metrics_sorted_by_sdi.index], \n",
    "                     'clusters', legend=False)"
   ]
  },
  {
   "cell_type": "code",
   "execution_count": 101,
   "id": "9845bd62-4f07-4d22-94c2-b7366f0c9994",
   "metadata": {},
   "outputs": [],
   "source": [
    "# First sort by the Shannon Diversity Index from th_metrics\n",
    "th_metrics_sorted_by_sdi = th_metrics.sort_values(by='shannon_index_supertypes', ascending=True)\n",
    "\n",
    "# Use sorted list of subregions to plot in order from least diverse to most diverse\n",
    "plot_stacked_barplot(ccf_supertype_counts.loc[th_metrics_sorted_by_sdi.index], \n",
    "                     'supertypes', legend=False)"
   ]
  },
  {
   "cell_type": "code",
   "execution_count": 103,
   "id": "d5c2c347-83aa-499b-b5a5-bc6b4a7c74c5",
   "metadata": {},
   "outputs": [],
   "source": [
    "# First sort by the Shannon Diversity Index from th_metrics\n",
    "th_metrics_sorted_by_sdi = th_metrics.sort_values(by='shannon_index_subclasses', ascending=True)\n",
    "\n",
    "# Use sorted list of subregions to plot in order from least diverse to most diverse\n",
    "plot_stacked_barplot(ccf_subclass_counts.loc[th_metrics_sorted_by_sdi.index], \n",
    "                     'subclasses', legend=True)"
   ]
  },
  {
   "cell_type": "markdown",
   "id": "ae2723eb-5db5-4f13-bda0-6e23ed492c22",
   "metadata": {},
   "source": [
    "# Per Cluster/Supertype/Subclass Metrics (neurons only)"
   ]
  },
  {
   "cell_type": "markdown",
   "id": "950dc163-9103-48da-990d-3083a527179c",
   "metadata": {},
   "source": [
    "## TODO: Dispersion of clusters/supertypes across nuclei\n",
    "\n",
    "i.e. grab a cluster that dominates in one nucleus (e.g. 1133 in MD) and ask how dispersed it is across the whole thalamus. Ideally, a linear metric, such that you could ask what the dispersion is for all clusters to see which ones seem to be more compact and which are more shared\n",
    "\n",
    "I *think* this is going to have to be done on hemispheres, rather than the whole brain. Most existing tools I'm finding are not able to account for symmetries.\n",
    "\n",
    "Likely going to borrow from some of ArcGIS's standard toolboxes\n",
    "- https://pro.arcgis.com/en/pro-app/latest/tool-reference/spatial-statistics/h-how-standard-distance-spatial-statistic-works.htm\n",
    "\n",
    "Or other satellite imagery methods:\n",
    "- https://www.tandfonline.com/doi/full/10.1080/17538947.2018.1474957"
   ]
  }
 ],
 "metadata": {
  "kernelspec": {
   "display_name": "Python 3",
   "language": "python",
   "name": "python3"
  },
  "language_info": {
   "codemirror_mode": {
    "name": "ipython",
    "version": 3
   },
   "file_extension": ".py",
   "mimetype": "text/x-python",
   "name": "python",
   "nbconvert_exporter": "python",
   "pygments_lexer": "ipython3",
   "version": "3.9.12"
  }
 },
 "nbformat": 4,
 "nbformat_minor": 5
}
