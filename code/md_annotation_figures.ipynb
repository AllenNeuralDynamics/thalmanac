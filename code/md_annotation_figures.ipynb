{
 "cells": [
  {
   "cell_type": "code",
   "execution_count": 1,
   "id": "2600a046-4d0d-4976-9e3f-fb428fb15fd6",
   "metadata": {},
   "outputs": [],
   "source": [
    "import numpy as np\n",
    "import pathlib\n",
    "import anndata as ad\n",
    "import pandas as pd\n",
    "\n",
    "import matplotlib\n",
    "import matplotlib.pyplot as plt\n",
    "from mpl_toolkits.axes_grid1.anchored_artists import AnchoredSizeBar\n",
    "\n",
    "from shapely.geometry import Polygon, MultiLineString, box, Point, MultiPolygon\n",
    "from shapely.ops import unary_union, polygonize\n",
    "import shapely.plotting as splot\n",
    "import shapely\n",
    "\n",
    "from collections import defaultdict\n",
    "\n",
    "from  geojson.geometry import GeometryCollection\n",
    "import geojson\n",
    "\n",
    "%matplotlib inline"
   ]
  },
  {
   "cell_type": "markdown",
   "id": "161bffd7-285e-4823-b713-60b6950833f0",
   "metadata": {},
   "source": [
    "# Set results write path"
   ]
  },
  {
   "cell_type": "code",
   "execution_count": 2,
   "id": "832e83a6-98d7-4636-8242-ae0cc827b070",
   "metadata": {},
   "outputs": [],
   "source": [
    "results_dir = '../results/md_annotation_figures/'"
   ]
  },
  {
   "cell_type": "markdown",
   "id": "e003e227-e3df-42d3-933c-d8f82f10cb27",
   "metadata": {},
   "source": [
    "# Load & subset anndata"
   ]
  },
  {
   "cell_type": "code",
   "execution_count": 3,
   "id": "8889e064-89a5-473f-b8e7-9c905957c58f",
   "metadata": {},
   "outputs": [],
   "source": [
    "# Load brain1 + brain3 combined adata with MD annotations\n",
    "adata = ad.read_h5ad('../data/merfish_609882and638850_AIT17_annotated_TH_ZI_only_shared_genes_only_MD_annotations_2023-06-12_00-00-00/Brain_1_3_TH_ZI_MDannotations.h5ad')"
   ]
  },
  {
   "cell_type": "code",
   "execution_count": 4,
   "id": "29a9fb24-07ca-4432-aeac-d5c17c9d0d44",
   "metadata": {},
   "outputs": [],
   "source": [
    "adata"
   ]
  },
  {
   "cell_type": "code",
   "execution_count": 5,
   "id": "34250232-bf7f-4041-a003-7e221dcd75d7",
   "metadata": {},
   "outputs": [],
   "source": [
    "# list of neuronal divisions so we can just focus on neuons\n",
    "divisions_neuronal = [\n",
    "                    '2 Subpallium GABAergic',\n",
    "                    '3 PAL-sAMY-TH-HY-MB-HB neuronal',\n",
    "                    '4 CBX-MOB-other neuronal'\n",
    "                   ]\n",
    "\n",
    "adata_neuronal = adata[adata.obs.division_id_label.isin(divisions_neuronal)].copy()"
   ]
  },
  {
   "cell_type": "code",
   "execution_count": 6,
   "id": "ef8269ac-5f86-4988-bb09-c0041b02f28e",
   "metadata": {},
   "outputs": [],
   "source": [
    "# use .obs['brain']==1 or ==3 to distinguish between brain1 vs brain3 cells\n",
    "# if .obs['brain'] doesn't exist, you can instead use the codebook names:\n",
    "# codebook_brain1 = 'VZG147'\n",
    "# codebook_brain3 = 'wholebrain031822a'\n",
    "\n",
    "adata_br3_neuronal = adata_neuronal[adata_neuronal.obs.brain==3].copy()\n",
    "adata_br1_neuronal = adata_neuronal[adata_neuronal.obs.brain==1].copy()"
   ]
  },
  {
   "cell_type": "code",
   "execution_count": 7,
   "id": "c5863406-06c4-4fec-b4d4-495e37c2602e",
   "metadata": {},
   "outputs": [],
   "source": [
    "# nice to have everything for plotting in the obs dataframe\n",
    "adata_br3_neuronal.obs['cirro_x'] = adata_br3_neuronal.obsm['spatial_cirro'][:,0]\n",
    "adata_br3_neuronal.obs['cirro_y'] = adata_br3_neuronal.obsm['spatial_cirro'][:,1]"
   ]
  },
  {
   "cell_type": "code",
   "execution_count": 8,
   "id": "a076eb6d-576a-4742-b425-9c69c3344209",
   "metadata": {},
   "outputs": [],
   "source": [
    "adata_br3_neuronal"
   ]
  },
  {
   "cell_type": "markdown",
   "id": "92094015-d88b-4c83-96bb-be7f50bdabe6",
   "metadata": {},
   "source": [
    "# Load MD annotations"
   ]
  },
  {
   "cell_type": "code",
   "execution_count": 9,
   "id": "b2da631f-3737-4358-8554-d25ee2a3e8bf",
   "metadata": {},
   "outputs": [],
   "source": [
    "# Get the MD annotations from the .uns\n",
    "gc = geojson.loads(adata.uns['MD_polygons'])"
   ]
  },
  {
   "cell_type": "code",
   "execution_count": 10,
   "id": "a1ffc922-2670-419d-9c55-194b9ddc45b9",
   "metadata": {},
   "outputs": [],
   "source": [
    "# Get polygons from gc\n",
    "MD_polys = [shapely.geometry.Polygon(poly['coordinates']) for poly in gc['geometries']]  #YZ coords stored as shapely polygons (expected by cells_in_polygon())\n",
    "MD_shapes_z = [ poly['napari_z_coords'] for poly in gc['geometries'] ]  # Z coords"
   ]
  },
  {
   "cell_type": "code",
   "execution_count": 11,
   "id": "200b885a-d33e-4108-be75-b5e218dd694a",
   "metadata": {},
   "outputs": [],
   "source": [
    "# Get per polygon metadata\n",
    "MD_polys_brain_id = adata.uns['MD_polys_brain']  # which brain it's for\n",
    "MD_polys_L_R = adata.uns['MD_polys_left_right']  # whether it's a left or right MD"
   ]
  },
  {
   "cell_type": "markdown",
   "id": "05880a97-3df6-4f59-b85b-c833ebf5cb38",
   "metadata": {
    "tags": []
   },
   "source": [
    "# Plotting functions"
   ]
  },
  {
   "cell_type": "markdown",
   "id": "a48312de-ac3e-4978-9ba0-07f8e6edd230",
   "metadata": {
    "jp-MarkdownHeadingCollapsed": true,
    "tags": []
   },
   "source": [
    "## poly_from_points(), get_outline_polygon()"
   ]
  },
  {
   "cell_type": "code",
   "execution_count": 12,
   "id": "0547ccc5-09a1-4092-a235-b8f560cb4fab",
   "metadata": {},
   "outputs": [],
   "source": [
    "def poly_from_points(XY, min_points=0, allow_holes=False):\n",
    "    '''\n",
    "    Take a set of XY coordinates and generate a shapely Polygon that's a\n",
    "    concave hull outline around all the given coordinates.\n",
    "    Borrowed from Tom's code in brain3 ccf views\n",
    "    '''\n",
    "    if XY.shape[0] < min_points:\n",
    "        return None\n",
    "    poly = shapely.concave_hull(shapely.multipoints(XY), \n",
    "                                allow_holes=allow_holes, ratio=0.3)\n",
    "    if type(poly) is shapely.Polygon:\n",
    "        return poly\n",
    "    else:\n",
    "        return None\n",
    "\n",
    "def get_outline_polygon(obs_data, min_points=50, coordinate_type='cirro'):\n",
    "    ''' Take all the XY cell coordinates in each section and generate a concave\n",
    "    hull Polygon that encompasses all points in that section'''\n",
    "    outline_polygons = defaultdict(dict) \n",
    "    for section, df in obs_data.groupby('section'):\n",
    "        if coordinate_type=='napari':\n",
    "            XY_n = df[['napari_x_brain1and3','napari_y_brain1and3']].values\n",
    "            XY = np.asarray([[coord[0], -coord[1]] for coord in XY_n])\n",
    "            # print(XY)\n",
    "        elif coordinate_type=='cirro':\n",
    "            XY = df[['cirro_x','cirro_y']].values\n",
    "        poly = poly_from_points(XY, min_points=min_points)\n",
    "        if poly is not None:\n",
    "            # groupby is returning key as a number, but on my workstation\n",
    "            # it returns it as a tuple with one entry here?? despite\n",
    "            # identical code & versions (pandas=1.5.3)\n",
    "            # Here I use [section], there I use [section[0]]\n",
    "            outline_polygons[section] = poly\n",
    "    return outline_polygons"
   ]
  },
  {
   "cell_type": "markdown",
   "id": "0ce4844c-60ec-4883-93ea-5c22825d7951",
   "metadata": {
    "jp-MarkdownHeadingCollapsed": true,
    "tags": []
   },
   "source": [
    "## plot_shape(), plot_section_outline()"
   ]
  },
  {
   "cell_type": "code",
   "execution_count": 13,
   "id": "1626db38-048a-476d-94c4-c32520b346ff",
   "metadata": {},
   "outputs": [],
   "source": [
    "def plot_shape(poly, edgecolor='black', **kwargs):\n",
    "    '''Displays shapely Polygon(s) using shapely's splot()\n",
    "    Borrowed from Tom's code in brain3 ccf views'''\n",
    "    if type(poly) is shapely.GeometryCollection:\n",
    "        for subpoly in poly.geoms:\n",
    "            patch = splot.plot_polygon(subpoly, add_points=False, \n",
    "                                       edgecolor=edgecolor, **kwargs)\n",
    "    else:\n",
    "        patch = splot.plot_polygon(poly, add_points=False, \n",
    "                                   edgecolor=edgecolor, **kwargs)\n",
    "    return patch\n",
    "\n",
    "def plot_section_outline(outline_polygons, sections=None, axes=False, \n",
    "                         facecolor='none', edgecolor='black', alpha=0.05):\n",
    "    ''' Displays the per-section outline_polygons from get_outline_polygon() for\n",
    "    the specified sections'''\n",
    "    if sections is None:\n",
    "        sections = obs['section'].unique()\n",
    "    elif isinstance(sections, str):\n",
    "        sections = [sections]\n",
    "    \n",
    "    for section in sections:\n",
    "        plot_shape(outline_polygons[section],facecolor=facecolor,\n",
    "                   edgecolor=edgecolor,alpha=alpha)\n",
    "        if not axes:\n",
    "            plt.gca().set_aspect('equal')\n",
    "            plt.box(False)\n",
    "            plt.xticks([])\n",
    "            plt.yticks([])"
   ]
  },
  {
   "cell_type": "markdown",
   "id": "98cec8b7-01d9-472a-b0ce-d6577f260f03",
   "metadata": {
    "jp-MarkdownHeadingCollapsed": true,
    "tags": []
   },
   "source": [
    "## plot_clusters_in_annotation()"
   ]
  },
  {
   "cell_type": "code",
   "execution_count": 14,
   "id": "87047994-54b8-4696-91f6-330d903c76d5",
   "metadata": {},
   "outputs": [],
   "source": [
    "def plot_clusters_in_annotation(adata_neuronal, clusters, section, plate, legend=True):\n",
    "    # ** only plotting brain3 **\n",
    "\n",
    "    fig = plt.figure(figsize=(12,6))\n",
    "    \n",
    "    # display all the cells in this section in grey\n",
    "    mask_sec = (adata_neuronal.obs.section==section)\n",
    "    xy_all = adata_neuronal.obs.loc[mask_sec, [\"napari_y_brain1and3\",\"napari_x_brain1and3\"]].values\n",
    "    plt.plot(xy_all[:,1], -xy_all[:,0], '.', color='lightgrey', markersize=0.5)\n",
    "    plt.gca().set_aspect('equal')\n",
    "    \n",
    "\n",
    "    # picked colormaps with large perceptual differences btwn adjacent colors\n",
    "    rgb_cm = np.concatenate((np.asarray(plt.get_cmap('tab10').colors), \n",
    "                             np.asarray(plt.get_cmap('Dark2').colors)))\n",
    "    cl_colors = np.zeros((rgb_cm.shape[0],4))\n",
    "    cl_colors[:,:3] = rgb_cm\n",
    "    cl_colors[:,3] = 1\n",
    "    color_iter = 0\n",
    "    \n",
    "    # plot the cells in the given clusters\n",
    "    for cl in clusters:\n",
    "        mdmask = adata_neuronal.obs.is_in_MD.values\n",
    "        clmask = np.logical_and(mask_sec, (adata_neuronal.obs.cluster_label==cl))\n",
    "\n",
    "        msize=2\n",
    "        # plot the in-MD cells darker\n",
    "        xy_cl_MD = adata_neuronal.obs.loc[np.logical_and(mdmask,clmask), \n",
    "                                          [\"napari_y_brain1and3\",\"napari_x_brain1and3\"]].values\n",
    "        plt.scatter(xy_cl_MD[:,1], -xy_cl_MD[:,0], s=msize, \n",
    "                    alpha=1, facecolor=cl_colors[color_iter], label=cl)\n",
    "\n",
    "        # plot the other cells lighter\n",
    "        xy_cl_other = adata_neuronal.obs.loc[np.logical_and(~mdmask,clmask), \n",
    "                                             [\"napari_y_brain1and3\",\"napari_x_brain1and3\"]].values\n",
    "        plt.scatter(xy_cl_other[:,1], -xy_cl_other[:,0], s=msize,\n",
    "                    alpha=0.4, facecolor=cl_colors[color_iter])\n",
    "        \n",
    "        color_iter+=1\n",
    "\n",
    "    if legend:\n",
    "        lgnd = plt.legend(ncols=3, loc='upper center', bbox_to_anchor=(0.5,0), fontsize=10)\n",
    "        for handle in lgnd.legend_handles:\n",
    "            handle.set_sizes([16])\n",
    "        \n",
    "    # select the right polygon(s) for this section\n",
    "    poly_index = np.where( (np.array([int(x) for x in MD_shapes_z])==plate) & \n",
    "                           (MD_polys_brain_id==3) )[0]\n",
    "    for i in poly_index:\n",
    "        plt.plot(np.array(MD_polys[i].exterior.coords)[:,1], \n",
    "                 -np.array(MD_polys[i].exterior.coords)[:,0], 'k')\n",
    "                 \n",
    "\n",
    "    # formatting\n",
    "    plt.gca().set_aspect('equal')\n",
    "    plt.xticks([])\n",
    "    plt.yticks([])\n",
    "    plt.box(False)"
   ]
  },
  {
   "cell_type": "markdown",
   "id": "937b554b-9d13-4708-892a-931c6f6bd6da",
   "metadata": {
    "jp-MarkdownHeadingCollapsed": true,
    "tags": []
   },
   "source": [
    "## plot_expression_annotation()"
   ]
  },
  {
   "cell_type": "code",
   "execution_count": 15,
   "id": "b6db5a91-f229-4ff4-a228-68bdf56c5461",
   "metadata": {},
   "outputs": [],
   "source": [
    "from scipy import sparse\n",
    "\n",
    "def plot_expression_annotation(adata_neuronal, gene, section, plate, \n",
    "                               annotation=True, section_outline=True):\n",
    "    # ** only plotting brain3 **\n",
    "\n",
    "    sec_mask = adata_neuronal.obs.section==section\n",
    "    # The transcript counts are stored in a sparse matrix, which cannot be\n",
    "    # directly plotted w/out first: making dense, converting to an np.array,\n",
    "    # and then flattening\n",
    "    gene_exp = np.array(sparse.csr_matrix.todense(adata_neuronal[sec_mask][:,gene].X)).flatten()\n",
    "\n",
    "    # Plot figure                           \n",
    "    fig = plt.figure(figsize=(9,6))\n",
    "\n",
    "    colormap = 'Blues' #'viridis'\n",
    "    marker_size = 0.5\n",
    "    \n",
    "    xy = adata_neuronal.obs.loc[sec_mask,[\"napari_y_brain1and3\",\"napari_x_brain1and3\"]].values\n",
    "    sc = plt.scatter(xy[:,1], -xy[:,0], c=gene_exp,\n",
    "                cmap=colormap, s=marker_size)\n",
    "    plt.title(gene)\n",
    "    cbar = plt.colorbar(sc, fraction=0.025, pad=0.04)\n",
    "    cbar.set_label('log2(CPV+1)')\n",
    "\n",
    "    if annotation:\n",
    "        # select the right polygon(s) for this section\n",
    "        poly_index = np.where( (np.array([int(x) for x in MD_shapes_z])==plate) & \n",
    "                               (MD_polys_brain_id==3) )[0]\n",
    "        for i in poly_index:\n",
    "            plt.plot(np.array(MD_polys[i].exterior.coords)[:,1], \n",
    "                     -np.array(MD_polys[i].exterior.coords)[:,0], 'k', alpha=0.6)\n",
    "\n",
    "    if section_outline:\n",
    "        th_outline_polygons = get_outline_polygon(adata_br3_neuronal.obs,\n",
    "                                                  coordinate_type='napari')\n",
    "        plot_section_outline(th_outline_polygons, sections=section, alpha=0.2)\n",
    "                 \n",
    "\n",
    "    # formatting\n",
    "    plt.gca().set_aspect('equal')\n",
    "    plt.xticks([])\n",
    "    plt.yticks([])\n",
    "    plt.box(False)\n",
    "\n",
    "    return fig"
   ]
  },
  {
   "cell_type": "markdown",
   "id": "41ae819c-342e-43bc-a1a7-1223cdb831d2",
   "metadata": {
    "jp-MarkdownHeadingCollapsed": true,
    "tags": []
   },
   "source": [
    "## plot_PC_spatial_dist()"
   ]
  },
  {
   "cell_type": "code",
   "execution_count": 16,
   "id": "638bf29b-2fa0-4484-a98f-e33b67496d72",
   "metadata": {},
   "outputs": [],
   "source": [
    "def plot_PC_spatial_dist(adata_neuronal, PC_distance, PC_id, section, plate, \n",
    "                         brain=3, annotation=True, section_outline=True, \n",
    "                         colormap='Oranges'):\n",
    "    \n",
    "    # sec_mask = adata_neuronal.obs.section==section\n",
    "    sec_mask = np.logical_and(adata_neuronal.obs.section==section,\n",
    "                              adata_neuronal.obs.is_in_MD.values)\n",
    "\n",
    "    # Plot figure                           \n",
    "    fig = plt.figure(figsize=(9,6))\n",
    "\n",
    "    # marker_size = 0.5\n",
    "    marker_size = 7\n",
    "    \n",
    "    xy = adata_neuronal.obs.loc[sec_mask,[\"napari_y_brain1and3\",\"napari_x_brain1and3\"]].values\n",
    "    sc = plt.scatter(xy[:,1], -xy[:,0], c=PC_distance[sec_mask],\n",
    "                cmap=colormap, s=marker_size)\n",
    "    plt.title('PC_'+str(PC_id))\n",
    "    cbar = plt.colorbar(sc, fraction=0.025, pad=0.04)\n",
    "\n",
    "    if annotation:\n",
    "        # select the right polygon(s) for this section\n",
    "        poly_index = np.where( (np.array([int(x) for x in MD_shapes_z])==plate) & \n",
    "                               (MD_polys_brain_id==brain) )[0]\n",
    "        for i in poly_index:\n",
    "            plt.plot(np.array(MD_polys[i].exterior.coords)[:,1], \n",
    "                     -np.array(MD_polys[i].exterior.coords)[:,0], 'k', alpha=0.6)\n",
    "\n",
    "    # if section_outline:\n",
    "    #     th_outline_polygons = get_outline_polygon(adata_neuronal.obs,\n",
    "    #                                               coordinate_type='napari')\n",
    "    #     plot_section_outline(th_outline_polygons, sections=section, alpha=0.2)\n",
    "                 \n",
    "\n",
    "    # formatting\n",
    "    plt.gca().set_aspect('equal')\n",
    "    plt.xticks([])\n",
    "    plt.yticks([])\n",
    "    plt.box(False)\n",
    "\n",
    "    return fig"
   ]
  },
  {
   "cell_type": "markdown",
   "id": "4c9cf434-b133-4c6c-b81d-84fefde3309d",
   "metadata": {},
   "source": [
    "## Demonstrate plot_section_outline()"
   ]
  },
  {
   "cell_type": "code",
   "execution_count": 17,
   "id": "77f75b0b-239e-4c10-a8d8-c59206012559",
   "metadata": {},
   "outputs": [],
   "source": [
    "# set up whole-thalamus outline\n",
    "th_outline_polygons = get_outline_polygon(adata_br3_neuronal.obs, coordinate_type='napari')\n",
    "plot_section_outline(th_outline_polygons, sections='1199651060', alpha=0.2)"
   ]
  },
  {
   "cell_type": "markdown",
   "id": "7707e8d0-0606-4cf9-99aa-84f746e4a1d2",
   "metadata": {},
   "source": [
    "# Generate list of MD clusters"
   ]
  },
  {
   "cell_type": "code",
   "execution_count": 18,
   "id": "08c6b360-b05c-4770-bab2-9c86f029988f",
   "metadata": {},
   "outputs": [],
   "source": [
    "# Find all the clusters that are represented in the MD in brain3\n",
    "MD_clusters = adata_br3_neuronal.obs.loc[adata_br3_neuronal.obs.is_in_MD,\"cluster_label\"].unique()\n",
    "# MD_clusters = [cl for cl in MD_clusters if adata_br3_neuronal.obs.loc[adata.obs.cluster_label==cl,\"division_id_label\"].values[0] in divisions_neuronal]\n",
    "MD_clusters = np.asarray(sorted(list(MD_clusters)))\n",
    "# MD_clusters"
   ]
  },
  {
   "cell_type": "code",
   "execution_count": 19,
   "id": "7362e1d1-4aee-4267-8f9b-0a4ceca3918c",
   "metadata": {},
   "outputs": [],
   "source": [
    "# shorten the list to only those clusters that have >N cells across both brains\n",
    "min_cells = 20\n",
    "MD_cluster_minCells = np.array([])\n",
    "for cluster in MD_clusters:\n",
    "    mdclmask = np.logical_and(adata_br3_neuronal.obs.is_in_MD.values, (adata_br3_neuronal.obs.cluster_label==cluster).values)\n",
    "    if np.sum(mdclmask)>min_cells:\n",
    "        MD_cluster_minCells = np.append(MD_cluster_minCells, cluster)\n",
    "\n",
    "# print(reversed(MD_cluster_minCells))\n",
    "MD_cluster_minCells"
   ]
  },
  {
   "cell_type": "code",
   "execution_count": 20,
   "id": "6acc7a48-9bd9-4b8b-a256-2d29ab605341",
   "metadata": {},
   "outputs": [],
   "source": [
    "# remove the clusters that are likely from interlaminar cells on the boundary \n",
    "# of the MD ('CM-IAD-CL-PCN'), and not actually MD cells themselves\n",
    "MD_cluster_minCells_Prkcd = np.array([cl for cl in MD_cluster_minCells if 'TH Prkcd' in cl])\n",
    "MD_cluster_minCells_Prkcd"
   ]
  },
  {
   "cell_type": "markdown",
   "id": "acc20137-b058-450b-abe3-690701a52a87",
   "metadata": {},
   "source": [
    "# Cell types in MD plots"
   ]
  },
  {
   "cell_type": "markdown",
   "id": "cde39367-7927-4f5e-93fa-86c9171a17de",
   "metadata": {},
   "source": [
    "## MD clusters also present in other thalamic nucleI"
   ]
  },
  {
   "cell_type": "code",
   "execution_count": 21,
   "id": "e0362a76-da62-45cf-9cfb-208ec23b12c5",
   "metadata": {},
   "outputs": [],
   "source": [
    "toms_section = '1199651045'\n",
    "toms_section_plate = 75\n",
    "plot_clusters_in_annotation(adata_br3_neuronal, reversed(MD_cluster_minCells), toms_section, plate=toms_section_plate)"
   ]
  },
  {
   "cell_type": "markdown",
   "id": "73630b11-14fe-4382-a043-004d94aa7ff9",
   "metadata": {},
   "source": [
    "## Clusters, subclasses used for manual MD annotation"
   ]
  },
  {
   "cell_type": "code",
   "execution_count": 22,
   "id": "076bb453-34f8-498d-89b3-d8e778f5faaa",
   "metadata": {},
   "outputs": [],
   "source": [
    "# picked colormaps with large perceptual differences btwn adjacent colors\n",
    "rgb_cm = np.concatenate((np.asarray(plt.get_cmap('tab10').colors), \n",
    "                         np.asarray(plt.get_cmap('Dark2').colors)))\n",
    "group_colors = np.zeros((rgb_cm.shape[0],4))\n",
    "group_colors[:,:3] = rgb_cm\n",
    "group_colors[:,3] = 1\n",
    "# group_colors"
   ]
  },
  {
   "cell_type": "code",
   "execution_count": 23,
   "id": "6be3e863-2490-492a-8225-3ebaa83761a9",
   "metadata": {},
   "outputs": [],
   "source": [
    "MD_centers = np.array([p.centroid.coords[0] for p in MD_polys])"
   ]
  },
  {
   "cell_type": "code",
   "execution_count": 24,
   "id": "23ebbe82-7459-4fca-b388-400e6f825e58",
   "metadata": {},
   "outputs": [],
   "source": [
    "color_iter = 0\n",
    "section = '1199651045'\n",
    "plate = 75\n",
    "\n",
    "# Set up & format figure\n",
    "fig = plt.figure(figsize=(12,8))\n",
    "plt.axis('equal')\n",
    "plt.box(False)\n",
    "plt.xticks([])\n",
    "plt.yticks([]);\n",
    "\n",
    "# define colors\n",
    "th_bkgd_color = 'grey'\n",
    "md_boundary_color = 'dimgrey'\n",
    "md_cl_colors = group_colors[[9,1]]  # hardcode colors so clusters are easy to see\n",
    "\n",
    "# define marker sizes\n",
    "msize_bkgd = 0.5\n",
    "msize_boundary = 4\n",
    "msize_md_cl = 4\n",
    "\n",
    "sec_mask = (adata_br3_neuronal.obs.section==section)\n",
    "\n",
    "# Plot neuronal divisions in grey to show shape of thalamus\n",
    "divisions_to_plot = ['2 Subpallium GABAergic',\n",
    "                    '3 PAL-sAMY-TH-HY-MB-HB neuronal',\n",
    "                    '4 CBX-MOB-other neuronal']\n",
    "groupby_col_name = 'division_id_label'\n",
    "for division, gb in adata_br3_neuronal.obs.groupby(groupby_col_name):\n",
    "    # Only display neuronal cells\n",
    "    if division not in divisions_to_plot:\n",
    "        continue\n",
    "        \n",
    "    sec_div_mask = np.logical_and(sec_mask, \n",
    "                                  adata_br3_neuronal.obs.division_id_label==division)\n",
    "    \n",
    "    # display all the neurons in this section in grey\n",
    "    xy_all = adata_br3_neuronal.obs.loc[sec_div_mask, [\"napari_y_brain1and3\",\"napari_x_brain1and3\"]].values\n",
    "    plt.plot(xy_all[:,1], -xy_all[:,0], '.', color=th_bkgd_color, markersize=msize_bkgd)\n",
    "\n",
    "\n",
    "\n",
    "    \n",
    "# Which subclasses are helpful in distinguishing MD boundaries?\n",
    "subclasses_to_plot = ['067 PVT-PT Ntrk1 Glut', # PVT (above MD)\n",
    "                      '068 CM-IAD-CL-PCN Glut'  # below MD\n",
    "                     ]\n",
    "# Plot subclasses\n",
    "groupby_col_name = 'subclass_id_label'\n",
    "for subclass, gb in adata.obs.groupby(groupby_col_name):\n",
    "    # Only display neuronal cells\n",
    "    if subclass not in subclasses_to_plot:\n",
    "        continue\n",
    "        \n",
    "    sec_sbc_mask = np.logical_and(sec_mask, \n",
    "                                  adata_br3_neuronal.obs.subclass_id_label==subclass)\n",
    "    \n",
    "    # display all the neurons in this section in grey\n",
    "    xy_all = adata_br3_neuronal.obs.loc[sec_sbc_mask, [\"napari_y_brain1and3\",\"napari_x_brain1and3\"]].values\n",
    "    plt.plot(xy_all[:,1], -xy_all[:,0], '.', color=md_boundary_color, markersize=msize_boundary)\n",
    "\n",
    "\n",
    "        \n",
    "# Which supertypes are helpful?\n",
    "supertypes_to_plot = ['0290 PF Fzd5 Glut_1', '0291 PF Fzd5 Glut_2', #PF (posterior end of MD)\n",
    "                      '0273 TH Prkcd Grin2c Glut_12',  # midline\n",
    "                      '0274 TH Prkcd Grin2c Glut_13',  # lateral/sides of MD\n",
    "                      '0279 TH Prkcd Grin2c Glut_5',  # lateral/sides of MD\n",
    "                      ]\n",
    "# '0271 TH Prkcd Grin2c Glut_10',  # inside MD, includes clusters 1132, 1133\n",
    "# Plot supertypes\n",
    "groupby_col_name = 'supertype_id_label'\n",
    "for supertype, gb in adata.obs.groupby(groupby_col_name):\n",
    "    # only display the relevant supertypes\n",
    "    if supertype not in supertypes_to_plot:\n",
    "        continue\n",
    "\n",
    "    sec_st_mask = np.logical_and(sec_mask, \n",
    "                                  adata_br3_neuronal.obs.supertype_id_label==supertype)\n",
    "    \n",
    "    # display all the neurons in this section in grey\n",
    "    xy_all = adata_br3_neuronal.obs.loc[sec_st_mask, [\"napari_y_brain1and3\",\"napari_x_brain1and3\"]].values\n",
    "    plt.plot(xy_all[:,1], -xy_all[:,0], '.', color=md_boundary_color, markersize=msize_boundary)\n",
    "\n",
    "\n",
    "    \n",
    "# Which clusters are helpful?\n",
    "# too few cells to be worth plotting: '1132 TH Prkcd Grin2c Glut_10'\n",
    "clusters_to_plot = ['1130 TH Prkcd Grin2c Glut_1', # inside MD and also far away\n",
    "                    '1133 TH Prkcd Grin2c Glut_10' # mostly in MD + a little above\n",
    "                   ]\n",
    "\n",
    "cl_color_iter = 0\n",
    "# Plot clusters\n",
    "groupby_col_name = 'cluster_label'\n",
    "for cluster, gb in adata.obs.groupby(groupby_col_name):\n",
    "    # only display the MD clusters\n",
    "    if cluster not in clusters_to_plot:\n",
    "        continue\n",
    "        \n",
    "    sec_cl_mask = np.logical_and(sec_mask, \n",
    "                                  adata_br3_neuronal.obs.cluster_label==cluster)\n",
    "    \n",
    "    # display all the neurons in this section in grey\n",
    "    xy_all = adata_br3_neuronal.obs.loc[sec_cl_mask, [\"napari_y_brain1and3\",\"napari_x_brain1and3\"]].values\n",
    "    plt.plot(xy_all[:,1], -xy_all[:,0], '.', color=md_cl_colors[cl_color_iter], markersize=msize_md_cl)\n",
    "    cl_color_iter+=1\n",
    "\n",
    "    \n",
    "# Add the MD polygons on top\n",
    "# select the right polygon(s) for this section\n",
    "poly_index = np.where( (np.array([int(x) for x in MD_shapes_z])==plate) & \n",
    "                       (MD_polys_brain_id==3) )[0]\n",
    "for i in poly_index:\n",
    "    plt.plot(np.array(MD_polys[i].exterior.coords)[:,1], \n",
    "             -np.array(MD_polys[i].exterior.coords)[:,0], 'k')\n",
    "    plt.plot(MD_centers[i][1], -MD_centers[i][0], \"*k\", markersize=10)\n",
    "\n",
    "fig_name = 'th_groups_used_for_MD_annotation_sec'+section+'.png'\n",
    "fig.savefig(results_dir+fig_name,bbox_inches='tight')"
   ]
  },
  {
   "cell_type": "markdown",
   "id": "1bc62c80-dc92-4d67-9be5-ae7c39db1dc7",
   "metadata": {},
   "source": [
    "# Gene expression in MD heatmaps"
   ]
  },
  {
   "cell_type": "code",
   "execution_count": 25,
   "id": "498c9271-724f-46ad-83ec-466f956d9b99",
   "metadata": {},
   "outputs": [],
   "source": [
    "toms_section = '1199651045'\n",
    "toms_section_plate = 75\n",
    "\n",
    "section = '1199651048'\n",
    "plate = 73\n",
    "gene = 'Slc17a7'\n",
    "fig = plot_expression_annotation(adata_br3_neuronal, gene, section, plate, annotation=True)"
   ]
  },
  {
   "cell_type": "code",
   "execution_count": 26,
   "id": "962d04e0-784c-41bf-827a-968214e8b700",
   "metadata": {},
   "outputs": [],
   "source": [
    "section = '1199651048'\n",
    "plate = 73\n",
    "gene = 'Scn4b'\n",
    "fig = plot_expression_annotation(adata_br3_neuronal, gene, section, plate, annotation=True)"
   ]
  },
  {
   "cell_type": "markdown",
   "id": "25c79234-81ff-46bc-9e8c-de79373561b9",
   "metadata": {
    "jp-MarkdownHeadingCollapsed": true,
    "tags": []
   },
   "source": [
    "## DE genes - manually curated list"
   ]
  },
  {
   "cell_type": "code",
   "execution_count": 27,
   "id": "9d7bd160-2637-49c5-98b1-e87a450767e9",
   "metadata": {},
   "outputs": [],
   "source": [
    "# I think I got these from Mathew??\n",
    "MD_DE_genes = ['Mop', 'Tnnt1', 'Necab1', 'Calb2', 'Prkcd', 'Slc17a7', 'Hs3st1',\n",
    "               'Scn4b', 'Rasgrp1', 'Rgs4', 'Pcp4l1', 'Tspan9', 'Cnih3', 'Rgs16',\n",
    "               'Cacng5', 'Kcnc2']\n",
    "\n",
    "MD_DE_genes_br13 = [deg for deg in MD_DE_genes if deg in adata.var_names]\n",
    "print('DE genes present in both brain1 & brain3:', MD_DE_genes_br13)"
   ]
  },
  {
   "cell_type": "code",
   "execution_count": 28,
   "id": "5bcb7c32-8b6a-4a1d-89f3-0c58c6881658",
   "metadata": {},
   "outputs": [],
   "source": [
    "%matplotlib inline\n",
    "\n",
    "section = '1199651048'\n",
    "plate = 73\n",
    "\n",
    "for gene in MD_DE_genes_br13:\n",
    "    fig = plot_expression_annotation(adata_br3_neuronal, gene, section, plate, annotation=True)\n",
    "    fig_name = 'MD_DE_genes_expr_brain3_'+gene+'.png'\n",
    "    fig.savefig(results_dir+fig_name,bbox_inches='tight')"
   ]
  },
  {
   "cell_type": "markdown",
   "id": "4cfffcd7-af4e-4fc5-bd9e-41f6dc5011e4",
   "metadata": {},
   "source": [
    "## DE genes - scanpy's rank_genes_groups() list"
   ]
  },
  {
   "cell_type": "code",
   "execution_count": 29,
   "id": "86cdb611-fadc-417b-a251-711565c8de6a",
   "metadata": {},
   "outputs": [],
   "source": [
    "# import scanpy as sc\n",
    "# sc.tl.rank_genes_groups(adata_br3_neuronal, 'cluster_id', groups=['1133'], method='wilcoxon', rankby_abs=True)\n",
    "# sc.pl.rank_genes_groups(adata_br3_neuronal, n_genes=20)"
   ]
  },
  {
   "cell_type": "code",
   "execution_count": 30,
   "id": "3fcfad3b-d4ca-49d6-939a-4e85ecf7847a",
   "metadata": {},
   "outputs": [],
   "source": [
    "# using scanpy's rank_genes_groups()\n",
    "MD_DE_genes_pos = ['Necab1', 'Ramp3', 'Stxbp6', 'Calb1', 'Shisa6', 'Tll1',\n",
    "                   'Gpr4', 'Grin2c', 'Tox', 'Adra1b', 'A830036E02Rik']\n",
    "MD_DE_genes_pos_br13 = [deg for deg in MD_DE_genes_pos if deg in adata.var_names]\n",
    "print('DE genes present in both brain1 & brain3:', MD_DE_genes_pos_br13)\n",
    "\n",
    "MD_DE_genes_neg = ['Hs3st4', 'Grm3', 'Sulf2', 'Adcy2', 'Grik1', 'Rou3f3', \n",
    "                   'Cnr1', 'Gfra1', 'Gsta4']\n",
    "MD_DE_genes_neg_br13 = [deg for deg in MD_DE_genes_neg if deg in adata.var_names]\n",
    "print('DE genes present in both brain1 & brain3:', MD_DE_genes_neg_br13)"
   ]
  },
  {
   "cell_type": "markdown",
   "id": "f3fe1e4f-8f19-49b4-8b32-8881a4c11abf",
   "metadata": {},
   "source": [
    "### positive DE genes"
   ]
  },
  {
   "cell_type": "code",
   "execution_count": 31,
   "id": "b9b529d8-0965-4176-a9b6-f94ba660c6fa",
   "metadata": {},
   "outputs": [],
   "source": [
    "section = '1199651048'\n",
    "plate = 73\n",
    "\n",
    "for gene in MD_DE_genes_pos_br13:\n",
    "    fig = plot_expression_annotation(adata_br3_neuronal, gene, section, plate, annotation=True)\n",
    "    fig_name = 'MD_DE_genes_expr_brain3_'+gene+'.png'\n",
    "    fig.savefig(results_dir+fig_name,bbox_inches='tight')"
   ]
  },
  {
   "cell_type": "markdown",
   "id": "4c1794de-c38d-482f-b0c4-7d1c2894291a",
   "metadata": {
    "jp-MarkdownHeadingCollapsed": true,
    "tags": []
   },
   "source": [
    "### negative DE genes"
   ]
  },
  {
   "cell_type": "code",
   "execution_count": 32,
   "id": "b5bbeaab-a4f1-4b4b-82ea-355783d2fb5f",
   "metadata": {},
   "outputs": [],
   "source": [
    "section = '1199651048'\n",
    "plate = 73\n",
    "\n",
    "for gene in MD_DE_genes_neg_br13:\n",
    "    fig = plot_expression_annotation(adata_br3_neuronal, gene, section, plate)\n",
    "    fig_name = 'MD_DE_genes_expr_brain3_'+gene+'.png'\n",
    "    fig.savefig(results_dir+fig_name,bbox_inches='tight')"
   ]
  },
  {
   "cell_type": "markdown",
   "id": "30460641-9098-4639-87a5-482bbd3b433a",
   "metadata": {},
   "source": [
    "# 2D Histograms of MD"
   ]
  },
  {
   "cell_type": "markdown",
   "id": "3ac43102-de5c-4a0a-848b-84dd35a44966",
   "metadata": {},
   "source": [
    "## Plot aligned MD polygon outlines\n",
    "\n",
    "Generate diagram to illustrate how we're arriving at the averaged 2D histogram plots"
   ]
  },
  {
   "cell_type": "code",
   "execution_count": 33,
   "id": "10f62cc8-6684-4c1c-a052-b584f5be6cc4",
   "metadata": {},
   "outputs": [],
   "source": [
    "MD_centers = np.array([p.centroid.coords[0] for p in MD_polys])\n",
    "\n",
    "# Show the brain3 L & R MD polygons aligned by centroid & overlaid\n",
    "plt.figure(figsize=(6,4))\n",
    "for ii in range(len(MD_polys_L_R)):\n",
    "    # only plot brain3 for the EAB slides\n",
    "    if MD_polys_brain_id[ii]==1:\n",
    "        continue\n",
    "\n",
    "    msize = 10\n",
    "    \n",
    "    if MD_polys_L_R[ii] =='right':\n",
    "        plt.plot((MD_centers[ii][1] - MD_centers[ii][1]), \n",
    "                 (MD_centers[ii][0] - MD_centers[ii][0]), \"*k\", markersize=msize)\n",
    "        \n",
    "        # negate y-coords so the polygons (made in napari using its unique coord\n",
    "        # defaults) are displayed right-side-up using matplotlib\n",
    "        plt.plot((np.array(MD_polys[ii].exterior.coords)[:,1] - MD_centers[ii][1]), \n",
    "                 -(np.array(MD_polys[ii].exterior.coords)[:,0] - MD_centers[ii][0]), \n",
    "                 'k')\n",
    "\n",
    "    elif MD_polys_L_R[ii] =='left':\n",
    "        plt.plot((MD_centers[ii][1] - MD_centers[ii][1]), \n",
    "                 (MD_centers[ii][0] - MD_centers[ii][0]), \"*k\", markersize=msize)\n",
    "        \n",
    "        # negate y-coords so the polygons' are displayed to right-side-up\n",
    "        # negate x-coords so the left polygons are flipped to match the right polygons\n",
    "        plt.plot(-(np.array(MD_polys[ii].exterior.coords)[:,1] - MD_centers[ii][1]), \n",
    "                 -(np.array(MD_polys[ii].exterior.coords)[:,0] - MD_centers[ii][0]), \n",
    "                 'k')\n",
    "\n",
    "plt.axis('equal')\n",
    "plt.box(False)\n",
    "plt.xticks([])\n",
    "plt.yticks([]);"
   ]
  },
  {
   "cell_type": "markdown",
   "id": "7a868780-b68b-4f4f-9263-130faff0e3df",
   "metadata": {},
   "source": [
    "## Clusters"
   ]
  },
  {
   "cell_type": "markdown",
   "id": "d73023fa-12c7-4716-8a83-5e211489d3c7",
   "metadata": {},
   "source": [
    "### plot_cluster_spatial_distribution_in_md()"
   ]
  },
  {
   "cell_type": "code",
   "execution_count": 34,
   "id": "a5a634ab-da2d-465b-a06d-d20a738c7cd9",
   "metadata": {},
   "outputs": [],
   "source": [
    "from mpl_toolkits.axes_grid1.anchored_artists import AnchoredSizeBar\n",
    "\n",
    "def plot_cluster_spatial_distribution_in_md(ad, md_clusters, \n",
    "                                            sections=None, brain=3,\n",
    "                                            binlimits=(-500,500), binsize=30, \n",
    "                                            n_cols=5, hist_range=(0,7)):\n",
    "\n",
    "    # enable specifying sections by either section ID strings or napari z-coords\n",
    "    if sections is None:\n",
    "        sections = ad.obs.section.unique()\n",
    "        sec_values = ad.obs.section.values\n",
    "    elif isinstance(sections[0], str):\n",
    "        sec_values = ad.obs.section.values\n",
    "    elif isinstance(sections[0], int):\n",
    "        sec_values = ad.obs.napari_z_brain1and3.values\n",
    "\n",
    "    # set up subplot parameters\n",
    "    n_clusters = len(md_clusters)\n",
    "    n_rows = int(np.ceil(n_clusters / n_cols))\n",
    "        \n",
    "    fig = plt.figure(figsize=(n_cols*3.1, n_rows*3))\n",
    "    sp_counter = 0 # subplot counter\n",
    "    \n",
    "    for cluster in md_clusters:\n",
    "        # filter for cells in the brain, section, MD, and cluster we want\n",
    "        sec_mask = [True if sec in sections else False for sec in sec_values]\n",
    "        br_sec_mask = np.logical_and((ad.obs.brain==brain).values, sec_mask)\n",
    "        md_cl_mask = np.logical_and(ad.obs.is_in_MD.values, \n",
    "                                    (ad.obs.cluster_label==cluster).values)\n",
    "        combomask = np.logical_and(br_sec_mask, md_cl_mask)\n",
    "        \n",
    "        cl_xy = ad.obs.loc[combomask, \n",
    "                           [\"napari_y_from_center\", \"napari_x_from_center\"]\n",
    "                          ].values\n",
    "\n",
    "        # set up & format current subplot\n",
    "        sp_counter+=1\n",
    "        ax = fig.add_subplot(n_rows, n_cols, sp_counter)\n",
    "        ax.set_title(cluster)\n",
    "        ax.set_aspect('equal')\n",
    "        ax.set_xticks([])\n",
    "        ax.set_yticks([])\n",
    "\n",
    "        # 2D histogram\n",
    "        bin_egdes = np.arange(binlimits[0],binlimits[1],binsize)\n",
    "        hh = ax.hist2d(cl_xy[:,1], -cl_xy[:,0], bins = [bin_egdes, bin_egdes],\n",
    "                       vmin=hist_range[0], vmax=hist_range[1])\n",
    "        cb = plt.colorbar(hh[3], ax=ax,\n",
    "                          label='cells per '+str(binsize)+'x'+str(binsize)+r'$\\mu$'+'m pixel',\n",
    "                          fraction=0.045, pad=0.04)\n",
    "\n",
    "        # Add scalebar to just the first 2D histogram\n",
    "        if sp_counter==1:\n",
    "            microns = 100\n",
    "            scalebar = AnchoredSizeBar(ax.transData, microns, \n",
    "                                       str(microns)+r' $\\mu$m', \n",
    "                                       'lower left', pad=0.1, sep=4, \n",
    "                                       color='white', size_vertical=20,\n",
    "                                       frameon=False)\n",
    "            ax.add_artist(scalebar)\n",
    "        \n",
    "    # format whole figure \n",
    "    plt.subplots_adjust(hspace=0.5)\n",
    "    plt.subplots_adjust(wspace=2.0)\n",
    "    fig.tight_layout()\n",
    "    fig.subplots_adjust(top=0.97)\n",
    "\n",
    "    return fig"
   ]
  },
  {
   "cell_type": "markdown",
   "id": "a0337955-a3a0-487d-92bc-de10727b0cc5",
   "metadata": {},
   "source": [
    "### brain1 vs brain3 MD cluster spatial distribution"
   ]
  },
  {
   "cell_type": "code",
   "execution_count": 35,
   "id": "a3ed498d-c1b8-4534-9299-f6e9b61d04a3",
   "metadata": {},
   "outputs": [],
   "source": [
    "# middle AP sections of MD for filtering purposes\n",
    "MD_mid_z_range = [7,8,9,10,11,12]\n",
    "\n",
    "# brain1 2D histograms\n",
    "fig = plot_cluster_spatial_distribution_in_md(adata_neuronal,\n",
    "                                              MD_cluster_minCells_Prkcd, \n",
    "                                              sections=MD_mid_z_range, brain=1,\n",
    "                                              n_cols=5, hist_range=(0,10))\n",
    "plt.suptitle('brain1, mid-AP MD sections', fontsize=16, y=1.0)\n",
    "fig_name = 'MD_cluster_distributions_brain1only_midSecOnly.png'\n",
    "fig.savefig(results_dir+fig_name,bbox_inches='tight')\n",
    "\n",
    "\n",
    "# brain3 2D histograms\n",
    "fig = plot_cluster_spatial_distribution_in_md(adata_neuronal,\n",
    "                                              MD_cluster_minCells_Prkcd, \n",
    "                                              sections=MD_mid_z_range, brain=3,\n",
    "                                              n_cols=5, hist_range=(0,7))\n",
    "plt.suptitle('brain3, mid-AP MD sections', fontsize=16, y=1.0)\n",
    "fig_name = 'MD_cluster_distributions_brain3only_midSecOnly.png'\n",
    "fig.savefig(results_dir+fig_name,bbox_inches='tight')"
   ]
  },
  {
   "cell_type": "markdown",
   "id": "b6f7dc72-7e8c-4cf3-b02f-d9e435c3de3d",
   "metadata": {},
   "source": [
    "### brain3 clusters, spatial distribution in MD"
   ]
  },
  {
   "cell_type": "code",
   "execution_count": 36,
   "id": "ee88407c-d880-477a-9578-8d72c24e71a8",
   "metadata": {},
   "outputs": [],
   "source": [
    "# middle AP sections of MD for filtering purposes\n",
    "MD_mid_z_range = [7,8,9,10,11,12]\n",
    "\n",
    "# only plot the clusters that have a reasonable # of cells in brain3 MD\n",
    "min_cells = 100\n",
    "MD_brain3_clusters = np.array([])\n",
    "for cluster in MD_cluster_minCells_Prkcd:\n",
    "    mdclb3mask = np.logical_and(np.logical_and(adata_neuronal.obs.brain==3,\n",
    "                                               adata_neuronal.obs.is_in_MD.values),\n",
    "                                (adata_neuronal.obs.cluster_label==cluster).values)\n",
    "    if np.sum(mdclb3mask)>min_cells:\n",
    "        MD_brain3_clusters = np.append(MD_brain3_clusters, cluster)\n",
    "\n",
    "# plot 2D histogram of cluster spatial distributions\n",
    "fig = plot_cluster_spatial_distribution_in_md(adata_neuronal,MD_brain3_clusters, \n",
    "                                              sections=MD_mid_z_range, brain=3,\n",
    "                                              n_cols=3)\n",
    "plt.suptitle('brain3, mid-AP MD sections', fontsize=16, y=1.0)\n",
    "fig_name = 'MD_cluster_distributions_brain3only_midSecOnly_6clusters.png'\n",
    "fig.savefig(results_dir+fig_name,bbox_inches='tight')"
   ]
  },
  {
   "cell_type": "markdown",
   "id": "68682a3f-bf48-4d50-b25d-0f260584a36a",
   "metadata": {},
   "source": [
    "## Genes"
   ]
  },
  {
   "cell_type": "code",
   "execution_count": 37,
   "id": "68f6c581-5b48-4dab-87a1-9a526aa30417",
   "metadata": {},
   "outputs": [],
   "source": [
    "# Manual list take from looking at plots in \"MD Figure > Gene expression in MD\" subsection \n",
    "MD_core_shell_genes = ['Slc17a7', 'Scn4b', 'Ramp3', 'Rasgrp1', 'Rgs4', 'Pcp4l1', #core\n",
    "                    'Necab1', 'Stxbp6', 'Calb1', 'Tox'] #shell"
   ]
  },
  {
   "cell_type": "markdown",
   "id": "2dfe636a-f799-49a0-a55b-70dc69746c17",
   "metadata": {},
   "source": [
    "### plot_gene_spatial_distribution_in_md()"
   ]
  },
  {
   "cell_type": "code",
   "execution_count": 38,
   "id": "dc73605c-bd32-40b3-81bb-9451b890beea",
   "metadata": {},
   "outputs": [],
   "source": [
    "def plot_gene_spatial_distribution_in_md(ad, md_genes, sections=None, brain=3,\n",
    "                                         method='sum',\n",
    "                                         binlimits=(-500,500), binsize=30, \n",
    "                                         n_cols=5, hist_range=(0,7)):\n",
    "\n",
    "    # enable specifying sections by either section ID strings or napari z-coords\n",
    "    if sections is None:\n",
    "        sections = ad.obs.section.unique()\n",
    "        sec_values = ad.obs.section.values\n",
    "    elif isinstance(sections[0], str):\n",
    "        sec_values = ad.obs.section.values\n",
    "    elif isinstance(sections[0], int):\n",
    "        sec_values = ad.obs.napari_z_brain1and3.values\n",
    "\n",
    "    # set up subplot parameters\n",
    "    n_genes = len(md_genes)\n",
    "    n_rows = int(np.ceil(n_genes / n_cols))\n",
    "        \n",
    "    fig = plt.figure(figsize=(n_cols*3.1, n_rows*3))\n",
    "    sp_counter = 0 # subplot counter\n",
    "    \n",
    "    for gene in md_genes:\n",
    "        # filter for cells in the brain, section, MD, and cluster we want\n",
    "        sec_mask = [True if sec in sections else False for sec in sec_values]\n",
    "        sec_br_md_mask = np.logical_and( np.logical_and(ad.obs.brain==brain, \n",
    "                                                     sec_mask),\n",
    "                                      ad.obs.is_in_MD.values)\n",
    "        \n",
    "        # set combomask, gene_count_weights & label based on method we're using\n",
    "        if method=='sum':\n",
    "            # sum the gene counts (transcripts) per pixel using the 'weights'\n",
    "            # input argument of hist2d()\n",
    "            combomask = sec_br_md_mask\n",
    "            gene_xy = ad.obs.loc[combomask, [\"napari_y_from_center\", \n",
    "                                             \"napari_x_from_center\"] ].values\n",
    "            gene_count_weights = ad.X[combomask, ad.var_names==gene].A.flatten()\n",
    "            count_label = 'summed transcripts\\nper '+str(binsize)+'x'+str(binsize)+r'$\\mu$'+'m pixel'\n",
    "        \n",
    "        elif method=='threshold':\n",
    "            # count the number of cells with expression above the 95th percentile\n",
    "            # for this gene per pixel\n",
    "            gene_counts = adata_neuronal.X[:, adata_neuronal.var_names==gene].A.flatten()\n",
    "            gene_count_95pct = np.percentile(gene_counts, 75)\n",
    "            gene_mask = gene_counts > gene_count_95pct\n",
    "            \n",
    "            combomask = np.logical_and(sec_br_md_mask, gene_mask)\n",
    "            gene_xy = ad.obs.loc[combomask, [\"napari_y_from_center\", \n",
    "                                             \"napari_x_from_center\"] ].values\n",
    "            gene_count_weights = None\n",
    "            count_label = 'cells with gene counts > 95th pct\\nper '+str(binsize)+'x'+str(binsize)+r'$\\mu$'+'m pixel'\n",
    "\n",
    "\n",
    "        # set up & format current subplot\n",
    "        sp_counter+=1\n",
    "        ax = fig.add_subplot(n_rows, n_cols, sp_counter)\n",
    "        ax.set_title(cluster)\n",
    "        ax.set_aspect('equal')\n",
    "        ax.set_xticks([])\n",
    "        ax.set_yticks([])\n",
    "\n",
    "        # 2D histogram\n",
    "        bin_egdes = np.arange(binlimits[0],binlimits[1],binsize)\n",
    "        hh = ax.hist2d(gene_xy[:,1], -gene_xy[:,0], weights=gene_count_weights,\n",
    "                       bins = [bin_egdes, bin_egdes],\n",
    "                       vmin=hist_range[0], vmax=hist_range[1])\n",
    "        cb = plt.colorbar(hh[3], ax=ax, label=count_label,\n",
    "                          fraction=0.045, pad=0.04)\n",
    "\n",
    "        # Add scalebar to just the first 2D histogram\n",
    "        if sp_counter==1:\n",
    "            microns = 100\n",
    "            scalebar = AnchoredSizeBar(ax.transData, microns, \n",
    "                                       str(microns)+r' $\\mu$m', \n",
    "                                       'lower left', pad=0.1, sep=4, \n",
    "                                       color='white', size_vertical=20,\n",
    "                                       frameon=False)\n",
    "            ax.add_artist(scalebar)\n",
    "        \n",
    "    # format whole figure \n",
    "    plt.subplots_adjust(hspace=0.5)\n",
    "    plt.subplots_adjust(wspace=2.0)\n",
    "    fig.tight_layout()\n",
    "    fig.subplots_adjust(top=0.97)\n",
    "\n",
    "    return fig    "
   ]
  },
  {
   "cell_type": "markdown",
   "id": "dc4494a4-fdd1-4a46-bf83-3624eb2f1071",
   "metadata": {},
   "source": [
    "### # of cells w/ gene count > thresh"
   ]
  },
  {
   "cell_type": "code",
   "execution_count": 39,
   "id": "9aeb46f3-0015-4af9-b25d-790b0520b5b5",
   "metadata": {},
   "outputs": [],
   "source": [
    "fig = plot_gene_spatial_distribution_in_md(adata_neuronal, MD_core_shell_genes, \n",
    "                                           sections=MD_mid_z_range, brain=3,\n",
    "                                           method='threshold',\n",
    "                                           binlimits=(-500,500), binsize=30, \n",
    "                                           n_cols=5, hist_range=(0,7))"
   ]
  },
  {
   "cell_type": "markdown",
   "id": "84a0af77-096c-4a1c-8506-d0ac827f2dd9",
   "metadata": {},
   "source": [
    "### summed gene counts"
   ]
  },
  {
   "cell_type": "code",
   "execution_count": 40,
   "id": "4d1a98f6-a5d6-4ffd-97cc-92c9f075cb7f",
   "metadata": {},
   "outputs": [],
   "source": [
    "fig = plot_gene_spatial_distribution_in_md(adata_neuronal, MD_core_shell_genes, \n",
    "                                           sections=MD_mid_z_range, brain=3,\n",
    "                                           method='sum',\n",
    "                                           binlimits=(-500,500), binsize=30, \n",
    "                                           n_cols=5, hist_range=(0,30))"
   ]
  },
  {
   "cell_type": "markdown",
   "id": "9647e171-1751-460d-9f54-b9bd43106725",
   "metadata": {},
   "source": [
    "# PCA spatial distribution"
   ]
  },
  {
   "cell_type": "code",
   "execution_count": 42,
   "id": "c67b81a8-975f-4b0c-9ae3-3c6f3846b2a5",
   "metadata": {},
   "outputs": [],
   "source": [
    "# Load Mathew's PCA vectors - description from Mathew: \n",
    "# \"top 50 PCs for those cells in \"BRL_TH_subset_brain_1.h5ad\" that have been \n",
    "# annotated as belonging to MD\"\n",
    "brain1_MD_PCAs = pd.read_csv('../resources/brain1_MD_PCAs_fromMathew.csv', index_col=0)\n",
    "brain1_MD_PCAs"
   ]
  },
  {
   "cell_type": "code",
   "execution_count": 43,
   "id": "fd9b7e1e-c76d-428a-b63a-74e405c91436",
   "metadata": {},
   "outputs": [],
   "source": [
    "# List of genes (no Blanks!) shared  between the two brains\n",
    "b13_joint_genes = [gene for gene in adata_br3_neuronal.var_names if 'Blank' not in gene]\n",
    "len(b13_joint_genes)"
   ]
  },
  {
   "cell_type": "code",
   "execution_count": 44,
   "id": "5093092b-c3e4-4b97-addb-079833516b5c",
   "metadata": {},
   "outputs": [],
   "source": [
    "MD_PCAs_b13_joint_genes = brain1_MD_PCAs[brain1_MD_PCAs.index.isin(b13_joint_genes)]\n",
    "MD_PCAs_b13_joint_genes"
   ]
  },
  {
   "cell_type": "markdown",
   "id": "ac9ffc48-f589-49cd-9c6f-3651bedf772b",
   "metadata": {},
   "source": [
    "## brain3"
   ]
  },
  {
   "cell_type": "code",
   "execution_count": 45,
   "id": "66a99190-28ee-467e-b454-8e463df75658",
   "metadata": {},
   "outputs": [],
   "source": [
    "cell_x_gene_brain3 = np.array(sparse.csr_matrix.todense(adata_br3_neuronal[:,b13_joint_genes].X))\n",
    "len(cell_x_gene_brain3[0])"
   ]
  },
  {
   "cell_type": "code",
   "execution_count": 46,
   "id": "f12abb9e-e613-4272-82df-d916c80608d3",
   "metadata": {},
   "outputs": [],
   "source": [
    "# get just one PCA\n",
    "PC_0 = MD_PCAs_b13_joint_genes['0'].values\n",
    "len(PC_0)\n",
    "cell_PC_0_dot_products = np.dot(cell_x_gene_brain3, PC_0)\n",
    "\n",
    "# Calculate the dot product between the gene expression vector of each cell and\n",
    "# the top 5 PC vectors\n",
    "pc_top5 = ['0','1','2','3','4']\n",
    "pc_top10 = ['0','1','2','3','4','5','6','7','8','9']\n",
    "cell_PC_dot_products_b3 = np.dot(cell_x_gene_brain3, MD_PCAs_b13_joint_genes[pc_top10])\n",
    "cell_PC_dot_products_b3 = np.transpose(cell_PC_dot_products_b3)"
   ]
  },
  {
   "cell_type": "code",
   "execution_count": 47,
   "id": "e424ad95-4b3f-4618-9a2e-9164fef1bf39",
   "metadata": {},
   "outputs": [],
   "source": [
    "section = '1199651054'\n",
    "plate = 69\n",
    "\n",
    "for i, pc in enumerate(cell_PC_dot_products_b3):\n",
    "    # print(pc[:5])\n",
    "    show_MD_outline = True\n",
    "    fig = plot_PC_spatial_dist(adata_br3_neuronal[:,b13_joint_genes], pc, i,\n",
    "                               section, plate, brain=3,\n",
    "                               annotation=show_MD_outline, colormap='coolwarm')\n",
    "    if show_MD_outline:\n",
    "        fig_name = 'pc_spatial_distribution_brain3_pc'+str(i)+'_MDonly.png'\n",
    "    elif not show_MD_outline:\n",
    "        fig_name = 'pc_spatial_distribution_brain3_pc'+str(i)+'_noMD.png'\n",
    "    fig.savefig(results_dir+fig_name,bbox_inches='tight')"
   ]
  },
  {
   "cell_type": "markdown",
   "id": "61c756b5-1cc0-4682-b72c-090049734039",
   "metadata": {},
   "source": [
    "## brain1"
   ]
  },
  {
   "cell_type": "code",
   "execution_count": 48,
   "id": "617fa1c2-fe19-46d8-8f95-1f8b89cd2f4e",
   "metadata": {},
   "outputs": [],
   "source": [
    "cell_x_gene_brain1 = np.array(sparse.csr_matrix.todense(adata_br1_neuronal[:,b13_joint_genes].X))\n",
    "len(cell_x_gene_brain1[0])"
   ]
  },
  {
   "cell_type": "code",
   "execution_count": 49,
   "id": "8c3d0919-1f5b-4c1e-8bb1-ea27ecdc14a3",
   "metadata": {},
   "outputs": [],
   "source": [
    "# Calculate the dot product between the gene expression vector of each cell and\n",
    "# the top 5 or 10 PC vectors\n",
    "pc_top5 = ['0','1','2','3','4']\n",
    "pc_top10 = ['0','1','2','3','4','5','6','7','8','9']\n",
    "cell_PC_dot_products_b1 = np.dot(cell_x_gene_brain1, MD_PCAs_b13_joint_genes[pc_top10])\n",
    "cell_PC_dot_products_b1 = np.transpose(cell_PC_dot_products_b1)"
   ]
  },
  {
   "cell_type": "code",
   "execution_count": 50,
   "id": "90e24684-16d0-4bed-adc0-0b1f9ea5fe9e",
   "metadata": {},
   "outputs": [],
   "source": [
    "section = '1198980101'\n",
    "plate = 73\n",
    "\n",
    "for i, pc in enumerate(cell_PC_dot_products_b1):\n",
    "    # print(pc[:5])\n",
    "    show_MD_outline = True\n",
    "    fig = plot_PC_spatial_dist(adata_br1_neuronal[:,b13_joint_genes], pc, i,\n",
    "                               section, plate, brain=3,\n",
    "                               annotation=show_MD_outline, colormap='Oranges')\n",
    "    if show_MD_outline:\n",
    "        fig_name = 'pc_spatial_distribution_brain1_pc'+str(i)+'.png'\n",
    "    elif not show_MD_outline:\n",
    "        fig_name = 'pc_spatial_distribution_brain1_pc'+str(i)+'_noMD.png'\n",
    "    fig.savefig(results_dir+fig_name,bbox_inches='tight')"
   ]
  },
  {
   "cell_type": "code",
   "execution_count": null,
   "id": "45da9852-a88a-4a52-b9df-79cd12bf7bfe",
   "metadata": {},
   "outputs": [],
   "source": []
  }
 ],
 "metadata": {
  "kernelspec": {
   "display_name": "Python 3",
   "language": "python",
   "name": "python3"
  },
  "language_info": {
   "codemirror_mode": {
    "name": "ipython",
    "version": 3
   },
   "file_extension": ".py",
   "mimetype": "text/x-python",
   "name": "python",
   "nbconvert_exporter": "python",
   "pygments_lexer": "ipython3",
   "version": "3.9.12"
  }
 },
 "nbformat": 4,
 "nbformat_minor": 5
}
