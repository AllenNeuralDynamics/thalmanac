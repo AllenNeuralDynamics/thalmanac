{
 "cells": [
  {
   "cell_type": "markdown",
   "id": "5781a2e3-2b20-4cfc-8bd1-be13d37e9c6f",
   "metadata": {},
   "source": [
    "# Compile thalamic nuclei marker genes from literature sources"
   ]
  },
  {
   "cell_type": "code",
   "execution_count": 1,
   "id": "39adb1cf-bef7-441e-8eda-9bf66275a693",
   "metadata": {},
   "outputs": [],
   "source": [
    "import os\n",
    "import pandas as pd\n",
    "import anndata as ad"
   ]
  },
  {
   "cell_type": "code",
   "execution_count": 2,
   "id": "8fa69ae6-72de-4061-8847-1d1e914c2b33",
   "metadata": {},
   "outputs": [],
   "source": [
    "root_dir = '/root/capsule'"
   ]
  },
  {
   "cell_type": "markdown",
   "id": "918da870-7ed3-4eee-8175-5d0b3df7d1dd",
   "metadata": {},
   "source": [
    "## Wang *et al.* 2020 CCFv3 marker genes"
   ]
  },
  {
   "cell_type": "code",
   "execution_count": 3,
   "id": "95653866-bc47-4d30-96d6-bc6c7179abe6",
   "metadata": {},
   "outputs": [],
   "source": [
    "ccf_csv = pd.read_csv(os.path.join(root_dir,'resources/Wang_2020_CCFv3_Table_S3_data_supporting_delineation_TH_ZI_only.csv'))"
   ]
  },
  {
   "cell_type": "code",
   "execution_count": 4,
   "id": "c78f8425-d966-4ac5-abe3-785cfa92e190",
   "metadata": {},
   "outputs": [],
   "source": [
    "ccf_df = ccf_csv[ccf_csv['Dataset type'].isin(['Tg lines', 'ISH (ABA)'])]"
   ]
  },
  {
   "cell_type": "code",
   "execution_count": 5,
   "id": "b0e7c3df-e0cd-455b-82b5-1a30b906335e",
   "metadata": {},
   "outputs": [],
   "source": [
    "# we don't need to keep all the columns around\n",
    "col_to_keep = ['structure abbreviation', \n",
    "               'full structure name', \n",
    "               'Major Brain Division', \n",
    "               'Mouse line', \n",
    "               'Dataset type', \n",
    "               'Transgenic Signal in CCF structure', # this is not actually that accurate for determining marker \n",
    "                                                     # genes (what is +/++/+++ relative to??) but I'm keeping it \n",
    "                                                     # around just in case it proves useful for something\n",
    "               'ABA gene name']\n",
    "\n",
    "ccf_df = ccf_df[col_to_keep]"
   ]
  },
  {
   "cell_type": "code",
   "execution_count": 6,
   "id": "9471fbf3-e058-488f-b18f-5efe737c540d",
   "metadata": {},
   "outputs": [],
   "source": [
    "ccf_df"
   ]
  },
  {
   "cell_type": "code",
   "execution_count": 7,
   "id": "e585a590-5c9a-4d95-8e01-6ab2b216a24b",
   "metadata": {},
   "outputs": [],
   "source": [
    "ccf_df.insert(3, 'Reference', 'Wang et al. 2020')"
   ]
  },
  {
   "cell_type": "code",
   "execution_count": 8,
   "id": "489a6208-aa30-4789-9daa-de9e75bca1f1",
   "metadata": {},
   "outputs": [],
   "source": [
    "# clean up the 'mouse line' to just the driver gene for the 'Tg lines' datasets\n",
    "mask_tg_lines = ccf_df['Dataset type']=='Tg lines'\n",
    "ccf_df.loc[mask_tg_lines, ['gene symbol']] = ccf_df.loc[mask_tg_lines, ['Mouse line']]['Mouse line'].str.split('-').str[0]"
   ]
  },
  {
   "cell_type": "code",
   "execution_count": 9,
   "id": "7ccc9f71-2002-44b5-b827-90576ec5276a",
   "metadata": {},
   "outputs": [],
   "source": [
    "# move 'ABA gene name' over into the 'gene symbol' column to combine with the Tg lines genes\n",
    "mask_aba = ccf_df['Dataset type']=='ISH (ABA)'\n",
    "ccf_df.loc[mask_aba, ['gene symbol']] = ccf_df.loc[mask_aba, ['ABA gene name']]['ABA gene name']"
   ]
  },
  {
   "cell_type": "code",
   "execution_count": 10,
   "id": "1cc6cf7f-2824-44cb-9979-aa9c16f93d41",
   "metadata": {},
   "outputs": [],
   "source": [
    "# drop the original columns in favor of just having the one \"gene symbol\" column\n",
    "ccf_df.drop(labels=['Mouse line','ABA gene name'], axis=1, inplace=True)"
   ]
  },
  {
   "cell_type": "code",
   "execution_count": 11,
   "id": "d06e867d-b978-4715-b3db-705c1ed3f30c",
   "metadata": {},
   "outputs": [],
   "source": [
    "# test subset from AD\n",
    "ccf_df[ccf_df['structure abbreviation']=='AD']"
   ]
  },
  {
   "cell_type": "markdown",
   "id": "a6dda4ff-7571-4a12-b812-23fb97fdf6b2",
   "metadata": {},
   "source": [
    "### Cross-reference with brain3 & brain1 gene panels"
   ]
  },
  {
   "cell_type": "code",
   "execution_count": 12,
   "id": "08e1964a-3229-4180-9dd4-d1ec47e1cae5",
   "metadata": {},
   "outputs": [],
   "source": [
    "# get gene panels\n",
    "brain1_genes_csv = pd.read_csv(os.path.join(root_dir,'resources/gene_panel_VZ147_mouse_609882_brain1.csv'))\n",
    "brain3_genes_csv = pd.read_csv(os.path.join(root_dir,'resources/gene_panel_VZ142_mouse_638850_brain3.csv'))\n",
    "\n",
    "genes_brain1 = brain1_genes_csv['gene_panel_VZ147_mouse_609882_brain1'].tolist()\n",
    "genes_brain3 = brain3_genes_csv['gene_panel_VZ142_mouse_638850_brain3'].tolist()"
   ]
  },
  {
   "cell_type": "code",
   "execution_count": 13,
   "id": "c7842ef4-6995-454e-8982-95b763d492cc",
   "metadata": {},
   "outputs": [],
   "source": [
    "# flag rows where the gene is in the gene panel\n",
    "ccf_df['is_in_brain1_gene_panel'] = ccf_df['gene symbol'].isin(genes_brain1)\n",
    "ccf_df['is_in_brain3_gene_panel'] = ccf_df['gene symbol'].isin(genes_brain3)\n",
    "ccf_df.head(5)"
   ]
  },
  {
   "cell_type": "code",
   "execution_count": 14,
   "id": "43f059a6-fff4-4411-981e-04cafbefcf15",
   "metadata": {},
   "outputs": [],
   "source": [
    "# example of how to use the gene panel flags to grab a list of genes for further review\n",
    "ccf_df[(ccf_df['structure abbreviation']=='AD') & (ccf_df['is_in_brain1_gene_panel'] | ccf_df['is_in_brain3_gene_panel'])]"
   ]
  },
  {
   "cell_type": "markdown",
   "id": "272ded37-a0f0-46d5-a1f3-e3dffbe0980d",
   "metadata": {},
   "source": [
    "## Add flag column for Nagalski *et al.* 2016 marker genes"
   ]
  },
  {
   "cell_type": "code",
   "execution_count": 15,
   "id": "7cd163ed-1c33-4903-99a3-65bf1afa691a",
   "metadata": {},
   "outputs": [],
   "source": [
    "nagalski_csv = pd.read_csv(os.path.join(root_dir,'resources/Nagalski_2016_Supplementary_Data_2_mouse_nuclei_specific_gene_table.csv'))"
   ]
  },
  {
   "cell_type": "code",
   "execution_count": 16,
   "id": "57f92133-f131-43fa-bab5-1452ab53a52b",
   "metadata": {},
   "outputs": [],
   "source": [
    "# want to be able to index into rows via gene name\n",
    "nagalski_csv.set_index('Gene symbol', inplace=True)"
   ]
  },
  {
   "cell_type": "code",
   "execution_count": 17,
   "id": "af73d882-2d1c-484d-aa39-2b9606344a0b",
   "metadata": {},
   "outputs": [],
   "source": [
    "nagalski_csv"
   ]
  },
  {
   "cell_type": "markdown",
   "id": "d058d8ca-43d7-4285-951f-c86a09613cd8",
   "metadata": {},
   "source": [
    "### Display abbrv:fullname pairs for CCFv3 structures"
   ]
  },
  {
   "cell_type": "code",
   "execution_count": 18,
   "id": "6d791a70-b21e-43bc-a1bf-970029dbbc07",
   "metadata": {},
   "outputs": [],
   "source": [
    "# display abbv + full names for each CCFv3 structure\n",
    "ccf_names = ccf_df[['structure abbreviation','full structure name']]\n",
    "df_no_duplicates = ccf_names.drop_duplicates(subset=['structure abbreviation'])\n",
    "df_sorted = df_no_duplicates.sort_values(by='structure abbreviation')\n",
    "df_sorted"
   ]
  },
  {
   "cell_type": "markdown",
   "id": "8124fc13-2184-4332-8f91-2752eb17137e",
   "metadata": {},
   "source": [
    "### Manual mapping dictionaries of CCFv3 <--> Nagalski structure abbrv"
   ]
  },
  {
   "cell_type": "code",
   "execution_count": 19,
   "id": "364c833a-1ebc-45ea-a8a4-791974d6dce4",
   "metadata": {},
   "outputs": [],
   "source": [
    "# display abbrv lists to manually compare\n",
    "print(sorted(nagalski_csv.columns))\n",
    "print(sorted(ccf_df['structure abbreviation'].unique()))"
   ]
  },
  {
   "cell_type": "code",
   "execution_count": 20,
   "id": "985bf51e-3cae-40e7-a356-7c2886d47bcd",
   "metadata": {},
   "outputs": [],
   "source": [
    "# manual mapping from Nagalski to CCFv3 thalamic nuclei abbreviations (by MT, 2023-10-26)\n",
    "nagalski_to_ccfv3_structure_abbrv_mapping = {\n",
    "    'AD': 'AD',\n",
    "    'AM':['AMd','AMv'],\n",
    "    'AV':'AV',\n",
    "    'CL':'CL',\n",
    "    'CM':'CM',\n",
    "    'DLG':['LGd-co', 'LGd-ip', 'LGd-sh'],\n",
    "    'IAD':'IAD',\n",
    "    'IGL':'IGL',\n",
    "    'IMD':'IMD',\n",
    "    'LD':'LD',\n",
    "    'LHb':'LH',\n",
    "    'LP':'LP',\n",
    "    'MD':'MD',\n",
    "    'MGN':['MGd', 'MGm', 'MGv'],\n",
    "    'MHb':'MH',\n",
    "    'PC':'PCN',\n",
    "    'PF':'PF',\n",
    "    'PG':'LGv', # from Nagalski2016 pg 2497: \"PG (former ventral lateral geniculate nucleus)\"\n",
    "    'PIL':'PIL',\n",
    "    'PP':'PP',\n",
    "    'PT':'PT',\n",
    "    'PVA':'PVT',\n",
    "    'PVP':'PVT',\n",
    "    'Po':'PO',\n",
    "    'RT':'RT',\n",
    "    'Re':'RE',\n",
    "    'ReA':'RE',\n",
    "    'Rh':'RH',\n",
    "    'SG':'SGN',\n",
    "    'SPF':['SPA', 'SPFm', 'SPFp'],\n",
    "    'Sub':'SMT', # from Nagalski2016 pg 2494: \"Sub: Submedius thalamic nucleus\"\n",
    "    'VA/VL':'VAL',\n",
    "    'VM':'VM',\n",
    "    'VPL/VPM':['VPL', 'VPM'],\n",
    "    'VPPC':['VPLpc', 'VPMpc'],\n",
    "    'ZI':'ZI'\n",
    "}"
   ]
  },
  {
   "cell_type": "code",
   "execution_count": 21,
   "id": "99640b9a-31e8-4793-9477-412a8e90cd46",
   "metadata": {},
   "outputs": [],
   "source": [
    "# manual mapping from CCFv3 to Nagalski thalamic nuclei abbreviations (by MT, 2023-10-26)\n",
    "ccfv3_to_nagalski_structure_abbrv_mapping = {\n",
    "    'AD': 'AD',\n",
    "    'AMd':'AM',\n",
    "    'AMv':'AM',\n",
    "    'AV':'AV',\n",
    "    'CL':'CL',\n",
    "    'CM':'CM',\n",
    "    'Eth':None,\n",
    "    'IAD':'IAD',\n",
    "    'IAM':None,\n",
    "    'IGL':'IGL',\n",
    "    'IMD':'IMD',\n",
    "    'IntG':None,\n",
    "    'LD':'LD',\n",
    "    'LGd-co':'DLG',\n",
    "    'LGd-ip':'DLG',\n",
    "    'LGd-sh':'DLG',\n",
    "    'LGv':'PG', # from Nagalski2016 pg 2497: \"PG (former ventral lateral geniculate nucleus)\"\n",
    "    'LH':'LHb',\n",
    "    'LP':'LP',\n",
    "    'MD':'MD',\n",
    "    'MGd':'MGN',\n",
    "    'MGm':'MGN',\n",
    "    'MGv':'MGN',\n",
    "    'MH':'MHb',\n",
    "    'PCN':'PC',\n",
    "    'PF':'PF',\n",
    "    'PIL':'PIL',\n",
    "    'PO':'Po',\n",
    "    'POL':None,\n",
    "    'PP':'PP',\n",
    "    'PR':None,\n",
    "    'PT':'PT',\n",
    "    'PVT':['PVA','PVP'],\n",
    "    'PoT':None,\n",
    "    'RE':['Re','ReA'],\n",
    "    'RH':'Rh',\n",
    "    'RT':'RT',\n",
    "    'SGN':'SG',\n",
    "    'SMT':'Sub', # from Nagalski2016 pg 2494: \"Sub: Submedius thalamic nucleus\"\n",
    "    'SPA':'SPF',\n",
    "    'SPFm':'SPF',\n",
    "    'SPFp':'SPF',\n",
    "    'SubG':None,\n",
    "    'VAL':'VA/VL',\n",
    "    'VM':'VM',\n",
    "    'VPL':'VPL/VPM',\n",
    "    'VPLpc':'VPPC',\n",
    "    'VPM':'VPL/VPM',\n",
    "    'VPMpc':'VPPC',\n",
    "    'Xi':None,\n",
    "    'ZI':'ZI'  \n",
    "}"
   ]
  },
  {
   "cell_type": "markdown",
   "id": "3df6b40f-bab9-450a-a292-e7fb460d97b2",
   "metadata": {},
   "source": [
    "### Fill in column to flag Nagalski marker genes"
   ]
  },
  {
   "cell_type": "code",
   "execution_count": 22,
   "id": "d27b12fb-2a78-4a4e-9195-30ed9d6f8c1d",
   "metadata": {},
   "outputs": [],
   "source": [
    "ccf_df_with_nagalski = ccf_df.copy()"
   ]
  },
  {
   "cell_type": "code",
   "execution_count": 23,
   "id": "a6b7f3db-3feb-4186-b510-6f0db205a888",
   "metadata": {},
   "outputs": [],
   "source": [
    "# Check if any of the Wang et al 2020 marker genes were also flagged by \n",
    "# Nagalski et al 2016 as expressing in that thalamic nucleus\n",
    "# \n",
    "# I don't *think* there's a good way to vectorize this, given that I need to do\n",
    "# checks on the structure abbreviations before I can use them to index in ...\n",
    "for ind, row in ccf_df_with_nagalski.iterrows():\n",
    "    ccf_abbrv = row['structure abbreviation']\n",
    "    gene = row['gene symbol']\n",
    "    \n",
    "    if gene not in nagalski_csv.index:\n",
    "        expr_flag = False\n",
    "    else:\n",
    "        nagalski_abbrv = ccfv3_to_nagalski_structure_abbrv_mapping[ccf_abbrv]\n",
    "        \n",
    "        if nagalski_abbrv is None:\n",
    "            expr_flag = False\n",
    "        else:\n",
    "            expr_flag = nagalski_csv.loc[gene, nagalski_abbrv].any() # account for multiple mapped abbrv\n",
    "    \n",
    "    ccf_df_with_nagalski.loc[ind,'is_expressed_Nagalski2016'] = expr_flag"
   ]
  },
  {
   "cell_type": "code",
   "execution_count": 24,
   "id": "57e03ba9-55b6-4ec3-b48b-9591c9fd3bf5",
   "metadata": {},
   "outputs": [],
   "source": [
    "ccf_df_with_nagalski"
   ]
  },
  {
   "cell_type": "markdown",
   "id": "f3d1566e-2033-4d08-8577-7545ac03a78f",
   "metadata": {},
   "source": [
    "## Save out as csv resource file"
   ]
  },
  {
   "cell_type": "code",
   "execution_count": 25,
   "id": "46d868f1-992b-40a6-b733-78f88c8427ac",
   "metadata": {},
   "outputs": [],
   "source": [
    "ccf_df_with_nagalski.to_csv(os.path.join(root_dir,'resources/thalamic_nuclei_marker_genes_from_Wang2020.csv'), index=False)"
   ]
  }
 ],
 "metadata": {
  "kernelspec": {
   "display_name": "Python 3",
   "language": "python",
   "name": "python3"
  },
  "language_info": {
   "codemirror_mode": {
    "name": "ipython",
    "version": 3
   },
   "file_extension": ".py",
   "mimetype": "text/x-python",
   "name": "python",
   "nbconvert_exporter": "python",
   "pygments_lexer": "ipython3",
   "version": "3.9.12"
  }
 },
 "nbformat": 4,
 "nbformat_minor": 5
}
