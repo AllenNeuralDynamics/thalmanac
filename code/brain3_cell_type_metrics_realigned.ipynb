{
 "cells": [
  {
   "cell_type": "code",
   "execution_count": 1,
   "id": "0cd597e2",
   "metadata": {},
   "outputs": [],
   "source": [
    "import pandas as pd\n",
    "import matplotlib.pyplot as plt\n",
    "import seaborn as sns\n",
    "import numpy as np\n",
    "\n",
    "from thalamus_merfish_analysis import ccf_plots as cplot\n",
    "from thalamus_merfish_analysis import abc_load as abc\n",
    "\n",
    "get_ipython().run_line_magic('matplotlib', 'inline') "
   ]
  },
  {
   "cell_type": "markdown",
   "id": "2c770388",
   "metadata": {},
   "source": [
    "# Load brain3 data"
   ]
  },
  {
   "cell_type": "code",
   "execution_count": 2,
   "id": "09bb79ea",
   "metadata": {},
   "outputs": [],
   "source": [
    "obs = abc.get_combined_metadata(realigned=True)\n",
    "obs = abc.label_thalamus_spatial_subset(obs, realigned=True, filter_cells=True)\n",
    "\n",
    "ccf_label = 'parcellation_substructure_realigned'\n",
    "nn_classes = [\n",
    "    \"31 OPC-Oligo\",\n",
    "    \"30 Astro-Epen\",\n",
    "    \"33 Vascular\",\n",
    "    \"34 Immune\",\n",
    "]\n",
    "# subset just the neurons\n",
    "obs_neurons = obs[~obs['class'].isin(nn_classes)]"
   ]
  },
  {
   "cell_type": "code",
   "execution_count": 6,
   "id": "b55b8e85",
   "metadata": {},
   "outputs": [],
   "source": [
    "ccf_labels = abc.get_thalamus_substructure_names()\n",
    "th_subregion_names = list(set(ccf_labels).difference(['TH-unassigned']))"
   ]
  },
  {
   "cell_type": "markdown",
   "id": "37bdacaf",
   "metadata": {},
   "source": [
    "# Per Subregion Metrics (neurons only)"
   ]
  },
  {
   "cell_type": "code",
   "execution_count": 7,
   "id": "6f7d20e4",
   "metadata": {},
   "outputs": [],
   "source": [
    "# only look at the thalamic subregions as defined in th_subregion_names\n",
    "obs_neurons_ccf = obs_neurons[obs_neurons[ccf_label].isin(th_subregion_names)]\n",
    "                                # obs_neurons['parcellation_structure_realigned'].isin(th_subregion_names)]\n",
    "# helps plotting etc by trimming categories\n",
    "obs_neurons_ccf = obs_neurons_ccf.assign(\n",
    "    **obs_neurons_ccf.select_dtypes(include=[\"category\"]).apply(lambda x: x.cat.remove_unused_categories()).to_dict(orient='series'))"
   ]
  },
  {
   "cell_type": "markdown",
   "id": "eeae487a",
   "metadata": {
    "tags": []
   },
   "source": [
    "## Cell Type Richness\n",
    "\n",
    "transcriptomic richness = \\# of (clusters/supertypes/subclasses/classes) present in a given subregion of the thalamus\n",
    "\n",
    "(Defined similarly to ecology's \"species richness\" = # of species in a given region)"
   ]
  },
  {
   "cell_type": "code",
   "execution_count": 8,
   "id": "68d79447",
   "metadata": {},
   "outputs": [],
   "source": [
    "# define a new df in which to store metrics\n",
    "th_metrics = pd.DataFrame(index=th_subregion_names)"
   ]
  },
  {
   "cell_type": "code",
   "execution_count": 9,
   "id": "4824f1ea",
   "metadata": {},
   "outputs": [],
   "source": [
    "# generate lists of the clusters, supertypes, subclasses, and classes present\n",
    "# in the thalamus data\n",
    "th_clusters = obs_neurons_ccf['cluster'].drop_duplicates().tolist()\n",
    "th_supertypes = obs_neurons_ccf['supertype'].drop_duplicates().tolist()\n",
    "th_subclasses = obs_neurons_ccf['subclass'].drop_duplicates().tolist()\n",
    "n_th_clusters = len(th_clusters)\n",
    "n_th_supertypes = len(th_supertypes)\n",
    "n_th_subclasses = len(th_subclasses)\n",
    "print(f'{len(th_clusters)=}')\n",
    "# print(f'{len(obs_neurons_ccf['cluster'].unique().tolist())}')\n",
    "print(f'{len(th_supertypes)=}')\n",
    "# print(f'{len(obs_neurons_ccf['supertype'].unique().tolist())}')\n",
    "print(f'{len(th_subclasses)=}')\n",
    "# print(f'{len(obs_neurons_ccf['subclass'].unique().tolist())}')"
   ]
  },
  {
   "cell_type": "code",
   "execution_count": 10,
   "id": "92b28da8",
   "metadata": {},
   "outputs": [],
   "source": [
    "for subregion, df in obs_neurons_ccf.groupby(ccf_label, observed=True):\n",
    "    # number of thalamic clusters, supertypes, subclasses in each subregion\n",
    "    th_metrics.loc[subregion, \n",
    "                   'n_clusters'] = len(df['cluster'].drop_duplicates())\n",
    "    th_metrics.loc[subregion, \n",
    "                   'n_supertypes'] = len(df['supertype'].drop_duplicates())\n",
    "    th_metrics.loc[subregion, \n",
    "                   'n_subclasses'] = len(df['subclass'].drop_duplicates())\n",
    "\n",
    "    # fraction of thalamic clusters, supertypes, subclasses in each \n",
    "    # subregion (denominator is total # of [tax. level] present in all of thalamus)\n",
    "    th_metrics.loc[subregion, \n",
    "                   'frac_clusters'] = (len(df['cluster'].drop_duplicates()) \n",
    "                                       / n_th_clusters)\n",
    "    th_metrics.loc[subregion,\n",
    "                   'frac_supertypes'] = (len(df['supertype'].drop_duplicates())\n",
    "                                         / n_th_supertypes)\n",
    "    th_metrics.loc[subregion,\n",
    "                   'frac_subclasses'] = (len(df['subclass'].drop_duplicates())\n",
    "                                         / n_th_subclasses)\n",
    "th_metrics['count'] = obs_neurons_ccf.groupby(ccf_label, observed=True).count().iloc[:,0]\n",
    "th_metrics = th_metrics.join(obs_neurons_ccf.groupby(ccf_label, observed=True)\n",
    "                            [['cluster', 'supertype', 'subclass']]\n",
    "                            .aggregate(lambda x: len(x.unique())/len(x))\n",
    "                            .rename(columns=lambda x: f\"n_{x}_norm\"))                          "
   ]
  },
  {
   "cell_type": "code",
   "execution_count": 11,
   "id": "eaabcd43",
   "metadata": {},
   "outputs": [],
   "source": [
    "# exlcude ZI because it's so much higher\n",
    "# ccf_names_noZI = th_subregion_names[:-1]\n",
    "# th_metrics_noZI = th_metrics.loc[ccf_names_noZI]\n",
    "# th_metrics_sorted = th_metrics_noZI.sort_values(by='frac_supertypes', ascending=True)\n",
    "\n",
    "th_metrics_sorted = th_metrics.sort_values(by='frac_supertypes', ascending=True)\n",
    "# th_metrics_sorted\n",
    "\n",
    "fig, ax1 = plt.subplots(figsize=(12,6))\n",
    "\n",
    "# Plot the absolute values on the left y-axis\n",
    "ax1.scatter(th_metrics_sorted.index, th_metrics_sorted['n_supertypes'], color='#5DA7E5', alpha=0)\n",
    "ax1.set_ylabel('# of supertypes', color='k')\n",
    "ax1.tick_params(axis='y', labelcolor='k')\n",
    "ax1.set_xticks(th_metrics_sorted.index)\n",
    "ax1.set_xticklabels(th_metrics_sorted.index, rotation=90)\n",
    "ax1.set_ylim(0, th_metrics_sorted['n_supertypes'].max()*1.05)\n",
    "plt.grid(visible=True, axis='y')\n",
    "\n",
    "# Create a secondary y-axis on the right\n",
    "ax2 = ax1.twinx()\n",
    "\n",
    "# Plot the fraction values on the right y-axis\n",
    "ax2.bar(th_metrics_sorted.index, th_metrics_sorted['frac_supertypes'], color='#5DA7E5', label='supertype')\n",
    "ax2.set_ylabel('fraction of total supertypes (n='+str(n_th_supertypes)+')', color='k', rotation=270, labelpad=15)\n",
    "ax2.set_ylim(0, th_metrics_sorted['frac_supertypes'].max()*1.05)\n",
    "ax2.tick_params(axis='y', labelcolor='k')\n",
    "ax2.legend()\n",
    "\n",
    "# plt.xticks(rotation=90)\n",
    "plt.xlabel('CCF thalamic subregions')\n",
    "plt.title('supertypes per CCF thalamic subregion')\n",
    "\n",
    "plt.show()"
   ]
  },
  {
   "cell_type": "markdown",
   "id": "cd3f75e5",
   "metadata": {},
   "source": [
    "### relationship to region size?"
   ]
  },
  {
   "cell_type": "code",
   "execution_count": 12,
   "id": "5de99243",
   "metadata": {},
   "outputs": [],
   "source": [
    "th_metrics_sorted = th_metrics.sort_values(by='frac_supertypes', ascending=True)\n",
    "\n",
    "fig, ax1 = plt.subplots(figsize=(12,6))\n",
    "\n",
    "# Plot the absolute values on the left y-axis\n",
    "ax1.scatter(th_metrics_sorted.index, th_metrics_sorted['frac_clusters'], \n",
    "            color='#F99D20', label='cluster', zorder=2) # orange\n",
    "ax1.scatter(th_metrics_sorted.index, th_metrics_sorted['frac_supertypes'], \n",
    "            color='#5DA7E5', label='supertype', zorder=3) # blue\n",
    "ax1.scatter(th_metrics_sorted.index, th_metrics_sorted['frac_subclasses'], \n",
    "            color='#1D8649', label='subclass', zorder=2) # green\n",
    "ax1.set_ylabel('Cell type count (normalized to total)')\n",
    "ax1.set_xticks(th_metrics_sorted.index)\n",
    "ax1.set_xticklabels(th_metrics_sorted.index, rotation=90)\n",
    "ax1.legend()\n",
    "plt.grid(visible=True, axis='both', zorder=0, color='whitesmoke')"
   ]
  },
  {
   "cell_type": "code",
   "execution_count": 13,
   "id": "b7172c81",
   "metadata": {},
   "outputs": [],
   "source": [
    "import seaborn as sns\n",
    "sns.regplot(th_metrics, x='count', y='frac_clusters', color='#F99D20', label='cluster') "
   ]
  },
  {
   "cell_type": "code",
   "execution_count": 14,
   "id": "bbbab71f",
   "metadata": {},
   "outputs": [],
   "source": [
    "\n",
    "sns.regplot(th_metrics, x='count', y='frac_supertypes', color='#5DA7E5', label='cluster') "
   ]
  },
  {
   "cell_type": "code",
   "execution_count": 15,
   "id": "19f082e9",
   "metadata": {},
   "outputs": [],
   "source": [
    "\n",
    "sns.regplot(th_metrics, x='count', y='frac_subclasses', color='#1D8649', label='cluster') "
   ]
  },
  {
   "cell_type": "code",
   "execution_count": 16,
   "id": "5de99243",
   "metadata": {},
   "outputs": [],
   "source": [
    "th_metrics_sorted = th_metrics.sort_values(by='n_supertype_norm', ascending=True)\n",
    "\n",
    "fig, ax1 = plt.subplots(figsize=(12,6))\n",
    "\n",
    "# Plot the absolute values on the left y-axis\n",
    "ax1.scatter(th_metrics_sorted.index, th_metrics_sorted['n_cluster_norm'], \n",
    "            color='#F99D20', label='cluster', zorder=2) # orange\n",
    "ax1.scatter(th_metrics_sorted.index, th_metrics_sorted['n_supertype_norm'], \n",
    "            color='#5DA7E5', label='supertype', zorder=3) # blue\n",
    "ax1.scatter(th_metrics_sorted.index, th_metrics_sorted['n_subclass_norm'], \n",
    "            color='#1D8649', label='subclass', zorder=2) # green\n",
    "ax1.set_ylabel('Cell type count (normalized to cell count)')\n",
    "ax1.set_xticks(th_metrics_sorted.index)\n",
    "ax1.set_xticklabels(th_metrics_sorted.index, rotation=90)\n",
    "ax1.legend()\n",
    "plt.grid(visible=True, axis='both', zorder=0, color='whitesmoke')"
   ]
  },
  {
   "cell_type": "markdown",
   "id": "559fa75d",
   "metadata": {},
   "source": [
    "### CCF colored by value"
   ]
  },
  {
   "cell_type": "code",
   "execution_count": 20,
   "id": "f24434fc",
   "metadata": {},
   "outputs": [],
   "source": [
    "imdata = abc.get_ccf_labels_image(resampled=True, realigned=False)\n",
    "# x, y, z orientation\n",
    "imdata.shape"
   ]
  },
  {
   "cell_type": "code",
   "execution_count": 32,
   "id": "40f63ff0",
   "metadata": {},
   "outputs": [],
   "source": [
    "sections = [7.2] \n",
    "print('Supertypes')\n",
    "cplot.plot_metrics_ccf_raster(imdata, th_metrics['n_supertypes'], sections,\n",
    "                            cmap='Blues', cb_label='number of supertypes in subregion', axes=True)"
   ]
  },
  {
   "cell_type": "code",
   "execution_count": null,
   "id": "09bb79ea",
   "metadata": {},
   "outputs": [],
   "source": [
    "obs = abc.get_combined_metadata(realigned=True)\n",
    "obs = abc.label_thalamus_spatial_subset(obs, realigned=True, filter_cells=True)\n",
    "\n",
    "ccf_label = 'parcellation_substructure_realigned'\n",
    "nn_classes = [\n",
    "    \"31 OPC-Oligo\",\n",
    "    \"30 Astro-Epen\",\n",
    "    \"33 Vascular\",\n",
    "    \"34 Immune\",\n",
    "]"
   ]
  },
  {
   "cell_type": "code",
   "execution_count": null,
   "id": "bfd000ec",
   "metadata": {},
   "outputs": [],
   "source": [
    "\n",
    "# subset just the neurons\n",
    "obs_neurons = obs[~obs['class'].isin(nn_classes)]"
   ]
  },
  {
   "cell_type": "code",
   "execution_count": 33,
   "id": "dcd2d41f",
   "metadata": {},
   "outputs": [],
   "source": [
    "print('Clusters')\n",
    "cplot.plot_metrics_ccf_raster(imdata, th_metrics['n_supertypes'], sections,\n",
    "                       cmap='Oranges', cb_label='number of clusters in subregion')"
   ]
  },
  {
   "cell_type": "markdown",
   "id": "6ac110c6",
   "metadata": {},
   "source": [
    "## Cell Type Diversity"
   ]
  },
  {
   "cell_type": "markdown",
   "id": "ab19ade9",
   "metadata": {},
   "source": [
    "### Shannon Diversity Index"
   ]
  },
  {
   "cell_type": "code",
   "execution_count": 34,
   "id": "be2f35e2",
   "metadata": {},
   "outputs": [],
   "source": [
    "# Shannon diversity index, normalized to (0,1)\n",
    "# 1 = high diversity (clusters found in equal proportions)\n",
    "# 0 = low diversity (some clusters found in higher proportions in subregion)\n",
    "\n",
    "def calc_shannon_index(obs_col, n_total_categories):\n",
    "    # calculate proportion of each category\n",
    "    cateogory_counts = obs_col.value_counts()\n",
    "    cateogory_counts = cateogory_counts[cateogory_counts>0] # cleanup zeros so log() doesn't throw warnings\n",
    "    p = cateogory_counts / cateogory_counts.sum()\n",
    "    \n",
    "    # calculate shannon diversity index\n",
    "    shannon_ind = (-1)*((p * np.log2(p)).sum())\n",
    "    \n",
    "    # normalize by log2 of number of categories to limit index to range (0, 1)\n",
    "    shannon_norm = shannon_ind / np.log2(n_total_categories)\n",
    "    \n",
    "    return shannon_norm"
   ]
  },
  {
   "cell_type": "code",
   "execution_count": 35,
   "id": "154a7fbf",
   "metadata": {},
   "outputs": [],
   "source": [
    "# clusters\n",
    "for subregion, df in obs_neurons_ccf.groupby(ccf_label, observed=True):\n",
    "    th_metrics.loc[subregion, \n",
    "                   'shannon_index_clusters'] = calc_shannon_index(df['cluster'], \n",
    "                                                                  n_th_clusters)\n",
    "    th_metrics.loc[subregion, \n",
    "                   'shannon_index_supertypes'] = calc_shannon_index(df['supertype'], \n",
    "                                                                  n_th_clusters)\n",
    "    th_metrics.loc[subregion, \n",
    "                   'shannon_index_subclasses'] = calc_shannon_index(df['subclass'], \n",
    "                                                                  n_th_clusters)"
   ]
  },
  {
   "cell_type": "code",
   "execution_count": 36,
   "id": "404f9f7a",
   "metadata": {},
   "outputs": [],
   "source": [
    "# exlcude ZI because it's so much higher\n",
    "# th_metrics_noZI = th_metrics.loc[ccf_names_noZI]\n",
    "\n",
    "# sort by cluster shannon index\n",
    "th_metrics_sorted = th_metrics.sort_values(by='shannon_index_supertypes', ascending=True)\n",
    "# th_metrics_sorted\n",
    "\n",
    "fig, ax1 = plt.subplots(figsize=(12,6))\n",
    "\n",
    "# Plot the absolute values on the left y-axis\n",
    "ax1.scatter(th_metrics_sorted.index, th_metrics_sorted['shannon_index_clusters'], \n",
    "            color='#F99D20', label='cluster', zorder=2) # orange\n",
    "ax1.scatter(th_metrics_sorted.index, th_metrics_sorted['shannon_index_supertypes'], \n",
    "            color='#5DA7E5', label='supertype', zorder=3) # blue\n",
    "ax1.scatter(th_metrics_sorted.index, th_metrics_sorted['shannon_index_subclasses'], \n",
    "            color='#1D8649', label='subclass', zorder=2) # green\n",
    "\n",
    "# FFE700 yellow\n",
    "ax1.set_ylabel('Shannon Diversity Index', color='k')\n",
    "ax1.tick_params(axis='y', labelcolor='k')\n",
    "ax1.set_xticks(th_metrics_sorted.index)\n",
    "ax1.set_xticklabels(th_metrics_sorted.index, rotation=90)\n",
    "ax1.legend()\n",
    "plt.grid(visible=True, axis='both', zorder=0, color='whitesmoke')\n",
    "\n",
    "# plt.xticks(rotation=90)\n",
    "plt.xlabel('CCF thalamic subregions')\n",
    "plt.title('Shannon Diversity Index')\n",
    "\n",
    "plt.show()"
   ]
  },
  {
   "cell_type": "code",
   "execution_count": 37,
   "id": "40f63ff0",
   "metadata": {},
   "outputs": [],
   "source": [
    "sections = [7.2] \n",
    "label = 'Shannon Index - clusters'\n",
    "cplot.plot_metrics_ccf_raster(imdata, th_metrics['shannon_index_clusters'], sections,\n",
    "                            cmap='Oranges', cb_label=label)"
   ]
  },
  {
   "cell_type": "code",
   "execution_count": 38,
   "id": "dcd2d41f",
   "metadata": {},
   "outputs": [],
   "source": [
    "\n",
    "label = 'Shannon Index - supertypes'\n",
    "cplot.plot_metrics_ccf_raster(imdata, th_metrics['shannon_index_supertypes'], sections,\n",
    "                            cmap='Blues', cb_label=label)"
   ]
  },
  {
   "cell_type": "code",
   "execution_count": 39,
   "id": "dcd2d41f",
   "metadata": {},
   "outputs": [],
   "source": [
    "\n",
    "label = 'Shannon Index - subclasses'\n",
    "cplot.plot_metrics_ccf_raster(imdata, th_metrics['shannon_index_subclasses'], sections,\n",
    "                            cmap='Greens', cb_label=label)"
   ]
  },
  {
   "cell_type": "markdown",
   "id": "4eb63d0e",
   "metadata": {},
   "source": [
    "### Proportions as stacked bar graphs"
   ]
  },
  {
   "cell_type": "code",
   "execution_count": 40,
   "id": "69432202",
   "metadata": {},
   "outputs": [],
   "source": [
    "# for each subregion, count the proportion of cells in each cluster/supertype/subclass\n",
    "th_subregions = th_subregion_names\n",
    "ccf_cluster_counts = pd.DataFrame(index=th_subregions, columns=th_clusters)\n",
    "ccf_supertype_counts = pd.DataFrame(index=th_subregions, columns=th_supertypes)\n",
    "ccf_subclass_counts = pd.DataFrame(index=th_subregions, columns=th_subclasses)\n",
    "for subregion, df in obs_neurons_ccf.groupby(ccf_label, observed=True):\n",
    "    # clusters\n",
    "    cluster_counts = df['cluster'].value_counts()\n",
    "    ccf_cluster_counts.loc[subregion, \n",
    "                           cluster_counts.index] = cluster_counts.values / len(df)\n",
    "\n",
    "    # supertypes\n",
    "    supertype_counts = df['supertype'].value_counts()\n",
    "    ccf_supertype_counts.loc[subregion, \n",
    "                             supertype_counts.index] = supertype_counts.values / len(df)\n",
    "\n",
    "    # subclasses\n",
    "    subclass_counts = df['subclass'].value_counts()\n",
    "    ccf_subclass_counts.loc[subregion, \n",
    "                            subclass_counts.index] = subclass_counts.values / len(df)"
   ]
  },
  {
   "cell_type": "markdown",
   "id": "2d901b80",
   "metadata": {},
   "source": [
    "#### TODO: Implement barchart w/ plotly\n",
    "\n",
    "which will enable hovering over the bars to display the subclass/supertype/cluster to which it belongs"
   ]
  },
  {
   "cell_type": "code",
   "execution_count": 41,
   "id": "ecabb3c0",
   "metadata": {},
   "outputs": [],
   "source": [
    "# display as a stacked bar graph\n",
    "from colorcet import glasbey_light\n",
    "\n",
    "def plot_stacked_barplot(df, taxonomy_level, legend=True):\n",
    "    fig, axes = plt.subplots(nrows=1, ncols=1, figsize=(20,6))\n",
    "    colors = sns.color_palette(glasbey_light, n_colors=len(df.columns))\n",
    "    df.plot(kind='bar', stacked=True, ax=axes, legend=legend, color=colors)\n",
    "    if legend:\n",
    "        axes.legend(loc='upper left', bbox_to_anchor=(0.05, -0.3), ncol=4)\n",
    "    axes.set_xticklabels(df.index, rotation=90)\n",
    "    axes.set_xlabel('CCF subregion')\n",
    "    # axes.set_yticks([])\n",
    "    axes.set_ylabel('proportion of cells in unique '+taxonomy_level)\n",
    "\n",
    "    fig.subplots_adjust(hspace=0.1)\n",
    "    \n",
    "    # add text\n",
    "    for i, subregion in enumerate(df.index):\n",
    "        n_nonzero = (df.loc[subregion]>0).sum()\n",
    "        axes.text(i, 1.01, n_nonzero, horizontalalignment='center')\n",
    "    plt.show()"
   ]
  },
  {
   "cell_type": "markdown",
   "id": "b123b4dd",
   "metadata": {},
   "source": [
    "#### Subclasses"
   ]
  },
  {
   "cell_type": "code",
   "execution_count": 42,
   "id": "2b07cb07",
   "metadata": {},
   "outputs": [],
   "source": [
    "# First sort by the Shannon Diversity Index from th_metrics\n",
    "th_metrics_sorted_by_sdi = th_metrics.sort_values(by='shannon_index_subclasses', ascending=True)\n",
    "\n",
    "# Use sorted list of subregions to plot in order from least diverse to most diverse\n",
    "plot_stacked_barplot(ccf_subclass_counts.loc[th_metrics_sorted_by_sdi.index], \n",
    "                     'subclasses', legend=False)"
   ]
  },
  {
   "cell_type": "markdown",
   "id": "d3c611a7",
   "metadata": {},
   "source": [
    "#### Supertypes"
   ]
  },
  {
   "cell_type": "code",
   "execution_count": 43,
   "id": "e940ccb3",
   "metadata": {},
   "outputs": [],
   "source": [
    "# First sort by the Shannon Diversity Index from th_metrics\n",
    "th_metrics_sorted_by_sdi = th_metrics.sort_values(by='shannon_index_supertypes', ascending=True)\n",
    "\n",
    "# Use sorted list of subregions to plot in order from least diverse to most diverse\n",
    "plot_stacked_barplot(ccf_supertype_counts.loc[th_metrics_sorted_by_sdi.index], \n",
    "                     'supertypes', legend=False)"
   ]
  },
  {
   "cell_type": "markdown",
   "id": "08f728de",
   "metadata": {},
   "source": [
    "#### Clusters"
   ]
  },
  {
   "cell_type": "code",
   "execution_count": 44,
   "id": "2f597c33",
   "metadata": {},
   "outputs": [],
   "source": [
    "# First sort by the Shannon Diversity Index from th_metrics\n",
    "th_metrics_sorted_by_sdi = th_metrics.sort_values(by='shannon_index_clusters', ascending=True)\n",
    "\n",
    "# Use sorted list of subregions to plot in order from least diverse to most diverse\n",
    "plot_stacked_barplot(ccf_cluster_counts.loc[th_metrics_sorted_by_sdi.index], \n",
    "                     'clusters', legend=False)"
   ]
  },
  {
   "cell_type": "markdown",
   "id": "589cb9b4",
   "metadata": {},
   "source": [
    "# Per Cluster/Supertype/Subclass Metrics (neurons only)"
   ]
  },
  {
   "cell_type": "markdown",
   "id": "0ab6f5ef",
   "metadata": {},
   "source": [
    "## TODO: Dispersion of clusters/supertypes across nuclei\n",
    "\n",
    "i.e. grab a cluster that dominates in one nucleus (e.g. 1133 in MD) and ask how dispersed it is across the whole thalamus. Ideally, a linear metric, such that you could ask what the dispersion is for all clusters to see which ones seem to be more compact and which are more shared\n",
    "\n",
    "I *think* this is going to have to be done on hemispheres, rather than the whole brain. Most existing tools I'm finding are not able to account for symmetries.\n",
    "\n",
    "Likely going to borrow from some of ArcGIS's standard toolboxes\n",
    "- https://pro.arcgis.com/en/pro-app/latest/tool-reference/spatial-statistics/h-how-standard-distance-spatial-statistic-works.htm\n",
    "\n",
    "Or other satellite imagery methods:\n",
    "- https://www.tandfonline.com/doi/full/10.1080/17538947.2018.1474957"
   ]
  },
  {
   "cell_type": "markdown",
   "id": "36ae81a3",
   "metadata": {},
   "source": [
    "# Neighborhood metrics\n",
    "\n",
    "Single neuron tracing in the MD (shown in weekly U19 on Fri 7/28/23) illustrates two things:\n",
    "1. Some *neighboring* soma have *distinct* projection patterns\n",
    "2. Some *distant* soma have *very similar* projection patterns\n",
    "\n",
    "Jayaram's interpretation is that \\#1 is surprising given gene expression in the MD.\n",
    "\n",
    "But I don't think that's the correct interpretation, especially in the MD! \n",
    "- MD contains a large diversity of cell types, many of which show salt-and-pepper sprinkling throughout the MD.\n",
    "- At the very least, we don't have our MERFISH data analyzed in the right way to say whether or not the single neuron data is surprising/unexpected\n",
    "- They really need their mFISH data to say this for certain\n",
    "\n",
    "## TODO: most likely/common neighboring cell type metric\n",
    "\n",
    "\"most common / most likely neighbor\" metrics for cells\n",
    "- How likely are you to find a cell with (a) the same or (b) a different transcriptomic type right next to your cell of interest?\n",
    "- What's the average fraction of nearest neighbors that are the same? different?\n",
    "- How many non-self cell types are represented in the nearest neighbors?\n",
    "- Do these metrics change from nucleus to nucleus? i.e. do cells in the MD have more diverse neighbors than, say, AD? (shannon index might suggest that they do)"
   ]
  },
  {
   "cell_type": "markdown",
   "id": "fde7ff8b",
   "metadata": {},
   "source": [
    "Local inverse Simpson's index (LISI): effective number of types represented in a 'soft' neighborhood (weighted by Gaussian kernel) of a given cell (could then average over nuclei/domains) - examples chose 15-30 effective neighbors\n",
    "\n",
    "Percentage of abnormal spots (PAS): proportion of cells/spots (per domain) with cluster label different from at least 6 of 10-NN (ie not a majority of neighborhood)"
   ]
  },
  {
   "cell_type": "markdown",
   "id": "168d8304",
   "metadata": {},
   "source": []
  }
 ],
 "metadata": {
  "kernelspec": {
   "display_name": "base",
   "language": "python",
   "name": "python3"
  },
  "language_info": {
   "codemirror_mode": {
    "name": "ipython",
    "version": 3
   },
   "file_extension": ".py",
   "mimetype": "text/x-python",
   "name": "python",
   "nbconvert_exporter": "python",
   "pygments_lexer": "ipython3",
   "version": "3.9.12 (main, Apr  5 2022, 06:56:58) \n[GCC 7.5.0]"
  },
  "vscode": {
   "interpreter": {
    "hash": "d4d1e4263499bec80672ea0156c357c1ee493ec2b1c70f0acce89fc37c4a6abe"
   }
  }
 },
 "nbformat": 4,
 "nbformat_minor": 5
}
