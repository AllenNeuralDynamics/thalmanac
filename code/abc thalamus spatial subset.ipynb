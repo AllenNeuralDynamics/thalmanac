{
 "cells": [
  {
   "cell_type": "code",
   "execution_count": 2,
   "metadata": {},
   "outputs": [],
   "source": [
    "%load_ext autoreload\n",
    "%autoreload 2"
   ]
  },
  {
   "cell_type": "code",
   "execution_count": 8,
   "metadata": {},
   "outputs": [],
   "source": [
    "import abc_load as abc\n",
    "import nibabel\n",
    "import anndata as ad\n",
    "import numpy as np\n",
    "import pandas as pd\n",
    "import scipy.ndimage"
   ]
  },
  {
   "cell_type": "code",
   "execution_count": 4,
   "metadata": {},
   "outputs": [],
   "source": [
    "import matplotlib.pyplot as plt\n",
    "%matplotlib inline"
   ]
  },
  {
   "cell_type": "code",
   "execution_count": 5,
   "metadata": {},
   "outputs": [],
   "source": [
    "cells_df = abc.get_combined_metadata()"
   ]
  },
  {
   "cell_type": "code",
   "execution_count": 5,
   "metadata": {},
   "outputs": [],
   "source": [
    "ccf_df = pd.read_csv(\n",
    "        abc.ABC_ROOT/\"metadata/Allen-CCF-2020/20230630/parcellation_to_parcellation_term_membership.csv\"\n",
    "        )"
   ]
  },
  {
   "cell_type": "code",
   "execution_count": 6,
   "metadata": {},
   "outputs": [],
   "source": [
    "th_zi_ind = np.hstack(\n",
    "        (ccf_df.loc[ccf_df['parcellation_term_acronym']=='TH', \n",
    "                    'parcellation_index'].unique(),\n",
    "             ccf_df.loc[ccf_df['parcellation_term_acronym']=='ZI', \n",
    "                    'parcellation_index'].unique())\n",
    ")\n",
    "len(th_zi_ind)"
   ]
  },
  {
   "cell_type": "markdown",
   "metadata": {},
   "source": [
    "## resampled ccf (z resolution limited to merscope slices)"
   ]
  },
  {
   "cell_type": "code",
   "execution_count": 10,
   "metadata": {},
   "outputs": [],
   "source": [
    "ccf_img = abc.get_ccf_labels_image(resampled=True)\n",
    "ccf_img.shape"
   ]
  },
  {
   "cell_type": "code",
   "execution_count": 103,
   "metadata": {},
   "outputs": [],
   "source": [
    "# takes about 5 sec\n",
    "th_mask = np.isin(ccf_img, th_zi_ind)"
   ]
  },
  {
   "cell_type": "code",
   "execution_count": 104,
   "metadata": {},
   "outputs": [],
   "source": [
    "plt.imshow(th_mask[:,:,29].T)"
   ]
  },
  {
   "cell_type": "code",
   "execution_count": 158,
   "metadata": {},
   "outputs": [],
   "source": [
    "def sectionwise_dilation(th_mask, dist, true_radius=True):\n",
    "    out = np.zeros_like(th_mask)\n",
    "    coords = np.mgrid[-dist:dist+1, -dist:dist+1]\n",
    "    struct = np.linalg.norm(coords, axis=0) <= dist\n",
    "    for i in range(th_mask.shape[2]):\n",
    "        if true_radius:\n",
    "            out[:,:,i] = scipy.ndimage.binary_dilation(th_mask[:,:,i], structure=struct)\n",
    "        else:\n",
    "            out[:,:,i] = scipy.ndimage.binary_dilation(th_mask[:,:,i], iterations=dist)\n",
    "    return out"
   ]
  },
  {
   "cell_type": "code",
   "execution_count": 153,
   "metadata": {},
   "outputs": [],
   "source": [
    "coords = ['x_reconstructed','y_reconstructed','z_reconstructed']\n",
    "res = np.array([10e-3, 10e-3, 200e-3])\n",
    "def label_thalamus_masked_cells(cells_df, th_mask, coords, res):\n",
    "    coords_index = np.rint(cells_df[coords].values / res).astype(int)\n",
    "    # tuple() makes this like calling th_mask[coords_index[:,0], coords_index[:,1], coords_index[:,2]]\n",
    "    cells_df['thal_dataset'] = th_mask[tuple(coords_index.T)]"
   ]
  },
  {
   "cell_type": "markdown",
   "metadata": {},
   "source": [
    "## comparison to subclasses"
   ]
  },
  {
   "cell_type": "code",
   "execution_count": 80,
   "id": "3f55b589-596f-4dc1-94f4-b42e69c65470",
   "metadata": {},
   "outputs": [],
   "source": [
    "th_subclasses = ['168 SPA-SPFm-SPFp-POL-PIL-PoT Sp9 Glut', '101 ZI Pax6 Gaba',\n",
    "                  '109 LGv-ZI Otx2 Gaba', '093 RT-ZI Gnb3 Gaba',\n",
    "                  '149 PVT-PT Ntrk1 Glut', '151 TH Prkcd Grin2c Glut',\n",
    "                  '152 RE-Xi Nox4 Glut', '154 PF Fzd5 Glut',\n",
    "                  '203 LGv-SPFp-SPFm Nkx2-2 Tcf7l2 Gaba',\n",
    "                  '148 AV Col27a1 Glut', '146 LH Pou4f1 Sox1 Glut',\n",
    "                  '147 AD Serpinb7 Glut', '153 MG-POL-SGN Nts Glut',\n",
    "                  '110 BST-po Iigp1 Glut', '150 CM-IAD-CL-PCN Sema5b Glut',\n",
    "                  '145 MH Tac2 Glut']\n",
    "cells_df['thal_subclass'] = cells_df[\"subclass\"].isin(th_subclasses)"
   ]
  },
  {
   "cell_type": "code",
   "execution_count": 161,
   "metadata": {},
   "outputs": [],
   "source": [
    "data = dict()\n",
    "for radius in [1,5,10,15,20,30]:\n",
    "    mask = sectionwise_dilation(th_mask, radius, true_radius=False)\n",
    "    label_thalamus_masked_cells(cells_df, mask, coords, res)\n",
    "    data[radius] = (cells_df.loc[cells_df['thal_subclass']]\n",
    "        .groupby('z_reconstructed')['thal_dataset'].mean().loc[lambda x: x>0])\n",
    "    \n"
   ]
  },
  {
   "cell_type": "code",
   "execution_count": 162,
   "metadata": {},
   "outputs": [],
   "source": [
    "for i, xy in data.items():\n",
    "    plt.plot(xy, label=i)\n",
    "\n",
    "plt.ylabel('Proportion selected')\n",
    "plt.xlabel('section z')\n",
    "plt.legend(title='Dilation iterations')"
   ]
  },
  {
   "cell_type": "markdown",
   "metadata": {},
   "source": [
    "Using a true dilation by radius takes much longer, doesn't look much different."
   ]
  },
  {
   "cell_type": "code",
   "execution_count": 154,
   "metadata": {},
   "outputs": [],
   "source": [
    "data = dict()\n",
    "for radius in [1,5,10,15,20,30]:\n",
    "    mask = sectionwise_dilation(th_mask, radius, true_radius=True)\n",
    "    label_thalamus_masked_cells(cells_df, mask, coords, res)\n",
    "    data[radius*0.01] = (cells_df.loc[cells_df['thal_subclass']]\n",
    "        .groupby('z_reconstructed')['thal_dataset'].mean().loc[lambda x: x>0])\n",
    "    \n"
   ]
  },
  {
   "cell_type": "code",
   "execution_count": 157,
   "metadata": {},
   "outputs": [],
   "source": [
    "for i, xy in data.items():\n",
    "    plt.plot(xy, label=i)\n",
    "\n",
    "plt.ylabel('Proportion selected')\n",
    "plt.xlabel('section z')\n",
    "plt.legend(title='Dilation radius')"
   ]
  },
  {
   "cell_type": "markdown",
   "metadata": {},
   "source": [
    "Note that the issues are primarily with the posterior sections.\n",
    "\n",
    "Seems best to go with 10-15 iterations (100-150 um), but still isn't perfect.\n",
    "\n",
    "Dropping sections 8.4 (not included previously) and 4.8 (included previously) seems safest for now (see plots below)."
   ]
  },
  {
   "cell_type": "code",
   "execution_count": 163,
   "metadata": {},
   "outputs": [],
   "source": [
    "mask = sectionwise_dilation(th_mask, 10, true_radius=False)\n",
    "label_thalamus_masked_cells(cells_df, mask, coords, res)"
   ]
  },
  {
   "cell_type": "markdown",
   "metadata": {},
   "source": [
    "### test end-to-end function"
   ]
  },
  {
   "cell_type": "code",
   "execution_count": 19,
   "metadata": {},
   "outputs": [],
   "source": [
    "th_df = abc.label_thalamus_spatial_subset(cells_df, distance_px=10, filter=True)"
   ]
  },
  {
   "cell_type": "code",
   "execution_count": 20,
   "metadata": {},
   "outputs": [],
   "source": [
    "sorted(th_df['z_section'].unique())"
   ]
  },
  {
   "cell_type": "markdown",
   "metadata": {},
   "source": [
    "### compare to Brian's outline dataset"
   ]
  },
  {
   "cell_type": "code",
   "execution_count": 169,
   "metadata": {},
   "outputs": [],
   "source": [
    "old_ids = abc.get_thalamus_reference_ids().intersection(cells_df.index)\n",
    "new_ids = cells_df.query(\"thal_dataset\").index"
   ]
  },
  {
   "cell_type": "code",
   "execution_count": 170,
   "metadata": {},
   "outputs": [],
   "source": [
    "len(old_ids.intersection(new_ids))"
   ]
  },
  {
   "cell_type": "code",
   "execution_count": 172,
   "metadata": {},
   "outputs": [],
   "source": [
    "len(new_ids.difference(old_ids))"
   ]
  },
  {
   "cell_type": "code",
   "execution_count": null,
   "metadata": {},
   "outputs": [],
   "source": [
    "len(old_ids.difference(new_ids))"
   ]
  },
  {
   "cell_type": "markdown",
   "metadata": {},
   "source": [
    "The new outline adds about 2% more new cells. Could also be worth checking on where the cells not in the old version are located..."
   ]
  },
  {
   "cell_type": "code",
   "execution_count": 175,
   "metadata": {},
   "outputs": [],
   "source": [
    "cells_df.loc[old_ids.difference(new_ids), 'z_reconstructed'].value_counts().sort_index()"
   ]
  },
  {
   "cell_type": "code",
   "execution_count": 177,
   "metadata": {},
   "outputs": [],
   "source": [
    "cells_df.loc[old_ids.difference(new_ids), 'subclass'].value_counts().head(10)"
   ]
  },
  {
   "cell_type": "markdown",
   "metadata": {},
   "source": [
    "### examine end sections with poor match"
   ]
  },
  {
   "cell_type": "code",
   "execution_count": 126,
   "metadata": {},
   "outputs": [],
   "source": [
    "z = 8.4\n",
    "plt.imshow(mask[:,:, int(z/0.2)].T, extent=[0, 11, 11, 0])\n",
    "sns.scatterplot(data=cells_df.query(f\"thal_subclass & z_reconstructed=={z}\"), x=coords[0], y=coords[1])\n",
    "plt.ylim(7, 5)\n",
    "plt.xlim(4, 7)"
   ]
  },
  {
   "cell_type": "code",
   "execution_count": 137,
   "metadata": {},
   "outputs": [],
   "source": [
    "z = 4.8\n",
    "plt.imshow(mask[:,:, int(z/0.2)].T, extent=[0, 11, 11, 0])\n",
    "sns.scatterplot(data=cells_df.query(f\"thal_subclass & z_reconstructed>{z-0.1} & z_reconstructed<{z+0.1}\"), x=coords[0], y=coords[1], s=4)\n",
    "plt.ylim(6, 4)\n",
    "plt.xlim(2, 8)"
   ]
  },
  {
   "cell_type": "code",
   "execution_count": null,
   "metadata": {},
   "outputs": [],
   "source": [
    "z = 5.6\n",
    "plt.imshow(mask[:,:, int(z/0.2)].T, extent=[0, 11, 11, 0])\n",
    "sns.scatterplot(data=cells_df.query(f\"thal_subclass & z_reconstructed>{z-0.1} & z_reconstructed<{z+0.1}\"), x=coords[0], y=coords[1], s=4)\n",
    "# plt.ylim(7, 5)\n",
    "# plt.xlim(4, 7)"
   ]
  },
  {
   "cell_type": "markdown",
   "metadata": {},
   "source": [
    "## full 10um ccf"
   ]
  },
  {
   "cell_type": "code",
   "execution_count": null,
   "metadata": {},
   "outputs": [],
   "source": [
    "# very slow to do operations with this large image volume\n",
    "\n",
    "# ccf_img = abc.get_ccf_labels_image()\n",
    "# # takes about 1 min\n",
    "# th_mask = np.isin(ccf_img, th_zi_ind)"
   ]
  }
 ],
 "metadata": {
  "kernelspec": {
   "display_name": "base",
   "language": "python",
   "name": "python3"
  },
  "language_info": {
   "codemirror_mode": {
    "name": "ipython",
    "version": 3
   },
   "file_extension": ".py",
   "mimetype": "text/x-python",
   "name": "python",
   "nbconvert_exporter": "python",
   "pygments_lexer": "ipython3",
   "version": "3.9.12 (main, Apr  5 2022, 06:56:58) \n[GCC 7.5.0]"
  },
  "orig_nbformat": 4,
  "vscode": {
   "interpreter": {
    "hash": "d4d1e4263499bec80672ea0156c357c1ee493ec2b1c70f0acce89fc37c4a6abe"
   }
  }
 },
 "nbformat": 4,
 "nbformat_minor": 2
}
